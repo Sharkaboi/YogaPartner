{
 "cells": [
  {
   "cell_type": "markdown",
   "id": "cf7c6760",
   "metadata": {},
   "source": [
    "# YogaPartner\n",
    "\n",
    "Our datasets are in\n",
    "- `.\\data\\v1`\n",
    "- `.\\data\\v2`\n",
    "\n",
    "Our frontend code is in `.\\android`\n",
    "\n",
    "Our generated data goes in `.\\intermediates`"
   ]
  },
  {
   "cell_type": "code",
   "execution_count": 2,
   "id": "c20b9e55",
   "metadata": {},
   "outputs": [],
   "source": [
    "import os\n",
    "import matplotlib.pyplot as plt\n",
    "from pathlib import Path\n",
    "\n",
    "version = 2"
   ]
  },
  {
   "cell_type": "markdown",
   "id": "80dffb78",
   "metadata": {},
   "source": [
    "## Global functions"
   ]
  },
  {
   "cell_type": "code",
   "execution_count": 3,
   "id": "91c1808f",
   "metadata": {},
   "outputs": [],
   "source": [
    "def getPath():\n",
    "    return r\".\\data\\v\" + str(version)\n",
    "\n",
    "def getClasses():\n",
    "    path = getPath()\n",
    "    return os.listdir(path)\n",
    "\n",
    "def getPathOfClass(className):\n",
    "    path = getPath()\n",
    "    return os.path.join(path, className)"
   ]
  },
  {
   "cell_type": "markdown",
   "id": "8039da69",
   "metadata": {},
   "source": [
    "## Dataset stats"
   ]
  },
  {
   "cell_type": "code",
   "execution_count": 25,
   "id": "1e1e5a38",
   "metadata": {},
   "outputs": [
    {
     "name": "stdout",
     "output_type": "stream",
     "text": [
      "Dataset frequency distribution\n",
      "adho_mukha_shvanasana : 437\n",
      "ardha_matsyendrasana : 96\n",
      "astavakrasana : 70\n",
      "bhujangasana : 660\n",
      "bidalasana : 315\n",
      "chaturanga_dandasana : 74\n",
      "garudasana : 66\n",
      "gomukhasana : 60\n",
      "phalakasana : 145\n",
      "ustrasana : 66\n",
      "utkatasana : 223\n",
      "utkata_konasana : 210\n",
      "vasisthasana : 148\n",
      "virabhadrasana_i : 222\n",
      "virabhadrasana_ii : 389\n",
      "vrikshasana : 315\n",
      "\n",
      "Image type frequency distribution\n",
      ".jpg : 2485\n",
      ".png : 966\n",
      ".jpeg : 45\n",
      "\n"
     ]
    }
   ],
   "source": [
    "def visualizeDataSet():\n",
    "    classFolders = getClasses()\n",
    "    counts = []\n",
    "    imageTypes = {}\n",
    "    for classFolder in classFolders:\n",
    "        images = os.listdir(getPathOfClass(classFolder))\n",
    "        count = len(images)\n",
    "        counts.append(count)\n",
    "        for image in images:\n",
    "            image_path = os.path.join(getPathOfClass(classFolder), image)\n",
    "            p = Path(image_path)\n",
    "            ext = p.suffix\n",
    "            imageTypes[ext] = imageTypes.get(ext, 0) + 1\n",
    "\n",
    "    print(\"Dataset frequency distribution\")\n",
    "    for i in range(len(classFolders)):\n",
    "        className = classFolders[i]\n",
    "        count = counts[i]\n",
    "        print(className + \" : \" + str(count))\n",
    "\n",
    "    print()\n",
    "\n",
    "    print(\"Image type frequency distribution\")\n",
    "    for key in imageTypes.keys():\n",
    "        count = imageTypes[key]\n",
    "        print(key + \" : \" + str(count))\n",
    "\n",
    "    print()\n",
    "    \n",
    "visualizeDataSet()"
   ]
  },
  {
   "cell_type": "markdown",
   "id": "d6c39e21",
   "metadata": {},
   "source": [
    "## Cleaning Data"
   ]
  },
  {
   "cell_type": "markdown",
   "id": "b877b222",
   "metadata": {},
   "source": [
    "### Webp to Jpeg"
   ]
  },
  {
   "cell_type": "code",
   "execution_count": 16,
   "id": "ea9080ab",
   "metadata": {},
   "outputs": [
    {
     "name": "stdout",
     "output_type": "stream",
     "text": [
      "Converted Webp\n"
     ]
    }
   ],
   "source": [
    "from PIL import Image\n",
    "import os\n",
    "import re\n",
    "from pathlib import Path\n",
    "\n",
    "classFolders = getClasses()\n",
    "for className in classFolders:\n",
    "    class_path = getPathOfClass(className)\n",
    "    files = os.listdir(class_path)\n",
    "    for f in files:\n",
    "        old_path = os.path.join(class_path, f)\n",
    "        p = Path(old_path)\n",
    "        ext = p.suffix\n",
    "        if ext == \".webp\":\n",
    "            print(\"Converting \" + f)\n",
    "            new_file_name = f\"{p.stem}.jepg\"\n",
    "            im = Image.open(old_path).convert(\"RGB\")\n",
    "            new_file_path = os.path.join(class_path, new_file_name)\n",
    "            print(new_file_path)\n",
    "            im.save(new_file_path, \"jepg\")\n",
    "            print(\"Removing \" + f)\n",
    "            os.remove(old_path)\n",
    "print(\"Converted Webp\")"
   ]
  },
  {
   "cell_type": "markdown",
   "id": "42a4ce11",
   "metadata": {},
   "source": [
    "### Finding duplicate images"
   ]
  },
  {
   "cell_type": "code",
   "execution_count": 6,
   "id": "6d15895d",
   "metadata": {},
   "outputs": [
    {
     "name": "stderr",
     "output_type": "stream",
     "text": [
      "  6%|█████▏                                                                             | 1/16 [00:31<07:52, 31.51s/it]"
     ]
    },
    {
     "name": "stdout",
     "output_type": "stream",
     "text": [
      "Found 0 images with one or more duplicate/similar images in 31.5083 seconds.\n"
     ]
    },
    {
     "name": "stderr",
     "output_type": "stream",
     "text": [
      "\r",
      " 12%|██████████▍                                                                        | 2/16 [00:33<03:18, 14.15s/it]"
     ]
    },
    {
     "name": "stdout",
     "output_type": "stream",
     "text": [
      "Found 0 images with one or more duplicate/similar images in 1.9941 seconds.\n"
     ]
    },
    {
     "name": "stderr",
     "output_type": "stream",
     "text": [
      "\r",
      " 19%|███████████████▌                                                                   | 3/16 [00:34<01:46,  8.19s/it]"
     ]
    },
    {
     "name": "stdout",
     "output_type": "stream",
     "text": [
      "Found 0 images with one or more duplicate/similar images in 1.0993 seconds.\n",
      "Found 1 image with one or more duplicate/similar images in 70.2026 seconds.\n",
      "Are you sure you want to delete all lower resolution duplicate images? \n",
      "This cannot be undone. (y/n)y\n"
     ]
    },
    {
     "name": "stderr",
     "output_type": "stream",
     "text": [
      "\r",
      " 25%|████████████████████▊                                                              | 4/16 [01:49<06:56, 34.68s/it]"
     ]
    },
    {
     "name": "stdout",
     "output_type": "stream",
     "text": [
      "\n",
      "Deletion in progress...\r",
      "Deleted file: .\\data\\v2\\bhujangasana/98-0.png\r\n",
      "***\n",
      "Deleted 1 images.\n"
     ]
    },
    {
     "name": "stderr",
     "output_type": "stream",
     "text": [
      "\r",
      " 31%|█████████████████████████▉                                                         | 5/16 [02:05<05:06, 27.87s/it]"
     ]
    },
    {
     "name": "stdout",
     "output_type": "stream",
     "text": [
      "Found 0 images with one or more duplicate/similar images in 15.778 seconds.\n"
     ]
    },
    {
     "name": "stderr",
     "output_type": "stream",
     "text": [
      "\r",
      " 38%|███████████████████████████████▏                                                   | 6/16 [02:06<03:07, 18.75s/it]"
     ]
    },
    {
     "name": "stdout",
     "output_type": "stream",
     "text": [
      "Found 0 images with one or more duplicate/similar images in 1.063 seconds.\n"
     ]
    },
    {
     "name": "stderr",
     "output_type": "stream",
     "text": [
      "\r",
      " 44%|████████████████████████████████████▎                                              | 7/16 [02:07<01:56, 12.91s/it]"
     ]
    },
    {
     "name": "stdout",
     "output_type": "stream",
     "text": [
      "Found 0 images with one or more duplicate/similar images in 0.8632 seconds.\n"
     ]
    },
    {
     "name": "stderr",
     "output_type": "stream",
     "text": [
      "\r",
      " 50%|█████████████████████████████████████████▌                                         | 8/16 [02:08<01:12,  9.04s/it]"
     ]
    },
    {
     "name": "stdout",
     "output_type": "stream",
     "text": [
      "Found 0 images with one or more duplicate/similar images in 0.7776 seconds.\n",
      "Found 2 images with one or more duplicate/similar images in 5.6364 seconds.\n",
      "Are you sure you want to delete all lower resolution duplicate images? \n",
      "This cannot be undone. (y/n)y\n"
     ]
    },
    {
     "name": "stderr",
     "output_type": "stream",
     "text": [
      "\r",
      " 56%|██████████████████████████████████████████████▋                                    | 9/16 [02:36<01:44, 14.87s/it]"
     ]
    },
    {
     "name": "stdout",
     "output_type": "stream",
     "text": [
      "\n",
      "Deletion in progress...\r",
      "Deleted file: .\\data\\v2\\phalakasana/00000011.jpg\r\n",
      "Deletion in progress...\r",
      "Deleted file: .\\data\\v2\\phalakasana/00000007.jpg\r\n",
      "***\n",
      "Deleted 2 images.\n"
     ]
    },
    {
     "name": "stderr",
     "output_type": "stream",
     "text": [
      "\r",
      " 62%|███████████████████████████████████████████████████▎                              | 10/16 [02:36<01:03, 10.55s/it]"
     ]
    },
    {
     "name": "stdout",
     "output_type": "stream",
     "text": [
      "Found 0 images with one or more duplicate/similar images in 0.8734 seconds.\n",
      "Found 1 image with one or more duplicate/similar images in 9.67 seconds.\n",
      "Are you sure you want to delete all lower resolution duplicate images? \n",
      "This cannot be undone. (y/n)y\n"
     ]
    },
    {
     "name": "stderr",
     "output_type": "stream",
     "text": [
      "\r",
      " 69%|████████████████████████████████████████████████████████▍                         | 11/16 [03:30<01:57, 23.58s/it]"
     ]
    },
    {
     "name": "stdout",
     "output_type": "stream",
     "text": [
      "\n",
      "Deletion in progress...\r",
      "Deleted file: .\\data\\v2\\utkatasana/5. utkatasana-chair-pose.png\r\n",
      "***\n",
      "Deleted 1 images.\n"
     ]
    },
    {
     "name": "stderr",
     "output_type": "stream",
     "text": [
      "\r",
      " 75%|█████████████████████████████████████████████████████████████▌                    | 12/16 [03:40<01:17, 19.44s/it]"
     ]
    },
    {
     "name": "stdout",
     "output_type": "stream",
     "text": [
      "Found 0 images with one or more duplicate/similar images in 9.9561 seconds.\n"
     ]
    },
    {
     "name": "stderr",
     "output_type": "stream",
     "text": [
      "\r",
      " 81%|██████████████████████████████████████████████████████████████████▋               | 13/16 [03:45<00:45, 15.15s/it]"
     ]
    },
    {
     "name": "stdout",
     "output_type": "stream",
     "text": [
      "Found 0 images with one or more duplicate/similar images in 5.286 seconds.\n"
     ]
    },
    {
     "name": "stderr",
     "output_type": "stream",
     "text": [
      "\r",
      " 88%|███████████████████████████████████████████████████████████████████████▊          | 14/16 [03:54<00:26, 13.39s/it]"
     ]
    },
    {
     "name": "stdout",
     "output_type": "stream",
     "text": [
      "Found 0 images with one or more duplicate/similar images in 9.3201 seconds.\n"
     ]
    },
    {
     "name": "stderr",
     "output_type": "stream",
     "text": [
      "\r",
      " 94%|████████████████████████████████████████████████████████████████████████████▉     | 15/16 [04:22<00:17, 17.89s/it]"
     ]
    },
    {
     "name": "stdout",
     "output_type": "stream",
     "text": [
      "Found 0 images with one or more duplicate/similar images in 28.3113 seconds.\n"
     ]
    },
    {
     "name": "stderr",
     "output_type": "stream",
     "text": [
      "100%|██████████████████████████████████████████████████████████████████████████████████| 16/16 [04:43<00:00, 17.73s/it]"
     ]
    },
    {
     "name": "stdout",
     "output_type": "stream",
     "text": [
      "Found 0 images with one or more duplicate/similar images in 20.6461 seconds.\n",
      "Completed duplicate image search\n"
     ]
    },
    {
     "name": "stderr",
     "output_type": "stream",
     "text": [
      "\n"
     ]
    }
   ],
   "source": [
    "from difPy import dif\n",
    "import tqdm\n",
    "\n",
    "classFolders = getClasses()\n",
    "for className in tqdm.tqdm(classFolders, position=0):\n",
    "    class_path = getPathOfClass(className)\n",
    "    search = dif(class_path, delete=True)\n",
    "print(\"Completed duplicate image search\")"
   ]
  },
  {
   "cell_type": "markdown",
   "id": "cb47bf0d",
   "metadata": {},
   "source": [
    "### Cleaning up folder names"
   ]
  },
  {
   "cell_type": "code",
   "execution_count": 18,
   "id": "5b6485e8",
   "metadata": {},
   "outputs": [
    {
     "name": "stdout",
     "output_type": "stream",
     "text": [
      "Renamed class names\n"
     ]
    }
   ],
   "source": [
    "import os\n",
    "import re\n",
    "from pathlib import Path\n",
    "\n",
    "classFolders = getClasses()\n",
    "for className in classFolders:\n",
    "    old_path = getPathOfClass(className)\n",
    "    new_name = re.sub(r\"\\s+\", \"_\", className)\n",
    "    if new_name != className:\n",
    "        print(\"Renaming \" + className)\n",
    "    new_path = os.path.join(getPath(), new_name)\n",
    "    os.rename(old_path, new_path)\n",
    "print(\"Renamed class names\")"
   ]
  },
  {
   "cell_type": "markdown",
   "id": "88827041",
   "metadata": {},
   "source": [
    "### Removing non supported images"
   ]
  },
  {
   "cell_type": "code",
   "execution_count": null,
   "id": "301cc331",
   "metadata": {},
   "outputs": [],
   "source": [
    "from PIL import Image\n",
    "import os\n",
    "import re\n",
    "from pathlib import Path\n",
    "\n",
    "classFolders = getClasses()\n",
    "for className in classFolders:\n",
    "    class_path = getPathOfClass(className)\n",
    "    files = os.listdir(class_path)\n",
    "    count = 1\n",
    "    for f in files:\n",
    "        f_path = os.path.join(class_path, f)\n",
    "        if not (f.endswith(\".jpg\") or f.endswith(\".jpeg\") or f.endswith(\".png\")):\n",
    "            os.remove(f_path)\n",
    "            print(\"Removed \" + f)\n",
    "print(\"Finished removing non suporrted images\")"
   ]
  },
  {
   "cell_type": "markdown",
   "id": "01b27cfc",
   "metadata": {},
   "source": [
    "### Cleaning up file names"
   ]
  },
  {
   "cell_type": "code",
   "execution_count": 11,
   "id": "a540ecaf",
   "metadata": {},
   "outputs": [
    {
     "ename": "FileExistsError",
     "evalue": "[WinError 183] Cannot create a file when that file already exists: '.\\\\data\\\\v2\\\\adho_mukha_shvanasana\\\\adho_mukha_shvanasana_10.jpg' -> '.\\\\data\\\\v2\\\\adho_mukha_shvanasana\\\\adho_mukha_shvanasana_2.jpg'",
     "output_type": "error",
     "traceback": [
      "\u001b[1;31m---------------------------------------------------------------------------\u001b[0m",
      "\u001b[1;31mFileExistsError\u001b[0m                           Traceback (most recent call last)",
      "Input \u001b[1;32mIn [11]\u001b[0m, in \u001b[0;36m<cell line: 8>\u001b[1;34m()\u001b[0m\n\u001b[0;32m     15\u001b[0m new_file_name \u001b[38;5;241m=\u001b[39m \u001b[38;5;124mf\u001b[39m\u001b[38;5;124m\"\u001b[39m\u001b[38;5;132;01m{\u001b[39;00mclassName\u001b[38;5;132;01m}\u001b[39;00m\u001b[38;5;124m_\u001b[39m\u001b[38;5;132;01m{\u001b[39;00mcount\u001b[38;5;132;01m}\u001b[39;00m\u001b[38;5;132;01m{\u001b[39;00mp\u001b[38;5;241m.\u001b[39msuffix\u001b[38;5;132;01m}\u001b[39;00m\u001b[38;5;124m\"\u001b[39m\n\u001b[0;32m     16\u001b[0m new_file_path \u001b[38;5;241m=\u001b[39m os\u001b[38;5;241m.\u001b[39mpath\u001b[38;5;241m.\u001b[39mjoin(class_path, new_file_name)\n\u001b[1;32m---> 17\u001b[0m \u001b[43mos\u001b[49m\u001b[38;5;241;43m.\u001b[39;49m\u001b[43mrename\u001b[49m\u001b[43m(\u001b[49m\u001b[43mold_path\u001b[49m\u001b[43m,\u001b[49m\u001b[43m \u001b[49m\u001b[43mnew_file_path\u001b[49m\u001b[43m)\u001b[49m\n\u001b[0;32m     18\u001b[0m count \u001b[38;5;241m=\u001b[39m count \u001b[38;5;241m+\u001b[39m \u001b[38;5;241m1\u001b[39m\n",
      "\u001b[1;31mFileExistsError\u001b[0m: [WinError 183] Cannot create a file when that file already exists: '.\\\\data\\\\v2\\\\adho_mukha_shvanasana\\\\adho_mukha_shvanasana_10.jpg' -> '.\\\\data\\\\v2\\\\adho_mukha_shvanasana\\\\adho_mukha_shvanasana_2.jpg'"
     ]
    }
   ],
   "source": [
    "from PIL import Image\n",
    "import os\n",
    "import re\n",
    "from pathlib import Path\n",
    "\n",
    "classFolders = getClasses()\n",
    "for className in classFolders:\n",
    "    class_path = getPathOfClass(className)\n",
    "    files = os.listdir(class_path)\n",
    "    count = 1\n",
    "    for f in files:\n",
    "        old_path = os.path.join(class_path, f)\n",
    "        p = Path(old_path)\n",
    "        new_file_name = f\"{className}_{count}{p.suffix}\"\n",
    "        if new_file_name != f:\n",
    "            print(\"Renaming \" + f)\n",
    "        new_file_path = os.path.join(class_path, new_file_name)\n",
    "        os.rename(old_path, new_file_path)\n",
    "        count += 1\n",
    "        \n",
    "print(\"Finished cleaning file names\")"
   ]
  },
  {
   "cell_type": "markdown",
   "id": "fc0fc214",
   "metadata": {},
   "source": [
    "## Augmentation"
   ]
  },
  {
   "cell_type": "code",
   "execution_count": null,
   "id": "194a5a37",
   "metadata": {},
   "outputs": [],
   "source": []
  },
  {
   "cell_type": "markdown",
   "id": "29f275a8",
   "metadata": {},
   "source": [
    "## Pre-process"
   ]
  },
  {
   "cell_type": "code",
   "execution_count": 4,
   "id": "c9f00511",
   "metadata": {},
   "outputs": [
    {
     "name": "stdout",
     "output_type": "stream",
     "text": [
      "train_df length:  2796   test_df length:  350   valid_df length:  350  total length:  3496\n",
      "bhujangasana             528\n",
      "adho_mukha_shvanasana    349\n",
      "virabhadrasana_ii        311\n",
      "vrikshasana              252\n",
      "bidalasana               252\n",
      "virabhadrasana_i         178\n",
      "utkatasana               178\n",
      "utkata_konasana          168\n",
      "vasisthasana             118\n",
      "phalakasana              116\n",
      "ardha_matsyendrasana      77\n",
      "chaturanga_dandasana      59\n",
      "astavakrasana             56\n",
      "garudasana                53\n",
      "ustrasana                 53\n",
      "gomukhasana               48\n",
      "Name: labels, dtype: int64\n"
     ]
    }
   ],
   "source": [
    "from sklearn.model_selection import train_test_split\n",
    "import numpy as np\n",
    "import pandas as pd\n",
    "\n",
    "classFolders = getClasses()\n",
    "filepaths = []\n",
    "labels = []\n",
    "\n",
    "for className in classFolders:\n",
    "    class_path = getPathOfClass(className)\n",
    "    files = os.listdir(class_path)\n",
    "    for f in files:\n",
    "        fpath = os.path.join(class_path, f)\n",
    "        filepaths.append(fpath)\n",
    "        labels.append(className)\n",
    "\n",
    "Fseries=pd.Series(filepaths, name='filepaths')\n",
    "Lseries=pd.Series(labels, name='labels')\n",
    "df=pd.concat([Fseries, Lseries], axis=1)\n",
    "trsplit = 0.8\n",
    "vsplit = 0.1\n",
    "# split df into train_df and test_df \n",
    "dsplit=vsplit/(1-trsplit)\n",
    "strat=df['labels']    \n",
    "train_df, dummy_df = train_test_split(df, train_size=trsplit, shuffle=True, random_state=123, stratify=strat)\n",
    "strat=dummy_df['labels']\n",
    "valid_df, test_df = train_test_split(dummy_df, train_size=dsplit, shuffle=True, random_state=123, stratify=strat)\n",
    "print('train_df length: ', len(train_df), '  test_df length: ',len(test_df), '  valid_df length: ', len(valid_df), ' total length: ', len(filepaths))\n",
    "print(train_df['labels'].value_counts())"
   ]
  },
  {
   "cell_type": "markdown",
   "id": "2b8313d8",
   "metadata": {},
   "source": [
    "## Running pre-trained detection model"
   ]
  },
  {
   "cell_type": "code",
   "execution_count": 25,
   "id": "a20b3329",
   "metadata": {},
   "outputs": [
    {
     "name": "stdout",
     "output_type": "stream",
     "text": [
      "A:\\Projects\\CollegeProjects\\YogaPartner\\data\\v2\\utkata_konasana\\goddess (16).jpg\n",
      "[[[[0.13067128 0.52368176 0.8875851 ]\n",
      "   [0.10710134 0.5446176  0.6390412 ]\n",
      "   [0.10818803 0.49778694 0.8191635 ]\n",
      "   [0.12723784 0.5709041  0.8636832 ]\n",
      "   [0.1335147  0.46116188 0.91513723]\n",
      "   [0.25642705 0.6501862  0.89908695]\n",
      "   [0.25605375 0.39112163 0.9484251 ]\n",
      "   [0.3167294  0.82333636 0.9645898 ]\n",
      "   [0.30256903 0.22984517 0.7475984 ]\n",
      "   [0.1428221  0.8593171  0.87035644]\n",
      "   [0.13236271 0.19596462 0.78151107]\n",
      "   [0.5633948  0.5948806  0.91332954]\n",
      "   [0.5618038  0.43586466 0.8861468 ]\n",
      "   [0.665208   0.8161199  0.91313183]\n",
      "   [0.6673093  0.21950641 0.8618161 ]\n",
      "   [0.9152539  0.784885   0.8139044 ]\n",
      "   [0.91227424 0.23293999 0.94533515]]]]\n",
      "17\n"
     ]
    },
    {
     "data": {
      "image/png": "[encoded data removed]",
      "text/plain": [
       "<Figure size 432x288 with 1 Axes>"
      ]
     },
     "metadata": {
      "needs_background": "light"
     },
     "output_type": "display_data"
    }
   ],
   "source": [
    "import tensorflow as tf\n",
    "from matplotlib.collections import LineCollection\n",
    "import cv2\n",
    "\n",
    "modelPath = \".\\models\\movenet_thunder.tflite\"\n",
    "imageSize = 256\n",
    "\n",
    "EDGES = {\n",
    "    (0, 1): 'm',\n",
    "    (0, 2): 'c',\n",
    "    (1, 3): 'm',\n",
    "    (2, 4): 'c',\n",
    "    (0, 5): 'm',\n",
    "    (0, 6): 'c',\n",
    "    (5, 7): 'm',\n",
    "    (7, 9): 'm',\n",
    "    (6, 8): 'c',\n",
    "    (8, 10): 'c',\n",
    "    (5, 6): 'y',\n",
    "    (5, 11): 'm',\n",
    "    (6, 12): 'c',\n",
    "    (11, 12): 'y',\n",
    "    (11, 13): 'm',\n",
    "    (13, 15): 'm',\n",
    "    (12, 14): 'c',\n",
    "    (14, 16): 'c'\n",
    "}\n",
    "\n",
    "# Draw Keypoints\n",
    "def draw_keypoints(frame, keypoints, confidence_threshold):\n",
    "    y, x, c = frame.shape # frame.shape = (480,640,3)\n",
    "    shaped = np.squeeze(np.multiply(keypoints, [y,x,1]))\n",
    "\n",
    "    for kp in shaped:\n",
    "        ky, kx, k_conf = kp\n",
    "\n",
    "        if k_conf > confidence_threshold:\n",
    "            cv2.circle(frame, (round(kx),round(ky)), 4, (255,0,0), -1)\n",
    "\n",
    "\n",
    "# Draw Connections\n",
    "def draw_connections(frame, keypoints, edges, confidence_threshold):\n",
    "    y, x, c = frame.shape # frame.shape = (480,640,3)\n",
    "    shaped = np.squeeze(np.multiply(keypoints,[y,x,1]))\n",
    "\n",
    "    for edge,color in edges.items():\n",
    "        p1, p2 = edge\n",
    "        y1, x1, c1 = shaped[p1]\n",
    "        y2, x2, c2 = shaped[p2]\n",
    "\n",
    "        if (c1 > confidence_threshold) & (c2 > confidence_threshold):\n",
    "            cv2.line(frame, (round(x1),round(y1)), (round(x2),round(y2)), (0,255,0), 2)\n",
    "                \n",
    "def showImagesWithKeypoints(image_path, keypoint_with_scores):\n",
    "    image = cv2.imread(image_path)\n",
    "    image = image.copy()\n",
    "    draw_connections(image, keypoint_with_scores, EDGES, 0.4)\n",
    "    draw_keypoints(image, keypoints_with_scores, 0.4)\n",
    "    plt.imshow(image)\n",
    "    plt.axis(\"off\")\n",
    "    plt.show()\n",
    "    \n",
    "for i, value in train_df.iterrows():\n",
    "    image_path = value['filepaths']\n",
    "    print(image_path)\n",
    "    image = tf.io.read_file(image_path)\n",
    "    image = tf.compat.v1.image.decode_jpeg(image)\n",
    "    image = tf.expand_dims(image, axis=0)\n",
    "    image = tf.image.resize_with_pad(image, imageSize, imageSize)\n",
    "    interpreter = tf.lite.Interpreter(model_path=modelPath)\n",
    "    interpreter.allocate_tensors()\n",
    "    # TF Lite format expects tensor type of uint8.\n",
    "    input_image = tf.cast(image, dtype=tf.uint8)\n",
    "    input_details = interpreter.get_input_details()\n",
    "    output_details = interpreter.get_output_details()\n",
    "    interpreter.set_tensor(input_details[0]['index'], input_image.numpy())\n",
    "    interpreter.invoke()\n",
    "    keypoints_with_scores = interpreter.get_tensor(output_details[0]['index'])\n",
    "    print(keypoints_with_scores)\n",
    "    showImagesWithKeypoints(image_path, keypoints_with_scores)\n",
    "    break"
   ]
  },
  {
   "cell_type": "code",
   "execution_count": null,
   "id": "461600c1",
   "metadata": {},
   "outputs": [],
   "source": []
  }
 ],
 "metadata": {
  "kernelspec": {
   "display_name": "Python 3 (ipykernel)",
   "language": "python",
   "name": "python3"
  },
  "language_info": {
   "codemirror_mode": {
    "name": "ipython",
    "version": 3
   },
   "file_extension": ".py",
   "mimetype": "text/x-python",
   "name": "python",
   "nbconvert_exporter": "python",
   "pygments_lexer": "ipython3",
   "version": "3.9.12"
  }
 },
 "nbformat": 4,
 "nbformat_minor": 5
}
