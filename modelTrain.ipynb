{
 "cells": [
  {
   "cell_type": "code",
   "execution_count": 1,
   "id": "c20b9e55",
   "metadata": {},
   "outputs": [],
   "source": [
    "import os\n",
    "from pathlib import Path\n",
    "import re\n",
    "import tqdm\n",
    "import shutil\n",
    "import time\n",
    "import math\n",
    "\n",
    "import matplotlib.pyplot as plt\n",
    "from matplotlib.collections import LineCollection\n",
    "\n",
    "from PIL import Image\n",
    "import cv2\n",
    "\n",
    "from difPy import dif\n",
    "\n",
    "import numpy as np\n",
    "import pandas as pd\n",
    "import tensorflow as tf\n",
    "import tensorflow.keras as keras\n",
    "from keras.utils import np_utils\n",
    "from tensorflow.keras.models import Sequential\n",
    "from tensorflow.keras.layers import Dense\n",
    "from tensorflow.keras.layers import Dropout\n",
    "from tensorflow.nn import relu\n",
    "from tensorflow.keras.losses import CategoricalCrossentropy\n",
    "from tensorflow.keras.optimizers import Adam\n",
    "from tensorflow.keras.optimizers import SGD\n",
    "from tensorflow.keras.callbacks import EarlyStopping\n",
    "from tensorflow.keras.callbacks import ModelCheckpoint\n",
    "from sklearn.model_selection import train_test_split\n",
    "from sklearn.metrics import *\n",
    "\n",
    "import mediapipe as mp\n",
    "mp_pose = mp.solutions.pose\n",
    "mp_drawing = mp.solutions.drawing_utils \n",
    "mp_drawing_styles = mp.solutions.drawing_styles"
   ]
  },
  {
   "cell_type": "markdown",
   "id": "80dffb78",
   "metadata": {},
   "source": [
    "## Global functions"
   ]
  },
  {
   "cell_type": "code",
   "execution_count": 4,
   "id": "91c1808f",
   "metadata": {},
   "outputs": [],
   "source": [
    "version = 3\n",
    "def getPath():\n",
    "    return r\".\\data\\v\" + str(version)\n",
    "\n",
    "def getClasses():\n",
    "    path = getPath()\n",
    "    return os.listdir(path)\n",
    "\n",
    "def getPathOfClass(className):\n",
    "    path = getPath()\n",
    "    return os.path.join(path, className)\n",
    "\n",
    "intermediates_dir = r\".\\intermediates\\v\" + str(version)\n",
    "classFolders = getClasses()"
   ]
  },
  {
   "cell_type": "markdown",
   "id": "8039da69",
   "metadata": {},
   "source": [
    "## Dataset stats"
   ]
  },
  {
   "cell_type": "code",
   "execution_count": 5,
   "id": "1e1e5a38",
   "metadata": {},
   "outputs": [
    {
     "name": "stdout",
     "output_type": "stream",
     "text": [
      "Dataset frequency distribution\n",
      "adho_mukha_shvanasana : 421\n",
      "bhujangasana : 488\n",
      "bidalasana : 293\n",
      "phalakasana : 250\n",
      "ustrasana : 203\n",
      "utkatasana : 200\n",
      "utkata_konasana : 200\n",
      "virabhadrasana_i : 207\n",
      "virabhadrasana_ii : 355\n",
      "vrikshasana : 200\n",
      "\n",
      "Image type frequency distribution\n",
      ".jpg : 2777\n",
      ".jpeg : 40\n",
      "\n"
     ]
    }
   ],
   "source": [
    "def visualizeDataSet():\n",
    "    counts = []\n",
    "    imageTypes = {}\n",
    "    for classFolder in classFolders:\n",
    "        images = os.listdir(getPathOfClass(classFolder))\n",
    "        count = len(images)\n",
    "        counts.append(count)\n",
    "        for image in images:\n",
    "            image_path = os.path.join(getPathOfClass(classFolder), image)\n",
    "            p = Path(image_path)\n",
    "            ext = p.suffix\n",
    "            imageTypes[ext] = imageTypes.get(ext, 0) + 1\n",
    "\n",
    "    print(\"Dataset frequency distribution\")\n",
    "    for i in range(len(classFolders)):\n",
    "        className = classFolders[i]\n",
    "        count = counts[i]\n",
    "        print(className + \" : \" + str(count))\n",
    "\n",
    "    print()\n",
    "\n",
    "    print(\"Image type frequency distribution\")\n",
    "    for key in imageTypes.keys():\n",
    "        count = imageTypes[key]\n",
    "        print(key + \" : \" + str(count))\n",
    "\n",
    "    print()\n",
    "    \n",
    "visualizeDataSet()"
   ]
  },
  {
   "cell_type": "markdown",
   "id": "d6c39e21",
   "metadata": {},
   "source": [
    "## Cleaning Data"
   ]
  },
  {
   "cell_type": "markdown",
   "id": "d29d2923",
   "metadata": {},
   "source": [
    "### Convert to Jpeg"
   ]
  },
  {
   "cell_type": "code",
   "execution_count": 4,
   "id": "ea9080ab",
   "metadata": {},
   "outputs": [
    {
     "name": "stdout",
     "output_type": "stream",
     "text": [
      "Converted Webp and PNG\n"
     ]
    }
   ],
   "source": [
    "for className in classFolders:\n",
    "    class_path = getPathOfClass(className)\n",
    "    files = os.listdir(class_path)\n",
    "    for f in files:\n",
    "        old_path = os.path.join(class_path, f)\n",
    "        p = Path(old_path)\n",
    "        ext = p.suffix\n",
    "        if ext == \".webp\":\n",
    "            print(\"Converting \" + f)\n",
    "            new_file_name = f\"{p.stem}.jepg\"\n",
    "            im = Image.open(old_path).convert(\"RGB\")\n",
    "            new_file_path = os.path.join(class_path, new_file_name)\n",
    "            print(new_file_path)\n",
    "            im.save(new_file_path, \"jepg\")\n",
    "            print(\"Removing \" + f)\n",
    "            os.remove(old_path)\n",
    "        if ext == \".png\":\n",
    "            print(\"Converting \" + f)\n",
    "            new_file_name = f\"{p.stem}.jpg\"\n",
    "            im = Image.open(old_path).convert(\"RGB\")\n",
    "            new_file_path = os.path.join(class_path, new_file_name)\n",
    "            print(new_file_path)\n",
    "            im.save(new_file_path)\n",
    "            print(\"Removing \" + f)\n",
    "            os.remove(old_path)\n",
    "        if ext == \".JPG\":\n",
    "            print(\"Converting \" + f)\n",
    "            new_file_name = f\"{p.stem}.jpg\"\n",
    "            im = Image.open(old_path).convert(\"RGB\")\n",
    "            new_file_path = os.path.join(class_path, new_file_name)\n",
    "            print(new_file_path)\n",
    "            im.save(new_file_path)\n",
    "            print(\"Removing \" + f)\n",
    "            os.remove(old_path)\n",
    "print(\"Converted Webp and PNG\")"
   ]
  },
  {
   "cell_type": "markdown",
   "id": "42a4ce11",
   "metadata": {},
   "source": [
    "### Finding duplicate images"
   ]
  },
  {
   "cell_type": "code",
   "execution_count": 5,
   "id": "6d15895d",
   "metadata": {},
   "outputs": [
    {
     "name": "stderr",
     "output_type": "stream",
     "text": [
      " 10%|████████▎                                                                          | 1/10 [00:44<06:40, 44.55s/it]"
     ]
    },
    {
     "name": "stdout",
     "output_type": "stream",
     "text": [
      "Found 0 images with one or more duplicate/similar images in 44.5507 seconds.\n"
     ]
    },
    {
     "name": "stderr",
     "output_type": "stream",
     "text": [
      "\r",
      " 20%|████████████████▌                                                                  | 2/10 [01:44<07:07, 53.42s/it]"
     ]
    },
    {
     "name": "stdout",
     "output_type": "stream",
     "text": [
      "Found 0 images with one or more duplicate/similar images in 59.6225 seconds.\n"
     ]
    },
    {
     "name": "stderr",
     "output_type": "stream",
     "text": [
      "\r",
      " 30%|████████████████████████▉                                                          | 3/10 [02:06<04:35, 39.34s/it]"
     ]
    },
    {
     "name": "stdout",
     "output_type": "stream",
     "text": [
      "Found 0 images with one or more duplicate/similar images in 22.5867 seconds.\n"
     ]
    },
    {
     "name": "stderr",
     "output_type": "stream",
     "text": [
      "\r",
      " 40%|█████████████████████████████████▏                                                 | 4/10 [02:26<03:09, 31.57s/it]"
     ]
    },
    {
     "name": "stdout",
     "output_type": "stream",
     "text": [
      "Found 0 images with one or more duplicate/similar images in 19.6559 seconds.\n"
     ]
    },
    {
     "name": "stderr",
     "output_type": "stream",
     "text": [
      "\r",
      " 50%|█████████████████████████████████████████▌                                         | 5/10 [02:41<02:08, 25.65s/it]"
     ]
    },
    {
     "name": "stdout",
     "output_type": "stream",
     "text": [
      "Found 0 images with one or more duplicate/similar images in 15.1377 seconds.\n"
     ]
    },
    {
     "name": "stderr",
     "output_type": "stream",
     "text": [
      "\r",
      " 60%|█████████████████████████████████████████████████▊                                 | 6/10 [02:54<01:25, 21.40s/it]"
     ]
    },
    {
     "name": "stdout",
     "output_type": "stream",
     "text": [
      "Found 0 images with one or more duplicate/similar images in 13.1518 seconds.\n"
     ]
    },
    {
     "name": "stderr",
     "output_type": "stream",
     "text": [
      "\r",
      " 70%|██████████████████████████████████████████████████████████                         | 7/10 [03:07<00:55, 18.54s/it]"
     ]
    },
    {
     "name": "stdout",
     "output_type": "stream",
     "text": [
      "Found 0 images with one or more duplicate/similar images in 12.6558 seconds.\n"
     ]
    },
    {
     "name": "stderr",
     "output_type": "stream",
     "text": [
      "\r",
      " 80%|██████████████████████████████████████████████████████████████████▍                | 8/10 [03:18<00:32, 16.29s/it]"
     ]
    },
    {
     "name": "stdout",
     "output_type": "stream",
     "text": [
      "Found 0 images with one or more duplicate/similar images in 11.4747 seconds.\n"
     ]
    },
    {
     "name": "stderr",
     "output_type": "stream",
     "text": [
      "\r",
      " 90%|██████████████████████████████████████████████████████████████████████████▋        | 9/10 [03:53<00:22, 22.17s/it]"
     ]
    },
    {
     "name": "stdout",
     "output_type": "stream",
     "text": [
      "Found 0 images with one or more duplicate/similar images in 35.1049 seconds.\n"
     ]
    },
    {
     "name": "stderr",
     "output_type": "stream",
     "text": [
      "100%|██████████████████████████████████████████████████████████████████████████████████| 10/10 [04:06<00:00, 24.61s/it]"
     ]
    },
    {
     "name": "stdout",
     "output_type": "stream",
     "text": [
      "Found 0 images with one or more duplicate/similar images in 12.1682 seconds.\n",
      "Completed duplicate image search\n"
     ]
    },
    {
     "name": "stderr",
     "output_type": "stream",
     "text": [
      "\n"
     ]
    }
   ],
   "source": [
    "for className in tqdm.tqdm(classFolders, position=0):\n",
    "    class_path = getPathOfClass(className)\n",
    "    search = dif(class_path, delete=True)\n",
    "print(\"Completed duplicate image search\")"
   ]
  },
  {
   "cell_type": "markdown",
   "id": "cb47bf0d",
   "metadata": {},
   "source": [
    "### Cleaning up folder names"
   ]
  },
  {
   "cell_type": "code",
   "execution_count": 6,
   "id": "5b6485e8",
   "metadata": {},
   "outputs": [
    {
     "name": "stdout",
     "output_type": "stream",
     "text": [
      "Renamed class names\n"
     ]
    }
   ],
   "source": [
    "for className in classFolders:\n",
    "    old_path = getPathOfClass(className)\n",
    "    new_name = re.sub(r\"\\s+\", \"_\", className)\n",
    "    if new_name != className:\n",
    "        print(\"Renaming \" + className)\n",
    "    new_path = os.path.join(getPath(), new_name)\n",
    "    os.rename(old_path, new_path)\n",
    "print(\"Renamed class names\")"
   ]
  },
  {
   "cell_type": "markdown",
   "id": "88827041",
   "metadata": {},
   "source": [
    "### Removing non supported images"
   ]
  },
  {
   "cell_type": "code",
   "execution_count": 7,
   "id": "301cc331",
   "metadata": {},
   "outputs": [
    {
     "name": "stdout",
     "output_type": "stream",
     "text": [
      "Finished removing non suporrted images\n"
     ]
    }
   ],
   "source": [
    "for className in classFolders:\n",
    "    class_path = getPathOfClass(className)\n",
    "    files = os.listdir(class_path)\n",
    "    count = 1\n",
    "    for f in files:\n",
    "        f_path = os.path.join(class_path, f)\n",
    "        if not (f.endswith(\".jpg\") or f.endswith(\".jpeg\")):\n",
    "            os.remove(f_path)\n",
    "            print(\"Removed \" + f)\n",
    "print(\"Finished removing non suporrted images\")"
   ]
  },
  {
   "cell_type": "markdown",
   "id": "01b27cfc",
   "metadata": {},
   "source": [
    "### Cleaning up file names"
   ]
  },
  {
   "cell_type": "code",
   "execution_count": null,
   "id": "a540ecaf",
   "metadata": {},
   "outputs": [],
   "source": [
    "for className in classFolders:\n",
    "    class_path = getPathOfClass(className)\n",
    "    files = os.listdir(class_path)\n",
    "    count = 1\n",
    "    for f in files:\n",
    "        old_path = os.path.join(class_path, f)\n",
    "        p = Path(old_path)\n",
    "        new_file_name = f\"{className}_{count}{p.suffix}\"\n",
    "        if new_file_name != f:\n",
    "            print(\"Renaming \" + f)\n",
    "        new_file_path = os.path.join(class_path, new_file_name)\n",
    "        if(os.path.exists(new_file_path)):\n",
    "            print(\"Clash in names, change to unique pattern\")\n",
    "            break\n",
    "        os.rename(old_path, new_file_path)\n",
    "        count += 1\n",
    "        \n",
    "print(\"Finished cleaning file names\")"
   ]
  },
  {
   "cell_type": "markdown",
   "id": "63dbd753",
   "metadata": {},
   "source": [
    "### Removing truncated images"
   ]
  },
  {
   "cell_type": "code",
   "execution_count": 10,
   "id": "0334414e",
   "metadata": {},
   "outputs": [
    {
     "name": "stdout",
     "output_type": "stream",
     "text": [
      "Done\n"
     ]
    }
   ],
   "source": [
    "for className in classFolders:\n",
    "    class_path = getPathOfClass(className)\n",
    "    files = os.listdir(class_path)\n",
    "    for file in files:\n",
    "        fpath = os.path.join(class_path, file)\n",
    "        img = Image.open(fpath)\n",
    "        try:\n",
    "            img.getpixel((0,0))\n",
    "            plt.imread(fpath)\n",
    "        except OSError as e:\n",
    "            print(\"Please delete \"+ fpath)\n",
    "            \n",
    "print(\"Done\")"
   ]
  },
  {
   "cell_type": "markdown",
   "id": "3ffb0821",
   "metadata": {},
   "source": [
    "### Cleaning to (h, w, 3) format"
   ]
  },
  {
   "cell_type": "code",
   "execution_count": 11,
   "id": "d790db94",
   "metadata": {},
   "outputs": [
    {
     "name": "stdout",
     "output_type": "stream",
     "text": [
      "Done\n"
     ]
    }
   ],
   "source": [
    "classFolders = getClasses()\n",
    "for className in classFolders:\n",
    "    class_path = getPathOfClass(className)\n",
    "    files = os.listdir(class_path)\n",
    "    for file in files:\n",
    "        fpath = os.path.join(class_path, file)\n",
    "        img = plt.imread(fpath)\n",
    "        if not (len(img.shape) == 3 and img.shape[2] == 3):\n",
    "            print(fpath)\n",
    "            \n",
    "print(\"Done\")"
   ]
  },
  {
   "cell_type": "code",
   "execution_count": 6,
   "id": "f43a8a1e",
   "metadata": {},
   "outputs": [
    {
     "name": "stdout",
     "output_type": "stream",
     "text": [
      "Dataset frequency distribution\n",
      "adho_mukha_shvanasana : 421\n",
      "bhujangasana : 488\n",
      "bidalasana : 293\n",
      "phalakasana : 250\n",
      "ustrasana : 203\n",
      "utkatasana : 200\n",
      "utkata_konasana : 200\n",
      "virabhadrasana_i : 207\n",
      "virabhadrasana_ii : 355\n",
      "vrikshasana : 200\n",
      "\n",
      "Image type frequency distribution\n",
      ".jpg : 2777\n",
      ".jpeg : 40\n",
      "\n"
     ]
    }
   ],
   "source": [
    "visualizeDataSet()"
   ]
  },
  {
   "cell_type": "markdown",
   "id": "29f275a8",
   "metadata": {},
   "source": [
    "## Pre-process"
   ]
  },
  {
   "cell_type": "code",
   "execution_count": 7,
   "id": "c9f00511",
   "metadata": {},
   "outputs": [
    {
     "name": "stdout",
     "output_type": "stream",
     "text": [
      "[200, 200, 200, 200, 200, 200, 200, 200, 200, 200]\n",
      "train_df length:  1600   test_df length:  400  total length:  2817\n",
      "bhujangasana             160\n",
      "ustrasana                160\n",
      "phalakasana              160\n",
      "utkata_konasana          160\n",
      "bidalasana               160\n",
      "adho_mukha_shvanasana    160\n",
      "vrikshasana              160\n",
      "virabhadrasana_ii        160\n",
      "virabhadrasana_i         160\n",
      "utkatasana               160\n",
      "Name: labels, dtype: int64\n"
     ]
    }
   ],
   "source": [
    "filepaths = []\n",
    "labels = []\n",
    "\n",
    "for className in classFolders:\n",
    "    class_path = getPathOfClass(className)\n",
    "    files = os.listdir(class_path)\n",
    "    for f in files:\n",
    "        fpath = os.path.join(class_path, f)\n",
    "        filepaths.append(fpath)\n",
    "        labels.append(className)\n",
    "\n",
    "Fseries = pd.Series(filepaths, name='filepaths')\n",
    "Lseries = pd.Series(labels, name='labels')\n",
    "df = pd.concat([Fseries, Lseries], axis=1)\n",
    "\n",
    "trim_classes_to_count = 200\n",
    "\n",
    "df = df.copy()\n",
    "sample_list=[] \n",
    "groups = df.groupby('labels')\n",
    "for label in df['labels'].unique():        \n",
    "    group = groups.get_group(label)\n",
    "    sample_count = len(group)         \n",
    "    if sample_count > trim_classes_to_count :\n",
    "        group = group.sample(\n",
    "            trim_classes_to_count, \n",
    "            replace=False, \n",
    "            weights=None, \n",
    "            random_state=123, \n",
    "            axis=0\n",
    "        ).reset_index(drop=True)\n",
    "    sample_list.append(group)\n",
    "df = pd.concat(sample_list, axis=0).reset_index(drop=True)\n",
    "balance = list(df['labels'].value_counts())\n",
    "print(balance)\n",
    "\n",
    "trsplit = 0.8\n",
    "# 20% - 10% test, 10% validation\n",
    "tsplit = 0.2\n",
    "strat=df['labels']    \n",
    "train_df, test_df = train_test_split(df, train_size=trsplit, shuffle=True, random_state=123, stratify=strat)\n",
    "print('train_df length: ', len(train_df), '  test_df length: ',len(test_df), ' total length: ', len(filepaths))\n",
    "print(train_df['labels'].value_counts())"
   ]
  },
  {
   "cell_type": "code",
   "execution_count": 135,
   "id": "c5402ef6",
   "metadata": {},
   "outputs": [
    {
     "data": {
      "text/html": [
       "<div>\n",
       "<style scoped>\n",
       "    .dataframe tbody tr th:only-of-type {\n",
       "        vertical-align: middle;\n",
       "    }\n",
       "\n",
       "    .dataframe tbody tr th {\n",
       "        vertical-align: top;\n",
       "    }\n",
       "\n",
       "    .dataframe thead th {\n",
       "        text-align: right;\n",
       "    }\n",
       "</style>\n",
       "<table border=\"1\" class=\"dataframe\">\n",
       "  <thead>\n",
       "    <tr style=\"text-align: right;\">\n",
       "      <th></th>\n",
       "      <th>filepaths</th>\n",
       "      <th>labels</th>\n",
       "    </tr>\n",
       "  </thead>\n",
       "  <tbody>\n",
       "    <tr>\n",
       "      <th>201</th>\n",
       "      <td>.\\data\\v3\\bhujangasana\\bhujangasana_59.jpg</td>\n",
       "      <td>bhujangasana</td>\n",
       "    </tr>\n",
       "    <tr>\n",
       "      <th>304</th>\n",
       "      <td>.\\data\\v3\\bhujangasana\\bhujangasana_117.jpg</td>\n",
       "      <td>bhujangasana</td>\n",
       "    </tr>\n",
       "    <tr>\n",
       "      <th>278</th>\n",
       "      <td>.\\data\\v3\\bhujangasana\\bhujangasana_137.jpg</td>\n",
       "      <td>bhujangasana</td>\n",
       "    </tr>\n",
       "    <tr>\n",
       "      <th>814</th>\n",
       "      <td>.\\data\\v3\\ustrasana\\ustrasana_171.jpg</td>\n",
       "      <td>ustrasana</td>\n",
       "    </tr>\n",
       "    <tr>\n",
       "      <th>316</th>\n",
       "      <td>.\\data\\v3\\bhujangasana\\bhujangasana_384.jpg</td>\n",
       "      <td>bhujangasana</td>\n",
       "    </tr>\n",
       "    <tr>\n",
       "      <th>...</th>\n",
       "      <td>...</td>\n",
       "      <td>...</td>\n",
       "    </tr>\n",
       "    <tr>\n",
       "      <th>1913</th>\n",
       "      <td>.\\data\\v3\\vrikshasana\\vrikshasana_200.jpg</td>\n",
       "      <td>vrikshasana</td>\n",
       "    </tr>\n",
       "    <tr>\n",
       "      <th>20</th>\n",
       "      <td>.\\data\\v3\\adho_mukha_shvanasana\\adho_mukha_shv...</td>\n",
       "      <td>adho_mukha_shvanasana</td>\n",
       "    </tr>\n",
       "    <tr>\n",
       "      <th>1085</th>\n",
       "      <td>.\\data\\v3\\utkatasana\\utkatasana_176.jpg</td>\n",
       "      <td>utkatasana</td>\n",
       "    </tr>\n",
       "    <tr>\n",
       "      <th>597</th>\n",
       "      <td>.\\data\\v3\\bidalasana\\bidalasana_23.jpg</td>\n",
       "      <td>bidalasana</td>\n",
       "    </tr>\n",
       "    <tr>\n",
       "      <th>1339</th>\n",
       "      <td>.\\data\\v3\\utkata_konasana\\utkata_konasana_44.jpeg</td>\n",
       "      <td>utkata_konasana</td>\n",
       "    </tr>\n",
       "  </tbody>\n",
       "</table>\n",
       "<p>1600 rows × 2 columns</p>\n",
       "</div>"
      ],
      "text/plain": [
       "                                              filepaths                 labels\n",
       "201          .\\data\\v3\\bhujangasana\\bhujangasana_59.jpg           bhujangasana\n",
       "304         .\\data\\v3\\bhujangasana\\bhujangasana_117.jpg           bhujangasana\n",
       "278         .\\data\\v3\\bhujangasana\\bhujangasana_137.jpg           bhujangasana\n",
       "814               .\\data\\v3\\ustrasana\\ustrasana_171.jpg              ustrasana\n",
       "316         .\\data\\v3\\bhujangasana\\bhujangasana_384.jpg           bhujangasana\n",
       "...                                                 ...                    ...\n",
       "1913          .\\data\\v3\\vrikshasana\\vrikshasana_200.jpg            vrikshasana\n",
       "20    .\\data\\v3\\adho_mukha_shvanasana\\adho_mukha_shv...  adho_mukha_shvanasana\n",
       "1085            .\\data\\v3\\utkatasana\\utkatasana_176.jpg             utkatasana\n",
       "597              .\\data\\v3\\bidalasana\\bidalasana_23.jpg             bidalasana\n",
       "1339  .\\data\\v3\\utkata_konasana\\utkata_konasana_44.jpeg        utkata_konasana\n",
       "\n",
       "[1600 rows x 2 columns]"
      ]
     },
     "execution_count": 135,
     "metadata": {},
     "output_type": "execute_result"
    }
   ],
   "source": [
    "train_df"
   ]
  },
  {
   "cell_type": "markdown",
   "id": "2b8313d8",
   "metadata": {},
   "source": [
    "## Running pre-trained detection model"
   ]
  },
  {
   "cell_type": "markdown",
   "id": "4641d94c",
   "metadata": {},
   "source": [
    "### Save detected poses of training set for debugging"
   ]
  },
  {
   "cell_type": "code",
   "execution_count": 8,
   "id": "a20b3329",
   "metadata": {
    "scrolled": true
   },
   "outputs": [
    {
     "name": "stderr",
     "output_type": "stream",
     "text": [
      "1600it [05:02,  5.29it/s]\n",
      "400it [00:54,  7.30it/s]"
     ]
    },
    {
     "name": "stdout",
     "output_type": "stream",
     "text": [
      "Done detecting\n",
      "Total time taken - 263.2835166454315\n",
      "Max time taken - 1.3251056671142578\n",
      "Min time taken - 0.07193589210510254\n",
      "Average time taken - 0.13164175832271577\n"
     ]
    },
    {
     "name": "stderr",
     "output_type": "stream",
     "text": [
      "\n"
     ]
    }
   ],
   "source": [
    "landmark_count = 33\n",
    "\n",
    "def saveImagesWithKeypoints(image_path, results):\n",
    "    image_path = os.path.abspath(image_path)\n",
    "    try:\n",
    "        image = cv2.imread(image_path)\n",
    "        image = image.copy()\n",
    "        pose_landmarks = results.pose_landmarks\n",
    "        if pose_landmarks is not None and len(pose_landmarks.landmark) == landmark_count:\n",
    "            mp_drawing.draw_landmarks(\n",
    "                image,\n",
    "                results.pose_landmarks,\n",
    "                mp_pose.POSE_CONNECTIONS,\n",
    "                landmark_drawing_spec=mp_drawing_styles.get_default_pose_landmarks_style()\n",
    "            )\n",
    "            \n",
    "        p = Path(image_path)\n",
    "        fileName = p.name\n",
    "        fp = os.path.join(intermediates_dir, fileName)\n",
    "        fp = r\"\"+os.path.abspath(fp)\n",
    "        if not cv2.imwrite(fp, image):\n",
    "            raise Exception(\"image not saved to {}\".format(fp))\n",
    "    except (Exception) as e:\n",
    "        print(\"Failed to write image for {}\".format(image_path))\n",
    "        raise e\n",
    "\n",
    "def process_result(result, image_shape, image_path, class_name):\n",
    "    pose_landmarks = result.pose_landmarks\n",
    "    if pose_landmarks is not None and len(pose_landmarks.landmark) == landmark_count:\n",
    "        pose_landmarks = [[lmk.x, lmk.y, lmk.z] for lmk in pose_landmarks.landmark]\n",
    "        # Map pose landmarks from [0, 1] range to absolute coordinates to get correct aspect ratio.\n",
    "        frame_height, frame_width = image_shape\n",
    "        pose_landmarks *= np.array([frame_width, frame_height, frame_width])\n",
    "        pose_landmarks = np.around(pose_landmarks, 5).flatten().astype(float).tolist()\n",
    "    else:\n",
    "        print(\"Pose was none or len < {} for {}\".format(landmark_count, image_path))\n",
    "    return (class_name, pose_landmarks)\n",
    "\n",
    "durations = []\n",
    "def detect(ndf):\n",
    "    with mp_pose.Pose(\n",
    "        static_image_mode=True, \n",
    "    #     min_detection_confidence=0.6, \n",
    "        model_complexity=1\n",
    "    ) as pose:\n",
    "        rows = []\n",
    "        for i, value in tqdm.tqdm(ndf.iterrows(), position=0):\n",
    "            begin = time.time()\n",
    "            label = value['labels']\n",
    "            image_path = value['filepaths']\n",
    "            image = cv2.imread(image_path)\n",
    "            results = pose.process(cv2.cvtColor(image, cv2.COLOR_BGR2RGB))\n",
    "            end = time.time()\n",
    "            rows.append(process_result(results, image.shape[:2], image_path, label))\n",
    "            saveImagesWithKeypoints(image_path, results)\n",
    "            if results.pose_landmarks is not None:\n",
    "                durations.append(end - begin)   \n",
    "        return rows\n",
    "    \n",
    "train_in = detect(train_df)\n",
    "test_in = detect(test_df)\n",
    "print(\"Done detecting\")\n",
    "print(\"Total time taken - \" + str(sum(durations)))\n",
    "print(\"Max time taken - \" + str(max(durations)))\n",
    "print(\"Min time taken - \" + str(min(durations)))\n",
    "print(\"Average time taken - \" + str(sum(durations) / len(durations)))"
   ]
  },
  {
   "cell_type": "markdown",
   "id": "82d5c792",
   "metadata": {},
   "source": [
    "## Train classifier model"
   ]
  },
  {
   "cell_type": "markdown",
   "id": "4487156a",
   "metadata": {},
   "source": [
    "### Classes"
   ]
  },
  {
   "cell_type": "code",
   "execution_count": 9,
   "id": "069174e8",
   "metadata": {},
   "outputs": [],
   "source": [
    "labels_list = [\n",
    "    \"adho_mukha_shvanasana\",\n",
    "    \"bhujangasana\",\n",
    "    \"bidalasana\",\n",
    "    \"phalakasana\",\n",
    "    \"ustrasana\",\n",
    "    \"utkatasana\",\n",
    "    \"utkata_konasana\",\n",
    "    \"virabhadrasana_i\",\n",
    "    \"virabhadrasana_ii\",\n",
    "    \"vrikshasana\",\n",
    "]"
   ]
  },
  {
   "cell_type": "markdown",
   "id": "c519956c",
   "metadata": {},
   "source": [
    "### Pre-processing"
   ]
  },
  {
   "cell_type": "code",
   "execution_count": 10,
   "id": "22b51206",
   "metadata": {},
   "outputs": [
    {
     "name": "stdout",
     "output_type": "stream",
     "text": [
      "Count of classes:\n",
      "10\n",
      "Size of train x, y :\n",
      "1600\n",
      "1600\n",
      "Size of test x, y :\n",
      "200\n",
      "200\n",
      "Size of val x, y :\n",
      "200\n",
      "200\n"
     ]
    }
   ],
   "source": [
    "TORSO_MULTIPLIER = 2.5\n",
    "\n",
    "def load_as_df(class_to_landmarks):\n",
    "    y = [entry[0] for entry in class_to_landmarks]\n",
    "    y = np_utils.to_categorical([labels_list.index(className) for className in y])\n",
    "    x = [entry[1] for entry in class_to_landmarks]\n",
    "    return x, y\n",
    "\n",
    "def average(a, b):\n",
    "    ax = a[0]\n",
    "    ay = a[1]\n",
    "    az = a[2]\n",
    "    bx = b[0]\n",
    "    by = b[1]\n",
    "    bz = b[2]\n",
    "    return ((ax + bx) * 0.5, (ay + by) * 0.5, (az + bz) * 0.5)\n",
    "\n",
    "def subtract(a, b):\n",
    "    ax = a[0]\n",
    "    ay = a[1]\n",
    "    az = a[2]\n",
    "    bx = b[0]\n",
    "    by = b[1]\n",
    "    bz = b[2]\n",
    "    return (ax - bx, ay - by, az - bz)\n",
    "\n",
    "def multiply(a, multiple):\n",
    "    ax = a[0]\n",
    "    ay = a[1]\n",
    "    az = a[2]\n",
    "    return (ax * multiple, ay * multiple, az * multiple)\n",
    "\n",
    "def l2Norm2D(a):\n",
    "    ax = a[0]\n",
    "    ay = a[1]\n",
    "    return math.hypot(ax, ay)\n",
    "\n",
    "def get_pose_size(landmarks):\n",
    "    hips_center = average(\n",
    "        landmarks[mp_pose.PoseLandmark.LEFT_HIP], \n",
    "        landmarks[mp_pose.PoseLandmark.RIGHT_HIP]\n",
    "    )\n",
    "    shoulders_center = average(\n",
    "        landmarks[mp_pose.PoseLandmark.LEFT_SHOULDER],\n",
    "        landmarks[mp_pose.PoseLandmark.RIGHT_SHOULDER]\n",
    "    )\n",
    "    torso_size = l2Norm2D(subtract(hips_center, shoulders_center))\n",
    "    max_distance = torso_size * TORSO_MULTIPLIER\n",
    "    # torsoSize * TORSO_MULTIPLIER is the floor we want but actual size\n",
    "    # can be bigger for a given pose depending on extension of limbs etc so we calculate that.\n",
    "    for landmark in landmarks:\n",
    "        distance = l2Norm2D(subtract(hips_center, landmark))\n",
    "        if (distance > max_distance):\n",
    "            max_distance = distance\n",
    "    return max_distance\n",
    "\n",
    "def normalize(entry):\n",
    "    normalized = list(zip(*[iter(entry)]*3))\n",
    "    left_hip = normalized[mp_pose.PoseLandmark.LEFT_HIP]\n",
    "    right_hip = normalized[mp_pose.PoseLandmark.RIGHT_HIP]\n",
    "    hip_center = average(left_hip, right_hip)\n",
    "    normalized = [subtract(point, hip_center) for point in normalized]\n",
    "    pose_size = get_pose_size(normalized)\n",
    "    normalized = [multiply(point, 1 / pose_size) for point in normalized]\n",
    "    #Multiplication by 100 to make it easier to debug.\n",
    "    normalized = [multiply(point, 100) for point in normalized]\n",
    "    return normalized\n",
    "    \n",
    "def get_embedding(entry):\n",
    "    embeddings = []\n",
    "\n",
    "    # Group our distances by number of joints between the pairs.\n",
    "    # One joint. - (9)\n",
    "    embeddings.append(\n",
    "        subtract(\n",
    "            average(entry[mp_pose.PoseLandmark.LEFT_SHOULDER], entry[mp_pose.PoseLandmark.RIGHT_SHOULDER]),\n",
    "            average(entry[mp_pose.PoseLandmark.LEFT_HIP], entry[mp_pose.PoseLandmark.RIGHT_HIP])\n",
    "        )\n",
    "    )\n",
    "    embeddings.append(\n",
    "        subtract(\n",
    "            entry[mp_pose.PoseLandmark.RIGHT_SHOULDER],\n",
    "            entry[mp_pose.PoseLandmark.LEFT_SHOULDER]\n",
    "        )\n",
    "    )\n",
    "    embeddings.append(\n",
    "        subtract(\n",
    "            entry[mp_pose.PoseLandmark.RIGHT_ELBOW],\n",
    "            entry[mp_pose.PoseLandmark.RIGHT_SHOULDER]\n",
    "        )\n",
    "    )\n",
    "    embeddings.append(\n",
    "        subtract(\n",
    "            entry[mp_pose.PoseLandmark.LEFT_WRIST],\n",
    "            entry[mp_pose.PoseLandmark.LEFT_ELBOW]\n",
    "        )\n",
    "    )\n",
    "    embeddings.append(\n",
    "        subtract(\n",
    "            entry[mp_pose.PoseLandmark.RIGHT_WRIST],\n",
    "            entry[mp_pose.PoseLandmark.RIGHT_ELBOW]\n",
    "        )\n",
    "    )\n",
    "    embeddings.append(\n",
    "        subtract(\n",
    "            entry[mp_pose.PoseLandmark.LEFT_KNEE],\n",
    "            entry[mp_pose.PoseLandmark.LEFT_HIP]\n",
    "        )\n",
    "    )\n",
    "    embeddings.append(\n",
    "        subtract(\n",
    "            entry[mp_pose.PoseLandmark.RIGHT_KNEE],\n",
    "            entry[mp_pose.PoseLandmark.RIGHT_HIP]\n",
    "        )\n",
    "    )\n",
    "    embeddings.append(\n",
    "        subtract(\n",
    "            entry[mp_pose.PoseLandmark.LEFT_ANKLE],\n",
    "            entry[mp_pose.PoseLandmark.LEFT_KNEE]\n",
    "        )\n",
    "    )\n",
    "    embeddings.append(\n",
    "        subtract(\n",
    "            entry[mp_pose.PoseLandmark.RIGHT_ANKLE],\n",
    "            entry[mp_pose.PoseLandmark.RIGHT_KNEE]\n",
    "        )\n",
    "    )\n",
    "    \n",
    "    # Two joints. (4)\n",
    "    embeddings.append(\n",
    "        subtract(\n",
    "            entry[mp_pose.PoseLandmark.LEFT_WRIST],\n",
    "            entry[mp_pose.PoseLandmark.LEFT_SHOULDER]\n",
    "        )\n",
    "    )\n",
    "    embeddings.append(\n",
    "        subtract(\n",
    "            entry[mp_pose.PoseLandmark.RIGHT_WRIST],\n",
    "            entry[mp_pose.PoseLandmark.RIGHT_SHOULDER]\n",
    "        )\n",
    "    )\n",
    "    embeddings.append(\n",
    "        subtract(\n",
    "            entry[mp_pose.PoseLandmark.LEFT_ANKLE],\n",
    "            entry[mp_pose.PoseLandmark.LEFT_HIP]\n",
    "        )\n",
    "    )\n",
    "    embeddings.append(\n",
    "        subtract(\n",
    "            entry[mp_pose.PoseLandmark.RIGHT_ANKLE],\n",
    "            entry[mp_pose.PoseLandmark.RIGHT_HIP]\n",
    "        )\n",
    "    )\n",
    "\n",
    "    # Four joints. (2)\n",
    "    embeddings.append(\n",
    "        subtract(\n",
    "            entry[mp_pose.PoseLandmark.LEFT_WRIST],\n",
    "            entry[mp_pose.PoseLandmark.LEFT_HIP]\n",
    "        )\n",
    "    )\n",
    "    embeddings.append(\n",
    "        subtract(\n",
    "            entry[mp_pose.PoseLandmark.RIGHT_WRIST],\n",
    "            entry[mp_pose.PoseLandmark.RIGHT_HIP]\n",
    "        )\n",
    "    )\n",
    "\n",
    "    # Five joints. (4)\n",
    "    embeddings.append(\n",
    "        subtract(\n",
    "            entry[mp_pose.PoseLandmark.LEFT_ANKLE],\n",
    "            entry[mp_pose.PoseLandmark.LEFT_SHOULDER]\n",
    "        )\n",
    "    )\n",
    "    embeddings.append(\n",
    "        subtract(\n",
    "            entry[mp_pose.PoseLandmark.RIGHT_ANKLE],\n",
    "            entry[mp_pose.PoseLandmark.RIGHT_SHOULDER]\n",
    "        )\n",
    "    )\n",
    "    embeddings.append(\n",
    "        subtract(\n",
    "            entry[mp_pose.PoseLandmark.LEFT_WRIST],\n",
    "            entry[mp_pose.PoseLandmark.LEFT_HIP]\n",
    "        )\n",
    "    )\n",
    "    embeddings.append(\n",
    "        subtract(\n",
    "            entry[mp_pose.PoseLandmark.RIGHT_WRIST],\n",
    "            entry[mp_pose.PoseLandmark.RIGHT_HIP]\n",
    "        )\n",
    "    )\n",
    "\n",
    "    # Cross body. (4)\n",
    "    embeddings.append(\n",
    "        subtract(\n",
    "            entry[mp_pose.PoseLandmark.RIGHT_ELBOW],\n",
    "            entry[mp_pose.PoseLandmark.LEFT_ELBOW]\n",
    "        )\n",
    "    )\n",
    "    embeddings.append(\n",
    "        subtract(\n",
    "            entry[mp_pose.PoseLandmark.RIGHT_KNEE],\n",
    "            entry[mp_pose.PoseLandmark.LEFT_KNEE]\n",
    "        )\n",
    "    )\n",
    "    embeddings.append(\n",
    "        subtract(\n",
    "            entry[mp_pose.PoseLandmark.RIGHT_WRIST],\n",
    "            entry[mp_pose.PoseLandmark.LEFT_WRIST]\n",
    "        )\n",
    "    )\n",
    "    embeddings.append(\n",
    "        subtract(\n",
    "            entry[mp_pose.PoseLandmark.RIGHT_ANKLE],\n",
    "            entry[mp_pose.PoseLandmark.LEFT_ANKLE]\n",
    "        )\n",
    "    )\n",
    "    return embeddings\n",
    "    \n",
    "def pre_process(x):\n",
    "    processed_x = []\n",
    "    for entry in x:\n",
    "        normalized_landmarks = normalize(entry)\n",
    "        embeddings = get_embedding(normalized_landmarks)\n",
    "        flattened_embeddings = [point_f for feature in embeddings for point_f in feature]\n",
    "        processed_x.append(flattened_embeddings)\n",
    "    return tf.convert_to_tensor(processed_x)\n",
    "\n",
    "X_train, y_train = load_as_df(train_in)\n",
    "X_test_in, y_test_in = load_as_df(test_in)\n",
    "\n",
    "# split test to test and validation (50-50 = 10% each)\n",
    "X_test, X_val, y_test, y_val = train_test_split(X_test_in, y_test_in, test_size=0.5, shuffle=True, random_state=123)\n",
    "\n",
    "processed_X_train = pre_process(X_train)\n",
    "processed_X_val =  pre_process(X_val)\n",
    "processed_X_test = pre_process(X_test)\n",
    "\n",
    "print(\"Count of classes:\")\n",
    "print(len(labels_list))\n",
    "print(\"Size of train x, y :\")\n",
    "print(len(processed_X_train))\n",
    "print(len(y_train))\n",
    "print(\"Size of test x, y :\")\n",
    "print(len(processed_X_test))\n",
    "print(len(y_test))\n",
    "print(\"Size of val x, y :\")\n",
    "print(len(processed_X_val))\n",
    "print(len(y_val))"
   ]
  },
  {
   "cell_type": "code",
   "execution_count": 11,
   "id": "26c699e4",
   "metadata": {},
   "outputs": [
    {
     "data": {
      "text/plain": [
       "<tf.Tensor: shape=(1, 69), dtype=float32, numpy=\n",
       "array([[-1.87771835e+01, -3.53187981e+01, -5.01123381e+00,\n",
       "         1.14892113e+00,  7.93644071e-01,  8.71949615e+01,\n",
       "        -6.73930311e+00, -1.82415161e+01,  1.31717606e+01,\n",
       "        -4.28081083e+00, -1.96150570e+01, -4.38385201e+00,\n",
       "        -3.08418489e+00, -1.67168007e+01, -3.15798264e+01,\n",
       "        -2.84084625e+01,  1.13012314e+01, -5.59262180e+00,\n",
       "        -2.58527012e+01,  1.09589453e+01, -5.54583549e+00,\n",
       "         1.36984720e+01,  2.93216381e+01,  2.32557716e+01,\n",
       "         1.06736298e+01,  2.72137470e+01,  2.32078571e+01,\n",
       "        -1.14396629e+01, -3.89665489e+01, -4.16711807e+01,\n",
       "        -9.82348824e+00, -3.49583168e+01, -1.84080658e+01,\n",
       "        -1.47099905e+01,  4.06228714e+01,  1.76631489e+01,\n",
       "        -1.51790714e+01,  3.81726913e+01,  1.76620216e+01,\n",
       "        -3.05890961e+01, -7.47012253e+01, -5.80361214e+01,\n",
       "        -2.82284222e+01, -6.98612289e+01, -1.20655928e+01,\n",
       "         4.43944168e+00,  7.63575516e+01,  3.40280914e+01,\n",
       "         3.22586322e+00,  7.30756073e+01,  1.13195486e+01,\n",
       "        -3.05890961e+01, -7.47012253e+01, -5.80361214e+01,\n",
       "        -2.82284222e+01, -6.98612289e+01, -1.20655928e+01,\n",
       "         1.56847036e+00,  1.90362012e+00,  1.37654053e+02,\n",
       "         2.96018529e+00, -3.80405992e-01,  6.45343399e+01,\n",
       "         2.76509643e+00,  4.80187702e+00,  1.10458084e+02,\n",
       "        -6.46573529e-02, -2.48829842e+00,  6.44864197e+01]], dtype=float32)>"
      ]
     },
     "execution_count": 11,
     "metadata": {},
     "output_type": "execute_result"
    }
   ],
   "source": [
    "processed_X_train[50:51]"
   ]
  },
  {
   "cell_type": "code",
   "execution_count": 12,
   "id": "6a6fcc32",
   "metadata": {},
   "outputs": [
    {
     "data": {
      "text/plain": [
       "array([[0., 0., 0., 0., 0., 1., 0., 0., 0., 0.]], dtype=float32)"
      ]
     },
     "execution_count": 12,
     "metadata": {},
     "output_type": "execute_result"
    }
   ],
   "source": [
    "y_train[50:51]"
   ]
  },
  {
   "cell_type": "code",
   "execution_count": 13,
   "id": "941fae40",
   "metadata": {},
   "outputs": [
    {
     "name": "stdout",
     "output_type": "stream",
     "text": [
      "Epoch 1/200\n",
      "100/100 [==============================] - 3s 7ms/step - loss: 24.5636 - accuracy: 0.2225 - val_loss: 1.5756 - val_accuracy: 0.6800\n",
      "Epoch 2/200\n",
      "100/100 [==============================] - 0s 3ms/step - loss: 5.9723 - accuracy: 0.3963 - val_loss: 0.8432 - val_accuracy: 0.7800\n",
      "Epoch 3/200\n",
      "100/100 [==============================] - 0s 3ms/step - loss: 3.3953 - accuracy: 0.4825 - val_loss: 0.6565 - val_accuracy: 0.8300\n",
      "Epoch 4/200\n",
      "100/100 [==============================] - 0s 4ms/step - loss: 2.5685 - accuracy: 0.5150 - val_loss: 0.5791 - val_accuracy: 0.8900\n",
      "Epoch 5/200\n",
      "100/100 [==============================] - 0s 3ms/step - loss: 1.8049 - accuracy: 0.5656 - val_loss: 0.5162 - val_accuracy: 0.8800\n",
      "Epoch 6/200\n",
      "100/100 [==============================] - 0s 3ms/step - loss: 1.4643 - accuracy: 0.6306 - val_loss: 0.4867 - val_accuracy: 0.8900\n",
      "Epoch 7/200\n",
      "100/100 [==============================] - 0s 3ms/step - loss: 1.2335 - accuracy: 0.6475 - val_loss: 0.3862 - val_accuracy: 0.9350\n",
      "Epoch 8/200\n",
      "100/100 [==============================] - 0s 3ms/step - loss: 1.2308 - accuracy: 0.6669 - val_loss: 0.3666 - val_accuracy: 0.9150\n",
      "Epoch 9/200\n",
      "100/100 [==============================] - 0s 3ms/step - loss: 0.9799 - accuracy: 0.7081 - val_loss: 0.3335 - val_accuracy: 0.9400\n",
      "Epoch 10/200\n",
      "100/100 [==============================] - 0s 4ms/step - loss: 0.9516 - accuracy: 0.7300 - val_loss: 0.2949 - val_accuracy: 0.9500\n",
      "Epoch 11/200\n",
      "100/100 [==============================] - 0s 3ms/step - loss: 0.8497 - accuracy: 0.7525 - val_loss: 0.3193 - val_accuracy: 0.9450\n",
      "Epoch 12/200\n",
      "100/100 [==============================] - 0s 4ms/step - loss: 0.7810 - accuracy: 0.7600 - val_loss: 0.2638 - val_accuracy: 0.9400\n",
      "Epoch 13/200\n",
      "100/100 [==============================] - 0s 3ms/step - loss: 0.7070 - accuracy: 0.7844 - val_loss: 0.2362 - val_accuracy: 0.9650\n",
      "Epoch 14/200\n",
      "100/100 [==============================] - 0s 3ms/step - loss: 0.6606 - accuracy: 0.7956 - val_loss: 0.2192 - val_accuracy: 0.9500\n",
      "Epoch 15/200\n",
      "100/100 [==============================] - 0s 3ms/step - loss: 0.5882 - accuracy: 0.8219 - val_loss: 0.2029 - val_accuracy: 0.9450\n",
      "Epoch 16/200\n",
      "100/100 [==============================] - 0s 3ms/step - loss: 0.5776 - accuracy: 0.8213 - val_loss: 0.1854 - val_accuracy: 0.9550\n",
      "Epoch 17/200\n",
      "100/100 [==============================] - 0s 3ms/step - loss: 0.4755 - accuracy: 0.8425 - val_loss: 0.1683 - val_accuracy: 0.9600\n",
      "Epoch 18/200\n",
      "100/100 [==============================] - 0s 3ms/step - loss: 0.5576 - accuracy: 0.8344 - val_loss: 0.1649 - val_accuracy: 0.9550\n",
      "Epoch 19/200\n",
      "100/100 [==============================] - 0s 3ms/step - loss: 0.5074 - accuracy: 0.8400 - val_loss: 0.1435 - val_accuracy: 0.9850\n",
      "Epoch 20/200\n",
      "100/100 [==============================] - 0s 4ms/step - loss: 0.4821 - accuracy: 0.8406 - val_loss: 0.1497 - val_accuracy: 0.9650\n",
      "Epoch 21/200\n",
      "100/100 [==============================] - 0s 3ms/step - loss: 0.4528 - accuracy: 0.8506 - val_loss: 0.1409 - val_accuracy: 0.9700\n",
      "Epoch 22/200\n",
      "100/100 [==============================] - 0s 3ms/step - loss: 0.3778 - accuracy: 0.8756 - val_loss: 0.1469 - val_accuracy: 0.9800\n",
      "Epoch 23/200\n",
      "100/100 [==============================] - 0s 3ms/step - loss: 0.3935 - accuracy: 0.8731 - val_loss: 0.1371 - val_accuracy: 0.9700\n",
      "Epoch 24/200\n",
      "100/100 [==============================] - 0s 4ms/step - loss: 0.4011 - accuracy: 0.8725 - val_loss: 0.1240 - val_accuracy: 0.9900\n",
      "Epoch 25/200\n",
      "100/100 [==============================] - 0s 3ms/step - loss: 0.3534 - accuracy: 0.8863 - val_loss: 0.1320 - val_accuracy: 0.9800\n",
      "Epoch 26/200\n",
      "100/100 [==============================] - 0s 3ms/step - loss: 0.3679 - accuracy: 0.8838 - val_loss: 0.1200 - val_accuracy: 0.9700\n",
      "Epoch 27/200\n",
      "100/100 [==============================] - 0s 3ms/step - loss: 0.3434 - accuracy: 0.8838 - val_loss: 0.1183 - val_accuracy: 0.9750\n",
      "Epoch 28/200\n",
      "100/100 [==============================] - 0s 3ms/step - loss: 0.3949 - accuracy: 0.8712 - val_loss: 0.1108 - val_accuracy: 0.9800\n",
      "Epoch 29/200\n",
      "100/100 [==============================] - 0s 3ms/step - loss: 0.2977 - accuracy: 0.9062 - val_loss: 0.1223 - val_accuracy: 0.9800\n",
      "Epoch 30/200\n",
      "100/100 [==============================] - 0s 4ms/step - loss: 0.3434 - accuracy: 0.8931 - val_loss: 0.1418 - val_accuracy: 0.9800\n",
      "Epoch 31/200\n",
      "100/100 [==============================] - 0s 3ms/step - loss: 0.3440 - accuracy: 0.8881 - val_loss: 0.0878 - val_accuracy: 0.9800\n",
      "Epoch 32/200\n",
      "100/100 [==============================] - 0s 3ms/step - loss: 0.3145 - accuracy: 0.9100 - val_loss: 0.0821 - val_accuracy: 0.9800\n",
      "Epoch 33/200\n",
      "100/100 [==============================] - 0s 3ms/step - loss: 0.2887 - accuracy: 0.9062 - val_loss: 0.0731 - val_accuracy: 0.9900\n",
      "Epoch 34/200\n",
      "100/100 [==============================] - 0s 4ms/step - loss: 0.2816 - accuracy: 0.9112 - val_loss: 0.0913 - val_accuracy: 0.9950\n",
      "Epoch 35/200\n",
      "100/100 [==============================] - 0s 3ms/step - loss: 0.2345 - accuracy: 0.9206 - val_loss: 0.0980 - val_accuracy: 0.9850\n",
      "Epoch 36/200\n",
      "100/100 [==============================] - 0s 4ms/step - loss: 0.2662 - accuracy: 0.9069 - val_loss: 0.0999 - val_accuracy: 0.9800\n",
      "Epoch 37/200\n",
      "100/100 [==============================] - 0s 3ms/step - loss: 0.2589 - accuracy: 0.9162 - val_loss: 0.1003 - val_accuracy: 0.9950\n",
      "Epoch 38/200\n",
      "100/100 [==============================] - 0s 4ms/step - loss: 0.2352 - accuracy: 0.9275 - val_loss: 0.0782 - val_accuracy: 0.9900\n",
      "Epoch 39/200\n",
      "100/100 [==============================] - 0s 3ms/step - loss: 0.2373 - accuracy: 0.9275 - val_loss: 0.0725 - val_accuracy: 0.9950\n",
      "Epoch 40/200\n",
      "100/100 [==============================] - 0s 3ms/step - loss: 0.2259 - accuracy: 0.9256 - val_loss: 0.0810 - val_accuracy: 0.9800\n",
      "Epoch 41/200\n",
      "100/100 [==============================] - 0s 3ms/step - loss: 0.2048 - accuracy: 0.9294 - val_loss: 0.0895 - val_accuracy: 0.9850\n",
      "Epoch 42/200\n",
      "100/100 [==============================] - 0s 3ms/step - loss: 0.2396 - accuracy: 0.9206 - val_loss: 0.0717 - val_accuracy: 0.9850\n",
      "Epoch 43/200\n",
      "100/100 [==============================] - 0s 3ms/step - loss: 0.2261 - accuracy: 0.9287 - val_loss: 0.1339 - val_accuracy: 0.9850\n",
      "Epoch 44/200\n",
      "100/100 [==============================] - 0s 3ms/step - loss: 0.2017 - accuracy: 0.9438 - val_loss: 0.0643 - val_accuracy: 0.9900\n",
      "Epoch 45/200\n",
      "100/100 [==============================] - 0s 3ms/step - loss: 0.2214 - accuracy: 0.9350 - val_loss: 0.1572 - val_accuracy: 0.9750\n",
      "Epoch 46/200\n",
      "100/100 [==============================] - 0s 3ms/step - loss: 0.2466 - accuracy: 0.9200 - val_loss: 0.0914 - val_accuracy: 0.9900\n",
      "Epoch 47/200\n",
      "100/100 [==============================] - 0s 3ms/step - loss: 0.2111 - accuracy: 0.9300 - val_loss: 0.0909 - val_accuracy: 0.9900\n",
      "Epoch 48/200\n",
      "100/100 [==============================] - 0s 4ms/step - loss: 0.2147 - accuracy: 0.9275 - val_loss: 0.0747 - val_accuracy: 0.9800\n",
      "Epoch 49/200\n",
      "100/100 [==============================] - 0s 3ms/step - loss: 0.2115 - accuracy: 0.9375 - val_loss: 0.0754 - val_accuracy: 0.9950\n",
      "Epoch 50/200\n",
      "100/100 [==============================] - 0s 3ms/step - loss: 0.2111 - accuracy: 0.9369 - val_loss: 0.0697 - val_accuracy: 0.9900\n",
      "Epoch 51/200\n",
      "100/100 [==============================] - 0s 3ms/step - loss: 0.2212 - accuracy: 0.9381 - val_loss: 0.1254 - val_accuracy: 0.9850\n",
      "Epoch 52/200\n",
      "100/100 [==============================] - 0s 3ms/step - loss: 0.2004 - accuracy: 0.9369 - val_loss: 0.1002 - val_accuracy: 0.9850\n",
      "Epoch 53/200\n",
      "100/100 [==============================] - 0s 3ms/step - loss: 0.2022 - accuracy: 0.9406 - val_loss: 0.0860 - val_accuracy: 0.9950\n",
      "Epoch 54/200\n",
      "100/100 [==============================] - 0s 3ms/step - loss: 0.1732 - accuracy: 0.9488 - val_loss: 0.0587 - val_accuracy: 0.9950\n",
      "Epoch 55/200\n",
      "100/100 [==============================] - 0s 3ms/step - loss: 0.1665 - accuracy: 0.9450 - val_loss: 0.0644 - val_accuracy: 0.9900\n",
      "Epoch 56/200\n",
      "100/100 [==============================] - 0s 3ms/step - loss: 0.1519 - accuracy: 0.9519 - val_loss: 0.0533 - val_accuracy: 0.9850\n",
      "Epoch 57/200\n",
      "100/100 [==============================] - 0s 3ms/step - loss: 0.2016 - accuracy: 0.9413 - val_loss: 0.0510 - val_accuracy: 0.9900\n"
     ]
    },
    {
     "name": "stdout",
     "output_type": "stream",
     "text": [
      "Epoch 58/200\n",
      "100/100 [==============================] - 0s 4ms/step - loss: 0.1787 - accuracy: 0.9444 - val_loss: 0.0642 - val_accuracy: 0.9950\n",
      "Epoch 59/200\n",
      "100/100 [==============================] - 0s 4ms/step - loss: 0.1719 - accuracy: 0.9456 - val_loss: 0.0766 - val_accuracy: 0.9900\n",
      "Epoch 60/200\n",
      "100/100 [==============================] - 0s 3ms/step - loss: 0.1476 - accuracy: 0.9513 - val_loss: 0.1406 - val_accuracy: 0.9800\n",
      "Epoch 61/200\n",
      "100/100 [==============================] - 0s 3ms/step - loss: 0.1744 - accuracy: 0.9506 - val_loss: 0.1247 - val_accuracy: 0.9900\n",
      "Epoch 62/200\n",
      "100/100 [==============================] - 0s 3ms/step - loss: 0.1498 - accuracy: 0.9569 - val_loss: 0.1206 - val_accuracy: 0.9950\n",
      "Epoch 63/200\n",
      "100/100 [==============================] - 0s 3ms/step - loss: 0.2007 - accuracy: 0.9388 - val_loss: 0.1197 - val_accuracy: 0.9950\n",
      "Epoch 64/200\n",
      "100/100 [==============================] - 0s 3ms/step - loss: 0.2133 - accuracy: 0.9337 - val_loss: 0.0746 - val_accuracy: 0.9850\n",
      "Epoch 65/200\n",
      "100/100 [==============================] - 0s 4ms/step - loss: 0.1835 - accuracy: 0.9438 - val_loss: 0.0829 - val_accuracy: 0.9850\n",
      "Epoch 66/200\n",
      "100/100 [==============================] - 0s 3ms/step - loss: 0.1576 - accuracy: 0.9538 - val_loss: 0.0873 - val_accuracy: 0.9950\n",
      "Epoch 67/200\n",
      "100/100 [==============================] - 0s 3ms/step - loss: 0.1775 - accuracy: 0.9525 - val_loss: 0.0871 - val_accuracy: 0.9950\n",
      "Epoch 68/200\n",
      "100/100 [==============================] - 0s 3ms/step - loss: 0.1431 - accuracy: 0.9544 - val_loss: 0.0689 - val_accuracy: 0.9950\n",
      "Epoch 69/200\n",
      "100/100 [==============================] - 0s 3ms/step - loss: 0.1584 - accuracy: 0.9575 - val_loss: 0.0911 - val_accuracy: 0.9950\n",
      "Epoch 70/200\n",
      "100/100 [==============================] - 0s 3ms/step - loss: 0.1474 - accuracy: 0.9575 - val_loss: 0.1066 - val_accuracy: 0.9900\n",
      "Epoch 71/200\n",
      "100/100 [==============================] - 0s 3ms/step - loss: 0.1490 - accuracy: 0.9544 - val_loss: 0.0887 - val_accuracy: 0.9950\n",
      "Epoch 72/200\n",
      "100/100 [==============================] - 0s 4ms/step - loss: 0.1537 - accuracy: 0.9550 - val_loss: 0.0818 - val_accuracy: 0.9950\n",
      "Epoch 73/200\n",
      "100/100 [==============================] - 0s 3ms/step - loss: 0.1282 - accuracy: 0.9625 - val_loss: 0.0580 - val_accuracy: 0.9950\n",
      "Epoch 74/200\n",
      "100/100 [==============================] - 0s 3ms/step - loss: 0.1275 - accuracy: 0.9663 - val_loss: 0.0929 - val_accuracy: 0.9950\n",
      "Epoch 75/200\n",
      "100/100 [==============================] - 0s 3ms/step - loss: 0.1461 - accuracy: 0.9538 - val_loss: 0.0524 - val_accuracy: 0.9900\n",
      "Epoch 76/200\n",
      "100/100 [==============================] - 0s 3ms/step - loss: 0.1371 - accuracy: 0.9644 - val_loss: 0.1093 - val_accuracy: 0.9950\n",
      "Epoch 77/200\n",
      "100/100 [==============================] - 0s 3ms/step - loss: 0.1730 - accuracy: 0.9444 - val_loss: 0.0874 - val_accuracy: 0.9900\n",
      "Epoch 78/200\n",
      "100/100 [==============================] - 0s 3ms/step - loss: 0.1008 - accuracy: 0.9706 - val_loss: 0.0940 - val_accuracy: 0.9950\n",
      "Epoch 79/200\n",
      "100/100 [==============================] - 0s 3ms/step - loss: 0.1361 - accuracy: 0.9606 - val_loss: 0.1106 - val_accuracy: 0.9950\n",
      "Epoch 80/200\n",
      "100/100 [==============================] - 0s 3ms/step - loss: 0.1080 - accuracy: 0.9650 - val_loss: 0.1166 - val_accuracy: 0.9900\n",
      "Epoch 81/200\n",
      "100/100 [==============================] - 0s 3ms/step - loss: 0.1403 - accuracy: 0.9575 - val_loss: 0.0705 - val_accuracy: 0.9900\n",
      "Epoch 82/200\n",
      "100/100 [==============================] - 0s 3ms/step - loss: 0.1212 - accuracy: 0.9656 - val_loss: 0.1129 - val_accuracy: 0.9950\n",
      "Epoch 83/200\n",
      "100/100 [==============================] - 0s 3ms/step - loss: 0.1374 - accuracy: 0.9600 - val_loss: 0.0915 - val_accuracy: 0.9950\n",
      "Epoch 84/200\n",
      "100/100 [==============================] - 0s 3ms/step - loss: 0.1449 - accuracy: 0.9631 - val_loss: 0.1049 - val_accuracy: 0.9950\n",
      "Epoch 85/200\n",
      "100/100 [==============================] - 0s 3ms/step - loss: 0.1481 - accuracy: 0.9588 - val_loss: 0.0511 - val_accuracy: 0.9950\n",
      "Epoch 86/200\n",
      "100/100 [==============================] - 0s 3ms/step - loss: 0.1164 - accuracy: 0.9644 - val_loss: 0.0574 - val_accuracy: 0.9950\n",
      "Epoch 87/200\n",
      "100/100 [==============================] - 0s 3ms/step - loss: 0.0789 - accuracy: 0.9706 - val_loss: 0.0785 - val_accuracy: 0.9900\n",
      "Epoch 88/200\n",
      "100/100 [==============================] - 0s 3ms/step - loss: 0.1036 - accuracy: 0.9700 - val_loss: 0.1272 - val_accuracy: 0.9900\n",
      "Epoch 89/200\n",
      "100/100 [==============================] - 0s 3ms/step - loss: 0.1076 - accuracy: 0.9706 - val_loss: 0.0829 - val_accuracy: 0.9950\n",
      "Epoch 90/200\n",
      "100/100 [==============================] - 0s 3ms/step - loss: 0.1273 - accuracy: 0.9694 - val_loss: 0.0884 - val_accuracy: 0.9900\n",
      "Epoch 91/200\n",
      "100/100 [==============================] - 0s 3ms/step - loss: 0.1418 - accuracy: 0.9625 - val_loss: 0.0980 - val_accuracy: 0.9900\n",
      "Epoch 92/200\n",
      "100/100 [==============================] - 0s 4ms/step - loss: 0.1024 - accuracy: 0.9712 - val_loss: 0.1382 - val_accuracy: 0.9800\n",
      "Epoch 93/200\n",
      "100/100 [==============================] - 0s 3ms/step - loss: 0.1246 - accuracy: 0.9631 - val_loss: 0.1287 - val_accuracy: 0.9800\n",
      "Epoch 94/200\n",
      "100/100 [==============================] - 0s 3ms/step - loss: 0.1400 - accuracy: 0.9569 - val_loss: 0.1392 - val_accuracy: 0.9850\n",
      "Epoch 95/200\n",
      "100/100 [==============================] - 0s 3ms/step - loss: 0.1899 - accuracy: 0.9556 - val_loss: 0.0957 - val_accuracy: 0.9900\n",
      "Epoch 96/200\n",
      "100/100 [==============================] - 0s 3ms/step - loss: 0.0961 - accuracy: 0.9663 - val_loss: 0.1188 - val_accuracy: 0.9900\n",
      "Epoch 97/200\n",
      "100/100 [==============================] - 0s 3ms/step - loss: 0.0870 - accuracy: 0.9712 - val_loss: 0.1265 - val_accuracy: 0.9950\n",
      "Epoch 98/200\n",
      "100/100 [==============================] - 0s 3ms/step - loss: 0.0867 - accuracy: 0.9681 - val_loss: 0.1476 - val_accuracy: 0.9950\n",
      "Epoch 99/200\n",
      "100/100 [==============================] - 0s 3ms/step - loss: 0.1764 - accuracy: 0.9544 - val_loss: 0.0963 - val_accuracy: 0.9950\n",
      "Epoch 100/200\n",
      "100/100 [==============================] - 0s 3ms/step - loss: 0.1264 - accuracy: 0.9600 - val_loss: 0.1428 - val_accuracy: 0.9900\n",
      "Epoch 101/200\n",
      "100/100 [==============================] - 0s 3ms/step - loss: 0.0937 - accuracy: 0.9712 - val_loss: 0.0690 - val_accuracy: 0.9850\n",
      "Epoch 102/200\n",
      "100/100 [==============================] - 0s 3ms/step - loss: 0.0982 - accuracy: 0.9669 - val_loss: 0.1009 - val_accuracy: 0.9950\n",
      "Epoch 103/200\n",
      "100/100 [==============================] - 0s 3ms/step - loss: 0.0964 - accuracy: 0.9681 - val_loss: 0.1194 - val_accuracy: 0.9900\n",
      "Epoch 104/200\n",
      "100/100 [==============================] - 0s 3ms/step - loss: 0.1058 - accuracy: 0.9675 - val_loss: 0.1529 - val_accuracy: 0.9900\n",
      "Epoch 105/200\n",
      "100/100 [==============================] - 0s 3ms/step - loss: 0.0861 - accuracy: 0.9719 - val_loss: 0.1254 - val_accuracy: 0.9850\n",
      "Epoch 106/200\n",
      "100/100 [==============================] - 0s 3ms/step - loss: 0.1160 - accuracy: 0.9631 - val_loss: 0.1264 - val_accuracy: 0.9850\n",
      "Epoch 107/200\n",
      "100/100 [==============================] - 0s 3ms/step - loss: 0.1119 - accuracy: 0.9712 - val_loss: 0.1089 - val_accuracy: 0.9950\n",
      "Epoch 108/200\n",
      "100/100 [==============================] - 0s 3ms/step - loss: 0.1133 - accuracy: 0.9688 - val_loss: 0.1149 - val_accuracy: 0.9950\n",
      "Epoch 109/200\n",
      "100/100 [==============================] - 0s 3ms/step - loss: 0.1122 - accuracy: 0.9712 - val_loss: 0.0985 - val_accuracy: 0.9850\n",
      "Epoch 110/200\n",
      "100/100 [==============================] - 0s 3ms/step - loss: 0.1385 - accuracy: 0.9631 - val_loss: 0.1271 - val_accuracy: 0.9950\n",
      "Epoch 111/200\n",
      "100/100 [==============================] - 0s 3ms/step - loss: 0.1336 - accuracy: 0.9644 - val_loss: 0.1016 - val_accuracy: 0.9950\n",
      "Epoch 112/200\n",
      "100/100 [==============================] - 0s 3ms/step - loss: 0.0908 - accuracy: 0.9700 - val_loss: 0.0835 - val_accuracy: 0.9900\n",
      "Epoch 113/200\n",
      "100/100 [==============================] - 0s 3ms/step - loss: 0.0967 - accuracy: 0.9725 - val_loss: 0.1244 - val_accuracy: 0.9950\n",
      "Epoch 114/200\n",
      "100/100 [==============================] - 0s 3ms/step - loss: 0.1501 - accuracy: 0.9650 - val_loss: 0.1477 - val_accuracy: 0.9850\n"
     ]
    },
    {
     "name": "stdout",
     "output_type": "stream",
     "text": [
      "Epoch 115/200\n",
      "100/100 [==============================] - 0s 3ms/step - loss: 0.1314 - accuracy: 0.9594 - val_loss: 0.1686 - val_accuracy: 0.9900\n",
      "Epoch 116/200\n",
      "100/100 [==============================] - 0s 3ms/step - loss: 0.1315 - accuracy: 0.9669 - val_loss: 0.1259 - val_accuracy: 0.9900\n",
      "Epoch 117/200\n",
      "100/100 [==============================] - 0s 3ms/step - loss: 0.1348 - accuracy: 0.9681 - val_loss: 0.1082 - val_accuracy: 0.9900\n",
      "Epoch 118/200\n",
      "100/100 [==============================] - 0s 3ms/step - loss: 0.0937 - accuracy: 0.9706 - val_loss: 0.1182 - val_accuracy: 0.9950\n",
      "Epoch 119/200\n",
      "100/100 [==============================] - 0s 3ms/step - loss: 0.0852 - accuracy: 0.9775 - val_loss: 0.1474 - val_accuracy: 0.9950\n",
      "Epoch 120/200\n",
      "100/100 [==============================] - 0s 3ms/step - loss: 0.0860 - accuracy: 0.9769 - val_loss: 0.1578 - val_accuracy: 0.9900\n",
      "Epoch 121/200\n",
      "100/100 [==============================] - 0s 3ms/step - loss: 0.1215 - accuracy: 0.9625 - val_loss: 0.1847 - val_accuracy: 0.9950\n",
      "Epoch 122/200\n",
      "100/100 [==============================] - 0s 3ms/step - loss: 0.1182 - accuracy: 0.9669 - val_loss: 0.1574 - val_accuracy: 0.9900\n",
      "Epoch 123/200\n",
      "100/100 [==============================] - 0s 3ms/step - loss: 0.1097 - accuracy: 0.9744 - val_loss: 0.1387 - val_accuracy: 0.9900\n",
      "Epoch 124/200\n",
      "100/100 [==============================] - 0s 3ms/step - loss: 0.0876 - accuracy: 0.9706 - val_loss: 0.1432 - val_accuracy: 0.9950\n",
      "Epoch 125/200\n",
      "100/100 [==============================] - 0s 3ms/step - loss: 0.1000 - accuracy: 0.9675 - val_loss: 0.1752 - val_accuracy: 0.9950\n",
      "Epoch 126/200\n",
      "100/100 [==============================] - 0s 3ms/step - loss: 0.1061 - accuracy: 0.9725 - val_loss: 0.1544 - val_accuracy: 0.9950\n",
      "Epoch 127/200\n",
      "100/100 [==============================] - 0s 3ms/step - loss: 0.0993 - accuracy: 0.9712 - val_loss: 0.1158 - val_accuracy: 0.9900\n",
      "Epoch 128/200\n",
      "100/100 [==============================] - 0s 3ms/step - loss: 0.0941 - accuracy: 0.9762 - val_loss: 0.1006 - val_accuracy: 0.9900\n",
      "Epoch 129/200\n",
      "100/100 [==============================] - 0s 3ms/step - loss: 0.0882 - accuracy: 0.9744 - val_loss: 0.0974 - val_accuracy: 0.9900\n",
      "Epoch 130/200\n",
      "100/100 [==============================] - 0s 3ms/step - loss: 0.1140 - accuracy: 0.9762 - val_loss: 0.1186 - val_accuracy: 0.9900\n",
      "Epoch 131/200\n",
      "100/100 [==============================] - 0s 3ms/step - loss: 0.0928 - accuracy: 0.9744 - val_loss: 0.1103 - val_accuracy: 0.9900\n",
      "Epoch 132/200\n",
      "100/100 [==============================] - 0s 3ms/step - loss: 0.1270 - accuracy: 0.9750 - val_loss: 0.1367 - val_accuracy: 0.9900\n",
      "Epoch 133/200\n",
      "100/100 [==============================] - 0s 3ms/step - loss: 0.1087 - accuracy: 0.9681 - val_loss: 0.1500 - val_accuracy: 0.9950\n",
      "Epoch 134/200\n",
      "100/100 [==============================] - 0s 3ms/step - loss: 0.1032 - accuracy: 0.9712 - val_loss: 0.1404 - val_accuracy: 0.9900\n",
      "Epoch 135/200\n",
      "100/100 [==============================] - 0s 3ms/step - loss: 0.0855 - accuracy: 0.9750 - val_loss: 0.1742 - val_accuracy: 0.9950\n",
      "Epoch 136/200\n",
      "100/100 [==============================] - 0s 3ms/step - loss: 0.1376 - accuracy: 0.9625 - val_loss: 0.2364 - val_accuracy: 0.9950\n",
      "Epoch 137/200\n",
      "100/100 [==============================] - 0s 3ms/step - loss: 0.1196 - accuracy: 0.9712 - val_loss: 0.2240 - val_accuracy: 0.9950\n",
      "Epoch 138/200\n",
      "100/100 [==============================] - 0s 3ms/step - loss: 0.1064 - accuracy: 0.9731 - val_loss: 0.2377 - val_accuracy: 0.9950\n",
      "Epoch 139/200\n",
      "100/100 [==============================] - 0s 3ms/step - loss: 0.1036 - accuracy: 0.9750 - val_loss: 0.2250 - val_accuracy: 0.9950\n",
      "Epoch 140/200\n",
      "100/100 [==============================] - 0s 4ms/step - loss: 0.1033 - accuracy: 0.9688 - val_loss: 0.1275 - val_accuracy: 0.9850\n",
      "Epoch 141/200\n",
      "100/100 [==============================] - 0s 3ms/step - loss: 0.0754 - accuracy: 0.9806 - val_loss: 0.1422 - val_accuracy: 0.9900\n",
      "Epoch 142/200\n",
      "100/100 [==============================] - 0s 3ms/step - loss: 0.0770 - accuracy: 0.9756 - val_loss: 0.1283 - val_accuracy: 0.9950\n",
      "Epoch 143/200\n",
      "100/100 [==============================] - 0s 3ms/step - loss: 0.1113 - accuracy: 0.9700 - val_loss: 0.1705 - val_accuracy: 0.9950\n",
      "Epoch 144/200\n",
      "100/100 [==============================] - 0s 3ms/step - loss: 0.1346 - accuracy: 0.9625 - val_loss: 0.1048 - val_accuracy: 0.9900\n",
      "Epoch 145/200\n",
      "100/100 [==============================] - 0s 3ms/step - loss: 0.1189 - accuracy: 0.9688 - val_loss: 0.1922 - val_accuracy: 0.9900\n",
      "Epoch 146/200\n",
      "100/100 [==============================] - 0s 3ms/step - loss: 0.0848 - accuracy: 0.9762 - val_loss: 0.1671 - val_accuracy: 0.9950\n",
      "Epoch 147/200\n",
      "100/100 [==============================] - 0s 3ms/step - loss: 0.1014 - accuracy: 0.9719 - val_loss: 0.2271 - val_accuracy: 0.9950\n",
      "Epoch 148/200\n",
      "100/100 [==============================] - 0s 3ms/step - loss: 0.1087 - accuracy: 0.9712 - val_loss: 0.1582 - val_accuracy: 0.9950\n",
      "Epoch 149/200\n",
      "100/100 [==============================] - 0s 3ms/step - loss: 0.0656 - accuracy: 0.9787 - val_loss: 0.1567 - val_accuracy: 0.9900\n",
      "Epoch 150/200\n",
      "100/100 [==============================] - 0s 3ms/step - loss: 0.1546 - accuracy: 0.9681 - val_loss: 0.0882 - val_accuracy: 0.9900\n",
      "Epoch 151/200\n",
      "100/100 [==============================] - 0s 3ms/step - loss: 0.1161 - accuracy: 0.9681 - val_loss: 0.1235 - val_accuracy: 0.9950\n",
      "Epoch 152/200\n",
      "100/100 [==============================] - 0s 3ms/step - loss: 0.1021 - accuracy: 0.9725 - val_loss: 0.1768 - val_accuracy: 0.9850\n",
      "Epoch 153/200\n",
      "100/100 [==============================] - 0s 3ms/step - loss: 0.0782 - accuracy: 0.9800 - val_loss: 0.1596 - val_accuracy: 0.9950\n",
      "Epoch 154/200\n",
      "100/100 [==============================] - 0s 3ms/step - loss: 0.0744 - accuracy: 0.9800 - val_loss: 0.1371 - val_accuracy: 0.9950\n",
      "Epoch 155/200\n",
      "100/100 [==============================] - 0s 3ms/step - loss: 0.1012 - accuracy: 0.9712 - val_loss: 0.1604 - val_accuracy: 0.9950\n",
      "Epoch 156/200\n",
      "100/100 [==============================] - 0s 3ms/step - loss: 0.1150 - accuracy: 0.9706 - val_loss: 0.2179 - val_accuracy: 0.9950\n",
      "Epoch 157/200\n",
      "100/100 [==============================] - 0s 3ms/step - loss: 0.1079 - accuracy: 0.9731 - val_loss: 0.0459 - val_accuracy: 0.9850\n",
      "Epoch 158/200\n",
      "100/100 [==============================] - 0s 3ms/step - loss: 0.1028 - accuracy: 0.9744 - val_loss: 0.0693 - val_accuracy: 0.9900\n",
      "Epoch 159/200\n",
      "100/100 [==============================] - 0s 3ms/step - loss: 0.1056 - accuracy: 0.9725 - val_loss: 0.0728 - val_accuracy: 0.9900\n",
      "Epoch 160/200\n",
      "100/100 [==============================] - 0s 4ms/step - loss: 0.0922 - accuracy: 0.9744 - val_loss: 0.0942 - val_accuracy: 0.9900\n",
      "Epoch 161/200\n",
      "100/100 [==============================] - 0s 3ms/step - loss: 0.0732 - accuracy: 0.9775 - val_loss: 0.0645 - val_accuracy: 0.9900\n",
      "Epoch 162/200\n",
      "100/100 [==============================] - 0s 3ms/step - loss: 0.0884 - accuracy: 0.9700 - val_loss: 0.1264 - val_accuracy: 0.9950\n",
      "Epoch 163/200\n",
      "100/100 [==============================] - 0s 3ms/step - loss: 0.1053 - accuracy: 0.9719 - val_loss: 0.1358 - val_accuracy: 0.9950\n",
      "Epoch 164/200\n",
      "100/100 [==============================] - 0s 3ms/step - loss: 0.0857 - accuracy: 0.9737 - val_loss: 0.1180 - val_accuracy: 0.9950\n",
      "Epoch 165/200\n",
      "100/100 [==============================] - 0s 3ms/step - loss: 0.1234 - accuracy: 0.9688 - val_loss: 0.1435 - val_accuracy: 0.9900\n",
      "Epoch 166/200\n",
      "100/100 [==============================] - 0s 3ms/step - loss: 0.1107 - accuracy: 0.9694 - val_loss: 0.1903 - val_accuracy: 0.9900\n",
      "Epoch 167/200\n",
      "100/100 [==============================] - 0s 3ms/step - loss: 0.0936 - accuracy: 0.9731 - val_loss: 0.1884 - val_accuracy: 0.9850\n",
      "Epoch 168/200\n",
      "100/100 [==============================] - 0s 3ms/step - loss: 0.1046 - accuracy: 0.9681 - val_loss: 0.1983 - val_accuracy: 0.9950\n",
      "Epoch 169/200\n",
      "100/100 [==============================] - 0s 3ms/step - loss: 0.1104 - accuracy: 0.9744 - val_loss: 0.2276 - val_accuracy: 0.9950\n",
      "Epoch 170/200\n",
      "100/100 [==============================] - 0s 3ms/step - loss: 0.0877 - accuracy: 0.9812 - val_loss: 0.1747 - val_accuracy: 0.9950\n",
      "Epoch 171/200\n"
     ]
    },
    {
     "name": "stdout",
     "output_type": "stream",
     "text": [
      "100/100 [==============================] - 0s 3ms/step - loss: 0.1049 - accuracy: 0.9719 - val_loss: 0.2132 - val_accuracy: 0.9950\n",
      "Epoch 172/200\n",
      "100/100 [==============================] - 0s 3ms/step - loss: 0.0858 - accuracy: 0.9775 - val_loss: 0.1814 - val_accuracy: 0.9850\n",
      "Epoch 173/200\n",
      "100/100 [==============================] - 0s 4ms/step - loss: 0.0845 - accuracy: 0.9750 - val_loss: 0.1766 - val_accuracy: 0.9950\n",
      "Epoch 174/200\n",
      "100/100 [==============================] - 0s 4ms/step - loss: 0.0827 - accuracy: 0.9750 - val_loss: 0.1804 - val_accuracy: 0.9950\n",
      "Epoch 175/200\n",
      "100/100 [==============================] - 0s 3ms/step - loss: 0.0719 - accuracy: 0.9806 - val_loss: 0.1160 - val_accuracy: 0.9900\n",
      "Epoch 176/200\n",
      "100/100 [==============================] - 0s 3ms/step - loss: 0.0733 - accuracy: 0.9787 - val_loss: 0.1272 - val_accuracy: 0.9950\n",
      "Epoch 177/200\n",
      "100/100 [==============================] - 0s 4ms/step - loss: 0.1066 - accuracy: 0.9725 - val_loss: 0.1965 - val_accuracy: 0.9900\n",
      "Epoch 178/200\n",
      "100/100 [==============================] - 0s 3ms/step - loss: 0.0829 - accuracy: 0.9737 - val_loss: 0.1739 - val_accuracy: 0.9900\n",
      "Epoch 179/200\n",
      "100/100 [==============================] - 0s 3ms/step - loss: 0.0548 - accuracy: 0.9850 - val_loss: 0.1876 - val_accuracy: 0.9850\n",
      "Epoch 180/200\n",
      "100/100 [==============================] - 0s 3ms/step - loss: 0.0829 - accuracy: 0.9769 - val_loss: 0.1880 - val_accuracy: 0.9900\n",
      "Epoch 181/200\n",
      "100/100 [==============================] - 0s 3ms/step - loss: 0.0663 - accuracy: 0.9844 - val_loss: 0.1744 - val_accuracy: 0.9900\n",
      "Epoch 182/200\n",
      "100/100 [==============================] - 0s 3ms/step - loss: 0.0643 - accuracy: 0.9794 - val_loss: 0.2252 - val_accuracy: 0.9950\n",
      "Epoch 183/200\n",
      "100/100 [==============================] - 0s 3ms/step - loss: 0.1083 - accuracy: 0.9762 - val_loss: 0.1550 - val_accuracy: 0.9950\n",
      "Epoch 184/200\n",
      "100/100 [==============================] - 0s 3ms/step - loss: 0.0687 - accuracy: 0.9800 - val_loss: 0.2073 - val_accuracy: 0.9950\n",
      "Epoch 185/200\n",
      "100/100 [==============================] - 0s 3ms/step - loss: 0.0579 - accuracy: 0.9819 - val_loss: 0.1359 - val_accuracy: 0.9900\n",
      "Epoch 186/200\n",
      "100/100 [==============================] - 0s 3ms/step - loss: 0.0642 - accuracy: 0.9800 - val_loss: 0.1377 - val_accuracy: 0.9900\n",
      "Epoch 187/200\n",
      "100/100 [==============================] - 0s 3ms/step - loss: 0.0682 - accuracy: 0.9775 - val_loss: 0.1731 - val_accuracy: 0.9900\n",
      "Epoch 188/200\n",
      "100/100 [==============================] - 0s 3ms/step - loss: 0.0910 - accuracy: 0.9744 - val_loss: 0.1703 - val_accuracy: 0.9900\n",
      "Epoch 189/200\n",
      "100/100 [==============================] - 0s 4ms/step - loss: 0.0656 - accuracy: 0.9875 - val_loss: 0.1433 - val_accuracy: 0.9900\n",
      "Epoch 190/200\n",
      "100/100 [==============================] - 0s 3ms/step - loss: 0.1028 - accuracy: 0.9756 - val_loss: 0.1211 - val_accuracy: 0.9900\n",
      "Epoch 191/200\n",
      "100/100 [==============================] - 0s 3ms/step - loss: 0.0839 - accuracy: 0.9769 - val_loss: 0.1325 - val_accuracy: 0.9900\n",
      "Epoch 192/200\n",
      "100/100 [==============================] - 0s 4ms/step - loss: 0.1005 - accuracy: 0.9762 - val_loss: 0.1184 - val_accuracy: 0.9900\n",
      "Epoch 193/200\n",
      "100/100 [==============================] - 0s 4ms/step - loss: 0.0916 - accuracy: 0.9806 - val_loss: 0.1677 - val_accuracy: 0.9900\n",
      "Epoch 194/200\n",
      "100/100 [==============================] - 0s 4ms/step - loss: 0.1011 - accuracy: 0.9737 - val_loss: 0.1061 - val_accuracy: 0.9900\n",
      "Epoch 195/200\n",
      "100/100 [==============================] - 0s 3ms/step - loss: 0.1035 - accuracy: 0.9712 - val_loss: 0.1174 - val_accuracy: 0.9900\n",
      "Epoch 196/200\n",
      "100/100 [==============================] - 0s 3ms/step - loss: 0.1269 - accuracy: 0.9681 - val_loss: 0.1980 - val_accuracy: 0.9900\n",
      "Epoch 197/200\n",
      "100/100 [==============================] - 0s 3ms/step - loss: 0.0968 - accuracy: 0.9750 - val_loss: 0.2298 - val_accuracy: 0.9950\n",
      "Epoch 198/200\n",
      "100/100 [==============================] - 0s 3ms/step - loss: 0.1228 - accuracy: 0.9737 - val_loss: 0.2097 - val_accuracy: 0.9850\n",
      "Epoch 199/200\n",
      "100/100 [==============================] - 0s 3ms/step - loss: 0.0537 - accuracy: 0.9844 - val_loss: 0.1725 - val_accuracy: 0.9850\n",
      "Epoch 200/200\n",
      "100/100 [==============================] - 0s 3ms/step - loss: 0.0920 - accuracy: 0.9737 - val_loss: 0.2625 - val_accuracy: 0.9900\n"
     ]
    }
   ],
   "source": [
    "inputs = tf.keras.Input(shape=(69))\n",
    "model = Sequential()\n",
    "model.add(inputs)\n",
    "model.add(Dense(128, activation=relu))\n",
    "model.add(Dropout(0.5))\n",
    "model.add(Dense(64, activation=relu))\n",
    "model.add(Dropout(0.5))\n",
    "model.add(Dense(len(labels_list), activation=\"softmax\"))\n",
    "\n",
    "optimizer = Adam()\n",
    "\n",
    "model.compile(\n",
    "    optimizer = optimizer,\n",
    "    loss = CategoricalCrossentropy(),\n",
    "    metrics = ['accuracy']\n",
    ")\n",
    "\n",
    "# Start training\n",
    "model_history = model.fit(\n",
    "    processed_X_train, \n",
    "    y_train,\n",
    "    epochs = 200,\n",
    "    batch_size = 16,\n",
    "    validation_data = (processed_X_val, y_val)\n",
    ")"
   ]
  },
  {
   "cell_type": "code",
   "execution_count": 14,
   "id": "ad105b9d",
   "metadata": {},
   "outputs": [
    {
     "data": {
      "image/png": "[encoded data removed]",
      "text/plain": [
       "<Figure size 432x288 with 1 Axes>"
      ]
     },
     "metadata": {
      "needs_background": "light"
     },
     "output_type": "display_data"
    },
    {
     "data": {
      "image/png": "[encoded data removed]",
      "text/plain": [
       "<Figure size 432x288 with 1 Axes>"
      ]
     },
     "metadata": {
      "needs_background": "light"
     },
     "output_type": "display_data"
    }
   ],
   "source": [
    "def show_val_metric(history, metric):\n",
    "    train_metrics = history.history[metric]\n",
    "    val_metrics = history.history['val_' + metric]\n",
    "    epochs = range(1, len(train_metrics) + 1)\n",
    "    plt.plot(epochs, train_metrics)\n",
    "    plt.plot(epochs, val_metrics)\n",
    "    plt.title('Training and validation ' + metric)\n",
    "    plt.xlabel(\"Epochs\")\n",
    "    plt.ylabel(metric)\n",
    "    plt.legend([\"train_\" + metric, 'val_' + metric])\n",
    "    plt.show()\n",
    "\n",
    "show_val_metric(model_history, 'loss')\n",
    "show_val_metric(model_history, 'accuracy')"
   ]
  },
  {
   "cell_type": "markdown",
   "id": "57bcacc8",
   "metadata": {},
   "source": [
    "### Convert and save tflite model"
   ]
  },
  {
   "cell_type": "code",
   "execution_count": 143,
   "id": "9917cd38",
   "metadata": {},
   "outputs": [
    {
     "name": "stdout",
     "output_type": "stream",
     "text": [
      "INFO:tensorflow:Assets written to: C:\\Users\\CYBERS~1\\AppData\\Local\\Temp\\tmpf1yha7n6\\assets\n"
     ]
    },
    {
     "name": "stderr",
     "output_type": "stream",
     "text": [
      "INFO:tensorflow:Assets written to: C:\\Users\\CYBERS~1\\AppData\\Local\\Temp\\tmpf1yha7n6\\assets\n",
      "WARNING:absl:Buffer deduplication procedure will be skipped when flatbuffer library is not properly loaded\n"
     ]
    },
    {
     "name": "stdout",
     "output_type": "stream",
     "text": [
      "Done\n"
     ]
    }
   ],
   "source": [
    "converter = tf.lite.TFLiteConverter.from_keras_model(model)\n",
    "tflite_model = converter.convert()\n",
    "ct = time.strftime(\"%Y%m%d-%H%M%S\")\n",
    "open(\"models/converted_model{}.tflite\".format(ct), \"wb\").write(tflite_model)\n",
    "print(\"Done\")"
   ]
  },
  {
   "cell_type": "markdown",
   "id": "621c4c43",
   "metadata": {},
   "source": [
    "## Testing model"
   ]
  },
  {
   "cell_type": "code",
   "execution_count": 16,
   "id": "3604e85e",
   "metadata": {},
   "outputs": [
    {
     "name": "stdout",
     "output_type": "stream",
     "text": [
      "=====================Loss=======================\n",
      "Loss :  0.019436778500676155\n",
      "Accuracy :  0.9950000047683716\n",
      "=====================Accuracy=======================\n",
      "0.995\n",
      "=====================Classification Report=======================\n",
      "                       precision    recall  f1-score   support\n",
      "\n",
      "adho_mukha_shvanasana       1.00      1.00      1.00        24\n",
      "         bhujangasana       1.00      0.93      0.97        15\n",
      "           bidalasana       1.00      1.00      1.00        15\n",
      "          phalakasana       0.96      1.00      0.98        22\n",
      "            ustrasana       1.00      1.00      1.00        22\n",
      "           utkatasana       1.00      1.00      1.00        22\n",
      "      utkata_konasana       1.00      1.00      1.00        24\n",
      "     virabhadrasana_i       1.00      1.00      1.00        16\n",
      "    virabhadrasana_ii       1.00      1.00      1.00        22\n",
      "          vrikshasana       1.00      1.00      1.00        18\n",
      "\n",
      "            micro avg       0.99      0.99      0.99       200\n",
      "            macro avg       1.00      0.99      0.99       200\n",
      "         weighted avg       1.00      0.99      0.99       200\n",
      "          samples avg       0.99      0.99      0.99       200\n",
      "\n",
      "=====================Confusion Matrix=======================\n",
      "[[24  0  0  0  0  0  0  0  0  0]\n",
      " [ 0 14  0  1  0  0  0  0  0  0]\n",
      " [ 0  0 15  0  0  0  0  0  0  0]\n",
      " [ 0  0  0 22  0  0  0  0  0  0]\n",
      " [ 0  0  0  0 22  0  0  0  0  0]\n",
      " [ 0  0  0  0  0 22  0  0  0  0]\n",
      " [ 0  0  0  0  0  0 24  0  0  0]\n",
      " [ 0  0  0  0  0  0  0 16  0  0]\n",
      " [ 0  0  0  0  0  0  0  0 22  0]\n",
      " [ 0  0  0  0  0  0  0  0  0 18]]\n"
     ]
    }
   ],
   "source": [
    "loss, accuracy = model.evaluate(processed_X_test, y_test, verbose = 0)\n",
    "print(\"=====================Loss=======================\")\n",
    "print('Loss : ', loss)\n",
    "print(\"Accuracy : \", accuracy)\n",
    "\n",
    "y_test_pred_model = model.predict(processed_X_test)\n",
    "y_test_pred = np_utils.to_categorical(np.argmax(y_test_pred_model, axis=1))\n",
    "\n",
    "print(\"=====================Accuracy=======================\")\n",
    "print(accuracy_score(y_test, y_test_pred))\n",
    "\n",
    "print(\"=====================Classification Report=======================\")\n",
    "print(classification_report(y_test, y_test_pred, target_names = labels_list))\n",
    "\n",
    "print(\"=====================Confusion Matrix=======================\")\n",
    "y_pred_classes = [labels_list[i] for i in np.argmax(y_test_pred_model, axis=1)]\n",
    "y_test_classes = [labels_list[i] for i in np.argmax(y_test, axis=1)]\n",
    "\n",
    "con_matrix = confusion_matrix(y_test_classes, y_pred_classes, labels=labels_list)\n",
    "print(con_matrix)"
   ]
  },
  {
   "cell_type": "code",
   "execution_count": 19,
   "id": "a4fa60f7",
   "metadata": {},
   "outputs": [
    {
     "data": {
      "image/png": "[encoded data removed]",
      "text/plain": [
       "<Figure size 432x288 with 2 Axes>"
      ]
     },
     "metadata": {
      "needs_background": "light"
     },
     "output_type": "display_data"
    }
   ],
   "source": [
    "import seaborn as snNew\n",
    "import pandas as pdNew\n",
    "import matplotlib.pyplot as pltNew\n",
    "\n",
    "DetaFrame_cm = pdNew.DataFrame(con_matrix, range(10), range(10))\n",
    "snNew.heatmap(DetaFrame_cm, annot=True)\n",
    "pltNew.show()"
   ]
  },
  {
   "cell_type": "code",
   "execution_count": 17,
   "id": "c6ac7119",
   "metadata": {},
   "outputs": [
    {
     "name": "stdout",
     "output_type": "stream",
     "text": [
      "Model: \"sequential\"\n",
      "_________________________________________________________________\n",
      " Layer (type)                Output Shape              Param #   \n",
      "=================================================================\n",
      " dense (Dense)               (None, 128)               8960      \n",
      "                                                                 \n",
      " dropout (Dropout)           (None, 128)               0         \n",
      "                                                                 \n",
      " dense_1 (Dense)             (None, 64)                8256      \n",
      "                                                                 \n",
      " dropout_1 (Dropout)         (None, 64)                0         \n",
      "                                                                 \n",
      " dense_2 (Dense)             (None, 10)                650       \n",
      "                                                                 \n",
      "=================================================================\n",
      "Total params: 17,866\n",
      "Trainable params: 17,866\n",
      "Non-trainable params: 0\n",
      "_________________________________________________________________\n"
     ]
    }
   ],
   "source": [
    "model.summary()"
   ]
  }
 ],
 "metadata": {
  "kernelspec": {
   "display_name": "Python 3 (ipykernel)",
   "language": "python",
   "name": "python3"
  },
  "language_info": {
   "codemirror_mode": {
    "name": "ipython",
    "version": 3
   },
   "file_extension": ".py",
   "mimetype": "text/x-python",
   "name": "python",
   "nbconvert_exporter": "python",
   "pygments_lexer": "ipython3",
   "version": "3.9.12"
  }
 },
 "nbformat": 4,
 "nbformat_minor": 5
}
