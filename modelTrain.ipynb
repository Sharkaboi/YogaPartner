{
 "cells": [
  {
   "cell_type": "markdown",
   "id": "cf7c6760",
   "metadata": {},
   "source": [
    "# YogaPartner\n",
    "\n",
    "Our datasets are in\n",
    "- `.\\data\\v1`\n",
    "- `.\\data\\v2`\n",
    "\n",
    "Our frontend code is in `.\\android`\n",
    "\n",
    "Our generated data goes in `.\\intermediates`"
   ]
  },
  {
   "cell_type": "code",
   "execution_count": 1,
   "id": "c20b9e55",
   "metadata": {},
   "outputs": [],
   "source": [
    "import os\n",
    "import matplotlib.pyplot as plt\n",
    "from pathlib import Path\n",
    "\n",
    "version = 2"
   ]
  },
  {
   "cell_type": "markdown",
   "id": "80dffb78",
   "metadata": {},
   "source": [
    "## Global functions"
   ]
  },
  {
   "cell_type": "code",
   "execution_count": 2,
   "id": "91c1808f",
   "metadata": {},
   "outputs": [],
   "source": [
    "def getPath():\n",
    "    return r\".\\data\\v\" + str(version)\n",
    "\n",
    "def getClasses():\n",
    "    path = getPath()\n",
    "    return os.listdir(path)\n",
    "\n",
    "def getPathOfClass(className):\n",
    "    path = getPath()\n",
    "    return os.path.join(path, className)"
   ]
  },
  {
   "cell_type": "markdown",
   "id": "8039da69",
   "metadata": {},
   "source": [
    "## Dataset stats"
   ]
  },
  {
   "cell_type": "code",
   "execution_count": 3,
   "id": "1e1e5a38",
   "metadata": {},
   "outputs": [
    {
     "name": "stdout",
     "output_type": "stream",
     "text": [
      "Dataset frequency distribution\n",
      "adho_mukha_shvanasana : 435\n",
      "bhujangasana : 668\n",
      "bidalasana : 315\n",
      "phalakasana : 145\n",
      "ustrasana : 66\n",
      "utkatasana : 226\n",
      "utkata_konasana : 209\n",
      "vasisthasana : 148\n",
      "virabhadrasana_i : 221\n",
      "virabhadrasana_ii : 389\n",
      "vrikshasana : 315\n",
      "\n",
      "Image type frequency distribution\n",
      ".jpg : 3094\n",
      ".jpeg : 43\n",
      "\n"
     ]
    }
   ],
   "source": [
    "def visualizeDataSet():\n",
    "    classFolders = getClasses()\n",
    "    counts = []\n",
    "    imageTypes = {}\n",
    "    for classFolder in classFolders:\n",
    "        images = os.listdir(getPathOfClass(classFolder))\n",
    "        count = len(images)\n",
    "        counts.append(count)\n",
    "        for image in images:\n",
    "            image_path = os.path.join(getPathOfClass(classFolder), image)\n",
    "            p = Path(image_path)\n",
    "            ext = p.suffix\n",
    "            imageTypes[ext] = imageTypes.get(ext, 0) + 1\n",
    "\n",
    "    print(\"Dataset frequency distribution\")\n",
    "    for i in range(len(classFolders)):\n",
    "        className = classFolders[i]\n",
    "        count = counts[i]\n",
    "        print(className + \" : \" + str(count))\n",
    "\n",
    "    print()\n",
    "\n",
    "    print(\"Image type frequency distribution\")\n",
    "    for key in imageTypes.keys():\n",
    "        count = imageTypes[key]\n",
    "        print(key + \" : \" + str(count))\n",
    "\n",
    "    print()\n",
    "    \n",
    "visualizeDataSet()"
   ]
  },
  {
   "cell_type": "markdown",
   "id": "d6c39e21",
   "metadata": {},
   "source": [
    "## Cleaning Data"
   ]
  },
  {
   "cell_type": "markdown",
   "id": "d29d2923",
   "metadata": {},
   "source": [
    "### Convert to Jpeg"
   ]
  },
  {
   "cell_type": "code",
   "execution_count": 4,
   "id": "ea9080ab",
   "metadata": {},
   "outputs": [
    {
     "name": "stdout",
     "output_type": "stream",
     "text": [
      "Converted Webp and PNG\n"
     ]
    }
   ],
   "source": [
    "from PIL import Image\n",
    "import os\n",
    "import re\n",
    "from pathlib import Path\n",
    "\n",
    "classFolders = getClasses()\n",
    "for className in classFolders:\n",
    "    class_path = getPathOfClass(className)\n",
    "    files = os.listdir(class_path)\n",
    "    for f in files:\n",
    "        old_path = os.path.join(class_path, f)\n",
    "        p = Path(old_path)\n",
    "        ext = p.suffix\n",
    "        if ext == \".webp\":\n",
    "            print(\"Converting \" + f)\n",
    "            new_file_name = f\"{p.stem}.jepg\"\n",
    "            im = Image.open(old_path).convert(\"RGB\")\n",
    "            new_file_path = os.path.join(class_path, new_file_name)\n",
    "            print(new_file_path)\n",
    "            im.save(new_file_path, \"jepg\")\n",
    "            print(\"Removing \" + f)\n",
    "            os.remove(old_path)\n",
    "        if ext == \".png\":\n",
    "            print(\"Converting \" + f)\n",
    "            new_file_name = f\"{p.stem}.jpg\"\n",
    "            im = Image.open(old_path).convert(\"RGB\")\n",
    "            new_file_path = os.path.join(class_path, new_file_name)\n",
    "            print(new_file_path)\n",
    "            im.save(new_file_path)\n",
    "            print(\"Removing \" + f)\n",
    "            os.remove(old_path)\n",
    "        if ext == \".JPG\":\n",
    "            print(\"Converting \" + f)\n",
    "            new_file_name = f\"{p.stem}.jpg\"\n",
    "            im = Image.open(old_path).convert(\"RGB\")\n",
    "            new_file_path = os.path.join(class_path, new_file_name)\n",
    "            print(new_file_path)\n",
    "            im.save(new_file_path)\n",
    "            print(\"Removing \" + f)\n",
    "            os.remove(old_path)\n",
    "print(\"Converted Webp and PNG\")"
   ]
  },
  {
   "cell_type": "markdown",
   "id": "42a4ce11",
   "metadata": {},
   "source": [
    "### Finding duplicate images"
   ]
  },
  {
   "cell_type": "code",
   "execution_count": null,
   "id": "6d15895d",
   "metadata": {},
   "outputs": [],
   "source": [
    "from difPy import dif\n",
    "import tqdm\n",
    "\n",
    "classFolders = getClasses()\n",
    "for className in tqdm.tqdm(classFolders, position=0):\n",
    "    class_path = getPathOfClass(className)\n",
    "    search = dif(class_path, delete=True)\n",
    "print(\"Completed duplicate image search\")"
   ]
  },
  {
   "cell_type": "markdown",
   "id": "cb47bf0d",
   "metadata": {},
   "source": [
    "### Cleaning up folder names"
   ]
  },
  {
   "cell_type": "code",
   "execution_count": 15,
   "id": "5b6485e8",
   "metadata": {},
   "outputs": [
    {
     "name": "stdout",
     "output_type": "stream",
     "text": [
      "Renamed class names\n"
     ]
    }
   ],
   "source": [
    "import os\n",
    "import re\n",
    "from pathlib import Path\n",
    "\n",
    "classFolders = getClasses()\n",
    "for className in classFolders:\n",
    "    old_path = getPathOfClass(className)\n",
    "    new_name = re.sub(r\"\\s+\", \"_\", className)\n",
    "    if new_name != className:\n",
    "        print(\"Renaming \" + className)\n",
    "    new_path = os.path.join(getPath(), new_name)\n",
    "    os.rename(old_path, new_path)\n",
    "print(\"Renamed class names\")"
   ]
  },
  {
   "cell_type": "markdown",
   "id": "88827041",
   "metadata": {},
   "source": [
    "### Removing non supported images"
   ]
  },
  {
   "cell_type": "code",
   "execution_count": 16,
   "id": "301cc331",
   "metadata": {},
   "outputs": [
    {
     "name": "stdout",
     "output_type": "stream",
     "text": [
      "Finished removing non suporrted images\n"
     ]
    }
   ],
   "source": [
    "from PIL import Image\n",
    "import os\n",
    "import re\n",
    "from pathlib import Path\n",
    "\n",
    "classFolders = getClasses()\n",
    "for className in classFolders:\n",
    "    class_path = getPathOfClass(className)\n",
    "    files = os.listdir(class_path)\n",
    "    count = 1\n",
    "    for f in files:\n",
    "        f_path = os.path.join(class_path, f)\n",
    "        if not (f.endswith(\".jpg\") or f.endswith(\".jpeg\")):\n",
    "            os.remove(f_path)\n",
    "            print(\"Removed \" + f)\n",
    "print(\"Finished removing non suporrted images\")"
   ]
  },
  {
   "cell_type": "markdown",
   "id": "01b27cfc",
   "metadata": {},
   "source": [
    "### Cleaning up file names"
   ]
  },
  {
   "cell_type": "code",
   "execution_count": 22,
   "id": "a540ecaf",
   "metadata": {},
   "outputs": [
    {
     "name": "stdout",
     "output_type": "stream",
     "text": [
      "Renaming adho_mukha_shvanasana_sharkaboi1.jpg\n",
      "Renaming adho_mukha_shvanasana_sharkaboi10.jpg\n",
      "Renaming adho_mukha_shvanasana_sharkaboi100.jpg\n",
      "Renaming adho_mukha_shvanasana_sharkaboi101.jpg\n",
      "Renaming adho_mukha_shvanasana_sharkaboi102.jpg\n",
      "Renaming adho_mukha_shvanasana_sharkaboi103.jpg\n",
      "Renaming adho_mukha_shvanasana_sharkaboi104.jpg\n",
      "Renaming adho_mukha_shvanasana_sharkaboi105.jpg\n",
      "Renaming adho_mukha_shvanasana_sharkaboi106.jpg\n",
      "Renaming adho_mukha_shvanasana_sharkaboi107.jpg\n",
      "Renaming adho_mukha_shvanasana_sharkaboi108.jpg\n",
      "Renaming adho_mukha_shvanasana_sharkaboi109.jpg\n",
      "Renaming adho_mukha_shvanasana_sharkaboi11.jpg\n",
      "Renaming adho_mukha_shvanasana_sharkaboi110.jpg\n",
      "Renaming adho_mukha_shvanasana_sharkaboi111.jpg\n",
      "Renaming adho_mukha_shvanasana_sharkaboi112.jpg\n",
      "Renaming adho_mukha_shvanasana_sharkaboi113.jpg\n",
      "Renaming adho_mukha_shvanasana_sharkaboi114.jpg\n",
      "Renaming adho_mukha_shvanasana_sharkaboi115.jpg\n",
      "Renaming adho_mukha_shvanasana_sharkaboi116.jpg\n",
      "Renaming adho_mukha_shvanasana_sharkaboi117.jpg\n",
      "Renaming adho_mukha_shvanasana_sharkaboi118.jpg\n",
      "Renaming adho_mukha_shvanasana_sharkaboi119.jpg\n",
      "Renaming adho_mukha_shvanasana_sharkaboi12.jpg\n",
      "Renaming adho_mukha_shvanasana_sharkaboi120.jpg\n",
      "Renaming adho_mukha_shvanasana_sharkaboi121.jpg\n",
      "Renaming adho_mukha_shvanasana_sharkaboi122.jpg\n",
      "Renaming adho_mukha_shvanasana_sharkaboi123.jpg\n",
      "Renaming adho_mukha_shvanasana_sharkaboi124.jpg\n",
      "Renaming adho_mukha_shvanasana_sharkaboi125.jpg\n",
      "Renaming adho_mukha_shvanasana_sharkaboi126.jpg\n",
      "Renaming adho_mukha_shvanasana_sharkaboi127.jpg\n",
      "Renaming adho_mukha_shvanasana_sharkaboi128.jpg\n",
      "Renaming adho_mukha_shvanasana_sharkaboi129.jpg\n",
      "Renaming adho_mukha_shvanasana_sharkaboi13.jpg\n",
      "Renaming adho_mukha_shvanasana_sharkaboi130.jpg\n",
      "Renaming adho_mukha_shvanasana_sharkaboi131.jpg\n",
      "Renaming adho_mukha_shvanasana_sharkaboi132.jpg\n",
      "Renaming adho_mukha_shvanasana_sharkaboi133.jpg\n",
      "Renaming adho_mukha_shvanasana_sharkaboi134.jpg\n",
      "Renaming adho_mukha_shvanasana_sharkaboi135.jpg\n",
      "Renaming adho_mukha_shvanasana_sharkaboi136.jpg\n",
      "Renaming adho_mukha_shvanasana_sharkaboi137.jpg\n",
      "Renaming adho_mukha_shvanasana_sharkaboi138.jpg\n",
      "Renaming adho_mukha_shvanasana_sharkaboi139.jpg\n",
      "Renaming adho_mukha_shvanasana_sharkaboi14.jpg\n",
      "Renaming adho_mukha_shvanasana_sharkaboi140.jpg\n",
      "Renaming adho_mukha_shvanasana_sharkaboi141.jpg\n",
      "Renaming adho_mukha_shvanasana_sharkaboi142.jpg\n",
      "Renaming adho_mukha_shvanasana_sharkaboi143.jpg\n",
      "Renaming adho_mukha_shvanasana_sharkaboi144.jpg\n",
      "Renaming adho_mukha_shvanasana_sharkaboi145.jpg\n",
      "Renaming adho_mukha_shvanasana_sharkaboi146.jpg\n",
      "Renaming adho_mukha_shvanasana_sharkaboi147.jpg\n",
      "Renaming adho_mukha_shvanasana_sharkaboi148.jpg\n",
      "Renaming adho_mukha_shvanasana_sharkaboi149.jpg\n",
      "Renaming adho_mukha_shvanasana_sharkaboi15.jpg\n",
      "Renaming adho_mukha_shvanasana_sharkaboi150.jpg\n",
      "Renaming adho_mukha_shvanasana_sharkaboi151.jpg\n",
      "Renaming adho_mukha_shvanasana_sharkaboi152.jpg\n",
      "Renaming adho_mukha_shvanasana_sharkaboi153.jpg\n",
      "Renaming adho_mukha_shvanasana_sharkaboi154.jpg\n",
      "Renaming adho_mukha_shvanasana_sharkaboi155.jpg\n",
      "Renaming adho_mukha_shvanasana_sharkaboi156.jpg\n",
      "Renaming adho_mukha_shvanasana_sharkaboi157.jpg\n",
      "Renaming adho_mukha_shvanasana_sharkaboi158.jpg\n",
      "Renaming adho_mukha_shvanasana_sharkaboi159.jpg\n",
      "Renaming adho_mukha_shvanasana_sharkaboi16.jpg\n",
      "Renaming adho_mukha_shvanasana_sharkaboi160.jpg\n",
      "Renaming adho_mukha_shvanasana_sharkaboi161.jpg\n",
      "Renaming adho_mukha_shvanasana_sharkaboi162.jpg\n",
      "Renaming adho_mukha_shvanasana_sharkaboi163.jpg\n",
      "Renaming adho_mukha_shvanasana_sharkaboi164.jpg\n",
      "Renaming adho_mukha_shvanasana_sharkaboi165.jpg\n",
      "Renaming adho_mukha_shvanasana_sharkaboi166.jpg\n",
      "Renaming adho_mukha_shvanasana_sharkaboi167.jpg\n",
      "Renaming adho_mukha_shvanasana_sharkaboi168.jpg\n",
      "Renaming adho_mukha_shvanasana_sharkaboi169.jpg\n",
      "Renaming adho_mukha_shvanasana_sharkaboi17.jpg\n",
      "Renaming adho_mukha_shvanasana_sharkaboi170.jpg\n",
      "Renaming adho_mukha_shvanasana_sharkaboi171.jpg\n",
      "Renaming adho_mukha_shvanasana_sharkaboi172.jpg\n",
      "Renaming adho_mukha_shvanasana_sharkaboi173.jpg\n",
      "Renaming adho_mukha_shvanasana_sharkaboi174.jpg\n",
      "Renaming adho_mukha_shvanasana_sharkaboi175.jpg\n",
      "Renaming adho_mukha_shvanasana_sharkaboi176.jpg\n",
      "Renaming adho_mukha_shvanasana_sharkaboi177.jpg\n",
      "Renaming adho_mukha_shvanasana_sharkaboi178.jpg\n",
      "Renaming adho_mukha_shvanasana_sharkaboi179.jpg\n",
      "Renaming adho_mukha_shvanasana_sharkaboi18.jpg\n",
      "Renaming adho_mukha_shvanasana_sharkaboi180.jpg\n",
      "Renaming adho_mukha_shvanasana_sharkaboi181.jpg\n",
      "Renaming adho_mukha_shvanasana_sharkaboi182.jpg\n",
      "Renaming adho_mukha_shvanasana_sharkaboi183.jpg\n",
      "Renaming adho_mukha_shvanasana_sharkaboi184.jpg\n",
      "Renaming adho_mukha_shvanasana_sharkaboi185.jpg\n",
      "Renaming adho_mukha_shvanasana_sharkaboi186.jpg\n",
      "Renaming adho_mukha_shvanasana_sharkaboi187.jpg\n",
      "Renaming adho_mukha_shvanasana_sharkaboi188.jpg\n",
      "Renaming adho_mukha_shvanasana_sharkaboi189.jpg\n",
      "Renaming adho_mukha_shvanasana_sharkaboi19.jpg\n",
      "Renaming adho_mukha_shvanasana_sharkaboi190.jpg\n",
      "Renaming adho_mukha_shvanasana_sharkaboi191.jpg\n",
      "Renaming adho_mukha_shvanasana_sharkaboi192.jpg\n",
      "Renaming adho_mukha_shvanasana_sharkaboi193.jpg\n",
      "Renaming adho_mukha_shvanasana_sharkaboi194.jpg\n",
      "Renaming adho_mukha_shvanasana_sharkaboi195.jpg\n",
      "Renaming adho_mukha_shvanasana_sharkaboi196.jpg\n",
      "Renaming adho_mukha_shvanasana_sharkaboi197.jpg\n",
      "Renaming adho_mukha_shvanasana_sharkaboi198.jpg\n",
      "Renaming adho_mukha_shvanasana_sharkaboi199.jpg\n",
      "Renaming adho_mukha_shvanasana_sharkaboi2.jpg\n",
      "Renaming adho_mukha_shvanasana_sharkaboi20.jpg\n",
      "Renaming adho_mukha_shvanasana_sharkaboi200.jpg\n",
      "Renaming adho_mukha_shvanasana_sharkaboi201.jpg\n",
      "Renaming adho_mukha_shvanasana_sharkaboi202.jpg\n",
      "Renaming adho_mukha_shvanasana_sharkaboi203.jpg\n",
      "Renaming adho_mukha_shvanasana_sharkaboi204.jpg\n",
      "Renaming adho_mukha_shvanasana_sharkaboi205.jpg\n",
      "Renaming adho_mukha_shvanasana_sharkaboi206.jpg\n",
      "Renaming adho_mukha_shvanasana_sharkaboi207.jpg\n",
      "Renaming adho_mukha_shvanasana_sharkaboi208.jpg\n",
      "Renaming adho_mukha_shvanasana_sharkaboi209.jpg\n",
      "Renaming adho_mukha_shvanasana_sharkaboi21.jpg\n",
      "Renaming adho_mukha_shvanasana_sharkaboi210.jpg\n",
      "Renaming adho_mukha_shvanasana_sharkaboi211.jpg\n",
      "Renaming adho_mukha_shvanasana_sharkaboi212.jpg\n",
      "Renaming adho_mukha_shvanasana_sharkaboi213.jpg\n",
      "Renaming adho_mukha_shvanasana_sharkaboi214.jpg\n",
      "Renaming adho_mukha_shvanasana_sharkaboi215.jpg\n",
      "Renaming adho_mukha_shvanasana_sharkaboi216.jpg\n",
      "Renaming adho_mukha_shvanasana_sharkaboi217.jpg\n",
      "Renaming adho_mukha_shvanasana_sharkaboi218.jpg\n",
      "Renaming adho_mukha_shvanasana_sharkaboi219.jpg\n",
      "Renaming adho_mukha_shvanasana_sharkaboi22.jpg\n",
      "Renaming adho_mukha_shvanasana_sharkaboi220.jpg\n",
      "Renaming adho_mukha_shvanasana_sharkaboi221.jpg\n",
      "Renaming adho_mukha_shvanasana_sharkaboi222.jpg\n",
      "Renaming adho_mukha_shvanasana_sharkaboi223.jpg\n",
      "Renaming adho_mukha_shvanasana_sharkaboi224.jpg\n",
      "Renaming adho_mukha_shvanasana_sharkaboi225.jpg\n",
      "Renaming adho_mukha_shvanasana_sharkaboi226.jpg\n",
      "Renaming adho_mukha_shvanasana_sharkaboi227.jpg\n",
      "Renaming adho_mukha_shvanasana_sharkaboi228.jpg\n",
      "Renaming adho_mukha_shvanasana_sharkaboi229.jpg\n",
      "Renaming adho_mukha_shvanasana_sharkaboi23.jpg\n",
      "Renaming adho_mukha_shvanasana_sharkaboi230.jpg\n",
      "Renaming adho_mukha_shvanasana_sharkaboi231.jpg\n",
      "Renaming adho_mukha_shvanasana_sharkaboi232.jpg\n",
      "Renaming adho_mukha_shvanasana_sharkaboi233.jpg\n",
      "Renaming adho_mukha_shvanasana_sharkaboi234.jpg\n",
      "Renaming adho_mukha_shvanasana_sharkaboi235.jpg\n",
      "Renaming adho_mukha_shvanasana_sharkaboi236.jpg\n",
      "Renaming adho_mukha_shvanasana_sharkaboi237.jpg\n",
      "Renaming adho_mukha_shvanasana_sharkaboi238.jpg\n",
      "Renaming adho_mukha_shvanasana_sharkaboi239.jpg\n",
      "Renaming adho_mukha_shvanasana_sharkaboi24.jpg\n",
      "Renaming adho_mukha_shvanasana_sharkaboi240.jpg\n",
      "Renaming adho_mukha_shvanasana_sharkaboi241.jpg\n",
      "Renaming adho_mukha_shvanasana_sharkaboi242.jpg\n",
      "Renaming adho_mukha_shvanasana_sharkaboi243.jpg\n",
      "Renaming adho_mukha_shvanasana_sharkaboi244.jpg\n",
      "Renaming adho_mukha_shvanasana_sharkaboi245.jpg\n",
      "Renaming adho_mukha_shvanasana_sharkaboi246.jpg\n",
      "Renaming adho_mukha_shvanasana_sharkaboi247.jpg\n",
      "Renaming adho_mukha_shvanasana_sharkaboi248.jpg\n",
      "Renaming adho_mukha_shvanasana_sharkaboi249.jpg\n",
      "Renaming adho_mukha_shvanasana_sharkaboi25.jpg\n",
      "Renaming adho_mukha_shvanasana_sharkaboi250.jpg\n",
      "Renaming adho_mukha_shvanasana_sharkaboi251.jpg\n",
      "Renaming adho_mukha_shvanasana_sharkaboi252.jpg\n",
      "Renaming adho_mukha_shvanasana_sharkaboi253.jpg\n",
      "Renaming adho_mukha_shvanasana_sharkaboi254.jpg\n",
      "Renaming adho_mukha_shvanasana_sharkaboi255.jpg\n",
      "Renaming adho_mukha_shvanasana_sharkaboi256.jpg\n",
      "Renaming adho_mukha_shvanasana_sharkaboi257.jpg\n",
      "Renaming adho_mukha_shvanasana_sharkaboi258.jpg\n",
      "Renaming adho_mukha_shvanasana_sharkaboi259.jpg\n",
      "Renaming adho_mukha_shvanasana_sharkaboi26.jpg\n",
      "Renaming adho_mukha_shvanasana_sharkaboi260.jpg\n",
      "Renaming adho_mukha_shvanasana_sharkaboi261.jpg\n",
      "Renaming adho_mukha_shvanasana_sharkaboi262.jpg\n",
      "Renaming adho_mukha_shvanasana_sharkaboi263.jpg\n",
      "Renaming adho_mukha_shvanasana_sharkaboi264.jpg\n",
      "Renaming adho_mukha_shvanasana_sharkaboi265.jpg\n",
      "Renaming adho_mukha_shvanasana_sharkaboi266.jpg\n",
      "Renaming adho_mukha_shvanasana_sharkaboi267.jpg\n",
      "Renaming adho_mukha_shvanasana_sharkaboi268.jpg\n",
      "Renaming adho_mukha_shvanasana_sharkaboi269.jpg\n",
      "Renaming adho_mukha_shvanasana_sharkaboi27.jpg\n",
      "Renaming adho_mukha_shvanasana_sharkaboi270.jpg\n",
      "Renaming adho_mukha_shvanasana_sharkaboi271.jpg\n",
      "Renaming adho_mukha_shvanasana_sharkaboi272.jpg\n",
      "Renaming adho_mukha_shvanasana_sharkaboi273.jpg\n",
      "Renaming adho_mukha_shvanasana_sharkaboi274.jpg\n",
      "Renaming adho_mukha_shvanasana_sharkaboi275.jpg\n",
      "Renaming adho_mukha_shvanasana_sharkaboi276.jpg\n",
      "Renaming adho_mukha_shvanasana_sharkaboi277.jpg\n",
      "Renaming adho_mukha_shvanasana_sharkaboi278.jpg\n",
      "Renaming adho_mukha_shvanasana_sharkaboi279.jpg\n",
      "Renaming adho_mukha_shvanasana_sharkaboi28.jpg\n",
      "Renaming adho_mukha_shvanasana_sharkaboi280.jpg\n",
      "Renaming adho_mukha_shvanasana_sharkaboi281.jpg\n",
      "Renaming adho_mukha_shvanasana_sharkaboi282.jpg\n",
      "Renaming adho_mukha_shvanasana_sharkaboi283.jpg\n",
      "Renaming adho_mukha_shvanasana_sharkaboi284.jpg\n",
      "Renaming adho_mukha_shvanasana_sharkaboi285.jpg\n",
      "Renaming adho_mukha_shvanasana_sharkaboi286.jpg\n",
      "Renaming adho_mukha_shvanasana_sharkaboi287.jpg\n",
      "Renaming adho_mukha_shvanasana_sharkaboi288.jpg\n",
      "Renaming adho_mukha_shvanasana_sharkaboi289.jpg\n",
      "Renaming adho_mukha_shvanasana_sharkaboi29.jpg\n",
      "Renaming adho_mukha_shvanasana_sharkaboi290.jpg\n",
      "Renaming adho_mukha_shvanasana_sharkaboi291.jpg\n",
      "Renaming adho_mukha_shvanasana_sharkaboi292.jpg\n",
      "Renaming adho_mukha_shvanasana_sharkaboi293.jpg\n",
      "Renaming adho_mukha_shvanasana_sharkaboi294.jpg\n",
      "Renaming adho_mukha_shvanasana_sharkaboi295.jpg\n",
      "Renaming adho_mukha_shvanasana_sharkaboi296.jpg\n",
      "Renaming adho_mukha_shvanasana_sharkaboi297.jpg\n",
      "Renaming adho_mukha_shvanasana_sharkaboi298.jpg\n",
      "Renaming adho_mukha_shvanasana_sharkaboi299.jpg\n",
      "Renaming adho_mukha_shvanasana_sharkaboi3.jpg\n",
      "Renaming adho_mukha_shvanasana_sharkaboi30.jpg\n",
      "Renaming adho_mukha_shvanasana_sharkaboi300.jpg\n",
      "Renaming adho_mukha_shvanasana_sharkaboi301.jpg\n",
      "Renaming adho_mukha_shvanasana_sharkaboi302.jpg\n",
      "Renaming adho_mukha_shvanasana_sharkaboi303.jpg\n",
      "Renaming adho_mukha_shvanasana_sharkaboi304.jpg\n",
      "Renaming adho_mukha_shvanasana_sharkaboi305.jpg\n",
      "Renaming adho_mukha_shvanasana_sharkaboi306.jpg\n",
      "Renaming adho_mukha_shvanasana_sharkaboi307.jpg\n",
      "Renaming adho_mukha_shvanasana_sharkaboi308.jpg\n",
      "Renaming adho_mukha_shvanasana_sharkaboi309.jpg\n",
      "Renaming adho_mukha_shvanasana_sharkaboi31.jpg\n",
      "Renaming adho_mukha_shvanasana_sharkaboi310.jpg\n",
      "Renaming adho_mukha_shvanasana_sharkaboi311.jpg\n",
      "Renaming adho_mukha_shvanasana_sharkaboi312.jpg\n",
      "Renaming adho_mukha_shvanasana_sharkaboi313.jpg\n",
      "Renaming adho_mukha_shvanasana_sharkaboi314.jpg\n",
      "Renaming adho_mukha_shvanasana_sharkaboi315.jpg\n",
      "Renaming adho_mukha_shvanasana_sharkaboi316.jpg\n",
      "Renaming adho_mukha_shvanasana_sharkaboi317.jpg\n",
      "Renaming adho_mukha_shvanasana_sharkaboi318.jpg\n",
      "Renaming adho_mukha_shvanasana_sharkaboi319.jpg\n",
      "Renaming adho_mukha_shvanasana_sharkaboi32.jpg\n",
      "Renaming adho_mukha_shvanasana_sharkaboi320.jpg\n",
      "Renaming adho_mukha_shvanasana_sharkaboi321.jpg\n",
      "Renaming adho_mukha_shvanasana_sharkaboi322.jpg\n",
      "Renaming adho_mukha_shvanasana_sharkaboi323.jpg\n",
      "Renaming adho_mukha_shvanasana_sharkaboi324.jpg\n",
      "Renaming adho_mukha_shvanasana_sharkaboi325.jpg\n",
      "Renaming adho_mukha_shvanasana_sharkaboi326.jpg\n",
      "Renaming adho_mukha_shvanasana_sharkaboi327.jpg\n",
      "Renaming adho_mukha_shvanasana_sharkaboi328.jpg\n",
      "Renaming adho_mukha_shvanasana_sharkaboi329.jpg\n",
      "Renaming adho_mukha_shvanasana_sharkaboi33.jpg\n",
      "Renaming adho_mukha_shvanasana_sharkaboi330.jpg\n",
      "Renaming adho_mukha_shvanasana_sharkaboi331.jpg\n",
      "Renaming adho_mukha_shvanasana_sharkaboi332.jpg\n",
      "Renaming adho_mukha_shvanasana_sharkaboi333.jpg\n",
      "Renaming adho_mukha_shvanasana_sharkaboi334.jpg\n",
      "Renaming adho_mukha_shvanasana_sharkaboi335.jpg\n",
      "Renaming adho_mukha_shvanasana_sharkaboi336.jpg\n",
      "Renaming adho_mukha_shvanasana_sharkaboi337.jpg\n",
      "Renaming adho_mukha_shvanasana_sharkaboi338.jpg\n",
      "Renaming adho_mukha_shvanasana_sharkaboi339.jpg\n",
      "Renaming adho_mukha_shvanasana_sharkaboi34.jpg\n",
      "Renaming adho_mukha_shvanasana_sharkaboi340.jpg\n",
      "Renaming adho_mukha_shvanasana_sharkaboi341.jpg\n",
      "Renaming adho_mukha_shvanasana_sharkaboi342.jpg\n",
      "Renaming adho_mukha_shvanasana_sharkaboi343.jpg\n",
      "Renaming adho_mukha_shvanasana_sharkaboi344.jpg\n",
      "Renaming adho_mukha_shvanasana_sharkaboi345.jpg\n",
      "Renaming adho_mukha_shvanasana_sharkaboi346.jpg\n",
      "Renaming adho_mukha_shvanasana_sharkaboi347.jpg\n",
      "Renaming adho_mukha_shvanasana_sharkaboi348.jpg\n",
      "Renaming adho_mukha_shvanasana_sharkaboi349.jpg\n",
      "Renaming adho_mukha_shvanasana_sharkaboi35.jpg\n",
      "Renaming adho_mukha_shvanasana_sharkaboi350.jpg\n",
      "Renaming adho_mukha_shvanasana_sharkaboi351.jpg\n",
      "Renaming adho_mukha_shvanasana_sharkaboi352.jpg\n",
      "Renaming adho_mukha_shvanasana_sharkaboi353.jpg\n",
      "Renaming adho_mukha_shvanasana_sharkaboi354.jpg\n",
      "Renaming adho_mukha_shvanasana_sharkaboi355.jpg\n",
      "Renaming adho_mukha_shvanasana_sharkaboi356.jpg\n",
      "Renaming adho_mukha_shvanasana_sharkaboi357.jpg\n",
      "Renaming adho_mukha_shvanasana_sharkaboi358.jpg\n",
      "Renaming adho_mukha_shvanasana_sharkaboi359.jpg\n",
      "Renaming adho_mukha_shvanasana_sharkaboi36.jpg\n",
      "Renaming adho_mukha_shvanasana_sharkaboi360.jpg\n",
      "Renaming adho_mukha_shvanasana_sharkaboi361.jpg\n",
      "Renaming adho_mukha_shvanasana_sharkaboi362.jpg\n",
      "Renaming adho_mukha_shvanasana_sharkaboi363.jpg\n",
      "Renaming adho_mukha_shvanasana_sharkaboi364.jpg\n",
      "Renaming adho_mukha_shvanasana_sharkaboi365.jpg\n",
      "Renaming adho_mukha_shvanasana_sharkaboi366.jpg\n",
      "Renaming adho_mukha_shvanasana_sharkaboi367.jpg\n",
      "Renaming adho_mukha_shvanasana_sharkaboi368.jpg\n",
      "Renaming adho_mukha_shvanasana_sharkaboi369.jpg\n",
      "Renaming adho_mukha_shvanasana_sharkaboi37.jpg\n",
      "Renaming adho_mukha_shvanasana_sharkaboi370.jpg\n",
      "Renaming adho_mukha_shvanasana_sharkaboi371.jpg\n",
      "Renaming adho_mukha_shvanasana_sharkaboi372.jpg\n",
      "Renaming adho_mukha_shvanasana_sharkaboi373.jpg\n",
      "Renaming adho_mukha_shvanasana_sharkaboi374.jpg\n",
      "Renaming adho_mukha_shvanasana_sharkaboi375.jpg\n",
      "Renaming adho_mukha_shvanasana_sharkaboi376.jpg\n",
      "Renaming adho_mukha_shvanasana_sharkaboi377.jpg\n",
      "Renaming adho_mukha_shvanasana_sharkaboi378.jpg\n",
      "Renaming adho_mukha_shvanasana_sharkaboi379.jpg\n",
      "Renaming adho_mukha_shvanasana_sharkaboi38.jpg\n",
      "Renaming adho_mukha_shvanasana_sharkaboi380.jpg\n",
      "Renaming adho_mukha_shvanasana_sharkaboi381.jpg\n",
      "Renaming adho_mukha_shvanasana_sharkaboi382.jpg\n",
      "Renaming adho_mukha_shvanasana_sharkaboi383.jpg\n"
     ]
    },
    {
     "name": "stdout",
     "output_type": "stream",
     "text": [
      "Renaming adho_mukha_shvanasana_sharkaboi384.jpg\n",
      "Renaming adho_mukha_shvanasana_sharkaboi385.jpg\n",
      "Renaming adho_mukha_shvanasana_sharkaboi386.jpg\n",
      "Renaming adho_mukha_shvanasana_sharkaboi387.jpg\n",
      "Renaming adho_mukha_shvanasana_sharkaboi388.jpg\n",
      "Renaming adho_mukha_shvanasana_sharkaboi389.jpg\n",
      "Renaming adho_mukha_shvanasana_sharkaboi39.jpg\n",
      "Renaming adho_mukha_shvanasana_sharkaboi390.jpg\n",
      "Renaming adho_mukha_shvanasana_sharkaboi391.jpg\n",
      "Renaming adho_mukha_shvanasana_sharkaboi392.jpg\n",
      "Renaming adho_mukha_shvanasana_sharkaboi393.jpg\n",
      "Renaming adho_mukha_shvanasana_sharkaboi394.jpg\n",
      "Renaming adho_mukha_shvanasana_sharkaboi395.jpg\n",
      "Renaming adho_mukha_shvanasana_sharkaboi396.jpg\n",
      "Renaming adho_mukha_shvanasana_sharkaboi397.jpg\n",
      "Renaming adho_mukha_shvanasana_sharkaboi398.jpg\n",
      "Renaming adho_mukha_shvanasana_sharkaboi399.jpg\n",
      "Renaming adho_mukha_shvanasana_sharkaboi4.jpg\n",
      "Renaming adho_mukha_shvanasana_sharkaboi40.jpg\n",
      "Renaming adho_mukha_shvanasana_sharkaboi400.jpg\n",
      "Renaming adho_mukha_shvanasana_sharkaboi401.jpg\n",
      "Renaming adho_mukha_shvanasana_sharkaboi402.jpg\n",
      "Renaming adho_mukha_shvanasana_sharkaboi403.jpg\n",
      "Renaming adho_mukha_shvanasana_sharkaboi404.jpg\n",
      "Renaming adho_mukha_shvanasana_sharkaboi405.jpg\n",
      "Renaming adho_mukha_shvanasana_sharkaboi406.jpg\n",
      "Renaming adho_mukha_shvanasana_sharkaboi407.jpg\n",
      "Renaming adho_mukha_shvanasana_sharkaboi408.jpg\n",
      "Renaming adho_mukha_shvanasana_sharkaboi409.jpg\n",
      "Renaming adho_mukha_shvanasana_sharkaboi41.jpg\n",
      "Renaming adho_mukha_shvanasana_sharkaboi410.jpg\n",
      "Renaming adho_mukha_shvanasana_sharkaboi411.jpg\n",
      "Renaming adho_mukha_shvanasana_sharkaboi412.jpg\n",
      "Renaming adho_mukha_shvanasana_sharkaboi413.jpg\n",
      "Renaming adho_mukha_shvanasana_sharkaboi414.jpg\n",
      "Renaming adho_mukha_shvanasana_sharkaboi415.jpg\n",
      "Renaming adho_mukha_shvanasana_sharkaboi416.jpg\n",
      "Renaming adho_mukha_shvanasana_sharkaboi417.jpg\n",
      "Renaming adho_mukha_shvanasana_sharkaboi418.jpg\n",
      "Renaming adho_mukha_shvanasana_sharkaboi419.jpg\n",
      "Renaming adho_mukha_shvanasana_sharkaboi42.jpg\n",
      "Renaming adho_mukha_shvanasana_sharkaboi420.jpg\n",
      "Renaming adho_mukha_shvanasana_sharkaboi421.jpg\n",
      "Renaming adho_mukha_shvanasana_sharkaboi422.jpg\n",
      "Renaming adho_mukha_shvanasana_sharkaboi423.jpg\n",
      "Renaming adho_mukha_shvanasana_sharkaboi424.jpg\n",
      "Renaming adho_mukha_shvanasana_sharkaboi425.jpg\n",
      "Renaming adho_mukha_shvanasana_sharkaboi426.jpg\n",
      "Renaming adho_mukha_shvanasana_sharkaboi427.jpg\n",
      "Renaming adho_mukha_shvanasana_sharkaboi428.jpg\n",
      "Renaming adho_mukha_shvanasana_sharkaboi429.jpg\n",
      "Renaming adho_mukha_shvanasana_sharkaboi43.jpg\n",
      "Renaming adho_mukha_shvanasana_sharkaboi430.jpg\n",
      "Renaming adho_mukha_shvanasana_sharkaboi431.jpg\n",
      "Renaming adho_mukha_shvanasana_sharkaboi432.jpg\n",
      "Renaming adho_mukha_shvanasana_sharkaboi433.jpg\n",
      "Renaming adho_mukha_shvanasana_sharkaboi434.jpg\n",
      "Renaming adho_mukha_shvanasana_sharkaboi435.jpg\n",
      "Renaming adho_mukha_shvanasana_sharkaboi44.jpg\n",
      "Renaming adho_mukha_shvanasana_sharkaboi45.jpg\n",
      "Renaming adho_mukha_shvanasana_sharkaboi46.jpg\n",
      "Renaming adho_mukha_shvanasana_sharkaboi47.jpg\n",
      "Renaming adho_mukha_shvanasana_sharkaboi48.jpg\n",
      "Renaming adho_mukha_shvanasana_sharkaboi49.jpg\n",
      "Renaming adho_mukha_shvanasana_sharkaboi5.jpg\n",
      "Renaming adho_mukha_shvanasana_sharkaboi50.jpg\n",
      "Renaming adho_mukha_shvanasana_sharkaboi51.jpg\n",
      "Renaming adho_mukha_shvanasana_sharkaboi52.jpg\n",
      "Renaming adho_mukha_shvanasana_sharkaboi53.jpg\n",
      "Renaming adho_mukha_shvanasana_sharkaboi54.jpg\n",
      "Renaming adho_mukha_shvanasana_sharkaboi55.jpg\n",
      "Renaming adho_mukha_shvanasana_sharkaboi56.jpg\n",
      "Renaming adho_mukha_shvanasana_sharkaboi57.jpg\n",
      "Renaming adho_mukha_shvanasana_sharkaboi58.jpg\n",
      "Renaming adho_mukha_shvanasana_sharkaboi59.jpg\n",
      "Renaming adho_mukha_shvanasana_sharkaboi6.jpg\n",
      "Renaming adho_mukha_shvanasana_sharkaboi60.jpg\n",
      "Renaming adho_mukha_shvanasana_sharkaboi61.jpg\n",
      "Renaming adho_mukha_shvanasana_sharkaboi62.jpg\n",
      "Renaming adho_mukha_shvanasana_sharkaboi63.jpg\n",
      "Renaming adho_mukha_shvanasana_sharkaboi64.jpg\n",
      "Renaming adho_mukha_shvanasana_sharkaboi65.jpg\n",
      "Renaming adho_mukha_shvanasana_sharkaboi66.jpg\n",
      "Renaming adho_mukha_shvanasana_sharkaboi67.jpg\n",
      "Renaming adho_mukha_shvanasana_sharkaboi68.jpg\n",
      "Renaming adho_mukha_shvanasana_sharkaboi69.jpg\n",
      "Renaming adho_mukha_shvanasana_sharkaboi7.jpg\n",
      "Renaming adho_mukha_shvanasana_sharkaboi70.jpg\n",
      "Renaming adho_mukha_shvanasana_sharkaboi71.jpg\n",
      "Renaming adho_mukha_shvanasana_sharkaboi72.jpg\n",
      "Renaming adho_mukha_shvanasana_sharkaboi73.jpg\n",
      "Renaming adho_mukha_shvanasana_sharkaboi74.jpg\n",
      "Renaming adho_mukha_shvanasana_sharkaboi75.jpg\n",
      "Renaming adho_mukha_shvanasana_sharkaboi76.jpg\n",
      "Renaming adho_mukha_shvanasana_sharkaboi77.jpg\n",
      "Renaming adho_mukha_shvanasana_sharkaboi78.jpg\n",
      "Renaming adho_mukha_shvanasana_sharkaboi79.jpg\n",
      "Renaming adho_mukha_shvanasana_sharkaboi8.jpg\n",
      "Renaming adho_mukha_shvanasana_sharkaboi80.jpg\n",
      "Renaming adho_mukha_shvanasana_sharkaboi81.jpg\n",
      "Renaming adho_mukha_shvanasana_sharkaboi82.jpg\n",
      "Renaming adho_mukha_shvanasana_sharkaboi83.jpg\n",
      "Renaming adho_mukha_shvanasana_sharkaboi84.jpg\n",
      "Renaming adho_mukha_shvanasana_sharkaboi85.jpg\n",
      "Renaming adho_mukha_shvanasana_sharkaboi86.jpg\n",
      "Renaming adho_mukha_shvanasana_sharkaboi87.jpg\n",
      "Renaming adho_mukha_shvanasana_sharkaboi88.jpg\n",
      "Renaming adho_mukha_shvanasana_sharkaboi89.jpg\n",
      "Renaming adho_mukha_shvanasana_sharkaboi9.jpg\n",
      "Renaming adho_mukha_shvanasana_sharkaboi90.jpg\n",
      "Renaming adho_mukha_shvanasana_sharkaboi91.jpg\n",
      "Renaming adho_mukha_shvanasana_sharkaboi92.jpg\n",
      "Renaming adho_mukha_shvanasana_sharkaboi93.jpg\n",
      "Renaming adho_mukha_shvanasana_sharkaboi94.jpg\n",
      "Renaming adho_mukha_shvanasana_sharkaboi95.jpg\n",
      "Renaming adho_mukha_shvanasana_sharkaboi96.jpg\n",
      "Renaming adho_mukha_shvanasana_sharkaboi97.jpg\n",
      "Renaming adho_mukha_shvanasana_sharkaboi98.jpg\n",
      "Renaming adho_mukha_shvanasana_sharkaboi99.jpg\n",
      "Renaming bhujangasana_sharkaboi1.jpg\n",
      "Renaming bhujangasana_sharkaboi10.jpg\n",
      "Renaming bhujangasana_sharkaboi100.jpg\n",
      "Renaming bhujangasana_sharkaboi101.jpg\n",
      "Renaming bhujangasana_sharkaboi102.jpg\n",
      "Renaming bhujangasana_sharkaboi103.jpg\n",
      "Renaming bhujangasana_sharkaboi104.jpg\n",
      "Renaming bhujangasana_sharkaboi105.jpg\n",
      "Renaming bhujangasana_sharkaboi106.jpg\n",
      "Renaming bhujangasana_sharkaboi107.jpg\n",
      "Renaming bhujangasana_sharkaboi108.jpg\n",
      "Renaming bhujangasana_sharkaboi109.jpg\n",
      "Renaming bhujangasana_sharkaboi11.jpg\n",
      "Renaming bhujangasana_sharkaboi110.jpg\n",
      "Renaming bhujangasana_sharkaboi111.jpg\n",
      "Renaming bhujangasana_sharkaboi112.jpg\n",
      "Renaming bhujangasana_sharkaboi113.jpg\n",
      "Renaming bhujangasana_sharkaboi114.jpg\n",
      "Renaming bhujangasana_sharkaboi115.jpg\n",
      "Renaming bhujangasana_sharkaboi116.jpg\n",
      "Renaming bhujangasana_sharkaboi117.jpg\n",
      "Renaming bhujangasana_sharkaboi118.jpg\n",
      "Renaming bhujangasana_sharkaboi119.jpg\n",
      "Renaming bhujangasana_sharkaboi12.jpg\n",
      "Renaming bhujangasana_sharkaboi120.jpg\n",
      "Renaming bhujangasana_sharkaboi121.jpg\n",
      "Renaming bhujangasana_sharkaboi122.jpg\n",
      "Renaming bhujangasana_sharkaboi123.jpg\n",
      "Renaming bhujangasana_sharkaboi124.jpg\n",
      "Renaming bhujangasana_sharkaboi125.jpg\n",
      "Renaming bhujangasana_sharkaboi126.jpg\n",
      "Renaming bhujangasana_sharkaboi127.jpg\n",
      "Renaming bhujangasana_sharkaboi128.jpg\n",
      "Renaming bhujangasana_sharkaboi129.jpg\n",
      "Renaming bhujangasana_sharkaboi13.jpg\n",
      "Renaming bhujangasana_sharkaboi130.jpg\n",
      "Renaming bhujangasana_sharkaboi131.jpg\n",
      "Renaming bhujangasana_sharkaboi132.jpg\n",
      "Renaming bhujangasana_sharkaboi133.jpg\n",
      "Renaming bhujangasana_sharkaboi134.jpg\n",
      "Renaming bhujangasana_sharkaboi135.jpg\n",
      "Renaming bhujangasana_sharkaboi136.jpg\n",
      "Renaming bhujangasana_sharkaboi137.jpg\n",
      "Renaming bhujangasana_sharkaboi138.jpg\n",
      "Renaming bhujangasana_sharkaboi139.jpg\n",
      "Renaming bhujangasana_sharkaboi14.jpg\n",
      "Renaming bhujangasana_sharkaboi140.jpg\n",
      "Renaming bhujangasana_sharkaboi141.jpg\n",
      "Renaming bhujangasana_sharkaboi142.jpg\n",
      "Renaming bhujangasana_sharkaboi143.jpg\n",
      "Renaming bhujangasana_sharkaboi144.jpg\n",
      "Renaming bhujangasana_sharkaboi145.jpg\n",
      "Renaming bhujangasana_sharkaboi146.jpg\n",
      "Renaming bhujangasana_sharkaboi147.jpg\n",
      "Renaming bhujangasana_sharkaboi148.jpg\n",
      "Renaming bhujangasana_sharkaboi149.jpg\n",
      "Renaming bhujangasana_sharkaboi15.jpg\n",
      "Renaming bhujangasana_sharkaboi150.jpg\n",
      "Renaming bhujangasana_sharkaboi151.jpg\n",
      "Renaming bhujangasana_sharkaboi152.jpg\n",
      "Renaming bhujangasana_sharkaboi153.jpg\n",
      "Renaming bhujangasana_sharkaboi154.jpg\n",
      "Renaming bhujangasana_sharkaboi155.jpg\n",
      "Renaming bhujangasana_sharkaboi156.jpg\n",
      "Renaming bhujangasana_sharkaboi157.jpg\n",
      "Renaming bhujangasana_sharkaboi158.jpg\n",
      "Renaming bhujangasana_sharkaboi159.jpg\n",
      "Renaming bhujangasana_sharkaboi16.jpg\n",
      "Renaming bhujangasana_sharkaboi160.jpg\n",
      "Renaming bhujangasana_sharkaboi161.jpg\n",
      "Renaming bhujangasana_sharkaboi162.jpg\n",
      "Renaming bhujangasana_sharkaboi163.jpg\n",
      "Renaming bhujangasana_sharkaboi164.jpg\n",
      "Renaming bhujangasana_sharkaboi165.jpg\n",
      "Renaming bhujangasana_sharkaboi166.jpg\n",
      "Renaming bhujangasana_sharkaboi167.jpg\n",
      "Renaming bhujangasana_sharkaboi168.jpg\n",
      "Renaming bhujangasana_sharkaboi169.jpg\n",
      "Renaming bhujangasana_sharkaboi17.jpg\n",
      "Renaming bhujangasana_sharkaboi170.jpg\n",
      "Renaming bhujangasana_sharkaboi171.jpg\n",
      "Renaming bhujangasana_sharkaboi172.jpg\n",
      "Renaming bhujangasana_sharkaboi173.jpg\n",
      "Renaming bhujangasana_sharkaboi174.jpg\n",
      "Renaming bhujangasana_sharkaboi175.jpg\n",
      "Renaming bhujangasana_sharkaboi176.jpg\n",
      "Renaming bhujangasana_sharkaboi177.jpg\n",
      "Renaming bhujangasana_sharkaboi178.jpg\n",
      "Renaming bhujangasana_sharkaboi179.jpg\n",
      "Renaming bhujangasana_sharkaboi18.jpg\n",
      "Renaming bhujangasana_sharkaboi180.jpg\n",
      "Renaming bhujangasana_sharkaboi181.jpg\n",
      "Renaming bhujangasana_sharkaboi182.jpg\n",
      "Renaming bhujangasana_sharkaboi183.jpg\n",
      "Renaming bhujangasana_sharkaboi184.jpg\n",
      "Renaming bhujangasana_sharkaboi185.jpg\n",
      "Renaming bhujangasana_sharkaboi186.jpg\n",
      "Renaming bhujangasana_sharkaboi187.jpg\n",
      "Renaming bhujangasana_sharkaboi188.jpg\n",
      "Renaming bhujangasana_sharkaboi189.jpg\n",
      "Renaming bhujangasana_sharkaboi19.jpg\n",
      "Renaming bhujangasana_sharkaboi190.jpg\n",
      "Renaming bhujangasana_sharkaboi191.jpg\n",
      "Renaming bhujangasana_sharkaboi192.jpg\n",
      "Renaming bhujangasana_sharkaboi193.jpg\n",
      "Renaming bhujangasana_sharkaboi194.jpg\n",
      "Renaming bhujangasana_sharkaboi195.jpg\n",
      "Renaming bhujangasana_sharkaboi196.jpg\n",
      "Renaming bhujangasana_sharkaboi197.jpg\n",
      "Renaming bhujangasana_sharkaboi198.jpg\n",
      "Renaming bhujangasana_sharkaboi199.jpg\n",
      "Renaming bhujangasana_sharkaboi2.jpg\n",
      "Renaming bhujangasana_sharkaboi20.jpg\n",
      "Renaming bhujangasana_sharkaboi200.jpg\n",
      "Renaming bhujangasana_sharkaboi201.jpg\n",
      "Renaming bhujangasana_sharkaboi202.jpg\n",
      "Renaming bhujangasana_sharkaboi203.jpg\n",
      "Renaming bhujangasana_sharkaboi204.jpg\n",
      "Renaming bhujangasana_sharkaboi205.jpg\n",
      "Renaming bhujangasana_sharkaboi206.jpg\n",
      "Renaming bhujangasana_sharkaboi207.jpg\n",
      "Renaming bhujangasana_sharkaboi208.jpg\n",
      "Renaming bhujangasana_sharkaboi209.jpg\n",
      "Renaming bhujangasana_sharkaboi21.jpg\n",
      "Renaming bhujangasana_sharkaboi210.jpg\n",
      "Renaming bhujangasana_sharkaboi211.jpg\n",
      "Renaming bhujangasana_sharkaboi212.jpg\n",
      "Renaming bhujangasana_sharkaboi213.jpg\n",
      "Renaming bhujangasana_sharkaboi214.jpg\n",
      "Renaming bhujangasana_sharkaboi215.jpg\n",
      "Renaming bhujangasana_sharkaboi216.jpg\n",
      "Renaming bhujangasana_sharkaboi217.jpg\n",
      "Renaming bhujangasana_sharkaboi218.jpg\n",
      "Renaming bhujangasana_sharkaboi219.jpg\n",
      "Renaming bhujangasana_sharkaboi22.jpg\n",
      "Renaming bhujangasana_sharkaboi220.jpg\n",
      "Renaming bhujangasana_sharkaboi221.jpg\n",
      "Renaming bhujangasana_sharkaboi222.jpg\n",
      "Renaming bhujangasana_sharkaboi223.jpg\n",
      "Renaming bhujangasana_sharkaboi224.jpg\n",
      "Renaming bhujangasana_sharkaboi225.jpg\n",
      "Renaming bhujangasana_sharkaboi226.jpg\n",
      "Renaming bhujangasana_sharkaboi227.jpg\n",
      "Renaming bhujangasana_sharkaboi228.jpg\n",
      "Renaming bhujangasana_sharkaboi229.jpg\n",
      "Renaming bhujangasana_sharkaboi23.jpg\n",
      "Renaming bhujangasana_sharkaboi230.jpg\n",
      "Renaming bhujangasana_sharkaboi231.jpg\n",
      "Renaming bhujangasana_sharkaboi232.jpg\n",
      "Renaming bhujangasana_sharkaboi233.jpg\n",
      "Renaming bhujangasana_sharkaboi234.jpg\n",
      "Renaming bhujangasana_sharkaboi235.jpg\n",
      "Renaming bhujangasana_sharkaboi236.jpg\n",
      "Renaming bhujangasana_sharkaboi237.jpg\n",
      "Renaming bhujangasana_sharkaboi238.jpg\n",
      "Renaming bhujangasana_sharkaboi239.jpg\n",
      "Renaming bhujangasana_sharkaboi24.jpg\n",
      "Renaming bhujangasana_sharkaboi240.jpg\n",
      "Renaming bhujangasana_sharkaboi241.jpg\n",
      "Renaming bhujangasana_sharkaboi242.jpg\n",
      "Renaming bhujangasana_sharkaboi243.jpg\n",
      "Renaming bhujangasana_sharkaboi244.jpg\n",
      "Renaming bhujangasana_sharkaboi245.jpg\n",
      "Renaming bhujangasana_sharkaboi246.jpg\n",
      "Renaming bhujangasana_sharkaboi247.jpg\n",
      "Renaming bhujangasana_sharkaboi248.jpg\n",
      "Renaming bhujangasana_sharkaboi249.jpg\n",
      "Renaming bhujangasana_sharkaboi25.jpg\n",
      "Renaming bhujangasana_sharkaboi250.jpg\n",
      "Renaming bhujangasana_sharkaboi251.jpg\n",
      "Renaming bhujangasana_sharkaboi252.jpg\n",
      "Renaming bhujangasana_sharkaboi253.jpg\n",
      "Renaming bhujangasana_sharkaboi254.jpg\n",
      "Renaming bhujangasana_sharkaboi255.jpg\n",
      "Renaming bhujangasana_sharkaboi256.jpg\n",
      "Renaming bhujangasana_sharkaboi257.jpg\n",
      "Renaming bhujangasana_sharkaboi258.jpg\n",
      "Renaming bhujangasana_sharkaboi259.jpg\n",
      "Renaming bhujangasana_sharkaboi26.jpg\n",
      "Renaming bhujangasana_sharkaboi260.jpg\n",
      "Renaming bhujangasana_sharkaboi261.jpg\n",
      "Renaming bhujangasana_sharkaboi262.jpg\n",
      "Renaming bhujangasana_sharkaboi263.jpg\n",
      "Renaming bhujangasana_sharkaboi264.jpg\n",
      "Renaming bhujangasana_sharkaboi265.jpg\n",
      "Renaming bhujangasana_sharkaboi266.jpg\n",
      "Renaming bhujangasana_sharkaboi267.jpg\n",
      "Renaming bhujangasana_sharkaboi268.jpg\n",
      "Renaming bhujangasana_sharkaboi269.jpg\n"
     ]
    },
    {
     "name": "stdout",
     "output_type": "stream",
     "text": [
      "Renaming bhujangasana_sharkaboi27.jpg\n",
      "Renaming bhujangasana_sharkaboi270.jpg\n",
      "Renaming bhujangasana_sharkaboi271.jpg\n",
      "Renaming bhujangasana_sharkaboi272.jpg\n",
      "Renaming bhujangasana_sharkaboi273.jpg\n",
      "Renaming bhujangasana_sharkaboi274.jpg\n",
      "Renaming bhujangasana_sharkaboi275.jpg\n",
      "Renaming bhujangasana_sharkaboi276.jpg\n",
      "Renaming bhujangasana_sharkaboi277.jpg\n",
      "Renaming bhujangasana_sharkaboi278.jpg\n",
      "Renaming bhujangasana_sharkaboi279.jpg\n",
      "Renaming bhujangasana_sharkaboi28.jpg\n",
      "Renaming bhujangasana_sharkaboi280.jpg\n",
      "Renaming bhujangasana_sharkaboi281.jpg\n",
      "Renaming bhujangasana_sharkaboi282.jpg\n",
      "Renaming bhujangasana_sharkaboi283.jpg\n",
      "Renaming bhujangasana_sharkaboi284.jpg\n",
      "Renaming bhujangasana_sharkaboi285.jpg\n",
      "Renaming bhujangasana_sharkaboi286.jpg\n",
      "Renaming bhujangasana_sharkaboi287.jpg\n",
      "Renaming bhujangasana_sharkaboi288.jpg\n",
      "Renaming bhujangasana_sharkaboi289.jpg\n",
      "Renaming bhujangasana_sharkaboi29.jpg\n",
      "Renaming bhujangasana_sharkaboi290.jpg\n",
      "Renaming bhujangasana_sharkaboi291.jpg\n",
      "Renaming bhujangasana_sharkaboi292.jpg\n",
      "Renaming bhujangasana_sharkaboi293.jpg\n",
      "Renaming bhujangasana_sharkaboi294.jpg\n",
      "Renaming bhujangasana_sharkaboi295.jpg\n",
      "Renaming bhujangasana_sharkaboi296.jpg\n",
      "Renaming bhujangasana_sharkaboi297.jpg\n",
      "Renaming bhujangasana_sharkaboi298.jpg\n",
      "Renaming bhujangasana_sharkaboi299.jpg\n",
      "Renaming bhujangasana_sharkaboi3.jpg\n",
      "Renaming bhujangasana_sharkaboi30.jpg\n",
      "Renaming bhujangasana_sharkaboi300.jpg\n",
      "Renaming bhujangasana_sharkaboi301.jpg\n",
      "Renaming bhujangasana_sharkaboi302.jpg\n",
      "Renaming bhujangasana_sharkaboi303.jpg\n",
      "Renaming bhujangasana_sharkaboi304.jpg\n",
      "Renaming bhujangasana_sharkaboi305.jpg\n",
      "Renaming bhujangasana_sharkaboi306.jpg\n",
      "Renaming bhujangasana_sharkaboi307.jpg\n",
      "Renaming bhujangasana_sharkaboi308.jpg\n",
      "Renaming bhujangasana_sharkaboi309.jpg\n",
      "Renaming bhujangasana_sharkaboi31.jpg\n",
      "Renaming bhujangasana_sharkaboi310.jpg\n",
      "Renaming bhujangasana_sharkaboi311.jpg\n",
      "Renaming bhujangasana_sharkaboi312.jpg\n",
      "Renaming bhujangasana_sharkaboi313.jpg\n",
      "Renaming bhujangasana_sharkaboi314.jpg\n",
      "Renaming bhujangasana_sharkaboi315.jpg\n",
      "Renaming bhujangasana_sharkaboi316.jpg\n",
      "Renaming bhujangasana_sharkaboi317.jpg\n",
      "Renaming bhujangasana_sharkaboi318.jpg\n",
      "Renaming bhujangasana_sharkaboi319.jpg\n",
      "Renaming bhujangasana_sharkaboi32.jpg\n",
      "Renaming bhujangasana_sharkaboi320.jpg\n",
      "Renaming bhujangasana_sharkaboi321.jpg\n",
      "Renaming bhujangasana_sharkaboi322.jpg\n",
      "Renaming bhujangasana_sharkaboi323.jpg\n",
      "Renaming bhujangasana_sharkaboi324.jpg\n",
      "Renaming bhujangasana_sharkaboi325.jpg\n",
      "Renaming bhujangasana_sharkaboi326.jpg\n",
      "Renaming bhujangasana_sharkaboi327.jpg\n",
      "Renaming bhujangasana_sharkaboi328.jpg\n",
      "Renaming bhujangasana_sharkaboi329.jpg\n",
      "Renaming bhujangasana_sharkaboi33.jpg\n",
      "Renaming bhujangasana_sharkaboi330.jpg\n",
      "Renaming bhujangasana_sharkaboi331.jpg\n",
      "Renaming bhujangasana_sharkaboi332.jpg\n",
      "Renaming bhujangasana_sharkaboi333.jpg\n",
      "Renaming bhujangasana_sharkaboi334.jpg\n",
      "Renaming bhujangasana_sharkaboi335.jpg\n",
      "Renaming bhujangasana_sharkaboi336.jpg\n",
      "Renaming bhujangasana_sharkaboi337.jpg\n",
      "Renaming bhujangasana_sharkaboi338.jpg\n",
      "Renaming bhujangasana_sharkaboi339.jpg\n",
      "Renaming bhujangasana_sharkaboi34.jpg\n",
      "Renaming bhujangasana_sharkaboi340.jpg\n",
      "Renaming bhujangasana_sharkaboi341.jpg\n",
      "Renaming bhujangasana_sharkaboi342.jpg\n",
      "Renaming bhujangasana_sharkaboi343.jpg\n",
      "Renaming bhujangasana_sharkaboi344.jpg\n",
      "Renaming bhujangasana_sharkaboi345.jpg\n",
      "Renaming bhujangasana_sharkaboi346.jpg\n",
      "Renaming bhujangasana_sharkaboi347.jpg\n",
      "Renaming bhujangasana_sharkaboi348.jpg\n",
      "Renaming bhujangasana_sharkaboi349.jpg\n",
      "Renaming bhujangasana_sharkaboi35.jpg\n",
      "Renaming bhujangasana_sharkaboi350.jpg\n",
      "Renaming bhujangasana_sharkaboi351.jpg\n",
      "Renaming bhujangasana_sharkaboi352.jpg\n",
      "Renaming bhujangasana_sharkaboi353.jpg\n",
      "Renaming bhujangasana_sharkaboi354.jpg\n",
      "Renaming bhujangasana_sharkaboi355.jpg\n",
      "Renaming bhujangasana_sharkaboi356.jpg\n",
      "Renaming bhujangasana_sharkaboi357.jpg\n",
      "Renaming bhujangasana_sharkaboi358.jpg\n",
      "Renaming bhujangasana_sharkaboi359.jpg\n",
      "Renaming bhujangasana_sharkaboi36.jpg\n",
      "Renaming bhujangasana_sharkaboi360.jpg\n",
      "Renaming bhujangasana_sharkaboi361.jpg\n",
      "Renaming bhujangasana_sharkaboi362.jpg\n",
      "Renaming bhujangasana_sharkaboi363.jpg\n",
      "Renaming bhujangasana_sharkaboi364.jpg\n",
      "Renaming bhujangasana_sharkaboi365.jpg\n",
      "Renaming bhujangasana_sharkaboi366.jpg\n",
      "Renaming bhujangasana_sharkaboi367.jpg\n",
      "Renaming bhujangasana_sharkaboi368.jpg\n",
      "Renaming bhujangasana_sharkaboi369.jpg\n",
      "Renaming bhujangasana_sharkaboi37.jpg\n",
      "Renaming bhujangasana_sharkaboi370.jpg\n",
      "Renaming bhujangasana_sharkaboi371.jpg\n",
      "Renaming bhujangasana_sharkaboi372.jpg\n",
      "Renaming bhujangasana_sharkaboi373.jpg\n",
      "Renaming bhujangasana_sharkaboi374.jpg\n",
      "Renaming bhujangasana_sharkaboi375.jpg\n",
      "Renaming bhujangasana_sharkaboi376.jpg\n",
      "Renaming bhujangasana_sharkaboi377.jpg\n",
      "Renaming bhujangasana_sharkaboi378.jpg\n",
      "Renaming bhujangasana_sharkaboi379.jpg\n",
      "Renaming bhujangasana_sharkaboi38.jpg\n",
      "Renaming bhujangasana_sharkaboi380.jpg\n",
      "Renaming bhujangasana_sharkaboi381.jpg\n",
      "Renaming bhujangasana_sharkaboi382.jpg\n",
      "Renaming bhujangasana_sharkaboi383.jpg\n",
      "Renaming bhujangasana_sharkaboi384.jpg\n",
      "Renaming bhujangasana_sharkaboi385.jpg\n",
      "Renaming bhujangasana_sharkaboi386.jpg\n",
      "Renaming bhujangasana_sharkaboi387.jpg\n",
      "Renaming bhujangasana_sharkaboi388.jpg\n",
      "Renaming bhujangasana_sharkaboi389.jpg\n",
      "Renaming bhujangasana_sharkaboi39.jpg\n",
      "Renaming bhujangasana_sharkaboi390.jpg\n",
      "Renaming bhujangasana_sharkaboi391.jpg\n",
      "Renaming bhujangasana_sharkaboi392.jpg\n",
      "Renaming bhujangasana_sharkaboi393.jpg\n",
      "Renaming bhujangasana_sharkaboi394.jpg\n",
      "Renaming bhujangasana_sharkaboi395.jpg\n",
      "Renaming bhujangasana_sharkaboi396.jpg\n",
      "Renaming bhujangasana_sharkaboi397.jpg\n",
      "Renaming bhujangasana_sharkaboi398.jpg\n",
      "Renaming bhujangasana_sharkaboi399.jpg\n",
      "Renaming bhujangasana_sharkaboi4.jpg\n",
      "Renaming bhujangasana_sharkaboi40.jpg\n",
      "Renaming bhujangasana_sharkaboi400.jpg\n",
      "Renaming bhujangasana_sharkaboi401.jpg\n",
      "Renaming bhujangasana_sharkaboi402.jpg\n",
      "Renaming bhujangasana_sharkaboi403.jpg\n",
      "Renaming bhujangasana_sharkaboi404.jpg\n",
      "Renaming bhujangasana_sharkaboi405.jpg\n",
      "Renaming bhujangasana_sharkaboi406.jpg\n",
      "Renaming bhujangasana_sharkaboi407.jpg\n",
      "Renaming bhujangasana_sharkaboi408.jpg\n",
      "Renaming bhujangasana_sharkaboi409.jpg\n",
      "Renaming bhujangasana_sharkaboi41.jpg\n",
      "Renaming bhujangasana_sharkaboi410.jpg\n",
      "Renaming bhujangasana_sharkaboi411.jpg\n",
      "Renaming bhujangasana_sharkaboi412.jpg\n",
      "Renaming bhujangasana_sharkaboi413.jpg\n",
      "Renaming bhujangasana_sharkaboi414.jpg\n",
      "Renaming bhujangasana_sharkaboi415.jpg\n",
      "Renaming bhujangasana_sharkaboi416.jpg\n",
      "Renaming bhujangasana_sharkaboi417.jpg\n",
      "Renaming bhujangasana_sharkaboi418.jpg\n",
      "Renaming bhujangasana_sharkaboi419.jpg\n",
      "Renaming bhujangasana_sharkaboi42.jpg\n",
      "Renaming bhujangasana_sharkaboi420.jpg\n",
      "Renaming bhujangasana_sharkaboi421.jpg\n",
      "Renaming bhujangasana_sharkaboi422.jpg\n",
      "Renaming bhujangasana_sharkaboi423.jpg\n",
      "Renaming bhujangasana_sharkaboi424.jpg\n",
      "Renaming bhujangasana_sharkaboi425.jpg\n",
      "Renaming bhujangasana_sharkaboi426.jpg\n",
      "Renaming bhujangasana_sharkaboi427.jpg\n",
      "Renaming bhujangasana_sharkaboi428.jpg\n",
      "Renaming bhujangasana_sharkaboi429.jpg\n",
      "Renaming bhujangasana_sharkaboi43.jpg\n",
      "Renaming bhujangasana_sharkaboi430.jpg\n",
      "Renaming bhujangasana_sharkaboi431.jpg\n",
      "Renaming bhujangasana_sharkaboi432.jpg\n",
      "Renaming bhujangasana_sharkaboi433.jpg\n",
      "Renaming bhujangasana_sharkaboi434.jpg\n",
      "Renaming bhujangasana_sharkaboi435.jpg\n",
      "Renaming bhujangasana_sharkaboi436.jpg\n",
      "Renaming bhujangasana_sharkaboi437.jpg\n",
      "Renaming bhujangasana_sharkaboi438.jpg\n",
      "Renaming bhujangasana_sharkaboi439.jpg\n",
      "Renaming bhujangasana_sharkaboi44.jpg\n",
      "Renaming bhujangasana_sharkaboi440.jpg\n",
      "Renaming bhujangasana_sharkaboi441.jpg\n",
      "Renaming bhujangasana_sharkaboi442.jpg\n",
      "Renaming bhujangasana_sharkaboi443.jpg\n",
      "Renaming bhujangasana_sharkaboi444.jpg\n",
      "Renaming bhujangasana_sharkaboi445.jpg\n",
      "Renaming bhujangasana_sharkaboi446.jpg\n",
      "Renaming bhujangasana_sharkaboi447.jpg\n",
      "Renaming bhujangasana_sharkaboi448.jpg\n",
      "Renaming bhujangasana_sharkaboi449.jpg\n",
      "Renaming bhujangasana_sharkaboi45.jpg\n",
      "Renaming bhujangasana_sharkaboi450.jpg\n",
      "Renaming bhujangasana_sharkaboi451.jpg\n",
      "Renaming bhujangasana_sharkaboi452.jpg\n",
      "Renaming bhujangasana_sharkaboi453.jpg\n",
      "Renaming bhujangasana_sharkaboi454.jpg\n",
      "Renaming bhujangasana_sharkaboi455.jpg\n",
      "Renaming bhujangasana_sharkaboi456.jpg\n",
      "Renaming bhujangasana_sharkaboi457.jpg\n",
      "Renaming bhujangasana_sharkaboi458.jpg\n",
      "Renaming bhujangasana_sharkaboi459.jpg\n",
      "Renaming bhujangasana_sharkaboi46.jpg\n",
      "Renaming bhujangasana_sharkaboi460.jpg\n",
      "Renaming bhujangasana_sharkaboi461.jpg\n",
      "Renaming bhujangasana_sharkaboi462.jpg\n",
      "Renaming bhujangasana_sharkaboi463.jpg\n",
      "Renaming bhujangasana_sharkaboi464.jpg\n",
      "Renaming bhujangasana_sharkaboi465.jpg\n",
      "Renaming bhujangasana_sharkaboi466.jpg\n",
      "Renaming bhujangasana_sharkaboi467.jpg\n",
      "Renaming bhujangasana_sharkaboi468.jpg\n",
      "Renaming bhujangasana_sharkaboi469.jpg\n",
      "Renaming bhujangasana_sharkaboi47.jpg\n",
      "Renaming bhujangasana_sharkaboi470.jpg\n",
      "Renaming bhujangasana_sharkaboi471.jpg\n",
      "Renaming bhujangasana_sharkaboi472.jpg\n",
      "Renaming bhujangasana_sharkaboi473.jpg\n",
      "Renaming bhujangasana_sharkaboi474.jpg\n",
      "Renaming bhujangasana_sharkaboi475.jpg\n",
      "Renaming bhujangasana_sharkaboi476.jpg\n",
      "Renaming bhujangasana_sharkaboi477.jpg\n",
      "Renaming bhujangasana_sharkaboi478.jpg\n",
      "Renaming bhujangasana_sharkaboi479.jpg\n",
      "Renaming bhujangasana_sharkaboi48.jpg\n",
      "Renaming bhujangasana_sharkaboi480.jpg\n",
      "Renaming bhujangasana_sharkaboi481.jpg\n",
      "Renaming bhujangasana_sharkaboi482.jpg\n",
      "Renaming bhujangasana_sharkaboi483.jpg\n",
      "Renaming bhujangasana_sharkaboi484.jpg\n",
      "Renaming bhujangasana_sharkaboi485.jpg\n",
      "Renaming bhujangasana_sharkaboi486.jpg\n",
      "Renaming bhujangasana_sharkaboi487.jpg\n",
      "Renaming bhujangasana_sharkaboi488.jpg\n",
      "Renaming bhujangasana_sharkaboi489.jpg\n",
      "Renaming bhujangasana_sharkaboi49.jpg\n",
      "Renaming bhujangasana_sharkaboi490.jpg\n",
      "Renaming bhujangasana_sharkaboi491.jpg\n",
      "Renaming bhujangasana_sharkaboi492.jpg\n",
      "Renaming bhujangasana_sharkaboi493.jpg\n",
      "Renaming bhujangasana_sharkaboi494.jpg\n",
      "Renaming bhujangasana_sharkaboi495.jpg\n",
      "Renaming bhujangasana_sharkaboi496.jpg\n",
      "Renaming bhujangasana_sharkaboi497.jpg\n",
      "Renaming bhujangasana_sharkaboi498.jpg\n",
      "Renaming bhujangasana_sharkaboi499.jpg\n",
      "Renaming bhujangasana_sharkaboi5.jpg\n",
      "Renaming bhujangasana_sharkaboi50.jpg\n",
      "Renaming bhujangasana_sharkaboi500.jpg\n",
      "Renaming bhujangasana_sharkaboi501.jpg\n",
      "Renaming bhujangasana_sharkaboi502.jpg\n",
      "Renaming bhujangasana_sharkaboi503.jpg\n",
      "Renaming bhujangasana_sharkaboi504.jpg\n",
      "Renaming bhujangasana_sharkaboi505.jpg\n",
      "Renaming bhujangasana_sharkaboi506.jpg\n",
      "Renaming bhujangasana_sharkaboi507.jpg\n",
      "Renaming bhujangasana_sharkaboi508.jpg\n",
      "Renaming bhujangasana_sharkaboi509.jpg\n",
      "Renaming bhujangasana_sharkaboi51.jpg\n",
      "Renaming bhujangasana_sharkaboi510.jpg\n",
      "Renaming bhujangasana_sharkaboi511.jpg\n",
      "Renaming bhujangasana_sharkaboi512.jpg\n",
      "Renaming bhujangasana_sharkaboi513.jpg\n",
      "Renaming bhujangasana_sharkaboi514.jpg\n",
      "Renaming bhujangasana_sharkaboi515.jpg\n",
      "Renaming bhujangasana_sharkaboi516.jpg\n",
      "Renaming bhujangasana_sharkaboi517.jpg\n",
      "Renaming bhujangasana_sharkaboi518.jpg\n",
      "Renaming bhujangasana_sharkaboi519.jpg\n",
      "Renaming bhujangasana_sharkaboi52.jpg\n",
      "Renaming bhujangasana_sharkaboi520.jpg\n",
      "Renaming bhujangasana_sharkaboi521.jpg\n",
      "Renaming bhujangasana_sharkaboi522.jpg\n",
      "Renaming bhujangasana_sharkaboi523.jpg\n",
      "Renaming bhujangasana_sharkaboi524.jpg\n",
      "Renaming bhujangasana_sharkaboi525.jpg\n",
      "Renaming bhujangasana_sharkaboi526.jpg\n",
      "Renaming bhujangasana_sharkaboi527.jpg\n",
      "Renaming bhujangasana_sharkaboi528.jpg\n",
      "Renaming bhujangasana_sharkaboi529.jpg\n",
      "Renaming bhujangasana_sharkaboi53.jpg\n",
      "Renaming bhujangasana_sharkaboi530.jpg\n",
      "Renaming bhujangasana_sharkaboi531.jpg\n",
      "Renaming bhujangasana_sharkaboi532.jpg\n",
      "Renaming bhujangasana_sharkaboi533.jpg\n",
      "Renaming bhujangasana_sharkaboi534.jpg\n",
      "Renaming bhujangasana_sharkaboi535.jpg\n",
      "Renaming bhujangasana_sharkaboi536.jpg\n",
      "Renaming bhujangasana_sharkaboi537.jpg\n",
      "Renaming bhujangasana_sharkaboi538.jpg\n",
      "Renaming bhujangasana_sharkaboi539.jpg\n",
      "Renaming bhujangasana_sharkaboi54.jpg\n",
      "Renaming bhujangasana_sharkaboi540.jpg\n",
      "Renaming bhujangasana_sharkaboi541.jpg\n",
      "Renaming bhujangasana_sharkaboi542.jpg\n",
      "Renaming bhujangasana_sharkaboi543.jpg\n",
      "Renaming bhujangasana_sharkaboi544.jpg\n",
      "Renaming bhujangasana_sharkaboi545.jpg\n",
      "Renaming bhujangasana_sharkaboi546.jpg\n",
      "Renaming bhujangasana_sharkaboi547.jpg\n",
      "Renaming bhujangasana_sharkaboi548.jpg\n",
      "Renaming bhujangasana_sharkaboi549.jpg\n",
      "Renaming bhujangasana_sharkaboi55.jpg\n",
      "Renaming bhujangasana_sharkaboi550.jpg\n",
      "Renaming bhujangasana_sharkaboi551.jpg\n",
      "Renaming bhujangasana_sharkaboi552.jpg\n",
      "Renaming bhujangasana_sharkaboi553.jpg\n",
      "Renaming bhujangasana_sharkaboi554.jpg\n",
      "Renaming bhujangasana_sharkaboi555.jpg\n",
      "Renaming bhujangasana_sharkaboi556.jpg\n",
      "Renaming bhujangasana_sharkaboi557.jpg\n",
      "Renaming bhujangasana_sharkaboi558.jpg\n",
      "Renaming bhujangasana_sharkaboi559.jpg\n",
      "Renaming bhujangasana_sharkaboi56.jpg\n",
      "Renaming bhujangasana_sharkaboi560.jpg\n",
      "Renaming bhujangasana_sharkaboi561.jpg\n",
      "Renaming bhujangasana_sharkaboi562.jpg\n",
      "Renaming bhujangasana_sharkaboi563.jpg\n",
      "Renaming bhujangasana_sharkaboi564.jpg\n",
      "Renaming bhujangasana_sharkaboi565.jpg\n",
      "Renaming bhujangasana_sharkaboi566.jpg\n",
      "Renaming bhujangasana_sharkaboi567.jpg\n",
      "Renaming bhujangasana_sharkaboi568.jpg\n",
      "Renaming bhujangasana_sharkaboi569.jpg\n",
      "Renaming bhujangasana_sharkaboi57.jpg\n",
      "Renaming bhujangasana_sharkaboi570.jpg\n",
      "Renaming bhujangasana_sharkaboi571.jpg\n",
      "Renaming bhujangasana_sharkaboi572.jpg\n",
      "Renaming bhujangasana_sharkaboi573.jpg\n",
      "Renaming bhujangasana_sharkaboi574.jpg\n",
      "Renaming bhujangasana_sharkaboi575.jpg\n",
      "Renaming bhujangasana_sharkaboi576.jpg\n",
      "Renaming bhujangasana_sharkaboi577.jpg\n",
      "Renaming bhujangasana_sharkaboi578.jpg\n"
     ]
    },
    {
     "name": "stdout",
     "output_type": "stream",
     "text": [
      "Renaming bhujangasana_sharkaboi579.jpg\n",
      "Renaming bhujangasana_sharkaboi58.jpg\n",
      "Renaming bhujangasana_sharkaboi580.jpg\n",
      "Renaming bhujangasana_sharkaboi581.jpg\n",
      "Renaming bhujangasana_sharkaboi582.jpg\n",
      "Renaming bhujangasana_sharkaboi583.jpg\n",
      "Renaming bhujangasana_sharkaboi584.jpg\n",
      "Renaming bhujangasana_sharkaboi585.jpg\n",
      "Renaming bhujangasana_sharkaboi586.jpg\n",
      "Renaming bhujangasana_sharkaboi587.jpg\n",
      "Renaming bhujangasana_sharkaboi588.jpg\n",
      "Renaming bhujangasana_sharkaboi589.jpg\n",
      "Renaming bhujangasana_sharkaboi59.jpg\n",
      "Renaming bhujangasana_sharkaboi590.jpg\n",
      "Renaming bhujangasana_sharkaboi591.jpg\n",
      "Renaming bhujangasana_sharkaboi592.jpg\n",
      "Renaming bhujangasana_sharkaboi593.jpg\n",
      "Renaming bhujangasana_sharkaboi594.jpg\n",
      "Renaming bhujangasana_sharkaboi595.jpg\n",
      "Renaming bhujangasana_sharkaboi596.jpg\n",
      "Renaming bhujangasana_sharkaboi597.jpg\n",
      "Renaming bhujangasana_sharkaboi598.jpg\n",
      "Renaming bhujangasana_sharkaboi599.jpg\n",
      "Renaming bhujangasana_sharkaboi6.jpg\n",
      "Renaming bhujangasana_sharkaboi60.jpg\n",
      "Renaming bhujangasana_sharkaboi600.jpg\n",
      "Renaming bhujangasana_sharkaboi601.jpg\n",
      "Renaming bhujangasana_sharkaboi602.jpg\n",
      "Renaming bhujangasana_sharkaboi603.jpg\n",
      "Renaming bhujangasana_sharkaboi604.jpg\n",
      "Renaming bhujangasana_sharkaboi605.jpg\n",
      "Renaming bhujangasana_sharkaboi606.jpg\n",
      "Renaming bhujangasana_sharkaboi607.jpg\n",
      "Renaming bhujangasana_sharkaboi608.jpg\n",
      "Renaming bhujangasana_sharkaboi609.jpg\n",
      "Renaming bhujangasana_sharkaboi61.jpg\n",
      "Renaming bhujangasana_sharkaboi610.jpg\n",
      "Renaming bhujangasana_sharkaboi611.jpg\n",
      "Renaming bhujangasana_sharkaboi612.jpg\n",
      "Renaming bhujangasana_sharkaboi613.jpg\n",
      "Renaming bhujangasana_sharkaboi614.jpg\n",
      "Renaming bhujangasana_sharkaboi615.jpg\n",
      "Renaming bhujangasana_sharkaboi616.jpg\n",
      "Renaming bhujangasana_sharkaboi617.jpg\n",
      "Renaming bhujangasana_sharkaboi618.jpg\n",
      "Renaming bhujangasana_sharkaboi619.jpg\n",
      "Renaming bhujangasana_sharkaboi62.jpg\n",
      "Renaming bhujangasana_sharkaboi620.jpg\n",
      "Renaming bhujangasana_sharkaboi621.jpg\n",
      "Renaming bhujangasana_sharkaboi622.jpg\n",
      "Renaming bhujangasana_sharkaboi623.jpg\n",
      "Renaming bhujangasana_sharkaboi624.jpg\n",
      "Renaming bhujangasana_sharkaboi625.jpg\n",
      "Renaming bhujangasana_sharkaboi626.jpg\n",
      "Renaming bhujangasana_sharkaboi627.jpg\n",
      "Renaming bhujangasana_sharkaboi628.jpg\n",
      "Renaming bhujangasana_sharkaboi629.jpg\n",
      "Renaming bhujangasana_sharkaboi63.jpg\n",
      "Renaming bhujangasana_sharkaboi630.jpg\n",
      "Renaming bhujangasana_sharkaboi631.jpg\n",
      "Renaming bhujangasana_sharkaboi632.jpg\n",
      "Renaming bhujangasana_sharkaboi633.jpg\n",
      "Renaming bhujangasana_sharkaboi634.jpg\n",
      "Renaming bhujangasana_sharkaboi635.jpg\n",
      "Renaming bhujangasana_sharkaboi636.jpg\n",
      "Renaming bhujangasana_sharkaboi637.jpg\n",
      "Renaming bhujangasana_sharkaboi638.jpg\n",
      "Renaming bhujangasana_sharkaboi639.jpg\n",
      "Renaming bhujangasana_sharkaboi64.jpg\n",
      "Renaming bhujangasana_sharkaboi640.jpg\n",
      "Renaming bhujangasana_sharkaboi641.jpg\n",
      "Renaming bhujangasana_sharkaboi642.jpg\n",
      "Renaming bhujangasana_sharkaboi643.jpg\n",
      "Renaming bhujangasana_sharkaboi644.jpg\n",
      "Renaming bhujangasana_sharkaboi645.jpg\n",
      "Renaming bhujangasana_sharkaboi646.jpg\n",
      "Renaming bhujangasana_sharkaboi647.jpg\n",
      "Renaming bhujangasana_sharkaboi648.jpg\n",
      "Renaming bhujangasana_sharkaboi649.jpg\n",
      "Renaming bhujangasana_sharkaboi65.jpg\n",
      "Renaming bhujangasana_sharkaboi650.jpg\n",
      "Renaming bhujangasana_sharkaboi651.jpg\n",
      "Renaming bhujangasana_sharkaboi652.jpg\n",
      "Renaming bhujangasana_sharkaboi653.jpg\n",
      "Renaming bhujangasana_sharkaboi654.jpg\n",
      "Renaming bhujangasana_sharkaboi655.jpg\n",
      "Renaming bhujangasana_sharkaboi656.jpg\n",
      "Renaming bhujangasana_sharkaboi657.jpg\n",
      "Renaming bhujangasana_sharkaboi658.jpg\n",
      "Renaming bhujangasana_sharkaboi659.jpg\n",
      "Renaming bhujangasana_sharkaboi66.jpg\n",
      "Renaming bhujangasana_sharkaboi660.jpg\n",
      "Renaming bhujangasana_sharkaboi661.jpg\n",
      "Renaming bhujangasana_sharkaboi662.jpg\n",
      "Renaming bhujangasana_sharkaboi663.jpg\n",
      "Renaming bhujangasana_sharkaboi664.jpg\n",
      "Renaming bhujangasana_sharkaboi665.jpg\n",
      "Renaming bhujangasana_sharkaboi666.jpg\n",
      "Renaming bhujangasana_sharkaboi667.jpg\n",
      "Renaming bhujangasana_sharkaboi668.jpg\n",
      "Renaming bhujangasana_sharkaboi67.jpg\n",
      "Renaming bhujangasana_sharkaboi68.jpg\n",
      "Renaming bhujangasana_sharkaboi69.jpg\n",
      "Renaming bhujangasana_sharkaboi7.jpg\n",
      "Renaming bhujangasana_sharkaboi70.jpg\n",
      "Renaming bhujangasana_sharkaboi71.jpg\n",
      "Renaming bhujangasana_sharkaboi72.jpg\n",
      "Renaming bhujangasana_sharkaboi73.jpg\n",
      "Renaming bhujangasana_sharkaboi74.jpg\n",
      "Renaming bhujangasana_sharkaboi75.jpg\n",
      "Renaming bhujangasana_sharkaboi76.jpg\n",
      "Renaming bhujangasana_sharkaboi77.jpg\n",
      "Renaming bhujangasana_sharkaboi78.jpg\n",
      "Renaming bhujangasana_sharkaboi79.jpg\n",
      "Renaming bhujangasana_sharkaboi8.jpg\n",
      "Renaming bhujangasana_sharkaboi80.jpg\n",
      "Renaming bhujangasana_sharkaboi81.jpg\n",
      "Renaming bhujangasana_sharkaboi82.jpg\n",
      "Renaming bhujangasana_sharkaboi83.jpg\n",
      "Renaming bhujangasana_sharkaboi84.jpg\n",
      "Renaming bhujangasana_sharkaboi85.jpg\n",
      "Renaming bhujangasana_sharkaboi86.jpg\n",
      "Renaming bhujangasana_sharkaboi87.jpg\n",
      "Renaming bhujangasana_sharkaboi88.jpg\n",
      "Renaming bhujangasana_sharkaboi89.jpg\n",
      "Renaming bhujangasana_sharkaboi9.jpg\n",
      "Renaming bhujangasana_sharkaboi90.jpg\n",
      "Renaming bhujangasana_sharkaboi91.jpg\n",
      "Renaming bhujangasana_sharkaboi92.jpg\n",
      "Renaming bhujangasana_sharkaboi93.jpg\n",
      "Renaming bhujangasana_sharkaboi94.jpg\n",
      "Renaming bhujangasana_sharkaboi95.jpg\n",
      "Renaming bhujangasana_sharkaboi96.jpg\n",
      "Renaming bhujangasana_sharkaboi97.jpg\n",
      "Renaming bhujangasana_sharkaboi98.jpg\n",
      "Renaming bhujangasana_sharkaboi99.jpg\n",
      "Renaming bidalasana_sharkaboi1.jpg\n",
      "Renaming bidalasana_sharkaboi10.jpeg\n",
      "Renaming bidalasana_sharkaboi100.jpg\n",
      "Renaming bidalasana_sharkaboi101.jpg\n",
      "Renaming bidalasana_sharkaboi102.jpg\n",
      "Renaming bidalasana_sharkaboi103.jpg\n",
      "Renaming bidalasana_sharkaboi104.jpg\n",
      "Renaming bidalasana_sharkaboi105.jpg\n",
      "Renaming bidalasana_sharkaboi106.jpg\n",
      "Renaming bidalasana_sharkaboi107.jpg\n",
      "Renaming bidalasana_sharkaboi108.jpg\n",
      "Renaming bidalasana_sharkaboi109.jpeg\n",
      "Renaming bidalasana_sharkaboi11.jpg\n",
      "Renaming bidalasana_sharkaboi110.jpg\n",
      "Renaming bidalasana_sharkaboi111.jpg\n",
      "Renaming bidalasana_sharkaboi112.jpg\n",
      "Renaming bidalasana_sharkaboi113.jpg\n",
      "Renaming bidalasana_sharkaboi114.jpg\n",
      "Renaming bidalasana_sharkaboi115.jpg\n",
      "Renaming bidalasana_sharkaboi116.jpg\n",
      "Renaming bidalasana_sharkaboi117.jpg\n",
      "Renaming bidalasana_sharkaboi118.jpg\n",
      "Renaming bidalasana_sharkaboi119.jpg\n",
      "Renaming bidalasana_sharkaboi12.jpg\n",
      "Renaming bidalasana_sharkaboi120.jpg\n",
      "Renaming bidalasana_sharkaboi121.jpeg\n",
      "Renaming bidalasana_sharkaboi122.jpg\n",
      "Renaming bidalasana_sharkaboi123.jpg\n",
      "Renaming bidalasana_sharkaboi124.jpeg\n",
      "Renaming bidalasana_sharkaboi125.jpg\n",
      "Renaming bidalasana_sharkaboi126.jpg\n",
      "Renaming bidalasana_sharkaboi127.jpg\n",
      "Renaming bidalasana_sharkaboi128.jpg\n",
      "Renaming bidalasana_sharkaboi129.jpg\n",
      "Renaming bidalasana_sharkaboi13.jpg\n",
      "Renaming bidalasana_sharkaboi130.jpg\n",
      "Renaming bidalasana_sharkaboi131.jpg\n",
      "Renaming bidalasana_sharkaboi132.jpg\n",
      "Renaming bidalasana_sharkaboi133.jpg\n",
      "Renaming bidalasana_sharkaboi134.jpg\n",
      "Renaming bidalasana_sharkaboi135.jpg\n",
      "Renaming bidalasana_sharkaboi136.jpg\n",
      "Renaming bidalasana_sharkaboi137.jpg\n",
      "Renaming bidalasana_sharkaboi138.jpg\n",
      "Renaming bidalasana_sharkaboi139.jpg\n",
      "Renaming bidalasana_sharkaboi14.jpg\n",
      "Renaming bidalasana_sharkaboi140.jpg\n",
      "Renaming bidalasana_sharkaboi141.jpeg\n",
      "Renaming bidalasana_sharkaboi142.jpg\n",
      "Renaming bidalasana_sharkaboi143.jpg\n",
      "Renaming bidalasana_sharkaboi144.jpg\n",
      "Renaming bidalasana_sharkaboi145.jpeg\n",
      "Renaming bidalasana_sharkaboi146.jpg\n",
      "Renaming bidalasana_sharkaboi147.jpg\n",
      "Renaming bidalasana_sharkaboi148.jpg\n",
      "Renaming bidalasana_sharkaboi149.jpg\n",
      "Renaming bidalasana_sharkaboi15.jpeg\n",
      "Renaming bidalasana_sharkaboi150.jpg\n",
      "Renaming bidalasana_sharkaboi151.jpg\n",
      "Renaming bidalasana_sharkaboi152.jpg\n",
      "Renaming bidalasana_sharkaboi153.jpg\n",
      "Renaming bidalasana_sharkaboi154.jpg\n",
      "Renaming bidalasana_sharkaboi155.jpg\n",
      "Renaming bidalasana_sharkaboi156.jpg\n",
      "Renaming bidalasana_sharkaboi157.jpg\n",
      "Renaming bidalasana_sharkaboi158.jpg\n",
      "Renaming bidalasana_sharkaboi159.jpg\n",
      "Renaming bidalasana_sharkaboi16.jpg\n",
      "Renaming bidalasana_sharkaboi160.jpg\n",
      "Renaming bidalasana_sharkaboi161.jpg\n",
      "Renaming bidalasana_sharkaboi162.jpg\n",
      "Renaming bidalasana_sharkaboi163.jpg\n",
      "Renaming bidalasana_sharkaboi164.jpg\n",
      "Renaming bidalasana_sharkaboi165.jpg\n",
      "Renaming bidalasana_sharkaboi166.jpg\n",
      "Renaming bidalasana_sharkaboi167.jpeg\n",
      "Renaming bidalasana_sharkaboi168.jpg\n",
      "Renaming bidalasana_sharkaboi169.jpg\n",
      "Renaming bidalasana_sharkaboi17.jpg\n",
      "Renaming bidalasana_sharkaboi170.jpg\n",
      "Renaming bidalasana_sharkaboi171.jpeg\n",
      "Renaming bidalasana_sharkaboi172.jpg\n",
      "Renaming bidalasana_sharkaboi173.jpg\n",
      "Renaming bidalasana_sharkaboi174.jpeg\n"
     ]
    },
    {
     "name": "stdout",
     "output_type": "stream",
     "text": [
      "Renaming bidalasana_sharkaboi175.jpg\n",
      "Renaming bidalasana_sharkaboi176.jpg\n",
      "Renaming bidalasana_sharkaboi177.jpg\n",
      "Renaming bidalasana_sharkaboi178.jpg\n",
      "Renaming bidalasana_sharkaboi179.jpg\n",
      "Renaming bidalasana_sharkaboi18.jpg\n",
      "Renaming bidalasana_sharkaboi180.jpeg\n",
      "Renaming bidalasana_sharkaboi181.jpg\n",
      "Renaming bidalasana_sharkaboi182.jpg\n",
      "Renaming bidalasana_sharkaboi183.jpg\n",
      "Renaming bidalasana_sharkaboi184.jpg\n",
      "Renaming bidalasana_sharkaboi185.jpg\n",
      "Renaming bidalasana_sharkaboi186.jpg\n",
      "Renaming bidalasana_sharkaboi187.jpg\n",
      "Renaming bidalasana_sharkaboi188.jpg\n",
      "Renaming bidalasana_sharkaboi189.jpeg\n",
      "Renaming bidalasana_sharkaboi19.jpg\n",
      "Renaming bidalasana_sharkaboi190.jpg\n",
      "Renaming bidalasana_sharkaboi191.jpg\n",
      "Renaming bidalasana_sharkaboi192.jpg\n",
      "Renaming bidalasana_sharkaboi193.jpg\n",
      "Renaming bidalasana_sharkaboi194.jpg\n",
      "Renaming bidalasana_sharkaboi195.jpg\n",
      "Renaming bidalasana_sharkaboi196.jpg\n",
      "Renaming bidalasana_sharkaboi197.jpg\n",
      "Renaming bidalasana_sharkaboi198.jpg\n",
      "Renaming bidalasana_sharkaboi199.jpg\n",
      "Renaming bidalasana_sharkaboi2.jpg\n",
      "Renaming bidalasana_sharkaboi20.jpeg\n",
      "Renaming bidalasana_sharkaboi200.jpg\n",
      "Renaming bidalasana_sharkaboi201.jpg\n",
      "Renaming bidalasana_sharkaboi202.jpg\n",
      "Renaming bidalasana_sharkaboi203.jpg\n",
      "Renaming bidalasana_sharkaboi204.jpg\n",
      "Renaming bidalasana_sharkaboi205.jpg\n",
      "Renaming bidalasana_sharkaboi206.jpg\n",
      "Renaming bidalasana_sharkaboi207.jpg\n",
      "Renaming bidalasana_sharkaboi208.jpg\n",
      "Renaming bidalasana_sharkaboi209.jpeg\n",
      "Renaming bidalasana_sharkaboi21.jpg\n",
      "Renaming bidalasana_sharkaboi210.jpg\n",
      "Renaming bidalasana_sharkaboi211.jpg\n",
      "Renaming bidalasana_sharkaboi212.jpg\n",
      "Renaming bidalasana_sharkaboi213.jpg\n",
      "Renaming bidalasana_sharkaboi214.jpg\n",
      "Renaming bidalasana_sharkaboi215.jpg\n",
      "Renaming bidalasana_sharkaboi216.jpg\n",
      "Renaming bidalasana_sharkaboi217.jpg\n",
      "Renaming bidalasana_sharkaboi218.jpg\n",
      "Renaming bidalasana_sharkaboi219.jpg\n",
      "Renaming bidalasana_sharkaboi22.jpg\n",
      "Renaming bidalasana_sharkaboi220.jpg\n",
      "Renaming bidalasana_sharkaboi221.jpg\n",
      "Renaming bidalasana_sharkaboi222.jpg\n",
      "Renaming bidalasana_sharkaboi223.jpg\n",
      "Renaming bidalasana_sharkaboi224.jpg\n",
      "Renaming bidalasana_sharkaboi225.jpg\n",
      "Renaming bidalasana_sharkaboi226.jpg\n",
      "Renaming bidalasana_sharkaboi227.jpg\n",
      "Renaming bidalasana_sharkaboi228.jpg\n",
      "Renaming bidalasana_sharkaboi229.jpg\n",
      "Renaming bidalasana_sharkaboi23.jpg\n",
      "Renaming bidalasana_sharkaboi230.jpg\n",
      "Renaming bidalasana_sharkaboi231.jpg\n",
      "Renaming bidalasana_sharkaboi232.jpg\n",
      "Renaming bidalasana_sharkaboi233.jpg\n",
      "Renaming bidalasana_sharkaboi234.jpg\n",
      "Renaming bidalasana_sharkaboi235.jpg\n",
      "Renaming bidalasana_sharkaboi236.jpg\n",
      "Renaming bidalasana_sharkaboi237.jpg\n",
      "Renaming bidalasana_sharkaboi238.jpg\n",
      "Renaming bidalasana_sharkaboi239.jpeg\n",
      "Renaming bidalasana_sharkaboi24.jpg\n",
      "Renaming bidalasana_sharkaboi240.jpg\n",
      "Renaming bidalasana_sharkaboi241.jpeg\n",
      "Renaming bidalasana_sharkaboi242.jpg\n",
      "Renaming bidalasana_sharkaboi243.jpg\n",
      "Renaming bidalasana_sharkaboi244.jpg\n",
      "Renaming bidalasana_sharkaboi245.jpg\n",
      "Renaming bidalasana_sharkaboi246.jpg\n",
      "Renaming bidalasana_sharkaboi247.jpg\n",
      "Renaming bidalasana_sharkaboi248.jpg\n",
      "Renaming bidalasana_sharkaboi249.jpg\n",
      "Renaming bidalasana_sharkaboi25.jpg\n",
      "Renaming bidalasana_sharkaboi250.jpg\n",
      "Renaming bidalasana_sharkaboi251.jpg\n",
      "Renaming bidalasana_sharkaboi252.jpg\n",
      "Renaming bidalasana_sharkaboi253.jpg\n",
      "Renaming bidalasana_sharkaboi254.jpg\n",
      "Renaming bidalasana_sharkaboi255.jpg\n",
      "Renaming bidalasana_sharkaboi256.jpg\n",
      "Renaming bidalasana_sharkaboi257.jpg\n",
      "Renaming bidalasana_sharkaboi258.jpg\n",
      "Renaming bidalasana_sharkaboi259.jpg\n",
      "Renaming bidalasana_sharkaboi26.jpg\n",
      "Renaming bidalasana_sharkaboi260.jpg\n",
      "Renaming bidalasana_sharkaboi261.jpg\n",
      "Renaming bidalasana_sharkaboi262.jpg\n",
      "Renaming bidalasana_sharkaboi263.jpg\n",
      "Renaming bidalasana_sharkaboi264.jpg\n",
      "Renaming bidalasana_sharkaboi265.jpg\n",
      "Renaming bidalasana_sharkaboi266.jpg\n",
      "Renaming bidalasana_sharkaboi267.jpg\n",
      "Renaming bidalasana_sharkaboi268.jpg\n",
      "Renaming bidalasana_sharkaboi269.jpg\n",
      "Renaming bidalasana_sharkaboi27.jpg\n",
      "Renaming bidalasana_sharkaboi270.jpg\n",
      "Renaming bidalasana_sharkaboi271.jpg\n",
      "Renaming bidalasana_sharkaboi272.jpg\n",
      "Renaming bidalasana_sharkaboi273.jpg\n",
      "Renaming bidalasana_sharkaboi274.jpg\n",
      "Renaming bidalasana_sharkaboi275.jpg\n",
      "Renaming bidalasana_sharkaboi276.jpg\n",
      "Renaming bidalasana_sharkaboi277.jpg\n",
      "Renaming bidalasana_sharkaboi278.jpg\n",
      "Renaming bidalasana_sharkaboi279.jpg\n",
      "Renaming bidalasana_sharkaboi28.jpg\n",
      "Renaming bidalasana_sharkaboi280.jpg\n",
      "Renaming bidalasana_sharkaboi281.jpg\n",
      "Renaming bidalasana_sharkaboi282.jpg\n",
      "Renaming bidalasana_sharkaboi283.jpg\n",
      "Renaming bidalasana_sharkaboi284.jpg\n",
      "Renaming bidalasana_sharkaboi285.jpg\n",
      "Renaming bidalasana_sharkaboi286.jpg\n",
      "Renaming bidalasana_sharkaboi287.jpg\n",
      "Renaming bidalasana_sharkaboi288.jpg\n",
      "Renaming bidalasana_sharkaboi289.jpg\n",
      "Renaming bidalasana_sharkaboi29.jpeg\n",
      "Renaming bidalasana_sharkaboi290.jpg\n",
      "Renaming bidalasana_sharkaboi291.jpg\n",
      "Renaming bidalasana_sharkaboi292.jpg\n",
      "Renaming bidalasana_sharkaboi293.jpg\n",
      "Renaming bidalasana_sharkaboi294.jpg\n",
      "Renaming bidalasana_sharkaboi295.jpg\n",
      "Renaming bidalasana_sharkaboi296.jpg\n",
      "Renaming bidalasana_sharkaboi297.jpg\n",
      "Renaming bidalasana_sharkaboi298.jpg\n",
      "Renaming bidalasana_sharkaboi299.jpg\n",
      "Renaming bidalasana_sharkaboi3.jpeg\n",
      "Renaming bidalasana_sharkaboi30.jpg\n",
      "Renaming bidalasana_sharkaboi300.jpg\n",
      "Renaming bidalasana_sharkaboi301.jpg\n",
      "Renaming bidalasana_sharkaboi302.jpg\n",
      "Renaming bidalasana_sharkaboi303.jpg\n",
      "Renaming bidalasana_sharkaboi304.jpg\n",
      "Renaming bidalasana_sharkaboi305.jpg\n",
      "Renaming bidalasana_sharkaboi306.jpg\n",
      "Renaming bidalasana_sharkaboi307.jpg\n",
      "Renaming bidalasana_sharkaboi308.jpg\n",
      "Renaming bidalasana_sharkaboi309.jpg\n",
      "Renaming bidalasana_sharkaboi31.jpg\n",
      "Renaming bidalasana_sharkaboi310.jpg\n",
      "Renaming bidalasana_sharkaboi311.jpg\n",
      "Renaming bidalasana_sharkaboi312.jpg\n",
      "Renaming bidalasana_sharkaboi313.jpg\n",
      "Renaming bidalasana_sharkaboi314.jpg\n",
      "Renaming bidalasana_sharkaboi315.jpg\n",
      "Renaming bidalasana_sharkaboi32.jpeg\n",
      "Renaming bidalasana_sharkaboi33.jpg\n",
      "Renaming bidalasana_sharkaboi34.jpg\n",
      "Renaming bidalasana_sharkaboi35.jpg\n",
      "Renaming bidalasana_sharkaboi36.jpeg\n",
      "Renaming bidalasana_sharkaboi37.jpg\n",
      "Renaming bidalasana_sharkaboi38.jpg\n",
      "Renaming bidalasana_sharkaboi39.jpg\n",
      "Renaming bidalasana_sharkaboi4.jpg\n",
      "Renaming bidalasana_sharkaboi40.jpg\n",
      "Renaming bidalasana_sharkaboi41.jpeg\n",
      "Renaming bidalasana_sharkaboi42.jpg\n",
      "Renaming bidalasana_sharkaboi43.jpg\n",
      "Renaming bidalasana_sharkaboi44.jpg\n",
      "Renaming bidalasana_sharkaboi45.jpg\n",
      "Renaming bidalasana_sharkaboi46.jpg\n",
      "Renaming bidalasana_sharkaboi47.jpg\n",
      "Renaming bidalasana_sharkaboi48.jpg\n",
      "Renaming bidalasana_sharkaboi49.jpg\n",
      "Renaming bidalasana_sharkaboi5.jpg\n",
      "Renaming bidalasana_sharkaboi50.jpg\n",
      "Renaming bidalasana_sharkaboi51.jpg\n",
      "Renaming bidalasana_sharkaboi52.jpg\n",
      "Renaming bidalasana_sharkaboi53.jpeg\n",
      "Renaming bidalasana_sharkaboi54.jpg\n",
      "Renaming bidalasana_sharkaboi55.jpg\n",
      "Renaming bidalasana_sharkaboi56.jpg\n",
      "Renaming bidalasana_sharkaboi57.jpg\n",
      "Renaming bidalasana_sharkaboi58.jpg\n",
      "Renaming bidalasana_sharkaboi59.jpeg\n",
      "Renaming bidalasana_sharkaboi6.jpg\n",
      "Renaming bidalasana_sharkaboi60.jpg\n",
      "Renaming bidalasana_sharkaboi61.jpg\n",
      "Renaming bidalasana_sharkaboi62.jpeg\n",
      "Renaming bidalasana_sharkaboi63.jpg\n",
      "Renaming bidalasana_sharkaboi64.jpg\n",
      "Renaming bidalasana_sharkaboi65.jpg\n",
      "Renaming bidalasana_sharkaboi66.jpeg\n",
      "Renaming bidalasana_sharkaboi67.jpg\n",
      "Renaming bidalasana_sharkaboi68.jpg\n",
      "Renaming bidalasana_sharkaboi69.jpg\n",
      "Renaming bidalasana_sharkaboi7.jpg\n",
      "Renaming bidalasana_sharkaboi70.jpg\n",
      "Renaming bidalasana_sharkaboi71.jpg\n",
      "Renaming bidalasana_sharkaboi72.jpeg\n",
      "Renaming bidalasana_sharkaboi73.jpg\n",
      "Renaming bidalasana_sharkaboi74.jpeg\n",
      "Renaming bidalasana_sharkaboi75.jpg\n",
      "Renaming bidalasana_sharkaboi76.jpg\n",
      "Renaming bidalasana_sharkaboi77.jpg\n",
      "Renaming bidalasana_sharkaboi78.jpeg\n",
      "Renaming bidalasana_sharkaboi79.jpg\n",
      "Renaming bidalasana_sharkaboi8.jpeg\n",
      "Renaming bidalasana_sharkaboi80.jpg\n",
      "Renaming bidalasana_sharkaboi81.jpeg\n",
      "Renaming bidalasana_sharkaboi82.jpg\n",
      "Renaming bidalasana_sharkaboi83.jpg\n",
      "Renaming bidalasana_sharkaboi84.jpg\n",
      "Renaming bidalasana_sharkaboi85.jpg\n",
      "Renaming bidalasana_sharkaboi86.jpg\n",
      "Renaming bidalasana_sharkaboi87.jpeg\n",
      "Renaming bidalasana_sharkaboi88.jpg\n",
      "Renaming bidalasana_sharkaboi89.jpg\n",
      "Renaming bidalasana_sharkaboi9.jpg\n",
      "Renaming bidalasana_sharkaboi90.jpg\n",
      "Renaming bidalasana_sharkaboi91.jpeg\n",
      "Renaming bidalasana_sharkaboi92.jpg\n",
      "Renaming bidalasana_sharkaboi93.jpg\n",
      "Renaming bidalasana_sharkaboi94.jpg\n",
      "Renaming bidalasana_sharkaboi95.jpeg\n",
      "Renaming bidalasana_sharkaboi96.jpg\n",
      "Renaming bidalasana_sharkaboi97.jpg\n",
      "Renaming bidalasana_sharkaboi98.jpg\n",
      "Renaming bidalasana_sharkaboi99.jpeg\n",
      "Renaming phalakasana_sharkaboi1.jpg\n",
      "Renaming phalakasana_sharkaboi10.jpg\n",
      "Renaming phalakasana_sharkaboi100.jpg\n",
      "Renaming phalakasana_sharkaboi101.jpg\n",
      "Renaming phalakasana_sharkaboi102.jpg\n",
      "Renaming phalakasana_sharkaboi103.jpg\n",
      "Renaming phalakasana_sharkaboi104.jpg\n",
      "Renaming phalakasana_sharkaboi105.jpg\n",
      "Renaming phalakasana_sharkaboi106.jpg\n",
      "Renaming phalakasana_sharkaboi107.jpg\n",
      "Renaming phalakasana_sharkaboi108.jpg\n",
      "Renaming phalakasana_sharkaboi109.jpg\n",
      "Renaming phalakasana_sharkaboi11.jpg\n",
      "Renaming phalakasana_sharkaboi110.jpg\n",
      "Renaming phalakasana_sharkaboi111.jpg\n",
      "Renaming phalakasana_sharkaboi112.jpg\n",
      "Renaming phalakasana_sharkaboi113.jpg\n",
      "Renaming phalakasana_sharkaboi114.jpg\n",
      "Renaming phalakasana_sharkaboi115.jpg\n",
      "Renaming phalakasana_sharkaboi116.jpg\n",
      "Renaming phalakasana_sharkaboi117.jpg\n",
      "Renaming phalakasana_sharkaboi118.jpg\n",
      "Renaming phalakasana_sharkaboi119.jpg\n",
      "Renaming phalakasana_sharkaboi12.jpg\n",
      "Renaming phalakasana_sharkaboi120.jpg\n",
      "Renaming phalakasana_sharkaboi121.jpg\n",
      "Renaming phalakasana_sharkaboi122.jpg\n",
      "Renaming phalakasana_sharkaboi123.jpg\n",
      "Renaming phalakasana_sharkaboi124.jpg\n",
      "Renaming phalakasana_sharkaboi125.jpg\n",
      "Renaming phalakasana_sharkaboi126.jpg\n",
      "Renaming phalakasana_sharkaboi127.jpg\n",
      "Renaming phalakasana_sharkaboi128.jpg\n",
      "Renaming phalakasana_sharkaboi129.jpg\n",
      "Renaming phalakasana_sharkaboi13.jpg\n",
      "Renaming phalakasana_sharkaboi130.jpg\n",
      "Renaming phalakasana_sharkaboi131.jpg\n",
      "Renaming phalakasana_sharkaboi132.jpg\n",
      "Renaming phalakasana_sharkaboi133.jpg\n",
      "Renaming phalakasana_sharkaboi134.jpg\n",
      "Renaming phalakasana_sharkaboi135.jpg\n",
      "Renaming phalakasana_sharkaboi136.jpg\n",
      "Renaming phalakasana_sharkaboi137.jpg\n",
      "Renaming phalakasana_sharkaboi138.jpg\n",
      "Renaming phalakasana_sharkaboi139.jpg\n",
      "Renaming phalakasana_sharkaboi14.jpg\n",
      "Renaming phalakasana_sharkaboi140.jpg\n",
      "Renaming phalakasana_sharkaboi141.jpg\n",
      "Renaming phalakasana_sharkaboi142.jpg\n",
      "Renaming phalakasana_sharkaboi143.jpg\n",
      "Renaming phalakasana_sharkaboi144.jpg\n",
      "Renaming phalakasana_sharkaboi145.jpg\n",
      "Renaming phalakasana_sharkaboi15.jpg\n",
      "Renaming phalakasana_sharkaboi16.jpg\n",
      "Renaming phalakasana_sharkaboi17.jpg\n",
      "Renaming phalakasana_sharkaboi18.jpg\n",
      "Renaming phalakasana_sharkaboi19.jpg\n",
      "Renaming phalakasana_sharkaboi2.jpg\n",
      "Renaming phalakasana_sharkaboi20.jpg\n",
      "Renaming phalakasana_sharkaboi21.jpg\n",
      "Renaming phalakasana_sharkaboi22.jpg\n",
      "Renaming phalakasana_sharkaboi23.jpg\n",
      "Renaming phalakasana_sharkaboi24.jpg\n",
      "Renaming phalakasana_sharkaboi25.jpg\n",
      "Renaming phalakasana_sharkaboi26.jpg\n",
      "Renaming phalakasana_sharkaboi27.jpg\n",
      "Renaming phalakasana_sharkaboi28.jpg\n",
      "Renaming phalakasana_sharkaboi29.jpg\n",
      "Renaming phalakasana_sharkaboi3.jpg\n",
      "Renaming phalakasana_sharkaboi30.jpg\n",
      "Renaming phalakasana_sharkaboi31.jpg\n",
      "Renaming phalakasana_sharkaboi32.jpg\n",
      "Renaming phalakasana_sharkaboi33.jpg\n",
      "Renaming phalakasana_sharkaboi34.jpg\n",
      "Renaming phalakasana_sharkaboi35.jpg\n",
      "Renaming phalakasana_sharkaboi36.jpg\n",
      "Renaming phalakasana_sharkaboi37.jpg\n",
      "Renaming phalakasana_sharkaboi38.jpg\n",
      "Renaming phalakasana_sharkaboi39.jpg\n",
      "Renaming phalakasana_sharkaboi4.jpg\n",
      "Renaming phalakasana_sharkaboi40.jpg\n",
      "Renaming phalakasana_sharkaboi41.jpg\n",
      "Renaming phalakasana_sharkaboi42.jpg\n",
      "Renaming phalakasana_sharkaboi43.jpg\n",
      "Renaming phalakasana_sharkaboi44.jpg\n",
      "Renaming phalakasana_sharkaboi45.jpg\n",
      "Renaming phalakasana_sharkaboi46.jpg\n",
      "Renaming phalakasana_sharkaboi47.jpg\n",
      "Renaming phalakasana_sharkaboi48.jpg\n",
      "Renaming phalakasana_sharkaboi49.jpg\n",
      "Renaming phalakasana_sharkaboi5.jpg\n",
      "Renaming phalakasana_sharkaboi50.jpg\n",
      "Renaming phalakasana_sharkaboi51.jpg\n",
      "Renaming phalakasana_sharkaboi52.jpg\n",
      "Renaming phalakasana_sharkaboi53.jpg\n",
      "Renaming phalakasana_sharkaboi54.jpg\n",
      "Renaming phalakasana_sharkaboi55.jpg\n",
      "Renaming phalakasana_sharkaboi56.jpg\n",
      "Renaming phalakasana_sharkaboi57.jpg\n",
      "Renaming phalakasana_sharkaboi58.jpg\n",
      "Renaming phalakasana_sharkaboi59.jpg\n",
      "Renaming phalakasana_sharkaboi6.jpg\n",
      "Renaming phalakasana_sharkaboi60.jpg\n",
      "Renaming phalakasana_sharkaboi61.jpg\n",
      "Renaming phalakasana_sharkaboi62.jpg\n",
      "Renaming phalakasana_sharkaboi63.jpg\n",
      "Renaming phalakasana_sharkaboi64.jpg\n",
      "Renaming phalakasana_sharkaboi65.jpg\n",
      "Renaming phalakasana_sharkaboi66.jpg\n",
      "Renaming phalakasana_sharkaboi67.jpg\n",
      "Renaming phalakasana_sharkaboi68.jpg\n",
      "Renaming phalakasana_sharkaboi69.jpg\n",
      "Renaming phalakasana_sharkaboi7.jpg\n",
      "Renaming phalakasana_sharkaboi70.jpg\n",
      "Renaming phalakasana_sharkaboi71.jpg\n"
     ]
    },
    {
     "name": "stdout",
     "output_type": "stream",
     "text": [
      "Renaming phalakasana_sharkaboi72.jpg\n",
      "Renaming phalakasana_sharkaboi73.jpg\n",
      "Renaming phalakasana_sharkaboi74.jpeg\n",
      "Renaming phalakasana_sharkaboi75.jpg\n",
      "Renaming phalakasana_sharkaboi76.jpg\n",
      "Renaming phalakasana_sharkaboi77.jpg\n",
      "Renaming phalakasana_sharkaboi78.jpg\n",
      "Renaming phalakasana_sharkaboi79.jpg\n",
      "Renaming phalakasana_sharkaboi8.jpg\n",
      "Renaming phalakasana_sharkaboi80.jpg\n",
      "Renaming phalakasana_sharkaboi81.jpg\n",
      "Renaming phalakasana_sharkaboi82.jpg\n",
      "Renaming phalakasana_sharkaboi83.jpg\n",
      "Renaming phalakasana_sharkaboi84.jpg\n",
      "Renaming phalakasana_sharkaboi85.jpg\n",
      "Renaming phalakasana_sharkaboi86.jpg\n",
      "Renaming phalakasana_sharkaboi87.jpg\n",
      "Renaming phalakasana_sharkaboi88.jpg\n",
      "Renaming phalakasana_sharkaboi89.jpg\n",
      "Renaming phalakasana_sharkaboi9.jpg\n",
      "Renaming phalakasana_sharkaboi90.jpg\n",
      "Renaming phalakasana_sharkaboi91.jpg\n",
      "Renaming phalakasana_sharkaboi92.jpg\n",
      "Renaming phalakasana_sharkaboi93.jpg\n",
      "Renaming phalakasana_sharkaboi94.jpg\n",
      "Renaming phalakasana_sharkaboi95.jpg\n",
      "Renaming phalakasana_sharkaboi96.jpg\n",
      "Renaming phalakasana_sharkaboi97.jpg\n",
      "Renaming phalakasana_sharkaboi98.jpg\n",
      "Renaming phalakasana_sharkaboi99.jpg\n",
      "Renaming ustrasana_sharkaboi1.jpg\n",
      "Renaming ustrasana_sharkaboi10.jpg\n",
      "Renaming ustrasana_sharkaboi11.jpg\n",
      "Renaming ustrasana_sharkaboi12.jpg\n",
      "Renaming ustrasana_sharkaboi13.jpg\n",
      "Renaming ustrasana_sharkaboi14.jpg\n",
      "Renaming ustrasana_sharkaboi15.jpg\n",
      "Renaming ustrasana_sharkaboi16.jpg\n",
      "Renaming ustrasana_sharkaboi17.jpg\n",
      "Renaming ustrasana_sharkaboi18.jpg\n",
      "Renaming ustrasana_sharkaboi19.jpg\n",
      "Renaming ustrasana_sharkaboi2.jpg\n",
      "Renaming ustrasana_sharkaboi20.jpg\n",
      "Renaming ustrasana_sharkaboi21.jpg\n",
      "Renaming ustrasana_sharkaboi22.jpg\n",
      "Renaming ustrasana_sharkaboi23.jpg\n",
      "Renaming ustrasana_sharkaboi24.jpg\n",
      "Renaming ustrasana_sharkaboi25.jpg\n",
      "Renaming ustrasana_sharkaboi26.jpg\n",
      "Renaming ustrasana_sharkaboi27.jpg\n",
      "Renaming ustrasana_sharkaboi28.jpg\n",
      "Renaming ustrasana_sharkaboi29.jpg\n",
      "Renaming ustrasana_sharkaboi3.jpg\n",
      "Renaming ustrasana_sharkaboi30.jpg\n",
      "Renaming ustrasana_sharkaboi31.jpg\n",
      "Renaming ustrasana_sharkaboi32.jpg\n",
      "Renaming ustrasana_sharkaboi33.jpg\n",
      "Renaming ustrasana_sharkaboi34.jpg\n",
      "Renaming ustrasana_sharkaboi35.jpg\n",
      "Renaming ustrasana_sharkaboi36.jpg\n",
      "Renaming ustrasana_sharkaboi37.jpg\n",
      "Renaming ustrasana_sharkaboi38.jpg\n",
      "Renaming ustrasana_sharkaboi39.jpg\n",
      "Renaming ustrasana_sharkaboi4.jpg\n",
      "Renaming ustrasana_sharkaboi40.jpg\n",
      "Renaming ustrasana_sharkaboi41.jpg\n",
      "Renaming ustrasana_sharkaboi42.jpg\n",
      "Renaming ustrasana_sharkaboi43.jpg\n",
      "Renaming ustrasana_sharkaboi44.jpg\n",
      "Renaming ustrasana_sharkaboi45.jpg\n",
      "Renaming ustrasana_sharkaboi46.jpg\n",
      "Renaming ustrasana_sharkaboi47.jpg\n",
      "Renaming ustrasana_sharkaboi48.jpg\n",
      "Renaming ustrasana_sharkaboi49.jpg\n",
      "Renaming ustrasana_sharkaboi5.jpg\n",
      "Renaming ustrasana_sharkaboi50.jpg\n",
      "Renaming ustrasana_sharkaboi51.jpg\n",
      "Renaming ustrasana_sharkaboi52.jpg\n",
      "Renaming ustrasana_sharkaboi53.jpg\n",
      "Renaming ustrasana_sharkaboi54.jpg\n",
      "Renaming ustrasana_sharkaboi55.jpg\n",
      "Renaming ustrasana_sharkaboi56.jpg\n",
      "Renaming ustrasana_sharkaboi57.jpg\n",
      "Renaming ustrasana_sharkaboi58.jpg\n",
      "Renaming ustrasana_sharkaboi59.jpg\n",
      "Renaming ustrasana_sharkaboi6.jpg\n",
      "Renaming ustrasana_sharkaboi60.jpg\n",
      "Renaming ustrasana_sharkaboi61.jpg\n",
      "Renaming ustrasana_sharkaboi62.jpg\n",
      "Renaming ustrasana_sharkaboi63.jpg\n",
      "Renaming ustrasana_sharkaboi64.jpg\n",
      "Renaming ustrasana_sharkaboi65.jpg\n",
      "Renaming ustrasana_sharkaboi66.jpg\n",
      "Renaming ustrasana_sharkaboi7.jpg\n",
      "Renaming ustrasana_sharkaboi8.jpg\n",
      "Renaming ustrasana_sharkaboi9.jpg\n",
      "Renaming utkatasana_sharkaboi1.jpg\n",
      "Renaming utkatasana_sharkaboi10.jpg\n",
      "Renaming utkatasana_sharkaboi100.jpg\n",
      "Renaming utkatasana_sharkaboi101.jpg\n",
      "Renaming utkatasana_sharkaboi102.jpg\n",
      "Renaming utkatasana_sharkaboi103.jpg\n",
      "Renaming utkatasana_sharkaboi104.jpg\n",
      "Renaming utkatasana_sharkaboi105.jpg\n",
      "Renaming utkatasana_sharkaboi106.jpg\n",
      "Renaming utkatasana_sharkaboi107.jpg\n",
      "Renaming utkatasana_sharkaboi108.jpg\n",
      "Renaming utkatasana_sharkaboi109.jpg\n",
      "Renaming utkatasana_sharkaboi11.jpg\n",
      "Renaming utkatasana_sharkaboi110.jpg\n",
      "Renaming utkatasana_sharkaboi111.jpg\n",
      "Renaming utkatasana_sharkaboi112.jpg\n",
      "Renaming utkatasana_sharkaboi113.jpg\n",
      "Renaming utkatasana_sharkaboi114.jpg\n",
      "Renaming utkatasana_sharkaboi115.jpg\n",
      "Renaming utkatasana_sharkaboi116.jpg\n",
      "Renaming utkatasana_sharkaboi117.jpg\n",
      "Renaming utkatasana_sharkaboi118.jpg\n",
      "Renaming utkatasana_sharkaboi119.jpg\n",
      "Renaming utkatasana_sharkaboi12.jpg\n",
      "Renaming utkatasana_sharkaboi120.jpg\n",
      "Renaming utkatasana_sharkaboi121.jpg\n",
      "Renaming utkatasana_sharkaboi122.jpg\n",
      "Renaming utkatasana_sharkaboi123.jpg\n",
      "Renaming utkatasana_sharkaboi124.jpg\n",
      "Renaming utkatasana_sharkaboi125.jpg\n",
      "Renaming utkatasana_sharkaboi126.jpg\n",
      "Renaming utkatasana_sharkaboi127.jpg\n",
      "Renaming utkatasana_sharkaboi128.jpg\n",
      "Renaming utkatasana_sharkaboi129.jpg\n",
      "Renaming utkatasana_sharkaboi13.jpg\n",
      "Renaming utkatasana_sharkaboi130.jpg\n",
      "Renaming utkatasana_sharkaboi131.jpg\n",
      "Renaming utkatasana_sharkaboi132.jpg\n",
      "Renaming utkatasana_sharkaboi133.jpg\n",
      "Renaming utkatasana_sharkaboi134.jpg\n",
      "Renaming utkatasana_sharkaboi135.jpg\n",
      "Renaming utkatasana_sharkaboi136.jpg\n",
      "Renaming utkatasana_sharkaboi137.jpg\n",
      "Renaming utkatasana_sharkaboi138.jpg\n",
      "Renaming utkatasana_sharkaboi139.jpg\n",
      "Renaming utkatasana_sharkaboi14.jpg\n",
      "Renaming utkatasana_sharkaboi140.jpg\n",
      "Renaming utkatasana_sharkaboi141.jpg\n",
      "Renaming utkatasana_sharkaboi142.jpg\n",
      "Renaming utkatasana_sharkaboi143.jpg\n",
      "Renaming utkatasana_sharkaboi144.jpg\n",
      "Renaming utkatasana_sharkaboi145.jpg\n",
      "Renaming utkatasana_sharkaboi146.jpg\n",
      "Renaming utkatasana_sharkaboi147.jpg\n",
      "Renaming utkatasana_sharkaboi148.jpg\n",
      "Renaming utkatasana_sharkaboi149.jpg\n",
      "Renaming utkatasana_sharkaboi15.jpg\n",
      "Renaming utkatasana_sharkaboi150.jpg\n",
      "Renaming utkatasana_sharkaboi151.jpg\n",
      "Renaming utkatasana_sharkaboi152.jpg\n",
      "Renaming utkatasana_sharkaboi153.jpg\n",
      "Renaming utkatasana_sharkaboi154.jpg\n",
      "Renaming utkatasana_sharkaboi155.jpg\n",
      "Renaming utkatasana_sharkaboi156.jpg\n",
      "Renaming utkatasana_sharkaboi157.jpg\n",
      "Renaming utkatasana_sharkaboi158.jpg\n",
      "Renaming utkatasana_sharkaboi159.jpg\n",
      "Renaming utkatasana_sharkaboi16.jpg\n",
      "Renaming utkatasana_sharkaboi160.jpg\n",
      "Renaming utkatasana_sharkaboi161.jpg\n",
      "Renaming utkatasana_sharkaboi162.jpg\n",
      "Renaming utkatasana_sharkaboi163.jpg\n",
      "Renaming utkatasana_sharkaboi164.jpg\n",
      "Renaming utkatasana_sharkaboi165.jpg\n",
      "Renaming utkatasana_sharkaboi166.jpg\n",
      "Renaming utkatasana_sharkaboi167.jpg\n",
      "Renaming utkatasana_sharkaboi168.jpg\n",
      "Renaming utkatasana_sharkaboi169.jpg\n",
      "Renaming utkatasana_sharkaboi17.jpg\n",
      "Renaming utkatasana_sharkaboi170.jpg\n",
      "Renaming utkatasana_sharkaboi171.jpg\n",
      "Renaming utkatasana_sharkaboi172.jpg\n",
      "Renaming utkatasana_sharkaboi173.jpg\n",
      "Renaming utkatasana_sharkaboi174.jpg\n",
      "Renaming utkatasana_sharkaboi175.jpg\n",
      "Renaming utkatasana_sharkaboi176.jpg\n",
      "Renaming utkatasana_sharkaboi177.jpg\n",
      "Renaming utkatasana_sharkaboi178.jpg\n",
      "Renaming utkatasana_sharkaboi179.jpg\n",
      "Renaming utkatasana_sharkaboi18.jpg\n",
      "Renaming utkatasana_sharkaboi180.jpg\n",
      "Renaming utkatasana_sharkaboi181.jpg\n",
      "Renaming utkatasana_sharkaboi182.jpg\n",
      "Renaming utkatasana_sharkaboi183.jpg\n",
      "Renaming utkatasana_sharkaboi184.jpg\n",
      "Renaming utkatasana_sharkaboi185.jpg\n",
      "Renaming utkatasana_sharkaboi186.jpg\n",
      "Renaming utkatasana_sharkaboi187.jpg\n",
      "Renaming utkatasana_sharkaboi188.jpg\n",
      "Renaming utkatasana_sharkaboi189.jpg\n",
      "Renaming utkatasana_sharkaboi19.jpg\n",
      "Renaming utkatasana_sharkaboi190.jpg\n",
      "Renaming utkatasana_sharkaboi191.jpg\n",
      "Renaming utkatasana_sharkaboi192.jpg\n",
      "Renaming utkatasana_sharkaboi193.jpg\n",
      "Renaming utkatasana_sharkaboi194.jpg\n",
      "Renaming utkatasana_sharkaboi195.jpg\n",
      "Renaming utkatasana_sharkaboi196.jpg\n",
      "Renaming utkatasana_sharkaboi197.jpg\n",
      "Renaming utkatasana_sharkaboi198.jpg\n",
      "Renaming utkatasana_sharkaboi199.jpg\n",
      "Renaming utkatasana_sharkaboi2.jpg\n",
      "Renaming utkatasana_sharkaboi20.jpg\n",
      "Renaming utkatasana_sharkaboi200.jpg\n",
      "Renaming utkatasana_sharkaboi201.jpg\n",
      "Renaming utkatasana_sharkaboi202.jpg\n",
      "Renaming utkatasana_sharkaboi203.jpg\n",
      "Renaming utkatasana_sharkaboi204.jpg\n",
      "Renaming utkatasana_sharkaboi205.jpg\n",
      "Renaming utkatasana_sharkaboi206.jpg\n",
      "Renaming utkatasana_sharkaboi207.jpg\n",
      "Renaming utkatasana_sharkaboi208.jpg\n",
      "Renaming utkatasana_sharkaboi209.jpg\n",
      "Renaming utkatasana_sharkaboi21.jpg\n",
      "Renaming utkatasana_sharkaboi210.jpg\n",
      "Renaming utkatasana_sharkaboi211.jpg\n",
      "Renaming utkatasana_sharkaboi212.jpg\n",
      "Renaming utkatasana_sharkaboi213.jpg\n",
      "Renaming utkatasana_sharkaboi214.jpg\n",
      "Renaming utkatasana_sharkaboi215.jpg\n",
      "Renaming utkatasana_sharkaboi216.jpg\n",
      "Renaming utkatasana_sharkaboi217.jpg\n",
      "Renaming utkatasana_sharkaboi218.jpg\n",
      "Renaming utkatasana_sharkaboi219.jpg\n",
      "Renaming utkatasana_sharkaboi22.jpg\n",
      "Renaming utkatasana_sharkaboi220.jpg\n",
      "Renaming utkatasana_sharkaboi221.jpg\n",
      "Renaming utkatasana_sharkaboi222.jpg\n",
      "Renaming utkatasana_sharkaboi223.jpg\n",
      "Renaming utkatasana_sharkaboi224.jpg\n",
      "Renaming utkatasana_sharkaboi225.jpg\n",
      "Renaming utkatasana_sharkaboi226.jpg\n",
      "Renaming utkatasana_sharkaboi23.jpg\n",
      "Renaming utkatasana_sharkaboi24.jpg\n",
      "Renaming utkatasana_sharkaboi25.jpg\n",
      "Renaming utkatasana_sharkaboi26.jpg\n",
      "Renaming utkatasana_sharkaboi27.jpg\n",
      "Renaming utkatasana_sharkaboi28.jpg\n",
      "Renaming utkatasana_sharkaboi29.jpg\n",
      "Renaming utkatasana_sharkaboi3.jpg\n",
      "Renaming utkatasana_sharkaboi30.jpg\n",
      "Renaming utkatasana_sharkaboi31.jpg\n",
      "Renaming utkatasana_sharkaboi32.jpg\n",
      "Renaming utkatasana_sharkaboi33.jpg\n",
      "Renaming utkatasana_sharkaboi34.jpg\n",
      "Renaming utkatasana_sharkaboi35.jpg\n",
      "Renaming utkatasana_sharkaboi36.jpg\n",
      "Renaming utkatasana_sharkaboi37.jpg\n",
      "Renaming utkatasana_sharkaboi38.jpg\n",
      "Renaming utkatasana_sharkaboi39.jpg\n",
      "Renaming utkatasana_sharkaboi4.jpg\n",
      "Renaming utkatasana_sharkaboi40.jpg\n",
      "Renaming utkatasana_sharkaboi41.jpg\n",
      "Renaming utkatasana_sharkaboi42.jpg\n",
      "Renaming utkatasana_sharkaboi43.jpg\n",
      "Renaming utkatasana_sharkaboi44.jpg\n",
      "Renaming utkatasana_sharkaboi45.jpg\n",
      "Renaming utkatasana_sharkaboi46.jpg\n",
      "Renaming utkatasana_sharkaboi47.jpg\n",
      "Renaming utkatasana_sharkaboi48.jpg\n",
      "Renaming utkatasana_sharkaboi49.jpg\n",
      "Renaming utkatasana_sharkaboi5.jpg\n",
      "Renaming utkatasana_sharkaboi50.jpg\n",
      "Renaming utkatasana_sharkaboi51.jpg\n",
      "Renaming utkatasana_sharkaboi52.jpg\n",
      "Renaming utkatasana_sharkaboi53.jpg\n",
      "Renaming utkatasana_sharkaboi54.jpg\n",
      "Renaming utkatasana_sharkaboi55.jpg\n",
      "Renaming utkatasana_sharkaboi56.jpg\n",
      "Renaming utkatasana_sharkaboi57.jpg\n",
      "Renaming utkatasana_sharkaboi58.jpg\n",
      "Renaming utkatasana_sharkaboi59.jpg\n",
      "Renaming utkatasana_sharkaboi6.jpg\n",
      "Renaming utkatasana_sharkaboi60.jpg\n",
      "Renaming utkatasana_sharkaboi61.jpg\n",
      "Renaming utkatasana_sharkaboi62.jpg\n",
      "Renaming utkatasana_sharkaboi63.jpg\n",
      "Renaming utkatasana_sharkaboi64.jpg\n",
      "Renaming utkatasana_sharkaboi65.jpg\n",
      "Renaming utkatasana_sharkaboi66.jpg\n",
      "Renaming utkatasana_sharkaboi67.jpg\n",
      "Renaming utkatasana_sharkaboi68.jpg\n",
      "Renaming utkatasana_sharkaboi69.jpg\n",
      "Renaming utkatasana_sharkaboi7.jpg\n",
      "Renaming utkatasana_sharkaboi70.jpg\n",
      "Renaming utkatasana_sharkaboi71.jpg\n",
      "Renaming utkatasana_sharkaboi72.jpg\n",
      "Renaming utkatasana_sharkaboi73.jpg\n",
      "Renaming utkatasana_sharkaboi74.jpg\n",
      "Renaming utkatasana_sharkaboi75.jpg\n",
      "Renaming utkatasana_sharkaboi76.jpg\n",
      "Renaming utkatasana_sharkaboi77.jpg\n",
      "Renaming utkatasana_sharkaboi78.jpg\n",
      "Renaming utkatasana_sharkaboi79.jpg\n",
      "Renaming utkatasana_sharkaboi8.jpg\n",
      "Renaming utkatasana_sharkaboi80.jpg\n",
      "Renaming utkatasana_sharkaboi81.jpg\n",
      "Renaming utkatasana_sharkaboi82.jpg\n",
      "Renaming utkatasana_sharkaboi83.jpg\n",
      "Renaming utkatasana_sharkaboi84.jpg\n",
      "Renaming utkatasana_sharkaboi85.jpg\n",
      "Renaming utkatasana_sharkaboi86.jpg\n",
      "Renaming utkatasana_sharkaboi87.jpg\n",
      "Renaming utkatasana_sharkaboi88.jpg\n",
      "Renaming utkatasana_sharkaboi89.jpg\n",
      "Renaming utkatasana_sharkaboi9.jpg\n",
      "Renaming utkatasana_sharkaboi90.jpg\n",
      "Renaming utkatasana_sharkaboi91.jpg\n",
      "Renaming utkatasana_sharkaboi92.jpg\n",
      "Renaming utkatasana_sharkaboi93.jpg\n",
      "Renaming utkatasana_sharkaboi94.jpg\n",
      "Renaming utkatasana_sharkaboi95.jpg\n",
      "Renaming utkatasana_sharkaboi96.jpg\n",
      "Renaming utkatasana_sharkaboi97.jpg\n",
      "Renaming utkatasana_sharkaboi98.jpg\n",
      "Renaming utkatasana_sharkaboi99.jpg\n",
      "Renaming utkata_konasana_sharkaboi1.jpg\n",
      "Renaming utkata_konasana_sharkaboi10.jpg\n",
      "Renaming utkata_konasana_sharkaboi100.jpg\n",
      "Renaming utkata_konasana_sharkaboi101.jpg\n",
      "Renaming utkata_konasana_sharkaboi102.jpg\n",
      "Renaming utkata_konasana_sharkaboi103.jpg\n",
      "Renaming utkata_konasana_sharkaboi104.jpg\n",
      "Renaming utkata_konasana_sharkaboi105.jpg\n",
      "Renaming utkata_konasana_sharkaboi106.jpg\n",
      "Renaming utkata_konasana_sharkaboi107.jpg\n",
      "Renaming utkata_konasana_sharkaboi108.jpg\n",
      "Renaming utkata_konasana_sharkaboi109.jpg\n",
      "Renaming utkata_konasana_sharkaboi11.jpg\n",
      "Renaming utkata_konasana_sharkaboi110.jpg\n",
      "Renaming utkata_konasana_sharkaboi111.jpg\n",
      "Renaming utkata_konasana_sharkaboi112.jpg\n",
      "Renaming utkata_konasana_sharkaboi113.jpg\n",
      "Renaming utkata_konasana_sharkaboi114.jpg\n",
      "Renaming utkata_konasana_sharkaboi115.jpg\n",
      "Renaming utkata_konasana_sharkaboi116.jpg\n",
      "Renaming utkata_konasana_sharkaboi117.jpg\n",
      "Renaming utkata_konasana_sharkaboi118.jpg\n",
      "Renaming utkata_konasana_sharkaboi119.jpg\n",
      "Renaming utkata_konasana_sharkaboi12.jpg\n",
      "Renaming utkata_konasana_sharkaboi120.jpg\n",
      "Renaming utkata_konasana_sharkaboi121.jpg\n",
      "Renaming utkata_konasana_sharkaboi122.jpg\n",
      "Renaming utkata_konasana_sharkaboi123.jpg\n",
      "Renaming utkata_konasana_sharkaboi124.jpg\n",
      "Renaming utkata_konasana_sharkaboi125.jpg\n",
      "Renaming utkata_konasana_sharkaboi126.jpg\n",
      "Renaming utkata_konasana_sharkaboi127.jpg\n",
      "Renaming utkata_konasana_sharkaboi128.jpg\n",
      "Renaming utkata_konasana_sharkaboi129.jpg\n",
      "Renaming utkata_konasana_sharkaboi13.jpg\n",
      "Renaming utkata_konasana_sharkaboi130.jpg\n",
      "Renaming utkata_konasana_sharkaboi131.jpg\n",
      "Renaming utkata_konasana_sharkaboi132.jpg\n",
      "Renaming utkata_konasana_sharkaboi133.jpg\n",
      "Renaming utkata_konasana_sharkaboi134.jpg\n",
      "Renaming utkata_konasana_sharkaboi135.jpg\n",
      "Renaming utkata_konasana_sharkaboi136.jpg\n",
      "Renaming utkata_konasana_sharkaboi137.jpg\n",
      "Renaming utkata_konasana_sharkaboi138.jpg\n",
      "Renaming utkata_konasana_sharkaboi139.jpg\n",
      "Renaming utkata_konasana_sharkaboi14.jpg\n",
      "Renaming utkata_konasana_sharkaboi140.jpg\n",
      "Renaming utkata_konasana_sharkaboi141.jpg\n",
      "Renaming utkata_konasana_sharkaboi142.jpg\n",
      "Renaming utkata_konasana_sharkaboi143.jpg\n",
      "Renaming utkata_konasana_sharkaboi144.jpg\n",
      "Renaming utkata_konasana_sharkaboi145.jpg\n",
      "Renaming utkata_konasana_sharkaboi146.jpg\n",
      "Renaming utkata_konasana_sharkaboi147.jpg\n",
      "Renaming utkata_konasana_sharkaboi148.jpg\n",
      "Renaming utkata_konasana_sharkaboi149.jpg\n",
      "Renaming utkata_konasana_sharkaboi15.jpg\n",
      "Renaming utkata_konasana_sharkaboi150.jpg\n"
     ]
    },
    {
     "name": "stdout",
     "output_type": "stream",
     "text": [
      "Renaming utkata_konasana_sharkaboi151.jpeg\n",
      "Renaming utkata_konasana_sharkaboi152.jpg\n",
      "Renaming utkata_konasana_sharkaboi153.jpg\n",
      "Renaming utkata_konasana_sharkaboi154.jpg\n",
      "Renaming utkata_konasana_sharkaboi155.jpg\n",
      "Renaming utkata_konasana_sharkaboi156.jpg\n",
      "Renaming utkata_konasana_sharkaboi157.jpg\n",
      "Renaming utkata_konasana_sharkaboi158.jpg\n",
      "Renaming utkata_konasana_sharkaboi159.jpg\n",
      "Renaming utkata_konasana_sharkaboi16.jpg\n",
      "Renaming utkata_konasana_sharkaboi160.jpeg\n",
      "Renaming utkata_konasana_sharkaboi161.jpg\n",
      "Renaming utkata_konasana_sharkaboi162.jpg\n",
      "Renaming utkata_konasana_sharkaboi163.jpg\n",
      "Renaming utkata_konasana_sharkaboi164.jpg\n",
      "Renaming utkata_konasana_sharkaboi165.jpg\n",
      "Renaming utkata_konasana_sharkaboi166.jpg\n",
      "Renaming utkata_konasana_sharkaboi167.jpg\n",
      "Renaming utkata_konasana_sharkaboi168.jpg\n",
      "Renaming utkata_konasana_sharkaboi169.jpg\n",
      "Renaming utkata_konasana_sharkaboi17.jpg\n",
      "Renaming utkata_konasana_sharkaboi170.jpg\n",
      "Renaming utkata_konasana_sharkaboi171.jpg\n",
      "Renaming utkata_konasana_sharkaboi172.jpg\n",
      "Renaming utkata_konasana_sharkaboi173.jpeg\n",
      "Renaming utkata_konasana_sharkaboi174.jpg\n",
      "Renaming utkata_konasana_sharkaboi175.jpg\n",
      "Renaming utkata_konasana_sharkaboi176.jpg\n",
      "Renaming utkata_konasana_sharkaboi177.jpg\n",
      "Renaming utkata_konasana_sharkaboi178.jpg\n",
      "Renaming utkata_konasana_sharkaboi179.jpg\n",
      "Renaming utkata_konasana_sharkaboi18.jpg\n",
      "Renaming utkata_konasana_sharkaboi180.jpg\n",
      "Renaming utkata_konasana_sharkaboi181.jpg\n",
      "Renaming utkata_konasana_sharkaboi182.jpg\n",
      "Renaming utkata_konasana_sharkaboi183.jpg\n",
      "Renaming utkata_konasana_sharkaboi184.jpg\n",
      "Renaming utkata_konasana_sharkaboi185.jpg\n",
      "Renaming utkata_konasana_sharkaboi186.jpg\n",
      "Renaming utkata_konasana_sharkaboi187.jpg\n",
      "Renaming utkata_konasana_sharkaboi188.jpg\n",
      "Renaming utkata_konasana_sharkaboi189.jpg\n",
      "Renaming utkata_konasana_sharkaboi19.jpg\n",
      "Renaming utkata_konasana_sharkaboi190.jpg\n",
      "Renaming utkata_konasana_sharkaboi191.jpg\n",
      "Renaming utkata_konasana_sharkaboi192.jpg\n",
      "Renaming utkata_konasana_sharkaboi193.jpg\n",
      "Renaming utkata_konasana_sharkaboi194.jpg\n",
      "Renaming utkata_konasana_sharkaboi195.jpg\n",
      "Renaming utkata_konasana_sharkaboi196.jpg\n",
      "Renaming utkata_konasana_sharkaboi197.jpg\n",
      "Renaming utkata_konasana_sharkaboi198.jpg\n",
      "Renaming utkata_konasana_sharkaboi199.jpg\n",
      "Renaming utkata_konasana_sharkaboi2.jpg\n",
      "Renaming utkata_konasana_sharkaboi20.jpg\n",
      "Renaming utkata_konasana_sharkaboi200.jpg\n",
      "Renaming utkata_konasana_sharkaboi201.jpg\n",
      "Renaming utkata_konasana_sharkaboi202.jpg\n",
      "Renaming utkata_konasana_sharkaboi203.jpg\n",
      "Renaming utkata_konasana_sharkaboi204.jpg\n",
      "Renaming utkata_konasana_sharkaboi205.jpg\n",
      "Renaming utkata_konasana_sharkaboi206.jpg\n",
      "Renaming utkata_konasana_sharkaboi207.jpg\n",
      "Renaming utkata_konasana_sharkaboi208.jpg\n",
      "Renaming utkata_konasana_sharkaboi209.jpg\n",
      "Renaming utkata_konasana_sharkaboi21.jpg\n",
      "Renaming utkata_konasana_sharkaboi22.jpg\n",
      "Renaming utkata_konasana_sharkaboi23.jpg\n",
      "Renaming utkata_konasana_sharkaboi24.jpg\n",
      "Renaming utkata_konasana_sharkaboi25.jpg\n",
      "Renaming utkata_konasana_sharkaboi26.jpg\n",
      "Renaming utkata_konasana_sharkaboi27.jpg\n",
      "Renaming utkata_konasana_sharkaboi28.jpeg\n",
      "Renaming utkata_konasana_sharkaboi29.jpg\n",
      "Renaming utkata_konasana_sharkaboi3.jpeg\n",
      "Renaming utkata_konasana_sharkaboi30.jpg\n",
      "Renaming utkata_konasana_sharkaboi31.jpg\n",
      "Renaming utkata_konasana_sharkaboi32.jpg\n",
      "Renaming utkata_konasana_sharkaboi33.jpg\n",
      "Renaming utkata_konasana_sharkaboi34.jpg\n",
      "Renaming utkata_konasana_sharkaboi35.jpg\n",
      "Renaming utkata_konasana_sharkaboi36.jpg\n",
      "Renaming utkata_konasana_sharkaboi37.jpg\n",
      "Renaming utkata_konasana_sharkaboi38.jpg\n",
      "Renaming utkata_konasana_sharkaboi39.jpg\n",
      "Renaming utkata_konasana_sharkaboi4.jpg\n",
      "Renaming utkata_konasana_sharkaboi40.jpg\n",
      "Renaming utkata_konasana_sharkaboi41.jpg\n",
      "Renaming utkata_konasana_sharkaboi42.jpg\n",
      "Renaming utkata_konasana_sharkaboi43.jpg\n",
      "Renaming utkata_konasana_sharkaboi44.jpg\n",
      "Renaming utkata_konasana_sharkaboi45.jpg\n",
      "Renaming utkata_konasana_sharkaboi46.jpg\n",
      "Renaming utkata_konasana_sharkaboi47.jpg\n",
      "Renaming utkata_konasana_sharkaboi48.jpg\n",
      "Renaming utkata_konasana_sharkaboi49.jpg\n",
      "Renaming utkata_konasana_sharkaboi5.jpg\n",
      "Renaming utkata_konasana_sharkaboi50.jpg\n",
      "Renaming utkata_konasana_sharkaboi51.jpg\n",
      "Renaming utkata_konasana_sharkaboi52.jpg\n",
      "Renaming utkata_konasana_sharkaboi53.jpg\n",
      "Renaming utkata_konasana_sharkaboi54.jpg\n",
      "Renaming utkata_konasana_sharkaboi55.jpg\n",
      "Renaming utkata_konasana_sharkaboi56.jpeg\n",
      "Renaming utkata_konasana_sharkaboi57.jpg\n",
      "Renaming utkata_konasana_sharkaboi58.jpg\n",
      "Renaming utkata_konasana_sharkaboi59.jpg\n",
      "Renaming utkata_konasana_sharkaboi6.jpg\n",
      "Renaming utkata_konasana_sharkaboi60.jpg\n",
      "Renaming utkata_konasana_sharkaboi61.jpg\n",
      "Renaming utkata_konasana_sharkaboi62.jpg\n",
      "Renaming utkata_konasana_sharkaboi63.jpg\n",
      "Renaming utkata_konasana_sharkaboi64.jpg\n",
      "Renaming utkata_konasana_sharkaboi65.jpg\n",
      "Renaming utkata_konasana_sharkaboi66.jpg\n",
      "Renaming utkata_konasana_sharkaboi67.jpg\n",
      "Renaming utkata_konasana_sharkaboi68.jpg\n",
      "Renaming utkata_konasana_sharkaboi69.jpg\n",
      "Renaming utkata_konasana_sharkaboi7.jpg\n",
      "Renaming utkata_konasana_sharkaboi70.jpg\n",
      "Renaming utkata_konasana_sharkaboi71.jpg\n",
      "Renaming utkata_konasana_sharkaboi72.jpg\n",
      "Renaming utkata_konasana_sharkaboi73.jpg\n",
      "Renaming utkata_konasana_sharkaboi74.jpg\n",
      "Renaming utkata_konasana_sharkaboi75.jpg\n",
      "Renaming utkata_konasana_sharkaboi76.jpg\n",
      "Renaming utkata_konasana_sharkaboi77.jpg\n",
      "Renaming utkata_konasana_sharkaboi78.jpg\n",
      "Renaming utkata_konasana_sharkaboi79.jpg\n",
      "Renaming utkata_konasana_sharkaboi8.jpg\n",
      "Renaming utkata_konasana_sharkaboi80.jpg\n",
      "Renaming utkata_konasana_sharkaboi81.jpg\n",
      "Renaming utkata_konasana_sharkaboi82.jpg\n",
      "Renaming utkata_konasana_sharkaboi83.jpg\n",
      "Renaming utkata_konasana_sharkaboi84.jpg\n",
      "Renaming utkata_konasana_sharkaboi85.jpg\n",
      "Renaming utkata_konasana_sharkaboi86.jpg\n",
      "Renaming utkata_konasana_sharkaboi87.jpg\n",
      "Renaming utkata_konasana_sharkaboi88.jpg\n",
      "Renaming utkata_konasana_sharkaboi89.jpg\n",
      "Renaming utkata_konasana_sharkaboi9.jpg\n",
      "Renaming utkata_konasana_sharkaboi90.jpg\n",
      "Renaming utkata_konasana_sharkaboi91.jpg\n",
      "Renaming utkata_konasana_sharkaboi92.jpg\n",
      "Renaming utkata_konasana_sharkaboi93.jpg\n",
      "Renaming utkata_konasana_sharkaboi94.jpg\n",
      "Renaming utkata_konasana_sharkaboi95.jpg\n",
      "Renaming utkata_konasana_sharkaboi96.jpg\n",
      "Renaming utkata_konasana_sharkaboi97.jpg\n",
      "Renaming utkata_konasana_sharkaboi98.jpg\n",
      "Renaming utkata_konasana_sharkaboi99.jpg\n",
      "Renaming vasisthasana_sharkaboi1.jpg\n",
      "Renaming vasisthasana_sharkaboi10.jpg\n",
      "Renaming vasisthasana_sharkaboi100.jpg\n",
      "Renaming vasisthasana_sharkaboi101.jpg\n",
      "Renaming vasisthasana_sharkaboi102.jpg\n",
      "Renaming vasisthasana_sharkaboi103.jpg\n",
      "Renaming vasisthasana_sharkaboi104.jpg\n",
      "Renaming vasisthasana_sharkaboi105.jpg\n",
      "Renaming vasisthasana_sharkaboi106.jpg\n",
      "Renaming vasisthasana_sharkaboi107.jpg\n",
      "Renaming vasisthasana_sharkaboi108.jpg\n",
      "Renaming vasisthasana_sharkaboi109.jpg\n",
      "Renaming vasisthasana_sharkaboi11.jpg\n",
      "Renaming vasisthasana_sharkaboi110.jpg\n",
      "Renaming vasisthasana_sharkaboi111.jpg\n",
      "Renaming vasisthasana_sharkaboi112.jpg\n",
      "Renaming vasisthasana_sharkaboi113.jpg\n",
      "Renaming vasisthasana_sharkaboi114.jpg\n",
      "Renaming vasisthasana_sharkaboi115.jpg\n",
      "Renaming vasisthasana_sharkaboi116.jpg\n",
      "Renaming vasisthasana_sharkaboi117.jpg\n",
      "Renaming vasisthasana_sharkaboi118.jpg\n",
      "Renaming vasisthasana_sharkaboi119.jpg\n",
      "Renaming vasisthasana_sharkaboi12.jpg\n",
      "Renaming vasisthasana_sharkaboi120.jpg\n",
      "Renaming vasisthasana_sharkaboi121.jpg\n",
      "Renaming vasisthasana_sharkaboi122.jpg\n",
      "Renaming vasisthasana_sharkaboi123.jpg\n",
      "Renaming vasisthasana_sharkaboi124.jpg\n",
      "Renaming vasisthasana_sharkaboi125.jpg\n",
      "Renaming vasisthasana_sharkaboi126.jpg\n",
      "Renaming vasisthasana_sharkaboi127.jpg\n",
      "Renaming vasisthasana_sharkaboi128.jpg\n",
      "Renaming vasisthasana_sharkaboi129.jpg\n",
      "Renaming vasisthasana_sharkaboi13.jpg\n",
      "Renaming vasisthasana_sharkaboi130.jpg\n",
      "Renaming vasisthasana_sharkaboi131.jpg\n",
      "Renaming vasisthasana_sharkaboi132.jpg\n",
      "Renaming vasisthasana_sharkaboi133.jpg\n",
      "Renaming vasisthasana_sharkaboi134.jpg\n",
      "Renaming vasisthasana_sharkaboi135.jpg\n",
      "Renaming vasisthasana_sharkaboi136.jpg\n",
      "Renaming vasisthasana_sharkaboi137.jpg\n",
      "Renaming vasisthasana_sharkaboi138.jpg\n",
      "Renaming vasisthasana_sharkaboi139.jpg\n",
      "Renaming vasisthasana_sharkaboi14.jpg\n",
      "Renaming vasisthasana_sharkaboi140.jpg\n",
      "Renaming vasisthasana_sharkaboi141.jpg\n",
      "Renaming vasisthasana_sharkaboi142.jpg\n",
      "Renaming vasisthasana_sharkaboi143.jpg\n",
      "Renaming vasisthasana_sharkaboi144.jpg\n",
      "Renaming vasisthasana_sharkaboi145.jpg\n",
      "Renaming vasisthasana_sharkaboi146.jpg\n",
      "Renaming vasisthasana_sharkaboi147.jpg\n",
      "Renaming vasisthasana_sharkaboi148.jpg\n",
      "Renaming vasisthasana_sharkaboi15.jpg\n",
      "Renaming vasisthasana_sharkaboi16.jpg\n",
      "Renaming vasisthasana_sharkaboi17.jpg\n",
      "Renaming vasisthasana_sharkaboi18.jpg\n",
      "Renaming vasisthasana_sharkaboi19.jpg\n",
      "Renaming vasisthasana_sharkaboi2.jpg\n",
      "Renaming vasisthasana_sharkaboi20.jpg\n",
      "Renaming vasisthasana_sharkaboi21.jpg\n",
      "Renaming vasisthasana_sharkaboi22.jpg\n",
      "Renaming vasisthasana_sharkaboi23.jpg\n",
      "Renaming vasisthasana_sharkaboi24.jpg\n",
      "Renaming vasisthasana_sharkaboi25.jpg\n",
      "Renaming vasisthasana_sharkaboi26.jpg\n",
      "Renaming vasisthasana_sharkaboi27.jpg\n",
      "Renaming vasisthasana_sharkaboi28.jpg\n",
      "Renaming vasisthasana_sharkaboi29.jpg\n",
      "Renaming vasisthasana_sharkaboi3.jpg\n",
      "Renaming vasisthasana_sharkaboi30.jpg\n",
      "Renaming vasisthasana_sharkaboi31.jpg\n",
      "Renaming vasisthasana_sharkaboi32.jpg\n",
      "Renaming vasisthasana_sharkaboi33.jpg\n",
      "Renaming vasisthasana_sharkaboi34.jpg\n",
      "Renaming vasisthasana_sharkaboi35.jpg\n",
      "Renaming vasisthasana_sharkaboi36.jpg\n",
      "Renaming vasisthasana_sharkaboi37.jpg\n",
      "Renaming vasisthasana_sharkaboi38.jpg\n",
      "Renaming vasisthasana_sharkaboi39.jpg\n",
      "Renaming vasisthasana_sharkaboi4.jpg\n",
      "Renaming vasisthasana_sharkaboi40.jpg\n",
      "Renaming vasisthasana_sharkaboi41.jpg\n",
      "Renaming vasisthasana_sharkaboi42.jpg\n",
      "Renaming vasisthasana_sharkaboi43.jpg\n",
      "Renaming vasisthasana_sharkaboi44.jpg\n",
      "Renaming vasisthasana_sharkaboi45.jpg\n",
      "Renaming vasisthasana_sharkaboi46.jpg\n",
      "Renaming vasisthasana_sharkaboi47.jpg\n",
      "Renaming vasisthasana_sharkaboi48.jpg\n",
      "Renaming vasisthasana_sharkaboi49.jpg\n",
      "Renaming vasisthasana_sharkaboi5.jpg\n",
      "Renaming vasisthasana_sharkaboi50.jpg\n",
      "Renaming vasisthasana_sharkaboi51.jpg\n",
      "Renaming vasisthasana_sharkaboi52.jpg\n",
      "Renaming vasisthasana_sharkaboi53.jpg\n",
      "Renaming vasisthasana_sharkaboi54.jpg\n",
      "Renaming vasisthasana_sharkaboi55.jpg\n",
      "Renaming vasisthasana_sharkaboi56.jpg\n",
      "Renaming vasisthasana_sharkaboi57.jpg\n",
      "Renaming vasisthasana_sharkaboi58.jpg\n",
      "Renaming vasisthasana_sharkaboi59.jpg\n",
      "Renaming vasisthasana_sharkaboi6.jpg\n",
      "Renaming vasisthasana_sharkaboi60.jpg\n",
      "Renaming vasisthasana_sharkaboi61.jpg\n",
      "Renaming vasisthasana_sharkaboi62.jpg\n",
      "Renaming vasisthasana_sharkaboi63.jpg\n",
      "Renaming vasisthasana_sharkaboi64.jpg\n"
     ]
    },
    {
     "name": "stdout",
     "output_type": "stream",
     "text": [
      "Renaming vasisthasana_sharkaboi65.jpg\n",
      "Renaming vasisthasana_sharkaboi66.jpg\n",
      "Renaming vasisthasana_sharkaboi67.jpg\n",
      "Renaming vasisthasana_sharkaboi68.jpg\n",
      "Renaming vasisthasana_sharkaboi69.jpg\n",
      "Renaming vasisthasana_sharkaboi7.jpg\n",
      "Renaming vasisthasana_sharkaboi70.jpg\n",
      "Renaming vasisthasana_sharkaboi71.jpg\n",
      "Renaming vasisthasana_sharkaboi72.jpg\n",
      "Renaming vasisthasana_sharkaboi73.jpg\n",
      "Renaming vasisthasana_sharkaboi74.jpg\n",
      "Renaming vasisthasana_sharkaboi75.jpg\n",
      "Renaming vasisthasana_sharkaboi76.jpg\n",
      "Renaming vasisthasana_sharkaboi77.jpg\n",
      "Renaming vasisthasana_sharkaboi78.jpg\n",
      "Renaming vasisthasana_sharkaboi79.jpg\n",
      "Renaming vasisthasana_sharkaboi8.jpg\n",
      "Renaming vasisthasana_sharkaboi80.jpg\n",
      "Renaming vasisthasana_sharkaboi81.jpg\n",
      "Renaming vasisthasana_sharkaboi82.jpg\n",
      "Renaming vasisthasana_sharkaboi83.jpg\n",
      "Renaming vasisthasana_sharkaboi84.jpg\n",
      "Renaming vasisthasana_sharkaboi85.jpg\n",
      "Renaming vasisthasana_sharkaboi86.jpg\n",
      "Renaming vasisthasana_sharkaboi87.jpg\n",
      "Renaming vasisthasana_sharkaboi88.jpg\n",
      "Renaming vasisthasana_sharkaboi89.jpg\n",
      "Renaming vasisthasana_sharkaboi9.jpg\n",
      "Renaming vasisthasana_sharkaboi90.jpg\n",
      "Renaming vasisthasana_sharkaboi91.jpg\n",
      "Renaming vasisthasana_sharkaboi92.jpg\n",
      "Renaming vasisthasana_sharkaboi93.jpg\n",
      "Renaming vasisthasana_sharkaboi94.jpg\n",
      "Renaming vasisthasana_sharkaboi95.jpg\n",
      "Renaming vasisthasana_sharkaboi96.jpg\n",
      "Renaming vasisthasana_sharkaboi97.jpg\n",
      "Renaming vasisthasana_sharkaboi98.jpg\n",
      "Renaming vasisthasana_sharkaboi99.jpg\n",
      "Renaming virabhadrasana_i_sharkaboi1.jpg\n",
      "Renaming virabhadrasana_i_sharkaboi10.jpg\n",
      "Renaming virabhadrasana_i_sharkaboi100.jpg\n",
      "Renaming virabhadrasana_i_sharkaboi101.jpg\n",
      "Renaming virabhadrasana_i_sharkaboi102.jpg\n",
      "Renaming virabhadrasana_i_sharkaboi103.jpg\n",
      "Renaming virabhadrasana_i_sharkaboi104.jpg\n",
      "Renaming virabhadrasana_i_sharkaboi105.jpg\n",
      "Renaming virabhadrasana_i_sharkaboi106.jpg\n",
      "Renaming virabhadrasana_i_sharkaboi107.jpg\n",
      "Renaming virabhadrasana_i_sharkaboi108.jpg\n",
      "Renaming virabhadrasana_i_sharkaboi109.jpg\n",
      "Renaming virabhadrasana_i_sharkaboi11.jpg\n",
      "Renaming virabhadrasana_i_sharkaboi110.jpg\n",
      "Renaming virabhadrasana_i_sharkaboi111.jpg\n",
      "Renaming virabhadrasana_i_sharkaboi112.jpg\n",
      "Renaming virabhadrasana_i_sharkaboi113.jpg\n",
      "Renaming virabhadrasana_i_sharkaboi114.jpg\n",
      "Renaming virabhadrasana_i_sharkaboi115.jpg\n",
      "Renaming virabhadrasana_i_sharkaboi116.jpg\n",
      "Renaming virabhadrasana_i_sharkaboi117.jpg\n",
      "Renaming virabhadrasana_i_sharkaboi118.jpg\n",
      "Renaming virabhadrasana_i_sharkaboi119.jpg\n",
      "Renaming virabhadrasana_i_sharkaboi12.jpg\n",
      "Renaming virabhadrasana_i_sharkaboi120.jpg\n",
      "Renaming virabhadrasana_i_sharkaboi121.jpg\n",
      "Renaming virabhadrasana_i_sharkaboi122.jpg\n",
      "Renaming virabhadrasana_i_sharkaboi123.jpg\n",
      "Renaming virabhadrasana_i_sharkaboi124.jpg\n",
      "Renaming virabhadrasana_i_sharkaboi125.jpg\n",
      "Renaming virabhadrasana_i_sharkaboi126.jpg\n",
      "Renaming virabhadrasana_i_sharkaboi127.jpg\n",
      "Renaming virabhadrasana_i_sharkaboi128.jpg\n",
      "Renaming virabhadrasana_i_sharkaboi129.jpg\n",
      "Renaming virabhadrasana_i_sharkaboi13.jpg\n",
      "Renaming virabhadrasana_i_sharkaboi130.jpg\n",
      "Renaming virabhadrasana_i_sharkaboi131.jpg\n",
      "Renaming virabhadrasana_i_sharkaboi132.jpg\n",
      "Renaming virabhadrasana_i_sharkaboi133.jpg\n",
      "Renaming virabhadrasana_i_sharkaboi134.jpg\n",
      "Renaming virabhadrasana_i_sharkaboi135.jpg\n",
      "Renaming virabhadrasana_i_sharkaboi136.jpg\n",
      "Renaming virabhadrasana_i_sharkaboi137.jpg\n",
      "Renaming virabhadrasana_i_sharkaboi138.jpg\n",
      "Renaming virabhadrasana_i_sharkaboi139.jpg\n",
      "Renaming virabhadrasana_i_sharkaboi14.jpg\n",
      "Renaming virabhadrasana_i_sharkaboi140.jpg\n",
      "Renaming virabhadrasana_i_sharkaboi141.jpg\n",
      "Renaming virabhadrasana_i_sharkaboi142.jpg\n",
      "Renaming virabhadrasana_i_sharkaboi143.jpg\n",
      "Renaming virabhadrasana_i_sharkaboi144.jpg\n",
      "Renaming virabhadrasana_i_sharkaboi145.jpg\n",
      "Renaming virabhadrasana_i_sharkaboi146.jpg\n",
      "Renaming virabhadrasana_i_sharkaboi147.jpg\n",
      "Renaming virabhadrasana_i_sharkaboi148.jpg\n",
      "Renaming virabhadrasana_i_sharkaboi149.jpg\n",
      "Renaming virabhadrasana_i_sharkaboi15.jpg\n",
      "Renaming virabhadrasana_i_sharkaboi150.jpg\n",
      "Renaming virabhadrasana_i_sharkaboi151.jpg\n",
      "Renaming virabhadrasana_i_sharkaboi152.jpg\n",
      "Renaming virabhadrasana_i_sharkaboi153.jpg\n",
      "Renaming virabhadrasana_i_sharkaboi154.jpg\n",
      "Renaming virabhadrasana_i_sharkaboi155.jpg\n",
      "Renaming virabhadrasana_i_sharkaboi156.jpg\n",
      "Renaming virabhadrasana_i_sharkaboi157.jpg\n",
      "Renaming virabhadrasana_i_sharkaboi158.jpg\n",
      "Renaming virabhadrasana_i_sharkaboi159.jpg\n",
      "Renaming virabhadrasana_i_sharkaboi16.jpg\n",
      "Renaming virabhadrasana_i_sharkaboi160.jpg\n",
      "Renaming virabhadrasana_i_sharkaboi161.jpg\n",
      "Renaming virabhadrasana_i_sharkaboi162.jpg\n",
      "Renaming virabhadrasana_i_sharkaboi163.jpg\n",
      "Renaming virabhadrasana_i_sharkaboi164.jpg\n",
      "Renaming virabhadrasana_i_sharkaboi165.jpg\n",
      "Renaming virabhadrasana_i_sharkaboi166.jpg\n",
      "Renaming virabhadrasana_i_sharkaboi167.jpg\n",
      "Renaming virabhadrasana_i_sharkaboi168.jpg\n",
      "Renaming virabhadrasana_i_sharkaboi169.jpg\n",
      "Renaming virabhadrasana_i_sharkaboi17.jpg\n",
      "Renaming virabhadrasana_i_sharkaboi170.jpg\n",
      "Renaming virabhadrasana_i_sharkaboi171.jpg\n",
      "Renaming virabhadrasana_i_sharkaboi172.jpeg\n",
      "Renaming virabhadrasana_i_sharkaboi173.jpg\n",
      "Renaming virabhadrasana_i_sharkaboi174.jpg\n",
      "Renaming virabhadrasana_i_sharkaboi175.jpg\n",
      "Renaming virabhadrasana_i_sharkaboi176.jpg\n",
      "Renaming virabhadrasana_i_sharkaboi177.jpg\n",
      "Renaming virabhadrasana_i_sharkaboi178.jpg\n",
      "Renaming virabhadrasana_i_sharkaboi179.jpg\n",
      "Renaming virabhadrasana_i_sharkaboi18.jpg\n",
      "Renaming virabhadrasana_i_sharkaboi180.jpg\n",
      "Renaming virabhadrasana_i_sharkaboi181.jpg\n",
      "Renaming virabhadrasana_i_sharkaboi182.jpg\n",
      "Renaming virabhadrasana_i_sharkaboi183.jpg\n",
      "Renaming virabhadrasana_i_sharkaboi184.jpg\n",
      "Renaming virabhadrasana_i_sharkaboi185.jpg\n",
      "Renaming virabhadrasana_i_sharkaboi186.jpg\n",
      "Renaming virabhadrasana_i_sharkaboi187.jpg\n",
      "Renaming virabhadrasana_i_sharkaboi188.jpg\n",
      "Renaming virabhadrasana_i_sharkaboi189.jpg\n",
      "Renaming virabhadrasana_i_sharkaboi19.jpg\n",
      "Renaming virabhadrasana_i_sharkaboi190.jpg\n",
      "Renaming virabhadrasana_i_sharkaboi191.jpg\n",
      "Renaming virabhadrasana_i_sharkaboi192.jpg\n",
      "Renaming virabhadrasana_i_sharkaboi193.jpg\n",
      "Renaming virabhadrasana_i_sharkaboi194.jpg\n",
      "Renaming virabhadrasana_i_sharkaboi195.jpg\n",
      "Renaming virabhadrasana_i_sharkaboi196.jpg\n",
      "Renaming virabhadrasana_i_sharkaboi197.jpg\n",
      "Renaming virabhadrasana_i_sharkaboi198.jpg\n",
      "Renaming virabhadrasana_i_sharkaboi199.jpg\n",
      "Renaming virabhadrasana_i_sharkaboi2.jpg\n",
      "Renaming virabhadrasana_i_sharkaboi20.jpg\n",
      "Renaming virabhadrasana_i_sharkaboi200.jpg\n",
      "Renaming virabhadrasana_i_sharkaboi201.jpg\n",
      "Renaming virabhadrasana_i_sharkaboi202.jpg\n",
      "Renaming virabhadrasana_i_sharkaboi203.jpg\n",
      "Renaming virabhadrasana_i_sharkaboi204.jpg\n",
      "Renaming virabhadrasana_i_sharkaboi205.jpg\n",
      "Renaming virabhadrasana_i_sharkaboi206.jpg\n",
      "Renaming virabhadrasana_i_sharkaboi207.jpg\n",
      "Renaming virabhadrasana_i_sharkaboi208.jpg\n",
      "Renaming virabhadrasana_i_sharkaboi209.jpg\n",
      "Renaming virabhadrasana_i_sharkaboi21.jpg\n",
      "Renaming virabhadrasana_i_sharkaboi210.jpg\n",
      "Renaming virabhadrasana_i_sharkaboi211.jpg\n",
      "Renaming virabhadrasana_i_sharkaboi212.jpg\n",
      "Renaming virabhadrasana_i_sharkaboi213.jpg\n",
      "Renaming virabhadrasana_i_sharkaboi214.jpg\n",
      "Renaming virabhadrasana_i_sharkaboi215.jpg\n",
      "Renaming virabhadrasana_i_sharkaboi216.jpg\n",
      "Renaming virabhadrasana_i_sharkaboi217.jpg\n",
      "Renaming virabhadrasana_i_sharkaboi218.jpg\n",
      "Renaming virabhadrasana_i_sharkaboi219.jpg\n",
      "Renaming virabhadrasana_i_sharkaboi22.jpg\n",
      "Renaming virabhadrasana_i_sharkaboi220.jpg\n",
      "Renaming virabhadrasana_i_sharkaboi221.jpg\n",
      "Renaming virabhadrasana_i_sharkaboi23.jpg\n",
      "Renaming virabhadrasana_i_sharkaboi24.jpg\n",
      "Renaming virabhadrasana_i_sharkaboi25.jpg\n",
      "Renaming virabhadrasana_i_sharkaboi26.jpg\n",
      "Renaming virabhadrasana_i_sharkaboi27.jpg\n",
      "Renaming virabhadrasana_i_sharkaboi28.jpg\n",
      "Renaming virabhadrasana_i_sharkaboi29.jpg\n",
      "Renaming virabhadrasana_i_sharkaboi3.jpg\n",
      "Renaming virabhadrasana_i_sharkaboi30.jpg\n",
      "Renaming virabhadrasana_i_sharkaboi31.jpg\n",
      "Renaming virabhadrasana_i_sharkaboi32.jpg\n",
      "Renaming virabhadrasana_i_sharkaboi33.jpg\n",
      "Renaming virabhadrasana_i_sharkaboi34.jpg\n",
      "Renaming virabhadrasana_i_sharkaboi35.jpg\n",
      "Renaming virabhadrasana_i_sharkaboi36.jpg\n",
      "Renaming virabhadrasana_i_sharkaboi37.jpg\n",
      "Renaming virabhadrasana_i_sharkaboi38.jpg\n",
      "Renaming virabhadrasana_i_sharkaboi39.jpg\n",
      "Renaming virabhadrasana_i_sharkaboi4.jpg\n",
      "Renaming virabhadrasana_i_sharkaboi40.jpg\n",
      "Renaming virabhadrasana_i_sharkaboi41.jpg\n",
      "Renaming virabhadrasana_i_sharkaboi42.jpg\n",
      "Renaming virabhadrasana_i_sharkaboi43.jpg\n",
      "Renaming virabhadrasana_i_sharkaboi44.jpg\n",
      "Renaming virabhadrasana_i_sharkaboi45.jpg\n",
      "Renaming virabhadrasana_i_sharkaboi46.jpg\n",
      "Renaming virabhadrasana_i_sharkaboi47.jpg\n",
      "Renaming virabhadrasana_i_sharkaboi48.jpg\n",
      "Renaming virabhadrasana_i_sharkaboi49.jpg\n",
      "Renaming virabhadrasana_i_sharkaboi5.jpg\n",
      "Renaming virabhadrasana_i_sharkaboi50.jpg\n",
      "Renaming virabhadrasana_i_sharkaboi51.jpg\n",
      "Renaming virabhadrasana_i_sharkaboi52.jpg\n",
      "Renaming virabhadrasana_i_sharkaboi53.jpg\n",
      "Renaming virabhadrasana_i_sharkaboi54.jpg\n",
      "Renaming virabhadrasana_i_sharkaboi55.jpg\n",
      "Renaming virabhadrasana_i_sharkaboi56.jpg\n",
      "Renaming virabhadrasana_i_sharkaboi57.jpg\n",
      "Renaming virabhadrasana_i_sharkaboi58.jpg\n",
      "Renaming virabhadrasana_i_sharkaboi59.jpg\n",
      "Renaming virabhadrasana_i_sharkaboi6.jpg\n",
      "Renaming virabhadrasana_i_sharkaboi60.jpg\n",
      "Renaming virabhadrasana_i_sharkaboi61.jpg\n",
      "Renaming virabhadrasana_i_sharkaboi62.jpg\n",
      "Renaming virabhadrasana_i_sharkaboi63.jpg\n",
      "Renaming virabhadrasana_i_sharkaboi64.jpg\n",
      "Renaming virabhadrasana_i_sharkaboi65.jpg\n",
      "Renaming virabhadrasana_i_sharkaboi66.jpg\n",
      "Renaming virabhadrasana_i_sharkaboi67.jpg\n",
      "Renaming virabhadrasana_i_sharkaboi68.jpg\n",
      "Renaming virabhadrasana_i_sharkaboi69.jpg\n",
      "Renaming virabhadrasana_i_sharkaboi7.jpg\n",
      "Renaming virabhadrasana_i_sharkaboi70.jpg\n",
      "Renaming virabhadrasana_i_sharkaboi71.jpg\n",
      "Renaming virabhadrasana_i_sharkaboi72.jpg\n",
      "Renaming virabhadrasana_i_sharkaboi73.jpg\n",
      "Renaming virabhadrasana_i_sharkaboi74.jpg\n",
      "Renaming virabhadrasana_i_sharkaboi75.jpg\n",
      "Renaming virabhadrasana_i_sharkaboi76.jpg\n",
      "Renaming virabhadrasana_i_sharkaboi77.jpg\n",
      "Renaming virabhadrasana_i_sharkaboi78.jpg\n",
      "Renaming virabhadrasana_i_sharkaboi79.jpg\n",
      "Renaming virabhadrasana_i_sharkaboi8.jpg\n",
      "Renaming virabhadrasana_i_sharkaboi80.jpg\n",
      "Renaming virabhadrasana_i_sharkaboi81.jpg\n",
      "Renaming virabhadrasana_i_sharkaboi82.jpg\n",
      "Renaming virabhadrasana_i_sharkaboi83.jpg\n",
      "Renaming virabhadrasana_i_sharkaboi84.jpg\n",
      "Renaming virabhadrasana_i_sharkaboi85.jpg\n",
      "Renaming virabhadrasana_i_sharkaboi86.jpg\n",
      "Renaming virabhadrasana_i_sharkaboi87.jpg\n",
      "Renaming virabhadrasana_i_sharkaboi88.jpg\n",
      "Renaming virabhadrasana_i_sharkaboi89.jpg\n",
      "Renaming virabhadrasana_i_sharkaboi9.jpg\n",
      "Renaming virabhadrasana_i_sharkaboi90.jpg\n",
      "Renaming virabhadrasana_i_sharkaboi91.jpg\n",
      "Renaming virabhadrasana_i_sharkaboi92.jpg\n",
      "Renaming virabhadrasana_i_sharkaboi93.jpg\n",
      "Renaming virabhadrasana_i_sharkaboi94.jpg\n",
      "Renaming virabhadrasana_i_sharkaboi95.jpg\n",
      "Renaming virabhadrasana_i_sharkaboi96.jpg\n",
      "Renaming virabhadrasana_i_sharkaboi97.jpg\n",
      "Renaming virabhadrasana_i_sharkaboi98.jpg\n",
      "Renaming virabhadrasana_i_sharkaboi99.jpg\n",
      "Renaming virabhadrasana_ii_sharkaboi1.jpg\n",
      "Renaming virabhadrasana_ii_sharkaboi10.jpg\n",
      "Renaming virabhadrasana_ii_sharkaboi100.jpg\n",
      "Renaming virabhadrasana_ii_sharkaboi101.jpg\n",
      "Renaming virabhadrasana_ii_sharkaboi102.jpg\n",
      "Renaming virabhadrasana_ii_sharkaboi103.jpg\n",
      "Renaming virabhadrasana_ii_sharkaboi104.jpg\n",
      "Renaming virabhadrasana_ii_sharkaboi105.jpg\n",
      "Renaming virabhadrasana_ii_sharkaboi106.jpg\n",
      "Renaming virabhadrasana_ii_sharkaboi107.jpg\n",
      "Renaming virabhadrasana_ii_sharkaboi108.jpg\n",
      "Renaming virabhadrasana_ii_sharkaboi109.jpg\n",
      "Renaming virabhadrasana_ii_sharkaboi11.jpg\n",
      "Renaming virabhadrasana_ii_sharkaboi110.jpg\n",
      "Renaming virabhadrasana_ii_sharkaboi111.jpg\n",
      "Renaming virabhadrasana_ii_sharkaboi112.jpg\n",
      "Renaming virabhadrasana_ii_sharkaboi113.jpg\n",
      "Renaming virabhadrasana_ii_sharkaboi114.jpg\n",
      "Renaming virabhadrasana_ii_sharkaboi115.jpg\n",
      "Renaming virabhadrasana_ii_sharkaboi116.jpg\n",
      "Renaming virabhadrasana_ii_sharkaboi117.jpg\n",
      "Renaming virabhadrasana_ii_sharkaboi118.jpg\n",
      "Renaming virabhadrasana_ii_sharkaboi119.jpg\n",
      "Renaming virabhadrasana_ii_sharkaboi12.jpg\n",
      "Renaming virabhadrasana_ii_sharkaboi120.jpg\n",
      "Renaming virabhadrasana_ii_sharkaboi121.jpg\n",
      "Renaming virabhadrasana_ii_sharkaboi122.jpg\n",
      "Renaming virabhadrasana_ii_sharkaboi123.jpg\n",
      "Renaming virabhadrasana_ii_sharkaboi124.jpg\n",
      "Renaming virabhadrasana_ii_sharkaboi125.jpg\n",
      "Renaming virabhadrasana_ii_sharkaboi126.jpg\n",
      "Renaming virabhadrasana_ii_sharkaboi127.jpg\n",
      "Renaming virabhadrasana_ii_sharkaboi128.jpg\n",
      "Renaming virabhadrasana_ii_sharkaboi129.jpg\n",
      "Renaming virabhadrasana_ii_sharkaboi13.jpg\n",
      "Renaming virabhadrasana_ii_sharkaboi130.jpg\n",
      "Renaming virabhadrasana_ii_sharkaboi131.jpg\n",
      "Renaming virabhadrasana_ii_sharkaboi132.jpg\n",
      "Renaming virabhadrasana_ii_sharkaboi133.jpg\n",
      "Renaming virabhadrasana_ii_sharkaboi134.jpg\n",
      "Renaming virabhadrasana_ii_sharkaboi135.jpg\n",
      "Renaming virabhadrasana_ii_sharkaboi136.jpg\n",
      "Renaming virabhadrasana_ii_sharkaboi137.jpg\n",
      "Renaming virabhadrasana_ii_sharkaboi138.jpg\n",
      "Renaming virabhadrasana_ii_sharkaboi139.jpg\n",
      "Renaming virabhadrasana_ii_sharkaboi14.jpg\n",
      "Renaming virabhadrasana_ii_sharkaboi140.jpg\n",
      "Renaming virabhadrasana_ii_sharkaboi141.jpg\n",
      "Renaming virabhadrasana_ii_sharkaboi142.jpg\n",
      "Renaming virabhadrasana_ii_sharkaboi143.jpg\n",
      "Renaming virabhadrasana_ii_sharkaboi144.jpg\n",
      "Renaming virabhadrasana_ii_sharkaboi145.jpg\n",
      "Renaming virabhadrasana_ii_sharkaboi146.jpg\n",
      "Renaming virabhadrasana_ii_sharkaboi147.jpg\n",
      "Renaming virabhadrasana_ii_sharkaboi148.jpg\n",
      "Renaming virabhadrasana_ii_sharkaboi149.jpg\n",
      "Renaming virabhadrasana_ii_sharkaboi15.jpg\n",
      "Renaming virabhadrasana_ii_sharkaboi150.jpg\n",
      "Renaming virabhadrasana_ii_sharkaboi151.jpg\n",
      "Renaming virabhadrasana_ii_sharkaboi152.jpg\n"
     ]
    },
    {
     "name": "stdout",
     "output_type": "stream",
     "text": [
      "Renaming virabhadrasana_ii_sharkaboi153.jpg\n",
      "Renaming virabhadrasana_ii_sharkaboi154.jpg\n",
      "Renaming virabhadrasana_ii_sharkaboi155.jpg\n",
      "Renaming virabhadrasana_ii_sharkaboi156.jpg\n",
      "Renaming virabhadrasana_ii_sharkaboi157.jpg\n",
      "Renaming virabhadrasana_ii_sharkaboi158.jpg\n",
      "Renaming virabhadrasana_ii_sharkaboi159.jpg\n",
      "Renaming virabhadrasana_ii_sharkaboi16.jpg\n",
      "Renaming virabhadrasana_ii_sharkaboi160.jpg\n",
      "Renaming virabhadrasana_ii_sharkaboi161.jpg\n",
      "Renaming virabhadrasana_ii_sharkaboi162.jpg\n",
      "Renaming virabhadrasana_ii_sharkaboi163.jpg\n",
      "Renaming virabhadrasana_ii_sharkaboi164.jpg\n",
      "Renaming virabhadrasana_ii_sharkaboi165.jpg\n",
      "Renaming virabhadrasana_ii_sharkaboi166.jpg\n",
      "Renaming virabhadrasana_ii_sharkaboi167.jpg\n",
      "Renaming virabhadrasana_ii_sharkaboi168.jpg\n",
      "Renaming virabhadrasana_ii_sharkaboi169.jpg\n",
      "Renaming virabhadrasana_ii_sharkaboi17.jpg\n",
      "Renaming virabhadrasana_ii_sharkaboi170.jpg\n",
      "Renaming virabhadrasana_ii_sharkaboi171.jpg\n",
      "Renaming virabhadrasana_ii_sharkaboi172.jpg\n",
      "Renaming virabhadrasana_ii_sharkaboi173.jpg\n",
      "Renaming virabhadrasana_ii_sharkaboi174.jpg\n",
      "Renaming virabhadrasana_ii_sharkaboi175.jpg\n",
      "Renaming virabhadrasana_ii_sharkaboi176.jpg\n",
      "Renaming virabhadrasana_ii_sharkaboi177.jpg\n",
      "Renaming virabhadrasana_ii_sharkaboi178.jpg\n",
      "Renaming virabhadrasana_ii_sharkaboi179.jpg\n",
      "Renaming virabhadrasana_ii_sharkaboi18.jpg\n",
      "Renaming virabhadrasana_ii_sharkaboi180.jpg\n",
      "Renaming virabhadrasana_ii_sharkaboi181.jpg\n",
      "Renaming virabhadrasana_ii_sharkaboi182.jpg\n",
      "Renaming virabhadrasana_ii_sharkaboi183.jpg\n",
      "Renaming virabhadrasana_ii_sharkaboi184.jpg\n",
      "Renaming virabhadrasana_ii_sharkaboi185.jpg\n",
      "Renaming virabhadrasana_ii_sharkaboi186.jpg\n",
      "Renaming virabhadrasana_ii_sharkaboi187.jpg\n",
      "Renaming virabhadrasana_ii_sharkaboi188.jpg\n",
      "Renaming virabhadrasana_ii_sharkaboi189.jpg\n",
      "Renaming virabhadrasana_ii_sharkaboi19.jpg\n",
      "Renaming virabhadrasana_ii_sharkaboi190.jpg\n",
      "Renaming virabhadrasana_ii_sharkaboi191.jpg\n",
      "Renaming virabhadrasana_ii_sharkaboi192.jpg\n",
      "Renaming virabhadrasana_ii_sharkaboi193.jpg\n",
      "Renaming virabhadrasana_ii_sharkaboi194.jpg\n",
      "Renaming virabhadrasana_ii_sharkaboi195.jpg\n",
      "Renaming virabhadrasana_ii_sharkaboi196.jpg\n",
      "Renaming virabhadrasana_ii_sharkaboi197.jpg\n",
      "Renaming virabhadrasana_ii_sharkaboi198.jpg\n",
      "Renaming virabhadrasana_ii_sharkaboi199.jpg\n",
      "Renaming virabhadrasana_ii_sharkaboi2.jpg\n",
      "Renaming virabhadrasana_ii_sharkaboi20.jpg\n",
      "Renaming virabhadrasana_ii_sharkaboi200.jpg\n",
      "Renaming virabhadrasana_ii_sharkaboi201.jpg\n",
      "Renaming virabhadrasana_ii_sharkaboi202.jpg\n",
      "Renaming virabhadrasana_ii_sharkaboi203.jpg\n",
      "Renaming virabhadrasana_ii_sharkaboi204.jpg\n",
      "Renaming virabhadrasana_ii_sharkaboi205.jpg\n",
      "Renaming virabhadrasana_ii_sharkaboi206.jpg\n",
      "Renaming virabhadrasana_ii_sharkaboi207.jpg\n",
      "Renaming virabhadrasana_ii_sharkaboi208.jpg\n",
      "Renaming virabhadrasana_ii_sharkaboi209.jpg\n",
      "Renaming virabhadrasana_ii_sharkaboi21.jpg\n",
      "Renaming virabhadrasana_ii_sharkaboi210.jpg\n",
      "Renaming virabhadrasana_ii_sharkaboi211.jpg\n",
      "Renaming virabhadrasana_ii_sharkaboi212.jpg\n",
      "Renaming virabhadrasana_ii_sharkaboi213.jpg\n",
      "Renaming virabhadrasana_ii_sharkaboi214.jpg\n",
      "Renaming virabhadrasana_ii_sharkaboi215.jpg\n",
      "Renaming virabhadrasana_ii_sharkaboi216.jpg\n",
      "Renaming virabhadrasana_ii_sharkaboi217.jpg\n",
      "Renaming virabhadrasana_ii_sharkaboi218.jpg\n",
      "Renaming virabhadrasana_ii_sharkaboi219.jpg\n",
      "Renaming virabhadrasana_ii_sharkaboi22.jpg\n",
      "Renaming virabhadrasana_ii_sharkaboi220.jpg\n",
      "Renaming virabhadrasana_ii_sharkaboi221.jpg\n",
      "Renaming virabhadrasana_ii_sharkaboi222.jpg\n",
      "Renaming virabhadrasana_ii_sharkaboi223.jpg\n",
      "Renaming virabhadrasana_ii_sharkaboi224.jpg\n",
      "Renaming virabhadrasana_ii_sharkaboi225.jpg\n",
      "Renaming virabhadrasana_ii_sharkaboi226.jpg\n",
      "Renaming virabhadrasana_ii_sharkaboi227.jpg\n",
      "Renaming virabhadrasana_ii_sharkaboi228.jpg\n",
      "Renaming virabhadrasana_ii_sharkaboi229.jpg\n",
      "Renaming virabhadrasana_ii_sharkaboi23.jpg\n",
      "Renaming virabhadrasana_ii_sharkaboi230.jpg\n",
      "Renaming virabhadrasana_ii_sharkaboi231.jpg\n",
      "Renaming virabhadrasana_ii_sharkaboi232.jpg\n",
      "Renaming virabhadrasana_ii_sharkaboi233.jpg\n",
      "Renaming virabhadrasana_ii_sharkaboi234.jpg\n",
      "Renaming virabhadrasana_ii_sharkaboi235.jpg\n",
      "Renaming virabhadrasana_ii_sharkaboi236.jpg\n",
      "Renaming virabhadrasana_ii_sharkaboi237.jpg\n",
      "Renaming virabhadrasana_ii_sharkaboi238.jpg\n",
      "Renaming virabhadrasana_ii_sharkaboi239.jpg\n",
      "Renaming virabhadrasana_ii_sharkaboi24.jpg\n",
      "Renaming virabhadrasana_ii_sharkaboi240.jpg\n",
      "Renaming virabhadrasana_ii_sharkaboi241.jpg\n",
      "Renaming virabhadrasana_ii_sharkaboi242.jpg\n",
      "Renaming virabhadrasana_ii_sharkaboi243.jpg\n",
      "Renaming virabhadrasana_ii_sharkaboi244.jpg\n",
      "Renaming virabhadrasana_ii_sharkaboi245.jpg\n",
      "Renaming virabhadrasana_ii_sharkaboi246.jpg\n",
      "Renaming virabhadrasana_ii_sharkaboi247.jpg\n",
      "Renaming virabhadrasana_ii_sharkaboi248.jpg\n",
      "Renaming virabhadrasana_ii_sharkaboi249.jpg\n",
      "Renaming virabhadrasana_ii_sharkaboi25.jpg\n",
      "Renaming virabhadrasana_ii_sharkaboi250.jpg\n",
      "Renaming virabhadrasana_ii_sharkaboi251.jpg\n",
      "Renaming virabhadrasana_ii_sharkaboi252.jpg\n",
      "Renaming virabhadrasana_ii_sharkaboi253.jpg\n",
      "Renaming virabhadrasana_ii_sharkaboi254.jpg\n",
      "Renaming virabhadrasana_ii_sharkaboi255.jpg\n",
      "Renaming virabhadrasana_ii_sharkaboi256.jpg\n",
      "Renaming virabhadrasana_ii_sharkaboi257.jpg\n",
      "Renaming virabhadrasana_ii_sharkaboi258.jpg\n",
      "Renaming virabhadrasana_ii_sharkaboi259.jpg\n",
      "Renaming virabhadrasana_ii_sharkaboi26.jpg\n",
      "Renaming virabhadrasana_ii_sharkaboi260.jpg\n",
      "Renaming virabhadrasana_ii_sharkaboi261.jpg\n",
      "Renaming virabhadrasana_ii_sharkaboi262.jpg\n",
      "Renaming virabhadrasana_ii_sharkaboi263.jpg\n",
      "Renaming virabhadrasana_ii_sharkaboi264.jpg\n",
      "Renaming virabhadrasana_ii_sharkaboi265.jpg\n",
      "Renaming virabhadrasana_ii_sharkaboi266.jpg\n",
      "Renaming virabhadrasana_ii_sharkaboi267.jpg\n",
      "Renaming virabhadrasana_ii_sharkaboi268.jpg\n",
      "Renaming virabhadrasana_ii_sharkaboi269.jpg\n",
      "Renaming virabhadrasana_ii_sharkaboi27.jpg\n",
      "Renaming virabhadrasana_ii_sharkaboi270.jpg\n",
      "Renaming virabhadrasana_ii_sharkaboi271.jpg\n",
      "Renaming virabhadrasana_ii_sharkaboi272.jpg\n",
      "Renaming virabhadrasana_ii_sharkaboi273.jpg\n",
      "Renaming virabhadrasana_ii_sharkaboi274.jpg\n",
      "Renaming virabhadrasana_ii_sharkaboi275.jpg\n",
      "Renaming virabhadrasana_ii_sharkaboi276.jpg\n",
      "Renaming virabhadrasana_ii_sharkaboi277.jpg\n",
      "Renaming virabhadrasana_ii_sharkaboi278.jpg\n",
      "Renaming virabhadrasana_ii_sharkaboi279.jpg\n",
      "Renaming virabhadrasana_ii_sharkaboi28.jpg\n",
      "Renaming virabhadrasana_ii_sharkaboi280.jpg\n",
      "Renaming virabhadrasana_ii_sharkaboi281.jpg\n",
      "Renaming virabhadrasana_ii_sharkaboi282.jpg\n",
      "Renaming virabhadrasana_ii_sharkaboi283.jpg\n",
      "Renaming virabhadrasana_ii_sharkaboi284.jpg\n",
      "Renaming virabhadrasana_ii_sharkaboi285.jpg\n",
      "Renaming virabhadrasana_ii_sharkaboi286.jpg\n",
      "Renaming virabhadrasana_ii_sharkaboi287.jpg\n",
      "Renaming virabhadrasana_ii_sharkaboi288.jpg\n",
      "Renaming virabhadrasana_ii_sharkaboi289.jpg\n",
      "Renaming virabhadrasana_ii_sharkaboi29.jpg\n",
      "Renaming virabhadrasana_ii_sharkaboi290.jpg\n",
      "Renaming virabhadrasana_ii_sharkaboi291.jpg\n",
      "Renaming virabhadrasana_ii_sharkaboi292.jpg\n",
      "Renaming virabhadrasana_ii_sharkaboi293.jpg\n",
      "Renaming virabhadrasana_ii_sharkaboi294.jpg\n",
      "Renaming virabhadrasana_ii_sharkaboi295.jpg\n",
      "Renaming virabhadrasana_ii_sharkaboi296.jpg\n",
      "Renaming virabhadrasana_ii_sharkaboi297.jpg\n",
      "Renaming virabhadrasana_ii_sharkaboi298.jpg\n",
      "Renaming virabhadrasana_ii_sharkaboi299.jpg\n",
      "Renaming virabhadrasana_ii_sharkaboi3.jpg\n",
      "Renaming virabhadrasana_ii_sharkaboi30.jpg\n",
      "Renaming virabhadrasana_ii_sharkaboi300.jpg\n",
      "Renaming virabhadrasana_ii_sharkaboi301.jpg\n",
      "Renaming virabhadrasana_ii_sharkaboi302.jpg\n",
      "Renaming virabhadrasana_ii_sharkaboi303.jpg\n",
      "Renaming virabhadrasana_ii_sharkaboi304.jpg\n",
      "Renaming virabhadrasana_ii_sharkaboi305.jpg\n",
      "Renaming virabhadrasana_ii_sharkaboi306.jpg\n",
      "Renaming virabhadrasana_ii_sharkaboi307.jpg\n",
      "Renaming virabhadrasana_ii_sharkaboi308.jpg\n",
      "Renaming virabhadrasana_ii_sharkaboi309.jpg\n",
      "Renaming virabhadrasana_ii_sharkaboi31.jpg\n",
      "Renaming virabhadrasana_ii_sharkaboi310.jpg\n",
      "Renaming virabhadrasana_ii_sharkaboi311.jpg\n",
      "Renaming virabhadrasana_ii_sharkaboi312.jpg\n",
      "Renaming virabhadrasana_ii_sharkaboi313.jpg\n",
      "Renaming virabhadrasana_ii_sharkaboi314.jpg\n",
      "Renaming virabhadrasana_ii_sharkaboi315.jpg\n",
      "Renaming virabhadrasana_ii_sharkaboi316.jpg\n",
      "Renaming virabhadrasana_ii_sharkaboi317.jpg\n",
      "Renaming virabhadrasana_ii_sharkaboi318.jpg\n",
      "Renaming virabhadrasana_ii_sharkaboi319.jpg\n",
      "Renaming virabhadrasana_ii_sharkaboi32.jpg\n",
      "Renaming virabhadrasana_ii_sharkaboi320.jpg\n",
      "Renaming virabhadrasana_ii_sharkaboi321.jpg\n",
      "Renaming virabhadrasana_ii_sharkaboi322.jpg\n",
      "Renaming virabhadrasana_ii_sharkaboi323.jpg\n",
      "Renaming virabhadrasana_ii_sharkaboi324.jpg\n",
      "Renaming virabhadrasana_ii_sharkaboi325.jpg\n",
      "Renaming virabhadrasana_ii_sharkaboi326.jpg\n",
      "Renaming virabhadrasana_ii_sharkaboi327.jpg\n",
      "Renaming virabhadrasana_ii_sharkaboi328.jpg\n",
      "Renaming virabhadrasana_ii_sharkaboi329.jpg\n",
      "Renaming virabhadrasana_ii_sharkaboi33.jpg\n",
      "Renaming virabhadrasana_ii_sharkaboi330.jpg\n",
      "Renaming virabhadrasana_ii_sharkaboi331.jpg\n",
      "Renaming virabhadrasana_ii_sharkaboi332.jpg\n",
      "Renaming virabhadrasana_ii_sharkaboi333.jpg\n",
      "Renaming virabhadrasana_ii_sharkaboi334.jpg\n",
      "Renaming virabhadrasana_ii_sharkaboi335.jpg\n",
      "Renaming virabhadrasana_ii_sharkaboi336.jpg\n",
      "Renaming virabhadrasana_ii_sharkaboi337.jpg\n",
      "Renaming virabhadrasana_ii_sharkaboi338.jpg\n",
      "Renaming virabhadrasana_ii_sharkaboi339.jpg\n",
      "Renaming virabhadrasana_ii_sharkaboi34.jpg\n",
      "Renaming virabhadrasana_ii_sharkaboi340.jpg\n",
      "Renaming virabhadrasana_ii_sharkaboi341.jpg\n",
      "Renaming virabhadrasana_ii_sharkaboi342.jpg\n",
      "Renaming virabhadrasana_ii_sharkaboi343.jpg\n",
      "Renaming virabhadrasana_ii_sharkaboi344.jpg\n",
      "Renaming virabhadrasana_ii_sharkaboi345.jpg\n",
      "Renaming virabhadrasana_ii_sharkaboi346.jpg\n",
      "Renaming virabhadrasana_ii_sharkaboi347.jpg\n",
      "Renaming virabhadrasana_ii_sharkaboi348.jpg\n",
      "Renaming virabhadrasana_ii_sharkaboi349.jpg\n",
      "Renaming virabhadrasana_ii_sharkaboi35.jpg\n",
      "Renaming virabhadrasana_ii_sharkaboi350.jpg\n",
      "Renaming virabhadrasana_ii_sharkaboi351.jpg\n",
      "Renaming virabhadrasana_ii_sharkaboi352.jpg\n",
      "Renaming virabhadrasana_ii_sharkaboi353.jpg\n",
      "Renaming virabhadrasana_ii_sharkaboi354.jpg\n",
      "Renaming virabhadrasana_ii_sharkaboi355.jpg\n",
      "Renaming virabhadrasana_ii_sharkaboi356.jpg\n",
      "Renaming virabhadrasana_ii_sharkaboi357.jpg\n",
      "Renaming virabhadrasana_ii_sharkaboi358.jpg\n",
      "Renaming virabhadrasana_ii_sharkaboi359.jpg\n",
      "Renaming virabhadrasana_ii_sharkaboi36.jpg\n",
      "Renaming virabhadrasana_ii_sharkaboi360.jpg\n",
      "Renaming virabhadrasana_ii_sharkaboi361.jpg\n",
      "Renaming virabhadrasana_ii_sharkaboi362.jpg\n",
      "Renaming virabhadrasana_ii_sharkaboi363.jpg\n",
      "Renaming virabhadrasana_ii_sharkaboi364.jpg\n",
      "Renaming virabhadrasana_ii_sharkaboi365.jpg\n",
      "Renaming virabhadrasana_ii_sharkaboi366.jpg\n",
      "Renaming virabhadrasana_ii_sharkaboi367.jpg\n",
      "Renaming virabhadrasana_ii_sharkaboi368.jpg\n"
     ]
    },
    {
     "name": "stdout",
     "output_type": "stream",
     "text": [
      "Renaming virabhadrasana_ii_sharkaboi369.jpg\n",
      "Renaming virabhadrasana_ii_sharkaboi37.jpg\n",
      "Renaming virabhadrasana_ii_sharkaboi370.jpg\n",
      "Renaming virabhadrasana_ii_sharkaboi371.jpg\n",
      "Renaming virabhadrasana_ii_sharkaboi372.jpg\n",
      "Renaming virabhadrasana_ii_sharkaboi373.jpg\n",
      "Renaming virabhadrasana_ii_sharkaboi374.jpg\n",
      "Renaming virabhadrasana_ii_sharkaboi375.jpg\n",
      "Renaming virabhadrasana_ii_sharkaboi376.jpg\n",
      "Renaming virabhadrasana_ii_sharkaboi377.jpg\n",
      "Renaming virabhadrasana_ii_sharkaboi378.jpg\n",
      "Renaming virabhadrasana_ii_sharkaboi379.jpg\n",
      "Renaming virabhadrasana_ii_sharkaboi38.jpg\n",
      "Renaming virabhadrasana_ii_sharkaboi380.jpg\n",
      "Renaming virabhadrasana_ii_sharkaboi381.jpg\n",
      "Renaming virabhadrasana_ii_sharkaboi382.jpg\n",
      "Renaming virabhadrasana_ii_sharkaboi383.jpg\n",
      "Renaming virabhadrasana_ii_sharkaboi384.jpg\n",
      "Renaming virabhadrasana_ii_sharkaboi385.jpg\n",
      "Renaming virabhadrasana_ii_sharkaboi386.jpg\n",
      "Renaming virabhadrasana_ii_sharkaboi387.jpg\n",
      "Renaming virabhadrasana_ii_sharkaboi388.jpg\n",
      "Renaming virabhadrasana_ii_sharkaboi389.jpg\n",
      "Renaming virabhadrasana_ii_sharkaboi39.jpg\n",
      "Renaming virabhadrasana_ii_sharkaboi4.jpg\n",
      "Renaming virabhadrasana_ii_sharkaboi40.jpg\n",
      "Renaming virabhadrasana_ii_sharkaboi41.jpg\n",
      "Renaming virabhadrasana_ii_sharkaboi42.jpg\n",
      "Renaming virabhadrasana_ii_sharkaboi43.jpg\n",
      "Renaming virabhadrasana_ii_sharkaboi44.jpg\n",
      "Renaming virabhadrasana_ii_sharkaboi45.jpg\n",
      "Renaming virabhadrasana_ii_sharkaboi46.jpg\n",
      "Renaming virabhadrasana_ii_sharkaboi47.jpg\n",
      "Renaming virabhadrasana_ii_sharkaboi48.jpg\n",
      "Renaming virabhadrasana_ii_sharkaboi49.jpg\n",
      "Renaming virabhadrasana_ii_sharkaboi5.jpg\n",
      "Renaming virabhadrasana_ii_sharkaboi50.jpg\n",
      "Renaming virabhadrasana_ii_sharkaboi51.jpg\n",
      "Renaming virabhadrasana_ii_sharkaboi52.jpg\n",
      "Renaming virabhadrasana_ii_sharkaboi53.jpg\n",
      "Renaming virabhadrasana_ii_sharkaboi54.jpg\n",
      "Renaming virabhadrasana_ii_sharkaboi55.jpg\n",
      "Renaming virabhadrasana_ii_sharkaboi56.jpg\n",
      "Renaming virabhadrasana_ii_sharkaboi57.jpg\n",
      "Renaming virabhadrasana_ii_sharkaboi58.jpg\n",
      "Renaming virabhadrasana_ii_sharkaboi59.jpg\n",
      "Renaming virabhadrasana_ii_sharkaboi6.jpg\n",
      "Renaming virabhadrasana_ii_sharkaboi60.jpg\n",
      "Renaming virabhadrasana_ii_sharkaboi61.jpg\n",
      "Renaming virabhadrasana_ii_sharkaboi62.jpg\n",
      "Renaming virabhadrasana_ii_sharkaboi63.jpg\n",
      "Renaming virabhadrasana_ii_sharkaboi64.jpg\n",
      "Renaming virabhadrasana_ii_sharkaboi65.jpg\n",
      "Renaming virabhadrasana_ii_sharkaboi66.jpg\n",
      "Renaming virabhadrasana_ii_sharkaboi67.jpg\n",
      "Renaming virabhadrasana_ii_sharkaboi68.jpg\n",
      "Renaming virabhadrasana_ii_sharkaboi69.jpg\n",
      "Renaming virabhadrasana_ii_sharkaboi7.jpg\n",
      "Renaming virabhadrasana_ii_sharkaboi70.jpg\n",
      "Renaming virabhadrasana_ii_sharkaboi71.jpg\n",
      "Renaming virabhadrasana_ii_sharkaboi72.jpg\n",
      "Renaming virabhadrasana_ii_sharkaboi73.jpg\n",
      "Renaming virabhadrasana_ii_sharkaboi74.jpg\n",
      "Renaming virabhadrasana_ii_sharkaboi75.jpg\n",
      "Renaming virabhadrasana_ii_sharkaboi76.jpg\n",
      "Renaming virabhadrasana_ii_sharkaboi77.jpg\n",
      "Renaming virabhadrasana_ii_sharkaboi78.jpg\n",
      "Renaming virabhadrasana_ii_sharkaboi79.jpg\n",
      "Renaming virabhadrasana_ii_sharkaboi8.jpg\n",
      "Renaming virabhadrasana_ii_sharkaboi80.jpg\n",
      "Renaming virabhadrasana_ii_sharkaboi81.jpg\n",
      "Renaming virabhadrasana_ii_sharkaboi82.jpg\n",
      "Renaming virabhadrasana_ii_sharkaboi83.jpg\n",
      "Renaming virabhadrasana_ii_sharkaboi84.jpg\n",
      "Renaming virabhadrasana_ii_sharkaboi85.jpg\n",
      "Renaming virabhadrasana_ii_sharkaboi86.jpg\n",
      "Renaming virabhadrasana_ii_sharkaboi87.jpg\n",
      "Renaming virabhadrasana_ii_sharkaboi88.jpg\n",
      "Renaming virabhadrasana_ii_sharkaboi89.jpg\n",
      "Renaming virabhadrasana_ii_sharkaboi9.jpg\n",
      "Renaming virabhadrasana_ii_sharkaboi90.jpg\n",
      "Renaming virabhadrasana_ii_sharkaboi91.jpeg\n",
      "Renaming virabhadrasana_ii_sharkaboi92.jpg\n",
      "Renaming virabhadrasana_ii_sharkaboi93.jpg\n",
      "Renaming virabhadrasana_ii_sharkaboi94.jpg\n",
      "Renaming virabhadrasana_ii_sharkaboi95.jpg\n",
      "Renaming virabhadrasana_ii_sharkaboi96.jpg\n",
      "Renaming virabhadrasana_ii_sharkaboi97.jpg\n",
      "Renaming virabhadrasana_ii_sharkaboi98.jpg\n",
      "Renaming virabhadrasana_ii_sharkaboi99.jpg\n",
      "Renaming vrikshasana_sharkaboi1.jpg\n",
      "Renaming vrikshasana_sharkaboi10.jpg\n",
      "Renaming vrikshasana_sharkaboi100.jpg\n",
      "Renaming vrikshasana_sharkaboi101.jpg\n",
      "Renaming vrikshasana_sharkaboi102.jpg\n",
      "Renaming vrikshasana_sharkaboi103.jpg\n",
      "Renaming vrikshasana_sharkaboi104.jpg\n",
      "Renaming vrikshasana_sharkaboi105.jpg\n",
      "Renaming vrikshasana_sharkaboi106.jpg\n",
      "Renaming vrikshasana_sharkaboi107.jpg\n",
      "Renaming vrikshasana_sharkaboi108.jpg\n",
      "Renaming vrikshasana_sharkaboi109.jpg\n",
      "Renaming vrikshasana_sharkaboi11.jpg\n",
      "Renaming vrikshasana_sharkaboi110.jpg\n",
      "Renaming vrikshasana_sharkaboi111.jpg\n",
      "Renaming vrikshasana_sharkaboi112.jpg\n",
      "Renaming vrikshasana_sharkaboi113.jpg\n",
      "Renaming vrikshasana_sharkaboi114.jpg\n",
      "Renaming vrikshasana_sharkaboi115.jpg\n",
      "Renaming vrikshasana_sharkaboi116.jpg\n",
      "Renaming vrikshasana_sharkaboi117.jpg\n",
      "Renaming vrikshasana_sharkaboi118.jpg\n",
      "Renaming vrikshasana_sharkaboi119.jpg\n",
      "Renaming vrikshasana_sharkaboi12.jpg\n",
      "Renaming vrikshasana_sharkaboi120.jpg\n",
      "Renaming vrikshasana_sharkaboi121.jpg\n",
      "Renaming vrikshasana_sharkaboi122.jpg\n",
      "Renaming vrikshasana_sharkaboi123.jpg\n",
      "Renaming vrikshasana_sharkaboi124.jpg\n",
      "Renaming vrikshasana_sharkaboi125.jpg\n",
      "Renaming vrikshasana_sharkaboi126.jpg\n",
      "Renaming vrikshasana_sharkaboi127.jpg\n",
      "Renaming vrikshasana_sharkaboi128.jpg\n",
      "Renaming vrikshasana_sharkaboi129.jpg\n",
      "Renaming vrikshasana_sharkaboi13.jpg\n",
      "Renaming vrikshasana_sharkaboi130.jpg\n",
      "Renaming vrikshasana_sharkaboi131.jpg\n",
      "Renaming vrikshasana_sharkaboi132.jpg\n",
      "Renaming vrikshasana_sharkaboi133.jpg\n",
      "Renaming vrikshasana_sharkaboi134.jpg\n",
      "Renaming vrikshasana_sharkaboi135.jpg\n",
      "Renaming vrikshasana_sharkaboi136.jpg\n",
      "Renaming vrikshasana_sharkaboi137.jpg\n",
      "Renaming vrikshasana_sharkaboi138.jpg\n",
      "Renaming vrikshasana_sharkaboi139.jpg\n",
      "Renaming vrikshasana_sharkaboi14.jpg\n",
      "Renaming vrikshasana_sharkaboi140.jpg\n",
      "Renaming vrikshasana_sharkaboi141.jpg\n",
      "Renaming vrikshasana_sharkaboi142.jpg\n",
      "Renaming vrikshasana_sharkaboi143.jpg\n",
      "Renaming vrikshasana_sharkaboi144.jpg\n",
      "Renaming vrikshasana_sharkaboi145.jpg\n",
      "Renaming vrikshasana_sharkaboi146.jpg\n",
      "Renaming vrikshasana_sharkaboi147.jpg\n",
      "Renaming vrikshasana_sharkaboi148.jpg\n",
      "Renaming vrikshasana_sharkaboi149.jpg\n",
      "Renaming vrikshasana_sharkaboi15.jpg\n",
      "Renaming vrikshasana_sharkaboi150.jpg\n",
      "Renaming vrikshasana_sharkaboi151.jpg\n",
      "Renaming vrikshasana_sharkaboi152.jpg\n",
      "Renaming vrikshasana_sharkaboi153.jpg\n",
      "Renaming vrikshasana_sharkaboi154.jpg\n",
      "Renaming vrikshasana_sharkaboi155.jpg\n",
      "Renaming vrikshasana_sharkaboi156.jpg\n",
      "Renaming vrikshasana_sharkaboi157.jpg\n",
      "Renaming vrikshasana_sharkaboi158.jpg\n",
      "Renaming vrikshasana_sharkaboi159.jpg\n",
      "Renaming vrikshasana_sharkaboi16.jpg\n",
      "Renaming vrikshasana_sharkaboi160.jpg\n",
      "Renaming vrikshasana_sharkaboi161.jpg\n",
      "Renaming vrikshasana_sharkaboi162.jpg\n",
      "Renaming vrikshasana_sharkaboi163.jpg\n",
      "Renaming vrikshasana_sharkaboi164.jpg\n",
      "Renaming vrikshasana_sharkaboi165.jpg\n",
      "Renaming vrikshasana_sharkaboi166.jpg\n",
      "Renaming vrikshasana_sharkaboi167.jpg\n",
      "Renaming vrikshasana_sharkaboi168.jpg\n",
      "Renaming vrikshasana_sharkaboi169.jpg\n",
      "Renaming vrikshasana_sharkaboi17.jpg\n",
      "Renaming vrikshasana_sharkaboi170.jpg\n",
      "Renaming vrikshasana_sharkaboi171.jpg\n",
      "Renaming vrikshasana_sharkaboi172.jpg\n",
      "Renaming vrikshasana_sharkaboi173.jpg\n",
      "Renaming vrikshasana_sharkaboi174.jpg\n",
      "Renaming vrikshasana_sharkaboi175.jpg\n",
      "Renaming vrikshasana_sharkaboi176.jpg\n",
      "Renaming vrikshasana_sharkaboi177.jpg\n",
      "Renaming vrikshasana_sharkaboi178.jpg\n",
      "Renaming vrikshasana_sharkaboi179.jpg\n",
      "Renaming vrikshasana_sharkaboi18.jpg\n",
      "Renaming vrikshasana_sharkaboi180.jpg\n",
      "Renaming vrikshasana_sharkaboi181.jpg\n",
      "Renaming vrikshasana_sharkaboi182.jpg\n",
      "Renaming vrikshasana_sharkaboi183.jpg\n",
      "Renaming vrikshasana_sharkaboi184.jpg\n",
      "Renaming vrikshasana_sharkaboi185.jpg\n",
      "Renaming vrikshasana_sharkaboi186.jpg\n",
      "Renaming vrikshasana_sharkaboi187.jpg\n",
      "Renaming vrikshasana_sharkaboi188.jpg\n",
      "Renaming vrikshasana_sharkaboi189.jpg\n",
      "Renaming vrikshasana_sharkaboi19.jpg\n",
      "Renaming vrikshasana_sharkaboi190.jpg\n",
      "Renaming vrikshasana_sharkaboi191.jpg\n",
      "Renaming vrikshasana_sharkaboi192.jpg\n",
      "Renaming vrikshasana_sharkaboi193.jpg\n",
      "Renaming vrikshasana_sharkaboi194.jpg\n",
      "Renaming vrikshasana_sharkaboi195.jpg\n",
      "Renaming vrikshasana_sharkaboi196.jpg\n",
      "Renaming vrikshasana_sharkaboi197.jpg\n",
      "Renaming vrikshasana_sharkaboi198.jpg\n",
      "Renaming vrikshasana_sharkaboi199.jpg\n",
      "Renaming vrikshasana_sharkaboi2.jpg\n",
      "Renaming vrikshasana_sharkaboi20.jpg\n",
      "Renaming vrikshasana_sharkaboi200.jpg\n",
      "Renaming vrikshasana_sharkaboi201.jpg\n",
      "Renaming vrikshasana_sharkaboi202.jpg\n",
      "Renaming vrikshasana_sharkaboi203.jpg\n",
      "Renaming vrikshasana_sharkaboi204.jpg\n",
      "Renaming vrikshasana_sharkaboi205.jpg\n",
      "Renaming vrikshasana_sharkaboi206.jpg\n",
      "Renaming vrikshasana_sharkaboi207.jpg\n",
      "Renaming vrikshasana_sharkaboi208.jpg\n",
      "Renaming vrikshasana_sharkaboi209.jpg\n",
      "Renaming vrikshasana_sharkaboi21.jpg\n",
      "Renaming vrikshasana_sharkaboi210.jpg\n",
      "Renaming vrikshasana_sharkaboi211.jpg\n",
      "Renaming vrikshasana_sharkaboi212.jpg\n",
      "Renaming vrikshasana_sharkaboi213.jpg\n",
      "Renaming vrikshasana_sharkaboi214.jpg\n",
      "Renaming vrikshasana_sharkaboi215.jpg\n",
      "Renaming vrikshasana_sharkaboi216.jpg\n",
      "Renaming vrikshasana_sharkaboi217.jpg\n",
      "Renaming vrikshasana_sharkaboi218.jpg\n",
      "Renaming vrikshasana_sharkaboi219.jpg\n",
      "Renaming vrikshasana_sharkaboi22.jpg\n",
      "Renaming vrikshasana_sharkaboi220.jpg\n",
      "Renaming vrikshasana_sharkaboi221.jpg\n",
      "Renaming vrikshasana_sharkaboi222.jpg\n",
      "Renaming vrikshasana_sharkaboi223.jpg\n",
      "Renaming vrikshasana_sharkaboi224.jpg\n",
      "Renaming vrikshasana_sharkaboi225.jpg\n",
      "Renaming vrikshasana_sharkaboi226.jpg\n",
      "Renaming vrikshasana_sharkaboi227.jpg\n",
      "Renaming vrikshasana_sharkaboi228.jpg\n",
      "Renaming vrikshasana_sharkaboi229.jpg\n",
      "Renaming vrikshasana_sharkaboi23.jpg\n",
      "Renaming vrikshasana_sharkaboi230.jpg\n",
      "Renaming vrikshasana_sharkaboi231.jpg\n",
      "Renaming vrikshasana_sharkaboi232.jpg\n",
      "Renaming vrikshasana_sharkaboi233.jpg\n",
      "Renaming vrikshasana_sharkaboi234.jpg\n",
      "Renaming vrikshasana_sharkaboi235.jpg\n",
      "Renaming vrikshasana_sharkaboi236.jpg\n",
      "Renaming vrikshasana_sharkaboi237.jpg\n",
      "Renaming vrikshasana_sharkaboi238.jpg\n",
      "Renaming vrikshasana_sharkaboi239.jpg\n",
      "Renaming vrikshasana_sharkaboi24.jpg\n",
      "Renaming vrikshasana_sharkaboi240.jpg\n",
      "Renaming vrikshasana_sharkaboi241.jpg\n",
      "Renaming vrikshasana_sharkaboi242.jpg\n",
      "Renaming vrikshasana_sharkaboi243.jpg\n",
      "Renaming vrikshasana_sharkaboi244.jpg\n",
      "Renaming vrikshasana_sharkaboi245.jpg\n",
      "Renaming vrikshasana_sharkaboi246.jpg\n",
      "Renaming vrikshasana_sharkaboi247.jpg\n",
      "Renaming vrikshasana_sharkaboi248.jpg\n",
      "Renaming vrikshasana_sharkaboi249.jpg\n",
      "Renaming vrikshasana_sharkaboi25.jpg\n",
      "Renaming vrikshasana_sharkaboi250.jpg\n",
      "Renaming vrikshasana_sharkaboi251.jpg\n",
      "Renaming vrikshasana_sharkaboi252.jpg\n",
      "Renaming vrikshasana_sharkaboi253.jpg\n",
      "Renaming vrikshasana_sharkaboi254.jpg\n",
      "Renaming vrikshasana_sharkaboi255.jpg\n",
      "Renaming vrikshasana_sharkaboi256.jpg\n",
      "Renaming vrikshasana_sharkaboi257.jpg\n",
      "Renaming vrikshasana_sharkaboi258.jpg\n",
      "Renaming vrikshasana_sharkaboi259.jpg\n",
      "Renaming vrikshasana_sharkaboi26.jpg\n",
      "Renaming vrikshasana_sharkaboi260.jpg\n",
      "Renaming vrikshasana_sharkaboi261.jpg\n",
      "Renaming vrikshasana_sharkaboi262.jpg\n",
      "Renaming vrikshasana_sharkaboi263.jpg\n",
      "Renaming vrikshasana_sharkaboi264.jpg\n",
      "Renaming vrikshasana_sharkaboi265.jpg\n",
      "Renaming vrikshasana_sharkaboi266.jpg\n",
      "Renaming vrikshasana_sharkaboi267.jpg\n",
      "Renaming vrikshasana_sharkaboi268.jpg\n",
      "Renaming vrikshasana_sharkaboi269.jpg\n",
      "Renaming vrikshasana_sharkaboi27.jpg\n",
      "Renaming vrikshasana_sharkaboi270.jpg\n",
      "Renaming vrikshasana_sharkaboi271.jpg\n",
      "Renaming vrikshasana_sharkaboi272.jpg\n",
      "Renaming vrikshasana_sharkaboi273.jpg\n",
      "Renaming vrikshasana_sharkaboi274.jpg\n",
      "Renaming vrikshasana_sharkaboi275.jpg\n",
      "Renaming vrikshasana_sharkaboi276.jpg\n",
      "Renaming vrikshasana_sharkaboi277.jpg\n",
      "Renaming vrikshasana_sharkaboi278.jpg\n",
      "Renaming vrikshasana_sharkaboi279.jpg\n",
      "Renaming vrikshasana_sharkaboi28.jpg\n"
     ]
    },
    {
     "name": "stdout",
     "output_type": "stream",
     "text": [
      "Renaming vrikshasana_sharkaboi280.jpg\n",
      "Renaming vrikshasana_sharkaboi281.jpg\n",
      "Renaming vrikshasana_sharkaboi282.jpg\n",
      "Renaming vrikshasana_sharkaboi283.jpg\n",
      "Renaming vrikshasana_sharkaboi284.jpg\n",
      "Renaming vrikshasana_sharkaboi285.jpg\n",
      "Renaming vrikshasana_sharkaboi286.jpg\n",
      "Renaming vrikshasana_sharkaboi287.jpg\n",
      "Renaming vrikshasana_sharkaboi288.jpg\n",
      "Renaming vrikshasana_sharkaboi289.jpg\n",
      "Renaming vrikshasana_sharkaboi29.jpg\n",
      "Renaming vrikshasana_sharkaboi290.jpg\n",
      "Renaming vrikshasana_sharkaboi291.jpg\n",
      "Renaming vrikshasana_sharkaboi292.jpg\n",
      "Renaming vrikshasana_sharkaboi293.jpg\n",
      "Renaming vrikshasana_sharkaboi294.jpg\n",
      "Renaming vrikshasana_sharkaboi295.jpg\n",
      "Renaming vrikshasana_sharkaboi296.jpg\n",
      "Renaming vrikshasana_sharkaboi297.jpg\n",
      "Renaming vrikshasana_sharkaboi298.jpg\n",
      "Renaming vrikshasana_sharkaboi299.jpg\n",
      "Renaming vrikshasana_sharkaboi3.jpg\n",
      "Renaming vrikshasana_sharkaboi30.jpg\n",
      "Renaming vrikshasana_sharkaboi300.jpg\n",
      "Renaming vrikshasana_sharkaboi301.jpg\n",
      "Renaming vrikshasana_sharkaboi302.jpg\n",
      "Renaming vrikshasana_sharkaboi303.jpg\n",
      "Renaming vrikshasana_sharkaboi304.jpg\n",
      "Renaming vrikshasana_sharkaboi305.jpg\n",
      "Renaming vrikshasana_sharkaboi306.jpg\n",
      "Renaming vrikshasana_sharkaboi307.jpg\n",
      "Renaming vrikshasana_sharkaboi308.jpg\n",
      "Renaming vrikshasana_sharkaboi309.jpg\n",
      "Renaming vrikshasana_sharkaboi31.jpg\n",
      "Renaming vrikshasana_sharkaboi310.jpg\n",
      "Renaming vrikshasana_sharkaboi311.jpg\n",
      "Renaming vrikshasana_sharkaboi312.jpg\n",
      "Renaming vrikshasana_sharkaboi313.jpg\n",
      "Renaming vrikshasana_sharkaboi314.jpg\n",
      "Renaming vrikshasana_sharkaboi315.jpg\n",
      "Renaming vrikshasana_sharkaboi316.jpg\n",
      "Renaming vrikshasana_sharkaboi317.jpg\n",
      "Renaming vrikshasana_sharkaboi318.jpg\n",
      "Renaming vrikshasana_sharkaboi319.jpg\n",
      "Renaming vrikshasana_sharkaboi32.jpg\n",
      "Renaming vrikshasana_sharkaboi320.jpg\n",
      "Renaming vrikshasana_sharkaboi321.jpg\n",
      "Renaming vrikshasana_sharkaboi33.jpg\n",
      "Renaming vrikshasana_sharkaboi34.jpg\n",
      "Renaming vrikshasana_sharkaboi35.jpg\n",
      "Renaming vrikshasana_sharkaboi36.jpg\n",
      "Renaming vrikshasana_sharkaboi37.jpg\n",
      "Renaming vrikshasana_sharkaboi38.jpg\n",
      "Renaming vrikshasana_sharkaboi39.jpg\n",
      "Renaming vrikshasana_sharkaboi4.jpg\n",
      "Renaming vrikshasana_sharkaboi40.jpg\n",
      "Renaming vrikshasana_sharkaboi41.jpg\n",
      "Renaming vrikshasana_sharkaboi42.jpg\n",
      "Renaming vrikshasana_sharkaboi43.jpg\n",
      "Renaming vrikshasana_sharkaboi44.jpg\n",
      "Renaming vrikshasana_sharkaboi45.jpg\n",
      "Renaming vrikshasana_sharkaboi46.jpg\n",
      "Renaming vrikshasana_sharkaboi47.jpg\n",
      "Renaming vrikshasana_sharkaboi48.jpg\n",
      "Renaming vrikshasana_sharkaboi49.jpg\n",
      "Renaming vrikshasana_sharkaboi5.jpg\n",
      "Renaming vrikshasana_sharkaboi50.jpg\n",
      "Renaming vrikshasana_sharkaboi51.jpg\n",
      "Renaming vrikshasana_sharkaboi52.jpg\n",
      "Renaming vrikshasana_sharkaboi53.jpg\n",
      "Renaming vrikshasana_sharkaboi54.jpg\n",
      "Renaming vrikshasana_sharkaboi55.jpg\n",
      "Renaming vrikshasana_sharkaboi56.jpg\n",
      "Renaming vrikshasana_sharkaboi57.jpg\n",
      "Renaming vrikshasana_sharkaboi58.jpg\n",
      "Renaming vrikshasana_sharkaboi59.jpg\n",
      "Renaming vrikshasana_sharkaboi6.jpg\n",
      "Renaming vrikshasana_sharkaboi60.jpg\n",
      "Renaming vrikshasana_sharkaboi61.jpg\n",
      "Renaming vrikshasana_sharkaboi62.jpg\n",
      "Renaming vrikshasana_sharkaboi63.jpg\n",
      "Renaming vrikshasana_sharkaboi64.jpg\n",
      "Renaming vrikshasana_sharkaboi65.jpg\n",
      "Renaming vrikshasana_sharkaboi66.jpg\n",
      "Renaming vrikshasana_sharkaboi67.jpg\n",
      "Renaming vrikshasana_sharkaboi68.jpg\n",
      "Renaming vrikshasana_sharkaboi69.jpg\n",
      "Renaming vrikshasana_sharkaboi7.jpg\n",
      "Renaming vrikshasana_sharkaboi70.jpg\n",
      "Renaming vrikshasana_sharkaboi71.jpg\n",
      "Renaming vrikshasana_sharkaboi72.jpg\n",
      "Renaming vrikshasana_sharkaboi73.jpg\n",
      "Renaming vrikshasana_sharkaboi74.jpg\n",
      "Renaming vrikshasana_sharkaboi75.jpg\n",
      "Renaming vrikshasana_sharkaboi76.jpg\n",
      "Renaming vrikshasana_sharkaboi77.jpg\n",
      "Renaming vrikshasana_sharkaboi78.jpg\n",
      "Renaming vrikshasana_sharkaboi79.jpg\n",
      "Renaming vrikshasana_sharkaboi8.jpg\n",
      "Renaming vrikshasana_sharkaboi80.jpg\n",
      "Renaming vrikshasana_sharkaboi81.jpg\n",
      "Renaming vrikshasana_sharkaboi82.jpg\n",
      "Renaming vrikshasana_sharkaboi83.jpg\n",
      "Renaming vrikshasana_sharkaboi84.jpg\n",
      "Renaming vrikshasana_sharkaboi85.jpg\n",
      "Renaming vrikshasana_sharkaboi86.jpg\n",
      "Renaming vrikshasana_sharkaboi87.jpg\n",
      "Renaming vrikshasana_sharkaboi88.jpg\n",
      "Renaming vrikshasana_sharkaboi89.jpg\n",
      "Renaming vrikshasana_sharkaboi9.jpg\n",
      "Renaming vrikshasana_sharkaboi90.jpg\n",
      "Renaming vrikshasana_sharkaboi91.jpg\n",
      "Renaming vrikshasana_sharkaboi92.jpg\n",
      "Renaming vrikshasana_sharkaboi93.jpg\n",
      "Renaming vrikshasana_sharkaboi94.jpg\n",
      "Renaming vrikshasana_sharkaboi95.jpg\n",
      "Renaming vrikshasana_sharkaboi96.jpg\n",
      "Renaming vrikshasana_sharkaboi97.jpg\n",
      "Renaming vrikshasana_sharkaboi98.jpg\n",
      "Renaming vrikshasana_sharkaboi99.jpg\n",
      "Finished cleaning file names\n"
     ]
    }
   ],
   "source": [
    "from PIL import Image\n",
    "import os\n",
    "import shutil\n",
    "import re\n",
    "from pathlib import Path\n",
    "\n",
    "classFolders = getClasses()\n",
    "for className in classFolders:\n",
    "    class_path = getPathOfClass(className)\n",
    "    files = os.listdir(class_path)\n",
    "    count = 1\n",
    "    for f in files:\n",
    "        old_path = os.path.join(class_path, f)\n",
    "        p = Path(old_path)\n",
    "        new_file_name = f\"{className}_{count}{p.suffix}\"\n",
    "        if new_file_name != f:\n",
    "            print(\"Renaming \" + f)\n",
    "        new_file_path = os.path.join(class_path, new_file_name)\n",
    "        if(os.path.exists(new_file_path)):\n",
    "            print(\"Clash in names, change to unique pattern\")\n",
    "            break\n",
    "        os.rename(old_path, new_file_path)\n",
    "        count += 1\n",
    "        \n",
    "print(\"Finished cleaning file names\")"
   ]
  },
  {
   "cell_type": "markdown",
   "id": "63dbd753",
   "metadata": {},
   "source": [
    "### Removing truncated images"
   ]
  },
  {
   "cell_type": "code",
   "execution_count": 6,
   "id": "0334414e",
   "metadata": {},
   "outputs": [
    {
     "name": "stdout",
     "output_type": "stream",
     "text": [
      "Done\n"
     ]
    }
   ],
   "source": [
    "from PIL import Image as pil_image\n",
    "import time\n",
    "\n",
    "def remove_file(path, retries=3, sleep=0.1):\n",
    "    for i in range(retries):\n",
    "        try:\n",
    "            os.remove(path)\n",
    "        except WindowsError:\n",
    "            time.sleep(sleep)\n",
    "        else:\n",
    "            break\n",
    "\n",
    "path = r\".\\data\\v2\"\n",
    "fols = os.listdir(path)\n",
    "for f in fols:\n",
    "    fil = os.listdir(os.path.join(path, f))\n",
    "    for file in fil:\n",
    "        fpath = os.path.join(path, f, file)\n",
    "        img = pil_image.open(fpath)\n",
    "        try:\n",
    "            img.getpixel((0,0))\n",
    "            plt.imread(fpath)\n",
    "        except OSError as e:\n",
    "            img.close()\n",
    "            print(\"Removing \"+ fpath)\n",
    "            remove_file(fpath)\n",
    "            \n",
    "print(\"Done\")"
   ]
  },
  {
   "cell_type": "markdown",
   "id": "3ffb0821",
   "metadata": {},
   "source": [
    "### Cleaning to (h, w, 3) format"
   ]
  },
  {
   "cell_type": "code",
   "execution_count": 12,
   "id": "d790db94",
   "metadata": {},
   "outputs": [
    {
     "name": "stdout",
     "output_type": "stream",
     "text": [
      "Done\n"
     ]
    }
   ],
   "source": [
    "path = r\".\\data\\v2\"\n",
    "fols = os.listdir(path)\n",
    "for f in fols:\n",
    "    fil = os.listdir(os.path.join(path, f))\n",
    "    for file in fil:\n",
    "        fpath = os.path.join(path, f, file)\n",
    "        img = plt.imread(fpath)\n",
    "        if not (len(img.shape) == 3 and img.shape[2] == 3):\n",
    "            print(fpath)\n",
    "            \n",
    "print(\"Done\")"
   ]
  },
  {
   "cell_type": "code",
   "execution_count": 13,
   "id": "f43a8a1e",
   "metadata": {},
   "outputs": [
    {
     "name": "stdout",
     "output_type": "stream",
     "text": [
      "Dataset frequency distribution\n",
      "adho_mukha_shvanasana : 435\n",
      "bhujangasana : 668\n",
      "bidalasana : 315\n",
      "phalakasana : 145\n",
      "ustrasana : 66\n",
      "utkatasana : 226\n",
      "utkata_konasana : 209\n",
      "vasisthasana : 148\n",
      "virabhadrasana_i : 221\n",
      "virabhadrasana_ii : 389\n",
      "vrikshasana : 315\n",
      "\n",
      "Image type frequency distribution\n",
      ".jpg : 3094\n",
      ".jpeg : 43\n",
      "\n"
     ]
    }
   ],
   "source": [
    "visualizeDataSet()"
   ]
  },
  {
   "cell_type": "markdown",
   "id": "29f275a8",
   "metadata": {},
   "source": [
    "## Pre-process"
   ]
  },
  {
   "cell_type": "code",
   "execution_count": 21,
   "id": "c9f00511",
   "metadata": {},
   "outputs": [
    {
     "name": "stdout",
     "output_type": "stream",
     "text": [
      "train_df length:  2509   test_df length:  628  total length:  3137\n",
      "bhujangasana             534\n",
      "adho_mukha_shvanasana    348\n",
      "virabhadrasana_ii        311\n",
      "vrikshasana              252\n",
      "bidalasana               252\n",
      "utkatasana               181\n",
      "virabhadrasana_i         177\n",
      "utkata_konasana          167\n",
      "vasisthasana             118\n",
      "phalakasana              116\n",
      "ustrasana                 53\n",
      "Name: labels, dtype: int64\n"
     ]
    }
   ],
   "source": [
    "from sklearn.model_selection import train_test_split\n",
    "import numpy as np\n",
    "import pandas as pd\n",
    "\n",
    "classFolders = getClasses()\n",
    "filepaths = []\n",
    "labels = []\n",
    "\n",
    "for className in classFolders:\n",
    "    class_path = getPathOfClass(className)\n",
    "    files = os.listdir(class_path)\n",
    "    for f in files:\n",
    "        fpath = os.path.join(class_path, f)\n",
    "        filepaths.append(fpath)\n",
    "        labels.append(className)\n",
    "\n",
    "Fseries=pd.Series(filepaths, name='filepaths')\n",
    "Lseries=pd.Series(labels, name='labels')\n",
    "df=pd.concat([Fseries, Lseries], axis=1)\n",
    "trsplit = 0.8\n",
    "tsplit = 0.2\n",
    "# split df into train_df and test_df \n",
    "strat=df['labels']    \n",
    "train_df, test_df = train_test_split(df, train_size=trsplit, shuffle=True, random_state=123, stratify=strat)\n",
    "print('train_df length: ', len(train_df), '  test_df length: ',len(test_df), ' total length: ', len(filepaths))\n",
    "print(train_df['labels'].value_counts())"
   ]
  },
  {
   "cell_type": "markdown",
   "id": "fc0fc214",
   "metadata": {},
   "source": [
    "## Augmentation"
   ]
  },
  {
   "cell_type": "code",
   "execution_count": 23,
   "id": "194a5a37",
   "metadata": {},
   "outputs": [
    {
     "name": "stdout",
     "output_type": "stream",
     "text": [
      "[250, 250, 250, 250, 250, 181, 177, 167, 118, 116, 53]\n",
      "Found 118 validated image filenames.\n",
      "Found 177 validated image filenames.\n",
      "Found 116 validated image filenames.\n",
      "Found 181 validated image filenames.\n",
      "Found 167 validated image filenames.\n",
      "Found 53 validated image filenames.\n",
      "Total Augmented images created=  688\n",
      "[250, 250, 250, 250, 250, 250, 250, 250, 250, 250, 250]\n",
      "2750\n",
      "2750\n"
     ]
    }
   ],
   "source": [
    "from tensorflow.keras.preprocessing.image import ImageDataGenerator\n",
    "import shutil\n",
    "\n",
    "def trim (df, max_size, min_size, column):\n",
    "    df=df.copy()\n",
    "    sample_list=[] \n",
    "    groups=df.groupby(column)\n",
    "    for label in df[column].unique():        \n",
    "        group=groups.get_group(label)\n",
    "        sample_count=len(group)         \n",
    "        if sample_count> max_size :\n",
    "            samples=group.sample(max_size, replace=False, weights=None, random_state=123, axis=0).reset_index(drop=True)\n",
    "            sample_list.append(samples)\n",
    "        elif sample_count>= min_size:\n",
    "            sample_list.append(group)\n",
    "    df=pd.concat(sample_list, axis=0).reset_index(drop=True)\n",
    "    balance=list(df[column].value_counts())\n",
    "    print (balance)\n",
    "    return df\n",
    "\n",
    "def balance(train_df,max_samples, min_samples, column, working_dir, image_size):\n",
    "    train_df=train_df.copy()\n",
    "    train_df=trim (train_df, max_samples, min_samples, column)    \n",
    "    # make directories to store augmented images\n",
    "    aug_dir=os.path.join(working_dir, 'aug')\n",
    "    if os.path.isdir(aug_dir):\n",
    "        shutil.rmtree(aug_dir)\n",
    "    os.mkdir(aug_dir)\n",
    "    for label in train_df['labels'].unique():    \n",
    "        dir_path=os.path.join(aug_dir,label)    \n",
    "        os.mkdir(dir_path)\n",
    "    # create and store the augmented images  \n",
    "    total=0\n",
    "    gen=ImageDataGenerator(horizontal_flip=True,  rotation_range=20, width_shift_range=.2,\n",
    "                                  height_shift_range=.2, zoom_range=.2)\n",
    "    groups=train_df.groupby('labels') # group by class\n",
    "    for label in train_df['labels'].unique():  # for every class               \n",
    "        group=groups.get_group(label)  # a dataframe holding only rows with the specified label \n",
    "        sample_count=len(group)   # determine how many samples there are in this class  \n",
    "        if sample_count< max_samples: # if the class has less than target number of images\n",
    "            aug_img_count=0\n",
    "            delta=max_samples-sample_count  # number of augmented images to create\n",
    "            target_dir=os.path.join(aug_dir, label)  # define where to write the images    \n",
    "            aug_gen=gen.flow_from_dataframe( group,  x_col='filepaths', y_col=None, target_size=image_size,\n",
    "                                            class_mode=None, batch_size=1, shuffle=False, \n",
    "                                            save_to_dir=target_dir, save_prefix='aug-', color_mode='rgb',\n",
    "                                            save_format='jpg')\n",
    "            while aug_img_count<delta:\n",
    "                images=next(aug_gen)            \n",
    "                aug_img_count += len(images)\n",
    "            total +=aug_img_count\n",
    "    print('Total Augmented images created= ', total)\n",
    "    # create aug_df and merge with train_df to create composite training set ndf\n",
    "    if total>0:\n",
    "        aug_fpaths=[]\n",
    "        aug_labels=[]\n",
    "        classlist=os.listdir(aug_dir)\n",
    "        for klass in classlist:\n",
    "            classpath=os.path.join(aug_dir, klass)     \n",
    "            flist=os.listdir(classpath)    \n",
    "            for f in flist:        \n",
    "                fpath=os.path.join(classpath,f)         \n",
    "                aug_fpaths.append(fpath)\n",
    "                aug_labels.append(klass)\n",
    "        Fseries=pd.Series(aug_fpaths, name='filepaths')\n",
    "        Lseries=pd.Series(aug_labels, name='labels')\n",
    "        aug_df=pd.concat([Fseries, Lseries], axis=1)\n",
    "        ndf=pd.concat([train_df,aug_df], axis=0).reset_index(drop=True)\n",
    "    else:\n",
    "        ndf=train_df\n",
    "    print (list(ndf['labels'].value_counts()) )\n",
    "    return ndf \n",
    "\n",
    "max_samples= 250\n",
    "min_samples=0\n",
    "column='labels'\n",
    "working_dir = r'./'\n",
    "img_size=(256, 256)\n",
    "train_df=balance(train_df, max_samples, min_samples, column, working_dir, img_size)"
   ]
  },
  {
   "cell_type": "markdown",
   "id": "4641d94c",
   "metadata": {},
   "source": [
    "### Save detected poses of training set for debugging"
   ]
  },
  {
   "cell_type": "code",
   "execution_count": 24,
   "id": "fa8aaeb4",
   "metadata": {},
   "outputs": [],
   "source": [
    "import matplotlib.pyplot as plt\n",
    "import cv2\n",
    "import mediapipe as mp\n",
    "mp_pose = mp.solutions.pose\n",
    "mp_drawing = mp.solutions.drawing_utils \n",
    "mp_drawing_styles = mp.solutions.drawing_styles\n",
    "\n",
    "toDir = r\".\\intermediates\\v\" + str(version)\n",
    "                \n",
    "def saveImagesWithKeypoints(image_path, results):\n",
    "    image_path = os.path.abspath(image_path)\n",
    "    try:\n",
    "        image = cv2.imread(image_path)\n",
    "        image = image.copy()\n",
    "        if results.pose_landmarks is not None:\n",
    "            mp_drawing.draw_landmarks(\n",
    "                image,\n",
    "                results.pose_landmarks,\n",
    "                mp_pose.POSE_CONNECTIONS,\n",
    "                landmark_drawing_spec=mp_drawing_styles.get_default_pose_landmarks_style())\n",
    "        p = Path(image_path)\n",
    "        fileName = p.name\n",
    "        fp = os.path.join(toDir, fileName)\n",
    "        fp = r\"\"+os.path.abspath(fp)\n",
    "        if not cv2.imwrite(fp, image):\n",
    "            raise Exception(\"image not saved to \"+fp)\n",
    "        print(\"Saved to \"+ fp)\n",
    "    except (Exception) as e:\n",
    "        print(\"Failed to write image for \" + image_path)\n",
    "        raise e"
   ]
  },
  {
   "cell_type": "markdown",
   "id": "97e54b85",
   "metadata": {},
   "source": [
    "### To save landmarks to file"
   ]
  },
  {
   "cell_type": "code",
   "execution_count": 51,
   "id": "c6ff9d74",
   "metadata": {},
   "outputs": [],
   "source": [
    "import csv\n",
    "import numpy as np\n",
    "\n",
    "landmark_count = 33\n",
    "\n",
    "def save_to_csv(results, class_name, image_path, image_shape, csv_out_writer):\n",
    "    pose_landmarks = results.pose_landmarks\n",
    "    if pose_landmarks is not None and len(pose_landmarks.landmark) == landmark_count:\n",
    "        pose_landmarks = [[lmk.x, lmk.y, lmk.z] for lmk in pose_landmarks.landmark]\n",
    "        # Map pose landmarks from [0, 1] range to absolute coordinates to get correct aspect ratio.\n",
    "        frame_height, frame_width = image_shape\n",
    "        pose_landmarks *= np.array([frame_width, frame_height, frame_width])\n",
    "        pose_landmarks = np.around(pose_landmarks, 5).flatten().astype(str).tolist()\n",
    "        p = Path(image_path)\n",
    "        fileName = p.name\n",
    "        csv_out_writer.writerow([fileName, class_name] + pose_landmarks)\n",
    "    else:\n",
    "        print('No pose detected - length  - ' + image_path)"
   ]
  },
  {
   "cell_type": "markdown",
   "id": "2b8313d8",
   "metadata": {},
   "source": [
    "## Running pre-trained detection model"
   ]
  },
  {
   "cell_type": "code",
   "execution_count": 31,
   "id": "a20b3329",
   "metadata": {
    "scrolled": true
   },
   "outputs": [
    {
     "name": "stderr",
     "output_type": "stream",
     "text": [
      "2it [00:00,  3.82it/s]"
     ]
    },
    {
     "name": "stdout",
     "output_type": "stream",
     "text": [
      "Saved to A:\\Projects\\CollegeProjects\\YogaPartner\\intermediates\\v2\\vrikshasana_118.jpg\n",
      "Saved to A:\\Projects\\CollegeProjects\\YogaPartner\\intermediates\\v2\\vrikshasana_59.jpg\n"
     ]
    },
    {
     "name": "stderr",
     "output_type": "stream",
     "text": [
      "4it [00:00,  5.55it/s]"
     ]
    },
    {
     "name": "stdout",
     "output_type": "stream",
     "text": [
      "Saved to A:\\Projects\\CollegeProjects\\YogaPartner\\intermediates\\v2\\vrikshasana_229.jpg\n",
      "Saved to A:\\Projects\\CollegeProjects\\YogaPartner\\intermediates\\v2\\vrikshasana_175.jpg\n"
     ]
    },
    {
     "name": "stderr",
     "output_type": "stream",
     "text": [
      "7it [00:01,  7.51it/s]"
     ]
    },
    {
     "name": "stdout",
     "output_type": "stream",
     "text": [
      "Saved to A:\\Projects\\CollegeProjects\\YogaPartner\\intermediates\\v2\\vrikshasana_87.jpg\n",
      "Saved to A:\\Projects\\CollegeProjects\\YogaPartner\\intermediates\\v2\\vrikshasana_315.jpg\n",
      "Saved to A:\\Projects\\CollegeProjects\\YogaPartner\\intermediates\\v2\\vrikshasana_126.jpg\n"
     ]
    },
    {
     "name": "stderr",
     "output_type": "stream",
     "text": [
      "9it [00:01,  7.20it/s]"
     ]
    },
    {
     "name": "stdout",
     "output_type": "stream",
     "text": [
      "Saved to A:\\Projects\\CollegeProjects\\YogaPartner\\intermediates\\v2\\vrikshasana_183.jpg\n",
      "Saved to A:\\Projects\\CollegeProjects\\YogaPartner\\intermediates\\v2\\vrikshasana_99.jpg\n"
     ]
    },
    {
     "name": "stderr",
     "output_type": "stream",
     "text": [
      "11it [00:01,  7.02it/s]"
     ]
    },
    {
     "name": "stdout",
     "output_type": "stream",
     "text": [
      "Saved to A:\\Projects\\CollegeProjects\\YogaPartner\\intermediates\\v2\\vrikshasana_105.jpg\n",
      "Saved to A:\\Projects\\CollegeProjects\\YogaPartner\\intermediates\\v2\\vrikshasana_120.jpg\n"
     ]
    },
    {
     "name": "stderr",
     "output_type": "stream",
     "text": [
      "13it [00:02,  6.98it/s]"
     ]
    },
    {
     "name": "stdout",
     "output_type": "stream",
     "text": [
      "Saved to A:\\Projects\\CollegeProjects\\YogaPartner\\intermediates\\v2\\vrikshasana_156.jpg\n",
      "Saved to A:\\Projects\\CollegeProjects\\YogaPartner\\intermediates\\v2\\vrikshasana_3.jpg\n",
      "Saved to A:\\Projects\\CollegeProjects\\YogaPartner\\intermediates\\v2\\vrikshasana_110.jpg\n"
     ]
    },
    {
     "name": "stderr",
     "output_type": "stream",
     "text": [
      "\r",
      "15it [00:02,  5.95it/s]"
     ]
    },
    {
     "name": "stdout",
     "output_type": "stream",
     "text": [
      "Saved to A:\\Projects\\CollegeProjects\\YogaPartner\\intermediates\\v2\\vrikshasana_291.jpg\n"
     ]
    },
    {
     "name": "stderr",
     "output_type": "stream",
     "text": [
      "\r",
      "16it [00:02,  5.52it/s]"
     ]
    },
    {
     "name": "stdout",
     "output_type": "stream",
     "text": [
      "Saved to A:\\Projects\\CollegeProjects\\YogaPartner\\intermediates\\v2\\vrikshasana_136.jpg\n"
     ]
    },
    {
     "name": "stderr",
     "output_type": "stream",
     "text": [
      "18it [00:03,  5.66it/s]"
     ]
    },
    {
     "name": "stdout",
     "output_type": "stream",
     "text": [
      "Saved to A:\\Projects\\CollegeProjects\\YogaPartner\\intermediates\\v2\\vrikshasana_122.jpg\n",
      "Saved to A:\\Projects\\CollegeProjects\\YogaPartner\\intermediates\\v2\\vrikshasana_5.jpg\n"
     ]
    },
    {
     "name": "stderr",
     "output_type": "stream",
     "text": [
      "\r",
      "19it [00:03,  5.49it/s]"
     ]
    },
    {
     "name": "stdout",
     "output_type": "stream",
     "text": [
      "Saved to A:\\Projects\\CollegeProjects\\YogaPartner\\intermediates\\v2\\vrikshasana_93.jpg\n"
     ]
    },
    {
     "name": "stderr",
     "output_type": "stream",
     "text": [
      "21it [00:05,  2.07it/s]"
     ]
    },
    {
     "name": "stdout",
     "output_type": "stream",
     "text": [
      "Saved to A:\\Projects\\CollegeProjects\\YogaPartner\\intermediates\\v2\\vrikshasana_11.jpg\n",
      "Saved to A:\\Projects\\CollegeProjects\\YogaPartner\\intermediates\\v2\\vrikshasana_185.jpg\n"
     ]
    },
    {
     "name": "stderr",
     "output_type": "stream",
     "text": [
      "\r",
      "22it [00:05,  2.38it/s]"
     ]
    },
    {
     "name": "stdout",
     "output_type": "stream",
     "text": [
      "Saved to A:\\Projects\\CollegeProjects\\YogaPartner\\intermediates\\v2\\vrikshasana_180.jpg\n"
     ]
    },
    {
     "name": "stderr",
     "output_type": "stream",
     "text": [
      "\r",
      "23it [00:05,  2.80it/s]"
     ]
    },
    {
     "name": "stdout",
     "output_type": "stream",
     "text": [
      "Saved to A:\\Projects\\CollegeProjects\\YogaPartner\\intermediates\\v2\\vrikshasana_223.jpg\n"
     ]
    },
    {
     "name": "stderr",
     "output_type": "stream",
     "text": [
      "26it [00:05,  4.57it/s]"
     ]
    },
    {
     "name": "stdout",
     "output_type": "stream",
     "text": [
      "Saved to A:\\Projects\\CollegeProjects\\YogaPartner\\intermediates\\v2\\vrikshasana_216.jpg\n",
      "Saved to A:\\Projects\\CollegeProjects\\YogaPartner\\intermediates\\v2\\vrikshasana_28.jpg\n",
      "Saved to A:\\Projects\\CollegeProjects\\YogaPartner\\intermediates\\v2\\vrikshasana_186.jpg\n"
     ]
    },
    {
     "name": "stderr",
     "output_type": "stream",
     "text": [
      "28it [00:06,  5.20it/s]"
     ]
    },
    {
     "name": "stdout",
     "output_type": "stream",
     "text": [
      "Saved to A:\\Projects\\CollegeProjects\\YogaPartner\\intermediates\\v2\\vrikshasana_204.jpg\n",
      "Saved to A:\\Projects\\CollegeProjects\\YogaPartner\\intermediates\\v2\\vrikshasana_132.jpg\n"
     ]
    },
    {
     "name": "stderr",
     "output_type": "stream",
     "text": [
      "30it [00:06,  5.99it/s]"
     ]
    },
    {
     "name": "stdout",
     "output_type": "stream",
     "text": [
      "Saved to A:\\Projects\\CollegeProjects\\YogaPartner\\intermediates\\v2\\vrikshasana_33.jpg\n",
      "Saved to A:\\Projects\\CollegeProjects\\YogaPartner\\intermediates\\v2\\vrikshasana_6.jpg\n"
     ]
    },
    {
     "name": "stderr",
     "output_type": "stream",
     "text": [
      "\r",
      "31it [00:06,  5.99it/s]"
     ]
    },
    {
     "name": "stdout",
     "output_type": "stream",
     "text": [
      "Saved to A:\\Projects\\CollegeProjects\\YogaPartner\\intermediates\\v2\\vrikshasana_300.jpg\n",
      "Saved to A:\\Projects\\CollegeProjects\\YogaPartner\\intermediates\\v2\\vrikshasana_194.jpg\n"
     ]
    },
    {
     "name": "stderr",
     "output_type": "stream",
     "text": [
      "34it [00:07,  5.95it/s]"
     ]
    },
    {
     "name": "stdout",
     "output_type": "stream",
     "text": [
      "Saved to A:\\Projects\\CollegeProjects\\YogaPartner\\intermediates\\v2\\vrikshasana_166.jpg\n",
      "Saved to A:\\Projects\\CollegeProjects\\YogaPartner\\intermediates\\v2\\vrikshasana_138.jpg\n"
     ]
    },
    {
     "name": "stderr",
     "output_type": "stream",
     "text": [
      "36it [00:09,  1.92it/s]"
     ]
    },
    {
     "name": "stdout",
     "output_type": "stream",
     "text": [
      "Saved to A:\\Projects\\CollegeProjects\\YogaPartner\\intermediates\\v2\\vrikshasana_190.jpg\n",
      "Saved to A:\\Projects\\CollegeProjects\\YogaPartner\\intermediates\\v2\\vrikshasana_74.jpg\n"
     ]
    },
    {
     "name": "stderr",
     "output_type": "stream",
     "text": [
      "38it [00:09,  2.67it/s]"
     ]
    },
    {
     "name": "stdout",
     "output_type": "stream",
     "text": [
      "Saved to A:\\Projects\\CollegeProjects\\YogaPartner\\intermediates\\v2\\vrikshasana_319.jpg\n",
      "Saved to A:\\Projects\\CollegeProjects\\YogaPartner\\intermediates\\v2\\vrikshasana_131.jpg\n"
     ]
    },
    {
     "name": "stderr",
     "output_type": "stream",
     "text": [
      "40it [00:10,  3.78it/s]"
     ]
    },
    {
     "name": "stdout",
     "output_type": "stream",
     "text": [
      "Saved to A:\\Projects\\CollegeProjects\\YogaPartner\\intermediates\\v2\\vrikshasana_173.jpg\n",
      "Saved to A:\\Projects\\CollegeProjects\\YogaPartner\\intermediates\\v2\\vrikshasana_152.jpg\n"
     ]
    },
    {
     "name": "stderr",
     "output_type": "stream",
     "text": [
      "42it [00:10,  4.79it/s]"
     ]
    },
    {
     "name": "stdout",
     "output_type": "stream",
     "text": [
      "Saved to A:\\Projects\\CollegeProjects\\YogaPartner\\intermediates\\v2\\vrikshasana_239.jpg\n",
      "Saved to A:\\Projects\\CollegeProjects\\YogaPartner\\intermediates\\v2\\vrikshasana_203.jpg\n"
     ]
    },
    {
     "name": "stderr",
     "output_type": "stream",
     "text": [
      "44it [00:10,  5.79it/s]"
     ]
    },
    {
     "name": "stdout",
     "output_type": "stream",
     "text": [
      "Saved to A:\\Projects\\CollegeProjects\\YogaPartner\\intermediates\\v2\\vrikshasana_158.jpg\n",
      "Saved to A:\\Projects\\CollegeProjects\\YogaPartner\\intermediates\\v2\\vrikshasana_42.jpg\n"
     ]
    },
    {
     "name": "stderr",
     "output_type": "stream",
     "text": [
      "46it [00:11,  6.68it/s]"
     ]
    },
    {
     "name": "stdout",
     "output_type": "stream",
     "text": [
      "Saved to A:\\Projects\\CollegeProjects\\YogaPartner\\intermediates\\v2\\vrikshasana_17.jpg\n",
      "Saved to A:\\Projects\\CollegeProjects\\YogaPartner\\intermediates\\v2\\vrikshasana_104.jpg\n"
     ]
    },
    {
     "name": "stderr",
     "output_type": "stream",
     "text": [
      "48it [00:11,  7.64it/s]"
     ]
    },
    {
     "name": "stdout",
     "output_type": "stream",
     "text": [
      "Saved to A:\\Projects\\CollegeProjects\\YogaPartner\\intermediates\\v2\\vrikshasana_18.jpg\n",
      "Saved to A:\\Projects\\CollegeProjects\\YogaPartner\\intermediates\\v2\\vrikshasana_128.jpg\n"
     ]
    },
    {
     "name": "stderr",
     "output_type": "stream",
     "text": [
      "50it [00:11,  7.45it/s]"
     ]
    },
    {
     "name": "stdout",
     "output_type": "stream",
     "text": [
      "Saved to A:\\Projects\\CollegeProjects\\YogaPartner\\intermediates\\v2\\vrikshasana_269.jpg\n",
      "Saved to A:\\Projects\\CollegeProjects\\YogaPartner\\intermediates\\v2\\vrikshasana_311.jpg\n"
     ]
    },
    {
     "name": "stderr",
     "output_type": "stream",
     "text": [
      "\r",
      "51it [00:11,  7.52it/s]"
     ]
    },
    {
     "name": "stdout",
     "output_type": "stream",
     "text": [
      "Saved to A:\\Projects\\CollegeProjects\\YogaPartner\\intermediates\\v2\\vrikshasana_280.jpg\n"
     ]
    },
    {
     "name": "stderr",
     "output_type": "stream",
     "text": [
      "\r",
      "52it [00:11,  6.34it/s]"
     ]
    },
    {
     "name": "stdout",
     "output_type": "stream",
     "text": [
      "Saved to A:\\Projects\\CollegeProjects\\YogaPartner\\intermediates\\v2\\vrikshasana_284.jpg\n"
     ]
    },
    {
     "name": "stderr",
     "output_type": "stream",
     "text": [
      "\r",
      "53it [00:12,  4.80it/s]"
     ]
    },
    {
     "name": "stdout",
     "output_type": "stream",
     "text": [
      "Saved to A:\\Projects\\CollegeProjects\\YogaPartner\\intermediates\\v2\\vrikshasana_316.jpg\n"
     ]
    },
    {
     "name": "stderr",
     "output_type": "stream",
     "text": [
      "55it [00:13,  3.09it/s]"
     ]
    },
    {
     "name": "stdout",
     "output_type": "stream",
     "text": [
      "Saved to A:\\Projects\\CollegeProjects\\YogaPartner\\intermediates\\v2\\vrikshasana_169.jpg\n",
      "Saved to A:\\Projects\\CollegeProjects\\YogaPartner\\intermediates\\v2\\vrikshasana_160.jpg\n"
     ]
    },
    {
     "name": "stderr",
     "output_type": "stream",
     "text": [
      "57it [00:13,  4.35it/s]"
     ]
    },
    {
     "name": "stdout",
     "output_type": "stream",
     "text": [
      "Saved to A:\\Projects\\CollegeProjects\\YogaPartner\\intermediates\\v2\\vrikshasana_201.jpg\n",
      "Saved to A:\\Projects\\CollegeProjects\\YogaPartner\\intermediates\\v2\\vrikshasana_39.jpg\n"
     ]
    },
    {
     "name": "stderr",
     "output_type": "stream",
     "text": [
      "59it [00:13,  5.32it/s]"
     ]
    },
    {
     "name": "stdout",
     "output_type": "stream",
     "text": [
      "Saved to A:\\Projects\\CollegeProjects\\YogaPartner\\intermediates\\v2\\vrikshasana_197.jpg\n",
      "Saved to A:\\Projects\\CollegeProjects\\YogaPartner\\intermediates\\v2\\vrikshasana_254.jpg\n"
     ]
    },
    {
     "name": "stderr",
     "output_type": "stream",
     "text": [
      "\r",
      "60it [00:13,  5.88it/s]"
     ]
    },
    {
     "name": "stdout",
     "output_type": "stream",
     "text": [
      "Saved to A:\\Projects\\CollegeProjects\\YogaPartner\\intermediates\\v2\\vrikshasana_164.jpg\n",
      "Saved to A:\\Projects\\CollegeProjects\\YogaPartner\\intermediates\\v2\\vrikshasana_43.jpg\n"
     ]
    },
    {
     "name": "stderr",
     "output_type": "stream",
     "text": [
      "63it [00:14,  4.89it/s]"
     ]
    },
    {
     "name": "stdout",
     "output_type": "stream",
     "text": [
      "Saved to A:\\Projects\\CollegeProjects\\YogaPartner\\intermediates\\v2\\vrikshasana_2.jpg\n",
      "Saved to A:\\Projects\\CollegeProjects\\YogaPartner\\intermediates\\v2\\vrikshasana_200.jpg\n"
     ]
    },
    {
     "name": "stderr",
     "output_type": "stream",
     "text": [
      "\r",
      "64it [00:15,  2.77it/s]"
     ]
    },
    {
     "name": "stdout",
     "output_type": "stream",
     "text": [
      "Saved to A:\\Projects\\CollegeProjects\\YogaPartner\\intermediates\\v2\\vrikshasana_212.jpg\n"
     ]
    },
    {
     "name": "stderr",
     "output_type": "stream",
     "text": [
      "66it [00:15,  3.61it/s]"
     ]
    },
    {
     "name": "stdout",
     "output_type": "stream",
     "text": [
      "Saved to A:\\Projects\\CollegeProjects\\YogaPartner\\intermediates\\v2\\vrikshasana_189.jpg\n",
      "Saved to A:\\Projects\\CollegeProjects\\YogaPartner\\intermediates\\v2\\vrikshasana_249.jpg\n"
     ]
    },
    {
     "name": "stderr",
     "output_type": "stream",
     "text": [
      "68it [00:16,  4.62it/s]"
     ]
    },
    {
     "name": "stdout",
     "output_type": "stream",
     "text": [
      "Saved to A:\\Projects\\CollegeProjects\\YogaPartner\\intermediates\\v2\\vrikshasana_210.jpg\n",
      "Saved to A:\\Projects\\CollegeProjects\\YogaPartner\\intermediates\\v2\\vrikshasana_103.jpg\n"
     ]
    },
    {
     "name": "stderr",
     "output_type": "stream",
     "text": [
      "70it [00:16,  5.11it/s]"
     ]
    },
    {
     "name": "stdout",
     "output_type": "stream",
     "text": [
      "Saved to A:\\Projects\\CollegeProjects\\YogaPartner\\intermediates\\v2\\vrikshasana_218.jpg\n",
      "Saved to A:\\Projects\\CollegeProjects\\YogaPartner\\intermediates\\v2\\vrikshasana_71.jpg\n"
     ]
    },
    {
     "name": "stderr",
     "output_type": "stream",
     "text": [
      "72it [00:16,  5.21it/s]"
     ]
    },
    {
     "name": "stdout",
     "output_type": "stream",
     "text": [
      "Saved to A:\\Projects\\CollegeProjects\\YogaPartner\\intermediates\\v2\\vrikshasana_294.jpg\n",
      "Saved to A:\\Projects\\CollegeProjects\\YogaPartner\\intermediates\\v2\\vrikshasana_80.jpg\n"
     ]
    },
    {
     "name": "stderr",
     "output_type": "stream",
     "text": [
      "74it [00:18,  2.80it/s]"
     ]
    },
    {
     "name": "stdout",
     "output_type": "stream",
     "text": [
      "Saved to A:\\Projects\\CollegeProjects\\YogaPartner\\intermediates\\v2\\vrikshasana_68.jpg\n",
      "Saved to A:\\Projects\\CollegeProjects\\YogaPartner\\intermediates\\v2\\vrikshasana_64.jpg\n",
      "Saved to A:\\Projects\\CollegeProjects\\YogaPartner\\intermediates\\v2\\vrikshasana_233.jpg\n"
     ]
    },
    {
     "name": "stderr",
     "output_type": "stream",
     "text": [
      "77it [00:18,  4.46it/s]"
     ]
    },
    {
     "name": "stdout",
     "output_type": "stream",
     "text": [
      "Saved to A:\\Projects\\CollegeProjects\\YogaPartner\\intermediates\\v2\\vrikshasana_149.jpg\n",
      "Saved to A:\\Projects\\CollegeProjects\\YogaPartner\\intermediates\\v2\\vrikshasana_299.jpg\n"
     ]
    },
    {
     "name": "stderr",
     "output_type": "stream",
     "text": [
      "\r",
      "78it [00:18,  4.01it/s]"
     ]
    },
    {
     "name": "stdout",
     "output_type": "stream",
     "text": [
      "Saved to A:\\Projects\\CollegeProjects\\YogaPartner\\intermediates\\v2\\vrikshasana_211.jpg\n"
     ]
    },
    {
     "name": "stderr",
     "output_type": "stream",
     "text": [
      "\r",
      "79it [00:18,  4.07it/s]"
     ]
    },
    {
     "name": "stdout",
     "output_type": "stream",
     "text": [
      "Saved to A:\\Projects\\CollegeProjects\\YogaPartner\\intermediates\\v2\\vrikshasana_127.jpg\n"
     ]
    },
    {
     "name": "stderr",
     "output_type": "stream",
     "text": [
      "81it [00:19,  3.55it/s]"
     ]
    },
    {
     "name": "stdout",
     "output_type": "stream",
     "text": [
      "Saved to A:\\Projects\\CollegeProjects\\YogaPartner\\intermediates\\v2\\vrikshasana_192.jpg\n",
      "Saved to A:\\Projects\\CollegeProjects\\YogaPartner\\intermediates\\v2\\vrikshasana_301.jpg\n"
     ]
    },
    {
     "name": "stderr",
     "output_type": "stream",
     "text": [
      "\r",
      "82it [00:19,  4.04it/s]"
     ]
    },
    {
     "name": "stdout",
     "output_type": "stream",
     "text": [
      "Saved to A:\\Projects\\CollegeProjects\\YogaPartner\\intermediates\\v2\\vrikshasana_228.jpg\n"
     ]
    },
    {
     "name": "stderr",
     "output_type": "stream",
     "text": [
      "84it [00:20,  4.60it/s]"
     ]
    },
    {
     "name": "stdout",
     "output_type": "stream",
     "text": [
      "Saved to A:\\Projects\\CollegeProjects\\YogaPartner\\intermediates\\v2\\vrikshasana_317.jpg\n",
      "Saved to A:\\Projects\\CollegeProjects\\YogaPartner\\intermediates\\v2\\vrikshasana_89.jpg\n"
     ]
    },
    {
     "name": "stderr",
     "output_type": "stream",
     "text": [
      "\r",
      "85it [00:20,  5.15it/s]"
     ]
    },
    {
     "name": "stdout",
     "output_type": "stream",
     "text": [
      "Saved to A:\\Projects\\CollegeProjects\\YogaPartner\\intermediates\\v2\\vrikshasana_77.jpg\n",
      "Saved to A:\\Projects\\CollegeProjects\\YogaPartner\\intermediates\\v2\\vrikshasana_179.jpg\n"
     ]
    },
    {
     "name": "stderr",
     "output_type": "stream",
     "text": [
      "\r",
      "87it [00:20,  5.78it/s]"
     ]
    },
    {
     "name": "stdout",
     "output_type": "stream",
     "text": [
      "Saved to A:\\Projects\\CollegeProjects\\YogaPartner\\intermediates\\v2\\vrikshasana_24.jpg\n",
      "Saved to A:\\Projects\\CollegeProjects\\YogaPartner\\intermediates\\v2\\vrikshasana_83.jpg\n"
     ]
    },
    {
     "name": "stderr",
     "output_type": "stream",
     "text": [
      "90it [00:21,  6.23it/s]"
     ]
    },
    {
     "name": "stdout",
     "output_type": "stream",
     "text": [
      "Saved to A:\\Projects\\CollegeProjects\\YogaPartner\\intermediates\\v2\\vrikshasana_176.jpg\n",
      "Saved to A:\\Projects\\CollegeProjects\\YogaPartner\\intermediates\\v2\\vrikshasana_9.jpg\n"
     ]
    },
    {
     "name": "stderr",
     "output_type": "stream",
     "text": [
      "92it [00:21,  6.21it/s]"
     ]
    },
    {
     "name": "stdout",
     "output_type": "stream",
     "text": [
      "Saved to A:\\Projects\\CollegeProjects\\YogaPartner\\intermediates\\v2\\vrikshasana_44.jpg\n",
      "Saved to A:\\Projects\\CollegeProjects\\YogaPartner\\intermediates\\v2\\vrikshasana_50.jpg\n"
     ]
    },
    {
     "name": "stderr",
     "output_type": "stream",
     "text": [
      "95it [00:21,  7.13it/s]"
     ]
    },
    {
     "name": "stdout",
     "output_type": "stream",
     "text": [
      "Saved to A:\\Projects\\CollegeProjects\\YogaPartner\\intermediates\\v2\\vrikshasana_312.jpg\n",
      "Saved to A:\\Projects\\CollegeProjects\\YogaPartner\\intermediates\\v2\\vrikshasana_266.jpg\n",
      "Saved to A:\\Projects\\CollegeProjects\\YogaPartner\\intermediates\\v2\\vrikshasana_129.jpg\n"
     ]
    },
    {
     "name": "stderr",
     "output_type": "stream",
     "text": [
      "\r",
      "96it [00:21,  7.47it/s]"
     ]
    },
    {
     "name": "stdout",
     "output_type": "stream",
     "text": [
      "Saved to A:\\Projects\\CollegeProjects\\YogaPartner\\intermediates\\v2\\vrikshasana_171.jpg\n",
      "Saved to A:\\Projects\\CollegeProjects\\YogaPartner\\intermediates\\v2\\vrikshasana_314.jpg\n"
     ]
    },
    {
     "name": "stderr",
     "output_type": "stream",
     "text": [
      "100it [00:22,  9.25it/s]"
     ]
    },
    {
     "name": "stdout",
     "output_type": "stream",
     "text": [
      "Saved to A:\\Projects\\CollegeProjects\\YogaPartner\\intermediates\\v2\\vrikshasana_231.jpg\n",
      "Saved to A:\\Projects\\CollegeProjects\\YogaPartner\\intermediates\\v2\\vrikshasana_144.jpg\n",
      "Saved to A:\\Projects\\CollegeProjects\\YogaPartner\\intermediates\\v2\\vrikshasana_38.jpg\n"
     ]
    },
    {
     "name": "stderr",
     "output_type": "stream",
     "text": [
      "\r",
      "102it [00:22,  8.40it/s]"
     ]
    },
    {
     "name": "stdout",
     "output_type": "stream",
     "text": [
      "Saved to A:\\Projects\\CollegeProjects\\YogaPartner\\intermediates\\v2\\vrikshasana_208.jpg\n",
      "Saved to A:\\Projects\\CollegeProjects\\YogaPartner\\intermediates\\v2\\vrikshasana_174.jpg\n"
     ]
    },
    {
     "name": "stderr",
     "output_type": "stream",
     "text": [
      "104it [00:22,  8.09it/s]"
     ]
    },
    {
     "name": "stdout",
     "output_type": "stream",
     "text": [
      "Saved to A:\\Projects\\CollegeProjects\\YogaPartner\\intermediates\\v2\\vrikshasana_234.jpg\n",
      "Saved to A:\\Projects\\CollegeProjects\\YogaPartner\\intermediates\\v2\\vrikshasana_7.jpg\n"
     ]
    },
    {
     "name": "stderr",
     "output_type": "stream",
     "text": [
      "\r",
      "105it [00:23,  7.81it/s]"
     ]
    },
    {
     "name": "stdout",
     "output_type": "stream",
     "text": [
      "Saved to A:\\Projects\\CollegeProjects\\YogaPartner\\intermediates\\v2\\vrikshasana_49.jpg\n"
     ]
    },
    {
     "name": "stderr",
     "output_type": "stream",
     "text": [
      "\r",
      "106it [00:23,  3.49it/s]"
     ]
    },
    {
     "name": "stdout",
     "output_type": "stream",
     "text": [
      "Saved to A:\\Projects\\CollegeProjects\\YogaPartner\\intermediates\\v2\\vrikshasana_196.jpg\n"
     ]
    },
    {
     "name": "stderr",
     "output_type": "stream",
     "text": [
      "108it [00:24,  3.98it/s]"
     ]
    },
    {
     "name": "stdout",
     "output_type": "stream",
     "text": [
      "Saved to A:\\Projects\\CollegeProjects\\YogaPartner\\intermediates\\v2\\vrikshasana_281.jpg\n",
      "Saved to A:\\Projects\\CollegeProjects\\YogaPartner\\intermediates\\v2\\vrikshasana_253.jpg\n"
     ]
    },
    {
     "name": "stderr",
     "output_type": "stream",
     "text": [
      "\r",
      "109it [00:24,  4.65it/s]"
     ]
    },
    {
     "name": "stdout",
     "output_type": "stream",
     "text": [
      "Saved to A:\\Projects\\CollegeProjects\\YogaPartner\\intermediates\\v2\\vrikshasana_230.jpg\n",
      "Saved to A:\\Projects\\CollegeProjects\\YogaPartner\\intermediates\\v2\\vrikshasana_198.jpg\n"
     ]
    },
    {
     "name": "stderr",
     "output_type": "stream",
     "text": [
      "\r",
      "111it [00:24,  6.02it/s]"
     ]
    },
    {
     "name": "stdout",
     "output_type": "stream",
     "text": [
      "Saved to A:\\Projects\\CollegeProjects\\YogaPartner\\intermediates\\v2\\vrikshasana_86.jpg\n",
      "Saved to A:\\Projects\\CollegeProjects\\YogaPartner\\intermediates\\v2\\vrikshasana_195.jpg\n"
     ]
    },
    {
     "name": "stderr",
     "output_type": "stream",
     "text": [
      "114it [00:24,  6.96it/s]"
     ]
    },
    {
     "name": "stdout",
     "output_type": "stream",
     "text": [
      "Saved to A:\\Projects\\CollegeProjects\\YogaPartner\\intermediates\\v2\\vrikshasana_65.jpg\n",
      "Saved to A:\\Projects\\CollegeProjects\\YogaPartner\\intermediates\\v2\\vrikshasana_207.jpg\n"
     ]
    },
    {
     "name": "stderr",
     "output_type": "stream",
     "text": [
      "\r",
      "116it [00:25,  7.85it/s]"
     ]
    },
    {
     "name": "stdout",
     "output_type": "stream",
     "text": [
      "Saved to A:\\Projects\\CollegeProjects\\YogaPartner\\intermediates\\v2\\vrikshasana_220.jpg\n",
      "Saved to A:\\Projects\\CollegeProjects\\YogaPartner\\intermediates\\v2\\vrikshasana_219.jpg\n"
     ]
    },
    {
     "name": "stderr",
     "output_type": "stream",
     "text": [
      "118it [00:25,  7.02it/s]"
     ]
    },
    {
     "name": "stdout",
     "output_type": "stream",
     "text": [
      "Saved to A:\\Projects\\CollegeProjects\\YogaPartner\\intermediates\\v2\\vrikshasana_161.jpg\n",
      "Saved to A:\\Projects\\CollegeProjects\\YogaPartner\\intermediates\\v2\\vrikshasana_135.jpg\n"
     ]
    },
    {
     "name": "stderr",
     "output_type": "stream",
     "text": [
      "121it [00:25,  8.71it/s]"
     ]
    },
    {
     "name": "stdout",
     "output_type": "stream",
     "text": [
      "Saved to A:\\Projects\\CollegeProjects\\YogaPartner\\intermediates\\v2\\vrikshasana_91.jpg\n",
      "Saved to A:\\Projects\\CollegeProjects\\YogaPartner\\intermediates\\v2\\vrikshasana_134.jpg\n",
      "Saved to A:\\Projects\\CollegeProjects\\YogaPartner\\intermediates\\v2\\vrikshasana_96.jpg\n"
     ]
    },
    {
     "name": "stderr",
     "output_type": "stream",
     "text": [
      "123it [00:26,  5.53it/s]"
     ]
    },
    {
     "name": "stdout",
     "output_type": "stream",
     "text": [
      "Saved to A:\\Projects\\CollegeProjects\\YogaPartner\\intermediates\\v2\\vrikshasana_114.jpg\n",
      "Saved to A:\\Projects\\CollegeProjects\\YogaPartner\\intermediates\\v2\\vrikshasana_178.jpg\n"
     ]
    },
    {
     "name": "stderr",
     "output_type": "stream",
     "text": [
      "125it [00:26,  5.88it/s]"
     ]
    },
    {
     "name": "stdout",
     "output_type": "stream",
     "text": [
      "Saved to A:\\Projects\\CollegeProjects\\YogaPartner\\intermediates\\v2\\vrikshasana_295.jpg\n",
      "Saved to A:\\Projects\\CollegeProjects\\YogaPartner\\intermediates\\v2\\vrikshasana_293.jpg\n"
     ]
    },
    {
     "name": "stderr",
     "output_type": "stream",
     "text": [
      "\r",
      "126it [00:26,  6.38it/s]"
     ]
    },
    {
     "name": "stdout",
     "output_type": "stream",
     "text": [
      "Saved to A:\\Projects\\CollegeProjects\\YogaPartner\\intermediates\\v2\\vrikshasana_95.jpg\n",
      "Saved to A:\\Projects\\CollegeProjects\\YogaPartner\\intermediates\\v2\\vrikshasana_88.jpg\n"
     ]
    },
    {
     "name": "stderr",
     "output_type": "stream",
     "text": [
      "130it [00:27,  8.26it/s]"
     ]
    },
    {
     "name": "stdout",
     "output_type": "stream",
     "text": [
      "Saved to A:\\Projects\\CollegeProjects\\YogaPartner\\intermediates\\v2\\vrikshasana_108.jpg\n",
      "Saved to A:\\Projects\\CollegeProjects\\YogaPartner\\intermediates\\v2\\vrikshasana_121.jpg\n",
      "Saved to A:\\Projects\\CollegeProjects\\YogaPartner\\intermediates\\v2\\vrikshasana_313.jpg\n",
      "Saved to A:\\Projects\\CollegeProjects\\YogaPartner\\intermediates\\v2\\vrikshasana_302.jpg\n"
     ]
    },
    {
     "name": "stderr",
     "output_type": "stream",
     "text": [
      "133it [00:27,  7.13it/s]"
     ]
    },
    {
     "name": "stdout",
     "output_type": "stream",
     "text": [
      "Saved to A:\\Projects\\CollegeProjects\\YogaPartner\\intermediates\\v2\\vrikshasana_289.jpg\n",
      "Saved to A:\\Projects\\CollegeProjects\\YogaPartner\\intermediates\\v2\\vrikshasana_250.jpg\n"
     ]
    },
    {
     "name": "stderr",
     "output_type": "stream",
     "text": [
      "135it [00:29,  2.76it/s]"
     ]
    },
    {
     "name": "stdout",
     "output_type": "stream",
     "text": [
      "Saved to A:\\Projects\\CollegeProjects\\YogaPartner\\intermediates\\v2\\vrikshasana_61.jpg\n",
      "Saved to A:\\Projects\\CollegeProjects\\YogaPartner\\intermediates\\v2\\vrikshasana_63.jpg\n"
     ]
    },
    {
     "name": "stderr",
     "output_type": "stream",
     "text": [
      "\r",
      "136it [00:29,  3.33it/s]"
     ]
    },
    {
     "name": "stdout",
     "output_type": "stream",
     "text": [
      "Saved to A:\\Projects\\CollegeProjects\\YogaPartner\\intermediates\\v2\\vrikshasana_272.jpg\n"
     ]
    },
    {
     "name": "stderr",
     "output_type": "stream",
     "text": [
      "138it [00:29,  4.13it/s]"
     ]
    },
    {
     "name": "stdout",
     "output_type": "stream",
     "text": [
      "Saved to A:\\Projects\\CollegeProjects\\YogaPartner\\intermediates\\v2\\vrikshasana_60.jpg\n",
      "Saved to A:\\Projects\\CollegeProjects\\YogaPartner\\intermediates\\v2\\vrikshasana_182.jpg\n"
     ]
    },
    {
     "name": "stderr",
     "output_type": "stream",
     "text": [
      "140it [00:30,  4.84it/s]"
     ]
    },
    {
     "name": "stdout",
     "output_type": "stream",
     "text": [
      "Saved to A:\\Projects\\CollegeProjects\\YogaPartner\\intermediates\\v2\\vrikshasana_56.jpg\n",
      "Saved to A:\\Projects\\CollegeProjects\\YogaPartner\\intermediates\\v2\\vrikshasana_79.jpg\n"
     ]
    },
    {
     "name": "stderr",
     "output_type": "stream",
     "text": [
      "142it [00:30,  6.20it/s]"
     ]
    },
    {
     "name": "stdout",
     "output_type": "stream",
     "text": [
      "Saved to A:\\Projects\\CollegeProjects\\YogaPartner\\intermediates\\v2\\vrikshasana_141.jpg\n",
      "Saved to A:\\Projects\\CollegeProjects\\YogaPartner\\intermediates\\v2\\vrikshasana_187.jpg\n"
     ]
    },
    {
     "name": "stderr",
     "output_type": "stream",
     "text": [
      "144it [00:30,  7.27it/s]"
     ]
    },
    {
     "name": "stdout",
     "output_type": "stream",
     "text": [
      "Saved to A:\\Projects\\CollegeProjects\\YogaPartner\\intermediates\\v2\\vrikshasana_217.jpg\n",
      "Saved to A:\\Projects\\CollegeProjects\\YogaPartner\\intermediates\\v2\\vrikshasana_151.jpg\n"
     ]
    },
    {
     "name": "stderr",
     "output_type": "stream",
     "text": [
      "146it [00:30,  7.92it/s]"
     ]
    },
    {
     "name": "stdout",
     "output_type": "stream",
     "text": [
      "Saved to A:\\Projects\\CollegeProjects\\YogaPartner\\intermediates\\v2\\vrikshasana_109.jpg\n",
      "Saved to A:\\Projects\\CollegeProjects\\YogaPartner\\intermediates\\v2\\vrikshasana_125.jpg\n"
     ]
    },
    {
     "name": "stderr",
     "output_type": "stream",
     "text": [
      "148it [00:31,  4.45it/s]"
     ]
    },
    {
     "name": "stdout",
     "output_type": "stream",
     "text": [
      "Saved to A:\\Projects\\CollegeProjects\\YogaPartner\\intermediates\\v2\\vrikshasana_177.jpg\n",
      "Saved to A:\\Projects\\CollegeProjects\\YogaPartner\\intermediates\\v2\\vrikshasana_159.jpg\n"
     ]
    },
    {
     "name": "stderr",
     "output_type": "stream",
     "text": [
      "150it [00:31,  5.79it/s]"
     ]
    },
    {
     "name": "stdout",
     "output_type": "stream",
     "text": [
      "Saved to A:\\Projects\\CollegeProjects\\YogaPartner\\intermediates\\v2\\vrikshasana_155.jpg\n",
      "Saved to A:\\Projects\\CollegeProjects\\YogaPartner\\intermediates\\v2\\vrikshasana_206.jpg\n"
     ]
    },
    {
     "name": "stderr",
     "output_type": "stream",
     "text": [
      "152it [00:32,  6.25it/s]"
     ]
    },
    {
     "name": "stdout",
     "output_type": "stream",
     "text": [
      "Saved to A:\\Projects\\CollegeProjects\\YogaPartner\\intermediates\\v2\\vrikshasana_277.jpg\n",
      "Saved to A:\\Projects\\CollegeProjects\\YogaPartner\\intermediates\\v2\\vrikshasana_97.jpg\n"
     ]
    },
    {
     "name": "stderr",
     "output_type": "stream",
     "text": [
      "154it [00:32,  7.18it/s]"
     ]
    },
    {
     "name": "stdout",
     "output_type": "stream",
     "text": [
      "Saved to A:\\Projects\\CollegeProjects\\YogaPartner\\intermediates\\v2\\vrikshasana_137.jpg\n",
      "Saved to A:\\Projects\\CollegeProjects\\YogaPartner\\intermediates\\v2\\vrikshasana_69.jpg\n"
     ]
    },
    {
     "name": "stderr",
     "output_type": "stream",
     "text": [
      "156it [00:32,  7.30it/s]"
     ]
    },
    {
     "name": "stdout",
     "output_type": "stream",
     "text": [
      "Saved to A:\\Projects\\CollegeProjects\\YogaPartner\\intermediates\\v2\\vrikshasana_113.jpg\n",
      "Saved to A:\\Projects\\CollegeProjects\\YogaPartner\\intermediates\\v2\\vrikshasana_23.jpg\n"
     ]
    },
    {
     "name": "stderr",
     "output_type": "stream",
     "text": [
      "158it [00:32,  7.82it/s]"
     ]
    },
    {
     "name": "stdout",
     "output_type": "stream",
     "text": [
      "Saved to A:\\Projects\\CollegeProjects\\YogaPartner\\intermediates\\v2\\vrikshasana_310.jpg\n",
      "Saved to A:\\Projects\\CollegeProjects\\YogaPartner\\intermediates\\v2\\vrikshasana_167.jpg\n"
     ]
    },
    {
     "name": "stderr",
     "output_type": "stream",
     "text": [
      "160it [00:33,  7.92it/s]"
     ]
    },
    {
     "name": "stdout",
     "output_type": "stream",
     "text": [
      "Saved to A:\\Projects\\CollegeProjects\\YogaPartner\\intermediates\\v2\\vrikshasana_119.jpg\n",
      "Saved to A:\\Projects\\CollegeProjects\\YogaPartner\\intermediates\\v2\\vrikshasana_232.jpg\n"
     ]
    },
    {
     "name": "stderr",
     "output_type": "stream",
     "text": [
      "162it [00:33,  5.37it/s]"
     ]
    },
    {
     "name": "stdout",
     "output_type": "stream",
     "text": [
      "Saved to A:\\Projects\\CollegeProjects\\YogaPartner\\intermediates\\v2\\vrikshasana_252.jpg\n",
      "Saved to A:\\Projects\\CollegeProjects\\YogaPartner\\intermediates\\v2\\vrikshasana_35.jpg\n"
     ]
    },
    {
     "name": "stderr",
     "output_type": "stream",
     "text": [
      "\r",
      "163it [00:33,  5.96it/s]"
     ]
    },
    {
     "name": "stdout",
     "output_type": "stream",
     "text": [
      "Saved to A:\\Projects\\CollegeProjects\\YogaPartner\\intermediates\\v2\\vrikshasana_286.jpg\n"
     ]
    },
    {
     "name": "stderr",
     "output_type": "stream",
     "text": [
      "\r",
      "164it [00:34,  4.26it/s]"
     ]
    },
    {
     "name": "stdout",
     "output_type": "stream",
     "text": [
      "Saved to A:\\Projects\\CollegeProjects\\YogaPartner\\intermediates\\v2\\vrikshasana_101.jpg\n",
      "Saved to A:\\Projects\\CollegeProjects\\YogaPartner\\intermediates\\v2\\vrikshasana_123.jpg\n"
     ]
    },
    {
     "name": "stderr",
     "output_type": "stream",
     "text": [
      "167it [00:34,  6.04it/s]"
     ]
    },
    {
     "name": "stdout",
     "output_type": "stream",
     "text": [
      "Saved to A:\\Projects\\CollegeProjects\\YogaPartner\\intermediates\\v2\\vrikshasana_260.jpg\n",
      "Saved to A:\\Projects\\CollegeProjects\\YogaPartner\\intermediates\\v2\\vrikshasana_22.jpg\n"
     ]
    },
    {
     "name": "stderr",
     "output_type": "stream",
     "text": [
      "\r",
      "168it [00:34,  6.53it/s]"
     ]
    },
    {
     "name": "stdout",
     "output_type": "stream",
     "text": [
      "Saved to A:\\Projects\\CollegeProjects\\YogaPartner\\intermediates\\v2\\vrikshasana_270.jpg\n"
     ]
    },
    {
     "name": "stderr",
     "output_type": "stream",
     "text": [
      "\r",
      "169it [00:35,  3.12it/s]"
     ]
    },
    {
     "name": "stdout",
     "output_type": "stream",
     "text": [
      "Saved to A:\\Projects\\CollegeProjects\\YogaPartner\\intermediates\\v2\\vrikshasana_8.jpg\n"
     ]
    },
    {
     "name": "stderr",
     "output_type": "stream",
     "text": [
      "171it [00:36,  2.73it/s]"
     ]
    },
    {
     "name": "stdout",
     "output_type": "stream",
     "text": [
      "Saved to A:\\Projects\\CollegeProjects\\YogaPartner\\intermediates\\v2\\vrikshasana_47.jpg\n",
      "Saved to A:\\Projects\\CollegeProjects\\YogaPartner\\intermediates\\v2\\vrikshasana_147.jpg\n"
     ]
    },
    {
     "name": "stderr",
     "output_type": "stream",
     "text": [
      "\r",
      "172it [00:36,  3.36it/s]"
     ]
    },
    {
     "name": "stdout",
     "output_type": "stream",
     "text": [
      "Saved to A:\\Projects\\CollegeProjects\\YogaPartner\\intermediates\\v2\\vrikshasana_285.jpg\n",
      "Saved to A:\\Projects\\CollegeProjects\\YogaPartner\\intermediates\\v2\\vrikshasana_94.jpg\n"
     ]
    },
    {
     "name": "stderr",
     "output_type": "stream",
     "text": [
      "175it [00:36,  4.52it/s]"
     ]
    },
    {
     "name": "stdout",
     "output_type": "stream",
     "text": [
      "Saved to A:\\Projects\\CollegeProjects\\YogaPartner\\intermediates\\v2\\vrikshasana_81.jpg\n",
      "Saved to A:\\Projects\\CollegeProjects\\YogaPartner\\intermediates\\v2\\vrikshasana_112.jpg\n"
     ]
    },
    {
     "name": "stderr",
     "output_type": "stream",
     "text": [
      "\r",
      "176it [00:37,  5.09it/s]"
     ]
    },
    {
     "name": "stdout",
     "output_type": "stream",
     "text": [
      "Saved to A:\\Projects\\CollegeProjects\\YogaPartner\\intermediates\\v2\\vrikshasana_241.jpg\n"
     ]
    },
    {
     "name": "stderr",
     "output_type": "stream",
     "text": [
      "178it [00:38,  3.27it/s]"
     ]
    },
    {
     "name": "stdout",
     "output_type": "stream",
     "text": [
      "Saved to A:\\Projects\\CollegeProjects\\YogaPartner\\intermediates\\v2\\vrikshasana_140.jpg\n",
      "Saved to A:\\Projects\\CollegeProjects\\YogaPartner\\intermediates\\v2\\vrikshasana_237.jpg\n"
     ]
    },
    {
     "name": "stderr",
     "output_type": "stream",
     "text": [
      "180it [00:38,  4.39it/s]"
     ]
    },
    {
     "name": "stdout",
     "output_type": "stream",
     "text": [
      "Saved to A:\\Projects\\CollegeProjects\\YogaPartner\\intermediates\\v2\\vrikshasana_202.jpg\n",
      "Saved to A:\\Projects\\CollegeProjects\\YogaPartner\\intermediates\\v2\\vrikshasana_66.jpg\n"
     ]
    },
    {
     "name": "stderr",
     "output_type": "stream",
     "text": [
      "182it [00:38,  4.96it/s]"
     ]
    },
    {
     "name": "stdout",
     "output_type": "stream",
     "text": [
      "Saved to A:\\Projects\\CollegeProjects\\YogaPartner\\intermediates\\v2\\vrikshasana_321.jpg\n",
      "Saved to A:\\Projects\\CollegeProjects\\YogaPartner\\intermediates\\v2\\vrikshasana_51.jpg\n"
     ]
    },
    {
     "name": "stderr",
     "output_type": "stream",
     "text": [
      "184it [00:38,  6.34it/s]"
     ]
    },
    {
     "name": "stdout",
     "output_type": "stream",
     "text": [
      "Saved to A:\\Projects\\CollegeProjects\\YogaPartner\\intermediates\\v2\\vrikshasana_62.jpg\n",
      "Saved to A:\\Projects\\CollegeProjects\\YogaPartner\\intermediates\\v2\\vrikshasana_215.jpg\n"
     ]
    },
    {
     "name": "stderr",
     "output_type": "stream",
     "text": [
      "\r",
      "186it [00:39,  7.11it/s]"
     ]
    },
    {
     "name": "stdout",
     "output_type": "stream",
     "text": [
      "Saved to A:\\Projects\\CollegeProjects\\YogaPartner\\intermediates\\v2\\vrikshasana_227.jpg\n",
      "Saved to A:\\Projects\\CollegeProjects\\YogaPartner\\intermediates\\v2\\vrikshasana_221.jpg\n"
     ]
    },
    {
     "name": "stderr",
     "output_type": "stream",
     "text": [
      "188it [00:39,  7.43it/s]"
     ]
    },
    {
     "name": "stdout",
     "output_type": "stream",
     "text": [
      "Saved to A:\\Projects\\CollegeProjects\\YogaPartner\\intermediates\\v2\\vrikshasana_78.jpg\n",
      "Saved to A:\\Projects\\CollegeProjects\\YogaPartner\\intermediates\\v2\\vrikshasana_162.jpg\n"
     ]
    },
    {
     "name": "stderr",
     "output_type": "stream",
     "text": [
      "190it [00:39,  7.05it/s]"
     ]
    },
    {
     "name": "stdout",
     "output_type": "stream",
     "text": [
      "Saved to A:\\Projects\\CollegeProjects\\YogaPartner\\intermediates\\v2\\vrikshasana_41.jpg\n",
      "Saved to A:\\Projects\\CollegeProjects\\YogaPartner\\intermediates\\v2\\vrikshasana_13.jpg\n"
     ]
    },
    {
     "name": "stderr",
     "output_type": "stream",
     "text": [
      "192it [00:39,  6.73it/s]"
     ]
    },
    {
     "name": "stdout",
     "output_type": "stream",
     "text": [
      "Saved to A:\\Projects\\CollegeProjects\\YogaPartner\\intermediates\\v2\\vrikshasana_213.jpg\n",
      "Saved to A:\\Projects\\CollegeProjects\\YogaPartner\\intermediates\\v2\\vrikshasana_84.jpg\n"
     ]
    },
    {
     "name": "stderr",
     "output_type": "stream",
     "text": [
      "194it [00:40,  5.83it/s]"
     ]
    },
    {
     "name": "stdout",
     "output_type": "stream",
     "text": [
      "Saved to A:\\Projects\\CollegeProjects\\YogaPartner\\intermediates\\v2\\vrikshasana_48.jpg\n",
      "Saved to A:\\Projects\\CollegeProjects\\YogaPartner\\intermediates\\v2\\vrikshasana_298.jpg\n"
     ]
    },
    {
     "name": "stderr",
     "output_type": "stream",
     "text": [
      "196it [00:40,  6.09it/s]"
     ]
    },
    {
     "name": "stdout",
     "output_type": "stream",
     "text": [
      "Saved to A:\\Projects\\CollegeProjects\\YogaPartner\\intermediates\\v2\\vrikshasana_67.jpg\n",
      "Saved to A:\\Projects\\CollegeProjects\\YogaPartner\\intermediates\\v2\\vrikshasana_54.jpg\n"
     ]
    },
    {
     "name": "stderr",
     "output_type": "stream",
     "text": [
      "\r",
      "197it [00:41,  3.85it/s]"
     ]
    },
    {
     "name": "stdout",
     "output_type": "stream",
     "text": [
      "Saved to A:\\Projects\\CollegeProjects\\YogaPartner\\intermediates\\v2\\vrikshasana_1.jpg\n"
     ]
    },
    {
     "name": "stderr",
     "output_type": "stream",
     "text": [
      "199it [00:41,  4.11it/s]"
     ]
    },
    {
     "name": "stdout",
     "output_type": "stream",
     "text": [
      "Saved to A:\\Projects\\CollegeProjects\\YogaPartner\\intermediates\\v2\\vrikshasana_15.jpg\n",
      "Saved to A:\\Projects\\CollegeProjects\\YogaPartner\\intermediates\\v2\\vrikshasana_163.jpg\n"
     ]
    },
    {
     "name": "stderr",
     "output_type": "stream",
     "text": [
      "202it [00:42,  6.34it/s]"
     ]
    },
    {
     "name": "stdout",
     "output_type": "stream",
     "text": [
      "Saved to A:\\Projects\\CollegeProjects\\YogaPartner\\intermediates\\v2\\vrikshasana_106.jpg\n",
      "Saved to A:\\Projects\\CollegeProjects\\YogaPartner\\intermediates\\v2\\vrikshasana_318.jpg\n",
      "Saved to A:\\Projects\\CollegeProjects\\YogaPartner\\intermediates\\v2\\vrikshasana_102.jpg\n"
     ]
    },
    {
     "name": "stderr",
     "output_type": "stream",
     "text": [
      "204it [00:42,  6.10it/s]"
     ]
    },
    {
     "name": "stdout",
     "output_type": "stream",
     "text": [
      "Saved to A:\\Projects\\CollegeProjects\\YogaPartner\\intermediates\\v2\\vrikshasana_20.jpg\n",
      "Saved to A:\\Projects\\CollegeProjects\\YogaPartner\\intermediates\\v2\\vrikshasana_90.jpg\n"
     ]
    },
    {
     "name": "stderr",
     "output_type": "stream",
     "text": [
      "206it [00:42,  6.72it/s]"
     ]
    },
    {
     "name": "stdout",
     "output_type": "stream",
     "text": [
      "Saved to A:\\Projects\\CollegeProjects\\YogaPartner\\intermediates\\v2\\vrikshasana_257.jpg\n",
      "Saved to A:\\Projects\\CollegeProjects\\YogaPartner\\intermediates\\v2\\vrikshasana_168.jpg\n"
     ]
    },
    {
     "name": "stderr",
     "output_type": "stream",
     "text": [
      "208it [00:42,  6.73it/s]"
     ]
    },
    {
     "name": "stdout",
     "output_type": "stream",
     "text": [
      "Saved to A:\\Projects\\CollegeProjects\\YogaPartner\\intermediates\\v2\\vrikshasana_10.jpg\n",
      "Saved to A:\\Projects\\CollegeProjects\\YogaPartner\\intermediates\\v2\\vrikshasana_148.jpg\n"
     ]
    },
    {
     "name": "stderr",
     "output_type": "stream",
     "text": [
      "210it [00:43,  6.12it/s]"
     ]
    },
    {
     "name": "stdout",
     "output_type": "stream",
     "text": [
      "Saved to A:\\Projects\\CollegeProjects\\YogaPartner\\intermediates\\v2\\vrikshasana_255.jpg\n",
      "Saved to A:\\Projects\\CollegeProjects\\YogaPartner\\intermediates\\v2\\vrikshasana_188.jpg\n"
     ]
    },
    {
     "name": "stderr",
     "output_type": "stream",
     "text": [
      "212it [00:44,  3.54it/s]"
     ]
    },
    {
     "name": "stdout",
     "output_type": "stream",
     "text": [
      "Saved to A:\\Projects\\CollegeProjects\\YogaPartner\\intermediates\\v2\\vrikshasana_115.jpg\n",
      "Saved to A:\\Projects\\CollegeProjects\\YogaPartner\\intermediates\\v2\\vrikshasana_214.jpg\n"
     ]
    },
    {
     "name": "stderr",
     "output_type": "stream",
     "text": [
      "214it [00:44,  4.45it/s]"
     ]
    },
    {
     "name": "stdout",
     "output_type": "stream",
     "text": [
      "Saved to A:\\Projects\\CollegeProjects\\YogaPartner\\intermediates\\v2\\vrikshasana_246.jpg\n",
      "Saved to A:\\Projects\\CollegeProjects\\YogaPartner\\intermediates\\v2\\vrikshasana_235.jpg\n"
     ]
    },
    {
     "name": "stderr",
     "output_type": "stream",
     "text": [
      "216it [00:44,  5.78it/s]"
     ]
    },
    {
     "name": "stdout",
     "output_type": "stream",
     "text": [
      "Saved to A:\\Projects\\CollegeProjects\\YogaPartner\\intermediates\\v2\\vrikshasana_30.jpg\n",
      "Saved to A:\\Projects\\CollegeProjects\\YogaPartner\\intermediates\\v2\\vrikshasana_70.jpg\n"
     ]
    },
    {
     "name": "stderr",
     "output_type": "stream",
     "text": [
      "219it [00:45,  7.65it/s]"
     ]
    },
    {
     "name": "stdout",
     "output_type": "stream",
     "text": [
      "Saved to A:\\Projects\\CollegeProjects\\YogaPartner\\intermediates\\v2\\vrikshasana_117.jpg\n",
      "Saved to A:\\Projects\\CollegeProjects\\YogaPartner\\intermediates\\v2\\vrikshasana_222.jpg\n",
      "Saved to A:\\Projects\\CollegeProjects\\YogaPartner\\intermediates\\v2\\vrikshasana_58.jpg\n"
     ]
    },
    {
     "name": "stderr",
     "output_type": "stream",
     "text": [
      "221it [00:45,  7.80it/s]"
     ]
    },
    {
     "name": "stdout",
     "output_type": "stream",
     "text": [
      "Saved to A:\\Projects\\CollegeProjects\\YogaPartner\\intermediates\\v2\\vrikshasana_224.jpg\n",
      "Saved to A:\\Projects\\CollegeProjects\\YogaPartner\\intermediates\\v2\\vrikshasana_172.jpg\n"
     ]
    },
    {
     "name": "stderr",
     "output_type": "stream",
     "text": [
      "223it [00:45,  7.21it/s]"
     ]
    },
    {
     "name": "stdout",
     "output_type": "stream",
     "text": [
      "Saved to A:\\Projects\\CollegeProjects\\YogaPartner\\intermediates\\v2\\vrikshasana_139.jpg\n",
      "Saved to A:\\Projects\\CollegeProjects\\YogaPartner\\intermediates\\v2\\vrikshasana_133.jpg\n"
     ]
    },
    {
     "name": "stderr",
     "output_type": "stream",
     "text": [
      "\r",
      "224it [00:46,  3.41it/s]"
     ]
    },
    {
     "name": "stdout",
     "output_type": "stream",
     "text": [
      "Saved to A:\\Projects\\CollegeProjects\\YogaPartner\\intermediates\\v2\\vrikshasana_259.jpg\n"
     ]
    },
    {
     "name": "stderr",
     "output_type": "stream",
     "text": [
      "226it [00:46,  4.28it/s]"
     ]
    },
    {
     "name": "stdout",
     "output_type": "stream",
     "text": [
      "Saved to A:\\Projects\\CollegeProjects\\YogaPartner\\intermediates\\v2\\vrikshasana_116.jpg\n",
      "Saved to A:\\Projects\\CollegeProjects\\YogaPartner\\intermediates\\v2\\vrikshasana_107.jpg\n"
     ]
    },
    {
     "name": "stderr",
     "output_type": "stream",
     "text": [
      "\r",
      "227it [00:46,  4.44it/s]"
     ]
    },
    {
     "name": "stdout",
     "output_type": "stream",
     "text": [
      "Saved to A:\\Projects\\CollegeProjects\\YogaPartner\\intermediates\\v2\\vrikshasana_34.jpg\n"
     ]
    },
    {
     "name": "stderr",
     "output_type": "stream",
     "text": [
      "\r",
      "228it [00:47,  3.88it/s]"
     ]
    },
    {
     "name": "stdout",
     "output_type": "stream",
     "text": [
      "Saved to A:\\Projects\\CollegeProjects\\YogaPartner\\intermediates\\v2\\vrikshasana_271.jpg\n"
     ]
    },
    {
     "name": "stderr",
     "output_type": "stream",
     "text": [
      "230it [00:47,  3.64it/s]"
     ]
    },
    {
     "name": "stdout",
     "output_type": "stream",
     "text": [
      "Saved to A:\\Projects\\CollegeProjects\\YogaPartner\\intermediates\\v2\\vrikshasana_267.jpg\n",
      "Saved to A:\\Projects\\CollegeProjects\\YogaPartner\\intermediates\\v2\\vrikshasana_124.jpg\n"
     ]
    },
    {
     "name": "stderr",
     "output_type": "stream",
     "text": [
      "232it [00:48,  4.71it/s]"
     ]
    },
    {
     "name": "stdout",
     "output_type": "stream",
     "text": [
      "Saved to A:\\Projects\\CollegeProjects\\YogaPartner\\intermediates\\v2\\vrikshasana_55.jpg\n",
      "Saved to A:\\Projects\\CollegeProjects\\YogaPartner\\intermediates\\v2\\vrikshasana_14.jpg\n"
     ]
    },
    {
     "name": "stderr",
     "output_type": "stream",
     "text": [
      "\r",
      "233it [00:48,  5.40it/s]"
     ]
    },
    {
     "name": "stdout",
     "output_type": "stream",
     "text": [
      "Saved to A:\\Projects\\CollegeProjects\\YogaPartner\\intermediates\\v2\\vrikshasana_261.jpg\n"
     ]
    },
    {
     "name": "stderr",
     "output_type": "stream",
     "text": [
      "\r",
      "234it [00:49,  1.77it/s]"
     ]
    },
    {
     "name": "stdout",
     "output_type": "stream",
     "text": [
      "Saved to A:\\Projects\\CollegeProjects\\YogaPartner\\intermediates\\v2\\vrikshasana_251.jpg\n"
     ]
    },
    {
     "name": "stderr",
     "output_type": "stream",
     "text": [
      "236it [00:50,  2.54it/s]"
     ]
    },
    {
     "name": "stdout",
     "output_type": "stream",
     "text": [
      "Saved to A:\\Projects\\CollegeProjects\\YogaPartner\\intermediates\\v2\\vrikshasana_53.jpg\n",
      "Saved to A:\\Projects\\CollegeProjects\\YogaPartner\\intermediates\\v2\\vrikshasana_46.jpg\n"
     ]
    },
    {
     "name": "stderr",
     "output_type": "stream",
     "text": [
      "238it [00:50,  3.55it/s]"
     ]
    },
    {
     "name": "stdout",
     "output_type": "stream",
     "text": [
      "Saved to A:\\Projects\\CollegeProjects\\YogaPartner\\intermediates\\v2\\vrikshasana_268.jpg\n",
      "Saved to A:\\Projects\\CollegeProjects\\YogaPartner\\intermediates\\v2\\vrikshasana_21.jpg\n"
     ]
    },
    {
     "name": "stderr",
     "output_type": "stream",
     "text": [
      "240it [00:52,  1.97it/s]"
     ]
    },
    {
     "name": "stdout",
     "output_type": "stream",
     "text": [
      "Saved to A:\\Projects\\CollegeProjects\\YogaPartner\\intermediates\\v2\\vrikshasana_248.jpg\n",
      "Saved to A:\\Projects\\CollegeProjects\\YogaPartner\\intermediates\\v2\\vrikshasana_4.jpg\n"
     ]
    },
    {
     "name": "stderr",
     "output_type": "stream",
     "text": [
      "242it [00:52,  3.13it/s]"
     ]
    },
    {
     "name": "stdout",
     "output_type": "stream",
     "text": [
      "Saved to A:\\Projects\\CollegeProjects\\YogaPartner\\intermediates\\v2\\vrikshasana_143.jpg\n",
      "Saved to A:\\Projects\\CollegeProjects\\YogaPartner\\intermediates\\v2\\vrikshasana_242.jpg\n"
     ]
    },
    {
     "name": "stderr",
     "output_type": "stream",
     "text": [
      "244it [00:52,  4.27it/s]"
     ]
    },
    {
     "name": "stdout",
     "output_type": "stream",
     "text": [
      "Saved to A:\\Projects\\CollegeProjects\\YogaPartner\\intermediates\\v2\\vrikshasana_32.jpg\n",
      "Saved to A:\\Projects\\CollegeProjects\\YogaPartner\\intermediates\\v2\\vrikshasana_111.jpg\n"
     ]
    },
    {
     "name": "stderr",
     "output_type": "stream",
     "text": [
      "\r",
      "245it [00:53,  4.82it/s]"
     ]
    },
    {
     "name": "stdout",
     "output_type": "stream",
     "text": [
      "Saved to A:\\Projects\\CollegeProjects\\YogaPartner\\intermediates\\v2\\vrikshasana_157.jpg\n",
      "Saved to A:\\Projects\\CollegeProjects\\YogaPartner\\intermediates\\v2\\vrikshasana_40.jpg\n"
     ]
    },
    {
     "name": "stderr",
     "output_type": "stream",
     "text": [
      "248it [00:53,  4.71it/s]"
     ]
    },
    {
     "name": "stdout",
     "output_type": "stream",
     "text": [
      "Saved to A:\\Projects\\CollegeProjects\\YogaPartner\\intermediates\\v2\\vrikshasana_256.jpg\n",
      "Saved to A:\\Projects\\CollegeProjects\\YogaPartner\\intermediates\\v2\\vrikshasana_85.jpg\n"
     ]
    },
    {
     "name": "stderr",
     "output_type": "stream",
     "text": [
      "251it [00:54,  5.97it/s]"
     ]
    },
    {
     "name": "stdout",
     "output_type": "stream",
     "text": [
      "Saved to A:\\Projects\\CollegeProjects\\YogaPartner\\intermediates\\v2\\vrikshasana_154.jpg\n",
      "Saved to A:\\Projects\\CollegeProjects\\YogaPartner\\intermediates\\v2\\vrikshasana_296.jpg\n",
      "Saved to A:\\Projects\\CollegeProjects\\YogaPartner\\intermediates\\v2\\vasisthasana_63.jpg\n"
     ]
    },
    {
     "name": "stderr",
     "output_type": "stream",
     "text": [
      "\r",
      "253it [00:54,  6.57it/s]"
     ]
    },
    {
     "name": "stdout",
     "output_type": "stream",
     "text": [
      "Saved to A:\\Projects\\CollegeProjects\\YogaPartner\\intermediates\\v2\\vasisthasana_117.jpg\n",
      "Saved to A:\\Projects\\CollegeProjects\\YogaPartner\\intermediates\\v2\\vasisthasana_104.jpg\n"
     ]
    },
    {
     "name": "stderr",
     "output_type": "stream",
     "text": [
      "256it [00:54,  8.41it/s]"
     ]
    },
    {
     "name": "stdout",
     "output_type": "stream",
     "text": [
      "Saved to A:\\Projects\\CollegeProjects\\YogaPartner\\intermediates\\v2\\vasisthasana_45.jpg\n",
      "Saved to A:\\Projects\\CollegeProjects\\YogaPartner\\intermediates\\v2\\vasisthasana_20.jpg\n",
      "Saved to A:\\Projects\\CollegeProjects\\YogaPartner\\intermediates\\v2\\vasisthasana_30.jpg\n"
     ]
    },
    {
     "name": "stderr",
     "output_type": "stream",
     "text": [
      "258it [00:55,  4.64it/s]"
     ]
    },
    {
     "name": "stdout",
     "output_type": "stream",
     "text": [
      "Saved to A:\\Projects\\CollegeProjects\\YogaPartner\\intermediates\\v2\\vasisthasana_2.jpg\n",
      "Saved to A:\\Projects\\CollegeProjects\\YogaPartner\\intermediates\\v2\\vasisthasana_62.jpg\n"
     ]
    },
    {
     "name": "stderr",
     "output_type": "stream",
     "text": [
      "260it [00:55,  5.79it/s]"
     ]
    },
    {
     "name": "stdout",
     "output_type": "stream",
     "text": [
      "Saved to A:\\Projects\\CollegeProjects\\YogaPartner\\intermediates\\v2\\vasisthasana_133.jpg\n",
      "Saved to A:\\Projects\\CollegeProjects\\YogaPartner\\intermediates\\v2\\vasisthasana_46.jpg\n"
     ]
    },
    {
     "name": "stderr",
     "output_type": "stream",
     "text": [
      "262it [00:55,  6.39it/s]"
     ]
    },
    {
     "name": "stdout",
     "output_type": "stream",
     "text": [
      "Saved to A:\\Projects\\CollegeProjects\\YogaPartner\\intermediates\\v2\\vasisthasana_111.jpg\n",
      "Saved to A:\\Projects\\CollegeProjects\\YogaPartner\\intermediates\\v2\\vasisthasana_99.jpg\n"
     ]
    },
    {
     "name": "stderr",
     "output_type": "stream",
     "text": [
      "264it [00:56,  7.23it/s]"
     ]
    },
    {
     "name": "stdout",
     "output_type": "stream",
     "text": [
      "Saved to A:\\Projects\\CollegeProjects\\YogaPartner\\intermediates\\v2\\vasisthasana_10.jpg\n",
      "Saved to A:\\Projects\\CollegeProjects\\YogaPartner\\intermediates\\v2\\vasisthasana_121.jpg\n"
     ]
    },
    {
     "name": "stderr",
     "output_type": "stream",
     "text": [
      "266it [00:56,  6.89it/s]"
     ]
    },
    {
     "name": "stdout",
     "output_type": "stream",
     "text": [
      "Saved to A:\\Projects\\CollegeProjects\\YogaPartner\\intermediates\\v2\\vasisthasana_138.jpg\n",
      "Saved to A:\\Projects\\CollegeProjects\\YogaPartner\\intermediates\\v2\\vasisthasana_18.jpg\n"
     ]
    },
    {
     "name": "stderr",
     "output_type": "stream",
     "text": [
      "268it [00:56,  7.33it/s]"
     ]
    },
    {
     "name": "stdout",
     "output_type": "stream",
     "text": [
      "Saved to A:\\Projects\\CollegeProjects\\YogaPartner\\intermediates\\v2\\vasisthasana_24.jpg\n",
      "Saved to A:\\Projects\\CollegeProjects\\YogaPartner\\intermediates\\v2\\vasisthasana_49.jpg\n"
     ]
    },
    {
     "name": "stderr",
     "output_type": "stream",
     "text": [
      "270it [00:57,  6.93it/s]"
     ]
    },
    {
     "name": "stdout",
     "output_type": "stream",
     "text": [
      "Saved to A:\\Projects\\CollegeProjects\\YogaPartner\\intermediates\\v2\\vasisthasana_86.jpg\n",
      "Saved to A:\\Projects\\CollegeProjects\\YogaPartner\\intermediates\\v2\\vasisthasana_58.jpg\n"
     ]
    },
    {
     "name": "stderr",
     "output_type": "stream",
     "text": [
      "272it [00:57,  7.02it/s]"
     ]
    },
    {
     "name": "stdout",
     "output_type": "stream",
     "text": [
      "Saved to A:\\Projects\\CollegeProjects\\YogaPartner\\intermediates\\v2\\vasisthasana_36.jpg\n",
      "Saved to A:\\Projects\\CollegeProjects\\YogaPartner\\intermediates\\v2\\vasisthasana_77.jpg\n"
     ]
    },
    {
     "name": "stderr",
     "output_type": "stream",
     "text": [
      "274it [00:57,  7.35it/s]"
     ]
    },
    {
     "name": "stdout",
     "output_type": "stream",
     "text": [
      "Saved to A:\\Projects\\CollegeProjects\\YogaPartner\\intermediates\\v2\\vasisthasana_4.jpg\n",
      "Saved to A:\\Projects\\CollegeProjects\\YogaPartner\\intermediates\\v2\\vasisthasana_23.jpg\n"
     ]
    },
    {
     "name": "stderr",
     "output_type": "stream",
     "text": [
      "276it [00:57,  7.29it/s]"
     ]
    },
    {
     "name": "stdout",
     "output_type": "stream",
     "text": [
      "Saved to A:\\Projects\\CollegeProjects\\YogaPartner\\intermediates\\v2\\vasisthasana_13.jpg\n",
      "Saved to A:\\Projects\\CollegeProjects\\YogaPartner\\intermediates\\v2\\vasisthasana_137.jpg\n"
     ]
    },
    {
     "name": "stderr",
     "output_type": "stream",
     "text": [
      "278it [00:58,  7.85it/s]"
     ]
    },
    {
     "name": "stdout",
     "output_type": "stream",
     "text": [
      "Saved to A:\\Projects\\CollegeProjects\\YogaPartner\\intermediates\\v2\\vasisthasana_47.jpg\n",
      "Saved to A:\\Projects\\CollegeProjects\\YogaPartner\\intermediates\\v2\\vasisthasana_56.jpg\n",
      "Saved to A:\\Projects\\CollegeProjects\\YogaPartner\\intermediates\\v2\\vasisthasana_135.jpg\n"
     ]
    },
    {
     "name": "stderr",
     "output_type": "stream",
     "text": [
      "281it [00:58,  8.88it/s]"
     ]
    },
    {
     "name": "stdout",
     "output_type": "stream",
     "text": [
      "Saved to A:\\Projects\\CollegeProjects\\YogaPartner\\intermediates\\v2\\vasisthasana_74.jpg\n",
      "Saved to A:\\Projects\\CollegeProjects\\YogaPartner\\intermediates\\v2\\vasisthasana_69.jpg\n",
      "Saved to A:\\Projects\\CollegeProjects\\YogaPartner\\intermediates\\v2\\vasisthasana_8.jpg\n"
     ]
    },
    {
     "name": "stderr",
     "output_type": "stream",
     "text": [
      "285it [00:58, 10.18it/s]"
     ]
    },
    {
     "name": "stdout",
     "output_type": "stream",
     "text": [
      "Saved to A:\\Projects\\CollegeProjects\\YogaPartner\\intermediates\\v2\\vasisthasana_92.jpg\n",
      "Saved to A:\\Projects\\CollegeProjects\\YogaPartner\\intermediates\\v2\\vasisthasana_15.jpg\n",
      "Saved to A:\\Projects\\CollegeProjects\\YogaPartner\\intermediates\\v2\\vasisthasana_22.jpg\n"
     ]
    },
    {
     "name": "stderr",
     "output_type": "stream",
     "text": [
      "\r",
      "287it [00:59,  8.73it/s]"
     ]
    },
    {
     "name": "stdout",
     "output_type": "stream",
     "text": [
      "Saved to A:\\Projects\\CollegeProjects\\YogaPartner\\intermediates\\v2\\vasisthasana_37.jpg\n",
      "Saved to A:\\Projects\\CollegeProjects\\YogaPartner\\intermediates\\v2\\vasisthasana_73.jpg\n"
     ]
    },
    {
     "name": "stderr",
     "output_type": "stream",
     "text": [
      "290it [00:59,  9.02it/s]"
     ]
    },
    {
     "name": "stdout",
     "output_type": "stream",
     "text": [
      "Saved to A:\\Projects\\CollegeProjects\\YogaPartner\\intermediates\\v2\\vasisthasana_134.jpg\n",
      "Saved to A:\\Projects\\CollegeProjects\\YogaPartner\\intermediates\\v2\\vasisthasana_32.jpg\n",
      "Saved to A:\\Projects\\CollegeProjects\\YogaPartner\\intermediates\\v2\\vasisthasana_42.jpg\n"
     ]
    },
    {
     "name": "stderr",
     "output_type": "stream",
     "text": [
      "292it [00:59,  7.78it/s]"
     ]
    },
    {
     "name": "stdout",
     "output_type": "stream",
     "text": [
      "Saved to A:\\Projects\\CollegeProjects\\YogaPartner\\intermediates\\v2\\vasisthasana_12.jpg\n",
      "Saved to A:\\Projects\\CollegeProjects\\YogaPartner\\intermediates\\v2\\vasisthasana_97.jpg\n"
     ]
    },
    {
     "name": "stderr",
     "output_type": "stream",
     "text": [
      "295it [01:00,  9.02it/s]"
     ]
    },
    {
     "name": "stdout",
     "output_type": "stream",
     "text": [
      "Saved to A:\\Projects\\CollegeProjects\\YogaPartner\\intermediates\\v2\\vasisthasana_57.jpg\n",
      "Saved to A:\\Projects\\CollegeProjects\\YogaPartner\\intermediates\\v2\\vasisthasana_60.jpg\n",
      "Saved to A:\\Projects\\CollegeProjects\\YogaPartner\\intermediates\\v2\\vasisthasana_48.jpg\n"
     ]
    },
    {
     "name": "stderr",
     "output_type": "stream",
     "text": [
      "\r",
      "297it [01:00,  9.40it/s]"
     ]
    },
    {
     "name": "stdout",
     "output_type": "stream",
     "text": [
      "Saved to A:\\Projects\\CollegeProjects\\YogaPartner\\intermediates\\v2\\vasisthasana_39.jpg\n",
      "Saved to A:\\Projects\\CollegeProjects\\YogaPartner\\intermediates\\v2\\vasisthasana_79.jpg\n",
      "Saved to A:\\Projects\\CollegeProjects\\YogaPartner\\intermediates\\v2\\vasisthasana_66.jpg\n"
     ]
    },
    {
     "name": "stderr",
     "output_type": "stream",
     "text": [
      "300it [01:00,  9.33it/s]"
     ]
    },
    {
     "name": "stdout",
     "output_type": "stream",
     "text": [
      "Saved to A:\\Projects\\CollegeProjects\\YogaPartner\\intermediates\\v2\\vasisthasana_141.jpg\n",
      "Saved to A:\\Projects\\CollegeProjects\\YogaPartner\\intermediates\\v2\\vasisthasana_115.jpg\n"
     ]
    },
    {
     "name": "stderr",
     "output_type": "stream",
     "text": [
      "\r",
      "302it [01:00,  9.34it/s]"
     ]
    },
    {
     "name": "stdout",
     "output_type": "stream",
     "text": [
      "Saved to A:\\Projects\\CollegeProjects\\YogaPartner\\intermediates\\v2\\vasisthasana_41.jpg\n",
      "Saved to A:\\Projects\\CollegeProjects\\YogaPartner\\intermediates\\v2\\vasisthasana_103.jpg\n"
     ]
    },
    {
     "name": "stderr",
     "output_type": "stream",
     "text": [
      "\r",
      "304it [01:00,  9.88it/s]"
     ]
    },
    {
     "name": "stdout",
     "output_type": "stream",
     "text": [
      "Saved to A:\\Projects\\CollegeProjects\\YogaPartner\\intermediates\\v2\\vasisthasana_140.jpg\n",
      "Saved to A:\\Projects\\CollegeProjects\\YogaPartner\\intermediates\\v2\\vasisthasana_129.jpg\n"
     ]
    },
    {
     "name": "stderr",
     "output_type": "stream",
     "text": [
      "306it [01:01,  6.95it/s]"
     ]
    },
    {
     "name": "stdout",
     "output_type": "stream",
     "text": [
      "Saved to A:\\Projects\\CollegeProjects\\YogaPartner\\intermediates\\v2\\vasisthasana_55.jpg\n",
      "Saved to A:\\Projects\\CollegeProjects\\YogaPartner\\intermediates\\v2\\vasisthasana_145.jpg\n"
     ]
    },
    {
     "name": "stderr",
     "output_type": "stream",
     "text": [
      "\r",
      "307it [01:01,  7.26it/s]"
     ]
    },
    {
     "name": "stdout",
     "output_type": "stream",
     "text": [
      "Saved to A:\\Projects\\CollegeProjects\\YogaPartner\\intermediates\\v2\\vasisthasana_19.jpg\n"
     ]
    },
    {
     "name": "stderr",
     "output_type": "stream",
     "text": [
      "\r",
      "308it [01:02,  4.09it/s]"
     ]
    },
    {
     "name": "stdout",
     "output_type": "stream",
     "text": [
      "Saved to A:\\Projects\\CollegeProjects\\YogaPartner\\intermediates\\v2\\vasisthasana_94.jpg\n"
     ]
    },
    {
     "name": "stderr",
     "output_type": "stream",
     "text": [
      "311it [01:02,  5.16it/s]"
     ]
    },
    {
     "name": "stdout",
     "output_type": "stream",
     "text": [
      "Saved to A:\\Projects\\CollegeProjects\\YogaPartner\\intermediates\\v2\\vasisthasana_87.jpg\n",
      "Saved to A:\\Projects\\CollegeProjects\\YogaPartner\\intermediates\\v2\\vasisthasana_40.jpg\n",
      "Saved to A:\\Projects\\CollegeProjects\\YogaPartner\\intermediates\\v2\\vasisthasana_29.jpg\n"
     ]
    },
    {
     "name": "stderr",
     "output_type": "stream",
     "text": [
      "\r",
      "313it [01:02,  6.28it/s]"
     ]
    },
    {
     "name": "stdout",
     "output_type": "stream",
     "text": [
      "Saved to A:\\Projects\\CollegeProjects\\YogaPartner\\intermediates\\v2\\vasisthasana_96.jpg\n",
      "Saved to A:\\Projects\\CollegeProjects\\YogaPartner\\intermediates\\v2\\vasisthasana_5.jpg\n"
     ]
    },
    {
     "name": "stderr",
     "output_type": "stream",
     "text": [
      "315it [01:03,  7.06it/s]"
     ]
    },
    {
     "name": "stdout",
     "output_type": "stream",
     "text": [
      "Saved to A:\\Projects\\CollegeProjects\\YogaPartner\\intermediates\\v2\\vasisthasana_14.jpg\n",
      "Saved to A:\\Projects\\CollegeProjects\\YogaPartner\\intermediates\\v2\\vasisthasana_1.jpg\n"
     ]
    },
    {
     "name": "stderr",
     "output_type": "stream",
     "text": [
      "317it [01:03,  7.13it/s]"
     ]
    },
    {
     "name": "stdout",
     "output_type": "stream",
     "text": [
      "Saved to A:\\Projects\\CollegeProjects\\YogaPartner\\intermediates\\v2\\vasisthasana_61.jpg\n",
      "Saved to A:\\Projects\\CollegeProjects\\YogaPartner\\intermediates\\v2\\vasisthasana_119.jpg\n"
     ]
    },
    {
     "name": "stderr",
     "output_type": "stream",
     "text": [
      "319it [01:03,  8.14it/s]"
     ]
    },
    {
     "name": "stdout",
     "output_type": "stream",
     "text": [
      "Saved to A:\\Projects\\CollegeProjects\\YogaPartner\\intermediates\\v2\\vasisthasana_38.jpg\n",
      "Saved to A:\\Projects\\CollegeProjects\\YogaPartner\\intermediates\\v2\\vasisthasana_90.jpg\n"
     ]
    },
    {
     "name": "stderr",
     "output_type": "stream",
     "text": [
      "322it [01:03,  9.47it/s]"
     ]
    },
    {
     "name": "stdout",
     "output_type": "stream",
     "text": [
      "Saved to A:\\Projects\\CollegeProjects\\YogaPartner\\intermediates\\v2\\vasisthasana_50.jpg\n",
      "Saved to A:\\Projects\\CollegeProjects\\YogaPartner\\intermediates\\v2\\vasisthasana_9.jpg\n",
      "Saved to A:\\Projects\\CollegeProjects\\YogaPartner\\intermediates\\v2\\vasisthasana_43.jpg\n"
     ]
    },
    {
     "name": "stderr",
     "output_type": "stream",
     "text": [
      "\r",
      "323it [01:04,  8.91it/s]"
     ]
    },
    {
     "name": "stdout",
     "output_type": "stream",
     "text": [
      "Saved to A:\\Projects\\CollegeProjects\\YogaPartner\\intermediates\\v2\\vasisthasana_11.jpg\n"
     ]
    },
    {
     "name": "stderr",
     "output_type": "stream",
     "text": [
      "325it [01:04,  7.00it/s]"
     ]
    },
    {
     "name": "stdout",
     "output_type": "stream",
     "text": [
      "Saved to A:\\Projects\\CollegeProjects\\YogaPartner\\intermediates\\v2\\vasisthasana_126.jpg\n",
      "Saved to A:\\Projects\\CollegeProjects\\YogaPartner\\intermediates\\v2\\vasisthasana_102.jpg\n"
     ]
    },
    {
     "name": "stderr",
     "output_type": "stream",
     "text": [
      "\r",
      "327it [01:04,  8.14it/s]"
     ]
    },
    {
     "name": "stdout",
     "output_type": "stream",
     "text": [
      "Saved to A:\\Projects\\CollegeProjects\\YogaPartner\\intermediates\\v2\\vasisthasana_130.jpg\n",
      "Saved to A:\\Projects\\CollegeProjects\\YogaPartner\\intermediates\\v2\\vasisthasana_125.jpg\n"
     ]
    },
    {
     "name": "stderr",
     "output_type": "stream",
     "text": [
      "\r",
      "328it [01:04,  7.53it/s]"
     ]
    },
    {
     "name": "stdout",
     "output_type": "stream",
     "text": [
      "Saved to A:\\Projects\\CollegeProjects\\YogaPartner\\intermediates\\v2\\vasisthasana_93.jpg\n"
     ]
    },
    {
     "name": "stderr",
     "output_type": "stream",
     "text": [
      "330it [01:05,  6.52it/s]"
     ]
    },
    {
     "name": "stdout",
     "output_type": "stream",
     "text": [
      "Saved to A:\\Projects\\CollegeProjects\\YogaPartner\\intermediates\\v2\\vasisthasana_65.jpg\n",
      "Saved to A:\\Projects\\CollegeProjects\\YogaPartner\\intermediates\\v2\\vasisthasana_17.jpg\n"
     ]
    },
    {
     "name": "stderr",
     "output_type": "stream",
     "text": [
      "\r",
      "331it [01:05,  7.14it/s]"
     ]
    },
    {
     "name": "stdout",
     "output_type": "stream",
     "text": [
      "Saved to A:\\Projects\\CollegeProjects\\YogaPartner\\intermediates\\v2\\vasisthasana_35.jpg\n"
     ]
    },
    {
     "name": "stderr",
     "output_type": "stream",
     "text": [
      "333it [01:05,  6.07it/s]"
     ]
    },
    {
     "name": "stdout",
     "output_type": "stream",
     "text": [
      "Saved to A:\\Projects\\CollegeProjects\\YogaPartner\\intermediates\\v2\\vasisthasana_98.jpg\n",
      "Saved to A:\\Projects\\CollegeProjects\\YogaPartner\\intermediates\\v2\\vasisthasana_105.jpg\n"
     ]
    },
    {
     "name": "stderr",
     "output_type": "stream",
     "text": [
      "335it [01:05,  6.30it/s]"
     ]
    },
    {
     "name": "stdout",
     "output_type": "stream",
     "text": [
      "Saved to A:\\Projects\\CollegeProjects\\YogaPartner\\intermediates\\v2\\vasisthasana_118.jpg\n",
      "Saved to A:\\Projects\\CollegeProjects\\YogaPartner\\intermediates\\v2\\vasisthasana_7.jpg\n"
     ]
    },
    {
     "name": "stderr",
     "output_type": "stream",
     "text": [
      "337it [01:06,  6.54it/s]"
     ]
    },
    {
     "name": "stdout",
     "output_type": "stream",
     "text": [
      "Saved to A:\\Projects\\CollegeProjects\\YogaPartner\\intermediates\\v2\\vasisthasana_70.jpg\n",
      "Saved to A:\\Projects\\CollegeProjects\\YogaPartner\\intermediates\\v2\\vasisthasana_81.jpg\n"
     ]
    },
    {
     "name": "stderr",
     "output_type": "stream",
     "text": [
      "339it [01:06,  6.69it/s]"
     ]
    },
    {
     "name": "stdout",
     "output_type": "stream",
     "text": [
      "Saved to A:\\Projects\\CollegeProjects\\YogaPartner\\intermediates\\v2\\vasisthasana_89.jpg\n",
      "Saved to A:\\Projects\\CollegeProjects\\YogaPartner\\intermediates\\v2\\vasisthasana_100.jpg\n"
     ]
    },
    {
     "name": "stderr",
     "output_type": "stream",
     "text": [
      "342it [01:06,  7.86it/s]"
     ]
    },
    {
     "name": "stdout",
     "output_type": "stream",
     "text": [
      "Saved to A:\\Projects\\CollegeProjects\\YogaPartner\\intermediates\\v2\\vasisthasana_54.jpg\n",
      "Saved to A:\\Projects\\CollegeProjects\\YogaPartner\\intermediates\\v2\\vasisthasana_78.jpg\n",
      "Saved to A:\\Projects\\CollegeProjects\\YogaPartner\\intermediates\\v2\\vasisthasana_51.jpg\n"
     ]
    },
    {
     "name": "stderr",
     "output_type": "stream",
     "text": [
      "344it [01:07,  6.99it/s]"
     ]
    },
    {
     "name": "stdout",
     "output_type": "stream",
     "text": [
      "Saved to A:\\Projects\\CollegeProjects\\YogaPartner\\intermediates\\v2\\vasisthasana_52.jpg\n",
      "Saved to A:\\Projects\\CollegeProjects\\YogaPartner\\intermediates\\v2\\vasisthasana_82.jpg\n"
     ]
    },
    {
     "name": "stderr",
     "output_type": "stream",
     "text": [
      "346it [01:07,  7.09it/s]"
     ]
    },
    {
     "name": "stdout",
     "output_type": "stream",
     "text": [
      "Saved to A:\\Projects\\CollegeProjects\\YogaPartner\\intermediates\\v2\\vasisthasana_3.jpg\n",
      "Saved to A:\\Projects\\CollegeProjects\\YogaPartner\\intermediates\\v2\\vasisthasana_95.jpg\n"
     ]
    },
    {
     "name": "stderr",
     "output_type": "stream",
     "text": [
      "348it [01:07,  7.07it/s]"
     ]
    },
    {
     "name": "stdout",
     "output_type": "stream",
     "text": [
      "Saved to A:\\Projects\\CollegeProjects\\YogaPartner\\intermediates\\v2\\vasisthasana_16.jpg\n",
      "Saved to A:\\Projects\\CollegeProjects\\YogaPartner\\intermediates\\v2\\vasisthasana_106.jpg\n"
     ]
    },
    {
     "name": "stderr",
     "output_type": "stream",
     "text": [
      "350it [01:08,  7.36it/s]"
     ]
    },
    {
     "name": "stdout",
     "output_type": "stream",
     "text": [
      "Saved to A:\\Projects\\CollegeProjects\\YogaPartner\\intermediates\\v2\\vasisthasana_124.jpg\n",
      "Saved to A:\\Projects\\CollegeProjects\\YogaPartner\\intermediates\\v2\\vasisthasana_112.jpg\n"
     ]
    },
    {
     "name": "stderr",
     "output_type": "stream",
     "text": [
      "353it [01:08,  8.80it/s]"
     ]
    },
    {
     "name": "stdout",
     "output_type": "stream",
     "text": [
      "Saved to A:\\Projects\\CollegeProjects\\YogaPartner\\intermediates\\v2\\vasisthasana_26.jpg\n",
      "Saved to A:\\Projects\\CollegeProjects\\YogaPartner\\intermediates\\v2\\vasisthasana_53.jpg\n",
      "Saved to A:\\Projects\\CollegeProjects\\YogaPartner\\intermediates\\v2\\vasisthasana_6.jpg\n"
     ]
    },
    {
     "name": "stderr",
     "output_type": "stream",
     "text": [
      "355it [01:08,  6.86it/s]"
     ]
    },
    {
     "name": "stdout",
     "output_type": "stream",
     "text": [
      "Saved to A:\\Projects\\CollegeProjects\\YogaPartner\\intermediates\\v2\\vasisthasana_83.jpg\n",
      "Saved to A:\\Projects\\CollegeProjects\\YogaPartner\\intermediates\\v2\\vasisthasana_68.jpg\n"
     ]
    },
    {
     "name": "stderr",
     "output_type": "stream",
     "text": [
      "357it [01:08,  7.48it/s]"
     ]
    },
    {
     "name": "stdout",
     "output_type": "stream",
     "text": [
      "Saved to A:\\Projects\\CollegeProjects\\YogaPartner\\intermediates\\v2\\vasisthasana_67.jpg\n",
      "Saved to A:\\Projects\\CollegeProjects\\YogaPartner\\intermediates\\v2\\vasisthasana_147.jpg\n"
     ]
    },
    {
     "name": "stderr",
     "output_type": "stream",
     "text": [
      "359it [01:09,  7.00it/s]"
     ]
    },
    {
     "name": "stdout",
     "output_type": "stream",
     "text": [
      "Saved to A:\\Projects\\CollegeProjects\\YogaPartner\\intermediates\\v2\\vasisthasana_122.jpg\n",
      "Saved to A:\\Projects\\CollegeProjects\\YogaPartner\\intermediates\\v2\\vasisthasana_80.jpg\n"
     ]
    },
    {
     "name": "stderr",
     "output_type": "stream",
     "text": [
      "361it [01:09,  7.60it/s]"
     ]
    },
    {
     "name": "stdout",
     "output_type": "stream",
     "text": [
      "Saved to A:\\Projects\\CollegeProjects\\YogaPartner\\intermediates\\v2\\vasisthasana_128.jpg\n",
      "Saved to A:\\Projects\\CollegeProjects\\YogaPartner\\intermediates\\v2\\vasisthasana_144.jpg\n"
     ]
    },
    {
     "name": "stderr",
     "output_type": "stream",
     "text": [
      "\r",
      "362it [01:09,  8.12it/s]"
     ]
    },
    {
     "name": "stdout",
     "output_type": "stream",
     "text": [
      "Saved to A:\\Projects\\CollegeProjects\\YogaPartner\\intermediates\\v2\\vasisthasana_21.jpg\n"
     ]
    },
    {
     "name": "stderr",
     "output_type": "stream",
     "text": [
      "364it [01:11,  2.71it/s]"
     ]
    },
    {
     "name": "stdout",
     "output_type": "stream",
     "text": [
      "Saved to A:\\Projects\\CollegeProjects\\YogaPartner\\intermediates\\v2\\vasisthasana_116.jpg\n",
      "Saved to A:\\Projects\\CollegeProjects\\YogaPartner\\intermediates\\v2\\vasisthasana_107.jpg\n"
     ]
    },
    {
     "name": "stderr",
     "output_type": "stream",
     "text": [
      "\r",
      "365it [01:12,  1.22it/s]"
     ]
    },
    {
     "name": "stdout",
     "output_type": "stream",
     "text": [
      "Saved to A:\\Projects\\CollegeProjects\\YogaPartner\\intermediates\\v2\\vasisthasana_64.jpg\n",
      "Saved to A:\\Projects\\CollegeProjects\\YogaPartner\\intermediates\\v2\\vasisthasana_25.jpg\n"
     ]
    },
    {
     "name": "stderr",
     "output_type": "stream",
     "text": [
      "368it [01:13,  2.41it/s]"
     ]
    },
    {
     "name": "stdout",
     "output_type": "stream",
     "text": [
      "Saved to A:\\Projects\\CollegeProjects\\YogaPartner\\intermediates\\v2\\vasisthasana_143.jpg\n",
      "Saved to A:\\Projects\\CollegeProjects\\YogaPartner\\intermediates\\v2\\vasisthasana_88.jpg\n"
     ]
    },
    {
     "name": "stderr",
     "output_type": "stream",
     "text": [
      "\r",
      "370it [01:13,  3.57it/s]"
     ]
    },
    {
     "name": "stdout",
     "output_type": "stream",
     "text": [
      "Saved to A:\\Projects\\CollegeProjects\\YogaPartner\\intermediates\\v2\\virabhadrasana_i_158.jpg\n",
      "Saved to A:\\Projects\\CollegeProjects\\YogaPartner\\intermediates\\v2\\virabhadrasana_i_142.jpg\n",
      "Saved to A:\\Projects\\CollegeProjects\\YogaPartner\\intermediates\\v2\\virabhadrasana_i_71.jpg\n"
     ]
    },
    {
     "name": "stderr",
     "output_type": "stream",
     "text": [
      "373it [01:13,  4.99it/s]"
     ]
    },
    {
     "name": "stdout",
     "output_type": "stream",
     "text": [
      "Saved to A:\\Projects\\CollegeProjects\\YogaPartner\\intermediates\\v2\\virabhadrasana_i_25.jpg\n",
      "Saved to A:\\Projects\\CollegeProjects\\YogaPartner\\intermediates\\v2\\virabhadrasana_i_45.jpg\n"
     ]
    },
    {
     "name": "stderr",
     "output_type": "stream",
     "text": [
      "375it [01:14,  5.67it/s]"
     ]
    },
    {
     "name": "stdout",
     "output_type": "stream",
     "text": [
      "Saved to A:\\Projects\\CollegeProjects\\YogaPartner\\intermediates\\v2\\virabhadrasana_i_172.jpg\n",
      "Saved to A:\\Projects\\CollegeProjects\\YogaPartner\\intermediates\\v2\\virabhadrasana_i_102.jpg\n"
     ]
    },
    {
     "name": "stderr",
     "output_type": "stream",
     "text": [
      "377it [01:14,  6.48it/s]"
     ]
    },
    {
     "name": "stdout",
     "output_type": "stream",
     "text": [
      "Saved to A:\\Projects\\CollegeProjects\\YogaPartner\\intermediates\\v2\\virabhadrasana_i_51.jpg\n",
      "Saved to A:\\Projects\\CollegeProjects\\YogaPartner\\intermediates\\v2\\virabhadrasana_i_211.jpg\n"
     ]
    },
    {
     "name": "stderr",
     "output_type": "stream",
     "text": [
      "379it [01:14,  7.30it/s]"
     ]
    },
    {
     "name": "stdout",
     "output_type": "stream",
     "text": [
      "Saved to A:\\Projects\\CollegeProjects\\YogaPartner\\intermediates\\v2\\virabhadrasana_i_81.jpg\n",
      "Saved to A:\\Projects\\CollegeProjects\\YogaPartner\\intermediates\\v2\\virabhadrasana_i_32.jpg\n"
     ]
    },
    {
     "name": "stderr",
     "output_type": "stream",
     "text": [
      "381it [01:14,  8.09it/s]"
     ]
    },
    {
     "name": "stdout",
     "output_type": "stream",
     "text": [
      "Saved to A:\\Projects\\CollegeProjects\\YogaPartner\\intermediates\\v2\\virabhadrasana_i_75.jpg\n",
      "Saved to A:\\Projects\\CollegeProjects\\YogaPartner\\intermediates\\v2\\virabhadrasana_i_77.jpg\n"
     ]
    },
    {
     "name": "stderr",
     "output_type": "stream",
     "text": [
      "\r",
      "382it [01:15,  7.66it/s]"
     ]
    },
    {
     "name": "stdout",
     "output_type": "stream",
     "text": [
      "Saved to A:\\Projects\\CollegeProjects\\YogaPartner\\intermediates\\v2\\virabhadrasana_i_66.jpg\n",
      "Saved to A:\\Projects\\CollegeProjects\\YogaPartner\\intermediates\\v2\\virabhadrasana_i_129.jpg\n"
     ]
    },
    {
     "name": "stderr",
     "output_type": "stream",
     "text": [
      "386it [01:15,  9.14it/s]"
     ]
    },
    {
     "name": "stdout",
     "output_type": "stream",
     "text": [
      "Saved to A:\\Projects\\CollegeProjects\\YogaPartner\\intermediates\\v2\\virabhadrasana_i_97.jpg\n",
      "Saved to A:\\Projects\\CollegeProjects\\YogaPartner\\intermediates\\v2\\virabhadrasana_i_221.jpg\n",
      "Saved to A:\\Projects\\CollegeProjects\\YogaPartner\\intermediates\\v2\\virabhadrasana_i_182.jpg\n"
     ]
    },
    {
     "name": "stderr",
     "output_type": "stream",
     "text": [
      "\r",
      "388it [01:15, 10.10it/s]"
     ]
    },
    {
     "name": "stdout",
     "output_type": "stream",
     "text": [
      "Saved to A:\\Projects\\CollegeProjects\\YogaPartner\\intermediates\\v2\\virabhadrasana_i_104.jpg\n",
      "Saved to A:\\Projects\\CollegeProjects\\YogaPartner\\intermediates\\v2\\virabhadrasana_i_79.jpg\n",
      "Saved to A:\\Projects\\CollegeProjects\\YogaPartner\\intermediates\\v2\\virabhadrasana_i_137.jpg\n"
     ]
    },
    {
     "name": "stderr",
     "output_type": "stream",
     "text": [
      "391it [01:15,  8.95it/s]"
     ]
    },
    {
     "name": "stdout",
     "output_type": "stream",
     "text": [
      "Saved to A:\\Projects\\CollegeProjects\\YogaPartner\\intermediates\\v2\\virabhadrasana_i_209.jpg\n",
      "Saved to A:\\Projects\\CollegeProjects\\YogaPartner\\intermediates\\v2\\virabhadrasana_i_89.jpg\n"
     ]
    },
    {
     "name": "stderr",
     "output_type": "stream",
     "text": [
      "\r",
      "392it [01:16,  7.13it/s]"
     ]
    },
    {
     "name": "stdout",
     "output_type": "stream",
     "text": [
      "Saved to A:\\Projects\\CollegeProjects\\YogaPartner\\intermediates\\v2\\virabhadrasana_i_10.jpg\n"
     ]
    },
    {
     "name": "stderr",
     "output_type": "stream",
     "text": [
      "394it [01:16,  5.38it/s]"
     ]
    },
    {
     "name": "stdout",
     "output_type": "stream",
     "text": [
      "Saved to A:\\Projects\\CollegeProjects\\YogaPartner\\intermediates\\v2\\virabhadrasana_i_149.jpg\n",
      "Saved to A:\\Projects\\CollegeProjects\\YogaPartner\\intermediates\\v2\\virabhadrasana_i_120.jpg\n"
     ]
    },
    {
     "name": "stderr",
     "output_type": "stream",
     "text": [
      "396it [01:16,  5.91it/s]"
     ]
    },
    {
     "name": "stdout",
     "output_type": "stream",
     "text": [
      "Saved to A:\\Projects\\CollegeProjects\\YogaPartner\\intermediates\\v2\\virabhadrasana_i_92.jpg\n",
      "Saved to A:\\Projects\\CollegeProjects\\YogaPartner\\intermediates\\v2\\virabhadrasana_i_216.jpg\n"
     ]
    },
    {
     "name": "stderr",
     "output_type": "stream",
     "text": [
      "398it [01:17,  7.16it/s]"
     ]
    },
    {
     "name": "stdout",
     "output_type": "stream",
     "text": [
      "Saved to A:\\Projects\\CollegeProjects\\YogaPartner\\intermediates\\v2\\virabhadrasana_i_78.jpg\n",
      "Saved to A:\\Projects\\CollegeProjects\\YogaPartner\\intermediates\\v2\\virabhadrasana_i_28.jpg\n"
     ]
    },
    {
     "name": "stderr",
     "output_type": "stream",
     "text": [
      "400it [01:17,  7.15it/s]"
     ]
    },
    {
     "name": "stdout",
     "output_type": "stream",
     "text": [
      "Saved to A:\\Projects\\CollegeProjects\\YogaPartner\\intermediates\\v2\\virabhadrasana_i_70.jpg\n",
      "Saved to A:\\Projects\\CollegeProjects\\YogaPartner\\intermediates\\v2\\virabhadrasana_i_141.jpg\n"
     ]
    },
    {
     "name": "stderr",
     "output_type": "stream",
     "text": [
      "402it [01:17,  7.37it/s]"
     ]
    },
    {
     "name": "stdout",
     "output_type": "stream",
     "text": [
      "Saved to A:\\Projects\\CollegeProjects\\YogaPartner\\intermediates\\v2\\virabhadrasana_i_40.jpg\n",
      "Saved to A:\\Projects\\CollegeProjects\\YogaPartner\\intermediates\\v2\\virabhadrasana_i_42.jpg\n"
     ]
    },
    {
     "name": "stderr",
     "output_type": "stream",
     "text": [
      "404it [01:17,  8.10it/s]"
     ]
    },
    {
     "name": "stdout",
     "output_type": "stream",
     "text": [
      "Saved to A:\\Projects\\CollegeProjects\\YogaPartner\\intermediates\\v2\\virabhadrasana_i_87.jpg\n",
      "Saved to A:\\Projects\\CollegeProjects\\YogaPartner\\intermediates\\v2\\virabhadrasana_i_197.jpg\n"
     ]
    },
    {
     "name": "stderr",
     "output_type": "stream",
     "text": [
      "406it [01:18,  6.65it/s]"
     ]
    },
    {
     "name": "stdout",
     "output_type": "stream",
     "text": [
      "Saved to A:\\Projects\\CollegeProjects\\YogaPartner\\intermediates\\v2\\virabhadrasana_i_130.jpg\n",
      "Saved to A:\\Projects\\CollegeProjects\\YogaPartner\\intermediates\\v2\\virabhadrasana_i_190.jpg\n"
     ]
    },
    {
     "name": "stderr",
     "output_type": "stream",
     "text": [
      "\r",
      "407it [01:18,  7.30it/s]"
     ]
    },
    {
     "name": "stdout",
     "output_type": "stream",
     "text": [
      "Saved to A:\\Projects\\CollegeProjects\\YogaPartner\\intermediates\\v2\\virabhadrasana_i_23.jpg\n"
     ]
    },
    {
     "name": "stderr",
     "output_type": "stream",
     "text": [
      "410it [01:19,  6.32it/s]"
     ]
    },
    {
     "name": "stdout",
     "output_type": "stream",
     "text": [
      "Saved to A:\\Projects\\CollegeProjects\\YogaPartner\\intermediates\\v2\\virabhadrasana_i_151.jpg\n",
      "Saved to A:\\Projects\\CollegeProjects\\YogaPartner\\intermediates\\v2\\virabhadrasana_i_50.jpg\n",
      "Saved to A:\\Projects\\CollegeProjects\\YogaPartner\\intermediates\\v2\\virabhadrasana_i_205.jpg\n"
     ]
    },
    {
     "name": "stderr",
     "output_type": "stream",
     "text": [
      "\r",
      "411it [01:19,  6.77it/s]"
     ]
    },
    {
     "name": "stdout",
     "output_type": "stream",
     "text": [
      "Saved to A:\\Projects\\CollegeProjects\\YogaPartner\\intermediates\\v2\\virabhadrasana_i_96.jpg\n",
      "Saved to A:\\Projects\\CollegeProjects\\YogaPartner\\intermediates\\v2\\virabhadrasana_i_192.jpg\n"
     ]
    },
    {
     "name": "stderr",
     "output_type": "stream",
     "text": [
      "414it [01:19,  6.36it/s]"
     ]
    },
    {
     "name": "stdout",
     "output_type": "stream",
     "text": [
      "Saved to A:\\Projects\\CollegeProjects\\YogaPartner\\intermediates\\v2\\virabhadrasana_i_106.jpg\n",
      "Saved to A:\\Projects\\CollegeProjects\\YogaPartner\\intermediates\\v2\\virabhadrasana_i_218.jpg\n"
     ]
    },
    {
     "name": "stderr",
     "output_type": "stream",
     "text": [
      "416it [01:19,  6.99it/s]"
     ]
    },
    {
     "name": "stdout",
     "output_type": "stream",
     "text": [
      "Saved to A:\\Projects\\CollegeProjects\\YogaPartner\\intermediates\\v2\\virabhadrasana_i_80.jpg\n",
      "Saved to A:\\Projects\\CollegeProjects\\YogaPartner\\intermediates\\v2\\virabhadrasana_i_175.jpg\n"
     ]
    },
    {
     "name": "stderr",
     "output_type": "stream",
     "text": [
      "\r",
      "418it [01:20,  7.86it/s]"
     ]
    },
    {
     "name": "stdout",
     "output_type": "stream",
     "text": [
      "Saved to A:\\Projects\\CollegeProjects\\YogaPartner\\intermediates\\v2\\virabhadrasana_i_31.jpg\n",
      "Saved to A:\\Projects\\CollegeProjects\\YogaPartner\\intermediates\\v2\\virabhadrasana_i_152.jpg\n"
     ]
    },
    {
     "name": "stderr",
     "output_type": "stream",
     "text": [
      "420it [01:20,  7.37it/s]"
     ]
    },
    {
     "name": "stdout",
     "output_type": "stream",
     "text": [
      "Saved to A:\\Projects\\CollegeProjects\\YogaPartner\\intermediates\\v2\\virabhadrasana_i_187.jpg\n",
      "Saved to A:\\Projects\\CollegeProjects\\YogaPartner\\intermediates\\v2\\virabhadrasana_i_183.jpg\n"
     ]
    },
    {
     "name": "stderr",
     "output_type": "stream",
     "text": [
      "422it [01:20,  7.07it/s]"
     ]
    },
    {
     "name": "stdout",
     "output_type": "stream",
     "text": [
      "Saved to A:\\Projects\\CollegeProjects\\YogaPartner\\intermediates\\v2\\virabhadrasana_i_127.jpg\n",
      "Saved to A:\\Projects\\CollegeProjects\\YogaPartner\\intermediates\\v2\\virabhadrasana_i_206.jpg\n"
     ]
    },
    {
     "name": "stderr",
     "output_type": "stream",
     "text": [
      "424it [01:20,  7.73it/s]"
     ]
    },
    {
     "name": "stdout",
     "output_type": "stream",
     "text": [
      "Saved to A:\\Projects\\CollegeProjects\\YogaPartner\\intermediates\\v2\\virabhadrasana_i_122.jpg\n",
      "Saved to A:\\Projects\\CollegeProjects\\YogaPartner\\intermediates\\v2\\virabhadrasana_i_169.jpg\n"
     ]
    },
    {
     "name": "stderr",
     "output_type": "stream",
     "text": [
      "426it [01:21,  7.61it/s]"
     ]
    },
    {
     "name": "stdout",
     "output_type": "stream",
     "text": [
      "Saved to A:\\Projects\\CollegeProjects\\YogaPartner\\intermediates\\v2\\virabhadrasana_i_125.jpg\n",
      "Saved to A:\\Projects\\CollegeProjects\\YogaPartner\\intermediates\\v2\\virabhadrasana_i_155.jpg\n"
     ]
    },
    {
     "name": "stderr",
     "output_type": "stream",
     "text": [
      "428it [01:21,  6.29it/s]"
     ]
    },
    {
     "name": "stdout",
     "output_type": "stream",
     "text": [
      "Saved to A:\\Projects\\CollegeProjects\\YogaPartner\\intermediates\\v2\\virabhadrasana_i_136.jpg\n",
      "Saved to A:\\Projects\\CollegeProjects\\YogaPartner\\intermediates\\v2\\virabhadrasana_i_159.jpg\n"
     ]
    },
    {
     "name": "stderr",
     "output_type": "stream",
     "text": [
      "430it [01:21,  6.29it/s]"
     ]
    },
    {
     "name": "stdout",
     "output_type": "stream",
     "text": [
      "Saved to A:\\Projects\\CollegeProjects\\YogaPartner\\intermediates\\v2\\virabhadrasana_i_210.jpg\n",
      "Saved to A:\\Projects\\CollegeProjects\\YogaPartner\\intermediates\\v2\\virabhadrasana_i_135.jpg\n"
     ]
    },
    {
     "name": "stderr",
     "output_type": "stream",
     "text": [
      "432it [01:22,  7.60it/s]"
     ]
    },
    {
     "name": "stdout",
     "output_type": "stream",
     "text": [
      "Saved to A:\\Projects\\CollegeProjects\\YogaPartner\\intermediates\\v2\\virabhadrasana_i_171.jpg\n",
      "Saved to A:\\Projects\\CollegeProjects\\YogaPartner\\intermediates\\v2\\virabhadrasana_i_193.jpg\n",
      "Saved to A:\\Projects\\CollegeProjects\\YogaPartner\\intermediates\\v2\\virabhadrasana_i_21.jpg\n"
     ]
    },
    {
     "name": "stderr",
     "output_type": "stream",
     "text": [
      "435it [01:22,  7.64it/s]"
     ]
    },
    {
     "name": "stdout",
     "output_type": "stream",
     "text": [
      "Saved to A:\\Projects\\CollegeProjects\\YogaPartner\\intermediates\\v2\\virabhadrasana_i_94.jpg\n",
      "Saved to A:\\Projects\\CollegeProjects\\YogaPartner\\intermediates\\v2\\virabhadrasana_i_166.jpg\n"
     ]
    },
    {
     "name": "stderr",
     "output_type": "stream",
     "text": [
      "\r",
      "436it [01:22,  6.84it/s]"
     ]
    },
    {
     "name": "stdout",
     "output_type": "stream",
     "text": [
      "Saved to A:\\Projects\\CollegeProjects\\YogaPartner\\intermediates\\v2\\virabhadrasana_i_85.jpg\n",
      "Saved to A:\\Projects\\CollegeProjects\\YogaPartner\\intermediates\\v2\\virabhadrasana_i_11.jpg\n"
     ]
    },
    {
     "name": "stderr",
     "output_type": "stream",
     "text": [
      "439it [01:22,  8.00it/s]"
     ]
    },
    {
     "name": "stdout",
     "output_type": "stream",
     "text": [
      "Saved to A:\\Projects\\CollegeProjects\\YogaPartner\\intermediates\\v2\\virabhadrasana_i_74.jpg\n",
      "Saved to A:\\Projects\\CollegeProjects\\YogaPartner\\intermediates\\v2\\virabhadrasana_i_90.jpg\n"
     ]
    },
    {
     "name": "stderr",
     "output_type": "stream",
     "text": [
      "441it [01:23,  8.51it/s]"
     ]
    },
    {
     "name": "stdout",
     "output_type": "stream",
     "text": [
      "Saved to A:\\Projects\\CollegeProjects\\YogaPartner\\intermediates\\v2\\virabhadrasana_i_215.jpg\n",
      "Saved to A:\\Projects\\CollegeProjects\\YogaPartner\\intermediates\\v2\\virabhadrasana_i_134.jpg\n"
     ]
    },
    {
     "name": "stderr",
     "output_type": "stream",
     "text": [
      "443it [01:23,  9.14it/s]"
     ]
    },
    {
     "name": "stdout",
     "output_type": "stream",
     "text": [
      "Saved to A:\\Projects\\CollegeProjects\\YogaPartner\\intermediates\\v2\\virabhadrasana_i_165.jpg\n",
      "Saved to A:\\Projects\\CollegeProjects\\YogaPartner\\intermediates\\v2\\virabhadrasana_i_12.jpg\n"
     ]
    },
    {
     "name": "stderr",
     "output_type": "stream",
     "text": [
      "445it [01:23,  8.25it/s]"
     ]
    },
    {
     "name": "stdout",
     "output_type": "stream",
     "text": [
      "Saved to A:\\Projects\\CollegeProjects\\YogaPartner\\intermediates\\v2\\virabhadrasana_i_217.jpg\n",
      "Saved to A:\\Projects\\CollegeProjects\\YogaPartner\\intermediates\\v2\\virabhadrasana_i_143.jpg\n"
     ]
    },
    {
     "name": "stderr",
     "output_type": "stream",
     "text": [
      "447it [01:24,  5.70it/s]"
     ]
    },
    {
     "name": "stdout",
     "output_type": "stream",
     "text": [
      "Saved to A:\\Projects\\CollegeProjects\\YogaPartner\\intermediates\\v2\\virabhadrasana_i_176.jpg\n",
      "Saved to A:\\Projects\\CollegeProjects\\YogaPartner\\intermediates\\v2\\virabhadrasana_i_83.jpg\n"
     ]
    },
    {
     "name": "stderr",
     "output_type": "stream",
     "text": [
      "449it [01:24,  5.91it/s]"
     ]
    },
    {
     "name": "stdout",
     "output_type": "stream",
     "text": [
      "Saved to A:\\Projects\\CollegeProjects\\YogaPartner\\intermediates\\v2\\virabhadrasana_i_178.jpg\n",
      "Saved to A:\\Projects\\CollegeProjects\\YogaPartner\\intermediates\\v2\\virabhadrasana_i_34.jpg\n"
     ]
    },
    {
     "name": "stderr",
     "output_type": "stream",
     "text": [
      "451it [01:24,  7.14it/s]"
     ]
    },
    {
     "name": "stdout",
     "output_type": "stream",
     "text": [
      "Saved to A:\\Projects\\CollegeProjects\\YogaPartner\\intermediates\\v2\\virabhadrasana_i_207.jpg\n",
      "Saved to A:\\Projects\\CollegeProjects\\YogaPartner\\intermediates\\v2\\virabhadrasana_i_49.jpg\n"
     ]
    },
    {
     "name": "stderr",
     "output_type": "stream",
     "text": [
      "453it [01:25,  6.80it/s]"
     ]
    },
    {
     "name": "stdout",
     "output_type": "stream",
     "text": [
      "Saved to A:\\Projects\\CollegeProjects\\YogaPartner\\intermediates\\v2\\virabhadrasana_i_131.jpg\n",
      "Saved to A:\\Projects\\CollegeProjects\\YogaPartner\\intermediates\\v2\\virabhadrasana_i_91.jpg\n"
     ]
    },
    {
     "name": "stderr",
     "output_type": "stream",
     "text": [
      "\r",
      "454it [01:25,  7.23it/s]"
     ]
    },
    {
     "name": "stdout",
     "output_type": "stream",
     "text": [
      "Saved to A:\\Projects\\CollegeProjects\\YogaPartner\\intermediates\\v2\\virabhadrasana_i_115.jpg\n"
     ]
    },
    {
     "name": "stderr",
     "output_type": "stream",
     "text": [
      "456it [01:25,  6.85it/s]"
     ]
    },
    {
     "name": "stdout",
     "output_type": "stream",
     "text": [
      "Saved to A:\\Projects\\CollegeProjects\\YogaPartner\\intermediates\\v2\\virabhadrasana_i_47.jpg\n",
      "Saved to A:\\Projects\\CollegeProjects\\YogaPartner\\intermediates\\v2\\virabhadrasana_i_220.jpg\n"
     ]
    },
    {
     "name": "stderr",
     "output_type": "stream",
     "text": [
      "458it [01:25,  7.30it/s]"
     ]
    },
    {
     "name": "stdout",
     "output_type": "stream",
     "text": [
      "Saved to A:\\Projects\\CollegeProjects\\YogaPartner\\intermediates\\v2\\virabhadrasana_i_195.jpg\n",
      "Saved to A:\\Projects\\CollegeProjects\\YogaPartner\\intermediates\\v2\\virabhadrasana_i_123.jpg\n"
     ]
    },
    {
     "name": "stderr",
     "output_type": "stream",
     "text": [
      "460it [01:25,  7.29it/s]"
     ]
    },
    {
     "name": "stdout",
     "output_type": "stream",
     "text": [
      "Saved to A:\\Projects\\CollegeProjects\\YogaPartner\\intermediates\\v2\\virabhadrasana_i_146.jpg\n",
      "Saved to A:\\Projects\\CollegeProjects\\YogaPartner\\intermediates\\v2\\virabhadrasana_i_105.jpg\n"
     ]
    },
    {
     "name": "stderr",
     "output_type": "stream",
     "text": [
      "\r",
      "462it [01:26,  8.07it/s]"
     ]
    },
    {
     "name": "stdout",
     "output_type": "stream",
     "text": [
      "Saved to A:\\Projects\\CollegeProjects\\YogaPartner\\intermediates\\v2\\virabhadrasana_i_164.jpg\n",
      "Saved to A:\\Projects\\CollegeProjects\\YogaPartner\\intermediates\\v2\\virabhadrasana_i_86.jpg\n",
      "Saved to A:\\Projects\\CollegeProjects\\YogaPartner\\intermediates\\v2\\virabhadrasana_i_41.jpg\n"
     ]
    },
    {
     "name": "stderr",
     "output_type": "stream",
     "text": [
      "465it [01:26,  8.12it/s]"
     ]
    },
    {
     "name": "stdout",
     "output_type": "stream",
     "text": [
      "Saved to A:\\Projects\\CollegeProjects\\YogaPartner\\intermediates\\v2\\virabhadrasana_i_67.jpg\n",
      "Saved to A:\\Projects\\CollegeProjects\\YogaPartner\\intermediates\\v2\\virabhadrasana_i_38.jpg\n"
     ]
    },
    {
     "name": "stderr",
     "output_type": "stream",
     "text": [
      "467it [01:26,  7.26it/s]"
     ]
    },
    {
     "name": "stdout",
     "output_type": "stream",
     "text": [
      "Saved to A:\\Projects\\CollegeProjects\\YogaPartner\\intermediates\\v2\\virabhadrasana_i_82.jpeg\n",
      "Saved to A:\\Projects\\CollegeProjects\\YogaPartner\\intermediates\\v2\\virabhadrasana_i_208.jpg\n"
     ]
    },
    {
     "name": "stderr",
     "output_type": "stream",
     "text": [
      "469it [01:27,  7.01it/s]"
     ]
    },
    {
     "name": "stdout",
     "output_type": "stream",
     "text": [
      "Saved to A:\\Projects\\CollegeProjects\\YogaPartner\\intermediates\\v2\\virabhadrasana_i_22.jpg\n",
      "Saved to A:\\Projects\\CollegeProjects\\YogaPartner\\intermediates\\v2\\virabhadrasana_i_6.jpg\n"
     ]
    },
    {
     "name": "stderr",
     "output_type": "stream",
     "text": [
      "472it [01:27,  8.52it/s]"
     ]
    },
    {
     "name": "stdout",
     "output_type": "stream",
     "text": [
      "Saved to A:\\Projects\\CollegeProjects\\YogaPartner\\intermediates\\v2\\virabhadrasana_i_184.jpg\n",
      "Saved to A:\\Projects\\CollegeProjects\\YogaPartner\\intermediates\\v2\\virabhadrasana_i_56.jpg\n",
      "Saved to A:\\Projects\\CollegeProjects\\YogaPartner\\intermediates\\v2\\virabhadrasana_i_8.jpg\n"
     ]
    },
    {
     "name": "stderr",
     "output_type": "stream",
     "text": [
      "474it [01:27,  6.96it/s]"
     ]
    },
    {
     "name": "stdout",
     "output_type": "stream",
     "text": [
      "Saved to A:\\Projects\\CollegeProjects\\YogaPartner\\intermediates\\v2\\virabhadrasana_i_84.jpg\n",
      "Saved to A:\\Projects\\CollegeProjects\\YogaPartner\\intermediates\\v2\\virabhadrasana_i_202.jpg\n"
     ]
    },
    {
     "name": "stderr",
     "output_type": "stream",
     "text": [
      "476it [01:28,  6.45it/s]"
     ]
    },
    {
     "name": "stdout",
     "output_type": "stream",
     "text": [
      "Saved to A:\\Projects\\CollegeProjects\\YogaPartner\\intermediates\\v2\\virabhadrasana_i_128.jpg\n",
      "Saved to A:\\Projects\\CollegeProjects\\YogaPartner\\intermediates\\v2\\virabhadrasana_i_60.jpg\n"
     ]
    },
    {
     "name": "stderr",
     "output_type": "stream",
     "text": [
      "478it [01:29,  3.76it/s]"
     ]
    },
    {
     "name": "stdout",
     "output_type": "stream",
     "text": [
      "Saved to A:\\Projects\\CollegeProjects\\YogaPartner\\intermediates\\v2\\virabhadrasana_i_112.jpg\n",
      "Saved to A:\\Projects\\CollegeProjects\\YogaPartner\\intermediates\\v2\\virabhadrasana_i_9.jpg\n"
     ]
    },
    {
     "name": "stderr",
     "output_type": "stream",
     "text": [
      "480it [01:29,  5.32it/s]"
     ]
    },
    {
     "name": "stdout",
     "output_type": "stream",
     "text": [
      "Saved to A:\\Projects\\CollegeProjects\\YogaPartner\\intermediates\\v2\\virabhadrasana_i_116.jpg\n",
      "Saved to A:\\Projects\\CollegeProjects\\YogaPartner\\intermediates\\v2\\virabhadrasana_i_4.jpg\n"
     ]
    },
    {
     "name": "stderr",
     "output_type": "stream",
     "text": [
      "\r",
      "481it [01:29,  5.51it/s]"
     ]
    },
    {
     "name": "stdout",
     "output_type": "stream",
     "text": [
      "Saved to A:\\Projects\\CollegeProjects\\YogaPartner\\intermediates\\v2\\virabhadrasana_i_153.jpg\n",
      "Saved to A:\\Projects\\CollegeProjects\\YogaPartner\\intermediates\\v2\\virabhadrasana_i_27.jpg\n"
     ]
    },
    {
     "name": "stderr",
     "output_type": "stream",
     "text": [
      "484it [01:29,  6.84it/s]"
     ]
    },
    {
     "name": "stdout",
     "output_type": "stream",
     "text": [
      "Saved to A:\\Projects\\CollegeProjects\\YogaPartner\\intermediates\\v2\\virabhadrasana_i_126.jpg\n",
      "Saved to A:\\Projects\\CollegeProjects\\YogaPartner\\intermediates\\v2\\virabhadrasana_i_191.jpg\n"
     ]
    },
    {
     "name": "stderr",
     "output_type": "stream",
     "text": [
      "\r",
      "485it [01:29,  7.27it/s]"
     ]
    },
    {
     "name": "stdout",
     "output_type": "stream",
     "text": [
      "Saved to A:\\Projects\\CollegeProjects\\YogaPartner\\intermediates\\v2\\virabhadrasana_i_73.jpg\n",
      "Saved to A:\\Projects\\CollegeProjects\\YogaPartner\\intermediates\\v2\\virabhadrasana_i_157.jpg\n"
     ]
    },
    {
     "name": "stderr",
     "output_type": "stream",
     "text": [
      "488it [01:30,  7.52it/s]"
     ]
    },
    {
     "name": "stdout",
     "output_type": "stream",
     "text": [
      "Saved to A:\\Projects\\CollegeProjects\\YogaPartner\\intermediates\\v2\\virabhadrasana_i_185.jpg\n",
      "Saved to A:\\Projects\\CollegeProjects\\YogaPartner\\intermediates\\v2\\virabhadrasana_i_144.jpg\n"
     ]
    },
    {
     "name": "stderr",
     "output_type": "stream",
     "text": [
      "490it [01:31,  4.26it/s]"
     ]
    },
    {
     "name": "stdout",
     "output_type": "stream",
     "text": [
      "Saved to A:\\Projects\\CollegeProjects\\YogaPartner\\intermediates\\v2\\virabhadrasana_i_198.jpg\n",
      "Saved to A:\\Projects\\CollegeProjects\\YogaPartner\\intermediates\\v2\\virabhadrasana_i_64.jpg\n",
      "Saved to A:\\Projects\\CollegeProjects\\YogaPartner\\intermediates\\v2\\virabhadrasana_i_20.jpg\n"
     ]
    },
    {
     "name": "stderr",
     "output_type": "stream",
     "text": [
      "493it [01:31,  5.94it/s]"
     ]
    },
    {
     "name": "stdout",
     "output_type": "stream",
     "text": [
      "Saved to A:\\Projects\\CollegeProjects\\YogaPartner\\intermediates\\v2\\virabhadrasana_i_100.jpg\n",
      "Saved to A:\\Projects\\CollegeProjects\\YogaPartner\\intermediates\\v2\\virabhadrasana_i_213.jpg\n"
     ]
    },
    {
     "name": "stderr",
     "output_type": "stream",
     "text": [
      "495it [01:31,  6.43it/s]"
     ]
    },
    {
     "name": "stdout",
     "output_type": "stream",
     "text": [
      "Saved to A:\\Projects\\CollegeProjects\\YogaPartner\\intermediates\\v2\\virabhadrasana_i_214.jpg\n",
      "Saved to A:\\Projects\\CollegeProjects\\YogaPartner\\intermediates\\v2\\virabhadrasana_i_14.jpg\n"
     ]
    },
    {
     "name": "stderr",
     "output_type": "stream",
     "text": [
      "497it [01:32,  6.85it/s]"
     ]
    },
    {
     "name": "stdout",
     "output_type": "stream",
     "text": [
      "Saved to A:\\Projects\\CollegeProjects\\YogaPartner\\intermediates\\v2\\virabhadrasana_i_37.jpg\n",
      "Saved to A:\\Projects\\CollegeProjects\\YogaPartner\\intermediates\\v2\\virabhadrasana_i_13.jpg\n"
     ]
    },
    {
     "name": "stderr",
     "output_type": "stream",
     "text": [
      "499it [01:32,  6.00it/s]"
     ]
    },
    {
     "name": "stdout",
     "output_type": "stream",
     "text": [
      "Saved to A:\\Projects\\CollegeProjects\\YogaPartner\\intermediates\\v2\\virabhadrasana_i_162.jpg\n",
      "Saved to A:\\Projects\\CollegeProjects\\YogaPartner\\intermediates\\v2\\virabhadrasana_i_174.jpg\n"
     ]
    },
    {
     "name": "stderr",
     "output_type": "stream",
     "text": [
      "501it [01:32,  6.37it/s]"
     ]
    },
    {
     "name": "stdout",
     "output_type": "stream",
     "text": [
      "Saved to A:\\Projects\\CollegeProjects\\YogaPartner\\intermediates\\v2\\virabhadrasana_i_156.jpg\n",
      "Saved to A:\\Projects\\CollegeProjects\\YogaPartner\\intermediates\\v2\\virabhadrasana_i_113.jpg\n"
     ]
    },
    {
     "name": "stderr",
     "output_type": "stream",
     "text": [
      "\r",
      "502it [01:32,  6.65it/s]"
     ]
    },
    {
     "name": "stdout",
     "output_type": "stream",
     "text": [
      "Saved to A:\\Projects\\CollegeProjects\\YogaPartner\\intermediates\\v2\\virabhadrasana_i_95.jpg\n",
      "Saved to A:\\Projects\\CollegeProjects\\YogaPartner\\intermediates\\v2\\virabhadrasana_i_170.jpg\n"
     ]
    },
    {
     "name": "stderr",
     "output_type": "stream",
     "text": [
      "506it [01:33,  8.45it/s]"
     ]
    },
    {
     "name": "stdout",
     "output_type": "stream",
     "text": [
      "Saved to A:\\Projects\\CollegeProjects\\YogaPartner\\intermediates\\v2\\virabhadrasana_i_194.jpg\n",
      "Saved to A:\\Projects\\CollegeProjects\\YogaPartner\\intermediates\\v2\\virabhadrasana_i_69.jpg\n",
      "Saved to A:\\Projects\\CollegeProjects\\YogaPartner\\intermediates\\v2\\virabhadrasana_i_148.jpg\n"
     ]
    },
    {
     "name": "stderr",
     "output_type": "stream",
     "text": [
      "\r",
      "508it [01:33,  8.11it/s]"
     ]
    },
    {
     "name": "stdout",
     "output_type": "stream",
     "text": [
      "Saved to A:\\Projects\\CollegeProjects\\YogaPartner\\intermediates\\v2\\virabhadrasana_i_58.jpg\n",
      "Saved to A:\\Projects\\CollegeProjects\\YogaPartner\\intermediates\\v2\\virabhadrasana_i_212.jpg\n"
     ]
    },
    {
     "name": "stderr",
     "output_type": "stream",
     "text": [
      "510it [01:33,  7.18it/s]"
     ]
    },
    {
     "name": "stdout",
     "output_type": "stream",
     "text": [
      "Saved to A:\\Projects\\CollegeProjects\\YogaPartner\\intermediates\\v2\\virabhadrasana_i_19.jpg\n",
      "Saved to A:\\Projects\\CollegeProjects\\YogaPartner\\intermediates\\v2\\virabhadrasana_i_179.jpg\n"
     ]
    },
    {
     "name": "stderr",
     "output_type": "stream",
     "text": [
      "512it [01:34,  6.44it/s]"
     ]
    },
    {
     "name": "stdout",
     "output_type": "stream",
     "text": [
      "Saved to A:\\Projects\\CollegeProjects\\YogaPartner\\intermediates\\v2\\virabhadrasana_i_26.jpg\n",
      "Saved to A:\\Projects\\CollegeProjects\\YogaPartner\\intermediates\\v2\\virabhadrasana_i_36.jpg\n"
     ]
    },
    {
     "name": "stderr",
     "output_type": "stream",
     "text": [
      "\r",
      "513it [01:34,  6.91it/s]"
     ]
    },
    {
     "name": "stdout",
     "output_type": "stream",
     "text": [
      "Saved to A:\\Projects\\CollegeProjects\\YogaPartner\\intermediates\\v2\\virabhadrasana_i_44.jpg\n",
      "Saved to A:\\Projects\\CollegeProjects\\YogaPartner\\intermediates\\v2\\virabhadrasana_i_138.jpg\n"
     ]
    },
    {
     "name": "stderr",
     "output_type": "stream",
     "text": [
      "516it [01:34,  7.42it/s]"
     ]
    },
    {
     "name": "stdout",
     "output_type": "stream",
     "text": [
      "Saved to A:\\Projects\\CollegeProjects\\YogaPartner\\intermediates\\v2\\virabhadrasana_i_88.jpg\n",
      "Saved to A:\\Projects\\CollegeProjects\\YogaPartner\\intermediates\\v2\\virabhadrasana_i_167.jpg\n"
     ]
    },
    {
     "name": "stderr",
     "output_type": "stream",
     "text": [
      "518it [01:34,  8.07it/s]"
     ]
    },
    {
     "name": "stdout",
     "output_type": "stream",
     "text": [
      "Saved to A:\\Projects\\CollegeProjects\\YogaPartner\\intermediates\\v2\\virabhadrasana_i_43.jpg\n",
      "Saved to A:\\Projects\\CollegeProjects\\YogaPartner\\intermediates\\v2\\virabhadrasana_i_52.jpg\n"
     ]
    },
    {
     "name": "stderr",
     "output_type": "stream",
     "text": [
      "\r",
      "519it [01:35,  8.18it/s]"
     ]
    },
    {
     "name": "stdout",
     "output_type": "stream",
     "text": [
      "Saved to A:\\Projects\\CollegeProjects\\YogaPartner\\intermediates\\v2\\virabhadrasana_i_62.jpg\n",
      "Saved to A:\\Projects\\CollegeProjects\\YogaPartner\\intermediates\\v2\\virabhadrasana_i_33.jpg\n"
     ]
    },
    {
     "name": "stderr",
     "output_type": "stream",
     "text": [
      "522it [01:35,  6.09it/s]"
     ]
    },
    {
     "name": "stdout",
     "output_type": "stream",
     "text": [
      "Saved to A:\\Projects\\CollegeProjects\\YogaPartner\\intermediates\\v2\\virabhadrasana_i_93.jpg\n",
      "Saved to A:\\Projects\\CollegeProjects\\YogaPartner\\intermediates\\v2\\virabhadrasana_i_15.jpg\n"
     ]
    },
    {
     "name": "stderr",
     "output_type": "stream",
     "text": [
      "\r",
      "523it [01:35,  5.96it/s]"
     ]
    },
    {
     "name": "stdout",
     "output_type": "stream",
     "text": [
      "Saved to A:\\Projects\\CollegeProjects\\YogaPartner\\intermediates\\v2\\virabhadrasana_i_204.jpg\n"
     ]
    },
    {
     "name": "stderr",
     "output_type": "stream",
     "text": [
      "525it [01:36,  5.94it/s]"
     ]
    },
    {
     "name": "stdout",
     "output_type": "stream",
     "text": [
      "Saved to A:\\Projects\\CollegeProjects\\YogaPartner\\intermediates\\v2\\virabhadrasana_i_61.jpg\n",
      "Saved to A:\\Projects\\CollegeProjects\\YogaPartner\\intermediates\\v2\\virabhadrasana_i_2.jpg\n"
     ]
    },
    {
     "name": "stderr",
     "output_type": "stream",
     "text": [
      "527it [01:36,  6.43it/s]"
     ]
    },
    {
     "name": "stdout",
     "output_type": "stream",
     "text": [
      "Saved to A:\\Projects\\CollegeProjects\\YogaPartner\\intermediates\\v2\\virabhadrasana_i_161.jpg\n",
      "Saved to A:\\Projects\\CollegeProjects\\YogaPartner\\intermediates\\v2\\virabhadrasana_i_121.jpg\n"
     ]
    },
    {
     "name": "stderr",
     "output_type": "stream",
     "text": [
      "\r",
      "528it [01:36,  7.11it/s]"
     ]
    },
    {
     "name": "stdout",
     "output_type": "stream",
     "text": [
      "Saved to A:\\Projects\\CollegeProjects\\YogaPartner\\intermediates\\v2\\virabhadrasana_i_30.jpg\n",
      "Saved to A:\\Projects\\CollegeProjects\\YogaPartner\\intermediates\\v2\\virabhadrasana_i_133.jpg\n"
     ]
    },
    {
     "name": "stderr",
     "output_type": "stream",
     "text": [
      "531it [01:37,  6.92it/s]"
     ]
    },
    {
     "name": "stdout",
     "output_type": "stream",
     "text": [
      "Saved to A:\\Projects\\CollegeProjects\\YogaPartner\\intermediates\\v2\\virabhadrasana_i_196.jpg\n",
      "Saved to A:\\Projects\\CollegeProjects\\YogaPartner\\intermediates\\v2\\virabhadrasana_i_101.jpg\n",
      "Saved to A:\\Projects\\CollegeProjects\\YogaPartner\\intermediates\\v2\\virabhadrasana_i_65.jpg\n"
     ]
    },
    {
     "name": "stderr",
     "output_type": "stream",
     "text": [
      "534it [01:37,  7.02it/s]"
     ]
    },
    {
     "name": "stdout",
     "output_type": "stream",
     "text": [
      "Saved to A:\\Projects\\CollegeProjects\\YogaPartner\\intermediates\\v2\\virabhadrasana_i_68.jpg\n",
      "Saved to A:\\Projects\\CollegeProjects\\YogaPartner\\intermediates\\v2\\virabhadrasana_i_117.jpg\n"
     ]
    },
    {
     "name": "stderr",
     "output_type": "stream",
     "text": [
      "536it [01:37,  7.74it/s]"
     ]
    },
    {
     "name": "stdout",
     "output_type": "stream",
     "text": [
      "Saved to A:\\Projects\\CollegeProjects\\YogaPartner\\intermediates\\v2\\virabhadrasana_i_201.jpg\n",
      "Saved to A:\\Projects\\CollegeProjects\\YogaPartner\\intermediates\\v2\\virabhadrasana_i_177.jpg\n"
     ]
    },
    {
     "name": "stderr",
     "output_type": "stream",
     "text": [
      "\r",
      "537it [01:38,  4.07it/s]"
     ]
    },
    {
     "name": "stdout",
     "output_type": "stream",
     "text": [
      "Saved to A:\\Projects\\CollegeProjects\\YogaPartner\\intermediates\\v2\\virabhadrasana_i_39.jpg\n"
     ]
    },
    {
     "name": "stderr",
     "output_type": "stream",
     "text": [
      "539it [01:38,  4.61it/s]"
     ]
    },
    {
     "name": "stdout",
     "output_type": "stream",
     "text": [
      "Saved to A:\\Projects\\CollegeProjects\\YogaPartner\\intermediates\\v2\\virabhadrasana_i_154.jpg\n",
      "Saved to A:\\Projects\\CollegeProjects\\YogaPartner\\intermediates\\v2\\virabhadrasana_i_219.jpg\n"
     ]
    },
    {
     "name": "stderr",
     "output_type": "stream",
     "text": [
      "541it [01:39,  5.28it/s]"
     ]
    },
    {
     "name": "stdout",
     "output_type": "stream",
     "text": [
      "Saved to A:\\Projects\\CollegeProjects\\YogaPartner\\intermediates\\v2\\virabhadrasana_i_118.jpg\n",
      "Saved to A:\\Projects\\CollegeProjects\\YogaPartner\\intermediates\\v2\\virabhadrasana_i_139.jpg\n"
     ]
    },
    {
     "name": "stderr",
     "output_type": "stream",
     "text": [
      "543it [01:39,  5.83it/s]"
     ]
    },
    {
     "name": "stdout",
     "output_type": "stream",
     "text": [
      "Saved to A:\\Projects\\CollegeProjects\\YogaPartner\\intermediates\\v2\\virabhadrasana_i_3.jpg\n",
      "Saved to A:\\Projects\\CollegeProjects\\YogaPartner\\intermediates\\v2\\virabhadrasana_i_203.jpg\n"
     ]
    },
    {
     "name": "stderr",
     "output_type": "stream",
     "text": [
      "\r",
      "544it [01:39,  5.56it/s]"
     ]
    },
    {
     "name": "stdout",
     "output_type": "stream",
     "text": [
      "Saved to A:\\Projects\\CollegeProjects\\YogaPartner\\intermediates\\v2\\virabhadrasana_i_17.jpg\n"
     ]
    },
    {
     "name": "stderr",
     "output_type": "stream",
     "text": [
      "547it [01:39,  6.57it/s]"
     ]
    },
    {
     "name": "stdout",
     "output_type": "stream",
     "text": [
      "Saved to A:\\Projects\\CollegeProjects\\YogaPartner\\intermediates\\v2\\virabhadrasana_i_132.jpg\n",
      "Saved to A:\\Projects\\CollegeProjects\\YogaPartner\\intermediates\\v2\\virabhadrasana_ii_106.jpg\n",
      "Saved to A:\\Projects\\CollegeProjects\\YogaPartner\\intermediates\\v2\\virabhadrasana_ii_260.jpg\n"
     ]
    },
    {
     "name": "stderr",
     "output_type": "stream",
     "text": [
      "549it [01:40,  7.01it/s]"
     ]
    },
    {
     "name": "stdout",
     "output_type": "stream",
     "text": [
      "Saved to A:\\Projects\\CollegeProjects\\YogaPartner\\intermediates\\v2\\virabhadrasana_ii_135.jpg\n",
      "Saved to A:\\Projects\\CollegeProjects\\YogaPartner\\intermediates\\v2\\virabhadrasana_ii_325.jpg\n"
     ]
    },
    {
     "name": "stderr",
     "output_type": "stream",
     "text": [
      "551it [01:40,  6.93it/s]"
     ]
    },
    {
     "name": "stdout",
     "output_type": "stream",
     "text": [
      "Saved to A:\\Projects\\CollegeProjects\\YogaPartner\\intermediates\\v2\\virabhadrasana_ii_289.jpg\n",
      "Saved to A:\\Projects\\CollegeProjects\\YogaPartner\\intermediates\\v2\\virabhadrasana_ii_214.jpg\n"
     ]
    },
    {
     "name": "stderr",
     "output_type": "stream",
     "text": [
      "554it [01:40,  8.94it/s]"
     ]
    },
    {
     "name": "stdout",
     "output_type": "stream",
     "text": [
      "Saved to A:\\Projects\\CollegeProjects\\YogaPartner\\intermediates\\v2\\virabhadrasana_ii_242.jpg\n",
      "Saved to A:\\Projects\\CollegeProjects\\YogaPartner\\intermediates\\v2\\virabhadrasana_ii_114.jpg\n",
      "Saved to A:\\Projects\\CollegeProjects\\YogaPartner\\intermediates\\v2\\virabhadrasana_ii_131.jpg\n"
     ]
    },
    {
     "name": "stderr",
     "output_type": "stream",
     "text": [
      "\r",
      "556it [01:40,  9.86it/s]"
     ]
    },
    {
     "name": "stdout",
     "output_type": "stream",
     "text": [
      "Saved to A:\\Projects\\CollegeProjects\\YogaPartner\\intermediates\\v2\\virabhadrasana_ii_299.jpg\n",
      "Saved to A:\\Projects\\CollegeProjects\\YogaPartner\\intermediates\\v2\\virabhadrasana_ii_142.jpg\n",
      "Saved to A:\\Projects\\CollegeProjects\\YogaPartner\\intermediates\\v2\\virabhadrasana_ii_161.jpg\n"
     ]
    },
    {
     "name": "stderr",
     "output_type": "stream",
     "text": [
      "559it [01:41,  8.96it/s]"
     ]
    },
    {
     "name": "stdout",
     "output_type": "stream",
     "text": [
      "Saved to A:\\Projects\\CollegeProjects\\YogaPartner\\intermediates\\v2\\virabhadrasana_ii_291.jpg\n",
      "Saved to A:\\Projects\\CollegeProjects\\YogaPartner\\intermediates\\v2\\virabhadrasana_ii_13.jpg\n"
     ]
    },
    {
     "name": "stderr",
     "output_type": "stream",
     "text": [
      "561it [01:41,  8.71it/s]"
     ]
    },
    {
     "name": "stdout",
     "output_type": "stream",
     "text": [
      "Saved to A:\\Projects\\CollegeProjects\\YogaPartner\\intermediates\\v2\\virabhadrasana_ii_27.jpg\n",
      "Saved to A:\\Projects\\CollegeProjects\\YogaPartner\\intermediates\\v2\\virabhadrasana_ii_76.jpg\n"
     ]
    },
    {
     "name": "stderr",
     "output_type": "stream",
     "text": [
      "563it [01:41,  8.62it/s]"
     ]
    },
    {
     "name": "stdout",
     "output_type": "stream",
     "text": [
      "Saved to A:\\Projects\\CollegeProjects\\YogaPartner\\intermediates\\v2\\virabhadrasana_ii_38.jpg\n",
      "Saved to A:\\Projects\\CollegeProjects\\YogaPartner\\intermediates\\v2\\virabhadrasana_ii_145.jpg\n"
     ]
    },
    {
     "name": "stderr",
     "output_type": "stream",
     "text": [
      "565it [01:42,  8.07it/s]"
     ]
    },
    {
     "name": "stdout",
     "output_type": "stream",
     "text": [
      "Saved to A:\\Projects\\CollegeProjects\\YogaPartner\\intermediates\\v2\\virabhadrasana_ii_262.jpg\n",
      "Saved to A:\\Projects\\CollegeProjects\\YogaPartner\\intermediates\\v2\\virabhadrasana_ii_352.jpg\n"
     ]
    },
    {
     "name": "stderr",
     "output_type": "stream",
     "text": [
      "\r",
      "566it [01:42,  8.13it/s]"
     ]
    },
    {
     "name": "stdout",
     "output_type": "stream",
     "text": [
      "Saved to A:\\Projects\\CollegeProjects\\YogaPartner\\intermediates\\v2\\virabhadrasana_ii_208.jpg\n"
     ]
    },
    {
     "name": "stderr",
     "output_type": "stream",
     "text": [
      "568it [01:42,  6.16it/s]"
     ]
    },
    {
     "name": "stdout",
     "output_type": "stream",
     "text": [
      "Saved to A:\\Projects\\CollegeProjects\\YogaPartner\\intermediates\\v2\\virabhadrasana_ii_226.jpg\n",
      "Saved to A:\\Projects\\CollegeProjects\\YogaPartner\\intermediates\\v2\\virabhadrasana_ii_79.jpg\n"
     ]
    },
    {
     "name": "stderr",
     "output_type": "stream",
     "text": [
      "570it [01:42,  6.81it/s]"
     ]
    },
    {
     "name": "stdout",
     "output_type": "stream",
     "text": [
      "Saved to A:\\Projects\\CollegeProjects\\YogaPartner\\intermediates\\v2\\virabhadrasana_ii_82.jpg\n",
      "Saved to A:\\Projects\\CollegeProjects\\YogaPartner\\intermediates\\v2\\virabhadrasana_ii_309.jpg\n"
     ]
    },
    {
     "name": "stderr",
     "output_type": "stream",
     "text": [
      "\r",
      "571it [01:43,  6.43it/s]"
     ]
    },
    {
     "name": "stdout",
     "output_type": "stream",
     "text": [
      "Saved to A:\\Projects\\CollegeProjects\\YogaPartner\\intermediates\\v2\\virabhadrasana_ii_275.jpg\n"
     ]
    },
    {
     "name": "stderr",
     "output_type": "stream",
     "text": [
      "\r",
      "572it [01:43,  5.07it/s]"
     ]
    },
    {
     "name": "stdout",
     "output_type": "stream",
     "text": [
      "Saved to A:\\Projects\\CollegeProjects\\YogaPartner\\intermediates\\v2\\virabhadrasana_ii_168.jpg\n"
     ]
    },
    {
     "name": "stderr",
     "output_type": "stream",
     "text": [
      "574it [01:43,  5.11it/s]"
     ]
    },
    {
     "name": "stdout",
     "output_type": "stream",
     "text": [
      "Saved to A:\\Projects\\CollegeProjects\\YogaPartner\\intermediates\\v2\\virabhadrasana_ii_354.jpg\n",
      "Saved to A:\\Projects\\CollegeProjects\\YogaPartner\\intermediates\\v2\\virabhadrasana_ii_369.jpg\n"
     ]
    },
    {
     "name": "stderr",
     "output_type": "stream",
     "text": [
      "576it [01:44,  6.12it/s]"
     ]
    },
    {
     "name": "stdout",
     "output_type": "stream",
     "text": [
      "Saved to A:\\Projects\\CollegeProjects\\YogaPartner\\intermediates\\v2\\virabhadrasana_ii_122.jpg\n",
      "Saved to A:\\Projects\\CollegeProjects\\YogaPartner\\intermediates\\v2\\virabhadrasana_ii_77.jpg\n"
     ]
    },
    {
     "name": "stderr",
     "output_type": "stream",
     "text": [
      "\r",
      "577it [01:44,  6.24it/s]"
     ]
    },
    {
     "name": "stdout",
     "output_type": "stream",
     "text": [
      "Saved to A:\\Projects\\CollegeProjects\\YogaPartner\\intermediates\\v2\\virabhadrasana_ii_326.jpg\n"
     ]
    },
    {
     "name": "stderr",
     "output_type": "stream",
     "text": [
      "579it [01:44,  5.83it/s]"
     ]
    },
    {
     "name": "stdout",
     "output_type": "stream",
     "text": [
      "Saved to A:\\Projects\\CollegeProjects\\YogaPartner\\intermediates\\v2\\virabhadrasana_ii_44.jpg\n",
      "Saved to A:\\Projects\\CollegeProjects\\YogaPartner\\intermediates\\v2\\virabhadrasana_ii_166.jpg\n"
     ]
    },
    {
     "name": "stderr",
     "output_type": "stream",
     "text": [
      "581it [01:44,  6.96it/s]"
     ]
    },
    {
     "name": "stdout",
     "output_type": "stream",
     "text": [
      "Saved to A:\\Projects\\CollegeProjects\\YogaPartner\\intermediates\\v2\\virabhadrasana_ii_387.jpg\n",
      "Saved to A:\\Projects\\CollegeProjects\\YogaPartner\\intermediates\\v2\\virabhadrasana_ii_255.jpg\n"
     ]
    },
    {
     "name": "stderr",
     "output_type": "stream",
     "text": [
      "583it [01:45,  7.23it/s]"
     ]
    },
    {
     "name": "stdout",
     "output_type": "stream",
     "text": [
      "Saved to A:\\Projects\\CollegeProjects\\YogaPartner\\intermediates\\v2\\virabhadrasana_ii_331.jpg\n",
      "Saved to A:\\Projects\\CollegeProjects\\YogaPartner\\intermediates\\v2\\virabhadrasana_ii_234.jpg\n"
     ]
    },
    {
     "name": "stderr",
     "output_type": "stream",
     "text": [
      "585it [01:45,  6.50it/s]"
     ]
    },
    {
     "name": "stdout",
     "output_type": "stream",
     "text": [
      "Saved to A:\\Projects\\CollegeProjects\\YogaPartner\\intermediates\\v2\\virabhadrasana_ii_167.jpg\n",
      "Saved to A:\\Projects\\CollegeProjects\\YogaPartner\\intermediates\\v2\\virabhadrasana_ii_328.jpg\n"
     ]
    },
    {
     "name": "stderr",
     "output_type": "stream",
     "text": [
      "587it [01:45,  6.95it/s]"
     ]
    },
    {
     "name": "stdout",
     "output_type": "stream",
     "text": [
      "Saved to A:\\Projects\\CollegeProjects\\YogaPartner\\intermediates\\v2\\virabhadrasana_ii_102.jpg\n",
      "Saved to A:\\Projects\\CollegeProjects\\YogaPartner\\intermediates\\v2\\virabhadrasana_ii_360.jpg\n"
     ]
    },
    {
     "name": "stderr",
     "output_type": "stream",
     "text": [
      "589it [01:46,  6.21it/s]"
     ]
    },
    {
     "name": "stdout",
     "output_type": "stream",
     "text": [
      "Saved to A:\\Projects\\CollegeProjects\\YogaPartner\\intermediates\\v2\\virabhadrasana_ii_338.jpg\n",
      "Saved to A:\\Projects\\CollegeProjects\\YogaPartner\\intermediates\\v2\\virabhadrasana_ii_302.jpg\n"
     ]
    },
    {
     "name": "stderr",
     "output_type": "stream",
     "text": [
      "591it [01:46,  6.12it/s]"
     ]
    },
    {
     "name": "stdout",
     "output_type": "stream",
     "text": [
      "Saved to A:\\Projects\\CollegeProjects\\YogaPartner\\intermediates\\v2\\virabhadrasana_ii_311.jpg\n",
      "Saved to A:\\Projects\\CollegeProjects\\YogaPartner\\intermediates\\v2\\virabhadrasana_ii_204.jpg\n"
     ]
    },
    {
     "name": "stderr",
     "output_type": "stream",
     "text": [
      "593it [01:46,  7.06it/s]"
     ]
    },
    {
     "name": "stdout",
     "output_type": "stream",
     "text": [
      "Saved to A:\\Projects\\CollegeProjects\\YogaPartner\\intermediates\\v2\\virabhadrasana_ii_186.jpg\n",
      "Saved to A:\\Projects\\CollegeProjects\\YogaPartner\\intermediates\\v2\\virabhadrasana_ii_327.jpg\n"
     ]
    },
    {
     "name": "stderr",
     "output_type": "stream",
     "text": [
      "595it [01:46,  7.71it/s]"
     ]
    },
    {
     "name": "stdout",
     "output_type": "stream",
     "text": [
      "Saved to A:\\Projects\\CollegeProjects\\YogaPartner\\intermediates\\v2\\virabhadrasana_ii_84.jpg\n",
      "Saved to A:\\Projects\\CollegeProjects\\YogaPartner\\intermediates\\v2\\virabhadrasana_ii_33.jpg\n"
     ]
    },
    {
     "name": "stderr",
     "output_type": "stream",
     "text": [
      "598it [01:47,  8.63it/s]"
     ]
    },
    {
     "name": "stdout",
     "output_type": "stream",
     "text": [
      "Saved to A:\\Projects\\CollegeProjects\\YogaPartner\\intermediates\\v2\\virabhadrasana_ii_8.jpg\n",
      "Saved to A:\\Projects\\CollegeProjects\\YogaPartner\\intermediates\\v2\\virabhadrasana_ii_23.jpg\n",
      "Saved to A:\\Projects\\CollegeProjects\\YogaPartner\\intermediates\\v2\\virabhadrasana_ii_110.jpg\n"
     ]
    },
    {
     "name": "stderr",
     "output_type": "stream",
     "text": [
      "600it [01:47,  7.42it/s]"
     ]
    },
    {
     "name": "stdout",
     "output_type": "stream",
     "text": [
      "Saved to A:\\Projects\\CollegeProjects\\YogaPartner\\intermediates\\v2\\virabhadrasana_ii_185.jpg\n",
      "Saved to A:\\Projects\\CollegeProjects\\YogaPartner\\intermediates\\v2\\virabhadrasana_ii_48.jpg\n"
     ]
    },
    {
     "name": "stderr",
     "output_type": "stream",
     "text": [
      "\r",
      "601it [01:47,  7.16it/s]"
     ]
    },
    {
     "name": "stdout",
     "output_type": "stream",
     "text": [
      "Saved to A:\\Projects\\CollegeProjects\\YogaPartner\\intermediates\\v2\\virabhadrasana_ii_205.jpg\n"
     ]
    },
    {
     "name": "stderr",
     "output_type": "stream",
     "text": [
      "603it [01:48,  6.27it/s]"
     ]
    },
    {
     "name": "stdout",
     "output_type": "stream",
     "text": [
      "Saved to A:\\Projects\\CollegeProjects\\YogaPartner\\intermediates\\v2\\virabhadrasana_ii_346.jpg\n",
      "Saved to A:\\Projects\\CollegeProjects\\YogaPartner\\intermediates\\v2\\virabhadrasana_ii_105.jpg\n"
     ]
    },
    {
     "name": "stderr",
     "output_type": "stream",
     "text": [
      "\r",
      "604it [01:48,  5.95it/s]"
     ]
    },
    {
     "name": "stdout",
     "output_type": "stream",
     "text": [
      "Saved to A:\\Projects\\CollegeProjects\\YogaPartner\\intermediates\\v2\\virabhadrasana_ii_179.jpg\n"
     ]
    },
    {
     "name": "stderr",
     "output_type": "stream",
     "text": [
      "606it [01:48,  5.56it/s]"
     ]
    },
    {
     "name": "stdout",
     "output_type": "stream",
     "text": [
      "Saved to A:\\Projects\\CollegeProjects\\YogaPartner\\intermediates\\v2\\virabhadrasana_ii_330.jpg\n",
      "Saved to A:\\Projects\\CollegeProjects\\YogaPartner\\intermediates\\v2\\virabhadrasana_ii_240.jpg\n"
     ]
    },
    {
     "name": "stderr",
     "output_type": "stream",
     "text": [
      "\r",
      "607it [01:48,  6.35it/s]"
     ]
    },
    {
     "name": "stdout",
     "output_type": "stream",
     "text": [
      "Saved to A:\\Projects\\CollegeProjects\\YogaPartner\\intermediates\\v2\\virabhadrasana_ii_93.jpg\n"
     ]
    },
    {
     "name": "stderr",
     "output_type": "stream",
     "text": [
      "609it [01:49,  6.41it/s]"
     ]
    },
    {
     "name": "stdout",
     "output_type": "stream",
     "text": [
      "Saved to A:\\Projects\\CollegeProjects\\YogaPartner\\intermediates\\v2\\virabhadrasana_ii_207.jpg\n",
      "Saved to A:\\Projects\\CollegeProjects\\YogaPartner\\intermediates\\v2\\virabhadrasana_ii_173.jpg\n",
      "Saved to A:\\Projects\\CollegeProjects\\YogaPartner\\intermediates\\v2\\virabhadrasana_ii_150.jpg\n"
     ]
    },
    {
     "name": "stderr",
     "output_type": "stream",
     "text": [
      "612it [01:49,  6.72it/s]"
     ]
    },
    {
     "name": "stdout",
     "output_type": "stream",
     "text": [
      "Saved to A:\\Projects\\CollegeProjects\\YogaPartner\\intermediates\\v2\\virabhadrasana_ii_1.jpg\n",
      "Saved to A:\\Projects\\CollegeProjects\\YogaPartner\\intermediates\\v2\\virabhadrasana_ii_189.jpg\n"
     ]
    },
    {
     "name": "stderr",
     "output_type": "stream",
     "text": [
      "\r",
      "613it [01:49,  6.76it/s]"
     ]
    },
    {
     "name": "stdout",
     "output_type": "stream",
     "text": [
      "Saved to A:\\Projects\\CollegeProjects\\YogaPartner\\intermediates\\v2\\virabhadrasana_ii_107.jpg\n"
     ]
    },
    {
     "name": "stderr",
     "output_type": "stream",
     "text": [
      "615it [01:50,  3.88it/s]"
     ]
    },
    {
     "name": "stdout",
     "output_type": "stream",
     "text": [
      "Saved to A:\\Projects\\CollegeProjects\\YogaPartner\\intermediates\\v2\\virabhadrasana_ii_112.jpg\n",
      "Saved to A:\\Projects\\CollegeProjects\\YogaPartner\\intermediates\\v2\\virabhadrasana_ii_68.jpg\n"
     ]
    },
    {
     "name": "stderr",
     "output_type": "stream",
     "text": [
      "\r",
      "616it [01:50,  4.51it/s]"
     ]
    },
    {
     "name": "stdout",
     "output_type": "stream",
     "text": [
      "Saved to A:\\Projects\\CollegeProjects\\YogaPartner\\intermediates\\v2\\virabhadrasana_ii_388.jpg\n"
     ]
    },
    {
     "name": "stderr",
     "output_type": "stream",
     "text": [
      "\r",
      "617it [01:50,  4.45it/s]"
     ]
    },
    {
     "name": "stdout",
     "output_type": "stream",
     "text": [
      "Saved to A:\\Projects\\CollegeProjects\\YogaPartner\\intermediates\\v2\\virabhadrasana_ii_367.jpg\n"
     ]
    },
    {
     "name": "stderr",
     "output_type": "stream",
     "text": [
      "619it [01:51,  5.33it/s]"
     ]
    },
    {
     "name": "stdout",
     "output_type": "stream",
     "text": [
      "Saved to A:\\Projects\\CollegeProjects\\YogaPartner\\intermediates\\v2\\virabhadrasana_ii_136.jpg\n",
      "Saved to A:\\Projects\\CollegeProjects\\YogaPartner\\intermediates\\v2\\virabhadrasana_ii_151.jpg\n"
     ]
    },
    {
     "name": "stderr",
     "output_type": "stream",
     "text": [
      "622it [01:51,  7.45it/s]"
     ]
    },
    {
     "name": "stdout",
     "output_type": "stream",
     "text": [
      "Saved to A:\\Projects\\CollegeProjects\\YogaPartner\\intermediates\\v2\\virabhadrasana_ii_184.jpg\n",
      "Saved to A:\\Projects\\CollegeProjects\\YogaPartner\\intermediates\\v2\\virabhadrasana_ii_129.jpg\n",
      "Saved to A:\\Projects\\CollegeProjects\\YogaPartner\\intermediates\\v2\\virabhadrasana_ii_121.jpg\n"
     ]
    },
    {
     "name": "stderr",
     "output_type": "stream",
     "text": [
      "624it [01:51,  6.30it/s]"
     ]
    },
    {
     "name": "stdout",
     "output_type": "stream",
     "text": [
      "Saved to A:\\Projects\\CollegeProjects\\YogaPartner\\intermediates\\v2\\virabhadrasana_ii_279.jpg\n",
      "Saved to A:\\Projects\\CollegeProjects\\YogaPartner\\intermediates\\v2\\virabhadrasana_ii_259.jpg\n"
     ]
    },
    {
     "name": "stderr",
     "output_type": "stream",
     "text": [
      "\r",
      "625it [01:52,  6.88it/s]"
     ]
    },
    {
     "name": "stdout",
     "output_type": "stream",
     "text": [
      "Saved to A:\\Projects\\CollegeProjects\\YogaPartner\\intermediates\\v2\\virabhadrasana_ii_353.jpg\n",
      "Saved to A:\\Projects\\CollegeProjects\\YogaPartner\\intermediates\\v2\\virabhadrasana_ii_313.jpg\n"
     ]
    },
    {
     "name": "stderr",
     "output_type": "stream",
     "text": [
      "\r",
      "627it [01:52,  6.63it/s]"
     ]
    },
    {
     "name": "stdout",
     "output_type": "stream",
     "text": [
      "Saved to A:\\Projects\\CollegeProjects\\YogaPartner\\intermediates\\v2\\virabhadrasana_ii_337.jpg\n"
     ]
    },
    {
     "name": "stderr",
     "output_type": "stream",
     "text": [
      "629it [01:53,  2.62it/s]"
     ]
    },
    {
     "name": "stdout",
     "output_type": "stream",
     "text": [
      "Saved to A:\\Projects\\CollegeProjects\\YogaPartner\\intermediates\\v2\\virabhadrasana_ii_190.jpg\n",
      "Saved to A:\\Projects\\CollegeProjects\\YogaPartner\\intermediates\\v2\\virabhadrasana_ii_30.jpg\n"
     ]
    },
    {
     "name": "stderr",
     "output_type": "stream",
     "text": [
      "631it [01:54,  3.77it/s]"
     ]
    },
    {
     "name": "stdout",
     "output_type": "stream",
     "text": [
      "Saved to A:\\Projects\\CollegeProjects\\YogaPartner\\intermediates\\v2\\virabhadrasana_ii_228.jpg\n",
      "Saved to A:\\Projects\\CollegeProjects\\YogaPartner\\intermediates\\v2\\virabhadrasana_ii_306.jpg\n"
     ]
    },
    {
     "name": "stderr",
     "output_type": "stream",
     "text": [
      "\r",
      "632it [01:54,  4.54it/s]"
     ]
    },
    {
     "name": "stdout",
     "output_type": "stream",
     "text": [
      "Saved to A:\\Projects\\CollegeProjects\\YogaPartner\\intermediates\\v2\\virabhadrasana_ii_342.jpg\n"
     ]
    },
    {
     "name": "stderr",
     "output_type": "stream",
     "text": [
      "634it [01:54,  4.32it/s]"
     ]
    },
    {
     "name": "stdout",
     "output_type": "stream",
     "text": [
      "Saved to A:\\Projects\\CollegeProjects\\YogaPartner\\intermediates\\v2\\virabhadrasana_ii_223.jpg\n",
      "Saved to A:\\Projects\\CollegeProjects\\YogaPartner\\intermediates\\v2\\virabhadrasana_ii_87.jpg\n"
     ]
    },
    {
     "name": "stderr",
     "output_type": "stream",
     "text": [
      "636it [01:55,  5.23it/s]"
     ]
    },
    {
     "name": "stdout",
     "output_type": "stream",
     "text": [
      "Saved to A:\\Projects\\CollegeProjects\\YogaPartner\\intermediates\\v2\\virabhadrasana_ii_292.jpg\n",
      "Saved to A:\\Projects\\CollegeProjects\\YogaPartner\\intermediates\\v2\\virabhadrasana_ii_366.jpg\n"
     ]
    },
    {
     "name": "stderr",
     "output_type": "stream",
     "text": [
      "638it [01:55,  5.92it/s]"
     ]
    },
    {
     "name": "stdout",
     "output_type": "stream",
     "text": [
      "Saved to A:\\Projects\\CollegeProjects\\YogaPartner\\intermediates\\v2\\virabhadrasana_ii_159.jpg\n",
      "Saved to A:\\Projects\\CollegeProjects\\YogaPartner\\intermediates\\v2\\virabhadrasana_ii_375.jpg\n",
      "Saved to A:\\Projects\\CollegeProjects\\YogaPartner\\intermediates\\v2\\virabhadrasana_ii_109.jpg\n"
     ]
    },
    {
     "name": "stderr",
     "output_type": "stream",
     "text": [
      "641it [01:55,  5.91it/s]"
     ]
    },
    {
     "name": "stdout",
     "output_type": "stream",
     "text": [
      "Saved to A:\\Projects\\CollegeProjects\\YogaPartner\\intermediates\\v2\\virabhadrasana_ii_178.jpg\n",
      "Saved to A:\\Projects\\CollegeProjects\\YogaPartner\\intermediates\\v2\\virabhadrasana_ii_370.jpg\n"
     ]
    },
    {
     "name": "stderr",
     "output_type": "stream",
     "text": [
      "643it [01:56,  6.47it/s]"
     ]
    },
    {
     "name": "stdout",
     "output_type": "stream",
     "text": [
      "Saved to A:\\Projects\\CollegeProjects\\YogaPartner\\intermediates\\v2\\virabhadrasana_ii_70.jpg\n",
      "Saved to A:\\Projects\\CollegeProjects\\YogaPartner\\intermediates\\v2\\virabhadrasana_ii_239.jpg\n"
     ]
    },
    {
     "name": "stderr",
     "output_type": "stream",
     "text": [
      "645it [01:56,  6.73it/s]"
     ]
    },
    {
     "name": "stdout",
     "output_type": "stream",
     "text": [
      "Saved to A:\\Projects\\CollegeProjects\\YogaPartner\\intermediates\\v2\\virabhadrasana_ii_153.jpg\n",
      "Saved to A:\\Projects\\CollegeProjects\\YogaPartner\\intermediates\\v2\\virabhadrasana_ii_158.jpg\n"
     ]
    },
    {
     "name": "stderr",
     "output_type": "stream",
     "text": [
      "647it [01:56,  6.26it/s]"
     ]
    },
    {
     "name": "stdout",
     "output_type": "stream",
     "text": [
      "Saved to A:\\Projects\\CollegeProjects\\YogaPartner\\intermediates\\v2\\virabhadrasana_ii_218.jpg\n",
      "Saved to A:\\Projects\\CollegeProjects\\YogaPartner\\intermediates\\v2\\virabhadrasana_ii_66.jpg\n"
     ]
    },
    {
     "name": "stderr",
     "output_type": "stream",
     "text": [
      "649it [01:57,  5.95it/s]"
     ]
    },
    {
     "name": "stdout",
     "output_type": "stream",
     "text": [
      "Saved to A:\\Projects\\CollegeProjects\\YogaPartner\\intermediates\\v2\\virabhadrasana_ii_379.jpg\n",
      "Saved to A:\\Projects\\CollegeProjects\\YogaPartner\\intermediates\\v2\\virabhadrasana_ii_222.jpg\n"
     ]
    },
    {
     "name": "stderr",
     "output_type": "stream",
     "text": [
      "651it [01:57,  6.49it/s]"
     ]
    },
    {
     "name": "stdout",
     "output_type": "stream",
     "text": [
      "Saved to A:\\Projects\\CollegeProjects\\YogaPartner\\intermediates\\v2\\virabhadrasana_ii_227.jpg\n",
      "Saved to A:\\Projects\\CollegeProjects\\YogaPartner\\intermediates\\v2\\virabhadrasana_ii_94.jpg\n"
     ]
    },
    {
     "name": "stderr",
     "output_type": "stream",
     "text": [
      "653it [01:57,  6.58it/s]"
     ]
    },
    {
     "name": "stdout",
     "output_type": "stream",
     "text": [
      "Saved to A:\\Projects\\CollegeProjects\\YogaPartner\\intermediates\\v2\\virabhadrasana_ii_372.jpg\n",
      "Saved to A:\\Projects\\CollegeProjects\\YogaPartner\\intermediates\\v2\\virabhadrasana_ii_363.jpg\n"
     ]
    },
    {
     "name": "stderr",
     "output_type": "stream",
     "text": [
      "655it [01:58,  6.37it/s]"
     ]
    },
    {
     "name": "stdout",
     "output_type": "stream",
     "text": [
      "Saved to A:\\Projects\\CollegeProjects\\YogaPartner\\intermediates\\v2\\virabhadrasana_ii_176.jpg\n",
      "Saved to A:\\Projects\\CollegeProjects\\YogaPartner\\intermediates\\v2\\virabhadrasana_ii_386.jpg\n"
     ]
    },
    {
     "name": "stderr",
     "output_type": "stream",
     "text": [
      "657it [01:58,  6.60it/s]"
     ]
    },
    {
     "name": "stdout",
     "output_type": "stream",
     "text": [
      "Saved to A:\\Projects\\CollegeProjects\\YogaPartner\\intermediates\\v2\\virabhadrasana_ii_276.jpg\n",
      "Saved to A:\\Projects\\CollegeProjects\\YogaPartner\\intermediates\\v2\\virabhadrasana_ii_113.jpg\n"
     ]
    },
    {
     "name": "stderr",
     "output_type": "stream",
     "text": [
      "\r",
      "658it [01:58,  6.61it/s]"
     ]
    },
    {
     "name": "stdout",
     "output_type": "stream",
     "text": [
      "Saved to A:\\Projects\\CollegeProjects\\YogaPartner\\intermediates\\v2\\virabhadrasana_ii_180.jpg\n"
     ]
    },
    {
     "name": "stderr",
     "output_type": "stream",
     "text": [
      "660it [01:59,  5.15it/s]"
     ]
    },
    {
     "name": "stdout",
     "output_type": "stream",
     "text": [
      "Saved to A:\\Projects\\CollegeProjects\\YogaPartner\\intermediates\\v2\\virabhadrasana_ii_127.jpg\n",
      "Saved to A:\\Projects\\CollegeProjects\\YogaPartner\\intermediates\\v2\\virabhadrasana_ii_154.jpg\n"
     ]
    },
    {
     "name": "stderr",
     "output_type": "stream",
     "text": [
      "\r",
      "661it [01:59,  5.16it/s]"
     ]
    },
    {
     "name": "stdout",
     "output_type": "stream",
     "text": [
      "Saved to A:\\Projects\\CollegeProjects\\YogaPartner\\intermediates\\v2\\virabhadrasana_ii_233.jpg\n",
      "Saved to A:\\Projects\\CollegeProjects\\YogaPartner\\intermediates\\v2\\virabhadrasana_ii_269.jpg\n"
     ]
    },
    {
     "name": "stderr",
     "output_type": "stream",
     "text": [
      "664it [01:59,  6.52it/s]"
     ]
    },
    {
     "name": "stdout",
     "output_type": "stream",
     "text": [
      "Saved to A:\\Projects\\CollegeProjects\\YogaPartner\\intermediates\\v2\\virabhadrasana_ii_268.jpg\n",
      "Saved to A:\\Projects\\CollegeProjects\\YogaPartner\\intermediates\\v2\\virabhadrasana_ii_251.jpg\n"
     ]
    },
    {
     "name": "stderr",
     "output_type": "stream",
     "text": [
      "666it [01:59,  7.17it/s]"
     ]
    },
    {
     "name": "stdout",
     "output_type": "stream",
     "text": [
      "Saved to A:\\Projects\\CollegeProjects\\YogaPartner\\intermediates\\v2\\virabhadrasana_ii_6.jpg\n",
      "Saved to A:\\Projects\\CollegeProjects\\YogaPartner\\intermediates\\v2\\virabhadrasana_ii_125.jpg\n"
     ]
    },
    {
     "name": "stderr",
     "output_type": "stream",
     "text": [
      "\r",
      "667it [02:00,  7.50it/s]"
     ]
    },
    {
     "name": "stdout",
     "output_type": "stream",
     "text": [
      "Saved to A:\\Projects\\CollegeProjects\\YogaPartner\\intermediates\\v2\\virabhadrasana_ii_195.jpg\n"
     ]
    },
    {
     "name": "stderr",
     "output_type": "stream",
     "text": [
      "669it [02:00,  6.49it/s]"
     ]
    },
    {
     "name": "stdout",
     "output_type": "stream",
     "text": [
      "Saved to A:\\Projects\\CollegeProjects\\YogaPartner\\intermediates\\v2\\virabhadrasana_ii_389.jpg\n",
      "Saved to A:\\Projects\\CollegeProjects\\YogaPartner\\intermediates\\v2\\virabhadrasana_ii_206.jpg\n"
     ]
    },
    {
     "name": "stderr",
     "output_type": "stream",
     "text": [
      "671it [02:00,  6.02it/s]"
     ]
    },
    {
     "name": "stdout",
     "output_type": "stream",
     "text": [
      "Saved to A:\\Projects\\CollegeProjects\\YogaPartner\\intermediates\\v2\\virabhadrasana_ii_220.jpg\n",
      "Saved to A:\\Projects\\CollegeProjects\\YogaPartner\\intermediates\\v2\\virabhadrasana_ii_293.jpg\n"
     ]
    },
    {
     "name": "stderr",
     "output_type": "stream",
     "text": [
      "673it [02:01,  6.12it/s]"
     ]
    },
    {
     "name": "stdout",
     "output_type": "stream",
     "text": [
      "Saved to A:\\Projects\\CollegeProjects\\YogaPartner\\intermediates\\v2\\virabhadrasana_ii_358.jpg\n",
      "Saved to A:\\Projects\\CollegeProjects\\YogaPartner\\intermediates\\v2\\virabhadrasana_ii_364.jpg\n"
     ]
    },
    {
     "name": "stderr",
     "output_type": "stream",
     "text": [
      "675it [02:01,  6.57it/s]"
     ]
    },
    {
     "name": "stdout",
     "output_type": "stream",
     "text": [
      "Saved to A:\\Projects\\CollegeProjects\\YogaPartner\\intermediates\\v2\\virabhadrasana_ii_21.jpg\n",
      "Saved to A:\\Projects\\CollegeProjects\\YogaPartner\\intermediates\\v2\\virabhadrasana_ii_333.jpg\n"
     ]
    },
    {
     "name": "stderr",
     "output_type": "stream",
     "text": [
      "677it [02:01,  7.07it/s]"
     ]
    },
    {
     "name": "stdout",
     "output_type": "stream",
     "text": [
      "Saved to A:\\Projects\\CollegeProjects\\YogaPartner\\intermediates\\v2\\virabhadrasana_ii_296.jpg\n",
      "Saved to A:\\Projects\\CollegeProjects\\YogaPartner\\intermediates\\v2\\virabhadrasana_ii_183.jpg\n"
     ]
    },
    {
     "name": "stderr",
     "output_type": "stream",
     "text": [
      "680it [02:01,  8.33it/s]"
     ]
    },
    {
     "name": "stdout",
     "output_type": "stream",
     "text": [
      "Saved to A:\\Projects\\CollegeProjects\\YogaPartner\\intermediates\\v2\\virabhadrasana_ii_50.jpg\n",
      "Saved to A:\\Projects\\CollegeProjects\\YogaPartner\\intermediates\\v2\\virabhadrasana_ii_266.jpg\n",
      "Saved to A:\\Projects\\CollegeProjects\\YogaPartner\\intermediates\\v2\\virabhadrasana_ii_147.jpg\n"
     ]
    },
    {
     "name": "stderr",
     "output_type": "stream",
     "text": [
      "682it [02:02,  8.22it/s]"
     ]
    },
    {
     "name": "stdout",
     "output_type": "stream",
     "text": [
      "Saved to A:\\Projects\\CollegeProjects\\YogaPartner\\intermediates\\v2\\virabhadrasana_ii_288.jpg\n",
      "Saved to A:\\Projects\\CollegeProjects\\YogaPartner\\intermediates\\v2\\virabhadrasana_ii_155.jpg\n"
     ]
    },
    {
     "name": "stderr",
     "output_type": "stream",
     "text": [
      "684it [02:02,  4.53it/s]"
     ]
    },
    {
     "name": "stdout",
     "output_type": "stream",
     "text": [
      "Saved to A:\\Projects\\CollegeProjects\\YogaPartner\\intermediates\\v2\\virabhadrasana_ii_124.jpg\n",
      "Saved to A:\\Projects\\CollegeProjects\\YogaPartner\\intermediates\\v2\\virabhadrasana_ii_45.jpg\n"
     ]
    },
    {
     "name": "stderr",
     "output_type": "stream",
     "text": [
      "686it [02:03,  5.05it/s]"
     ]
    },
    {
     "name": "stdout",
     "output_type": "stream",
     "text": [
      "Saved to A:\\Projects\\CollegeProjects\\YogaPartner\\intermediates\\v2\\virabhadrasana_ii_324.jpg\n",
      "Saved to A:\\Projects\\CollegeProjects\\YogaPartner\\intermediates\\v2\\virabhadrasana_ii_37.jpg\n"
     ]
    },
    {
     "name": "stderr",
     "output_type": "stream",
     "text": [
      "\r",
      "687it [02:03,  5.36it/s]"
     ]
    },
    {
     "name": "stdout",
     "output_type": "stream",
     "text": [
      "Saved to A:\\Projects\\CollegeProjects\\YogaPartner\\intermediates\\v2\\virabhadrasana_ii_57.jpg\n"
     ]
    },
    {
     "name": "stderr",
     "output_type": "stream",
     "text": [
      "689it [02:03,  4.99it/s]"
     ]
    },
    {
     "name": "stdout",
     "output_type": "stream",
     "text": [
      "Saved to A:\\Projects\\CollegeProjects\\YogaPartner\\intermediates\\v2\\virabhadrasana_ii_212.jpg\n",
      "Saved to A:\\Projects\\CollegeProjects\\YogaPartner\\intermediates\\v2\\virabhadrasana_ii_123.jpg\n"
     ]
    },
    {
     "name": "stderr",
     "output_type": "stream",
     "text": [
      "691it [02:04,  6.11it/s]"
     ]
    },
    {
     "name": "stdout",
     "output_type": "stream",
     "text": [
      "Saved to A:\\Projects\\CollegeProjects\\YogaPartner\\intermediates\\v2\\virabhadrasana_ii_115.jpg\n",
      "Saved to A:\\Projects\\CollegeProjects\\YogaPartner\\intermediates\\v2\\virabhadrasana_ii_344.jpg\n",
      "Saved to A:\\Projects\\CollegeProjects\\YogaPartner\\intermediates\\v2\\virabhadrasana_ii_47.jpg\n"
     ]
    },
    {
     "name": "stderr",
     "output_type": "stream",
     "text": [
      "694it [02:04,  6.47it/s]"
     ]
    },
    {
     "name": "stdout",
     "output_type": "stream",
     "text": [
      "Saved to A:\\Projects\\CollegeProjects\\YogaPartner\\intermediates\\v2\\virabhadrasana_ii_134.jpg\n",
      "Saved to A:\\Projects\\CollegeProjects\\YogaPartner\\intermediates\\v2\\virabhadrasana_ii_294.jpg\n"
     ]
    },
    {
     "name": "stderr",
     "output_type": "stream",
     "text": [
      "696it [02:04,  6.47it/s]"
     ]
    },
    {
     "name": "stdout",
     "output_type": "stream",
     "text": [
      "Saved to A:\\Projects\\CollegeProjects\\YogaPartner\\intermediates\\v2\\virabhadrasana_ii_278.jpg\n",
      "Saved to A:\\Projects\\CollegeProjects\\YogaPartner\\intermediates\\v2\\virabhadrasana_ii_85.jpg\n"
     ]
    },
    {
     "name": "stderr",
     "output_type": "stream",
     "text": [
      "698it [02:05,  7.13it/s]"
     ]
    },
    {
     "name": "stdout",
     "output_type": "stream",
     "text": [
      "Saved to A:\\Projects\\CollegeProjects\\YogaPartner\\intermediates\\v2\\virabhadrasana_ii_383.jpg\n",
      "Saved to A:\\Projects\\CollegeProjects\\YogaPartner\\intermediates\\v2\\virabhadrasana_ii_169.jpg\n"
     ]
    },
    {
     "name": "stderr",
     "output_type": "stream",
     "text": [
      "\r",
      "699it [02:05,  7.35it/s]"
     ]
    },
    {
     "name": "stdout",
     "output_type": "stream",
     "text": [
      "Saved to A:\\Projects\\CollegeProjects\\YogaPartner\\intermediates\\v2\\virabhadrasana_ii_350.jpg\n",
      "Saved to A:\\Projects\\CollegeProjects\\YogaPartner\\intermediates\\v2\\virabhadrasana_ii_282.jpg\n"
     ]
    },
    {
     "name": "stderr",
     "output_type": "stream",
     "text": [
      "\r",
      "701it [02:05,  7.62it/s]"
     ]
    },
    {
     "name": "stdout",
     "output_type": "stream",
     "text": [
      "Saved to A:\\Projects\\CollegeProjects\\YogaPartner\\intermediates\\v2\\virabhadrasana_ii_316.jpg\n",
      "Saved to A:\\Projects\\CollegeProjects\\YogaPartner\\intermediates\\v2\\virabhadrasana_ii_174.jpg\n"
     ]
    },
    {
     "name": "stderr",
     "output_type": "stream",
     "text": [
      "704it [02:06,  6.93it/s]"
     ]
    },
    {
     "name": "stdout",
     "output_type": "stream",
     "text": [
      "Saved to A:\\Projects\\CollegeProjects\\YogaPartner\\intermediates\\v2\\virabhadrasana_ii_100.jpg\n",
      "Saved to A:\\Projects\\CollegeProjects\\YogaPartner\\intermediates\\v2\\virabhadrasana_ii_18.jpg\n"
     ]
    },
    {
     "name": "stderr",
     "output_type": "stream",
     "text": [
      "\r",
      "705it [02:06,  6.71it/s]"
     ]
    },
    {
     "name": "stdout",
     "output_type": "stream",
     "text": [
      "Saved to A:\\Projects\\CollegeProjects\\YogaPartner\\intermediates\\v2\\virabhadrasana_ii_321.jpg\n",
      "Saved to A:\\Projects\\CollegeProjects\\YogaPartner\\intermediates\\v2\\virabhadrasana_ii_362.jpg\n"
     ]
    },
    {
     "name": "stderr",
     "output_type": "stream",
     "text": [
      "\r",
      "707it [02:06,  7.31it/s]"
     ]
    },
    {
     "name": "stdout",
     "output_type": "stream",
     "text": [
      "Saved to A:\\Projects\\CollegeProjects\\YogaPartner\\intermediates\\v2\\virabhadrasana_ii_20.jpg\n"
     ]
    },
    {
     "name": "stderr",
     "output_type": "stream",
     "text": [
      "709it [02:06,  6.26it/s]"
     ]
    },
    {
     "name": "stdout",
     "output_type": "stream",
     "text": [
      "Saved to A:\\Projects\\CollegeProjects\\YogaPartner\\intermediates\\v2\\virabhadrasana_ii_236.jpg\n",
      "Saved to A:\\Projects\\CollegeProjects\\YogaPartner\\intermediates\\v2\\virabhadrasana_ii_40.jpg\n"
     ]
    },
    {
     "name": "stderr",
     "output_type": "stream",
     "text": [
      "711it [02:07,  6.67it/s]"
     ]
    },
    {
     "name": "stdout",
     "output_type": "stream",
     "text": [
      "Saved to A:\\Projects\\CollegeProjects\\YogaPartner\\intermediates\\v2\\virabhadrasana_ii_64.jpg\n",
      "Saved to A:\\Projects\\CollegeProjects\\YogaPartner\\intermediates\\v2\\virabhadrasana_ii_249.jpg\n"
     ]
    },
    {
     "name": "stderr",
     "output_type": "stream",
     "text": [
      "713it [02:07,  6.42it/s]"
     ]
    },
    {
     "name": "stdout",
     "output_type": "stream",
     "text": [
      "Saved to A:\\Projects\\CollegeProjects\\YogaPartner\\intermediates\\v2\\virabhadrasana_ii_361.jpg\n",
      "Saved to A:\\Projects\\CollegeProjects\\YogaPartner\\intermediates\\v2\\virabhadrasana_ii_181.jpg\n"
     ]
    },
    {
     "name": "stderr",
     "output_type": "stream",
     "text": [
      "\r",
      "714it [02:07,  6.69it/s]"
     ]
    },
    {
     "name": "stdout",
     "output_type": "stream",
     "text": [
      "Saved to A:\\Projects\\CollegeProjects\\YogaPartner\\intermediates\\v2\\virabhadrasana_ii_281.jpg\n"
     ]
    },
    {
     "name": "stderr",
     "output_type": "stream",
     "text": [
      "716it [02:07,  6.08it/s]"
     ]
    },
    {
     "name": "stdout",
     "output_type": "stream",
     "text": [
      "Saved to A:\\Projects\\CollegeProjects\\YogaPartner\\intermediates\\v2\\virabhadrasana_ii_36.jpg\n",
      "Saved to A:\\Projects\\CollegeProjects\\YogaPartner\\intermediates\\v2\\virabhadrasana_ii_272.jpg\n"
     ]
    },
    {
     "name": "stderr",
     "output_type": "stream",
     "text": [
      "\r",
      "717it [02:08,  5.86it/s]"
     ]
    },
    {
     "name": "stdout",
     "output_type": "stream",
     "text": [
      "Saved to A:\\Projects\\CollegeProjects\\YogaPartner\\intermediates\\v2\\virabhadrasana_ii_32.jpg\n"
     ]
    },
    {
     "name": "stderr",
     "output_type": "stream",
     "text": [
      "719it [02:08,  5.62it/s]"
     ]
    },
    {
     "name": "stdout",
     "output_type": "stream",
     "text": [
      "Saved to A:\\Projects\\CollegeProjects\\YogaPartner\\intermediates\\v2\\virabhadrasana_ii_90.jpg\n",
      "Saved to A:\\Projects\\CollegeProjects\\YogaPartner\\intermediates\\v2\\virabhadrasana_ii_371.jpg\n"
     ]
    },
    {
     "name": "stderr",
     "output_type": "stream",
     "text": [
      "\r",
      "720it [02:08,  5.59it/s]"
     ]
    },
    {
     "name": "stdout",
     "output_type": "stream",
     "text": [
      "Saved to A:\\Projects\\CollegeProjects\\YogaPartner\\intermediates\\v2\\virabhadrasana_ii_73.jpg\n",
      "Saved to A:\\Projects\\CollegeProjects\\YogaPartner\\intermediates\\v2\\virabhadrasana_ii_320.jpg\n"
     ]
    },
    {
     "name": "stderr",
     "output_type": "stream",
     "text": [
      "723it [02:09,  7.28it/s]"
     ]
    },
    {
     "name": "stdout",
     "output_type": "stream",
     "text": [
      "Saved to A:\\Projects\\CollegeProjects\\YogaPartner\\intermediates\\v2\\virabhadrasana_ii_98.jpg\n",
      "Saved to A:\\Projects\\CollegeProjects\\YogaPartner\\intermediates\\v2\\virabhadrasana_ii_43.jpg\n"
     ]
    },
    {
     "name": "stderr",
     "output_type": "stream",
     "text": [
      "725it [02:09,  7.99it/s]"
     ]
    },
    {
     "name": "stdout",
     "output_type": "stream",
     "text": [
      "Saved to A:\\Projects\\CollegeProjects\\YogaPartner\\intermediates\\v2\\virabhadrasana_ii_355.jpg\n",
      "Saved to A:\\Projects\\CollegeProjects\\YogaPartner\\intermediates\\v2\\virabhadrasana_ii_52.jpg\n"
     ]
    },
    {
     "name": "stderr",
     "output_type": "stream",
     "text": [
      "727it [02:09,  7.77it/s]"
     ]
    },
    {
     "name": "stdout",
     "output_type": "stream",
     "text": [
      "Saved to A:\\Projects\\CollegeProjects\\YogaPartner\\intermediates\\v2\\virabhadrasana_ii_137.jpg\n",
      "Saved to A:\\Projects\\CollegeProjects\\YogaPartner\\intermediates\\v2\\virabhadrasana_ii_63.jpg\n"
     ]
    },
    {
     "name": "stderr",
     "output_type": "stream",
     "text": [
      "\r",
      "728it [02:09,  6.53it/s]"
     ]
    },
    {
     "name": "stdout",
     "output_type": "stream",
     "text": [
      "Saved to A:\\Projects\\CollegeProjects\\YogaPartner\\intermediates\\v2\\virabhadrasana_ii_273.jpg\n",
      "Saved to A:\\Projects\\CollegeProjects\\YogaPartner\\intermediates\\v2\\virabhadrasana_ii_252.jpg\n"
     ]
    },
    {
     "name": "stderr",
     "output_type": "stream",
     "text": [
      "\r",
      "730it [02:10,  6.20it/s]"
     ]
    },
    {
     "name": "stdout",
     "output_type": "stream",
     "text": [
      "Saved to A:\\Projects\\CollegeProjects\\YogaPartner\\intermediates\\v2\\virabhadrasana_ii_194.jpg\n",
      "Saved to A:\\Projects\\CollegeProjects\\YogaPartner\\intermediates\\v2\\virabhadrasana_ii_261.jpg\n"
     ]
    },
    {
     "name": "stderr",
     "output_type": "stream",
     "text": [
      "733it [02:10,  5.88it/s]"
     ]
    },
    {
     "name": "stdout",
     "output_type": "stream",
     "text": [
      "Saved to A:\\Projects\\CollegeProjects\\YogaPartner\\intermediates\\v2\\virabhadrasana_ii_17.jpg\n",
      "Saved to A:\\Projects\\CollegeProjects\\YogaPartner\\intermediates\\v2\\virabhadrasana_ii_285.jpg\n"
     ]
    },
    {
     "name": "stderr",
     "output_type": "stream",
     "text": [
      "735it [02:10,  5.97it/s]"
     ]
    },
    {
     "name": "stdout",
     "output_type": "stream",
     "text": [
      "Saved to A:\\Projects\\CollegeProjects\\YogaPartner\\intermediates\\v2\\virabhadrasana_ii_317.jpg\n",
      "Saved to A:\\Projects\\CollegeProjects\\YogaPartner\\intermediates\\v2\\virabhadrasana_ii_229.jpg\n"
     ]
    },
    {
     "name": "stderr",
     "output_type": "stream",
     "text": [
      "737it [02:11,  6.28it/s]"
     ]
    },
    {
     "name": "stdout",
     "output_type": "stream",
     "text": [
      "Saved to A:\\Projects\\CollegeProjects\\YogaPartner\\intermediates\\v2\\virabhadrasana_ii_315.jpg\n",
      "Saved to A:\\Projects\\CollegeProjects\\YogaPartner\\intermediates\\v2\\virabhadrasana_ii_254.jpg\n"
     ]
    },
    {
     "name": "stderr",
     "output_type": "stream",
     "text": [
      "739it [02:11,  5.92it/s]"
     ]
    },
    {
     "name": "stdout",
     "output_type": "stream",
     "text": [
      "Saved to A:\\Projects\\CollegeProjects\\YogaPartner\\intermediates\\v2\\virabhadrasana_ii_300.jpg\n",
      "Saved to A:\\Projects\\CollegeProjects\\YogaPartner\\intermediates\\v2\\virabhadrasana_ii_213.jpg\n"
     ]
    },
    {
     "name": "stderr",
     "output_type": "stream",
     "text": [
      "741it [02:11,  6.25it/s]"
     ]
    },
    {
     "name": "stdout",
     "output_type": "stream",
     "text": [
      "Saved to A:\\Projects\\CollegeProjects\\YogaPartner\\intermediates\\v2\\virabhadrasana_ii_264.jpg\n",
      "Saved to A:\\Projects\\CollegeProjects\\YogaPartner\\intermediates\\v2\\virabhadrasana_ii_241.jpg\n"
     ]
    },
    {
     "name": "stderr",
     "output_type": "stream",
     "text": [
      "743it [02:12,  6.34it/s]"
     ]
    },
    {
     "name": "stdout",
     "output_type": "stream",
     "text": [
      "Saved to A:\\Projects\\CollegeProjects\\YogaPartner\\intermediates\\v2\\virabhadrasana_ii_347.jpg\n",
      "Saved to A:\\Projects\\CollegeProjects\\YogaPartner\\intermediates\\v2\\virabhadrasana_ii_345.jpg\n"
     ]
    },
    {
     "name": "stderr",
     "output_type": "stream",
     "text": [
      "745it [02:12,  6.11it/s]"
     ]
    },
    {
     "name": "stdout",
     "output_type": "stream",
     "text": [
      "Saved to A:\\Projects\\CollegeProjects\\YogaPartner\\intermediates\\v2\\virabhadrasana_ii_356.jpg\n",
      "Saved to A:\\Projects\\CollegeProjects\\YogaPartner\\intermediates\\v2\\virabhadrasana_ii_51.jpg\n"
     ]
    },
    {
     "name": "stderr",
     "output_type": "stream",
     "text": [
      "747it [02:12,  6.95it/s]"
     ]
    },
    {
     "name": "stdout",
     "output_type": "stream",
     "text": [
      "Saved to A:\\Projects\\CollegeProjects\\YogaPartner\\intermediates\\v2\\virabhadrasana_ii_22.jpg\n",
      "Saved to A:\\Projects\\CollegeProjects\\YogaPartner\\intermediates\\v2\\virabhadrasana_ii_81.jpg\n"
     ]
    },
    {
     "name": "stderr",
     "output_type": "stream",
     "text": [
      "749it [02:13,  6.23it/s]"
     ]
    },
    {
     "name": "stdout",
     "output_type": "stream",
     "text": [
      "Saved to A:\\Projects\\CollegeProjects\\YogaPartner\\intermediates\\v2\\virabhadrasana_ii_104.jpg\n",
      "Saved to A:\\Projects\\CollegeProjects\\YogaPartner\\intermediates\\v2\\virabhadrasana_ii_96.jpg\n"
     ]
    },
    {
     "name": "stderr",
     "output_type": "stream",
     "text": [
      "751it [02:13,  5.92it/s]"
     ]
    },
    {
     "name": "stdout",
     "output_type": "stream",
     "text": [
      "Saved to A:\\Projects\\CollegeProjects\\YogaPartner\\intermediates\\v2\\virabhadrasana_ii_217.jpg\n",
      "Saved to A:\\Projects\\CollegeProjects\\YogaPartner\\intermediates\\v2\\virabhadrasana_ii_177.jpg\n"
     ]
    },
    {
     "name": "stderr",
     "output_type": "stream",
     "text": [
      "753it [02:13,  5.55it/s]"
     ]
    },
    {
     "name": "stdout",
     "output_type": "stream",
     "text": [
      "Saved to A:\\Projects\\CollegeProjects\\YogaPartner\\intermediates\\v2\\virabhadrasana_ii_5.jpg\n",
      "Saved to A:\\Projects\\CollegeProjects\\YogaPartner\\intermediates\\v2\\virabhadrasana_ii_41.jpg\n"
     ]
    },
    {
     "name": "stderr",
     "output_type": "stream",
     "text": [
      "755it [02:14,  6.42it/s]"
     ]
    },
    {
     "name": "stdout",
     "output_type": "stream",
     "text": [
      "Saved to A:\\Projects\\CollegeProjects\\YogaPartner\\intermediates\\v2\\virabhadrasana_ii_149.jpg\n",
      "Saved to A:\\Projects\\CollegeProjects\\YogaPartner\\intermediates\\v2\\virabhadrasana_ii_271.jpg\n"
     ]
    },
    {
     "name": "stderr",
     "output_type": "stream",
     "text": [
      "757it [02:14,  6.51it/s]"
     ]
    },
    {
     "name": "stdout",
     "output_type": "stream",
     "text": [
      "Saved to A:\\Projects\\CollegeProjects\\YogaPartner\\intermediates\\v2\\virabhadrasana_ii_307.jpg\n",
      "Saved to A:\\Projects\\CollegeProjects\\YogaPartner\\intermediates\\v2\\virabhadrasana_ii_341.jpg\n"
     ]
    },
    {
     "name": "stderr",
     "output_type": "stream",
     "text": [
      "759it [02:14,  6.80it/s]"
     ]
    },
    {
     "name": "stdout",
     "output_type": "stream",
     "text": [
      "Saved to A:\\Projects\\CollegeProjects\\YogaPartner\\intermediates\\v2\\virabhadrasana_ii_385.jpg\n",
      "Saved to A:\\Projects\\CollegeProjects\\YogaPartner\\intermediates\\v2\\virabhadrasana_ii_14.jpg\n"
     ]
    },
    {
     "name": "stderr",
     "output_type": "stream",
     "text": [
      "\r",
      "760it [02:14,  7.16it/s]"
     ]
    },
    {
     "name": "stdout",
     "output_type": "stream",
     "text": [
      "Saved to A:\\Projects\\CollegeProjects\\YogaPartner\\intermediates\\v2\\virabhadrasana_ii_42.jpg\n"
     ]
    },
    {
     "name": "stderr",
     "output_type": "stream",
     "text": [
      "762it [02:17,  1.77it/s]"
     ]
    },
    {
     "name": "stdout",
     "output_type": "stream",
     "text": [
      "Saved to A:\\Projects\\CollegeProjects\\YogaPartner\\intermediates\\v2\\virabhadrasana_ii_170.jpg\n",
      "Saved to A:\\Projects\\CollegeProjects\\YogaPartner\\intermediates\\v2\\virabhadrasana_ii_165.jpg\n"
     ]
    },
    {
     "name": "stderr",
     "output_type": "stream",
     "text": [
      "764it [02:17,  2.88it/s]"
     ]
    },
    {
     "name": "stdout",
     "output_type": "stream",
     "text": [
      "Saved to A:\\Projects\\CollegeProjects\\YogaPartner\\intermediates\\v2\\virabhadrasana_ii_201.jpg\n",
      "Saved to A:\\Projects\\CollegeProjects\\YogaPartner\\intermediates\\v2\\virabhadrasana_ii_340.jpg\n"
     ]
    },
    {
     "name": "stderr",
     "output_type": "stream",
     "text": [
      "766it [02:17,  4.09it/s]"
     ]
    },
    {
     "name": "stdout",
     "output_type": "stream",
     "text": [
      "Saved to A:\\Projects\\CollegeProjects\\YogaPartner\\intermediates\\v2\\virabhadrasana_ii_19.jpg\n",
      "Saved to A:\\Projects\\CollegeProjects\\YogaPartner\\intermediates\\v2\\virabhadrasana_ii_59.jpg\n"
     ]
    },
    {
     "name": "stderr",
     "output_type": "stream",
     "text": [
      "768it [02:17,  5.45it/s]"
     ]
    },
    {
     "name": "stdout",
     "output_type": "stream",
     "text": [
      "Saved to A:\\Projects\\CollegeProjects\\YogaPartner\\intermediates\\v2\\virabhadrasana_ii_28.jpg\n",
      "Saved to A:\\Projects\\CollegeProjects\\YogaPartner\\intermediates\\v2\\virabhadrasana_ii_203.jpg\n"
     ]
    },
    {
     "name": "stderr",
     "output_type": "stream",
     "text": [
      "770it [02:18,  6.25it/s]"
     ]
    },
    {
     "name": "stdout",
     "output_type": "stream",
     "text": [
      "Saved to A:\\Projects\\CollegeProjects\\YogaPartner\\intermediates\\v2\\virabhadrasana_ii_67.jpg\n",
      "Saved to A:\\Projects\\CollegeProjects\\YogaPartner\\intermediates\\v2\\virabhadrasana_ii_16.jpg\n"
     ]
    },
    {
     "name": "stderr",
     "output_type": "stream",
     "text": [
      "\r",
      "771it [02:18,  6.09it/s]"
     ]
    },
    {
     "name": "stdout",
     "output_type": "stream",
     "text": [
      "Saved to A:\\Projects\\CollegeProjects\\YogaPartner\\intermediates\\v2\\virabhadrasana_ii_146.jpg\n"
     ]
    },
    {
     "name": "stderr",
     "output_type": "stream",
     "text": [
      "773it [02:18,  5.67it/s]"
     ]
    },
    {
     "name": "stdout",
     "output_type": "stream",
     "text": [
      "Saved to A:\\Projects\\CollegeProjects\\YogaPartner\\intermediates\\v2\\virabhadrasana_ii_349.jpg\n",
      "Saved to A:\\Projects\\CollegeProjects\\YogaPartner\\intermediates\\v2\\virabhadrasana_ii_116.jpg\n"
     ]
    },
    {
     "name": "stderr",
     "output_type": "stream",
     "text": [
      "775it [02:19,  5.70it/s]"
     ]
    },
    {
     "name": "stdout",
     "output_type": "stream",
     "text": [
      "Saved to A:\\Projects\\CollegeProjects\\YogaPartner\\intermediates\\v2\\virabhadrasana_ii_310.jpg\n",
      "Saved to A:\\Projects\\CollegeProjects\\YogaPartner\\intermediates\\v2\\virabhadrasana_ii_323.jpg\n"
     ]
    },
    {
     "name": "stderr",
     "output_type": "stream",
     "text": [
      "777it [02:19,  5.87it/s]"
     ]
    },
    {
     "name": "stdout",
     "output_type": "stream",
     "text": [
      "Saved to A:\\Projects\\CollegeProjects\\YogaPartner\\intermediates\\v2\\virabhadrasana_ii_25.jpg\n",
      "Saved to A:\\Projects\\CollegeProjects\\YogaPartner\\intermediates\\v2\\virabhadrasana_ii_103.jpg\n"
     ]
    },
    {
     "name": "stderr",
     "output_type": "stream",
     "text": [
      "779it [02:19,  5.55it/s]"
     ]
    },
    {
     "name": "stdout",
     "output_type": "stream",
     "text": [
      "Saved to A:\\Projects\\CollegeProjects\\YogaPartner\\intermediates\\v2\\virabhadrasana_ii_75.jpg\n",
      "Saved to A:\\Projects\\CollegeProjects\\YogaPartner\\intermediates\\v2\\virabhadrasana_ii_199.jpg\n"
     ]
    },
    {
     "name": "stderr",
     "output_type": "stream",
     "text": [
      "781it [02:20,  6.03it/s]"
     ]
    },
    {
     "name": "stdout",
     "output_type": "stream",
     "text": [
      "Saved to A:\\Projects\\CollegeProjects\\YogaPartner\\intermediates\\v2\\virabhadrasana_ii_270.jpg\n",
      "Saved to A:\\Projects\\CollegeProjects\\YogaPartner\\intermediates\\v2\\virabhadrasana_ii_69.jpg\n"
     ]
    },
    {
     "name": "stderr",
     "output_type": "stream",
     "text": [
      "783it [02:20,  6.75it/s]"
     ]
    },
    {
     "name": "stdout",
     "output_type": "stream",
     "text": [
      "Saved to A:\\Projects\\CollegeProjects\\YogaPartner\\intermediates\\v2\\virabhadrasana_ii_332.jpg\n",
      "Saved to A:\\Projects\\CollegeProjects\\YogaPartner\\intermediates\\v2\\virabhadrasana_ii_133.jpg\n"
     ]
    },
    {
     "name": "stderr",
     "output_type": "stream",
     "text": [
      "785it [02:20,  7.08it/s]"
     ]
    },
    {
     "name": "stdout",
     "output_type": "stream",
     "text": [
      "Saved to A:\\Projects\\CollegeProjects\\YogaPartner\\intermediates\\v2\\virabhadrasana_ii_305.jpg\n",
      "Saved to A:\\Projects\\CollegeProjects\\YogaPartner\\intermediates\\v2\\virabhadrasana_ii_295.jpg\n"
     ]
    },
    {
     "name": "stderr",
     "output_type": "stream",
     "text": [
      "\r",
      "786it [02:20,  7.36it/s]"
     ]
    },
    {
     "name": "stdout",
     "output_type": "stream",
     "text": [
      "Saved to A:\\Projects\\CollegeProjects\\YogaPartner\\intermediates\\v2\\virabhadrasana_ii_230.jpg\n"
     ]
    },
    {
     "name": "stderr",
     "output_type": "stream",
     "text": [
      "788it [02:21,  6.11it/s]"
     ]
    },
    {
     "name": "stdout",
     "output_type": "stream",
     "text": [
      "Saved to A:\\Projects\\CollegeProjects\\YogaPartner\\intermediates\\v2\\virabhadrasana_ii_308.jpg\n",
      "Saved to A:\\Projects\\CollegeProjects\\YogaPartner\\intermediates\\v2\\virabhadrasana_ii_117.jpg\n"
     ]
    },
    {
     "name": "stderr",
     "output_type": "stream",
     "text": [
      "\r",
      "789it [02:21,  6.28it/s]"
     ]
    },
    {
     "name": "stdout",
     "output_type": "stream",
     "text": [
      "Saved to A:\\Projects\\CollegeProjects\\YogaPartner\\intermediates\\v2\\virabhadrasana_ii_192.jpg\n"
     ]
    },
    {
     "name": "stderr",
     "output_type": "stream",
     "text": [
      "791it [02:21,  5.89it/s]"
     ]
    },
    {
     "name": "stdout",
     "output_type": "stream",
     "text": [
      "Saved to A:\\Projects\\CollegeProjects\\YogaPartner\\intermediates\\v2\\virabhadrasana_ii_46.jpg\n",
      "Saved to A:\\Projects\\CollegeProjects\\YogaPartner\\intermediates\\v2\\virabhadrasana_ii_301.jpg\n"
     ]
    },
    {
     "name": "stderr",
     "output_type": "stream",
     "text": [
      "793it [02:22,  5.57it/s]"
     ]
    },
    {
     "name": "stdout",
     "output_type": "stream",
     "text": [
      "Saved to A:\\Projects\\CollegeProjects\\YogaPartner\\intermediates\\v2\\virabhadrasana_ii_336.jpg\n",
      "Saved to A:\\Projects\\CollegeProjects\\YogaPartner\\intermediates\\v2\\virabhadrasana_ii_11.jpg\n"
     ]
    },
    {
     "name": "stderr",
     "output_type": "stream",
     "text": [
      "\r",
      "794it [02:22,  6.17it/s]"
     ]
    },
    {
     "name": "stdout",
     "output_type": "stream",
     "text": [
      "Saved to A:\\Projects\\CollegeProjects\\YogaPartner\\intermediates\\v2\\virabhadrasana_ii_287.jpg\n"
     ]
    },
    {
     "name": "stderr",
     "output_type": "stream",
     "text": [
      "796it [02:22,  6.15it/s]"
     ]
    },
    {
     "name": "stdout",
     "output_type": "stream",
     "text": [
      "Saved to A:\\Projects\\CollegeProjects\\YogaPartner\\intermediates\\v2\\virabhadrasana_ii_9.jpg\n",
      "Saved to A:\\Projects\\CollegeProjects\\YogaPartner\\intermediates\\v2\\adho_mukha_shvanasana_12.jpg\n"
     ]
    },
    {
     "name": "stderr",
     "output_type": "stream",
     "text": [
      "\r",
      "797it [02:22,  6.61it/s]"
     ]
    },
    {
     "name": "stdout",
     "output_type": "stream",
     "text": [
      "Saved to A:\\Projects\\CollegeProjects\\YogaPartner\\intermediates\\v2\\adho_mukha_shvanasana_351.jpg\n"
     ]
    },
    {
     "name": "stderr",
     "output_type": "stream",
     "text": [
      "799it [02:23,  5.77it/s]"
     ]
    },
    {
     "name": "stdout",
     "output_type": "stream",
     "text": [
      "Saved to A:\\Projects\\CollegeProjects\\YogaPartner\\intermediates\\v2\\adho_mukha_shvanasana_218.jpg\n",
      "Saved to A:\\Projects\\CollegeProjects\\YogaPartner\\intermediates\\v2\\adho_mukha_shvanasana_190.jpg\n"
     ]
    },
    {
     "name": "stderr",
     "output_type": "stream",
     "text": [
      "801it [02:23,  6.85it/s]"
     ]
    },
    {
     "name": "stdout",
     "output_type": "stream",
     "text": [
      "Saved to A:\\Projects\\CollegeProjects\\YogaPartner\\intermediates\\v2\\adho_mukha_shvanasana_384.jpg\n",
      "Saved to A:\\Projects\\CollegeProjects\\YogaPartner\\intermediates\\v2\\adho_mukha_shvanasana_350.jpg\n"
     ]
    },
    {
     "name": "stderr",
     "output_type": "stream",
     "text": [
      "803it [02:23,  6.37it/s]"
     ]
    },
    {
     "name": "stdout",
     "output_type": "stream",
     "text": [
      "Saved to A:\\Projects\\CollegeProjects\\YogaPartner\\intermediates\\v2\\adho_mukha_shvanasana_1.jpg\n",
      "Saved to A:\\Projects\\CollegeProjects\\YogaPartner\\intermediates\\v2\\adho_mukha_shvanasana_111.jpg\n"
     ]
    },
    {
     "name": "stderr",
     "output_type": "stream",
     "text": [
      "\r",
      "804it [02:23,  6.70it/s]"
     ]
    },
    {
     "name": "stdout",
     "output_type": "stream",
     "text": [
      "Saved to A:\\Projects\\CollegeProjects\\YogaPartner\\intermediates\\v2\\adho_mukha_shvanasana_46.jpg\n"
     ]
    },
    {
     "name": "stderr",
     "output_type": "stream",
     "text": [
      "806it [02:25,  3.10it/s]"
     ]
    },
    {
     "name": "stdout",
     "output_type": "stream",
     "text": [
      "Saved to A:\\Projects\\CollegeProjects\\YogaPartner\\intermediates\\v2\\adho_mukha_shvanasana_353.jpg\n",
      "Saved to A:\\Projects\\CollegeProjects\\YogaPartner\\intermediates\\v2\\adho_mukha_shvanasana_386.jpg\n"
     ]
    },
    {
     "name": "stderr",
     "output_type": "stream",
     "text": [
      "808it [02:25,  4.37it/s]"
     ]
    },
    {
     "name": "stdout",
     "output_type": "stream",
     "text": [
      "Saved to A:\\Projects\\CollegeProjects\\YogaPartner\\intermediates\\v2\\adho_mukha_shvanasana_325.jpg\n",
      "Saved to A:\\Projects\\CollegeProjects\\YogaPartner\\intermediates\\v2\\adho_mukha_shvanasana_65.jpg\n"
     ]
    },
    {
     "name": "stderr",
     "output_type": "stream",
     "text": [
      "810it [02:25,  5.37it/s]"
     ]
    },
    {
     "name": "stdout",
     "output_type": "stream",
     "text": [
      "Saved to A:\\Projects\\CollegeProjects\\YogaPartner\\intermediates\\v2\\adho_mukha_shvanasana_18.jpg\n",
      "Saved to A:\\Projects\\CollegeProjects\\YogaPartner\\intermediates\\v2\\adho_mukha_shvanasana_8.jpg\n"
     ]
    },
    {
     "name": "stderr",
     "output_type": "stream",
     "text": [
      "812it [02:25,  6.35it/s]"
     ]
    },
    {
     "name": "stdout",
     "output_type": "stream",
     "text": [
      "Saved to A:\\Projects\\CollegeProjects\\YogaPartner\\intermediates\\v2\\adho_mukha_shvanasana_367.jpg\n",
      "Saved to A:\\Projects\\CollegeProjects\\YogaPartner\\intermediates\\v2\\adho_mukha_shvanasana_411.jpg\n"
     ]
    },
    {
     "name": "stderr",
     "output_type": "stream",
     "text": [
      "814it [02:26,  6.33it/s]"
     ]
    },
    {
     "name": "stdout",
     "output_type": "stream",
     "text": [
      "Saved to A:\\Projects\\CollegeProjects\\YogaPartner\\intermediates\\v2\\adho_mukha_shvanasana_11.jpg\n",
      "Saved to A:\\Projects\\CollegeProjects\\YogaPartner\\intermediates\\v2\\adho_mukha_shvanasana_268.jpg\n"
     ]
    },
    {
     "name": "stderr",
     "output_type": "stream",
     "text": [
      "816it [02:26,  7.18it/s]"
     ]
    },
    {
     "name": "stdout",
     "output_type": "stream",
     "text": [
      "Saved to A:\\Projects\\CollegeProjects\\YogaPartner\\intermediates\\v2\\adho_mukha_shvanasana_312.jpg\n",
      "Saved to A:\\Projects\\CollegeProjects\\YogaPartner\\intermediates\\v2\\adho_mukha_shvanasana_90.jpg\n"
     ]
    },
    {
     "name": "stderr",
     "output_type": "stream",
     "text": [
      "818it [02:26,  6.91it/s]"
     ]
    },
    {
     "name": "stdout",
     "output_type": "stream",
     "text": [
      "Saved to A:\\Projects\\CollegeProjects\\YogaPartner\\intermediates\\v2\\adho_mukha_shvanasana_131.jpg\n",
      "Saved to A:\\Projects\\CollegeProjects\\YogaPartner\\intermediates\\v2\\adho_mukha_shvanasana_64.jpg\n"
     ]
    },
    {
     "name": "stderr",
     "output_type": "stream",
     "text": [
      "\r",
      "819it [02:26,  6.15it/s]"
     ]
    },
    {
     "name": "stdout",
     "output_type": "stream",
     "text": [
      "Saved to A:\\Projects\\CollegeProjects\\YogaPartner\\intermediates\\v2\\adho_mukha_shvanasana_282.jpg\n"
     ]
    },
    {
     "name": "stderr",
     "output_type": "stream",
     "text": [
      "821it [02:27,  6.10it/s]"
     ]
    },
    {
     "name": "stdout",
     "output_type": "stream",
     "text": [
      "Saved to A:\\Projects\\CollegeProjects\\YogaPartner\\intermediates\\v2\\adho_mukha_shvanasana_246.jpg\n",
      "Saved to A:\\Projects\\CollegeProjects\\YogaPartner\\intermediates\\v2\\adho_mukha_shvanasana_361.jpg\n"
     ]
    },
    {
     "name": "stderr",
     "output_type": "stream",
     "text": [
      "823it [02:27,  6.22it/s]"
     ]
    },
    {
     "name": "stdout",
     "output_type": "stream",
     "text": [
      "Saved to A:\\Projects\\CollegeProjects\\YogaPartner\\intermediates\\v2\\adho_mukha_shvanasana_112.jpg\n",
      "Saved to A:\\Projects\\CollegeProjects\\YogaPartner\\intermediates\\v2\\adho_mukha_shvanasana_383.jpg\n"
     ]
    },
    {
     "name": "stderr",
     "output_type": "stream",
     "text": [
      "825it [02:27,  7.14it/s]"
     ]
    },
    {
     "name": "stdout",
     "output_type": "stream",
     "text": [
      "Saved to A:\\Projects\\CollegeProjects\\YogaPartner\\intermediates\\v2\\adho_mukha_shvanasana_259.jpg\n",
      "Saved to A:\\Projects\\CollegeProjects\\YogaPartner\\intermediates\\v2\\adho_mukha_shvanasana_432.jpg\n"
     ]
    },
    {
     "name": "stderr",
     "output_type": "stream",
     "text": [
      "827it [02:28,  7.92it/s]"
     ]
    },
    {
     "name": "stdout",
     "output_type": "stream",
     "text": [
      "Saved to A:\\Projects\\CollegeProjects\\YogaPartner\\intermediates\\v2\\adho_mukha_shvanasana_385.jpg\n",
      "Saved to A:\\Projects\\CollegeProjects\\YogaPartner\\intermediates\\v2\\adho_mukha_shvanasana_176.jpg\n"
     ]
    },
    {
     "name": "stderr",
     "output_type": "stream",
     "text": [
      "829it [02:28,  6.54it/s]"
     ]
    },
    {
     "name": "stdout",
     "output_type": "stream",
     "text": [
      "Saved to A:\\Projects\\CollegeProjects\\YogaPartner\\intermediates\\v2\\adho_mukha_shvanasana_133.jpg\n",
      "Saved to A:\\Projects\\CollegeProjects\\YogaPartner\\intermediates\\v2\\adho_mukha_shvanasana_269.jpg\n"
     ]
    },
    {
     "name": "stderr",
     "output_type": "stream",
     "text": [
      "831it [02:28,  6.54it/s]"
     ]
    },
    {
     "name": "stdout",
     "output_type": "stream",
     "text": [
      "Saved to A:\\Projects\\CollegeProjects\\YogaPartner\\intermediates\\v2\\adho_mukha_shvanasana_286.jpg\n",
      "Saved to A:\\Projects\\CollegeProjects\\YogaPartner\\intermediates\\v2\\adho_mukha_shvanasana_243.jpg\n"
     ]
    },
    {
     "name": "stderr",
     "output_type": "stream",
     "text": [
      "833it [02:29,  6.65it/s]"
     ]
    },
    {
     "name": "stdout",
     "output_type": "stream",
     "text": [
      "Saved to A:\\Projects\\CollegeProjects\\YogaPartner\\intermediates\\v2\\adho_mukha_shvanasana_155.jpg\n",
      "Saved to A:\\Projects\\CollegeProjects\\YogaPartner\\intermediates\\v2\\adho_mukha_shvanasana_303.jpg\n"
     ]
    },
    {
     "name": "stderr",
     "output_type": "stream",
     "text": [
      "\r",
      "834it [02:29,  5.33it/s]"
     ]
    },
    {
     "name": "stdout",
     "output_type": "stream",
     "text": [
      "Saved to A:\\Projects\\CollegeProjects\\YogaPartner\\intermediates\\v2\\adho_mukha_shvanasana_106.jpg\n"
     ]
    },
    {
     "name": "stderr",
     "output_type": "stream",
     "text": [
      "836it [02:29,  5.39it/s]"
     ]
    },
    {
     "name": "stdout",
     "output_type": "stream",
     "text": [
      "Saved to A:\\Projects\\CollegeProjects\\YogaPartner\\intermediates\\v2\\adho_mukha_shvanasana_233.jpg\n",
      "Saved to A:\\Projects\\CollegeProjects\\YogaPartner\\intermediates\\v2\\adho_mukha_shvanasana_369.jpg\n"
     ]
    },
    {
     "name": "stderr",
     "output_type": "stream",
     "text": [
      "838it [02:29,  6.52it/s]"
     ]
    },
    {
     "name": "stdout",
     "output_type": "stream",
     "text": [
      "Saved to A:\\Projects\\CollegeProjects\\YogaPartner\\intermediates\\v2\\adho_mukha_shvanasana_313.jpg\n",
      "Saved to A:\\Projects\\CollegeProjects\\YogaPartner\\intermediates\\v2\\adho_mukha_shvanasana_339.jpg\n"
     ]
    },
    {
     "name": "stderr",
     "output_type": "stream",
     "text": [
      "\r",
      "839it [02:30,  6.02it/s]"
     ]
    },
    {
     "name": "stdout",
     "output_type": "stream",
     "text": [
      "Saved to A:\\Projects\\CollegeProjects\\YogaPartner\\intermediates\\v2\\adho_mukha_shvanasana_231.jpg\n"
     ]
    },
    {
     "name": "stderr",
     "output_type": "stream",
     "text": [
      "841it [02:30,  5.01it/s]"
     ]
    },
    {
     "name": "stdout",
     "output_type": "stream",
     "text": [
      "Saved to A:\\Projects\\CollegeProjects\\YogaPartner\\intermediates\\v2\\adho_mukha_shvanasana_307.jpg\n",
      "Saved to A:\\Projects\\CollegeProjects\\YogaPartner\\intermediates\\v2\\adho_mukha_shvanasana_173.jpg\n"
     ]
    },
    {
     "name": "stderr",
     "output_type": "stream",
     "text": [
      "843it [02:30,  5.77it/s]"
     ]
    },
    {
     "name": "stdout",
     "output_type": "stream",
     "text": [
      "Saved to A:\\Projects\\CollegeProjects\\YogaPartner\\intermediates\\v2\\adho_mukha_shvanasana_184.jpg\n",
      "Saved to A:\\Projects\\CollegeProjects\\YogaPartner\\intermediates\\v2\\adho_mukha_shvanasana_396.jpg\n"
     ]
    },
    {
     "name": "stderr",
     "output_type": "stream",
     "text": [
      "846it [02:31,  7.58it/s]"
     ]
    },
    {
     "name": "stdout",
     "output_type": "stream",
     "text": [
      "Saved to A:\\Projects\\CollegeProjects\\YogaPartner\\intermediates\\v2\\adho_mukha_shvanasana_36.jpg\n",
      "Saved to A:\\Projects\\CollegeProjects\\YogaPartner\\intermediates\\v2\\adho_mukha_shvanasana_305.jpg\n",
      "Saved to A:\\Projects\\CollegeProjects\\YogaPartner\\intermediates\\v2\\adho_mukha_shvanasana_322.jpg\n"
     ]
    },
    {
     "name": "stderr",
     "output_type": "stream",
     "text": [
      "848it [02:32,  3.50it/s]"
     ]
    },
    {
     "name": "stdout",
     "output_type": "stream",
     "text": [
      "Saved to A:\\Projects\\CollegeProjects\\YogaPartner\\intermediates\\v2\\adho_mukha_shvanasana_277.jpg\n",
      "Saved to A:\\Projects\\CollegeProjects\\YogaPartner\\intermediates\\v2\\adho_mukha_shvanasana_330.jpg\n"
     ]
    },
    {
     "name": "stderr",
     "output_type": "stream",
     "text": [
      "850it [02:32,  4.83it/s]"
     ]
    },
    {
     "name": "stdout",
     "output_type": "stream",
     "text": [
      "Saved to A:\\Projects\\CollegeProjects\\YogaPartner\\intermediates\\v2\\adho_mukha_shvanasana_430.jpg\n",
      "Saved to A:\\Projects\\CollegeProjects\\YogaPartner\\intermediates\\v2\\adho_mukha_shvanasana_328.jpg\n"
     ]
    },
    {
     "name": "stderr",
     "output_type": "stream",
     "text": [
      "852it [02:32,  5.83it/s]"
     ]
    },
    {
     "name": "stdout",
     "output_type": "stream",
     "text": [
      "Saved to A:\\Projects\\CollegeProjects\\YogaPartner\\intermediates\\v2\\adho_mukha_shvanasana_224.jpg\n",
      "Saved to A:\\Projects\\CollegeProjects\\YogaPartner\\intermediates\\v2\\adho_mukha_shvanasana_427.jpg\n"
     ]
    },
    {
     "name": "stderr",
     "output_type": "stream",
     "text": [
      "854it [02:33,  7.09it/s]"
     ]
    },
    {
     "name": "stdout",
     "output_type": "stream",
     "text": [
      "Saved to A:\\Projects\\CollegeProjects\\YogaPartner\\intermediates\\v2\\adho_mukha_shvanasana_24.jpg\n",
      "Saved to A:\\Projects\\CollegeProjects\\YogaPartner\\intermediates\\v2\\adho_mukha_shvanasana_358.jpg\n"
     ]
    },
    {
     "name": "stderr",
     "output_type": "stream",
     "text": [
      "\r",
      "855it [02:33,  7.25it/s]"
     ]
    },
    {
     "name": "stdout",
     "output_type": "stream",
     "text": [
      "Saved to A:\\Projects\\CollegeProjects\\YogaPartner\\intermediates\\v2\\adho_mukha_shvanasana_167.jpg\n"
     ]
    },
    {
     "name": "stderr",
     "output_type": "stream",
     "text": [
      "\r",
      "856it [02:33,  6.19it/s]"
     ]
    },
    {
     "name": "stdout",
     "output_type": "stream",
     "text": [
      "Saved to A:\\Projects\\CollegeProjects\\YogaPartner\\intermediates\\v2\\adho_mukha_shvanasana_73.jpg\n"
     ]
    },
    {
     "name": "stderr",
     "output_type": "stream",
     "text": [
      "\r",
      "857it [02:34,  2.17it/s]"
     ]
    },
    {
     "name": "stdout",
     "output_type": "stream",
     "text": [
      "Saved to A:\\Projects\\CollegeProjects\\YogaPartner\\intermediates\\v2\\adho_mukha_shvanasana_169.jpg\n"
     ]
    },
    {
     "name": "stderr",
     "output_type": "stream",
     "text": [
      "859it [02:35,  1.89it/s]"
     ]
    },
    {
     "name": "stdout",
     "output_type": "stream",
     "text": [
      "Saved to A:\\Projects\\CollegeProjects\\YogaPartner\\intermediates\\v2\\adho_mukha_shvanasana_401.jpg\n",
      "Saved to A:\\Projects\\CollegeProjects\\YogaPartner\\intermediates\\v2\\adho_mukha_shvanasana_58.jpg\n"
     ]
    },
    {
     "name": "stderr",
     "output_type": "stream",
     "text": [
      "861it [02:37,  1.68it/s]"
     ]
    },
    {
     "name": "stdout",
     "output_type": "stream",
     "text": [
      "Saved to A:\\Projects\\CollegeProjects\\YogaPartner\\intermediates\\v2\\adho_mukha_shvanasana_135.jpg\n",
      "Saved to A:\\Projects\\CollegeProjects\\YogaPartner\\intermediates\\v2\\adho_mukha_shvanasana_410.jpg\n"
     ]
    },
    {
     "name": "stderr",
     "output_type": "stream",
     "text": [
      "863it [02:37,  2.65it/s]"
     ]
    },
    {
     "name": "stdout",
     "output_type": "stream",
     "text": [
      "Saved to A:\\Projects\\CollegeProjects\\YogaPartner\\intermediates\\v2\\adho_mukha_shvanasana_117.jpg\n",
      "Saved to A:\\Projects\\CollegeProjects\\YogaPartner\\intermediates\\v2\\adho_mukha_shvanasana_122.jpg\n"
     ]
    },
    {
     "name": "stderr",
     "output_type": "stream",
     "text": [
      "865it [02:38,  3.76it/s]"
     ]
    },
    {
     "name": "stdout",
     "output_type": "stream",
     "text": [
      "Saved to A:\\Projects\\CollegeProjects\\YogaPartner\\intermediates\\v2\\adho_mukha_shvanasana_280.jpg\n",
      "Saved to A:\\Projects\\CollegeProjects\\YogaPartner\\intermediates\\v2\\adho_mukha_shvanasana_211.jpg\n"
     ]
    },
    {
     "name": "stderr",
     "output_type": "stream",
     "text": [
      "\r",
      "866it [02:38,  4.39it/s]"
     ]
    },
    {
     "name": "stdout",
     "output_type": "stream",
     "text": [
      "Saved to A:\\Projects\\CollegeProjects\\YogaPartner\\intermediates\\v2\\adho_mukha_shvanasana_239.jpg\n"
     ]
    },
    {
     "name": "stderr",
     "output_type": "stream",
     "text": [
      "868it [02:39,  2.27it/s]"
     ]
    },
    {
     "name": "stdout",
     "output_type": "stream",
     "text": [
      "Saved to A:\\Projects\\CollegeProjects\\YogaPartner\\intermediates\\v2\\adho_mukha_shvanasana_118.jpg\n",
      "Saved to A:\\Projects\\CollegeProjects\\YogaPartner\\intermediates\\v2\\adho_mukha_shvanasana_113.jpg\n"
     ]
    },
    {
     "name": "stderr",
     "output_type": "stream",
     "text": [
      "\r",
      "869it [02:39,  2.92it/s]"
     ]
    },
    {
     "name": "stdout",
     "output_type": "stream",
     "text": [
      "Saved to A:\\Projects\\CollegeProjects\\YogaPartner\\intermediates\\v2\\adho_mukha_shvanasana_260.jpg\n",
      "Saved to A:\\Projects\\CollegeProjects\\YogaPartner\\intermediates\\v2\\adho_mukha_shvanasana_290.jpg\n"
     ]
    },
    {
     "name": "stderr",
     "output_type": "stream",
     "text": [
      "\r",
      "871it [02:40,  4.24it/s]"
     ]
    },
    {
     "name": "stdout",
     "output_type": "stream",
     "text": [
      "Saved to A:\\Projects\\CollegeProjects\\YogaPartner\\intermediates\\v2\\adho_mukha_shvanasana_308.jpg\n",
      "Saved to A:\\Projects\\CollegeProjects\\YogaPartner\\intermediates\\v2\\adho_mukha_shvanasana_379.jpg\n"
     ]
    },
    {
     "name": "stderr",
     "output_type": "stream",
     "text": [
      "874it [02:40,  5.04it/s]"
     ]
    },
    {
     "name": "stdout",
     "output_type": "stream",
     "text": [
      "Saved to A:\\Projects\\CollegeProjects\\YogaPartner\\intermediates\\v2\\adho_mukha_shvanasana_7.jpg\n",
      "Saved to A:\\Projects\\CollegeProjects\\YogaPartner\\intermediates\\v2\\adho_mukha_shvanasana_54.jpg\n"
     ]
    },
    {
     "name": "stderr",
     "output_type": "stream",
     "text": [
      "876it [02:41,  3.51it/s]"
     ]
    },
    {
     "name": "stdout",
     "output_type": "stream",
     "text": [
      "Saved to A:\\Projects\\CollegeProjects\\YogaPartner\\intermediates\\v2\\adho_mukha_shvanasana_335.jpg\n",
      "Saved to A:\\Projects\\CollegeProjects\\YogaPartner\\intermediates\\v2\\adho_mukha_shvanasana_192.jpg\n"
     ]
    },
    {
     "name": "stderr",
     "output_type": "stream",
     "text": [
      "878it [02:41,  4.39it/s]"
     ]
    },
    {
     "name": "stdout",
     "output_type": "stream",
     "text": [
      "Saved to A:\\Projects\\CollegeProjects\\YogaPartner\\intermediates\\v2\\adho_mukha_shvanasana_37.jpg\n",
      "Saved to A:\\Projects\\CollegeProjects\\YogaPartner\\intermediates\\v2\\adho_mukha_shvanasana_62.jpg\n"
     ]
    },
    {
     "name": "stderr",
     "output_type": "stream",
     "text": [
      "880it [02:42,  5.37it/s]"
     ]
    },
    {
     "name": "stdout",
     "output_type": "stream",
     "text": [
      "Saved to A:\\Projects\\CollegeProjects\\YogaPartner\\intermediates\\v2\\adho_mukha_shvanasana_154.jpg\n",
      "Saved to A:\\Projects\\CollegeProjects\\YogaPartner\\intermediates\\v2\\adho_mukha_shvanasana_362.jpg\n"
     ]
    },
    {
     "name": "stderr",
     "output_type": "stream",
     "text": [
      "882it [02:42,  6.00it/s]"
     ]
    },
    {
     "name": "stdout",
     "output_type": "stream",
     "text": [
      "Saved to A:\\Projects\\CollegeProjects\\YogaPartner\\intermediates\\v2\\adho_mukha_shvanasana_116.jpg\n",
      "Saved to A:\\Projects\\CollegeProjects\\YogaPartner\\intermediates\\v2\\adho_mukha_shvanasana_275.jpg\n"
     ]
    },
    {
     "name": "stderr",
     "output_type": "stream",
     "text": [
      "884it [02:42,  5.84it/s]"
     ]
    },
    {
     "name": "stdout",
     "output_type": "stream",
     "text": [
      "Saved to A:\\Projects\\CollegeProjects\\YogaPartner\\intermediates\\v2\\adho_mukha_shvanasana_104.jpg\n",
      "Saved to A:\\Projects\\CollegeProjects\\YogaPartner\\intermediates\\v2\\adho_mukha_shvanasana_96.jpg\n"
     ]
    },
    {
     "name": "stderr",
     "output_type": "stream",
     "text": [
      "886it [02:42,  6.30it/s]"
     ]
    },
    {
     "name": "stdout",
     "output_type": "stream",
     "text": [
      "Saved to A:\\Projects\\CollegeProjects\\YogaPartner\\intermediates\\v2\\adho_mukha_shvanasana_129.jpg\n",
      "Saved to A:\\Projects\\CollegeProjects\\YogaPartner\\intermediates\\v2\\adho_mukha_shvanasana_348.jpg\n"
     ]
    },
    {
     "name": "stderr",
     "output_type": "stream",
     "text": [
      "889it [02:43,  8.14it/s]"
     ]
    },
    {
     "name": "stdout",
     "output_type": "stream",
     "text": [
      "Saved to A:\\Projects\\CollegeProjects\\YogaPartner\\intermediates\\v2\\adho_mukha_shvanasana_223.jpg\n",
      "Saved to A:\\Projects\\CollegeProjects\\YogaPartner\\intermediates\\v2\\adho_mukha_shvanasana_123.jpg\n",
      "Saved to A:\\Projects\\CollegeProjects\\YogaPartner\\intermediates\\v2\\adho_mukha_shvanasana_159.jpg\n"
     ]
    },
    {
     "name": "stderr",
     "output_type": "stream",
     "text": [
      "\r",
      "890it [02:43,  8.48it/s]"
     ]
    },
    {
     "name": "stdout",
     "output_type": "stream",
     "text": [
      "Saved to A:\\Projects\\CollegeProjects\\YogaPartner\\intermediates\\v2\\adho_mukha_shvanasana_310.jpg\n"
     ]
    },
    {
     "name": "stderr",
     "output_type": "stream",
     "text": [
      "892it [02:44,  4.92it/s]"
     ]
    },
    {
     "name": "stdout",
     "output_type": "stream",
     "text": [
      "Saved to A:\\Projects\\CollegeProjects\\YogaPartner\\intermediates\\v2\\adho_mukha_shvanasana_9.jpg\n",
      "Saved to A:\\Projects\\CollegeProjects\\YogaPartner\\intermediates\\v2\\adho_mukha_shvanasana_29.jpg\n"
     ]
    },
    {
     "name": "stderr",
     "output_type": "stream",
     "text": [
      "894it [02:44,  5.69it/s]"
     ]
    },
    {
     "name": "stdout",
     "output_type": "stream",
     "text": [
      "Saved to A:\\Projects\\CollegeProjects\\YogaPartner\\intermediates\\v2\\adho_mukha_shvanasana_270.jpg\n",
      "Saved to A:\\Projects\\CollegeProjects\\YogaPartner\\intermediates\\v2\\adho_mukha_shvanasana_28.jpg\n"
     ]
    },
    {
     "name": "stderr",
     "output_type": "stream",
     "text": [
      "896it [02:44,  6.24it/s]"
     ]
    },
    {
     "name": "stdout",
     "output_type": "stream",
     "text": [
      "Saved to A:\\Projects\\CollegeProjects\\YogaPartner\\intermediates\\v2\\adho_mukha_shvanasana_354.jpg\n",
      "Saved to A:\\Projects\\CollegeProjects\\YogaPartner\\intermediates\\v2\\adho_mukha_shvanasana_344.jpg\n"
     ]
    },
    {
     "name": "stderr",
     "output_type": "stream",
     "text": [
      "\r",
      "897it [02:44,  6.16it/s]"
     ]
    },
    {
     "name": "stdout",
     "output_type": "stream",
     "text": [
      "Saved to A:\\Projects\\CollegeProjects\\YogaPartner\\intermediates\\v2\\adho_mukha_shvanasana_247.jpg\n"
     ]
    },
    {
     "name": "stderr",
     "output_type": "stream",
     "text": [
      "899it [02:45,  3.69it/s]"
     ]
    },
    {
     "name": "stdout",
     "output_type": "stream",
     "text": [
      "Saved to A:\\Projects\\CollegeProjects\\YogaPartner\\intermediates\\v2\\adho_mukha_shvanasana_399.jpg\n",
      "Saved to A:\\Projects\\CollegeProjects\\YogaPartner\\intermediates\\v2\\adho_mukha_shvanasana_53.jpg\n"
     ]
    },
    {
     "name": "stderr",
     "output_type": "stream",
     "text": [
      "901it [02:46,  4.57it/s]"
     ]
    },
    {
     "name": "stdout",
     "output_type": "stream",
     "text": [
      "Saved to A:\\Projects\\CollegeProjects\\YogaPartner\\intermediates\\v2\\adho_mukha_shvanasana_60.jpg\n",
      "Saved to A:\\Projects\\CollegeProjects\\YogaPartner\\intermediates\\v2\\adho_mukha_shvanasana_41.jpg\n"
     ]
    },
    {
     "name": "stderr",
     "output_type": "stream",
     "text": [
      "\r",
      "902it [02:46,  4.87it/s]"
     ]
    },
    {
     "name": "stdout",
     "output_type": "stream",
     "text": [
      "Saved to A:\\Projects\\CollegeProjects\\YogaPartner\\intermediates\\v2\\adho_mukha_shvanasana_146.jpg\n"
     ]
    },
    {
     "name": "stderr",
     "output_type": "stream",
     "text": [
      "904it [02:46,  4.54it/s]"
     ]
    },
    {
     "name": "stdout",
     "output_type": "stream",
     "text": [
      "Saved to A:\\Projects\\CollegeProjects\\YogaPartner\\intermediates\\v2\\adho_mukha_shvanasana_180.jpg\n",
      "Saved to A:\\Projects\\CollegeProjects\\YogaPartner\\intermediates\\v2\\adho_mukha_shvanasana_91.jpg\n"
     ]
    },
    {
     "name": "stderr",
     "output_type": "stream",
     "text": [
      "\r",
      "905it [02:46,  4.81it/s]"
     ]
    },
    {
     "name": "stdout",
     "output_type": "stream",
     "text": [
      "Saved to A:\\Projects\\CollegeProjects\\YogaPartner\\intermediates\\v2\\adho_mukha_shvanasana_72.jpg\n"
     ]
    },
    {
     "name": "stderr",
     "output_type": "stream",
     "text": [
      "\r",
      "906it [02:47,  4.20it/s]"
     ]
    },
    {
     "name": "stdout",
     "output_type": "stream",
     "text": [
      "Saved to A:\\Projects\\CollegeProjects\\YogaPartner\\intermediates\\v2\\adho_mukha_shvanasana_332.jpg\n"
     ]
    },
    {
     "name": "stderr",
     "output_type": "stream",
     "text": [
      "\r",
      "907it [02:47,  3.75it/s]"
     ]
    },
    {
     "name": "stdout",
     "output_type": "stream",
     "text": [
      "Saved to A:\\Projects\\CollegeProjects\\YogaPartner\\intermediates\\v2\\adho_mukha_shvanasana_406.jpg\n"
     ]
    },
    {
     "name": "stderr",
     "output_type": "stream",
     "text": [
      "909it [02:48,  3.30it/s]"
     ]
    },
    {
     "name": "stdout",
     "output_type": "stream",
     "text": [
      "Saved to A:\\Projects\\CollegeProjects\\YogaPartner\\intermediates\\v2\\adho_mukha_shvanasana_314.jpg\n",
      "Saved to A:\\Projects\\CollegeProjects\\YogaPartner\\intermediates\\v2\\adho_mukha_shvanasana_107.jpg\n"
     ]
    },
    {
     "name": "stderr",
     "output_type": "stream",
     "text": [
      "911it [02:48,  4.34it/s]"
     ]
    },
    {
     "name": "stdout",
     "output_type": "stream",
     "text": [
      "Saved to A:\\Projects\\CollegeProjects\\YogaPartner\\intermediates\\v2\\adho_mukha_shvanasana_257.jpg\n",
      "Saved to A:\\Projects\\CollegeProjects\\YogaPartner\\intermediates\\v2\\adho_mukha_shvanasana_140.jpg\n"
     ]
    },
    {
     "name": "stderr",
     "output_type": "stream",
     "text": [
      "\r",
      "912it [02:48,  4.77it/s]"
     ]
    },
    {
     "name": "stdout",
     "output_type": "stream",
     "text": [
      "Saved to A:\\Projects\\CollegeProjects\\YogaPartner\\intermediates\\v2\\adho_mukha_shvanasana_236.jpg\n",
      "Saved to A:\\Projects\\CollegeProjects\\YogaPartner\\intermediates\\v2\\adho_mukha_shvanasana_191.jpg\n"
     ]
    },
    {
     "name": "stderr",
     "output_type": "stream",
     "text": [
      "915it [02:49,  4.61it/s]"
     ]
    },
    {
     "name": "stdout",
     "output_type": "stream",
     "text": [
      "Saved to A:\\Projects\\CollegeProjects\\YogaPartner\\intermediates\\v2\\adho_mukha_shvanasana_179.jpg\n",
      "Saved to A:\\Projects\\CollegeProjects\\YogaPartner\\intermediates\\v2\\adho_mukha_shvanasana_93.jpg\n"
     ]
    },
    {
     "name": "stderr",
     "output_type": "stream",
     "text": [
      "917it [02:49,  5.72it/s]"
     ]
    },
    {
     "name": "stdout",
     "output_type": "stream",
     "text": [
      "Saved to A:\\Projects\\CollegeProjects\\YogaPartner\\intermediates\\v2\\adho_mukha_shvanasana_372.jpg\n",
      "Saved to A:\\Projects\\CollegeProjects\\YogaPartner\\intermediates\\v2\\adho_mukha_shvanasana_17.jpg\n"
     ]
    },
    {
     "name": "stderr",
     "output_type": "stream",
     "text": [
      "919it [02:49,  6.15it/s]"
     ]
    },
    {
     "name": "stdout",
     "output_type": "stream",
     "text": [
      "Saved to A:\\Projects\\CollegeProjects\\YogaPartner\\intermediates\\v2\\adho_mukha_shvanasana_418.jpg\n",
      "Saved to A:\\Projects\\CollegeProjects\\YogaPartner\\intermediates\\v2\\adho_mukha_shvanasana_31.jpg\n"
     ]
    },
    {
     "name": "stderr",
     "output_type": "stream",
     "text": [
      "921it [02:50,  5.10it/s]"
     ]
    },
    {
     "name": "stdout",
     "output_type": "stream",
     "text": [
      "Saved to A:\\Projects\\CollegeProjects\\YogaPartner\\intermediates\\v2\\adho_mukha_shvanasana_193.jpg\n",
      "Saved to A:\\Projects\\CollegeProjects\\YogaPartner\\intermediates\\v2\\adho_mukha_shvanasana_375.jpg\n"
     ]
    },
    {
     "name": "stderr",
     "output_type": "stream",
     "text": [
      "923it [02:50,  4.56it/s]"
     ]
    },
    {
     "name": "stdout",
     "output_type": "stream",
     "text": [
      "Saved to A:\\Projects\\CollegeProjects\\YogaPartner\\intermediates\\v2\\adho_mukha_shvanasana_127.jpg\n",
      "Saved to A:\\Projects\\CollegeProjects\\YogaPartner\\intermediates\\v2\\adho_mukha_shvanasana_240.jpg\n"
     ]
    },
    {
     "name": "stderr",
     "output_type": "stream",
     "text": [
      "925it [02:51,  5.40it/s]"
     ]
    },
    {
     "name": "stdout",
     "output_type": "stream",
     "text": [
      "Saved to A:\\Projects\\CollegeProjects\\YogaPartner\\intermediates\\v2\\adho_mukha_shvanasana_217.jpg\n",
      "Saved to A:\\Projects\\CollegeProjects\\YogaPartner\\intermediates\\v2\\adho_mukha_shvanasana_199.jpg\n"
     ]
    },
    {
     "name": "stderr",
     "output_type": "stream",
     "text": [
      "\r",
      "926it [02:51,  5.79it/s]"
     ]
    },
    {
     "name": "stdout",
     "output_type": "stream",
     "text": [
      "Saved to A:\\Projects\\CollegeProjects\\YogaPartner\\intermediates\\v2\\adho_mukha_shvanasana_232.jpg\n"
     ]
    },
    {
     "name": "stderr",
     "output_type": "stream",
     "text": [
      "928it [02:51,  5.97it/s]"
     ]
    },
    {
     "name": "stdout",
     "output_type": "stream",
     "text": [
      "Saved to A:\\Projects\\CollegeProjects\\YogaPartner\\intermediates\\v2\\adho_mukha_shvanasana_49.jpg\n",
      "Saved to A:\\Projects\\CollegeProjects\\YogaPartner\\intermediates\\v2\\adho_mukha_shvanasana_316.jpg\n"
     ]
    },
    {
     "name": "stderr",
     "output_type": "stream",
     "text": [
      "930it [02:52,  3.32it/s]"
     ]
    },
    {
     "name": "stdout",
     "output_type": "stream",
     "text": [
      "Saved to A:\\Projects\\CollegeProjects\\YogaPartner\\intermediates\\v2\\adho_mukha_shvanasana_144.jpg\n",
      "Saved to A:\\Projects\\CollegeProjects\\YogaPartner\\intermediates\\v2\\adho_mukha_shvanasana_265.jpg\n"
     ]
    },
    {
     "name": "stderr",
     "output_type": "stream",
     "text": [
      "932it [02:53,  4.66it/s]"
     ]
    },
    {
     "name": "stdout",
     "output_type": "stream",
     "text": [
      "Saved to A:\\Projects\\CollegeProjects\\YogaPartner\\intermediates\\v2\\adho_mukha_shvanasana_365.jpg\n",
      "Saved to A:\\Projects\\CollegeProjects\\YogaPartner\\intermediates\\v2\\adho_mukha_shvanasana_226.jpg\n"
     ]
    },
    {
     "name": "stderr",
     "output_type": "stream",
     "text": [
      "934it [02:53,  5.78it/s]"
     ]
    },
    {
     "name": "stdout",
     "output_type": "stream",
     "text": [
      "Saved to A:\\Projects\\CollegeProjects\\YogaPartner\\intermediates\\v2\\adho_mukha_shvanasana_299.jpg\n",
      "Saved to A:\\Projects\\CollegeProjects\\YogaPartner\\intermediates\\v2\\adho_mukha_shvanasana_163.jpg\n"
     ]
    },
    {
     "name": "stderr",
     "output_type": "stream",
     "text": [
      "936it [02:53,  5.96it/s]"
     ]
    },
    {
     "name": "stdout",
     "output_type": "stream",
     "text": [
      "Saved to A:\\Projects\\CollegeProjects\\YogaPartner\\intermediates\\v2\\adho_mukha_shvanasana_63.jpg\n",
      "Saved to A:\\Projects\\CollegeProjects\\YogaPartner\\intermediates\\v2\\adho_mukha_shvanasana_393.jpg\n"
     ]
    },
    {
     "name": "stderr",
     "output_type": "stream",
     "text": [
      "938it [02:53,  6.32it/s]"
     ]
    },
    {
     "name": "stdout",
     "output_type": "stream",
     "text": [
      "Saved to A:\\Projects\\CollegeProjects\\YogaPartner\\intermediates\\v2\\adho_mukha_shvanasana_130.jpg\n",
      "Saved to A:\\Projects\\CollegeProjects\\YogaPartner\\intermediates\\v2\\adho_mukha_shvanasana_253.jpg\n"
     ]
    },
    {
     "name": "stderr",
     "output_type": "stream",
     "text": [
      "940it [02:54,  7.27it/s]"
     ]
    },
    {
     "name": "stdout",
     "output_type": "stream",
     "text": [
      "Saved to A:\\Projects\\CollegeProjects\\YogaPartner\\intermediates\\v2\\adho_mukha_shvanasana_381.jpg\n",
      "Saved to A:\\Projects\\CollegeProjects\\YogaPartner\\intermediates\\v2\\adho_mukha_shvanasana_355.jpg\n"
     ]
    },
    {
     "name": "stderr",
     "output_type": "stream",
     "text": [
      "942it [02:54,  5.79it/s]"
     ]
    },
    {
     "name": "stdout",
     "output_type": "stream",
     "text": [
      "Saved to A:\\Projects\\CollegeProjects\\YogaPartner\\intermediates\\v2\\adho_mukha_shvanasana_323.jpg\n",
      "Saved to A:\\Projects\\CollegeProjects\\YogaPartner\\intermediates\\v2\\adho_mukha_shvanasana_222.jpg\n"
     ]
    },
    {
     "name": "stderr",
     "output_type": "stream",
     "text": [
      "944it [02:54,  5.83it/s]"
     ]
    },
    {
     "name": "stdout",
     "output_type": "stream",
     "text": [
      "Saved to A:\\Projects\\CollegeProjects\\YogaPartner\\intermediates\\v2\\adho_mukha_shvanasana_213.jpg\n",
      "Saved to A:\\Projects\\CollegeProjects\\YogaPartner\\intermediates\\v2\\adho_mukha_shvanasana_435.jpg\n"
     ]
    },
    {
     "name": "stderr",
     "output_type": "stream",
     "text": [
      "946it [02:55,  6.98it/s]"
     ]
    },
    {
     "name": "stdout",
     "output_type": "stream",
     "text": [
      "Saved to A:\\Projects\\CollegeProjects\\YogaPartner\\intermediates\\v2\\adho_mukha_shvanasana_279.jpg\n",
      "Saved to A:\\Projects\\CollegeProjects\\YogaPartner\\intermediates\\v2\\adho_mukha_shvanasana_349.jpg\n"
     ]
    },
    {
     "name": "stderr",
     "output_type": "stream",
     "text": [
      "948it [02:56,  3.88it/s]"
     ]
    },
    {
     "name": "stdout",
     "output_type": "stream",
     "text": [
      "Saved to A:\\Projects\\CollegeProjects\\YogaPartner\\intermediates\\v2\\adho_mukha_shvanasana_203.jpg\n",
      "Saved to A:\\Projects\\CollegeProjects\\YogaPartner\\intermediates\\v2\\adho_mukha_shvanasana_45.jpg\n"
     ]
    },
    {
     "name": "stderr",
     "output_type": "stream",
     "text": [
      "\r",
      "949it [02:56,  4.51it/s]"
     ]
    },
    {
     "name": "stdout",
     "output_type": "stream",
     "text": [
      "Saved to A:\\Projects\\CollegeProjects\\YogaPartner\\intermediates\\v2\\adho_mukha_shvanasana_143.jpg\n",
      "Saved to A:\\Projects\\CollegeProjects\\YogaPartner\\intermediates\\v2\\adho_mukha_shvanasana_283.jpg\n"
     ]
    },
    {
     "name": "stderr",
     "output_type": "stream",
     "text": [
      "952it [02:56,  6.19it/s]"
     ]
    },
    {
     "name": "stdout",
     "output_type": "stream",
     "text": [
      "Saved to A:\\Projects\\CollegeProjects\\YogaPartner\\intermediates\\v2\\adho_mukha_shvanasana_245.jpg\n",
      "Saved to A:\\Projects\\CollegeProjects\\YogaPartner\\intermediates\\v2\\adho_mukha_shvanasana_363.jpg\n"
     ]
    },
    {
     "name": "stderr",
     "output_type": "stream",
     "text": [
      "\r",
      "954it [02:56,  7.37it/s]"
     ]
    },
    {
     "name": "stdout",
     "output_type": "stream",
     "text": [
      "Saved to A:\\Projects\\CollegeProjects\\YogaPartner\\intermediates\\v2\\adho_mukha_shvanasana_66.jpg\n",
      "Saved to A:\\Projects\\CollegeProjects\\YogaPartner\\intermediates\\v2\\adho_mukha_shvanasana_219.jpg\n"
     ]
    },
    {
     "name": "stderr",
     "output_type": "stream",
     "text": [
      "956it [02:56,  7.75it/s]"
     ]
    },
    {
     "name": "stdout",
     "output_type": "stream",
     "text": [
      "Saved to A:\\Projects\\CollegeProjects\\YogaPartner\\intermediates\\v2\\adho_mukha_shvanasana_156.jpg\n",
      "Saved to A:\\Projects\\CollegeProjects\\YogaPartner\\intermediates\\v2\\adho_mukha_shvanasana_19.jpg\n"
     ]
    },
    {
     "name": "stderr",
     "output_type": "stream",
     "text": [
      "958it [02:57,  8.08it/s]"
     ]
    },
    {
     "name": "stdout",
     "output_type": "stream",
     "text": [
      "Saved to A:\\Projects\\CollegeProjects\\YogaPartner\\intermediates\\v2\\adho_mukha_shvanasana_225.jpg\n",
      "Saved to A:\\Projects\\CollegeProjects\\YogaPartner\\intermediates\\v2\\adho_mukha_shvanasana_302.jpg\n"
     ]
    },
    {
     "name": "stderr",
     "output_type": "stream",
     "text": [
      "960it [02:57,  8.25it/s]"
     ]
    },
    {
     "name": "stdout",
     "output_type": "stream",
     "text": [
      "Saved to A:\\Projects\\CollegeProjects\\YogaPartner\\intermediates\\v2\\adho_mukha_shvanasana_315.jpg\n",
      "Saved to A:\\Projects\\CollegeProjects\\YogaPartner\\intermediates\\v2\\adho_mukha_shvanasana_206.jpg\n"
     ]
    },
    {
     "name": "stderr",
     "output_type": "stream",
     "text": [
      "\r",
      "961it [02:57,  7.95it/s]"
     ]
    },
    {
     "name": "stdout",
     "output_type": "stream",
     "text": [
      "Saved to A:\\Projects\\CollegeProjects\\YogaPartner\\intermediates\\v2\\adho_mukha_shvanasana_391.jpg\n"
     ]
    },
    {
     "name": "stderr",
     "output_type": "stream",
     "text": [
      "963it [02:57,  6.59it/s]"
     ]
    },
    {
     "name": "stdout",
     "output_type": "stream",
     "text": [
      "Saved to A:\\Projects\\CollegeProjects\\YogaPartner\\intermediates\\v2\\adho_mukha_shvanasana_56.jpg\n",
      "Saved to A:\\Projects\\CollegeProjects\\YogaPartner\\intermediates\\v2\\adho_mukha_shvanasana_317.jpg\n"
     ]
    },
    {
     "name": "stderr",
     "output_type": "stream",
     "text": [
      "\r",
      "964it [02:58,  6.56it/s]"
     ]
    },
    {
     "name": "stdout",
     "output_type": "stream",
     "text": [
      "Saved to A:\\Projects\\CollegeProjects\\YogaPartner\\intermediates\\v2\\adho_mukha_shvanasana_345.jpg\n"
     ]
    },
    {
     "name": "stderr",
     "output_type": "stream",
     "text": [
      "966it [02:58,  6.51it/s]"
     ]
    },
    {
     "name": "stdout",
     "output_type": "stream",
     "text": [
      "Saved to A:\\Projects\\CollegeProjects\\YogaPartner\\intermediates\\v2\\adho_mukha_shvanasana_69.jpg\n",
      "Saved to A:\\Projects\\CollegeProjects\\YogaPartner\\intermediates\\v2\\adho_mukha_shvanasana_378.jpg\n"
     ]
    },
    {
     "name": "stderr",
     "output_type": "stream",
     "text": [
      "968it [02:58,  6.08it/s]"
     ]
    },
    {
     "name": "stdout",
     "output_type": "stream",
     "text": [
      "Saved to A:\\Projects\\CollegeProjects\\YogaPartner\\intermediates\\v2\\adho_mukha_shvanasana_103.jpg\n",
      "Saved to A:\\Projects\\CollegeProjects\\YogaPartner\\intermediates\\v2\\adho_mukha_shvanasana_183.jpg\n"
     ]
    },
    {
     "name": "stderr",
     "output_type": "stream",
     "text": [
      "970it [02:59,  6.33it/s]"
     ]
    },
    {
     "name": "stdout",
     "output_type": "stream",
     "text": [
      "Saved to A:\\Projects\\CollegeProjects\\YogaPartner\\intermediates\\v2\\adho_mukha_shvanasana_228.jpg\n",
      "Saved to A:\\Projects\\CollegeProjects\\YogaPartner\\intermediates\\v2\\adho_mukha_shvanasana_425.jpg\n"
     ]
    },
    {
     "name": "stderr",
     "output_type": "stream",
     "text": [
      "972it [02:59,  5.94it/s]"
     ]
    },
    {
     "name": "stdout",
     "output_type": "stream",
     "text": [
      "Saved to A:\\Projects\\CollegeProjects\\YogaPartner\\intermediates\\v2\\adho_mukha_shvanasana_59.jpg\n",
      "Saved to A:\\Projects\\CollegeProjects\\YogaPartner\\intermediates\\v2\\adho_mukha_shvanasana_48.jpg\n"
     ]
    },
    {
     "name": "stderr",
     "output_type": "stream",
     "text": [
      "974it [02:59,  6.37it/s]"
     ]
    },
    {
     "name": "stdout",
     "output_type": "stream",
     "text": [
      "Saved to A:\\Projects\\CollegeProjects\\YogaPartner\\intermediates\\v2\\adho_mukha_shvanasana_371.jpg\n",
      "Saved to A:\\Projects\\CollegeProjects\\YogaPartner\\intermediates\\v2\\adho_mukha_shvanasana_338.jpg\n"
     ]
    },
    {
     "name": "stderr",
     "output_type": "stream",
     "text": [
      "976it [03:00,  5.96it/s]"
     ]
    },
    {
     "name": "stdout",
     "output_type": "stream",
     "text": [
      "Saved to A:\\Projects\\CollegeProjects\\YogaPartner\\intermediates\\v2\\adho_mukha_shvanasana_341.jpg\n",
      "Saved to A:\\Projects\\CollegeProjects\\YogaPartner\\intermediates\\v2\\adho_mukha_shvanasana_266.jpg\n"
     ]
    },
    {
     "name": "stderr",
     "output_type": "stream",
     "text": [
      "978it [03:00,  6.79it/s]"
     ]
    },
    {
     "name": "stdout",
     "output_type": "stream",
     "text": [
      "Saved to A:\\Projects\\CollegeProjects\\YogaPartner\\intermediates\\v2\\adho_mukha_shvanasana_50.jpg\n",
      "Saved to A:\\Projects\\CollegeProjects\\YogaPartner\\intermediates\\v2\\adho_mukha_shvanasana_227.jpg\n"
     ]
    },
    {
     "name": "stderr",
     "output_type": "stream",
     "text": [
      "980it [03:00,  7.64it/s]"
     ]
    },
    {
     "name": "stdout",
     "output_type": "stream",
     "text": [
      "Saved to A:\\Projects\\CollegeProjects\\YogaPartner\\intermediates\\v2\\adho_mukha_shvanasana_198.jpg\n",
      "Saved to A:\\Projects\\CollegeProjects\\YogaPartner\\intermediates\\v2\\adho_mukha_shvanasana_320.jpg\n"
     ]
    },
    {
     "name": "stderr",
     "output_type": "stream",
     "text": [
      "982it [03:00,  7.38it/s]"
     ]
    },
    {
     "name": "stdout",
     "output_type": "stream",
     "text": [
      "Saved to A:\\Projects\\CollegeProjects\\YogaPartner\\intermediates\\v2\\adho_mukha_shvanasana_368.jpg\n",
      "Saved to A:\\Projects\\CollegeProjects\\YogaPartner\\intermediates\\v2\\adho_mukha_shvanasana_429.jpg\n"
     ]
    },
    {
     "name": "stderr",
     "output_type": "stream",
     "text": [
      "\r",
      "983it [03:01,  7.54it/s]"
     ]
    },
    {
     "name": "stdout",
     "output_type": "stream",
     "text": [
      "Saved to A:\\Projects\\CollegeProjects\\YogaPartner\\intermediates\\v2\\adho_mukha_shvanasana_288.jpg\n"
     ]
    },
    {
     "name": "stderr",
     "output_type": "stream",
     "text": [
      "\r",
      "984it [03:01,  4.88it/s]"
     ]
    },
    {
     "name": "stdout",
     "output_type": "stream",
     "text": [
      "Saved to A:\\Projects\\CollegeProjects\\YogaPartner\\intermediates\\v2\\adho_mukha_shvanasana_27.jpg\n"
     ]
    },
    {
     "name": "stderr",
     "output_type": "stream",
     "text": [
      "986it [03:01,  4.78it/s]"
     ]
    },
    {
     "name": "stdout",
     "output_type": "stream",
     "text": [
      "Saved to A:\\Projects\\CollegeProjects\\YogaPartner\\intermediates\\v2\\adho_mukha_shvanasana_86.jpg\n",
      "Saved to A:\\Projects\\CollegeProjects\\YogaPartner\\intermediates\\v2\\adho_mukha_shvanasana_126.jpg\n"
     ]
    },
    {
     "name": "stderr",
     "output_type": "stream",
     "text": [
      "\r",
      "987it [03:02,  4.81it/s]"
     ]
    },
    {
     "name": "stdout",
     "output_type": "stream",
     "text": [
      "Saved to A:\\Projects\\CollegeProjects\\YogaPartner\\intermediates\\v2\\adho_mukha_shvanasana_298.jpg\n"
     ]
    },
    {
     "name": "stderr",
     "output_type": "stream",
     "text": [
      "989it [03:02,  4.66it/s]"
     ]
    },
    {
     "name": "stdout",
     "output_type": "stream",
     "text": [
      "Saved to A:\\Projects\\CollegeProjects\\YogaPartner\\intermediates\\v2\\adho_mukha_shvanasana_337.jpg\n",
      "Saved to A:\\Projects\\CollegeProjects\\YogaPartner\\intermediates\\v2\\adho_mukha_shvanasana_254.jpg\n"
     ]
    },
    {
     "name": "stderr",
     "output_type": "stream",
     "text": [
      "\r",
      "990it [03:02,  5.37it/s]"
     ]
    },
    {
     "name": "stdout",
     "output_type": "stream",
     "text": [
      "Saved to A:\\Projects\\CollegeProjects\\YogaPartner\\intermediates\\v2\\adho_mukha_shvanasana_276.jpg\n"
     ]
    },
    {
     "name": "stderr",
     "output_type": "stream",
     "text": [
      "992it [03:03,  5.76it/s]"
     ]
    },
    {
     "name": "stdout",
     "output_type": "stream",
     "text": [
      "Saved to A:\\Projects\\CollegeProjects\\YogaPartner\\intermediates\\v2\\adho_mukha_shvanasana_272.jpg\n",
      "Saved to A:\\Projects\\CollegeProjects\\YogaPartner\\intermediates\\v2\\adho_mukha_shvanasana_324.jpg\n",
      "Saved to A:\\Projects\\CollegeProjects\\YogaPartner\\intermediates\\v2\\adho_mukha_shvanasana_433.jpg\n"
     ]
    },
    {
     "name": "stderr",
     "output_type": "stream",
     "text": [
      "995it [03:03,  6.28it/s]"
     ]
    },
    {
     "name": "stdout",
     "output_type": "stream",
     "text": [
      "Saved to A:\\Projects\\CollegeProjects\\YogaPartner\\intermediates\\v2\\adho_mukha_shvanasana_182.jpg\n",
      "Saved to A:\\Projects\\CollegeProjects\\YogaPartner\\intermediates\\v2\\adho_mukha_shvanasana_416.jpg\n"
     ]
    },
    {
     "name": "stderr",
     "output_type": "stream",
     "text": [
      "997it [03:03,  6.51it/s]"
     ]
    },
    {
     "name": "stdout",
     "output_type": "stream",
     "text": [
      "Saved to A:\\Projects\\CollegeProjects\\YogaPartner\\intermediates\\v2\\adho_mukha_shvanasana_171.jpg\n",
      "Saved to A:\\Projects\\CollegeProjects\\YogaPartner\\intermediates\\v2\\adho_mukha_shvanasana_413.jpg\n"
     ]
    },
    {
     "name": "stderr",
     "output_type": "stream",
     "text": [
      "999it [03:04,  6.75it/s]"
     ]
    },
    {
     "name": "stdout",
     "output_type": "stream",
     "text": [
      "Saved to A:\\Projects\\CollegeProjects\\YogaPartner\\intermediates\\v2\\adho_mukha_shvanasana_187.jpg\n",
      "Saved to A:\\Projects\\CollegeProjects\\YogaPartner\\intermediates\\v2\\adho_mukha_shvanasana_356.jpg\n"
     ]
    },
    {
     "name": "stderr",
     "output_type": "stream",
     "text": [
      "1001it [03:04,  7.05it/s]"
     ]
    },
    {
     "name": "stdout",
     "output_type": "stream",
     "text": [
      "Saved to A:\\Projects\\CollegeProjects\\YogaPartner\\intermediates\\v2\\adho_mukha_shvanasana_409.jpg\n",
      "Saved to A:\\Projects\\CollegeProjects\\YogaPartner\\intermediates\\v2\\adho_mukha_shvanasana_20.jpg\n"
     ]
    },
    {
     "name": "stderr",
     "output_type": "stream",
     "text": [
      "1003it [03:04,  7.69it/s]"
     ]
    },
    {
     "name": "stdout",
     "output_type": "stream",
     "text": [
      "Saved to A:\\Projects\\CollegeProjects\\YogaPartner\\intermediates\\v2\\adho_mukha_shvanasana_16.jpg\n",
      "Saved to A:\\Projects\\CollegeProjects\\YogaPartner\\intermediates\\v2\\adho_mukha_shvanasana_67.jpg\n"
     ]
    },
    {
     "name": "stderr",
     "output_type": "stream",
     "text": [
      "1005it [03:04,  6.95it/s]"
     ]
    },
    {
     "name": "stdout",
     "output_type": "stream",
     "text": [
      "Saved to A:\\Projects\\CollegeProjects\\YogaPartner\\intermediates\\v2\\adho_mukha_shvanasana_172.jpg\n",
      "Saved to A:\\Projects\\CollegeProjects\\YogaPartner\\intermediates\\v2\\adho_mukha_shvanasana_98.jpg\n"
     ]
    },
    {
     "name": "stderr",
     "output_type": "stream",
     "text": [
      "1007it [03:05,  6.18it/s]"
     ]
    },
    {
     "name": "stdout",
     "output_type": "stream",
     "text": [
      "Saved to A:\\Projects\\CollegeProjects\\YogaPartner\\intermediates\\v2\\adho_mukha_shvanasana_158.jpg\n",
      "Saved to A:\\Projects\\CollegeProjects\\YogaPartner\\intermediates\\v2\\adho_mukha_shvanasana_235.jpg\n"
     ]
    },
    {
     "name": "stderr",
     "output_type": "stream",
     "text": [
      "1009it [03:05,  7.48it/s]"
     ]
    },
    {
     "name": "stdout",
     "output_type": "stream",
     "text": [
      "Saved to A:\\Projects\\CollegeProjects\\YogaPartner\\intermediates\\v2\\adho_mukha_shvanasana_119.jpg\n",
      "Saved to A:\\Projects\\CollegeProjects\\YogaPartner\\intermediates\\v2\\adho_mukha_shvanasana_331.jpg\n"
     ]
    },
    {
     "name": "stderr",
     "output_type": "stream",
     "text": [
      "1011it [03:05,  6.62it/s]"
     ]
    },
    {
     "name": "stdout",
     "output_type": "stream",
     "text": [
      "Saved to A:\\Projects\\CollegeProjects\\YogaPartner\\intermediates\\v2\\adho_mukha_shvanasana_207.jpg\n",
      "Saved to A:\\Projects\\CollegeProjects\\YogaPartner\\intermediates\\v2\\adho_mukha_shvanasana_43.jpg\n"
     ]
    },
    {
     "name": "stderr",
     "output_type": "stream",
     "text": [
      "1013it [03:06,  7.03it/s]"
     ]
    },
    {
     "name": "stdout",
     "output_type": "stream",
     "text": [
      "Saved to A:\\Projects\\CollegeProjects\\YogaPartner\\intermediates\\v2\\adho_mukha_shvanasana_423.jpg\n",
      "Saved to A:\\Projects\\CollegeProjects\\YogaPartner\\intermediates\\v2\\adho_mukha_shvanasana_70.jpg\n"
     ]
    },
    {
     "name": "stderr",
     "output_type": "stream",
     "text": [
      "1015it [03:06,  7.46it/s]"
     ]
    },
    {
     "name": "stdout",
     "output_type": "stream",
     "text": [
      "Saved to A:\\Projects\\CollegeProjects\\YogaPartner\\intermediates\\v2\\adho_mukha_shvanasana_431.jpg\n",
      "Saved to A:\\Projects\\CollegeProjects\\YogaPartner\\intermediates\\v2\\adho_mukha_shvanasana_326.jpg\n",
      "Saved to A:\\Projects\\CollegeProjects\\YogaPartner\\intermediates\\v2\\adho_mukha_shvanasana_44.jpg\n"
     ]
    },
    {
     "name": "stderr",
     "output_type": "stream",
     "text": [
      "\r",
      "1017it [03:07,  2.62it/s]"
     ]
    },
    {
     "name": "stdout",
     "output_type": "stream",
     "text": [
      "Saved to A:\\Projects\\CollegeProjects\\YogaPartner\\intermediates\\v2\\adho_mukha_shvanasana_304.jpg\n"
     ]
    },
    {
     "name": "stderr",
     "output_type": "stream",
     "text": [
      "1019it [03:08,  3.18it/s]"
     ]
    },
    {
     "name": "stdout",
     "output_type": "stream",
     "text": [
      "Saved to A:\\Projects\\CollegeProjects\\YogaPartner\\intermediates\\v2\\adho_mukha_shvanasana_68.jpg\n",
      "Saved to A:\\Projects\\CollegeProjects\\YogaPartner\\intermediates\\v2\\adho_mukha_shvanasana_293.jpg\n"
     ]
    },
    {
     "name": "stderr",
     "output_type": "stream",
     "text": [
      "\r",
      "1020it [03:08,  3.85it/s]"
     ]
    },
    {
     "name": "stdout",
     "output_type": "stream",
     "text": [
      "Saved to A:\\Projects\\CollegeProjects\\YogaPartner\\intermediates\\v2\\adho_mukha_shvanasana_22.jpg\n",
      "Saved to A:\\Projects\\CollegeProjects\\YogaPartner\\intermediates\\v2\\adho_mukha_shvanasana_170.jpg\n"
     ]
    },
    {
     "name": "stderr",
     "output_type": "stream",
     "text": [
      "1023it [03:08,  5.41it/s]"
     ]
    },
    {
     "name": "stdout",
     "output_type": "stream",
     "text": [
      "Saved to A:\\Projects\\CollegeProjects\\YogaPartner\\intermediates\\v2\\adho_mukha_shvanasana_30.jpg\n",
      "Saved to A:\\Projects\\CollegeProjects\\YogaPartner\\intermediates\\v2\\adho_mukha_shvanasana_400.jpg\n"
     ]
    },
    {
     "name": "stderr",
     "output_type": "stream",
     "text": [
      "1025it [03:08,  5.72it/s]"
     ]
    },
    {
     "name": "stdout",
     "output_type": "stream",
     "text": [
      "Saved to A:\\Projects\\CollegeProjects\\YogaPartner\\intermediates\\v2\\adho_mukha_shvanasana_84.jpg\n",
      "Saved to A:\\Projects\\CollegeProjects\\YogaPartner\\intermediates\\v2\\adho_mukha_shvanasana_311.jpg\n"
     ]
    },
    {
     "name": "stderr",
     "output_type": "stream",
     "text": [
      "1027it [03:09,  6.68it/s]"
     ]
    },
    {
     "name": "stdout",
     "output_type": "stream",
     "text": [
      "Saved to A:\\Projects\\CollegeProjects\\YogaPartner\\intermediates\\v2\\adho_mukha_shvanasana_3.jpg\n",
      "Saved to A:\\Projects\\CollegeProjects\\YogaPartner\\intermediates\\v2\\adho_mukha_shvanasana_289.jpg\n"
     ]
    },
    {
     "name": "stderr",
     "output_type": "stream",
     "text": [
      "1029it [03:09,  7.14it/s]"
     ]
    },
    {
     "name": "stdout",
     "output_type": "stream",
     "text": [
      "Saved to A:\\Projects\\CollegeProjects\\YogaPartner\\intermediates\\v2\\adho_mukha_shvanasana_108.jpg\n",
      "Saved to A:\\Projects\\CollegeProjects\\YogaPartner\\intermediates\\v2\\adho_mukha_shvanasana_142.jpg\n"
     ]
    },
    {
     "name": "stderr",
     "output_type": "stream",
     "text": [
      "1031it [03:09,  7.29it/s]"
     ]
    },
    {
     "name": "stdout",
     "output_type": "stream",
     "text": [
      "Saved to A:\\Projects\\CollegeProjects\\YogaPartner\\intermediates\\v2\\adho_mukha_shvanasana_262.jpg\n",
      "Saved to A:\\Projects\\CollegeProjects\\YogaPartner\\intermediates\\v2\\adho_mukha_shvanasana_208.jpg\n"
     ]
    },
    {
     "name": "stderr",
     "output_type": "stream",
     "text": [
      "1033it [03:10,  7.58it/s]"
     ]
    },
    {
     "name": "stdout",
     "output_type": "stream",
     "text": [
      "Saved to A:\\Projects\\CollegeProjects\\YogaPartner\\intermediates\\v2\\adho_mukha_shvanasana_120.jpg\n",
      "Saved to A:\\Projects\\CollegeProjects\\YogaPartner\\intermediates\\v2\\adho_mukha_shvanasana_346.jpg\n"
     ]
    },
    {
     "name": "stderr",
     "output_type": "stream",
     "text": [
      "1035it [03:10,  7.77it/s]"
     ]
    },
    {
     "name": "stdout",
     "output_type": "stream",
     "text": [
      "Saved to A:\\Projects\\CollegeProjects\\YogaPartner\\intermediates\\v2\\adho_mukha_shvanasana_136.jpg\n",
      "Saved to A:\\Projects\\CollegeProjects\\YogaPartner\\intermediates\\v2\\adho_mukha_shvanasana_216.jpg\n"
     ]
    },
    {
     "name": "stderr",
     "output_type": "stream",
     "text": [
      "1037it [03:10,  8.62it/s]"
     ]
    },
    {
     "name": "stdout",
     "output_type": "stream",
     "text": [
      "Saved to A:\\Projects\\CollegeProjects\\YogaPartner\\intermediates\\v2\\adho_mukha_shvanasana_137.jpg\n",
      "Saved to A:\\Projects\\CollegeProjects\\YogaPartner\\intermediates\\v2\\adho_mukha_shvanasana_202.jpg\n"
     ]
    },
    {
     "name": "stderr",
     "output_type": "stream",
     "text": [
      "1039it [03:10,  7.66it/s]"
     ]
    },
    {
     "name": "stdout",
     "output_type": "stream",
     "text": [
      "Saved to A:\\Projects\\CollegeProjects\\YogaPartner\\intermediates\\v2\\adho_mukha_shvanasana_166.jpg\n",
      "Saved to A:\\Projects\\CollegeProjects\\YogaPartner\\intermediates\\v2\\adho_mukha_shvanasana_34.jpg\n"
     ]
    },
    {
     "name": "stderr",
     "output_type": "stream",
     "text": [
      "1041it [03:11,  7.04it/s]"
     ]
    },
    {
     "name": "stdout",
     "output_type": "stream",
     "text": [
      "Saved to A:\\Projects\\CollegeProjects\\YogaPartner\\intermediates\\v2\\adho_mukha_shvanasana_370.jpg\n",
      "Saved to A:\\Projects\\CollegeProjects\\YogaPartner\\intermediates\\v2\\adho_mukha_shvanasana_415.jpg\n"
     ]
    },
    {
     "name": "stderr",
     "output_type": "stream",
     "text": [
      "1043it [03:11,  7.30it/s]"
     ]
    },
    {
     "name": "stdout",
     "output_type": "stream",
     "text": [
      "Saved to A:\\Projects\\CollegeProjects\\YogaPartner\\intermediates\\v2\\adho_mukha_shvanasana_95.jpg\n",
      "Saved to A:\\Projects\\CollegeProjects\\YogaPartner\\intermediates\\v2\\adho_mukha_shvanasana_390.jpg\n"
     ]
    },
    {
     "name": "stderr",
     "output_type": "stream",
     "text": [
      "1045it [03:11,  7.80it/s]"
     ]
    },
    {
     "name": "stdout",
     "output_type": "stream",
     "text": [
      "Saved to A:\\Projects\\CollegeProjects\\YogaPartner\\intermediates\\v2\\adho_mukha_shvanasana_177.jpg\n",
      "Saved to A:\\Projects\\CollegeProjects\\YogaPartner\\intermediates\\v2\\adho_mukha_shvanasana_352.jpg\n",
      "Saved to A:\\Projects\\CollegeProjects\\YogaPartner\\intermediates\\v2\\phalakasana_82.jpg\n"
     ]
    },
    {
     "name": "stderr",
     "output_type": "stream",
     "text": [
      "1048it [03:11,  8.06it/s]"
     ]
    },
    {
     "name": "stdout",
     "output_type": "stream",
     "text": [
      "Saved to A:\\Projects\\CollegeProjects\\YogaPartner\\intermediates\\v2\\phalakasana_96.jpg\n",
      "Saved to A:\\Projects\\CollegeProjects\\YogaPartner\\intermediates\\v2\\phalakasana_129.jpg\n"
     ]
    },
    {
     "name": "stderr",
     "output_type": "stream",
     "text": [
      "\r",
      "1049it [03:12,  7.71it/s]"
     ]
    },
    {
     "name": "stdout",
     "output_type": "stream",
     "text": [
      "Saved to A:\\Projects\\CollegeProjects\\YogaPartner\\intermediates\\v2\\phalakasana_87.jpg\n"
     ]
    },
    {
     "name": "stderr",
     "output_type": "stream",
     "text": [
      "1051it [03:13,  2.94it/s]"
     ]
    },
    {
     "name": "stdout",
     "output_type": "stream",
     "text": [
      "Saved to A:\\Projects\\CollegeProjects\\YogaPartner\\intermediates\\v2\\phalakasana_94.jpg\n",
      "Saved to A:\\Projects\\CollegeProjects\\YogaPartner\\intermediates\\v2\\phalakasana_99.jpg\n"
     ]
    },
    {
     "name": "stderr",
     "output_type": "stream",
     "text": [
      "1053it [03:13,  3.78it/s]"
     ]
    },
    {
     "name": "stdout",
     "output_type": "stream",
     "text": [
      "Saved to A:\\Projects\\CollegeProjects\\YogaPartner\\intermediates\\v2\\phalakasana_14.jpg\n",
      "Saved to A:\\Projects\\CollegeProjects\\YogaPartner\\intermediates\\v2\\phalakasana_51.jpg\n"
     ]
    },
    {
     "name": "stderr",
     "output_type": "stream",
     "text": [
      "\r",
      "1055it [03:13,  5.30it/s]"
     ]
    },
    {
     "name": "stdout",
     "output_type": "stream",
     "text": [
      "Saved to A:\\Projects\\CollegeProjects\\YogaPartner\\intermediates\\v2\\phalakasana_71.jpg\n",
      "Saved to A:\\Projects\\CollegeProjects\\YogaPartner\\intermediates\\v2\\phalakasana_44.jpg\n"
     ]
    },
    {
     "name": "stderr",
     "output_type": "stream",
     "text": [
      "1057it [03:14,  6.09it/s]"
     ]
    },
    {
     "name": "stdout",
     "output_type": "stream",
     "text": [
      "Saved to A:\\Projects\\CollegeProjects\\YogaPartner\\intermediates\\v2\\phalakasana_46.jpg\n",
      "Saved to A:\\Projects\\CollegeProjects\\YogaPartner\\intermediates\\v2\\phalakasana_128.jpg\n"
     ]
    },
    {
     "name": "stderr",
     "output_type": "stream",
     "text": [
      "1059it [03:14,  6.77it/s]"
     ]
    },
    {
     "name": "stdout",
     "output_type": "stream",
     "text": [
      "Saved to A:\\Projects\\CollegeProjects\\YogaPartner\\intermediates\\v2\\phalakasana_123.jpg\n",
      "Saved to A:\\Projects\\CollegeProjects\\YogaPartner\\intermediates\\v2\\phalakasana_111.jpg\n"
     ]
    },
    {
     "name": "stderr",
     "output_type": "stream",
     "text": [
      "1061it [03:15,  4.24it/s]"
     ]
    },
    {
     "name": "stdout",
     "output_type": "stream",
     "text": [
      "Saved to A:\\Projects\\CollegeProjects\\YogaPartner\\intermediates\\v2\\phalakasana_61.jpg\n",
      "Saved to A:\\Projects\\CollegeProjects\\YogaPartner\\intermediates\\v2\\phalakasana_93.jpg\n"
     ]
    },
    {
     "name": "stderr",
     "output_type": "stream",
     "text": [
      "1063it [03:15,  5.60it/s]"
     ]
    },
    {
     "name": "stdout",
     "output_type": "stream",
     "text": [
      "Saved to A:\\Projects\\CollegeProjects\\YogaPartner\\intermediates\\v2\\phalakasana_137.jpg\n",
      "Saved to A:\\Projects\\CollegeProjects\\YogaPartner\\intermediates\\v2\\phalakasana_18.jpg\n"
     ]
    },
    {
     "name": "stderr",
     "output_type": "stream",
     "text": [
      "1065it [03:15,  5.96it/s]"
     ]
    },
    {
     "name": "stdout",
     "output_type": "stream",
     "text": [
      "Saved to A:\\Projects\\CollegeProjects\\YogaPartner\\intermediates\\v2\\phalakasana_8.jpg\n",
      "Saved to A:\\Projects\\CollegeProjects\\YogaPartner\\intermediates\\v2\\phalakasana_105.jpg\n"
     ]
    },
    {
     "name": "stderr",
     "output_type": "stream",
     "text": [
      "\r",
      "1067it [03:16,  6.45it/s]"
     ]
    },
    {
     "name": "stdout",
     "output_type": "stream",
     "text": [
      "Saved to A:\\Projects\\CollegeProjects\\YogaPartner\\intermediates\\v2\\phalakasana_33.jpg\n",
      "Saved to A:\\Projects\\CollegeProjects\\YogaPartner\\intermediates\\v2\\phalakasana_127.jpg\n"
     ]
    },
    {
     "name": "stderr",
     "output_type": "stream",
     "text": [
      "1069it [03:16,  6.29it/s]"
     ]
    },
    {
     "name": "stdout",
     "output_type": "stream",
     "text": [
      "Saved to A:\\Projects\\CollegeProjects\\YogaPartner\\intermediates\\v2\\phalakasana_47.jpg\n",
      "Saved to A:\\Projects\\CollegeProjects\\YogaPartner\\intermediates\\v2\\phalakasana_39.jpg\n"
     ]
    },
    {
     "name": "stderr",
     "output_type": "stream",
     "text": [
      "1071it [03:16,  6.45it/s]"
     ]
    },
    {
     "name": "stdout",
     "output_type": "stream",
     "text": [
      "Saved to A:\\Projects\\CollegeProjects\\YogaPartner\\intermediates\\v2\\phalakasana_97.jpg\n",
      "Saved to A:\\Projects\\CollegeProjects\\YogaPartner\\intermediates\\v2\\phalakasana_77.jpg\n"
     ]
    },
    {
     "name": "stderr",
     "output_type": "stream",
     "text": [
      "1073it [03:17,  6.70it/s]"
     ]
    },
    {
     "name": "stdout",
     "output_type": "stream",
     "text": [
      "Saved to A:\\Projects\\CollegeProjects\\YogaPartner\\intermediates\\v2\\phalakasana_49.jpg\n",
      "Saved to A:\\Projects\\CollegeProjects\\YogaPartner\\intermediates\\v2\\phalakasana_65.jpg\n"
     ]
    },
    {
     "name": "stderr",
     "output_type": "stream",
     "text": [
      "1075it [03:17,  7.20it/s]"
     ]
    },
    {
     "name": "stdout",
     "output_type": "stream",
     "text": [
      "Saved to A:\\Projects\\CollegeProjects\\YogaPartner\\intermediates\\v2\\phalakasana_48.jpg\n",
      "Saved to A:\\Projects\\CollegeProjects\\YogaPartner\\intermediates\\v2\\phalakasana_59.jpg\n"
     ]
    },
    {
     "name": "stderr",
     "output_type": "stream",
     "text": [
      "1077it [03:17,  8.04it/s]"
     ]
    },
    {
     "name": "stdout",
     "output_type": "stream",
     "text": [
      "Saved to A:\\Projects\\CollegeProjects\\YogaPartner\\intermediates\\v2\\phalakasana_126.jpg\n",
      "Saved to A:\\Projects\\CollegeProjects\\YogaPartner\\intermediates\\v2\\phalakasana_118.jpeg\n"
     ]
    },
    {
     "name": "stderr",
     "output_type": "stream",
     "text": [
      "1079it [03:17,  8.54it/s]"
     ]
    },
    {
     "name": "stdout",
     "output_type": "stream",
     "text": [
      "Saved to A:\\Projects\\CollegeProjects\\YogaPartner\\intermediates\\v2\\phalakasana_144.jpg\n",
      "Saved to A:\\Projects\\CollegeProjects\\YogaPartner\\intermediates\\v2\\phalakasana_131.jpg\n"
     ]
    },
    {
     "name": "stderr",
     "output_type": "stream",
     "text": [
      "\r",
      "1080it [03:18,  4.15it/s]"
     ]
    },
    {
     "name": "stdout",
     "output_type": "stream",
     "text": [
      "Saved to A:\\Projects\\CollegeProjects\\YogaPartner\\intermediates\\v2\\phalakasana_106.jpg\n"
     ]
    },
    {
     "name": "stderr",
     "output_type": "stream",
     "text": [
      "1082it [03:18,  5.05it/s]"
     ]
    },
    {
     "name": "stdout",
     "output_type": "stream",
     "text": [
      "Saved to A:\\Projects\\CollegeProjects\\YogaPartner\\intermediates\\v2\\phalakasana_22.jpg\n",
      "Saved to A:\\Projects\\CollegeProjects\\YogaPartner\\intermediates\\v2\\phalakasana_103.jpg\n"
     ]
    },
    {
     "name": "stderr",
     "output_type": "stream",
     "text": [
      "\r",
      "1083it [03:18,  5.36it/s]"
     ]
    },
    {
     "name": "stdout",
     "output_type": "stream",
     "text": [
      "Saved to A:\\Projects\\CollegeProjects\\YogaPartner\\intermediates\\v2\\phalakasana_121.jpg\n",
      "Saved to A:\\Projects\\CollegeProjects\\YogaPartner\\intermediates\\v2\\phalakasana_31.jpg\n"
     ]
    },
    {
     "name": "stderr",
     "output_type": "stream",
     "text": [
      "1086it [03:19,  6.04it/s]"
     ]
    },
    {
     "name": "stdout",
     "output_type": "stream",
     "text": [
      "Saved to A:\\Projects\\CollegeProjects\\YogaPartner\\intermediates\\v2\\phalakasana_104.jpg\n",
      "Saved to A:\\Projects\\CollegeProjects\\YogaPartner\\intermediates\\v2\\phalakasana_38.jpg\n"
     ]
    },
    {
     "name": "stderr",
     "output_type": "stream",
     "text": [
      "1088it [03:19,  6.10it/s]"
     ]
    },
    {
     "name": "stdout",
     "output_type": "stream",
     "text": [
      "Saved to A:\\Projects\\CollegeProjects\\YogaPartner\\intermediates\\v2\\phalakasana_89.jpg\n",
      "Saved to A:\\Projects\\CollegeProjects\\YogaPartner\\intermediates\\v2\\phalakasana_86.jpg\n"
     ]
    },
    {
     "name": "stderr",
     "output_type": "stream",
     "text": [
      "1090it [03:19,  6.12it/s]"
     ]
    },
    {
     "name": "stdout",
     "output_type": "stream",
     "text": [
      "Saved to A:\\Projects\\CollegeProjects\\YogaPartner\\intermediates\\v2\\phalakasana_3.jpg\n",
      "Saved to A:\\Projects\\CollegeProjects\\YogaPartner\\intermediates\\v2\\phalakasana_145.jpg\n"
     ]
    },
    {
     "name": "stderr",
     "output_type": "stream",
     "text": [
      "1092it [03:20,  6.43it/s]"
     ]
    },
    {
     "name": "stdout",
     "output_type": "stream",
     "text": [
      "Saved to A:\\Projects\\CollegeProjects\\YogaPartner\\intermediates\\v2\\phalakasana_108.jpg\n",
      "Saved to A:\\Projects\\CollegeProjects\\YogaPartner\\intermediates\\v2\\phalakasana_109.jpg\n"
     ]
    },
    {
     "name": "stderr",
     "output_type": "stream",
     "text": [
      "1094it [03:20,  5.59it/s]"
     ]
    },
    {
     "name": "stdout",
     "output_type": "stream",
     "text": [
      "Saved to A:\\Projects\\CollegeProjects\\YogaPartner\\intermediates\\v2\\phalakasana_16.jpg\n",
      "Saved to A:\\Projects\\CollegeProjects\\YogaPartner\\intermediates\\v2\\phalakasana_138.jpg\n"
     ]
    },
    {
     "name": "stderr",
     "output_type": "stream",
     "text": [
      "1096it [03:20,  6.52it/s]"
     ]
    },
    {
     "name": "stdout",
     "output_type": "stream",
     "text": [
      "Saved to A:\\Projects\\CollegeProjects\\YogaPartner\\intermediates\\v2\\phalakasana_27.jpg\n",
      "Saved to A:\\Projects\\CollegeProjects\\YogaPartner\\intermediates\\v2\\phalakasana_80.jpg\n"
     ]
    },
    {
     "name": "stderr",
     "output_type": "stream",
     "text": [
      "1098it [03:21,  7.30it/s]"
     ]
    },
    {
     "name": "stdout",
     "output_type": "stream",
     "text": [
      "Saved to A:\\Projects\\CollegeProjects\\YogaPartner\\intermediates\\v2\\phalakasana_4.jpg\n",
      "Saved to A:\\Projects\\CollegeProjects\\YogaPartner\\intermediates\\v2\\phalakasana_142.jpg\n"
     ]
    },
    {
     "name": "stderr",
     "output_type": "stream",
     "text": [
      "1100it [03:21,  6.72it/s]"
     ]
    },
    {
     "name": "stdout",
     "output_type": "stream",
     "text": [
      "Saved to A:\\Projects\\CollegeProjects\\YogaPartner\\intermediates\\v2\\phalakasana_115.jpg\n",
      "Saved to A:\\Projects\\CollegeProjects\\YogaPartner\\intermediates\\v2\\phalakasana_125.jpg\n",
      "Saved to A:\\Projects\\CollegeProjects\\YogaPartner\\intermediates\\v2\\phalakasana_139.jpg\n"
     ]
    },
    {
     "name": "stderr",
     "output_type": "stream",
     "text": [
      "1103it [03:21,  5.83it/s]"
     ]
    },
    {
     "name": "stdout",
     "output_type": "stream",
     "text": [
      "Saved to A:\\Projects\\CollegeProjects\\YogaPartner\\intermediates\\v2\\phalakasana_13.jpg\n",
      "Saved to A:\\Projects\\CollegeProjects\\YogaPartner\\intermediates\\v2\\phalakasana_143.jpg\n"
     ]
    },
    {
     "name": "stderr",
     "output_type": "stream",
     "text": [
      "1105it [03:22,  5.97it/s]"
     ]
    },
    {
     "name": "stdout",
     "output_type": "stream",
     "text": [
      "Saved to A:\\Projects\\CollegeProjects\\YogaPartner\\intermediates\\v2\\phalakasana_78.jpg\n",
      "Saved to A:\\Projects\\CollegeProjects\\YogaPartner\\intermediates\\v2\\phalakasana_91.jpg\n"
     ]
    },
    {
     "name": "stderr",
     "output_type": "stream",
     "text": [
      "1107it [03:22,  6.49it/s]"
     ]
    },
    {
     "name": "stdout",
     "output_type": "stream",
     "text": [
      "Saved to A:\\Projects\\CollegeProjects\\YogaPartner\\intermediates\\v2\\phalakasana_24.jpg\n",
      "Saved to A:\\Projects\\CollegeProjects\\YogaPartner\\intermediates\\v2\\phalakasana_114.jpg\n"
     ]
    },
    {
     "name": "stderr",
     "output_type": "stream",
     "text": [
      "1109it [03:22,  7.10it/s]"
     ]
    },
    {
     "name": "stdout",
     "output_type": "stream",
     "text": [
      "Saved to A:\\Projects\\CollegeProjects\\YogaPartner\\intermediates\\v2\\phalakasana_41.jpg\n",
      "Saved to A:\\Projects\\CollegeProjects\\YogaPartner\\intermediates\\v2\\phalakasana_17.jpg\n",
      "Saved to A:\\Projects\\CollegeProjects\\YogaPartner\\intermediates\\v2\\phalakasana_132.jpg\n"
     ]
    },
    {
     "name": "stderr",
     "output_type": "stream",
     "text": [
      "1112it [03:23,  7.57it/s]"
     ]
    },
    {
     "name": "stdout",
     "output_type": "stream",
     "text": [
      "Saved to A:\\Projects\\CollegeProjects\\YogaPartner\\intermediates\\v2\\phalakasana_136.jpg\n",
      "Saved to A:\\Projects\\CollegeProjects\\YogaPartner\\intermediates\\v2\\phalakasana_130.jpg\n"
     ]
    },
    {
     "name": "stderr",
     "output_type": "stream",
     "text": [
      "1114it [03:23,  7.22it/s]"
     ]
    },
    {
     "name": "stdout",
     "output_type": "stream",
     "text": [
      "Saved to A:\\Projects\\CollegeProjects\\YogaPartner\\intermediates\\v2\\phalakasana_11.jpg\n",
      "Saved to A:\\Projects\\CollegeProjects\\YogaPartner\\intermediates\\v2\\phalakasana_134.jpg\n"
     ]
    },
    {
     "name": "stderr",
     "output_type": "stream",
     "text": [
      "1116it [03:23,  7.66it/s]"
     ]
    },
    {
     "name": "stdout",
     "output_type": "stream",
     "text": [
      "Saved to A:\\Projects\\CollegeProjects\\YogaPartner\\intermediates\\v2\\phalakasana_107.jpg\n",
      "Saved to A:\\Projects\\CollegeProjects\\YogaPartner\\intermediates\\v2\\phalakasana_37.jpg\n"
     ]
    },
    {
     "name": "stderr",
     "output_type": "stream",
     "text": [
      "\r",
      "1117it [03:23,  7.56it/s]"
     ]
    },
    {
     "name": "stdout",
     "output_type": "stream",
     "text": [
      "Saved to A:\\Projects\\CollegeProjects\\YogaPartner\\intermediates\\v2\\phalakasana_19.jpg\n"
     ]
    },
    {
     "name": "stderr",
     "output_type": "stream",
     "text": [
      "1119it [03:24,  3.33it/s]"
     ]
    },
    {
     "name": "stdout",
     "output_type": "stream",
     "text": [
      "Saved to A:\\Projects\\CollegeProjects\\YogaPartner\\intermediates\\v2\\phalakasana_52.jpg\n",
      "Saved to A:\\Projects\\CollegeProjects\\YogaPartner\\intermediates\\v2\\phalakasana_2.jpg\n"
     ]
    },
    {
     "name": "stderr",
     "output_type": "stream",
     "text": [
      "\r",
      "1120it [03:25,  4.08it/s]"
     ]
    },
    {
     "name": "stdout",
     "output_type": "stream",
     "text": [
      "Saved to A:\\Projects\\CollegeProjects\\YogaPartner\\intermediates\\v2\\phalakasana_29.jpg\n"
     ]
    },
    {
     "name": "stderr",
     "output_type": "stream",
     "text": [
      "1122it [03:25,  3.95it/s]"
     ]
    },
    {
     "name": "stdout",
     "output_type": "stream",
     "text": [
      "Saved to A:\\Projects\\CollegeProjects\\YogaPartner\\intermediates\\v2\\phalakasana_124.jpg\n",
      "Saved to A:\\Projects\\CollegeProjects\\YogaPartner\\intermediates\\v2\\phalakasana_141.jpg\n"
     ]
    },
    {
     "name": "stderr",
     "output_type": "stream",
     "text": [
      "1124it [03:26,  4.39it/s]"
     ]
    },
    {
     "name": "stdout",
     "output_type": "stream",
     "text": [
      "Saved to A:\\Projects\\CollegeProjects\\YogaPartner\\intermediates\\v2\\phalakasana_83.jpg\n",
      "Saved to A:\\Projects\\CollegeProjects\\YogaPartner\\intermediates\\v2\\phalakasana_66.jpg\n"
     ]
    },
    {
     "name": "stderr",
     "output_type": "stream",
     "text": [
      "1126it [03:26,  5.97it/s]"
     ]
    },
    {
     "name": "stdout",
     "output_type": "stream",
     "text": [
      "Saved to A:\\Projects\\CollegeProjects\\YogaPartner\\intermediates\\v2\\phalakasana_26.jpg\n",
      "Saved to A:\\Projects\\CollegeProjects\\YogaPartner\\intermediates\\v2\\phalakasana_9.jpg\n"
     ]
    },
    {
     "name": "stderr",
     "output_type": "stream",
     "text": [
      "1128it [03:26,  6.10it/s]"
     ]
    },
    {
     "name": "stdout",
     "output_type": "stream",
     "text": [
      "Saved to A:\\Projects\\CollegeProjects\\YogaPartner\\intermediates\\v2\\phalakasana_62.jpg\n",
      "Saved to A:\\Projects\\CollegeProjects\\YogaPartner\\intermediates\\v2\\phalakasana_135.jpg\n"
     ]
    },
    {
     "name": "stderr",
     "output_type": "stream",
     "text": [
      "\r",
      "1129it [03:26,  6.16it/s]"
     ]
    },
    {
     "name": "stdout",
     "output_type": "stream",
     "text": [
      "Saved to A:\\Projects\\CollegeProjects\\YogaPartner\\intermediates\\v2\\phalakasana_90.jpg\n"
     ]
    },
    {
     "name": "stderr",
     "output_type": "stream",
     "text": [
      "1131it [03:27,  5.13it/s]"
     ]
    },
    {
     "name": "stdout",
     "output_type": "stream",
     "text": [
      "Saved to A:\\Projects\\CollegeProjects\\YogaPartner\\intermediates\\v2\\phalakasana_69.jpg\n",
      "Saved to A:\\Projects\\CollegeProjects\\YogaPartner\\intermediates\\v2\\phalakasana_28.jpg\n"
     ]
    },
    {
     "name": "stderr",
     "output_type": "stream",
     "text": [
      "1133it [03:27,  5.97it/s]"
     ]
    },
    {
     "name": "stdout",
     "output_type": "stream",
     "text": [
      "Saved to A:\\Projects\\CollegeProjects\\YogaPartner\\intermediates\\v2\\phalakasana_68.jpg\n",
      "Saved to A:\\Projects\\CollegeProjects\\YogaPartner\\intermediates\\v2\\phalakasana_84.jpg\n"
     ]
    },
    {
     "name": "stderr",
     "output_type": "stream",
     "text": [
      "1135it [03:28,  5.21it/s]"
     ]
    },
    {
     "name": "stdout",
     "output_type": "stream",
     "text": [
      "Saved to A:\\Projects\\CollegeProjects\\YogaPartner\\intermediates\\v2\\phalakasana_133.jpg\n",
      "Saved to A:\\Projects\\CollegeProjects\\YogaPartner\\intermediates\\v2\\phalakasana_40.jpg\n"
     ]
    },
    {
     "name": "stderr",
     "output_type": "stream",
     "text": [
      "1137it [03:28,  3.74it/s]"
     ]
    },
    {
     "name": "stdout",
     "output_type": "stream",
     "text": [
      "Saved to A:\\Projects\\CollegeProjects\\YogaPartner\\intermediates\\v2\\phalakasana_113.jpg\n",
      "Saved to A:\\Projects\\CollegeProjects\\YogaPartner\\intermediates\\v2\\phalakasana_101.jpg\n"
     ]
    },
    {
     "name": "stderr",
     "output_type": "stream",
     "text": [
      "1139it [03:29,  4.33it/s]"
     ]
    },
    {
     "name": "stdout",
     "output_type": "stream",
     "text": [
      "Saved to A:\\Projects\\CollegeProjects\\YogaPartner\\intermediates\\v2\\phalakasana_76.jpg\n",
      "Saved to A:\\Projects\\CollegeProjects\\YogaPartner\\intermediates\\v2\\phalakasana_23.jpg\n"
     ]
    },
    {
     "name": "stderr",
     "output_type": "stream",
     "text": [
      "\r",
      "1140it [03:29,  3.78it/s]"
     ]
    },
    {
     "name": "stdout",
     "output_type": "stream",
     "text": [
      "Saved to A:\\Projects\\CollegeProjects\\YogaPartner\\intermediates\\v2\\phalakasana_88.jpg\n"
     ]
    },
    {
     "name": "stderr",
     "output_type": "stream",
     "text": [
      "1142it [03:29,  4.28it/s]"
     ]
    },
    {
     "name": "stdout",
     "output_type": "stream",
     "text": [
      "Saved to A:\\Projects\\CollegeProjects\\YogaPartner\\intermediates\\v2\\phalakasana_110.jpg\n",
      "Saved to A:\\Projects\\CollegeProjects\\YogaPartner\\intermediates\\v2\\phalakasana_117.jpg\n"
     ]
    },
    {
     "name": "stderr",
     "output_type": "stream",
     "text": [
      "\r",
      "1143it [03:30,  4.84it/s]"
     ]
    },
    {
     "name": "stdout",
     "output_type": "stream",
     "text": [
      "Saved to A:\\Projects\\CollegeProjects\\YogaPartner\\intermediates\\v2\\phalakasana_45.jpg\n"
     ]
    },
    {
     "name": "stderr",
     "output_type": "stream",
     "text": [
      "1145it [03:30,  5.61it/s]"
     ]
    },
    {
     "name": "stdout",
     "output_type": "stream",
     "text": [
      "Saved to A:\\Projects\\CollegeProjects\\YogaPartner\\intermediates\\v2\\phalakasana_55.jpg\n",
      "Saved to A:\\Projects\\CollegeProjects\\YogaPartner\\intermediates\\v2\\phalakasana_25.jpg\n"
     ]
    },
    {
     "name": "stderr",
     "output_type": "stream",
     "text": [
      "1148it [03:30,  7.66it/s]"
     ]
    },
    {
     "name": "stdout",
     "output_type": "stream",
     "text": [
      "Saved to A:\\Projects\\CollegeProjects\\YogaPartner\\intermediates\\v2\\phalakasana_15.jpg\n",
      "Saved to A:\\Projects\\CollegeProjects\\YogaPartner\\intermediates\\v2\\phalakasana_50.jpg\n",
      "Saved to A:\\Projects\\CollegeProjects\\YogaPartner\\intermediates\\v2\\phalakasana_36.jpg\n"
     ]
    },
    {
     "name": "stderr",
     "output_type": "stream",
     "text": [
      "1150it [03:31,  7.73it/s]"
     ]
    },
    {
     "name": "stdout",
     "output_type": "stream",
     "text": [
      "Saved to A:\\Projects\\CollegeProjects\\YogaPartner\\intermediates\\v2\\phalakasana_81.jpg\n",
      "Saved to A:\\Projects\\CollegeProjects\\YogaPartner\\intermediates\\v2\\phalakasana_73.jpg\n"
     ]
    },
    {
     "name": "stderr",
     "output_type": "stream",
     "text": [
      "\r",
      "1151it [03:31,  6.99it/s]"
     ]
    },
    {
     "name": "stdout",
     "output_type": "stream",
     "text": [
      "Saved to A:\\Projects\\CollegeProjects\\YogaPartner\\intermediates\\v2\\phalakasana_10.jpg\n"
     ]
    },
    {
     "name": "stderr",
     "output_type": "stream",
     "text": [
      "\r",
      "1152it [03:32,  2.19it/s]"
     ]
    },
    {
     "name": "stdout",
     "output_type": "stream",
     "text": [
      "Saved to A:\\Projects\\CollegeProjects\\YogaPartner\\intermediates\\v2\\phalakasana_34.jpg\n"
     ]
    },
    {
     "name": "stderr",
     "output_type": "stream",
     "text": [
      "1154it [03:33,  2.53it/s]"
     ]
    },
    {
     "name": "stdout",
     "output_type": "stream",
     "text": [
      "Saved to A:\\Projects\\CollegeProjects\\YogaPartner\\intermediates\\v2\\phalakasana_35.jpg\n",
      "Saved to A:\\Projects\\CollegeProjects\\YogaPartner\\intermediates\\v2\\phalakasana_30.jpg\n"
     ]
    },
    {
     "name": "stderr",
     "output_type": "stream",
     "text": [
      "1157it [03:33,  4.73it/s]"
     ]
    },
    {
     "name": "stdout",
     "output_type": "stream",
     "text": [
      "Saved to A:\\Projects\\CollegeProjects\\YogaPartner\\intermediates\\v2\\phalakasana_67.jpg\n",
      "Saved to A:\\Projects\\CollegeProjects\\YogaPartner\\intermediates\\v2\\phalakasana_120.jpg\n",
      "Saved to A:\\Projects\\CollegeProjects\\YogaPartner\\intermediates\\v2\\phalakasana_21.jpg\n"
     ]
    },
    {
     "name": "stderr",
     "output_type": "stream",
     "text": [
      "1159it [03:33,  6.07it/s]"
     ]
    },
    {
     "name": "stdout",
     "output_type": "stream",
     "text": [
      "Saved to A:\\Projects\\CollegeProjects\\YogaPartner\\intermediates\\v2\\phalakasana_85.jpg\n",
      "Saved to A:\\Projects\\CollegeProjects\\YogaPartner\\intermediates\\v2\\phalakasana_98.jpg\n",
      "Saved to A:\\Projects\\CollegeProjects\\YogaPartner\\intermediates\\v2\\phalakasana_42.jpg\n"
     ]
    },
    {
     "name": "stderr",
     "output_type": "stream",
     "text": [
      "1162it [03:34,  6.95it/s]"
     ]
    },
    {
     "name": "stdout",
     "output_type": "stream",
     "text": [
      "Saved to A:\\Projects\\CollegeProjects\\YogaPartner\\intermediates\\v2\\phalakasana_64.jpg\n",
      "Saved to A:\\Projects\\CollegeProjects\\YogaPartner\\intermediates\\v2\\bhujangasana_18.jpg\n"
     ]
    },
    {
     "name": "stderr",
     "output_type": "stream",
     "text": [
      "1164it [03:34,  6.97it/s]"
     ]
    },
    {
     "name": "stdout",
     "output_type": "stream",
     "text": [
      "Saved to A:\\Projects\\CollegeProjects\\YogaPartner\\intermediates\\v2\\bhujangasana_19.jpg\n",
      "Saved to A:\\Projects\\CollegeProjects\\YogaPartner\\intermediates\\v2\\bhujangasana_308.jpg\n",
      "Saved to A:\\Projects\\CollegeProjects\\YogaPartner\\intermediates\\v2\\bhujangasana_304.jpg\n"
     ]
    },
    {
     "name": "stderr",
     "output_type": "stream",
     "text": [
      "\r",
      "1166it [03:34,  7.90it/s]"
     ]
    },
    {
     "name": "stdout",
     "output_type": "stream",
     "text": [
      "Saved to A:\\Projects\\CollegeProjects\\YogaPartner\\intermediates\\v2\\bhujangasana_553.jpg\n",
      "Saved to A:\\Projects\\CollegeProjects\\YogaPartner\\intermediates\\v2\\bhujangasana_583.jpg\n"
     ]
    },
    {
     "name": "stderr",
     "output_type": "stream",
     "text": [
      "1169it [03:35,  6.30it/s]"
     ]
    },
    {
     "name": "stdout",
     "output_type": "stream",
     "text": [
      "Saved to A:\\Projects\\CollegeProjects\\YogaPartner\\intermediates\\v2\\bhujangasana_121.jpg\n",
      "Saved to A:\\Projects\\CollegeProjects\\YogaPartner\\intermediates\\v2\\bhujangasana_289.jpg\n"
     ]
    },
    {
     "name": "stderr",
     "output_type": "stream",
     "text": [
      "\r",
      "1170it [03:35,  6.05it/s]"
     ]
    },
    {
     "name": "stdout",
     "output_type": "stream",
     "text": [
      "Saved to A:\\Projects\\CollegeProjects\\YogaPartner\\intermediates\\v2\\bhujangasana_194.jpg\n",
      "Saved to A:\\Projects\\CollegeProjects\\YogaPartner\\intermediates\\v2\\bhujangasana_173.jpg\n"
     ]
    },
    {
     "name": "stderr",
     "output_type": "stream",
     "text": [
      "\r",
      "1172it [03:35,  7.12it/s]"
     ]
    },
    {
     "name": "stdout",
     "output_type": "stream",
     "text": [
      "Saved to A:\\Projects\\CollegeProjects\\YogaPartner\\intermediates\\v2\\bhujangasana_39.jpg\n"
     ]
    },
    {
     "name": "stderr",
     "output_type": "stream",
     "text": [
      "\r",
      "1173it [03:36,  4.25it/s]"
     ]
    },
    {
     "name": "stdout",
     "output_type": "stream",
     "text": [
      "Saved to A:\\Projects\\CollegeProjects\\YogaPartner\\intermediates\\v2\\bhujangasana_449.jpg\n"
     ]
    },
    {
     "name": "stderr",
     "output_type": "stream",
     "text": [
      "1175it [03:36,  4.09it/s]"
     ]
    },
    {
     "name": "stdout",
     "output_type": "stream",
     "text": [
      "Saved to A:\\Projects\\CollegeProjects\\YogaPartner\\intermediates\\v2\\bhujangasana_79.jpg\n",
      "Saved to A:\\Projects\\CollegeProjects\\YogaPartner\\intermediates\\v2\\bhujangasana_395.jpg\n"
     ]
    },
    {
     "name": "stderr",
     "output_type": "stream",
     "text": [
      "1177it [03:36,  5.35it/s]"
     ]
    },
    {
     "name": "stdout",
     "output_type": "stream",
     "text": [
      "Saved to A:\\Projects\\CollegeProjects\\YogaPartner\\intermediates\\v2\\bhujangasana_617.jpg\n",
      "Saved to A:\\Projects\\CollegeProjects\\YogaPartner\\intermediates\\v2\\bhujangasana_529.jpg\n"
     ]
    },
    {
     "name": "stderr",
     "output_type": "stream",
     "text": [
      "1179it [03:37,  6.25it/s]"
     ]
    },
    {
     "name": "stdout",
     "output_type": "stream",
     "text": [
      "Saved to A:\\Projects\\CollegeProjects\\YogaPartner\\intermediates\\v2\\bhujangasana_621.jpg\n",
      "Saved to A:\\Projects\\CollegeProjects\\YogaPartner\\intermediates\\v2\\bhujangasana_376.jpg\n"
     ]
    },
    {
     "name": "stderr",
     "output_type": "stream",
     "text": [
      "1181it [03:37,  6.96it/s]"
     ]
    },
    {
     "name": "stdout",
     "output_type": "stream",
     "text": [
      "Saved to A:\\Projects\\CollegeProjects\\YogaPartner\\intermediates\\v2\\bhujangasana_560.jpg\n",
      "Saved to A:\\Projects\\CollegeProjects\\YogaPartner\\intermediates\\v2\\bhujangasana_596.jpg\n"
     ]
    },
    {
     "name": "stderr",
     "output_type": "stream",
     "text": [
      "\r",
      "1182it [03:37,  7.47it/s]"
     ]
    },
    {
     "name": "stdout",
     "output_type": "stream",
     "text": [
      "Saved to A:\\Projects\\CollegeProjects\\YogaPartner\\intermediates\\v2\\bhujangasana_131.jpg\n",
      "Saved to A:\\Projects\\CollegeProjects\\YogaPartner\\intermediates\\v2\\bhujangasana_137.jpg\n"
     ]
    },
    {
     "name": "stderr",
     "output_type": "stream",
     "text": [
      "1186it [03:38,  8.24it/s]"
     ]
    },
    {
     "name": "stdout",
     "output_type": "stream",
     "text": [
      "Saved to A:\\Projects\\CollegeProjects\\YogaPartner\\intermediates\\v2\\bhujangasana_81.jpg\n",
      "Saved to A:\\Projects\\CollegeProjects\\YogaPartner\\intermediates\\v2\\bhujangasana_296.jpg\n",
      "Saved to A:\\Projects\\CollegeProjects\\YogaPartner\\intermediates\\v2\\bhujangasana_668.jpg\n"
     ]
    },
    {
     "name": "stderr",
     "output_type": "stream",
     "text": [
      "\r",
      "1187it [03:38,  7.28it/s]"
     ]
    },
    {
     "name": "stdout",
     "output_type": "stream",
     "text": [
      "Saved to A:\\Projects\\CollegeProjects\\YogaPartner\\intermediates\\v2\\bhujangasana_155.jpg\n",
      "Saved to A:\\Projects\\CollegeProjects\\YogaPartner\\intermediates\\v2\\bhujangasana_469.jpg\n"
     ]
    },
    {
     "name": "stderr",
     "output_type": "stream",
     "text": [
      "1190it [03:38,  7.68it/s]"
     ]
    },
    {
     "name": "stdout",
     "output_type": "stream",
     "text": [
      "Saved to A:\\Projects\\CollegeProjects\\YogaPartner\\intermediates\\v2\\bhujangasana_30.jpg\n",
      "Saved to A:\\Projects\\CollegeProjects\\YogaPartner\\intermediates\\v2\\bhujangasana_93.jpg\n"
     ]
    },
    {
     "name": "stderr",
     "output_type": "stream",
     "text": [
      "\r",
      "1191it [03:38,  7.54it/s]"
     ]
    },
    {
     "name": "stdout",
     "output_type": "stream",
     "text": [
      "Saved to A:\\Projects\\CollegeProjects\\YogaPartner\\intermediates\\v2\\bhujangasana_147.jpg\n"
     ]
    },
    {
     "name": "stderr",
     "output_type": "stream",
     "text": [
      "1193it [03:39,  6.40it/s]"
     ]
    },
    {
     "name": "stdout",
     "output_type": "stream",
     "text": [
      "Saved to A:\\Projects\\CollegeProjects\\YogaPartner\\intermediates\\v2\\bhujangasana_91.jpg\n",
      "Saved to A:\\Projects\\CollegeProjects\\YogaPartner\\intermediates\\v2\\bhujangasana_197.jpg\n"
     ]
    },
    {
     "name": "stderr",
     "output_type": "stream",
     "text": [
      "1195it [03:39,  7.07it/s]"
     ]
    },
    {
     "name": "stdout",
     "output_type": "stream",
     "text": [
      "Saved to A:\\Projects\\CollegeProjects\\YogaPartner\\intermediates\\v2\\bhujangasana_174.jpg\n",
      "Saved to A:\\Projects\\CollegeProjects\\YogaPartner\\intermediates\\v2\\bhujangasana_628.jpg\n"
     ]
    },
    {
     "name": "stderr",
     "output_type": "stream",
     "text": [
      "\r",
      "1196it [03:39,  3.92it/s]"
     ]
    },
    {
     "name": "stdout",
     "output_type": "stream",
     "text": [
      "Saved to A:\\Projects\\CollegeProjects\\YogaPartner\\intermediates\\v2\\bhujangasana_188.jpg\n"
     ]
    },
    {
     "name": "stderr",
     "output_type": "stream",
     "text": [
      "1198it [03:40,  4.43it/s]"
     ]
    },
    {
     "name": "stdout",
     "output_type": "stream",
     "text": [
      "Saved to A:\\Projects\\CollegeProjects\\YogaPartner\\intermediates\\v2\\bhujangasana_517.jpg\n",
      "Saved to A:\\Projects\\CollegeProjects\\YogaPartner\\intermediates\\v2\\bhujangasana_219.jpg\n"
     ]
    },
    {
     "name": "stderr",
     "output_type": "stream",
     "text": [
      "1200it [03:40,  5.39it/s]"
     ]
    },
    {
     "name": "stdout",
     "output_type": "stream",
     "text": [
      "Saved to A:\\Projects\\CollegeProjects\\YogaPartner\\intermediates\\v2\\bhujangasana_148.jpg\n",
      "Saved to A:\\Projects\\CollegeProjects\\YogaPartner\\intermediates\\v2\\bhujangasana_265.jpg\n"
     ]
    },
    {
     "name": "stderr",
     "output_type": "stream",
     "text": [
      "1202it [03:40,  6.38it/s]"
     ]
    },
    {
     "name": "stdout",
     "output_type": "stream",
     "text": [
      "Saved to A:\\Projects\\CollegeProjects\\YogaPartner\\intermediates\\v2\\bhujangasana_404.jpg\n",
      "Saved to A:\\Projects\\CollegeProjects\\YogaPartner\\intermediates\\v2\\bhujangasana_629.jpg\n"
     ]
    },
    {
     "name": "stderr",
     "output_type": "stream",
     "text": [
      "1204it [03:41,  7.69it/s]"
     ]
    },
    {
     "name": "stdout",
     "output_type": "stream",
     "text": [
      "Saved to A:\\Projects\\CollegeProjects\\YogaPartner\\intermediates\\v2\\bhujangasana_317.jpg\n",
      "Saved to A:\\Projects\\CollegeProjects\\YogaPartner\\intermediates\\v2\\bhujangasana_114.jpg\n"
     ]
    },
    {
     "name": "stderr",
     "output_type": "stream",
     "text": [
      "1206it [03:41,  7.67it/s]"
     ]
    },
    {
     "name": "stdout",
     "output_type": "stream",
     "text": [
      "Saved to A:\\Projects\\CollegeProjects\\YogaPartner\\intermediates\\v2\\bhujangasana_71.jpg\n",
      "Saved to A:\\Projects\\CollegeProjects\\YogaPartner\\intermediates\\v2\\bhujangasana_287.jpg\n"
     ]
    },
    {
     "name": "stderr",
     "output_type": "stream",
     "text": [
      "1208it [03:41,  6.05it/s]"
     ]
    },
    {
     "name": "stdout",
     "output_type": "stream",
     "text": [
      "Saved to A:\\Projects\\CollegeProjects\\YogaPartner\\intermediates\\v2\\bhujangasana_627.jpg\n",
      "Saved to A:\\Projects\\CollegeProjects\\YogaPartner\\intermediates\\v2\\bhujangasana_75.jpg\n"
     ]
    },
    {
     "name": "stderr",
     "output_type": "stream",
     "text": [
      "1211it [03:42,  8.32it/s]"
     ]
    },
    {
     "name": "stdout",
     "output_type": "stream",
     "text": [
      "Saved to A:\\Projects\\CollegeProjects\\YogaPartner\\intermediates\\v2\\bhujangasana_303.jpg\n",
      "Saved to A:\\Projects\\CollegeProjects\\YogaPartner\\intermediates\\v2\\bhujangasana_619.jpg\n",
      "Saved to A:\\Projects\\CollegeProjects\\YogaPartner\\intermediates\\v2\\bhujangasana_35.jpg\n"
     ]
    },
    {
     "name": "stderr",
     "output_type": "stream",
     "text": [
      "1213it [03:42,  7.92it/s]"
     ]
    },
    {
     "name": "stdout",
     "output_type": "stream",
     "text": [
      "Saved to A:\\Projects\\CollegeProjects\\YogaPartner\\intermediates\\v2\\bhujangasana_141.jpg\n",
      "Saved to A:\\Projects\\CollegeProjects\\YogaPartner\\intermediates\\v2\\bhujangasana_492.jpg\n"
     ]
    },
    {
     "name": "stderr",
     "output_type": "stream",
     "text": [
      "1215it [03:42,  7.72it/s]"
     ]
    },
    {
     "name": "stdout",
     "output_type": "stream",
     "text": [
      "Saved to A:\\Projects\\CollegeProjects\\YogaPartner\\intermediates\\v2\\bhujangasana_161.jpg\n",
      "Saved to A:\\Projects\\CollegeProjects\\YogaPartner\\intermediates\\v2\\bhujangasana_189.jpg\n"
     ]
    },
    {
     "name": "stderr",
     "output_type": "stream",
     "text": [
      "1217it [03:42,  6.71it/s]"
     ]
    },
    {
     "name": "stdout",
     "output_type": "stream",
     "text": [
      "Saved to A:\\Projects\\CollegeProjects\\YogaPartner\\intermediates\\v2\\bhujangasana_450.jpg\n",
      "Saved to A:\\Projects\\CollegeProjects\\YogaPartner\\intermediates\\v2\\bhujangasana_145.jpg\n"
     ]
    },
    {
     "name": "stderr",
     "output_type": "stream",
     "text": [
      "1219it [03:43,  7.47it/s]"
     ]
    },
    {
     "name": "stdout",
     "output_type": "stream",
     "text": [
      "Saved to A:\\Projects\\CollegeProjects\\YogaPartner\\intermediates\\v2\\bhujangasana_297.jpg\n",
      "Saved to A:\\Projects\\CollegeProjects\\YogaPartner\\intermediates\\v2\\bhujangasana_195.jpg\n"
     ]
    },
    {
     "name": "stderr",
     "output_type": "stream",
     "text": [
      "1221it [03:43,  6.67it/s]"
     ]
    },
    {
     "name": "stdout",
     "output_type": "stream",
     "text": [
      "Saved to A:\\Projects\\CollegeProjects\\YogaPartner\\intermediates\\v2\\bhujangasana_249.jpg\n",
      "Saved to A:\\Projects\\CollegeProjects\\YogaPartner\\intermediates\\v2\\bhujangasana_82.jpg\n"
     ]
    },
    {
     "name": "stderr",
     "output_type": "stream",
     "text": [
      "1223it [03:43,  6.77it/s]"
     ]
    },
    {
     "name": "stdout",
     "output_type": "stream",
     "text": [
      "Saved to A:\\Projects\\CollegeProjects\\YogaPartner\\intermediates\\v2\\bhujangasana_4.jpg\n",
      "Saved to A:\\Projects\\CollegeProjects\\YogaPartner\\intermediates\\v2\\bhujangasana_16.jpg\n"
     ]
    },
    {
     "name": "stderr",
     "output_type": "stream",
     "text": [
      "1225it [03:44,  6.25it/s]"
     ]
    },
    {
     "name": "stdout",
     "output_type": "stream",
     "text": [
      "Saved to A:\\Projects\\CollegeProjects\\YogaPartner\\intermediates\\v2\\bhujangasana_259.jpg\n",
      "Saved to A:\\Projects\\CollegeProjects\\YogaPartner\\intermediates\\v2\\bhujangasana_47.jpg\n"
     ]
    },
    {
     "name": "stderr",
     "output_type": "stream",
     "text": [
      "1227it [03:44,  6.53it/s]"
     ]
    },
    {
     "name": "stdout",
     "output_type": "stream",
     "text": [
      "Saved to A:\\Projects\\CollegeProjects\\YogaPartner\\intermediates\\v2\\bhujangasana_658.jpg\n",
      "Saved to A:\\Projects\\CollegeProjects\\YogaPartner\\intermediates\\v2\\bhujangasana_221.jpg\n"
     ]
    },
    {
     "name": "stderr",
     "output_type": "stream",
     "text": [
      "1229it [03:44,  7.38it/s]"
     ]
    },
    {
     "name": "stdout",
     "output_type": "stream",
     "text": [
      "Saved to A:\\Projects\\CollegeProjects\\YogaPartner\\intermediates\\v2\\bhujangasana_341.jpg\n",
      "Saved to A:\\Projects\\CollegeProjects\\YogaPartner\\intermediates\\v2\\bhujangasana_433.jpg\n"
     ]
    },
    {
     "name": "stderr",
     "output_type": "stream",
     "text": [
      "1231it [03:44,  7.25it/s]"
     ]
    },
    {
     "name": "stdout",
     "output_type": "stream",
     "text": [
      "Saved to A:\\Projects\\CollegeProjects\\YogaPartner\\intermediates\\v2\\bhujangasana_159.jpg\n",
      "Saved to A:\\Projects\\CollegeProjects\\YogaPartner\\intermediates\\v2\\bhujangasana_572.jpg\n"
     ]
    },
    {
     "name": "stderr",
     "output_type": "stream",
     "text": [
      "1233it [03:45,  7.21it/s]"
     ]
    },
    {
     "name": "stdout",
     "output_type": "stream",
     "text": [
      "Saved to A:\\Projects\\CollegeProjects\\YogaPartner\\intermediates\\v2\\bhujangasana_351.jpg\n",
      "Saved to A:\\Projects\\CollegeProjects\\YogaPartner\\intermediates\\v2\\bhujangasana_438.jpg\n"
     ]
    },
    {
     "name": "stderr",
     "output_type": "stream",
     "text": [
      "1235it [03:45,  6.43it/s]"
     ]
    },
    {
     "name": "stdout",
     "output_type": "stream",
     "text": [
      "Saved to A:\\Projects\\CollegeProjects\\YogaPartner\\intermediates\\v2\\bhujangasana_288.jpg\n",
      "Saved to A:\\Projects\\CollegeProjects\\YogaPartner\\intermediates\\v2\\bhujangasana_550.jpg\n"
     ]
    },
    {
     "name": "stderr",
     "output_type": "stream",
     "text": [
      "1238it [03:45,  7.88it/s]"
     ]
    },
    {
     "name": "stdout",
     "output_type": "stream",
     "text": [
      "Saved to A:\\Projects\\CollegeProjects\\YogaPartner\\intermediates\\v2\\bhujangasana_336.jpg\n",
      "Saved to A:\\Projects\\CollegeProjects\\YogaPartner\\intermediates\\v2\\bhujangasana_379.jpg\n",
      "Saved to A:\\Projects\\CollegeProjects\\YogaPartner\\intermediates\\v2\\bhujangasana_608.jpg\n"
     ]
    },
    {
     "name": "stderr",
     "output_type": "stream",
     "text": [
      "\r",
      "1240it [03:46,  8.85it/s]"
     ]
    },
    {
     "name": "stdout",
     "output_type": "stream",
     "text": [
      "Saved to A:\\Projects\\CollegeProjects\\YogaPartner\\intermediates\\v2\\bhujangasana_444.jpg\n",
      "Saved to A:\\Projects\\CollegeProjects\\YogaPartner\\intermediates\\v2\\bhujangasana_68.jpg\n"
     ]
    },
    {
     "name": "stderr",
     "output_type": "stream",
     "text": [
      "1242it [03:46,  8.35it/s]"
     ]
    },
    {
     "name": "stdout",
     "output_type": "stream",
     "text": [
      "Saved to A:\\Projects\\CollegeProjects\\YogaPartner\\intermediates\\v2\\bhujangasana_146.jpg\n",
      "Saved to A:\\Projects\\CollegeProjects\\YogaPartner\\intermediates\\v2\\bhujangasana_456.jpg\n"
     ]
    },
    {
     "name": "stderr",
     "output_type": "stream",
     "text": [
      "1244it [03:46,  7.84it/s]"
     ]
    },
    {
     "name": "stdout",
     "output_type": "stream",
     "text": [
      "Saved to A:\\Projects\\CollegeProjects\\YogaPartner\\intermediates\\v2\\bhujangasana_214.jpg\n",
      "Saved to A:\\Projects\\CollegeProjects\\YogaPartner\\intermediates\\v2\\bhujangasana_186.jpg\n"
     ]
    },
    {
     "name": "stderr",
     "output_type": "stream",
     "text": [
      "1246it [03:46,  7.84it/s]"
     ]
    },
    {
     "name": "stdout",
     "output_type": "stream",
     "text": [
      "Saved to A:\\Projects\\CollegeProjects\\YogaPartner\\intermediates\\v2\\bhujangasana_233.jpg\n",
      "Saved to A:\\Projects\\CollegeProjects\\YogaPartner\\intermediates\\v2\\bhujangasana_541.jpg\n"
     ]
    },
    {
     "name": "stderr",
     "output_type": "stream",
     "text": [
      "1248it [03:47,  8.32it/s]"
     ]
    },
    {
     "name": "stdout",
     "output_type": "stream",
     "text": [
      "Saved to A:\\Projects\\CollegeProjects\\YogaPartner\\intermediates\\v2\\bhujangasana_371.jpg\n",
      "Saved to A:\\Projects\\CollegeProjects\\YogaPartner\\intermediates\\v2\\bhujangasana_648.jpg\n"
     ]
    },
    {
     "name": "stderr",
     "output_type": "stream",
     "text": [
      "1251it [03:47,  8.73it/s]"
     ]
    },
    {
     "name": "stdout",
     "output_type": "stream",
     "text": [
      "Saved to A:\\Projects\\CollegeProjects\\YogaPartner\\intermediates\\v2\\bhujangasana_643.jpg\n",
      "Saved to A:\\Projects\\CollegeProjects\\YogaPartner\\intermediates\\v2\\bhujangasana_659.jpg\n",
      "Saved to A:\\Projects\\CollegeProjects\\YogaPartner\\intermediates\\v2\\bhujangasana_390.jpg\n"
     ]
    },
    {
     "name": "stderr",
     "output_type": "stream",
     "text": [
      "1253it [03:47,  8.42it/s]"
     ]
    },
    {
     "name": "stdout",
     "output_type": "stream",
     "text": [
      "Saved to A:\\Projects\\CollegeProjects\\YogaPartner\\intermediates\\v2\\bhujangasana_649.jpg\n",
      "Saved to A:\\Projects\\CollegeProjects\\YogaPartner\\intermediates\\v2\\bhujangasana_108.jpg\n"
     ]
    },
    {
     "name": "stderr",
     "output_type": "stream",
     "text": [
      "1255it [03:47,  7.45it/s]"
     ]
    },
    {
     "name": "stdout",
     "output_type": "stream",
     "text": [
      "Saved to A:\\Projects\\CollegeProjects\\YogaPartner\\intermediates\\v2\\bhujangasana_502.jpg\n",
      "Saved to A:\\Projects\\CollegeProjects\\YogaPartner\\intermediates\\v2\\bhujangasana_538.jpg\n"
     ]
    },
    {
     "name": "stderr",
     "output_type": "stream",
     "text": [
      "1257it [03:48,  7.74it/s]"
     ]
    },
    {
     "name": "stdout",
     "output_type": "stream",
     "text": [
      "Saved to A:\\Projects\\CollegeProjects\\YogaPartner\\intermediates\\v2\\bhujangasana_270.jpg\n",
      "Saved to A:\\Projects\\CollegeProjects\\YogaPartner\\intermediates\\v2\\bhujangasana_389.jpg\n"
     ]
    },
    {
     "name": "stderr",
     "output_type": "stream",
     "text": [
      "1259it [03:48,  7.75it/s]"
     ]
    },
    {
     "name": "stdout",
     "output_type": "stream",
     "text": [
      "Saved to A:\\Projects\\CollegeProjects\\YogaPartner\\intermediates\\v2\\bhujangasana_386.jpg\n",
      "Saved to A:\\Projects\\CollegeProjects\\YogaPartner\\intermediates\\v2\\bhujangasana_575.jpg\n"
     ]
    },
    {
     "name": "stderr",
     "output_type": "stream",
     "text": [
      "1261it [03:48,  7.47it/s]"
     ]
    },
    {
     "name": "stdout",
     "output_type": "stream",
     "text": [
      "Saved to A:\\Projects\\CollegeProjects\\YogaPartner\\intermediates\\v2\\bhujangasana_135.jpg\n",
      "Saved to A:\\Projects\\CollegeProjects\\YogaPartner\\intermediates\\v2\\bhujangasana_503.jpg\n"
     ]
    },
    {
     "name": "stderr",
     "output_type": "stream",
     "text": [
      "1263it [03:49,  6.90it/s]"
     ]
    },
    {
     "name": "stdout",
     "output_type": "stream",
     "text": [
      "Saved to A:\\Projects\\CollegeProjects\\YogaPartner\\intermediates\\v2\\bhujangasana_357.jpg\n",
      "Saved to A:\\Projects\\CollegeProjects\\YogaPartner\\intermediates\\v2\\bhujangasana_466.jpg\n"
     ]
    },
    {
     "name": "stderr",
     "output_type": "stream",
     "text": [
      "1265it [03:50,  2.23it/s]"
     ]
    },
    {
     "name": "stdout",
     "output_type": "stream",
     "text": [
      "Saved to A:\\Projects\\CollegeProjects\\YogaPartner\\intermediates\\v2\\bhujangasana_532.jpg\n",
      "Saved to A:\\Projects\\CollegeProjects\\YogaPartner\\intermediates\\v2\\bhujangasana_496.jpg\n"
     ]
    },
    {
     "name": "stderr",
     "output_type": "stream",
     "text": [
      "1267it [03:51,  3.20it/s]"
     ]
    },
    {
     "name": "stdout",
     "output_type": "stream",
     "text": [
      "Saved to A:\\Projects\\CollegeProjects\\YogaPartner\\intermediates\\v2\\bhujangasana_122.jpg\n",
      "Saved to A:\\Projects\\CollegeProjects\\YogaPartner\\intermediates\\v2\\bhujangasana_567.jpg\n"
     ]
    },
    {
     "name": "stderr",
     "output_type": "stream",
     "text": [
      "\r",
      "1269it [03:51,  4.73it/s]"
     ]
    },
    {
     "name": "stdout",
     "output_type": "stream",
     "text": [
      "Saved to A:\\Projects\\CollegeProjects\\YogaPartner\\intermediates\\v2\\bhujangasana_615.jpg\n",
      "Saved to A:\\Projects\\CollegeProjects\\YogaPartner\\intermediates\\v2\\bhujangasana_623.jpg\n",
      "Saved to A:\\Projects\\CollegeProjects\\YogaPartner\\intermediates\\v2\\bhujangasana_352.jpg\n"
     ]
    },
    {
     "name": "stderr",
     "output_type": "stream",
     "text": [
      "1272it [03:51,  6.18it/s]"
     ]
    },
    {
     "name": "stdout",
     "output_type": "stream",
     "text": [
      "Saved to A:\\Projects\\CollegeProjects\\YogaPartner\\intermediates\\v2\\bhujangasana_350.jpg\n",
      "Saved to A:\\Projects\\CollegeProjects\\YogaPartner\\intermediates\\v2\\bhujangasana_56.jpg\n"
     ]
    },
    {
     "name": "stderr",
     "output_type": "stream",
     "text": [
      "1275it [03:52,  6.98it/s]"
     ]
    },
    {
     "name": "stdout",
     "output_type": "stream",
     "text": [
      "Saved to A:\\Projects\\CollegeProjects\\YogaPartner\\intermediates\\v2\\bhujangasana_554.jpg\n",
      "Saved to A:\\Projects\\CollegeProjects\\YogaPartner\\intermediates\\v2\\bhujangasana_613.jpg\n",
      "Saved to A:\\Projects\\CollegeProjects\\YogaPartner\\intermediates\\v2\\bhujangasana_425.jpg\n"
     ]
    },
    {
     "name": "stderr",
     "output_type": "stream",
     "text": [
      "\r",
      "1277it [03:52,  7.90it/s]"
     ]
    },
    {
     "name": "stdout",
     "output_type": "stream",
     "text": [
      "Saved to A:\\Projects\\CollegeProjects\\YogaPartner\\intermediates\\v2\\bhujangasana_3.jpg\n",
      "Saved to A:\\Projects\\CollegeProjects\\YogaPartner\\intermediates\\v2\\bhujangasana_544.jpg\n"
     ]
    },
    {
     "name": "stderr",
     "output_type": "stream",
     "text": [
      "1279it [03:52,  8.22it/s]"
     ]
    },
    {
     "name": "stdout",
     "output_type": "stream",
     "text": [
      "Saved to A:\\Projects\\CollegeProjects\\YogaPartner\\intermediates\\v2\\bhujangasana_43.jpg\n",
      "Saved to A:\\Projects\\CollegeProjects\\YogaPartner\\intermediates\\v2\\bhujangasana_280.jpg\n"
     ]
    },
    {
     "name": "stderr",
     "output_type": "stream",
     "text": [
      "1281it [03:52,  8.21it/s]"
     ]
    },
    {
     "name": "stdout",
     "output_type": "stream",
     "text": [
      "Saved to A:\\Projects\\CollegeProjects\\YogaPartner\\intermediates\\v2\\bhujangasana_595.jpg\n",
      "Saved to A:\\Projects\\CollegeProjects\\YogaPartner\\intermediates\\v2\\bhujangasana_481.jpg\n"
     ]
    },
    {
     "name": "stderr",
     "output_type": "stream",
     "text": [
      "1283it [03:53,  7.87it/s]"
     ]
    },
    {
     "name": "stdout",
     "output_type": "stream",
     "text": [
      "Saved to A:\\Projects\\CollegeProjects\\YogaPartner\\intermediates\\v2\\bhujangasana_169.jpg\n",
      "Saved to A:\\Projects\\CollegeProjects\\YogaPartner\\intermediates\\v2\\bhujangasana_424.jpg\n"
     ]
    },
    {
     "name": "stderr",
     "output_type": "stream",
     "text": [
      "1285it [03:53,  6.39it/s]"
     ]
    },
    {
     "name": "stdout",
     "output_type": "stream",
     "text": [
      "Saved to A:\\Projects\\CollegeProjects\\YogaPartner\\intermediates\\v2\\bhujangasana_651.jpg\n",
      "Saved to A:\\Projects\\CollegeProjects\\YogaPartner\\intermediates\\v2\\bhujangasana_132.jpg\n"
     ]
    },
    {
     "name": "stderr",
     "output_type": "stream",
     "text": [
      "1288it [03:53,  7.75it/s]"
     ]
    },
    {
     "name": "stdout",
     "output_type": "stream",
     "text": [
      "Saved to A:\\Projects\\CollegeProjects\\YogaPartner\\intermediates\\v2\\bhujangasana_593.jpg\n",
      "Saved to A:\\Projects\\CollegeProjects\\YogaPartner\\intermediates\\v2\\bhujangasana_591.jpg\n",
      "Saved to A:\\Projects\\CollegeProjects\\YogaPartner\\intermediates\\v2\\bhujangasana_441.jpg\n"
     ]
    },
    {
     "name": "stderr",
     "output_type": "stream",
     "text": [
      "1290it [03:54,  7.29it/s]"
     ]
    },
    {
     "name": "stdout",
     "output_type": "stream",
     "text": [
      "Saved to A:\\Projects\\CollegeProjects\\YogaPartner\\intermediates\\v2\\bhujangasana_116.jpg\n",
      "Saved to A:\\Projects\\CollegeProjects\\YogaPartner\\intermediates\\v2\\bhujangasana_440.jpg\n",
      "Saved to A:\\Projects\\CollegeProjects\\YogaPartner\\intermediates\\v2\\bhujangasana_269.jpg\n"
     ]
    },
    {
     "name": "stderr",
     "output_type": "stream",
     "text": [
      "1293it [03:54,  7.36it/s]"
     ]
    },
    {
     "name": "stdout",
     "output_type": "stream",
     "text": [
      "Saved to A:\\Projects\\CollegeProjects\\YogaPartner\\intermediates\\v2\\bhujangasana_151.jpg\n",
      "Saved to A:\\Projects\\CollegeProjects\\YogaPartner\\intermediates\\v2\\bhujangasana_618.jpg\n"
     ]
    },
    {
     "name": "stderr",
     "output_type": "stream",
     "text": [
      "1295it [03:54,  7.88it/s]"
     ]
    },
    {
     "name": "stdout",
     "output_type": "stream",
     "text": [
      "Saved to A:\\Projects\\CollegeProjects\\YogaPartner\\intermediates\\v2\\bhujangasana_282.jpg\n",
      "Saved to A:\\Projects\\CollegeProjects\\YogaPartner\\intermediates\\v2\\bhujangasana_515.jpg\n"
     ]
    },
    {
     "name": "stderr",
     "output_type": "stream",
     "text": [
      "1297it [03:54,  7.97it/s]"
     ]
    },
    {
     "name": "stdout",
     "output_type": "stream",
     "text": [
      "Saved to A:\\Projects\\CollegeProjects\\YogaPartner\\intermediates\\v2\\bhujangasana_326.jpg\n",
      "Saved to A:\\Projects\\CollegeProjects\\YogaPartner\\intermediates\\v2\\bhujangasana_278.jpg\n"
     ]
    },
    {
     "name": "stderr",
     "output_type": "stream",
     "text": [
      "1300it [03:55,  8.35it/s]"
     ]
    },
    {
     "name": "stdout",
     "output_type": "stream",
     "text": [
      "Saved to A:\\Projects\\CollegeProjects\\YogaPartner\\intermediates\\v2\\bhujangasana_216.jpg\n",
      "Saved to A:\\Projects\\CollegeProjects\\YogaPartner\\intermediates\\v2\\bhujangasana_647.jpg\n",
      "Saved to A:\\Projects\\CollegeProjects\\YogaPartner\\intermediates\\v2\\bhujangasana_630.jpg\n"
     ]
    },
    {
     "name": "stderr",
     "output_type": "stream",
     "text": [
      "1302it [03:55,  7.75it/s]"
     ]
    },
    {
     "name": "stdout",
     "output_type": "stream",
     "text": [
      "Saved to A:\\Projects\\CollegeProjects\\YogaPartner\\intermediates\\v2\\bhujangasana_564.jpg\n",
      "Saved to A:\\Projects\\CollegeProjects\\YogaPartner\\intermediates\\v2\\bhujangasana_663.jpg\n"
     ]
    },
    {
     "name": "stderr",
     "output_type": "stream",
     "text": [
      "1304it [03:55,  8.26it/s]"
     ]
    },
    {
     "name": "stdout",
     "output_type": "stream",
     "text": [
      "Saved to A:\\Projects\\CollegeProjects\\YogaPartner\\intermediates\\v2\\bhujangasana_576.jpg\n",
      "Saved to A:\\Projects\\CollegeProjects\\YogaPartner\\intermediates\\v2\\bhujangasana_346.jpg\n"
     ]
    },
    {
     "name": "stderr",
     "output_type": "stream",
     "text": [
      "1306it [03:56,  7.38it/s]"
     ]
    },
    {
     "name": "stdout",
     "output_type": "stream",
     "text": [
      "Saved to A:\\Projects\\CollegeProjects\\YogaPartner\\intermediates\\v2\\bhujangasana_639.jpg\n",
      "Saved to A:\\Projects\\CollegeProjects\\YogaPartner\\intermediates\\v2\\bhujangasana_601.jpg\n"
     ]
    },
    {
     "name": "stderr",
     "output_type": "stream",
     "text": [
      "1308it [03:56,  7.39it/s]"
     ]
    },
    {
     "name": "stdout",
     "output_type": "stream",
     "text": [
      "Saved to A:\\Projects\\CollegeProjects\\YogaPartner\\intermediates\\v2\\bhujangasana_158.jpg\n",
      "Saved to A:\\Projects\\CollegeProjects\\YogaPartner\\intermediates\\v2\\bhujangasana_573.jpg\n"
     ]
    },
    {
     "name": "stderr",
     "output_type": "stream",
     "text": [
      "1310it [03:56,  8.41it/s]"
     ]
    },
    {
     "name": "stdout",
     "output_type": "stream",
     "text": [
      "Saved to A:\\Projects\\CollegeProjects\\YogaPartner\\intermediates\\v2\\bhujangasana_247.jpg\n",
      "Saved to A:\\Projects\\CollegeProjects\\YogaPartner\\intermediates\\v2\\bhujangasana_653.jpg\n"
     ]
    },
    {
     "name": "stderr",
     "output_type": "stream",
     "text": [
      "1312it [03:56,  7.46it/s]"
     ]
    },
    {
     "name": "stdout",
     "output_type": "stream",
     "text": [
      "Saved to A:\\Projects\\CollegeProjects\\YogaPartner\\intermediates\\v2\\bhujangasana_333.jpg\n",
      "Saved to A:\\Projects\\CollegeProjects\\YogaPartner\\intermediates\\v2\\bhujangasana_177.jpg\n"
     ]
    },
    {
     "name": "stderr",
     "output_type": "stream",
     "text": [
      "1314it [03:57,  6.69it/s]"
     ]
    },
    {
     "name": "stdout",
     "output_type": "stream",
     "text": [
      "Saved to A:\\Projects\\CollegeProjects\\YogaPartner\\intermediates\\v2\\bhujangasana_309.jpg\n",
      "Saved to A:\\Projects\\CollegeProjects\\YogaPartner\\intermediates\\v2\\bhujangasana_516.jpg\n"
     ]
    },
    {
     "name": "stderr",
     "output_type": "stream",
     "text": [
      "\r",
      "1316it [03:57,  8.06it/s]"
     ]
    },
    {
     "name": "stdout",
     "output_type": "stream",
     "text": [
      "Saved to A:\\Projects\\CollegeProjects\\YogaPartner\\intermediates\\v2\\bhujangasana_314.jpg\n",
      "Saved to A:\\Projects\\CollegeProjects\\YogaPartner\\intermediates\\v2\\bhujangasana_597.jpg\n"
     ]
    },
    {
     "name": "stderr",
     "output_type": "stream",
     "text": [
      "1318it [03:57,  7.91it/s]"
     ]
    },
    {
     "name": "stdout",
     "output_type": "stream",
     "text": [
      "Saved to A:\\Projects\\CollegeProjects\\YogaPartner\\intermediates\\v2\\bhujangasana_614.jpg\n",
      "Saved to A:\\Projects\\CollegeProjects\\YogaPartner\\intermediates\\v2\\bhujangasana_318.jpg\n"
     ]
    },
    {
     "name": "stderr",
     "output_type": "stream",
     "text": [
      "\r",
      "1319it [03:57,  7.35it/s]"
     ]
    },
    {
     "name": "stdout",
     "output_type": "stream",
     "text": [
      "Saved to A:\\Projects\\CollegeProjects\\YogaPartner\\intermediates\\v2\\bhujangasana_565.jpg\n"
     ]
    },
    {
     "name": "stderr",
     "output_type": "stream",
     "text": [
      "1321it [03:58,  6.24it/s]"
     ]
    },
    {
     "name": "stdout",
     "output_type": "stream",
     "text": [
      "Saved to A:\\Projects\\CollegeProjects\\YogaPartner\\intermediates\\v2\\bhujangasana_24.jpg\n",
      "Saved to A:\\Projects\\CollegeProjects\\YogaPartner\\intermediates\\v2\\bhujangasana_139.jpg\n"
     ]
    },
    {
     "name": "stderr",
     "output_type": "stream",
     "text": [
      "1323it [03:58,  7.04it/s]"
     ]
    },
    {
     "name": "stdout",
     "output_type": "stream",
     "text": [
      "Saved to A:\\Projects\\CollegeProjects\\YogaPartner\\intermediates\\v2\\bhujangasana_528.jpg\n",
      "Saved to A:\\Projects\\CollegeProjects\\YogaPartner\\intermediates\\v2\\bhujangasana_414.jpg\n"
     ]
    },
    {
     "name": "stderr",
     "output_type": "stream",
     "text": [
      "1325it [03:58,  6.99it/s]"
     ]
    },
    {
     "name": "stdout",
     "output_type": "stream",
     "text": [
      "Saved to A:\\Projects\\CollegeProjects\\YogaPartner\\intermediates\\v2\\bhujangasana_204.jpg\n",
      "Saved to A:\\Projects\\CollegeProjects\\YogaPartner\\intermediates\\v2\\bhujangasana_666.jpg\n"
     ]
    },
    {
     "name": "stderr",
     "output_type": "stream",
     "text": [
      "1327it [03:59,  7.55it/s]"
     ]
    },
    {
     "name": "stdout",
     "output_type": "stream",
     "text": [
      "Saved to A:\\Projects\\CollegeProjects\\YogaPartner\\intermediates\\v2\\bhujangasana_6.jpg\n",
      "Saved to A:\\Projects\\CollegeProjects\\YogaPartner\\intermediates\\v2\\bhujangasana_489.jpg\n"
     ]
    },
    {
     "name": "stderr",
     "output_type": "stream",
     "text": [
      "1330it [03:59,  7.79it/s]"
     ]
    },
    {
     "name": "stdout",
     "output_type": "stream",
     "text": [
      "Saved to A:\\Projects\\CollegeProjects\\YogaPartner\\intermediates\\v2\\bhujangasana_83.jpg\n",
      "Saved to A:\\Projects\\CollegeProjects\\YogaPartner\\intermediates\\v2\\bhujangasana_283.jpg\n",
      "Saved to A:\\Projects\\CollegeProjects\\YogaPartner\\intermediates\\v2\\bhujangasana_187.jpg\n"
     ]
    },
    {
     "name": "stderr",
     "output_type": "stream",
     "text": [
      "\r",
      "1331it [03:59,  6.62it/s]"
     ]
    },
    {
     "name": "stdout",
     "output_type": "stream",
     "text": [
      "Saved to A:\\Projects\\CollegeProjects\\YogaPartner\\intermediates\\v2\\bhujangasana_96.jpg\n"
     ]
    },
    {
     "name": "stderr",
     "output_type": "stream",
     "text": [
      "1333it [03:59,  6.33it/s]"
     ]
    },
    {
     "name": "stdout",
     "output_type": "stream",
     "text": [
      "Saved to A:\\Projects\\CollegeProjects\\YogaPartner\\intermediates\\v2\\bhujangasana_423.jpg\n",
      "Saved to A:\\Projects\\CollegeProjects\\YogaPartner\\intermediates\\v2\\bhujangasana_248.jpg\n"
     ]
    },
    {
     "name": "stderr",
     "output_type": "stream",
     "text": [
      "1335it [04:00,  7.32it/s]"
     ]
    },
    {
     "name": "stdout",
     "output_type": "stream",
     "text": [
      "Saved to A:\\Projects\\CollegeProjects\\YogaPartner\\intermediates\\v2\\bhujangasana_468.jpg\n",
      "Saved to A:\\Projects\\CollegeProjects\\YogaPartner\\intermediates\\v2\\bhujangasana_208.jpg\n"
     ]
    },
    {
     "name": "stderr",
     "output_type": "stream",
     "text": [
      "1337it [04:00,  7.08it/s]"
     ]
    },
    {
     "name": "stdout",
     "output_type": "stream",
     "text": [
      "Saved to A:\\Projects\\CollegeProjects\\YogaPartner\\intermediates\\v2\\bhujangasana_369.jpg\n",
      "Saved to A:\\Projects\\CollegeProjects\\YogaPartner\\intermediates\\v2\\bhujangasana_439.jpg\n"
     ]
    },
    {
     "name": "stderr",
     "output_type": "stream",
     "text": [
      "\r",
      "1338it [04:00,  7.59it/s]"
     ]
    },
    {
     "name": "stdout",
     "output_type": "stream",
     "text": [
      "Saved to A:\\Projects\\CollegeProjects\\YogaPartner\\intermediates\\v2\\bhujangasana_253.jpg\n",
      "Saved to A:\\Projects\\CollegeProjects\\YogaPartner\\intermediates\\v2\\bhujangasana_638.jpg\n"
     ]
    },
    {
     "name": "stderr",
     "output_type": "stream",
     "text": [
      "1341it [04:01,  5.26it/s]"
     ]
    },
    {
     "name": "stdout",
     "output_type": "stream",
     "text": [
      "Saved to A:\\Projects\\CollegeProjects\\YogaPartner\\intermediates\\v2\\bhujangasana_290.jpg\n",
      "Saved to A:\\Projects\\CollegeProjects\\YogaPartner\\intermediates\\v2\\bhujangasana_5.jpg\n"
     ]
    },
    {
     "name": "stderr",
     "output_type": "stream",
     "text": [
      "\r",
      "1342it [04:01,  5.45it/s]"
     ]
    },
    {
     "name": "stdout",
     "output_type": "stream",
     "text": [
      "Saved to A:\\Projects\\CollegeProjects\\YogaPartner\\intermediates\\v2\\bhujangasana_231.jpg\n"
     ]
    },
    {
     "name": "stderr",
     "output_type": "stream",
     "text": [
      "1344it [04:04,  1.37it/s]"
     ]
    },
    {
     "name": "stdout",
     "output_type": "stream",
     "text": [
      "Saved to A:\\Projects\\CollegeProjects\\YogaPartner\\intermediates\\v2\\bhujangasana_337.jpg\n",
      "Saved to A:\\Projects\\CollegeProjects\\YogaPartner\\intermediates\\v2\\bhujangasana_11.jpg\n"
     ]
    },
    {
     "name": "stderr",
     "output_type": "stream",
     "text": [
      "1346it [04:04,  2.33it/s]"
     ]
    },
    {
     "name": "stdout",
     "output_type": "stream",
     "text": [
      "Saved to A:\\Projects\\CollegeProjects\\YogaPartner\\intermediates\\v2\\bhujangasana_323.jpg\n",
      "Saved to A:\\Projects\\CollegeProjects\\YogaPartner\\intermediates\\v2\\bhujangasana_29.jpg\n"
     ]
    },
    {
     "name": "stderr",
     "output_type": "stream",
     "text": [
      "1348it [04:05,  3.50it/s]"
     ]
    },
    {
     "name": "stdout",
     "output_type": "stream",
     "text": [
      "Saved to A:\\Projects\\CollegeProjects\\YogaPartner\\intermediates\\v2\\bhujangasana_67.jpg\n",
      "Saved to A:\\Projects\\CollegeProjects\\YogaPartner\\intermediates\\v2\\bhujangasana_549.jpg\n"
     ]
    },
    {
     "name": "stderr",
     "output_type": "stream",
     "text": [
      "1351it [04:05,  5.80it/s]"
     ]
    },
    {
     "name": "stdout",
     "output_type": "stream",
     "text": [
      "Saved to A:\\Projects\\CollegeProjects\\YogaPartner\\intermediates\\v2\\bhujangasana_182.jpg\n",
      "Saved to A:\\Projects\\CollegeProjects\\YogaPartner\\intermediates\\v2\\bhujangasana_52.jpg\n",
      "Saved to A:\\Projects\\CollegeProjects\\YogaPartner\\intermediates\\v2\\bhujangasana_366.jpg\n"
     ]
    },
    {
     "name": "stderr",
     "output_type": "stream",
     "text": [
      "\r",
      "1353it [04:05,  6.81it/s]"
     ]
    },
    {
     "name": "stdout",
     "output_type": "stream",
     "text": [
      "Saved to A:\\Projects\\CollegeProjects\\YogaPartner\\intermediates\\v2\\bhujangasana_362.jpg\n",
      "Saved to A:\\Projects\\CollegeProjects\\YogaPartner\\intermediates\\v2\\bhujangasana_179.jpg\n"
     ]
    },
    {
     "name": "stderr",
     "output_type": "stream",
     "text": [
      "\r",
      "1354it [04:05,  7.31it/s]"
     ]
    },
    {
     "name": "stdout",
     "output_type": "stream",
     "text": [
      "Saved to A:\\Projects\\CollegeProjects\\YogaPartner\\intermediates\\v2\\bhujangasana_609.jpg\n",
      "Saved to A:\\Projects\\CollegeProjects\\YogaPartner\\intermediates\\v2\\bhujangasana_258.jpg\n"
     ]
    },
    {
     "name": "stderr",
     "output_type": "stream",
     "text": [
      "1357it [04:06,  7.58it/s]"
     ]
    },
    {
     "name": "stdout",
     "output_type": "stream",
     "text": [
      "Saved to A:\\Projects\\CollegeProjects\\YogaPartner\\intermediates\\v2\\bhujangasana_10.jpg\n",
      "Saved to A:\\Projects\\CollegeProjects\\YogaPartner\\intermediates\\v2\\bhujangasana_329.jpg\n"
     ]
    },
    {
     "name": "stderr",
     "output_type": "stream",
     "text": [
      "1359it [04:06,  7.87it/s]"
     ]
    },
    {
     "name": "stdout",
     "output_type": "stream",
     "text": [
      "Saved to A:\\Projects\\CollegeProjects\\YogaPartner\\intermediates\\v2\\bhujangasana_354.jpg\n",
      "Saved to A:\\Projects\\CollegeProjects\\YogaPartner\\intermediates\\v2\\bhujangasana_592.jpg\n",
      "Saved to A:\\Projects\\CollegeProjects\\YogaPartner\\intermediates\\v2\\bhujangasana_105.jpg\n"
     ]
    },
    {
     "name": "stderr",
     "output_type": "stream",
     "text": [
      "1362it [04:06,  8.54it/s]"
     ]
    },
    {
     "name": "stdout",
     "output_type": "stream",
     "text": [
      "Saved to A:\\Projects\\CollegeProjects\\YogaPartner\\intermediates\\v2\\bhujangasana_166.jpg\n",
      "Saved to A:\\Projects\\CollegeProjects\\YogaPartner\\intermediates\\v2\\bhujangasana_479.jpg\n"
     ]
    },
    {
     "name": "stderr",
     "output_type": "stream",
     "text": [
      "1365it [04:07,  9.10it/s]"
     ]
    },
    {
     "name": "stdout",
     "output_type": "stream",
     "text": [
      "Saved to A:\\Projects\\CollegeProjects\\YogaPartner\\intermediates\\v2\\bhujangasana_612.jpg\n",
      "Saved to A:\\Projects\\CollegeProjects\\YogaPartner\\intermediates\\v2\\bhujangasana_637.jpg\n",
      "Saved to A:\\Projects\\CollegeProjects\\YogaPartner\\intermediates\\v2\\bhujangasana_475.jpg\n"
     ]
    },
    {
     "name": "stderr",
     "output_type": "stream",
     "text": [
      "1367it [04:07,  8.66it/s]"
     ]
    },
    {
     "name": "stdout",
     "output_type": "stream",
     "text": [
      "Saved to A:\\Projects\\CollegeProjects\\YogaPartner\\intermediates\\v2\\bhujangasana_298.jpg\n",
      "Saved to A:\\Projects\\CollegeProjects\\YogaPartner\\intermediates\\v2\\bhujangasana_387.jpg\n"
     ]
    },
    {
     "name": "stderr",
     "output_type": "stream",
     "text": [
      "1369it [04:07,  7.25it/s]"
     ]
    },
    {
     "name": "stdout",
     "output_type": "stream",
     "text": [
      "Saved to A:\\Projects\\CollegeProjects\\YogaPartner\\intermediates\\v2\\bhujangasana_620.jpg\n",
      "Saved to A:\\Projects\\CollegeProjects\\YogaPartner\\intermediates\\v2\\bhujangasana_14.jpg\n"
     ]
    },
    {
     "name": "stderr",
     "output_type": "stream",
     "text": [
      "1371it [04:07,  7.99it/s]"
     ]
    },
    {
     "name": "stdout",
     "output_type": "stream",
     "text": [
      "Saved to A:\\Projects\\CollegeProjects\\YogaPartner\\intermediates\\v2\\bhujangasana_342.jpg\n",
      "Saved to A:\\Projects\\CollegeProjects\\YogaPartner\\intermediates\\v2\\bhujangasana_418.jpg\n"
     ]
    },
    {
     "name": "stderr",
     "output_type": "stream",
     "text": [
      "1373it [04:08,  8.54it/s]"
     ]
    },
    {
     "name": "stdout",
     "output_type": "stream",
     "text": [
      "Saved to A:\\Projects\\CollegeProjects\\YogaPartner\\intermediates\\v2\\bhujangasana_50.jpg\n",
      "Saved to A:\\Projects\\CollegeProjects\\YogaPartner\\intermediates\\v2\\bhujangasana_193.jpg\n",
      "Saved to A:\\Projects\\CollegeProjects\\YogaPartner\\intermediates\\v2\\bhujangasana_185.jpg\n"
     ]
    },
    {
     "name": "stderr",
     "output_type": "stream",
     "text": [
      "1376it [04:08,  7.61it/s]"
     ]
    },
    {
     "name": "stdout",
     "output_type": "stream",
     "text": [
      "Saved to A:\\Projects\\CollegeProjects\\YogaPartner\\intermediates\\v2\\bhujangasana_300.jpg\n",
      "Saved to A:\\Projects\\CollegeProjects\\YogaPartner\\intermediates\\v2\\bhujangasana_587.jpg\n"
     ]
    },
    {
     "name": "stderr",
     "output_type": "stream",
     "text": [
      "1378it [04:08,  7.27it/s]"
     ]
    },
    {
     "name": "stdout",
     "output_type": "stream",
     "text": [
      "Saved to A:\\Projects\\CollegeProjects\\YogaPartner\\intermediates\\v2\\bhujangasana_257.jpg\n",
      "Saved to A:\\Projects\\CollegeProjects\\YogaPartner\\intermediates\\v2\\bhujangasana_90.jpg\n"
     ]
    },
    {
     "name": "stderr",
     "output_type": "stream",
     "text": [
      "1380it [04:09,  7.05it/s]"
     ]
    },
    {
     "name": "stdout",
     "output_type": "stream",
     "text": [
      "Saved to A:\\Projects\\CollegeProjects\\YogaPartner\\intermediates\\v2\\bhujangasana_102.jpg\n",
      "Saved to A:\\Projects\\CollegeProjects\\YogaPartner\\intermediates\\v2\\bhujangasana_117.jpg\n"
     ]
    },
    {
     "name": "stderr",
     "output_type": "stream",
     "text": [
      "1382it [04:09,  7.67it/s]"
     ]
    },
    {
     "name": "stdout",
     "output_type": "stream",
     "text": [
      "Saved to A:\\Projects\\CollegeProjects\\YogaPartner\\intermediates\\v2\\bhujangasana_51.jpg\n",
      "Saved to A:\\Projects\\CollegeProjects\\YogaPartner\\intermediates\\v2\\bhujangasana_234.jpg\n",
      "Saved to A:\\Projects\\CollegeProjects\\YogaPartner\\intermediates\\v2\\bhujangasana_610.jpg\n"
     ]
    },
    {
     "name": "stderr",
     "output_type": "stream",
     "text": [
      "1385it [04:09,  7.56it/s]"
     ]
    },
    {
     "name": "stdout",
     "output_type": "stream",
     "text": [
      "Saved to A:\\Projects\\CollegeProjects\\YogaPartner\\intermediates\\v2\\bhujangasana_69.jpg\n",
      "Saved to A:\\Projects\\CollegeProjects\\YogaPartner\\intermediates\\v2\\bhujangasana_650.jpg\n"
     ]
    },
    {
     "name": "stderr",
     "output_type": "stream",
     "text": [
      "1387it [04:10,  6.51it/s]"
     ]
    },
    {
     "name": "stdout",
     "output_type": "stream",
     "text": [
      "Saved to A:\\Projects\\CollegeProjects\\YogaPartner\\intermediates\\v2\\bhujangasana_539.jpg\n",
      "Saved to A:\\Projects\\CollegeProjects\\YogaPartner\\intermediates\\v2\\bhujangasana_165.jpg\n"
     ]
    },
    {
     "name": "stderr",
     "output_type": "stream",
     "text": [
      "\r",
      "1388it [04:10,  7.08it/s]"
     ]
    },
    {
     "name": "stdout",
     "output_type": "stream",
     "text": [
      "Saved to A:\\Projects\\CollegeProjects\\YogaPartner\\intermediates\\v2\\bhujangasana_646.jpg\n",
      "Saved to A:\\Projects\\CollegeProjects\\YogaPartner\\intermediates\\v2\\bhujangasana_315.jpg\n"
     ]
    },
    {
     "name": "stderr",
     "output_type": "stream",
     "text": [
      "1391it [04:10,  7.12it/s]"
     ]
    },
    {
     "name": "stdout",
     "output_type": "stream",
     "text": [
      "Saved to A:\\Projects\\CollegeProjects\\YogaPartner\\intermediates\\v2\\bhujangasana_507.jpg\n",
      "Saved to A:\\Projects\\CollegeProjects\\YogaPartner\\intermediates\\v2\\bhujangasana_426.jpg\n"
     ]
    },
    {
     "name": "stderr",
     "output_type": "stream",
     "text": [
      "\r",
      "1392it [04:10,  7.10it/s]"
     ]
    },
    {
     "name": "stdout",
     "output_type": "stream",
     "text": [
      "Saved to A:\\Projects\\CollegeProjects\\YogaPartner\\intermediates\\v2\\bhujangasana_508.jpg\n",
      "Saved to A:\\Projects\\CollegeProjects\\YogaPartner\\intermediates\\v2\\bhujangasana_409.jpg\n"
     ]
    },
    {
     "name": "stderr",
     "output_type": "stream",
     "text": [
      "\r",
      "1394it [04:12,  2.95it/s]"
     ]
    },
    {
     "name": "stdout",
     "output_type": "stream",
     "text": [
      "Saved to A:\\Projects\\CollegeProjects\\YogaPartner\\intermediates\\v2\\bhujangasana_48.jpg\n"
     ]
    },
    {
     "name": "stderr",
     "output_type": "stream",
     "text": [
      "1396it [04:12,  3.16it/s]"
     ]
    },
    {
     "name": "stdout",
     "output_type": "stream",
     "text": [
      "Saved to A:\\Projects\\CollegeProjects\\YogaPartner\\intermediates\\v2\\bhujangasana_392.jpg\n",
      "Saved to A:\\Projects\\CollegeProjects\\YogaPartner\\intermediates\\v2\\bhujangasana_87.jpg\n"
     ]
    },
    {
     "name": "stderr",
     "output_type": "stream",
     "text": [
      "1398it [04:12,  4.35it/s]"
     ]
    },
    {
     "name": "stdout",
     "output_type": "stream",
     "text": [
      "Saved to A:\\Projects\\CollegeProjects\\YogaPartner\\intermediates\\v2\\bhujangasana_385.jpg\n",
      "Saved to A:\\Projects\\CollegeProjects\\YogaPartner\\intermediates\\v2\\bhujangasana_470.jpg\n"
     ]
    },
    {
     "name": "stderr",
     "output_type": "stream",
     "text": [
      "1400it [04:13,  5.17it/s]"
     ]
    },
    {
     "name": "stdout",
     "output_type": "stream",
     "text": [
      "Saved to A:\\Projects\\CollegeProjects\\YogaPartner\\intermediates\\v2\\bhujangasana_218.jpg\n",
      "Saved to A:\\Projects\\CollegeProjects\\YogaPartner\\intermediates\\v2\\bhujangasana_652.jpg\n"
     ]
    },
    {
     "name": "stderr",
     "output_type": "stream",
     "text": [
      "1402it [04:13,  4.28it/s]"
     ]
    },
    {
     "name": "stdout",
     "output_type": "stream",
     "text": [
      "Saved to A:\\Projects\\CollegeProjects\\YogaPartner\\intermediates\\v2\\bhujangasana_321.jpg\n",
      "Saved to A:\\Projects\\CollegeProjects\\YogaPartner\\intermediates\\v2\\bhujangasana_72.jpg\n"
     ]
    },
    {
     "name": "stderr",
     "output_type": "stream",
     "text": [
      "1404it [04:14,  5.21it/s]"
     ]
    },
    {
     "name": "stdout",
     "output_type": "stream",
     "text": [
      "Saved to A:\\Projects\\CollegeProjects\\YogaPartner\\intermediates\\v2\\bhujangasana_335.jpg\n",
      "Saved to A:\\Projects\\CollegeProjects\\YogaPartner\\intermediates\\v2\\bhujangasana_510.jpg\n"
     ]
    },
    {
     "name": "stderr",
     "output_type": "stream",
     "text": [
      "1407it [04:14,  7.53it/s]"
     ]
    },
    {
     "name": "stdout",
     "output_type": "stream",
     "text": [
      "Saved to A:\\Projects\\CollegeProjects\\YogaPartner\\intermediates\\v2\\bhujangasana_80.jpg\n",
      "Saved to A:\\Projects\\CollegeProjects\\YogaPartner\\intermediates\\v2\\bhujangasana_281.jpg\n",
      "Saved to A:\\Projects\\CollegeProjects\\YogaPartner\\intermediates\\v2\\bhujangasana_63.jpg\n"
     ]
    },
    {
     "name": "stderr",
     "output_type": "stream",
     "text": [
      "1410it [04:14,  8.26it/s]"
     ]
    },
    {
     "name": "stdout",
     "output_type": "stream",
     "text": [
      "Saved to A:\\Projects\\CollegeProjects\\YogaPartner\\intermediates\\v2\\bhujangasana_70.jpg\n",
      "Saved to A:\\Projects\\CollegeProjects\\YogaPartner\\intermediates\\v2\\bhujangasana_347.jpg\n",
      "Saved to A:\\Projects\\CollegeProjects\\YogaPartner\\intermediates\\v2\\bhujangasana_42.jpg\n"
     ]
    },
    {
     "name": "stderr",
     "output_type": "stream",
     "text": [
      "1412it [04:15,  7.92it/s]"
     ]
    },
    {
     "name": "stdout",
     "output_type": "stream",
     "text": [
      "Saved to A:\\Projects\\CollegeProjects\\YogaPartner\\intermediates\\v2\\bhujangasana_224.jpg\n",
      "Saved to A:\\Projects\\CollegeProjects\\YogaPartner\\intermediates\\v2\\utkatasana_47.jpg\n"
     ]
    },
    {
     "name": "stderr",
     "output_type": "stream",
     "text": [
      "1414it [04:15,  7.36it/s]"
     ]
    },
    {
     "name": "stdout",
     "output_type": "stream",
     "text": [
      "Saved to A:\\Projects\\CollegeProjects\\YogaPartner\\intermediates\\v2\\utkatasana_71.jpg\n",
      "Saved to A:\\Projects\\CollegeProjects\\YogaPartner\\intermediates\\v2\\utkatasana_110.jpg\n"
     ]
    },
    {
     "name": "stderr",
     "output_type": "stream",
     "text": [
      "1416it [04:15,  7.99it/s]"
     ]
    },
    {
     "name": "stdout",
     "output_type": "stream",
     "text": [
      "Saved to A:\\Projects\\CollegeProjects\\YogaPartner\\intermediates\\v2\\utkatasana_177.jpg\n",
      "Saved to A:\\Projects\\CollegeProjects\\YogaPartner\\intermediates\\v2\\utkatasana_120.jpg\n"
     ]
    },
    {
     "name": "stderr",
     "output_type": "stream",
     "text": [
      "1418it [04:16,  6.46it/s]"
     ]
    },
    {
     "name": "stdout",
     "output_type": "stream",
     "text": [
      "Saved to A:\\Projects\\CollegeProjects\\YogaPartner\\intermediates\\v2\\utkatasana_123.jpg\n",
      "Saved to A:\\Projects\\CollegeProjects\\YogaPartner\\intermediates\\v2\\utkatasana_205.jpg\n"
     ]
    },
    {
     "name": "stderr",
     "output_type": "stream",
     "text": [
      "1420it [04:16,  7.55it/s]"
     ]
    },
    {
     "name": "stdout",
     "output_type": "stream",
     "text": [
      "Saved to A:\\Projects\\CollegeProjects\\YogaPartner\\intermediates\\v2\\utkatasana_67.jpg\n",
      "Saved to A:\\Projects\\CollegeProjects\\YogaPartner\\intermediates\\v2\\utkatasana_171.jpg\n"
     ]
    },
    {
     "name": "stderr",
     "output_type": "stream",
     "text": [
      "1422it [04:16,  6.91it/s]"
     ]
    },
    {
     "name": "stdout",
     "output_type": "stream",
     "text": [
      "Saved to A:\\Projects\\CollegeProjects\\YogaPartner\\intermediates\\v2\\utkatasana_176.jpg\n",
      "Saved to A:\\Projects\\CollegeProjects\\YogaPartner\\intermediates\\v2\\utkatasana_16.jpg\n"
     ]
    },
    {
     "name": "stderr",
     "output_type": "stream",
     "text": [
      "1424it [04:16,  7.74it/s]"
     ]
    },
    {
     "name": "stdout",
     "output_type": "stream",
     "text": [
      "Saved to A:\\Projects\\CollegeProjects\\YogaPartner\\intermediates\\v2\\utkatasana_166.jpg\n",
      "Saved to A:\\Projects\\CollegeProjects\\YogaPartner\\intermediates\\v2\\utkatasana_45.jpg\n"
     ]
    },
    {
     "name": "stderr",
     "output_type": "stream",
     "text": [
      "1426it [04:17,  7.25it/s]"
     ]
    },
    {
     "name": "stdout",
     "output_type": "stream",
     "text": [
      "Saved to A:\\Projects\\CollegeProjects\\YogaPartner\\intermediates\\v2\\utkatasana_191.jpg\n",
      "Saved to A:\\Projects\\CollegeProjects\\YogaPartner\\intermediates\\v2\\utkatasana_108.jpg\n"
     ]
    },
    {
     "name": "stderr",
     "output_type": "stream",
     "text": [
      "1428it [04:17,  7.06it/s]"
     ]
    },
    {
     "name": "stdout",
     "output_type": "stream",
     "text": [
      "Saved to A:\\Projects\\CollegeProjects\\YogaPartner\\intermediates\\v2\\utkatasana_208.jpg\n",
      "Saved to A:\\Projects\\CollegeProjects\\YogaPartner\\intermediates\\v2\\utkatasana_185.jpg\n"
     ]
    },
    {
     "name": "stderr",
     "output_type": "stream",
     "text": [
      "1430it [04:17,  6.57it/s]"
     ]
    },
    {
     "name": "stdout",
     "output_type": "stream",
     "text": [
      "Saved to A:\\Projects\\CollegeProjects\\YogaPartner\\intermediates\\v2\\utkatasana_20.jpg\n",
      "Saved to A:\\Projects\\CollegeProjects\\YogaPartner\\intermediates\\v2\\utkatasana_1.jpg\n"
     ]
    },
    {
     "name": "stderr",
     "output_type": "stream",
     "text": [
      "1432it [04:17,  7.23it/s]"
     ]
    },
    {
     "name": "stdout",
     "output_type": "stream",
     "text": [
      "Saved to A:\\Projects\\CollegeProjects\\YogaPartner\\intermediates\\v2\\utkatasana_161.jpg\n",
      "Saved to A:\\Projects\\CollegeProjects\\YogaPartner\\intermediates\\v2\\utkatasana_100.jpg\n"
     ]
    },
    {
     "name": "stderr",
     "output_type": "stream",
     "text": [
      "1434it [04:18,  8.02it/s]"
     ]
    },
    {
     "name": "stdout",
     "output_type": "stream",
     "text": [
      "Saved to A:\\Projects\\CollegeProjects\\YogaPartner\\intermediates\\v2\\utkatasana_221.jpg\n",
      "Saved to A:\\Projects\\CollegeProjects\\YogaPartner\\intermediates\\v2\\utkatasana_97.jpg\n"
     ]
    },
    {
     "name": "stderr",
     "output_type": "stream",
     "text": [
      "1436it [04:18,  7.85it/s]"
     ]
    },
    {
     "name": "stdout",
     "output_type": "stream",
     "text": [
      "Saved to A:\\Projects\\CollegeProjects\\YogaPartner\\intermediates\\v2\\utkatasana_46.jpg\n",
      "Saved to A:\\Projects\\CollegeProjects\\YogaPartner\\intermediates\\v2\\utkatasana_192.jpg\n"
     ]
    },
    {
     "name": "stderr",
     "output_type": "stream",
     "text": [
      "1438it [04:18,  8.26it/s]"
     ]
    },
    {
     "name": "stdout",
     "output_type": "stream",
     "text": [
      "Saved to A:\\Projects\\CollegeProjects\\YogaPartner\\intermediates\\v2\\utkatasana_175.jpg\n",
      "Saved to A:\\Projects\\CollegeProjects\\YogaPartner\\intermediates\\v2\\utkatasana_204.jpg\n"
     ]
    },
    {
     "name": "stderr",
     "output_type": "stream",
     "text": [
      "1440it [04:18,  8.48it/s]"
     ]
    },
    {
     "name": "stdout",
     "output_type": "stream",
     "text": [
      "Saved to A:\\Projects\\CollegeProjects\\YogaPartner\\intermediates\\v2\\utkatasana_206.jpg\n",
      "Saved to A:\\Projects\\CollegeProjects\\YogaPartner\\intermediates\\v2\\utkatasana_125.jpg\n"
     ]
    },
    {
     "name": "stderr",
     "output_type": "stream",
     "text": [
      "\r",
      "1441it [04:19,  8.15it/s]"
     ]
    },
    {
     "name": "stdout",
     "output_type": "stream",
     "text": [
      "Saved to A:\\Projects\\CollegeProjects\\YogaPartner\\intermediates\\v2\\utkatasana_54.jpg\n",
      "Saved to A:\\Projects\\CollegeProjects\\YogaPartner\\intermediates\\v2\\utkatasana_81.jpg\n"
     ]
    },
    {
     "name": "stderr",
     "output_type": "stream",
     "text": [
      "1444it [04:19,  4.64it/s]"
     ]
    },
    {
     "name": "stdout",
     "output_type": "stream",
     "text": [
      "Saved to A:\\Projects\\CollegeProjects\\YogaPartner\\intermediates\\v2\\utkatasana_132.jpg\n",
      "Saved to A:\\Projects\\CollegeProjects\\YogaPartner\\intermediates\\v2\\utkatasana_209.jpg\n"
     ]
    },
    {
     "name": "stderr",
     "output_type": "stream",
     "text": [
      "1446it [04:20,  5.05it/s]"
     ]
    },
    {
     "name": "stdout",
     "output_type": "stream",
     "text": [
      "Saved to A:\\Projects\\CollegeProjects\\YogaPartner\\intermediates\\v2\\utkatasana_93.jpg\n",
      "Saved to A:\\Projects\\CollegeProjects\\YogaPartner\\intermediates\\v2\\utkatasana_23.jpg\n"
     ]
    },
    {
     "name": "stderr",
     "output_type": "stream",
     "text": [
      "1448it [04:20,  5.39it/s]"
     ]
    },
    {
     "name": "stdout",
     "output_type": "stream",
     "text": [
      "Saved to A:\\Projects\\CollegeProjects\\YogaPartner\\intermediates\\v2\\utkatasana_60.jpg\n",
      "Saved to A:\\Projects\\CollegeProjects\\YogaPartner\\intermediates\\v2\\utkatasana_8.jpg\n"
     ]
    },
    {
     "name": "stderr",
     "output_type": "stream",
     "text": [
      "\r",
      "1449it [04:20,  5.93it/s]"
     ]
    },
    {
     "name": "stdout",
     "output_type": "stream",
     "text": [
      "Saved to A:\\Projects\\CollegeProjects\\YogaPartner\\intermediates\\v2\\utkatasana_182.jpg\n",
      "Saved to A:\\Projects\\CollegeProjects\\YogaPartner\\intermediates\\v2\\utkatasana_173.jpg\n",
      "Saved to A:\\Projects\\CollegeProjects\\YogaPartner\\intermediates\\v2\\utkatasana_216.jpg\n"
     ]
    },
    {
     "name": "stderr",
     "output_type": "stream",
     "text": [
      "1453it [04:21,  7.62it/s]"
     ]
    },
    {
     "name": "stdout",
     "output_type": "stream",
     "text": [
      "Saved to A:\\Projects\\CollegeProjects\\YogaPartner\\intermediates\\v2\\utkatasana_105.jpg\n",
      "Saved to A:\\Projects\\CollegeProjects\\YogaPartner\\intermediates\\v2\\utkatasana_162.jpg\n"
     ]
    },
    {
     "name": "stderr",
     "output_type": "stream",
     "text": [
      "1455it [04:21,  7.29it/s]"
     ]
    },
    {
     "name": "stdout",
     "output_type": "stream",
     "text": [
      "Saved to A:\\Projects\\CollegeProjects\\YogaPartner\\intermediates\\v2\\utkatasana_10.jpg\n",
      "Saved to A:\\Projects\\CollegeProjects\\YogaPartner\\intermediates\\v2\\utkatasana_98.jpg\n"
     ]
    },
    {
     "name": "stderr",
     "output_type": "stream",
     "text": [
      "1457it [04:21,  6.78it/s]"
     ]
    },
    {
     "name": "stdout",
     "output_type": "stream",
     "text": [
      "Saved to A:\\Projects\\CollegeProjects\\YogaPartner\\intermediates\\v2\\utkatasana_210.jpg\n",
      "Saved to A:\\Projects\\CollegeProjects\\YogaPartner\\intermediates\\v2\\utkatasana_31.jpg\n"
     ]
    },
    {
     "name": "stderr",
     "output_type": "stream",
     "text": [
      "1460it [04:22,  7.81it/s]"
     ]
    },
    {
     "name": "stdout",
     "output_type": "stream",
     "text": [
      "Saved to A:\\Projects\\CollegeProjects\\YogaPartner\\intermediates\\v2\\utkatasana_84.jpg\n",
      "Saved to A:\\Projects\\CollegeProjects\\YogaPartner\\intermediates\\v2\\utkatasana_79.jpg\n",
      "Saved to A:\\Projects\\CollegeProjects\\YogaPartner\\intermediates\\v2\\utkatasana_30.jpg\n"
     ]
    },
    {
     "name": "stderr",
     "output_type": "stream",
     "text": [
      "1462it [04:23,  3.83it/s]"
     ]
    },
    {
     "name": "stdout",
     "output_type": "stream",
     "text": [
      "Saved to A:\\Projects\\CollegeProjects\\YogaPartner\\intermediates\\v2\\utkatasana_225.jpg\n",
      "Saved to A:\\Projects\\CollegeProjects\\YogaPartner\\intermediates\\v2\\utkatasana_114.jpg\n"
     ]
    },
    {
     "name": "stderr",
     "output_type": "stream",
     "text": [
      "1464it [04:23,  5.01it/s]"
     ]
    },
    {
     "name": "stdout",
     "output_type": "stream",
     "text": [
      "Saved to A:\\Projects\\CollegeProjects\\YogaPartner\\intermediates\\v2\\utkatasana_154.jpg\n",
      "Saved to A:\\Projects\\CollegeProjects\\YogaPartner\\intermediates\\v2\\utkatasana_113.jpg\n"
     ]
    },
    {
     "name": "stderr",
     "output_type": "stream",
     "text": [
      "1467it [04:23,  7.22it/s]"
     ]
    },
    {
     "name": "stdout",
     "output_type": "stream",
     "text": [
      "Saved to A:\\Projects\\CollegeProjects\\YogaPartner\\intermediates\\v2\\utkatasana_39.jpg\n",
      "Saved to A:\\Projects\\CollegeProjects\\YogaPartner\\intermediates\\v2\\utkatasana_174.jpg\n",
      "Saved to A:\\Projects\\CollegeProjects\\YogaPartner\\intermediates\\v2\\utkatasana_52.jpg\n"
     ]
    },
    {
     "name": "stderr",
     "output_type": "stream",
     "text": [
      "\r",
      "1468it [04:23,  7.48it/s]"
     ]
    },
    {
     "name": "stdout",
     "output_type": "stream",
     "text": [
      "Saved to A:\\Projects\\CollegeProjects\\YogaPartner\\intermediates\\v2\\utkatasana_217.jpg\n"
     ]
    },
    {
     "name": "stderr",
     "output_type": "stream",
     "text": [
      "1470it [04:25,  3.01it/s]"
     ]
    },
    {
     "name": "stdout",
     "output_type": "stream",
     "text": [
      "Saved to A:\\Projects\\CollegeProjects\\YogaPartner\\intermediates\\v2\\utkatasana_180.jpg\n",
      "Saved to A:\\Projects\\CollegeProjects\\YogaPartner\\intermediates\\v2\\utkatasana_118.jpg\n"
     ]
    },
    {
     "name": "stderr",
     "output_type": "stream",
     "text": [
      "1472it [04:25,  4.09it/s]"
     ]
    },
    {
     "name": "stdout",
     "output_type": "stream",
     "text": [
      "Saved to A:\\Projects\\CollegeProjects\\YogaPartner\\intermediates\\v2\\utkatasana_155.jpg\n",
      "Saved to A:\\Projects\\CollegeProjects\\YogaPartner\\intermediates\\v2\\utkatasana_32.jpg\n"
     ]
    },
    {
     "name": "stderr",
     "output_type": "stream",
     "text": [
      "1474it [04:25,  4.65it/s]"
     ]
    },
    {
     "name": "stdout",
     "output_type": "stream",
     "text": [
      "Saved to A:\\Projects\\CollegeProjects\\YogaPartner\\intermediates\\v2\\utkatasana_77.jpg\n",
      "Saved to A:\\Projects\\CollegeProjects\\YogaPartner\\intermediates\\v2\\utkatasana_199.jpg\n"
     ]
    },
    {
     "name": "stderr",
     "output_type": "stream",
     "text": [
      "1476it [04:26,  5.66it/s]"
     ]
    },
    {
     "name": "stdout",
     "output_type": "stream",
     "text": [
      "Saved to A:\\Projects\\CollegeProjects\\YogaPartner\\intermediates\\v2\\utkatasana_58.jpg\n",
      "Saved to A:\\Projects\\CollegeProjects\\YogaPartner\\intermediates\\v2\\utkatasana_213.jpg\n"
     ]
    },
    {
     "name": "stderr",
     "output_type": "stream",
     "text": [
      "1479it [04:26,  7.47it/s]"
     ]
    },
    {
     "name": "stdout",
     "output_type": "stream",
     "text": [
      "Saved to A:\\Projects\\CollegeProjects\\YogaPartner\\intermediates\\v2\\utkatasana_148.jpg\n",
      "Saved to A:\\Projects\\CollegeProjects\\YogaPartner\\intermediates\\v2\\utkatasana_222.jpg\n",
      "Saved to A:\\Projects\\CollegeProjects\\YogaPartner\\intermediates\\v2\\utkatasana_101.jpg\n"
     ]
    },
    {
     "name": "stderr",
     "output_type": "stream",
     "text": [
      "\r",
      "1480it [04:26,  7.91it/s]"
     ]
    },
    {
     "name": "stdout",
     "output_type": "stream",
     "text": [
      "Saved to A:\\Projects\\CollegeProjects\\YogaPartner\\intermediates\\v2\\utkatasana_14.jpg\n",
      "Saved to A:\\Projects\\CollegeProjects\\YogaPartner\\intermediates\\v2\\utkatasana_207.jpg\n"
     ]
    },
    {
     "name": "stderr",
     "output_type": "stream",
     "text": [
      "1484it [04:27,  8.53it/s]"
     ]
    },
    {
     "name": "stdout",
     "output_type": "stream",
     "text": [
      "Saved to A:\\Projects\\CollegeProjects\\YogaPartner\\intermediates\\v2\\utkatasana_126.jpg\n",
      "Saved to A:\\Projects\\CollegeProjects\\YogaPartner\\intermediates\\v2\\utkatasana_194.jpg\n",
      "Saved to A:\\Projects\\CollegeProjects\\YogaPartner\\intermediates\\v2\\utkatasana_112.jpg\n"
     ]
    },
    {
     "name": "stderr",
     "output_type": "stream",
     "text": [
      "1486it [04:27,  8.70it/s]"
     ]
    },
    {
     "name": "stdout",
     "output_type": "stream",
     "text": [
      "Saved to A:\\Projects\\CollegeProjects\\YogaPartner\\intermediates\\v2\\utkatasana_19.jpg\n",
      "Saved to A:\\Projects\\CollegeProjects\\YogaPartner\\intermediates\\v2\\utkatasana_103.jpg\n"
     ]
    },
    {
     "name": "stderr",
     "output_type": "stream",
     "text": [
      "\r",
      "1488it [04:27,  9.31it/s]"
     ]
    },
    {
     "name": "stdout",
     "output_type": "stream",
     "text": [
      "Saved to A:\\Projects\\CollegeProjects\\YogaPartner\\intermediates\\v2\\utkatasana_147.jpg\n",
      "Saved to A:\\Projects\\CollegeProjects\\YogaPartner\\intermediates\\v2\\utkatasana_144.jpg\n"
     ]
    },
    {
     "name": "stderr",
     "output_type": "stream",
     "text": [
      "1490it [04:28,  4.86it/s]"
     ]
    },
    {
     "name": "stdout",
     "output_type": "stream",
     "text": [
      "Saved to A:\\Projects\\CollegeProjects\\YogaPartner\\intermediates\\v2\\utkatasana_183.jpg\n",
      "Saved to A:\\Projects\\CollegeProjects\\YogaPartner\\intermediates\\v2\\utkatasana_150.jpg\n"
     ]
    },
    {
     "name": "stderr",
     "output_type": "stream",
     "text": [
      "1492it [04:28,  5.84it/s]"
     ]
    },
    {
     "name": "stdout",
     "output_type": "stream",
     "text": [
      "Saved to A:\\Projects\\CollegeProjects\\YogaPartner\\intermediates\\v2\\utkatasana_99.jpg\n",
      "Saved to A:\\Projects\\CollegeProjects\\YogaPartner\\intermediates\\v2\\utkatasana_187.jpg\n"
     ]
    },
    {
     "name": "stderr",
     "output_type": "stream",
     "text": [
      "1494it [04:28,  6.66it/s]"
     ]
    },
    {
     "name": "stdout",
     "output_type": "stream",
     "text": [
      "Saved to A:\\Projects\\CollegeProjects\\YogaPartner\\intermediates\\v2\\utkatasana_75.jpg\n",
      "Saved to A:\\Projects\\CollegeProjects\\YogaPartner\\intermediates\\v2\\utkatasana_190.jpg\n"
     ]
    },
    {
     "name": "stderr",
     "output_type": "stream",
     "text": [
      "\r",
      "1496it [04:28,  7.93it/s]"
     ]
    },
    {
     "name": "stdout",
     "output_type": "stream",
     "text": [
      "Saved to A:\\Projects\\CollegeProjects\\YogaPartner\\intermediates\\v2\\utkatasana_63.jpg\n",
      "Saved to A:\\Projects\\CollegeProjects\\YogaPartner\\intermediates\\v2\\utkatasana_61.jpg\n",
      "Saved to A:\\Projects\\CollegeProjects\\YogaPartner\\intermediates\\v2\\utkatasana_34.jpg\n"
     ]
    },
    {
     "name": "stderr",
     "output_type": "stream",
     "text": [
      "1499it [04:29,  8.27it/s]"
     ]
    },
    {
     "name": "stdout",
     "output_type": "stream",
     "text": [
      "Saved to A:\\Projects\\CollegeProjects\\YogaPartner\\intermediates\\v2\\utkatasana_65.jpg\n",
      "Saved to A:\\Projects\\CollegeProjects\\YogaPartner\\intermediates\\v2\\utkatasana_44.jpg\n"
     ]
    },
    {
     "name": "stderr",
     "output_type": "stream",
     "text": [
      "1501it [04:29,  8.37it/s]"
     ]
    },
    {
     "name": "stdout",
     "output_type": "stream",
     "text": [
      "Saved to A:\\Projects\\CollegeProjects\\YogaPartner\\intermediates\\v2\\utkatasana_160.jpg\n",
      "Saved to A:\\Projects\\CollegeProjects\\YogaPartner\\intermediates\\v2\\utkatasana_69.jpg\n",
      "Saved to A:\\Projects\\CollegeProjects\\YogaPartner\\intermediates\\v2\\utkatasana_202.jpg\n"
     ]
    },
    {
     "name": "stderr",
     "output_type": "stream",
     "text": [
      "1504it [04:30,  6.34it/s]"
     ]
    },
    {
     "name": "stdout",
     "output_type": "stream",
     "text": [
      "Saved to A:\\Projects\\CollegeProjects\\YogaPartner\\intermediates\\v2\\utkatasana_62.jpg\n",
      "Saved to A:\\Projects\\CollegeProjects\\YogaPartner\\intermediates\\v2\\utkatasana_116.jpg\n"
     ]
    },
    {
     "name": "stderr",
     "output_type": "stream",
     "text": [
      "1506it [04:30,  6.41it/s]"
     ]
    },
    {
     "name": "stdout",
     "output_type": "stream",
     "text": [
      "Saved to A:\\Projects\\CollegeProjects\\YogaPartner\\intermediates\\v2\\utkatasana_74.jpg\n",
      "Saved to A:\\Projects\\CollegeProjects\\YogaPartner\\intermediates\\v2\\utkatasana_21.jpg\n"
     ]
    },
    {
     "name": "stderr",
     "output_type": "stream",
     "text": [
      "\r",
      "1507it [04:30,  6.80it/s]"
     ]
    },
    {
     "name": "stdout",
     "output_type": "stream",
     "text": [
      "Saved to A:\\Projects\\CollegeProjects\\YogaPartner\\intermediates\\v2\\utkatasana_203.jpg\n"
     ]
    },
    {
     "name": "stderr",
     "output_type": "stream",
     "text": [
      "1509it [04:30,  6.31it/s]"
     ]
    },
    {
     "name": "stdout",
     "output_type": "stream",
     "text": [
      "Saved to A:\\Projects\\CollegeProjects\\YogaPartner\\intermediates\\v2\\utkatasana_141.jpg\n",
      "Saved to A:\\Projects\\CollegeProjects\\YogaPartner\\intermediates\\v2\\utkatasana_66.jpg\n"
     ]
    },
    {
     "name": "stderr",
     "output_type": "stream",
     "text": [
      "\r",
      "1510it [04:31,  6.48it/s]"
     ]
    },
    {
     "name": "stdout",
     "output_type": "stream",
     "text": [
      "Saved to A:\\Projects\\CollegeProjects\\YogaPartner\\intermediates\\v2\\utkatasana_195.jpg\n"
     ]
    },
    {
     "name": "stderr",
     "output_type": "stream",
     "text": [
      "\r",
      "1511it [04:31,  5.57it/s]"
     ]
    },
    {
     "name": "stdout",
     "output_type": "stream",
     "text": [
      "Saved to A:\\Projects\\CollegeProjects\\YogaPartner\\intermediates\\v2\\utkatasana_158.jpg\n"
     ]
    },
    {
     "name": "stderr",
     "output_type": "stream",
     "text": [
      "1513it [04:31,  4.52it/s]"
     ]
    },
    {
     "name": "stdout",
     "output_type": "stream",
     "text": [
      "Saved to A:\\Projects\\CollegeProjects\\YogaPartner\\intermediates\\v2\\utkatasana_24.jpg\n",
      "Saved to A:\\Projects\\CollegeProjects\\YogaPartner\\intermediates\\v2\\utkatasana_109.jpg\n"
     ]
    },
    {
     "name": "stderr",
     "output_type": "stream",
     "text": [
      "1515it [04:32,  5.85it/s]"
     ]
    },
    {
     "name": "stdout",
     "output_type": "stream",
     "text": [
      "Saved to A:\\Projects\\CollegeProjects\\YogaPartner\\intermediates\\v2\\utkatasana_139.jpg\n",
      "Saved to A:\\Projects\\CollegeProjects\\YogaPartner\\intermediates\\v2\\utkatasana_27.jpg\n",
      "Saved to A:\\Projects\\CollegeProjects\\YogaPartner\\intermediates\\v2\\utkatasana_136.jpg\n"
     ]
    },
    {
     "name": "stderr",
     "output_type": "stream",
     "text": [
      "1518it [04:32,  7.13it/s]"
     ]
    },
    {
     "name": "stdout",
     "output_type": "stream",
     "text": [
      "Saved to A:\\Projects\\CollegeProjects\\YogaPartner\\intermediates\\v2\\utkatasana_3.jpg\n",
      "Saved to A:\\Projects\\CollegeProjects\\YogaPartner\\intermediates\\v2\\utkatasana_178.jpg\n"
     ]
    },
    {
     "name": "stderr",
     "output_type": "stream",
     "text": [
      "1520it [04:32,  7.10it/s]"
     ]
    },
    {
     "name": "stdout",
     "output_type": "stream",
     "text": [
      "Saved to A:\\Projects\\CollegeProjects\\YogaPartner\\intermediates\\v2\\utkatasana_80.jpg\n",
      "Saved to A:\\Projects\\CollegeProjects\\YogaPartner\\intermediates\\v2\\utkatasana_18.jpg\n"
     ]
    },
    {
     "name": "stderr",
     "output_type": "stream",
     "text": [
      "1522it [04:33,  6.25it/s]"
     ]
    },
    {
     "name": "stdout",
     "output_type": "stream",
     "text": [
      "Saved to A:\\Projects\\CollegeProjects\\YogaPartner\\intermediates\\v2\\utkatasana_196.jpg\n",
      "Saved to A:\\Projects\\CollegeProjects\\YogaPartner\\intermediates\\v2\\utkatasana_4.jpg\n"
     ]
    },
    {
     "name": "stderr",
     "output_type": "stream",
     "text": [
      "1524it [04:33,  6.94it/s]"
     ]
    },
    {
     "name": "stdout",
     "output_type": "stream",
     "text": [
      "Saved to A:\\Projects\\CollegeProjects\\YogaPartner\\intermediates\\v2\\utkatasana_37.jpg\n",
      "Saved to A:\\Projects\\CollegeProjects\\YogaPartner\\intermediates\\v2\\utkatasana_129.jpg\n"
     ]
    },
    {
     "name": "stderr",
     "output_type": "stream",
     "text": [
      "1526it [04:33,  7.06it/s]"
     ]
    },
    {
     "name": "stdout",
     "output_type": "stream",
     "text": [
      "Saved to A:\\Projects\\CollegeProjects\\YogaPartner\\intermediates\\v2\\utkatasana_131.jpg\n",
      "Saved to A:\\Projects\\CollegeProjects\\YogaPartner\\intermediates\\v2\\utkatasana_115.jpg\n"
     ]
    },
    {
     "name": "stderr",
     "output_type": "stream",
     "text": [
      "1528it [04:33,  7.92it/s]"
     ]
    },
    {
     "name": "stdout",
     "output_type": "stream",
     "text": [
      "Saved to A:\\Projects\\CollegeProjects\\YogaPartner\\intermediates\\v2\\utkatasana_181.jpg\n",
      "Saved to A:\\Projects\\CollegeProjects\\YogaPartner\\intermediates\\v2\\utkatasana_13.jpg\n"
     ]
    },
    {
     "name": "stderr",
     "output_type": "stream",
     "text": [
      "1530it [04:34,  8.15it/s]"
     ]
    },
    {
     "name": "stdout",
     "output_type": "stream",
     "text": [
      "Saved to A:\\Projects\\CollegeProjects\\YogaPartner\\intermediates\\v2\\utkatasana_22.jpg\n",
      "Saved to A:\\Projects\\CollegeProjects\\YogaPartner\\intermediates\\v2\\utkatasana_133.jpg\n"
     ]
    },
    {
     "name": "stderr",
     "output_type": "stream",
     "text": [
      "1532it [04:34,  8.87it/s]"
     ]
    },
    {
     "name": "stdout",
     "output_type": "stream",
     "text": [
      "Saved to A:\\Projects\\CollegeProjects\\YogaPartner\\intermediates\\v2\\utkatasana_215.jpg\n",
      "Saved to A:\\Projects\\CollegeProjects\\YogaPartner\\intermediates\\v2\\utkatasana_138.jpg\n"
     ]
    },
    {
     "name": "stderr",
     "output_type": "stream",
     "text": [
      "\r",
      "1533it [04:34,  6.77it/s]"
     ]
    },
    {
     "name": "stdout",
     "output_type": "stream",
     "text": [
      "Saved to A:\\Projects\\CollegeProjects\\YogaPartner\\intermediates\\v2\\utkatasana_5.jpg\n"
     ]
    },
    {
     "name": "stderr",
     "output_type": "stream",
     "text": [
      "1535it [04:35,  3.99it/s]"
     ]
    },
    {
     "name": "stdout",
     "output_type": "stream",
     "text": [
      "Saved to A:\\Projects\\CollegeProjects\\YogaPartner\\intermediates\\v2\\utkatasana_92.jpg\n",
      "Saved to A:\\Projects\\CollegeProjects\\YogaPartner\\intermediates\\v2\\utkatasana_102.jpg\n"
     ]
    },
    {
     "name": "stderr",
     "output_type": "stream",
     "text": [
      "1537it [04:35,  5.29it/s]"
     ]
    },
    {
     "name": "stdout",
     "output_type": "stream",
     "text": [
      "Saved to A:\\Projects\\CollegeProjects\\YogaPartner\\intermediates\\v2\\utkatasana_104.jpg\n",
      "Saved to A:\\Projects\\CollegeProjects\\YogaPartner\\intermediates\\v2\\utkatasana_50.jpg\n"
     ]
    },
    {
     "name": "stderr",
     "output_type": "stream",
     "text": [
      "\r",
      "1539it [04:35,  6.59it/s]"
     ]
    },
    {
     "name": "stdout",
     "output_type": "stream",
     "text": [
      "Saved to A:\\Projects\\CollegeProjects\\YogaPartner\\intermediates\\v2\\utkatasana_111.jpg\n",
      "Saved to A:\\Projects\\CollegeProjects\\YogaPartner\\intermediates\\v2\\utkatasana_85.jpg\n"
     ]
    },
    {
     "name": "stderr",
     "output_type": "stream",
     "text": [
      "1541it [04:36,  5.60it/s]"
     ]
    },
    {
     "name": "stdout",
     "output_type": "stream",
     "text": [
      "Saved to A:\\Projects\\CollegeProjects\\YogaPartner\\intermediates\\v2\\utkatasana_169.jpg\n",
      "Saved to A:\\Projects\\CollegeProjects\\YogaPartner\\intermediates\\v2\\utkatasana_149.jpg\n"
     ]
    },
    {
     "name": "stderr",
     "output_type": "stream",
     "text": [
      "1543it [04:36,  6.45it/s]"
     ]
    },
    {
     "name": "stdout",
     "output_type": "stream",
     "text": [
      "Saved to A:\\Projects\\CollegeProjects\\YogaPartner\\intermediates\\v2\\utkatasana_96.jpg\n",
      "Saved to A:\\Projects\\CollegeProjects\\YogaPartner\\intermediates\\v2\\utkatasana_201.jpg\n"
     ]
    },
    {
     "name": "stderr",
     "output_type": "stream",
     "text": [
      "\r",
      "1544it [04:36,  6.59it/s]"
     ]
    },
    {
     "name": "stdout",
     "output_type": "stream",
     "text": [
      "Saved to A:\\Projects\\CollegeProjects\\YogaPartner\\intermediates\\v2\\utkatasana_223.jpg\n",
      "Saved to A:\\Projects\\CollegeProjects\\YogaPartner\\intermediates\\v2\\utkatasana_88.jpg\n"
     ]
    },
    {
     "name": "stderr",
     "output_type": "stream",
     "text": [
      "\r",
      "1546it [04:36,  7.79it/s]"
     ]
    },
    {
     "name": "stdout",
     "output_type": "stream",
     "text": [
      "Saved to A:\\Projects\\CollegeProjects\\YogaPartner\\intermediates\\v2\\utkatasana_188.jpg\n"
     ]
    },
    {
     "name": "stderr",
     "output_type": "stream",
     "text": [
      "1548it [04:37,  5.45it/s]"
     ]
    },
    {
     "name": "stdout",
     "output_type": "stream",
     "text": [
      "Saved to A:\\Projects\\CollegeProjects\\YogaPartner\\intermediates\\v2\\utkatasana_43.jpg\n",
      "Saved to A:\\Projects\\CollegeProjects\\YogaPartner\\intermediates\\v2\\utkatasana_165.jpg\n"
     ]
    },
    {
     "name": "stderr",
     "output_type": "stream",
     "text": [
      "1550it [04:37,  6.25it/s]"
     ]
    },
    {
     "name": "stdout",
     "output_type": "stream",
     "text": [
      "Saved to A:\\Projects\\CollegeProjects\\YogaPartner\\intermediates\\v2\\utkatasana_25.jpg\n",
      "Saved to A:\\Projects\\CollegeProjects\\YogaPartner\\intermediates\\v2\\utkatasana_95.jpg\n"
     ]
    },
    {
     "name": "stderr",
     "output_type": "stream",
     "text": [
      "1552it [04:38,  4.63it/s]"
     ]
    },
    {
     "name": "stdout",
     "output_type": "stream",
     "text": [
      "Saved to A:\\Projects\\CollegeProjects\\YogaPartner\\intermediates\\v2\\utkatasana_193.jpg\n",
      "Saved to A:\\Projects\\CollegeProjects\\YogaPartner\\intermediates\\v2\\utkatasana_224.jpg\n"
     ]
    },
    {
     "name": "stderr",
     "output_type": "stream",
     "text": [
      "\r",
      "1553it [04:38,  5.15it/s]"
     ]
    },
    {
     "name": "stdout",
     "output_type": "stream",
     "text": [
      "Saved to A:\\Projects\\CollegeProjects\\YogaPartner\\intermediates\\v2\\utkatasana_220.jpg\n",
      "Saved to A:\\Projects\\CollegeProjects\\YogaPartner\\intermediates\\v2\\utkatasana_91.jpg\n"
     ]
    },
    {
     "name": "stderr",
     "output_type": "stream",
     "text": [
      "1556it [04:38,  6.07it/s]"
     ]
    },
    {
     "name": "stdout",
     "output_type": "stream",
     "text": [
      "Saved to A:\\Projects\\CollegeProjects\\YogaPartner\\intermediates\\v2\\utkatasana_153.jpg\n",
      "Saved to A:\\Projects\\CollegeProjects\\YogaPartner\\intermediates\\v2\\utkatasana_41.jpg\n"
     ]
    },
    {
     "name": "stderr",
     "output_type": "stream",
     "text": [
      "1558it [04:39,  6.80it/s]"
     ]
    },
    {
     "name": "stdout",
     "output_type": "stream",
     "text": [
      "Saved to A:\\Projects\\CollegeProjects\\YogaPartner\\intermediates\\v2\\utkatasana_83.jpg\n",
      "Saved to A:\\Projects\\CollegeProjects\\YogaPartner\\intermediates\\v2\\utkatasana_143.jpg\n"
     ]
    },
    {
     "name": "stderr",
     "output_type": "stream",
     "text": [
      "1560it [04:39,  7.69it/s]"
     ]
    },
    {
     "name": "stdout",
     "output_type": "stream",
     "text": [
      "Saved to A:\\Projects\\CollegeProjects\\YogaPartner\\intermediates\\v2\\utkatasana_186.jpg\n",
      "Saved to A:\\Projects\\CollegeProjects\\YogaPartner\\intermediates\\v2\\utkatasana_117.jpg\n",
      "Saved to A:\\Projects\\CollegeProjects\\YogaPartner\\intermediates\\v2\\utkatasana_55.jpg\n"
     ]
    },
    {
     "name": "stderr",
     "output_type": "stream",
     "text": [
      "1563it [04:39,  6.86it/s]"
     ]
    },
    {
     "name": "stdout",
     "output_type": "stream",
     "text": [
      "Saved to A:\\Projects\\CollegeProjects\\YogaPartner\\intermediates\\v2\\utkatasana_127.jpg\n",
      "Saved to A:\\Projects\\CollegeProjects\\YogaPartner\\intermediates\\v2\\utkatasana_29.jpg\n"
     ]
    },
    {
     "name": "stderr",
     "output_type": "stream",
     "text": [
      "1565it [04:40,  7.26it/s]"
     ]
    },
    {
     "name": "stdout",
     "output_type": "stream",
     "text": [
      "Saved to A:\\Projects\\CollegeProjects\\YogaPartner\\intermediates\\v2\\utkatasana_2.jpg\n",
      "Saved to A:\\Projects\\CollegeProjects\\YogaPartner\\intermediates\\v2\\utkatasana_140.jpg\n"
     ]
    },
    {
     "name": "stderr",
     "output_type": "stream",
     "text": [
      "1567it [04:40,  7.46it/s]"
     ]
    },
    {
     "name": "stdout",
     "output_type": "stream",
     "text": [
      "Saved to A:\\Projects\\CollegeProjects\\YogaPartner\\intermediates\\v2\\utkatasana_218.jpg\n",
      "Saved to A:\\Projects\\CollegeProjects\\YogaPartner\\intermediates\\v2\\utkatasana_51.jpg\n"
     ]
    },
    {
     "name": "stderr",
     "output_type": "stream",
     "text": [
      "1569it [04:40,  8.04it/s]"
     ]
    },
    {
     "name": "stdout",
     "output_type": "stream",
     "text": [
      "Saved to A:\\Projects\\CollegeProjects\\YogaPartner\\intermediates\\v2\\utkatasana_167.jpg\n",
      "Saved to A:\\Projects\\CollegeProjects\\YogaPartner\\intermediates\\v2\\utkatasana_134.jpg\n"
     ]
    },
    {
     "name": "stderr",
     "output_type": "stream",
     "text": [
      "1571it [04:40,  7.80it/s]"
     ]
    },
    {
     "name": "stdout",
     "output_type": "stream",
     "text": [
      "Saved to A:\\Projects\\CollegeProjects\\YogaPartner\\intermediates\\v2\\utkatasana_90.jpg\n",
      "Saved to A:\\Projects\\CollegeProjects\\YogaPartner\\intermediates\\v2\\utkatasana_94.jpg\n"
     ]
    },
    {
     "name": "stderr",
     "output_type": "stream",
     "text": [
      "1573it [04:41,  8.07it/s]"
     ]
    },
    {
     "name": "stdout",
     "output_type": "stream",
     "text": [
      "Saved to A:\\Projects\\CollegeProjects\\YogaPartner\\intermediates\\v2\\utkatasana_78.jpg\n",
      "Saved to A:\\Projects\\CollegeProjects\\YogaPartner\\intermediates\\v2\\utkatasana_197.jpg\n"
     ]
    },
    {
     "name": "stderr",
     "output_type": "stream",
     "text": [
      "1575it [04:41,  7.83it/s]"
     ]
    },
    {
     "name": "stdout",
     "output_type": "stream",
     "text": [
      "Saved to A:\\Projects\\CollegeProjects\\YogaPartner\\intermediates\\v2\\utkatasana_56.jpg\n",
      "Saved to A:\\Projects\\CollegeProjects\\YogaPartner\\intermediates\\v2\\utkatasana_33.jpg\n"
     ]
    },
    {
     "name": "stderr",
     "output_type": "stream",
     "text": [
      "\r",
      "1576it [04:41,  7.14it/s]"
     ]
    },
    {
     "name": "stdout",
     "output_type": "stream",
     "text": [
      "Saved to A:\\Projects\\CollegeProjects\\YogaPartner\\intermediates\\v2\\utkatasana_89.jpg\n",
      "Saved to A:\\Projects\\CollegeProjects\\YogaPartner\\intermediates\\v2\\utkatasana_17.jpg\n"
     ]
    },
    {
     "name": "stderr",
     "output_type": "stream",
     "text": [
      "1579it [04:41,  7.93it/s]"
     ]
    },
    {
     "name": "stdout",
     "output_type": "stream",
     "text": [
      "Saved to A:\\Projects\\CollegeProjects\\YogaPartner\\intermediates\\v2\\utkatasana_26.jpg\n",
      "Saved to A:\\Projects\\CollegeProjects\\YogaPartner\\intermediates\\v2\\utkatasana_86.jpg\n"
     ]
    },
    {
     "name": "stderr",
     "output_type": "stream",
     "text": [
      "\r",
      "1580it [04:42,  7.40it/s]"
     ]
    },
    {
     "name": "stdout",
     "output_type": "stream",
     "text": [
      "Saved to A:\\Projects\\CollegeProjects\\YogaPartner\\intermediates\\v2\\utkatasana_73.jpg\n"
     ]
    },
    {
     "name": "stderr",
     "output_type": "stream",
     "text": [
      "1582it [04:42,  6.54it/s]"
     ]
    },
    {
     "name": "stdout",
     "output_type": "stream",
     "text": [
      "Saved to A:\\Projects\\CollegeProjects\\YogaPartner\\intermediates\\v2\\utkatasana_68.jpg\n",
      "Saved to A:\\Projects\\CollegeProjects\\YogaPartner\\intermediates\\v2\\utkatasana_40.jpg\n"
     ]
    },
    {
     "name": "stderr",
     "output_type": "stream",
     "text": [
      "\r",
      "1584it [04:42,  7.55it/s]"
     ]
    },
    {
     "name": "stdout",
     "output_type": "stream",
     "text": [
      "Saved to A:\\Projects\\CollegeProjects\\YogaPartner\\intermediates\\v2\\utkatasana_142.jpg\n",
      "Saved to A:\\Projects\\CollegeProjects\\YogaPartner\\intermediates\\v2\\utkatasana_156.jpg\n"
     ]
    },
    {
     "name": "stderr",
     "output_type": "stream",
     "text": [
      "\r",
      "1585it [04:42,  7.93it/s]"
     ]
    },
    {
     "name": "stdout",
     "output_type": "stream",
     "text": [
      "Saved to A:\\Projects\\CollegeProjects\\YogaPartner\\intermediates\\v2\\utkatasana_163.jpg\n",
      "Saved to A:\\Projects\\CollegeProjects\\YogaPartner\\intermediates\\v2\\utkatasana_53.jpg\n"
     ]
    },
    {
     "name": "stderr",
     "output_type": "stream",
     "text": [
      "1588it [04:43,  8.80it/s]"
     ]
    },
    {
     "name": "stdout",
     "output_type": "stream",
     "text": [
      "Saved to A:\\Projects\\CollegeProjects\\YogaPartner\\intermediates\\v2\\utkatasana_72.jpg\n",
      "Saved to A:\\Projects\\CollegeProjects\\YogaPartner\\intermediates\\v2\\utkatasana_146.jpg\n",
      "Saved to A:\\Projects\\CollegeProjects\\YogaPartner\\intermediates\\v2\\utkatasana_11.jpg\n"
     ]
    },
    {
     "name": "stderr",
     "output_type": "stream",
     "text": [
      "\r",
      "1590it [04:43,  9.68it/s]"
     ]
    },
    {
     "name": "stdout",
     "output_type": "stream",
     "text": [
      "Saved to A:\\Projects\\CollegeProjects\\YogaPartner\\intermediates\\v2\\utkatasana_82.jpg\n",
      "Saved to A:\\Projects\\CollegeProjects\\YogaPartner\\intermediates\\v2\\utkatasana_151.jpg\n"
     ]
    },
    {
     "name": "stderr",
     "output_type": "stream",
     "text": [
      "1593it [04:43,  8.54it/s]"
     ]
    },
    {
     "name": "stdout",
     "output_type": "stream",
     "text": [
      "Saved to A:\\Projects\\CollegeProjects\\YogaPartner\\intermediates\\v2\\utkatasana_226.jpg\n",
      "Saved to A:\\Projects\\CollegeProjects\\YogaPartner\\intermediates\\v2\\bidalasana_286.jpeg\n"
     ]
    },
    {
     "name": "stderr",
     "output_type": "stream",
     "text": [
      "1595it [04:43,  8.56it/s]"
     ]
    },
    {
     "name": "stdout",
     "output_type": "stream",
     "text": [
      "Saved to A:\\Projects\\CollegeProjects\\YogaPartner\\intermediates\\v2\\bidalasana_97.jpg\n",
      "Saved to A:\\Projects\\CollegeProjects\\YogaPartner\\intermediates\\v2\\bidalasana_138.jpg\n",
      "Saved to A:\\Projects\\CollegeProjects\\YogaPartner\\intermediates\\v2\\bidalasana_264.jpg\n"
     ]
    },
    {
     "name": "stderr",
     "output_type": "stream",
     "text": [
      "1598it [04:44,  8.93it/s]"
     ]
    },
    {
     "name": "stdout",
     "output_type": "stream",
     "text": [
      "Saved to A:\\Projects\\CollegeProjects\\YogaPartner\\intermediates\\v2\\bidalasana_152.jpg\n",
      "Saved to A:\\Projects\\CollegeProjects\\YogaPartner\\intermediates\\v2\\bidalasana_240.jpg\n"
     ]
    },
    {
     "name": "stderr",
     "output_type": "stream",
     "text": [
      "1600it [04:44,  8.49it/s]"
     ]
    },
    {
     "name": "stdout",
     "output_type": "stream",
     "text": [
      "Saved to A:\\Projects\\CollegeProjects\\YogaPartner\\intermediates\\v2\\bidalasana_307.jpeg\n",
      "Saved to A:\\Projects\\CollegeProjects\\YogaPartner\\intermediates\\v2\\bidalasana_231.jpg\n"
     ]
    },
    {
     "name": "stderr",
     "output_type": "stream",
     "text": [
      "1602it [04:44,  8.37it/s]"
     ]
    },
    {
     "name": "stdout",
     "output_type": "stream",
     "text": [
      "Saved to A:\\Projects\\CollegeProjects\\YogaPartner\\intermediates\\v2\\bidalasana_192.jpg\n",
      "Saved to A:\\Projects\\CollegeProjects\\YogaPartner\\intermediates\\v2\\bidalasana_95.jpg\n"
     ]
    },
    {
     "name": "stderr",
     "output_type": "stream",
     "text": [
      "1604it [04:44,  8.37it/s]"
     ]
    },
    {
     "name": "stdout",
     "output_type": "stream",
     "text": [
      "Saved to A:\\Projects\\CollegeProjects\\YogaPartner\\intermediates\\v2\\bidalasana_279.jpeg\n",
      "Saved to A:\\Projects\\CollegeProjects\\YogaPartner\\intermediates\\v2\\bidalasana_270.jpg\n"
     ]
    },
    {
     "name": "stderr",
     "output_type": "stream",
     "text": [
      "1607it [04:45,  8.65it/s]"
     ]
    },
    {
     "name": "stdout",
     "output_type": "stream",
     "text": [
      "Saved to A:\\Projects\\CollegeProjects\\YogaPartner\\intermediates\\v2\\bidalasana_300.jpg\n",
      "Saved to A:\\Projects\\CollegeProjects\\YogaPartner\\intermediates\\v2\\bidalasana_72.jpg\n",
      "Saved to A:\\Projects\\CollegeProjects\\YogaPartner\\intermediates\\v2\\bidalasana_215.jpg\n"
     ]
    },
    {
     "name": "stderr",
     "output_type": "stream",
     "text": [
      "1610it [04:45,  9.68it/s]"
     ]
    },
    {
     "name": "stdout",
     "output_type": "stream",
     "text": [
      "Saved to A:\\Projects\\CollegeProjects\\YogaPartner\\intermediates\\v2\\bidalasana_134.jpg\n",
      "Saved to A:\\Projects\\CollegeProjects\\YogaPartner\\intermediates\\v2\\bidalasana_43.jpg\n",
      "Saved to A:\\Projects\\CollegeProjects\\YogaPartner\\intermediates\\v2\\bidalasana_310.jpg\n"
     ]
    },
    {
     "name": "stderr",
     "output_type": "stream",
     "text": [
      "1612it [04:45,  9.13it/s]"
     ]
    },
    {
     "name": "stdout",
     "output_type": "stream",
     "text": [
      "Saved to A:\\Projects\\CollegeProjects\\YogaPartner\\intermediates\\v2\\bidalasana_209.jpg\n",
      "Saved to A:\\Projects\\CollegeProjects\\YogaPartner\\intermediates\\v2\\bidalasana_178.jpg\n"
     ]
    },
    {
     "name": "stderr",
     "output_type": "stream",
     "text": [
      "1614it [04:45,  9.13it/s]"
     ]
    },
    {
     "name": "stdout",
     "output_type": "stream",
     "text": [
      "Saved to A:\\Projects\\CollegeProjects\\YogaPartner\\intermediates\\v2\\bidalasana_296.jpeg\n",
      "Saved to A:\\Projects\\CollegeProjects\\YogaPartner\\intermediates\\v2\\bidalasana_44.jpg\n",
      "Saved to A:\\Projects\\CollegeProjects\\YogaPartner\\intermediates\\v2\\bidalasana_126.jpg\n"
     ]
    },
    {
     "name": "stderr",
     "output_type": "stream",
     "text": [
      "1617it [04:46,  8.49it/s]"
     ]
    },
    {
     "name": "stdout",
     "output_type": "stream",
     "text": [
      "Saved to A:\\Projects\\CollegeProjects\\YogaPartner\\intermediates\\v2\\bidalasana_42.jpg\n",
      "Saved to A:\\Projects\\CollegeProjects\\YogaPartner\\intermediates\\v2\\bidalasana_177.jpg\n"
     ]
    },
    {
     "name": "stderr",
     "output_type": "stream",
     "text": [
      "1620it [04:46,  9.26it/s]"
     ]
    },
    {
     "name": "stdout",
     "output_type": "stream",
     "text": [
      "Saved to A:\\Projects\\CollegeProjects\\YogaPartner\\intermediates\\v2\\bidalasana_9.jpg\n",
      "Saved to A:\\Projects\\CollegeProjects\\YogaPartner\\intermediates\\v2\\bidalasana_74.jpg\n",
      "Saved to A:\\Projects\\CollegeProjects\\YogaPartner\\intermediates\\v2\\bidalasana_55.jpg\n",
      "Saved to A:\\Projects\\CollegeProjects\\YogaPartner\\intermediates\\v2\\bidalasana_257.jpg\n"
     ]
    },
    {
     "name": "stderr",
     "output_type": "stream",
     "text": [
      "1623it [04:47,  5.95it/s]"
     ]
    },
    {
     "name": "stdout",
     "output_type": "stream",
     "text": [
      "Saved to A:\\Projects\\CollegeProjects\\YogaPartner\\intermediates\\v2\\bidalasana_70.jpg\n",
      "Saved to A:\\Projects\\CollegeProjects\\YogaPartner\\intermediates\\v2\\bidalasana_303.jpg\n"
     ]
    },
    {
     "name": "stderr",
     "output_type": "stream",
     "text": [
      "\r",
      "1624it [04:47,  5.87it/s]"
     ]
    },
    {
     "name": "stdout",
     "output_type": "stream",
     "text": [
      "Saved to A:\\Projects\\CollegeProjects\\YogaPartner\\intermediates\\v2\\bidalasana_267.jpg\n"
     ]
    },
    {
     "name": "stderr",
     "output_type": "stream",
     "text": [
      "1626it [04:48,  5.01it/s]"
     ]
    },
    {
     "name": "stdout",
     "output_type": "stream",
     "text": [
      "Saved to A:\\Projects\\CollegeProjects\\YogaPartner\\intermediates\\v2\\bidalasana_181.jpg\n",
      "Saved to A:\\Projects\\CollegeProjects\\YogaPartner\\intermediates\\v2\\bidalasana_80.jpg\n"
     ]
    },
    {
     "name": "stderr",
     "output_type": "stream",
     "text": [
      "1628it [04:48,  6.21it/s]"
     ]
    },
    {
     "name": "stdout",
     "output_type": "stream",
     "text": [
      "Saved to A:\\Projects\\CollegeProjects\\YogaPartner\\intermediates\\v2\\bidalasana_147.jpg\n",
      "Saved to A:\\Projects\\CollegeProjects\\YogaPartner\\intermediates\\v2\\bidalasana_102.jpg\n"
     ]
    },
    {
     "name": "stderr",
     "output_type": "stream",
     "text": [
      "1630it [04:48,  6.67it/s]"
     ]
    },
    {
     "name": "stdout",
     "output_type": "stream",
     "text": [
      "Saved to A:\\Projects\\CollegeProjects\\YogaPartner\\intermediates\\v2\\bidalasana_165.jpg\n",
      "Saved to A:\\Projects\\CollegeProjects\\YogaPartner\\intermediates\\v2\\bidalasana_278.jpg\n"
     ]
    },
    {
     "name": "stderr",
     "output_type": "stream",
     "text": [
      "1632it [04:48,  7.49it/s]"
     ]
    },
    {
     "name": "stdout",
     "output_type": "stream",
     "text": [
      "Saved to A:\\Projects\\CollegeProjects\\YogaPartner\\intermediates\\v2\\bidalasana_245.jpg\n",
      "Saved to A:\\Projects\\CollegeProjects\\YogaPartner\\intermediates\\v2\\bidalasana_149.jpg\n",
      "Saved to A:\\Projects\\CollegeProjects\\YogaPartner\\intermediates\\v2\\bidalasana_148.jpg\n"
     ]
    },
    {
     "name": "stderr",
     "output_type": "stream",
     "text": [
      "1635it [04:49,  8.98it/s]"
     ]
    },
    {
     "name": "stdout",
     "output_type": "stream",
     "text": [
      "Saved to A:\\Projects\\CollegeProjects\\YogaPartner\\intermediates\\v2\\bidalasana_50.jpg\n",
      "Saved to A:\\Projects\\CollegeProjects\\YogaPartner\\intermediates\\v2\\bidalasana_136.jpg\n"
     ]
    },
    {
     "name": "stderr",
     "output_type": "stream",
     "text": [
      "1637it [04:49,  7.01it/s]"
     ]
    },
    {
     "name": "stdout",
     "output_type": "stream",
     "text": [
      "Saved to A:\\Projects\\CollegeProjects\\YogaPartner\\intermediates\\v2\\bidalasana_124.jpg\n",
      "Saved to A:\\Projects\\CollegeProjects\\YogaPartner\\intermediates\\v2\\bidalasana_81.jpeg\n"
     ]
    },
    {
     "name": "stderr",
     "output_type": "stream",
     "text": [
      "1639it [04:49,  6.98it/s]"
     ]
    },
    {
     "name": "stdout",
     "output_type": "stream",
     "text": [
      "Saved to A:\\Projects\\CollegeProjects\\YogaPartner\\intermediates\\v2\\bidalasana_224.jpg\n",
      "Saved to A:\\Projects\\CollegeProjects\\YogaPartner\\intermediates\\v2\\bidalasana_299.jpg\n"
     ]
    },
    {
     "name": "stderr",
     "output_type": "stream",
     "text": [
      "\r",
      "1640it [04:49,  7.62it/s]"
     ]
    },
    {
     "name": "stdout",
     "output_type": "stream",
     "text": [
      "Saved to A:\\Projects\\CollegeProjects\\YogaPartner\\intermediates\\v2\\bidalasana_131.jpg\n",
      "Saved to A:\\Projects\\CollegeProjects\\YogaPartner\\intermediates\\v2\\bidalasana_203.jpg\n"
     ]
    },
    {
     "name": "stderr",
     "output_type": "stream",
     "text": [
      "1643it [04:50,  8.49it/s]"
     ]
    },
    {
     "name": "stdout",
     "output_type": "stream",
     "text": [
      "Saved to A:\\Projects\\CollegeProjects\\YogaPartner\\intermediates\\v2\\bidalasana_199.jpg\n",
      "Saved to A:\\Projects\\CollegeProjects\\YogaPartner\\intermediates\\v2\\bidalasana_36.jpg\n"
     ]
    },
    {
     "name": "stderr",
     "output_type": "stream",
     "text": [
      "1645it [04:50,  8.71it/s]"
     ]
    },
    {
     "name": "stdout",
     "output_type": "stream",
     "text": [
      "Saved to A:\\Projects\\CollegeProjects\\YogaPartner\\intermediates\\v2\\bidalasana_248.jpg\n",
      "Saved to A:\\Projects\\CollegeProjects\\YogaPartner\\intermediates\\v2\\bidalasana_153.jpg\n"
     ]
    },
    {
     "name": "stderr",
     "output_type": "stream",
     "text": [
      "1647it [04:50,  8.73it/s]"
     ]
    },
    {
     "name": "stdout",
     "output_type": "stream",
     "text": [
      "Saved to A:\\Projects\\CollegeProjects\\YogaPartner\\intermediates\\v2\\bidalasana_171.jpg\n",
      "Saved to A:\\Projects\\CollegeProjects\\YogaPartner\\intermediates\\v2\\bidalasana_163.jpg\n"
     ]
    },
    {
     "name": "stderr",
     "output_type": "stream",
     "text": [
      "1649it [04:50,  8.56it/s]"
     ]
    },
    {
     "name": "stdout",
     "output_type": "stream",
     "text": [
      "Saved to A:\\Projects\\CollegeProjects\\YogaPartner\\intermediates\\v2\\bidalasana_75.jpg\n",
      "Saved to A:\\Projects\\CollegeProjects\\YogaPartner\\intermediates\\v2\\bidalasana_61.jpg\n"
     ]
    },
    {
     "name": "stderr",
     "output_type": "stream",
     "text": [
      "1652it [04:51,  9.47it/s]"
     ]
    },
    {
     "name": "stdout",
     "output_type": "stream",
     "text": [
      "Saved to A:\\Projects\\CollegeProjects\\YogaPartner\\intermediates\\v2\\bidalasana_312.jpg\n",
      "Saved to A:\\Projects\\CollegeProjects\\YogaPartner\\intermediates\\v2\\bidalasana_202.jpg\n",
      "Saved to A:\\Projects\\CollegeProjects\\YogaPartner\\intermediates\\v2\\bidalasana_54.jpg\n"
     ]
    },
    {
     "name": "stderr",
     "output_type": "stream",
     "text": [
      "\r",
      "1653it [04:51,  9.21it/s]"
     ]
    },
    {
     "name": "stdout",
     "output_type": "stream",
     "text": [
      "Saved to A:\\Projects\\CollegeProjects\\YogaPartner\\intermediates\\v2\\bidalasana_185.jpg\n",
      "Saved to A:\\Projects\\CollegeProjects\\YogaPartner\\intermediates\\v2\\bidalasana_230.jpg\n"
     ]
    },
    {
     "name": "stderr",
     "output_type": "stream",
     "text": [
      "1656it [04:51,  8.50it/s]"
     ]
    },
    {
     "name": "stdout",
     "output_type": "stream",
     "text": [
      "Saved to A:\\Projects\\CollegeProjects\\YogaPartner\\intermediates\\v2\\bidalasana_110.jpg\n",
      "Saved to A:\\Projects\\CollegeProjects\\YogaPartner\\intermediates\\v2\\bidalasana_51.jpg\n"
     ]
    },
    {
     "name": "stderr",
     "output_type": "stream",
     "text": [
      "\r",
      "1658it [04:51,  9.28it/s]"
     ]
    },
    {
     "name": "stdout",
     "output_type": "stream",
     "text": [
      "Saved to A:\\Projects\\CollegeProjects\\YogaPartner\\intermediates\\v2\\bidalasana_98.jpg\n",
      "Saved to A:\\Projects\\CollegeProjects\\YogaPartner\\intermediates\\v2\\bidalasana_119.jpg\n",
      "Saved to A:\\Projects\\CollegeProjects\\YogaPartner\\intermediates\\v2\\bidalasana_227.jpg\n"
     ]
    },
    {
     "name": "stderr",
     "output_type": "stream",
     "text": [
      "1662it [04:52, 10.11it/s]"
     ]
    },
    {
     "name": "stdout",
     "output_type": "stream",
     "text": [
      "Saved to A:\\Projects\\CollegeProjects\\YogaPartner\\intermediates\\v2\\bidalasana_125.jpg\n",
      "Saved to A:\\Projects\\CollegeProjects\\YogaPartner\\intermediates\\v2\\bidalasana_32.jpg\n",
      "Saved to A:\\Projects\\CollegeProjects\\YogaPartner\\intermediates\\v2\\bidalasana_66.jpg\n"
     ]
    },
    {
     "name": "stderr",
     "output_type": "stream",
     "text": [
      "\r",
      "1664it [04:52, 10.12it/s]"
     ]
    },
    {
     "name": "stdout",
     "output_type": "stream",
     "text": [
      "Saved to A:\\Projects\\CollegeProjects\\YogaPartner\\intermediates\\v2\\bidalasana_191.jpg\n",
      "Saved to A:\\Projects\\CollegeProjects\\YogaPartner\\intermediates\\v2\\bidalasana_58.jpg\n",
      "Saved to A:\\Projects\\CollegeProjects\\YogaPartner\\intermediates\\v2\\bidalasana_223.jpeg\n"
     ]
    },
    {
     "name": "stderr",
     "output_type": "stream",
     "text": [
      "\r",
      "1666it [04:52, 10.14it/s]"
     ]
    },
    {
     "name": "stdout",
     "output_type": "stream",
     "text": [
      "Saved to A:\\Projects\\CollegeProjects\\YogaPartner\\intermediates\\v2\\bidalasana_195.jpg\n",
      "Saved to A:\\Projects\\CollegeProjects\\YogaPartner\\intermediates\\v2\\bidalasana_243.jpg\n"
     ]
    },
    {
     "name": "stderr",
     "output_type": "stream",
     "text": [
      "1669it [04:52,  9.32it/s]"
     ]
    },
    {
     "name": "stdout",
     "output_type": "stream",
     "text": [
      "Saved to A:\\Projects\\CollegeProjects\\YogaPartner\\intermediates\\v2\\bidalasana_170.jpg\n",
      "Saved to A:\\Projects\\CollegeProjects\\YogaPartner\\intermediates\\v2\\bidalasana_194.jpg\n",
      "Saved to A:\\Projects\\CollegeProjects\\YogaPartner\\intermediates\\v2\\bidalasana_135.jpg\n"
     ]
    },
    {
     "name": "stderr",
     "output_type": "stream",
     "text": [
      "1672it [04:53,  9.43it/s]"
     ]
    },
    {
     "name": "stdout",
     "output_type": "stream",
     "text": [
      "Saved to A:\\Projects\\CollegeProjects\\YogaPartner\\intermediates\\v2\\bidalasana_34.jpg\n",
      "Saved to A:\\Projects\\CollegeProjects\\YogaPartner\\intermediates\\v2\\bidalasana_132.jpg\n"
     ]
    },
    {
     "name": "stderr",
     "output_type": "stream",
     "text": [
      "\r",
      "1673it [04:53,  9.24it/s]"
     ]
    },
    {
     "name": "stdout",
     "output_type": "stream",
     "text": [
      "Saved to A:\\Projects\\CollegeProjects\\YogaPartner\\intermediates\\v2\\bidalasana_127.jpg\n",
      "Saved to A:\\Projects\\CollegeProjects\\YogaPartner\\intermediates\\v2\\bidalasana_87.jpg\n"
     ]
    },
    {
     "name": "stderr",
     "output_type": "stream",
     "text": [
      "1677it [04:53,  9.67it/s]"
     ]
    },
    {
     "name": "stdout",
     "output_type": "stream",
     "text": [
      "Saved to A:\\Projects\\CollegeProjects\\YogaPartner\\intermediates\\v2\\bidalasana_244.jpg\n",
      "Saved to A:\\Projects\\CollegeProjects\\YogaPartner\\intermediates\\v2\\bidalasana_260.jpg\n",
      "Saved to A:\\Projects\\CollegeProjects\\YogaPartner\\intermediates\\v2\\bidalasana_290.jpg\n"
     ]
    },
    {
     "name": "stderr",
     "output_type": "stream",
     "text": [
      "1680it [04:54, 10.23it/s]"
     ]
    },
    {
     "name": "stdout",
     "output_type": "stream",
     "text": [
      "Saved to A:\\Projects\\CollegeProjects\\YogaPartner\\intermediates\\v2\\bidalasana_142.jpg\n",
      "Saved to A:\\Projects\\CollegeProjects\\YogaPartner\\intermediates\\v2\\bidalasana_47.jpg\n",
      "Saved to A:\\Projects\\CollegeProjects\\YogaPartner\\intermediates\\v2\\bidalasana_241.jpg\n"
     ]
    },
    {
     "name": "stderr",
     "output_type": "stream",
     "text": [
      "\r",
      "1682it [04:54,  7.54it/s]"
     ]
    },
    {
     "name": "stdout",
     "output_type": "stream",
     "text": [
      "Saved to A:\\Projects\\CollegeProjects\\YogaPartner\\intermediates\\v2\\bidalasana_235.jpg\n",
      "Saved to A:\\Projects\\CollegeProjects\\YogaPartner\\intermediates\\v2\\bidalasana_96.jpg\n",
      "Saved to A:\\Projects\\CollegeProjects\\YogaPartner\\intermediates\\v2\\bidalasana_108.jpg\n"
     ]
    },
    {
     "name": "stderr",
     "output_type": "stream",
     "text": [
      "1685it [04:54,  8.22it/s]"
     ]
    },
    {
     "name": "stdout",
     "output_type": "stream",
     "text": [
      "Saved to A:\\Projects\\CollegeProjects\\YogaPartner\\intermediates\\v2\\bidalasana_228.jpg\n",
      "Saved to A:\\Projects\\CollegeProjects\\YogaPartner\\intermediates\\v2\\bidalasana_12.jpeg\n"
     ]
    },
    {
     "name": "stderr",
     "output_type": "stream",
     "text": [
      "1687it [04:55,  7.82it/s]"
     ]
    },
    {
     "name": "stdout",
     "output_type": "stream",
     "text": [
      "Saved to A:\\Projects\\CollegeProjects\\YogaPartner\\intermediates\\v2\\bidalasana_20.jpg\n",
      "Saved to A:\\Projects\\CollegeProjects\\YogaPartner\\intermediates\\v2\\bidalasana_28.jpg\n"
     ]
    },
    {
     "name": "stderr",
     "output_type": "stream",
     "text": [
      "1689it [04:55,  7.84it/s]"
     ]
    },
    {
     "name": "stdout",
     "output_type": "stream",
     "text": [
      "Saved to A:\\Projects\\CollegeProjects\\YogaPartner\\intermediates\\v2\\bidalasana_283.jpg\n",
      "Saved to A:\\Projects\\CollegeProjects\\YogaPartner\\intermediates\\v2\\bidalasana_183.jpg\n"
     ]
    },
    {
     "name": "stderr",
     "output_type": "stream",
     "text": [
      "1691it [04:55,  6.97it/s]"
     ]
    },
    {
     "name": "stdout",
     "output_type": "stream",
     "text": [
      "Saved to A:\\Projects\\CollegeProjects\\YogaPartner\\intermediates\\v2\\bidalasana_201.jpg\n",
      "Saved to A:\\Projects\\CollegeProjects\\YogaPartner\\intermediates\\v2\\bidalasana_130.jpg\n"
     ]
    },
    {
     "name": "stderr",
     "output_type": "stream",
     "text": [
      "\r",
      "1692it [04:55,  7.17it/s]"
     ]
    },
    {
     "name": "stdout",
     "output_type": "stream",
     "text": [
      "Saved to A:\\Projects\\CollegeProjects\\YogaPartner\\intermediates\\v2\\bidalasana_238.jpg\n"
     ]
    },
    {
     "name": "stderr",
     "output_type": "stream",
     "text": [
      "1694it [04:56,  3.21it/s]"
     ]
    },
    {
     "name": "stdout",
     "output_type": "stream",
     "text": [
      "Saved to A:\\Projects\\CollegeProjects\\YogaPartner\\intermediates\\v2\\bidalasana_237.jpg\n",
      "Saved to A:\\Projects\\CollegeProjects\\YogaPartner\\intermediates\\v2\\bidalasana_218.jpg\n"
     ]
    },
    {
     "name": "stderr",
     "output_type": "stream",
     "text": [
      "1696it [04:57,  4.72it/s]"
     ]
    },
    {
     "name": "stdout",
     "output_type": "stream",
     "text": [
      "Saved to A:\\Projects\\CollegeProjects\\YogaPartner\\intermediates\\v2\\bidalasana_144.jpg\n",
      "Saved to A:\\Projects\\CollegeProjects\\YogaPartner\\intermediates\\v2\\bidalasana_308.jpg\n"
     ]
    },
    {
     "name": "stderr",
     "output_type": "stream",
     "text": [
      "1699it [04:57,  7.46it/s]"
     ]
    },
    {
     "name": "stdout",
     "output_type": "stream",
     "text": [
      "Saved to A:\\Projects\\CollegeProjects\\YogaPartner\\intermediates\\v2\\bidalasana_305.jpg\n",
      "Saved to A:\\Projects\\CollegeProjects\\YogaPartner\\intermediates\\v2\\bidalasana_154.jpg\n",
      "Saved to A:\\Projects\\CollegeProjects\\YogaPartner\\intermediates\\v2\\bidalasana_15.jpg\n"
     ]
    },
    {
     "name": "stderr",
     "output_type": "stream",
     "text": [
      "1702it [04:57,  8.47it/s]"
     ]
    },
    {
     "name": "stdout",
     "output_type": "stream",
     "text": [
      "Saved to A:\\Projects\\CollegeProjects\\YogaPartner\\intermediates\\v2\\bidalasana_276.jpg\n",
      "Saved to A:\\Projects\\CollegeProjects\\YogaPartner\\intermediates\\v2\\bidalasana_269.jpg\n",
      "Saved to A:\\Projects\\CollegeProjects\\YogaPartner\\intermediates\\v2\\bidalasana_25.jpg\n"
     ]
    },
    {
     "name": "stderr",
     "output_type": "stream",
     "text": [
      "1705it [04:58,  9.28it/s]"
     ]
    },
    {
     "name": "stdout",
     "output_type": "stream",
     "text": [
      "Saved to A:\\Projects\\CollegeProjects\\YogaPartner\\intermediates\\v2\\bidalasana_99.jpg\n",
      "Saved to A:\\Projects\\CollegeProjects\\YogaPartner\\intermediates\\v2\\bidalasana_167.jpg\n",
      "Saved to A:\\Projects\\CollegeProjects\\YogaPartner\\intermediates\\v2\\bidalasana_180.jpg\n"
     ]
    },
    {
     "name": "stderr",
     "output_type": "stream",
     "text": [
      "1708it [04:58,  9.55it/s]"
     ]
    },
    {
     "name": "stdout",
     "output_type": "stream",
     "text": [
      "Saved to A:\\Projects\\CollegeProjects\\YogaPartner\\intermediates\\v2\\bidalasana_193.jpg\n",
      "Saved to A:\\Projects\\CollegeProjects\\YogaPartner\\intermediates\\v2\\bidalasana_256.jpg\n",
      "Saved to A:\\Projects\\CollegeProjects\\YogaPartner\\intermediates\\v2\\bidalasana_280.jpg\n"
     ]
    },
    {
     "name": "stderr",
     "output_type": "stream",
     "text": [
      "1711it [04:58, 10.44it/s]"
     ]
    },
    {
     "name": "stdout",
     "output_type": "stream",
     "text": [
      "Saved to A:\\Projects\\CollegeProjects\\YogaPartner\\intermediates\\v2\\bidalasana_139.jpg\n",
      "Saved to A:\\Projects\\CollegeProjects\\YogaPartner\\intermediates\\v2\\bidalasana_19.jpg\n",
      "Saved to A:\\Projects\\CollegeProjects\\YogaPartner\\intermediates\\v2\\bidalasana_112.jpg\n"
     ]
    },
    {
     "name": "stderr",
     "output_type": "stream",
     "text": [
      "\r",
      "1713it [04:58,  8.63it/s]"
     ]
    },
    {
     "name": "stdout",
     "output_type": "stream",
     "text": [
      "Saved to A:\\Projects\\CollegeProjects\\YogaPartner\\intermediates\\v2\\bidalasana_11.jpg\n",
      "Saved to A:\\Projects\\CollegeProjects\\YogaPartner\\intermediates\\v2\\bidalasana_252.jpeg\n"
     ]
    },
    {
     "name": "stderr",
     "output_type": "stream",
     "text": [
      "1715it [04:59,  6.09it/s]"
     ]
    },
    {
     "name": "stdout",
     "output_type": "stream",
     "text": [
      "Saved to A:\\Projects\\CollegeProjects\\YogaPartner\\intermediates\\v2\\bidalasana_271.jpeg\n",
      "Saved to A:\\Projects\\CollegeProjects\\YogaPartner\\intermediates\\v2\\bidalasana_175.jpg\n"
     ]
    },
    {
     "name": "stderr",
     "output_type": "stream",
     "text": [
      "\r",
      "1716it [04:59,  6.27it/s]"
     ]
    },
    {
     "name": "stdout",
     "output_type": "stream",
     "text": [
      "Saved to A:\\Projects\\CollegeProjects\\YogaPartner\\intermediates\\v2\\bidalasana_122.jpg\n"
     ]
    },
    {
     "name": "stderr",
     "output_type": "stream",
     "text": [
      "\r",
      "1717it [04:59,  5.63it/s]"
     ]
    },
    {
     "name": "stdout",
     "output_type": "stream",
     "text": [
      "Saved to A:\\Projects\\CollegeProjects\\YogaPartner\\intermediates\\v2\\bidalasana_113.jpeg\n"
     ]
    },
    {
     "name": "stderr",
     "output_type": "stream",
     "text": [
      "1719it [05:00,  5.79it/s]"
     ]
    },
    {
     "name": "stdout",
     "output_type": "stream",
     "text": [
      "Saved to A:\\Projects\\CollegeProjects\\YogaPartner\\intermediates\\v2\\bidalasana_27.jpg\n",
      "Saved to A:\\Projects\\CollegeProjects\\YogaPartner\\intermediates\\v2\\bidalasana_71.jpg\n",
      "Saved to A:\\Projects\\CollegeProjects\\YogaPartner\\intermediates\\v2\\bidalasana_24.jpg\n"
     ]
    },
    {
     "name": "stderr",
     "output_type": "stream",
     "text": [
      "1722it [05:00,  7.19it/s]"
     ]
    },
    {
     "name": "stdout",
     "output_type": "stream",
     "text": [
      "Saved to A:\\Projects\\CollegeProjects\\YogaPartner\\intermediates\\v2\\bidalasana_292.jpeg\n",
      "Saved to A:\\Projects\\CollegeProjects\\YogaPartner\\intermediates\\v2\\bidalasana_18.jpg\n"
     ]
    },
    {
     "name": "stderr",
     "output_type": "stream",
     "text": [
      "1724it [05:00,  7.52it/s]"
     ]
    },
    {
     "name": "stdout",
     "output_type": "stream",
     "text": [
      "Saved to A:\\Projects\\CollegeProjects\\YogaPartner\\intermediates\\v2\\bidalasana_48.jpeg\n",
      "Saved to A:\\Projects\\CollegeProjects\\YogaPartner\\intermediates\\v2\\bidalasana_226.jpg\n"
     ]
    },
    {
     "name": "stderr",
     "output_type": "stream",
     "text": [
      "1727it [05:01,  9.23it/s]"
     ]
    },
    {
     "name": "stdout",
     "output_type": "stream",
     "text": [
      "Saved to A:\\Projects\\CollegeProjects\\YogaPartner\\intermediates\\v2\\bidalasana_309.jpg\n",
      "Saved to A:\\Projects\\CollegeProjects\\YogaPartner\\intermediates\\v2\\bidalasana_133.jpg\n",
      "Saved to A:\\Projects\\CollegeProjects\\YogaPartner\\intermediates\\v2\\bidalasana_198.jpg\n"
     ]
    },
    {
     "name": "stderr",
     "output_type": "stream",
     "text": [
      "1729it [05:01,  8.17it/s]"
     ]
    },
    {
     "name": "stdout",
     "output_type": "stream",
     "text": [
      "Saved to A:\\Projects\\CollegeProjects\\YogaPartner\\intermediates\\v2\\bidalasana_160.jpg\n",
      "Saved to A:\\Projects\\CollegeProjects\\YogaPartner\\intermediates\\v2\\bidalasana_84.jpeg\n"
     ]
    },
    {
     "name": "stderr",
     "output_type": "stream",
     "text": [
      "1732it [05:01,  8.04it/s]"
     ]
    },
    {
     "name": "stdout",
     "output_type": "stream",
     "text": [
      "Saved to A:\\Projects\\CollegeProjects\\YogaPartner\\intermediates\\v2\\bidalasana_158.jpg\n",
      "Saved to A:\\Projects\\CollegeProjects\\YogaPartner\\intermediates\\v2\\bidalasana_258.jpg\n",
      "Saved to A:\\Projects\\CollegeProjects\\YogaPartner\\intermediates\\v2\\bidalasana_311.jpeg\n"
     ]
    },
    {
     "name": "stderr",
     "output_type": "stream",
     "text": [
      "1734it [05:02,  6.96it/s]"
     ]
    },
    {
     "name": "stdout",
     "output_type": "stream",
     "text": [
      "Saved to A:\\Projects\\CollegeProjects\\YogaPartner\\intermediates\\v2\\bidalasana_162.jpg\n",
      "Saved to A:\\Projects\\CollegeProjects\\YogaPartner\\intermediates\\v2\\bidalasana_29.jpeg\n"
     ]
    },
    {
     "name": "stderr",
     "output_type": "stream",
     "text": [
      "\r",
      "1735it [05:02,  7.39it/s]"
     ]
    },
    {
     "name": "stdout",
     "output_type": "stream",
     "text": [
      "Saved to A:\\Projects\\CollegeProjects\\YogaPartner\\intermediates\\v2\\bidalasana_212.jpeg\n",
      "Saved to A:\\Projects\\CollegeProjects\\YogaPartner\\intermediates\\v2\\bidalasana_104.jpg\n"
     ]
    },
    {
     "name": "stderr",
     "output_type": "stream",
     "text": [
      "1739it [05:02,  9.06it/s]"
     ]
    },
    {
     "name": "stdout",
     "output_type": "stream",
     "text": [
      "Saved to A:\\Projects\\CollegeProjects\\YogaPartner\\intermediates\\v2\\bidalasana_251.jpg\n",
      "Saved to A:\\Projects\\CollegeProjects\\YogaPartner\\intermediates\\v2\\bidalasana_3.jpg\n",
      "Saved to A:\\Projects\\CollegeProjects\\YogaPartner\\intermediates\\v2\\bidalasana_146.jpg\n"
     ]
    },
    {
     "name": "stderr",
     "output_type": "stream",
     "text": [
      "1741it [05:02,  7.77it/s]"
     ]
    },
    {
     "name": "stdout",
     "output_type": "stream",
     "text": [
      "Saved to A:\\Projects\\CollegeProjects\\YogaPartner\\intermediates\\v2\\bidalasana_129.jpg\n",
      "Saved to A:\\Projects\\CollegeProjects\\YogaPartner\\intermediates\\v2\\bidalasana_10.jpg\n"
     ]
    },
    {
     "name": "stderr",
     "output_type": "stream",
     "text": [
      "1744it [05:03,  7.83it/s]"
     ]
    },
    {
     "name": "stdout",
     "output_type": "stream",
     "text": [
      "Saved to A:\\Projects\\CollegeProjects\\YogaPartner\\intermediates\\v2\\bidalasana_268.jpg\n",
      "Saved to A:\\Projects\\CollegeProjects\\YogaPartner\\intermediates\\v2\\bidalasana_117.jpg\n",
      "Saved to A:\\Projects\\CollegeProjects\\YogaPartner\\intermediates\\v2\\bidalasana_190.jpg\n"
     ]
    },
    {
     "name": "stderr",
     "output_type": "stream",
     "text": [
      "1746it [05:03,  7.18it/s]"
     ]
    },
    {
     "name": "stdout",
     "output_type": "stream",
     "text": [
      "Saved to A:\\Projects\\CollegeProjects\\YogaPartner\\intermediates\\v2\\bidalasana_184.jpg\n",
      "Saved to A:\\Projects\\CollegeProjects\\YogaPartner\\intermediates\\v2\\bidalasana_239.jpg\n"
     ]
    },
    {
     "name": "stderr",
     "output_type": "stream",
     "text": [
      "1748it [05:03,  7.21it/s]"
     ]
    },
    {
     "name": "stdout",
     "output_type": "stream",
     "text": [
      "Saved to A:\\Projects\\CollegeProjects\\YogaPartner\\intermediates\\v2\\bidalasana_246.jpeg\n",
      "Saved to A:\\Projects\\CollegeProjects\\YogaPartner\\intermediates\\v2\\bidalasana_273.jpg\n"
     ]
    },
    {
     "name": "stderr",
     "output_type": "stream",
     "text": [
      "1750it [05:04,  7.10it/s]"
     ]
    },
    {
     "name": "stdout",
     "output_type": "stream",
     "text": [
      "Saved to A:\\Projects\\CollegeProjects\\YogaPartner\\intermediates\\v2\\bidalasana_77.jpg\n",
      "Saved to A:\\Projects\\CollegeProjects\\YogaPartner\\intermediates\\v2\\bidalasana_188.jpg\n"
     ]
    },
    {
     "name": "stderr",
     "output_type": "stream",
     "text": [
      "1753it [05:04,  8.60it/s]"
     ]
    },
    {
     "name": "stdout",
     "output_type": "stream",
     "text": [
      "Saved to A:\\Projects\\CollegeProjects\\YogaPartner\\intermediates\\v2\\bidalasana_187.jpg\n",
      "Saved to A:\\Projects\\CollegeProjects\\YogaPartner\\intermediates\\v2\\bidalasana_253.jpg\n",
      "Saved to A:\\Projects\\CollegeProjects\\YogaPartner\\intermediates\\v2\\bidalasana_40.jpg\n"
     ]
    },
    {
     "name": "stderr",
     "output_type": "stream",
     "text": [
      "1756it [05:04,  9.17it/s]"
     ]
    },
    {
     "name": "stdout",
     "output_type": "stream",
     "text": [
      "Saved to A:\\Projects\\CollegeProjects\\YogaPartner\\intermediates\\v2\\bidalasana_56.jpg\n",
      "Saved to A:\\Projects\\CollegeProjects\\YogaPartner\\intermediates\\v2\\bidalasana_208.jpg\n",
      "Saved to A:\\Projects\\CollegeProjects\\YogaPartner\\intermediates\\v2\\bidalasana_200.jpg\n"
     ]
    },
    {
     "name": "stderr",
     "output_type": "stream",
     "text": [
      "\r",
      "1758it [05:04,  9.44it/s]"
     ]
    },
    {
     "name": "stdout",
     "output_type": "stream",
     "text": [
      "Saved to A:\\Projects\\CollegeProjects\\YogaPartner\\intermediates\\v2\\bidalasana_64.jpg\n",
      "Saved to A:\\Projects\\CollegeProjects\\YogaPartner\\intermediates\\v2\\bidalasana_4.jpg\n"
     ]
    },
    {
     "name": "stderr",
     "output_type": "stream",
     "text": [
      "1760it [05:05,  9.30it/s]"
     ]
    },
    {
     "name": "stdout",
     "output_type": "stream",
     "text": [
      "Saved to A:\\Projects\\CollegeProjects\\YogaPartner\\intermediates\\v2\\bidalasana_145.jpg\n",
      "Saved to A:\\Projects\\CollegeProjects\\YogaPartner\\intermediates\\v2\\bidalasana_174.jpg\n",
      "Saved to A:\\Projects\\CollegeProjects\\YogaPartner\\intermediates\\v2\\bidalasana_298.jpg\n"
     ]
    },
    {
     "name": "stderr",
     "output_type": "stream",
     "text": [
      "1763it [05:05,  9.44it/s]"
     ]
    },
    {
     "name": "stdout",
     "output_type": "stream",
     "text": [
      "Saved to A:\\Projects\\CollegeProjects\\YogaPartner\\intermediates\\v2\\bidalasana_161.jpg\n",
      "Saved to A:\\Projects\\CollegeProjects\\YogaPartner\\intermediates\\v2\\bidalasana_151.jpg\n"
     ]
    },
    {
     "name": "stderr",
     "output_type": "stream",
     "text": [
      "1766it [05:05,  9.14it/s]"
     ]
    },
    {
     "name": "stdout",
     "output_type": "stream",
     "text": [
      "Saved to A:\\Projects\\CollegeProjects\\YogaPartner\\intermediates\\v2\\bidalasana_254.jpg\n",
      "Saved to A:\\Projects\\CollegeProjects\\YogaPartner\\intermediates\\v2\\bidalasana_217.jpg\n",
      "Saved to A:\\Projects\\CollegeProjects\\YogaPartner\\intermediates\\v2\\bidalasana_90.jpg\n",
      "Saved to A:\\Projects\\CollegeProjects\\YogaPartner\\intermediates\\v2\\bidalasana_118.jpg\n"
     ]
    },
    {
     "name": "stderr",
     "output_type": "stream",
     "text": [
      "1770it [05:06,  8.58it/s]"
     ]
    },
    {
     "name": "stdout",
     "output_type": "stream",
     "text": [
      "Saved to A:\\Projects\\CollegeProjects\\YogaPartner\\intermediates\\v2\\bidalasana_169.jpg\n",
      "Saved to A:\\Projects\\CollegeProjects\\YogaPartner\\intermediates\\v2\\bidalasana_8.jpg\n",
      "Saved to A:\\Projects\\CollegeProjects\\YogaPartner\\intermediates\\v2\\bidalasana_46.jpg\n"
     ]
    },
    {
     "name": "stderr",
     "output_type": "stream",
     "text": [
      "1772it [05:06,  8.87it/s]"
     ]
    },
    {
     "name": "stdout",
     "output_type": "stream",
     "text": [
      "Saved to A:\\Projects\\CollegeProjects\\YogaPartner\\intermediates\\v2\\bidalasana_6.jpg\n",
      "Saved to A:\\Projects\\CollegeProjects\\YogaPartner\\intermediates\\v2\\bidalasana_205.jpg\n"
     ]
    },
    {
     "name": "stderr",
     "output_type": "stream",
     "text": [
      "1774it [05:06,  7.44it/s]"
     ]
    },
    {
     "name": "stdout",
     "output_type": "stream",
     "text": [
      "Saved to A:\\Projects\\CollegeProjects\\YogaPartner\\intermediates\\v2\\bidalasana_101.jpg\n",
      "Saved to A:\\Projects\\CollegeProjects\\YogaPartner\\intermediates\\v2\\bidalasana_78.jpg\n"
     ]
    },
    {
     "name": "stderr",
     "output_type": "stream",
     "text": [
      "1776it [05:07,  7.97it/s]"
     ]
    },
    {
     "name": "stdout",
     "output_type": "stream",
     "text": [
      "Saved to A:\\Projects\\CollegeProjects\\YogaPartner\\intermediates\\v2\\bidalasana_105.jpg\n",
      "Saved to A:\\Projects\\CollegeProjects\\YogaPartner\\intermediates\\v2\\bidalasana_38.jpg\n"
     ]
    },
    {
     "name": "stderr",
     "output_type": "stream",
     "text": [
      "1778it [05:07,  8.25it/s]"
     ]
    },
    {
     "name": "stdout",
     "output_type": "stream",
     "text": [
      "Saved to A:\\Projects\\CollegeProjects\\YogaPartner\\intermediates\\v2\\bidalasana_114.jpg\n",
      "Saved to A:\\Projects\\CollegeProjects\\YogaPartner\\intermediates\\v2\\bidalasana_109.jpg\n"
     ]
    },
    {
     "name": "stderr",
     "output_type": "stream",
     "text": [
      "1780it [05:07,  5.76it/s]"
     ]
    },
    {
     "name": "stdout",
     "output_type": "stream",
     "text": [
      "Saved to A:\\Projects\\CollegeProjects\\YogaPartner\\intermediates\\v2\\bidalasana_274.jpg\n",
      "Saved to A:\\Projects\\CollegeProjects\\YogaPartner\\intermediates\\v2\\bidalasana_68.jpg\n"
     ]
    },
    {
     "name": "stderr",
     "output_type": "stream",
     "text": [
      "1782it [05:08,  3.59it/s]"
     ]
    },
    {
     "name": "stdout",
     "output_type": "stream",
     "text": [
      "Saved to A:\\Projects\\CollegeProjects\\YogaPartner\\intermediates\\v2\\bidalasana_107.jpg\n",
      "Saved to A:\\Projects\\CollegeProjects\\YogaPartner\\intermediates\\v2\\bidalasana_275.jpeg\n",
      "Saved to A:\\Projects\\CollegeProjects\\YogaPartner\\intermediates\\v2\\bidalasana_285.jpg\n"
     ]
    },
    {
     "name": "stderr",
     "output_type": "stream",
     "text": [
      "1786it [05:08,  6.93it/s]"
     ]
    },
    {
     "name": "stdout",
     "output_type": "stream",
     "text": [
      "Saved to A:\\Projects\\CollegeProjects\\YogaPartner\\intermediates\\v2\\bidalasana_297.jpg\n",
      "Saved to A:\\Projects\\CollegeProjects\\YogaPartner\\intermediates\\v2\\bidalasana_13.jpg\n",
      "Saved to A:\\Projects\\CollegeProjects\\YogaPartner\\intermediates\\v2\\bidalasana_242.jpeg\n"
     ]
    },
    {
     "name": "stderr",
     "output_type": "stream",
     "text": [
      "\r",
      "1788it [05:09,  8.63it/s]"
     ]
    },
    {
     "name": "stdout",
     "output_type": "stream",
     "text": [
      "Saved to A:\\Projects\\CollegeProjects\\YogaPartner\\intermediates\\v2\\bidalasana_302.jpeg\n",
      "Saved to A:\\Projects\\CollegeProjects\\YogaPartner\\intermediates\\v2\\bidalasana_222.jpg\n",
      "Saved to A:\\Projects\\CollegeProjects\\YogaPartner\\intermediates\\v2\\bidalasana_73.jpg\n"
     ]
    },
    {
     "name": "stderr",
     "output_type": "stream",
     "text": [
      "\r",
      "1790it [05:09,  9.06it/s]"
     ]
    },
    {
     "name": "stdout",
     "output_type": "stream",
     "text": [
      "Saved to A:\\Projects\\CollegeProjects\\YogaPartner\\intermediates\\v2\\bidalasana_314.jpg\n",
      "Saved to A:\\Projects\\CollegeProjects\\YogaPartner\\intermediates\\v2\\bidalasana_266.jpg\n"
     ]
    },
    {
     "name": "stderr",
     "output_type": "stream",
     "text": [
      "1793it [05:09,  8.18it/s]"
     ]
    },
    {
     "name": "stdout",
     "output_type": "stream",
     "text": [
      "Saved to A:\\Projects\\CollegeProjects\\YogaPartner\\intermediates\\v2\\bidalasana_204.jpg\n",
      "Saved to A:\\Projects\\CollegeProjects\\YogaPartner\\intermediates\\v2\\bidalasana_141.jpg\n"
     ]
    },
    {
     "name": "stderr",
     "output_type": "stream",
     "text": [
      "\r",
      "1794it [05:09,  8.26it/s]"
     ]
    },
    {
     "name": "stdout",
     "output_type": "stream",
     "text": [
      "Saved to A:\\Projects\\CollegeProjects\\YogaPartner\\intermediates\\v2\\bidalasana_94.jpg\n",
      "Saved to A:\\Projects\\CollegeProjects\\YogaPartner\\intermediates\\v2\\bidalasana_189.jpg\n"
     ]
    },
    {
     "name": "stderr",
     "output_type": "stream",
     "text": [
      "\r",
      "1796it [05:10,  7.41it/s]"
     ]
    },
    {
     "name": "stdout",
     "output_type": "stream",
     "text": [
      "Saved to A:\\Projects\\CollegeProjects\\YogaPartner\\intermediates\\v2\\bidalasana_157.jpg\n"
     ]
    },
    {
     "name": "stderr",
     "output_type": "stream",
     "text": [
      "\r",
      "1797it [05:10,  6.48it/s]"
     ]
    },
    {
     "name": "stdout",
     "output_type": "stream",
     "text": [
      "Saved to A:\\Projects\\CollegeProjects\\YogaPartner\\intermediates\\v2\\bidalasana_76.jpeg\n",
      "Saved to A:\\Projects\\CollegeProjects\\YogaPartner\\intermediates\\v2\\bidalasana_137.jpg\n"
     ]
    },
    {
     "name": "stderr",
     "output_type": "stream",
     "text": [
      "1800it [05:10,  7.54it/s]"
     ]
    },
    {
     "name": "stdout",
     "output_type": "stream",
     "text": [
      "Saved to A:\\Projects\\CollegeProjects\\YogaPartner\\intermediates\\v2\\bidalasana_14.jpg\n",
      "Saved to A:\\Projects\\CollegeProjects\\YogaPartner\\intermediates\\v2\\bidalasana_289.jpg\n"
     ]
    },
    {
     "name": "stderr",
     "output_type": "stream",
     "text": [
      "1802it [05:11,  7.41it/s]"
     ]
    },
    {
     "name": "stdout",
     "output_type": "stream",
     "text": [
      "Saved to A:\\Projects\\CollegeProjects\\YogaPartner\\intermediates\\v2\\bidalasana_219.jpg\n",
      "Saved to A:\\Projects\\CollegeProjects\\YogaPartner\\intermediates\\v2\\bidalasana_86.jpg\n"
     ]
    },
    {
     "name": "stderr",
     "output_type": "stream",
     "text": [
      "1804it [05:11,  7.70it/s]"
     ]
    },
    {
     "name": "stdout",
     "output_type": "stream",
     "text": [
      "Saved to A:\\Projects\\CollegeProjects\\YogaPartner\\intermediates\\v2\\bidalasana_225.jpg\n",
      "Saved to A:\\Projects\\CollegeProjects\\YogaPartner\\intermediates\\v2\\bidalasana_115.jpg\n"
     ]
    },
    {
     "name": "stderr",
     "output_type": "stream",
     "text": [
      "1806it [05:11,  8.16it/s]"
     ]
    },
    {
     "name": "stdout",
     "output_type": "stream",
     "text": [
      "Saved to A:\\Projects\\CollegeProjects\\YogaPartner\\intermediates\\v2\\bidalasana_313.jpg\n",
      "Saved to A:\\Projects\\CollegeProjects\\YogaPartner\\intermediates\\v2\\bidalasana_196.jpg\n"
     ]
    },
    {
     "name": "stderr",
     "output_type": "stream",
     "text": [
      "1808it [05:11,  8.47it/s]"
     ]
    },
    {
     "name": "stdout",
     "output_type": "stream",
     "text": [
      "Saved to A:\\Projects\\CollegeProjects\\YogaPartner\\intermediates\\v2\\bidalasana_262.jpg\n",
      "Saved to A:\\Projects\\CollegeProjects\\YogaPartner\\intermediates\\v2\\bidalasana_166.jpg\n"
     ]
    },
    {
     "name": "stderr",
     "output_type": "stream",
     "text": [
      "1810it [05:11,  8.54it/s]"
     ]
    },
    {
     "name": "stdout",
     "output_type": "stream",
     "text": [
      "Saved to A:\\Projects\\CollegeProjects\\YogaPartner\\intermediates\\v2\\bidalasana_229.jpg\n",
      "Saved to A:\\Projects\\CollegeProjects\\YogaPartner\\intermediates\\v2\\bidalasana_89.jpg\n"
     ]
    },
    {
     "name": "stderr",
     "output_type": "stream",
     "text": [
      "1812it [05:12,  7.82it/s]"
     ]
    },
    {
     "name": "stdout",
     "output_type": "stream",
     "text": [
      "Saved to A:\\Projects\\CollegeProjects\\YogaPartner\\intermediates\\v2\\bidalasana_249.jpg\n",
      "Saved to A:\\Projects\\CollegeProjects\\YogaPartner\\intermediates\\v2\\bidalasana_57.jpeg\n",
      "Saved to A:\\Projects\\CollegeProjects\\YogaPartner\\intermediates\\v2\\bidalasana_140.jpg\n"
     ]
    },
    {
     "name": "stderr",
     "output_type": "stream",
     "text": [
      "1815it [05:12,  8.83it/s]"
     ]
    },
    {
     "name": "stdout",
     "output_type": "stream",
     "text": [
      "Saved to A:\\Projects\\CollegeProjects\\YogaPartner\\intermediates\\v2\\bidalasana_250.jpg\n",
      "Saved to A:\\Projects\\CollegeProjects\\YogaPartner\\intermediates\\v2\\bidalasana_121.jpg\n"
     ]
    },
    {
     "name": "stderr",
     "output_type": "stream",
     "text": [
      "1817it [05:12,  9.09it/s]"
     ]
    },
    {
     "name": "stdout",
     "output_type": "stream",
     "text": [
      "Saved to A:\\Projects\\CollegeProjects\\YogaPartner\\intermediates\\v2\\bidalasana_168.jpg\n",
      "Saved to A:\\Projects\\CollegeProjects\\YogaPartner\\intermediates\\v2\\bidalasana_282.jpg\n"
     ]
    },
    {
     "name": "stderr",
     "output_type": "stream",
     "text": [
      "1819it [05:13,  8.44it/s]"
     ]
    },
    {
     "name": "stdout",
     "output_type": "stream",
     "text": [
      "Saved to A:\\Projects\\CollegeProjects\\YogaPartner\\intermediates\\v2\\bidalasana_33.jpg\n",
      "Saved to A:\\Projects\\CollegeProjects\\YogaPartner\\intermediates\\v2\\bidalasana_255.jpg\n"
     ]
    },
    {
     "name": "stderr",
     "output_type": "stream",
     "text": [
      "1822it [05:13,  9.60it/s]"
     ]
    },
    {
     "name": "stdout",
     "output_type": "stream",
     "text": [
      "Saved to A:\\Projects\\CollegeProjects\\YogaPartner\\intermediates\\v2\\bidalasana_63.jpg\n",
      "Saved to A:\\Projects\\CollegeProjects\\YogaPartner\\intermediates\\v2\\bidalasana_211.jpg\n",
      "Saved to A:\\Projects\\CollegeProjects\\YogaPartner\\intermediates\\v2\\bidalasana_49.jpg\n"
     ]
    },
    {
     "name": "stderr",
     "output_type": "stream",
     "text": [
      "1825it [05:13, 10.19it/s]"
     ]
    },
    {
     "name": "stdout",
     "output_type": "stream",
     "text": [
      "Saved to A:\\Projects\\CollegeProjects\\YogaPartner\\intermediates\\v2\\bidalasana_284.jpg\n",
      "Saved to A:\\Projects\\CollegeProjects\\YogaPartner\\intermediates\\v2\\bidalasana_277.jpg\n",
      "Saved to A:\\Projects\\CollegeProjects\\YogaPartner\\intermediates\\v2\\bidalasana_82.jpg\n"
     ]
    },
    {
     "name": "stderr",
     "output_type": "stream",
     "text": [
      "1827it [05:13,  9.00it/s]"
     ]
    },
    {
     "name": "stdout",
     "output_type": "stream",
     "text": [
      "Saved to A:\\Projects\\CollegeProjects\\YogaPartner\\intermediates\\v2\\bidalasana_60.jpg\n",
      "Saved to A:\\Projects\\CollegeProjects\\YogaPartner\\intermediates\\v2\\bidalasana_293.jpg\n"
     ]
    },
    {
     "name": "stderr",
     "output_type": "stream",
     "text": [
      "1829it [05:14,  8.95it/s]"
     ]
    },
    {
     "name": "stdout",
     "output_type": "stream",
     "text": [
      "Saved to A:\\Projects\\CollegeProjects\\YogaPartner\\intermediates\\v2\\bidalasana_259.jpg\n",
      "Saved to A:\\Projects\\CollegeProjects\\YogaPartner\\intermediates\\v2\\bidalasana_206.jpg\n",
      "Saved to A:\\Projects\\CollegeProjects\\YogaPartner\\intermediates\\v2\\bidalasana_263.jpg\n"
     ]
    },
    {
     "name": "stderr",
     "output_type": "stream",
     "text": [
      "\r",
      "1831it [05:14,  9.61it/s]"
     ]
    },
    {
     "name": "stdout",
     "output_type": "stream",
     "text": [
      "Saved to A:\\Projects\\CollegeProjects\\YogaPartner\\intermediates\\v2\\bidalasana_236.jpg\n",
      "Saved to A:\\Projects\\CollegeProjects\\YogaPartner\\intermediates\\v2\\bidalasana_197.jpg\n"
     ]
    },
    {
     "name": "stderr",
     "output_type": "stream",
     "text": [
      "1835it [05:14,  9.99it/s]"
     ]
    },
    {
     "name": "stdout",
     "output_type": "stream",
     "text": [
      "Saved to A:\\Projects\\CollegeProjects\\YogaPartner\\intermediates\\v2\\bidalasana_59.jpg\n",
      "Saved to A:\\Projects\\CollegeProjects\\YogaPartner\\intermediates\\v2\\bidalasana_234.jpg\n",
      "Saved to A:\\Projects\\CollegeProjects\\YogaPartner\\intermediates\\v2\\bidalasana_261.jpg\n"
     ]
    },
    {
     "name": "stderr",
     "output_type": "stream",
     "text": [
      "\r",
      "1837it [05:14, 10.16it/s]"
     ]
    },
    {
     "name": "stdout",
     "output_type": "stream",
     "text": [
      "Saved to A:\\Projects\\CollegeProjects\\YogaPartner\\intermediates\\v2\\bidalasana_120.jpg\n",
      "Saved to A:\\Projects\\CollegeProjects\\YogaPartner\\intermediates\\v2\\bidalasana_91.jpeg\n"
     ]
    },
    {
     "name": "stderr",
     "output_type": "stream",
     "text": [
      "\r",
      "1839it [05:15, 10.39it/s]"
     ]
    },
    {
     "name": "stdout",
     "output_type": "stream",
     "text": [
      "Saved to A:\\Projects\\CollegeProjects\\YogaPartner\\intermediates\\v2\\bidalasana_156.jpeg\n",
      "Saved to A:\\Projects\\CollegeProjects\\YogaPartner\\intermediates\\v2\\bidalasana_65.jpg\n"
     ]
    },
    {
     "name": "stderr",
     "output_type": "stream",
     "text": [
      "\r",
      "1841it [05:15,  9.07it/s]"
     ]
    },
    {
     "name": "stdout",
     "output_type": "stream",
     "text": [
      "Saved to A:\\Projects\\CollegeProjects\\YogaPartner\\intermediates\\v2\\bidalasana_5.jpg\n",
      "Saved to A:\\Projects\\CollegeProjects\\YogaPartner\\intermediates\\v2\\bidalasana_1.jpg\n"
     ]
    },
    {
     "name": "stderr",
     "output_type": "stream",
     "text": [
      "1843it [05:15,  8.37it/s]"
     ]
    },
    {
     "name": "stdout",
     "output_type": "stream",
     "text": [
      "Saved to A:\\Projects\\CollegeProjects\\YogaPartner\\intermediates\\v2\\bidalasana_272.jpg\n",
      "Saved to A:\\Projects\\CollegeProjects\\YogaPartner\\intermediates\\v2\\utkata_konasana_160.jpg\n"
     ]
    },
    {
     "name": "stderr",
     "output_type": "stream",
     "text": [
      "\r",
      "1844it [05:15,  8.26it/s]"
     ]
    },
    {
     "name": "stdout",
     "output_type": "stream",
     "text": [
      "Saved to A:\\Projects\\CollegeProjects\\YogaPartner\\intermediates\\v2\\utkata_konasana_117.jpg\n",
      "Saved to A:\\Projects\\CollegeProjects\\YogaPartner\\intermediates\\v2\\utkata_konasana_94.jpg\n"
     ]
    },
    {
     "name": "stderr",
     "output_type": "stream",
     "text": [
      "1847it [05:16,  6.95it/s]"
     ]
    },
    {
     "name": "stdout",
     "output_type": "stream",
     "text": [
      "Saved to A:\\Projects\\CollegeProjects\\YogaPartner\\intermediates\\v2\\utkata_konasana_168.jpg\n",
      "Saved to A:\\Projects\\CollegeProjects\\YogaPartner\\intermediates\\v2\\utkata_konasana_1.jpg\n"
     ]
    },
    {
     "name": "stderr",
     "output_type": "stream",
     "text": [
      "1849it [05:16,  7.18it/s]"
     ]
    },
    {
     "name": "stdout",
     "output_type": "stream",
     "text": [
      "Saved to A:\\Projects\\CollegeProjects\\YogaPartner\\intermediates\\v2\\utkata_konasana_66.jpg\n",
      "Saved to A:\\Projects\\CollegeProjects\\YogaPartner\\intermediates\\v2\\utkata_konasana_51.jpg\n"
     ]
    },
    {
     "name": "stderr",
     "output_type": "stream",
     "text": [
      "1851it [05:16,  7.23it/s]"
     ]
    },
    {
     "name": "stdout",
     "output_type": "stream",
     "text": [
      "Saved to A:\\Projects\\CollegeProjects\\YogaPartner\\intermediates\\v2\\utkata_konasana_91.jpg\n",
      "Saved to A:\\Projects\\CollegeProjects\\YogaPartner\\intermediates\\v2\\utkata_konasana_191.jpg\n"
     ]
    },
    {
     "name": "stderr",
     "output_type": "stream",
     "text": [
      "1854it [05:17,  8.03it/s]"
     ]
    },
    {
     "name": "stdout",
     "output_type": "stream",
     "text": [
      "Saved to A:\\Projects\\CollegeProjects\\YogaPartner\\intermediates\\v2\\utkata_konasana_193.jpg\n",
      "Saved to A:\\Projects\\CollegeProjects\\YogaPartner\\intermediates\\v2\\utkata_konasana_169.jpg\n",
      "Saved to A:\\Projects\\CollegeProjects\\YogaPartner\\intermediates\\v2\\utkata_konasana_166.jpg\n"
     ]
    },
    {
     "name": "stderr",
     "output_type": "stream",
     "text": [
      "\r",
      "1855it [05:17,  8.15it/s]"
     ]
    },
    {
     "name": "stdout",
     "output_type": "stream",
     "text": [
      "Saved to A:\\Projects\\CollegeProjects\\YogaPartner\\intermediates\\v2\\utkata_konasana_68.jpg\n"
     ]
    },
    {
     "name": "stderr",
     "output_type": "stream",
     "text": [
      "\r",
      "1856it [05:18,  3.39it/s]"
     ]
    },
    {
     "name": "stdout",
     "output_type": "stream",
     "text": [
      "Saved to A:\\Projects\\CollegeProjects\\YogaPartner\\intermediates\\v2\\utkata_konasana_96.jpg\n"
     ]
    },
    {
     "name": "stderr",
     "output_type": "stream",
     "text": [
      "\r",
      "1857it [05:18,  2.71it/s]"
     ]
    },
    {
     "name": "stdout",
     "output_type": "stream",
     "text": [
      "Saved to A:\\Projects\\CollegeProjects\\YogaPartner\\intermediates\\v2\\utkata_konasana_109.jpg\n"
     ]
    },
    {
     "name": "stderr",
     "output_type": "stream",
     "text": [
      "1859it [05:18,  3.70it/s]"
     ]
    },
    {
     "name": "stdout",
     "output_type": "stream",
     "text": [
      "Saved to A:\\Projects\\CollegeProjects\\YogaPartner\\intermediates\\v2\\utkata_konasana_194.jpg\n",
      "Saved to A:\\Projects\\CollegeProjects\\YogaPartner\\intermediates\\v2\\utkata_konasana_150.jpg\n"
     ]
    },
    {
     "name": "stderr",
     "output_type": "stream",
     "text": [
      "1861it [05:19,  3.45it/s]"
     ]
    },
    {
     "name": "stdout",
     "output_type": "stream",
     "text": [
      "Saved to A:\\Projects\\CollegeProjects\\YogaPartner\\intermediates\\v2\\utkata_konasana_115.jpg\n",
      "Saved to A:\\Projects\\CollegeProjects\\YogaPartner\\intermediates\\v2\\utkata_konasana_189.jpg\n"
     ]
    },
    {
     "name": "stderr",
     "output_type": "stream",
     "text": [
      "1863it [05:19,  4.44it/s]"
     ]
    },
    {
     "name": "stdout",
     "output_type": "stream",
     "text": [
      "Saved to A:\\Projects\\CollegeProjects\\YogaPartner\\intermediates\\v2\\utkata_konasana_209.jpg\n",
      "Saved to A:\\Projects\\CollegeProjects\\YogaPartner\\intermediates\\v2\\utkata_konasana_126.jpg\n"
     ]
    },
    {
     "name": "stderr",
     "output_type": "stream",
     "text": [
      "\r",
      "1864it [05:20,  5.03it/s]"
     ]
    },
    {
     "name": "stdout",
     "output_type": "stream",
     "text": [
      "Saved to A:\\Projects\\CollegeProjects\\YogaPartner\\intermediates\\v2\\utkata_konasana_2.jpg\n"
     ]
    },
    {
     "name": "stderr",
     "output_type": "stream",
     "text": [
      "\r",
      "1865it [05:21,  1.82it/s]"
     ]
    },
    {
     "name": "stdout",
     "output_type": "stream",
     "text": [
      "Saved to A:\\Projects\\CollegeProjects\\YogaPartner\\intermediates\\v2\\utkata_konasana_39.jpg\n",
      "Saved to A:\\Projects\\CollegeProjects\\YogaPartner\\intermediates\\v2\\utkata_konasana_16.jpg\n"
     ]
    },
    {
     "name": "stderr",
     "output_type": "stream",
     "text": [
      "1867it [05:21,  2.82it/s]"
     ]
    },
    {
     "name": "stdout",
     "output_type": "stream",
     "text": [
      "Saved to A:\\Projects\\CollegeProjects\\YogaPartner\\intermediates\\v2\\utkata_konasana_27.jpg\n"
     ]
    },
    {
     "name": "stderr",
     "output_type": "stream",
     "text": [
      "1869it [05:22,  3.69it/s]"
     ]
    },
    {
     "name": "stdout",
     "output_type": "stream",
     "text": [
      "Saved to A:\\Projects\\CollegeProjects\\YogaPartner\\intermediates\\v2\\utkata_konasana_12.jpg\n",
      "Saved to A:\\Projects\\CollegeProjects\\YogaPartner\\intermediates\\v2\\utkata_konasana_154.jpg\n"
     ]
    },
    {
     "name": "stderr",
     "output_type": "stream",
     "text": [
      "1871it [05:22,  5.22it/s]"
     ]
    },
    {
     "name": "stdout",
     "output_type": "stream",
     "text": [
      "Saved to A:\\Projects\\CollegeProjects\\YogaPartner\\intermediates\\v2\\utkata_konasana_125.jpg\n",
      "Saved to A:\\Projects\\CollegeProjects\\YogaPartner\\intermediates\\v2\\utkata_konasana_148.jpg\n"
     ]
    },
    {
     "name": "stderr",
     "output_type": "stream",
     "text": [
      "1873it [05:22,  5.63it/s]"
     ]
    },
    {
     "name": "stdout",
     "output_type": "stream",
     "text": [
      "Saved to A:\\Projects\\CollegeProjects\\YogaPartner\\intermediates\\v2\\utkata_konasana_177.jpg\n",
      "Saved to A:\\Projects\\CollegeProjects\\YogaPartner\\intermediates\\v2\\utkata_konasana_86.jpg\n"
     ]
    },
    {
     "name": "stderr",
     "output_type": "stream",
     "text": [
      "\r",
      "1874it [05:22,  6.11it/s]"
     ]
    },
    {
     "name": "stdout",
     "output_type": "stream",
     "text": [
      "Saved to A:\\Projects\\CollegeProjects\\YogaPartner\\intermediates\\v2\\utkata_konasana_71.jpg\n"
     ]
    },
    {
     "name": "stderr",
     "output_type": "stream",
     "text": [
      "1876it [05:23,  4.28it/s]"
     ]
    },
    {
     "name": "stdout",
     "output_type": "stream",
     "text": [
      "Saved to A:\\Projects\\CollegeProjects\\YogaPartner\\intermediates\\v2\\utkata_konasana_145.jpg\n",
      "Saved to A:\\Projects\\CollegeProjects\\YogaPartner\\intermediates\\v2\\utkata_konasana_77.jpg\n"
     ]
    },
    {
     "name": "stderr",
     "output_type": "stream",
     "text": [
      "1878it [05:24,  3.38it/s]"
     ]
    },
    {
     "name": "stdout",
     "output_type": "stream",
     "text": [
      "Saved to A:\\Projects\\CollegeProjects\\YogaPartner\\intermediates\\v2\\utkata_konasana_42.jpg\n",
      "Saved to A:\\Projects\\CollegeProjects\\YogaPartner\\intermediates\\v2\\utkata_konasana_162.jpeg\n"
     ]
    },
    {
     "name": "stderr",
     "output_type": "stream",
     "text": [
      "1880it [05:24,  4.69it/s]"
     ]
    },
    {
     "name": "stdout",
     "output_type": "stream",
     "text": [
      "Saved to A:\\Projects\\CollegeProjects\\YogaPartner\\intermediates\\v2\\utkata_konasana_29.jpg\n",
      "Saved to A:\\Projects\\CollegeProjects\\YogaPartner\\intermediates\\v2\\utkata_konasana_202.jpg\n"
     ]
    },
    {
     "name": "stderr",
     "output_type": "stream",
     "text": [
      "\r",
      "1881it [05:24,  5.32it/s]"
     ]
    },
    {
     "name": "stdout",
     "output_type": "stream",
     "text": [
      "Saved to A:\\Projects\\CollegeProjects\\YogaPartner\\intermediates\\v2\\utkata_konasana_149.jpg\n",
      "Saved to A:\\Projects\\CollegeProjects\\YogaPartner\\intermediates\\v2\\utkata_konasana_56.jpg\n"
     ]
    },
    {
     "name": "stderr",
     "output_type": "stream",
     "text": [
      "1884it [05:25,  6.44it/s]"
     ]
    },
    {
     "name": "stdout",
     "output_type": "stream",
     "text": [
      "Saved to A:\\Projects\\CollegeProjects\\YogaPartner\\intermediates\\v2\\utkata_konasana_17.jpg\n",
      "Saved to A:\\Projects\\CollegeProjects\\YogaPartner\\intermediates\\v2\\utkata_konasana_137.jpg\n"
     ]
    },
    {
     "name": "stderr",
     "output_type": "stream",
     "text": [
      "1886it [05:25,  7.53it/s]"
     ]
    },
    {
     "name": "stdout",
     "output_type": "stream",
     "text": [
      "Saved to A:\\Projects\\CollegeProjects\\YogaPartner\\intermediates\\v2\\utkata_konasana_186.jpg\n",
      "Saved to A:\\Projects\\CollegeProjects\\YogaPartner\\intermediates\\v2\\utkata_konasana_90.jpg\n"
     ]
    },
    {
     "name": "stderr",
     "output_type": "stream",
     "text": [
      "1888it [05:25,  6.90it/s]"
     ]
    },
    {
     "name": "stdout",
     "output_type": "stream",
     "text": [
      "Saved to A:\\Projects\\CollegeProjects\\YogaPartner\\intermediates\\v2\\utkata_konasana_46.jpg\n",
      "Saved to A:\\Projects\\CollegeProjects\\YogaPartner\\intermediates\\v2\\utkata_konasana_93.jpg\n"
     ]
    },
    {
     "name": "stderr",
     "output_type": "stream",
     "text": [
      "1890it [05:26,  6.73it/s]"
     ]
    },
    {
     "name": "stdout",
     "output_type": "stream",
     "text": [
      "Saved to A:\\Projects\\CollegeProjects\\YogaPartner\\intermediates\\v2\\utkata_konasana_184.jpg\n",
      "Saved to A:\\Projects\\CollegeProjects\\YogaPartner\\intermediates\\v2\\utkata_konasana_52.jpg\n"
     ]
    },
    {
     "name": "stderr",
     "output_type": "stream",
     "text": [
      "1893it [05:26,  8.05it/s]"
     ]
    },
    {
     "name": "stdout",
     "output_type": "stream",
     "text": [
      "Saved to A:\\Projects\\CollegeProjects\\YogaPartner\\intermediates\\v2\\utkata_konasana_24.jpg\n",
      "Saved to A:\\Projects\\CollegeProjects\\YogaPartner\\intermediates\\v2\\utkata_konasana_176.jpg\n",
      "Saved to A:\\Projects\\CollegeProjects\\YogaPartner\\intermediates\\v2\\utkata_konasana_47.jpg\n"
     ]
    },
    {
     "name": "stderr",
     "output_type": "stream",
     "text": [
      "1895it [05:26,  6.93it/s]"
     ]
    },
    {
     "name": "stdout",
     "output_type": "stream",
     "text": [
      "Saved to A:\\Projects\\CollegeProjects\\YogaPartner\\intermediates\\v2\\utkata_konasana_10.jpg\n",
      "Saved to A:\\Projects\\CollegeProjects\\YogaPartner\\intermediates\\v2\\utkata_konasana_140.jpg\n"
     ]
    },
    {
     "name": "stderr",
     "output_type": "stream",
     "text": [
      "1897it [05:27,  6.31it/s]"
     ]
    },
    {
     "name": "stdout",
     "output_type": "stream",
     "text": [
      "Saved to A:\\Projects\\CollegeProjects\\YogaPartner\\intermediates\\v2\\utkata_konasana_161.jpg\n",
      "Saved to A:\\Projects\\CollegeProjects\\YogaPartner\\intermediates\\v2\\utkata_konasana_181.jpg\n"
     ]
    },
    {
     "name": "stderr",
     "output_type": "stream",
     "text": [
      "1899it [05:27,  6.22it/s]"
     ]
    },
    {
     "name": "stdout",
     "output_type": "stream",
     "text": [
      "Saved to A:\\Projects\\CollegeProjects\\YogaPartner\\intermediates\\v2\\utkata_konasana_49.jpg\n",
      "Saved to A:\\Projects\\CollegeProjects\\YogaPartner\\intermediates\\v2\\utkata_konasana_151.jpg\n"
     ]
    },
    {
     "name": "stderr",
     "output_type": "stream",
     "text": [
      "1901it [05:27,  7.46it/s]"
     ]
    },
    {
     "name": "stdout",
     "output_type": "stream",
     "text": [
      "Saved to A:\\Projects\\CollegeProjects\\YogaPartner\\intermediates\\v2\\utkata_konasana_119.jpg\n",
      "Saved to A:\\Projects\\CollegeProjects\\YogaPartner\\intermediates\\v2\\utkata_konasana_78.jpg\n"
     ]
    },
    {
     "name": "stderr",
     "output_type": "stream",
     "text": [
      "\r",
      "1902it [05:27,  7.17it/s]"
     ]
    },
    {
     "name": "stdout",
     "output_type": "stream",
     "text": [
      "Saved to A:\\Projects\\CollegeProjects\\YogaPartner\\intermediates\\v2\\utkata_konasana_57.jpg\n"
     ]
    },
    {
     "name": "stderr",
     "output_type": "stream",
     "text": [
      "\r",
      "1903it [05:28,  2.34it/s]"
     ]
    },
    {
     "name": "stdout",
     "output_type": "stream",
     "text": [
      "Saved to A:\\Projects\\CollegeProjects\\YogaPartner\\intermediates\\v2\\utkata_konasana_183.jpg\n"
     ]
    },
    {
     "name": "stderr",
     "output_type": "stream",
     "text": [
      "1905it [05:29,  3.11it/s]"
     ]
    },
    {
     "name": "stdout",
     "output_type": "stream",
     "text": [
      "Saved to A:\\Projects\\CollegeProjects\\YogaPartner\\intermediates\\v2\\utkata_konasana_155.jpg\n",
      "Saved to A:\\Projects\\CollegeProjects\\YogaPartner\\intermediates\\v2\\utkata_konasana_30.jpg\n"
     ]
    },
    {
     "name": "stderr",
     "output_type": "stream",
     "text": [
      "1907it [05:29,  4.13it/s]"
     ]
    },
    {
     "name": "stdout",
     "output_type": "stream",
     "text": [
      "Saved to A:\\Projects\\CollegeProjects\\YogaPartner\\intermediates\\v2\\utkata_konasana_105.jpg\n",
      "Saved to A:\\Projects\\CollegeProjects\\YogaPartner\\intermediates\\v2\\utkata_konasana_201.jpg\n"
     ]
    },
    {
     "name": "stderr",
     "output_type": "stream",
     "text": [
      "1909it [05:29,  5.03it/s]"
     ]
    },
    {
     "name": "stdout",
     "output_type": "stream",
     "text": [
      "Saved to A:\\Projects\\CollegeProjects\\YogaPartner\\intermediates\\v2\\utkata_konasana_45.jpg\n",
      "Saved to A:\\Projects\\CollegeProjects\\YogaPartner\\intermediates\\v2\\utkata_konasana_80.jpg\n"
     ]
    },
    {
     "name": "stderr",
     "output_type": "stream",
     "text": [
      "\r",
      "1910it [05:30,  5.46it/s]"
     ]
    },
    {
     "name": "stdout",
     "output_type": "stream",
     "text": [
      "Saved to A:\\Projects\\CollegeProjects\\YogaPartner\\intermediates\\v2\\utkata_konasana_122.jpg\n"
     ]
    },
    {
     "name": "stderr",
     "output_type": "stream",
     "text": [
      "1912it [05:31,  2.93it/s]"
     ]
    },
    {
     "name": "stdout",
     "output_type": "stream",
     "text": [
      "Saved to A:\\Projects\\CollegeProjects\\YogaPartner\\intermediates\\v2\\utkata_konasana_4.jpg\n",
      "Saved to A:\\Projects\\CollegeProjects\\YogaPartner\\intermediates\\v2\\utkata_konasana_20.jpg\n"
     ]
    },
    {
     "name": "stderr",
     "output_type": "stream",
     "text": [
      "1914it [05:31,  4.26it/s]"
     ]
    },
    {
     "name": "stdout",
     "output_type": "stream",
     "text": [
      "Saved to A:\\Projects\\CollegeProjects\\YogaPartner\\intermediates\\v2\\utkata_konasana_110.jpg\n",
      "Saved to A:\\Projects\\CollegeProjects\\YogaPartner\\intermediates\\v2\\utkata_konasana_141.jpg\n"
     ]
    },
    {
     "name": "stderr",
     "output_type": "stream",
     "text": [
      "1916it [05:31,  5.68it/s]"
     ]
    },
    {
     "name": "stdout",
     "output_type": "stream",
     "text": [
      "Saved to A:\\Projects\\CollegeProjects\\YogaPartner\\intermediates\\v2\\utkata_konasana_199.jpg\n",
      "Saved to A:\\Projects\\CollegeProjects\\YogaPartner\\intermediates\\v2\\utkata_konasana_106.jpg\n"
     ]
    },
    {
     "name": "stderr",
     "output_type": "stream",
     "text": [
      "1918it [05:32,  6.21it/s]"
     ]
    },
    {
     "name": "stdout",
     "output_type": "stream",
     "text": [
      "Saved to A:\\Projects\\CollegeProjects\\YogaPartner\\intermediates\\v2\\utkata_konasana_121.jpg\n",
      "Saved to A:\\Projects\\CollegeProjects\\YogaPartner\\intermediates\\v2\\utkata_konasana_102.jpg\n"
     ]
    },
    {
     "name": "stderr",
     "output_type": "stream",
     "text": [
      "\r",
      "1919it [05:32,  6.93it/s]"
     ]
    },
    {
     "name": "stdout",
     "output_type": "stream",
     "text": [
      "Saved to A:\\Projects\\CollegeProjects\\YogaPartner\\intermediates\\v2\\utkata_konasana_138.jpg\n"
     ]
    },
    {
     "name": "stderr",
     "output_type": "stream",
     "text": [
      "1921it [05:32,  4.24it/s]"
     ]
    },
    {
     "name": "stdout",
     "output_type": "stream",
     "text": [
      "Saved to A:\\Projects\\CollegeProjects\\YogaPartner\\intermediates\\v2\\utkata_konasana_129.jpg\n",
      "Saved to A:\\Projects\\CollegeProjects\\YogaPartner\\intermediates\\v2\\utkata_konasana_124.jpg\n"
     ]
    },
    {
     "name": "stderr",
     "output_type": "stream",
     "text": [
      "1923it [05:33,  5.12it/s]"
     ]
    },
    {
     "name": "stdout",
     "output_type": "stream",
     "text": [
      "Saved to A:\\Projects\\CollegeProjects\\YogaPartner\\intermediates\\v2\\utkata_konasana_142.jpg\n",
      "Saved to A:\\Projects\\CollegeProjects\\YogaPartner\\intermediates\\v2\\utkata_konasana_40.jpg\n"
     ]
    },
    {
     "name": "stderr",
     "output_type": "stream",
     "text": [
      "1925it [05:33,  6.25it/s]"
     ]
    },
    {
     "name": "stdout",
     "output_type": "stream",
     "text": [
      "Saved to A:\\Projects\\CollegeProjects\\YogaPartner\\intermediates\\v2\\utkata_konasana_182.jpg\n",
      "Saved to A:\\Projects\\CollegeProjects\\YogaPartner\\intermediates\\v2\\utkata_konasana_67.jpg\n"
     ]
    },
    {
     "name": "stderr",
     "output_type": "stream",
     "text": [
      "1927it [05:33,  6.93it/s]"
     ]
    },
    {
     "name": "stdout",
     "output_type": "stream",
     "text": [
      "Saved to A:\\Projects\\CollegeProjects\\YogaPartner\\intermediates\\v2\\utkata_konasana_34.jpg\n",
      "Saved to A:\\Projects\\CollegeProjects\\YogaPartner\\intermediates\\v2\\utkata_konasana_203.jpg\n"
     ]
    },
    {
     "name": "stderr",
     "output_type": "stream",
     "text": [
      "1929it [05:35,  2.62it/s]"
     ]
    },
    {
     "name": "stdout",
     "output_type": "stream",
     "text": [
      "Saved to A:\\Projects\\CollegeProjects\\YogaPartner\\intermediates\\v2\\utkata_konasana_198.jpg\n",
      "Saved to A:\\Projects\\CollegeProjects\\YogaPartner\\intermediates\\v2\\utkata_konasana_76.jpg\n"
     ]
    },
    {
     "name": "stderr",
     "output_type": "stream",
     "text": [
      "\r",
      "1930it [05:35,  3.06it/s]"
     ]
    },
    {
     "name": "stdout",
     "output_type": "stream",
     "text": [
      "Saved to A:\\Projects\\CollegeProjects\\YogaPartner\\intermediates\\v2\\utkata_konasana_59.jpeg\n",
      "Saved to A:\\Projects\\CollegeProjects\\YogaPartner\\intermediates\\v2\\utkata_konasana_89.jpg\n"
     ]
    },
    {
     "name": "stderr",
     "output_type": "stream",
     "text": [
      "\r",
      "1932it [05:35,  4.35it/s]"
     ]
    },
    {
     "name": "stdout",
     "output_type": "stream",
     "text": [
      "Saved to A:\\Projects\\CollegeProjects\\YogaPartner\\intermediates\\v2\\utkata_konasana_108.jpg\n",
      "Saved to A:\\Projects\\CollegeProjects\\YogaPartner\\intermediates\\v2\\utkata_konasana_120.jpg\n"
     ]
    },
    {
     "name": "stderr",
     "output_type": "stream",
     "text": [
      "1935it [05:35,  6.12it/s]"
     ]
    },
    {
     "name": "stdout",
     "output_type": "stream",
     "text": [
      "Saved to A:\\Projects\\CollegeProjects\\YogaPartner\\intermediates\\v2\\utkata_konasana_146.jpg\n",
      "Saved to A:\\Projects\\CollegeProjects\\YogaPartner\\intermediates\\v2\\utkata_konasana_197.jpg\n"
     ]
    },
    {
     "name": "stderr",
     "output_type": "stream",
     "text": [
      "\r",
      "1936it [05:36,  4.77it/s]"
     ]
    },
    {
     "name": "stdout",
     "output_type": "stream",
     "text": [
      "Saved to A:\\Projects\\CollegeProjects\\YogaPartner\\intermediates\\v2\\utkata_konasana_139.jpg\n"
     ]
    },
    {
     "name": "stderr",
     "output_type": "stream",
     "text": [
      "\r",
      "1937it [05:36,  4.09it/s]"
     ]
    },
    {
     "name": "stdout",
     "output_type": "stream",
     "text": [
      "Saved to A:\\Projects\\CollegeProjects\\YogaPartner\\intermediates\\v2\\utkata_konasana_188.jpg\n"
     ]
    },
    {
     "name": "stderr",
     "output_type": "stream",
     "text": [
      "1939it [05:36,  5.02it/s]"
     ]
    },
    {
     "name": "stdout",
     "output_type": "stream",
     "text": [
      "Saved to A:\\Projects\\CollegeProjects\\YogaPartner\\intermediates\\v2\\utkata_konasana_37.jpg\n",
      "Saved to A:\\Projects\\CollegeProjects\\YogaPartner\\intermediates\\v2\\utkata_konasana_58.jpg\n"
     ]
    },
    {
     "name": "stderr",
     "output_type": "stream",
     "text": [
      "1941it [05:37,  6.01it/s]"
     ]
    },
    {
     "name": "stdout",
     "output_type": "stream",
     "text": [
      "Saved to A:\\Projects\\CollegeProjects\\YogaPartner\\intermediates\\v2\\utkata_konasana_85.jpg\n",
      "Saved to A:\\Projects\\CollegeProjects\\YogaPartner\\intermediates\\v2\\utkata_konasana_3.jpg\n"
     ]
    },
    {
     "name": "stderr",
     "output_type": "stream",
     "text": [
      "1943it [05:37,  7.03it/s]"
     ]
    },
    {
     "name": "stdout",
     "output_type": "stream",
     "text": [
      "Saved to A:\\Projects\\CollegeProjects\\YogaPartner\\intermediates\\v2\\utkata_konasana_41.jpg\n",
      "Saved to A:\\Projects\\CollegeProjects\\YogaPartner\\intermediates\\v2\\utkata_konasana_207.jpg\n"
     ]
    },
    {
     "name": "stderr",
     "output_type": "stream",
     "text": [
      "\r",
      "1944it [05:37,  7.48it/s]"
     ]
    },
    {
     "name": "stdout",
     "output_type": "stream",
     "text": [
      "Saved to A:\\Projects\\CollegeProjects\\YogaPartner\\intermediates\\v2\\utkata_konasana_107.jpg\n"
     ]
    },
    {
     "name": "stderr",
     "output_type": "stream",
     "text": [
      "1946it [05:37,  6.06it/s]"
     ]
    },
    {
     "name": "stdout",
     "output_type": "stream",
     "text": [
      "Saved to A:\\Projects\\CollegeProjects\\YogaPartner\\intermediates\\v2\\utkata_konasana_70.jpg\n",
      "Saved to A:\\Projects\\CollegeProjects\\YogaPartner\\intermediates\\v2\\utkata_konasana_187.jpg\n"
     ]
    },
    {
     "name": "stderr",
     "output_type": "stream",
     "text": [
      "1948it [05:38,  6.63it/s]"
     ]
    },
    {
     "name": "stdout",
     "output_type": "stream",
     "text": [
      "Saved to A:\\Projects\\CollegeProjects\\YogaPartner\\intermediates\\v2\\utkata_konasana_118.jpg\n",
      "Saved to A:\\Projects\\CollegeProjects\\YogaPartner\\intermediates\\v2\\utkata_konasana_6.jpg\n"
     ]
    },
    {
     "name": "stderr",
     "output_type": "stream",
     "text": [
      "1950it [05:38,  6.03it/s]"
     ]
    },
    {
     "name": "stdout",
     "output_type": "stream",
     "text": [
      "Saved to A:\\Projects\\CollegeProjects\\YogaPartner\\intermediates\\v2\\utkata_konasana_38.jpg\n",
      "Saved to A:\\Projects\\CollegeProjects\\YogaPartner\\intermediates\\v2\\utkata_konasana_82.jpg\n"
     ]
    },
    {
     "name": "stderr",
     "output_type": "stream",
     "text": [
      "1952it [05:38,  6.14it/s]"
     ]
    },
    {
     "name": "stdout",
     "output_type": "stream",
     "text": [
      "Saved to A:\\Projects\\CollegeProjects\\YogaPartner\\intermediates\\v2\\utkata_konasana_206.jpg\n",
      "Saved to A:\\Projects\\CollegeProjects\\YogaPartner\\intermediates\\v2\\utkata_konasana_156.jpg\n"
     ]
    },
    {
     "name": "stderr",
     "output_type": "stream",
     "text": [
      "1955it [05:39,  7.78it/s]"
     ]
    },
    {
     "name": "stdout",
     "output_type": "stream",
     "text": [
      "Saved to A:\\Projects\\CollegeProjects\\YogaPartner\\intermediates\\v2\\utkata_konasana_60.jpg\n",
      "Saved to A:\\Projects\\CollegeProjects\\YogaPartner\\intermediates\\v2\\utkata_konasana_174.jpg\n",
      "Saved to A:\\Projects\\CollegeProjects\\YogaPartner\\intermediates\\v2\\utkata_konasana_116.jpg\n"
     ]
    },
    {
     "name": "stderr",
     "output_type": "stream",
     "text": [
      "\r",
      "1956it [05:39,  7.70it/s]"
     ]
    },
    {
     "name": "stdout",
     "output_type": "stream",
     "text": [
      "Saved to A:\\Projects\\CollegeProjects\\YogaPartner\\intermediates\\v2\\utkata_konasana_165.jpg\n",
      "Saved to A:\\Projects\\CollegeProjects\\YogaPartner\\intermediates\\v2\\utkata_konasana_170.jpg\n"
     ]
    },
    {
     "name": "stderr",
     "output_type": "stream",
     "text": [
      "1959it [05:40,  3.77it/s]"
     ]
    },
    {
     "name": "stdout",
     "output_type": "stream",
     "text": [
      "Saved to A:\\Projects\\CollegeProjects\\YogaPartner\\intermediates\\v2\\utkata_konasana_113.jpg\n",
      "Saved to A:\\Projects\\CollegeProjects\\YogaPartner\\intermediates\\v2\\utkata_konasana_65.jpg\n"
     ]
    },
    {
     "name": "stderr",
     "output_type": "stream",
     "text": [
      "\r",
      "1960it [05:40,  4.37it/s]"
     ]
    },
    {
     "name": "stdout",
     "output_type": "stream",
     "text": [
      "Saved to A:\\Projects\\CollegeProjects\\YogaPartner\\intermediates\\v2\\utkata_konasana_21.jpg\n"
     ]
    },
    {
     "name": "stderr",
     "output_type": "stream",
     "text": [
      "1962it [05:41,  4.53it/s]"
     ]
    },
    {
     "name": "stdout",
     "output_type": "stream",
     "text": [
      "Saved to A:\\Projects\\CollegeProjects\\YogaPartner\\intermediates\\v2\\utkata_konasana_123.jpg\n",
      "Saved to A:\\Projects\\CollegeProjects\\YogaPartner\\intermediates\\v2\\utkata_konasana_97.jpg\n"
     ]
    },
    {
     "name": "stderr",
     "output_type": "stream",
     "text": [
      "1965it [05:41,  6.18it/s]"
     ]
    },
    {
     "name": "stdout",
     "output_type": "stream",
     "text": [
      "Saved to A:\\Projects\\CollegeProjects\\YogaPartner\\intermediates\\v2\\utkata_konasana_75.jpg\n",
      "Saved to A:\\Projects\\CollegeProjects\\YogaPartner\\intermediates\\v2\\utkata_konasana_127.jpg\n",
      "Saved to A:\\Projects\\CollegeProjects\\YogaPartner\\intermediates\\v2\\utkata_konasana_74.jpg\n"
     ]
    },
    {
     "name": "stderr",
     "output_type": "stream",
     "text": [
      "1967it [05:41,  5.98it/s]"
     ]
    },
    {
     "name": "stdout",
     "output_type": "stream",
     "text": [
      "Saved to A:\\Projects\\CollegeProjects\\YogaPartner\\intermediates\\v2\\utkata_konasana_22.jpg\n",
      "Saved to A:\\Projects\\CollegeProjects\\YogaPartner\\intermediates\\v2\\utkata_konasana_133.jpeg\n"
     ]
    },
    {
     "name": "stderr",
     "output_type": "stream",
     "text": [
      "1969it [05:42,  6.30it/s]"
     ]
    },
    {
     "name": "stdout",
     "output_type": "stream",
     "text": [
      "Saved to A:\\Projects\\CollegeProjects\\YogaPartner\\intermediates\\v2\\utkata_konasana_73.jpg\n",
      "Saved to A:\\Projects\\CollegeProjects\\YogaPartner\\intermediates\\v2\\utkata_konasana_101.jpg\n"
     ]
    },
    {
     "name": "stderr",
     "output_type": "stream",
     "text": [
      "\r",
      "1970it [05:42,  5.65it/s]"
     ]
    },
    {
     "name": "stdout",
     "output_type": "stream",
     "text": [
      "Saved to A:\\Projects\\CollegeProjects\\YogaPartner\\intermediates\\v2\\utkata_konasana_134.jpg\n"
     ]
    },
    {
     "name": "stderr",
     "output_type": "stream",
     "text": [
      "1972it [05:43,  3.11it/s]"
     ]
    },
    {
     "name": "stdout",
     "output_type": "stream",
     "text": [
      "Saved to A:\\Projects\\CollegeProjects\\YogaPartner\\intermediates\\v2\\utkata_konasana_83.jpeg\n",
      "Saved to A:\\Projects\\CollegeProjects\\YogaPartner\\intermediates\\v2\\utkata_konasana_5.jpg\n"
     ]
    },
    {
     "name": "stderr",
     "output_type": "stream",
     "text": [
      "1974it [05:43,  4.47it/s]"
     ]
    },
    {
     "name": "stdout",
     "output_type": "stream",
     "text": [
      "Saved to A:\\Projects\\CollegeProjects\\YogaPartner\\intermediates\\v2\\utkata_konasana_48.jpg\n",
      "Saved to A:\\Projects\\CollegeProjects\\YogaPartner\\intermediates\\v2\\utkata_konasana_28.jpg\n"
     ]
    },
    {
     "name": "stderr",
     "output_type": "stream",
     "text": [
      "1976it [05:44,  5.54it/s]"
     ]
    },
    {
     "name": "stdout",
     "output_type": "stream",
     "text": [
      "Saved to A:\\Projects\\CollegeProjects\\YogaPartner\\intermediates\\v2\\utkata_konasana_172.jpg\n",
      "Saved to A:\\Projects\\CollegeProjects\\YogaPartner\\intermediates\\v2\\utkata_konasana_179.jpg\n"
     ]
    },
    {
     "name": "stderr",
     "output_type": "stream",
     "text": [
      "1978it [05:44,  6.35it/s]"
     ]
    },
    {
     "name": "stdout",
     "output_type": "stream",
     "text": [
      "Saved to A:\\Projects\\CollegeProjects\\YogaPartner\\intermediates\\v2\\utkata_konasana_128.jpg\n",
      "Saved to A:\\Projects\\CollegeProjects\\YogaPartner\\intermediates\\v2\\utkata_konasana_112.jpg\n"
     ]
    },
    {
     "name": "stderr",
     "output_type": "stream",
     "text": [
      "1980it [05:45,  3.90it/s]"
     ]
    },
    {
     "name": "stdout",
     "output_type": "stream",
     "text": [
      "Saved to A:\\Projects\\CollegeProjects\\YogaPartner\\intermediates\\v2\\utkata_konasana_99.jpg\n",
      "Saved to A:\\Projects\\CollegeProjects\\YogaPartner\\intermediates\\v2\\utkata_konasana_35.jpg\n"
     ]
    },
    {
     "name": "stderr",
     "output_type": "stream",
     "text": [
      "\r",
      "1981it [05:45,  4.26it/s]"
     ]
    },
    {
     "name": "stdout",
     "output_type": "stream",
     "text": [
      "Saved to A:\\Projects\\CollegeProjects\\YogaPartner\\intermediates\\v2\\utkata_konasana_167.jpg\n"
     ]
    },
    {
     "name": "stderr",
     "output_type": "stream",
     "text": [
      "1983it [05:45,  4.44it/s]"
     ]
    },
    {
     "name": "stdout",
     "output_type": "stream",
     "text": [
      "Saved to A:\\Projects\\CollegeProjects\\YogaPartner\\intermediates\\v2\\utkata_konasana_164.jpg\n",
      "Saved to A:\\Projects\\CollegeProjects\\YogaPartner\\intermediates\\v2\\utkata_konasana_54.jpg\n"
     ]
    },
    {
     "name": "stderr",
     "output_type": "stream",
     "text": [
      "1985it [05:46,  4.66it/s]"
     ]
    },
    {
     "name": "stdout",
     "output_type": "stream",
     "text": [
      "Saved to A:\\Projects\\CollegeProjects\\YogaPartner\\intermediates\\v2\\utkata_konasana_64.jpg\n",
      "Saved to A:\\Projects\\CollegeProjects\\YogaPartner\\intermediates\\v2\\utkata_konasana_173.jpg\n"
     ]
    },
    {
     "name": "stderr",
     "output_type": "stream",
     "text": [
      "1987it [05:46,  4.06it/s]"
     ]
    },
    {
     "name": "stdout",
     "output_type": "stream",
     "text": [
      "Saved to A:\\Projects\\CollegeProjects\\YogaPartner\\intermediates\\v2\\utkata_konasana_104.jpg\n",
      "Saved to A:\\Projects\\CollegeProjects\\YogaPartner\\intermediates\\v2\\utkata_konasana_163.jpg\n"
     ]
    },
    {
     "name": "stderr",
     "output_type": "stream",
     "text": [
      "1989it [05:47,  4.98it/s]"
     ]
    },
    {
     "name": "stdout",
     "output_type": "stream",
     "text": [
      "Saved to A:\\Projects\\CollegeProjects\\YogaPartner\\intermediates\\v2\\utkata_konasana_61.jpg\n",
      "Saved to A:\\Projects\\CollegeProjects\\YogaPartner\\intermediates\\v2\\utkata_konasana_98.jpg\n"
     ]
    },
    {
     "name": "stderr",
     "output_type": "stream",
     "text": [
      "1991it [05:47,  6.15it/s]"
     ]
    },
    {
     "name": "stdout",
     "output_type": "stream",
     "text": [
      "Saved to A:\\Projects\\CollegeProjects\\YogaPartner\\intermediates\\v2\\utkata_konasana_8.jpg\n",
      "Saved to A:\\Projects\\CollegeProjects\\YogaPartner\\intermediates\\v2\\utkata_konasana_178.jpg\n"
     ]
    },
    {
     "name": "stderr",
     "output_type": "stream",
     "text": [
      "1993it [05:47,  4.89it/s]"
     ]
    },
    {
     "name": "stdout",
     "output_type": "stream",
     "text": [
      "Saved to A:\\Projects\\CollegeProjects\\YogaPartner\\intermediates\\v2\\utkata_konasana_114.jpg\n",
      "Saved to A:\\Projects\\CollegeProjects\\YogaPartner\\intermediates\\v2\\utkata_konasana_53.jpg\n"
     ]
    },
    {
     "name": "stderr",
     "output_type": "stream",
     "text": [
      "1995it [05:48,  5.39it/s]"
     ]
    },
    {
     "name": "stdout",
     "output_type": "stream",
     "text": [
      "Saved to A:\\Projects\\CollegeProjects\\YogaPartner\\intermediates\\v2\\utkata_konasana_208.jpg\n",
      "Saved to A:\\Projects\\CollegeProjects\\YogaPartner\\intermediates\\v2\\utkata_konasana_26.jpg\n"
     ]
    },
    {
     "name": "stderr",
     "output_type": "stream",
     "text": [
      "1997it [05:48,  6.46it/s]"
     ]
    },
    {
     "name": "stdout",
     "output_type": "stream",
     "text": [
      "Saved to A:\\Projects\\CollegeProjects\\YogaPartner\\intermediates\\v2\\utkata_konasana_63.jpg\n",
      "Saved to A:\\Projects\\CollegeProjects\\YogaPartner\\intermediates\\v2\\utkata_konasana_69.jpeg\n"
     ]
    },
    {
     "name": "stderr",
     "output_type": "stream",
     "text": [
      "1999it [05:48,  6.03it/s]"
     ]
    },
    {
     "name": "stdout",
     "output_type": "stream",
     "text": [
      "Saved to A:\\Projects\\CollegeProjects\\YogaPartner\\intermediates\\v2\\utkata_konasana_95.jpg\n",
      "Saved to A:\\Projects\\CollegeProjects\\YogaPartner\\intermediates\\v2\\utkata_konasana_196.jpg\n"
     ]
    },
    {
     "name": "stderr",
     "output_type": "stream",
     "text": [
      "2001it [05:49,  5.85it/s]"
     ]
    },
    {
     "name": "stdout",
     "output_type": "stream",
     "text": [
      "Saved to A:\\Projects\\CollegeProjects\\YogaPartner\\intermediates\\v2\\utkata_konasana_159.jpg\n",
      "Saved to A:\\Projects\\CollegeProjects\\YogaPartner\\intermediates\\v2\\utkata_konasana_25.jpg\n"
     ]
    },
    {
     "name": "stderr",
     "output_type": "stream",
     "text": [
      "2003it [05:50,  2.91it/s]"
     ]
    },
    {
     "name": "stdout",
     "output_type": "stream",
     "text": [
      "Saved to A:\\Projects\\CollegeProjects\\YogaPartner\\intermediates\\v2\\utkata_konasana_11.jpg\n",
      "Saved to A:\\Projects\\CollegeProjects\\YogaPartner\\intermediates\\v2\\utkata_konasana_205.jpg\n"
     ]
    },
    {
     "name": "stderr",
     "output_type": "stream",
     "text": [
      "2005it [05:50,  4.21it/s]"
     ]
    },
    {
     "name": "stdout",
     "output_type": "stream",
     "text": [
      "Saved to A:\\Projects\\CollegeProjects\\YogaPartner\\intermediates\\v2\\utkata_konasana_32.jpg\n",
      "Saved to A:\\Projects\\CollegeProjects\\YogaPartner\\intermediates\\v2\\utkata_konasana_136.jpg\n"
     ]
    },
    {
     "name": "stderr",
     "output_type": "stream",
     "text": [
      "2007it [05:50,  5.13it/s]"
     ]
    },
    {
     "name": "stdout",
     "output_type": "stream",
     "text": [
      "Saved to A:\\Projects\\CollegeProjects\\YogaPartner\\intermediates\\v2\\utkata_konasana_31.jpg\n",
      "Saved to A:\\Projects\\CollegeProjects\\YogaPartner\\intermediates\\v2\\utkata_konasana_131.jpeg\n"
     ]
    },
    {
     "name": "stderr",
     "output_type": "stream",
     "text": [
      "2010it [05:51,  7.01it/s]"
     ]
    },
    {
     "name": "stdout",
     "output_type": "stream",
     "text": [
      "Saved to A:\\Projects\\CollegeProjects\\YogaPartner\\intermediates\\v2\\utkata_konasana_19.jpg\n",
      "Saved to A:\\Projects\\CollegeProjects\\YogaPartner\\intermediates\\v2\\utkata_konasana_55.jpg\n",
      "Saved to A:\\Projects\\CollegeProjects\\YogaPartner\\intermediates\\v2\\ustrasana_3.jpg\n"
     ]
    },
    {
     "name": "stderr",
     "output_type": "stream",
     "text": [
      "2013it [05:51,  8.91it/s]"
     ]
    },
    {
     "name": "stdout",
     "output_type": "stream",
     "text": [
      "Saved to A:\\Projects\\CollegeProjects\\YogaPartner\\intermediates\\v2\\ustrasana_8.jpg\n",
      "Saved to A:\\Projects\\CollegeProjects\\YogaPartner\\intermediates\\v2\\ustrasana_15.jpg\n",
      "Saved to A:\\Projects\\CollegeProjects\\YogaPartner\\intermediates\\v2\\ustrasana_56.jpg\n"
     ]
    },
    {
     "name": "stderr",
     "output_type": "stream",
     "text": [
      "2016it [05:51, 10.43it/s]"
     ]
    },
    {
     "name": "stdout",
     "output_type": "stream",
     "text": [
      "Saved to A:\\Projects\\CollegeProjects\\YogaPartner\\intermediates\\v2\\ustrasana_18.jpg\n",
      "Saved to A:\\Projects\\CollegeProjects\\YogaPartner\\intermediates\\v2\\ustrasana_59.jpg\n",
      "Saved to A:\\Projects\\CollegeProjects\\YogaPartner\\intermediates\\v2\\ustrasana_41.jpg\n"
     ]
    },
    {
     "name": "stderr",
     "output_type": "stream",
     "text": [
      "\r",
      "2018it [05:51, 10.92it/s]"
     ]
    },
    {
     "name": "stdout",
     "output_type": "stream",
     "text": [
      "Saved to A:\\Projects\\CollegeProjects\\YogaPartner\\intermediates\\v2\\ustrasana_14.jpg\n",
      "Saved to A:\\Projects\\CollegeProjects\\YogaPartner\\intermediates\\v2\\ustrasana_43.jpg\n",
      "Saved to A:\\Projects\\CollegeProjects\\YogaPartner\\intermediates\\v2\\ustrasana_26.jpg\n"
     ]
    },
    {
     "name": "stderr",
     "output_type": "stream",
     "text": [
      "2022it [05:52, 11.16it/s]"
     ]
    },
    {
     "name": "stdout",
     "output_type": "stream",
     "text": [
      "Saved to A:\\Projects\\CollegeProjects\\YogaPartner\\intermediates\\v2\\ustrasana_35.jpg\n",
      "Saved to A:\\Projects\\CollegeProjects\\YogaPartner\\intermediates\\v2\\ustrasana_66.jpg\n",
      "Saved to A:\\Projects\\CollegeProjects\\YogaPartner\\intermediates\\v2\\ustrasana_27.jpg\n"
     ]
    },
    {
     "name": "stderr",
     "output_type": "stream",
     "text": [
      "\r",
      "2024it [05:52, 10.77it/s]"
     ]
    },
    {
     "name": "stdout",
     "output_type": "stream",
     "text": [
      "Saved to A:\\Projects\\CollegeProjects\\YogaPartner\\intermediates\\v2\\ustrasana_44.jpg\n",
      "Saved to A:\\Projects\\CollegeProjects\\YogaPartner\\intermediates\\v2\\ustrasana_21.jpg\n",
      "Saved to A:\\Projects\\CollegeProjects\\YogaPartner\\intermediates\\v2\\ustrasana_11.jpg\n"
     ]
    },
    {
     "name": "stderr",
     "output_type": "stream",
     "text": [
      "2028it [05:52, 10.20it/s]"
     ]
    },
    {
     "name": "stdout",
     "output_type": "stream",
     "text": [
      "Saved to A:\\Projects\\CollegeProjects\\YogaPartner\\intermediates\\v2\\ustrasana_1.jpg\n",
      "Saved to A:\\Projects\\CollegeProjects\\YogaPartner\\intermediates\\v2\\ustrasana_53.jpg\n",
      "Saved to A:\\Projects\\CollegeProjects\\YogaPartner\\intermediates\\v2\\ustrasana_33.jpg\n"
     ]
    },
    {
     "name": "stderr",
     "output_type": "stream",
     "text": [
      "\r",
      "2030it [05:53, 10.26it/s]"
     ]
    },
    {
     "name": "stdout",
     "output_type": "stream",
     "text": [
      "Saved to A:\\Projects\\CollegeProjects\\YogaPartner\\intermediates\\v2\\ustrasana_30.jpg\n",
      "Saved to A:\\Projects\\CollegeProjects\\YogaPartner\\intermediates\\v2\\ustrasana_40.jpg\n",
      "Saved to A:\\Projects\\CollegeProjects\\YogaPartner\\intermediates\\v2\\ustrasana_52.jpg\n"
     ]
    },
    {
     "name": "stderr",
     "output_type": "stream",
     "text": [
      "2034it [05:53, 10.26it/s]"
     ]
    },
    {
     "name": "stdout",
     "output_type": "stream",
     "text": [
      "Saved to A:\\Projects\\CollegeProjects\\YogaPartner\\intermediates\\v2\\ustrasana_7.jpg\n",
      "Saved to A:\\Projects\\CollegeProjects\\YogaPartner\\intermediates\\v2\\ustrasana_62.jpg\n",
      "Saved to A:\\Projects\\CollegeProjects\\YogaPartner\\intermediates\\v2\\ustrasana_48.jpg\n"
     ]
    },
    {
     "name": "stderr",
     "output_type": "stream",
     "text": [
      "\r",
      "2036it [05:53, 10.15it/s]"
     ]
    },
    {
     "name": "stdout",
     "output_type": "stream",
     "text": [
      "Saved to A:\\Projects\\CollegeProjects\\YogaPartner\\intermediates\\v2\\ustrasana_39.jpg\n",
      "Saved to A:\\Projects\\CollegeProjects\\YogaPartner\\intermediates\\v2\\ustrasana_63.jpg\n"
     ]
    },
    {
     "name": "stderr",
     "output_type": "stream",
     "text": [
      "\r",
      "2038it [05:53,  9.34it/s]"
     ]
    },
    {
     "name": "stdout",
     "output_type": "stream",
     "text": [
      "Saved to A:\\Projects\\CollegeProjects\\YogaPartner\\intermediates\\v2\\ustrasana_37.jpg\n",
      "Saved to A:\\Projects\\CollegeProjects\\YogaPartner\\intermediates\\v2\\ustrasana_28.jpg\n",
      "Saved to A:\\Projects\\CollegeProjects\\YogaPartner\\intermediates\\v2\\ustrasana_58.jpg\n"
     ]
    },
    {
     "name": "stderr",
     "output_type": "stream",
     "text": [
      "2041it [05:54,  9.14it/s]"
     ]
    },
    {
     "name": "stdout",
     "output_type": "stream",
     "text": [
      "Saved to A:\\Projects\\CollegeProjects\\YogaPartner\\intermediates\\v2\\ustrasana_47.jpg\n",
      "Saved to A:\\Projects\\CollegeProjects\\YogaPartner\\intermediates\\v2\\ustrasana_19.jpg\n"
     ]
    },
    {
     "name": "stderr",
     "output_type": "stream",
     "text": [
      "2044it [05:54,  9.98it/s]"
     ]
    },
    {
     "name": "stdout",
     "output_type": "stream",
     "text": [
      "Saved to A:\\Projects\\CollegeProjects\\YogaPartner\\intermediates\\v2\\ustrasana_9.jpg\n",
      "Saved to A:\\Projects\\CollegeProjects\\YogaPartner\\intermediates\\v2\\ustrasana_23.jpg\n",
      "Saved to A:\\Projects\\CollegeProjects\\YogaPartner\\intermediates\\v2\\ustrasana_54.jpg\n"
     ]
    },
    {
     "name": "stderr",
     "output_type": "stream",
     "text": [
      "\r",
      "2046it [05:54,  9.82it/s]"
     ]
    },
    {
     "name": "stdout",
     "output_type": "stream",
     "text": [
      "Saved to A:\\Projects\\CollegeProjects\\YogaPartner\\intermediates\\v2\\ustrasana_12.jpg\n",
      "Saved to A:\\Projects\\CollegeProjects\\YogaPartner\\intermediates\\v2\\ustrasana_55.jpg\n",
      "Saved to A:\\Projects\\CollegeProjects\\YogaPartner\\intermediates\\v2\\ustrasana_38.jpg\n"
     ]
    },
    {
     "name": "stderr",
     "output_type": "stream",
     "text": [
      "2049it [05:55,  9.51it/s]"
     ]
    },
    {
     "name": "stdout",
     "output_type": "stream",
     "text": [
      "Saved to A:\\Projects\\CollegeProjects\\YogaPartner\\intermediates\\v2\\ustrasana_57.jpg\n",
      "Saved to A:\\Projects\\CollegeProjects\\YogaPartner\\intermediates\\v2\\ustrasana_64.jpg\n",
      "Saved to A:\\Projects\\CollegeProjects\\YogaPartner\\intermediates\\v2\\ustrasana_45.jpg\n"
     ]
    },
    {
     "name": "stderr",
     "output_type": "stream",
     "text": [
      "2052it [05:55,  9.32it/s]"
     ]
    },
    {
     "name": "stdout",
     "output_type": "stream",
     "text": [
      "Saved to A:\\Projects\\CollegeProjects\\YogaPartner\\intermediates\\v2\\ustrasana_50.jpg\n",
      "Saved to A:\\Projects\\CollegeProjects\\YogaPartner\\intermediates\\v2\\ustrasana_34.jpg\n"
     ]
    },
    {
     "name": "stderr",
     "output_type": "stream",
     "text": [
      "2055it [05:55,  9.53it/s]"
     ]
    },
    {
     "name": "stdout",
     "output_type": "stream",
     "text": [
      "Saved to A:\\Projects\\CollegeProjects\\YogaPartner\\intermediates\\v2\\ustrasana_17.jpg\n",
      "Saved to A:\\Projects\\CollegeProjects\\YogaPartner\\intermediates\\v2\\ustrasana_16.jpg\n",
      "Saved to A:\\Projects\\CollegeProjects\\YogaPartner\\intermediates\\v2\\ustrasana_31.jpg\n"
     ]
    },
    {
     "name": "stderr",
     "output_type": "stream",
     "text": [
      "\r",
      "2057it [05:55, 10.26it/s]"
     ]
    },
    {
     "name": "stdout",
     "output_type": "stream",
     "text": [
      "Saved to A:\\Projects\\CollegeProjects\\YogaPartner\\intermediates\\v2\\ustrasana_49.jpg\n",
      "Saved to A:\\Projects\\CollegeProjects\\YogaPartner\\intermediates\\v2\\ustrasana_10.jpg\n",
      "Saved to A:\\Projects\\CollegeProjects\\YogaPartner\\intermediates\\v2\\ustrasana_6.jpg\n"
     ]
    },
    {
     "name": "stderr",
     "output_type": "stream",
     "text": [
      "2061it [05:56, 10.45it/s]"
     ]
    },
    {
     "name": "stdout",
     "output_type": "stream",
     "text": [
      "Saved to A:\\Projects\\CollegeProjects\\YogaPartner\\intermediates\\v2\\ustrasana_60.jpg\n",
      "Saved to A:\\Projects\\CollegeProjects\\YogaPartner\\intermediates\\v2\\ustrasana_13.jpg\n",
      "Saved to A:\\Projects\\CollegeProjects\\YogaPartner\\intermediates\\v2\\ustrasana_4.jpg\n"
     ]
    },
    {
     "name": "stderr",
     "output_type": "stream",
     "text": [
      "\r",
      "2063it [05:56, 10.66it/s]"
     ]
    },
    {
     "name": "stdout",
     "output_type": "stream",
     "text": [
      "Saved to A:\\Projects\\CollegeProjects\\YogaPartner\\intermediates\\v2\\ustrasana_36.jpg\n",
      "Saved to A:\\Projects\\CollegeProjects\\YogaPartner\\intermediates\\v2\\aug-_0_2870261.jpg\n",
      "Saved to A:\\Projects\\CollegeProjects\\YogaPartner\\intermediates\\v2\\aug-_0_7646562.jpg\n"
     ]
    },
    {
     "name": "stderr",
     "output_type": "stream",
     "text": [
      "2067it [05:56, 11.00it/s]"
     ]
    },
    {
     "name": "stdout",
     "output_type": "stream",
     "text": [
      "Saved to A:\\Projects\\CollegeProjects\\YogaPartner\\intermediates\\v2\\aug-_100_8009673.jpg\n",
      "Saved to A:\\Projects\\CollegeProjects\\YogaPartner\\intermediates\\v2\\aug-_101_946419.jpg\n",
      "Saved to A:\\Projects\\CollegeProjects\\YogaPartner\\intermediates\\v2\\aug-_102_8266386.jpg\n"
     ]
    },
    {
     "name": "stderr",
     "output_type": "stream",
     "text": [
      "\r",
      "2069it [05:57, 10.52it/s]"
     ]
    },
    {
     "name": "stdout",
     "output_type": "stream",
     "text": [
      "Saved to A:\\Projects\\CollegeProjects\\YogaPartner\\intermediates\\v2\\aug-_103_127942.jpg\n",
      "Saved to A:\\Projects\\CollegeProjects\\YogaPartner\\intermediates\\v2\\aug-_104_2942149.jpg\n",
      "Saved to A:\\Projects\\CollegeProjects\\YogaPartner\\intermediates\\v2\\aug-_105_5750497.jpg\n"
     ]
    },
    {
     "name": "stderr",
     "output_type": "stream",
     "text": [
      "2073it [05:57, 11.56it/s]"
     ]
    },
    {
     "name": "stdout",
     "output_type": "stream",
     "text": [
      "Saved to A:\\Projects\\CollegeProjects\\YogaPartner\\intermediates\\v2\\aug-_106_4336214.jpg\n",
      "Saved to A:\\Projects\\CollegeProjects\\YogaPartner\\intermediates\\v2\\aug-_107_4104869.jpg\n",
      "Saved to A:\\Projects\\CollegeProjects\\YogaPartner\\intermediates\\v2\\aug-_108_7880959.jpg\n"
     ]
    },
    {
     "name": "stderr",
     "output_type": "stream",
     "text": [
      "\r",
      "2075it [05:57, 11.46it/s]"
     ]
    },
    {
     "name": "stdout",
     "output_type": "stream",
     "text": [
      "Saved to A:\\Projects\\CollegeProjects\\YogaPartner\\intermediates\\v2\\aug-_109_4813685.jpg\n",
      "Saved to A:\\Projects\\CollegeProjects\\YogaPartner\\intermediates\\v2\\aug-_10_6678517.jpg\n",
      "Saved to A:\\Projects\\CollegeProjects\\YogaPartner\\intermediates\\v2\\aug-_10_9888736.jpg\n"
     ]
    },
    {
     "name": "stderr",
     "output_type": "stream",
     "text": [
      "\r",
      "2077it [05:57, 10.69it/s]"
     ]
    },
    {
     "name": "stdout",
     "output_type": "stream",
     "text": [
      "Saved to A:\\Projects\\CollegeProjects\\YogaPartner\\intermediates\\v2\\aug-_110_7051470.jpg\n",
      "Saved to A:\\Projects\\CollegeProjects\\YogaPartner\\intermediates\\v2\\aug-_111_3733998.jpg\n"
     ]
    },
    {
     "name": "stderr",
     "output_type": "stream",
     "text": [
      "\r",
      "2079it [05:57, 10.05it/s]"
     ]
    },
    {
     "name": "stdout",
     "output_type": "stream",
     "text": [
      "Saved to A:\\Projects\\CollegeProjects\\YogaPartner\\intermediates\\v2\\aug-_112_8031466.jpg\n",
      "Saved to A:\\Projects\\CollegeProjects\\YogaPartner\\intermediates\\v2\\aug-_113_5779952.jpg\n"
     ]
    },
    {
     "name": "stderr",
     "output_type": "stream",
     "text": [
      "2082it [05:58,  9.54it/s]"
     ]
    },
    {
     "name": "stdout",
     "output_type": "stream",
     "text": [
      "Saved to A:\\Projects\\CollegeProjects\\YogaPartner\\intermediates\\v2\\aug-_114_9837951.jpg\n",
      "Saved to A:\\Projects\\CollegeProjects\\YogaPartner\\intermediates\\v2\\aug-_115_2820481.jpg\n"
     ]
    },
    {
     "name": "stderr",
     "output_type": "stream",
     "text": [
      "2085it [05:58,  9.76it/s]"
     ]
    },
    {
     "name": "stdout",
     "output_type": "stream",
     "text": [
      "Saved to A:\\Projects\\CollegeProjects\\YogaPartner\\intermediates\\v2\\aug-_11_7236855.jpg\n",
      "Saved to A:\\Projects\\CollegeProjects\\YogaPartner\\intermediates\\v2\\aug-_11_9440132.jpg\n",
      "Saved to A:\\Projects\\CollegeProjects\\YogaPartner\\intermediates\\v2\\aug-_12_1589609.jpg\n"
     ]
    },
    {
     "name": "stderr",
     "output_type": "stream",
     "text": [
      "\r",
      "2086it [05:58,  9.59it/s]"
     ]
    },
    {
     "name": "stdout",
     "output_type": "stream",
     "text": [
      "Saved to A:\\Projects\\CollegeProjects\\YogaPartner\\intermediates\\v2\\aug-_12_7502755.jpg\n",
      "Saved to A:\\Projects\\CollegeProjects\\YogaPartner\\intermediates\\v2\\aug-_13_1119348.jpg\n"
     ]
    },
    {
     "name": "stderr",
     "output_type": "stream",
     "text": [
      "2089it [05:59,  9.34it/s]"
     ]
    },
    {
     "name": "stdout",
     "output_type": "stream",
     "text": [
      "Saved to A:\\Projects\\CollegeProjects\\YogaPartner\\intermediates\\v2\\aug-_13_2833839.jpg\n",
      "Saved to A:\\Projects\\CollegeProjects\\YogaPartner\\intermediates\\v2\\aug-_14_5601149.jpg\n",
      "Saved to A:\\Projects\\CollegeProjects\\YogaPartner\\intermediates\\v2\\aug-_14_8349200.jpg\n"
     ]
    },
    {
     "name": "stderr",
     "output_type": "stream",
     "text": [
      "2092it [05:59,  9.96it/s]"
     ]
    },
    {
     "name": "stdout",
     "output_type": "stream",
     "text": [
      "Saved to A:\\Projects\\CollegeProjects\\YogaPartner\\intermediates\\v2\\aug-_15_2710583.jpg\n",
      "Saved to A:\\Projects\\CollegeProjects\\YogaPartner\\intermediates\\v2\\aug-_15_5840622.jpg\n",
      "Saved to A:\\Projects\\CollegeProjects\\YogaPartner\\intermediates\\v2\\aug-_16_1832667.jpg\n"
     ]
    },
    {
     "name": "stderr",
     "output_type": "stream",
     "text": [
      "\r",
      "2094it [05:59, 11.05it/s]"
     ]
    },
    {
     "name": "stdout",
     "output_type": "stream",
     "text": [
      "Saved to A:\\Projects\\CollegeProjects\\YogaPartner\\intermediates\\v2\\aug-_16_8697878.jpg\n",
      "Saved to A:\\Projects\\CollegeProjects\\YogaPartner\\intermediates\\v2\\aug-_17_1620888.jpg\n"
     ]
    },
    {
     "name": "stderr",
     "output_type": "stream",
     "text": [
      "\r",
      "2096it [05:59,  9.49it/s]"
     ]
    },
    {
     "name": "stdout",
     "output_type": "stream",
     "text": [
      "Saved to A:\\Projects\\CollegeProjects\\YogaPartner\\intermediates\\v2\\aug-_17_7438103.jpg\n",
      "Saved to A:\\Projects\\CollegeProjects\\YogaPartner\\intermediates\\v2\\aug-_18_6757598.jpg\n"
     ]
    },
    {
     "name": "stderr",
     "output_type": "stream",
     "text": [
      "2099it [06:00,  9.34it/s]"
     ]
    },
    {
     "name": "stdout",
     "output_type": "stream",
     "text": [
      "Saved to A:\\Projects\\CollegeProjects\\YogaPartner\\intermediates\\v2\\aug-_19_9421309.jpg\n",
      "Saved to A:\\Projects\\CollegeProjects\\YogaPartner\\intermediates\\v2\\aug-_1_3176252.jpg\n"
     ]
    },
    {
     "name": "stderr",
     "output_type": "stream",
     "text": [
      "2101it [06:00,  9.20it/s]"
     ]
    },
    {
     "name": "stdout",
     "output_type": "stream",
     "text": [
      "Saved to A:\\Projects\\CollegeProjects\\YogaPartner\\intermediates\\v2\\aug-_1_5396176.jpg\n",
      "Saved to A:\\Projects\\CollegeProjects\\YogaPartner\\intermediates\\v2\\aug-_20_4439247.jpg\n"
     ]
    },
    {
     "name": "stderr",
     "output_type": "stream",
     "text": [
      "2103it [06:00,  8.91it/s]"
     ]
    },
    {
     "name": "stdout",
     "output_type": "stream",
     "text": [
      "Saved to A:\\Projects\\CollegeProjects\\YogaPartner\\intermediates\\v2\\aug-_21_4522282.jpg\n",
      "Saved to A:\\Projects\\CollegeProjects\\YogaPartner\\intermediates\\v2\\aug-_22_1109715.jpg\n"
     ]
    },
    {
     "name": "stderr",
     "output_type": "stream",
     "text": [
      "2106it [06:00,  9.68it/s]"
     ]
    },
    {
     "name": "stdout",
     "output_type": "stream",
     "text": [
      "Saved to A:\\Projects\\CollegeProjects\\YogaPartner\\intermediates\\v2\\aug-_23_3302879.jpg\n",
      "Saved to A:\\Projects\\CollegeProjects\\YogaPartner\\intermediates\\v2\\aug-_24_250265.jpg\n",
      "Saved to A:\\Projects\\CollegeProjects\\YogaPartner\\intermediates\\v2\\aug-_25_9192199.jpg\n"
     ]
    },
    {
     "name": "stderr",
     "output_type": "stream",
     "text": [
      "2109it [06:01,  9.84it/s]"
     ]
    },
    {
     "name": "stdout",
     "output_type": "stream",
     "text": [
      "Saved to A:\\Projects\\CollegeProjects\\YogaPartner\\intermediates\\v2\\aug-_26_1932690.jpg\n",
      "Saved to A:\\Projects\\CollegeProjects\\YogaPartner\\intermediates\\v2\\aug-_27_4059513.jpg\n",
      "Saved to A:\\Projects\\CollegeProjects\\YogaPartner\\intermediates\\v2\\aug-_28_1184997.jpg\n"
     ]
    },
    {
     "name": "stderr",
     "output_type": "stream",
     "text": [
      "2111it [06:01,  9.64it/s]"
     ]
    },
    {
     "name": "stdout",
     "output_type": "stream",
     "text": [
      "Saved to A:\\Projects\\CollegeProjects\\YogaPartner\\intermediates\\v2\\aug-_29_227959.jpg\n",
      "Saved to A:\\Projects\\CollegeProjects\\YogaPartner\\intermediates\\v2\\aug-_2_300827.jpg\n",
      "Saved to A:\\Projects\\CollegeProjects\\YogaPartner\\intermediates\\v2\\aug-_2_4152905.jpg\n"
     ]
    },
    {
     "name": "stderr",
     "output_type": "stream",
     "text": [
      "2116it [06:01, 12.98it/s]"
     ]
    },
    {
     "name": "stdout",
     "output_type": "stream",
     "text": [
      "Saved to A:\\Projects\\CollegeProjects\\YogaPartner\\intermediates\\v2\\aug-_30_1184692.jpg\n",
      "Saved to A:\\Projects\\CollegeProjects\\YogaPartner\\intermediates\\v2\\aug-_31_7373233.jpg\n",
      "Saved to A:\\Projects\\CollegeProjects\\YogaPartner\\intermediates\\v2\\aug-_32_1545389.jpg\n",
      "Saved to A:\\Projects\\CollegeProjects\\YogaPartner\\intermediates\\v2\\aug-_33_9669028.jpg\n"
     ]
    },
    {
     "name": "stderr",
     "output_type": "stream",
     "text": [
      "\r",
      "2118it [06:01, 11.77it/s]"
     ]
    },
    {
     "name": "stdout",
     "output_type": "stream",
     "text": [
      "Saved to A:\\Projects\\CollegeProjects\\YogaPartner\\intermediates\\v2\\aug-_34_7307028.jpg\n",
      "Saved to A:\\Projects\\CollegeProjects\\YogaPartner\\intermediates\\v2\\aug-_35_3393027.jpg\n",
      "Saved to A:\\Projects\\CollegeProjects\\YogaPartner\\intermediates\\v2\\aug-_36_5049187.jpg\n"
     ]
    },
    {
     "name": "stderr",
     "output_type": "stream",
     "text": [
      "\r",
      "2120it [06:02, 10.91it/s]"
     ]
    },
    {
     "name": "stdout",
     "output_type": "stream",
     "text": [
      "Saved to A:\\Projects\\CollegeProjects\\YogaPartner\\intermediates\\v2\\aug-_37_7414173.jpg\n",
      "Saved to A:\\Projects\\CollegeProjects\\YogaPartner\\intermediates\\v2\\aug-_38_1551744.jpg\n"
     ]
    },
    {
     "name": "stderr",
     "output_type": "stream",
     "text": [
      "2124it [06:02, 10.04it/s]"
     ]
    },
    {
     "name": "stdout",
     "output_type": "stream",
     "text": [
      "Saved to A:\\Projects\\CollegeProjects\\YogaPartner\\intermediates\\v2\\aug-_39_5817631.jpg\n",
      "Saved to A:\\Projects\\CollegeProjects\\YogaPartner\\intermediates\\v2\\aug-_3_7909654.jpg\n",
      "Saved to A:\\Projects\\CollegeProjects\\YogaPartner\\intermediates\\v2\\aug-_3_9434991.jpg\n"
     ]
    },
    {
     "name": "stderr",
     "output_type": "stream",
     "text": [
      "\r",
      "2126it [06:02, 10.37it/s]"
     ]
    },
    {
     "name": "stdout",
     "output_type": "stream",
     "text": [
      "Saved to A:\\Projects\\CollegeProjects\\YogaPartner\\intermediates\\v2\\aug-_40_759031.jpg\n",
      "Saved to A:\\Projects\\CollegeProjects\\YogaPartner\\intermediates\\v2\\aug-_41_493473.jpg\n"
     ]
    },
    {
     "name": "stderr",
     "output_type": "stream",
     "text": [
      "\r",
      "2128it [06:02, 10.14it/s]"
     ]
    },
    {
     "name": "stdout",
     "output_type": "stream",
     "text": [
      "Saved to A:\\Projects\\CollegeProjects\\YogaPartner\\intermediates\\v2\\aug-_42_8539587.jpg\n",
      "Saved to A:\\Projects\\CollegeProjects\\YogaPartner\\intermediates\\v2\\aug-_43_1817123.jpg\n",
      "Saved to A:\\Projects\\CollegeProjects\\YogaPartner\\intermediates\\v2\\aug-_44_5909529.jpg\n"
     ]
    },
    {
     "name": "stderr",
     "output_type": "stream",
     "text": [
      "2132it [06:03, 10.87it/s]"
     ]
    },
    {
     "name": "stdout",
     "output_type": "stream",
     "text": [
      "Saved to A:\\Projects\\CollegeProjects\\YogaPartner\\intermediates\\v2\\aug-_45_6193327.jpg\n",
      "Saved to A:\\Projects\\CollegeProjects\\YogaPartner\\intermediates\\v2\\aug-_46_8548429.jpg\n",
      "Saved to A:\\Projects\\CollegeProjects\\YogaPartner\\intermediates\\v2\\aug-_47_6843257.jpg\n"
     ]
    },
    {
     "name": "stderr",
     "output_type": "stream",
     "text": [
      "\r",
      "2134it [06:03, 11.49it/s]"
     ]
    },
    {
     "name": "stdout",
     "output_type": "stream",
     "text": [
      "Saved to A:\\Projects\\CollegeProjects\\YogaPartner\\intermediates\\v2\\aug-_48_7824670.jpg\n",
      "Saved to A:\\Projects\\CollegeProjects\\YogaPartner\\intermediates\\v2\\aug-_49_9032860.jpg\n",
      "Saved to A:\\Projects\\CollegeProjects\\YogaPartner\\intermediates\\v2\\aug-_4_2456008.jpg\n"
     ]
    },
    {
     "name": "stderr",
     "output_type": "stream",
     "text": [
      "\r",
      "2136it [06:03, 11.10it/s]"
     ]
    },
    {
     "name": "stdout",
     "output_type": "stream",
     "text": [
      "Saved to A:\\Projects\\CollegeProjects\\YogaPartner\\intermediates\\v2\\aug-_4_6261854.jpg\n",
      "Saved to A:\\Projects\\CollegeProjects\\YogaPartner\\intermediates\\v2\\aug-_50_6753818.jpg\n"
     ]
    },
    {
     "name": "stderr",
     "output_type": "stream",
     "text": [
      "2140it [06:03, 11.21it/s]"
     ]
    },
    {
     "name": "stdout",
     "output_type": "stream",
     "text": [
      "Saved to A:\\Projects\\CollegeProjects\\YogaPartner\\intermediates\\v2\\aug-_51_7580996.jpg\n",
      "Saved to A:\\Projects\\CollegeProjects\\YogaPartner\\intermediates\\v2\\aug-_52_5396503.jpg\n",
      "Saved to A:\\Projects\\CollegeProjects\\YogaPartner\\intermediates\\v2\\aug-_53_4262693.jpg\n"
     ]
    },
    {
     "name": "stderr",
     "output_type": "stream",
     "text": [
      "\r",
      "2142it [06:04, 11.18it/s]"
     ]
    },
    {
     "name": "stdout",
     "output_type": "stream",
     "text": [
      "Saved to A:\\Projects\\CollegeProjects\\YogaPartner\\intermediates\\v2\\aug-_54_7347877.jpg\n",
      "Saved to A:\\Projects\\CollegeProjects\\YogaPartner\\intermediates\\v2\\aug-_55_7676931.jpg\n"
     ]
    },
    {
     "name": "stderr",
     "output_type": "stream",
     "text": [
      "\r",
      "2144it [06:04, 11.60it/s]"
     ]
    },
    {
     "name": "stdout",
     "output_type": "stream",
     "text": [
      "Saved to A:\\Projects\\CollegeProjects\\YogaPartner\\intermediates\\v2\\aug-_56_4848752.jpg\n",
      "Saved to A:\\Projects\\CollegeProjects\\YogaPartner\\intermediates\\v2\\aug-_57_425462.jpg\n",
      "Saved to A:\\Projects\\CollegeProjects\\YogaPartner\\intermediates\\v2\\aug-_58_8011132.jpg\n"
     ]
    },
    {
     "name": "stderr",
     "output_type": "stream",
     "text": [
      "2148it [06:04, 10.94it/s]"
     ]
    },
    {
     "name": "stdout",
     "output_type": "stream",
     "text": [
      "Saved to A:\\Projects\\CollegeProjects\\YogaPartner\\intermediates\\v2\\aug-_59_7060980.jpg\n",
      "Saved to A:\\Projects\\CollegeProjects\\YogaPartner\\intermediates\\v2\\aug-_5_2585820.jpg\n",
      "Saved to A:\\Projects\\CollegeProjects\\YogaPartner\\intermediates\\v2\\aug-_5_8976585.jpg\n"
     ]
    },
    {
     "name": "stderr",
     "output_type": "stream",
     "text": [
      "\r",
      "2150it [06:04, 10.60it/s]"
     ]
    },
    {
     "name": "stdout",
     "output_type": "stream",
     "text": [
      "Saved to A:\\Projects\\CollegeProjects\\YogaPartner\\intermediates\\v2\\aug-_60_3555169.jpg\n",
      "Saved to A:\\Projects\\CollegeProjects\\YogaPartner\\intermediates\\v2\\aug-_61_2303737.jpg\n",
      "Saved to A:\\Projects\\CollegeProjects\\YogaPartner\\intermediates\\v2\\aug-_62_8707094.jpg\n"
     ]
    },
    {
     "name": "stderr",
     "output_type": "stream",
     "text": [
      "\r",
      "2152it [06:05, 10.91it/s]"
     ]
    },
    {
     "name": "stdout",
     "output_type": "stream",
     "text": [
      "Saved to A:\\Projects\\CollegeProjects\\YogaPartner\\intermediates\\v2\\aug-_63_834746.jpg\n",
      "Saved to A:\\Projects\\CollegeProjects\\YogaPartner\\intermediates\\v2\\aug-_64_6039130.jpg\n"
     ]
    },
    {
     "name": "stderr",
     "output_type": "stream",
     "text": [
      "\r",
      "2154it [06:05,  9.71it/s]"
     ]
    },
    {
     "name": "stdout",
     "output_type": "stream",
     "text": [
      "Saved to A:\\Projects\\CollegeProjects\\YogaPartner\\intermediates\\v2\\aug-_65_8390624.jpg\n",
      "Saved to A:\\Projects\\CollegeProjects\\YogaPartner\\intermediates\\v2\\aug-_66_3852558.jpg\n"
     ]
    },
    {
     "name": "stderr",
     "output_type": "stream",
     "text": [
      "2158it [06:05, 10.82it/s]"
     ]
    },
    {
     "name": "stdout",
     "output_type": "stream",
     "text": [
      "Saved to A:\\Projects\\CollegeProjects\\YogaPartner\\intermediates\\v2\\aug-_67_2674277.jpg\n",
      "Saved to A:\\Projects\\CollegeProjects\\YogaPartner\\intermediates\\v2\\aug-_68_9346663.jpg\n",
      "Saved to A:\\Projects\\CollegeProjects\\YogaPartner\\intermediates\\v2\\aug-_69_6011002.jpg\n"
     ]
    },
    {
     "name": "stderr",
     "output_type": "stream",
     "text": [
      "\r",
      "2160it [06:05, 10.67it/s]"
     ]
    },
    {
     "name": "stdout",
     "output_type": "stream",
     "text": [
      "Saved to A:\\Projects\\CollegeProjects\\YogaPartner\\intermediates\\v2\\aug-_6_3296330.jpg\n",
      "Saved to A:\\Projects\\CollegeProjects\\YogaPartner\\intermediates\\v2\\aug-_6_3397736.jpg\n",
      "Saved to A:\\Projects\\CollegeProjects\\YogaPartner\\intermediates\\v2\\aug-_70_5329418.jpg\n"
     ]
    },
    {
     "name": "stderr",
     "output_type": "stream",
     "text": [
      "2164it [06:06, 10.45it/s]"
     ]
    },
    {
     "name": "stdout",
     "output_type": "stream",
     "text": [
      "Saved to A:\\Projects\\CollegeProjects\\YogaPartner\\intermediates\\v2\\aug-_71_4024491.jpg\n",
      "Saved to A:\\Projects\\CollegeProjects\\YogaPartner\\intermediates\\v2\\aug-_72_2017431.jpg\n",
      "Saved to A:\\Projects\\CollegeProjects\\YogaPartner\\intermediates\\v2\\aug-_73_9018402.jpg\n"
     ]
    },
    {
     "name": "stderr",
     "output_type": "stream",
     "text": [
      "\r",
      "2166it [06:06, 10.50it/s]"
     ]
    },
    {
     "name": "stdout",
     "output_type": "stream",
     "text": [
      "Saved to A:\\Projects\\CollegeProjects\\YogaPartner\\intermediates\\v2\\aug-_74_9696981.jpg\n",
      "Saved to A:\\Projects\\CollegeProjects\\YogaPartner\\intermediates\\v2\\aug-_75_8385353.jpg\n",
      "Saved to A:\\Projects\\CollegeProjects\\YogaPartner\\intermediates\\v2\\aug-_76_6312743.jpg\n"
     ]
    },
    {
     "name": "stderr",
     "output_type": "stream",
     "text": [
      "2170it [06:06, 11.27it/s]"
     ]
    },
    {
     "name": "stdout",
     "output_type": "stream",
     "text": [
      "Saved to A:\\Projects\\CollegeProjects\\YogaPartner\\intermediates\\v2\\aug-_77_2948808.jpg\n",
      "Saved to A:\\Projects\\CollegeProjects\\YogaPartner\\intermediates\\v2\\aug-_78_7124591.jpg\n",
      "Saved to A:\\Projects\\CollegeProjects\\YogaPartner\\intermediates\\v2\\aug-_79_7354182.jpg\n"
     ]
    },
    {
     "name": "stderr",
     "output_type": "stream",
     "text": [
      "\r",
      "2172it [06:07, 10.84it/s]"
     ]
    },
    {
     "name": "stdout",
     "output_type": "stream",
     "text": [
      "Saved to A:\\Projects\\CollegeProjects\\YogaPartner\\intermediates\\v2\\aug-_7_2083832.jpg\n",
      "Saved to A:\\Projects\\CollegeProjects\\YogaPartner\\intermediates\\v2\\aug-_7_343833.jpg\n",
      "Saved to A:\\Projects\\CollegeProjects\\YogaPartner\\intermediates\\v2\\aug-_80_8278472.jpg\n"
     ]
    },
    {
     "name": "stderr",
     "output_type": "stream",
     "text": [
      "2176it [06:07, 11.47it/s]"
     ]
    },
    {
     "name": "stdout",
     "output_type": "stream",
     "text": [
      "Saved to A:\\Projects\\CollegeProjects\\YogaPartner\\intermediates\\v2\\aug-_81_3809809.jpg\n",
      "Saved to A:\\Projects\\CollegeProjects\\YogaPartner\\intermediates\\v2\\aug-_82_9285993.jpg\n",
      "Saved to A:\\Projects\\CollegeProjects\\YogaPartner\\intermediates\\v2\\aug-_83_254192.jpg\n"
     ]
    },
    {
     "name": "stderr",
     "output_type": "stream",
     "text": [
      "\r",
      "2178it [06:07, 11.00it/s]"
     ]
    },
    {
     "name": "stdout",
     "output_type": "stream",
     "text": [
      "Saved to A:\\Projects\\CollegeProjects\\YogaPartner\\intermediates\\v2\\aug-_84_9769959.jpg\n",
      "Saved to A:\\Projects\\CollegeProjects\\YogaPartner\\intermediates\\v2\\aug-_85_9118077.jpg\n",
      "Saved to A:\\Projects\\CollegeProjects\\YogaPartner\\intermediates\\v2\\aug-_86_4943678.jpg\n"
     ]
    },
    {
     "name": "stderr",
     "output_type": "stream",
     "text": [
      "\r",
      "2180it [06:07, 10.86it/s]"
     ]
    },
    {
     "name": "stdout",
     "output_type": "stream",
     "text": [
      "Saved to A:\\Projects\\CollegeProjects\\YogaPartner\\intermediates\\v2\\aug-_87_3883423.jpg\n",
      "Saved to A:\\Projects\\CollegeProjects\\YogaPartner\\intermediates\\v2\\aug-_88_9313273.jpg\n"
     ]
    },
    {
     "name": "stderr",
     "output_type": "stream",
     "text": [
      "2184it [06:08, 10.17it/s]"
     ]
    },
    {
     "name": "stdout",
     "output_type": "stream",
     "text": [
      "Saved to A:\\Projects\\CollegeProjects\\YogaPartner\\intermediates\\v2\\aug-_89_8523747.jpg\n",
      "Saved to A:\\Projects\\CollegeProjects\\YogaPartner\\intermediates\\v2\\aug-_8_2322171.jpg\n",
      "Saved to A:\\Projects\\CollegeProjects\\YogaPartner\\intermediates\\v2\\aug-_8_6363500.jpg\n"
     ]
    },
    {
     "name": "stderr",
     "output_type": "stream",
     "text": [
      "\r",
      "2186it [06:08,  9.64it/s]"
     ]
    },
    {
     "name": "stdout",
     "output_type": "stream",
     "text": [
      "Saved to A:\\Projects\\CollegeProjects\\YogaPartner\\intermediates\\v2\\aug-_90_7953432.jpg\n",
      "Saved to A:\\Projects\\CollegeProjects\\YogaPartner\\intermediates\\v2\\aug-_91_3244725.jpg\n"
     ]
    },
    {
     "name": "stderr",
     "output_type": "stream",
     "text": [
      "2189it [06:08,  9.94it/s]"
     ]
    },
    {
     "name": "stdout",
     "output_type": "stream",
     "text": [
      "Saved to A:\\Projects\\CollegeProjects\\YogaPartner\\intermediates\\v2\\aug-_92_616930.jpg\n",
      "Saved to A:\\Projects\\CollegeProjects\\YogaPartner\\intermediates\\v2\\aug-_93_2172865.jpg\n",
      "Saved to A:\\Projects\\CollegeProjects\\YogaPartner\\intermediates\\v2\\aug-_94_3142336.jpg\n"
     ]
    },
    {
     "name": "stderr",
     "output_type": "stream",
     "text": [
      "\r",
      "2190it [06:08,  9.77it/s]"
     ]
    },
    {
     "name": "stdout",
     "output_type": "stream",
     "text": [
      "Saved to A:\\Projects\\CollegeProjects\\YogaPartner\\intermediates\\v2\\aug-_95_724659.jpg\n",
      "Saved to A:\\Projects\\CollegeProjects\\YogaPartner\\intermediates\\v2\\aug-_96_4812749.jpg\n"
     ]
    },
    {
     "name": "stderr",
     "output_type": "stream",
     "text": [
      "2193it [06:09,  9.29it/s]"
     ]
    },
    {
     "name": "stdout",
     "output_type": "stream",
     "text": [
      "Saved to A:\\Projects\\CollegeProjects\\YogaPartner\\intermediates\\v2\\aug-_97_4145710.jpg\n",
      "Saved to A:\\Projects\\CollegeProjects\\YogaPartner\\intermediates\\v2\\aug-_98_6866279.jpg\n"
     ]
    },
    {
     "name": "stderr",
     "output_type": "stream",
     "text": [
      "2196it [06:09,  9.63it/s]"
     ]
    },
    {
     "name": "stdout",
     "output_type": "stream",
     "text": [
      "Saved to A:\\Projects\\CollegeProjects\\YogaPartner\\intermediates\\v2\\aug-_99_4956306.jpg\n",
      "Saved to A:\\Projects\\CollegeProjects\\YogaPartner\\intermediates\\v2\\aug-_9_5738593.jpg\n",
      "Saved to A:\\Projects\\CollegeProjects\\YogaPartner\\intermediates\\v2\\aug-_9_8429791.jpg\n"
     ]
    },
    {
     "name": "stderr",
     "output_type": "stream",
     "text": [
      "2199it [06:09, 10.37it/s]"
     ]
    },
    {
     "name": "stdout",
     "output_type": "stream",
     "text": [
      "Saved to A:\\Projects\\CollegeProjects\\YogaPartner\\intermediates\\v2\\aug-_0_5555338.jpg\n",
      "Saved to A:\\Projects\\CollegeProjects\\YogaPartner\\intermediates\\v2\\aug-_0_6484652.jpg\n",
      "Saved to A:\\Projects\\CollegeProjects\\YogaPartner\\intermediates\\v2\\aug-_0_6614412.jpg\n"
     ]
    },
    {
     "name": "stderr",
     "output_type": "stream",
     "text": [
      "\r",
      "2201it [06:09, 10.25it/s]"
     ]
    },
    {
     "name": "stdout",
     "output_type": "stream",
     "text": [
      "Saved to A:\\Projects\\CollegeProjects\\YogaPartner\\intermediates\\v2\\aug-_0_8349312.jpg\n",
      "Saved to A:\\Projects\\CollegeProjects\\YogaPartner\\intermediates\\v2\\aug-_10_1580253.jpg\n",
      "Saved to A:\\Projects\\CollegeProjects\\YogaPartner\\intermediates\\v2\\aug-_10_2938446.jpg\n"
     ]
    },
    {
     "name": "stderr",
     "output_type": "stream",
     "text": [
      "\r",
      "2203it [06:10, 10.60it/s]"
     ]
    },
    {
     "name": "stdout",
     "output_type": "stream",
     "text": [
      "Saved to A:\\Projects\\CollegeProjects\\YogaPartner\\intermediates\\v2\\aug-_10_460907.jpg\n",
      "Saved to A:\\Projects\\CollegeProjects\\YogaPartner\\intermediates\\v2\\aug-_10_606028.jpg\n"
     ]
    },
    {
     "name": "stderr",
     "output_type": "stream",
     "text": [
      "\r",
      "2205it [06:10, 10.21it/s]"
     ]
    },
    {
     "name": "stdout",
     "output_type": "stream",
     "text": [
      "Saved to A:\\Projects\\CollegeProjects\\YogaPartner\\intermediates\\v2\\aug-_11_1969900.jpg\n",
      "Saved to A:\\Projects\\CollegeProjects\\YogaPartner\\intermediates\\v2\\aug-_11_2688257.jpg\n"
     ]
    },
    {
     "name": "stderr",
     "output_type": "stream",
     "text": [
      "2208it [06:10,  9.35it/s]"
     ]
    },
    {
     "name": "stdout",
     "output_type": "stream",
     "text": [
      "Saved to A:\\Projects\\CollegeProjects\\YogaPartner\\intermediates\\v2\\aug-_11_8085333.jpg\n",
      "Saved to A:\\Projects\\CollegeProjects\\YogaPartner\\intermediates\\v2\\aug-_11_8637223.jpg\n"
     ]
    },
    {
     "name": "stderr",
     "output_type": "stream",
     "text": [
      "\r",
      "2210it [06:10,  9.72it/s]"
     ]
    },
    {
     "name": "stdout",
     "output_type": "stream",
     "text": [
      "Saved to A:\\Projects\\CollegeProjects\\YogaPartner\\intermediates\\v2\\aug-_12_3765498.jpg\n",
      "Saved to A:\\Projects\\CollegeProjects\\YogaPartner\\intermediates\\v2\\aug-_12_3880616.jpg\n",
      "Saved to A:\\Projects\\CollegeProjects\\YogaPartner\\intermediates\\v2\\aug-_12_8129167.jpg\n"
     ]
    },
    {
     "name": "stderr",
     "output_type": "stream",
     "text": [
      "2214it [06:11, 11.49it/s]"
     ]
    },
    {
     "name": "stdout",
     "output_type": "stream",
     "text": [
      "Saved to A:\\Projects\\CollegeProjects\\YogaPartner\\intermediates\\v2\\aug-_12_8353542.jpg\n",
      "Saved to A:\\Projects\\CollegeProjects\\YogaPartner\\intermediates\\v2\\aug-_13_244756.jpg\n",
      "Saved to A:\\Projects\\CollegeProjects\\YogaPartner\\intermediates\\v2\\aug-_13_3494910.jpg\n"
     ]
    },
    {
     "name": "stderr",
     "output_type": "stream",
     "text": [
      "\r",
      "2216it [06:11, 12.24it/s]"
     ]
    },
    {
     "name": "stdout",
     "output_type": "stream",
     "text": [
      "Saved to A:\\Projects\\CollegeProjects\\YogaPartner\\intermediates\\v2\\aug-_13_4156371.jpg\n",
      "Saved to A:\\Projects\\CollegeProjects\\YogaPartner\\intermediates\\v2\\aug-_13_8876823.jpg\n",
      "Saved to A:\\Projects\\CollegeProjects\\YogaPartner\\intermediates\\v2\\aug-_14_395032.jpg\n"
     ]
    },
    {
     "name": "stderr",
     "output_type": "stream",
     "text": [
      "2220it [06:11, 11.33it/s]"
     ]
    },
    {
     "name": "stdout",
     "output_type": "stream",
     "text": [
      "Saved to A:\\Projects\\CollegeProjects\\YogaPartner\\intermediates\\v2\\aug-_14_5591313.jpg\n",
      "Saved to A:\\Projects\\CollegeProjects\\YogaPartner\\intermediates\\v2\\aug-_14_7232833.jpg\n",
      "Saved to A:\\Projects\\CollegeProjects\\YogaPartner\\intermediates\\v2\\aug-_14_7333195.jpg\n"
     ]
    },
    {
     "name": "stderr",
     "output_type": "stream",
     "text": [
      "\r",
      "2222it [06:11, 10.15it/s]"
     ]
    },
    {
     "name": "stdout",
     "output_type": "stream",
     "text": [
      "Saved to A:\\Projects\\CollegeProjects\\YogaPartner\\intermediates\\v2\\aug-_15_3116522.jpg\n",
      "Saved to A:\\Projects\\CollegeProjects\\YogaPartner\\intermediates\\v2\\aug-_15_4588818.jpg\n"
     ]
    },
    {
     "name": "stderr",
     "output_type": "stream",
     "text": [
      "\r",
      "2224it [06:12, 10.06it/s]"
     ]
    },
    {
     "name": "stdout",
     "output_type": "stream",
     "text": [
      "Saved to A:\\Projects\\CollegeProjects\\YogaPartner\\intermediates\\v2\\aug-_15_841908.jpg\n",
      "Saved to A:\\Projects\\CollegeProjects\\YogaPartner\\intermediates\\v2\\aug-_15_8616502.jpg\n",
      "Saved to A:\\Projects\\CollegeProjects\\YogaPartner\\intermediates\\v2\\aug-_16_1075439.jpg\n"
     ]
    },
    {
     "name": "stderr",
     "output_type": "stream",
     "text": [
      "2227it [06:12,  9.40it/s]"
     ]
    },
    {
     "name": "stdout",
     "output_type": "stream",
     "text": [
      "Saved to A:\\Projects\\CollegeProjects\\YogaPartner\\intermediates\\v2\\aug-_16_2736731.jpg\n",
      "Saved to A:\\Projects\\CollegeProjects\\YogaPartner\\intermediates\\v2\\aug-_16_5034400.jpg\n"
     ]
    },
    {
     "name": "stderr",
     "output_type": "stream",
     "text": [
      "2230it [06:12,  9.65it/s]"
     ]
    },
    {
     "name": "stdout",
     "output_type": "stream",
     "text": [
      "Saved to A:\\Projects\\CollegeProjects\\YogaPartner\\intermediates\\v2\\aug-_16_813624.jpg\n",
      "Saved to A:\\Projects\\CollegeProjects\\YogaPartner\\intermediates\\v2\\aug-_17_2359472.jpg\n",
      "Saved to A:\\Projects\\CollegeProjects\\YogaPartner\\intermediates\\v2\\aug-_17_4355738.jpg\n"
     ]
    },
    {
     "name": "stderr",
     "output_type": "stream",
     "text": [
      "2232it [06:13,  8.92it/s]"
     ]
    },
    {
     "name": "stdout",
     "output_type": "stream",
     "text": [
      "Saved to A:\\Projects\\CollegeProjects\\YogaPartner\\intermediates\\v2\\aug-_17_454442.jpg\n",
      "Saved to A:\\Projects\\CollegeProjects\\YogaPartner\\intermediates\\v2\\aug-_17_9703725.jpg\n"
     ]
    },
    {
     "name": "stderr",
     "output_type": "stream",
     "text": [
      "2234it [06:13,  8.44it/s]"
     ]
    },
    {
     "name": "stdout",
     "output_type": "stream",
     "text": [
      "Saved to A:\\Projects\\CollegeProjects\\YogaPartner\\intermediates\\v2\\aug-_18_2377412.jpg\n",
      "Saved to A:\\Projects\\CollegeProjects\\YogaPartner\\intermediates\\v2\\aug-_18_4976715.jpg\n"
     ]
    },
    {
     "name": "stderr",
     "output_type": "stream",
     "text": [
      "2236it [06:13,  8.20it/s]"
     ]
    },
    {
     "name": "stdout",
     "output_type": "stream",
     "text": [
      "Saved to A:\\Projects\\CollegeProjects\\YogaPartner\\intermediates\\v2\\aug-_18_5428260.jpg\n",
      "Saved to A:\\Projects\\CollegeProjects\\YogaPartner\\intermediates\\v2\\aug-_18_6562796.jpg\n",
      "Saved to A:\\Projects\\CollegeProjects\\YogaPartner\\intermediates\\v2\\aug-_19_12077.jpg\n"
     ]
    },
    {
     "name": "stderr",
     "output_type": "stream",
     "text": [
      "2240it [06:13, 12.17it/s]"
     ]
    },
    {
     "name": "stdout",
     "output_type": "stream",
     "text": [
      "Saved to A:\\Projects\\CollegeProjects\\YogaPartner\\intermediates\\v2\\aug-_19_5082299.jpg\n",
      "Saved to A:\\Projects\\CollegeProjects\\YogaPartner\\intermediates\\v2\\aug-_19_7504497.jpg\n",
      "Saved to A:\\Projects\\CollegeProjects\\YogaPartner\\intermediates\\v2\\aug-_19_804736.jpg\n",
      "Saved to A:\\Projects\\CollegeProjects\\YogaPartner\\intermediates\\v2\\aug-_1_2178455.jpg\n"
     ]
    },
    {
     "name": "stderr",
     "output_type": "stream",
     "text": [
      "\r",
      "2242it [06:13, 11.75it/s]"
     ]
    },
    {
     "name": "stdout",
     "output_type": "stream",
     "text": [
      "Saved to A:\\Projects\\CollegeProjects\\YogaPartner\\intermediates\\v2\\aug-_1_2885459.jpg\n",
      "Saved to A:\\Projects\\CollegeProjects\\YogaPartner\\intermediates\\v2\\aug-_1_4859326.jpg\n"
     ]
    },
    {
     "name": "stderr",
     "output_type": "stream",
     "text": [
      "2246it [06:14, 10.81it/s]"
     ]
    },
    {
     "name": "stdout",
     "output_type": "stream",
     "text": [
      "Saved to A:\\Projects\\CollegeProjects\\YogaPartner\\intermediates\\v2\\aug-_1_6282576.jpg\n",
      "Saved to A:\\Projects\\CollegeProjects\\YogaPartner\\intermediates\\v2\\aug-_20_3240958.jpg\n",
      "Saved to A:\\Projects\\CollegeProjects\\YogaPartner\\intermediates\\v2\\aug-_20_3937487.jpg\n"
     ]
    },
    {
     "name": "stderr",
     "output_type": "stream",
     "text": [
      "\r",
      "2248it [06:14, 10.69it/s]"
     ]
    },
    {
     "name": "stdout",
     "output_type": "stream",
     "text": [
      "Saved to A:\\Projects\\CollegeProjects\\YogaPartner\\intermediates\\v2\\aug-_20_4990479.jpg\n",
      "Saved to A:\\Projects\\CollegeProjects\\YogaPartner\\intermediates\\v2\\aug-_20_8045387.jpg\n",
      "Saved to A:\\Projects\\CollegeProjects\\YogaPartner\\intermediates\\v2\\aug-_21_50552.jpg\n"
     ]
    },
    {
     "name": "stderr",
     "output_type": "stream",
     "text": [
      "2252it [06:14, 11.71it/s]"
     ]
    },
    {
     "name": "stdout",
     "output_type": "stream",
     "text": [
      "Saved to A:\\Projects\\CollegeProjects\\YogaPartner\\intermediates\\v2\\aug-_21_7751671.jpg\n",
      "Saved to A:\\Projects\\CollegeProjects\\YogaPartner\\intermediates\\v2\\aug-_21_9005511.jpg\n",
      "Saved to A:\\Projects\\CollegeProjects\\YogaPartner\\intermediates\\v2\\aug-_21_9897711.jpg\n"
     ]
    },
    {
     "name": "stderr",
     "output_type": "stream",
     "text": [
      "\r",
      "2254it [06:15, 11.23it/s]"
     ]
    },
    {
     "name": "stdout",
     "output_type": "stream",
     "text": [
      "Saved to A:\\Projects\\CollegeProjects\\YogaPartner\\intermediates\\v2\\aug-_22_4516522.jpg\n",
      "Saved to A:\\Projects\\CollegeProjects\\YogaPartner\\intermediates\\v2\\aug-_22_5321400.jpg\n",
      "Saved to A:\\Projects\\CollegeProjects\\YogaPartner\\intermediates\\v2\\aug-_22_6378131.jpg\n",
      "Saved to A:\\Projects\\CollegeProjects\\YogaPartner\\intermediates\\v2\\aug-_22_8138348.jpg\n"
     ]
    },
    {
     "name": "stderr",
     "output_type": "stream",
     "text": [
      "2259it [06:15, 11.99it/s]"
     ]
    },
    {
     "name": "stdout",
     "output_type": "stream",
     "text": [
      "Saved to A:\\Projects\\CollegeProjects\\YogaPartner\\intermediates\\v2\\aug-_23_2850721.jpg\n",
      "Saved to A:\\Projects\\CollegeProjects\\YogaPartner\\intermediates\\v2\\aug-_23_3780637.jpg\n",
      "Saved to A:\\Projects\\CollegeProjects\\YogaPartner\\intermediates\\v2\\aug-_23_579795.jpg\n"
     ]
    },
    {
     "name": "stderr",
     "output_type": "stream",
     "text": [
      "2263it [06:15, 12.91it/s]"
     ]
    },
    {
     "name": "stdout",
     "output_type": "stream",
     "text": [
      "Saved to A:\\Projects\\CollegeProjects\\YogaPartner\\intermediates\\v2\\aug-_23_5926122.jpg\n",
      "Saved to A:\\Projects\\CollegeProjects\\YogaPartner\\intermediates\\v2\\aug-_24_1678783.jpg\n",
      "Saved to A:\\Projects\\CollegeProjects\\YogaPartner\\intermediates\\v2\\aug-_24_4105818.jpg\n",
      "Saved to A:\\Projects\\CollegeProjects\\YogaPartner\\intermediates\\v2\\aug-_24_4175100.jpg\n"
     ]
    },
    {
     "name": "stderr",
     "output_type": "stream",
     "text": [
      "\r",
      "2265it [06:15, 12.24it/s]"
     ]
    },
    {
     "name": "stdout",
     "output_type": "stream",
     "text": [
      "Saved to A:\\Projects\\CollegeProjects\\YogaPartner\\intermediates\\v2\\aug-_24_7969127.jpg\n",
      "Saved to A:\\Projects\\CollegeProjects\\YogaPartner\\intermediates\\v2\\aug-_25_2223532.jpg\n",
      "Saved to A:\\Projects\\CollegeProjects\\YogaPartner\\intermediates\\v2\\aug-_25_2389714.jpg\n"
     ]
    },
    {
     "name": "stderr",
     "output_type": "stream",
     "text": [
      "2269it [06:16, 11.63it/s]"
     ]
    },
    {
     "name": "stdout",
     "output_type": "stream",
     "text": [
      "Saved to A:\\Projects\\CollegeProjects\\YogaPartner\\intermediates\\v2\\aug-_25_2707445.jpg\n",
      "Saved to A:\\Projects\\CollegeProjects\\YogaPartner\\intermediates\\v2\\aug-_25_7701836.jpg\n",
      "Saved to A:\\Projects\\CollegeProjects\\YogaPartner\\intermediates\\v2\\aug-_26_3794271.jpg\n"
     ]
    },
    {
     "name": "stderr",
     "output_type": "stream",
     "text": [
      "\r",
      "2271it [06:16, 12.78it/s]"
     ]
    },
    {
     "name": "stdout",
     "output_type": "stream",
     "text": [
      "Saved to A:\\Projects\\CollegeProjects\\YogaPartner\\intermediates\\v2\\aug-_26_4094990.jpg\n",
      "Saved to A:\\Projects\\CollegeProjects\\YogaPartner\\intermediates\\v2\\aug-_26_5467936.jpg\n"
     ]
    },
    {
     "name": "stderr",
     "output_type": "stream",
     "text": [
      "\r",
      "2273it [06:16,  7.18it/s]"
     ]
    },
    {
     "name": "stdout",
     "output_type": "stream",
     "text": [
      "Saved to A:\\Projects\\CollegeProjects\\YogaPartner\\intermediates\\v2\\aug-_26_5785926.jpg\n",
      "Saved to A:\\Projects\\CollegeProjects\\YogaPartner\\intermediates\\v2\\aug-_27_1027475.jpg\n",
      "Saved to A:\\Projects\\CollegeProjects\\YogaPartner\\intermediates\\v2\\aug-_27_1531413.jpg\n"
     ]
    },
    {
     "name": "stderr",
     "output_type": "stream",
     "text": [
      "2276it [06:17,  7.67it/s]"
     ]
    },
    {
     "name": "stdout",
     "output_type": "stream",
     "text": [
      "Saved to A:\\Projects\\CollegeProjects\\YogaPartner\\intermediates\\v2\\aug-_27_4347897.jpg\n",
      "Saved to A:\\Projects\\CollegeProjects\\YogaPartner\\intermediates\\v2\\aug-_27_9206378.jpg\n"
     ]
    },
    {
     "name": "stderr",
     "output_type": "stream",
     "text": [
      "2279it [06:17,  8.60it/s]"
     ]
    },
    {
     "name": "stdout",
     "output_type": "stream",
     "text": [
      "Saved to A:\\Projects\\CollegeProjects\\YogaPartner\\intermediates\\v2\\aug-_28_4165438.jpg\n",
      "Saved to A:\\Projects\\CollegeProjects\\YogaPartner\\intermediates\\v2\\aug-_28_5091420.jpg\n",
      "Saved to A:\\Projects\\CollegeProjects\\YogaPartner\\intermediates\\v2\\aug-_28_7491956.jpg\n"
     ]
    },
    {
     "name": "stderr",
     "output_type": "stream",
     "text": [
      "2282it [06:17, 10.19it/s]"
     ]
    },
    {
     "name": "stdout",
     "output_type": "stream",
     "text": [
      "Saved to A:\\Projects\\CollegeProjects\\YogaPartner\\intermediates\\v2\\aug-_28_8208767.jpg\n",
      "Saved to A:\\Projects\\CollegeProjects\\YogaPartner\\intermediates\\v2\\aug-_29_5666833.jpg\n",
      "Saved to A:\\Projects\\CollegeProjects\\YogaPartner\\intermediates\\v2\\aug-_29_7815223.jpg\n"
     ]
    },
    {
     "name": "stderr",
     "output_type": "stream",
     "text": [
      "\r",
      "2284it [06:18, 10.69it/s]"
     ]
    },
    {
     "name": "stdout",
     "output_type": "stream",
     "text": [
      "Saved to A:\\Projects\\CollegeProjects\\YogaPartner\\intermediates\\v2\\aug-_29_8395267.jpg\n",
      "Saved to A:\\Projects\\CollegeProjects\\YogaPartner\\intermediates\\v2\\aug-_29_9396285.jpg\n",
      "Saved to A:\\Projects\\CollegeProjects\\YogaPartner\\intermediates\\v2\\aug-_2_2503711.jpg\n"
     ]
    },
    {
     "name": "stderr",
     "output_type": "stream",
     "text": [
      "2288it [06:18, 11.33it/s]"
     ]
    },
    {
     "name": "stdout",
     "output_type": "stream",
     "text": [
      "Saved to A:\\Projects\\CollegeProjects\\YogaPartner\\intermediates\\v2\\aug-_2_7496131.jpg\n",
      "Saved to A:\\Projects\\CollegeProjects\\YogaPartner\\intermediates\\v2\\aug-_2_9492651.jpg\n",
      "Saved to A:\\Projects\\CollegeProjects\\YogaPartner\\intermediates\\v2\\aug-_2_9510870.jpg\n"
     ]
    },
    {
     "name": "stderr",
     "output_type": "stream",
     "text": [
      "\r",
      "2290it [06:18, 11.36it/s]"
     ]
    },
    {
     "name": "stdout",
     "output_type": "stream",
     "text": [
      "Saved to A:\\Projects\\CollegeProjects\\YogaPartner\\intermediates\\v2\\aug-_30_3586240.jpg\n",
      "Saved to A:\\Projects\\CollegeProjects\\YogaPartner\\intermediates\\v2\\aug-_30_3881447.jpg\n",
      "Saved to A:\\Projects\\CollegeProjects\\YogaPartner\\intermediates\\v2\\aug-_30_6561018.jpg\n"
     ]
    },
    {
     "name": "stderr",
     "output_type": "stream",
     "text": [
      "2294it [06:18, 11.20it/s]"
     ]
    },
    {
     "name": "stdout",
     "output_type": "stream",
     "text": [
      "Saved to A:\\Projects\\CollegeProjects\\YogaPartner\\intermediates\\v2\\aug-_30_7044255.jpg\n",
      "Saved to A:\\Projects\\CollegeProjects\\YogaPartner\\intermediates\\v2\\aug-_31_2034639.jpg\n",
      "Saved to A:\\Projects\\CollegeProjects\\YogaPartner\\intermediates\\v2\\aug-_31_3961677.jpg\n"
     ]
    },
    {
     "name": "stderr",
     "output_type": "stream",
     "text": [
      "\r",
      "2296it [06:19, 11.79it/s]"
     ]
    },
    {
     "name": "stdout",
     "output_type": "stream",
     "text": [
      "Saved to A:\\Projects\\CollegeProjects\\YogaPartner\\intermediates\\v2\\aug-_31_706649.jpg\n",
      "Saved to A:\\Projects\\CollegeProjects\\YogaPartner\\intermediates\\v2\\aug-_31_9058038.jpg\n",
      "Saved to A:\\Projects\\CollegeProjects\\YogaPartner\\intermediates\\v2\\aug-_32_4804270.jpg\n",
      "Saved to A:\\Projects\\CollegeProjects\\YogaPartner\\intermediates\\v2\\aug-_32_5445268.jpg\n"
     ]
    },
    {
     "name": "stderr",
     "output_type": "stream",
     "text": [
      "\r",
      "2299it [06:19, 13.18it/s]"
     ]
    },
    {
     "name": "stdout",
     "output_type": "stream",
     "text": [
      "Saved to A:\\Projects\\CollegeProjects\\YogaPartner\\intermediates\\v2\\aug-_32_8002169.jpg\n",
      "Saved to A:\\Projects\\CollegeProjects\\YogaPartner\\intermediates\\v2\\aug-_32_8680384.jpg\n"
     ]
    },
    {
     "name": "stderr",
     "output_type": "stream",
     "text": [
      "2303it [06:19, 11.93it/s]"
     ]
    },
    {
     "name": "stdout",
     "output_type": "stream",
     "text": [
      "Saved to A:\\Projects\\CollegeProjects\\YogaPartner\\intermediates\\v2\\aug-_33_3003752.jpg\n",
      "Saved to A:\\Projects\\CollegeProjects\\YogaPartner\\intermediates\\v2\\aug-_33_3678535.jpg\n",
      "Saved to A:\\Projects\\CollegeProjects\\YogaPartner\\intermediates\\v2\\aug-_33_5002674.jpg\n"
     ]
    },
    {
     "name": "stderr",
     "output_type": "stream",
     "text": [
      "\r",
      "2305it [06:19, 11.61it/s]"
     ]
    },
    {
     "name": "stdout",
     "output_type": "stream",
     "text": [
      "Saved to A:\\Projects\\CollegeProjects\\YogaPartner\\intermediates\\v2\\aug-_33_5657376.jpg\n",
      "Saved to A:\\Projects\\CollegeProjects\\YogaPartner\\intermediates\\v2\\aug-_34_8835317.jpg\n",
      "Saved to A:\\Projects\\CollegeProjects\\YogaPartner\\intermediates\\v2\\aug-_34_9272140.jpg\n"
     ]
    },
    {
     "name": "stderr",
     "output_type": "stream",
     "text": [
      "2309it [06:20, 11.73it/s]"
     ]
    },
    {
     "name": "stdout",
     "output_type": "stream",
     "text": [
      "Saved to A:\\Projects\\CollegeProjects\\YogaPartner\\intermediates\\v2\\aug-_34_9342411.jpg\n",
      "Saved to A:\\Projects\\CollegeProjects\\YogaPartner\\intermediates\\v2\\aug-_34_9656208.jpg\n",
      "Saved to A:\\Projects\\CollegeProjects\\YogaPartner\\intermediates\\v2\\aug-_35_3679170.jpg\n"
     ]
    },
    {
     "name": "stderr",
     "output_type": "stream",
     "text": [
      "\r",
      "2311it [06:20, 11.51it/s]"
     ]
    },
    {
     "name": "stdout",
     "output_type": "stream",
     "text": [
      "Saved to A:\\Projects\\CollegeProjects\\YogaPartner\\intermediates\\v2\\aug-_35_3972865.jpg\n",
      "Saved to A:\\Projects\\CollegeProjects\\YogaPartner\\intermediates\\v2\\aug-_35_4994150.jpg\n",
      "Saved to A:\\Projects\\CollegeProjects\\YogaPartner\\intermediates\\v2\\aug-_35_6149850.jpg\n"
     ]
    },
    {
     "name": "stderr",
     "output_type": "stream",
     "text": [
      "2315it [06:20, 11.14it/s]"
     ]
    },
    {
     "name": "stdout",
     "output_type": "stream",
     "text": [
      "Saved to A:\\Projects\\CollegeProjects\\YogaPartner\\intermediates\\v2\\aug-_36_2902447.jpg\n",
      "Saved to A:\\Projects\\CollegeProjects\\YogaPartner\\intermediates\\v2\\aug-_36_3094170.jpg\n",
      "Saved to A:\\Projects\\CollegeProjects\\YogaPartner\\intermediates\\v2\\aug-_36_7543166.jpg\n"
     ]
    },
    {
     "name": "stderr",
     "output_type": "stream",
     "text": [
      "\r",
      "2317it [06:20, 10.44it/s]"
     ]
    },
    {
     "name": "stdout",
     "output_type": "stream",
     "text": [
      "Saved to A:\\Projects\\CollegeProjects\\YogaPartner\\intermediates\\v2\\aug-_36_9923677.jpg\n",
      "Saved to A:\\Projects\\CollegeProjects\\YogaPartner\\intermediates\\v2\\aug-_37_2605001.jpg\n"
     ]
    },
    {
     "name": "stderr",
     "output_type": "stream",
     "text": [
      "\r",
      "2319it [06:21, 10.68it/s]"
     ]
    },
    {
     "name": "stdout",
     "output_type": "stream",
     "text": [
      "Saved to A:\\Projects\\CollegeProjects\\YogaPartner\\intermediates\\v2\\aug-_37_3086418.jpg\n",
      "Saved to A:\\Projects\\CollegeProjects\\YogaPartner\\intermediates\\v2\\aug-_37_6839700.jpg\n",
      "Saved to A:\\Projects\\CollegeProjects\\YogaPartner\\intermediates\\v2\\aug-_37_7126259.jpg\n"
     ]
    },
    {
     "name": "stderr",
     "output_type": "stream",
     "text": [
      "\r",
      "2321it [06:21, 10.67it/s]"
     ]
    },
    {
     "name": "stdout",
     "output_type": "stream",
     "text": [
      "Saved to A:\\Projects\\CollegeProjects\\YogaPartner\\intermediates\\v2\\aug-_38_4125003.jpg\n",
      "Saved to A:\\Projects\\CollegeProjects\\YogaPartner\\intermediates\\v2\\aug-_38_5449331.jpg\n"
     ]
    },
    {
     "name": "stderr",
     "output_type": "stream",
     "text": [
      "2325it [06:21, 11.49it/s]"
     ]
    },
    {
     "name": "stdout",
     "output_type": "stream",
     "text": [
      "Saved to A:\\Projects\\CollegeProjects\\YogaPartner\\intermediates\\v2\\aug-_38_7305491.jpg\n",
      "Saved to A:\\Projects\\CollegeProjects\\YogaPartner\\intermediates\\v2\\aug-_39_2280264.jpg\n",
      "Saved to A:\\Projects\\CollegeProjects\\YogaPartner\\intermediates\\v2\\aug-_39_2971270.jpg\n",
      "Saved to A:\\Projects\\CollegeProjects\\YogaPartner\\intermediates\\v2\\aug-_39_4682781.jpg\n"
     ]
    },
    {
     "name": "stderr",
     "output_type": "stream",
     "text": [
      "2329it [06:21, 11.80it/s]"
     ]
    },
    {
     "name": "stdout",
     "output_type": "stream",
     "text": [
      "Saved to A:\\Projects\\CollegeProjects\\YogaPartner\\intermediates\\v2\\aug-_3_1364143.jpg\n",
      "Saved to A:\\Projects\\CollegeProjects\\YogaPartner\\intermediates\\v2\\aug-_3_1522716.jpg\n",
      "Saved to A:\\Projects\\CollegeProjects\\YogaPartner\\intermediates\\v2\\aug-_3_4164729.jpg\n"
     ]
    },
    {
     "name": "stderr",
     "output_type": "stream",
     "text": [
      "2333it [06:22, 12.65it/s]"
     ]
    },
    {
     "name": "stdout",
     "output_type": "stream",
     "text": [
      "Saved to A:\\Projects\\CollegeProjects\\YogaPartner\\intermediates\\v2\\aug-_3_6065106.jpg\n",
      "Saved to A:\\Projects\\CollegeProjects\\YogaPartner\\intermediates\\v2\\aug-_40_4013074.jpg\n",
      "Saved to A:\\Projects\\CollegeProjects\\YogaPartner\\intermediates\\v2\\aug-_40_8493042.jpg\n",
      "Saved to A:\\Projects\\CollegeProjects\\YogaPartner\\intermediates\\v2\\aug-_40_885984.jpg\n"
     ]
    },
    {
     "name": "stderr",
     "output_type": "stream",
     "text": [
      "\r",
      "2335it [06:22, 12.63it/s]"
     ]
    },
    {
     "name": "stdout",
     "output_type": "stream",
     "text": [
      "Saved to A:\\Projects\\CollegeProjects\\YogaPartner\\intermediates\\v2\\aug-_41_3507197.jpg\n",
      "Saved to A:\\Projects\\CollegeProjects\\YogaPartner\\intermediates\\v2\\aug-_41_4140856.jpg\n",
      "Saved to A:\\Projects\\CollegeProjects\\YogaPartner\\intermediates\\v2\\aug-_41_634759.jpg\n"
     ]
    },
    {
     "name": "stderr",
     "output_type": "stream",
     "text": [
      "2339it [06:22, 11.62it/s]"
     ]
    },
    {
     "name": "stdout",
     "output_type": "stream",
     "text": [
      "Saved to A:\\Projects\\CollegeProjects\\YogaPartner\\intermediates\\v2\\aug-_42_3071919.jpg\n",
      "Saved to A:\\Projects\\CollegeProjects\\YogaPartner\\intermediates\\v2\\aug-_42_6434719.jpg\n",
      "Saved to A:\\Projects\\CollegeProjects\\YogaPartner\\intermediates\\v2\\aug-_42_6897782.jpg\n"
     ]
    },
    {
     "name": "stderr",
     "output_type": "stream",
     "text": [
      "\r",
      "2341it [06:22, 10.93it/s]"
     ]
    },
    {
     "name": "stdout",
     "output_type": "stream",
     "text": [
      "Saved to A:\\Projects\\CollegeProjects\\YogaPartner\\intermediates\\v2\\aug-_43_3161158.jpg\n",
      "Saved to A:\\Projects\\CollegeProjects\\YogaPartner\\intermediates\\v2\\aug-_43_6527503.jpg\n",
      "Saved to A:\\Projects\\CollegeProjects\\YogaPartner\\intermediates\\v2\\aug-_43_6795821.jpg\n"
     ]
    },
    {
     "name": "stderr",
     "output_type": "stream",
     "text": [
      "2345it [06:23, 12.91it/s]"
     ]
    },
    {
     "name": "stdout",
     "output_type": "stream",
     "text": [
      "Saved to A:\\Projects\\CollegeProjects\\YogaPartner\\intermediates\\v2\\aug-_44_3793359.jpg\n",
      "Saved to A:\\Projects\\CollegeProjects\\YogaPartner\\intermediates\\v2\\aug-_44_4663586.jpg\n",
      "Saved to A:\\Projects\\CollegeProjects\\YogaPartner\\intermediates\\v2\\aug-_44_8059597.jpg\n",
      "Saved to A:\\Projects\\CollegeProjects\\YogaPartner\\intermediates\\v2\\aug-_45_125659.jpg\n"
     ]
    },
    {
     "name": "stderr",
     "output_type": "stream",
     "text": [
      "\r",
      "2347it [06:23, 11.97it/s]"
     ]
    },
    {
     "name": "stdout",
     "output_type": "stream",
     "text": [
      "Saved to A:\\Projects\\CollegeProjects\\YogaPartner\\intermediates\\v2\\aug-_45_6262661.jpg\n",
      "Saved to A:\\Projects\\CollegeProjects\\YogaPartner\\intermediates\\v2\\aug-_45_9670000.jpg\n"
     ]
    },
    {
     "name": "stderr",
     "output_type": "stream",
     "text": [
      "2351it [06:23, 10.46it/s]"
     ]
    },
    {
     "name": "stdout",
     "output_type": "stream",
     "text": [
      "Saved to A:\\Projects\\CollegeProjects\\YogaPartner\\intermediates\\v2\\aug-_46_4453305.jpg\n",
      "Saved to A:\\Projects\\CollegeProjects\\YogaPartner\\intermediates\\v2\\aug-_46_83256.jpg\n",
      "Saved to A:\\Projects\\CollegeProjects\\YogaPartner\\intermediates\\v2\\aug-_46_9349123.jpg\n"
     ]
    },
    {
     "name": "stderr",
     "output_type": "stream",
     "text": [
      "\r",
      "2353it [06:24,  9.95it/s]"
     ]
    },
    {
     "name": "stdout",
     "output_type": "stream",
     "text": [
      "Saved to A:\\Projects\\CollegeProjects\\YogaPartner\\intermediates\\v2\\aug-_47_1528657.jpg\n",
      "Saved to A:\\Projects\\CollegeProjects\\YogaPartner\\intermediates\\v2\\aug-_47_5474372.jpg\n",
      "Saved to A:\\Projects\\CollegeProjects\\YogaPartner\\intermediates\\v2\\aug-_47_9348527.jpg\n"
     ]
    },
    {
     "name": "stderr",
     "output_type": "stream",
     "text": [
      "2357it [06:24, 10.72it/s]"
     ]
    },
    {
     "name": "stdout",
     "output_type": "stream",
     "text": [
      "Saved to A:\\Projects\\CollegeProjects\\YogaPartner\\intermediates\\v2\\aug-_48_1167010.jpg\n",
      "Saved to A:\\Projects\\CollegeProjects\\YogaPartner\\intermediates\\v2\\aug-_48_2269637.jpg\n",
      "Saved to A:\\Projects\\CollegeProjects\\YogaPartner\\intermediates\\v2\\aug-_48_6439775.jpg\n"
     ]
    },
    {
     "name": "stderr",
     "output_type": "stream",
     "text": [
      "\r",
      "2359it [06:24, 11.37it/s]"
     ]
    },
    {
     "name": "stdout",
     "output_type": "stream",
     "text": [
      "Saved to A:\\Projects\\CollegeProjects\\YogaPartner\\intermediates\\v2\\aug-_49_3344277.jpg\n",
      "Saved to A:\\Projects\\CollegeProjects\\YogaPartner\\intermediates\\v2\\aug-_49_6430403.jpg\n",
      "Saved to A:\\Projects\\CollegeProjects\\YogaPartner\\intermediates\\v2\\aug-_49_6565764.jpg\n"
     ]
    },
    {
     "name": "stderr",
     "output_type": "stream",
     "text": [
      "2363it [06:24, 11.40it/s]"
     ]
    },
    {
     "name": "stdout",
     "output_type": "stream",
     "text": [
      "Saved to A:\\Projects\\CollegeProjects\\YogaPartner\\intermediates\\v2\\aug-_4_1509715.jpg\n",
      "Saved to A:\\Projects\\CollegeProjects\\YogaPartner\\intermediates\\v2\\aug-_4_3041999.jpg\n",
      "Saved to A:\\Projects\\CollegeProjects\\YogaPartner\\intermediates\\v2\\aug-_4_5840641.jpg\n"
     ]
    },
    {
     "name": "stderr",
     "output_type": "stream",
     "text": [
      "\r",
      "2365it [06:25, 10.36it/s]"
     ]
    },
    {
     "name": "stdout",
     "output_type": "stream",
     "text": [
      "Saved to A:\\Projects\\CollegeProjects\\YogaPartner\\intermediates\\v2\\aug-_4_9965559.jpg\n",
      "Saved to A:\\Projects\\CollegeProjects\\YogaPartner\\intermediates\\v2\\aug-_50_267083.jpg\n"
     ]
    },
    {
     "name": "stderr",
     "output_type": "stream",
     "text": [
      "\r",
      "2367it [06:25,  9.61it/s]"
     ]
    },
    {
     "name": "stdout",
     "output_type": "stream",
     "text": [
      "Saved to A:\\Projects\\CollegeProjects\\YogaPartner\\intermediates\\v2\\aug-_50_8494957.jpg\n",
      "Saved to A:\\Projects\\CollegeProjects\\YogaPartner\\intermediates\\v2\\aug-_50_8705456.jpg\n"
     ]
    },
    {
     "name": "stderr",
     "output_type": "stream",
     "text": [
      "2369it [06:25,  9.22it/s]"
     ]
    },
    {
     "name": "stdout",
     "output_type": "stream",
     "text": [
      "Saved to A:\\Projects\\CollegeProjects\\YogaPartner\\intermediates\\v2\\aug-_51_3329516.jpg\n",
      "Saved to A:\\Projects\\CollegeProjects\\YogaPartner\\intermediates\\v2\\aug-_51_462743.jpg\n"
     ]
    },
    {
     "name": "stderr",
     "output_type": "stream",
     "text": [
      "2372it [06:25, 11.11it/s]"
     ]
    },
    {
     "name": "stdout",
     "output_type": "stream",
     "text": [
      "Saved to A:\\Projects\\CollegeProjects\\YogaPartner\\intermediates\\v2\\aug-_51_6795674.jpg\n",
      "Saved to A:\\Projects\\CollegeProjects\\YogaPartner\\intermediates\\v2\\aug-_52_8402819.jpg\n",
      "Saved to A:\\Projects\\CollegeProjects\\YogaPartner\\intermediates\\v2\\aug-_52_9831636.jpg\n"
     ]
    },
    {
     "name": "stderr",
     "output_type": "stream",
     "text": [
      "2376it [06:26, 11.99it/s]"
     ]
    },
    {
     "name": "stdout",
     "output_type": "stream",
     "text": [
      "Saved to A:\\Projects\\CollegeProjects\\YogaPartner\\intermediates\\v2\\aug-_52_9849444.jpg\n",
      "Saved to A:\\Projects\\CollegeProjects\\YogaPartner\\intermediates\\v2\\aug-_5_5495493.jpg\n",
      "Saved to A:\\Projects\\CollegeProjects\\YogaPartner\\intermediates\\v2\\aug-_5_7818679.jpg\n",
      "Saved to A:\\Projects\\CollegeProjects\\YogaPartner\\intermediates\\v2\\aug-_5_8601905.jpg\n"
     ]
    },
    {
     "name": "stderr",
     "output_type": "stream",
     "text": [
      "\r",
      "2378it [06:26, 13.42it/s]"
     ]
    },
    {
     "name": "stdout",
     "output_type": "stream",
     "text": [
      "Saved to A:\\Projects\\CollegeProjects\\YogaPartner\\intermediates\\v2\\aug-_5_9691523.jpg\n",
      "Saved to A:\\Projects\\CollegeProjects\\YogaPartner\\intermediates\\v2\\aug-_6_2513366.jpg\n",
      "Saved to A:\\Projects\\CollegeProjects\\YogaPartner\\intermediates\\v2\\aug-_6_6997670.jpg\n"
     ]
    },
    {
     "name": "stderr",
     "output_type": "stream",
     "text": [
      "2382it [06:26, 11.72it/s]"
     ]
    },
    {
     "name": "stdout",
     "output_type": "stream",
     "text": [
      "Saved to A:\\Projects\\CollegeProjects\\YogaPartner\\intermediates\\v2\\aug-_6_7493740.jpg\n",
      "Saved to A:\\Projects\\CollegeProjects\\YogaPartner\\intermediates\\v2\\aug-_6_9840111.jpg\n",
      "Saved to A:\\Projects\\CollegeProjects\\YogaPartner\\intermediates\\v2\\aug-_7_4256099.jpg\n"
     ]
    },
    {
     "name": "stderr",
     "output_type": "stream",
     "text": [
      "\r",
      "2384it [06:26, 11.18it/s]"
     ]
    },
    {
     "name": "stdout",
     "output_type": "stream",
     "text": [
      "Saved to A:\\Projects\\CollegeProjects\\YogaPartner\\intermediates\\v2\\aug-_7_5592534.jpg\n",
      "Saved to A:\\Projects\\CollegeProjects\\YogaPartner\\intermediates\\v2\\aug-_7_8361319.jpg\n",
      "Saved to A:\\Projects\\CollegeProjects\\YogaPartner\\intermediates\\v2\\aug-_7_8689068.jpg\n"
     ]
    },
    {
     "name": "stderr",
     "output_type": "stream",
     "text": [
      "2388it [06:27, 11.18it/s]"
     ]
    },
    {
     "name": "stdout",
     "output_type": "stream",
     "text": [
      "Saved to A:\\Projects\\CollegeProjects\\YogaPartner\\intermediates\\v2\\aug-_8_293654.jpg\n",
      "Saved to A:\\Projects\\CollegeProjects\\YogaPartner\\intermediates\\v2\\aug-_8_5759438.jpg\n",
      "Saved to A:\\Projects\\CollegeProjects\\YogaPartner\\intermediates\\v2\\aug-_8_6098011.jpg\n"
     ]
    },
    {
     "name": "stderr",
     "output_type": "stream",
     "text": [
      "2392it [06:27, 12.48it/s]"
     ]
    },
    {
     "name": "stdout",
     "output_type": "stream",
     "text": [
      "Saved to A:\\Projects\\CollegeProjects\\YogaPartner\\intermediates\\v2\\aug-_8_9308082.jpg\n",
      "Saved to A:\\Projects\\CollegeProjects\\YogaPartner\\intermediates\\v2\\aug-_9_3808967.jpg\n",
      "Saved to A:\\Projects\\CollegeProjects\\YogaPartner\\intermediates\\v2\\aug-_9_4056050.jpg\n",
      "Saved to A:\\Projects\\CollegeProjects\\YogaPartner\\intermediates\\v2\\aug-_9_7588248.jpg\n"
     ]
    },
    {
     "name": "stderr",
     "output_type": "stream",
     "text": [
      "\r",
      "2394it [06:27, 13.21it/s]"
     ]
    },
    {
     "name": "stdout",
     "output_type": "stream",
     "text": [
      "Saved to A:\\Projects\\CollegeProjects\\YogaPartner\\intermediates\\v2\\aug-_9_7927807.jpg\n",
      "Saved to A:\\Projects\\CollegeProjects\\YogaPartner\\intermediates\\v2\\aug-_0_8050220.jpg\n",
      "Saved to A:\\Projects\\CollegeProjects\\YogaPartner\\intermediates\\v2\\aug-_10_81575.jpg\n"
     ]
    },
    {
     "name": "stderr",
     "output_type": "stream",
     "text": [
      "2398it [06:28, 12.38it/s]"
     ]
    },
    {
     "name": "stdout",
     "output_type": "stream",
     "text": [
      "Saved to A:\\Projects\\CollegeProjects\\YogaPartner\\intermediates\\v2\\aug-_11_2279622.jpg\n",
      "Saved to A:\\Projects\\CollegeProjects\\YogaPartner\\intermediates\\v2\\aug-_12_2949325.jpg\n",
      "Saved to A:\\Projects\\CollegeProjects\\YogaPartner\\intermediates\\v2\\aug-_13_3191926.jpg\n"
     ]
    },
    {
     "name": "stderr",
     "output_type": "stream",
     "text": [
      "\r",
      "2400it [06:28, 11.98it/s]"
     ]
    },
    {
     "name": "stdout",
     "output_type": "stream",
     "text": [
      "Saved to A:\\Projects\\CollegeProjects\\YogaPartner\\intermediates\\v2\\aug-_14_1118070.jpg\n",
      "Saved to A:\\Projects\\CollegeProjects\\YogaPartner\\intermediates\\v2\\aug-_15_1146447.jpg\n",
      "Saved to A:\\Projects\\CollegeProjects\\YogaPartner\\intermediates\\v2\\aug-_16_1090391.jpg\n"
     ]
    },
    {
     "name": "stderr",
     "output_type": "stream",
     "text": [
      "\r",
      "2402it [06:28, 12.04it/s]"
     ]
    },
    {
     "name": "stdout",
     "output_type": "stream",
     "text": [
      "Saved to A:\\Projects\\CollegeProjects\\YogaPartner\\intermediates\\v2\\aug-_17_9984797.jpg\n",
      "Saved to A:\\Projects\\CollegeProjects\\YogaPartner\\intermediates\\v2\\aug-_18_5045128.jpg\n"
     ]
    },
    {
     "name": "stderr",
     "output_type": "stream",
     "text": [
      "\r",
      "2404it [06:28, 10.94it/s]"
     ]
    },
    {
     "name": "stdout",
     "output_type": "stream",
     "text": [
      "Saved to A:\\Projects\\CollegeProjects\\YogaPartner\\intermediates\\v2\\aug-_19_247713.jpg\n",
      "Saved to A:\\Projects\\CollegeProjects\\YogaPartner\\intermediates\\v2\\aug-_1_526269.jpg\n"
     ]
    },
    {
     "name": "stderr",
     "output_type": "stream",
     "text": [
      "2408it [06:28, 10.53it/s]"
     ]
    },
    {
     "name": "stdout",
     "output_type": "stream",
     "text": [
      "Saved to A:\\Projects\\CollegeProjects\\YogaPartner\\intermediates\\v2\\aug-_20_6578474.jpg\n",
      "Saved to A:\\Projects\\CollegeProjects\\YogaPartner\\intermediates\\v2\\aug-_21_556754.jpg\n",
      "Saved to A:\\Projects\\CollegeProjects\\YogaPartner\\intermediates\\v2\\aug-_22_139793.jpg\n"
     ]
    },
    {
     "name": "stderr",
     "output_type": "stream",
     "text": [
      "\r",
      "2410it [06:29, 10.59it/s]"
     ]
    },
    {
     "name": "stdout",
     "output_type": "stream",
     "text": [
      "Saved to A:\\Projects\\CollegeProjects\\YogaPartner\\intermediates\\v2\\aug-_23_5651833.jpg\n",
      "Saved to A:\\Projects\\CollegeProjects\\YogaPartner\\intermediates\\v2\\aug-_24_1740177.jpg\n",
      "Saved to A:\\Projects\\CollegeProjects\\YogaPartner\\intermediates\\v2\\aug-_25_3688925.jpg\n"
     ]
    },
    {
     "name": "stderr",
     "output_type": "stream",
     "text": [
      "2414it [06:29, 11.01it/s]"
     ]
    },
    {
     "name": "stdout",
     "output_type": "stream",
     "text": [
      "Saved to A:\\Projects\\CollegeProjects\\YogaPartner\\intermediates\\v2\\aug-_26_3440162.jpg\n",
      "Saved to A:\\Projects\\CollegeProjects\\YogaPartner\\intermediates\\v2\\aug-_27_7877422.jpg\n",
      "Saved to A:\\Projects\\CollegeProjects\\YogaPartner\\intermediates\\v2\\aug-_28_8715466.jpg\n"
     ]
    },
    {
     "name": "stderr",
     "output_type": "stream",
     "text": [
      "\r",
      "2416it [06:29, 10.98it/s]"
     ]
    },
    {
     "name": "stdout",
     "output_type": "stream",
     "text": [
      "Saved to A:\\Projects\\CollegeProjects\\YogaPartner\\intermediates\\v2\\aug-_29_3101008.jpg\n",
      "Saved to A:\\Projects\\CollegeProjects\\YogaPartner\\intermediates\\v2\\aug-_2_9376689.jpg\n",
      "Saved to A:\\Projects\\CollegeProjects\\YogaPartner\\intermediates\\v2\\aug-_30_7122825.jpg\n"
     ]
    },
    {
     "name": "stderr",
     "output_type": "stream",
     "text": [
      "2420it [06:30, 11.67it/s]"
     ]
    },
    {
     "name": "stdout",
     "output_type": "stream",
     "text": [
      "Saved to A:\\Projects\\CollegeProjects\\YogaPartner\\intermediates\\v2\\aug-_31_1466833.jpg\n",
      "Saved to A:\\Projects\\CollegeProjects\\YogaPartner\\intermediates\\v2\\aug-_32_2713578.jpg\n",
      "Saved to A:\\Projects\\CollegeProjects\\YogaPartner\\intermediates\\v2\\aug-_33_5450199.jpg\n",
      "Saved to A:\\Projects\\CollegeProjects\\YogaPartner\\intermediates\\v2\\aug-_34_2501363.jpg\n"
     ]
    },
    {
     "name": "stderr",
     "output_type": "stream",
     "text": [
      "2424it [06:30, 11.60it/s]"
     ]
    },
    {
     "name": "stdout",
     "output_type": "stream",
     "text": [
      "Saved to A:\\Projects\\CollegeProjects\\YogaPartner\\intermediates\\v2\\aug-_35_851098.jpg\n",
      "Saved to A:\\Projects\\CollegeProjects\\YogaPartner\\intermediates\\v2\\aug-_36_4577090.jpg\n",
      "Saved to A:\\Projects\\CollegeProjects\\YogaPartner\\intermediates\\v2\\aug-_37_7037178.jpg\n"
     ]
    },
    {
     "name": "stderr",
     "output_type": "stream",
     "text": [
      "\r",
      "2426it [06:30, 11.33it/s]"
     ]
    },
    {
     "name": "stdout",
     "output_type": "stream",
     "text": [
      "Saved to A:\\Projects\\CollegeProjects\\YogaPartner\\intermediates\\v2\\aug-_38_8508743.jpg\n",
      "Saved to A:\\Projects\\CollegeProjects\\YogaPartner\\intermediates\\v2\\aug-_39_1360160.jpg\n",
      "Saved to A:\\Projects\\CollegeProjects\\YogaPartner\\intermediates\\v2\\aug-_3_5217963.jpg\n"
     ]
    },
    {
     "name": "stderr",
     "output_type": "stream",
     "text": [
      "2430it [06:30, 10.93it/s]"
     ]
    },
    {
     "name": "stdout",
     "output_type": "stream",
     "text": [
      "Saved to A:\\Projects\\CollegeProjects\\YogaPartner\\intermediates\\v2\\aug-_40_4396928.jpg\n",
      "Saved to A:\\Projects\\CollegeProjects\\YogaPartner\\intermediates\\v2\\aug-_41_2213528.jpg\n",
      "Saved to A:\\Projects\\CollegeProjects\\YogaPartner\\intermediates\\v2\\aug-_42_2505029.jpg\n"
     ]
    },
    {
     "name": "stderr",
     "output_type": "stream",
     "text": [
      "\r",
      "2432it [06:31, 10.85it/s]"
     ]
    },
    {
     "name": "stdout",
     "output_type": "stream",
     "text": [
      "Saved to A:\\Projects\\CollegeProjects\\YogaPartner\\intermediates\\v2\\aug-_43_4756720.jpg\n",
      "Saved to A:\\Projects\\CollegeProjects\\YogaPartner\\intermediates\\v2\\aug-_44_3269860.jpg\n",
      "Saved to A:\\Projects\\CollegeProjects\\YogaPartner\\intermediates\\v2\\aug-_45_3635234.jpg\n"
     ]
    },
    {
     "name": "stderr",
     "output_type": "stream",
     "text": [
      "2436it [06:31, 11.25it/s]"
     ]
    },
    {
     "name": "stdout",
     "output_type": "stream",
     "text": [
      "Saved to A:\\Projects\\CollegeProjects\\YogaPartner\\intermediates\\v2\\aug-_46_8298238.jpg\n",
      "Saved to A:\\Projects\\CollegeProjects\\YogaPartner\\intermediates\\v2\\aug-_47_9967425.jpg\n",
      "Saved to A:\\Projects\\CollegeProjects\\YogaPartner\\intermediates\\v2\\aug-_48_4146905.jpg\n"
     ]
    },
    {
     "name": "stderr",
     "output_type": "stream",
     "text": [
      "\r",
      "2438it [06:31, 11.14it/s]"
     ]
    },
    {
     "name": "stdout",
     "output_type": "stream",
     "text": [
      "Saved to A:\\Projects\\CollegeProjects\\YogaPartner\\intermediates\\v2\\aug-_49_7872836.jpg\n",
      "Saved to A:\\Projects\\CollegeProjects\\YogaPartner\\intermediates\\v2\\aug-_4_5282518.jpg\n",
      "Saved to A:\\Projects\\CollegeProjects\\YogaPartner\\intermediates\\v2\\aug-_50_8742299.jpg\n"
     ]
    },
    {
     "name": "stderr",
     "output_type": "stream",
     "text": [
      "\r",
      "2440it [06:31, 11.00it/s]"
     ]
    },
    {
     "name": "stdout",
     "output_type": "stream",
     "text": [
      "Saved to A:\\Projects\\CollegeProjects\\YogaPartner\\intermediates\\v2\\aug-_51_4496716.jpg\n",
      "Saved to A:\\Projects\\CollegeProjects\\YogaPartner\\intermediates\\v2\\aug-_52_720090.jpg\n"
     ]
    },
    {
     "name": "stderr",
     "output_type": "stream",
     "text": [
      "\r",
      "2442it [06:32, 10.11it/s]"
     ]
    },
    {
     "name": "stdout",
     "output_type": "stream",
     "text": [
      "Saved to A:\\Projects\\CollegeProjects\\YogaPartner\\intermediates\\v2\\aug-_53_7486829.jpg\n",
      "Saved to A:\\Projects\\CollegeProjects\\YogaPartner\\intermediates\\v2\\aug-_54_4856828.jpg\n"
     ]
    },
    {
     "name": "stderr",
     "output_type": "stream",
     "text": [
      "2445it [06:32,  9.33it/s]"
     ]
    },
    {
     "name": "stdout",
     "output_type": "stream",
     "text": [
      "Saved to A:\\Projects\\CollegeProjects\\YogaPartner\\intermediates\\v2\\aug-_55_1484377.jpg\n",
      "Saved to A:\\Projects\\CollegeProjects\\YogaPartner\\intermediates\\v2\\aug-_56_706502.jpg\n"
     ]
    },
    {
     "name": "stderr",
     "output_type": "stream",
     "text": [
      "2447it [06:32,  9.06it/s]"
     ]
    },
    {
     "name": "stdout",
     "output_type": "stream",
     "text": [
      "Saved to A:\\Projects\\CollegeProjects\\YogaPartner\\intermediates\\v2\\aug-_57_6903566.jpg\n",
      "Saved to A:\\Projects\\CollegeProjects\\YogaPartner\\intermediates\\v2\\aug-_58_4371580.jpg\n"
     ]
    },
    {
     "name": "stderr",
     "output_type": "stream",
     "text": [
      "2450it [06:32,  9.91it/s]"
     ]
    },
    {
     "name": "stdout",
     "output_type": "stream",
     "text": [
      "Saved to A:\\Projects\\CollegeProjects\\YogaPartner\\intermediates\\v2\\aug-_59_2883661.jpg\n",
      "Saved to A:\\Projects\\CollegeProjects\\YogaPartner\\intermediates\\v2\\aug-_5_966801.jpg\n",
      "Saved to A:\\Projects\\CollegeProjects\\YogaPartner\\intermediates\\v2\\aug-_60_7496919.jpg\n"
     ]
    },
    {
     "name": "stderr",
     "output_type": "stream",
     "text": [
      "\r",
      "2452it [06:33, 10.05it/s]"
     ]
    },
    {
     "name": "stdout",
     "output_type": "stream",
     "text": [
      "Saved to A:\\Projects\\CollegeProjects\\YogaPartner\\intermediates\\v2\\aug-_61_8255986.jpg\n",
      "Saved to A:\\Projects\\CollegeProjects\\YogaPartner\\intermediates\\v2\\aug-_62_730578.jpg\n",
      "Saved to A:\\Projects\\CollegeProjects\\YogaPartner\\intermediates\\v2\\aug-_63_9326260.jpg\n"
     ]
    },
    {
     "name": "stderr",
     "output_type": "stream",
     "text": [
      "2456it [06:33, 10.40it/s]"
     ]
    },
    {
     "name": "stdout",
     "output_type": "stream",
     "text": [
      "Saved to A:\\Projects\\CollegeProjects\\YogaPartner\\intermediates\\v2\\aug-_64_2752180.jpg\n",
      "Saved to A:\\Projects\\CollegeProjects\\YogaPartner\\intermediates\\v2\\aug-_65_6047517.jpg\n",
      "Saved to A:\\Projects\\CollegeProjects\\YogaPartner\\intermediates\\v2\\aug-_66_4416533.jpg\n"
     ]
    },
    {
     "name": "stderr",
     "output_type": "stream",
     "text": [
      "\r",
      "2458it [06:33, 10.87it/s]"
     ]
    },
    {
     "name": "stdout",
     "output_type": "stream",
     "text": [
      "Saved to A:\\Projects\\CollegeProjects\\YogaPartner\\intermediates\\v2\\aug-_67_6112396.jpg\n",
      "Saved to A:\\Projects\\CollegeProjects\\YogaPartner\\intermediates\\v2\\aug-_68_9312174.jpg\n",
      "Saved to A:\\Projects\\CollegeProjects\\YogaPartner\\intermediates\\v2\\aug-_6_6731912.jpg\n"
     ]
    },
    {
     "name": "stderr",
     "output_type": "stream",
     "text": [
      "2462it [06:34, 10.12it/s]"
     ]
    },
    {
     "name": "stdout",
     "output_type": "stream",
     "text": [
      "Saved to A:\\Projects\\CollegeProjects\\YogaPartner\\intermediates\\v2\\aug-_7_6236678.jpg\n",
      "Saved to A:\\Projects\\CollegeProjects\\YogaPartner\\intermediates\\v2\\aug-_8_2346747.jpg\n",
      "Saved to A:\\Projects\\CollegeProjects\\YogaPartner\\intermediates\\v2\\aug-_9_3929915.jpg\n"
     ]
    },
    {
     "name": "stderr",
     "output_type": "stream",
     "text": [
      "\r",
      "2464it [06:34,  9.63it/s]"
     ]
    },
    {
     "name": "stdout",
     "output_type": "stream",
     "text": [
      "Saved to A:\\Projects\\CollegeProjects\\YogaPartner\\intermediates\\v2\\aug-_0_2626489.jpg\n",
      "Saved to A:\\Projects\\CollegeProjects\\YogaPartner\\intermediates\\v2\\aug-_10_7448268.jpg\n"
     ]
    },
    {
     "name": "stderr",
     "output_type": "stream",
     "text": [
      "2466it [06:34,  8.93it/s]"
     ]
    },
    {
     "name": "stdout",
     "output_type": "stream",
     "text": [
      "Saved to A:\\Projects\\CollegeProjects\\YogaPartner\\intermediates\\v2\\aug-_11_1296417.jpg\n",
      "Saved to A:\\Projects\\CollegeProjects\\YogaPartner\\intermediates\\v2\\aug-_12_1289902.jpg\n"
     ]
    },
    {
     "name": "stderr",
     "output_type": "stream",
     "text": [
      "2468it [06:34,  8.93it/s]"
     ]
    },
    {
     "name": "stdout",
     "output_type": "stream",
     "text": [
      "Saved to A:\\Projects\\CollegeProjects\\YogaPartner\\intermediates\\v2\\aug-_13_7302495.jpg\n",
      "Saved to A:\\Projects\\CollegeProjects\\YogaPartner\\intermediates\\v2\\aug-_14_2528628.jpg\n"
     ]
    },
    {
     "name": "stderr",
     "output_type": "stream",
     "text": [
      "\r",
      "2470it [06:35,  8.56it/s]"
     ]
    },
    {
     "name": "stdout",
     "output_type": "stream",
     "text": [
      "Saved to A:\\Projects\\CollegeProjects\\YogaPartner\\intermediates\\v2\\aug-_15_4271590.jpg\n",
      "Saved to A:\\Projects\\CollegeProjects\\YogaPartner\\intermediates\\v2\\aug-_16_4382680.jpg\n"
     ]
    },
    {
     "name": "stderr",
     "output_type": "stream",
     "text": [
      "\r",
      "2472it [06:35,  8.88it/s]"
     ]
    },
    {
     "name": "stdout",
     "output_type": "stream",
     "text": [
      "Saved to A:\\Projects\\CollegeProjects\\YogaPartner\\intermediates\\v2\\aug-_17_4495371.jpg\n",
      "Saved to A:\\Projects\\CollegeProjects\\YogaPartner\\intermediates\\v2\\aug-_18_4642520.jpg\n"
     ]
    },
    {
     "name": "stderr",
     "output_type": "stream",
     "text": [
      "2474it [06:35,  9.02it/s]"
     ]
    },
    {
     "name": "stdout",
     "output_type": "stream",
     "text": [
      "Saved to A:\\Projects\\CollegeProjects\\YogaPartner\\intermediates\\v2\\aug-_19_23133.jpg\n",
      "Saved to A:\\Projects\\CollegeProjects\\YogaPartner\\intermediates\\v2\\aug-_1_8786237.jpg\n",
      "Saved to A:\\Projects\\CollegeProjects\\YogaPartner\\intermediates\\v2\\aug-_20_6264850.jpg\n"
     ]
    },
    {
     "name": "stderr",
     "output_type": "stream",
     "text": [
      "2477it [06:35,  9.18it/s]"
     ]
    },
    {
     "name": "stdout",
     "output_type": "stream",
     "text": [
      "Saved to A:\\Projects\\CollegeProjects\\YogaPartner\\intermediates\\v2\\aug-_21_8992121.jpg\n",
      "Saved to A:\\Projects\\CollegeProjects\\YogaPartner\\intermediates\\v2\\aug-_22_4862426.jpg\n",
      "Saved to A:\\Projects\\CollegeProjects\\YogaPartner\\intermediates\\v2\\aug-_23_8992860.jpg\n"
     ]
    },
    {
     "name": "stderr",
     "output_type": "stream",
     "text": [
      "2481it [06:36,  9.73it/s]"
     ]
    },
    {
     "name": "stdout",
     "output_type": "stream",
     "text": [
      "Saved to A:\\Projects\\CollegeProjects\\YogaPartner\\intermediates\\v2\\aug-_24_761551.jpg\n",
      "Saved to A:\\Projects\\CollegeProjects\\YogaPartner\\intermediates\\v2\\aug-_25_2455708.jpg\n",
      "Saved to A:\\Projects\\CollegeProjects\\YogaPartner\\intermediates\\v2\\aug-_26_9903220.jpg\n"
     ]
    },
    {
     "name": "stderr",
     "output_type": "stream",
     "text": [
      "2484it [06:36,  9.86it/s]"
     ]
    },
    {
     "name": "stdout",
     "output_type": "stream",
     "text": [
      "Saved to A:\\Projects\\CollegeProjects\\YogaPartner\\intermediates\\v2\\aug-_27_2934802.jpg\n",
      "Saved to A:\\Projects\\CollegeProjects\\YogaPartner\\intermediates\\v2\\aug-_28_6355444.jpg\n",
      "Saved to A:\\Projects\\CollegeProjects\\YogaPartner\\intermediates\\v2\\aug-_29_6819367.jpg\n"
     ]
    },
    {
     "name": "stderr",
     "output_type": "stream",
     "text": [
      "2487it [06:36, 10.22it/s]"
     ]
    },
    {
     "name": "stdout",
     "output_type": "stream",
     "text": [
      "Saved to A:\\Projects\\CollegeProjects\\YogaPartner\\intermediates\\v2\\aug-_2_9659696.jpg\n",
      "Saved to A:\\Projects\\CollegeProjects\\YogaPartner\\intermediates\\v2\\aug-_30_890890.jpg\n",
      "Saved to A:\\Projects\\CollegeProjects\\YogaPartner\\intermediates\\v2\\aug-_31_1967127.jpg\n"
     ]
    },
    {
     "name": "stderr",
     "output_type": "stream",
     "text": [
      "\r",
      "2489it [06:37, 10.60it/s]"
     ]
    },
    {
     "name": "stdout",
     "output_type": "stream",
     "text": [
      "Saved to A:\\Projects\\CollegeProjects\\YogaPartner\\intermediates\\v2\\aug-_32_4217825.jpg\n",
      "Saved to A:\\Projects\\CollegeProjects\\YogaPartner\\intermediates\\v2\\aug-_33_1441574.jpg\n",
      "Saved to A:\\Projects\\CollegeProjects\\YogaPartner\\intermediates\\v2\\aug-_34_4868087.jpg\n"
     ]
    },
    {
     "name": "stderr",
     "output_type": "stream",
     "text": [
      "2493it [06:37, 10.89it/s]"
     ]
    },
    {
     "name": "stdout",
     "output_type": "stream",
     "text": [
      "Saved to A:\\Projects\\CollegeProjects\\YogaPartner\\intermediates\\v2\\aug-_35_9806240.jpg\n",
      "Saved to A:\\Projects\\CollegeProjects\\YogaPartner\\intermediates\\v2\\aug-_36_550452.jpg\n",
      "Saved to A:\\Projects\\CollegeProjects\\YogaPartner\\intermediates\\v2\\aug-_37_4191115.jpg\n"
     ]
    },
    {
     "name": "stderr",
     "output_type": "stream",
     "text": [
      "\r",
      "2495it [06:37, 11.09it/s]"
     ]
    },
    {
     "name": "stdout",
     "output_type": "stream",
     "text": [
      "Saved to A:\\Projects\\CollegeProjects\\YogaPartner\\intermediates\\v2\\aug-_38_5054221.jpg\n",
      "Saved to A:\\Projects\\CollegeProjects\\YogaPartner\\intermediates\\v2\\aug-_39_6454715.jpg\n",
      "Saved to A:\\Projects\\CollegeProjects\\YogaPartner\\intermediates\\v2\\aug-_3_8355489.jpg\n"
     ]
    },
    {
     "name": "stderr",
     "output_type": "stream",
     "text": [
      "2499it [06:37, 11.18it/s]"
     ]
    },
    {
     "name": "stdout",
     "output_type": "stream",
     "text": [
      "Saved to A:\\Projects\\CollegeProjects\\YogaPartner\\intermediates\\v2\\aug-_40_4886906.jpg\n",
      "Saved to A:\\Projects\\CollegeProjects\\YogaPartner\\intermediates\\v2\\aug-_41_3477024.jpg\n",
      "Saved to A:\\Projects\\CollegeProjects\\YogaPartner\\intermediates\\v2\\aug-_42_8885445.jpg\n"
     ]
    },
    {
     "name": "stderr",
     "output_type": "stream",
     "text": [
      "\r",
      "2501it [06:38, 10.48it/s]"
     ]
    },
    {
     "name": "stdout",
     "output_type": "stream",
     "text": [
      "Saved to A:\\Projects\\CollegeProjects\\YogaPartner\\intermediates\\v2\\aug-_43_1686865.jpg\n",
      "Saved to A:\\Projects\\CollegeProjects\\YogaPartner\\intermediates\\v2\\aug-_44_4623768.jpg\n",
      "Saved to A:\\Projects\\CollegeProjects\\YogaPartner\\intermediates\\v2\\aug-_45_7050450.jpg\n"
     ]
    },
    {
     "name": "stderr",
     "output_type": "stream",
     "text": [
      "\r",
      "2503it [06:38, 10.61it/s]"
     ]
    },
    {
     "name": "stdout",
     "output_type": "stream",
     "text": [
      "Saved to A:\\Projects\\CollegeProjects\\YogaPartner\\intermediates\\v2\\aug-_46_6754504.jpg\n",
      "Saved to A:\\Projects\\CollegeProjects\\YogaPartner\\intermediates\\v2\\aug-_47_4782584.jpg\n"
     ]
    },
    {
     "name": "stderr",
     "output_type": "stream",
     "text": [
      "\r",
      "2505it [06:38,  9.89it/s]"
     ]
    },
    {
     "name": "stdout",
     "output_type": "stream",
     "text": [
      "Saved to A:\\Projects\\CollegeProjects\\YogaPartner\\intermediates\\v2\\aug-_48_3590494.jpg\n",
      "Saved to A:\\Projects\\CollegeProjects\\YogaPartner\\intermediates\\v2\\aug-_49_6912592.jpg\n"
     ]
    },
    {
     "name": "stderr",
     "output_type": "stream",
     "text": [
      "2509it [06:38, 10.09it/s]"
     ]
    },
    {
     "name": "stdout",
     "output_type": "stream",
     "text": [
      "Saved to A:\\Projects\\CollegeProjects\\YogaPartner\\intermediates\\v2\\aug-_4_6172715.jpg\n",
      "Saved to A:\\Projects\\CollegeProjects\\YogaPartner\\intermediates\\v2\\aug-_50_56300.jpg\n",
      "Saved to A:\\Projects\\CollegeProjects\\YogaPartner\\intermediates\\v2\\aug-_51_7118281.jpg\n"
     ]
    },
    {
     "name": "stderr",
     "output_type": "stream",
     "text": [
      "\r",
      "2511it [06:39, 10.69it/s]"
     ]
    },
    {
     "name": "stdout",
     "output_type": "stream",
     "text": [
      "Saved to A:\\Projects\\CollegeProjects\\YogaPartner\\intermediates\\v2\\aug-_52_7526214.jpg\n",
      "Saved to A:\\Projects\\CollegeProjects\\YogaPartner\\intermediates\\v2\\aug-_53_3398952.jpg\n",
      "Saved to A:\\Projects\\CollegeProjects\\YogaPartner\\intermediates\\v2\\aug-_54_1297858.jpg\n"
     ]
    },
    {
     "name": "stderr",
     "output_type": "stream",
     "text": [
      "2515it [06:39, 11.07it/s]"
     ]
    },
    {
     "name": "stdout",
     "output_type": "stream",
     "text": [
      "Saved to A:\\Projects\\CollegeProjects\\YogaPartner\\intermediates\\v2\\aug-_55_6510269.jpg\n",
      "Saved to A:\\Projects\\CollegeProjects\\YogaPartner\\intermediates\\v2\\aug-_56_9517786.jpg\n",
      "Saved to A:\\Projects\\CollegeProjects\\YogaPartner\\intermediates\\v2\\aug-_57_8722555.jpg\n"
     ]
    },
    {
     "name": "stderr",
     "output_type": "stream",
     "text": [
      "\r",
      "2517it [06:39, 10.22it/s]"
     ]
    },
    {
     "name": "stdout",
     "output_type": "stream",
     "text": [
      "Saved to A:\\Projects\\CollegeProjects\\YogaPartner\\intermediates\\v2\\aug-_58_6844130.jpg\n",
      "Saved to A:\\Projects\\CollegeProjects\\YogaPartner\\intermediates\\v2\\aug-_59_4212817.jpg\n",
      "Saved to A:\\Projects\\CollegeProjects\\YogaPartner\\intermediates\\v2\\aug-_5_6808624.jpg\n"
     ]
    },
    {
     "name": "stderr",
     "output_type": "stream",
     "text": [
      "\r",
      "2519it [06:39,  9.97it/s]"
     ]
    },
    {
     "name": "stdout",
     "output_type": "stream",
     "text": [
      "Saved to A:\\Projects\\CollegeProjects\\YogaPartner\\intermediates\\v2\\aug-_60_4205193.jpg\n",
      "Saved to A:\\Projects\\CollegeProjects\\YogaPartner\\intermediates\\v2\\aug-_61_7761816.jpg\n"
     ]
    },
    {
     "name": "stderr",
     "output_type": "stream",
     "text": [
      "2522it [06:40,  9.09it/s]"
     ]
    },
    {
     "name": "stdout",
     "output_type": "stream",
     "text": [
      "Saved to A:\\Projects\\CollegeProjects\\YogaPartner\\intermediates\\v2\\aug-_62_7486285.jpg\n",
      "Saved to A:\\Projects\\CollegeProjects\\YogaPartner\\intermediates\\v2\\aug-_63_3750558.jpg\n"
     ]
    },
    {
     "name": "stderr",
     "output_type": "stream",
     "text": [
      "2524it [06:40,  8.67it/s]"
     ]
    },
    {
     "name": "stdout",
     "output_type": "stream",
     "text": [
      "Saved to A:\\Projects\\CollegeProjects\\YogaPartner\\intermediates\\v2\\aug-_64_3703200.jpg\n",
      "Saved to A:\\Projects\\CollegeProjects\\YogaPartner\\intermediates\\v2\\aug-_65_7000310.jpg\n"
     ]
    },
    {
     "name": "stderr",
     "output_type": "stream",
     "text": [
      "2526it [06:40,  8.84it/s]"
     ]
    },
    {
     "name": "stdout",
     "output_type": "stream",
     "text": [
      "Saved to A:\\Projects\\CollegeProjects\\YogaPartner\\intermediates\\v2\\aug-_66_2007735.jpg\n",
      "Saved to A:\\Projects\\CollegeProjects\\YogaPartner\\intermediates\\v2\\aug-_67_208695.jpg\n"
     ]
    },
    {
     "name": "stderr",
     "output_type": "stream",
     "text": [
      "2528it [06:40,  8.96it/s]"
     ]
    },
    {
     "name": "stdout",
     "output_type": "stream",
     "text": [
      "Saved to A:\\Projects\\CollegeProjects\\YogaPartner\\intermediates\\v2\\aug-_68_4277580.jpg\n",
      "Saved to A:\\Projects\\CollegeProjects\\YogaPartner\\intermediates\\v2\\aug-_69_426247.jpg\n"
     ]
    },
    {
     "name": "stderr",
     "output_type": "stream",
     "text": [
      "2530it [06:41,  8.89it/s]"
     ]
    },
    {
     "name": "stdout",
     "output_type": "stream",
     "text": [
      "Saved to A:\\Projects\\CollegeProjects\\YogaPartner\\intermediates\\v2\\aug-_6_4727287.jpg\n",
      "Saved to A:\\Projects\\CollegeProjects\\YogaPartner\\intermediates\\v2\\aug-_70_869695.jpg\n"
     ]
    },
    {
     "name": "stderr",
     "output_type": "stream",
     "text": [
      "2533it [06:41,  9.63it/s]"
     ]
    },
    {
     "name": "stdout",
     "output_type": "stream",
     "text": [
      "Saved to A:\\Projects\\CollegeProjects\\YogaPartner\\intermediates\\v2\\aug-_71_7861078.jpg\n",
      "Saved to A:\\Projects\\CollegeProjects\\YogaPartner\\intermediates\\v2\\aug-_72_3794635.jpg\n",
      "Saved to A:\\Projects\\CollegeProjects\\YogaPartner\\intermediates\\v2\\aug-_73_106715.jpg\n"
     ]
    },
    {
     "name": "stderr",
     "output_type": "stream",
     "text": [
      "\r",
      "2535it [06:41, 10.02it/s]"
     ]
    },
    {
     "name": "stdout",
     "output_type": "stream",
     "text": [
      "Saved to A:\\Projects\\CollegeProjects\\YogaPartner\\intermediates\\v2\\aug-_74_8804145.jpg\n",
      "Saved to A:\\Projects\\CollegeProjects\\YogaPartner\\intermediates\\v2\\aug-_75_7095703.jpg\n",
      "Saved to A:\\Projects\\CollegeProjects\\YogaPartner\\intermediates\\v2\\aug-_76_9240788.jpg\n"
     ]
    },
    {
     "name": "stderr",
     "output_type": "stream",
     "text": [
      "2539it [06:42, 10.06it/s]"
     ]
    },
    {
     "name": "stdout",
     "output_type": "stream",
     "text": [
      "Saved to A:\\Projects\\CollegeProjects\\YogaPartner\\intermediates\\v2\\aug-_77_7919706.jpg\n",
      "Saved to A:\\Projects\\CollegeProjects\\YogaPartner\\intermediates\\v2\\aug-_78_8531979.jpg\n",
      "Saved to A:\\Projects\\CollegeProjects\\YogaPartner\\intermediates\\v2\\aug-_79_1756730.jpg\n"
     ]
    },
    {
     "name": "stderr",
     "output_type": "stream",
     "text": [
      "2541it [06:42,  9.48it/s]"
     ]
    },
    {
     "name": "stdout",
     "output_type": "stream",
     "text": [
      "Saved to A:\\Projects\\CollegeProjects\\YogaPartner\\intermediates\\v2\\aug-_7_8509025.jpg\n",
      "Saved to A:\\Projects\\CollegeProjects\\YogaPartner\\intermediates\\v2\\aug-_80_6795258.jpg\n"
     ]
    },
    {
     "name": "stderr",
     "output_type": "stream",
     "text": [
      "2544it [06:42,  9.87it/s]"
     ]
    },
    {
     "name": "stdout",
     "output_type": "stream",
     "text": [
      "Saved to A:\\Projects\\CollegeProjects\\YogaPartner\\intermediates\\v2\\aug-_81_4128978.jpg\n",
      "Saved to A:\\Projects\\CollegeProjects\\YogaPartner\\intermediates\\v2\\aug-_82_2530897.jpg\n",
      "Saved to A:\\Projects\\CollegeProjects\\YogaPartner\\intermediates\\v2\\aug-_8_3797792.jpg\n"
     ]
    },
    {
     "name": "stderr",
     "output_type": "stream",
     "text": [
      "\r",
      "2546it [06:42, 10.08it/s]"
     ]
    },
    {
     "name": "stdout",
     "output_type": "stream",
     "text": [
      "Saved to A:\\Projects\\CollegeProjects\\YogaPartner\\intermediates\\v2\\aug-_9_288098.jpg\n",
      "Saved to A:\\Projects\\CollegeProjects\\YogaPartner\\intermediates\\v2\\aug-_0_3825780.jpg\n"
     ]
    },
    {
     "name": "stderr",
     "output_type": "stream",
     "text": [
      "2548it [06:43,  9.38it/s]"
     ]
    },
    {
     "name": "stdout",
     "output_type": "stream",
     "text": [
      "Saved to A:\\Projects\\CollegeProjects\\YogaPartner\\intermediates\\v2\\aug-_0_4073731.jpg\n",
      "Saved to A:\\Projects\\CollegeProjects\\YogaPartner\\intermediates\\v2\\aug-_100_1672586.jpg\n",
      "Saved to A:\\Projects\\CollegeProjects\\YogaPartner\\intermediates\\v2\\aug-_101_79624.jpg\n"
     ]
    },
    {
     "name": "stderr",
     "output_type": "stream",
     "text": [
      "2552it [06:43,  9.62it/s]"
     ]
    },
    {
     "name": "stdout",
     "output_type": "stream",
     "text": [
      "Saved to A:\\Projects\\CollegeProjects\\YogaPartner\\intermediates\\v2\\aug-_102_9465316.jpg\n",
      "Saved to A:\\Projects\\CollegeProjects\\YogaPartner\\intermediates\\v2\\aug-_103_7408516.jpg\n",
      "Saved to A:\\Projects\\CollegeProjects\\YogaPartner\\intermediates\\v2\\aug-_104_3196707.jpg\n"
     ]
    },
    {
     "name": "stderr",
     "output_type": "stream",
     "text": [
      "2554it [06:43,  9.23it/s]"
     ]
    },
    {
     "name": "stdout",
     "output_type": "stream",
     "text": [
      "Saved to A:\\Projects\\CollegeProjects\\YogaPartner\\intermediates\\v2\\aug-_105_3677416.jpg\n",
      "Saved to A:\\Projects\\CollegeProjects\\YogaPartner\\intermediates\\v2\\aug-_106_5857176.jpg\n"
     ]
    },
    {
     "name": "stderr",
     "output_type": "stream",
     "text": [
      "2556it [06:43,  8.98it/s]"
     ]
    },
    {
     "name": "stdout",
     "output_type": "stream",
     "text": [
      "Saved to A:\\Projects\\CollegeProjects\\YogaPartner\\intermediates\\v2\\aug-_107_2225256.jpg\n",
      "Saved to A:\\Projects\\CollegeProjects\\YogaPartner\\intermediates\\v2\\aug-_108_7293858.jpg\n"
     ]
    },
    {
     "name": "stderr",
     "output_type": "stream",
     "text": [
      "2558it [06:44,  8.67it/s]"
     ]
    },
    {
     "name": "stdout",
     "output_type": "stream",
     "text": [
      "Saved to A:\\Projects\\CollegeProjects\\YogaPartner\\intermediates\\v2\\aug-_109_2129719.jpg\n",
      "Saved to A:\\Projects\\CollegeProjects\\YogaPartner\\intermediates\\v2\\aug-_10_1764769.jpg\n"
     ]
    },
    {
     "name": "stderr",
     "output_type": "stream",
     "text": [
      "2560it [06:44,  8.55it/s]"
     ]
    },
    {
     "name": "stdout",
     "output_type": "stream",
     "text": [
      "Saved to A:\\Projects\\CollegeProjects\\YogaPartner\\intermediates\\v2\\aug-_10_2634948.jpg\n",
      "Saved to A:\\Projects\\CollegeProjects\\YogaPartner\\intermediates\\v2\\aug-_110_6052766.jpg\n"
     ]
    },
    {
     "name": "stderr",
     "output_type": "stream",
     "text": [
      "2562it [06:44,  8.32it/s]"
     ]
    },
    {
     "name": "stdout",
     "output_type": "stream",
     "text": [
      "Saved to A:\\Projects\\CollegeProjects\\YogaPartner\\intermediates\\v2\\aug-_111_7590693.jpg\n",
      "Saved to A:\\Projects\\CollegeProjects\\YogaPartner\\intermediates\\v2\\aug-_112_3938267.jpg\n"
     ]
    },
    {
     "name": "stderr",
     "output_type": "stream",
     "text": [
      "2564it [06:44,  8.31it/s]"
     ]
    },
    {
     "name": "stdout",
     "output_type": "stream",
     "text": [
      "Saved to A:\\Projects\\CollegeProjects\\YogaPartner\\intermediates\\v2\\aug-_113_3996343.jpg\n",
      "Saved to A:\\Projects\\CollegeProjects\\YogaPartner\\intermediates\\v2\\aug-_114_6096744.jpg\n"
     ]
    },
    {
     "name": "stderr",
     "output_type": "stream",
     "text": [
      "2567it [06:45,  9.01it/s]"
     ]
    },
    {
     "name": "stdout",
     "output_type": "stream",
     "text": [
      "Saved to A:\\Projects\\CollegeProjects\\YogaPartner\\intermediates\\v2\\aug-_115_9421901.jpg\n",
      "Saved to A:\\Projects\\CollegeProjects\\YogaPartner\\intermediates\\v2\\aug-_116_7824677.jpg\n",
      "Saved to A:\\Projects\\CollegeProjects\\YogaPartner\\intermediates\\v2\\aug-_117_5856691.jpg\n"
     ]
    },
    {
     "name": "stderr",
     "output_type": "stream",
     "text": [
      "2569it [06:45,  8.71it/s]"
     ]
    },
    {
     "name": "stdout",
     "output_type": "stream",
     "text": [
      "Saved to A:\\Projects\\CollegeProjects\\YogaPartner\\intermediates\\v2\\aug-_11_4510067.jpg\n",
      "Saved to A:\\Projects\\CollegeProjects\\YogaPartner\\intermediates\\v2\\aug-_11_7381434.jpg\n"
     ]
    },
    {
     "name": "stderr",
     "output_type": "stream",
     "text": [
      "2571it [06:45,  8.52it/s]"
     ]
    },
    {
     "name": "stdout",
     "output_type": "stream",
     "text": [
      "Saved to A:\\Projects\\CollegeProjects\\YogaPartner\\intermediates\\v2\\aug-_12_1192126.jpg\n",
      "Saved to A:\\Projects\\CollegeProjects\\YogaPartner\\intermediates\\v2\\aug-_12_8345239.jpg\n"
     ]
    },
    {
     "name": "stderr",
     "output_type": "stream",
     "text": [
      "2573it [06:45,  8.48it/s]"
     ]
    },
    {
     "name": "stdout",
     "output_type": "stream",
     "text": [
      "Saved to A:\\Projects\\CollegeProjects\\YogaPartner\\intermediates\\v2\\aug-_13_5088485.jpg\n",
      "Saved to A:\\Projects\\CollegeProjects\\YogaPartner\\intermediates\\v2\\aug-_13_8940831.jpg\n"
     ]
    },
    {
     "name": "stderr",
     "output_type": "stream",
     "text": [
      "2576it [06:46,  9.61it/s]"
     ]
    },
    {
     "name": "stdout",
     "output_type": "stream",
     "text": [
      "Saved to A:\\Projects\\CollegeProjects\\YogaPartner\\intermediates\\v2\\aug-_14_4187777.jpg\n",
      "Saved to A:\\Projects\\CollegeProjects\\YogaPartner\\intermediates\\v2\\aug-_15_8080110.jpg\n",
      "Saved to A:\\Projects\\CollegeProjects\\YogaPartner\\intermediates\\v2\\aug-_16_7954499.jpg\n"
     ]
    },
    {
     "name": "stderr",
     "output_type": "stream",
     "text": [
      "\r",
      "2578it [06:46, 10.33it/s]"
     ]
    },
    {
     "name": "stdout",
     "output_type": "stream",
     "text": [
      "Saved to A:\\Projects\\CollegeProjects\\YogaPartner\\intermediates\\v2\\aug-_17_1001771.jpg\n",
      "Saved to A:\\Projects\\CollegeProjects\\YogaPartner\\intermediates\\v2\\aug-_18_5607292.jpg\n",
      "Saved to A:\\Projects\\CollegeProjects\\YogaPartner\\intermediates\\v2\\aug-_19_583783.jpg\n"
     ]
    },
    {
     "name": "stderr",
     "output_type": "stream",
     "text": [
      "2582it [06:46, 11.66it/s]"
     ]
    },
    {
     "name": "stdout",
     "output_type": "stream",
     "text": [
      "Saved to A:\\Projects\\CollegeProjects\\YogaPartner\\intermediates\\v2\\aug-_1_3503724.jpg\n",
      "Saved to A:\\Projects\\CollegeProjects\\YogaPartner\\intermediates\\v2\\aug-_1_9214315.jpg\n",
      "Saved to A:\\Projects\\CollegeProjects\\YogaPartner\\intermediates\\v2\\aug-_20_8638057.jpg\n"
     ]
    },
    {
     "name": "stderr",
     "output_type": "stream",
     "text": [
      "\r",
      "2584it [06:46, 11.40it/s]"
     ]
    },
    {
     "name": "stdout",
     "output_type": "stream",
     "text": [
      "Saved to A:\\Projects\\CollegeProjects\\YogaPartner\\intermediates\\v2\\aug-_21_8069200.jpg\n",
      "Saved to A:\\Projects\\CollegeProjects\\YogaPartner\\intermediates\\v2\\aug-_22_3776104.jpg\n",
      "Saved to A:\\Projects\\CollegeProjects\\YogaPartner\\intermediates\\v2\\aug-_23_7907752.jpg\n"
     ]
    },
    {
     "name": "stderr",
     "output_type": "stream",
     "text": [
      "2588it [06:47, 11.06it/s]"
     ]
    },
    {
     "name": "stdout",
     "output_type": "stream",
     "text": [
      "Saved to A:\\Projects\\CollegeProjects\\YogaPartner\\intermediates\\v2\\aug-_24_2717635.jpg\n",
      "Saved to A:\\Projects\\CollegeProjects\\YogaPartner\\intermediates\\v2\\aug-_25_8682643.jpg\n",
      "Saved to A:\\Projects\\CollegeProjects\\YogaPartner\\intermediates\\v2\\aug-_26_6382544.jpg\n"
     ]
    },
    {
     "name": "stderr",
     "output_type": "stream",
     "text": [
      "\r",
      "2590it [06:47, 10.38it/s]"
     ]
    },
    {
     "name": "stdout",
     "output_type": "stream",
     "text": [
      "Saved to A:\\Projects\\CollegeProjects\\YogaPartner\\intermediates\\v2\\aug-_27_6982249.jpg\n",
      "Saved to A:\\Projects\\CollegeProjects\\YogaPartner\\intermediates\\v2\\aug-_28_6119940.jpg\n"
     ]
    },
    {
     "name": "stderr",
     "output_type": "stream",
     "text": [
      "\r",
      "2592it [06:47, 10.26it/s]"
     ]
    },
    {
     "name": "stdout",
     "output_type": "stream",
     "text": [
      "Saved to A:\\Projects\\CollegeProjects\\YogaPartner\\intermediates\\v2\\aug-_29_4977448.jpg\n",
      "Saved to A:\\Projects\\CollegeProjects\\YogaPartner\\intermediates\\v2\\aug-_2_5443132.jpg\n",
      "Saved to A:\\Projects\\CollegeProjects\\YogaPartner\\intermediates\\v2\\aug-_2_8157330.jpg\n"
     ]
    },
    {
     "name": "stderr",
     "output_type": "stream",
     "text": [
      "2596it [06:47, 10.46it/s]"
     ]
    },
    {
     "name": "stdout",
     "output_type": "stream",
     "text": [
      "Saved to A:\\Projects\\CollegeProjects\\YogaPartner\\intermediates\\v2\\aug-_30_9789333.jpg\n",
      "Saved to A:\\Projects\\CollegeProjects\\YogaPartner\\intermediates\\v2\\aug-_31_7576048.jpg\n",
      "Saved to A:\\Projects\\CollegeProjects\\YogaPartner\\intermediates\\v2\\aug-_32_1874504.jpg\n"
     ]
    },
    {
     "name": "stderr",
     "output_type": "stream",
     "text": [
      "\r",
      "2598it [06:48, 10.30it/s]"
     ]
    },
    {
     "name": "stdout",
     "output_type": "stream",
     "text": [
      "Saved to A:\\Projects\\CollegeProjects\\YogaPartner\\intermediates\\v2\\aug-_33_6656922.jpg\n",
      "Saved to A:\\Projects\\CollegeProjects\\YogaPartner\\intermediates\\v2\\aug-_34_5640027.jpg\n",
      "Saved to A:\\Projects\\CollegeProjects\\YogaPartner\\intermediates\\v2\\aug-_35_9139446.jpg\n"
     ]
    },
    {
     "name": "stderr",
     "output_type": "stream",
     "text": [
      "2602it [06:48, 11.56it/s]"
     ]
    },
    {
     "name": "stdout",
     "output_type": "stream",
     "text": [
      "Saved to A:\\Projects\\CollegeProjects\\YogaPartner\\intermediates\\v2\\aug-_36_6315907.jpg\n",
      "Saved to A:\\Projects\\CollegeProjects\\YogaPartner\\intermediates\\v2\\aug-_37_8967812.jpg\n",
      "Saved to A:\\Projects\\CollegeProjects\\YogaPartner\\intermediates\\v2\\aug-_38_6029530.jpg\n"
     ]
    },
    {
     "name": "stderr",
     "output_type": "stream",
     "text": [
      "\r",
      "2604it [06:48, 11.25it/s]"
     ]
    },
    {
     "name": "stdout",
     "output_type": "stream",
     "text": [
      "Saved to A:\\Projects\\CollegeProjects\\YogaPartner\\intermediates\\v2\\aug-_39_6028367.jpg\n",
      "Saved to A:\\Projects\\CollegeProjects\\YogaPartner\\intermediates\\v2\\aug-_3_8452367.jpg\n",
      "Saved to A:\\Projects\\CollegeProjects\\YogaPartner\\intermediates\\v2\\aug-_3_8829653.jpg\n"
     ]
    },
    {
     "name": "stderr",
     "output_type": "stream",
     "text": [
      "2608it [06:49, 11.15it/s]"
     ]
    },
    {
     "name": "stdout",
     "output_type": "stream",
     "text": [
      "Saved to A:\\Projects\\CollegeProjects\\YogaPartner\\intermediates\\v2\\aug-_40_6138528.jpg\n",
      "Saved to A:\\Projects\\CollegeProjects\\YogaPartner\\intermediates\\v2\\aug-_41_8659975.jpg\n",
      "Saved to A:\\Projects\\CollegeProjects\\YogaPartner\\intermediates\\v2\\aug-_42_7280903.jpg\n"
     ]
    },
    {
     "name": "stderr",
     "output_type": "stream",
     "text": [
      "\r",
      "2610it [06:49, 10.58it/s]"
     ]
    },
    {
     "name": "stdout",
     "output_type": "stream",
     "text": [
      "Saved to A:\\Projects\\CollegeProjects\\YogaPartner\\intermediates\\v2\\aug-_43_9233158.jpg\n",
      "Saved to A:\\Projects\\CollegeProjects\\YogaPartner\\intermediates\\v2\\aug-_44_2800114.jpg\n",
      "Saved to A:\\Projects\\CollegeProjects\\YogaPartner\\intermediates\\v2\\aug-_45_8865993.jpg\n"
     ]
    },
    {
     "name": "stderr",
     "output_type": "stream",
     "text": [
      "2614it [06:49, 10.74it/s]"
     ]
    },
    {
     "name": "stdout",
     "output_type": "stream",
     "text": [
      "Saved to A:\\Projects\\CollegeProjects\\YogaPartner\\intermediates\\v2\\aug-_46_5916946.jpg\n",
      "Saved to A:\\Projects\\CollegeProjects\\YogaPartner\\intermediates\\v2\\aug-_47_657575.jpg\n",
      "Saved to A:\\Projects\\CollegeProjects\\YogaPartner\\intermediates\\v2\\aug-_48_6973779.jpg\n"
     ]
    },
    {
     "name": "stderr",
     "output_type": "stream",
     "text": [
      "\r",
      "2616it [06:49, 10.00it/s]"
     ]
    },
    {
     "name": "stdout",
     "output_type": "stream",
     "text": [
      "Saved to A:\\Projects\\CollegeProjects\\YogaPartner\\intermediates\\v2\\aug-_49_232655.jpg\n",
      "Saved to A:\\Projects\\CollegeProjects\\YogaPartner\\intermediates\\v2\\aug-_4_4133011.jpg\n"
     ]
    },
    {
     "name": "stderr",
     "output_type": "stream",
     "text": [
      "\r",
      "2618it [06:50,  9.54it/s]"
     ]
    },
    {
     "name": "stdout",
     "output_type": "stream",
     "text": [
      "Saved to A:\\Projects\\CollegeProjects\\YogaPartner\\intermediates\\v2\\aug-_4_6402835.jpg\n",
      "Saved to A:\\Projects\\CollegeProjects\\YogaPartner\\intermediates\\v2\\aug-_50_9809477.jpg\n"
     ]
    },
    {
     "name": "stderr",
     "output_type": "stream",
     "text": [
      "2620it [06:50,  9.38it/s]"
     ]
    },
    {
     "name": "stdout",
     "output_type": "stream",
     "text": [
      "Saved to A:\\Projects\\CollegeProjects\\YogaPartner\\intermediates\\v2\\aug-_51_6808171.jpg\n",
      "Saved to A:\\Projects\\CollegeProjects\\YogaPartner\\intermediates\\v2\\aug-_52_2579572.jpg\n",
      "Saved to A:\\Projects\\CollegeProjects\\YogaPartner\\intermediates\\v2\\aug-_53_9499156.jpg\n"
     ]
    },
    {
     "name": "stderr",
     "output_type": "stream",
     "text": [
      "2624it [06:50, 10.86it/s]"
     ]
    },
    {
     "name": "stdout",
     "output_type": "stream",
     "text": [
      "Saved to A:\\Projects\\CollegeProjects\\YogaPartner\\intermediates\\v2\\aug-_54_6485178.jpg\n",
      "Saved to A:\\Projects\\CollegeProjects\\YogaPartner\\intermediates\\v2\\aug-_55_5927354.jpg\n",
      "Saved to A:\\Projects\\CollegeProjects\\YogaPartner\\intermediates\\v2\\aug-_56_5419641.jpg\n"
     ]
    },
    {
     "name": "stderr",
     "output_type": "stream",
     "text": [
      "\r",
      "2626it [06:50, 10.20it/s]"
     ]
    },
    {
     "name": "stdout",
     "output_type": "stream",
     "text": [
      "Saved to A:\\Projects\\CollegeProjects\\YogaPartner\\intermediates\\v2\\aug-_57_5511914.jpg\n",
      "Saved to A:\\Projects\\CollegeProjects\\YogaPartner\\intermediates\\v2\\aug-_58_5025094.jpg\n",
      "Saved to A:\\Projects\\CollegeProjects\\YogaPartner\\intermediates\\v2\\aug-_59_6118212.jpg\n"
     ]
    },
    {
     "name": "stderr",
     "output_type": "stream",
     "text": [
      "2630it [06:51, 10.65it/s]"
     ]
    },
    {
     "name": "stdout",
     "output_type": "stream",
     "text": [
      "Saved to A:\\Projects\\CollegeProjects\\YogaPartner\\intermediates\\v2\\aug-_5_5086605.jpg\n",
      "Saved to A:\\Projects\\CollegeProjects\\YogaPartner\\intermediates\\v2\\aug-_5_5904036.jpg\n",
      "Saved to A:\\Projects\\CollegeProjects\\YogaPartner\\intermediates\\v2\\aug-_60_3966684.jpg\n"
     ]
    },
    {
     "name": "stderr",
     "output_type": "stream",
     "text": [
      "\r",
      "2632it [06:51, 11.35it/s]"
     ]
    },
    {
     "name": "stdout",
     "output_type": "stream",
     "text": [
      "Saved to A:\\Projects\\CollegeProjects\\YogaPartner\\intermediates\\v2\\aug-_61_6048152.jpg\n",
      "Saved to A:\\Projects\\CollegeProjects\\YogaPartner\\intermediates\\v2\\aug-_62_6998920.jpg\n",
      "Saved to A:\\Projects\\CollegeProjects\\YogaPartner\\intermediates\\v2\\aug-_63_8195078.jpg\n"
     ]
    },
    {
     "name": "stderr",
     "output_type": "stream",
     "text": [
      "2636it [06:51, 11.29it/s]"
     ]
    },
    {
     "name": "stdout",
     "output_type": "stream",
     "text": [
      "Saved to A:\\Projects\\CollegeProjects\\YogaPartner\\intermediates\\v2\\aug-_64_1374578.jpg\n",
      "Saved to A:\\Projects\\CollegeProjects\\YogaPartner\\intermediates\\v2\\aug-_65_6289304.jpg\n",
      "Saved to A:\\Projects\\CollegeProjects\\YogaPartner\\intermediates\\v2\\aug-_66_6690830.jpg\n"
     ]
    },
    {
     "name": "stderr",
     "output_type": "stream",
     "text": [
      "\r",
      "2638it [06:51, 10.43it/s]"
     ]
    },
    {
     "name": "stdout",
     "output_type": "stream",
     "text": [
      "Saved to A:\\Projects\\CollegeProjects\\YogaPartner\\intermediates\\v2\\aug-_67_1582721.jpg\n",
      "Saved to A:\\Projects\\CollegeProjects\\YogaPartner\\intermediates\\v2\\aug-_68_8752524.jpg\n"
     ]
    },
    {
     "name": "stderr",
     "output_type": "stream",
     "text": [
      "\r",
      "2640it [06:52,  9.76it/s]"
     ]
    },
    {
     "name": "stdout",
     "output_type": "stream",
     "text": [
      "Saved to A:\\Projects\\CollegeProjects\\YogaPartner\\intermediates\\v2\\aug-_69_4510581.jpg\n",
      "Saved to A:\\Projects\\CollegeProjects\\YogaPartner\\intermediates\\v2\\aug-_6_4844644.jpg\n"
     ]
    },
    {
     "name": "stderr",
     "output_type": "stream",
     "text": [
      "2642it [06:52,  8.88it/s]"
     ]
    },
    {
     "name": "stdout",
     "output_type": "stream",
     "text": [
      "Saved to A:\\Projects\\CollegeProjects\\YogaPartner\\intermediates\\v2\\aug-_6_8413612.jpg\n",
      "Saved to A:\\Projects\\CollegeProjects\\YogaPartner\\intermediates\\v2\\aug-_70_47283.jpg\n"
     ]
    },
    {
     "name": "stderr",
     "output_type": "stream",
     "text": [
      "2644it [06:52,  8.64it/s]"
     ]
    },
    {
     "name": "stdout",
     "output_type": "stream",
     "text": [
      "Saved to A:\\Projects\\CollegeProjects\\YogaPartner\\intermediates\\v2\\aug-_71_5944224.jpg\n",
      "Saved to A:\\Projects\\CollegeProjects\\YogaPartner\\intermediates\\v2\\aug-_72_1062999.jpg\n"
     ]
    },
    {
     "name": "stderr",
     "output_type": "stream",
     "text": [
      "2647it [06:52, 10.76it/s]"
     ]
    },
    {
     "name": "stdout",
     "output_type": "stream",
     "text": [
      "Saved to A:\\Projects\\CollegeProjects\\YogaPartner\\intermediates\\v2\\aug-_73_6893761.jpg\n",
      "Saved to A:\\Projects\\CollegeProjects\\YogaPartner\\intermediates\\v2\\aug-_74_2752618.jpg\n",
      "Saved to A:\\Projects\\CollegeProjects\\YogaPartner\\intermediates\\v2\\aug-_75_690286.jpg\n"
     ]
    },
    {
     "name": "stderr",
     "output_type": "stream",
     "text": [
      "\r",
      "2649it [06:53, 10.80it/s]"
     ]
    },
    {
     "name": "stdout",
     "output_type": "stream",
     "text": [
      "Saved to A:\\Projects\\CollegeProjects\\YogaPartner\\intermediates\\v2\\aug-_76_6468782.jpg\n",
      "Saved to A:\\Projects\\CollegeProjects\\YogaPartner\\intermediates\\v2\\aug-_77_5276538.jpg\n",
      "Saved to A:\\Projects\\CollegeProjects\\YogaPartner\\intermediates\\v2\\aug-_78_3003437.jpg\n"
     ]
    },
    {
     "name": "stderr",
     "output_type": "stream",
     "text": [
      "2653it [06:53, 11.73it/s]"
     ]
    },
    {
     "name": "stdout",
     "output_type": "stream",
     "text": [
      "Saved to A:\\Projects\\CollegeProjects\\YogaPartner\\intermediates\\v2\\aug-_79_3893333.jpg\n",
      "Saved to A:\\Projects\\CollegeProjects\\YogaPartner\\intermediates\\v2\\aug-_7_5057285.jpg\n",
      "Saved to A:\\Projects\\CollegeProjects\\YogaPartner\\intermediates\\v2\\aug-_7_8913232.jpg\n"
     ]
    },
    {
     "name": "stderr",
     "output_type": "stream",
     "text": [
      "\r",
      "2655it [06:53, 11.82it/s]"
     ]
    },
    {
     "name": "stdout",
     "output_type": "stream",
     "text": [
      "Saved to A:\\Projects\\CollegeProjects\\YogaPartner\\intermediates\\v2\\aug-_80_5700879.jpg\n",
      "Saved to A:\\Projects\\CollegeProjects\\YogaPartner\\intermediates\\v2\\aug-_81_9976554.jpg\n",
      "Saved to A:\\Projects\\CollegeProjects\\YogaPartner\\intermediates\\v2\\aug-_82_3650371.jpg\n"
     ]
    },
    {
     "name": "stderr",
     "output_type": "stream",
     "text": [
      "2659it [06:54, 10.56it/s]"
     ]
    },
    {
     "name": "stdout",
     "output_type": "stream",
     "text": [
      "Saved to A:\\Projects\\CollegeProjects\\YogaPartner\\intermediates\\v2\\aug-_83_4010534.jpg\n",
      "Saved to A:\\Projects\\CollegeProjects\\YogaPartner\\intermediates\\v2\\aug-_84_6191172.jpg\n",
      "Saved to A:\\Projects\\CollegeProjects\\YogaPartner\\intermediates\\v2\\aug-_85_118062.jpg\n"
     ]
    },
    {
     "name": "stderr",
     "output_type": "stream",
     "text": [
      "\r",
      "2661it [06:54, 10.19it/s]"
     ]
    },
    {
     "name": "stdout",
     "output_type": "stream",
     "text": [
      "Saved to A:\\Projects\\CollegeProjects\\YogaPartner\\intermediates\\v2\\aug-_86_8476904.jpg\n",
      "Saved to A:\\Projects\\CollegeProjects\\YogaPartner\\intermediates\\v2\\aug-_87_8203462.jpg\n"
     ]
    },
    {
     "name": "stderr",
     "output_type": "stream",
     "text": [
      "2664it [06:54,  9.66it/s]"
     ]
    },
    {
     "name": "stdout",
     "output_type": "stream",
     "text": [
      "Saved to A:\\Projects\\CollegeProjects\\YogaPartner\\intermediates\\v2\\aug-_88_9765882.jpg\n",
      "Saved to A:\\Projects\\CollegeProjects\\YogaPartner\\intermediates\\v2\\aug-_89_5515741.jpg\n",
      "Saved to A:\\Projects\\CollegeProjects\\YogaPartner\\intermediates\\v2\\aug-_8_2907522.jpg\n"
     ]
    },
    {
     "name": "stderr",
     "output_type": "stream",
     "text": [
      "\r",
      "2666it [06:54, 10.41it/s]"
     ]
    },
    {
     "name": "stdout",
     "output_type": "stream",
     "text": [
      "Saved to A:\\Projects\\CollegeProjects\\YogaPartner\\intermediates\\v2\\aug-_8_5248894.jpg\n",
      "Saved to A:\\Projects\\CollegeProjects\\YogaPartner\\intermediates\\v2\\aug-_90_3648047.jpg\n",
      "Saved to A:\\Projects\\CollegeProjects\\YogaPartner\\intermediates\\v2\\aug-_91_8290078.jpg\n",
      "Saved to A:\\Projects\\CollegeProjects\\YogaPartner\\intermediates\\v2\\aug-_92_1981926.jpg\n"
     ]
    },
    {
     "name": "stderr",
     "output_type": "stream",
     "text": [
      "\r",
      "2669it [06:54, 12.06it/s]"
     ]
    },
    {
     "name": "stdout",
     "output_type": "stream",
     "text": [
      "Saved to A:\\Projects\\CollegeProjects\\YogaPartner\\intermediates\\v2\\aug-_93_3445134.jpg\n",
      "Saved to A:\\Projects\\CollegeProjects\\YogaPartner\\intermediates\\v2\\aug-_94_1492977.jpg\n"
     ]
    },
    {
     "name": "stderr",
     "output_type": "stream",
     "text": [
      "\r",
      "2671it [06:55, 10.90it/s]"
     ]
    },
    {
     "name": "stdout",
     "output_type": "stream",
     "text": [
      "Saved to A:\\Projects\\CollegeProjects\\YogaPartner\\intermediates\\v2\\aug-_95_228411.jpg\n",
      "Saved to A:\\Projects\\CollegeProjects\\YogaPartner\\intermediates\\v2\\aug-_96_6779960.jpg\n"
     ]
    },
    {
     "name": "stderr",
     "output_type": "stream",
     "text": [
      "2675it [06:55, 10.17it/s]"
     ]
    },
    {
     "name": "stdout",
     "output_type": "stream",
     "text": [
      "Saved to A:\\Projects\\CollegeProjects\\YogaPartner\\intermediates\\v2\\aug-_97_6128813.jpg\n",
      "Saved to A:\\Projects\\CollegeProjects\\YogaPartner\\intermediates\\v2\\aug-_98_2228638.jpg\n",
      "Saved to A:\\Projects\\CollegeProjects\\YogaPartner\\intermediates\\v2\\aug-_99_3589529.jpg\n"
     ]
    },
    {
     "name": "stderr",
     "output_type": "stream",
     "text": [
      "\r",
      "2677it [06:55, 10.51it/s]"
     ]
    },
    {
     "name": "stdout",
     "output_type": "stream",
     "text": [
      "Saved to A:\\Projects\\CollegeProjects\\YogaPartner\\intermediates\\v2\\aug-_9_9167289.jpg\n",
      "Saved to A:\\Projects\\CollegeProjects\\YogaPartner\\intermediates\\v2\\aug-_9_9565725.jpg\n",
      "Saved to A:\\Projects\\CollegeProjects\\YogaPartner\\intermediates\\v2\\aug-_0_8692796.jpg\n"
     ]
    },
    {
     "name": "stderr",
     "output_type": "stream",
     "text": [
      "2681it [06:56, 10.69it/s]"
     ]
    },
    {
     "name": "stdout",
     "output_type": "stream",
     "text": [
      "Saved to A:\\Projects\\CollegeProjects\\YogaPartner\\intermediates\\v2\\aug-_10_964227.jpg\n",
      "Saved to A:\\Projects\\CollegeProjects\\YogaPartner\\intermediates\\v2\\aug-_11_656337.jpg\n",
      "Saved to A:\\Projects\\CollegeProjects\\YogaPartner\\intermediates\\v2\\aug-_12_7164537.jpg\n"
     ]
    },
    {
     "name": "stderr",
     "output_type": "stream",
     "text": [
      "\r",
      "2683it [06:56, 10.58it/s]"
     ]
    },
    {
     "name": "stdout",
     "output_type": "stream",
     "text": [
      "Saved to A:\\Projects\\CollegeProjects\\YogaPartner\\intermediates\\v2\\aug-_13_7742618.jpg\n",
      "Saved to A:\\Projects\\CollegeProjects\\YogaPartner\\intermediates\\v2\\aug-_14_1888939.jpg\n",
      "Saved to A:\\Projects\\CollegeProjects\\YogaPartner\\intermediates\\v2\\aug-_15_3319286.jpg\n"
     ]
    },
    {
     "name": "stderr",
     "output_type": "stream",
     "text": [
      "\r",
      "2685it [06:56, 10.50it/s]"
     ]
    },
    {
     "name": "stdout",
     "output_type": "stream",
     "text": [
      "Saved to A:\\Projects\\CollegeProjects\\YogaPartner\\intermediates\\v2\\aug-_16_5200120.jpg\n",
      "Saved to A:\\Projects\\CollegeProjects\\YogaPartner\\intermediates\\v2\\aug-_17_9260523.jpg\n"
     ]
    },
    {
     "name": "stderr",
     "output_type": "stream",
     "text": [
      "2689it [06:56, 10.41it/s]"
     ]
    },
    {
     "name": "stdout",
     "output_type": "stream",
     "text": [
      "Saved to A:\\Projects\\CollegeProjects\\YogaPartner\\intermediates\\v2\\aug-_18_158781.jpg\n",
      "Saved to A:\\Projects\\CollegeProjects\\YogaPartner\\intermediates\\v2\\aug-_19_3612624.jpg\n",
      "Saved to A:\\Projects\\CollegeProjects\\YogaPartner\\intermediates\\v2\\aug-_1_9022532.jpg\n"
     ]
    },
    {
     "name": "stderr",
     "output_type": "stream",
     "text": [
      "\r",
      "2691it [06:57, 10.38it/s]"
     ]
    },
    {
     "name": "stdout",
     "output_type": "stream",
     "text": [
      "Saved to A:\\Projects\\CollegeProjects\\YogaPartner\\intermediates\\v2\\aug-_20_6811662.jpg\n",
      "Saved to A:\\Projects\\CollegeProjects\\YogaPartner\\intermediates\\v2\\aug-_21_2889086.jpg\n",
      "Saved to A:\\Projects\\CollegeProjects\\YogaPartner\\intermediates\\v2\\aug-_22_799687.jpg\n"
     ]
    },
    {
     "name": "stderr",
     "output_type": "stream",
     "text": [
      "2695it [06:57, 11.66it/s]"
     ]
    },
    {
     "name": "stdout",
     "output_type": "stream",
     "text": [
      "Saved to A:\\Projects\\CollegeProjects\\YogaPartner\\intermediates\\v2\\aug-_23_8346332.jpg\n",
      "Saved to A:\\Projects\\CollegeProjects\\YogaPartner\\intermediates\\v2\\aug-_24_2590174.jpg\n",
      "Saved to A:\\Projects\\CollegeProjects\\YogaPartner\\intermediates\\v2\\aug-_25_1755783.jpg\n"
     ]
    },
    {
     "name": "stderr",
     "output_type": "stream",
     "text": [
      "\r",
      "2697it [06:57, 11.11it/s]"
     ]
    },
    {
     "name": "stdout",
     "output_type": "stream",
     "text": [
      "Saved to A:\\Projects\\CollegeProjects\\YogaPartner\\intermediates\\v2\\aug-_26_3979546.jpg\n",
      "Saved to A:\\Projects\\CollegeProjects\\YogaPartner\\intermediates\\v2\\aug-_27_7903753.jpg\n",
      "Saved to A:\\Projects\\CollegeProjects\\YogaPartner\\intermediates\\v2\\aug-_28_9287836.jpg\n"
     ]
    },
    {
     "name": "stderr",
     "output_type": "stream",
     "text": [
      "2701it [06:57, 10.92it/s]"
     ]
    },
    {
     "name": "stdout",
     "output_type": "stream",
     "text": [
      "Saved to A:\\Projects\\CollegeProjects\\YogaPartner\\intermediates\\v2\\aug-_29_3969887.jpg\n",
      "Saved to A:\\Projects\\CollegeProjects\\YogaPartner\\intermediates\\v2\\aug-_2_3255584.jpg\n",
      "Saved to A:\\Projects\\CollegeProjects\\YogaPartner\\intermediates\\v2\\aug-_30_5138152.jpg\n"
     ]
    },
    {
     "name": "stderr",
     "output_type": "stream",
     "text": [
      "\r",
      "2703it [06:58, 10.82it/s]"
     ]
    },
    {
     "name": "stdout",
     "output_type": "stream",
     "text": [
      "Saved to A:\\Projects\\CollegeProjects\\YogaPartner\\intermediates\\v2\\aug-_31_9017894.jpg\n",
      "Saved to A:\\Projects\\CollegeProjects\\YogaPartner\\intermediates\\v2\\aug-_32_6296714.jpg\n",
      "Saved to A:\\Projects\\CollegeProjects\\YogaPartner\\intermediates\\v2\\aug-_33_6188503.jpg\n"
     ]
    },
    {
     "name": "stderr",
     "output_type": "stream",
     "text": [
      "\r",
      "2705it [06:58, 11.01it/s]"
     ]
    },
    {
     "name": "stdout",
     "output_type": "stream",
     "text": [
      "Saved to A:\\Projects\\CollegeProjects\\YogaPartner\\intermediates\\v2\\aug-_34_1570566.jpg\n",
      "Saved to A:\\Projects\\CollegeProjects\\YogaPartner\\intermediates\\v2\\aug-_35_4890827.jpg\n"
     ]
    },
    {
     "name": "stderr",
     "output_type": "stream",
     "text": [
      "\r",
      "2707it [06:58, 10.30it/s]"
     ]
    },
    {
     "name": "stdout",
     "output_type": "stream",
     "text": [
      "Saved to A:\\Projects\\CollegeProjects\\YogaPartner\\intermediates\\v2\\aug-_36_7873566.jpg\n",
      "Saved to A:\\Projects\\CollegeProjects\\YogaPartner\\intermediates\\v2\\aug-_37_172019.jpg\n"
     ]
    },
    {
     "name": "stderr",
     "output_type": "stream",
     "text": [
      "2711it [06:58, 10.02it/s]"
     ]
    },
    {
     "name": "stdout",
     "output_type": "stream",
     "text": [
      "Saved to A:\\Projects\\CollegeProjects\\YogaPartner\\intermediates\\v2\\aug-_38_4056220.jpg\n",
      "Saved to A:\\Projects\\CollegeProjects\\YogaPartner\\intermediates\\v2\\aug-_39_486180.jpg\n",
      "Saved to A:\\Projects\\CollegeProjects\\YogaPartner\\intermediates\\v2\\aug-_3_8177255.jpg\n"
     ]
    },
    {
     "name": "stderr",
     "output_type": "stream",
     "text": [
      "\r",
      "2713it [06:59,  9.94it/s]"
     ]
    },
    {
     "name": "stdout",
     "output_type": "stream",
     "text": [
      "Saved to A:\\Projects\\CollegeProjects\\YogaPartner\\intermediates\\v2\\aug-_40_1403123.jpg\n",
      "Saved to A:\\Projects\\CollegeProjects\\YogaPartner\\intermediates\\v2\\aug-_41_303407.jpg\n"
     ]
    },
    {
     "name": "stderr",
     "output_type": "stream",
     "text": [
      "\r",
      "2715it [06:59,  9.38it/s]"
     ]
    },
    {
     "name": "stdout",
     "output_type": "stream",
     "text": [
      "Saved to A:\\Projects\\CollegeProjects\\YogaPartner\\intermediates\\v2\\aug-_42_7858204.jpg\n",
      "Saved to A:\\Projects\\CollegeProjects\\YogaPartner\\intermediates\\v2\\aug-_43_5620078.jpg\n"
     ]
    },
    {
     "name": "stderr",
     "output_type": "stream",
     "text": [
      "2717it [06:59,  8.94it/s]"
     ]
    },
    {
     "name": "stdout",
     "output_type": "stream",
     "text": [
      "Saved to A:\\Projects\\CollegeProjects\\YogaPartner\\intermediates\\v2\\aug-_44_2410853.jpg\n",
      "Saved to A:\\Projects\\CollegeProjects\\YogaPartner\\intermediates\\v2\\aug-_45_469417.jpg\n"
     ]
    },
    {
     "name": "stderr",
     "output_type": "stream",
     "text": [
      "2719it [06:59,  8.90it/s]"
     ]
    },
    {
     "name": "stdout",
     "output_type": "stream",
     "text": [
      "Saved to A:\\Projects\\CollegeProjects\\YogaPartner\\intermediates\\v2\\aug-_46_7116959.jpg\n",
      "Saved to A:\\Projects\\CollegeProjects\\YogaPartner\\intermediates\\v2\\aug-_47_449089.jpg\n",
      "Saved to A:\\Projects\\CollegeProjects\\YogaPartner\\intermediates\\v2\\aug-_48_3994218.jpg\n"
     ]
    },
    {
     "name": "stderr",
     "output_type": "stream",
     "text": [
      "2722it [07:00,  9.62it/s]"
     ]
    },
    {
     "name": "stdout",
     "output_type": "stream",
     "text": [
      "Saved to A:\\Projects\\CollegeProjects\\YogaPartner\\intermediates\\v2\\aug-_49_9523362.jpg\n",
      "Saved to A:\\Projects\\CollegeProjects\\YogaPartner\\intermediates\\v2\\aug-_4_8173034.jpg\n",
      "Saved to A:\\Projects\\CollegeProjects\\YogaPartner\\intermediates\\v2\\aug-_50_58680.jpg\n"
     ]
    },
    {
     "name": "stderr",
     "output_type": "stream",
     "text": [
      "2725it [07:00,  9.69it/s]"
     ]
    },
    {
     "name": "stdout",
     "output_type": "stream",
     "text": [
      "Saved to A:\\Projects\\CollegeProjects\\YogaPartner\\intermediates\\v2\\aug-_51_7659409.jpg\n",
      "Saved to A:\\Projects\\CollegeProjects\\YogaPartner\\intermediates\\v2\\aug-_52_8523602.jpg\n"
     ]
    },
    {
     "name": "stderr",
     "output_type": "stream",
     "text": [
      "2728it [07:00,  9.57it/s]"
     ]
    },
    {
     "name": "stdout",
     "output_type": "stream",
     "text": [
      "Saved to A:\\Projects\\CollegeProjects\\YogaPartner\\intermediates\\v2\\aug-_53_977394.jpg\n",
      "Saved to A:\\Projects\\CollegeProjects\\YogaPartner\\intermediates\\v2\\aug-_54_89430.jpg\n",
      "Saved to A:\\Projects\\CollegeProjects\\YogaPartner\\intermediates\\v2\\aug-_55_4333285.jpg\n"
     ]
    },
    {
     "name": "stderr",
     "output_type": "stream",
     "text": [
      "2731it [07:01,  9.54it/s]"
     ]
    },
    {
     "name": "stdout",
     "output_type": "stream",
     "text": [
      "Saved to A:\\Projects\\CollegeProjects\\YogaPartner\\intermediates\\v2\\aug-_56_993148.jpg\n",
      "Saved to A:\\Projects\\CollegeProjects\\YogaPartner\\intermediates\\v2\\aug-_57_7283061.jpg\n",
      "Saved to A:\\Projects\\CollegeProjects\\YogaPartner\\intermediates\\v2\\aug-_58_5716489.jpg\n"
     ]
    },
    {
     "name": "stderr",
     "output_type": "stream",
     "text": [
      "2734it [07:01,  9.78it/s]"
     ]
    },
    {
     "name": "stdout",
     "output_type": "stream",
     "text": [
      "Saved to A:\\Projects\\CollegeProjects\\YogaPartner\\intermediates\\v2\\aug-_59_9316189.jpg\n",
      "Saved to A:\\Projects\\CollegeProjects\\YogaPartner\\intermediates\\v2\\aug-_5_6688559.jpg\n",
      "Saved to A:\\Projects\\CollegeProjects\\YogaPartner\\intermediates\\v2\\aug-_60_8775119.jpg\n"
     ]
    },
    {
     "name": "stderr",
     "output_type": "stream",
     "text": [
      "\r",
      "2736it [07:01, 10.09it/s]"
     ]
    },
    {
     "name": "stdout",
     "output_type": "stream",
     "text": [
      "Saved to A:\\Projects\\CollegeProjects\\YogaPartner\\intermediates\\v2\\aug-_61_7424379.jpg\n",
      "Saved to A:\\Projects\\CollegeProjects\\YogaPartner\\intermediates\\v2\\aug-_62_6717963.jpg\n",
      "Saved to A:\\Projects\\CollegeProjects\\YogaPartner\\intermediates\\v2\\aug-_63_3389316.jpg\n"
     ]
    },
    {
     "name": "stderr",
     "output_type": "stream",
     "text": [
      "2740it [07:01, 10.53it/s]"
     ]
    },
    {
     "name": "stdout",
     "output_type": "stream",
     "text": [
      "Saved to A:\\Projects\\CollegeProjects\\YogaPartner\\intermediates\\v2\\aug-_64_3263072.jpg\n",
      "Saved to A:\\Projects\\CollegeProjects\\YogaPartner\\intermediates\\v2\\aug-_65_7607507.jpg\n",
      "Saved to A:\\Projects\\CollegeProjects\\YogaPartner\\intermediates\\v2\\aug-_66_5934494.jpg\n"
     ]
    },
    {
     "name": "stderr",
     "output_type": "stream",
     "text": [
      "\r",
      "2742it [07:02, 10.49it/s]"
     ]
    },
    {
     "name": "stdout",
     "output_type": "stream",
     "text": [
      "Saved to A:\\Projects\\CollegeProjects\\YogaPartner\\intermediates\\v2\\aug-_67_7893583.jpg\n",
      "Saved to A:\\Projects\\CollegeProjects\\YogaPartner\\intermediates\\v2\\aug-_68_8419894.jpg\n",
      "Saved to A:\\Projects\\CollegeProjects\\YogaPartner\\intermediates\\v2\\aug-_69_6124172.jpg\n"
     ]
    },
    {
     "name": "stderr",
     "output_type": "stream",
     "text": [
      "\r",
      "2744it [07:02, 10.69it/s]"
     ]
    },
    {
     "name": "stdout",
     "output_type": "stream",
     "text": [
      "Saved to A:\\Projects\\CollegeProjects\\YogaPartner\\intermediates\\v2\\aug-_6_9544381.jpg\n",
      "Saved to A:\\Projects\\CollegeProjects\\YogaPartner\\intermediates\\v2\\aug-_70_2231637.jpg\n"
     ]
    },
    {
     "name": "stderr",
     "output_type": "stream",
     "text": [
      "2748it [07:02, 10.08it/s]"
     ]
    },
    {
     "name": "stdout",
     "output_type": "stream",
     "text": [
      "Saved to A:\\Projects\\CollegeProjects\\YogaPartner\\intermediates\\v2\\aug-_71_6939083.jpg\n",
      "Saved to A:\\Projects\\CollegeProjects\\YogaPartner\\intermediates\\v2\\aug-_72_6892936.jpg\n",
      "Saved to A:\\Projects\\CollegeProjects\\YogaPartner\\intermediates\\v2\\aug-_7_5895488.jpg\n"
     ]
    },
    {
     "name": "stderr",
     "output_type": "stream",
     "text": [
      "2750it [07:02,  6.50it/s]\n"
     ]
    },
    {
     "name": "stdout",
     "output_type": "stream",
     "text": [
      "Saved to A:\\Projects\\CollegeProjects\\YogaPartner\\intermediates\\v2\\aug-_8_2310389.jpg\n",
      "Saved to A:\\Projects\\CollegeProjects\\YogaPartner\\intermediates\\v2\\aug-_9_4710843.jpg\n"
     ]
    },
    {
     "name": "stderr",
     "output_type": "stream",
     "text": [
      "2it [00:00,  3.30it/s]"
     ]
    },
    {
     "name": "stdout",
     "output_type": "stream",
     "text": [
      "Saved to A:\\Projects\\CollegeProjects\\YogaPartner\\intermediates\\v2\\virabhadrasana_ii_247.jpg\n",
      "Saved to A:\\Projects\\CollegeProjects\\YogaPartner\\intermediates\\v2\\bhujangasana_500.jpg\n"
     ]
    },
    {
     "name": "stderr",
     "output_type": "stream",
     "text": [
      "4it [00:00,  4.89it/s]"
     ]
    },
    {
     "name": "stdout",
     "output_type": "stream",
     "text": [
      "Saved to A:\\Projects\\CollegeProjects\\YogaPartner\\intermediates\\v2\\adho_mukha_shvanasana_51.jpg\n",
      "Saved to A:\\Projects\\CollegeProjects\\YogaPartner\\intermediates\\v2\\utkatasana_137.jpg\n"
     ]
    },
    {
     "name": "stderr",
     "output_type": "stream",
     "text": [
      "6it [00:01,  5.03it/s]"
     ]
    },
    {
     "name": "stdout",
     "output_type": "stream",
     "text": [
      "Saved to A:\\Projects\\CollegeProjects\\YogaPartner\\intermediates\\v2\\utkatasana_64.jpg\n",
      "Saved to A:\\Projects\\CollegeProjects\\YogaPartner\\intermediates\\v2\\virabhadrasana_i_5.jpg\n"
     ]
    },
    {
     "name": "stderr",
     "output_type": "stream",
     "text": [
      "8it [00:01,  5.79it/s]"
     ]
    },
    {
     "name": "stdout",
     "output_type": "stream",
     "text": [
      "Saved to A:\\Projects\\CollegeProjects\\YogaPartner\\intermediates\\v2\\bhujangasana_99.jpg\n",
      "Saved to A:\\Projects\\CollegeProjects\\YogaPartner\\intermediates\\v2\\vrikshasana_205.jpg\n"
     ]
    },
    {
     "name": "stderr",
     "output_type": "stream",
     "text": [
      "10it [00:01,  6.76it/s]"
     ]
    },
    {
     "name": "stdout",
     "output_type": "stream",
     "text": [
      "Saved to A:\\Projects\\CollegeProjects\\YogaPartner\\intermediates\\v2\\bhujangasana_499.jpg\n",
      "Saved to A:\\Projects\\CollegeProjects\\YogaPartner\\intermediates\\v2\\utkatasana_49.jpg\n"
     ]
    },
    {
     "name": "stderr",
     "output_type": "stream",
     "text": [
      "12it [00:02,  7.21it/s]"
     ]
    },
    {
     "name": "stdout",
     "output_type": "stream",
     "text": [
      "Saved to A:\\Projects\\CollegeProjects\\YogaPartner\\intermediates\\v2\\bidalasana_41.jpg\n",
      "Saved to A:\\Projects\\CollegeProjects\\YogaPartner\\intermediates\\v2\\utkata_konasana_171.jpg\n"
     ]
    },
    {
     "name": "stderr",
     "output_type": "stream",
     "text": [
      "14it [00:02,  7.44it/s]"
     ]
    },
    {
     "name": "stdout",
     "output_type": "stream",
     "text": [
      "Saved to A:\\Projects\\CollegeProjects\\YogaPartner\\intermediates\\v2\\bhujangasana_126.jpg\n",
      "Saved to A:\\Projects\\CollegeProjects\\YogaPartner\\intermediates\\v2\\adho_mukha_shvanasana_342.jpg\n"
     ]
    },
    {
     "name": "stderr",
     "output_type": "stream",
     "text": [
      "\r",
      "15it [00:02,  6.88it/s]"
     ]
    },
    {
     "name": "stdout",
     "output_type": "stream",
     "text": [
      "Saved to A:\\Projects\\CollegeProjects\\YogaPartner\\intermediates\\v2\\bhujangasana_203.jpg\n",
      "Saved to A:\\Projects\\CollegeProjects\\YogaPartner\\intermediates\\v2\\virabhadrasana_i_53.jpg\n"
     ]
    },
    {
     "name": "stderr",
     "output_type": "stream",
     "text": [
      "18it [00:03,  7.70it/s]"
     ]
    },
    {
     "name": "stdout",
     "output_type": "stream",
     "text": [
      "Saved to A:\\Projects\\CollegeProjects\\YogaPartner\\intermediates\\v2\\adho_mukha_shvanasana_2.jpg\n",
      "Saved to A:\\Projects\\CollegeProjects\\YogaPartner\\intermediates\\v2\\bhujangasana_359.jpg\n"
     ]
    },
    {
     "name": "stderr",
     "output_type": "stream",
     "text": [
      "\r",
      "19it [00:03,  7.34it/s]"
     ]
    },
    {
     "name": "stdout",
     "output_type": "stream",
     "text": [
      "Saved to A:\\Projects\\CollegeProjects\\YogaPartner\\intermediates\\v2\\bidalasana_26.jpeg\n"
     ]
    },
    {
     "name": "stderr",
     "output_type": "stream",
     "text": [
      "21it [00:03,  4.47it/s]"
     ]
    },
    {
     "name": "stdout",
     "output_type": "stream",
     "text": [
      "Saved to A:\\Projects\\CollegeProjects\\YogaPartner\\intermediates\\v2\\virabhadrasana_i_29.jpg\n",
      "Saved to A:\\Projects\\CollegeProjects\\YogaPartner\\intermediates\\v2\\virabhadrasana_i_109.jpg\n"
     ]
    },
    {
     "name": "stderr",
     "output_type": "stream",
     "text": [
      "23it [00:04,  5.58it/s]"
     ]
    },
    {
     "name": "stdout",
     "output_type": "stream",
     "text": [
      "Saved to A:\\Projects\\CollegeProjects\\YogaPartner\\intermediates\\v2\\utkatasana_159.jpg\n",
      "Saved to A:\\Projects\\CollegeProjects\\YogaPartner\\intermediates\\v2\\bidalasana_83.jpg\n"
     ]
    },
    {
     "name": "stderr",
     "output_type": "stream",
     "text": [
      "\r",
      "24it [00:04,  5.77it/s]"
     ]
    },
    {
     "name": "stdout",
     "output_type": "stream",
     "text": [
      "Saved to A:\\Projects\\CollegeProjects\\YogaPartner\\intermediates\\v2\\bidalasana_150.jpg\n"
     ]
    },
    {
     "name": "stderr",
     "output_type": "stream",
     "text": [
      "26it [00:05,  3.88it/s]"
     ]
    },
    {
     "name": "stdout",
     "output_type": "stream",
     "text": [
      "Saved to A:\\Projects\\CollegeProjects\\YogaPartner\\intermediates\\v2\\adho_mukha_shvanasana_134.jpg\n",
      "Saved to A:\\Projects\\CollegeProjects\\YogaPartner\\intermediates\\v2\\virabhadrasana_ii_196.jpg\n"
     ]
    },
    {
     "name": "stderr",
     "output_type": "stream",
     "text": [
      "\r",
      "27it [00:05,  4.05it/s]"
     ]
    },
    {
     "name": "stdout",
     "output_type": "stream",
     "text": [
      "Saved to A:\\Projects\\CollegeProjects\\YogaPartner\\intermediates\\v2\\phalakasana_100.jpg\n"
     ]
    },
    {
     "name": "stderr",
     "output_type": "stream",
     "text": [
      "29it [00:05,  4.64it/s]"
     ]
    },
    {
     "name": "stdout",
     "output_type": "stream",
     "text": [
      "Saved to A:\\Projects\\CollegeProjects\\YogaPartner\\intermediates\\v2\\bidalasana_35.jpg\n",
      "Saved to A:\\Projects\\CollegeProjects\\YogaPartner\\intermediates\\v2\\phalakasana_12.jpg\n"
     ]
    },
    {
     "name": "stderr",
     "output_type": "stream",
     "text": [
      "31it [00:06,  5.06it/s]"
     ]
    },
    {
     "name": "stdout",
     "output_type": "stream",
     "text": [
      "Saved to A:\\Projects\\CollegeProjects\\YogaPartner\\intermediates\\v2\\virabhadrasana_ii_235.jpg\n",
      "Saved to A:\\Projects\\CollegeProjects\\YogaPartner\\intermediates\\v2\\utkata_konasana_72.jpg\n"
     ]
    },
    {
     "name": "stderr",
     "output_type": "stream",
     "text": [
      "33it [00:06,  5.66it/s]"
     ]
    },
    {
     "name": "stdout",
     "output_type": "stream",
     "text": [
      "Saved to A:\\Projects\\CollegeProjects\\YogaPartner\\intermediates\\v2\\utkata_konasana_195.jpg\n",
      "Saved to A:\\Projects\\CollegeProjects\\YogaPartner\\intermediates\\v2\\virabhadrasana_ii_290.jpg\n"
     ]
    },
    {
     "name": "stderr",
     "output_type": "stream",
     "text": [
      "35it [00:06,  4.29it/s]"
     ]
    },
    {
     "name": "stdout",
     "output_type": "stream",
     "text": [
      "Saved to A:\\Projects\\CollegeProjects\\YogaPartner\\intermediates\\v2\\vrikshasana_76.jpg\n",
      "Saved to A:\\Projects\\CollegeProjects\\YogaPartner\\intermediates\\v2\\bhujangasana_55.jpg\n"
     ]
    },
    {
     "name": "stderr",
     "output_type": "stream",
     "text": [
      "37it [00:07,  5.14it/s]"
     ]
    },
    {
     "name": "stdout",
     "output_type": "stream",
     "text": [
      "Saved to A:\\Projects\\CollegeProjects\\YogaPartner\\intermediates\\v2\\vrikshasana_306.jpg\n",
      "Saved to A:\\Projects\\CollegeProjects\\YogaPartner\\intermediates\\v2\\bidalasana_67.jpg\n"
     ]
    },
    {
     "name": "stderr",
     "output_type": "stream",
     "text": [
      "39it [00:07,  5.80it/s]"
     ]
    },
    {
     "name": "stdout",
     "output_type": "stream",
     "text": [
      "Saved to A:\\Projects\\CollegeProjects\\YogaPartner\\intermediates\\v2\\vasisthasana_84.jpg\n",
      "Saved to A:\\Projects\\CollegeProjects\\YogaPartner\\intermediates\\v2\\bidalasana_172.jpg\n"
     ]
    },
    {
     "name": "stderr",
     "output_type": "stream",
     "text": [
      "41it [00:07,  6.54it/s]"
     ]
    },
    {
     "name": "stdout",
     "output_type": "stream",
     "text": [
      "Saved to A:\\Projects\\CollegeProjects\\YogaPartner\\intermediates\\v2\\virabhadrasana_ii_34.jpg\n",
      "Saved to A:\\Projects\\CollegeProjects\\YogaPartner\\intermediates\\v2\\phalakasana_53.jpg\n"
     ]
    },
    {
     "name": "stderr",
     "output_type": "stream",
     "text": [
      "43it [00:08,  6.70it/s]"
     ]
    },
    {
     "name": "stdout",
     "output_type": "stream",
     "text": [
      "Saved to A:\\Projects\\CollegeProjects\\YogaPartner\\intermediates\\v2\\virabhadrasana_i_107.jpg\n",
      "Saved to A:\\Projects\\CollegeProjects\\YogaPartner\\intermediates\\v2\\bhujangasana_183.jpg\n"
     ]
    },
    {
     "name": "stderr",
     "output_type": "stream",
     "text": [
      "45it [00:08,  6.63it/s]"
     ]
    },
    {
     "name": "stdout",
     "output_type": "stream",
     "text": [
      "Saved to A:\\Projects\\CollegeProjects\\YogaPartner\\intermediates\\v2\\vasisthasana_120.jpg\n",
      "Saved to A:\\Projects\\CollegeProjects\\YogaPartner\\intermediates\\v2\\adho_mukha_shvanasana_412.jpg\n"
     ]
    },
    {
     "name": "stderr",
     "output_type": "stream",
     "text": [
      "47it [00:08,  7.41it/s]"
     ]
    },
    {
     "name": "stdout",
     "output_type": "stream",
     "text": [
      "Saved to A:\\Projects\\CollegeProjects\\YogaPartner\\intermediates\\v2\\phalakasana_7.jpg\n",
      "Saved to A:\\Projects\\CollegeProjects\\YogaPartner\\intermediates\\v2\\bidalasana_31.jpg\n"
     ]
    },
    {
     "name": "stderr",
     "output_type": "stream",
     "text": [
      "49it [00:08,  7.78it/s]"
     ]
    },
    {
     "name": "stdout",
     "output_type": "stream",
     "text": [
      "Saved to A:\\Projects\\CollegeProjects\\YogaPartner\\intermediates\\v2\\bhujangasana_360.jpg\n",
      "Saved to A:\\Projects\\CollegeProjects\\YogaPartner\\intermediates\\v2\\utkata_konasana_180.jpg\n"
     ]
    },
    {
     "name": "stderr",
     "output_type": "stream",
     "text": [
      "51it [00:09,  8.36it/s]"
     ]
    },
    {
     "name": "stdout",
     "output_type": "stream",
     "text": [
      "Saved to A:\\Projects\\CollegeProjects\\YogaPartner\\intermediates\\v2\\ustrasana_29.jpg\n",
      "Saved to A:\\Projects\\CollegeProjects\\YogaPartner\\intermediates\\v2\\utkatasana_198.jpg\n"
     ]
    },
    {
     "name": "stderr",
     "output_type": "stream",
     "text": [
      "\r",
      "52it [00:09,  7.07it/s]"
     ]
    },
    {
     "name": "stdout",
     "output_type": "stream",
     "text": [
      "Saved to A:\\Projects\\CollegeProjects\\YogaPartner\\intermediates\\v2\\bhujangasana_557.jpg\n"
     ]
    },
    {
     "name": "stderr",
     "output_type": "stream",
     "text": [
      "54it [00:09,  5.57it/s]"
     ]
    },
    {
     "name": "stdout",
     "output_type": "stream",
     "text": [
      "Saved to A:\\Projects\\CollegeProjects\\YogaPartner\\intermediates\\v2\\bhujangasana_2.jpg\n",
      "Saved to A:\\Projects\\CollegeProjects\\YogaPartner\\intermediates\\v2\\virabhadrasana_i_147.jpg\n"
     ]
    },
    {
     "name": "stderr",
     "output_type": "stream",
     "text": [
      "56it [00:10,  6.44it/s]"
     ]
    },
    {
     "name": "stdout",
     "output_type": "stream",
     "text": [
      "Saved to A:\\Projects\\CollegeProjects\\YogaPartner\\intermediates\\v2\\virabhadrasana_ii_225.jpg\n",
      "Saved to A:\\Projects\\CollegeProjects\\YogaPartner\\intermediates\\v2\\utkatasana_12.jpg\n"
     ]
    },
    {
     "name": "stderr",
     "output_type": "stream",
     "text": [
      "58it [00:10,  6.03it/s]"
     ]
    },
    {
     "name": "stdout",
     "output_type": "stream",
     "text": [
      "Saved to A:\\Projects\\CollegeProjects\\YogaPartner\\intermediates\\v2\\bidalasana_220.jpg\n",
      "Saved to A:\\Projects\\CollegeProjects\\YogaPartner\\intermediates\\v2\\adho_mukha_shvanasana_360.jpg\n"
     ]
    },
    {
     "name": "stderr",
     "output_type": "stream",
     "text": [
      "60it [00:10,  5.91it/s]"
     ]
    },
    {
     "name": "stdout",
     "output_type": "stream",
     "text": [
      "Saved to A:\\Projects\\CollegeProjects\\YogaPartner\\intermediates\\v2\\vrikshasana_19.jpg\n",
      "Saved to A:\\Projects\\CollegeProjects\\YogaPartner\\intermediates\\v2\\vrikshasana_243.jpg\n"
     ]
    },
    {
     "name": "stderr",
     "output_type": "stream",
     "text": [
      "62it [00:11,  5.92it/s]"
     ]
    },
    {
     "name": "stdout",
     "output_type": "stream",
     "text": [
      "Saved to A:\\Projects\\CollegeProjects\\YogaPartner\\intermediates\\v2\\vrikshasana_26.jpg\n",
      "Saved to A:\\Projects\\CollegeProjects\\YogaPartner\\intermediates\\v2\\bidalasana_295.jpg\n"
     ]
    },
    {
     "name": "stderr",
     "output_type": "stream",
     "text": [
      "64it [00:11,  5.95it/s]"
     ]
    },
    {
     "name": "stdout",
     "output_type": "stream",
     "text": [
      "Saved to A:\\Projects\\CollegeProjects\\YogaPartner\\intermediates\\v2\\bhujangasana_95.jpg\n",
      "Saved to A:\\Projects\\CollegeProjects\\YogaPartner\\intermediates\\v2\\bidalasana_306.jpg\n"
     ]
    },
    {
     "name": "stderr",
     "output_type": "stream",
     "text": [
      "67it [00:11,  6.87it/s]"
     ]
    },
    {
     "name": "stdout",
     "output_type": "stream",
     "text": [
      "Saved to A:\\Projects\\CollegeProjects\\YogaPartner\\intermediates\\v2\\utkatasana_157.jpg\n",
      "Saved to A:\\Projects\\CollegeProjects\\YogaPartner\\intermediates\\v2\\adho_mukha_shvanasana_264.jpg\n",
      "Saved to A:\\Projects\\CollegeProjects\\YogaPartner\\intermediates\\v2\\phalakasana_140.jpg\n"
     ]
    },
    {
     "name": "stderr",
     "output_type": "stream",
     "text": [
      "69it [00:12,  6.46it/s]"
     ]
    },
    {
     "name": "stdout",
     "output_type": "stream",
     "text": [
      "Saved to A:\\Projects\\CollegeProjects\\YogaPartner\\intermediates\\v2\\vasisthasana_131.jpg\n",
      "Saved to A:\\Projects\\CollegeProjects\\YogaPartner\\intermediates\\v2\\bidalasana_265.jpeg\n"
     ]
    },
    {
     "name": "stderr",
     "output_type": "stream",
     "text": [
      "71it [00:12,  6.68it/s]"
     ]
    },
    {
     "name": "stdout",
     "output_type": "stream",
     "text": [
      "Saved to A:\\Projects\\CollegeProjects\\YogaPartner\\intermediates\\v2\\virabhadrasana_ii_246.jpg\n",
      "Saved to A:\\Projects\\CollegeProjects\\YogaPartner\\intermediates\\v2\\utkata_konasana_135.jpg\n"
     ]
    },
    {
     "name": "stderr",
     "output_type": "stream",
     "text": [
      "73it [00:14,  1.93it/s]"
     ]
    },
    {
     "name": "stdout",
     "output_type": "stream",
     "text": [
      "Saved to A:\\Projects\\CollegeProjects\\YogaPartner\\intermediates\\v2\\bhujangasana_120.jpg\n",
      "Saved to A:\\Projects\\CollegeProjects\\YogaPartner\\intermediates\\v2\\utkata_konasana_152.jpg\n"
     ]
    },
    {
     "name": "stderr",
     "output_type": "stream",
     "text": [
      "75it [00:14,  3.02it/s]"
     ]
    },
    {
     "name": "stdout",
     "output_type": "stream",
     "text": [
      "Saved to A:\\Projects\\CollegeProjects\\YogaPartner\\intermediates\\v2\\virabhadrasana_i_189.jpg\n",
      "Saved to A:\\Projects\\CollegeProjects\\YogaPartner\\intermediates\\v2\\virabhadrasana_ii_162.jpg\n"
     ]
    },
    {
     "name": "stderr",
     "output_type": "stream",
     "text": [
      "\r",
      "76it [00:15,  3.44it/s]"
     ]
    },
    {
     "name": "stdout",
     "output_type": "stream",
     "text": [
      "Saved to A:\\Projects\\CollegeProjects\\YogaPartner\\intermediates\\v2\\adho_mukha_shvanasana_250.jpg\n"
     ]
    },
    {
     "name": "stderr",
     "output_type": "stream",
     "text": [
      "78it [00:15,  4.26it/s]"
     ]
    },
    {
     "name": "stdout",
     "output_type": "stream",
     "text": [
      "Saved to A:\\Projects\\CollegeProjects\\YogaPartner\\intermediates\\v2\\virabhadrasana_ii_219.jpg\n",
      "Saved to A:\\Projects\\CollegeProjects\\YogaPartner\\intermediates\\v2\\bidalasana_37.jpg\n"
     ]
    },
    {
     "name": "stderr",
     "output_type": "stream",
     "text": [
      "\r",
      "79it [00:15,  4.65it/s]"
     ]
    },
    {
     "name": "stdout",
     "output_type": "stream",
     "text": [
      "Saved to A:\\Projects\\CollegeProjects\\YogaPartner\\intermediates\\v2\\bidalasana_294.jpeg\n"
     ]
    },
    {
     "name": "stderr",
     "output_type": "stream",
     "text": [
      "\r",
      "80it [00:16,  4.14it/s]"
     ]
    },
    {
     "name": "stdout",
     "output_type": "stream",
     "text": [
      "Saved to A:\\Projects\\CollegeProjects\\YogaPartner\\intermediates\\v2\\adho_mukha_shvanasana_92.jpg\n"
     ]
    },
    {
     "name": "stderr",
     "output_type": "stream",
     "text": [
      "82it [00:16,  4.41it/s]"
     ]
    },
    {
     "name": "stdout",
     "output_type": "stream",
     "text": [
      "Saved to A:\\Projects\\CollegeProjects\\YogaPartner\\intermediates\\v2\\utkatasana_214.jpg\n",
      "Saved to A:\\Projects\\CollegeProjects\\YogaPartner\\intermediates\\v2\\bhujangasana_480.jpg\n"
     ]
    },
    {
     "name": "stderr",
     "output_type": "stream",
     "text": [
      "84it [00:16,  5.33it/s]"
     ]
    },
    {
     "name": "stdout",
     "output_type": "stream",
     "text": [
      "Saved to A:\\Projects\\CollegeProjects\\YogaPartner\\intermediates\\v2\\vrikshasana_45.jpg\n",
      "Saved to A:\\Projects\\CollegeProjects\\YogaPartner\\intermediates\\v2\\bidalasana_232.jpg\n"
     ]
    },
    {
     "name": "stderr",
     "output_type": "stream",
     "text": [
      "86it [00:17,  5.59it/s]"
     ]
    },
    {
     "name": "stdout",
     "output_type": "stream",
     "text": [
      "Saved to A:\\Projects\\CollegeProjects\\YogaPartner\\intermediates\\v2\\virabhadrasana_ii_378.jpg\n",
      "Saved to A:\\Projects\\CollegeProjects\\YogaPartner\\intermediates\\v2\\bhujangasana_487.jpg\n"
     ]
    },
    {
     "name": "stderr",
     "output_type": "stream",
     "text": [
      "88it [00:17,  6.57it/s]"
     ]
    },
    {
     "name": "stdout",
     "output_type": "stream",
     "text": [
      "Saved to A:\\Projects\\CollegeProjects\\YogaPartner\\intermediates\\v2\\bhujangasana_443.jpg\n",
      "Saved to A:\\Projects\\CollegeProjects\\YogaPartner\\intermediates\\v2\\ustrasana_42.jpg\n"
     ]
    },
    {
     "name": "stderr",
     "output_type": "stream",
     "text": [
      "90it [00:17,  6.01it/s]"
     ]
    },
    {
     "name": "stdout",
     "output_type": "stream",
     "text": [
      "Saved to A:\\Projects\\CollegeProjects\\YogaPartner\\intermediates\\v2\\bidalasana_106.jpg\n",
      "Saved to A:\\Projects\\CollegeProjects\\YogaPartner\\intermediates\\v2\\vasisthasana_139.jpg\n"
     ]
    },
    {
     "name": "stderr",
     "output_type": "stream",
     "text": [
      "92it [00:18,  6.78it/s]"
     ]
    },
    {
     "name": "stdout",
     "output_type": "stream",
     "text": [
      "Saved to A:\\Projects\\CollegeProjects\\YogaPartner\\intermediates\\v2\\bidalasana_304.jpg\n",
      "Saved to A:\\Projects\\CollegeProjects\\YogaPartner\\intermediates\\v2\\bidalasana_281.jpg\n"
     ]
    },
    {
     "name": "stderr",
     "output_type": "stream",
     "text": [
      "94it [00:18,  7.14it/s]"
     ]
    },
    {
     "name": "stdout",
     "output_type": "stream",
     "text": [
      "Saved to A:\\Projects\\CollegeProjects\\YogaPartner\\intermediates\\v2\\virabhadrasana_i_140.jpg\n",
      "Saved to A:\\Projects\\CollegeProjects\\YogaPartner\\intermediates\\v2\\vasisthasana_34.jpg\n"
     ]
    },
    {
     "name": "stderr",
     "output_type": "stream",
     "text": [
      "96it [00:18,  6.64it/s]"
     ]
    },
    {
     "name": "stdout",
     "output_type": "stream",
     "text": [
      "Saved to A:\\Projects\\CollegeProjects\\YogaPartner\\intermediates\\v2\\adho_mukha_shvanasana_417.jpg\n",
      "Saved to A:\\Projects\\CollegeProjects\\YogaPartner\\intermediates\\v2\\vrikshasana_165.jpg\n"
     ]
    },
    {
     "name": "stderr",
     "output_type": "stream",
     "text": [
      "98it [00:18,  5.71it/s]"
     ]
    },
    {
     "name": "stdout",
     "output_type": "stream",
     "text": [
      "Saved to A:\\Projects\\CollegeProjects\\YogaPartner\\intermediates\\v2\\bhujangasana_261.jpg\n",
      "Saved to A:\\Projects\\CollegeProjects\\YogaPartner\\intermediates\\v2\\vrikshasana_258.jpg\n"
     ]
    },
    {
     "name": "stderr",
     "output_type": "stream",
     "text": [
      "100it [00:20,  2.04it/s]"
     ]
    },
    {
     "name": "stdout",
     "output_type": "stream",
     "text": [
      "Saved to A:\\Projects\\CollegeProjects\\YogaPartner\\intermediates\\v2\\virabhadrasana_ii_374.jpg\n",
      "Saved to A:\\Projects\\CollegeProjects\\YogaPartner\\intermediates\\v2\\bhujangasana_31.jpg\n"
     ]
    },
    {
     "name": "stderr",
     "output_type": "stream",
     "text": [
      "103it [00:21,  3.72it/s]"
     ]
    },
    {
     "name": "stdout",
     "output_type": "stream",
     "text": [
      "Saved to A:\\Projects\\CollegeProjects\\YogaPartner\\intermediates\\v2\\phalakasana_60.jpg\n",
      "Saved to A:\\Projects\\CollegeProjects\\YogaPartner\\intermediates\\v2\\vasisthasana_33.jpg\n",
      "Saved to A:\\Projects\\CollegeProjects\\YogaPartner\\intermediates\\v2\\bidalasana_21.jpg\n"
     ]
    },
    {
     "name": "stderr",
     "output_type": "stream",
     "text": [
      "105it [00:22,  2.93it/s]"
     ]
    },
    {
     "name": "stdout",
     "output_type": "stream",
     "text": [
      "Saved to A:\\Projects\\CollegeProjects\\YogaPartner\\intermediates\\v2\\phalakasana_102.jpg\n",
      "Saved to A:\\Projects\\CollegeProjects\\YogaPartner\\intermediates\\v2\\virabhadrasana_ii_237.jpg\n"
     ]
    },
    {
     "name": "stderr",
     "output_type": "stream",
     "text": [
      "107it [00:22,  4.21it/s]"
     ]
    },
    {
     "name": "stdout",
     "output_type": "stream",
     "text": [
      "Saved to A:\\Projects\\CollegeProjects\\YogaPartner\\intermediates\\v2\\ustrasana_24.jpg\n",
      "Saved to A:\\Projects\\CollegeProjects\\YogaPartner\\intermediates\\v2\\virabhadrasana_i_46.jpg\n"
     ]
    },
    {
     "name": "stderr",
     "output_type": "stream",
     "text": [
      "109it [00:22,  4.81it/s]"
     ]
    },
    {
     "name": "stdout",
     "output_type": "stream",
     "text": [
      "Saved to A:\\Projects\\CollegeProjects\\YogaPartner\\intermediates\\v2\\utkata_konasana_157.jpg\n",
      "Saved to A:\\Projects\\CollegeProjects\\YogaPartner\\intermediates\\v2\\utkatasana_42.jpg\n"
     ]
    },
    {
     "name": "stderr",
     "output_type": "stream",
     "text": [
      "111it [00:23,  5.69it/s]"
     ]
    },
    {
     "name": "stdout",
     "output_type": "stream",
     "text": [
      "Saved to A:\\Projects\\CollegeProjects\\YogaPartner\\intermediates\\v2\\vasisthasana_136.jpg\n",
      "Saved to A:\\Projects\\CollegeProjects\\YogaPartner\\intermediates\\v2\\adho_mukha_shvanasana_292.jpg\n"
     ]
    },
    {
     "name": "stderr",
     "output_type": "stream",
     "text": [
      "\r",
      "112it [00:23,  6.08it/s]"
     ]
    },
    {
     "name": "stdout",
     "output_type": "stream",
     "text": [
      "Saved to A:\\Projects\\CollegeProjects\\YogaPartner\\intermediates\\v2\\vrikshasana_92.jpg\n"
     ]
    },
    {
     "name": "stderr",
     "output_type": "stream",
     "text": [
      "\r",
      "113it [00:23,  5.47it/s]"
     ]
    },
    {
     "name": "stdout",
     "output_type": "stream",
     "text": [
      "Saved to A:\\Projects\\CollegeProjects\\YogaPartner\\intermediates\\v2\\utkatasana_106.jpg\n"
     ]
    },
    {
     "name": "stderr",
     "output_type": "stream",
     "text": [
      "115it [00:25,  1.68it/s]"
     ]
    },
    {
     "name": "stdout",
     "output_type": "stream",
     "text": [
      "Saved to A:\\Projects\\CollegeProjects\\YogaPartner\\intermediates\\v2\\utkatasana_200.jpg\n",
      "Saved to A:\\Projects\\CollegeProjects\\YogaPartner\\intermediates\\v2\\adho_mukha_shvanasana_220.jpg\n"
     ]
    },
    {
     "name": "stderr",
     "output_type": "stream",
     "text": [
      "117it [00:26,  2.73it/s]"
     ]
    },
    {
     "name": "stdout",
     "output_type": "stream",
     "text": [
      "Saved to A:\\Projects\\CollegeProjects\\YogaPartner\\intermediates\\v2\\virabhadrasana_i_110.jpg\n",
      "Saved to A:\\Projects\\CollegeProjects\\YogaPartner\\intermediates\\v2\\bhujangasana_205.jpg\n"
     ]
    },
    {
     "name": "stderr",
     "output_type": "stream",
     "text": [
      "\r",
      "118it [00:26,  3.23it/s]"
     ]
    },
    {
     "name": "stdout",
     "output_type": "stream",
     "text": [
      "Saved to A:\\Projects\\CollegeProjects\\YogaPartner\\intermediates\\v2\\bhujangasana_200.jpg\n"
     ]
    },
    {
     "name": "stderr",
     "output_type": "stream",
     "text": [
      "\r",
      "119it [00:26,  3.49it/s]"
     ]
    },
    {
     "name": "stdout",
     "output_type": "stream",
     "text": [
      "Saved to A:\\Projects\\CollegeProjects\\YogaPartner\\intermediates\\v2\\vrikshasana_308.jpg\n"
     ]
    },
    {
     "name": "stderr",
     "output_type": "stream",
     "text": [
      "121it [00:27,  4.15it/s]"
     ]
    },
    {
     "name": "stdout",
     "output_type": "stream",
     "text": [
      "Saved to A:\\Projects\\CollegeProjects\\YogaPartner\\intermediates\\v2\\virabhadrasana_ii_2.jpg\n",
      "Saved to A:\\Projects\\CollegeProjects\\YogaPartner\\intermediates\\v2\\vasisthasana_28.jpg\n"
     ]
    },
    {
     "name": "stderr",
     "output_type": "stream",
     "text": [
      "\r",
      "122it [00:27,  4.74it/s]"
     ]
    },
    {
     "name": "stdout",
     "output_type": "stream",
     "text": [
      "Saved to A:\\Projects\\CollegeProjects\\YogaPartner\\intermediates\\v2\\bidalasana_233.jpg\n"
     ]
    },
    {
     "name": "stderr",
     "output_type": "stream",
     "text": [
      "\r",
      "123it [00:27,  4.73it/s]"
     ]
    },
    {
     "name": "stdout",
     "output_type": "stream",
     "text": [
      "Saved to A:\\Projects\\CollegeProjects\\YogaPartner\\intermediates\\v2\\vrikshasana_264.jpg\n"
     ]
    },
    {
     "name": "stderr",
     "output_type": "stream",
     "text": [
      "125it [00:27,  4.80it/s]"
     ]
    },
    {
     "name": "stdout",
     "output_type": "stream",
     "text": [
      "Saved to A:\\Projects\\CollegeProjects\\YogaPartner\\intermediates\\v2\\vrikshasana_274.jpg\n",
      "Saved to A:\\Projects\\CollegeProjects\\YogaPartner\\intermediates\\v2\\bhujangasana_636.jpg\n"
     ]
    },
    {
     "name": "stderr",
     "output_type": "stream",
     "text": [
      "127it [00:28,  5.80it/s]"
     ]
    },
    {
     "name": "stdout",
     "output_type": "stream",
     "text": [
      "Saved to A:\\Projects\\CollegeProjects\\YogaPartner\\intermediates\\v2\\adho_mukha_shvanasana_100.jpg\n",
      "Saved to A:\\Projects\\CollegeProjects\\YogaPartner\\intermediates\\v2\\adho_mukha_shvanasana_241.jpg\n"
     ]
    },
    {
     "name": "stderr",
     "output_type": "stream",
     "text": [
      "\r",
      "128it [00:28,  5.45it/s]"
     ]
    },
    {
     "name": "stdout",
     "output_type": "stream",
     "text": [
      "Saved to A:\\Projects\\CollegeProjects\\YogaPartner\\intermediates\\v2\\adho_mukha_shvanasana_284.jpg\n"
     ]
    },
    {
     "name": "stderr",
     "output_type": "stream",
     "text": [
      "\r",
      "129it [00:28,  4.53it/s]"
     ]
    },
    {
     "name": "stdout",
     "output_type": "stream",
     "text": [
      "Saved to A:\\Projects\\CollegeProjects\\YogaPartner\\intermediates\\v2\\utkata_konasana_88.jpg\n"
     ]
    },
    {
     "name": "stderr",
     "output_type": "stream",
     "text": [
      "131it [00:28,  5.09it/s]"
     ]
    },
    {
     "name": "stdout",
     "output_type": "stream",
     "text": [
      "Saved to A:\\Projects\\CollegeProjects\\YogaPartner\\intermediates\\v2\\adho_mukha_shvanasana_15.jpg\n",
      "Saved to A:\\Projects\\CollegeProjects\\YogaPartner\\intermediates\\v2\\virabhadrasana_ii_256.jpg\n"
     ]
    },
    {
     "name": "stderr",
     "output_type": "stream",
     "text": [
      "133it [00:29,  6.10it/s]"
     ]
    },
    {
     "name": "stdout",
     "output_type": "stream",
     "text": [
      "Saved to A:\\Projects\\CollegeProjects\\YogaPartner\\intermediates\\v2\\virabhadrasana_ii_65.jpg\n",
      "Saved to A:\\Projects\\CollegeProjects\\YogaPartner\\intermediates\\v2\\utkatasana_76.jpg\n"
     ]
    },
    {
     "name": "stderr",
     "output_type": "stream",
     "text": [
      "135it [00:29,  5.93it/s]"
     ]
    },
    {
     "name": "stdout",
     "output_type": "stream",
     "text": [
      "Saved to A:\\Projects\\CollegeProjects\\YogaPartner\\intermediates\\v2\\vrikshasana_16.jpg\n",
      "Saved to A:\\Projects\\CollegeProjects\\YogaPartner\\intermediates\\v2\\bhujangasana_62.jpg\n"
     ]
    },
    {
     "name": "stderr",
     "output_type": "stream",
     "text": [
      "137it [00:30,  5.31it/s]"
     ]
    },
    {
     "name": "stdout",
     "output_type": "stream",
     "text": [
      "Saved to A:\\Projects\\CollegeProjects\\YogaPartner\\intermediates\\v2\\virabhadrasana_ii_58.jpg\n",
      "Saved to A:\\Projects\\CollegeProjects\\YogaPartner\\intermediates\\v2\\bhujangasana_58.jpg\n"
     ]
    },
    {
     "name": "stderr",
     "output_type": "stream",
     "text": [
      "139it [00:30,  6.51it/s]"
     ]
    },
    {
     "name": "stdout",
     "output_type": "stream",
     "text": [
      "Saved to A:\\Projects\\CollegeProjects\\YogaPartner\\intermediates\\v2\\adho_mukha_shvanasana_114.jpg\n",
      "Saved to A:\\Projects\\CollegeProjects\\YogaPartner\\intermediates\\v2\\ustrasana_25.jpg\n"
     ]
    },
    {
     "name": "stderr",
     "output_type": "stream",
     "text": [
      "\r",
      "140it [00:30,  6.29it/s]"
     ]
    },
    {
     "name": "stdout",
     "output_type": "stream",
     "text": [
      "Saved to A:\\Projects\\CollegeProjects\\YogaPartner\\intermediates\\v2\\bidalasana_62.jpg\n"
     ]
    },
    {
     "name": "stderr",
     "output_type": "stream",
     "text": [
      "142it [00:30,  5.43it/s]"
     ]
    },
    {
     "name": "stdout",
     "output_type": "stream",
     "text": [
      "Saved to A:\\Projects\\CollegeProjects\\YogaPartner\\intermediates\\v2\\adho_mukha_shvanasana_5.jpg\n",
      "Saved to A:\\Projects\\CollegeProjects\\YogaPartner\\intermediates\\v2\\adho_mukha_shvanasana_150.jpg\n"
     ]
    },
    {
     "name": "stderr",
     "output_type": "stream",
     "text": [
      "144it [00:31,  4.97it/s]"
     ]
    },
    {
     "name": "stdout",
     "output_type": "stream",
     "text": [
      "Saved to A:\\Projects\\CollegeProjects\\YogaPartner\\intermediates\\v2\\utkatasana_9.jpg\n",
      "Saved to A:\\Projects\\CollegeProjects\\YogaPartner\\intermediates\\v2\\bhujangasana_505.jpg\n"
     ]
    },
    {
     "name": "stderr",
     "output_type": "stream",
     "text": [
      "\r",
      "145it [00:31,  5.57it/s]"
     ]
    },
    {
     "name": "stdout",
     "output_type": "stream",
     "text": [
      "Saved to A:\\Projects\\CollegeProjects\\YogaPartner\\intermediates\\v2\\adho_mukha_shvanasana_319.jpg\n"
     ]
    },
    {
     "name": "stderr",
     "output_type": "stream",
     "text": [
      "147it [00:31,  5.24it/s]"
     ]
    },
    {
     "name": "stdout",
     "output_type": "stream",
     "text": [
      "Saved to A:\\Projects\\CollegeProjects\\YogaPartner\\intermediates\\v2\\vasisthasana_76.jpg\n",
      "Saved to A:\\Projects\\CollegeProjects\\YogaPartner\\intermediates\\v2\\adho_mukha_shvanasana_329.jpg\n"
     ]
    },
    {
     "name": "stderr",
     "output_type": "stream",
     "text": [
      "149it [00:32,  5.81it/s]"
     ]
    },
    {
     "name": "stdout",
     "output_type": "stream",
     "text": [
      "Saved to A:\\Projects\\CollegeProjects\\YogaPartner\\intermediates\\v2\\utkatasana_164.jpg\n",
      "Saved to A:\\Projects\\CollegeProjects\\YogaPartner\\intermediates\\v2\\adho_mukha_shvanasana_188.jpg\n"
     ]
    },
    {
     "name": "stderr",
     "output_type": "stream",
     "text": [
      "151it [00:32,  5.73it/s]"
     ]
    },
    {
     "name": "stdout",
     "output_type": "stream",
     "text": [
      "Saved to A:\\Projects\\CollegeProjects\\YogaPartner\\intermediates\\v2\\utkatasana_128.jpg\n",
      "Saved to A:\\Projects\\CollegeProjects\\YogaPartner\\intermediates\\v2\\bhujangasana_74.jpg\n"
     ]
    },
    {
     "name": "stderr",
     "output_type": "stream",
     "text": [
      "153it [00:33,  3.58it/s]"
     ]
    },
    {
     "name": "stdout",
     "output_type": "stream",
     "text": [
      "Saved to A:\\Projects\\CollegeProjects\\YogaPartner\\intermediates\\v2\\bhujangasana_491.jpg\n",
      "Saved to A:\\Projects\\CollegeProjects\\YogaPartner\\intermediates\\v2\\virabhadrasana_ii_10.jpg\n"
     ]
    },
    {
     "name": "stderr",
     "output_type": "stream",
     "text": [
      "\r",
      "155it [00:33,  4.88it/s]"
     ]
    },
    {
     "name": "stdout",
     "output_type": "stream",
     "text": [
      "Saved to A:\\Projects\\CollegeProjects\\YogaPartner\\intermediates\\v2\\ustrasana_20.jpg\n",
      "Saved to A:\\Projects\\CollegeProjects\\YogaPartner\\intermediates\\v2\\utkata_konasana_111.jpg\n"
     ]
    },
    {
     "name": "stderr",
     "output_type": "stream",
     "text": [
      "157it [00:33,  5.40it/s]"
     ]
    },
    {
     "name": "stdout",
     "output_type": "stream",
     "text": [
      "Saved to A:\\Projects\\CollegeProjects\\YogaPartner\\intermediates\\v2\\bhujangasana_38.jpg\n",
      "Saved to A:\\Projects\\CollegeProjects\\YogaPartner\\intermediates\\v2\\vrikshasana_57.jpg\n"
     ]
    },
    {
     "name": "stderr",
     "output_type": "stream",
     "text": [
      "\r",
      "158it [00:34,  5.17it/s]"
     ]
    },
    {
     "name": "stdout",
     "output_type": "stream",
     "text": [
      "Saved to A:\\Projects\\CollegeProjects\\YogaPartner\\intermediates\\v2\\vrikshasana_290.jpg\n"
     ]
    },
    {
     "name": "stderr",
     "output_type": "stream",
     "text": [
      "160it [00:34,  5.61it/s]"
     ]
    },
    {
     "name": "stdout",
     "output_type": "stream",
     "text": [
      "Saved to A:\\Projects\\CollegeProjects\\YogaPartner\\intermediates\\v2\\utkata_konasana_87.jpg\n",
      "Saved to A:\\Projects\\CollegeProjects\\YogaPartner\\intermediates\\v2\\utkatasana_107.jpg\n"
     ]
    },
    {
     "name": "stderr",
     "output_type": "stream",
     "text": [
      "\r",
      "161it [00:34,  5.81it/s]"
     ]
    },
    {
     "name": "stdout",
     "output_type": "stream",
     "text": [
      "Saved to A:\\Projects\\CollegeProjects\\YogaPartner\\intermediates\\v2\\virabhadrasana_ii_171.jpg\n"
     ]
    },
    {
     "name": "stderr",
     "output_type": "stream",
     "text": [
      "163it [00:35,  4.06it/s]"
     ]
    },
    {
     "name": "stdout",
     "output_type": "stream",
     "text": [
      "Saved to A:\\Projects\\CollegeProjects\\YogaPartner\\intermediates\\v2\\vrikshasana_278.jpg\n",
      "Saved to A:\\Projects\\CollegeProjects\\YogaPartner\\intermediates\\v2\\bhujangasana_436.jpg\n"
     ]
    },
    {
     "name": "stderr",
     "output_type": "stream",
     "text": [
      "165it [00:36,  2.80it/s]"
     ]
    },
    {
     "name": "stdout",
     "output_type": "stream",
     "text": [
      "Saved to A:\\Projects\\CollegeProjects\\YogaPartner\\intermediates\\v2\\adho_mukha_shvanasana_74.jpg\n",
      "Saved to A:\\Projects\\CollegeProjects\\YogaPartner\\intermediates\\v2\\adho_mukha_shvanasana_115.jpg\n",
      "Saved to A:\\Projects\\CollegeProjects\\YogaPartner\\intermediates\\v2\\utkata_konasana_50.jpg\n"
     ]
    },
    {
     "name": "stderr",
     "output_type": "stream",
     "text": [
      "\r",
      "167it [00:36,  3.94it/s]"
     ]
    },
    {
     "name": "stdout",
     "output_type": "stream",
     "text": [
      "Saved to A:\\Projects\\CollegeProjects\\YogaPartner\\intermediates\\v2\\virabhadrasana_ii_188.jpg\n"
     ]
    },
    {
     "name": "stderr",
     "output_type": "stream",
     "text": [
      "169it [00:37,  3.51it/s]"
     ]
    },
    {
     "name": "stdout",
     "output_type": "stream",
     "text": [
      "Saved to A:\\Projects\\CollegeProjects\\YogaPartner\\intermediates\\v2\\virabhadrasana_i_124.jpg\n",
      "Saved to A:\\Projects\\CollegeProjects\\YogaPartner\\intermediates\\v2\\virabhadrasana_ii_31.jpg\n"
     ]
    },
    {
     "name": "stderr",
     "output_type": "stream",
     "text": [
      "171it [00:37,  4.16it/s]"
     ]
    },
    {
     "name": "stdout",
     "output_type": "stream",
     "text": [
      "Saved to A:\\Projects\\CollegeProjects\\YogaPartner\\intermediates\\v2\\phalakasana_112.jpg\n",
      "Saved to A:\\Projects\\CollegeProjects\\YogaPartner\\intermediates\\v2\\adho_mukha_shvanasana_382.jpg\n"
     ]
    },
    {
     "name": "stderr",
     "output_type": "stream",
     "text": [
      "173it [00:38,  4.68it/s]"
     ]
    },
    {
     "name": "stdout",
     "output_type": "stream",
     "text": [
      "Saved to A:\\Projects\\CollegeProjects\\YogaPartner\\intermediates\\v2\\virabhadrasana_i_168.jpg\n",
      "Saved to A:\\Projects\\CollegeProjects\\YogaPartner\\intermediates\\v2\\vrikshasana_320.jpg\n"
     ]
    },
    {
     "name": "stderr",
     "output_type": "stream",
     "text": [
      "\r",
      "174it [00:38,  5.52it/s]"
     ]
    },
    {
     "name": "stdout",
     "output_type": "stream",
     "text": [
      "Saved to A:\\Projects\\CollegeProjects\\YogaPartner\\intermediates\\v2\\adho_mukha_shvanasana_85.jpg\n"
     ]
    },
    {
     "name": "stderr",
     "output_type": "stream",
     "text": [
      "176it [00:38,  5.60it/s]"
     ]
    },
    {
     "name": "stdout",
     "output_type": "stream",
     "text": [
      "Saved to A:\\Projects\\CollegeProjects\\YogaPartner\\intermediates\\v2\\vrikshasana_283.jpg\n",
      "Saved to A:\\Projects\\CollegeProjects\\YogaPartner\\intermediates\\v2\\bhujangasana_332.jpg\n"
     ]
    },
    {
     "name": "stderr",
     "output_type": "stream",
     "text": [
      "178it [00:39,  5.95it/s]"
     ]
    },
    {
     "name": "stdout",
     "output_type": "stream",
     "text": [
      "Saved to A:\\Projects\\CollegeProjects\\YogaPartner\\intermediates\\v2\\adho_mukha_shvanasana_78.jpg\n",
      "Saved to A:\\Projects\\CollegeProjects\\YogaPartner\\intermediates\\v2\\bhujangasana_202.jpg\n"
     ]
    },
    {
     "name": "stderr",
     "output_type": "stream",
     "text": [
      "180it [00:39,  6.79it/s]"
     ]
    },
    {
     "name": "stdout",
     "output_type": "stream",
     "text": [
      "Saved to A:\\Projects\\CollegeProjects\\YogaPartner\\intermediates\\v2\\virabhadrasana_ii_215.jpg\n",
      "Saved to A:\\Projects\\CollegeProjects\\YogaPartner\\intermediates\\v2\\vrikshasana_146.jpg\n"
     ]
    },
    {
     "name": "stderr",
     "output_type": "stream",
     "text": [
      "182it [00:39,  6.32it/s]"
     ]
    },
    {
     "name": "stdout",
     "output_type": "stream",
     "text": [
      "Saved to A:\\Projects\\CollegeProjects\\YogaPartner\\intermediates\\v2\\vrikshasana_29.jpg\n",
      "Saved to A:\\Projects\\CollegeProjects\\YogaPartner\\intermediates\\v2\\utkata_konasana_18.jpg\n"
     ]
    },
    {
     "name": "stderr",
     "output_type": "stream",
     "text": [
      "184it [00:40,  5.66it/s]"
     ]
    },
    {
     "name": "stdout",
     "output_type": "stream",
     "text": [
      "Saved to A:\\Projects\\CollegeProjects\\YogaPartner\\intermediates\\v2\\virabhadrasana_ii_384.jpg\n",
      "Saved to A:\\Projects\\CollegeProjects\\YogaPartner\\intermediates\\v2\\virabhadrasana_ii_312.jpg\n"
     ]
    },
    {
     "name": "stderr",
     "output_type": "stream",
     "text": [
      "186it [00:40,  5.66it/s]"
     ]
    },
    {
     "name": "stdout",
     "output_type": "stream",
     "text": [
      "Saved to A:\\Projects\\CollegeProjects\\YogaPartner\\intermediates\\v2\\utkata_konasana_147.jpg\n",
      "Saved to A:\\Projects\\CollegeProjects\\YogaPartner\\intermediates\\v2\\bhujangasana_143.jpg\n"
     ]
    },
    {
     "name": "stderr",
     "output_type": "stream",
     "text": [
      "\r",
      "187it [00:40,  6.20it/s]"
     ]
    },
    {
     "name": "stdout",
     "output_type": "stream",
     "text": [
      "Saved to A:\\Projects\\CollegeProjects\\YogaPartner\\intermediates\\v2\\phalakasana_95.jpg\n",
      "Saved to A:\\Projects\\CollegeProjects\\YogaPartner\\intermediates\\v2\\ustrasana_51.jpg\n"
     ]
    },
    {
     "name": "stderr",
     "output_type": "stream",
     "text": [
      "190it [00:40,  6.75it/s]"
     ]
    },
    {
     "name": "stdout",
     "output_type": "stream",
     "text": [
      "Saved to A:\\Projects\\CollegeProjects\\YogaPartner\\intermediates\\v2\\adho_mukha_shvanasana_168.jpg\n",
      "Saved to A:\\Projects\\CollegeProjects\\YogaPartner\\intermediates\\v2\\adho_mukha_shvanasana_327.jpg\n"
     ]
    },
    {
     "name": "stderr",
     "output_type": "stream",
     "text": [
      "192it [00:41,  7.08it/s]"
     ]
    },
    {
     "name": "stdout",
     "output_type": "stream",
     "text": [
      "Saved to A:\\Projects\\CollegeProjects\\YogaPartner\\intermediates\\v2\\ustrasana_46.jpg\n",
      "Saved to A:\\Projects\\CollegeProjects\\YogaPartner\\intermediates\\v2\\ustrasana_5.jpg\n"
     ]
    },
    {
     "name": "stderr",
     "output_type": "stream",
     "text": [
      "\r",
      "193it [00:41,  7.00it/s]"
     ]
    },
    {
     "name": "stdout",
     "output_type": "stream",
     "text": [
      "Saved to A:\\Projects\\CollegeProjects\\YogaPartner\\intermediates\\v2\\adho_mukha_shvanasana_174.jpg\n"
     ]
    },
    {
     "name": "stderr",
     "output_type": "stream",
     "text": [
      "195it [00:41,  6.39it/s]"
     ]
    },
    {
     "name": "stdout",
     "output_type": "stream",
     "text": [
      "Saved to A:\\Projects\\CollegeProjects\\YogaPartner\\intermediates\\v2\\virabhadrasana_i_63.jpg\n",
      "Saved to A:\\Projects\\CollegeProjects\\YogaPartner\\intermediates\\v2\\bidalasana_30.jpg\n"
     ]
    },
    {
     "name": "stderr",
     "output_type": "stream",
     "text": [
      "197it [00:42,  5.40it/s]"
     ]
    },
    {
     "name": "stdout",
     "output_type": "stream",
     "text": [
      "Saved to A:\\Projects\\CollegeProjects\\YogaPartner\\intermediates\\v2\\phalakasana_5.jpg\n",
      "Saved to A:\\Projects\\CollegeProjects\\YogaPartner\\intermediates\\v2\\vrikshasana_199.jpg\n"
     ]
    },
    {
     "name": "stderr",
     "output_type": "stream",
     "text": [
      "199it [00:42,  5.20it/s]"
     ]
    },
    {
     "name": "stdout",
     "output_type": "stream",
     "text": [
      "Saved to A:\\Projects\\CollegeProjects\\YogaPartner\\intermediates\\v2\\bhujangasana_322.jpg\n",
      "Saved to A:\\Projects\\CollegeProjects\\YogaPartner\\intermediates\\v2\\adho_mukha_shvanasana_39.jpg\n"
     ]
    },
    {
     "name": "stderr",
     "output_type": "stream",
     "text": [
      "201it [00:42,  5.38it/s]"
     ]
    },
    {
     "name": "stdout",
     "output_type": "stream",
     "text": [
      "Saved to A:\\Projects\\CollegeProjects\\YogaPartner\\intermediates\\v2\\adho_mukha_shvanasana_141.jpg\n",
      "Saved to A:\\Projects\\CollegeProjects\\YogaPartner\\intermediates\\v2\\bhujangasana_645.jpg\n"
     ]
    },
    {
     "name": "stderr",
     "output_type": "stream",
     "text": [
      "\r",
      "202it [00:43,  5.51it/s]"
     ]
    },
    {
     "name": "stdout",
     "output_type": "stream",
     "text": [
      "Saved to A:\\Projects\\CollegeProjects\\YogaPartner\\intermediates\\v2\\bhujangasana_432.jpg\n"
     ]
    },
    {
     "name": "stderr",
     "output_type": "stream",
     "text": [
      "204it [00:43,  4.54it/s]"
     ]
    },
    {
     "name": "stdout",
     "output_type": "stream",
     "text": [
      "Saved to A:\\Projects\\CollegeProjects\\YogaPartner\\intermediates\\v2\\utkatasana_119.jpg\n",
      "Saved to A:\\Projects\\CollegeProjects\\YogaPartner\\intermediates\\v2\\bhujangasana_365.jpg\n"
     ]
    },
    {
     "name": "stderr",
     "output_type": "stream",
     "text": [
      "206it [00:43,  5.45it/s]"
     ]
    },
    {
     "name": "stdout",
     "output_type": "stream",
     "text": [
      "Saved to A:\\Projects\\CollegeProjects\\YogaPartner\\intermediates\\v2\\virabhadrasana_ii_380.jpg\n",
      "Saved to A:\\Projects\\CollegeProjects\\YogaPartner\\intermediates\\v2\\bhujangasana_286.jpg\n"
     ]
    },
    {
     "name": "stderr",
     "output_type": "stream",
     "text": [
      "208it [00:44,  5.66it/s]"
     ]
    },
    {
     "name": "stdout",
     "output_type": "stream",
     "text": [
      "Saved to A:\\Projects\\CollegeProjects\\YogaPartner\\intermediates\\v2\\vasisthasana_114.jpg\n",
      "Saved to A:\\Projects\\CollegeProjects\\YogaPartner\\intermediates\\v2\\adho_mukha_shvanasana_374.jpg\n"
     ]
    },
    {
     "name": "stderr",
     "output_type": "stream",
     "text": [
      "210it [00:44,  5.91it/s]"
     ]
    },
    {
     "name": "stdout",
     "output_type": "stream",
     "text": [
      "Saved to A:\\Projects\\CollegeProjects\\YogaPartner\\intermediates\\v2\\bhujangasana_61.jpg\n",
      "Saved to A:\\Projects\\CollegeProjects\\YogaPartner\\intermediates\\v2\\vrikshasana_262.jpg\n"
     ]
    },
    {
     "name": "stderr",
     "output_type": "stream",
     "text": [
      "212it [00:44,  6.96it/s]"
     ]
    },
    {
     "name": "stdout",
     "output_type": "stream",
     "text": [
      "Saved to A:\\Projects\\CollegeProjects\\YogaPartner\\intermediates\\v2\\virabhadrasana_i_180.jpg\n",
      "Saved to A:\\Projects\\CollegeProjects\\YogaPartner\\intermediates\\v2\\bhujangasana_656.jpg\n"
     ]
    },
    {
     "name": "stderr",
     "output_type": "stream",
     "text": [
      "214it [00:45,  6.08it/s]"
     ]
    },
    {
     "name": "stdout",
     "output_type": "stream",
     "text": [
      "Saved to A:\\Projects\\CollegeProjects\\YogaPartner\\intermediates\\v2\\bhujangasana_13.jpg\n",
      "Saved to A:\\Projects\\CollegeProjects\\YogaPartner\\intermediates\\v2\\bhujangasana_534.jpg\n"
     ]
    },
    {
     "name": "stderr",
     "output_type": "stream",
     "text": [
      "216it [00:45,  6.73it/s]"
     ]
    },
    {
     "name": "stdout",
     "output_type": "stream",
     "text": [
      "Saved to A:\\Projects\\CollegeProjects\\YogaPartner\\intermediates\\v2\\bhujangasana_624.jpg\n",
      "Saved to A:\\Projects\\CollegeProjects\\YogaPartner\\intermediates\\v2\\virabhadrasana_ii_164.jpg\n"
     ]
    },
    {
     "name": "stderr",
     "output_type": "stream",
     "text": [
      "\r",
      "217it [00:45,  6.65it/s]"
     ]
    },
    {
     "name": "stdout",
     "output_type": "stream",
     "text": [
      "Saved to A:\\Projects\\CollegeProjects\\YogaPartner\\intermediates\\v2\\virabhadrasana_i_111.jpg\n"
     ]
    },
    {
     "name": "stderr",
     "output_type": "stream",
     "text": [
      "219it [00:47,  2.03it/s]"
     ]
    },
    {
     "name": "stdout",
     "output_type": "stream",
     "text": [
      "Saved to A:\\Projects\\CollegeProjects\\YogaPartner\\intermediates\\v2\\adho_mukha_shvanasana_165.jpg\n",
      "Saved to A:\\Projects\\CollegeProjects\\YogaPartner\\intermediates\\v2\\bhujangasana_577.jpg\n"
     ]
    },
    {
     "name": "stderr",
     "output_type": "stream",
     "text": [
      "221it [00:47,  3.18it/s]"
     ]
    },
    {
     "name": "stdout",
     "output_type": "stream",
     "text": [
      "Saved to A:\\Projects\\CollegeProjects\\YogaPartner\\intermediates\\v2\\virabhadrasana_ii_224.jpg\n",
      "Saved to A:\\Projects\\CollegeProjects\\YogaPartner\\intermediates\\v2\\virabhadrasana_ii_172.jpg\n"
     ]
    },
    {
     "name": "stderr",
     "output_type": "stream",
     "text": [
      "223it [00:48,  3.98it/s]"
     ]
    },
    {
     "name": "stdout",
     "output_type": "stream",
     "text": [
      "Saved to A:\\Projects\\CollegeProjects\\YogaPartner\\intermediates\\v2\\bhujangasana_163.jpg\n",
      "Saved to A:\\Projects\\CollegeProjects\\YogaPartner\\intermediates\\v2\\virabhadrasana_i_181.jpg\n"
     ]
    },
    {
     "name": "stderr",
     "output_type": "stream",
     "text": [
      "225it [00:48,  4.76it/s]"
     ]
    },
    {
     "name": "stdout",
     "output_type": "stream",
     "text": [
      "Saved to A:\\Projects\\CollegeProjects\\YogaPartner\\intermediates\\v2\\utkata_konasana_100.jpg\n",
      "Saved to A:\\Projects\\CollegeProjects\\YogaPartner\\intermediates\\v2\\adho_mukha_shvanasana_301.jpg\n"
     ]
    },
    {
     "name": "stderr",
     "output_type": "stream",
     "text": [
      "227it [00:48,  5.72it/s]"
     ]
    },
    {
     "name": "stdout",
     "output_type": "stream",
     "text": [
      "Saved to A:\\Projects\\CollegeProjects\\YogaPartner\\intermediates\\v2\\vrikshasana_27.jpg\n",
      "Saved to A:\\Projects\\CollegeProjects\\YogaPartner\\intermediates\\v2\\bhujangasana_535.jpg\n"
     ]
    },
    {
     "name": "stderr",
     "output_type": "stream",
     "text": [
      "229it [00:49,  5.98it/s]"
     ]
    },
    {
     "name": "stdout",
     "output_type": "stream",
     "text": [
      "Saved to A:\\Projects\\CollegeProjects\\YogaPartner\\intermediates\\v2\\vrikshasana_226.jpg\n",
      "Saved to A:\\Projects\\CollegeProjects\\YogaPartner\\intermediates\\v2\\vasisthasana_101.jpg\n"
     ]
    },
    {
     "name": "stderr",
     "output_type": "stream",
     "text": [
      "\r",
      "230it [00:49,  6.76it/s]"
     ]
    },
    {
     "name": "stdout",
     "output_type": "stream",
     "text": [
      "Saved to A:\\Projects\\CollegeProjects\\YogaPartner\\intermediates\\v2\\bidalasana_45.jpg\n"
     ]
    },
    {
     "name": "stderr",
     "output_type": "stream",
     "text": [
      "232it [00:49,  5.47it/s]"
     ]
    },
    {
     "name": "stdout",
     "output_type": "stream",
     "text": [
      "Saved to A:\\Projects\\CollegeProjects\\YogaPartner\\intermediates\\v2\\vrikshasana_297.jpg\n",
      "Saved to A:\\Projects\\CollegeProjects\\YogaPartner\\intermediates\\v2\\utkatasana_15.jpg\n"
     ]
    },
    {
     "name": "stderr",
     "output_type": "stream",
     "text": [
      "234it [00:50,  6.40it/s]"
     ]
    },
    {
     "name": "stdout",
     "output_type": "stream",
     "text": [
      "Saved to A:\\Projects\\CollegeProjects\\YogaPartner\\intermediates\\v2\\bhujangasana_1.jpg\n",
      "Saved to A:\\Projects\\CollegeProjects\\YogaPartner\\intermediates\\v2\\bhujangasana_599.jpg\n"
     ]
    },
    {
     "name": "stderr",
     "output_type": "stream",
     "text": [
      "\r",
      "235it [00:50,  6.34it/s]"
     ]
    },
    {
     "name": "stdout",
     "output_type": "stream",
     "text": [
      "Saved to A:\\Projects\\CollegeProjects\\YogaPartner\\intermediates\\v2\\virabhadrasana_ii_197.jpg\n",
      "Saved to A:\\Projects\\CollegeProjects\\YogaPartner\\intermediates\\v2\\utkatasana_145.jpg\n"
     ]
    },
    {
     "name": "stderr",
     "output_type": "stream",
     "text": [
      "238it [00:50,  6.76it/s]"
     ]
    },
    {
     "name": "stdout",
     "output_type": "stream",
     "text": [
      "Saved to A:\\Projects\\CollegeProjects\\YogaPartner\\intermediates\\v2\\bidalasana_111.jpg\n",
      "Saved to A:\\Projects\\CollegeProjects\\YogaPartner\\intermediates\\v2\\adho_mukha_shvanasana_267.jpg\n"
     ]
    },
    {
     "name": "stderr",
     "output_type": "stream",
     "text": [
      "\r",
      "239it [00:50,  5.87it/s]"
     ]
    },
    {
     "name": "stdout",
     "output_type": "stream",
     "text": [
      "Saved to A:\\Projects\\CollegeProjects\\YogaPartner\\intermediates\\v2\\virabhadrasana_i_57.jpg\n"
     ]
    },
    {
     "name": "stderr",
     "output_type": "stream",
     "text": [
      "241it [00:51,  4.60it/s]"
     ]
    },
    {
     "name": "stdout",
     "output_type": "stream",
     "text": [
      "Saved to A:\\Projects\\CollegeProjects\\YogaPartner\\intermediates\\v2\\utkata_konasana_144.jpg\n",
      "Saved to A:\\Projects\\CollegeProjects\\YogaPartner\\intermediates\\v2\\bidalasana_103.jpg\n"
     ]
    },
    {
     "name": "stderr",
     "output_type": "stream",
     "text": [
      "243it [00:51,  5.66it/s]"
     ]
    },
    {
     "name": "stdout",
     "output_type": "stream",
     "text": [
      "Saved to A:\\Projects\\CollegeProjects\\YogaPartner\\intermediates\\v2\\virabhadrasana_i_7.jpg\n",
      "Saved to A:\\Projects\\CollegeProjects\\YogaPartner\\intermediates\\v2\\bhujangasana_284.jpg\n"
     ]
    },
    {
     "name": "stderr",
     "output_type": "stream",
     "text": [
      "245it [00:51,  6.25it/s]"
     ]
    },
    {
     "name": "stdout",
     "output_type": "stream",
     "text": [
      "Saved to A:\\Projects\\CollegeProjects\\YogaPartner\\intermediates\\v2\\virabhadrasana_i_163.jpg\n",
      "Saved to A:\\Projects\\CollegeProjects\\YogaPartner\\intermediates\\v2\\vrikshasana_273.jpg\n"
     ]
    },
    {
     "name": "stderr",
     "output_type": "stream",
     "text": [
      "247it [00:52,  6.89it/s]"
     ]
    },
    {
     "name": "stdout",
     "output_type": "stream",
     "text": [
      "Saved to A:\\Projects\\CollegeProjects\\YogaPartner\\intermediates\\v2\\phalakasana_1.jpg\n",
      "Saved to A:\\Projects\\CollegeProjects\\YogaPartner\\intermediates\\v2\\adho_mukha_shvanasana_398.jpg\n"
     ]
    },
    {
     "name": "stderr",
     "output_type": "stream",
     "text": [
      "\r",
      "248it [00:52,  6.29it/s]"
     ]
    },
    {
     "name": "stdout",
     "output_type": "stream",
     "text": [
      "Saved to A:\\Projects\\CollegeProjects\\YogaPartner\\intermediates\\v2\\virabhadrasana_ii_314.jpg\n"
     ]
    },
    {
     "name": "stderr",
     "output_type": "stream",
     "text": [
      "\r",
      "249it [00:52,  5.75it/s]"
     ]
    },
    {
     "name": "stdout",
     "output_type": "stream",
     "text": [
      "Saved to A:\\Projects\\CollegeProjects\\YogaPartner\\intermediates\\v2\\utkatasana_130.jpg\n"
     ]
    },
    {
     "name": "stderr",
     "output_type": "stream",
     "text": [
      "251it [00:54,  2.38it/s]"
     ]
    },
    {
     "name": "stdout",
     "output_type": "stream",
     "text": [
      "Saved to A:\\Projects\\CollegeProjects\\YogaPartner\\intermediates\\v2\\vrikshasana_82.jpg\n",
      "Saved to A:\\Projects\\CollegeProjects\\YogaPartner\\intermediates\\v2\\bidalasana_164.jpg\n"
     ]
    },
    {
     "name": "stderr",
     "output_type": "stream",
     "text": [
      "253it [00:54,  3.53it/s]"
     ]
    },
    {
     "name": "stdout",
     "output_type": "stream",
     "text": [
      "Saved to A:\\Projects\\CollegeProjects\\YogaPartner\\intermediates\\v2\\adho_mukha_shvanasana_175.jpg\n",
      "Saved to A:\\Projects\\CollegeProjects\\YogaPartner\\intermediates\\v2\\bhujangasana_396.jpg\n"
     ]
    },
    {
     "name": "stderr",
     "output_type": "stream",
     "text": [
      "255it [00:54,  4.42it/s]"
     ]
    },
    {
     "name": "stdout",
     "output_type": "stream",
     "text": [
      "Saved to A:\\Projects\\CollegeProjects\\YogaPartner\\intermediates\\v2\\virabhadrasana_ii_118.jpg\n",
      "Saved to A:\\Projects\\CollegeProjects\\YogaPartner\\intermediates\\v2\\vrikshasana_145.jpg\n"
     ]
    },
    {
     "name": "stderr",
     "output_type": "stream",
     "text": [
      "257it [00:55,  4.65it/s]"
     ]
    },
    {
     "name": "stdout",
     "output_type": "stream",
     "text": [
      "Saved to A:\\Projects\\CollegeProjects\\YogaPartner\\intermediates\\v2\\utkata_konasana_9.jpg\n",
      "Saved to A:\\Projects\\CollegeProjects\\YogaPartner\\intermediates\\v2\\adho_mukha_shvanasana_88.jpg\n"
     ]
    },
    {
     "name": "stderr",
     "output_type": "stream",
     "text": [
      "259it [00:55,  5.77it/s]"
     ]
    },
    {
     "name": "stdout",
     "output_type": "stream",
     "text": [
      "Saved to A:\\Projects\\CollegeProjects\\YogaPartner\\intermediates\\v2\\utkatasana_48.jpg\n",
      "Saved to A:\\Projects\\CollegeProjects\\YogaPartner\\intermediates\\v2\\bhujangasana_625.jpg\n"
     ]
    },
    {
     "name": "stderr",
     "output_type": "stream",
     "text": [
      "261it [00:55,  6.21it/s]"
     ]
    },
    {
     "name": "stdout",
     "output_type": "stream",
     "text": [
      "Saved to A:\\Projects\\CollegeProjects\\YogaPartner\\intermediates\\v2\\bhujangasana_243.jpg\n",
      "Saved to A:\\Projects\\CollegeProjects\\YogaPartner\\intermediates\\v2\\phalakasana_6.jpg\n"
     ]
    },
    {
     "name": "stderr",
     "output_type": "stream",
     "text": [
      "\r",
      "263it [00:56,  7.23it/s]"
     ]
    },
    {
     "name": "stdout",
     "output_type": "stream",
     "text": [
      "Saved to A:\\Projects\\CollegeProjects\\YogaPartner\\intermediates\\v2\\bidalasana_159.jpeg\n",
      "Saved to A:\\Projects\\CollegeProjects\\YogaPartner\\intermediates\\v2\\bhujangasana_260.jpg\n"
     ]
    },
    {
     "name": "stderr",
     "output_type": "stream",
     "text": [
      "265it [00:56,  6.17it/s]"
     ]
    },
    {
     "name": "stdout",
     "output_type": "stream",
     "text": [
      "Saved to A:\\Projects\\CollegeProjects\\YogaPartner\\intermediates\\v2\\bhujangasana_660.jpg\n",
      "Saved to A:\\Projects\\CollegeProjects\\YogaPartner\\intermediates\\v2\\utkata_konasana_43.jpg\n"
     ]
    },
    {
     "name": "stderr",
     "output_type": "stream",
     "text": [
      "267it [00:57,  3.76it/s]"
     ]
    },
    {
     "name": "stdout",
     "output_type": "stream",
     "text": [
      "Saved to A:\\Projects\\CollegeProjects\\YogaPartner\\intermediates\\v2\\bidalasana_2.jpeg\n",
      "Saved to A:\\Projects\\CollegeProjects\\YogaPartner\\intermediates\\v2\\virabhadrasana_ii_193.jpg\n"
     ]
    },
    {
     "name": "stderr",
     "output_type": "stream",
     "text": [
      "269it [00:57,  4.38it/s]"
     ]
    },
    {
     "name": "stdout",
     "output_type": "stream",
     "text": [
      "Saved to A:\\Projects\\CollegeProjects\\YogaPartner\\intermediates\\v2\\virabhadrasana_i_99.jpg\n",
      "Saved to A:\\Projects\\CollegeProjects\\YogaPartner\\intermediates\\v2\\utkata_konasana_44.jpg\n"
     ]
    },
    {
     "name": "stderr",
     "output_type": "stream",
     "text": [
      "272it [00:58,  6.39it/s]"
     ]
    },
    {
     "name": "stdout",
     "output_type": "stream",
     "text": [
      "Saved to A:\\Projects\\CollegeProjects\\YogaPartner\\intermediates\\v2\\bhujangasana_574.jpg\n",
      "Saved to A:\\Projects\\CollegeProjects\\YogaPartner\\intermediates\\v2\\phalakasana_74.jpg\n",
      "Saved to A:\\Projects\\CollegeProjects\\YogaPartner\\intermediates\\v2\\adho_mukha_shvanasana_21.jpg\n"
     ]
    },
    {
     "name": "stderr",
     "output_type": "stream",
     "text": [
      "\r",
      "273it [00:58,  6.53it/s]"
     ]
    },
    {
     "name": "stdout",
     "output_type": "stream",
     "text": [
      "Saved to A:\\Projects\\CollegeProjects\\YogaPartner\\intermediates\\v2\\utkata_konasana_153.jpg\n"
     ]
    },
    {
     "name": "stderr",
     "output_type": "stream",
     "text": [
      "275it [00:58,  5.97it/s]"
     ]
    },
    {
     "name": "stdout",
     "output_type": "stream",
     "text": [
      "Saved to A:\\Projects\\CollegeProjects\\YogaPartner\\intermediates\\v2\\utkatasana_122.jpg\n",
      "Saved to A:\\Projects\\CollegeProjects\\YogaPartner\\intermediates\\v2\\adho_mukha_shvanasana_392.jpg\n"
     ]
    },
    {
     "name": "stderr",
     "output_type": "stream",
     "text": [
      "277it [00:58,  6.94it/s]"
     ]
    },
    {
     "name": "stdout",
     "output_type": "stream",
     "text": [
      "Saved to A:\\Projects\\CollegeProjects\\YogaPartner\\intermediates\\v2\\virabhadrasana_ii_71.jpg\n",
      "Saved to A:\\Projects\\CollegeProjects\\YogaPartner\\intermediates\\v2\\adho_mukha_shvanasana_76.jpg\n"
     ]
    },
    {
     "name": "stderr",
     "output_type": "stream",
     "text": [
      "279it [00:59,  7.17it/s]"
     ]
    },
    {
     "name": "stdout",
     "output_type": "stream",
     "text": [
      "Saved to A:\\Projects\\CollegeProjects\\YogaPartner\\intermediates\\v2\\virabhadrasana_ii_12.jpg\n",
      "Saved to A:\\Projects\\CollegeProjects\\YogaPartner\\intermediates\\v2\\virabhadrasana_ii_238.jpg\n"
     ]
    },
    {
     "name": "stderr",
     "output_type": "stream",
     "text": [
      "281it [00:59,  7.40it/s]"
     ]
    },
    {
     "name": "stdout",
     "output_type": "stream",
     "text": [
      "Saved to A:\\Projects\\CollegeProjects\\YogaPartner\\intermediates\\v2\\bhujangasana_348.jpg\n",
      "Saved to A:\\Projects\\CollegeProjects\\YogaPartner\\intermediates\\v2\\vrikshasana_236.jpg\n"
     ]
    },
    {
     "name": "stderr",
     "output_type": "stream",
     "text": [
      "283it [00:59,  5.94it/s]"
     ]
    },
    {
     "name": "stdout",
     "output_type": "stream",
     "text": [
      "Saved to A:\\Projects\\CollegeProjects\\YogaPartner\\intermediates\\v2\\utkata_konasana_158.jpg\n",
      "Saved to A:\\Projects\\CollegeProjects\\YogaPartner\\intermediates\\v2\\vasisthasana_108.jpg\n"
     ]
    },
    {
     "name": "stderr",
     "output_type": "stream",
     "text": [
      "285it [01:00,  6.13it/s]"
     ]
    },
    {
     "name": "stdout",
     "output_type": "stream",
     "text": [
      "Saved to A:\\Projects\\CollegeProjects\\YogaPartner\\intermediates\\v2\\ustrasana_65.jpg\n",
      "Saved to A:\\Projects\\CollegeProjects\\YogaPartner\\intermediates\\v2\\bidalasana_17.jpg\n"
     ]
    },
    {
     "name": "stderr",
     "output_type": "stream",
     "text": [
      "\r",
      "286it [01:00,  6.17it/s]"
     ]
    },
    {
     "name": "stdout",
     "output_type": "stream",
     "text": [
      "Saved to A:\\Projects\\CollegeProjects\\YogaPartner\\intermediates\\v2\\virabhadrasana_ii_198.jpg\n"
     ]
    },
    {
     "name": "stderr",
     "output_type": "stream",
     "text": [
      "288it [01:01,  3.65it/s]"
     ]
    },
    {
     "name": "stdout",
     "output_type": "stream",
     "text": [
      "Saved to A:\\Projects\\CollegeProjects\\YogaPartner\\intermediates\\v2\\utkatasana_70.jpg\n",
      "Saved to A:\\Projects\\CollegeProjects\\YogaPartner\\intermediates\\v2\\utkatasana_170.jpg\n"
     ]
    },
    {
     "name": "stderr",
     "output_type": "stream",
     "text": [
      "290it [01:01,  4.73it/s]"
     ]
    },
    {
     "name": "stdout",
     "output_type": "stream",
     "text": [
      "Saved to A:\\Projects\\CollegeProjects\\YogaPartner\\intermediates\\v2\\bidalasana_207.jpg\n",
      "Saved to A:\\Projects\\CollegeProjects\\YogaPartner\\intermediates\\v2\\utkatasana_124.jpg\n"
     ]
    },
    {
     "name": "stderr",
     "output_type": "stream",
     "text": [
      "292it [01:01,  5.29it/s]"
     ]
    },
    {
     "name": "stdout",
     "output_type": "stream",
     "text": [
      "Saved to A:\\Projects\\CollegeProjects\\YogaPartner\\intermediates\\v2\\utkatasana_36.jpg\n",
      "Saved to A:\\Projects\\CollegeProjects\\YogaPartner\\intermediates\\v2\\phalakasana_92.jpg\n"
     ]
    },
    {
     "name": "stderr",
     "output_type": "stream",
     "text": [
      "294it [01:02,  6.51it/s]"
     ]
    },
    {
     "name": "stdout",
     "output_type": "stream",
     "text": [
      "Saved to A:\\Projects\\CollegeProjects\\YogaPartner\\intermediates\\v2\\bhujangasana_9.jpg\n",
      "Saved to A:\\Projects\\CollegeProjects\\YogaPartner\\intermediates\\v2\\utkatasana_189.jpg\n"
     ]
    },
    {
     "name": "stderr",
     "output_type": "stream",
     "text": [
      "\r",
      "295it [01:02,  6.48it/s]"
     ]
    },
    {
     "name": "stdout",
     "output_type": "stream",
     "text": [
      "Saved to A:\\Projects\\CollegeProjects\\YogaPartner\\intermediates\\v2\\bhujangasana_128.jpg\n"
     ]
    },
    {
     "name": "stderr",
     "output_type": "stream",
     "text": [
      "297it [01:02,  4.19it/s]"
     ]
    },
    {
     "name": "stdout",
     "output_type": "stream",
     "text": [
      "Saved to A:\\Projects\\CollegeProjects\\YogaPartner\\intermediates\\v2\\vasisthasana_59.jpg\n",
      "Saved to A:\\Projects\\CollegeProjects\\YogaPartner\\intermediates\\v2\\adho_mukha_shvanasana_421.jpg\n"
     ]
    },
    {
     "name": "stderr",
     "output_type": "stream",
     "text": [
      "299it [01:03,  5.60it/s]"
     ]
    },
    {
     "name": "stdout",
     "output_type": "stream",
     "text": [
      "Saved to A:\\Projects\\CollegeProjects\\YogaPartner\\intermediates\\v2\\bhujangasana_662.jpg\n",
      "Saved to A:\\Projects\\CollegeProjects\\YogaPartner\\intermediates\\v2\\adho_mukha_shvanasana_195.jpg\n"
     ]
    },
    {
     "name": "stderr",
     "output_type": "stream",
     "text": [
      "301it [01:03,  4.36it/s]"
     ]
    },
    {
     "name": "stdout",
     "output_type": "stream",
     "text": [
      "Saved to A:\\Projects\\CollegeProjects\\YogaPartner\\intermediates\\v2\\adho_mukha_shvanasana_422.jpg\n",
      "Saved to A:\\Projects\\CollegeProjects\\YogaPartner\\intermediates\\v2\\virabhadrasana_i_145.jpg\n"
     ]
    },
    {
     "name": "stderr",
     "output_type": "stream",
     "text": [
      "303it [01:04,  5.58it/s]"
     ]
    },
    {
     "name": "stdout",
     "output_type": "stream",
     "text": [
      "Saved to A:\\Projects\\CollegeProjects\\YogaPartner\\intermediates\\v2\\bhujangasana_279.jpg\n",
      "Saved to A:\\Projects\\CollegeProjects\\YogaPartner\\intermediates\\v2\\vrikshasana_181.jpg\n"
     ]
    },
    {
     "name": "stderr",
     "output_type": "stream",
     "text": [
      "305it [01:04,  5.37it/s]"
     ]
    },
    {
     "name": "stdout",
     "output_type": "stream",
     "text": [
      "Saved to A:\\Projects\\CollegeProjects\\YogaPartner\\intermediates\\v2\\bhujangasana_119.jpg\n",
      "Saved to A:\\Projects\\CollegeProjects\\YogaPartner\\intermediates\\v2\\adho_mukha_shvanasana_99.jpg\n"
     ]
    },
    {
     "name": "stderr",
     "output_type": "stream",
     "text": [
      "307it [01:04,  5.75it/s]"
     ]
    },
    {
     "name": "stdout",
     "output_type": "stream",
     "text": [
      "Saved to A:\\Projects\\CollegeProjects\\YogaPartner\\intermediates\\v2\\bidalasana_39.jpg\n",
      "Saved to A:\\Projects\\CollegeProjects\\YogaPartner\\intermediates\\v2\\bhujangasana_584.jpg\n"
     ]
    },
    {
     "name": "stderr",
     "output_type": "stream",
     "text": [
      "309it [01:04,  6.56it/s]"
     ]
    },
    {
     "name": "stdout",
     "output_type": "stream",
     "text": [
      "Saved to A:\\Projects\\CollegeProjects\\YogaPartner\\intermediates\\v2\\bhujangasana_473.jpg\n",
      "Saved to A:\\Projects\\CollegeProjects\\YogaPartner\\intermediates\\v2\\bidalasana_143.jpg\n"
     ]
    },
    {
     "name": "stderr",
     "output_type": "stream",
     "text": [
      "311it [01:05,  5.25it/s]"
     ]
    },
    {
     "name": "stdout",
     "output_type": "stream",
     "text": [
      "Saved to A:\\Projects\\CollegeProjects\\YogaPartner\\intermediates\\v2\\utkatasana_28.jpg\n",
      "Saved to A:\\Projects\\CollegeProjects\\YogaPartner\\intermediates\\v2\\utkata_konasana_14.jpg\n"
     ]
    },
    {
     "name": "stderr",
     "output_type": "stream",
     "text": [
      "313it [01:05,  5.63it/s]"
     ]
    },
    {
     "name": "stdout",
     "output_type": "stream",
     "text": [
      "Saved to A:\\Projects\\CollegeProjects\\YogaPartner\\intermediates\\v2\\virabhadrasana_i_72.jpg\n",
      "Saved to A:\\Projects\\CollegeProjects\\YogaPartner\\intermediates\\v2\\utkata_konasana_103.jpg\n"
     ]
    },
    {
     "name": "stderr",
     "output_type": "stream",
     "text": [
      "315it [01:06,  6.64it/s]"
     ]
    },
    {
     "name": "stdout",
     "output_type": "stream",
     "text": [
      "Saved to A:\\Projects\\CollegeProjects\\YogaPartner\\intermediates\\v2\\bidalasana_100.jpeg\n",
      "Saved to A:\\Projects\\CollegeProjects\\YogaPartner\\intermediates\\v2\\bidalasana_301.jpg\n"
     ]
    },
    {
     "name": "stderr",
     "output_type": "stream",
     "text": [
      "317it [01:06,  5.99it/s]"
     ]
    },
    {
     "name": "stdout",
     "output_type": "stream",
     "text": [
      "Saved to A:\\Projects\\CollegeProjects\\YogaPartner\\intermediates\\v2\\vrikshasana_238.jpg\n",
      "Saved to A:\\Projects\\CollegeProjects\\YogaPartner\\intermediates\\v2\\vasisthasana_113.jpg\n"
     ]
    },
    {
     "name": "stderr",
     "output_type": "stream",
     "text": [
      "319it [01:06,  5.78it/s]"
     ]
    },
    {
     "name": "stdout",
     "output_type": "stream",
     "text": [
      "Saved to A:\\Projects\\CollegeProjects\\YogaPartner\\intermediates\\v2\\bhujangasana_580.jpg\n",
      "Saved to A:\\Projects\\CollegeProjects\\YogaPartner\\intermediates\\v2\\virabhadrasana_ii_126.jpg\n"
     ]
    },
    {
     "name": "stderr",
     "output_type": "stream",
     "text": [
      "\r",
      "321it [01:07,  6.54it/s]"
     ]
    },
    {
     "name": "stdout",
     "output_type": "stream",
     "text": [
      "Saved to A:\\Projects\\CollegeProjects\\YogaPartner\\intermediates\\v2\\bhujangasana_602.jpg\n",
      "Saved to A:\\Projects\\CollegeProjects\\YogaPartner\\intermediates\\v2\\phalakasana_79.jpg\n"
     ]
    },
    {
     "name": "stderr",
     "output_type": "stream",
     "text": [
      "323it [01:07,  7.23it/s]"
     ]
    },
    {
     "name": "stdout",
     "output_type": "stream",
     "text": [
      "Saved to A:\\Projects\\CollegeProjects\\YogaPartner\\intermediates\\v2\\vasisthasana_44.jpg\n",
      "Saved to A:\\Projects\\CollegeProjects\\YogaPartner\\intermediates\\v2\\bhujangasana_464.jpg\n"
     ]
    },
    {
     "name": "stderr",
     "output_type": "stream",
     "text": [
      "325it [01:07,  6.09it/s]"
     ]
    },
    {
     "name": "stdout",
     "output_type": "stream",
     "text": [
      "Saved to A:\\Projects\\CollegeProjects\\YogaPartner\\intermediates\\v2\\virabhadrasana_i_18.jpg\n",
      "Saved to A:\\Projects\\CollegeProjects\\YogaPartner\\intermediates\\v2\\utkata_konasana_79.jpg\n"
     ]
    },
    {
     "name": "stderr",
     "output_type": "stream",
     "text": [
      "327it [01:07,  6.28it/s]"
     ]
    },
    {
     "name": "stdout",
     "output_type": "stream",
     "text": [
      "Saved to A:\\Projects\\CollegeProjects\\YogaPartner\\intermediates\\v2\\adho_mukha_shvanasana_258.jpg\n",
      "Saved to A:\\Projects\\CollegeProjects\\YogaPartner\\intermediates\\v2\\bidalasana_182.jpg\n"
     ]
    },
    {
     "name": "stderr",
     "output_type": "stream",
     "text": [
      "329it [01:08,  6.23it/s]"
     ]
    },
    {
     "name": "stdout",
     "output_type": "stream",
     "text": [
      "Saved to A:\\Projects\\CollegeProjects\\YogaPartner\\intermediates\\v2\\virabhadrasana_ii_253.jpg\n",
      "Saved to A:\\Projects\\CollegeProjects\\YogaPartner\\intermediates\\v2\\virabhadrasana_ii_72.jpg\n"
     ]
    },
    {
     "name": "stderr",
     "output_type": "stream",
     "text": [
      "331it [01:08,  7.03it/s]"
     ]
    },
    {
     "name": "stdout",
     "output_type": "stream",
     "text": [
      "Saved to A:\\Projects\\CollegeProjects\\YogaPartner\\intermediates\\v2\\bhujangasana_171.jpg\n",
      "Saved to A:\\Projects\\CollegeProjects\\YogaPartner\\intermediates\\v2\\phalakasana_57.jpg\n"
     ]
    },
    {
     "name": "stderr",
     "output_type": "stream",
     "text": [
      "333it [01:08,  6.16it/s]"
     ]
    },
    {
     "name": "stdout",
     "output_type": "stream",
     "text": [
      "Saved to A:\\Projects\\CollegeProjects\\YogaPartner\\intermediates\\v2\\phalakasana_119.jpg\n",
      "Saved to A:\\Projects\\CollegeProjects\\YogaPartner\\intermediates\\v2\\bhujangasana_256.jpg\n"
     ]
    },
    {
     "name": "stderr",
     "output_type": "stream",
     "text": [
      "335it [01:09,  6.65it/s]"
     ]
    },
    {
     "name": "stdout",
     "output_type": "stream",
     "text": [
      "Saved to A:\\Projects\\CollegeProjects\\YogaPartner\\intermediates\\v2\\adho_mukha_shvanasana_306.jpg\n",
      "Saved to A:\\Projects\\CollegeProjects\\YogaPartner\\intermediates\\v2\\vrikshasana_288.jpg\n"
     ]
    },
    {
     "name": "stderr",
     "output_type": "stream",
     "text": [
      "337it [01:09,  5.87it/s]"
     ]
    },
    {
     "name": "stdout",
     "output_type": "stream",
     "text": [
      "Saved to A:\\Projects\\CollegeProjects\\YogaPartner\\intermediates\\v2\\adho_mukha_shvanasana_128.jpg\n",
      "Saved to A:\\Projects\\CollegeProjects\\YogaPartner\\intermediates\\v2\\bidalasana_116.jpg\n"
     ]
    },
    {
     "name": "stderr",
     "output_type": "stream",
     "text": [
      "339it [01:09,  6.41it/s]"
     ]
    },
    {
     "name": "stdout",
     "output_type": "stream",
     "text": [
      "Saved to A:\\Projects\\CollegeProjects\\YogaPartner\\intermediates\\v2\\virabhadrasana_ii_318.jpg\n",
      "Saved to A:\\Projects\\CollegeProjects\\YogaPartner\\intermediates\\v2\\vasisthasana_31.jpg\n"
     ]
    },
    {
     "name": "stderr",
     "output_type": "stream",
     "text": [
      "341it [01:10,  6.34it/s]"
     ]
    },
    {
     "name": "stdout",
     "output_type": "stream",
     "text": [
      "Saved to A:\\Projects\\CollegeProjects\\YogaPartner\\intermediates\\v2\\adho_mukha_shvanasana_230.jpg\n",
      "Saved to A:\\Projects\\CollegeProjects\\YogaPartner\\intermediates\\v2\\virabhadrasana_i_188.jpg\n"
     ]
    },
    {
     "name": "stderr",
     "output_type": "stream",
     "text": [
      "343it [01:10,  5.84it/s]"
     ]
    },
    {
     "name": "stdout",
     "output_type": "stream",
     "text": [
      "Saved to A:\\Projects\\CollegeProjects\\YogaPartner\\intermediates\\v2\\bhujangasana_419.jpg\n",
      "Saved to A:\\Projects\\CollegeProjects\\YogaPartner\\intermediates\\v2\\bidalasana_85.jpg\n"
     ]
    },
    {
     "name": "stderr",
     "output_type": "stream",
     "text": [
      "345it [01:10,  6.38it/s]"
     ]
    },
    {
     "name": "stdout",
     "output_type": "stream",
     "text": [
      "Saved to A:\\Projects\\CollegeProjects\\YogaPartner\\intermediates\\v2\\utkata_konasana_36.jpg\n",
      "Saved to A:\\Projects\\CollegeProjects\\YogaPartner\\intermediates\\v2\\phalakasana_72.jpg\n"
     ]
    },
    {
     "name": "stderr",
     "output_type": "stream",
     "text": [
      "\r",
      "346it [01:11,  5.20it/s]"
     ]
    },
    {
     "name": "stdout",
     "output_type": "stream",
     "text": [
      "Saved to A:\\Projects\\CollegeProjects\\YogaPartner\\intermediates\\v2\\vrikshasana_150.jpg\n",
      "Saved to A:\\Projects\\CollegeProjects\\YogaPartner\\intermediates\\v2\\bidalasana_210.jpg\n"
     ]
    },
    {
     "name": "stderr",
     "output_type": "stream",
     "text": [
      "349it [01:11,  6.45it/s]"
     ]
    },
    {
     "name": "stdout",
     "output_type": "stream",
     "text": [
      "Saved to A:\\Projects\\CollegeProjects\\YogaPartner\\intermediates\\v2\\bhujangasana_397.jpg\n",
      "Saved to A:\\Projects\\CollegeProjects\\YogaPartner\\intermediates\\v2\\adho_mukha_shvanasana_300.jpg\n"
     ]
    },
    {
     "name": "stderr",
     "output_type": "stream",
     "text": [
      "\r",
      "350it [01:11,  6.59it/s]"
     ]
    },
    {
     "name": "stdout",
     "output_type": "stream",
     "text": [
      "Saved to A:\\Projects\\CollegeProjects\\YogaPartner\\intermediates\\v2\\bhujangasana_460.jpg\n"
     ]
    },
    {
     "name": "stderr",
     "output_type": "stream",
     "text": [
      "352it [01:12,  5.81it/s]"
     ]
    },
    {
     "name": "stdout",
     "output_type": "stream",
     "text": [
      "Saved to A:\\Projects\\CollegeProjects\\YogaPartner\\intermediates\\v2\\utkata_konasana_175.jpg\n",
      "Saved to A:\\Projects\\CollegeProjects\\YogaPartner\\intermediates\\v2\\ustrasana_22.jpg\n"
     ]
    },
    {
     "name": "stderr",
     "output_type": "stream",
     "text": [
      "354it [01:12,  6.14it/s]"
     ]
    },
    {
     "name": "stdout",
     "output_type": "stream",
     "text": [
      "Saved to A:\\Projects\\CollegeProjects\\YogaPartner\\intermediates\\v2\\bhujangasana_664.jpg\n",
      "Saved to A:\\Projects\\CollegeProjects\\YogaPartner\\intermediates\\v2\\virabhadrasana_ii_53.jpg\n"
     ]
    },
    {
     "name": "stderr",
     "output_type": "stream",
     "text": [
      "356it [01:12,  6.79it/s]"
     ]
    },
    {
     "name": "stdout",
     "output_type": "stream",
     "text": [
      "Saved to A:\\Projects\\CollegeProjects\\YogaPartner\\intermediates\\v2\\bhujangasana_422.jpg\n",
      "Saved to A:\\Projects\\CollegeProjects\\YogaPartner\\intermediates\\v2\\bidalasana_88.jpg\n"
     ]
    },
    {
     "name": "stderr",
     "output_type": "stream",
     "text": [
      "\r",
      "357it [01:12,  6.65it/s]"
     ]
    },
    {
     "name": "stdout",
     "output_type": "stream",
     "text": [
      "Saved to A:\\Projects\\CollegeProjects\\YogaPartner\\intermediates\\v2\\vrikshasana_72.jpg\n"
     ]
    },
    {
     "name": "stderr",
     "output_type": "stream",
     "text": [
      "359it [01:13,  5.91it/s]"
     ]
    },
    {
     "name": "stdout",
     "output_type": "stream",
     "text": [
      "Saved to A:\\Projects\\CollegeProjects\\YogaPartner\\intermediates\\v2\\vrikshasana_75.jpg\n",
      "Saved to A:\\Projects\\CollegeProjects\\YogaPartner\\intermediates\\v2\\ustrasana_32.jpg\n"
     ]
    },
    {
     "name": "stderr",
     "output_type": "stream",
     "text": [
      "\r",
      "360it [01:13,  6.52it/s]"
     ]
    },
    {
     "name": "stdout",
     "output_type": "stream",
     "text": [
      "Saved to A:\\Projects\\CollegeProjects\\YogaPartner\\intermediates\\v2\\utkatasana_59.jpg\n",
      "Saved to A:\\Projects\\CollegeProjects\\YogaPartner\\intermediates\\v2\\bhujangasana_264.jpg\n"
     ]
    },
    {
     "name": "stderr",
     "output_type": "stream",
     "text": [
      "363it [01:13,  7.75it/s]"
     ]
    },
    {
     "name": "stdout",
     "output_type": "stream",
     "text": [
      "Saved to A:\\Projects\\CollegeProjects\\YogaPartner\\intermediates\\v2\\vrikshasana_307.jpg\n",
      "Saved to A:\\Projects\\CollegeProjects\\YogaPartner\\intermediates\\v2\\bhujangasana_106.jpg\n"
     ]
    },
    {
     "name": "stderr",
     "output_type": "stream",
     "text": [
      "\r",
      "364it [01:13,  7.40it/s]"
     ]
    },
    {
     "name": "stdout",
     "output_type": "stream",
     "text": [
      "Saved to A:\\Projects\\CollegeProjects\\YogaPartner\\intermediates\\v2\\bhujangasana_292.jpg\n"
     ]
    },
    {
     "name": "stderr",
     "output_type": "stream",
     "text": [
      "\r",
      "365it [01:14,  4.89it/s]"
     ]
    },
    {
     "name": "stdout",
     "output_type": "stream",
     "text": [
      "Saved to A:\\Projects\\CollegeProjects\\YogaPartner\\intermediates\\v2\\virabhadrasana_i_76.jpg\n"
     ]
    },
    {
     "name": "stderr",
     "output_type": "stream",
     "text": [
      "\r",
      "366it [01:14,  4.26it/s]"
     ]
    },
    {
     "name": "stdout",
     "output_type": "stream",
     "text": [
      "Saved to A:\\Projects\\CollegeProjects\\YogaPartner\\intermediates\\v2\\vrikshasana_193.jpg\n"
     ]
    },
    {
     "name": "stderr",
     "output_type": "stream",
     "text": [
      "368it [01:14,  4.84it/s]"
     ]
    },
    {
     "name": "stdout",
     "output_type": "stream",
     "text": [
      "Saved to A:\\Projects\\CollegeProjects\\YogaPartner\\intermediates\\v2\\bhujangasana_212.jpg\n",
      "Saved to A:\\Projects\\CollegeProjects\\YogaPartner\\intermediates\\v2\\bidalasana_186.jpg\n"
     ]
    },
    {
     "name": "stderr",
     "output_type": "stream",
     "text": [
      "\r",
      "369it [01:15,  4.93it/s]"
     ]
    },
    {
     "name": "stdout",
     "output_type": "stream",
     "text": [
      "Saved to A:\\Projects\\CollegeProjects\\YogaPartner\\intermediates\\v2\\virabhadrasana_ii_373.jpg\n"
     ]
    },
    {
     "name": "stderr",
     "output_type": "stream",
     "text": [
      "372it [01:15,  6.15it/s]"
     ]
    },
    {
     "name": "stdout",
     "output_type": "stream",
     "text": [
      "Saved to A:\\Projects\\CollegeProjects\\YogaPartner\\intermediates\\v2\\utkata_konasana_143.jpg\n",
      "Saved to A:\\Projects\\CollegeProjects\\YogaPartner\\intermediates\\v2\\adho_mukha_shvanasana_61.jpg\n",
      "Saved to A:\\Projects\\CollegeProjects\\YogaPartner\\intermediates\\v2\\utkatasana_38.jpg\n"
     ]
    },
    {
     "name": "stderr",
     "output_type": "stream",
     "text": [
      "374it [01:15,  6.78it/s]"
     ]
    },
    {
     "name": "stdout",
     "output_type": "stream",
     "text": [
      "Saved to A:\\Projects\\CollegeProjects\\YogaPartner\\intermediates\\v2\\adho_mukha_shvanasana_186.jpg\n",
      "Saved to A:\\Projects\\CollegeProjects\\YogaPartner\\intermediates\\v2\\virabhadrasana_i_173.jpg\n"
     ]
    },
    {
     "name": "stderr",
     "output_type": "stream",
     "text": [
      "376it [01:16,  6.26it/s]"
     ]
    },
    {
     "name": "stdout",
     "output_type": "stream",
     "text": [
      "Saved to A:\\Projects\\CollegeProjects\\YogaPartner\\intermediates\\v2\\bhujangasana_501.jpg\n",
      "Saved to A:\\Projects\\CollegeProjects\\YogaPartner\\intermediates\\v2\\bidalasana_173.jpg\n"
     ]
    },
    {
     "name": "stderr",
     "output_type": "stream",
     "text": [
      "378it [01:16,  6.13it/s]"
     ]
    },
    {
     "name": "stdout",
     "output_type": "stream",
     "text": [
      "Saved to A:\\Projects\\CollegeProjects\\YogaPartner\\intermediates\\v2\\phalakasana_54.jpg\n",
      "Saved to A:\\Projects\\CollegeProjects\\YogaPartner\\intermediates\\v2\\virabhadrasana_i_54.jpg\n"
     ]
    },
    {
     "name": "stderr",
     "output_type": "stream",
     "text": [
      "380it [01:16,  6.81it/s]"
     ]
    },
    {
     "name": "stdout",
     "output_type": "stream",
     "text": [
      "Saved to A:\\Projects\\CollegeProjects\\YogaPartner\\intermediates\\v2\\bidalasana_214.jpg\n",
      "Saved to A:\\Projects\\CollegeProjects\\YogaPartner\\intermediates\\v2\\utkata_konasana_62.jpg\n"
     ]
    },
    {
     "name": "stderr",
     "output_type": "stream",
     "text": [
      "\r",
      "381it [01:16,  6.63it/s]"
     ]
    },
    {
     "name": "stdout",
     "output_type": "stream",
     "text": [
      "Saved to A:\\Projects\\CollegeProjects\\YogaPartner\\intermediates\\v2\\adho_mukha_shvanasana_40.jpg\n"
     ]
    },
    {
     "name": "stderr",
     "output_type": "stream",
     "text": [
      "383it [01:17,  6.15it/s]"
     ]
    },
    {
     "name": "stdout",
     "output_type": "stream",
     "text": [
      "Saved to A:\\Projects\\CollegeProjects\\YogaPartner\\intermediates\\v2\\utkata_konasana_192.jpg\n",
      "Saved to A:\\Projects\\CollegeProjects\\YogaPartner\\intermediates\\v2\\virabhadrasana_i_55.jpg\n"
     ]
    },
    {
     "name": "stderr",
     "output_type": "stream",
     "text": [
      "385it [01:17,  6.85it/s]"
     ]
    },
    {
     "name": "stdout",
     "output_type": "stream",
     "text": [
      "Saved to A:\\Projects\\CollegeProjects\\YogaPartner\\intermediates\\v2\\bhujangasana_520.jpg\n",
      "Saved to A:\\Projects\\CollegeProjects\\YogaPartner\\intermediates\\v2\\bhujangasana_153.jpg\n",
      "Saved to A:\\Projects\\CollegeProjects\\YogaPartner\\intermediates\\v2\\virabhadrasana_i_200.jpg\n"
     ]
    },
    {
     "name": "stderr",
     "output_type": "stream",
     "text": [
      "388it [01:17,  8.46it/s]"
     ]
    },
    {
     "name": "stdout",
     "output_type": "stream",
     "text": [
      "Saved to A:\\Projects\\CollegeProjects\\YogaPartner\\intermediates\\v2\\virabhadrasana_ii_200.jpg\n",
      "Saved to A:\\Projects\\CollegeProjects\\YogaPartner\\intermediates\\v2\\virabhadrasana_ii_39.jpg\n"
     ]
    },
    {
     "name": "stderr",
     "output_type": "stream",
     "text": [
      "\r",
      "389it [01:18,  7.42it/s]"
     ]
    },
    {
     "name": "stdout",
     "output_type": "stream",
     "text": [
      "Saved to A:\\Projects\\CollegeProjects\\YogaPartner\\intermediates\\v2\\virabhadrasana_ii_351.jpg\n"
     ]
    },
    {
     "name": "stderr",
     "output_type": "stream",
     "text": [
      "\r",
      "390it [01:18,  5.34it/s]"
     ]
    },
    {
     "name": "stdout",
     "output_type": "stream",
     "text": [
      "Saved to A:\\Projects\\CollegeProjects\\YogaPartner\\intermediates\\v2\\bidalasana_315.jpeg\n"
     ]
    },
    {
     "name": "stderr",
     "output_type": "stream",
     "text": [
      "393it [01:18,  6.28it/s]"
     ]
    },
    {
     "name": "stdout",
     "output_type": "stream",
     "text": [
      "Saved to A:\\Projects\\CollegeProjects\\YogaPartner\\intermediates\\v2\\bidalasana_7.jpg\n",
      "Saved to A:\\Projects\\CollegeProjects\\YogaPartner\\intermediates\\v2\\virabhadrasana_i_119.jpg\n",
      "Saved to A:\\Projects\\CollegeProjects\\YogaPartner\\intermediates\\v2\\phalakasana_32.jpg\n"
     ]
    },
    {
     "name": "stderr",
     "output_type": "stream",
     "text": [
      "395it [01:19,  5.86it/s]"
     ]
    },
    {
     "name": "stdout",
     "output_type": "stream",
     "text": [
      "Saved to A:\\Projects\\CollegeProjects\\YogaPartner\\intermediates\\v2\\vrikshasana_37.jpg\n",
      "Saved to A:\\Projects\\CollegeProjects\\YogaPartner\\intermediates\\v2\\bidalasana_53.jpg\n"
     ]
    },
    {
     "name": "stderr",
     "output_type": "stream",
     "text": [
      "397it [01:19,  5.58it/s]"
     ]
    },
    {
     "name": "stdout",
     "output_type": "stream",
     "text": [
      "Saved to A:\\Projects\\CollegeProjects\\YogaPartner\\intermediates\\v2\\utkata_konasana_81.jpg\n",
      "Saved to A:\\Projects\\CollegeProjects\\YogaPartner\\intermediates\\v2\\bhujangasana_536.jpg\n"
     ]
    },
    {
     "name": "stderr",
     "output_type": "stream",
     "text": [
      "399it [01:19,  5.84it/s]"
     ]
    },
    {
     "name": "stdout",
     "output_type": "stream",
     "text": [
      "Saved to A:\\Projects\\CollegeProjects\\YogaPartner\\intermediates\\v2\\adho_mukha_shvanasana_215.jpg\n",
      "Saved to A:\\Projects\\CollegeProjects\\YogaPartner\\intermediates\\v2\\virabhadrasana_ii_78.jpg\n"
     ]
    },
    {
     "name": "stderr",
     "output_type": "stream",
     "text": [
      "401it [01:20,  6.07it/s]"
     ]
    },
    {
     "name": "stdout",
     "output_type": "stream",
     "text": [
      "Saved to A:\\Projects\\CollegeProjects\\YogaPartner\\intermediates\\v2\\bhujangasana_421.jpg\n",
      "Saved to A:\\Projects\\CollegeProjects\\YogaPartner\\intermediates\\v2\\bidalasana_221.jpg\n"
     ]
    },
    {
     "name": "stderr",
     "output_type": "stream",
     "text": [
      "403it [01:20,  6.05it/s]"
     ]
    },
    {
     "name": "stdout",
     "output_type": "stream",
     "text": [
      "Saved to A:\\Projects\\CollegeProjects\\YogaPartner\\intermediates\\v2\\vrikshasana_25.jpg\n",
      "Saved to A:\\Projects\\CollegeProjects\\YogaPartner\\intermediates\\v2\\adho_mukha_shvanasana_405.jpg\n"
     ]
    },
    {
     "name": "stderr",
     "output_type": "stream",
     "text": [
      "405it [01:21,  2.66it/s]"
     ]
    },
    {
     "name": "stdout",
     "output_type": "stream",
     "text": [
      "Saved to A:\\Projects\\CollegeProjects\\YogaPartner\\intermediates\\v2\\vrikshasana_292.jpg\n",
      "Saved to A:\\Projects\\CollegeProjects\\YogaPartner\\intermediates\\v2\\bhujangasana_291.jpg\n"
     ]
    },
    {
     "name": "stderr",
     "output_type": "stream",
     "text": [
      "\r",
      "406it [01:22,  3.27it/s]"
     ]
    },
    {
     "name": "stdout",
     "output_type": "stream",
     "text": [
      "Saved to A:\\Projects\\CollegeProjects\\YogaPartner\\intermediates\\v2\\bhujangasana_77.jpg\n"
     ]
    },
    {
     "name": "stderr",
     "output_type": "stream",
     "text": [
      "\r",
      "407it [01:22,  3.22it/s]"
     ]
    },
    {
     "name": "stdout",
     "output_type": "stream",
     "text": [
      "Saved to A:\\Projects\\CollegeProjects\\YogaPartner\\intermediates\\v2\\bhujangasana_97.jpg\n"
     ]
    },
    {
     "name": "stderr",
     "output_type": "stream",
     "text": [
      "410it [01:22,  4.67it/s]"
     ]
    },
    {
     "name": "stdout",
     "output_type": "stream",
     "text": [
      "Saved to A:\\Projects\\CollegeProjects\\YogaPartner\\intermediates\\v2\\vasisthasana_72.jpg\n",
      "Saved to A:\\Projects\\CollegeProjects\\YogaPartner\\intermediates\\v2\\vrikshasana_153.jpg\n",
      "Saved to A:\\Projects\\CollegeProjects\\YogaPartner\\intermediates\\v2\\bhujangasana_125.jpg\n"
     ]
    },
    {
     "name": "stderr",
     "output_type": "stream",
     "text": [
      "412it [01:23,  5.62it/s]"
     ]
    },
    {
     "name": "stdout",
     "output_type": "stream",
     "text": [
      "Saved to A:\\Projects\\CollegeProjects\\YogaPartner\\intermediates\\v2\\vrikshasana_73.jpg\n",
      "Saved to A:\\Projects\\CollegeProjects\\YogaPartner\\intermediates\\v2\\adho_mukha_shvanasana_373.jpg\n"
     ]
    },
    {
     "name": "stderr",
     "output_type": "stream",
     "text": [
      "414it [01:23,  5.53it/s]"
     ]
    },
    {
     "name": "stdout",
     "output_type": "stream",
     "text": [
      "Saved to A:\\Projects\\CollegeProjects\\YogaPartner\\intermediates\\v2\\phalakasana_75.jpg\n",
      "Saved to A:\\Projects\\CollegeProjects\\YogaPartner\\intermediates\\v2\\bhujangasana_57.jpg\n"
     ]
    },
    {
     "name": "stderr",
     "output_type": "stream",
     "text": [
      "416it [01:23,  6.54it/s]"
     ]
    },
    {
     "name": "stdout",
     "output_type": "stream",
     "text": [
      "Saved to A:\\Projects\\CollegeProjects\\YogaPartner\\intermediates\\v2\\utkata_konasana_130.jpg\n",
      "Saved to A:\\Projects\\CollegeProjects\\YogaPartner\\intermediates\\v2\\vasisthasana_123.jpg\n"
     ]
    },
    {
     "name": "stderr",
     "output_type": "stream",
     "text": [
      "\r",
      "417it [01:23,  7.10it/s]"
     ]
    },
    {
     "name": "stdout",
     "output_type": "stream",
     "text": [
      "Saved to A:\\Projects\\CollegeProjects\\YogaPartner\\intermediates\\v2\\utkata_konasana_185.jpg\n"
     ]
    },
    {
     "name": "stderr",
     "output_type": "stream",
     "text": [
      "\r",
      "418it [01:24,  5.45it/s]"
     ]
    },
    {
     "name": "stdout",
     "output_type": "stream",
     "text": [
      "Saved to A:\\Projects\\CollegeProjects\\YogaPartner\\intermediates\\v2\\virabhadrasana_i_1.jpg\n"
     ]
    },
    {
     "name": "stderr",
     "output_type": "stream",
     "text": [
      "\r",
      "419it [01:24,  4.80it/s]"
     ]
    },
    {
     "name": "stdout",
     "output_type": "stream",
     "text": [
      "Saved to A:\\Projects\\CollegeProjects\\YogaPartner\\intermediates\\v2\\phalakasana_58.jpg\n"
     ]
    },
    {
     "name": "stderr",
     "output_type": "stream",
     "text": [
      "421it [01:25,  3.64it/s]"
     ]
    },
    {
     "name": "stdout",
     "output_type": "stream",
     "text": [
      "Saved to A:\\Projects\\CollegeProjects\\YogaPartner\\intermediates\\v2\\vrikshasana_279.jpg\n",
      "Saved to A:\\Projects\\CollegeProjects\\YogaPartner\\intermediates\\v2\\utkata_konasana_190.jpg\n"
     ]
    },
    {
     "name": "stderr",
     "output_type": "stream",
     "text": [
      "423it [01:25,  4.38it/s]"
     ]
    },
    {
     "name": "stdout",
     "output_type": "stream",
     "text": [
      "Saved to A:\\Projects\\CollegeProjects\\YogaPartner\\intermediates\\v2\\virabhadrasana_i_186.jpg\n",
      "Saved to A:\\Projects\\CollegeProjects\\YogaPartner\\intermediates\\v2\\bhujangasana_566.jpg\n"
     ]
    },
    {
     "name": "stderr",
     "output_type": "stream",
     "text": [
      "\r",
      "424it [01:25,  4.64it/s]"
     ]
    },
    {
     "name": "stdout",
     "output_type": "stream",
     "text": [
      "Saved to A:\\Projects\\CollegeProjects\\YogaPartner\\intermediates\\v2\\virabhadrasana_ii_26.jpg\n"
     ]
    },
    {
     "name": "stderr",
     "output_type": "stream",
     "text": [
      "426it [01:27,  2.46it/s]"
     ]
    },
    {
     "name": "stdout",
     "output_type": "stream",
     "text": [
      "Saved to A:\\Projects\\CollegeProjects\\YogaPartner\\intermediates\\v2\\adho_mukha_shvanasana_428.jpg\n",
      "Saved to A:\\Projects\\CollegeProjects\\YogaPartner\\intermediates\\v2\\vrikshasana_287.jpg\n"
     ]
    },
    {
     "name": "stderr",
     "output_type": "stream",
     "text": [
      "\r",
      "427it [01:27,  3.00it/s]"
     ]
    },
    {
     "name": "stdout",
     "output_type": "stream",
     "text": [
      "Saved to A:\\Projects\\CollegeProjects\\YogaPartner\\intermediates\\v2\\virabhadrasana_ii_15.jpg\n"
     ]
    },
    {
     "name": "stderr",
     "output_type": "stream",
     "text": [
      "\r",
      "428it [01:27,  2.83it/s]"
     ]
    },
    {
     "name": "stdout",
     "output_type": "stream",
     "text": [
      "Saved to A:\\Projects\\CollegeProjects\\YogaPartner\\intermediates\\v2\\phalakasana_63.jpg\n"
     ]
    },
    {
     "name": "stderr",
     "output_type": "stream",
     "text": [
      "430it [01:28,  3.71it/s]"
     ]
    },
    {
     "name": "stdout",
     "output_type": "stream",
     "text": [
      "Saved to A:\\Projects\\CollegeProjects\\YogaPartner\\intermediates\\v2\\bhujangasana_45.jpg\n",
      "Saved to A:\\Projects\\CollegeProjects\\YogaPartner\\intermediates\\v2\\vrikshasana_309.jpg\n"
     ]
    },
    {
     "name": "stderr",
     "output_type": "stream",
     "text": [
      "432it [01:29,  2.97it/s]"
     ]
    },
    {
     "name": "stdout",
     "output_type": "stream",
     "text": [
      "Saved to A:\\Projects\\CollegeProjects\\YogaPartner\\intermediates\\v2\\virabhadrasana_ii_322.jpg\n",
      "Saved to A:\\Projects\\CollegeProjects\\YogaPartner\\intermediates\\v2\\virabhadrasana_ii_132.jpg\n"
     ]
    },
    {
     "name": "stderr",
     "output_type": "stream",
     "text": [
      "\r",
      "434it [01:29,  4.41it/s]"
     ]
    },
    {
     "name": "stdout",
     "output_type": "stream",
     "text": [
      "Saved to A:\\Projects\\CollegeProjects\\YogaPartner\\intermediates\\v2\\bhujangasana_398.jpg\n",
      "Saved to A:\\Projects\\CollegeProjects\\YogaPartner\\intermediates\\v2\\bhujangasana_413.jpg\n"
     ]
    },
    {
     "name": "stderr",
     "output_type": "stream",
     "text": [
      "436it [01:29,  5.32it/s]"
     ]
    },
    {
     "name": "stdout",
     "output_type": "stream",
     "text": [
      "Saved to A:\\Projects\\CollegeProjects\\YogaPartner\\intermediates\\v2\\vrikshasana_130.jpg\n",
      "Saved to A:\\Projects\\CollegeProjects\\YogaPartner\\intermediates\\v2\\bhujangasana_271.jpg\n"
     ]
    },
    {
     "name": "stderr",
     "output_type": "stream",
     "text": [
      "438it [01:29,  6.30it/s]"
     ]
    },
    {
     "name": "stdout",
     "output_type": "stream",
     "text": [
      "Saved to A:\\Projects\\CollegeProjects\\YogaPartner\\intermediates\\v2\\bhujangasana_54.jpg\n",
      "Saved to A:\\Projects\\CollegeProjects\\YogaPartner\\intermediates\\v2\\virabhadrasana_i_48.jpg\n"
     ]
    },
    {
     "name": "stderr",
     "output_type": "stream",
     "text": [
      "\r",
      "439it [01:30,  3.55it/s]"
     ]
    },
    {
     "name": "stdout",
     "output_type": "stream",
     "text": [
      "Saved to A:\\Projects\\CollegeProjects\\YogaPartner\\intermediates\\v2\\vasisthasana_85.jpg\n",
      "Saved to A:\\Projects\\CollegeProjects\\YogaPartner\\intermediates\\v2\\bidalasana_22.jpg\n"
     ]
    },
    {
     "name": "stderr",
     "output_type": "stream",
     "text": [
      "\r",
      "441it [01:30,  4.94it/s]"
     ]
    },
    {
     "name": "stdout",
     "output_type": "stream",
     "text": [
      "Saved to A:\\Projects\\CollegeProjects\\YogaPartner\\intermediates\\v2\\virabhadrasana_ii_35.jpg\n"
     ]
    },
    {
     "name": "stderr",
     "output_type": "stream",
     "text": [
      "443it [01:30,  4.95it/s]"
     ]
    },
    {
     "name": "stdout",
     "output_type": "stream",
     "text": [
      "Saved to A:\\Projects\\CollegeProjects\\YogaPartner\\intermediates\\v2\\utkatasana_121.jpg\n",
      "Saved to A:\\Projects\\CollegeProjects\\YogaPartner\\intermediates\\v2\\vrikshasana_263.jpg\n"
     ]
    },
    {
     "name": "stderr",
     "output_type": "stream",
     "text": [
      "445it [01:31,  5.28it/s]"
     ]
    },
    {
     "name": "stdout",
     "output_type": "stream",
     "text": [
      "Saved to A:\\Projects\\CollegeProjects\\YogaPartner\\intermediates\\v2\\virabhadrasana_ii_140.jpg\n",
      "Saved to A:\\Projects\\CollegeProjects\\YogaPartner\\intermediates\\v2\\virabhadrasana_i_108.jpg\n"
     ]
    },
    {
     "name": "stderr",
     "output_type": "stream",
     "text": [
      "447it [01:31,  5.37it/s]"
     ]
    },
    {
     "name": "stdout",
     "output_type": "stream",
     "text": [
      "Saved to A:\\Projects\\CollegeProjects\\YogaPartner\\intermediates\\v2\\adho_mukha_shvanasana_145.jpg\n",
      "Saved to A:\\Projects\\CollegeProjects\\YogaPartner\\intermediates\\v2\\bhujangasana_578.jpg\n"
     ]
    },
    {
     "name": "stderr",
     "output_type": "stream",
     "text": [
      "449it [01:32,  5.68it/s]"
     ]
    },
    {
     "name": "stdout",
     "output_type": "stream",
     "text": [
      "Saved to A:\\Projects\\CollegeProjects\\YogaPartner\\intermediates\\v2\\vrikshasana_225.jpg\n",
      "Saved to A:\\Projects\\CollegeProjects\\YogaPartner\\intermediates\\v2\\virabhadrasana_i_59.jpg\n"
     ]
    },
    {
     "name": "stderr",
     "output_type": "stream",
     "text": [
      "\r",
      "450it [01:32,  5.65it/s]"
     ]
    },
    {
     "name": "stdout",
     "output_type": "stream",
     "text": [
      "Saved to A:\\Projects\\CollegeProjects\\YogaPartner\\intermediates\\v2\\adho_mukha_shvanasana_407.jpg\n"
     ]
    },
    {
     "name": "stderr",
     "output_type": "stream",
     "text": [
      "\r",
      "451it [01:32,  4.69it/s]"
     ]
    },
    {
     "name": "stdout",
     "output_type": "stream",
     "text": [
      "Saved to A:\\Projects\\CollegeProjects\\YogaPartner\\intermediates\\v2\\bidalasana_155.jpg\n"
     ]
    },
    {
     "name": "stderr",
     "output_type": "stream",
     "text": [
      "\r",
      "452it [01:32,  3.82it/s]"
     ]
    },
    {
     "name": "stdout",
     "output_type": "stream",
     "text": [
      "Saved to A:\\Projects\\CollegeProjects\\YogaPartner\\intermediates\\v2\\virabhadrasana_ii_80.jpg\n"
     ]
    },
    {
     "name": "stderr",
     "output_type": "stream",
     "text": [
      "454it [01:33,  3.79it/s]"
     ]
    },
    {
     "name": "stdout",
     "output_type": "stream",
     "text": [
      "Saved to A:\\Projects\\CollegeProjects\\YogaPartner\\intermediates\\v2\\virabhadrasana_i_103.jpg\n",
      "Saved to A:\\Projects\\CollegeProjects\\YogaPartner\\intermediates\\v2\\adho_mukha_shvanasana_309.jpg\n"
     ]
    },
    {
     "name": "stderr",
     "output_type": "stream",
     "text": [
      "\r",
      "455it [01:33,  4.38it/s]"
     ]
    },
    {
     "name": "stdout",
     "output_type": "stream",
     "text": [
      "Saved to A:\\Projects\\CollegeProjects\\YogaPartner\\intermediates\\v2\\vasisthasana_75.jpg\n"
     ]
    },
    {
     "name": "stderr",
     "output_type": "stream",
     "text": [
      "457it [01:33,  4.99it/s]"
     ]
    },
    {
     "name": "stdout",
     "output_type": "stream",
     "text": [
      "Saved to A:\\Projects\\CollegeProjects\\YogaPartner\\intermediates\\v2\\bhujangasana_427.jpg\n",
      "Saved to A:\\Projects\\CollegeProjects\\YogaPartner\\intermediates\\v2\\bhujangasana_504.jpg\n"
     ]
    },
    {
     "name": "stderr",
     "output_type": "stream",
     "text": [
      "459it [01:34,  6.32it/s]"
     ]
    },
    {
     "name": "stdout",
     "output_type": "stream",
     "text": [
      "Saved to A:\\Projects\\CollegeProjects\\YogaPartner\\intermediates\\v2\\bhujangasana_405.jpg\n",
      "Saved to A:\\Projects\\CollegeProjects\\YogaPartner\\intermediates\\v2\\virabhadrasana_i_16.jpg\n"
     ]
    },
    {
     "name": "stderr",
     "output_type": "stream",
     "text": [
      "\r",
      "460it [01:34,  6.60it/s]"
     ]
    },
    {
     "name": "stdout",
     "output_type": "stream",
     "text": [
      "Saved to A:\\Projects\\CollegeProjects\\YogaPartner\\intermediates\\v2\\vrikshasana_98.jpg\n"
     ]
    },
    {
     "name": "stderr",
     "output_type": "stream",
     "text": [
      "462it [01:34,  5.93it/s]"
     ]
    },
    {
     "name": "stdout",
     "output_type": "stream",
     "text": [
      "Saved to A:\\Projects\\CollegeProjects\\YogaPartner\\intermediates\\v2\\virabhadrasana_ii_160.jpg\n",
      "Saved to A:\\Projects\\CollegeProjects\\YogaPartner\\intermediates\\v2\\virabhadrasana_ii_144.jpg\n"
     ]
    },
    {
     "name": "stderr",
     "output_type": "stream",
     "text": [
      "464it [01:35,  6.22it/s]"
     ]
    },
    {
     "name": "stdout",
     "output_type": "stream",
     "text": [
      "Saved to A:\\Projects\\CollegeProjects\\YogaPartner\\intermediates\\v2\\virabhadrasana_ii_99.jpg\n",
      "Saved to A:\\Projects\\CollegeProjects\\YogaPartner\\intermediates\\v2\\vrikshasana_275.jpg\n"
     ]
    },
    {
     "name": "stderr",
     "output_type": "stream",
     "text": [
      "\r",
      "465it [01:35,  6.28it/s]"
     ]
    },
    {
     "name": "stdout",
     "output_type": "stream",
     "text": [
      "Saved to A:\\Projects\\CollegeProjects\\YogaPartner\\intermediates\\v2\\utkatasana_219.jpg\n"
     ]
    },
    {
     "name": "stderr",
     "output_type": "stream",
     "text": [
      "467it [01:35,  4.72it/s]"
     ]
    },
    {
     "name": "stdout",
     "output_type": "stream",
     "text": [
      "Saved to A:\\Projects\\CollegeProjects\\YogaPartner\\intermediates\\v2\\utkatasana_168.jpg\n",
      "Saved to A:\\Projects\\CollegeProjects\\YogaPartner\\intermediates\\v2\\utkatasana_211.jpg\n"
     ]
    },
    {
     "name": "stderr",
     "output_type": "stream",
     "text": [
      "469it [01:36,  4.98it/s]"
     ]
    },
    {
     "name": "stdout",
     "output_type": "stream",
     "text": [
      "Saved to A:\\Projects\\CollegeProjects\\YogaPartner\\intermediates\\v2\\vasisthasana_109.jpg\n",
      "Saved to A:\\Projects\\CollegeProjects\\YogaPartner\\intermediates\\v2\\vasisthasana_71.jpg\n"
     ]
    },
    {
     "name": "stderr",
     "output_type": "stream",
     "text": [
      "471it [01:36,  6.03it/s]"
     ]
    },
    {
     "name": "stdout",
     "output_type": "stream",
     "text": [
      "Saved to A:\\Projects\\CollegeProjects\\YogaPartner\\intermediates\\v2\\adho_mukha_shvanasana_238.jpg\n",
      "Saved to A:\\Projects\\CollegeProjects\\YogaPartner\\intermediates\\v2\\bhujangasana_242.jpg\n"
     ]
    },
    {
     "name": "stderr",
     "output_type": "stream",
     "text": [
      "473it [01:36,  7.03it/s]"
     ]
    },
    {
     "name": "stdout",
     "output_type": "stream",
     "text": [
      "Saved to A:\\Projects\\CollegeProjects\\YogaPartner\\intermediates\\v2\\phalakasana_56.jpg\n",
      "Saved to A:\\Projects\\CollegeProjects\\YogaPartner\\intermediates\\v2\\bhujangasana_340.jpg\n"
     ]
    },
    {
     "name": "stderr",
     "output_type": "stream",
     "text": [
      "\r",
      "475it [01:36,  7.98it/s]"
     ]
    },
    {
     "name": "stdout",
     "output_type": "stream",
     "text": [
      "Saved to A:\\Projects\\CollegeProjects\\YogaPartner\\intermediates\\v2\\vasisthasana_142.jpg\n",
      "Saved to A:\\Projects\\CollegeProjects\\YogaPartner\\intermediates\\v2\\vasisthasana_148.jpg\n"
     ]
    },
    {
     "name": "stderr",
     "output_type": "stream",
     "text": [
      "477it [01:37,  8.17it/s]"
     ]
    },
    {
     "name": "stdout",
     "output_type": "stream",
     "text": [
      "Saved to A:\\Projects\\CollegeProjects\\YogaPartner\\intermediates\\v2\\virabhadrasana_ii_156.jpg\n",
      "Saved to A:\\Projects\\CollegeProjects\\YogaPartner\\intermediates\\v2\\vrikshasana_100.jpg\n",
      "Saved to A:\\Projects\\CollegeProjects\\YogaPartner\\intermediates\\v2\\ustrasana_2.jpg\n"
     ]
    },
    {
     "name": "stderr",
     "output_type": "stream",
     "text": [
      "\r",
      "479it [01:39,  1.52it/s]"
     ]
    },
    {
     "name": "stdout",
     "output_type": "stream",
     "text": [
      "Saved to A:\\Projects\\CollegeProjects\\YogaPartner\\intermediates\\v2\\bhujangasana_184.jpg\n"
     ]
    },
    {
     "name": "stderr",
     "output_type": "stream",
     "text": [
      "481it [01:40,  1.85it/s]"
     ]
    },
    {
     "name": "stdout",
     "output_type": "stream",
     "text": [
      "Saved to A:\\Projects\\CollegeProjects\\YogaPartner\\intermediates\\v2\\adho_mukha_shvanasana_157.jpg\n",
      "Saved to A:\\Projects\\CollegeProjects\\YogaPartner\\intermediates\\v2\\bhujangasana_590.jpg\n"
     ]
    },
    {
     "name": "stderr",
     "output_type": "stream",
     "text": [
      "483it [01:40,  2.82it/s]"
     ]
    },
    {
     "name": "stdout",
     "output_type": "stream",
     "text": [
      "Saved to A:\\Projects\\CollegeProjects\\YogaPartner\\intermediates\\v2\\bidalasana_92.jpg\n",
      "Saved to A:\\Projects\\CollegeProjects\\YogaPartner\\intermediates\\v2\\utkatasana_152.jpg\n"
     ]
    },
    {
     "name": "stderr",
     "output_type": "stream",
     "text": [
      "\r",
      "484it [01:41,  3.40it/s]"
     ]
    },
    {
     "name": "stdout",
     "output_type": "stream",
     "text": [
      "Saved to A:\\Projects\\CollegeProjects\\YogaPartner\\intermediates\\v2\\vasisthasana_27.jpg\n"
     ]
    },
    {
     "name": "stderr",
     "output_type": "stream",
     "text": [
      "486it [01:41,  3.53it/s]"
     ]
    },
    {
     "name": "stdout",
     "output_type": "stream",
     "text": [
      "Saved to A:\\Projects\\CollegeProjects\\YogaPartner\\intermediates\\v2\\bidalasana_291.jpg\n",
      "Saved to A:\\Projects\\CollegeProjects\\YogaPartner\\intermediates\\v2\\bidalasana_128.jpg\n"
     ]
    },
    {
     "name": "stderr",
     "output_type": "stream",
     "text": [
      "488it [01:42,  4.53it/s]"
     ]
    },
    {
     "name": "stdout",
     "output_type": "stream",
     "text": [
      "Saved to A:\\Projects\\CollegeProjects\\YogaPartner\\intermediates\\v2\\adho_mukha_shvanasana_138.jpg\n",
      "Saved to A:\\Projects\\CollegeProjects\\YogaPartner\\intermediates\\v2\\virabhadrasana_ii_143.jpg\n"
     ]
    },
    {
     "name": "stderr",
     "output_type": "stream",
     "text": [
      "490it [01:42,  5.51it/s]"
     ]
    },
    {
     "name": "stdout",
     "output_type": "stream",
     "text": [
      "Saved to A:\\Projects\\CollegeProjects\\YogaPartner\\intermediates\\v2\\adho_mukha_shvanasana_162.jpg\n",
      "Saved to A:\\Projects\\CollegeProjects\\YogaPartner\\intermediates\\v2\\virabhadrasana_ii_258.jpg\n"
     ]
    },
    {
     "name": "stderr",
     "output_type": "stream",
     "text": [
      "492it [01:42,  5.91it/s]"
     ]
    },
    {
     "name": "stdout",
     "output_type": "stream",
     "text": [
      "Saved to A:\\Projects\\CollegeProjects\\YogaPartner\\intermediates\\v2\\virabhadrasana_ii_209.jpg\n",
      "Saved to A:\\Projects\\CollegeProjects\\YogaPartner\\intermediates\\v2\\adho_mukha_shvanasana_35.jpg\n"
     ]
    },
    {
     "name": "stderr",
     "output_type": "stream",
     "text": [
      "494it [01:42,  5.94it/s]"
     ]
    },
    {
     "name": "stdout",
     "output_type": "stream",
     "text": [
      "Saved to A:\\Projects\\CollegeProjects\\YogaPartner\\intermediates\\v2\\bhujangasana_327.jpg\n",
      "Saved to A:\\Projects\\CollegeProjects\\YogaPartner\\intermediates\\v2\\phalakasana_20.jpg\n"
     ]
    },
    {
     "name": "stderr",
     "output_type": "stream",
     "text": [
      "496it [01:43,  5.78it/s]"
     ]
    },
    {
     "name": "stdout",
     "output_type": "stream",
     "text": [
      "Saved to A:\\Projects\\CollegeProjects\\YogaPartner\\intermediates\\v2\\virabhadrasana_i_150.jpg\n",
      "Saved to A:\\Projects\\CollegeProjects\\YogaPartner\\intermediates\\v2\\vrikshasana_265.jpg\n"
     ]
    },
    {
     "name": "stderr",
     "output_type": "stream",
     "text": [
      "\r",
      "497it [01:43,  5.75it/s]"
     ]
    },
    {
     "name": "stdout",
     "output_type": "stream",
     "text": [
      "Saved to A:\\Projects\\CollegeProjects\\YogaPartner\\intermediates\\v2\\adho_mukha_shvanasana_291.jpg\n"
     ]
    },
    {
     "name": "stderr",
     "output_type": "stream",
     "text": [
      "\r",
      "498it [01:43,  5.39it/s]"
     ]
    },
    {
     "name": "stdout",
     "output_type": "stream",
     "text": [
      "Saved to A:\\Projects\\CollegeProjects\\YogaPartner\\intermediates\\v2\\virabhadrasana_i_98.jpg\n"
     ]
    },
    {
     "name": "stderr",
     "output_type": "stream",
     "text": [
      "500it [01:45,  2.49it/s]"
     ]
    },
    {
     "name": "stdout",
     "output_type": "stream",
     "text": [
      "Saved to A:\\Projects\\CollegeProjects\\YogaPartner\\intermediates\\v2\\vasisthasana_127.jpg\n",
      "Saved to A:\\Projects\\CollegeProjects\\YogaPartner\\intermediates\\v2\\virabhadrasana_ii_263.jpg\n"
     ]
    },
    {
     "name": "stderr",
     "output_type": "stream",
     "text": [
      "\r",
      "501it [01:45,  3.19it/s]"
     ]
    },
    {
     "name": "stdout",
     "output_type": "stream",
     "text": [
      "Saved to A:\\Projects\\CollegeProjects\\YogaPartner\\intermediates\\v2\\bhujangasana_600.jpg\n"
     ]
    },
    {
     "name": "stderr",
     "output_type": "stream",
     "text": [
      "503it [01:45,  4.20it/s]"
     ]
    },
    {
     "name": "stdout",
     "output_type": "stream",
     "text": [
      "Saved to A:\\Projects\\CollegeProjects\\YogaPartner\\intermediates\\v2\\vrikshasana_31.jpg\n",
      "Saved to A:\\Projects\\CollegeProjects\\YogaPartner\\intermediates\\v2\\virabhadrasana_ii_89.jpg\n"
     ]
    },
    {
     "name": "stderr",
     "output_type": "stream",
     "text": [
      "505it [01:45,  4.86it/s]"
     ]
    },
    {
     "name": "stdout",
     "output_type": "stream",
     "text": [
      "Saved to A:\\Projects\\CollegeProjects\\YogaPartner\\intermediates\\v2\\vasisthasana_132.jpg\n",
      "Saved to A:\\Projects\\CollegeProjects\\YogaPartner\\intermediates\\v2\\virabhadrasana_ii_339.jpg\n"
     ]
    },
    {
     "name": "stderr",
     "output_type": "stream",
     "text": [
      "507it [01:46,  6.05it/s]"
     ]
    },
    {
     "name": "stdout",
     "output_type": "stream",
     "text": [
      "Saved to A:\\Projects\\CollegeProjects\\YogaPartner\\intermediates\\v2\\bidalasana_93.jpg\n",
      "Saved to A:\\Projects\\CollegeProjects\\YogaPartner\\intermediates\\v2\\utkata_konasana_33.jpg\n"
     ]
    },
    {
     "name": "stderr",
     "output_type": "stream",
     "text": [
      "\r",
      "508it [01:46,  5.87it/s]"
     ]
    },
    {
     "name": "stdout",
     "output_type": "stream",
     "text": [
      "Saved to A:\\Projects\\CollegeProjects\\YogaPartner\\intermediates\\v2\\bidalasana_69.jpg\n"
     ]
    },
    {
     "name": "stderr",
     "output_type": "stream",
     "text": [
      "\r",
      "509it [01:46,  5.38it/s]"
     ]
    },
    {
     "name": "stdout",
     "output_type": "stream",
     "text": [
      "Saved to A:\\Projects\\CollegeProjects\\YogaPartner\\intermediates\\v2\\vrikshasana_52.jpg\n"
     ]
    },
    {
     "name": "stderr",
     "output_type": "stream",
     "text": [
      "\r",
      "510it [01:46,  4.83it/s]"
     ]
    },
    {
     "name": "stdout",
     "output_type": "stream",
     "text": [
      "Saved to A:\\Projects\\CollegeProjects\\YogaPartner\\intermediates\\v2\\bhujangasana_471.jpg\n"
     ]
    },
    {
     "name": "stderr",
     "output_type": "stream",
     "text": [
      "512it [01:47,  4.97it/s]"
     ]
    },
    {
     "name": "stdout",
     "output_type": "stream",
     "text": [
      "Saved to A:\\Projects\\CollegeProjects\\YogaPartner\\intermediates\\v2\\bidalasana_179.jpg\n",
      "Saved to A:\\Projects\\CollegeProjects\\YogaPartner\\intermediates\\v2\\bidalasana_16.jpg\n"
     ]
    },
    {
     "name": "stderr",
     "output_type": "stream",
     "text": [
      "514it [01:47,  4.94it/s]"
     ]
    },
    {
     "name": "stdout",
     "output_type": "stream",
     "text": [
      "Saved to A:\\Projects\\CollegeProjects\\YogaPartner\\intermediates\\v2\\adho_mukha_shvanasana_189.jpg\n",
      "Saved to A:\\Projects\\CollegeProjects\\YogaPartner\\intermediates\\v2\\adho_mukha_shvanasana_212.jpg\n"
     ]
    },
    {
     "name": "stderr",
     "output_type": "stream",
     "text": [
      "516it [01:48,  5.13it/s]"
     ]
    },
    {
     "name": "stdout",
     "output_type": "stream",
     "text": [
      "Saved to A:\\Projects\\CollegeProjects\\YogaPartner\\intermediates\\v2\\virabhadrasana_i_160.jpg\n",
      "Saved to A:\\Projects\\CollegeProjects\\YogaPartner\\intermediates\\v2\\bhujangasana_355.jpg\n"
     ]
    },
    {
     "name": "stderr",
     "output_type": "stream",
     "text": [
      "518it [01:48,  6.42it/s]"
     ]
    },
    {
     "name": "stdout",
     "output_type": "stream",
     "text": [
      "Saved to A:\\Projects\\CollegeProjects\\YogaPartner\\intermediates\\v2\\adho_mukha_shvanasana_287.jpg\n",
      "Saved to A:\\Projects\\CollegeProjects\\YogaPartner\\intermediates\\v2\\utkata_konasana_200.jpg\n"
     ]
    },
    {
     "name": "stderr",
     "output_type": "stream",
     "text": [
      "520it [01:48,  6.02it/s]"
     ]
    },
    {
     "name": "stdout",
     "output_type": "stream",
     "text": [
      "Saved to A:\\Projects\\CollegeProjects\\YogaPartner\\intermediates\\v2\\virabhadrasana_ii_49.jpg\n",
      "Saved to A:\\Projects\\CollegeProjects\\YogaPartner\\intermediates\\v2\\adho_mukha_shvanasana_343.jpg\n"
     ]
    },
    {
     "name": "stderr",
     "output_type": "stream",
     "text": [
      "522it [01:49,  5.78it/s]"
     ]
    },
    {
     "name": "stdout",
     "output_type": "stream",
     "text": [
      "Saved to A:\\Projects\\CollegeProjects\\YogaPartner\\intermediates\\v2\\utkatasana_212.jpg\n",
      "Saved to A:\\Projects\\CollegeProjects\\YogaPartner\\intermediates\\v2\\adho_mukha_shvanasana_121.jpg\n"
     ]
    },
    {
     "name": "stderr",
     "output_type": "stream",
     "text": [
      "524it [01:49,  6.68it/s]"
     ]
    },
    {
     "name": "stdout",
     "output_type": "stream",
     "text": [
      "Saved to A:\\Projects\\CollegeProjects\\YogaPartner\\intermediates\\v2\\bidalasana_216.jpg\n",
      "Saved to A:\\Projects\\CollegeProjects\\YogaPartner\\intermediates\\v2\\adho_mukha_shvanasana_38.jpg\n"
     ]
    },
    {
     "name": "stderr",
     "output_type": "stream",
     "text": [
      "526it [01:49,  6.15it/s]"
     ]
    },
    {
     "name": "stdout",
     "output_type": "stream",
     "text": [
      "Saved to A:\\Projects\\CollegeProjects\\YogaPartner\\intermediates\\v2\\adho_mukha_shvanasana_261.jpg\n",
      "Saved to A:\\Projects\\CollegeProjects\\YogaPartner\\intermediates\\v2\\bhujangasana_526.jpg\n"
     ]
    },
    {
     "name": "stderr",
     "output_type": "stream",
     "text": [
      "529it [01:51,  3.27it/s]"
     ]
    },
    {
     "name": "stdout",
     "output_type": "stream",
     "text": [
      "Saved to A:\\Projects\\CollegeProjects\\YogaPartner\\intermediates\\v2\\virabhadrasana_ii_280.jpg\n",
      "Saved to A:\\Projects\\CollegeProjects\\YogaPartner\\intermediates\\v2\\virabhadrasana_i_35.jpg\n",
      "Saved to A:\\Projects\\CollegeProjects\\YogaPartner\\intermediates\\v2\\utkatasana_172.jpg\n"
     ]
    },
    {
     "name": "stderr",
     "output_type": "stream",
     "text": [
      "531it [01:51,  4.75it/s]"
     ]
    },
    {
     "name": "stdout",
     "output_type": "stream",
     "text": [
      "Saved to A:\\Projects\\CollegeProjects\\YogaPartner\\intermediates\\v2\\adho_mukha_shvanasana_414.jpg\n",
      "Saved to A:\\Projects\\CollegeProjects\\YogaPartner\\intermediates\\v2\\bhujangasana_429.jpg\n"
     ]
    },
    {
     "name": "stderr",
     "output_type": "stream",
     "text": [
      "533it [01:51,  5.91it/s]"
     ]
    },
    {
     "name": "stdout",
     "output_type": "stream",
     "text": [
      "Saved to A:\\Projects\\CollegeProjects\\YogaPartner\\intermediates\\v2\\bhujangasana_472.jpg\n",
      "Saved to A:\\Projects\\CollegeProjects\\YogaPartner\\intermediates\\v2\\adho_mukha_shvanasana_200.jpg\n"
     ]
    },
    {
     "name": "stderr",
     "output_type": "stream",
     "text": [
      "\r",
      "534it [01:51,  6.46it/s]"
     ]
    },
    {
     "name": "stdout",
     "output_type": "stream",
     "text": [
      "Saved to A:\\Projects\\CollegeProjects\\YogaPartner\\intermediates\\v2\\bhujangasana_236.jpg\n"
     ]
    },
    {
     "name": "stderr",
     "output_type": "stream",
     "text": [
      "536it [01:52,  5.67it/s]"
     ]
    },
    {
     "name": "stdout",
     "output_type": "stream",
     "text": [
      "Saved to A:\\Projects\\CollegeProjects\\YogaPartner\\intermediates\\v2\\virabhadrasana_ii_4.jpg\n",
      "Saved to A:\\Projects\\CollegeProjects\\YogaPartner\\intermediates\\v2\\virabhadrasana_i_114.jpg\n"
     ]
    },
    {
     "name": "stderr",
     "output_type": "stream",
     "text": [
      "539it [01:52,  7.76it/s]"
     ]
    },
    {
     "name": "stdout",
     "output_type": "stream",
     "text": [
      "Saved to A:\\Projects\\CollegeProjects\\YogaPartner\\intermediates\\v2\\vrikshasana_276.jpg\n",
      "Saved to A:\\Projects\\CollegeProjects\\YogaPartner\\intermediates\\v2\\ustrasana_61.jpg\n",
      "Saved to A:\\Projects\\CollegeProjects\\YogaPartner\\intermediates\\v2\\adho_mukha_shvanasana_160.jpg\n"
     ]
    },
    {
     "name": "stderr",
     "output_type": "stream",
     "text": [
      "542it [01:52,  8.85it/s]"
     ]
    },
    {
     "name": "stdout",
     "output_type": "stream",
     "text": [
      "Saved to A:\\Projects\\CollegeProjects\\YogaPartner\\intermediates\\v2\\bidalasana_287.jpg\n",
      "Saved to A:\\Projects\\CollegeProjects\\YogaPartner\\intermediates\\v2\\vasisthasana_146.jpg\n",
      "Saved to A:\\Projects\\CollegeProjects\\YogaPartner\\intermediates\\v2\\bhujangasana_509.jpg\n"
     ]
    },
    {
     "name": "stderr",
     "output_type": "stream",
     "text": [
      "544it [01:53,  6.60it/s]"
     ]
    },
    {
     "name": "stdout",
     "output_type": "stream",
     "text": [
      "Saved to A:\\Projects\\CollegeProjects\\YogaPartner\\intermediates\\v2\\virabhadrasana_ii_92.jpg\n",
      "Saved to A:\\Projects\\CollegeProjects\\YogaPartner\\intermediates\\v2\\virabhadrasana_ii_210.jpg\n"
     ]
    },
    {
     "name": "stderr",
     "output_type": "stream",
     "text": [
      "546it [01:53,  6.30it/s]"
     ]
    },
    {
     "name": "stdout",
     "output_type": "stream",
     "text": [
      "Saved to A:\\Projects\\CollegeProjects\\YogaPartner\\intermediates\\v2\\bhujangasana_237.jpg\n",
      "Saved to A:\\Projects\\CollegeProjects\\YogaPartner\\intermediates\\v2\\virabhadrasana_ii_216.jpg\n"
     ]
    },
    {
     "name": "stderr",
     "output_type": "stream",
     "text": [
      "548it [01:53,  6.37it/s]"
     ]
    },
    {
     "name": "stdout",
     "output_type": "stream",
     "text": [
      "Saved to A:\\Projects\\CollegeProjects\\YogaPartner\\intermediates\\v2\\bhujangasana_555.jpg\n",
      "Saved to A:\\Projects\\CollegeProjects\\YogaPartner\\intermediates\\v2\\bhujangasana_7.jpg\n"
     ]
    },
    {
     "name": "stderr",
     "output_type": "stream",
     "text": [
      "550it [01:54,  5.85it/s]"
     ]
    },
    {
     "name": "stdout",
     "output_type": "stream",
     "text": [
      "Saved to A:\\Projects\\CollegeProjects\\YogaPartner\\intermediates\\v2\\bidalasana_247.jpg\n",
      "Saved to A:\\Projects\\CollegeProjects\\YogaPartner\\intermediates\\v2\\virabhadrasana_ii_248.jpg\n"
     ]
    },
    {
     "name": "stderr",
     "output_type": "stream",
     "text": [
      "552it [01:54,  5.86it/s]"
     ]
    },
    {
     "name": "stdout",
     "output_type": "stream",
     "text": [
      "Saved to A:\\Projects\\CollegeProjects\\YogaPartner\\intermediates\\v2\\bhujangasana_213.jpg\n",
      "Saved to A:\\Projects\\CollegeProjects\\YogaPartner\\intermediates\\v2\\bhujangasana_272.jpg\n"
     ]
    },
    {
     "name": "stderr",
     "output_type": "stream",
     "text": [
      "554it [01:55,  2.81it/s]"
     ]
    },
    {
     "name": "stdout",
     "output_type": "stream",
     "text": [
      "Saved to A:\\Projects\\CollegeProjects\\YogaPartner\\intermediates\\v2\\virabhadrasana_ii_303.jpg\n",
      "Saved to A:\\Projects\\CollegeProjects\\YogaPartner\\intermediates\\v2\\vrikshasana_142.jpg\n"
     ]
    },
    {
     "name": "stderr",
     "output_type": "stream",
     "text": [
      "556it [01:56,  4.22it/s]"
     ]
    },
    {
     "name": "stdout",
     "output_type": "stream",
     "text": [
      "Saved to A:\\Projects\\CollegeProjects\\YogaPartner\\intermediates\\v2\\utkata_konasana_7.jpg\n",
      "Saved to A:\\Projects\\CollegeProjects\\YogaPartner\\intermediates\\v2\\adho_mukha_shvanasana_101.jpg\n"
     ]
    },
    {
     "name": "stderr",
     "output_type": "stream",
     "text": [
      "558it [01:56,  5.47it/s]"
     ]
    },
    {
     "name": "stdout",
     "output_type": "stream",
     "text": [
      "Saved to A:\\Projects\\CollegeProjects\\YogaPartner\\intermediates\\v2\\bidalasana_23.jpg\n",
      "Saved to A:\\Projects\\CollegeProjects\\YogaPartner\\intermediates\\v2\\virabhadrasana_ii_297.jpg\n"
     ]
    },
    {
     "name": "stderr",
     "output_type": "stream",
     "text": [
      "\r",
      "559it [01:57,  3.19it/s]"
     ]
    },
    {
     "name": "stdout",
     "output_type": "stream",
     "text": [
      "Saved to A:\\Projects\\CollegeProjects\\YogaPartner\\intermediates\\v2\\bhujangasana_474.jpg\n"
     ]
    },
    {
     "name": "stderr",
     "output_type": "stream",
     "text": [
      "\r",
      "560it [01:57,  3.49it/s]"
     ]
    },
    {
     "name": "stdout",
     "output_type": "stream",
     "text": [
      "Saved to A:\\Projects\\CollegeProjects\\YogaPartner\\intermediates\\v2\\bhujangasana_490.jpg\n",
      "Saved to A:\\Projects\\CollegeProjects\\YogaPartner\\intermediates\\v2\\adho_mukha_shvanasana_205.jpg\n"
     ]
    },
    {
     "name": "stderr",
     "output_type": "stream",
     "text": [
      "563it [01:57,  5.50it/s]"
     ]
    },
    {
     "name": "stdout",
     "output_type": "stream",
     "text": [
      "Saved to A:\\Projects\\CollegeProjects\\YogaPartner\\intermediates\\v2\\virabhadrasana_ii_231.jpg\n",
      "Saved to A:\\Projects\\CollegeProjects\\YogaPartner\\intermediates\\v2\\virabhadrasana_i_199.jpg\n"
     ]
    },
    {
     "name": "stderr",
     "output_type": "stream",
     "text": [
      "565it [01:57,  6.07it/s]"
     ]
    },
    {
     "name": "stdout",
     "output_type": "stream",
     "text": [
      "Saved to A:\\Projects\\CollegeProjects\\YogaPartner\\intermediates\\v2\\utkatasana_6.jpg\n",
      "Saved to A:\\Projects\\CollegeProjects\\YogaPartner\\intermediates\\v2\\phalakasana_43.jpg\n"
     ]
    },
    {
     "name": "stderr",
     "output_type": "stream",
     "text": [
      "567it [01:58,  6.63it/s]"
     ]
    },
    {
     "name": "stdout",
     "output_type": "stream",
     "text": [
      "Saved to A:\\Projects\\CollegeProjects\\YogaPartner\\intermediates\\v2\\utkatasana_179.jpg\n",
      "Saved to A:\\Projects\\CollegeProjects\\YogaPartner\\intermediates\\v2\\utkatasana_135.jpg\n"
     ]
    },
    {
     "name": "stderr",
     "output_type": "stream",
     "text": [
      "569it [01:58,  6.72it/s]"
     ]
    },
    {
     "name": "stdout",
     "output_type": "stream",
     "text": [
      "Saved to A:\\Projects\\CollegeProjects\\YogaPartner\\intermediates\\v2\\utkatasana_7.jpg\n",
      "Saved to A:\\Projects\\CollegeProjects\\YogaPartner\\intermediates\\v2\\vasisthasana_91.jpg\n"
     ]
    },
    {
     "name": "stderr",
     "output_type": "stream",
     "text": [
      "571it [01:58,  6.72it/s]"
     ]
    },
    {
     "name": "stdout",
     "output_type": "stream",
     "text": [
      "Saved to A:\\Projects\\CollegeProjects\\YogaPartner\\intermediates\\v2\\bhujangasana_104.jpg\n",
      "Saved to A:\\Projects\\CollegeProjects\\YogaPartner\\intermediates\\v2\\utkatasana_35.jpg\n"
     ]
    },
    {
     "name": "stderr",
     "output_type": "stream",
     "text": [
      "\r",
      "572it [01:58,  6.56it/s]"
     ]
    },
    {
     "name": "stdout",
     "output_type": "stream",
     "text": [
      "Saved to A:\\Projects\\CollegeProjects\\YogaPartner\\intermediates\\v2\\phalakasana_70.jpg\n",
      "Saved to A:\\Projects\\CollegeProjects\\YogaPartner\\intermediates\\v2\\bhujangasana_12.jpg\n"
     ]
    },
    {
     "name": "stderr",
     "output_type": "stream",
     "text": [
      "575it [01:59,  5.15it/s]"
     ]
    },
    {
     "name": "stdout",
     "output_type": "stream",
     "text": [
      "Saved to A:\\Projects\\CollegeProjects\\YogaPartner\\intermediates\\v2\\bhujangasana_262.jpg\n",
      "Saved to A:\\Projects\\CollegeProjects\\YogaPartner\\intermediates\\v2\\vrikshasana_170.jpg\n"
     ]
    },
    {
     "name": "stderr",
     "output_type": "stream",
     "text": [
      "577it [01:59,  5.82it/s]"
     ]
    },
    {
     "name": "stdout",
     "output_type": "stream",
     "text": [
      "Saved to A:\\Projects\\CollegeProjects\\YogaPartner\\intermediates\\v2\\utkata_konasana_84.jpg\n",
      "Saved to A:\\Projects\\CollegeProjects\\YogaPartner\\intermediates\\v2\\vrikshasana_209.jpg\n"
     ]
    },
    {
     "name": "stderr",
     "output_type": "stream",
     "text": [
      "579it [02:00,  5.98it/s]"
     ]
    },
    {
     "name": "stdout",
     "output_type": "stream",
     "text": [
      "Saved to A:\\Projects\\CollegeProjects\\YogaPartner\\intermediates\\v2\\bidalasana_213.jpg\n",
      "Saved to A:\\Projects\\CollegeProjects\\YogaPartner\\intermediates\\v2\\bhujangasana_268.jpg\n"
     ]
    },
    {
     "name": "stderr",
     "output_type": "stream",
     "text": [
      "581it [02:00,  5.68it/s]"
     ]
    },
    {
     "name": "stdout",
     "output_type": "stream",
     "text": [
      "Saved to A:\\Projects\\CollegeProjects\\YogaPartner\\intermediates\\v2\\adho_mukha_shvanasana_97.jpg\n",
      "Saved to A:\\Projects\\CollegeProjects\\YogaPartner\\intermediates\\v2\\utkatasana_87.jpg\n"
     ]
    },
    {
     "name": "stderr",
     "output_type": "stream",
     "text": [
      "583it [02:00,  6.60it/s]"
     ]
    },
    {
     "name": "stdout",
     "output_type": "stream",
     "text": [
      "Saved to A:\\Projects\\CollegeProjects\\YogaPartner\\intermediates\\v2\\vrikshasana_282.jpg\n",
      "Saved to A:\\Projects\\CollegeProjects\\YogaPartner\\intermediates\\v2\\bidalasana_176.jpg\n"
     ]
    },
    {
     "name": "stderr",
     "output_type": "stream",
     "text": [
      "585it [02:01,  6.37it/s]"
     ]
    },
    {
     "name": "stdout",
     "output_type": "stream",
     "text": [
      "Saved to A:\\Projects\\CollegeProjects\\YogaPartner\\intermediates\\v2\\phalakasana_116.jpg\n",
      "Saved to A:\\Projects\\CollegeProjects\\YogaPartner\\intermediates\\v2\\utkata_konasana_132.jpg\n"
     ]
    },
    {
     "name": "stderr",
     "output_type": "stream",
     "text": [
      "587it [02:01,  5.61it/s]"
     ]
    },
    {
     "name": "stdout",
     "output_type": "stream",
     "text": [
      "Saved to A:\\Projects\\CollegeProjects\\YogaPartner\\intermediates\\v2\\bhujangasana_358.jpg\n",
      "Saved to A:\\Projects\\CollegeProjects\\YogaPartner\\intermediates\\v2\\bhujangasana_209.jpg\n"
     ]
    },
    {
     "name": "stderr",
     "output_type": "stream",
     "text": [
      "589it [02:01,  5.72it/s]"
     ]
    },
    {
     "name": "stdout",
     "output_type": "stream",
     "text": [
      "Saved to A:\\Projects\\CollegeProjects\\YogaPartner\\intermediates\\v2\\adho_mukha_shvanasana_340.jpg\n",
      "Saved to A:\\Projects\\CollegeProjects\\YogaPartner\\intermediates\\v2\\phalakasana_122.jpg\n"
     ]
    },
    {
     "name": "stderr",
     "output_type": "stream",
     "text": [
      "\r",
      "590it [02:02,  5.98it/s]"
     ]
    },
    {
     "name": "stdout",
     "output_type": "stream",
     "text": [
      "Saved to A:\\Projects\\CollegeProjects\\YogaPartner\\intermediates\\v2\\utkata_konasana_204.jpg\n",
      "Saved to A:\\Projects\\CollegeProjects\\YogaPartner\\intermediates\\v2\\bhujangasana_581.jpg\n"
     ]
    },
    {
     "name": "stderr",
     "output_type": "stream",
     "text": [
      "593it [02:02,  6.59it/s]"
     ]
    },
    {
     "name": "stdout",
     "output_type": "stream",
     "text": [
      "Saved to A:\\Projects\\CollegeProjects\\YogaPartner\\intermediates\\v2\\adho_mukha_shvanasana_424.jpg\n",
      "Saved to A:\\Projects\\CollegeProjects\\YogaPartner\\intermediates\\v2\\utkata_konasana_15.jpg\n"
     ]
    },
    {
     "name": "stderr",
     "output_type": "stream",
     "text": [
      "\r",
      "594it [02:02,  6.59it/s]"
     ]
    },
    {
     "name": "stdout",
     "output_type": "stream",
     "text": [
      "Saved to A:\\Projects\\CollegeProjects\\YogaPartner\\intermediates\\v2\\bidalasana_288.jpeg\n",
      "Saved to A:\\Projects\\CollegeProjects\\YogaPartner\\intermediates\\v2\\bhujangasana_222.jpg\n"
     ]
    },
    {
     "name": "stderr",
     "output_type": "stream",
     "text": [
      "\r",
      "596it [02:02,  7.41it/s]"
     ]
    },
    {
     "name": "stdout",
     "output_type": "stream",
     "text": [
      "Saved to A:\\Projects\\CollegeProjects\\YogaPartner\\intermediates\\v2\\utkatasana_57.jpg\n"
     ]
    },
    {
     "name": "stderr",
     "output_type": "stream",
     "text": [
      "\r",
      "597it [02:03,  5.32it/s]"
     ]
    },
    {
     "name": "stdout",
     "output_type": "stream",
     "text": [
      "Saved to A:\\Projects\\CollegeProjects\\YogaPartner\\intermediates\\v2\\virabhadrasana_ii_111.jpg\n"
     ]
    },
    {
     "name": "stderr",
     "output_type": "stream",
     "text": [
      "\r",
      "598it [02:03,  5.14it/s]"
     ]
    },
    {
     "name": "stdout",
     "output_type": "stream",
     "text": [
      "Saved to A:\\Projects\\CollegeProjects\\YogaPartner\\intermediates\\v2\\vrikshasana_184.jpg\n"
     ]
    },
    {
     "name": "stderr",
     "output_type": "stream",
     "text": [
      "600it [02:03,  5.23it/s]"
     ]
    },
    {
     "name": "stdout",
     "output_type": "stream",
     "text": [
      "Saved to A:\\Projects\\CollegeProjects\\YogaPartner\\intermediates\\v2\\vrikshasana_191.jpg\n",
      "Saved to A:\\Projects\\CollegeProjects\\YogaPartner\\intermediates\\v2\\bhujangasana_579.jpg\n"
     ]
    },
    {
     "name": "stderr",
     "output_type": "stream",
     "text": [
      "602it [02:04,  6.08it/s]"
     ]
    },
    {
     "name": "stdout",
     "output_type": "stream",
     "text": [
      "Saved to A:\\Projects\\CollegeProjects\\YogaPartner\\intermediates\\v2\\virabhadrasana_ii_245.jpg\n",
      "Saved to A:\\Projects\\CollegeProjects\\YogaPartner\\intermediates\\v2\\bhujangasana_462.jpg\n"
     ]
    },
    {
     "name": "stderr",
     "output_type": "stream",
     "text": [
      "604it [02:04,  5.70it/s]"
     ]
    },
    {
     "name": "stdout",
     "output_type": "stream",
     "text": [
      "Saved to A:\\Projects\\CollegeProjects\\YogaPartner\\intermediates\\v2\\adho_mukha_shvanasana_80.jpg\n",
      "Saved to A:\\Projects\\CollegeProjects\\YogaPartner\\intermediates\\v2\\bhujangasana_301.jpg\n"
     ]
    },
    {
     "name": "stderr",
     "output_type": "stream",
     "text": [
      "\r",
      "605it [02:04,  5.06it/s]"
     ]
    },
    {
     "name": "stdout",
     "output_type": "stream",
     "text": [
      "Saved to A:\\Projects\\CollegeProjects\\YogaPartner\\intermediates\\v2\\virabhadrasana_ii_382.jpg\n"
     ]
    },
    {
     "name": "stderr",
     "output_type": "stream",
     "text": [
      "607it [02:05,  3.57it/s]"
     ]
    },
    {
     "name": "stdout",
     "output_type": "stream",
     "text": [
      "Saved to A:\\Projects\\CollegeProjects\\YogaPartner\\intermediates\\v2\\virabhadrasana_ii_244.jpg\n",
      "Saved to A:\\Projects\\CollegeProjects\\YogaPartner\\intermediates\\v2\\bhujangasana_482.jpg\n"
     ]
    },
    {
     "name": "stderr",
     "output_type": "stream",
     "text": [
      "\r",
      "608it [02:05,  4.16it/s]"
     ]
    },
    {
     "name": "stdout",
     "output_type": "stream",
     "text": [
      "Saved to A:\\Projects\\CollegeProjects\\YogaPartner\\intermediates\\v2\\utkatasana_184.jpg\n"
     ]
    },
    {
     "name": "stderr",
     "output_type": "stream",
     "text": [
      "610it [02:06,  4.79it/s]"
     ]
    },
    {
     "name": "stdout",
     "output_type": "stream",
     "text": [
      "Saved to A:\\Projects\\CollegeProjects\\YogaPartner\\intermediates\\v2\\bhujangasana_190.jpg\n",
      "Saved to A:\\Projects\\CollegeProjects\\YogaPartner\\intermediates\\v2\\utkata_konasana_13.jpg\n"
     ]
    },
    {
     "name": "stderr",
     "output_type": "stream",
     "text": [
      "612it [02:06,  6.01it/s]"
     ]
    },
    {
     "name": "stdout",
     "output_type": "stream",
     "text": [
      "Saved to A:\\Projects\\CollegeProjects\\YogaPartner\\intermediates\\v2\\vrikshasana_240.jpg\n",
      "Saved to A:\\Projects\\CollegeProjects\\YogaPartner\\intermediates\\v2\\adho_mukha_shvanasana_404.jpg\n"
     ]
    },
    {
     "name": "stderr",
     "output_type": "stream",
     "text": [
      "\r",
      "613it [02:06,  4.55it/s]"
     ]
    },
    {
     "name": "stdout",
     "output_type": "stream",
     "text": [
      "Saved to A:\\Projects\\CollegeProjects\\YogaPartner\\intermediates\\v2\\adho_mukha_shvanasana_10.jpg\n"
     ]
    },
    {
     "name": "stderr",
     "output_type": "stream",
     "text": [
      "615it [02:07,  4.24it/s]"
     ]
    },
    {
     "name": "stdout",
     "output_type": "stream",
     "text": [
      "Saved to A:\\Projects\\CollegeProjects\\YogaPartner\\intermediates\\v2\\virabhadrasana_i_24.jpg\n",
      "Saved to A:\\Projects\\CollegeProjects\\YogaPartner\\intermediates\\v2\\bhujangasana_133.jpg\n"
     ]
    },
    {
     "name": "stderr",
     "output_type": "stream",
     "text": [
      "\r",
      "616it [02:07,  4.63it/s]"
     ]
    },
    {
     "name": "stdout",
     "output_type": "stream",
     "text": [
      "Saved to A:\\Projects\\CollegeProjects\\YogaPartner\\intermediates\\v2\\bidalasana_123.jpeg\n"
     ]
    },
    {
     "name": "stderr",
     "output_type": "stream",
     "text": [
      "\r",
      "617it [02:07,  4.18it/s]"
     ]
    },
    {
     "name": "stdout",
     "output_type": "stream",
     "text": [
      "Saved to A:\\Projects\\CollegeProjects\\YogaPartner\\intermediates\\v2\\adho_mukha_shvanasana_380.jpg\n",
      "Saved to A:\\Projects\\CollegeProjects\\YogaPartner\\intermediates\\v2\\adho_mukha_shvanasana_420.jpg\n"
     ]
    },
    {
     "name": "stderr",
     "output_type": "stream",
     "text": [
      "620it [02:08,  5.86it/s]"
     ]
    },
    {
     "name": "stdout",
     "output_type": "stream",
     "text": [
      "Saved to A:\\Projects\\CollegeProjects\\YogaPartner\\intermediates\\v2\\bhujangasana_447.jpg\n",
      "Saved to A:\\Projects\\CollegeProjects\\YogaPartner\\intermediates\\v2\\bhujangasana_227.jpg\n"
     ]
    },
    {
     "name": "stderr",
     "output_type": "stream",
     "text": [
      "622it [02:08,  6.86it/s]"
     ]
    },
    {
     "name": "stdout",
     "output_type": "stream",
     "text": [
      "Saved to A:\\Projects\\CollegeProjects\\YogaPartner\\intermediates\\v2\\bhujangasana_156.jpg\n",
      "Saved to A:\\Projects\\CollegeProjects\\YogaPartner\\intermediates\\v2\\vasisthasana_110.jpg\n"
     ]
    },
    {
     "name": "stderr",
     "output_type": "stream",
     "text": [
      "\r",
      "623it [02:08,  6.40it/s]"
     ]
    },
    {
     "name": "stdout",
     "output_type": "stream",
     "text": [
      "Saved to A:\\Projects\\CollegeProjects\\YogaPartner\\intermediates\\v2\\utkata_konasana_23.jpg\n"
     ]
    },
    {
     "name": "stderr",
     "output_type": "stream",
     "text": [
      "\r",
      "624it [02:08,  5.64it/s]"
     ]
    },
    {
     "name": "stdout",
     "output_type": "stream",
     "text": [
      "Saved to A:\\Projects\\CollegeProjects\\YogaPartner\\intermediates\\v2\\bhujangasana_46.jpg\n"
     ]
    },
    {
     "name": "stderr",
     "output_type": "stream",
     "text": [
      "626it [02:09,  4.86it/s]"
     ]
    },
    {
     "name": "stdout",
     "output_type": "stream",
     "text": [
      "Saved to A:\\Projects\\CollegeProjects\\YogaPartner\\intermediates\\v2\\virabhadrasana_ii_56.jpg\n",
      "Saved to A:\\Projects\\CollegeProjects\\YogaPartner\\intermediates\\v2\\utkata_konasana_92.jpg\n"
     ]
    },
    {
     "name": "stderr",
     "output_type": "stream",
     "text": [
      "628it [02:09,  4.85it/s]"
     ]
    },
    {
     "name": "stdout",
     "output_type": "stream",
     "text": [
      "Saved to A:\\Projects\\CollegeProjects\\YogaPartner\\intermediates\\v2\\virabhadrasana_ii_108.jpg\n",
      "Saved to A:\\Projects\\CollegeProjects\\YogaPartner\\intermediates\\v2\\bhujangasana_295.jpg\n",
      "Done detecting\n",
      "Total time taken - 390.2900290489197\n",
      "Max time taken - 1.090001106262207\n",
      "Min time taken - 0.059237003326416016\n",
      "Average time taken - 0.11997849033166913\n"
     ]
    },
    {
     "name": "stderr",
     "output_type": "stream",
     "text": [
      "\n"
     ]
    }
   ],
   "source": [
    "import tensorflow as tf\n",
    "from matplotlib.collections import LineCollection\n",
    "import tqdm\n",
    "import time\n",
    "\n",
    "durations = []\n",
    "def detect(ndf):\n",
    "    with mp_pose.Pose(\n",
    "        static_image_mode=True, \n",
    "    #     min_detection_confidence=0.5, \n",
    "    #     min_tracking_confidence=0.3,\n",
    "        model_complexity=0\n",
    "    ) as pose:\n",
    "        rows = []\n",
    "        for i, value in tqdm.tqdm(ndf.iterrows(), position=0):\n",
    "            begin = time.time()\n",
    "            label = value['labels']\n",
    "            image_path = value['filepaths']\n",
    "            image = cv2.imread(image_path)\n",
    "            results = pose.process(cv2.cvtColor(image, cv2.COLOR_BGR2RGB))\n",
    "            end = time.time()\n",
    "            rows.append([results, label, image_path, image.shape[:2]])\n",
    "            saveImagesWithKeypoints(image_path, results)\n",
    "            if results.pose_landmarks is not None:\n",
    "                durations.append(end - begin)\n",
    "                \n",
    "        return rows\n",
    "    \n",
    "train_rows = detect(train_df)\n",
    "test_rows = detect(test_df)\n",
    "print(\"Done detecting\")\n",
    "print(\"Total time taken - \" + str(sum(durations)))\n",
    "print(\"Max time taken - \" + str(max(durations)))\n",
    "print(\"Min time taken - \" + str(min(durations)))\n",
    "print(\"Average time taken - \" + str(sum(durations) / len(durations)))"
   ]
  },
  {
   "cell_type": "markdown",
   "id": "0a113fbf",
   "metadata": {},
   "source": [
    "### Write to csv"
   ]
  },
  {
   "cell_type": "code",
   "execution_count": 53,
   "id": "31bf446c",
   "metadata": {},
   "outputs": [
    {
     "name": "stdout",
     "output_type": "stream",
     "text": [
      "No pose detected - length  - .\\data\\v2\\vrikshasana\\vrikshasana_134.jpg\n",
      "No pose detected - length  - .\\data\\v2\\vrikshasana\\vrikshasana_32.jpg\n",
      "No pose detected - length  - .\\data\\v2\\virabhadrasana_i\\virabhadrasana_i_158.jpg\n",
      "No pose detected - length  - .\\data\\v2\\virabhadrasana_ii\\virabhadrasana_ii_166.jpg\n",
      "No pose detected - length  - .\\data\\v2\\virabhadrasana_ii\\virabhadrasana_ii_266.jpg\n",
      "No pose detected - length  - .\\data\\v2\\virabhadrasana_ii\\virabhadrasana_ii_47.jpg\n",
      "No pose detected - length  - .\\data\\v2\\bhujangasana\\bhujangasana_304.jpg\n",
      "No pose detected - length  - .\\data\\v2\\bhujangasana\\bhujangasana_79.jpg\n",
      "No pose detected - length  - .\\data\\v2\\bhujangasana\\bhujangasana_469.jpg\n",
      "No pose detected - length  - .\\data\\v2\\bhujangasana\\bhujangasana_52.jpg\n",
      "No pose detected - length  - .\\data\\v2\\bhujangasana\\bhujangasana_610.jpg\n",
      "No pose detected - length  - .\\data\\v2\\utkatasana\\utkatasana_136.jpg\n",
      "No pose detected - length  - .\\data\\v2\\bidalasana\\bidalasana_264.jpg\n",
      "No pose detected - length  - .\\data\\v2\\bidalasana\\bidalasana_202.jpg\n",
      "No pose detected - length  - .\\data\\v2\\bidalasana\\bidalasana_227.jpg\n",
      "No pose detected - length  - .\\data\\v2\\bidalasana\\bidalasana_15.jpg\n",
      "No pose detected - length  - .\\data\\v2\\bidalasana\\bidalasana_222.jpg\n",
      "No pose detected - length  - .\\data\\v2\\bidalasana\\bidalasana_189.jpg\n",
      "No pose detected - length  - .\\data\\v2\\utkata_konasana\\utkata_konasana_181.jpg\n",
      "No pose detected - length  - .\\data\\v2\\ustrasana\\ustrasana_59.jpg\n",
      "No pose detected - length  - .\\data\\v2\\ustrasana\\ustrasana_26.jpg\n",
      "No pose detected - length  - .\\data\\v2\\ustrasana\\ustrasana_58.jpg\n",
      "No pose detected - length  - ./aug\\phalakasana\\aug-_106_4336214.jpg\n",
      "No pose detected - length  - ./aug\\phalakasana\\aug-_14_8349200.jpg\n",
      "No pose detected - length  - ./aug\\phalakasana\\aug-_16_1832667.jpg\n",
      "No pose detected - length  - ./aug\\phalakasana\\aug-_16_8697878.jpg\n",
      "No pose detected - length  - ./aug\\phalakasana\\aug-_31_7373233.jpg\n",
      "No pose detected - length  - ./aug\\phalakasana\\aug-_32_1545389.jpg\n",
      "No pose detected - length  - ./aug\\phalakasana\\aug-_33_9669028.jpg\n",
      "No pose detected - length  - ./aug\\phalakasana\\aug-_39_5817631.jpg\n",
      "No pose detected - length  - ./aug\\phalakasana\\aug-_48_7824670.jpg\n",
      "No pose detected - length  - ./aug\\phalakasana\\aug-_53_4262693.jpg\n",
      "No pose detected - length  - ./aug\\phalakasana\\aug-_57_425462.jpg\n",
      "No pose detected - length  - ./aug\\phalakasana\\aug-_62_8707094.jpg\n",
      "No pose detected - length  - ./aug\\phalakasana\\aug-_68_9346663.jpg\n",
      "No pose detected - length  - ./aug\\phalakasana\\aug-_69_6011002.jpg\n",
      "No pose detected - length  - ./aug\\phalakasana\\aug-_74_9696981.jpg\n",
      "No pose detected - length  - ./aug\\phalakasana\\aug-_76_6312743.jpg\n",
      "No pose detected - length  - ./aug\\phalakasana\\aug-_7_2083832.jpg\n",
      "No pose detected - length  - ./aug\\ustrasana\\aug-_0_6484652.jpg\n",
      "No pose detected - length  - ./aug\\ustrasana\\aug-_13_244756.jpg\n",
      "No pose detected - length  - ./aug\\ustrasana\\aug-_13_8876823.jpg\n",
      "No pose detected - length  - ./aug\\ustrasana\\aug-_15_8616502.jpg\n",
      "No pose detected - length  - ./aug\\ustrasana\\aug-_19_12077.jpg\n",
      "No pose detected - length  - ./aug\\ustrasana\\aug-_19_5082299.jpg\n",
      "No pose detected - length  - ./aug\\ustrasana\\aug-_19_7504497.jpg\n",
      "No pose detected - length  - ./aug\\ustrasana\\aug-_19_804736.jpg\n",
      "No pose detected - length  - ./aug\\ustrasana\\aug-_21_9005511.jpg\n",
      "No pose detected - length  - ./aug\\ustrasana\\aug-_22_6378131.jpg\n",
      "No pose detected - length  - ./aug\\ustrasana\\aug-_22_8138348.jpg\n",
      "No pose detected - length  - ./aug\\ustrasana\\aug-_24_4105818.jpg\n",
      "No pose detected - length  - ./aug\\ustrasana\\aug-_25_2707445.jpg\n",
      "No pose detected - length  - ./aug\\ustrasana\\aug-_26_4094990.jpg\n",
      "No pose detected - length  - ./aug\\ustrasana\\aug-_26_5467936.jpg\n",
      "No pose detected - length  - ./aug\\ustrasana\\aug-_27_1027475.jpg\n",
      "No pose detected - length  - ./aug\\ustrasana\\aug-_29_5666833.jpg\n",
      "No pose detected - length  - ./aug\\ustrasana\\aug-_29_9396285.jpg\n",
      "No pose detected - length  - ./aug\\ustrasana\\aug-_2_9510870.jpg\n",
      "No pose detected - length  - ./aug\\ustrasana\\aug-_31_9058038.jpg\n",
      "No pose detected - length  - ./aug\\ustrasana\\aug-_32_4804270.jpg\n",
      "No pose detected - length  - ./aug\\ustrasana\\aug-_32_5445268.jpg\n",
      "No pose detected - length  - ./aug\\ustrasana\\aug-_33_3678535.jpg\n",
      "No pose detected - length  - ./aug\\ustrasana\\aug-_35_6149850.jpg\n",
      "No pose detected - length  - ./aug\\ustrasana\\aug-_37_6839700.jpg\n",
      "No pose detected - length  - ./aug\\ustrasana\\aug-_37_7126259.jpg\n",
      "No pose detected - length  - ./aug\\ustrasana\\aug-_39_2971270.jpg\n",
      "No pose detected - length  - ./aug\\ustrasana\\aug-_39_4682781.jpg\n",
      "No pose detected - length  - ./aug\\ustrasana\\aug-_40_8493042.jpg\n",
      "No pose detected - length  - ./aug\\ustrasana\\aug-_41_4140856.jpg\n",
      "No pose detected - length  - ./aug\\ustrasana\\aug-_44_4663586.jpg\n",
      "No pose detected - length  - ./aug\\ustrasana\\aug-_44_8059597.jpg\n",
      "No pose detected - length  - ./aug\\ustrasana\\aug-_48_1167010.jpg\n",
      "No pose detected - length  - ./aug\\ustrasana\\aug-_49_6430403.jpg\n",
      "No pose detected - length  - ./aug\\ustrasana\\aug-_4_5840641.jpg\n",
      "No pose detected - length  - ./aug\\ustrasana\\aug-_52_9831636.jpg\n",
      "No pose detected - length  - ./aug\\ustrasana\\aug-_5_5495493.jpg\n",
      "No pose detected - length  - ./aug\\ustrasana\\aug-_5_7818679.jpg\n",
      "No pose detected - length  - ./aug\\ustrasana\\aug-_5_9691523.jpg\n",
      "No pose detected - length  - ./aug\\ustrasana\\aug-_6_2513366.jpg\n",
      "No pose detected - length  - ./aug\\ustrasana\\aug-_7_8361319.jpg\n",
      "No pose detected - length  - ./aug\\ustrasana\\aug-_7_8689068.jpg\n",
      "No pose detected - length  - ./aug\\ustrasana\\aug-_8_5759438.jpg\n",
      "No pose detected - length  - ./aug\\ustrasana\\aug-_9_3808967.jpg\n",
      "No pose detected - length  - ./aug\\ustrasana\\aug-_9_4056050.jpg\n",
      "No pose detected - length  - ./aug\\ustrasana\\aug-_9_7588248.jpg\n",
      "No pose detected - length  - ./aug\\ustrasana\\aug-_9_7927807.jpg\n",
      "No pose detected - length  - ./aug\\utkatasana\\aug-_0_8050220.jpg\n",
      "No pose detected - length  - ./aug\\utkatasana\\aug-_33_5450199.jpg\n",
      "No pose detected - length  - ./aug\\utkatasana\\aug-_34_2501363.jpg\n",
      "No pose detected - length  - ./aug\\utkatasana\\aug-_42_2505029.jpg\n",
      "No pose detected - length  - ./aug\\utkatasana\\aug-_68_9312174.jpg\n",
      "No pose detected - length  - ./aug\\utkata_konasana\\aug-_54_1297858.jpg\n",
      "No pose detected - length  - ./aug\\vasisthasana\\aug-_101_79624.jpg\n",
      "No pose detected - length  - ./aug\\vasisthasana\\aug-_20_8638057.jpg\n",
      "No pose detected - length  - ./aug\\vasisthasana\\aug-_23_7907752.jpg\n",
      "No pose detected - length  - ./aug\\vasisthasana\\aug-_26_6382544.jpg\n",
      "No pose detected - length  - ./aug\\vasisthasana\\aug-_38_6029530.jpg\n",
      "No pose detected - length  - ./aug\\vasisthasana\\aug-_40_6138528.jpg\n",
      "No pose detected - length  - ./aug\\vasisthasana\\aug-_53_9499156.jpg\n",
      "No pose detected - length  - ./aug\\vasisthasana\\aug-_55_5927354.jpg\n",
      "No pose detected - length  - ./aug\\vasisthasana\\aug-_59_6118212.jpg\n",
      "No pose detected - length  - ./aug\\vasisthasana\\aug-_62_6998920.jpg\n",
      "No pose detected - length  - ./aug\\vasisthasana\\aug-_75_690286.jpg\n",
      "No pose detected - length  - ./aug\\vasisthasana\\aug-_79_3893333.jpg\n",
      "No pose detected - length  - ./aug\\vasisthasana\\aug-_8_5248894.jpg\n",
      "No pose detected - length  - ./aug\\vasisthasana\\aug-_91_8290078.jpg\n",
      "No pose detected - length  - ./aug\\vasisthasana\\aug-_92_1981926.jpg\n",
      "No pose detected - length  - ./aug\\virabhadrasana_i\\aug-_0_8692796.jpg\n",
      "No pose detected - length  - ./aug\\virabhadrasana_i\\aug-_14_1888939.jpg\n",
      "No pose detected - length  - ./aug\\virabhadrasana_i\\aug-_1_9022532.jpg\n",
      "No pose detected - length  - ./aug\\virabhadrasana_i\\aug-_20_6811662.jpg\n",
      "No pose detected - length  - ./aug\\virabhadrasana_i\\aug-_25_1755783.jpg\n",
      "No pose detected - length  - ./aug\\virabhadrasana_i\\aug-_67_7893583.jpg\n",
      "Training csv saved\n",
      "No pose detected - length  - .\\data\\v2\\vasisthasana\\vasisthasana_33.jpg\n",
      "No pose detected - length  - .\\data\\v2\\adho_mukha_shvanasana\\adho_mukha_shvanasana_319.jpg\n",
      "No pose detected - length  - .\\data\\v2\\ustrasana\\ustrasana_51.jpg\n",
      "No pose detected - length  - .\\data\\v2\\utkatasana\\utkatasana_145.jpg\n",
      "No pose detected - length  - .\\data\\v2\\vrikshasana\\vrikshasana_153.jpg\n",
      "No pose detected - length  - .\\data\\v2\\bidalasana\\bidalasana_22.jpg\n",
      "No pose detected - length  - .\\data\\v2\\ustrasana\\ustrasana_2.jpg\n",
      "No pose detected - length  - .\\data\\v2\\ustrasana\\ustrasana_61.jpg\n",
      "No pose detected - length  - .\\data\\v2\\vasisthasana\\vasisthasana_146.jpg\n",
      "No pose detected - length  - .\\data\\v2\\bhujangasana\\bhujangasana_474.jpg\n",
      "No pose detected - length  - .\\data\\v2\\bhujangasana\\bhujangasana_222.jpg\n",
      "No pose detected - length  - .\\data\\v2\\adho_mukha_shvanasana\\adho_mukha_shvanasana_420.jpg\n",
      "Testing csv saved\n"
     ]
    }
   ],
   "source": [
    "csvPath = os.path.join(toDir, \"train_out.csv\")\n",
    "with open(csvPath, 'w', newline='') as csv_file:\n",
    "    csv_out_writer = csv.writer(csv_file, delimiter=',', quoting=csv.QUOTE_MINIMAL)\n",
    "    for row in train_rows:\n",
    "        results, class_name, image_path, image_shape = row\n",
    "        save_to_csv(results, class_name, image_path, image_shape, csv_out_writer)\n",
    "print(\"Training csv saved\")\n",
    "\n",
    "csvPath = os.path.join(toDir, \"test_out.csv\")\n",
    "with open(csvPath, 'w', newline='') as csv_file:\n",
    "    csv_out_writer = csv.writer(csv_file, delimiter=',', quoting=csv.QUOTE_MINIMAL)\n",
    "    for row in test_rows:\n",
    "        results, class_name, image_path, image_shape = row\n",
    "        save_to_csv(results, class_name, image_path, image_shape, csv_out_writer)\n",
    "    print(\"Testing csv saved\")"
   ]
  },
  {
   "cell_type": "markdown",
   "id": "82d5c792",
   "metadata": {},
   "source": [
    "## Train classifier model"
   ]
  },
  {
   "cell_type": "markdown",
   "id": "facc0ceb",
   "metadata": {},
   "source": [
    "### load csv"
   ]
  },
  {
   "cell_type": "code",
   "execution_count": 142,
   "id": "8abf9860",
   "metadata": {},
   "outputs": [],
   "source": [
    "import tensorflow.keras\n",
    "from keras.utils import np_utils\n",
    "\n",
    "def load_csv(path):\n",
    "    df = pd.read_csv(path)\n",
    "    print(\"Shape of in csv:\")\n",
    "    print(df.shape)\n",
    "    # remove file name column\n",
    "    df.drop(df.columns[0], axis=1, inplace=True)\n",
    "    y = df.pop(df.columns[0])\n",
    "    classes = y.unique()\n",
    "    y = keras.utils.np_utils.to_categorical([list(classes).index(className) for className in y])\n",
    "    X = df.astype('float64')\n",
    "    \n",
    "    return X, y, classes"
   ]
  },
  {
   "cell_type": "markdown",
   "id": "49f93b70",
   "metadata": {},
   "source": [
    "### pre-process"
   ]
  },
  {
   "cell_type": "code",
   "execution_count": 106,
   "id": "679110da",
   "metadata": {},
   "outputs": [],
   "source": [
    "def get_center_point(landmarks, left_bodypart, right_bodypart):\n",
    "    \"\"\"Calculates the center point of the two given landmarks.\"\"\"\n",
    "    left = tf.gather(landmarks, left_bodypart.value, axis=1)\n",
    "    right = tf.gather(landmarks, right_bodypart.value, axis=1)\n",
    "    center = left * 0.5 + right * 0.5\n",
    "    return center\n",
    "\n",
    "\n",
    "def get_pose_size(landmarks, torso_size_multiplier=2.5):\n",
    "    \"\"\"Calculates pose size.\n",
    "    It is the maximum of two values:\n",
    "    * Torso size multiplied by `torso_size_multiplier`\n",
    "    * Maximum distance from pose center to any pose landmark\n",
    "    \"\"\"\n",
    "    # Hips center\n",
    "    hips_center = get_center_point(landmarks, mp_pose.PoseLandmark.LEFT_HIP, \n",
    "                                 mp_pose.PoseLandmark.RIGHT_HIP)\n",
    "\n",
    "    # Shoulders center\n",
    "    shoulders_center = get_center_point(landmarks, mp_pose.PoseLandmark.LEFT_SHOULDER,\n",
    "                                      mp_pose.PoseLandmark.RIGHT_SHOULDER)\n",
    "\n",
    "    # Torso size as the minimum body size\n",
    "    torso_size = tf.linalg.norm(shoulders_center - hips_center)\n",
    "    # Pose center\n",
    "    pose_center_new = get_center_point(landmarks, mp_pose.PoseLandmark.LEFT_HIP, \n",
    "                                     mp_pose.PoseLandmark.RIGHT_HIP)\n",
    "    pose_center_new = tf.expand_dims(pose_center_new, axis=1)\n",
    "    # Broadcast the pose center to the same size as the landmark vector to\n",
    "    # perform substraction\n",
    "    pose_center_new = tf.broadcast_to(pose_center_new,\n",
    "                                    [tf.size(landmarks) // (33*3), 33, 3])\n",
    "\n",
    "    # Dist to pose center\n",
    "    d = tf.gather(landmarks - pose_center_new, 0, axis=0,\n",
    "                name=\"dist_to_pose_center\")\n",
    "    # Max dist to pose center\n",
    "    max_dist = tf.reduce_max(tf.linalg.norm(d, axis=0))\n",
    "\n",
    "    # Normalize scale\n",
    "    pose_size = tf.maximum(torso_size * torso_size_multiplier, max_dist)\n",
    "    return pose_size\n",
    "\n",
    "def normalize_pose_landmarks(landmarks):\n",
    "    \"\"\"Normalizes the landmarks translation by moving the pose center to (0,0) and\n",
    "    scaling it to a constant pose size.\n",
    "  \"\"\"\n",
    "  # Move landmarks so that the pose center becomes (0,0)\n",
    "    pose_center = get_center_point(landmarks, mp_pose.PoseLandmark.LEFT_HIP, \n",
    "                                 mp_pose.PoseLandmark.RIGHT_HIP)\n",
    "\n",
    "    pose_center = tf.expand_dims(pose_center, axis=1)\n",
    "    # Broadcast the pose center to the same size as the landmark vector to perform\n",
    "    # substraction\n",
    "    pose_center = tf.broadcast_to(pose_center, \n",
    "                                [tf.size(landmarks) // (33*3), 33, 3])\n",
    "    landmarks = landmarks - pose_center\n",
    "\n",
    "    # Scale the landmarks to a constant pose size\n",
    "    pose_size = get_pose_size(landmarks)\n",
    "    landmarks /= pose_size\n",
    "    return landmarks\n",
    "\n",
    "def landmarks_to_embedding(landmarks_and_scores):\n",
    "    \"\"\"Converts the input landmarks into a pose embedding.\"\"\"\n",
    "    # Reshape the flat input into a matrix with shape=(17, 3)\n",
    "    reshaped_inputs = keras.layers.Reshape((33, 3))(landmarks_and_scores)\n",
    "\n",
    "    # Normalize landmarks 2D\n",
    "    landmarks = normalize_pose_landmarks(reshaped_inputs[:, :, :3])\n",
    "    # Flatten the normalized landmark coordinates into a vector\n",
    "    embedding = keras.layers.Flatten()(landmarks)\n",
    "    return embedding\n",
    "\n",
    "def preprocess_data(X_train):\n",
    "    processed_X_train = []\n",
    "    for i in range(X_train.shape[0]):\n",
    "        embedding = landmarks_to_embedding(tf.reshape(tf.convert_to_tensor(X_train.iloc[i]), (1, 99)))\n",
    "        processed_X_train.append(tf.reshape(embedding, (99)))\n",
    "    return tf.convert_to_tensor(processed_X_train)"
   ]
  },
  {
   "cell_type": "code",
   "execution_count": 143,
   "id": "03e8907a",
   "metadata": {},
   "outputs": [
    {
     "name": "stdout",
     "output_type": "stream",
     "text": [
      "Shape of in csv:\n",
      "(2636, 101)\n",
      "Shape of in csv:\n",
      "(615, 101)\n",
      "Count of classes:\n",
      "11\n",
      "Size of train x, y :\n",
      "2636\n",
      "2636\n",
      "Size of test x, y :\n",
      "307\n",
      "307\n",
      "Size of val x, y :\n",
      "308\n",
      "308\n"
     ]
    }
   ],
   "source": [
    "test_csv_path = os.path.join(toDir, \"test_out.csv\")\n",
    "train_csv_path = os.path.join(toDir, \"train_out.csv\")\n",
    "\n",
    "X_train, y_train, class_names = load_csv(train_csv_path)\n",
    "X_test_in, y_test_in, _ = load_csv(test_csv_path)\n",
    "\n",
    "# split test to test and validation (50-50 = 10% each)\n",
    "X_test, X_val, y_test, y_val = train_test_split(X_test_in, y_test_in, test_size=0.5, shuffle=True, random_state=123)\n",
    "\n",
    "print(\"Count of classes:\")\n",
    "print(len(class_names))\n",
    "print(\"Size of train x, y :\")\n",
    "print(len(X_train))\n",
    "print(len(y_train))\n",
    "print(\"Size of test x, y :\")\n",
    "print(len(X_test))\n",
    "print(len(y_test))\n",
    "print(\"Size of val x, y :\")\n",
    "print(len(X_val))\n",
    "print(len(y_val))\n",
    "processed_X_train = preprocess_data(X_train)\n",
    "processed_X_val =  preprocess_data(X_val)\n",
    "processed_X_test = preprocess_data(X_test)"
   ]
  },
  {
   "cell_type": "code",
   "execution_count": 144,
   "id": "54b9fa58",
   "metadata": {},
   "outputs": [
    {
     "name": "stdout",
     "output_type": "stream",
     "text": [
      "[[1. 0. 0. ... 0. 0. 0.]\n",
      " [1. 0. 0. ... 0. 0. 0.]\n",
      " [1. 0. 0. ... 0. 0. 0.]\n",
      " ...\n",
      " [0. 0. 1. ... 0. 0. 0.]\n",
      " [0. 0. 1. ... 0. 0. 0.]\n",
      " [0. 0. 1. ... 0. 0. 0.]]\n",
      "Epoch 1/200\n",
      "149/165 [==========================>...] - ETA: 0s - loss: 2.0371 - accuracy: 0.3096\n",
      "Epoch 1: val_accuracy improved from -inf to 0.05195, saving model to weights.best.hdf5\n",
      "165/165 [==============================] - 1s 5ms/step - loss: 1.9958 - accuracy: 0.3190 - val_loss: 3.0849 - val_accuracy: 0.0519\n",
      "Epoch 2/200\n",
      "154/165 [===========================>..] - ETA: 0s - loss: 1.3368 - accuracy: 0.5179\n",
      "Epoch 2: val_accuracy improved from 0.05195 to 0.07143, saving model to weights.best.hdf5\n",
      "165/165 [==============================] - 1s 4ms/step - loss: 1.3267 - accuracy: 0.5209 - val_loss: 4.4529 - val_accuracy: 0.0714\n",
      "Epoch 3/200\n",
      "161/165 [============================>.] - ETA: 0s - loss: 1.0694 - accuracy: 0.6227\n",
      "Epoch 3: val_accuracy did not improve from 0.07143\n",
      "165/165 [==============================] - 1s 4ms/step - loss: 1.0680 - accuracy: 0.6241 - val_loss: 5.0996 - val_accuracy: 0.0552\n",
      "Epoch 4/200\n",
      "164/165 [============================>.] - ETA: 0s - loss: 0.8753 - accuracy: 0.6902\n",
      "Epoch 4: val_accuracy did not improve from 0.07143\n",
      "165/165 [==============================] - 1s 4ms/step - loss: 0.8745 - accuracy: 0.6908 - val_loss: 5.8685 - val_accuracy: 0.0292\n",
      "Epoch 5/200\n",
      "162/165 [============================>.] - ETA: 0s - loss: 0.7802 - accuracy: 0.7269\n",
      "Epoch 5: val_accuracy did not improve from 0.07143\n",
      "165/165 [==============================] - 1s 4ms/step - loss: 0.7845 - accuracy: 0.7257 - val_loss: 6.6156 - val_accuracy: 0.0292\n",
      "Epoch 6/200\n",
      "163/165 [============================>.] - ETA: 0s - loss: 0.6933 - accuracy: 0.7711\n",
      "Epoch 6: val_accuracy did not improve from 0.07143\n",
      "165/165 [==============================] - 1s 4ms/step - loss: 0.6908 - accuracy: 0.7724 - val_loss: 7.2006 - val_accuracy: 0.0260\n",
      "Epoch 7/200\n",
      "160/165 [============================>.] - ETA: 0s - loss: 0.6253 - accuracy: 0.7961\n",
      "Epoch 7: val_accuracy did not improve from 0.07143\n",
      "165/165 [==============================] - 1s 4ms/step - loss: 0.6213 - accuracy: 0.7982 - val_loss: 7.7322 - val_accuracy: 0.0227\n",
      "Epoch 8/200\n",
      "150/165 [==========================>...] - ETA: 0s - loss: 0.5986 - accuracy: 0.8100\n",
      "Epoch 8: val_accuracy did not improve from 0.07143\n",
      "165/165 [==============================] - 1s 4ms/step - loss: 0.5977 - accuracy: 0.8099 - val_loss: 8.0283 - val_accuracy: 0.0325\n",
      "Epoch 9/200\n",
      "156/165 [===========================>..] - ETA: 0s - loss: 0.5320 - accuracy: 0.8357\n",
      "Epoch 9: val_accuracy did not improve from 0.07143\n",
      "165/165 [==============================] - 1s 3ms/step - loss: 0.5328 - accuracy: 0.8354 - val_loss: 8.5275 - val_accuracy: 0.0227\n",
      "Epoch 10/200\n",
      "164/165 [============================>.] - ETA: 0s - loss: 0.5027 - accuracy: 0.8464\n",
      "Epoch 10: val_accuracy did not improve from 0.07143\n",
      "165/165 [==============================] - 1s 4ms/step - loss: 0.5024 - accuracy: 0.8464 - val_loss: 8.8001 - val_accuracy: 0.0227\n",
      "Epoch 11/200\n",
      "159/165 [===========================>..] - ETA: 0s - loss: 0.4738 - accuracy: 0.8518\n",
      "Epoch 11: val_accuracy did not improve from 0.07143\n",
      "165/165 [==============================] - 1s 4ms/step - loss: 0.4703 - accuracy: 0.8528 - val_loss: 9.4342 - val_accuracy: 0.0227\n",
      "Epoch 12/200\n",
      "162/165 [============================>.] - ETA: 0s - loss: 0.4739 - accuracy: 0.8530\n",
      "Epoch 12: val_accuracy did not improve from 0.07143\n",
      "165/165 [==============================] - 1s 4ms/step - loss: 0.4745 - accuracy: 0.8520 - val_loss: 9.3357 - val_accuracy: 0.0227\n",
      "Epoch 13/200\n",
      "159/165 [===========================>..] - ETA: 0s - loss: 0.4308 - accuracy: 0.8616\n",
      "Epoch 13: val_accuracy did not improve from 0.07143\n",
      "165/165 [==============================] - 1s 4ms/step - loss: 0.4259 - accuracy: 0.8634 - val_loss: 9.8152 - val_accuracy: 0.0227\n",
      "Epoch 14/200\n",
      "164/165 [============================>.] - ETA: 0s - loss: 0.4212 - accuracy: 0.8731\n",
      "Epoch 14: val_accuracy did not improve from 0.07143\n",
      "165/165 [==============================] - 1s 4ms/step - loss: 0.4211 - accuracy: 0.8733 - val_loss: 10.1948 - val_accuracy: 0.0227\n",
      "Epoch 15/200\n",
      "158/165 [===========================>..] - ETA: 0s - loss: 0.4049 - accuracy: 0.8738\n",
      "Epoch 15: val_accuracy did not improve from 0.07143\n",
      "165/165 [==============================] - 1s 3ms/step - loss: 0.4042 - accuracy: 0.8744 - val_loss: 10.4393 - val_accuracy: 0.0195\n",
      "Epoch 16/200\n",
      "165/165 [==============================] - ETA: 0s - loss: 0.3853 - accuracy: 0.8813\n",
      "Epoch 16: val_accuracy did not improve from 0.07143\n",
      "165/165 [==============================] - 1s 4ms/step - loss: 0.3853 - accuracy: 0.8813 - val_loss: 11.0696 - val_accuracy: 0.0162\n",
      "Epoch 17/200\n",
      "153/165 [==========================>...] - ETA: 0s - loss: 0.3598 - accuracy: 0.8832\n",
      "Epoch 17: val_accuracy did not improve from 0.07143\n",
      "165/165 [==============================] - 1s 3ms/step - loss: 0.3683 - accuracy: 0.8824 - val_loss: 11.3834 - val_accuracy: 0.0195\n",
      "Epoch 18/200\n",
      "152/165 [==========================>...] - ETA: 0s - loss: 0.3818 - accuracy: 0.8812\n",
      "Epoch 18: val_accuracy did not improve from 0.07143\n",
      "165/165 [==============================] - 1s 3ms/step - loss: 0.3746 - accuracy: 0.8854 - val_loss: 11.0342 - val_accuracy: 0.0195\n",
      "Epoch 19/200\n",
      "152/165 [==========================>...] - ETA: 0s - loss: 0.3562 - accuracy: 0.8923\n",
      "Epoch 19: val_accuracy did not improve from 0.07143\n",
      "165/165 [==============================] - 1s 4ms/step - loss: 0.3566 - accuracy: 0.8934 - val_loss: 11.9990 - val_accuracy: 0.0227\n",
      "Epoch 20/200\n",
      "162/165 [============================>.] - ETA: 0s - loss: 0.3480 - accuracy: 0.8931\n",
      "Epoch 20: val_accuracy did not improve from 0.07143\n",
      "165/165 [==============================] - 1s 4ms/step - loss: 0.3470 - accuracy: 0.8934 - val_loss: 11.9509 - val_accuracy: 0.0162\n",
      "Epoch 21/200\n",
      "158/165 [===========================>..] - ETA: 0s - loss: 0.3544 - accuracy: 0.8944\n",
      "Epoch 21: val_accuracy did not improve from 0.07143\n",
      "165/165 [==============================] - 1s 3ms/step - loss: 0.3503 - accuracy: 0.8949 - val_loss: 12.1919 - val_accuracy: 0.0227\n",
      "Epoch 22/200\n",
      "160/165 [============================>.] - ETA: 0s - loss: 0.3292 - accuracy: 0.8961\n",
      "Epoch 22: val_accuracy did not improve from 0.07143\n",
      "165/165 [==============================] - 1s 3ms/step - loss: 0.3257 - accuracy: 0.8983 - val_loss: 12.4388 - val_accuracy: 0.0162\n"
     ]
    }
   ],
   "source": [
    "inputs = tf.keras.Input(shape=(99))\n",
    "layer = keras.layers.Dense(128, activation=tf.nn.relu6)(inputs)\n",
    "layer = keras.layers.Dropout(0.5)(layer)\n",
    "layer = keras.layers.Dense(64, activation=tf.nn.relu6)(layer)\n",
    "layer = keras.layers.Dropout(0.5)(layer)\n",
    "outputs = keras.layers.Dense(len(class_names), activation=\"softmax\")(layer)\n",
    "\n",
    "model = keras.Model(inputs, outputs)\n",
    "\n",
    "\n",
    "model.compile(\n",
    "    optimizer='adam',\n",
    "    loss=tf.keras.losses.CategoricalCrossentropy(),\n",
    "    metrics=['accuracy']\n",
    ")\n",
    "\n",
    "# Add a checkpoint callback to store the checkpoint that has the highest validation accuracy.\n",
    "checkpoint_path = \"weights.best.hdf5\"\n",
    "checkpoint = keras.callbacks.ModelCheckpoint(checkpoint_path,\n",
    "                             monitor='val_accuracy',\n",
    "                             verbose=1,\n",
    "                             save_best_only=True,\n",
    "                             mode='max')\n",
    "earlystopping = keras.callbacks.EarlyStopping(monitor='val_accuracy', patience=20)\n",
    "print(y_train)\n",
    "\n",
    "# Start training\n",
    "history = model.fit(processed_X_train, y_train,\n",
    "                    epochs=200,\n",
    "                    batch_size=16,\n",
    "                    validation_data=(processed_X_val, y_val),\n",
    "                    callbacks=[checkpoint, earlystopping])"
   ]
  }
 ],
 "metadata": {
  "kernelspec": {
   "display_name": "Python 3 (ipykernel)",
   "language": "python",
   "name": "python3"
  },
  "language_info": {
   "codemirror_mode": {
    "name": "ipython",
    "version": 3
   },
   "file_extension": ".py",
   "mimetype": "text/x-python",
   "name": "python",
   "nbconvert_exporter": "python",
   "pygments_lexer": "ipython3",
   "version": "3.9.12"
  }
 },
 "nbformat": 4,
 "nbformat_minor": 5
}
