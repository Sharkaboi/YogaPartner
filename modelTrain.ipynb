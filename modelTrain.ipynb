{
 "cells": [
  {
   "cell_type": "markdown",
   "id": "cf7c6760",
   "metadata": {},
   "source": [
    "# YogaPartner\n",
    "\n",
    "Our datasets are in\n",
    "- `.\\data\\v1`\n",
    "- `.\\data\\v2`\n",
    "\n",
    "Our frontend code is in `.\\android`\n",
    "\n",
    "Our generated data goes in `.\\intermediates`"
   ]
  },
  {
   "cell_type": "code",
   "execution_count": 1,
   "id": "c20b9e55",
   "metadata": {},
   "outputs": [],
   "source": [
    "import os\n",
    "import matplotlib.pyplot as plt\n",
    "from pathlib import Path\n",
    "\n",
    "version = 2"
   ]
  },
  {
   "cell_type": "markdown",
   "id": "80dffb78",
   "metadata": {},
   "source": [
    "## Global functions"
   ]
  },
  {
   "cell_type": "code",
   "execution_count": 2,
   "id": "91c1808f",
   "metadata": {},
   "outputs": [],
   "source": [
    "def getPath():\n",
    "    return r\".\\data\\v\" + str(version)\n",
    "\n",
    "def getClasses():\n",
    "    path = getPath()\n",
    "    return os.listdir(path)\n",
    "\n",
    "def getPathOfClass(className):\n",
    "    path = getPath()\n",
    "    return os.path.join(path, className)"
   ]
  },
  {
   "cell_type": "markdown",
   "id": "8039da69",
   "metadata": {},
   "source": [
    "## Dataset stats"
   ]
  },
  {
   "cell_type": "code",
   "execution_count": 3,
   "id": "1e1e5a38",
   "metadata": {},
   "outputs": [
    {
     "name": "stdout",
     "output_type": "stream",
     "text": [
      "Dataset frequency distribution\n",
      "adho_mukha_shvanasana : 435\n",
      "bhujangasana : 668\n",
      "bidalasana : 315\n",
      "phalakasana : 145\n",
      "ustrasana : 66\n",
      "utkatasana : 226\n",
      "utkata_konasana : 209\n",
      "vasisthasana : 148\n",
      "virabhadrasana_i : 221\n",
      "virabhadrasana_ii : 389\n",
      "vrikshasana : 315\n",
      "\n",
      "Image type frequency distribution\n",
      ".jpg : 3094\n",
      ".jpeg : 43\n",
      "\n"
     ]
    }
   ],
   "source": [
    "def visualizeDataSet():\n",
    "    classFolders = getClasses()\n",
    "    counts = []\n",
    "    imageTypes = {}\n",
    "    for classFolder in classFolders:\n",
    "        images = os.listdir(getPathOfClass(classFolder))\n",
    "        count = len(images)\n",
    "        counts.append(count)\n",
    "        for image in images:\n",
    "            image_path = os.path.join(getPathOfClass(classFolder), image)\n",
    "            p = Path(image_path)\n",
    "            ext = p.suffix\n",
    "            imageTypes[ext] = imageTypes.get(ext, 0) + 1\n",
    "\n",
    "    print(\"Dataset frequency distribution\")\n",
    "    for i in range(len(classFolders)):\n",
    "        className = classFolders[i]\n",
    "        count = counts[i]\n",
    "        print(className + \" : \" + str(count))\n",
    "\n",
    "    print()\n",
    "\n",
    "    print(\"Image type frequency distribution\")\n",
    "    for key in imageTypes.keys():\n",
    "        count = imageTypes[key]\n",
    "        print(key + \" : \" + str(count))\n",
    "\n",
    "    print()\n",
    "    \n",
    "visualizeDataSet()"
   ]
  },
  {
   "cell_type": "markdown",
   "id": "d6c39e21",
   "metadata": {},
   "source": [
    "## Cleaning Data"
   ]
  },
  {
   "cell_type": "markdown",
   "id": "d29d2923",
   "metadata": {},
   "source": [
    "### Convert to Jpeg"
   ]
  },
  {
   "cell_type": "code",
   "execution_count": 4,
   "id": "ea9080ab",
   "metadata": {},
   "outputs": [
    {
     "name": "stdout",
     "output_type": "stream",
     "text": [
      "Converted Webp and PNG\n"
     ]
    }
   ],
   "source": [
    "from PIL import Image\n",
    "import os\n",
    "import re\n",
    "from pathlib import Path\n",
    "\n",
    "classFolders = getClasses()\n",
    "for className in classFolders:\n",
    "    class_path = getPathOfClass(className)\n",
    "    files = os.listdir(class_path)\n",
    "    for f in files:\n",
    "        old_path = os.path.join(class_path, f)\n",
    "        p = Path(old_path)\n",
    "        ext = p.suffix\n",
    "        if ext == \".webp\":\n",
    "            print(\"Converting \" + f)\n",
    "            new_file_name = f\"{p.stem}.jepg\"\n",
    "            im = Image.open(old_path).convert(\"RGB\")\n",
    "            new_file_path = os.path.join(class_path, new_file_name)\n",
    "            print(new_file_path)\n",
    "            im.save(new_file_path, \"jepg\")\n",
    "            print(\"Removing \" + f)\n",
    "            os.remove(old_path)\n",
    "        if ext == \".png\":\n",
    "            print(\"Converting \" + f)\n",
    "            new_file_name = f\"{p.stem}.jpg\"\n",
    "            im = Image.open(old_path).convert(\"RGB\")\n",
    "            new_file_path = os.path.join(class_path, new_file_name)\n",
    "            print(new_file_path)\n",
    "            im.save(new_file_path)\n",
    "            print(\"Removing \" + f)\n",
    "            os.remove(old_path)\n",
    "        if ext == \".JPG\":\n",
    "            print(\"Converting \" + f)\n",
    "            new_file_name = f\"{p.stem}.jpg\"\n",
    "            im = Image.open(old_path).convert(\"RGB\")\n",
    "            new_file_path = os.path.join(class_path, new_file_name)\n",
    "            print(new_file_path)\n",
    "            im.save(new_file_path)\n",
    "            print(\"Removing \" + f)\n",
    "            os.remove(old_path)\n",
    "print(\"Converted Webp and PNG\")"
   ]
  },
  {
   "cell_type": "markdown",
   "id": "42a4ce11",
   "metadata": {},
   "source": [
    "### Finding duplicate images"
   ]
  },
  {
   "cell_type": "code",
   "execution_count": null,
   "id": "6d15895d",
   "metadata": {},
   "outputs": [],
   "source": [
    "from difPy import dif\n",
    "import tqdm\n",
    "\n",
    "classFolders = getClasses()\n",
    "for className in tqdm.tqdm(classFolders, position=0):\n",
    "    class_path = getPathOfClass(className)\n",
    "    search = dif(class_path, delete=True)\n",
    "print(\"Completed duplicate image search\")"
   ]
  },
  {
   "cell_type": "markdown",
   "id": "cb47bf0d",
   "metadata": {},
   "source": [
    "### Cleaning up folder names"
   ]
  },
  {
   "cell_type": "code",
   "execution_count": 15,
   "id": "5b6485e8",
   "metadata": {},
   "outputs": [
    {
     "name": "stdout",
     "output_type": "stream",
     "text": [
      "Renamed class names\n"
     ]
    }
   ],
   "source": [
    "import os\n",
    "import re\n",
    "from pathlib import Path\n",
    "\n",
    "classFolders = getClasses()\n",
    "for className in classFolders:\n",
    "    old_path = getPathOfClass(className)\n",
    "    new_name = re.sub(r\"\\s+\", \"_\", className)\n",
    "    if new_name != className:\n",
    "        print(\"Renaming \" + className)\n",
    "    new_path = os.path.join(getPath(), new_name)\n",
    "    os.rename(old_path, new_path)\n",
    "print(\"Renamed class names\")"
   ]
  },
  {
   "cell_type": "markdown",
   "id": "88827041",
   "metadata": {},
   "source": [
    "### Removing non supported images"
   ]
  },
  {
   "cell_type": "code",
   "execution_count": 16,
   "id": "301cc331",
   "metadata": {},
   "outputs": [
    {
     "name": "stdout",
     "output_type": "stream",
     "text": [
      "Finished removing non suporrted images\n"
     ]
    }
   ],
   "source": [
    "from PIL import Image\n",
    "import os\n",
    "import re\n",
    "from pathlib import Path\n",
    "\n",
    "classFolders = getClasses()\n",
    "for className in classFolders:\n",
    "    class_path = getPathOfClass(className)\n",
    "    files = os.listdir(class_path)\n",
    "    count = 1\n",
    "    for f in files:\n",
    "        f_path = os.path.join(class_path, f)\n",
    "        if not (f.endswith(\".jpg\") or f.endswith(\".jpeg\")):\n",
    "            os.remove(f_path)\n",
    "            print(\"Removed \" + f)\n",
    "print(\"Finished removing non suporrted images\")"
   ]
  },
  {
   "cell_type": "markdown",
   "id": "01b27cfc",
   "metadata": {},
   "source": [
    "### Cleaning up file names"
   ]
  },
  {
   "cell_type": "code",
   "execution_count": 22,
   "id": "a540ecaf",
   "metadata": {},
   "outputs": [
    {
     "name": "stdout",
     "output_type": "stream",
     "text": [
      "Renaming adho_mukha_shvanasana_sharkaboi1.jpg\n",
      "Renaming adho_mukha_shvanasana_sharkaboi10.jpg\n",
      "Renaming adho_mukha_shvanasana_sharkaboi100.jpg\n",
      "Renaming adho_mukha_shvanasana_sharkaboi101.jpg\n",
      "Renaming adho_mukha_shvanasana_sharkaboi102.jpg\n",
      "Renaming adho_mukha_shvanasana_sharkaboi103.jpg\n",
      "Renaming adho_mukha_shvanasana_sharkaboi104.jpg\n",
      "Renaming adho_mukha_shvanasana_sharkaboi105.jpg\n",
      "Renaming adho_mukha_shvanasana_sharkaboi106.jpg\n",
      "Renaming adho_mukha_shvanasana_sharkaboi107.jpg\n",
      "Renaming adho_mukha_shvanasana_sharkaboi108.jpg\n",
      "Renaming adho_mukha_shvanasana_sharkaboi109.jpg\n",
      "Renaming adho_mukha_shvanasana_sharkaboi11.jpg\n",
      "Renaming adho_mukha_shvanasana_sharkaboi110.jpg\n",
      "Renaming adho_mukha_shvanasana_sharkaboi111.jpg\n",
      "Renaming adho_mukha_shvanasana_sharkaboi112.jpg\n",
      "Renaming adho_mukha_shvanasana_sharkaboi113.jpg\n",
      "Renaming adho_mukha_shvanasana_sharkaboi114.jpg\n",
      "Renaming adho_mukha_shvanasana_sharkaboi115.jpg\n",
      "Renaming adho_mukha_shvanasana_sharkaboi116.jpg\n",
      "Renaming adho_mukha_shvanasana_sharkaboi117.jpg\n",
      "Renaming adho_mukha_shvanasana_sharkaboi118.jpg\n",
      "Renaming adho_mukha_shvanasana_sharkaboi119.jpg\n",
      "Renaming adho_mukha_shvanasana_sharkaboi12.jpg\n",
      "Renaming adho_mukha_shvanasana_sharkaboi120.jpg\n",
      "Renaming adho_mukha_shvanasana_sharkaboi121.jpg\n",
      "Renaming adho_mukha_shvanasana_sharkaboi122.jpg\n",
      "Renaming adho_mukha_shvanasana_sharkaboi123.jpg\n",
      "Renaming adho_mukha_shvanasana_sharkaboi124.jpg\n",
      "Renaming adho_mukha_shvanasana_sharkaboi125.jpg\n",
      "Renaming adho_mukha_shvanasana_sharkaboi126.jpg\n",
      "Renaming adho_mukha_shvanasana_sharkaboi127.jpg\n",
      "Renaming adho_mukha_shvanasana_sharkaboi128.jpg\n",
      "Renaming adho_mukha_shvanasana_sharkaboi129.jpg\n",
      "Renaming adho_mukha_shvanasana_sharkaboi13.jpg\n",
      "Renaming adho_mukha_shvanasana_sharkaboi130.jpg\n",
      "Renaming adho_mukha_shvanasana_sharkaboi131.jpg\n",
      "Renaming adho_mukha_shvanasana_sharkaboi132.jpg\n",
      "Renaming adho_mukha_shvanasana_sharkaboi133.jpg\n",
      "Renaming adho_mukha_shvanasana_sharkaboi134.jpg\n",
      "Renaming adho_mukha_shvanasana_sharkaboi135.jpg\n",
      "Renaming adho_mukha_shvanasana_sharkaboi136.jpg\n",
      "Renaming adho_mukha_shvanasana_sharkaboi137.jpg\n",
      "Renaming adho_mukha_shvanasana_sharkaboi138.jpg\n",
      "Renaming adho_mukha_shvanasana_sharkaboi139.jpg\n",
      "Renaming adho_mukha_shvanasana_sharkaboi14.jpg\n",
      "Renaming adho_mukha_shvanasana_sharkaboi140.jpg\n",
      "Renaming adho_mukha_shvanasana_sharkaboi141.jpg\n",
      "Renaming adho_mukha_shvanasana_sharkaboi142.jpg\n",
      "Renaming adho_mukha_shvanasana_sharkaboi143.jpg\n",
      "Renaming adho_mukha_shvanasana_sharkaboi144.jpg\n",
      "Renaming adho_mukha_shvanasana_sharkaboi145.jpg\n",
      "Renaming adho_mukha_shvanasana_sharkaboi146.jpg\n",
      "Renaming adho_mukha_shvanasana_sharkaboi147.jpg\n",
      "Renaming adho_mukha_shvanasana_sharkaboi148.jpg\n",
      "Renaming adho_mukha_shvanasana_sharkaboi149.jpg\n",
      "Renaming adho_mukha_shvanasana_sharkaboi15.jpg\n",
      "Renaming adho_mukha_shvanasana_sharkaboi150.jpg\n",
      "Renaming adho_mukha_shvanasana_sharkaboi151.jpg\n",
      "Renaming adho_mukha_shvanasana_sharkaboi152.jpg\n",
      "Renaming adho_mukha_shvanasana_sharkaboi153.jpg\n",
      "Renaming adho_mukha_shvanasana_sharkaboi154.jpg\n",
      "Renaming adho_mukha_shvanasana_sharkaboi155.jpg\n",
      "Renaming adho_mukha_shvanasana_sharkaboi156.jpg\n",
      "Renaming adho_mukha_shvanasana_sharkaboi157.jpg\n",
      "Renaming adho_mukha_shvanasana_sharkaboi158.jpg\n",
      "Renaming adho_mukha_shvanasana_sharkaboi159.jpg\n",
      "Renaming adho_mukha_shvanasana_sharkaboi16.jpg\n",
      "Renaming adho_mukha_shvanasana_sharkaboi160.jpg\n",
      "Renaming adho_mukha_shvanasana_sharkaboi161.jpg\n",
      "Renaming adho_mukha_shvanasana_sharkaboi162.jpg\n",
      "Renaming adho_mukha_shvanasana_sharkaboi163.jpg\n",
      "Renaming adho_mukha_shvanasana_sharkaboi164.jpg\n",
      "Renaming adho_mukha_shvanasana_sharkaboi165.jpg\n",
      "Renaming adho_mukha_shvanasana_sharkaboi166.jpg\n",
      "Renaming adho_mukha_shvanasana_sharkaboi167.jpg\n",
      "Renaming adho_mukha_shvanasana_sharkaboi168.jpg\n",
      "Renaming adho_mukha_shvanasana_sharkaboi169.jpg\n",
      "Renaming adho_mukha_shvanasana_sharkaboi17.jpg\n",
      "Renaming adho_mukha_shvanasana_sharkaboi170.jpg\n",
      "Renaming adho_mukha_shvanasana_sharkaboi171.jpg\n",
      "Renaming adho_mukha_shvanasana_sharkaboi172.jpg\n",
      "Renaming adho_mukha_shvanasana_sharkaboi173.jpg\n",
      "Renaming adho_mukha_shvanasana_sharkaboi174.jpg\n",
      "Renaming adho_mukha_shvanasana_sharkaboi175.jpg\n",
      "Renaming adho_mukha_shvanasana_sharkaboi176.jpg\n",
      "Renaming adho_mukha_shvanasana_sharkaboi177.jpg\n",
      "Renaming adho_mukha_shvanasana_sharkaboi178.jpg\n",
      "Renaming adho_mukha_shvanasana_sharkaboi179.jpg\n",
      "Renaming adho_mukha_shvanasana_sharkaboi18.jpg\n",
      "Renaming adho_mukha_shvanasana_sharkaboi180.jpg\n",
      "Renaming adho_mukha_shvanasana_sharkaboi181.jpg\n",
      "Renaming adho_mukha_shvanasana_sharkaboi182.jpg\n",
      "Renaming adho_mukha_shvanasana_sharkaboi183.jpg\n",
      "Renaming adho_mukha_shvanasana_sharkaboi184.jpg\n",
      "Renaming adho_mukha_shvanasana_sharkaboi185.jpg\n",
      "Renaming adho_mukha_shvanasana_sharkaboi186.jpg\n",
      "Renaming adho_mukha_shvanasana_sharkaboi187.jpg\n",
      "Renaming adho_mukha_shvanasana_sharkaboi188.jpg\n",
      "Renaming adho_mukha_shvanasana_sharkaboi189.jpg\n",
      "Renaming adho_mukha_shvanasana_sharkaboi19.jpg\n",
      "Renaming adho_mukha_shvanasana_sharkaboi190.jpg\n",
      "Renaming adho_mukha_shvanasana_sharkaboi191.jpg\n",
      "Renaming adho_mukha_shvanasana_sharkaboi192.jpg\n",
      "Renaming adho_mukha_shvanasana_sharkaboi193.jpg\n",
      "Renaming adho_mukha_shvanasana_sharkaboi194.jpg\n",
      "Renaming adho_mukha_shvanasana_sharkaboi195.jpg\n",
      "Renaming adho_mukha_shvanasana_sharkaboi196.jpg\n",
      "Renaming adho_mukha_shvanasana_sharkaboi197.jpg\n",
      "Renaming adho_mukha_shvanasana_sharkaboi198.jpg\n",
      "Renaming adho_mukha_shvanasana_sharkaboi199.jpg\n",
      "Renaming adho_mukha_shvanasana_sharkaboi2.jpg\n",
      "Renaming adho_mukha_shvanasana_sharkaboi20.jpg\n",
      "Renaming adho_mukha_shvanasana_sharkaboi200.jpg\n",
      "Renaming adho_mukha_shvanasana_sharkaboi201.jpg\n",
      "Renaming adho_mukha_shvanasana_sharkaboi202.jpg\n",
      "Renaming adho_mukha_shvanasana_sharkaboi203.jpg\n",
      "Renaming adho_mukha_shvanasana_sharkaboi204.jpg\n",
      "Renaming adho_mukha_shvanasana_sharkaboi205.jpg\n",
      "Renaming adho_mukha_shvanasana_sharkaboi206.jpg\n",
      "Renaming adho_mukha_shvanasana_sharkaboi207.jpg\n",
      "Renaming adho_mukha_shvanasana_sharkaboi208.jpg\n",
      "Renaming adho_mukha_shvanasana_sharkaboi209.jpg\n",
      "Renaming adho_mukha_shvanasana_sharkaboi21.jpg\n",
      "Renaming adho_mukha_shvanasana_sharkaboi210.jpg\n",
      "Renaming adho_mukha_shvanasana_sharkaboi211.jpg\n",
      "Renaming adho_mukha_shvanasana_sharkaboi212.jpg\n",
      "Renaming adho_mukha_shvanasana_sharkaboi213.jpg\n",
      "Renaming adho_mukha_shvanasana_sharkaboi214.jpg\n",
      "Renaming adho_mukha_shvanasana_sharkaboi215.jpg\n",
      "Renaming adho_mukha_shvanasana_sharkaboi216.jpg\n",
      "Renaming adho_mukha_shvanasana_sharkaboi217.jpg\n",
      "Renaming adho_mukha_shvanasana_sharkaboi218.jpg\n",
      "Renaming adho_mukha_shvanasana_sharkaboi219.jpg\n",
      "Renaming adho_mukha_shvanasana_sharkaboi22.jpg\n",
      "Renaming adho_mukha_shvanasana_sharkaboi220.jpg\n",
      "Renaming adho_mukha_shvanasana_sharkaboi221.jpg\n",
      "Renaming adho_mukha_shvanasana_sharkaboi222.jpg\n",
      "Renaming adho_mukha_shvanasana_sharkaboi223.jpg\n",
      "Renaming adho_mukha_shvanasana_sharkaboi224.jpg\n",
      "Renaming adho_mukha_shvanasana_sharkaboi225.jpg\n",
      "Renaming adho_mukha_shvanasana_sharkaboi226.jpg\n",
      "Renaming adho_mukha_shvanasana_sharkaboi227.jpg\n",
      "Renaming adho_mukha_shvanasana_sharkaboi228.jpg\n",
      "Renaming adho_mukha_shvanasana_sharkaboi229.jpg\n",
      "Renaming adho_mukha_shvanasana_sharkaboi23.jpg\n",
      "Renaming adho_mukha_shvanasana_sharkaboi230.jpg\n",
      "Renaming adho_mukha_shvanasana_sharkaboi231.jpg\n",
      "Renaming adho_mukha_shvanasana_sharkaboi232.jpg\n",
      "Renaming adho_mukha_shvanasana_sharkaboi233.jpg\n",
      "Renaming adho_mukha_shvanasana_sharkaboi234.jpg\n",
      "Renaming adho_mukha_shvanasana_sharkaboi235.jpg\n",
      "Renaming adho_mukha_shvanasana_sharkaboi236.jpg\n",
      "Renaming adho_mukha_shvanasana_sharkaboi237.jpg\n",
      "Renaming adho_mukha_shvanasana_sharkaboi238.jpg\n",
      "Renaming adho_mukha_shvanasana_sharkaboi239.jpg\n",
      "Renaming adho_mukha_shvanasana_sharkaboi24.jpg\n",
      "Renaming adho_mukha_shvanasana_sharkaboi240.jpg\n",
      "Renaming adho_mukha_shvanasana_sharkaboi241.jpg\n",
      "Renaming adho_mukha_shvanasana_sharkaboi242.jpg\n",
      "Renaming adho_mukha_shvanasana_sharkaboi243.jpg\n",
      "Renaming adho_mukha_shvanasana_sharkaboi244.jpg\n",
      "Renaming adho_mukha_shvanasana_sharkaboi245.jpg\n",
      "Renaming adho_mukha_shvanasana_sharkaboi246.jpg\n",
      "Renaming adho_mukha_shvanasana_sharkaboi247.jpg\n",
      "Renaming adho_mukha_shvanasana_sharkaboi248.jpg\n",
      "Renaming adho_mukha_shvanasana_sharkaboi249.jpg\n",
      "Renaming adho_mukha_shvanasana_sharkaboi25.jpg\n",
      "Renaming adho_mukha_shvanasana_sharkaboi250.jpg\n",
      "Renaming adho_mukha_shvanasana_sharkaboi251.jpg\n",
      "Renaming adho_mukha_shvanasana_sharkaboi252.jpg\n",
      "Renaming adho_mukha_shvanasana_sharkaboi253.jpg\n",
      "Renaming adho_mukha_shvanasana_sharkaboi254.jpg\n",
      "Renaming adho_mukha_shvanasana_sharkaboi255.jpg\n",
      "Renaming adho_mukha_shvanasana_sharkaboi256.jpg\n",
      "Renaming adho_mukha_shvanasana_sharkaboi257.jpg\n",
      "Renaming adho_mukha_shvanasana_sharkaboi258.jpg\n",
      "Renaming adho_mukha_shvanasana_sharkaboi259.jpg\n",
      "Renaming adho_mukha_shvanasana_sharkaboi26.jpg\n",
      "Renaming adho_mukha_shvanasana_sharkaboi260.jpg\n",
      "Renaming adho_mukha_shvanasana_sharkaboi261.jpg\n",
      "Renaming adho_mukha_shvanasana_sharkaboi262.jpg\n",
      "Renaming adho_mukha_shvanasana_sharkaboi263.jpg\n",
      "Renaming adho_mukha_shvanasana_sharkaboi264.jpg\n",
      "Renaming adho_mukha_shvanasana_sharkaboi265.jpg\n",
      "Renaming adho_mukha_shvanasana_sharkaboi266.jpg\n",
      "Renaming adho_mukha_shvanasana_sharkaboi267.jpg\n",
      "Renaming adho_mukha_shvanasana_sharkaboi268.jpg\n",
      "Renaming adho_mukha_shvanasana_sharkaboi269.jpg\n",
      "Renaming adho_mukha_shvanasana_sharkaboi27.jpg\n",
      "Renaming adho_mukha_shvanasana_sharkaboi270.jpg\n",
      "Renaming adho_mukha_shvanasana_sharkaboi271.jpg\n",
      "Renaming adho_mukha_shvanasana_sharkaboi272.jpg\n",
      "Renaming adho_mukha_shvanasana_sharkaboi273.jpg\n",
      "Renaming adho_mukha_shvanasana_sharkaboi274.jpg\n",
      "Renaming adho_mukha_shvanasana_sharkaboi275.jpg\n",
      "Renaming adho_mukha_shvanasana_sharkaboi276.jpg\n",
      "Renaming adho_mukha_shvanasana_sharkaboi277.jpg\n",
      "Renaming adho_mukha_shvanasana_sharkaboi278.jpg\n",
      "Renaming adho_mukha_shvanasana_sharkaboi279.jpg\n",
      "Renaming adho_mukha_shvanasana_sharkaboi28.jpg\n",
      "Renaming adho_mukha_shvanasana_sharkaboi280.jpg\n",
      "Renaming adho_mukha_shvanasana_sharkaboi281.jpg\n",
      "Renaming adho_mukha_shvanasana_sharkaboi282.jpg\n",
      "Renaming adho_mukha_shvanasana_sharkaboi283.jpg\n",
      "Renaming adho_mukha_shvanasana_sharkaboi284.jpg\n",
      "Renaming adho_mukha_shvanasana_sharkaboi285.jpg\n",
      "Renaming adho_mukha_shvanasana_sharkaboi286.jpg\n",
      "Renaming adho_mukha_shvanasana_sharkaboi287.jpg\n",
      "Renaming adho_mukha_shvanasana_sharkaboi288.jpg\n",
      "Renaming adho_mukha_shvanasana_sharkaboi289.jpg\n",
      "Renaming adho_mukha_shvanasana_sharkaboi29.jpg\n",
      "Renaming adho_mukha_shvanasana_sharkaboi290.jpg\n",
      "Renaming adho_mukha_shvanasana_sharkaboi291.jpg\n",
      "Renaming adho_mukha_shvanasana_sharkaboi292.jpg\n",
      "Renaming adho_mukha_shvanasana_sharkaboi293.jpg\n",
      "Renaming adho_mukha_shvanasana_sharkaboi294.jpg\n",
      "Renaming adho_mukha_shvanasana_sharkaboi295.jpg\n",
      "Renaming adho_mukha_shvanasana_sharkaboi296.jpg\n",
      "Renaming adho_mukha_shvanasana_sharkaboi297.jpg\n",
      "Renaming adho_mukha_shvanasana_sharkaboi298.jpg\n",
      "Renaming adho_mukha_shvanasana_sharkaboi299.jpg\n",
      "Renaming adho_mukha_shvanasana_sharkaboi3.jpg\n",
      "Renaming adho_mukha_shvanasana_sharkaboi30.jpg\n",
      "Renaming adho_mukha_shvanasana_sharkaboi300.jpg\n",
      "Renaming adho_mukha_shvanasana_sharkaboi301.jpg\n",
      "Renaming adho_mukha_shvanasana_sharkaboi302.jpg\n",
      "Renaming adho_mukha_shvanasana_sharkaboi303.jpg\n",
      "Renaming adho_mukha_shvanasana_sharkaboi304.jpg\n",
      "Renaming adho_mukha_shvanasana_sharkaboi305.jpg\n",
      "Renaming adho_mukha_shvanasana_sharkaboi306.jpg\n",
      "Renaming adho_mukha_shvanasana_sharkaboi307.jpg\n",
      "Renaming adho_mukha_shvanasana_sharkaboi308.jpg\n",
      "Renaming adho_mukha_shvanasana_sharkaboi309.jpg\n",
      "Renaming adho_mukha_shvanasana_sharkaboi31.jpg\n",
      "Renaming adho_mukha_shvanasana_sharkaboi310.jpg\n",
      "Renaming adho_mukha_shvanasana_sharkaboi311.jpg\n",
      "Renaming adho_mukha_shvanasana_sharkaboi312.jpg\n",
      "Renaming adho_mukha_shvanasana_sharkaboi313.jpg\n",
      "Renaming adho_mukha_shvanasana_sharkaboi314.jpg\n",
      "Renaming adho_mukha_shvanasana_sharkaboi315.jpg\n",
      "Renaming adho_mukha_shvanasana_sharkaboi316.jpg\n",
      "Renaming adho_mukha_shvanasana_sharkaboi317.jpg\n",
      "Renaming adho_mukha_shvanasana_sharkaboi318.jpg\n",
      "Renaming adho_mukha_shvanasana_sharkaboi319.jpg\n",
      "Renaming adho_mukha_shvanasana_sharkaboi32.jpg\n",
      "Renaming adho_mukha_shvanasana_sharkaboi320.jpg\n",
      "Renaming adho_mukha_shvanasana_sharkaboi321.jpg\n",
      "Renaming adho_mukha_shvanasana_sharkaboi322.jpg\n",
      "Renaming adho_mukha_shvanasana_sharkaboi323.jpg\n",
      "Renaming adho_mukha_shvanasana_sharkaboi324.jpg\n",
      "Renaming adho_mukha_shvanasana_sharkaboi325.jpg\n",
      "Renaming adho_mukha_shvanasana_sharkaboi326.jpg\n",
      "Renaming adho_mukha_shvanasana_sharkaboi327.jpg\n",
      "Renaming adho_mukha_shvanasana_sharkaboi328.jpg\n",
      "Renaming adho_mukha_shvanasana_sharkaboi329.jpg\n",
      "Renaming adho_mukha_shvanasana_sharkaboi33.jpg\n",
      "Renaming adho_mukha_shvanasana_sharkaboi330.jpg\n",
      "Renaming adho_mukha_shvanasana_sharkaboi331.jpg\n",
      "Renaming adho_mukha_shvanasana_sharkaboi332.jpg\n",
      "Renaming adho_mukha_shvanasana_sharkaboi333.jpg\n",
      "Renaming adho_mukha_shvanasana_sharkaboi334.jpg\n",
      "Renaming adho_mukha_shvanasana_sharkaboi335.jpg\n",
      "Renaming adho_mukha_shvanasana_sharkaboi336.jpg\n",
      "Renaming adho_mukha_shvanasana_sharkaboi337.jpg\n",
      "Renaming adho_mukha_shvanasana_sharkaboi338.jpg\n",
      "Renaming adho_mukha_shvanasana_sharkaboi339.jpg\n",
      "Renaming adho_mukha_shvanasana_sharkaboi34.jpg\n",
      "Renaming adho_mukha_shvanasana_sharkaboi340.jpg\n",
      "Renaming adho_mukha_shvanasana_sharkaboi341.jpg\n",
      "Renaming adho_mukha_shvanasana_sharkaboi342.jpg\n",
      "Renaming adho_mukha_shvanasana_sharkaboi343.jpg\n",
      "Renaming adho_mukha_shvanasana_sharkaboi344.jpg\n",
      "Renaming adho_mukha_shvanasana_sharkaboi345.jpg\n",
      "Renaming adho_mukha_shvanasana_sharkaboi346.jpg\n",
      "Renaming adho_mukha_shvanasana_sharkaboi347.jpg\n",
      "Renaming adho_mukha_shvanasana_sharkaboi348.jpg\n",
      "Renaming adho_mukha_shvanasana_sharkaboi349.jpg\n",
      "Renaming adho_mukha_shvanasana_sharkaboi35.jpg\n",
      "Renaming adho_mukha_shvanasana_sharkaboi350.jpg\n",
      "Renaming adho_mukha_shvanasana_sharkaboi351.jpg\n",
      "Renaming adho_mukha_shvanasana_sharkaboi352.jpg\n",
      "Renaming adho_mukha_shvanasana_sharkaboi353.jpg\n",
      "Renaming adho_mukha_shvanasana_sharkaboi354.jpg\n",
      "Renaming adho_mukha_shvanasana_sharkaboi355.jpg\n",
      "Renaming adho_mukha_shvanasana_sharkaboi356.jpg\n",
      "Renaming adho_mukha_shvanasana_sharkaboi357.jpg\n",
      "Renaming adho_mukha_shvanasana_sharkaboi358.jpg\n",
      "Renaming adho_mukha_shvanasana_sharkaboi359.jpg\n",
      "Renaming adho_mukha_shvanasana_sharkaboi36.jpg\n",
      "Renaming adho_mukha_shvanasana_sharkaboi360.jpg\n",
      "Renaming adho_mukha_shvanasana_sharkaboi361.jpg\n",
      "Renaming adho_mukha_shvanasana_sharkaboi362.jpg\n",
      "Renaming adho_mukha_shvanasana_sharkaboi363.jpg\n",
      "Renaming adho_mukha_shvanasana_sharkaboi364.jpg\n",
      "Renaming adho_mukha_shvanasana_sharkaboi365.jpg\n",
      "Renaming adho_mukha_shvanasana_sharkaboi366.jpg\n",
      "Renaming adho_mukha_shvanasana_sharkaboi367.jpg\n",
      "Renaming adho_mukha_shvanasana_sharkaboi368.jpg\n",
      "Renaming adho_mukha_shvanasana_sharkaboi369.jpg\n",
      "Renaming adho_mukha_shvanasana_sharkaboi37.jpg\n",
      "Renaming adho_mukha_shvanasana_sharkaboi370.jpg\n",
      "Renaming adho_mukha_shvanasana_sharkaboi371.jpg\n",
      "Renaming adho_mukha_shvanasana_sharkaboi372.jpg\n",
      "Renaming adho_mukha_shvanasana_sharkaboi373.jpg\n",
      "Renaming adho_mukha_shvanasana_sharkaboi374.jpg\n",
      "Renaming adho_mukha_shvanasana_sharkaboi375.jpg\n",
      "Renaming adho_mukha_shvanasana_sharkaboi376.jpg\n",
      "Renaming adho_mukha_shvanasana_sharkaboi377.jpg\n",
      "Renaming adho_mukha_shvanasana_sharkaboi378.jpg\n",
      "Renaming adho_mukha_shvanasana_sharkaboi379.jpg\n",
      "Renaming adho_mukha_shvanasana_sharkaboi38.jpg\n",
      "Renaming adho_mukha_shvanasana_sharkaboi380.jpg\n",
      "Renaming adho_mukha_shvanasana_sharkaboi381.jpg\n",
      "Renaming adho_mukha_shvanasana_sharkaboi382.jpg\n",
      "Renaming adho_mukha_shvanasana_sharkaboi383.jpg\n"
     ]
    },
    {
     "name": "stdout",
     "output_type": "stream",
     "text": [
      "Renaming adho_mukha_shvanasana_sharkaboi384.jpg\n",
      "Renaming adho_mukha_shvanasana_sharkaboi385.jpg\n",
      "Renaming adho_mukha_shvanasana_sharkaboi386.jpg\n",
      "Renaming adho_mukha_shvanasana_sharkaboi387.jpg\n",
      "Renaming adho_mukha_shvanasana_sharkaboi388.jpg\n",
      "Renaming adho_mukha_shvanasana_sharkaboi389.jpg\n",
      "Renaming adho_mukha_shvanasana_sharkaboi39.jpg\n",
      "Renaming adho_mukha_shvanasana_sharkaboi390.jpg\n",
      "Renaming adho_mukha_shvanasana_sharkaboi391.jpg\n",
      "Renaming adho_mukha_shvanasana_sharkaboi392.jpg\n",
      "Renaming adho_mukha_shvanasana_sharkaboi393.jpg\n",
      "Renaming adho_mukha_shvanasana_sharkaboi394.jpg\n",
      "Renaming adho_mukha_shvanasana_sharkaboi395.jpg\n",
      "Renaming adho_mukha_shvanasana_sharkaboi396.jpg\n",
      "Renaming adho_mukha_shvanasana_sharkaboi397.jpg\n",
      "Renaming adho_mukha_shvanasana_sharkaboi398.jpg\n",
      "Renaming adho_mukha_shvanasana_sharkaboi399.jpg\n",
      "Renaming adho_mukha_shvanasana_sharkaboi4.jpg\n",
      "Renaming adho_mukha_shvanasana_sharkaboi40.jpg\n",
      "Renaming adho_mukha_shvanasana_sharkaboi400.jpg\n",
      "Renaming adho_mukha_shvanasana_sharkaboi401.jpg\n",
      "Renaming adho_mukha_shvanasana_sharkaboi402.jpg\n",
      "Renaming adho_mukha_shvanasana_sharkaboi403.jpg\n",
      "Renaming adho_mukha_shvanasana_sharkaboi404.jpg\n",
      "Renaming adho_mukha_shvanasana_sharkaboi405.jpg\n",
      "Renaming adho_mukha_shvanasana_sharkaboi406.jpg\n",
      "Renaming adho_mukha_shvanasana_sharkaboi407.jpg\n",
      "Renaming adho_mukha_shvanasana_sharkaboi408.jpg\n",
      "Renaming adho_mukha_shvanasana_sharkaboi409.jpg\n",
      "Renaming adho_mukha_shvanasana_sharkaboi41.jpg\n",
      "Renaming adho_mukha_shvanasana_sharkaboi410.jpg\n",
      "Renaming adho_mukha_shvanasana_sharkaboi411.jpg\n",
      "Renaming adho_mukha_shvanasana_sharkaboi412.jpg\n",
      "Renaming adho_mukha_shvanasana_sharkaboi413.jpg\n",
      "Renaming adho_mukha_shvanasana_sharkaboi414.jpg\n",
      "Renaming adho_mukha_shvanasana_sharkaboi415.jpg\n",
      "Renaming adho_mukha_shvanasana_sharkaboi416.jpg\n",
      "Renaming adho_mukha_shvanasana_sharkaboi417.jpg\n",
      "Renaming adho_mukha_shvanasana_sharkaboi418.jpg\n",
      "Renaming adho_mukha_shvanasana_sharkaboi419.jpg\n",
      "Renaming adho_mukha_shvanasana_sharkaboi42.jpg\n",
      "Renaming adho_mukha_shvanasana_sharkaboi420.jpg\n",
      "Renaming adho_mukha_shvanasana_sharkaboi421.jpg\n",
      "Renaming adho_mukha_shvanasana_sharkaboi422.jpg\n",
      "Renaming adho_mukha_shvanasana_sharkaboi423.jpg\n",
      "Renaming adho_mukha_shvanasana_sharkaboi424.jpg\n",
      "Renaming adho_mukha_shvanasana_sharkaboi425.jpg\n",
      "Renaming adho_mukha_shvanasana_sharkaboi426.jpg\n",
      "Renaming adho_mukha_shvanasana_sharkaboi427.jpg\n",
      "Renaming adho_mukha_shvanasana_sharkaboi428.jpg\n",
      "Renaming adho_mukha_shvanasana_sharkaboi429.jpg\n",
      "Renaming adho_mukha_shvanasana_sharkaboi43.jpg\n",
      "Renaming adho_mukha_shvanasana_sharkaboi430.jpg\n",
      "Renaming adho_mukha_shvanasana_sharkaboi431.jpg\n",
      "Renaming adho_mukha_shvanasana_sharkaboi432.jpg\n",
      "Renaming adho_mukha_shvanasana_sharkaboi433.jpg\n",
      "Renaming adho_mukha_shvanasana_sharkaboi434.jpg\n",
      "Renaming adho_mukha_shvanasana_sharkaboi435.jpg\n",
      "Renaming adho_mukha_shvanasana_sharkaboi44.jpg\n",
      "Renaming adho_mukha_shvanasana_sharkaboi45.jpg\n",
      "Renaming adho_mukha_shvanasana_sharkaboi46.jpg\n",
      "Renaming adho_mukha_shvanasana_sharkaboi47.jpg\n",
      "Renaming adho_mukha_shvanasana_sharkaboi48.jpg\n",
      "Renaming adho_mukha_shvanasana_sharkaboi49.jpg\n",
      "Renaming adho_mukha_shvanasana_sharkaboi5.jpg\n",
      "Renaming adho_mukha_shvanasana_sharkaboi50.jpg\n",
      "Renaming adho_mukha_shvanasana_sharkaboi51.jpg\n",
      "Renaming adho_mukha_shvanasana_sharkaboi52.jpg\n",
      "Renaming adho_mukha_shvanasana_sharkaboi53.jpg\n",
      "Renaming adho_mukha_shvanasana_sharkaboi54.jpg\n",
      "Renaming adho_mukha_shvanasana_sharkaboi55.jpg\n",
      "Renaming adho_mukha_shvanasana_sharkaboi56.jpg\n",
      "Renaming adho_mukha_shvanasana_sharkaboi57.jpg\n",
      "Renaming adho_mukha_shvanasana_sharkaboi58.jpg\n",
      "Renaming adho_mukha_shvanasana_sharkaboi59.jpg\n",
      "Renaming adho_mukha_shvanasana_sharkaboi6.jpg\n",
      "Renaming adho_mukha_shvanasana_sharkaboi60.jpg\n",
      "Renaming adho_mukha_shvanasana_sharkaboi61.jpg\n",
      "Renaming adho_mukha_shvanasana_sharkaboi62.jpg\n",
      "Renaming adho_mukha_shvanasana_sharkaboi63.jpg\n",
      "Renaming adho_mukha_shvanasana_sharkaboi64.jpg\n",
      "Renaming adho_mukha_shvanasana_sharkaboi65.jpg\n",
      "Renaming adho_mukha_shvanasana_sharkaboi66.jpg\n",
      "Renaming adho_mukha_shvanasana_sharkaboi67.jpg\n",
      "Renaming adho_mukha_shvanasana_sharkaboi68.jpg\n",
      "Renaming adho_mukha_shvanasana_sharkaboi69.jpg\n",
      "Renaming adho_mukha_shvanasana_sharkaboi7.jpg\n",
      "Renaming adho_mukha_shvanasana_sharkaboi70.jpg\n",
      "Renaming adho_mukha_shvanasana_sharkaboi71.jpg\n",
      "Renaming adho_mukha_shvanasana_sharkaboi72.jpg\n",
      "Renaming adho_mukha_shvanasana_sharkaboi73.jpg\n",
      "Renaming adho_mukha_shvanasana_sharkaboi74.jpg\n",
      "Renaming adho_mukha_shvanasana_sharkaboi75.jpg\n",
      "Renaming adho_mukha_shvanasana_sharkaboi76.jpg\n",
      "Renaming adho_mukha_shvanasana_sharkaboi77.jpg\n",
      "Renaming adho_mukha_shvanasana_sharkaboi78.jpg\n",
      "Renaming adho_mukha_shvanasana_sharkaboi79.jpg\n",
      "Renaming adho_mukha_shvanasana_sharkaboi8.jpg\n",
      "Renaming adho_mukha_shvanasana_sharkaboi80.jpg\n",
      "Renaming adho_mukha_shvanasana_sharkaboi81.jpg\n",
      "Renaming adho_mukha_shvanasana_sharkaboi82.jpg\n",
      "Renaming adho_mukha_shvanasana_sharkaboi83.jpg\n",
      "Renaming adho_mukha_shvanasana_sharkaboi84.jpg\n",
      "Renaming adho_mukha_shvanasana_sharkaboi85.jpg\n",
      "Renaming adho_mukha_shvanasana_sharkaboi86.jpg\n",
      "Renaming adho_mukha_shvanasana_sharkaboi87.jpg\n",
      "Renaming adho_mukha_shvanasana_sharkaboi88.jpg\n",
      "Renaming adho_mukha_shvanasana_sharkaboi89.jpg\n",
      "Renaming adho_mukha_shvanasana_sharkaboi9.jpg\n",
      "Renaming adho_mukha_shvanasana_sharkaboi90.jpg\n",
      "Renaming adho_mukha_shvanasana_sharkaboi91.jpg\n",
      "Renaming adho_mukha_shvanasana_sharkaboi92.jpg\n",
      "Renaming adho_mukha_shvanasana_sharkaboi93.jpg\n",
      "Renaming adho_mukha_shvanasana_sharkaboi94.jpg\n",
      "Renaming adho_mukha_shvanasana_sharkaboi95.jpg\n",
      "Renaming adho_mukha_shvanasana_sharkaboi96.jpg\n",
      "Renaming adho_mukha_shvanasana_sharkaboi97.jpg\n",
      "Renaming adho_mukha_shvanasana_sharkaboi98.jpg\n",
      "Renaming adho_mukha_shvanasana_sharkaboi99.jpg\n",
      "Renaming bhujangasana_sharkaboi1.jpg\n",
      "Renaming bhujangasana_sharkaboi10.jpg\n",
      "Renaming bhujangasana_sharkaboi100.jpg\n",
      "Renaming bhujangasana_sharkaboi101.jpg\n",
      "Renaming bhujangasana_sharkaboi102.jpg\n",
      "Renaming bhujangasana_sharkaboi103.jpg\n",
      "Renaming bhujangasana_sharkaboi104.jpg\n",
      "Renaming bhujangasana_sharkaboi105.jpg\n",
      "Renaming bhujangasana_sharkaboi106.jpg\n",
      "Renaming bhujangasana_sharkaboi107.jpg\n",
      "Renaming bhujangasana_sharkaboi108.jpg\n",
      "Renaming bhujangasana_sharkaboi109.jpg\n",
      "Renaming bhujangasana_sharkaboi11.jpg\n",
      "Renaming bhujangasana_sharkaboi110.jpg\n",
      "Renaming bhujangasana_sharkaboi111.jpg\n",
      "Renaming bhujangasana_sharkaboi112.jpg\n",
      "Renaming bhujangasana_sharkaboi113.jpg\n",
      "Renaming bhujangasana_sharkaboi114.jpg\n",
      "Renaming bhujangasana_sharkaboi115.jpg\n",
      "Renaming bhujangasana_sharkaboi116.jpg\n",
      "Renaming bhujangasana_sharkaboi117.jpg\n",
      "Renaming bhujangasana_sharkaboi118.jpg\n",
      "Renaming bhujangasana_sharkaboi119.jpg\n",
      "Renaming bhujangasana_sharkaboi12.jpg\n",
      "Renaming bhujangasana_sharkaboi120.jpg\n",
      "Renaming bhujangasana_sharkaboi121.jpg\n",
      "Renaming bhujangasana_sharkaboi122.jpg\n",
      "Renaming bhujangasana_sharkaboi123.jpg\n",
      "Renaming bhujangasana_sharkaboi124.jpg\n",
      "Renaming bhujangasana_sharkaboi125.jpg\n",
      "Renaming bhujangasana_sharkaboi126.jpg\n",
      "Renaming bhujangasana_sharkaboi127.jpg\n",
      "Renaming bhujangasana_sharkaboi128.jpg\n",
      "Renaming bhujangasana_sharkaboi129.jpg\n",
      "Renaming bhujangasana_sharkaboi13.jpg\n",
      "Renaming bhujangasana_sharkaboi130.jpg\n",
      "Renaming bhujangasana_sharkaboi131.jpg\n",
      "Renaming bhujangasana_sharkaboi132.jpg\n",
      "Renaming bhujangasana_sharkaboi133.jpg\n",
      "Renaming bhujangasana_sharkaboi134.jpg\n",
      "Renaming bhujangasana_sharkaboi135.jpg\n",
      "Renaming bhujangasana_sharkaboi136.jpg\n",
      "Renaming bhujangasana_sharkaboi137.jpg\n",
      "Renaming bhujangasana_sharkaboi138.jpg\n",
      "Renaming bhujangasana_sharkaboi139.jpg\n",
      "Renaming bhujangasana_sharkaboi14.jpg\n",
      "Renaming bhujangasana_sharkaboi140.jpg\n",
      "Renaming bhujangasana_sharkaboi141.jpg\n",
      "Renaming bhujangasana_sharkaboi142.jpg\n",
      "Renaming bhujangasana_sharkaboi143.jpg\n",
      "Renaming bhujangasana_sharkaboi144.jpg\n",
      "Renaming bhujangasana_sharkaboi145.jpg\n",
      "Renaming bhujangasana_sharkaboi146.jpg\n",
      "Renaming bhujangasana_sharkaboi147.jpg\n",
      "Renaming bhujangasana_sharkaboi148.jpg\n",
      "Renaming bhujangasana_sharkaboi149.jpg\n",
      "Renaming bhujangasana_sharkaboi15.jpg\n",
      "Renaming bhujangasana_sharkaboi150.jpg\n",
      "Renaming bhujangasana_sharkaboi151.jpg\n",
      "Renaming bhujangasana_sharkaboi152.jpg\n",
      "Renaming bhujangasana_sharkaboi153.jpg\n",
      "Renaming bhujangasana_sharkaboi154.jpg\n",
      "Renaming bhujangasana_sharkaboi155.jpg\n",
      "Renaming bhujangasana_sharkaboi156.jpg\n",
      "Renaming bhujangasana_sharkaboi157.jpg\n",
      "Renaming bhujangasana_sharkaboi158.jpg\n",
      "Renaming bhujangasana_sharkaboi159.jpg\n",
      "Renaming bhujangasana_sharkaboi16.jpg\n",
      "Renaming bhujangasana_sharkaboi160.jpg\n",
      "Renaming bhujangasana_sharkaboi161.jpg\n",
      "Renaming bhujangasana_sharkaboi162.jpg\n",
      "Renaming bhujangasana_sharkaboi163.jpg\n",
      "Renaming bhujangasana_sharkaboi164.jpg\n",
      "Renaming bhujangasana_sharkaboi165.jpg\n",
      "Renaming bhujangasana_sharkaboi166.jpg\n",
      "Renaming bhujangasana_sharkaboi167.jpg\n",
      "Renaming bhujangasana_sharkaboi168.jpg\n",
      "Renaming bhujangasana_sharkaboi169.jpg\n",
      "Renaming bhujangasana_sharkaboi17.jpg\n",
      "Renaming bhujangasana_sharkaboi170.jpg\n",
      "Renaming bhujangasana_sharkaboi171.jpg\n",
      "Renaming bhujangasana_sharkaboi172.jpg\n",
      "Renaming bhujangasana_sharkaboi173.jpg\n",
      "Renaming bhujangasana_sharkaboi174.jpg\n",
      "Renaming bhujangasana_sharkaboi175.jpg\n",
      "Renaming bhujangasana_sharkaboi176.jpg\n",
      "Renaming bhujangasana_sharkaboi177.jpg\n",
      "Renaming bhujangasana_sharkaboi178.jpg\n",
      "Renaming bhujangasana_sharkaboi179.jpg\n",
      "Renaming bhujangasana_sharkaboi18.jpg\n",
      "Renaming bhujangasana_sharkaboi180.jpg\n",
      "Renaming bhujangasana_sharkaboi181.jpg\n",
      "Renaming bhujangasana_sharkaboi182.jpg\n",
      "Renaming bhujangasana_sharkaboi183.jpg\n",
      "Renaming bhujangasana_sharkaboi184.jpg\n",
      "Renaming bhujangasana_sharkaboi185.jpg\n",
      "Renaming bhujangasana_sharkaboi186.jpg\n",
      "Renaming bhujangasana_sharkaboi187.jpg\n",
      "Renaming bhujangasana_sharkaboi188.jpg\n",
      "Renaming bhujangasana_sharkaboi189.jpg\n",
      "Renaming bhujangasana_sharkaboi19.jpg\n",
      "Renaming bhujangasana_sharkaboi190.jpg\n",
      "Renaming bhujangasana_sharkaboi191.jpg\n",
      "Renaming bhujangasana_sharkaboi192.jpg\n",
      "Renaming bhujangasana_sharkaboi193.jpg\n",
      "Renaming bhujangasana_sharkaboi194.jpg\n",
      "Renaming bhujangasana_sharkaboi195.jpg\n",
      "Renaming bhujangasana_sharkaboi196.jpg\n",
      "Renaming bhujangasana_sharkaboi197.jpg\n",
      "Renaming bhujangasana_sharkaboi198.jpg\n",
      "Renaming bhujangasana_sharkaboi199.jpg\n",
      "Renaming bhujangasana_sharkaboi2.jpg\n",
      "Renaming bhujangasana_sharkaboi20.jpg\n",
      "Renaming bhujangasana_sharkaboi200.jpg\n",
      "Renaming bhujangasana_sharkaboi201.jpg\n",
      "Renaming bhujangasana_sharkaboi202.jpg\n",
      "Renaming bhujangasana_sharkaboi203.jpg\n",
      "Renaming bhujangasana_sharkaboi204.jpg\n",
      "Renaming bhujangasana_sharkaboi205.jpg\n",
      "Renaming bhujangasana_sharkaboi206.jpg\n",
      "Renaming bhujangasana_sharkaboi207.jpg\n",
      "Renaming bhujangasana_sharkaboi208.jpg\n",
      "Renaming bhujangasana_sharkaboi209.jpg\n",
      "Renaming bhujangasana_sharkaboi21.jpg\n",
      "Renaming bhujangasana_sharkaboi210.jpg\n",
      "Renaming bhujangasana_sharkaboi211.jpg\n",
      "Renaming bhujangasana_sharkaboi212.jpg\n",
      "Renaming bhujangasana_sharkaboi213.jpg\n",
      "Renaming bhujangasana_sharkaboi214.jpg\n",
      "Renaming bhujangasana_sharkaboi215.jpg\n",
      "Renaming bhujangasana_sharkaboi216.jpg\n",
      "Renaming bhujangasana_sharkaboi217.jpg\n",
      "Renaming bhujangasana_sharkaboi218.jpg\n",
      "Renaming bhujangasana_sharkaboi219.jpg\n",
      "Renaming bhujangasana_sharkaboi22.jpg\n",
      "Renaming bhujangasana_sharkaboi220.jpg\n",
      "Renaming bhujangasana_sharkaboi221.jpg\n",
      "Renaming bhujangasana_sharkaboi222.jpg\n",
      "Renaming bhujangasana_sharkaboi223.jpg\n",
      "Renaming bhujangasana_sharkaboi224.jpg\n",
      "Renaming bhujangasana_sharkaboi225.jpg\n",
      "Renaming bhujangasana_sharkaboi226.jpg\n",
      "Renaming bhujangasana_sharkaboi227.jpg\n",
      "Renaming bhujangasana_sharkaboi228.jpg\n",
      "Renaming bhujangasana_sharkaboi229.jpg\n",
      "Renaming bhujangasana_sharkaboi23.jpg\n",
      "Renaming bhujangasana_sharkaboi230.jpg\n",
      "Renaming bhujangasana_sharkaboi231.jpg\n",
      "Renaming bhujangasana_sharkaboi232.jpg\n",
      "Renaming bhujangasana_sharkaboi233.jpg\n",
      "Renaming bhujangasana_sharkaboi234.jpg\n",
      "Renaming bhujangasana_sharkaboi235.jpg\n",
      "Renaming bhujangasana_sharkaboi236.jpg\n",
      "Renaming bhujangasana_sharkaboi237.jpg\n",
      "Renaming bhujangasana_sharkaboi238.jpg\n",
      "Renaming bhujangasana_sharkaboi239.jpg\n",
      "Renaming bhujangasana_sharkaboi24.jpg\n",
      "Renaming bhujangasana_sharkaboi240.jpg\n",
      "Renaming bhujangasana_sharkaboi241.jpg\n",
      "Renaming bhujangasana_sharkaboi242.jpg\n",
      "Renaming bhujangasana_sharkaboi243.jpg\n",
      "Renaming bhujangasana_sharkaboi244.jpg\n",
      "Renaming bhujangasana_sharkaboi245.jpg\n",
      "Renaming bhujangasana_sharkaboi246.jpg\n",
      "Renaming bhujangasana_sharkaboi247.jpg\n",
      "Renaming bhujangasana_sharkaboi248.jpg\n",
      "Renaming bhujangasana_sharkaboi249.jpg\n",
      "Renaming bhujangasana_sharkaboi25.jpg\n",
      "Renaming bhujangasana_sharkaboi250.jpg\n",
      "Renaming bhujangasana_sharkaboi251.jpg\n",
      "Renaming bhujangasana_sharkaboi252.jpg\n",
      "Renaming bhujangasana_sharkaboi253.jpg\n",
      "Renaming bhujangasana_sharkaboi254.jpg\n",
      "Renaming bhujangasana_sharkaboi255.jpg\n",
      "Renaming bhujangasana_sharkaboi256.jpg\n",
      "Renaming bhujangasana_sharkaboi257.jpg\n",
      "Renaming bhujangasana_sharkaboi258.jpg\n",
      "Renaming bhujangasana_sharkaboi259.jpg\n",
      "Renaming bhujangasana_sharkaboi26.jpg\n",
      "Renaming bhujangasana_sharkaboi260.jpg\n",
      "Renaming bhujangasana_sharkaboi261.jpg\n",
      "Renaming bhujangasana_sharkaboi262.jpg\n",
      "Renaming bhujangasana_sharkaboi263.jpg\n",
      "Renaming bhujangasana_sharkaboi264.jpg\n",
      "Renaming bhujangasana_sharkaboi265.jpg\n",
      "Renaming bhujangasana_sharkaboi266.jpg\n",
      "Renaming bhujangasana_sharkaboi267.jpg\n",
      "Renaming bhujangasana_sharkaboi268.jpg\n",
      "Renaming bhujangasana_sharkaboi269.jpg\n"
     ]
    },
    {
     "name": "stdout",
     "output_type": "stream",
     "text": [
      "Renaming bhujangasana_sharkaboi27.jpg\n",
      "Renaming bhujangasana_sharkaboi270.jpg\n",
      "Renaming bhujangasana_sharkaboi271.jpg\n",
      "Renaming bhujangasana_sharkaboi272.jpg\n",
      "Renaming bhujangasana_sharkaboi273.jpg\n",
      "Renaming bhujangasana_sharkaboi274.jpg\n",
      "Renaming bhujangasana_sharkaboi275.jpg\n",
      "Renaming bhujangasana_sharkaboi276.jpg\n",
      "Renaming bhujangasana_sharkaboi277.jpg\n",
      "Renaming bhujangasana_sharkaboi278.jpg\n",
      "Renaming bhujangasana_sharkaboi279.jpg\n",
      "Renaming bhujangasana_sharkaboi28.jpg\n",
      "Renaming bhujangasana_sharkaboi280.jpg\n",
      "Renaming bhujangasana_sharkaboi281.jpg\n",
      "Renaming bhujangasana_sharkaboi282.jpg\n",
      "Renaming bhujangasana_sharkaboi283.jpg\n",
      "Renaming bhujangasana_sharkaboi284.jpg\n",
      "Renaming bhujangasana_sharkaboi285.jpg\n",
      "Renaming bhujangasana_sharkaboi286.jpg\n",
      "Renaming bhujangasana_sharkaboi287.jpg\n",
      "Renaming bhujangasana_sharkaboi288.jpg\n",
      "Renaming bhujangasana_sharkaboi289.jpg\n",
      "Renaming bhujangasana_sharkaboi29.jpg\n",
      "Renaming bhujangasana_sharkaboi290.jpg\n",
      "Renaming bhujangasana_sharkaboi291.jpg\n",
      "Renaming bhujangasana_sharkaboi292.jpg\n",
      "Renaming bhujangasana_sharkaboi293.jpg\n",
      "Renaming bhujangasana_sharkaboi294.jpg\n",
      "Renaming bhujangasana_sharkaboi295.jpg\n",
      "Renaming bhujangasana_sharkaboi296.jpg\n",
      "Renaming bhujangasana_sharkaboi297.jpg\n",
      "Renaming bhujangasana_sharkaboi298.jpg\n",
      "Renaming bhujangasana_sharkaboi299.jpg\n",
      "Renaming bhujangasana_sharkaboi3.jpg\n",
      "Renaming bhujangasana_sharkaboi30.jpg\n",
      "Renaming bhujangasana_sharkaboi300.jpg\n",
      "Renaming bhujangasana_sharkaboi301.jpg\n",
      "Renaming bhujangasana_sharkaboi302.jpg\n",
      "Renaming bhujangasana_sharkaboi303.jpg\n",
      "Renaming bhujangasana_sharkaboi304.jpg\n",
      "Renaming bhujangasana_sharkaboi305.jpg\n",
      "Renaming bhujangasana_sharkaboi306.jpg\n",
      "Renaming bhujangasana_sharkaboi307.jpg\n",
      "Renaming bhujangasana_sharkaboi308.jpg\n",
      "Renaming bhujangasana_sharkaboi309.jpg\n",
      "Renaming bhujangasana_sharkaboi31.jpg\n",
      "Renaming bhujangasana_sharkaboi310.jpg\n",
      "Renaming bhujangasana_sharkaboi311.jpg\n",
      "Renaming bhujangasana_sharkaboi312.jpg\n",
      "Renaming bhujangasana_sharkaboi313.jpg\n",
      "Renaming bhujangasana_sharkaboi314.jpg\n",
      "Renaming bhujangasana_sharkaboi315.jpg\n",
      "Renaming bhujangasana_sharkaboi316.jpg\n",
      "Renaming bhujangasana_sharkaboi317.jpg\n",
      "Renaming bhujangasana_sharkaboi318.jpg\n",
      "Renaming bhujangasana_sharkaboi319.jpg\n",
      "Renaming bhujangasana_sharkaboi32.jpg\n",
      "Renaming bhujangasana_sharkaboi320.jpg\n",
      "Renaming bhujangasana_sharkaboi321.jpg\n",
      "Renaming bhujangasana_sharkaboi322.jpg\n",
      "Renaming bhujangasana_sharkaboi323.jpg\n",
      "Renaming bhujangasana_sharkaboi324.jpg\n",
      "Renaming bhujangasana_sharkaboi325.jpg\n",
      "Renaming bhujangasana_sharkaboi326.jpg\n",
      "Renaming bhujangasana_sharkaboi327.jpg\n",
      "Renaming bhujangasana_sharkaboi328.jpg\n",
      "Renaming bhujangasana_sharkaboi329.jpg\n",
      "Renaming bhujangasana_sharkaboi33.jpg\n",
      "Renaming bhujangasana_sharkaboi330.jpg\n",
      "Renaming bhujangasana_sharkaboi331.jpg\n",
      "Renaming bhujangasana_sharkaboi332.jpg\n",
      "Renaming bhujangasana_sharkaboi333.jpg\n",
      "Renaming bhujangasana_sharkaboi334.jpg\n",
      "Renaming bhujangasana_sharkaboi335.jpg\n",
      "Renaming bhujangasana_sharkaboi336.jpg\n",
      "Renaming bhujangasana_sharkaboi337.jpg\n",
      "Renaming bhujangasana_sharkaboi338.jpg\n",
      "Renaming bhujangasana_sharkaboi339.jpg\n",
      "Renaming bhujangasana_sharkaboi34.jpg\n",
      "Renaming bhujangasana_sharkaboi340.jpg\n",
      "Renaming bhujangasana_sharkaboi341.jpg\n",
      "Renaming bhujangasana_sharkaboi342.jpg\n",
      "Renaming bhujangasana_sharkaboi343.jpg\n",
      "Renaming bhujangasana_sharkaboi344.jpg\n",
      "Renaming bhujangasana_sharkaboi345.jpg\n",
      "Renaming bhujangasana_sharkaboi346.jpg\n",
      "Renaming bhujangasana_sharkaboi347.jpg\n",
      "Renaming bhujangasana_sharkaboi348.jpg\n",
      "Renaming bhujangasana_sharkaboi349.jpg\n",
      "Renaming bhujangasana_sharkaboi35.jpg\n",
      "Renaming bhujangasana_sharkaboi350.jpg\n",
      "Renaming bhujangasana_sharkaboi351.jpg\n",
      "Renaming bhujangasana_sharkaboi352.jpg\n",
      "Renaming bhujangasana_sharkaboi353.jpg\n",
      "Renaming bhujangasana_sharkaboi354.jpg\n",
      "Renaming bhujangasana_sharkaboi355.jpg\n",
      "Renaming bhujangasana_sharkaboi356.jpg\n",
      "Renaming bhujangasana_sharkaboi357.jpg\n",
      "Renaming bhujangasana_sharkaboi358.jpg\n",
      "Renaming bhujangasana_sharkaboi359.jpg\n",
      "Renaming bhujangasana_sharkaboi36.jpg\n",
      "Renaming bhujangasana_sharkaboi360.jpg\n",
      "Renaming bhujangasana_sharkaboi361.jpg\n",
      "Renaming bhujangasana_sharkaboi362.jpg\n",
      "Renaming bhujangasana_sharkaboi363.jpg\n",
      "Renaming bhujangasana_sharkaboi364.jpg\n",
      "Renaming bhujangasana_sharkaboi365.jpg\n",
      "Renaming bhujangasana_sharkaboi366.jpg\n",
      "Renaming bhujangasana_sharkaboi367.jpg\n",
      "Renaming bhujangasana_sharkaboi368.jpg\n",
      "Renaming bhujangasana_sharkaboi369.jpg\n",
      "Renaming bhujangasana_sharkaboi37.jpg\n",
      "Renaming bhujangasana_sharkaboi370.jpg\n",
      "Renaming bhujangasana_sharkaboi371.jpg\n",
      "Renaming bhujangasana_sharkaboi372.jpg\n",
      "Renaming bhujangasana_sharkaboi373.jpg\n",
      "Renaming bhujangasana_sharkaboi374.jpg\n",
      "Renaming bhujangasana_sharkaboi375.jpg\n",
      "Renaming bhujangasana_sharkaboi376.jpg\n",
      "Renaming bhujangasana_sharkaboi377.jpg\n",
      "Renaming bhujangasana_sharkaboi378.jpg\n",
      "Renaming bhujangasana_sharkaboi379.jpg\n",
      "Renaming bhujangasana_sharkaboi38.jpg\n",
      "Renaming bhujangasana_sharkaboi380.jpg\n",
      "Renaming bhujangasana_sharkaboi381.jpg\n",
      "Renaming bhujangasana_sharkaboi382.jpg\n",
      "Renaming bhujangasana_sharkaboi383.jpg\n",
      "Renaming bhujangasana_sharkaboi384.jpg\n",
      "Renaming bhujangasana_sharkaboi385.jpg\n",
      "Renaming bhujangasana_sharkaboi386.jpg\n",
      "Renaming bhujangasana_sharkaboi387.jpg\n",
      "Renaming bhujangasana_sharkaboi388.jpg\n",
      "Renaming bhujangasana_sharkaboi389.jpg\n",
      "Renaming bhujangasana_sharkaboi39.jpg\n",
      "Renaming bhujangasana_sharkaboi390.jpg\n",
      "Renaming bhujangasana_sharkaboi391.jpg\n",
      "Renaming bhujangasana_sharkaboi392.jpg\n",
      "Renaming bhujangasana_sharkaboi393.jpg\n",
      "Renaming bhujangasana_sharkaboi394.jpg\n",
      "Renaming bhujangasana_sharkaboi395.jpg\n",
      "Renaming bhujangasana_sharkaboi396.jpg\n",
      "Renaming bhujangasana_sharkaboi397.jpg\n",
      "Renaming bhujangasana_sharkaboi398.jpg\n",
      "Renaming bhujangasana_sharkaboi399.jpg\n",
      "Renaming bhujangasana_sharkaboi4.jpg\n",
      "Renaming bhujangasana_sharkaboi40.jpg\n",
      "Renaming bhujangasana_sharkaboi400.jpg\n",
      "Renaming bhujangasana_sharkaboi401.jpg\n",
      "Renaming bhujangasana_sharkaboi402.jpg\n",
      "Renaming bhujangasana_sharkaboi403.jpg\n",
      "Renaming bhujangasana_sharkaboi404.jpg\n",
      "Renaming bhujangasana_sharkaboi405.jpg\n",
      "Renaming bhujangasana_sharkaboi406.jpg\n",
      "Renaming bhujangasana_sharkaboi407.jpg\n",
      "Renaming bhujangasana_sharkaboi408.jpg\n",
      "Renaming bhujangasana_sharkaboi409.jpg\n",
      "Renaming bhujangasana_sharkaboi41.jpg\n",
      "Renaming bhujangasana_sharkaboi410.jpg\n",
      "Renaming bhujangasana_sharkaboi411.jpg\n",
      "Renaming bhujangasana_sharkaboi412.jpg\n",
      "Renaming bhujangasana_sharkaboi413.jpg\n",
      "Renaming bhujangasana_sharkaboi414.jpg\n",
      "Renaming bhujangasana_sharkaboi415.jpg\n",
      "Renaming bhujangasana_sharkaboi416.jpg\n",
      "Renaming bhujangasana_sharkaboi417.jpg\n",
      "Renaming bhujangasana_sharkaboi418.jpg\n",
      "Renaming bhujangasana_sharkaboi419.jpg\n",
      "Renaming bhujangasana_sharkaboi42.jpg\n",
      "Renaming bhujangasana_sharkaboi420.jpg\n",
      "Renaming bhujangasana_sharkaboi421.jpg\n",
      "Renaming bhujangasana_sharkaboi422.jpg\n",
      "Renaming bhujangasana_sharkaboi423.jpg\n",
      "Renaming bhujangasana_sharkaboi424.jpg\n",
      "Renaming bhujangasana_sharkaboi425.jpg\n",
      "Renaming bhujangasana_sharkaboi426.jpg\n",
      "Renaming bhujangasana_sharkaboi427.jpg\n",
      "Renaming bhujangasana_sharkaboi428.jpg\n",
      "Renaming bhujangasana_sharkaboi429.jpg\n",
      "Renaming bhujangasana_sharkaboi43.jpg\n",
      "Renaming bhujangasana_sharkaboi430.jpg\n",
      "Renaming bhujangasana_sharkaboi431.jpg\n",
      "Renaming bhujangasana_sharkaboi432.jpg\n",
      "Renaming bhujangasana_sharkaboi433.jpg\n",
      "Renaming bhujangasana_sharkaboi434.jpg\n",
      "Renaming bhujangasana_sharkaboi435.jpg\n",
      "Renaming bhujangasana_sharkaboi436.jpg\n",
      "Renaming bhujangasana_sharkaboi437.jpg\n",
      "Renaming bhujangasana_sharkaboi438.jpg\n",
      "Renaming bhujangasana_sharkaboi439.jpg\n",
      "Renaming bhujangasana_sharkaboi44.jpg\n",
      "Renaming bhujangasana_sharkaboi440.jpg\n",
      "Renaming bhujangasana_sharkaboi441.jpg\n",
      "Renaming bhujangasana_sharkaboi442.jpg\n",
      "Renaming bhujangasana_sharkaboi443.jpg\n",
      "Renaming bhujangasana_sharkaboi444.jpg\n",
      "Renaming bhujangasana_sharkaboi445.jpg\n",
      "Renaming bhujangasana_sharkaboi446.jpg\n",
      "Renaming bhujangasana_sharkaboi447.jpg\n",
      "Renaming bhujangasana_sharkaboi448.jpg\n",
      "Renaming bhujangasana_sharkaboi449.jpg\n",
      "Renaming bhujangasana_sharkaboi45.jpg\n",
      "Renaming bhujangasana_sharkaboi450.jpg\n",
      "Renaming bhujangasana_sharkaboi451.jpg\n",
      "Renaming bhujangasana_sharkaboi452.jpg\n",
      "Renaming bhujangasana_sharkaboi453.jpg\n",
      "Renaming bhujangasana_sharkaboi454.jpg\n",
      "Renaming bhujangasana_sharkaboi455.jpg\n",
      "Renaming bhujangasana_sharkaboi456.jpg\n",
      "Renaming bhujangasana_sharkaboi457.jpg\n",
      "Renaming bhujangasana_sharkaboi458.jpg\n",
      "Renaming bhujangasana_sharkaboi459.jpg\n",
      "Renaming bhujangasana_sharkaboi46.jpg\n",
      "Renaming bhujangasana_sharkaboi460.jpg\n",
      "Renaming bhujangasana_sharkaboi461.jpg\n",
      "Renaming bhujangasana_sharkaboi462.jpg\n",
      "Renaming bhujangasana_sharkaboi463.jpg\n",
      "Renaming bhujangasana_sharkaboi464.jpg\n",
      "Renaming bhujangasana_sharkaboi465.jpg\n",
      "Renaming bhujangasana_sharkaboi466.jpg\n",
      "Renaming bhujangasana_sharkaboi467.jpg\n",
      "Renaming bhujangasana_sharkaboi468.jpg\n",
      "Renaming bhujangasana_sharkaboi469.jpg\n",
      "Renaming bhujangasana_sharkaboi47.jpg\n",
      "Renaming bhujangasana_sharkaboi470.jpg\n",
      "Renaming bhujangasana_sharkaboi471.jpg\n",
      "Renaming bhujangasana_sharkaboi472.jpg\n",
      "Renaming bhujangasana_sharkaboi473.jpg\n",
      "Renaming bhujangasana_sharkaboi474.jpg\n",
      "Renaming bhujangasana_sharkaboi475.jpg\n",
      "Renaming bhujangasana_sharkaboi476.jpg\n",
      "Renaming bhujangasana_sharkaboi477.jpg\n",
      "Renaming bhujangasana_sharkaboi478.jpg\n",
      "Renaming bhujangasana_sharkaboi479.jpg\n",
      "Renaming bhujangasana_sharkaboi48.jpg\n",
      "Renaming bhujangasana_sharkaboi480.jpg\n",
      "Renaming bhujangasana_sharkaboi481.jpg\n",
      "Renaming bhujangasana_sharkaboi482.jpg\n",
      "Renaming bhujangasana_sharkaboi483.jpg\n",
      "Renaming bhujangasana_sharkaboi484.jpg\n",
      "Renaming bhujangasana_sharkaboi485.jpg\n",
      "Renaming bhujangasana_sharkaboi486.jpg\n",
      "Renaming bhujangasana_sharkaboi487.jpg\n",
      "Renaming bhujangasana_sharkaboi488.jpg\n",
      "Renaming bhujangasana_sharkaboi489.jpg\n",
      "Renaming bhujangasana_sharkaboi49.jpg\n",
      "Renaming bhujangasana_sharkaboi490.jpg\n",
      "Renaming bhujangasana_sharkaboi491.jpg\n",
      "Renaming bhujangasana_sharkaboi492.jpg\n",
      "Renaming bhujangasana_sharkaboi493.jpg\n",
      "Renaming bhujangasana_sharkaboi494.jpg\n",
      "Renaming bhujangasana_sharkaboi495.jpg\n",
      "Renaming bhujangasana_sharkaboi496.jpg\n",
      "Renaming bhujangasana_sharkaboi497.jpg\n",
      "Renaming bhujangasana_sharkaboi498.jpg\n",
      "Renaming bhujangasana_sharkaboi499.jpg\n",
      "Renaming bhujangasana_sharkaboi5.jpg\n",
      "Renaming bhujangasana_sharkaboi50.jpg\n",
      "Renaming bhujangasana_sharkaboi500.jpg\n",
      "Renaming bhujangasana_sharkaboi501.jpg\n",
      "Renaming bhujangasana_sharkaboi502.jpg\n",
      "Renaming bhujangasana_sharkaboi503.jpg\n",
      "Renaming bhujangasana_sharkaboi504.jpg\n",
      "Renaming bhujangasana_sharkaboi505.jpg\n",
      "Renaming bhujangasana_sharkaboi506.jpg\n",
      "Renaming bhujangasana_sharkaboi507.jpg\n",
      "Renaming bhujangasana_sharkaboi508.jpg\n",
      "Renaming bhujangasana_sharkaboi509.jpg\n",
      "Renaming bhujangasana_sharkaboi51.jpg\n",
      "Renaming bhujangasana_sharkaboi510.jpg\n",
      "Renaming bhujangasana_sharkaboi511.jpg\n",
      "Renaming bhujangasana_sharkaboi512.jpg\n",
      "Renaming bhujangasana_sharkaboi513.jpg\n",
      "Renaming bhujangasana_sharkaboi514.jpg\n",
      "Renaming bhujangasana_sharkaboi515.jpg\n",
      "Renaming bhujangasana_sharkaboi516.jpg\n",
      "Renaming bhujangasana_sharkaboi517.jpg\n",
      "Renaming bhujangasana_sharkaboi518.jpg\n",
      "Renaming bhujangasana_sharkaboi519.jpg\n",
      "Renaming bhujangasana_sharkaboi52.jpg\n",
      "Renaming bhujangasana_sharkaboi520.jpg\n",
      "Renaming bhujangasana_sharkaboi521.jpg\n",
      "Renaming bhujangasana_sharkaboi522.jpg\n",
      "Renaming bhujangasana_sharkaboi523.jpg\n",
      "Renaming bhujangasana_sharkaboi524.jpg\n",
      "Renaming bhujangasana_sharkaboi525.jpg\n",
      "Renaming bhujangasana_sharkaboi526.jpg\n",
      "Renaming bhujangasana_sharkaboi527.jpg\n",
      "Renaming bhujangasana_sharkaboi528.jpg\n",
      "Renaming bhujangasana_sharkaboi529.jpg\n",
      "Renaming bhujangasana_sharkaboi53.jpg\n",
      "Renaming bhujangasana_sharkaboi530.jpg\n",
      "Renaming bhujangasana_sharkaboi531.jpg\n",
      "Renaming bhujangasana_sharkaboi532.jpg\n",
      "Renaming bhujangasana_sharkaboi533.jpg\n",
      "Renaming bhujangasana_sharkaboi534.jpg\n",
      "Renaming bhujangasana_sharkaboi535.jpg\n",
      "Renaming bhujangasana_sharkaboi536.jpg\n",
      "Renaming bhujangasana_sharkaboi537.jpg\n",
      "Renaming bhujangasana_sharkaboi538.jpg\n",
      "Renaming bhujangasana_sharkaboi539.jpg\n",
      "Renaming bhujangasana_sharkaboi54.jpg\n",
      "Renaming bhujangasana_sharkaboi540.jpg\n",
      "Renaming bhujangasana_sharkaboi541.jpg\n",
      "Renaming bhujangasana_sharkaboi542.jpg\n",
      "Renaming bhujangasana_sharkaboi543.jpg\n",
      "Renaming bhujangasana_sharkaboi544.jpg\n",
      "Renaming bhujangasana_sharkaboi545.jpg\n",
      "Renaming bhujangasana_sharkaboi546.jpg\n",
      "Renaming bhujangasana_sharkaboi547.jpg\n",
      "Renaming bhujangasana_sharkaboi548.jpg\n",
      "Renaming bhujangasana_sharkaboi549.jpg\n",
      "Renaming bhujangasana_sharkaboi55.jpg\n",
      "Renaming bhujangasana_sharkaboi550.jpg\n",
      "Renaming bhujangasana_sharkaboi551.jpg\n",
      "Renaming bhujangasana_sharkaboi552.jpg\n",
      "Renaming bhujangasana_sharkaboi553.jpg\n",
      "Renaming bhujangasana_sharkaboi554.jpg\n",
      "Renaming bhujangasana_sharkaboi555.jpg\n",
      "Renaming bhujangasana_sharkaboi556.jpg\n",
      "Renaming bhujangasana_sharkaboi557.jpg\n",
      "Renaming bhujangasana_sharkaboi558.jpg\n",
      "Renaming bhujangasana_sharkaboi559.jpg\n",
      "Renaming bhujangasana_sharkaboi56.jpg\n",
      "Renaming bhujangasana_sharkaboi560.jpg\n",
      "Renaming bhujangasana_sharkaboi561.jpg\n",
      "Renaming bhujangasana_sharkaboi562.jpg\n",
      "Renaming bhujangasana_sharkaboi563.jpg\n",
      "Renaming bhujangasana_sharkaboi564.jpg\n",
      "Renaming bhujangasana_sharkaboi565.jpg\n",
      "Renaming bhujangasana_sharkaboi566.jpg\n",
      "Renaming bhujangasana_sharkaboi567.jpg\n",
      "Renaming bhujangasana_sharkaboi568.jpg\n",
      "Renaming bhujangasana_sharkaboi569.jpg\n",
      "Renaming bhujangasana_sharkaboi57.jpg\n",
      "Renaming bhujangasana_sharkaboi570.jpg\n",
      "Renaming bhujangasana_sharkaboi571.jpg\n",
      "Renaming bhujangasana_sharkaboi572.jpg\n",
      "Renaming bhujangasana_sharkaboi573.jpg\n",
      "Renaming bhujangasana_sharkaboi574.jpg\n",
      "Renaming bhujangasana_sharkaboi575.jpg\n",
      "Renaming bhujangasana_sharkaboi576.jpg\n",
      "Renaming bhujangasana_sharkaboi577.jpg\n",
      "Renaming bhujangasana_sharkaboi578.jpg\n"
     ]
    },
    {
     "name": "stdout",
     "output_type": "stream",
     "text": [
      "Renaming bhujangasana_sharkaboi579.jpg\n",
      "Renaming bhujangasana_sharkaboi58.jpg\n",
      "Renaming bhujangasana_sharkaboi580.jpg\n",
      "Renaming bhujangasana_sharkaboi581.jpg\n",
      "Renaming bhujangasana_sharkaboi582.jpg\n",
      "Renaming bhujangasana_sharkaboi583.jpg\n",
      "Renaming bhujangasana_sharkaboi584.jpg\n",
      "Renaming bhujangasana_sharkaboi585.jpg\n",
      "Renaming bhujangasana_sharkaboi586.jpg\n",
      "Renaming bhujangasana_sharkaboi587.jpg\n",
      "Renaming bhujangasana_sharkaboi588.jpg\n",
      "Renaming bhujangasana_sharkaboi589.jpg\n",
      "Renaming bhujangasana_sharkaboi59.jpg\n",
      "Renaming bhujangasana_sharkaboi590.jpg\n",
      "Renaming bhujangasana_sharkaboi591.jpg\n",
      "Renaming bhujangasana_sharkaboi592.jpg\n",
      "Renaming bhujangasana_sharkaboi593.jpg\n",
      "Renaming bhujangasana_sharkaboi594.jpg\n",
      "Renaming bhujangasana_sharkaboi595.jpg\n",
      "Renaming bhujangasana_sharkaboi596.jpg\n",
      "Renaming bhujangasana_sharkaboi597.jpg\n",
      "Renaming bhujangasana_sharkaboi598.jpg\n",
      "Renaming bhujangasana_sharkaboi599.jpg\n",
      "Renaming bhujangasana_sharkaboi6.jpg\n",
      "Renaming bhujangasana_sharkaboi60.jpg\n",
      "Renaming bhujangasana_sharkaboi600.jpg\n",
      "Renaming bhujangasana_sharkaboi601.jpg\n",
      "Renaming bhujangasana_sharkaboi602.jpg\n",
      "Renaming bhujangasana_sharkaboi603.jpg\n",
      "Renaming bhujangasana_sharkaboi604.jpg\n",
      "Renaming bhujangasana_sharkaboi605.jpg\n",
      "Renaming bhujangasana_sharkaboi606.jpg\n",
      "Renaming bhujangasana_sharkaboi607.jpg\n",
      "Renaming bhujangasana_sharkaboi608.jpg\n",
      "Renaming bhujangasana_sharkaboi609.jpg\n",
      "Renaming bhujangasana_sharkaboi61.jpg\n",
      "Renaming bhujangasana_sharkaboi610.jpg\n",
      "Renaming bhujangasana_sharkaboi611.jpg\n",
      "Renaming bhujangasana_sharkaboi612.jpg\n",
      "Renaming bhujangasana_sharkaboi613.jpg\n",
      "Renaming bhujangasana_sharkaboi614.jpg\n",
      "Renaming bhujangasana_sharkaboi615.jpg\n",
      "Renaming bhujangasana_sharkaboi616.jpg\n",
      "Renaming bhujangasana_sharkaboi617.jpg\n",
      "Renaming bhujangasana_sharkaboi618.jpg\n",
      "Renaming bhujangasana_sharkaboi619.jpg\n",
      "Renaming bhujangasana_sharkaboi62.jpg\n",
      "Renaming bhujangasana_sharkaboi620.jpg\n",
      "Renaming bhujangasana_sharkaboi621.jpg\n",
      "Renaming bhujangasana_sharkaboi622.jpg\n",
      "Renaming bhujangasana_sharkaboi623.jpg\n",
      "Renaming bhujangasana_sharkaboi624.jpg\n",
      "Renaming bhujangasana_sharkaboi625.jpg\n",
      "Renaming bhujangasana_sharkaboi626.jpg\n",
      "Renaming bhujangasana_sharkaboi627.jpg\n",
      "Renaming bhujangasana_sharkaboi628.jpg\n",
      "Renaming bhujangasana_sharkaboi629.jpg\n",
      "Renaming bhujangasana_sharkaboi63.jpg\n",
      "Renaming bhujangasana_sharkaboi630.jpg\n",
      "Renaming bhujangasana_sharkaboi631.jpg\n",
      "Renaming bhujangasana_sharkaboi632.jpg\n",
      "Renaming bhujangasana_sharkaboi633.jpg\n",
      "Renaming bhujangasana_sharkaboi634.jpg\n",
      "Renaming bhujangasana_sharkaboi635.jpg\n",
      "Renaming bhujangasana_sharkaboi636.jpg\n",
      "Renaming bhujangasana_sharkaboi637.jpg\n",
      "Renaming bhujangasana_sharkaboi638.jpg\n",
      "Renaming bhujangasana_sharkaboi639.jpg\n",
      "Renaming bhujangasana_sharkaboi64.jpg\n",
      "Renaming bhujangasana_sharkaboi640.jpg\n",
      "Renaming bhujangasana_sharkaboi641.jpg\n",
      "Renaming bhujangasana_sharkaboi642.jpg\n",
      "Renaming bhujangasana_sharkaboi643.jpg\n",
      "Renaming bhujangasana_sharkaboi644.jpg\n",
      "Renaming bhujangasana_sharkaboi645.jpg\n",
      "Renaming bhujangasana_sharkaboi646.jpg\n",
      "Renaming bhujangasana_sharkaboi647.jpg\n",
      "Renaming bhujangasana_sharkaboi648.jpg\n",
      "Renaming bhujangasana_sharkaboi649.jpg\n",
      "Renaming bhujangasana_sharkaboi65.jpg\n",
      "Renaming bhujangasana_sharkaboi650.jpg\n",
      "Renaming bhujangasana_sharkaboi651.jpg\n",
      "Renaming bhujangasana_sharkaboi652.jpg\n",
      "Renaming bhujangasana_sharkaboi653.jpg\n",
      "Renaming bhujangasana_sharkaboi654.jpg\n",
      "Renaming bhujangasana_sharkaboi655.jpg\n",
      "Renaming bhujangasana_sharkaboi656.jpg\n",
      "Renaming bhujangasana_sharkaboi657.jpg\n",
      "Renaming bhujangasana_sharkaboi658.jpg\n",
      "Renaming bhujangasana_sharkaboi659.jpg\n",
      "Renaming bhujangasana_sharkaboi66.jpg\n",
      "Renaming bhujangasana_sharkaboi660.jpg\n",
      "Renaming bhujangasana_sharkaboi661.jpg\n",
      "Renaming bhujangasana_sharkaboi662.jpg\n",
      "Renaming bhujangasana_sharkaboi663.jpg\n",
      "Renaming bhujangasana_sharkaboi664.jpg\n",
      "Renaming bhujangasana_sharkaboi665.jpg\n",
      "Renaming bhujangasana_sharkaboi666.jpg\n",
      "Renaming bhujangasana_sharkaboi667.jpg\n",
      "Renaming bhujangasana_sharkaboi668.jpg\n",
      "Renaming bhujangasana_sharkaboi67.jpg\n",
      "Renaming bhujangasana_sharkaboi68.jpg\n",
      "Renaming bhujangasana_sharkaboi69.jpg\n",
      "Renaming bhujangasana_sharkaboi7.jpg\n",
      "Renaming bhujangasana_sharkaboi70.jpg\n",
      "Renaming bhujangasana_sharkaboi71.jpg\n",
      "Renaming bhujangasana_sharkaboi72.jpg\n",
      "Renaming bhujangasana_sharkaboi73.jpg\n",
      "Renaming bhujangasana_sharkaboi74.jpg\n",
      "Renaming bhujangasana_sharkaboi75.jpg\n",
      "Renaming bhujangasana_sharkaboi76.jpg\n",
      "Renaming bhujangasana_sharkaboi77.jpg\n",
      "Renaming bhujangasana_sharkaboi78.jpg\n",
      "Renaming bhujangasana_sharkaboi79.jpg\n",
      "Renaming bhujangasana_sharkaboi8.jpg\n",
      "Renaming bhujangasana_sharkaboi80.jpg\n",
      "Renaming bhujangasana_sharkaboi81.jpg\n",
      "Renaming bhujangasana_sharkaboi82.jpg\n",
      "Renaming bhujangasana_sharkaboi83.jpg\n",
      "Renaming bhujangasana_sharkaboi84.jpg\n",
      "Renaming bhujangasana_sharkaboi85.jpg\n",
      "Renaming bhujangasana_sharkaboi86.jpg\n",
      "Renaming bhujangasana_sharkaboi87.jpg\n",
      "Renaming bhujangasana_sharkaboi88.jpg\n",
      "Renaming bhujangasana_sharkaboi89.jpg\n",
      "Renaming bhujangasana_sharkaboi9.jpg\n",
      "Renaming bhujangasana_sharkaboi90.jpg\n",
      "Renaming bhujangasana_sharkaboi91.jpg\n",
      "Renaming bhujangasana_sharkaboi92.jpg\n",
      "Renaming bhujangasana_sharkaboi93.jpg\n",
      "Renaming bhujangasana_sharkaboi94.jpg\n",
      "Renaming bhujangasana_sharkaboi95.jpg\n",
      "Renaming bhujangasana_sharkaboi96.jpg\n",
      "Renaming bhujangasana_sharkaboi97.jpg\n",
      "Renaming bhujangasana_sharkaboi98.jpg\n",
      "Renaming bhujangasana_sharkaboi99.jpg\n",
      "Renaming bidalasana_sharkaboi1.jpg\n",
      "Renaming bidalasana_sharkaboi10.jpeg\n",
      "Renaming bidalasana_sharkaboi100.jpg\n",
      "Renaming bidalasana_sharkaboi101.jpg\n",
      "Renaming bidalasana_sharkaboi102.jpg\n",
      "Renaming bidalasana_sharkaboi103.jpg\n",
      "Renaming bidalasana_sharkaboi104.jpg\n",
      "Renaming bidalasana_sharkaboi105.jpg\n",
      "Renaming bidalasana_sharkaboi106.jpg\n",
      "Renaming bidalasana_sharkaboi107.jpg\n",
      "Renaming bidalasana_sharkaboi108.jpg\n",
      "Renaming bidalasana_sharkaboi109.jpeg\n",
      "Renaming bidalasana_sharkaboi11.jpg\n",
      "Renaming bidalasana_sharkaboi110.jpg\n",
      "Renaming bidalasana_sharkaboi111.jpg\n",
      "Renaming bidalasana_sharkaboi112.jpg\n",
      "Renaming bidalasana_sharkaboi113.jpg\n",
      "Renaming bidalasana_sharkaboi114.jpg\n",
      "Renaming bidalasana_sharkaboi115.jpg\n",
      "Renaming bidalasana_sharkaboi116.jpg\n",
      "Renaming bidalasana_sharkaboi117.jpg\n",
      "Renaming bidalasana_sharkaboi118.jpg\n",
      "Renaming bidalasana_sharkaboi119.jpg\n",
      "Renaming bidalasana_sharkaboi12.jpg\n",
      "Renaming bidalasana_sharkaboi120.jpg\n",
      "Renaming bidalasana_sharkaboi121.jpeg\n",
      "Renaming bidalasana_sharkaboi122.jpg\n",
      "Renaming bidalasana_sharkaboi123.jpg\n",
      "Renaming bidalasana_sharkaboi124.jpeg\n",
      "Renaming bidalasana_sharkaboi125.jpg\n",
      "Renaming bidalasana_sharkaboi126.jpg\n",
      "Renaming bidalasana_sharkaboi127.jpg\n",
      "Renaming bidalasana_sharkaboi128.jpg\n",
      "Renaming bidalasana_sharkaboi129.jpg\n",
      "Renaming bidalasana_sharkaboi13.jpg\n",
      "Renaming bidalasana_sharkaboi130.jpg\n",
      "Renaming bidalasana_sharkaboi131.jpg\n",
      "Renaming bidalasana_sharkaboi132.jpg\n",
      "Renaming bidalasana_sharkaboi133.jpg\n",
      "Renaming bidalasana_sharkaboi134.jpg\n",
      "Renaming bidalasana_sharkaboi135.jpg\n",
      "Renaming bidalasana_sharkaboi136.jpg\n",
      "Renaming bidalasana_sharkaboi137.jpg\n",
      "Renaming bidalasana_sharkaboi138.jpg\n",
      "Renaming bidalasana_sharkaboi139.jpg\n",
      "Renaming bidalasana_sharkaboi14.jpg\n",
      "Renaming bidalasana_sharkaboi140.jpg\n",
      "Renaming bidalasana_sharkaboi141.jpeg\n",
      "Renaming bidalasana_sharkaboi142.jpg\n",
      "Renaming bidalasana_sharkaboi143.jpg\n",
      "Renaming bidalasana_sharkaboi144.jpg\n",
      "Renaming bidalasana_sharkaboi145.jpeg\n",
      "Renaming bidalasana_sharkaboi146.jpg\n",
      "Renaming bidalasana_sharkaboi147.jpg\n",
      "Renaming bidalasana_sharkaboi148.jpg\n",
      "Renaming bidalasana_sharkaboi149.jpg\n",
      "Renaming bidalasana_sharkaboi15.jpeg\n",
      "Renaming bidalasana_sharkaboi150.jpg\n",
      "Renaming bidalasana_sharkaboi151.jpg\n",
      "Renaming bidalasana_sharkaboi152.jpg\n",
      "Renaming bidalasana_sharkaboi153.jpg\n",
      "Renaming bidalasana_sharkaboi154.jpg\n",
      "Renaming bidalasana_sharkaboi155.jpg\n",
      "Renaming bidalasana_sharkaboi156.jpg\n",
      "Renaming bidalasana_sharkaboi157.jpg\n",
      "Renaming bidalasana_sharkaboi158.jpg\n",
      "Renaming bidalasana_sharkaboi159.jpg\n",
      "Renaming bidalasana_sharkaboi16.jpg\n",
      "Renaming bidalasana_sharkaboi160.jpg\n",
      "Renaming bidalasana_sharkaboi161.jpg\n",
      "Renaming bidalasana_sharkaboi162.jpg\n",
      "Renaming bidalasana_sharkaboi163.jpg\n",
      "Renaming bidalasana_sharkaboi164.jpg\n",
      "Renaming bidalasana_sharkaboi165.jpg\n",
      "Renaming bidalasana_sharkaboi166.jpg\n",
      "Renaming bidalasana_sharkaboi167.jpeg\n",
      "Renaming bidalasana_sharkaboi168.jpg\n",
      "Renaming bidalasana_sharkaboi169.jpg\n",
      "Renaming bidalasana_sharkaboi17.jpg\n",
      "Renaming bidalasana_sharkaboi170.jpg\n",
      "Renaming bidalasana_sharkaboi171.jpeg\n",
      "Renaming bidalasana_sharkaboi172.jpg\n",
      "Renaming bidalasana_sharkaboi173.jpg\n",
      "Renaming bidalasana_sharkaboi174.jpeg\n"
     ]
    },
    {
     "name": "stdout",
     "output_type": "stream",
     "text": [
      "Renaming bidalasana_sharkaboi175.jpg\n",
      "Renaming bidalasana_sharkaboi176.jpg\n",
      "Renaming bidalasana_sharkaboi177.jpg\n",
      "Renaming bidalasana_sharkaboi178.jpg\n",
      "Renaming bidalasana_sharkaboi179.jpg\n",
      "Renaming bidalasana_sharkaboi18.jpg\n",
      "Renaming bidalasana_sharkaboi180.jpeg\n",
      "Renaming bidalasana_sharkaboi181.jpg\n",
      "Renaming bidalasana_sharkaboi182.jpg\n",
      "Renaming bidalasana_sharkaboi183.jpg\n",
      "Renaming bidalasana_sharkaboi184.jpg\n",
      "Renaming bidalasana_sharkaboi185.jpg\n",
      "Renaming bidalasana_sharkaboi186.jpg\n",
      "Renaming bidalasana_sharkaboi187.jpg\n",
      "Renaming bidalasana_sharkaboi188.jpg\n",
      "Renaming bidalasana_sharkaboi189.jpeg\n",
      "Renaming bidalasana_sharkaboi19.jpg\n",
      "Renaming bidalasana_sharkaboi190.jpg\n",
      "Renaming bidalasana_sharkaboi191.jpg\n",
      "Renaming bidalasana_sharkaboi192.jpg\n",
      "Renaming bidalasana_sharkaboi193.jpg\n",
      "Renaming bidalasana_sharkaboi194.jpg\n",
      "Renaming bidalasana_sharkaboi195.jpg\n",
      "Renaming bidalasana_sharkaboi196.jpg\n",
      "Renaming bidalasana_sharkaboi197.jpg\n",
      "Renaming bidalasana_sharkaboi198.jpg\n",
      "Renaming bidalasana_sharkaboi199.jpg\n",
      "Renaming bidalasana_sharkaboi2.jpg\n",
      "Renaming bidalasana_sharkaboi20.jpeg\n",
      "Renaming bidalasana_sharkaboi200.jpg\n",
      "Renaming bidalasana_sharkaboi201.jpg\n",
      "Renaming bidalasana_sharkaboi202.jpg\n",
      "Renaming bidalasana_sharkaboi203.jpg\n",
      "Renaming bidalasana_sharkaboi204.jpg\n",
      "Renaming bidalasana_sharkaboi205.jpg\n",
      "Renaming bidalasana_sharkaboi206.jpg\n",
      "Renaming bidalasana_sharkaboi207.jpg\n",
      "Renaming bidalasana_sharkaboi208.jpg\n",
      "Renaming bidalasana_sharkaboi209.jpeg\n",
      "Renaming bidalasana_sharkaboi21.jpg\n",
      "Renaming bidalasana_sharkaboi210.jpg\n",
      "Renaming bidalasana_sharkaboi211.jpg\n",
      "Renaming bidalasana_sharkaboi212.jpg\n",
      "Renaming bidalasana_sharkaboi213.jpg\n",
      "Renaming bidalasana_sharkaboi214.jpg\n",
      "Renaming bidalasana_sharkaboi215.jpg\n",
      "Renaming bidalasana_sharkaboi216.jpg\n",
      "Renaming bidalasana_sharkaboi217.jpg\n",
      "Renaming bidalasana_sharkaboi218.jpg\n",
      "Renaming bidalasana_sharkaboi219.jpg\n",
      "Renaming bidalasana_sharkaboi22.jpg\n",
      "Renaming bidalasana_sharkaboi220.jpg\n",
      "Renaming bidalasana_sharkaboi221.jpg\n",
      "Renaming bidalasana_sharkaboi222.jpg\n",
      "Renaming bidalasana_sharkaboi223.jpg\n",
      "Renaming bidalasana_sharkaboi224.jpg\n",
      "Renaming bidalasana_sharkaboi225.jpg\n",
      "Renaming bidalasana_sharkaboi226.jpg\n",
      "Renaming bidalasana_sharkaboi227.jpg\n",
      "Renaming bidalasana_sharkaboi228.jpg\n",
      "Renaming bidalasana_sharkaboi229.jpg\n",
      "Renaming bidalasana_sharkaboi23.jpg\n",
      "Renaming bidalasana_sharkaboi230.jpg\n",
      "Renaming bidalasana_sharkaboi231.jpg\n",
      "Renaming bidalasana_sharkaboi232.jpg\n",
      "Renaming bidalasana_sharkaboi233.jpg\n",
      "Renaming bidalasana_sharkaboi234.jpg\n",
      "Renaming bidalasana_sharkaboi235.jpg\n",
      "Renaming bidalasana_sharkaboi236.jpg\n",
      "Renaming bidalasana_sharkaboi237.jpg\n",
      "Renaming bidalasana_sharkaboi238.jpg\n",
      "Renaming bidalasana_sharkaboi239.jpeg\n",
      "Renaming bidalasana_sharkaboi24.jpg\n",
      "Renaming bidalasana_sharkaboi240.jpg\n",
      "Renaming bidalasana_sharkaboi241.jpeg\n",
      "Renaming bidalasana_sharkaboi242.jpg\n",
      "Renaming bidalasana_sharkaboi243.jpg\n",
      "Renaming bidalasana_sharkaboi244.jpg\n",
      "Renaming bidalasana_sharkaboi245.jpg\n",
      "Renaming bidalasana_sharkaboi246.jpg\n",
      "Renaming bidalasana_sharkaboi247.jpg\n",
      "Renaming bidalasana_sharkaboi248.jpg\n",
      "Renaming bidalasana_sharkaboi249.jpg\n",
      "Renaming bidalasana_sharkaboi25.jpg\n",
      "Renaming bidalasana_sharkaboi250.jpg\n",
      "Renaming bidalasana_sharkaboi251.jpg\n",
      "Renaming bidalasana_sharkaboi252.jpg\n",
      "Renaming bidalasana_sharkaboi253.jpg\n",
      "Renaming bidalasana_sharkaboi254.jpg\n",
      "Renaming bidalasana_sharkaboi255.jpg\n",
      "Renaming bidalasana_sharkaboi256.jpg\n",
      "Renaming bidalasana_sharkaboi257.jpg\n",
      "Renaming bidalasana_sharkaboi258.jpg\n",
      "Renaming bidalasana_sharkaboi259.jpg\n",
      "Renaming bidalasana_sharkaboi26.jpg\n",
      "Renaming bidalasana_sharkaboi260.jpg\n",
      "Renaming bidalasana_sharkaboi261.jpg\n",
      "Renaming bidalasana_sharkaboi262.jpg\n",
      "Renaming bidalasana_sharkaboi263.jpg\n",
      "Renaming bidalasana_sharkaboi264.jpg\n",
      "Renaming bidalasana_sharkaboi265.jpg\n",
      "Renaming bidalasana_sharkaboi266.jpg\n",
      "Renaming bidalasana_sharkaboi267.jpg\n",
      "Renaming bidalasana_sharkaboi268.jpg\n",
      "Renaming bidalasana_sharkaboi269.jpg\n",
      "Renaming bidalasana_sharkaboi27.jpg\n",
      "Renaming bidalasana_sharkaboi270.jpg\n",
      "Renaming bidalasana_sharkaboi271.jpg\n",
      "Renaming bidalasana_sharkaboi272.jpg\n",
      "Renaming bidalasana_sharkaboi273.jpg\n",
      "Renaming bidalasana_sharkaboi274.jpg\n",
      "Renaming bidalasana_sharkaboi275.jpg\n",
      "Renaming bidalasana_sharkaboi276.jpg\n",
      "Renaming bidalasana_sharkaboi277.jpg\n",
      "Renaming bidalasana_sharkaboi278.jpg\n",
      "Renaming bidalasana_sharkaboi279.jpg\n",
      "Renaming bidalasana_sharkaboi28.jpg\n",
      "Renaming bidalasana_sharkaboi280.jpg\n",
      "Renaming bidalasana_sharkaboi281.jpg\n",
      "Renaming bidalasana_sharkaboi282.jpg\n",
      "Renaming bidalasana_sharkaboi283.jpg\n",
      "Renaming bidalasana_sharkaboi284.jpg\n",
      "Renaming bidalasana_sharkaboi285.jpg\n",
      "Renaming bidalasana_sharkaboi286.jpg\n",
      "Renaming bidalasana_sharkaboi287.jpg\n",
      "Renaming bidalasana_sharkaboi288.jpg\n",
      "Renaming bidalasana_sharkaboi289.jpg\n",
      "Renaming bidalasana_sharkaboi29.jpeg\n",
      "Renaming bidalasana_sharkaboi290.jpg\n",
      "Renaming bidalasana_sharkaboi291.jpg\n",
      "Renaming bidalasana_sharkaboi292.jpg\n",
      "Renaming bidalasana_sharkaboi293.jpg\n",
      "Renaming bidalasana_sharkaboi294.jpg\n",
      "Renaming bidalasana_sharkaboi295.jpg\n",
      "Renaming bidalasana_sharkaboi296.jpg\n",
      "Renaming bidalasana_sharkaboi297.jpg\n",
      "Renaming bidalasana_sharkaboi298.jpg\n",
      "Renaming bidalasana_sharkaboi299.jpg\n",
      "Renaming bidalasana_sharkaboi3.jpeg\n",
      "Renaming bidalasana_sharkaboi30.jpg\n",
      "Renaming bidalasana_sharkaboi300.jpg\n",
      "Renaming bidalasana_sharkaboi301.jpg\n",
      "Renaming bidalasana_sharkaboi302.jpg\n",
      "Renaming bidalasana_sharkaboi303.jpg\n",
      "Renaming bidalasana_sharkaboi304.jpg\n",
      "Renaming bidalasana_sharkaboi305.jpg\n",
      "Renaming bidalasana_sharkaboi306.jpg\n",
      "Renaming bidalasana_sharkaboi307.jpg\n",
      "Renaming bidalasana_sharkaboi308.jpg\n",
      "Renaming bidalasana_sharkaboi309.jpg\n",
      "Renaming bidalasana_sharkaboi31.jpg\n",
      "Renaming bidalasana_sharkaboi310.jpg\n",
      "Renaming bidalasana_sharkaboi311.jpg\n",
      "Renaming bidalasana_sharkaboi312.jpg\n",
      "Renaming bidalasana_sharkaboi313.jpg\n",
      "Renaming bidalasana_sharkaboi314.jpg\n",
      "Renaming bidalasana_sharkaboi315.jpg\n",
      "Renaming bidalasana_sharkaboi32.jpeg\n",
      "Renaming bidalasana_sharkaboi33.jpg\n",
      "Renaming bidalasana_sharkaboi34.jpg\n",
      "Renaming bidalasana_sharkaboi35.jpg\n",
      "Renaming bidalasana_sharkaboi36.jpeg\n",
      "Renaming bidalasana_sharkaboi37.jpg\n",
      "Renaming bidalasana_sharkaboi38.jpg\n",
      "Renaming bidalasana_sharkaboi39.jpg\n",
      "Renaming bidalasana_sharkaboi4.jpg\n",
      "Renaming bidalasana_sharkaboi40.jpg\n",
      "Renaming bidalasana_sharkaboi41.jpeg\n",
      "Renaming bidalasana_sharkaboi42.jpg\n",
      "Renaming bidalasana_sharkaboi43.jpg\n",
      "Renaming bidalasana_sharkaboi44.jpg\n",
      "Renaming bidalasana_sharkaboi45.jpg\n",
      "Renaming bidalasana_sharkaboi46.jpg\n",
      "Renaming bidalasana_sharkaboi47.jpg\n",
      "Renaming bidalasana_sharkaboi48.jpg\n",
      "Renaming bidalasana_sharkaboi49.jpg\n",
      "Renaming bidalasana_sharkaboi5.jpg\n",
      "Renaming bidalasana_sharkaboi50.jpg\n",
      "Renaming bidalasana_sharkaboi51.jpg\n",
      "Renaming bidalasana_sharkaboi52.jpg\n",
      "Renaming bidalasana_sharkaboi53.jpeg\n",
      "Renaming bidalasana_sharkaboi54.jpg\n",
      "Renaming bidalasana_sharkaboi55.jpg\n",
      "Renaming bidalasana_sharkaboi56.jpg\n",
      "Renaming bidalasana_sharkaboi57.jpg\n",
      "Renaming bidalasana_sharkaboi58.jpg\n",
      "Renaming bidalasana_sharkaboi59.jpeg\n",
      "Renaming bidalasana_sharkaboi6.jpg\n",
      "Renaming bidalasana_sharkaboi60.jpg\n",
      "Renaming bidalasana_sharkaboi61.jpg\n",
      "Renaming bidalasana_sharkaboi62.jpeg\n",
      "Renaming bidalasana_sharkaboi63.jpg\n",
      "Renaming bidalasana_sharkaboi64.jpg\n",
      "Renaming bidalasana_sharkaboi65.jpg\n",
      "Renaming bidalasana_sharkaboi66.jpeg\n",
      "Renaming bidalasana_sharkaboi67.jpg\n",
      "Renaming bidalasana_sharkaboi68.jpg\n",
      "Renaming bidalasana_sharkaboi69.jpg\n",
      "Renaming bidalasana_sharkaboi7.jpg\n",
      "Renaming bidalasana_sharkaboi70.jpg\n",
      "Renaming bidalasana_sharkaboi71.jpg\n",
      "Renaming bidalasana_sharkaboi72.jpeg\n",
      "Renaming bidalasana_sharkaboi73.jpg\n",
      "Renaming bidalasana_sharkaboi74.jpeg\n",
      "Renaming bidalasana_sharkaboi75.jpg\n",
      "Renaming bidalasana_sharkaboi76.jpg\n",
      "Renaming bidalasana_sharkaboi77.jpg\n",
      "Renaming bidalasana_sharkaboi78.jpeg\n",
      "Renaming bidalasana_sharkaboi79.jpg\n",
      "Renaming bidalasana_sharkaboi8.jpeg\n",
      "Renaming bidalasana_sharkaboi80.jpg\n",
      "Renaming bidalasana_sharkaboi81.jpeg\n",
      "Renaming bidalasana_sharkaboi82.jpg\n",
      "Renaming bidalasana_sharkaboi83.jpg\n",
      "Renaming bidalasana_sharkaboi84.jpg\n",
      "Renaming bidalasana_sharkaboi85.jpg\n",
      "Renaming bidalasana_sharkaboi86.jpg\n",
      "Renaming bidalasana_sharkaboi87.jpeg\n",
      "Renaming bidalasana_sharkaboi88.jpg\n",
      "Renaming bidalasana_sharkaboi89.jpg\n",
      "Renaming bidalasana_sharkaboi9.jpg\n",
      "Renaming bidalasana_sharkaboi90.jpg\n",
      "Renaming bidalasana_sharkaboi91.jpeg\n",
      "Renaming bidalasana_sharkaboi92.jpg\n",
      "Renaming bidalasana_sharkaboi93.jpg\n",
      "Renaming bidalasana_sharkaboi94.jpg\n",
      "Renaming bidalasana_sharkaboi95.jpeg\n",
      "Renaming bidalasana_sharkaboi96.jpg\n",
      "Renaming bidalasana_sharkaboi97.jpg\n",
      "Renaming bidalasana_sharkaboi98.jpg\n",
      "Renaming bidalasana_sharkaboi99.jpeg\n",
      "Renaming phalakasana_sharkaboi1.jpg\n",
      "Renaming phalakasana_sharkaboi10.jpg\n",
      "Renaming phalakasana_sharkaboi100.jpg\n",
      "Renaming phalakasana_sharkaboi101.jpg\n",
      "Renaming phalakasana_sharkaboi102.jpg\n",
      "Renaming phalakasana_sharkaboi103.jpg\n",
      "Renaming phalakasana_sharkaboi104.jpg\n",
      "Renaming phalakasana_sharkaboi105.jpg\n",
      "Renaming phalakasana_sharkaboi106.jpg\n",
      "Renaming phalakasana_sharkaboi107.jpg\n",
      "Renaming phalakasana_sharkaboi108.jpg\n",
      "Renaming phalakasana_sharkaboi109.jpg\n",
      "Renaming phalakasana_sharkaboi11.jpg\n",
      "Renaming phalakasana_sharkaboi110.jpg\n",
      "Renaming phalakasana_sharkaboi111.jpg\n",
      "Renaming phalakasana_sharkaboi112.jpg\n",
      "Renaming phalakasana_sharkaboi113.jpg\n",
      "Renaming phalakasana_sharkaboi114.jpg\n",
      "Renaming phalakasana_sharkaboi115.jpg\n",
      "Renaming phalakasana_sharkaboi116.jpg\n",
      "Renaming phalakasana_sharkaboi117.jpg\n",
      "Renaming phalakasana_sharkaboi118.jpg\n",
      "Renaming phalakasana_sharkaboi119.jpg\n",
      "Renaming phalakasana_sharkaboi12.jpg\n",
      "Renaming phalakasana_sharkaboi120.jpg\n",
      "Renaming phalakasana_sharkaboi121.jpg\n",
      "Renaming phalakasana_sharkaboi122.jpg\n",
      "Renaming phalakasana_sharkaboi123.jpg\n",
      "Renaming phalakasana_sharkaboi124.jpg\n",
      "Renaming phalakasana_sharkaboi125.jpg\n",
      "Renaming phalakasana_sharkaboi126.jpg\n",
      "Renaming phalakasana_sharkaboi127.jpg\n",
      "Renaming phalakasana_sharkaboi128.jpg\n",
      "Renaming phalakasana_sharkaboi129.jpg\n",
      "Renaming phalakasana_sharkaboi13.jpg\n",
      "Renaming phalakasana_sharkaboi130.jpg\n",
      "Renaming phalakasana_sharkaboi131.jpg\n",
      "Renaming phalakasana_sharkaboi132.jpg\n",
      "Renaming phalakasana_sharkaboi133.jpg\n",
      "Renaming phalakasana_sharkaboi134.jpg\n",
      "Renaming phalakasana_sharkaboi135.jpg\n",
      "Renaming phalakasana_sharkaboi136.jpg\n",
      "Renaming phalakasana_sharkaboi137.jpg\n",
      "Renaming phalakasana_sharkaboi138.jpg\n",
      "Renaming phalakasana_sharkaboi139.jpg\n",
      "Renaming phalakasana_sharkaboi14.jpg\n",
      "Renaming phalakasana_sharkaboi140.jpg\n",
      "Renaming phalakasana_sharkaboi141.jpg\n",
      "Renaming phalakasana_sharkaboi142.jpg\n",
      "Renaming phalakasana_sharkaboi143.jpg\n",
      "Renaming phalakasana_sharkaboi144.jpg\n",
      "Renaming phalakasana_sharkaboi145.jpg\n",
      "Renaming phalakasana_sharkaboi15.jpg\n",
      "Renaming phalakasana_sharkaboi16.jpg\n",
      "Renaming phalakasana_sharkaboi17.jpg\n",
      "Renaming phalakasana_sharkaboi18.jpg\n",
      "Renaming phalakasana_sharkaboi19.jpg\n",
      "Renaming phalakasana_sharkaboi2.jpg\n",
      "Renaming phalakasana_sharkaboi20.jpg\n",
      "Renaming phalakasana_sharkaboi21.jpg\n",
      "Renaming phalakasana_sharkaboi22.jpg\n",
      "Renaming phalakasana_sharkaboi23.jpg\n",
      "Renaming phalakasana_sharkaboi24.jpg\n",
      "Renaming phalakasana_sharkaboi25.jpg\n",
      "Renaming phalakasana_sharkaboi26.jpg\n",
      "Renaming phalakasana_sharkaboi27.jpg\n",
      "Renaming phalakasana_sharkaboi28.jpg\n",
      "Renaming phalakasana_sharkaboi29.jpg\n",
      "Renaming phalakasana_sharkaboi3.jpg\n",
      "Renaming phalakasana_sharkaboi30.jpg\n",
      "Renaming phalakasana_sharkaboi31.jpg\n",
      "Renaming phalakasana_sharkaboi32.jpg\n",
      "Renaming phalakasana_sharkaboi33.jpg\n",
      "Renaming phalakasana_sharkaboi34.jpg\n",
      "Renaming phalakasana_sharkaboi35.jpg\n",
      "Renaming phalakasana_sharkaboi36.jpg\n",
      "Renaming phalakasana_sharkaboi37.jpg\n",
      "Renaming phalakasana_sharkaboi38.jpg\n",
      "Renaming phalakasana_sharkaboi39.jpg\n",
      "Renaming phalakasana_sharkaboi4.jpg\n",
      "Renaming phalakasana_sharkaboi40.jpg\n",
      "Renaming phalakasana_sharkaboi41.jpg\n",
      "Renaming phalakasana_sharkaboi42.jpg\n",
      "Renaming phalakasana_sharkaboi43.jpg\n",
      "Renaming phalakasana_sharkaboi44.jpg\n",
      "Renaming phalakasana_sharkaboi45.jpg\n",
      "Renaming phalakasana_sharkaboi46.jpg\n",
      "Renaming phalakasana_sharkaboi47.jpg\n",
      "Renaming phalakasana_sharkaboi48.jpg\n",
      "Renaming phalakasana_sharkaboi49.jpg\n",
      "Renaming phalakasana_sharkaboi5.jpg\n",
      "Renaming phalakasana_sharkaboi50.jpg\n",
      "Renaming phalakasana_sharkaboi51.jpg\n",
      "Renaming phalakasana_sharkaboi52.jpg\n",
      "Renaming phalakasana_sharkaboi53.jpg\n",
      "Renaming phalakasana_sharkaboi54.jpg\n",
      "Renaming phalakasana_sharkaboi55.jpg\n",
      "Renaming phalakasana_sharkaboi56.jpg\n",
      "Renaming phalakasana_sharkaboi57.jpg\n",
      "Renaming phalakasana_sharkaboi58.jpg\n",
      "Renaming phalakasana_sharkaboi59.jpg\n",
      "Renaming phalakasana_sharkaboi6.jpg\n",
      "Renaming phalakasana_sharkaboi60.jpg\n",
      "Renaming phalakasana_sharkaboi61.jpg\n",
      "Renaming phalakasana_sharkaboi62.jpg\n",
      "Renaming phalakasana_sharkaboi63.jpg\n",
      "Renaming phalakasana_sharkaboi64.jpg\n",
      "Renaming phalakasana_sharkaboi65.jpg\n",
      "Renaming phalakasana_sharkaboi66.jpg\n",
      "Renaming phalakasana_sharkaboi67.jpg\n",
      "Renaming phalakasana_sharkaboi68.jpg\n",
      "Renaming phalakasana_sharkaboi69.jpg\n",
      "Renaming phalakasana_sharkaboi7.jpg\n",
      "Renaming phalakasana_sharkaboi70.jpg\n",
      "Renaming phalakasana_sharkaboi71.jpg\n"
     ]
    },
    {
     "name": "stdout",
     "output_type": "stream",
     "text": [
      "Renaming phalakasana_sharkaboi72.jpg\n",
      "Renaming phalakasana_sharkaboi73.jpg\n",
      "Renaming phalakasana_sharkaboi74.jpeg\n",
      "Renaming phalakasana_sharkaboi75.jpg\n",
      "Renaming phalakasana_sharkaboi76.jpg\n",
      "Renaming phalakasana_sharkaboi77.jpg\n",
      "Renaming phalakasana_sharkaboi78.jpg\n",
      "Renaming phalakasana_sharkaboi79.jpg\n",
      "Renaming phalakasana_sharkaboi8.jpg\n",
      "Renaming phalakasana_sharkaboi80.jpg\n",
      "Renaming phalakasana_sharkaboi81.jpg\n",
      "Renaming phalakasana_sharkaboi82.jpg\n",
      "Renaming phalakasana_sharkaboi83.jpg\n",
      "Renaming phalakasana_sharkaboi84.jpg\n",
      "Renaming phalakasana_sharkaboi85.jpg\n",
      "Renaming phalakasana_sharkaboi86.jpg\n",
      "Renaming phalakasana_sharkaboi87.jpg\n",
      "Renaming phalakasana_sharkaboi88.jpg\n",
      "Renaming phalakasana_sharkaboi89.jpg\n",
      "Renaming phalakasana_sharkaboi9.jpg\n",
      "Renaming phalakasana_sharkaboi90.jpg\n",
      "Renaming phalakasana_sharkaboi91.jpg\n",
      "Renaming phalakasana_sharkaboi92.jpg\n",
      "Renaming phalakasana_sharkaboi93.jpg\n",
      "Renaming phalakasana_sharkaboi94.jpg\n",
      "Renaming phalakasana_sharkaboi95.jpg\n",
      "Renaming phalakasana_sharkaboi96.jpg\n",
      "Renaming phalakasana_sharkaboi97.jpg\n",
      "Renaming phalakasana_sharkaboi98.jpg\n",
      "Renaming phalakasana_sharkaboi99.jpg\n",
      "Renaming ustrasana_sharkaboi1.jpg\n",
      "Renaming ustrasana_sharkaboi10.jpg\n",
      "Renaming ustrasana_sharkaboi11.jpg\n",
      "Renaming ustrasana_sharkaboi12.jpg\n",
      "Renaming ustrasana_sharkaboi13.jpg\n",
      "Renaming ustrasana_sharkaboi14.jpg\n",
      "Renaming ustrasana_sharkaboi15.jpg\n",
      "Renaming ustrasana_sharkaboi16.jpg\n",
      "Renaming ustrasana_sharkaboi17.jpg\n",
      "Renaming ustrasana_sharkaboi18.jpg\n",
      "Renaming ustrasana_sharkaboi19.jpg\n",
      "Renaming ustrasana_sharkaboi2.jpg\n",
      "Renaming ustrasana_sharkaboi20.jpg\n",
      "Renaming ustrasana_sharkaboi21.jpg\n",
      "Renaming ustrasana_sharkaboi22.jpg\n",
      "Renaming ustrasana_sharkaboi23.jpg\n",
      "Renaming ustrasana_sharkaboi24.jpg\n",
      "Renaming ustrasana_sharkaboi25.jpg\n",
      "Renaming ustrasana_sharkaboi26.jpg\n",
      "Renaming ustrasana_sharkaboi27.jpg\n",
      "Renaming ustrasana_sharkaboi28.jpg\n",
      "Renaming ustrasana_sharkaboi29.jpg\n",
      "Renaming ustrasana_sharkaboi3.jpg\n",
      "Renaming ustrasana_sharkaboi30.jpg\n",
      "Renaming ustrasana_sharkaboi31.jpg\n",
      "Renaming ustrasana_sharkaboi32.jpg\n",
      "Renaming ustrasana_sharkaboi33.jpg\n",
      "Renaming ustrasana_sharkaboi34.jpg\n",
      "Renaming ustrasana_sharkaboi35.jpg\n",
      "Renaming ustrasana_sharkaboi36.jpg\n",
      "Renaming ustrasana_sharkaboi37.jpg\n",
      "Renaming ustrasana_sharkaboi38.jpg\n",
      "Renaming ustrasana_sharkaboi39.jpg\n",
      "Renaming ustrasana_sharkaboi4.jpg\n",
      "Renaming ustrasana_sharkaboi40.jpg\n",
      "Renaming ustrasana_sharkaboi41.jpg\n",
      "Renaming ustrasana_sharkaboi42.jpg\n",
      "Renaming ustrasana_sharkaboi43.jpg\n",
      "Renaming ustrasana_sharkaboi44.jpg\n",
      "Renaming ustrasana_sharkaboi45.jpg\n",
      "Renaming ustrasana_sharkaboi46.jpg\n",
      "Renaming ustrasana_sharkaboi47.jpg\n",
      "Renaming ustrasana_sharkaboi48.jpg\n",
      "Renaming ustrasana_sharkaboi49.jpg\n",
      "Renaming ustrasana_sharkaboi5.jpg\n",
      "Renaming ustrasana_sharkaboi50.jpg\n",
      "Renaming ustrasana_sharkaboi51.jpg\n",
      "Renaming ustrasana_sharkaboi52.jpg\n",
      "Renaming ustrasana_sharkaboi53.jpg\n",
      "Renaming ustrasana_sharkaboi54.jpg\n",
      "Renaming ustrasana_sharkaboi55.jpg\n",
      "Renaming ustrasana_sharkaboi56.jpg\n",
      "Renaming ustrasana_sharkaboi57.jpg\n",
      "Renaming ustrasana_sharkaboi58.jpg\n",
      "Renaming ustrasana_sharkaboi59.jpg\n",
      "Renaming ustrasana_sharkaboi6.jpg\n",
      "Renaming ustrasana_sharkaboi60.jpg\n",
      "Renaming ustrasana_sharkaboi61.jpg\n",
      "Renaming ustrasana_sharkaboi62.jpg\n",
      "Renaming ustrasana_sharkaboi63.jpg\n",
      "Renaming ustrasana_sharkaboi64.jpg\n",
      "Renaming ustrasana_sharkaboi65.jpg\n",
      "Renaming ustrasana_sharkaboi66.jpg\n",
      "Renaming ustrasana_sharkaboi7.jpg\n",
      "Renaming ustrasana_sharkaboi8.jpg\n",
      "Renaming ustrasana_sharkaboi9.jpg\n",
      "Renaming utkatasana_sharkaboi1.jpg\n",
      "Renaming utkatasana_sharkaboi10.jpg\n",
      "Renaming utkatasana_sharkaboi100.jpg\n",
      "Renaming utkatasana_sharkaboi101.jpg\n",
      "Renaming utkatasana_sharkaboi102.jpg\n",
      "Renaming utkatasana_sharkaboi103.jpg\n",
      "Renaming utkatasana_sharkaboi104.jpg\n",
      "Renaming utkatasana_sharkaboi105.jpg\n",
      "Renaming utkatasana_sharkaboi106.jpg\n",
      "Renaming utkatasana_sharkaboi107.jpg\n",
      "Renaming utkatasana_sharkaboi108.jpg\n",
      "Renaming utkatasana_sharkaboi109.jpg\n",
      "Renaming utkatasana_sharkaboi11.jpg\n",
      "Renaming utkatasana_sharkaboi110.jpg\n",
      "Renaming utkatasana_sharkaboi111.jpg\n",
      "Renaming utkatasana_sharkaboi112.jpg\n",
      "Renaming utkatasana_sharkaboi113.jpg\n",
      "Renaming utkatasana_sharkaboi114.jpg\n",
      "Renaming utkatasana_sharkaboi115.jpg\n",
      "Renaming utkatasana_sharkaboi116.jpg\n",
      "Renaming utkatasana_sharkaboi117.jpg\n",
      "Renaming utkatasana_sharkaboi118.jpg\n",
      "Renaming utkatasana_sharkaboi119.jpg\n",
      "Renaming utkatasana_sharkaboi12.jpg\n",
      "Renaming utkatasana_sharkaboi120.jpg\n",
      "Renaming utkatasana_sharkaboi121.jpg\n",
      "Renaming utkatasana_sharkaboi122.jpg\n",
      "Renaming utkatasana_sharkaboi123.jpg\n",
      "Renaming utkatasana_sharkaboi124.jpg\n",
      "Renaming utkatasana_sharkaboi125.jpg\n",
      "Renaming utkatasana_sharkaboi126.jpg\n",
      "Renaming utkatasana_sharkaboi127.jpg\n",
      "Renaming utkatasana_sharkaboi128.jpg\n",
      "Renaming utkatasana_sharkaboi129.jpg\n",
      "Renaming utkatasana_sharkaboi13.jpg\n",
      "Renaming utkatasana_sharkaboi130.jpg\n",
      "Renaming utkatasana_sharkaboi131.jpg\n",
      "Renaming utkatasana_sharkaboi132.jpg\n",
      "Renaming utkatasana_sharkaboi133.jpg\n",
      "Renaming utkatasana_sharkaboi134.jpg\n",
      "Renaming utkatasana_sharkaboi135.jpg\n",
      "Renaming utkatasana_sharkaboi136.jpg\n",
      "Renaming utkatasana_sharkaboi137.jpg\n",
      "Renaming utkatasana_sharkaboi138.jpg\n",
      "Renaming utkatasana_sharkaboi139.jpg\n",
      "Renaming utkatasana_sharkaboi14.jpg\n",
      "Renaming utkatasana_sharkaboi140.jpg\n",
      "Renaming utkatasana_sharkaboi141.jpg\n",
      "Renaming utkatasana_sharkaboi142.jpg\n",
      "Renaming utkatasana_sharkaboi143.jpg\n",
      "Renaming utkatasana_sharkaboi144.jpg\n",
      "Renaming utkatasana_sharkaboi145.jpg\n",
      "Renaming utkatasana_sharkaboi146.jpg\n",
      "Renaming utkatasana_sharkaboi147.jpg\n",
      "Renaming utkatasana_sharkaboi148.jpg\n",
      "Renaming utkatasana_sharkaboi149.jpg\n",
      "Renaming utkatasana_sharkaboi15.jpg\n",
      "Renaming utkatasana_sharkaboi150.jpg\n",
      "Renaming utkatasana_sharkaboi151.jpg\n",
      "Renaming utkatasana_sharkaboi152.jpg\n",
      "Renaming utkatasana_sharkaboi153.jpg\n",
      "Renaming utkatasana_sharkaboi154.jpg\n",
      "Renaming utkatasana_sharkaboi155.jpg\n",
      "Renaming utkatasana_sharkaboi156.jpg\n",
      "Renaming utkatasana_sharkaboi157.jpg\n",
      "Renaming utkatasana_sharkaboi158.jpg\n",
      "Renaming utkatasana_sharkaboi159.jpg\n",
      "Renaming utkatasana_sharkaboi16.jpg\n",
      "Renaming utkatasana_sharkaboi160.jpg\n",
      "Renaming utkatasana_sharkaboi161.jpg\n",
      "Renaming utkatasana_sharkaboi162.jpg\n",
      "Renaming utkatasana_sharkaboi163.jpg\n",
      "Renaming utkatasana_sharkaboi164.jpg\n",
      "Renaming utkatasana_sharkaboi165.jpg\n",
      "Renaming utkatasana_sharkaboi166.jpg\n",
      "Renaming utkatasana_sharkaboi167.jpg\n",
      "Renaming utkatasana_sharkaboi168.jpg\n",
      "Renaming utkatasana_sharkaboi169.jpg\n",
      "Renaming utkatasana_sharkaboi17.jpg\n",
      "Renaming utkatasana_sharkaboi170.jpg\n",
      "Renaming utkatasana_sharkaboi171.jpg\n",
      "Renaming utkatasana_sharkaboi172.jpg\n",
      "Renaming utkatasana_sharkaboi173.jpg\n",
      "Renaming utkatasana_sharkaboi174.jpg\n",
      "Renaming utkatasana_sharkaboi175.jpg\n",
      "Renaming utkatasana_sharkaboi176.jpg\n",
      "Renaming utkatasana_sharkaboi177.jpg\n",
      "Renaming utkatasana_sharkaboi178.jpg\n",
      "Renaming utkatasana_sharkaboi179.jpg\n",
      "Renaming utkatasana_sharkaboi18.jpg\n",
      "Renaming utkatasana_sharkaboi180.jpg\n",
      "Renaming utkatasana_sharkaboi181.jpg\n",
      "Renaming utkatasana_sharkaboi182.jpg\n",
      "Renaming utkatasana_sharkaboi183.jpg\n",
      "Renaming utkatasana_sharkaboi184.jpg\n",
      "Renaming utkatasana_sharkaboi185.jpg\n",
      "Renaming utkatasana_sharkaboi186.jpg\n",
      "Renaming utkatasana_sharkaboi187.jpg\n",
      "Renaming utkatasana_sharkaboi188.jpg\n",
      "Renaming utkatasana_sharkaboi189.jpg\n",
      "Renaming utkatasana_sharkaboi19.jpg\n",
      "Renaming utkatasana_sharkaboi190.jpg\n",
      "Renaming utkatasana_sharkaboi191.jpg\n",
      "Renaming utkatasana_sharkaboi192.jpg\n",
      "Renaming utkatasana_sharkaboi193.jpg\n",
      "Renaming utkatasana_sharkaboi194.jpg\n",
      "Renaming utkatasana_sharkaboi195.jpg\n",
      "Renaming utkatasana_sharkaboi196.jpg\n",
      "Renaming utkatasana_sharkaboi197.jpg\n",
      "Renaming utkatasana_sharkaboi198.jpg\n",
      "Renaming utkatasana_sharkaboi199.jpg\n",
      "Renaming utkatasana_sharkaboi2.jpg\n",
      "Renaming utkatasana_sharkaboi20.jpg\n",
      "Renaming utkatasana_sharkaboi200.jpg\n",
      "Renaming utkatasana_sharkaboi201.jpg\n",
      "Renaming utkatasana_sharkaboi202.jpg\n",
      "Renaming utkatasana_sharkaboi203.jpg\n",
      "Renaming utkatasana_sharkaboi204.jpg\n",
      "Renaming utkatasana_sharkaboi205.jpg\n",
      "Renaming utkatasana_sharkaboi206.jpg\n",
      "Renaming utkatasana_sharkaboi207.jpg\n",
      "Renaming utkatasana_sharkaboi208.jpg\n",
      "Renaming utkatasana_sharkaboi209.jpg\n",
      "Renaming utkatasana_sharkaboi21.jpg\n",
      "Renaming utkatasana_sharkaboi210.jpg\n",
      "Renaming utkatasana_sharkaboi211.jpg\n",
      "Renaming utkatasana_sharkaboi212.jpg\n",
      "Renaming utkatasana_sharkaboi213.jpg\n",
      "Renaming utkatasana_sharkaboi214.jpg\n",
      "Renaming utkatasana_sharkaboi215.jpg\n",
      "Renaming utkatasana_sharkaboi216.jpg\n",
      "Renaming utkatasana_sharkaboi217.jpg\n",
      "Renaming utkatasana_sharkaboi218.jpg\n",
      "Renaming utkatasana_sharkaboi219.jpg\n",
      "Renaming utkatasana_sharkaboi22.jpg\n",
      "Renaming utkatasana_sharkaboi220.jpg\n",
      "Renaming utkatasana_sharkaboi221.jpg\n",
      "Renaming utkatasana_sharkaboi222.jpg\n",
      "Renaming utkatasana_sharkaboi223.jpg\n",
      "Renaming utkatasana_sharkaboi224.jpg\n",
      "Renaming utkatasana_sharkaboi225.jpg\n",
      "Renaming utkatasana_sharkaboi226.jpg\n",
      "Renaming utkatasana_sharkaboi23.jpg\n",
      "Renaming utkatasana_sharkaboi24.jpg\n",
      "Renaming utkatasana_sharkaboi25.jpg\n",
      "Renaming utkatasana_sharkaboi26.jpg\n",
      "Renaming utkatasana_sharkaboi27.jpg\n",
      "Renaming utkatasana_sharkaboi28.jpg\n",
      "Renaming utkatasana_sharkaboi29.jpg\n",
      "Renaming utkatasana_sharkaboi3.jpg\n",
      "Renaming utkatasana_sharkaboi30.jpg\n",
      "Renaming utkatasana_sharkaboi31.jpg\n",
      "Renaming utkatasana_sharkaboi32.jpg\n",
      "Renaming utkatasana_sharkaboi33.jpg\n",
      "Renaming utkatasana_sharkaboi34.jpg\n",
      "Renaming utkatasana_sharkaboi35.jpg\n",
      "Renaming utkatasana_sharkaboi36.jpg\n",
      "Renaming utkatasana_sharkaboi37.jpg\n",
      "Renaming utkatasana_sharkaboi38.jpg\n",
      "Renaming utkatasana_sharkaboi39.jpg\n",
      "Renaming utkatasana_sharkaboi4.jpg\n",
      "Renaming utkatasana_sharkaboi40.jpg\n",
      "Renaming utkatasana_sharkaboi41.jpg\n",
      "Renaming utkatasana_sharkaboi42.jpg\n",
      "Renaming utkatasana_sharkaboi43.jpg\n",
      "Renaming utkatasana_sharkaboi44.jpg\n",
      "Renaming utkatasana_sharkaboi45.jpg\n",
      "Renaming utkatasana_sharkaboi46.jpg\n",
      "Renaming utkatasana_sharkaboi47.jpg\n",
      "Renaming utkatasana_sharkaboi48.jpg\n",
      "Renaming utkatasana_sharkaboi49.jpg\n",
      "Renaming utkatasana_sharkaboi5.jpg\n",
      "Renaming utkatasana_sharkaboi50.jpg\n",
      "Renaming utkatasana_sharkaboi51.jpg\n",
      "Renaming utkatasana_sharkaboi52.jpg\n",
      "Renaming utkatasana_sharkaboi53.jpg\n",
      "Renaming utkatasana_sharkaboi54.jpg\n",
      "Renaming utkatasana_sharkaboi55.jpg\n",
      "Renaming utkatasana_sharkaboi56.jpg\n",
      "Renaming utkatasana_sharkaboi57.jpg\n",
      "Renaming utkatasana_sharkaboi58.jpg\n",
      "Renaming utkatasana_sharkaboi59.jpg\n",
      "Renaming utkatasana_sharkaboi6.jpg\n",
      "Renaming utkatasana_sharkaboi60.jpg\n",
      "Renaming utkatasana_sharkaboi61.jpg\n",
      "Renaming utkatasana_sharkaboi62.jpg\n",
      "Renaming utkatasana_sharkaboi63.jpg\n",
      "Renaming utkatasana_sharkaboi64.jpg\n",
      "Renaming utkatasana_sharkaboi65.jpg\n",
      "Renaming utkatasana_sharkaboi66.jpg\n",
      "Renaming utkatasana_sharkaboi67.jpg\n",
      "Renaming utkatasana_sharkaboi68.jpg\n",
      "Renaming utkatasana_sharkaboi69.jpg\n",
      "Renaming utkatasana_sharkaboi7.jpg\n",
      "Renaming utkatasana_sharkaboi70.jpg\n",
      "Renaming utkatasana_sharkaboi71.jpg\n",
      "Renaming utkatasana_sharkaboi72.jpg\n",
      "Renaming utkatasana_sharkaboi73.jpg\n",
      "Renaming utkatasana_sharkaboi74.jpg\n",
      "Renaming utkatasana_sharkaboi75.jpg\n",
      "Renaming utkatasana_sharkaboi76.jpg\n",
      "Renaming utkatasana_sharkaboi77.jpg\n",
      "Renaming utkatasana_sharkaboi78.jpg\n",
      "Renaming utkatasana_sharkaboi79.jpg\n",
      "Renaming utkatasana_sharkaboi8.jpg\n",
      "Renaming utkatasana_sharkaboi80.jpg\n",
      "Renaming utkatasana_sharkaboi81.jpg\n",
      "Renaming utkatasana_sharkaboi82.jpg\n",
      "Renaming utkatasana_sharkaboi83.jpg\n",
      "Renaming utkatasana_sharkaboi84.jpg\n",
      "Renaming utkatasana_sharkaboi85.jpg\n",
      "Renaming utkatasana_sharkaboi86.jpg\n",
      "Renaming utkatasana_sharkaboi87.jpg\n",
      "Renaming utkatasana_sharkaboi88.jpg\n",
      "Renaming utkatasana_sharkaboi89.jpg\n",
      "Renaming utkatasana_sharkaboi9.jpg\n",
      "Renaming utkatasana_sharkaboi90.jpg\n",
      "Renaming utkatasana_sharkaboi91.jpg\n",
      "Renaming utkatasana_sharkaboi92.jpg\n",
      "Renaming utkatasana_sharkaboi93.jpg\n",
      "Renaming utkatasana_sharkaboi94.jpg\n",
      "Renaming utkatasana_sharkaboi95.jpg\n",
      "Renaming utkatasana_sharkaboi96.jpg\n",
      "Renaming utkatasana_sharkaboi97.jpg\n",
      "Renaming utkatasana_sharkaboi98.jpg\n",
      "Renaming utkatasana_sharkaboi99.jpg\n",
      "Renaming utkata_konasana_sharkaboi1.jpg\n",
      "Renaming utkata_konasana_sharkaboi10.jpg\n",
      "Renaming utkata_konasana_sharkaboi100.jpg\n",
      "Renaming utkata_konasana_sharkaboi101.jpg\n",
      "Renaming utkata_konasana_sharkaboi102.jpg\n",
      "Renaming utkata_konasana_sharkaboi103.jpg\n",
      "Renaming utkata_konasana_sharkaboi104.jpg\n",
      "Renaming utkata_konasana_sharkaboi105.jpg\n",
      "Renaming utkata_konasana_sharkaboi106.jpg\n",
      "Renaming utkata_konasana_sharkaboi107.jpg\n",
      "Renaming utkata_konasana_sharkaboi108.jpg\n",
      "Renaming utkata_konasana_sharkaboi109.jpg\n",
      "Renaming utkata_konasana_sharkaboi11.jpg\n",
      "Renaming utkata_konasana_sharkaboi110.jpg\n",
      "Renaming utkata_konasana_sharkaboi111.jpg\n",
      "Renaming utkata_konasana_sharkaboi112.jpg\n",
      "Renaming utkata_konasana_sharkaboi113.jpg\n",
      "Renaming utkata_konasana_sharkaboi114.jpg\n",
      "Renaming utkata_konasana_sharkaboi115.jpg\n",
      "Renaming utkata_konasana_sharkaboi116.jpg\n",
      "Renaming utkata_konasana_sharkaboi117.jpg\n",
      "Renaming utkata_konasana_sharkaboi118.jpg\n",
      "Renaming utkata_konasana_sharkaboi119.jpg\n",
      "Renaming utkata_konasana_sharkaboi12.jpg\n",
      "Renaming utkata_konasana_sharkaboi120.jpg\n",
      "Renaming utkata_konasana_sharkaboi121.jpg\n",
      "Renaming utkata_konasana_sharkaboi122.jpg\n",
      "Renaming utkata_konasana_sharkaboi123.jpg\n",
      "Renaming utkata_konasana_sharkaboi124.jpg\n",
      "Renaming utkata_konasana_sharkaboi125.jpg\n",
      "Renaming utkata_konasana_sharkaboi126.jpg\n",
      "Renaming utkata_konasana_sharkaboi127.jpg\n",
      "Renaming utkata_konasana_sharkaboi128.jpg\n",
      "Renaming utkata_konasana_sharkaboi129.jpg\n",
      "Renaming utkata_konasana_sharkaboi13.jpg\n",
      "Renaming utkata_konasana_sharkaboi130.jpg\n",
      "Renaming utkata_konasana_sharkaboi131.jpg\n",
      "Renaming utkata_konasana_sharkaboi132.jpg\n",
      "Renaming utkata_konasana_sharkaboi133.jpg\n",
      "Renaming utkata_konasana_sharkaboi134.jpg\n",
      "Renaming utkata_konasana_sharkaboi135.jpg\n",
      "Renaming utkata_konasana_sharkaboi136.jpg\n",
      "Renaming utkata_konasana_sharkaboi137.jpg\n",
      "Renaming utkata_konasana_sharkaboi138.jpg\n",
      "Renaming utkata_konasana_sharkaboi139.jpg\n",
      "Renaming utkata_konasana_sharkaboi14.jpg\n",
      "Renaming utkata_konasana_sharkaboi140.jpg\n",
      "Renaming utkata_konasana_sharkaboi141.jpg\n",
      "Renaming utkata_konasana_sharkaboi142.jpg\n",
      "Renaming utkata_konasana_sharkaboi143.jpg\n",
      "Renaming utkata_konasana_sharkaboi144.jpg\n",
      "Renaming utkata_konasana_sharkaboi145.jpg\n",
      "Renaming utkata_konasana_sharkaboi146.jpg\n",
      "Renaming utkata_konasana_sharkaboi147.jpg\n",
      "Renaming utkata_konasana_sharkaboi148.jpg\n",
      "Renaming utkata_konasana_sharkaboi149.jpg\n",
      "Renaming utkata_konasana_sharkaboi15.jpg\n",
      "Renaming utkata_konasana_sharkaboi150.jpg\n"
     ]
    },
    {
     "name": "stdout",
     "output_type": "stream",
     "text": [
      "Renaming utkata_konasana_sharkaboi151.jpeg\n",
      "Renaming utkata_konasana_sharkaboi152.jpg\n",
      "Renaming utkata_konasana_sharkaboi153.jpg\n",
      "Renaming utkata_konasana_sharkaboi154.jpg\n",
      "Renaming utkata_konasana_sharkaboi155.jpg\n",
      "Renaming utkata_konasana_sharkaboi156.jpg\n",
      "Renaming utkata_konasana_sharkaboi157.jpg\n",
      "Renaming utkata_konasana_sharkaboi158.jpg\n",
      "Renaming utkata_konasana_sharkaboi159.jpg\n",
      "Renaming utkata_konasana_sharkaboi16.jpg\n",
      "Renaming utkata_konasana_sharkaboi160.jpeg\n",
      "Renaming utkata_konasana_sharkaboi161.jpg\n",
      "Renaming utkata_konasana_sharkaboi162.jpg\n",
      "Renaming utkata_konasana_sharkaboi163.jpg\n",
      "Renaming utkata_konasana_sharkaboi164.jpg\n",
      "Renaming utkata_konasana_sharkaboi165.jpg\n",
      "Renaming utkata_konasana_sharkaboi166.jpg\n",
      "Renaming utkata_konasana_sharkaboi167.jpg\n",
      "Renaming utkata_konasana_sharkaboi168.jpg\n",
      "Renaming utkata_konasana_sharkaboi169.jpg\n",
      "Renaming utkata_konasana_sharkaboi17.jpg\n",
      "Renaming utkata_konasana_sharkaboi170.jpg\n",
      "Renaming utkata_konasana_sharkaboi171.jpg\n",
      "Renaming utkata_konasana_sharkaboi172.jpg\n",
      "Renaming utkata_konasana_sharkaboi173.jpeg\n",
      "Renaming utkata_konasana_sharkaboi174.jpg\n",
      "Renaming utkata_konasana_sharkaboi175.jpg\n",
      "Renaming utkata_konasana_sharkaboi176.jpg\n",
      "Renaming utkata_konasana_sharkaboi177.jpg\n",
      "Renaming utkata_konasana_sharkaboi178.jpg\n",
      "Renaming utkata_konasana_sharkaboi179.jpg\n",
      "Renaming utkata_konasana_sharkaboi18.jpg\n",
      "Renaming utkata_konasana_sharkaboi180.jpg\n",
      "Renaming utkata_konasana_sharkaboi181.jpg\n",
      "Renaming utkata_konasana_sharkaboi182.jpg\n",
      "Renaming utkata_konasana_sharkaboi183.jpg\n",
      "Renaming utkata_konasana_sharkaboi184.jpg\n",
      "Renaming utkata_konasana_sharkaboi185.jpg\n",
      "Renaming utkata_konasana_sharkaboi186.jpg\n",
      "Renaming utkata_konasana_sharkaboi187.jpg\n",
      "Renaming utkata_konasana_sharkaboi188.jpg\n",
      "Renaming utkata_konasana_sharkaboi189.jpg\n",
      "Renaming utkata_konasana_sharkaboi19.jpg\n",
      "Renaming utkata_konasana_sharkaboi190.jpg\n",
      "Renaming utkata_konasana_sharkaboi191.jpg\n",
      "Renaming utkata_konasana_sharkaboi192.jpg\n",
      "Renaming utkata_konasana_sharkaboi193.jpg\n",
      "Renaming utkata_konasana_sharkaboi194.jpg\n",
      "Renaming utkata_konasana_sharkaboi195.jpg\n",
      "Renaming utkata_konasana_sharkaboi196.jpg\n",
      "Renaming utkata_konasana_sharkaboi197.jpg\n",
      "Renaming utkata_konasana_sharkaboi198.jpg\n",
      "Renaming utkata_konasana_sharkaboi199.jpg\n",
      "Renaming utkata_konasana_sharkaboi2.jpg\n",
      "Renaming utkata_konasana_sharkaboi20.jpg\n",
      "Renaming utkata_konasana_sharkaboi200.jpg\n",
      "Renaming utkata_konasana_sharkaboi201.jpg\n",
      "Renaming utkata_konasana_sharkaboi202.jpg\n",
      "Renaming utkata_konasana_sharkaboi203.jpg\n",
      "Renaming utkata_konasana_sharkaboi204.jpg\n",
      "Renaming utkata_konasana_sharkaboi205.jpg\n",
      "Renaming utkata_konasana_sharkaboi206.jpg\n",
      "Renaming utkata_konasana_sharkaboi207.jpg\n",
      "Renaming utkata_konasana_sharkaboi208.jpg\n",
      "Renaming utkata_konasana_sharkaboi209.jpg\n",
      "Renaming utkata_konasana_sharkaboi21.jpg\n",
      "Renaming utkata_konasana_sharkaboi22.jpg\n",
      "Renaming utkata_konasana_sharkaboi23.jpg\n",
      "Renaming utkata_konasana_sharkaboi24.jpg\n",
      "Renaming utkata_konasana_sharkaboi25.jpg\n",
      "Renaming utkata_konasana_sharkaboi26.jpg\n",
      "Renaming utkata_konasana_sharkaboi27.jpg\n",
      "Renaming utkata_konasana_sharkaboi28.jpeg\n",
      "Renaming utkata_konasana_sharkaboi29.jpg\n",
      "Renaming utkata_konasana_sharkaboi3.jpeg\n",
      "Renaming utkata_konasana_sharkaboi30.jpg\n",
      "Renaming utkata_konasana_sharkaboi31.jpg\n",
      "Renaming utkata_konasana_sharkaboi32.jpg\n",
      "Renaming utkata_konasana_sharkaboi33.jpg\n",
      "Renaming utkata_konasana_sharkaboi34.jpg\n",
      "Renaming utkata_konasana_sharkaboi35.jpg\n",
      "Renaming utkata_konasana_sharkaboi36.jpg\n",
      "Renaming utkata_konasana_sharkaboi37.jpg\n",
      "Renaming utkata_konasana_sharkaboi38.jpg\n",
      "Renaming utkata_konasana_sharkaboi39.jpg\n",
      "Renaming utkata_konasana_sharkaboi4.jpg\n",
      "Renaming utkata_konasana_sharkaboi40.jpg\n",
      "Renaming utkata_konasana_sharkaboi41.jpg\n",
      "Renaming utkata_konasana_sharkaboi42.jpg\n",
      "Renaming utkata_konasana_sharkaboi43.jpg\n",
      "Renaming utkata_konasana_sharkaboi44.jpg\n",
      "Renaming utkata_konasana_sharkaboi45.jpg\n",
      "Renaming utkata_konasana_sharkaboi46.jpg\n",
      "Renaming utkata_konasana_sharkaboi47.jpg\n",
      "Renaming utkata_konasana_sharkaboi48.jpg\n",
      "Renaming utkata_konasana_sharkaboi49.jpg\n",
      "Renaming utkata_konasana_sharkaboi5.jpg\n",
      "Renaming utkata_konasana_sharkaboi50.jpg\n",
      "Renaming utkata_konasana_sharkaboi51.jpg\n",
      "Renaming utkata_konasana_sharkaboi52.jpg\n",
      "Renaming utkata_konasana_sharkaboi53.jpg\n",
      "Renaming utkata_konasana_sharkaboi54.jpg\n",
      "Renaming utkata_konasana_sharkaboi55.jpg\n",
      "Renaming utkata_konasana_sharkaboi56.jpeg\n",
      "Renaming utkata_konasana_sharkaboi57.jpg\n",
      "Renaming utkata_konasana_sharkaboi58.jpg\n",
      "Renaming utkata_konasana_sharkaboi59.jpg\n",
      "Renaming utkata_konasana_sharkaboi6.jpg\n",
      "Renaming utkata_konasana_sharkaboi60.jpg\n",
      "Renaming utkata_konasana_sharkaboi61.jpg\n",
      "Renaming utkata_konasana_sharkaboi62.jpg\n",
      "Renaming utkata_konasana_sharkaboi63.jpg\n",
      "Renaming utkata_konasana_sharkaboi64.jpg\n",
      "Renaming utkata_konasana_sharkaboi65.jpg\n",
      "Renaming utkata_konasana_sharkaboi66.jpg\n",
      "Renaming utkata_konasana_sharkaboi67.jpg\n",
      "Renaming utkata_konasana_sharkaboi68.jpg\n",
      "Renaming utkata_konasana_sharkaboi69.jpg\n",
      "Renaming utkata_konasana_sharkaboi7.jpg\n",
      "Renaming utkata_konasana_sharkaboi70.jpg\n",
      "Renaming utkata_konasana_sharkaboi71.jpg\n",
      "Renaming utkata_konasana_sharkaboi72.jpg\n",
      "Renaming utkata_konasana_sharkaboi73.jpg\n",
      "Renaming utkata_konasana_sharkaboi74.jpg\n",
      "Renaming utkata_konasana_sharkaboi75.jpg\n",
      "Renaming utkata_konasana_sharkaboi76.jpg\n",
      "Renaming utkata_konasana_sharkaboi77.jpg\n",
      "Renaming utkata_konasana_sharkaboi78.jpg\n",
      "Renaming utkata_konasana_sharkaboi79.jpg\n",
      "Renaming utkata_konasana_sharkaboi8.jpg\n",
      "Renaming utkata_konasana_sharkaboi80.jpg\n",
      "Renaming utkata_konasana_sharkaboi81.jpg\n",
      "Renaming utkata_konasana_sharkaboi82.jpg\n",
      "Renaming utkata_konasana_sharkaboi83.jpg\n",
      "Renaming utkata_konasana_sharkaboi84.jpg\n",
      "Renaming utkata_konasana_sharkaboi85.jpg\n",
      "Renaming utkata_konasana_sharkaboi86.jpg\n",
      "Renaming utkata_konasana_sharkaboi87.jpg\n",
      "Renaming utkata_konasana_sharkaboi88.jpg\n",
      "Renaming utkata_konasana_sharkaboi89.jpg\n",
      "Renaming utkata_konasana_sharkaboi9.jpg\n",
      "Renaming utkata_konasana_sharkaboi90.jpg\n",
      "Renaming utkata_konasana_sharkaboi91.jpg\n",
      "Renaming utkata_konasana_sharkaboi92.jpg\n",
      "Renaming utkata_konasana_sharkaboi93.jpg\n",
      "Renaming utkata_konasana_sharkaboi94.jpg\n",
      "Renaming utkata_konasana_sharkaboi95.jpg\n",
      "Renaming utkata_konasana_sharkaboi96.jpg\n",
      "Renaming utkata_konasana_sharkaboi97.jpg\n",
      "Renaming utkata_konasana_sharkaboi98.jpg\n",
      "Renaming utkata_konasana_sharkaboi99.jpg\n",
      "Renaming vasisthasana_sharkaboi1.jpg\n",
      "Renaming vasisthasana_sharkaboi10.jpg\n",
      "Renaming vasisthasana_sharkaboi100.jpg\n",
      "Renaming vasisthasana_sharkaboi101.jpg\n",
      "Renaming vasisthasana_sharkaboi102.jpg\n",
      "Renaming vasisthasana_sharkaboi103.jpg\n",
      "Renaming vasisthasana_sharkaboi104.jpg\n",
      "Renaming vasisthasana_sharkaboi105.jpg\n",
      "Renaming vasisthasana_sharkaboi106.jpg\n",
      "Renaming vasisthasana_sharkaboi107.jpg\n",
      "Renaming vasisthasana_sharkaboi108.jpg\n",
      "Renaming vasisthasana_sharkaboi109.jpg\n",
      "Renaming vasisthasana_sharkaboi11.jpg\n",
      "Renaming vasisthasana_sharkaboi110.jpg\n",
      "Renaming vasisthasana_sharkaboi111.jpg\n",
      "Renaming vasisthasana_sharkaboi112.jpg\n",
      "Renaming vasisthasana_sharkaboi113.jpg\n",
      "Renaming vasisthasana_sharkaboi114.jpg\n",
      "Renaming vasisthasana_sharkaboi115.jpg\n",
      "Renaming vasisthasana_sharkaboi116.jpg\n",
      "Renaming vasisthasana_sharkaboi117.jpg\n",
      "Renaming vasisthasana_sharkaboi118.jpg\n",
      "Renaming vasisthasana_sharkaboi119.jpg\n",
      "Renaming vasisthasana_sharkaboi12.jpg\n",
      "Renaming vasisthasana_sharkaboi120.jpg\n",
      "Renaming vasisthasana_sharkaboi121.jpg\n",
      "Renaming vasisthasana_sharkaboi122.jpg\n",
      "Renaming vasisthasana_sharkaboi123.jpg\n",
      "Renaming vasisthasana_sharkaboi124.jpg\n",
      "Renaming vasisthasana_sharkaboi125.jpg\n",
      "Renaming vasisthasana_sharkaboi126.jpg\n",
      "Renaming vasisthasana_sharkaboi127.jpg\n",
      "Renaming vasisthasana_sharkaboi128.jpg\n",
      "Renaming vasisthasana_sharkaboi129.jpg\n",
      "Renaming vasisthasana_sharkaboi13.jpg\n",
      "Renaming vasisthasana_sharkaboi130.jpg\n",
      "Renaming vasisthasana_sharkaboi131.jpg\n",
      "Renaming vasisthasana_sharkaboi132.jpg\n",
      "Renaming vasisthasana_sharkaboi133.jpg\n",
      "Renaming vasisthasana_sharkaboi134.jpg\n",
      "Renaming vasisthasana_sharkaboi135.jpg\n",
      "Renaming vasisthasana_sharkaboi136.jpg\n",
      "Renaming vasisthasana_sharkaboi137.jpg\n",
      "Renaming vasisthasana_sharkaboi138.jpg\n",
      "Renaming vasisthasana_sharkaboi139.jpg\n",
      "Renaming vasisthasana_sharkaboi14.jpg\n",
      "Renaming vasisthasana_sharkaboi140.jpg\n",
      "Renaming vasisthasana_sharkaboi141.jpg\n",
      "Renaming vasisthasana_sharkaboi142.jpg\n",
      "Renaming vasisthasana_sharkaboi143.jpg\n",
      "Renaming vasisthasana_sharkaboi144.jpg\n",
      "Renaming vasisthasana_sharkaboi145.jpg\n",
      "Renaming vasisthasana_sharkaboi146.jpg\n",
      "Renaming vasisthasana_sharkaboi147.jpg\n",
      "Renaming vasisthasana_sharkaboi148.jpg\n",
      "Renaming vasisthasana_sharkaboi15.jpg\n",
      "Renaming vasisthasana_sharkaboi16.jpg\n",
      "Renaming vasisthasana_sharkaboi17.jpg\n",
      "Renaming vasisthasana_sharkaboi18.jpg\n",
      "Renaming vasisthasana_sharkaboi19.jpg\n",
      "Renaming vasisthasana_sharkaboi2.jpg\n",
      "Renaming vasisthasana_sharkaboi20.jpg\n",
      "Renaming vasisthasana_sharkaboi21.jpg\n",
      "Renaming vasisthasana_sharkaboi22.jpg\n",
      "Renaming vasisthasana_sharkaboi23.jpg\n",
      "Renaming vasisthasana_sharkaboi24.jpg\n",
      "Renaming vasisthasana_sharkaboi25.jpg\n",
      "Renaming vasisthasana_sharkaboi26.jpg\n",
      "Renaming vasisthasana_sharkaboi27.jpg\n",
      "Renaming vasisthasana_sharkaboi28.jpg\n",
      "Renaming vasisthasana_sharkaboi29.jpg\n",
      "Renaming vasisthasana_sharkaboi3.jpg\n",
      "Renaming vasisthasana_sharkaboi30.jpg\n",
      "Renaming vasisthasana_sharkaboi31.jpg\n",
      "Renaming vasisthasana_sharkaboi32.jpg\n",
      "Renaming vasisthasana_sharkaboi33.jpg\n",
      "Renaming vasisthasana_sharkaboi34.jpg\n",
      "Renaming vasisthasana_sharkaboi35.jpg\n",
      "Renaming vasisthasana_sharkaboi36.jpg\n",
      "Renaming vasisthasana_sharkaboi37.jpg\n",
      "Renaming vasisthasana_sharkaboi38.jpg\n",
      "Renaming vasisthasana_sharkaboi39.jpg\n",
      "Renaming vasisthasana_sharkaboi4.jpg\n",
      "Renaming vasisthasana_sharkaboi40.jpg\n",
      "Renaming vasisthasana_sharkaboi41.jpg\n",
      "Renaming vasisthasana_sharkaboi42.jpg\n",
      "Renaming vasisthasana_sharkaboi43.jpg\n",
      "Renaming vasisthasana_sharkaboi44.jpg\n",
      "Renaming vasisthasana_sharkaboi45.jpg\n",
      "Renaming vasisthasana_sharkaboi46.jpg\n",
      "Renaming vasisthasana_sharkaboi47.jpg\n",
      "Renaming vasisthasana_sharkaboi48.jpg\n",
      "Renaming vasisthasana_sharkaboi49.jpg\n",
      "Renaming vasisthasana_sharkaboi5.jpg\n",
      "Renaming vasisthasana_sharkaboi50.jpg\n",
      "Renaming vasisthasana_sharkaboi51.jpg\n",
      "Renaming vasisthasana_sharkaboi52.jpg\n",
      "Renaming vasisthasana_sharkaboi53.jpg\n",
      "Renaming vasisthasana_sharkaboi54.jpg\n",
      "Renaming vasisthasana_sharkaboi55.jpg\n",
      "Renaming vasisthasana_sharkaboi56.jpg\n",
      "Renaming vasisthasana_sharkaboi57.jpg\n",
      "Renaming vasisthasana_sharkaboi58.jpg\n",
      "Renaming vasisthasana_sharkaboi59.jpg\n",
      "Renaming vasisthasana_sharkaboi6.jpg\n",
      "Renaming vasisthasana_sharkaboi60.jpg\n",
      "Renaming vasisthasana_sharkaboi61.jpg\n",
      "Renaming vasisthasana_sharkaboi62.jpg\n",
      "Renaming vasisthasana_sharkaboi63.jpg\n",
      "Renaming vasisthasana_sharkaboi64.jpg\n"
     ]
    },
    {
     "name": "stdout",
     "output_type": "stream",
     "text": [
      "Renaming vasisthasana_sharkaboi65.jpg\n",
      "Renaming vasisthasana_sharkaboi66.jpg\n",
      "Renaming vasisthasana_sharkaboi67.jpg\n",
      "Renaming vasisthasana_sharkaboi68.jpg\n",
      "Renaming vasisthasana_sharkaboi69.jpg\n",
      "Renaming vasisthasana_sharkaboi7.jpg\n",
      "Renaming vasisthasana_sharkaboi70.jpg\n",
      "Renaming vasisthasana_sharkaboi71.jpg\n",
      "Renaming vasisthasana_sharkaboi72.jpg\n",
      "Renaming vasisthasana_sharkaboi73.jpg\n",
      "Renaming vasisthasana_sharkaboi74.jpg\n",
      "Renaming vasisthasana_sharkaboi75.jpg\n",
      "Renaming vasisthasana_sharkaboi76.jpg\n",
      "Renaming vasisthasana_sharkaboi77.jpg\n",
      "Renaming vasisthasana_sharkaboi78.jpg\n",
      "Renaming vasisthasana_sharkaboi79.jpg\n",
      "Renaming vasisthasana_sharkaboi8.jpg\n",
      "Renaming vasisthasana_sharkaboi80.jpg\n",
      "Renaming vasisthasana_sharkaboi81.jpg\n",
      "Renaming vasisthasana_sharkaboi82.jpg\n",
      "Renaming vasisthasana_sharkaboi83.jpg\n",
      "Renaming vasisthasana_sharkaboi84.jpg\n",
      "Renaming vasisthasana_sharkaboi85.jpg\n",
      "Renaming vasisthasana_sharkaboi86.jpg\n",
      "Renaming vasisthasana_sharkaboi87.jpg\n",
      "Renaming vasisthasana_sharkaboi88.jpg\n",
      "Renaming vasisthasana_sharkaboi89.jpg\n",
      "Renaming vasisthasana_sharkaboi9.jpg\n",
      "Renaming vasisthasana_sharkaboi90.jpg\n",
      "Renaming vasisthasana_sharkaboi91.jpg\n",
      "Renaming vasisthasana_sharkaboi92.jpg\n",
      "Renaming vasisthasana_sharkaboi93.jpg\n",
      "Renaming vasisthasana_sharkaboi94.jpg\n",
      "Renaming vasisthasana_sharkaboi95.jpg\n",
      "Renaming vasisthasana_sharkaboi96.jpg\n",
      "Renaming vasisthasana_sharkaboi97.jpg\n",
      "Renaming vasisthasana_sharkaboi98.jpg\n",
      "Renaming vasisthasana_sharkaboi99.jpg\n",
      "Renaming virabhadrasana_i_sharkaboi1.jpg\n",
      "Renaming virabhadrasana_i_sharkaboi10.jpg\n",
      "Renaming virabhadrasana_i_sharkaboi100.jpg\n",
      "Renaming virabhadrasana_i_sharkaboi101.jpg\n",
      "Renaming virabhadrasana_i_sharkaboi102.jpg\n",
      "Renaming virabhadrasana_i_sharkaboi103.jpg\n",
      "Renaming virabhadrasana_i_sharkaboi104.jpg\n",
      "Renaming virabhadrasana_i_sharkaboi105.jpg\n",
      "Renaming virabhadrasana_i_sharkaboi106.jpg\n",
      "Renaming virabhadrasana_i_sharkaboi107.jpg\n",
      "Renaming virabhadrasana_i_sharkaboi108.jpg\n",
      "Renaming virabhadrasana_i_sharkaboi109.jpg\n",
      "Renaming virabhadrasana_i_sharkaboi11.jpg\n",
      "Renaming virabhadrasana_i_sharkaboi110.jpg\n",
      "Renaming virabhadrasana_i_sharkaboi111.jpg\n",
      "Renaming virabhadrasana_i_sharkaboi112.jpg\n",
      "Renaming virabhadrasana_i_sharkaboi113.jpg\n",
      "Renaming virabhadrasana_i_sharkaboi114.jpg\n",
      "Renaming virabhadrasana_i_sharkaboi115.jpg\n",
      "Renaming virabhadrasana_i_sharkaboi116.jpg\n",
      "Renaming virabhadrasana_i_sharkaboi117.jpg\n",
      "Renaming virabhadrasana_i_sharkaboi118.jpg\n",
      "Renaming virabhadrasana_i_sharkaboi119.jpg\n",
      "Renaming virabhadrasana_i_sharkaboi12.jpg\n",
      "Renaming virabhadrasana_i_sharkaboi120.jpg\n",
      "Renaming virabhadrasana_i_sharkaboi121.jpg\n",
      "Renaming virabhadrasana_i_sharkaboi122.jpg\n",
      "Renaming virabhadrasana_i_sharkaboi123.jpg\n",
      "Renaming virabhadrasana_i_sharkaboi124.jpg\n",
      "Renaming virabhadrasana_i_sharkaboi125.jpg\n",
      "Renaming virabhadrasana_i_sharkaboi126.jpg\n",
      "Renaming virabhadrasana_i_sharkaboi127.jpg\n",
      "Renaming virabhadrasana_i_sharkaboi128.jpg\n",
      "Renaming virabhadrasana_i_sharkaboi129.jpg\n",
      "Renaming virabhadrasana_i_sharkaboi13.jpg\n",
      "Renaming virabhadrasana_i_sharkaboi130.jpg\n",
      "Renaming virabhadrasana_i_sharkaboi131.jpg\n",
      "Renaming virabhadrasana_i_sharkaboi132.jpg\n",
      "Renaming virabhadrasana_i_sharkaboi133.jpg\n",
      "Renaming virabhadrasana_i_sharkaboi134.jpg\n",
      "Renaming virabhadrasana_i_sharkaboi135.jpg\n",
      "Renaming virabhadrasana_i_sharkaboi136.jpg\n",
      "Renaming virabhadrasana_i_sharkaboi137.jpg\n",
      "Renaming virabhadrasana_i_sharkaboi138.jpg\n",
      "Renaming virabhadrasana_i_sharkaboi139.jpg\n",
      "Renaming virabhadrasana_i_sharkaboi14.jpg\n",
      "Renaming virabhadrasana_i_sharkaboi140.jpg\n",
      "Renaming virabhadrasana_i_sharkaboi141.jpg\n",
      "Renaming virabhadrasana_i_sharkaboi142.jpg\n",
      "Renaming virabhadrasana_i_sharkaboi143.jpg\n",
      "Renaming virabhadrasana_i_sharkaboi144.jpg\n",
      "Renaming virabhadrasana_i_sharkaboi145.jpg\n",
      "Renaming virabhadrasana_i_sharkaboi146.jpg\n",
      "Renaming virabhadrasana_i_sharkaboi147.jpg\n",
      "Renaming virabhadrasana_i_sharkaboi148.jpg\n",
      "Renaming virabhadrasana_i_sharkaboi149.jpg\n",
      "Renaming virabhadrasana_i_sharkaboi15.jpg\n",
      "Renaming virabhadrasana_i_sharkaboi150.jpg\n",
      "Renaming virabhadrasana_i_sharkaboi151.jpg\n",
      "Renaming virabhadrasana_i_sharkaboi152.jpg\n",
      "Renaming virabhadrasana_i_sharkaboi153.jpg\n",
      "Renaming virabhadrasana_i_sharkaboi154.jpg\n",
      "Renaming virabhadrasana_i_sharkaboi155.jpg\n",
      "Renaming virabhadrasana_i_sharkaboi156.jpg\n",
      "Renaming virabhadrasana_i_sharkaboi157.jpg\n",
      "Renaming virabhadrasana_i_sharkaboi158.jpg\n",
      "Renaming virabhadrasana_i_sharkaboi159.jpg\n",
      "Renaming virabhadrasana_i_sharkaboi16.jpg\n",
      "Renaming virabhadrasana_i_sharkaboi160.jpg\n",
      "Renaming virabhadrasana_i_sharkaboi161.jpg\n",
      "Renaming virabhadrasana_i_sharkaboi162.jpg\n",
      "Renaming virabhadrasana_i_sharkaboi163.jpg\n",
      "Renaming virabhadrasana_i_sharkaboi164.jpg\n",
      "Renaming virabhadrasana_i_sharkaboi165.jpg\n",
      "Renaming virabhadrasana_i_sharkaboi166.jpg\n",
      "Renaming virabhadrasana_i_sharkaboi167.jpg\n",
      "Renaming virabhadrasana_i_sharkaboi168.jpg\n",
      "Renaming virabhadrasana_i_sharkaboi169.jpg\n",
      "Renaming virabhadrasana_i_sharkaboi17.jpg\n",
      "Renaming virabhadrasana_i_sharkaboi170.jpg\n",
      "Renaming virabhadrasana_i_sharkaboi171.jpg\n",
      "Renaming virabhadrasana_i_sharkaboi172.jpeg\n",
      "Renaming virabhadrasana_i_sharkaboi173.jpg\n",
      "Renaming virabhadrasana_i_sharkaboi174.jpg\n",
      "Renaming virabhadrasana_i_sharkaboi175.jpg\n",
      "Renaming virabhadrasana_i_sharkaboi176.jpg\n",
      "Renaming virabhadrasana_i_sharkaboi177.jpg\n",
      "Renaming virabhadrasana_i_sharkaboi178.jpg\n",
      "Renaming virabhadrasana_i_sharkaboi179.jpg\n",
      "Renaming virabhadrasana_i_sharkaboi18.jpg\n",
      "Renaming virabhadrasana_i_sharkaboi180.jpg\n",
      "Renaming virabhadrasana_i_sharkaboi181.jpg\n",
      "Renaming virabhadrasana_i_sharkaboi182.jpg\n",
      "Renaming virabhadrasana_i_sharkaboi183.jpg\n",
      "Renaming virabhadrasana_i_sharkaboi184.jpg\n",
      "Renaming virabhadrasana_i_sharkaboi185.jpg\n",
      "Renaming virabhadrasana_i_sharkaboi186.jpg\n",
      "Renaming virabhadrasana_i_sharkaboi187.jpg\n",
      "Renaming virabhadrasana_i_sharkaboi188.jpg\n",
      "Renaming virabhadrasana_i_sharkaboi189.jpg\n",
      "Renaming virabhadrasana_i_sharkaboi19.jpg\n",
      "Renaming virabhadrasana_i_sharkaboi190.jpg\n",
      "Renaming virabhadrasana_i_sharkaboi191.jpg\n",
      "Renaming virabhadrasana_i_sharkaboi192.jpg\n",
      "Renaming virabhadrasana_i_sharkaboi193.jpg\n",
      "Renaming virabhadrasana_i_sharkaboi194.jpg\n",
      "Renaming virabhadrasana_i_sharkaboi195.jpg\n",
      "Renaming virabhadrasana_i_sharkaboi196.jpg\n",
      "Renaming virabhadrasana_i_sharkaboi197.jpg\n",
      "Renaming virabhadrasana_i_sharkaboi198.jpg\n",
      "Renaming virabhadrasana_i_sharkaboi199.jpg\n",
      "Renaming virabhadrasana_i_sharkaboi2.jpg\n",
      "Renaming virabhadrasana_i_sharkaboi20.jpg\n",
      "Renaming virabhadrasana_i_sharkaboi200.jpg\n",
      "Renaming virabhadrasana_i_sharkaboi201.jpg\n",
      "Renaming virabhadrasana_i_sharkaboi202.jpg\n",
      "Renaming virabhadrasana_i_sharkaboi203.jpg\n",
      "Renaming virabhadrasana_i_sharkaboi204.jpg\n",
      "Renaming virabhadrasana_i_sharkaboi205.jpg\n",
      "Renaming virabhadrasana_i_sharkaboi206.jpg\n",
      "Renaming virabhadrasana_i_sharkaboi207.jpg\n",
      "Renaming virabhadrasana_i_sharkaboi208.jpg\n",
      "Renaming virabhadrasana_i_sharkaboi209.jpg\n",
      "Renaming virabhadrasana_i_sharkaboi21.jpg\n",
      "Renaming virabhadrasana_i_sharkaboi210.jpg\n",
      "Renaming virabhadrasana_i_sharkaboi211.jpg\n",
      "Renaming virabhadrasana_i_sharkaboi212.jpg\n",
      "Renaming virabhadrasana_i_sharkaboi213.jpg\n",
      "Renaming virabhadrasana_i_sharkaboi214.jpg\n",
      "Renaming virabhadrasana_i_sharkaboi215.jpg\n",
      "Renaming virabhadrasana_i_sharkaboi216.jpg\n",
      "Renaming virabhadrasana_i_sharkaboi217.jpg\n",
      "Renaming virabhadrasana_i_sharkaboi218.jpg\n",
      "Renaming virabhadrasana_i_sharkaboi219.jpg\n",
      "Renaming virabhadrasana_i_sharkaboi22.jpg\n",
      "Renaming virabhadrasana_i_sharkaboi220.jpg\n",
      "Renaming virabhadrasana_i_sharkaboi221.jpg\n",
      "Renaming virabhadrasana_i_sharkaboi23.jpg\n",
      "Renaming virabhadrasana_i_sharkaboi24.jpg\n",
      "Renaming virabhadrasana_i_sharkaboi25.jpg\n",
      "Renaming virabhadrasana_i_sharkaboi26.jpg\n",
      "Renaming virabhadrasana_i_sharkaboi27.jpg\n",
      "Renaming virabhadrasana_i_sharkaboi28.jpg\n",
      "Renaming virabhadrasana_i_sharkaboi29.jpg\n",
      "Renaming virabhadrasana_i_sharkaboi3.jpg\n",
      "Renaming virabhadrasana_i_sharkaboi30.jpg\n",
      "Renaming virabhadrasana_i_sharkaboi31.jpg\n",
      "Renaming virabhadrasana_i_sharkaboi32.jpg\n",
      "Renaming virabhadrasana_i_sharkaboi33.jpg\n",
      "Renaming virabhadrasana_i_sharkaboi34.jpg\n",
      "Renaming virabhadrasana_i_sharkaboi35.jpg\n",
      "Renaming virabhadrasana_i_sharkaboi36.jpg\n",
      "Renaming virabhadrasana_i_sharkaboi37.jpg\n",
      "Renaming virabhadrasana_i_sharkaboi38.jpg\n",
      "Renaming virabhadrasana_i_sharkaboi39.jpg\n",
      "Renaming virabhadrasana_i_sharkaboi4.jpg\n",
      "Renaming virabhadrasana_i_sharkaboi40.jpg\n",
      "Renaming virabhadrasana_i_sharkaboi41.jpg\n",
      "Renaming virabhadrasana_i_sharkaboi42.jpg\n",
      "Renaming virabhadrasana_i_sharkaboi43.jpg\n",
      "Renaming virabhadrasana_i_sharkaboi44.jpg\n",
      "Renaming virabhadrasana_i_sharkaboi45.jpg\n",
      "Renaming virabhadrasana_i_sharkaboi46.jpg\n",
      "Renaming virabhadrasana_i_sharkaboi47.jpg\n",
      "Renaming virabhadrasana_i_sharkaboi48.jpg\n",
      "Renaming virabhadrasana_i_sharkaboi49.jpg\n",
      "Renaming virabhadrasana_i_sharkaboi5.jpg\n",
      "Renaming virabhadrasana_i_sharkaboi50.jpg\n",
      "Renaming virabhadrasana_i_sharkaboi51.jpg\n",
      "Renaming virabhadrasana_i_sharkaboi52.jpg\n",
      "Renaming virabhadrasana_i_sharkaboi53.jpg\n",
      "Renaming virabhadrasana_i_sharkaboi54.jpg\n",
      "Renaming virabhadrasana_i_sharkaboi55.jpg\n",
      "Renaming virabhadrasana_i_sharkaboi56.jpg\n",
      "Renaming virabhadrasana_i_sharkaboi57.jpg\n",
      "Renaming virabhadrasana_i_sharkaboi58.jpg\n",
      "Renaming virabhadrasana_i_sharkaboi59.jpg\n",
      "Renaming virabhadrasana_i_sharkaboi6.jpg\n",
      "Renaming virabhadrasana_i_sharkaboi60.jpg\n",
      "Renaming virabhadrasana_i_sharkaboi61.jpg\n",
      "Renaming virabhadrasana_i_sharkaboi62.jpg\n",
      "Renaming virabhadrasana_i_sharkaboi63.jpg\n",
      "Renaming virabhadrasana_i_sharkaboi64.jpg\n",
      "Renaming virabhadrasana_i_sharkaboi65.jpg\n",
      "Renaming virabhadrasana_i_sharkaboi66.jpg\n",
      "Renaming virabhadrasana_i_sharkaboi67.jpg\n",
      "Renaming virabhadrasana_i_sharkaboi68.jpg\n",
      "Renaming virabhadrasana_i_sharkaboi69.jpg\n",
      "Renaming virabhadrasana_i_sharkaboi7.jpg\n",
      "Renaming virabhadrasana_i_sharkaboi70.jpg\n",
      "Renaming virabhadrasana_i_sharkaboi71.jpg\n",
      "Renaming virabhadrasana_i_sharkaboi72.jpg\n",
      "Renaming virabhadrasana_i_sharkaboi73.jpg\n",
      "Renaming virabhadrasana_i_sharkaboi74.jpg\n",
      "Renaming virabhadrasana_i_sharkaboi75.jpg\n",
      "Renaming virabhadrasana_i_sharkaboi76.jpg\n",
      "Renaming virabhadrasana_i_sharkaboi77.jpg\n",
      "Renaming virabhadrasana_i_sharkaboi78.jpg\n",
      "Renaming virabhadrasana_i_sharkaboi79.jpg\n",
      "Renaming virabhadrasana_i_sharkaboi8.jpg\n",
      "Renaming virabhadrasana_i_sharkaboi80.jpg\n",
      "Renaming virabhadrasana_i_sharkaboi81.jpg\n",
      "Renaming virabhadrasana_i_sharkaboi82.jpg\n",
      "Renaming virabhadrasana_i_sharkaboi83.jpg\n",
      "Renaming virabhadrasana_i_sharkaboi84.jpg\n",
      "Renaming virabhadrasana_i_sharkaboi85.jpg\n",
      "Renaming virabhadrasana_i_sharkaboi86.jpg\n",
      "Renaming virabhadrasana_i_sharkaboi87.jpg\n",
      "Renaming virabhadrasana_i_sharkaboi88.jpg\n",
      "Renaming virabhadrasana_i_sharkaboi89.jpg\n",
      "Renaming virabhadrasana_i_sharkaboi9.jpg\n",
      "Renaming virabhadrasana_i_sharkaboi90.jpg\n",
      "Renaming virabhadrasana_i_sharkaboi91.jpg\n",
      "Renaming virabhadrasana_i_sharkaboi92.jpg\n",
      "Renaming virabhadrasana_i_sharkaboi93.jpg\n",
      "Renaming virabhadrasana_i_sharkaboi94.jpg\n",
      "Renaming virabhadrasana_i_sharkaboi95.jpg\n",
      "Renaming virabhadrasana_i_sharkaboi96.jpg\n",
      "Renaming virabhadrasana_i_sharkaboi97.jpg\n",
      "Renaming virabhadrasana_i_sharkaboi98.jpg\n",
      "Renaming virabhadrasana_i_sharkaboi99.jpg\n",
      "Renaming virabhadrasana_ii_sharkaboi1.jpg\n",
      "Renaming virabhadrasana_ii_sharkaboi10.jpg\n",
      "Renaming virabhadrasana_ii_sharkaboi100.jpg\n",
      "Renaming virabhadrasana_ii_sharkaboi101.jpg\n",
      "Renaming virabhadrasana_ii_sharkaboi102.jpg\n",
      "Renaming virabhadrasana_ii_sharkaboi103.jpg\n",
      "Renaming virabhadrasana_ii_sharkaboi104.jpg\n",
      "Renaming virabhadrasana_ii_sharkaboi105.jpg\n",
      "Renaming virabhadrasana_ii_sharkaboi106.jpg\n",
      "Renaming virabhadrasana_ii_sharkaboi107.jpg\n",
      "Renaming virabhadrasana_ii_sharkaboi108.jpg\n",
      "Renaming virabhadrasana_ii_sharkaboi109.jpg\n",
      "Renaming virabhadrasana_ii_sharkaboi11.jpg\n",
      "Renaming virabhadrasana_ii_sharkaboi110.jpg\n",
      "Renaming virabhadrasana_ii_sharkaboi111.jpg\n",
      "Renaming virabhadrasana_ii_sharkaboi112.jpg\n",
      "Renaming virabhadrasana_ii_sharkaboi113.jpg\n",
      "Renaming virabhadrasana_ii_sharkaboi114.jpg\n",
      "Renaming virabhadrasana_ii_sharkaboi115.jpg\n",
      "Renaming virabhadrasana_ii_sharkaboi116.jpg\n",
      "Renaming virabhadrasana_ii_sharkaboi117.jpg\n",
      "Renaming virabhadrasana_ii_sharkaboi118.jpg\n",
      "Renaming virabhadrasana_ii_sharkaboi119.jpg\n",
      "Renaming virabhadrasana_ii_sharkaboi12.jpg\n",
      "Renaming virabhadrasana_ii_sharkaboi120.jpg\n",
      "Renaming virabhadrasana_ii_sharkaboi121.jpg\n",
      "Renaming virabhadrasana_ii_sharkaboi122.jpg\n",
      "Renaming virabhadrasana_ii_sharkaboi123.jpg\n",
      "Renaming virabhadrasana_ii_sharkaboi124.jpg\n",
      "Renaming virabhadrasana_ii_sharkaboi125.jpg\n",
      "Renaming virabhadrasana_ii_sharkaboi126.jpg\n",
      "Renaming virabhadrasana_ii_sharkaboi127.jpg\n",
      "Renaming virabhadrasana_ii_sharkaboi128.jpg\n",
      "Renaming virabhadrasana_ii_sharkaboi129.jpg\n",
      "Renaming virabhadrasana_ii_sharkaboi13.jpg\n",
      "Renaming virabhadrasana_ii_sharkaboi130.jpg\n",
      "Renaming virabhadrasana_ii_sharkaboi131.jpg\n",
      "Renaming virabhadrasana_ii_sharkaboi132.jpg\n",
      "Renaming virabhadrasana_ii_sharkaboi133.jpg\n",
      "Renaming virabhadrasana_ii_sharkaboi134.jpg\n",
      "Renaming virabhadrasana_ii_sharkaboi135.jpg\n",
      "Renaming virabhadrasana_ii_sharkaboi136.jpg\n",
      "Renaming virabhadrasana_ii_sharkaboi137.jpg\n",
      "Renaming virabhadrasana_ii_sharkaboi138.jpg\n",
      "Renaming virabhadrasana_ii_sharkaboi139.jpg\n",
      "Renaming virabhadrasana_ii_sharkaboi14.jpg\n",
      "Renaming virabhadrasana_ii_sharkaboi140.jpg\n",
      "Renaming virabhadrasana_ii_sharkaboi141.jpg\n",
      "Renaming virabhadrasana_ii_sharkaboi142.jpg\n",
      "Renaming virabhadrasana_ii_sharkaboi143.jpg\n",
      "Renaming virabhadrasana_ii_sharkaboi144.jpg\n",
      "Renaming virabhadrasana_ii_sharkaboi145.jpg\n",
      "Renaming virabhadrasana_ii_sharkaboi146.jpg\n",
      "Renaming virabhadrasana_ii_sharkaboi147.jpg\n",
      "Renaming virabhadrasana_ii_sharkaboi148.jpg\n",
      "Renaming virabhadrasana_ii_sharkaboi149.jpg\n",
      "Renaming virabhadrasana_ii_sharkaboi15.jpg\n",
      "Renaming virabhadrasana_ii_sharkaboi150.jpg\n",
      "Renaming virabhadrasana_ii_sharkaboi151.jpg\n",
      "Renaming virabhadrasana_ii_sharkaboi152.jpg\n"
     ]
    },
    {
     "name": "stdout",
     "output_type": "stream",
     "text": [
      "Renaming virabhadrasana_ii_sharkaboi153.jpg\n",
      "Renaming virabhadrasana_ii_sharkaboi154.jpg\n",
      "Renaming virabhadrasana_ii_sharkaboi155.jpg\n",
      "Renaming virabhadrasana_ii_sharkaboi156.jpg\n",
      "Renaming virabhadrasana_ii_sharkaboi157.jpg\n",
      "Renaming virabhadrasana_ii_sharkaboi158.jpg\n",
      "Renaming virabhadrasana_ii_sharkaboi159.jpg\n",
      "Renaming virabhadrasana_ii_sharkaboi16.jpg\n",
      "Renaming virabhadrasana_ii_sharkaboi160.jpg\n",
      "Renaming virabhadrasana_ii_sharkaboi161.jpg\n",
      "Renaming virabhadrasana_ii_sharkaboi162.jpg\n",
      "Renaming virabhadrasana_ii_sharkaboi163.jpg\n",
      "Renaming virabhadrasana_ii_sharkaboi164.jpg\n",
      "Renaming virabhadrasana_ii_sharkaboi165.jpg\n",
      "Renaming virabhadrasana_ii_sharkaboi166.jpg\n",
      "Renaming virabhadrasana_ii_sharkaboi167.jpg\n",
      "Renaming virabhadrasana_ii_sharkaboi168.jpg\n",
      "Renaming virabhadrasana_ii_sharkaboi169.jpg\n",
      "Renaming virabhadrasana_ii_sharkaboi17.jpg\n",
      "Renaming virabhadrasana_ii_sharkaboi170.jpg\n",
      "Renaming virabhadrasana_ii_sharkaboi171.jpg\n",
      "Renaming virabhadrasana_ii_sharkaboi172.jpg\n",
      "Renaming virabhadrasana_ii_sharkaboi173.jpg\n",
      "Renaming virabhadrasana_ii_sharkaboi174.jpg\n",
      "Renaming virabhadrasana_ii_sharkaboi175.jpg\n",
      "Renaming virabhadrasana_ii_sharkaboi176.jpg\n",
      "Renaming virabhadrasana_ii_sharkaboi177.jpg\n",
      "Renaming virabhadrasana_ii_sharkaboi178.jpg\n",
      "Renaming virabhadrasana_ii_sharkaboi179.jpg\n",
      "Renaming virabhadrasana_ii_sharkaboi18.jpg\n",
      "Renaming virabhadrasana_ii_sharkaboi180.jpg\n",
      "Renaming virabhadrasana_ii_sharkaboi181.jpg\n",
      "Renaming virabhadrasana_ii_sharkaboi182.jpg\n",
      "Renaming virabhadrasana_ii_sharkaboi183.jpg\n",
      "Renaming virabhadrasana_ii_sharkaboi184.jpg\n",
      "Renaming virabhadrasana_ii_sharkaboi185.jpg\n",
      "Renaming virabhadrasana_ii_sharkaboi186.jpg\n",
      "Renaming virabhadrasana_ii_sharkaboi187.jpg\n",
      "Renaming virabhadrasana_ii_sharkaboi188.jpg\n",
      "Renaming virabhadrasana_ii_sharkaboi189.jpg\n",
      "Renaming virabhadrasana_ii_sharkaboi19.jpg\n",
      "Renaming virabhadrasana_ii_sharkaboi190.jpg\n",
      "Renaming virabhadrasana_ii_sharkaboi191.jpg\n",
      "Renaming virabhadrasana_ii_sharkaboi192.jpg\n",
      "Renaming virabhadrasana_ii_sharkaboi193.jpg\n",
      "Renaming virabhadrasana_ii_sharkaboi194.jpg\n",
      "Renaming virabhadrasana_ii_sharkaboi195.jpg\n",
      "Renaming virabhadrasana_ii_sharkaboi196.jpg\n",
      "Renaming virabhadrasana_ii_sharkaboi197.jpg\n",
      "Renaming virabhadrasana_ii_sharkaboi198.jpg\n",
      "Renaming virabhadrasana_ii_sharkaboi199.jpg\n",
      "Renaming virabhadrasana_ii_sharkaboi2.jpg\n",
      "Renaming virabhadrasana_ii_sharkaboi20.jpg\n",
      "Renaming virabhadrasana_ii_sharkaboi200.jpg\n",
      "Renaming virabhadrasana_ii_sharkaboi201.jpg\n",
      "Renaming virabhadrasana_ii_sharkaboi202.jpg\n",
      "Renaming virabhadrasana_ii_sharkaboi203.jpg\n",
      "Renaming virabhadrasana_ii_sharkaboi204.jpg\n",
      "Renaming virabhadrasana_ii_sharkaboi205.jpg\n",
      "Renaming virabhadrasana_ii_sharkaboi206.jpg\n",
      "Renaming virabhadrasana_ii_sharkaboi207.jpg\n",
      "Renaming virabhadrasana_ii_sharkaboi208.jpg\n",
      "Renaming virabhadrasana_ii_sharkaboi209.jpg\n",
      "Renaming virabhadrasana_ii_sharkaboi21.jpg\n",
      "Renaming virabhadrasana_ii_sharkaboi210.jpg\n",
      "Renaming virabhadrasana_ii_sharkaboi211.jpg\n",
      "Renaming virabhadrasana_ii_sharkaboi212.jpg\n",
      "Renaming virabhadrasana_ii_sharkaboi213.jpg\n",
      "Renaming virabhadrasana_ii_sharkaboi214.jpg\n",
      "Renaming virabhadrasana_ii_sharkaboi215.jpg\n",
      "Renaming virabhadrasana_ii_sharkaboi216.jpg\n",
      "Renaming virabhadrasana_ii_sharkaboi217.jpg\n",
      "Renaming virabhadrasana_ii_sharkaboi218.jpg\n",
      "Renaming virabhadrasana_ii_sharkaboi219.jpg\n",
      "Renaming virabhadrasana_ii_sharkaboi22.jpg\n",
      "Renaming virabhadrasana_ii_sharkaboi220.jpg\n",
      "Renaming virabhadrasana_ii_sharkaboi221.jpg\n",
      "Renaming virabhadrasana_ii_sharkaboi222.jpg\n",
      "Renaming virabhadrasana_ii_sharkaboi223.jpg\n",
      "Renaming virabhadrasana_ii_sharkaboi224.jpg\n",
      "Renaming virabhadrasana_ii_sharkaboi225.jpg\n",
      "Renaming virabhadrasana_ii_sharkaboi226.jpg\n",
      "Renaming virabhadrasana_ii_sharkaboi227.jpg\n",
      "Renaming virabhadrasana_ii_sharkaboi228.jpg\n",
      "Renaming virabhadrasana_ii_sharkaboi229.jpg\n",
      "Renaming virabhadrasana_ii_sharkaboi23.jpg\n",
      "Renaming virabhadrasana_ii_sharkaboi230.jpg\n",
      "Renaming virabhadrasana_ii_sharkaboi231.jpg\n",
      "Renaming virabhadrasana_ii_sharkaboi232.jpg\n",
      "Renaming virabhadrasana_ii_sharkaboi233.jpg\n",
      "Renaming virabhadrasana_ii_sharkaboi234.jpg\n",
      "Renaming virabhadrasana_ii_sharkaboi235.jpg\n",
      "Renaming virabhadrasana_ii_sharkaboi236.jpg\n",
      "Renaming virabhadrasana_ii_sharkaboi237.jpg\n",
      "Renaming virabhadrasana_ii_sharkaboi238.jpg\n",
      "Renaming virabhadrasana_ii_sharkaboi239.jpg\n",
      "Renaming virabhadrasana_ii_sharkaboi24.jpg\n",
      "Renaming virabhadrasana_ii_sharkaboi240.jpg\n",
      "Renaming virabhadrasana_ii_sharkaboi241.jpg\n",
      "Renaming virabhadrasana_ii_sharkaboi242.jpg\n",
      "Renaming virabhadrasana_ii_sharkaboi243.jpg\n",
      "Renaming virabhadrasana_ii_sharkaboi244.jpg\n",
      "Renaming virabhadrasana_ii_sharkaboi245.jpg\n",
      "Renaming virabhadrasana_ii_sharkaboi246.jpg\n",
      "Renaming virabhadrasana_ii_sharkaboi247.jpg\n",
      "Renaming virabhadrasana_ii_sharkaboi248.jpg\n",
      "Renaming virabhadrasana_ii_sharkaboi249.jpg\n",
      "Renaming virabhadrasana_ii_sharkaboi25.jpg\n",
      "Renaming virabhadrasana_ii_sharkaboi250.jpg\n",
      "Renaming virabhadrasana_ii_sharkaboi251.jpg\n",
      "Renaming virabhadrasana_ii_sharkaboi252.jpg\n",
      "Renaming virabhadrasana_ii_sharkaboi253.jpg\n",
      "Renaming virabhadrasana_ii_sharkaboi254.jpg\n",
      "Renaming virabhadrasana_ii_sharkaboi255.jpg\n",
      "Renaming virabhadrasana_ii_sharkaboi256.jpg\n",
      "Renaming virabhadrasana_ii_sharkaboi257.jpg\n",
      "Renaming virabhadrasana_ii_sharkaboi258.jpg\n",
      "Renaming virabhadrasana_ii_sharkaboi259.jpg\n",
      "Renaming virabhadrasana_ii_sharkaboi26.jpg\n",
      "Renaming virabhadrasana_ii_sharkaboi260.jpg\n",
      "Renaming virabhadrasana_ii_sharkaboi261.jpg\n",
      "Renaming virabhadrasana_ii_sharkaboi262.jpg\n",
      "Renaming virabhadrasana_ii_sharkaboi263.jpg\n",
      "Renaming virabhadrasana_ii_sharkaboi264.jpg\n",
      "Renaming virabhadrasana_ii_sharkaboi265.jpg\n",
      "Renaming virabhadrasana_ii_sharkaboi266.jpg\n",
      "Renaming virabhadrasana_ii_sharkaboi267.jpg\n",
      "Renaming virabhadrasana_ii_sharkaboi268.jpg\n",
      "Renaming virabhadrasana_ii_sharkaboi269.jpg\n",
      "Renaming virabhadrasana_ii_sharkaboi27.jpg\n",
      "Renaming virabhadrasana_ii_sharkaboi270.jpg\n",
      "Renaming virabhadrasana_ii_sharkaboi271.jpg\n",
      "Renaming virabhadrasana_ii_sharkaboi272.jpg\n",
      "Renaming virabhadrasana_ii_sharkaboi273.jpg\n",
      "Renaming virabhadrasana_ii_sharkaboi274.jpg\n",
      "Renaming virabhadrasana_ii_sharkaboi275.jpg\n",
      "Renaming virabhadrasana_ii_sharkaboi276.jpg\n",
      "Renaming virabhadrasana_ii_sharkaboi277.jpg\n",
      "Renaming virabhadrasana_ii_sharkaboi278.jpg\n",
      "Renaming virabhadrasana_ii_sharkaboi279.jpg\n",
      "Renaming virabhadrasana_ii_sharkaboi28.jpg\n",
      "Renaming virabhadrasana_ii_sharkaboi280.jpg\n",
      "Renaming virabhadrasana_ii_sharkaboi281.jpg\n",
      "Renaming virabhadrasana_ii_sharkaboi282.jpg\n",
      "Renaming virabhadrasana_ii_sharkaboi283.jpg\n",
      "Renaming virabhadrasana_ii_sharkaboi284.jpg\n",
      "Renaming virabhadrasana_ii_sharkaboi285.jpg\n",
      "Renaming virabhadrasana_ii_sharkaboi286.jpg\n",
      "Renaming virabhadrasana_ii_sharkaboi287.jpg\n",
      "Renaming virabhadrasana_ii_sharkaboi288.jpg\n",
      "Renaming virabhadrasana_ii_sharkaboi289.jpg\n",
      "Renaming virabhadrasana_ii_sharkaboi29.jpg\n",
      "Renaming virabhadrasana_ii_sharkaboi290.jpg\n",
      "Renaming virabhadrasana_ii_sharkaboi291.jpg\n",
      "Renaming virabhadrasana_ii_sharkaboi292.jpg\n",
      "Renaming virabhadrasana_ii_sharkaboi293.jpg\n",
      "Renaming virabhadrasana_ii_sharkaboi294.jpg\n",
      "Renaming virabhadrasana_ii_sharkaboi295.jpg\n",
      "Renaming virabhadrasana_ii_sharkaboi296.jpg\n",
      "Renaming virabhadrasana_ii_sharkaboi297.jpg\n",
      "Renaming virabhadrasana_ii_sharkaboi298.jpg\n",
      "Renaming virabhadrasana_ii_sharkaboi299.jpg\n",
      "Renaming virabhadrasana_ii_sharkaboi3.jpg\n",
      "Renaming virabhadrasana_ii_sharkaboi30.jpg\n",
      "Renaming virabhadrasana_ii_sharkaboi300.jpg\n",
      "Renaming virabhadrasana_ii_sharkaboi301.jpg\n",
      "Renaming virabhadrasana_ii_sharkaboi302.jpg\n",
      "Renaming virabhadrasana_ii_sharkaboi303.jpg\n",
      "Renaming virabhadrasana_ii_sharkaboi304.jpg\n",
      "Renaming virabhadrasana_ii_sharkaboi305.jpg\n",
      "Renaming virabhadrasana_ii_sharkaboi306.jpg\n",
      "Renaming virabhadrasana_ii_sharkaboi307.jpg\n",
      "Renaming virabhadrasana_ii_sharkaboi308.jpg\n",
      "Renaming virabhadrasana_ii_sharkaboi309.jpg\n",
      "Renaming virabhadrasana_ii_sharkaboi31.jpg\n",
      "Renaming virabhadrasana_ii_sharkaboi310.jpg\n",
      "Renaming virabhadrasana_ii_sharkaboi311.jpg\n",
      "Renaming virabhadrasana_ii_sharkaboi312.jpg\n",
      "Renaming virabhadrasana_ii_sharkaboi313.jpg\n",
      "Renaming virabhadrasana_ii_sharkaboi314.jpg\n",
      "Renaming virabhadrasana_ii_sharkaboi315.jpg\n",
      "Renaming virabhadrasana_ii_sharkaboi316.jpg\n",
      "Renaming virabhadrasana_ii_sharkaboi317.jpg\n",
      "Renaming virabhadrasana_ii_sharkaboi318.jpg\n",
      "Renaming virabhadrasana_ii_sharkaboi319.jpg\n",
      "Renaming virabhadrasana_ii_sharkaboi32.jpg\n",
      "Renaming virabhadrasana_ii_sharkaboi320.jpg\n",
      "Renaming virabhadrasana_ii_sharkaboi321.jpg\n",
      "Renaming virabhadrasana_ii_sharkaboi322.jpg\n",
      "Renaming virabhadrasana_ii_sharkaboi323.jpg\n",
      "Renaming virabhadrasana_ii_sharkaboi324.jpg\n",
      "Renaming virabhadrasana_ii_sharkaboi325.jpg\n",
      "Renaming virabhadrasana_ii_sharkaboi326.jpg\n",
      "Renaming virabhadrasana_ii_sharkaboi327.jpg\n",
      "Renaming virabhadrasana_ii_sharkaboi328.jpg\n",
      "Renaming virabhadrasana_ii_sharkaboi329.jpg\n",
      "Renaming virabhadrasana_ii_sharkaboi33.jpg\n",
      "Renaming virabhadrasana_ii_sharkaboi330.jpg\n",
      "Renaming virabhadrasana_ii_sharkaboi331.jpg\n",
      "Renaming virabhadrasana_ii_sharkaboi332.jpg\n",
      "Renaming virabhadrasana_ii_sharkaboi333.jpg\n",
      "Renaming virabhadrasana_ii_sharkaboi334.jpg\n",
      "Renaming virabhadrasana_ii_sharkaboi335.jpg\n",
      "Renaming virabhadrasana_ii_sharkaboi336.jpg\n",
      "Renaming virabhadrasana_ii_sharkaboi337.jpg\n",
      "Renaming virabhadrasana_ii_sharkaboi338.jpg\n",
      "Renaming virabhadrasana_ii_sharkaboi339.jpg\n",
      "Renaming virabhadrasana_ii_sharkaboi34.jpg\n",
      "Renaming virabhadrasana_ii_sharkaboi340.jpg\n",
      "Renaming virabhadrasana_ii_sharkaboi341.jpg\n",
      "Renaming virabhadrasana_ii_sharkaboi342.jpg\n",
      "Renaming virabhadrasana_ii_sharkaboi343.jpg\n",
      "Renaming virabhadrasana_ii_sharkaboi344.jpg\n",
      "Renaming virabhadrasana_ii_sharkaboi345.jpg\n",
      "Renaming virabhadrasana_ii_sharkaboi346.jpg\n",
      "Renaming virabhadrasana_ii_sharkaboi347.jpg\n",
      "Renaming virabhadrasana_ii_sharkaboi348.jpg\n",
      "Renaming virabhadrasana_ii_sharkaboi349.jpg\n",
      "Renaming virabhadrasana_ii_sharkaboi35.jpg\n",
      "Renaming virabhadrasana_ii_sharkaboi350.jpg\n",
      "Renaming virabhadrasana_ii_sharkaboi351.jpg\n",
      "Renaming virabhadrasana_ii_sharkaboi352.jpg\n",
      "Renaming virabhadrasana_ii_sharkaboi353.jpg\n",
      "Renaming virabhadrasana_ii_sharkaboi354.jpg\n",
      "Renaming virabhadrasana_ii_sharkaboi355.jpg\n",
      "Renaming virabhadrasana_ii_sharkaboi356.jpg\n",
      "Renaming virabhadrasana_ii_sharkaboi357.jpg\n",
      "Renaming virabhadrasana_ii_sharkaboi358.jpg\n",
      "Renaming virabhadrasana_ii_sharkaboi359.jpg\n",
      "Renaming virabhadrasana_ii_sharkaboi36.jpg\n",
      "Renaming virabhadrasana_ii_sharkaboi360.jpg\n",
      "Renaming virabhadrasana_ii_sharkaboi361.jpg\n",
      "Renaming virabhadrasana_ii_sharkaboi362.jpg\n",
      "Renaming virabhadrasana_ii_sharkaboi363.jpg\n",
      "Renaming virabhadrasana_ii_sharkaboi364.jpg\n",
      "Renaming virabhadrasana_ii_sharkaboi365.jpg\n",
      "Renaming virabhadrasana_ii_sharkaboi366.jpg\n",
      "Renaming virabhadrasana_ii_sharkaboi367.jpg\n",
      "Renaming virabhadrasana_ii_sharkaboi368.jpg\n"
     ]
    },
    {
     "name": "stdout",
     "output_type": "stream",
     "text": [
      "Renaming virabhadrasana_ii_sharkaboi369.jpg\n",
      "Renaming virabhadrasana_ii_sharkaboi37.jpg\n",
      "Renaming virabhadrasana_ii_sharkaboi370.jpg\n",
      "Renaming virabhadrasana_ii_sharkaboi371.jpg\n",
      "Renaming virabhadrasana_ii_sharkaboi372.jpg\n",
      "Renaming virabhadrasana_ii_sharkaboi373.jpg\n",
      "Renaming virabhadrasana_ii_sharkaboi374.jpg\n",
      "Renaming virabhadrasana_ii_sharkaboi375.jpg\n",
      "Renaming virabhadrasana_ii_sharkaboi376.jpg\n",
      "Renaming virabhadrasana_ii_sharkaboi377.jpg\n",
      "Renaming virabhadrasana_ii_sharkaboi378.jpg\n",
      "Renaming virabhadrasana_ii_sharkaboi379.jpg\n",
      "Renaming virabhadrasana_ii_sharkaboi38.jpg\n",
      "Renaming virabhadrasana_ii_sharkaboi380.jpg\n",
      "Renaming virabhadrasana_ii_sharkaboi381.jpg\n",
      "Renaming virabhadrasana_ii_sharkaboi382.jpg\n",
      "Renaming virabhadrasana_ii_sharkaboi383.jpg\n",
      "Renaming virabhadrasana_ii_sharkaboi384.jpg\n",
      "Renaming virabhadrasana_ii_sharkaboi385.jpg\n",
      "Renaming virabhadrasana_ii_sharkaboi386.jpg\n",
      "Renaming virabhadrasana_ii_sharkaboi387.jpg\n",
      "Renaming virabhadrasana_ii_sharkaboi388.jpg\n",
      "Renaming virabhadrasana_ii_sharkaboi389.jpg\n",
      "Renaming virabhadrasana_ii_sharkaboi39.jpg\n",
      "Renaming virabhadrasana_ii_sharkaboi4.jpg\n",
      "Renaming virabhadrasana_ii_sharkaboi40.jpg\n",
      "Renaming virabhadrasana_ii_sharkaboi41.jpg\n",
      "Renaming virabhadrasana_ii_sharkaboi42.jpg\n",
      "Renaming virabhadrasana_ii_sharkaboi43.jpg\n",
      "Renaming virabhadrasana_ii_sharkaboi44.jpg\n",
      "Renaming virabhadrasana_ii_sharkaboi45.jpg\n",
      "Renaming virabhadrasana_ii_sharkaboi46.jpg\n",
      "Renaming virabhadrasana_ii_sharkaboi47.jpg\n",
      "Renaming virabhadrasana_ii_sharkaboi48.jpg\n",
      "Renaming virabhadrasana_ii_sharkaboi49.jpg\n",
      "Renaming virabhadrasana_ii_sharkaboi5.jpg\n",
      "Renaming virabhadrasana_ii_sharkaboi50.jpg\n",
      "Renaming virabhadrasana_ii_sharkaboi51.jpg\n",
      "Renaming virabhadrasana_ii_sharkaboi52.jpg\n",
      "Renaming virabhadrasana_ii_sharkaboi53.jpg\n",
      "Renaming virabhadrasana_ii_sharkaboi54.jpg\n",
      "Renaming virabhadrasana_ii_sharkaboi55.jpg\n",
      "Renaming virabhadrasana_ii_sharkaboi56.jpg\n",
      "Renaming virabhadrasana_ii_sharkaboi57.jpg\n",
      "Renaming virabhadrasana_ii_sharkaboi58.jpg\n",
      "Renaming virabhadrasana_ii_sharkaboi59.jpg\n",
      "Renaming virabhadrasana_ii_sharkaboi6.jpg\n",
      "Renaming virabhadrasana_ii_sharkaboi60.jpg\n",
      "Renaming virabhadrasana_ii_sharkaboi61.jpg\n",
      "Renaming virabhadrasana_ii_sharkaboi62.jpg\n",
      "Renaming virabhadrasana_ii_sharkaboi63.jpg\n",
      "Renaming virabhadrasana_ii_sharkaboi64.jpg\n",
      "Renaming virabhadrasana_ii_sharkaboi65.jpg\n",
      "Renaming virabhadrasana_ii_sharkaboi66.jpg\n",
      "Renaming virabhadrasana_ii_sharkaboi67.jpg\n",
      "Renaming virabhadrasana_ii_sharkaboi68.jpg\n",
      "Renaming virabhadrasana_ii_sharkaboi69.jpg\n",
      "Renaming virabhadrasana_ii_sharkaboi7.jpg\n",
      "Renaming virabhadrasana_ii_sharkaboi70.jpg\n",
      "Renaming virabhadrasana_ii_sharkaboi71.jpg\n",
      "Renaming virabhadrasana_ii_sharkaboi72.jpg\n",
      "Renaming virabhadrasana_ii_sharkaboi73.jpg\n",
      "Renaming virabhadrasana_ii_sharkaboi74.jpg\n",
      "Renaming virabhadrasana_ii_sharkaboi75.jpg\n",
      "Renaming virabhadrasana_ii_sharkaboi76.jpg\n",
      "Renaming virabhadrasana_ii_sharkaboi77.jpg\n",
      "Renaming virabhadrasana_ii_sharkaboi78.jpg\n",
      "Renaming virabhadrasana_ii_sharkaboi79.jpg\n",
      "Renaming virabhadrasana_ii_sharkaboi8.jpg\n",
      "Renaming virabhadrasana_ii_sharkaboi80.jpg\n",
      "Renaming virabhadrasana_ii_sharkaboi81.jpg\n",
      "Renaming virabhadrasana_ii_sharkaboi82.jpg\n",
      "Renaming virabhadrasana_ii_sharkaboi83.jpg\n",
      "Renaming virabhadrasana_ii_sharkaboi84.jpg\n",
      "Renaming virabhadrasana_ii_sharkaboi85.jpg\n",
      "Renaming virabhadrasana_ii_sharkaboi86.jpg\n",
      "Renaming virabhadrasana_ii_sharkaboi87.jpg\n",
      "Renaming virabhadrasana_ii_sharkaboi88.jpg\n",
      "Renaming virabhadrasana_ii_sharkaboi89.jpg\n",
      "Renaming virabhadrasana_ii_sharkaboi9.jpg\n",
      "Renaming virabhadrasana_ii_sharkaboi90.jpg\n",
      "Renaming virabhadrasana_ii_sharkaboi91.jpeg\n",
      "Renaming virabhadrasana_ii_sharkaboi92.jpg\n",
      "Renaming virabhadrasana_ii_sharkaboi93.jpg\n",
      "Renaming virabhadrasana_ii_sharkaboi94.jpg\n",
      "Renaming virabhadrasana_ii_sharkaboi95.jpg\n",
      "Renaming virabhadrasana_ii_sharkaboi96.jpg\n",
      "Renaming virabhadrasana_ii_sharkaboi97.jpg\n",
      "Renaming virabhadrasana_ii_sharkaboi98.jpg\n",
      "Renaming virabhadrasana_ii_sharkaboi99.jpg\n",
      "Renaming vrikshasana_sharkaboi1.jpg\n",
      "Renaming vrikshasana_sharkaboi10.jpg\n",
      "Renaming vrikshasana_sharkaboi100.jpg\n",
      "Renaming vrikshasana_sharkaboi101.jpg\n",
      "Renaming vrikshasana_sharkaboi102.jpg\n",
      "Renaming vrikshasana_sharkaboi103.jpg\n",
      "Renaming vrikshasana_sharkaboi104.jpg\n",
      "Renaming vrikshasana_sharkaboi105.jpg\n",
      "Renaming vrikshasana_sharkaboi106.jpg\n",
      "Renaming vrikshasana_sharkaboi107.jpg\n",
      "Renaming vrikshasana_sharkaboi108.jpg\n",
      "Renaming vrikshasana_sharkaboi109.jpg\n",
      "Renaming vrikshasana_sharkaboi11.jpg\n",
      "Renaming vrikshasana_sharkaboi110.jpg\n",
      "Renaming vrikshasana_sharkaboi111.jpg\n",
      "Renaming vrikshasana_sharkaboi112.jpg\n",
      "Renaming vrikshasana_sharkaboi113.jpg\n",
      "Renaming vrikshasana_sharkaboi114.jpg\n",
      "Renaming vrikshasana_sharkaboi115.jpg\n",
      "Renaming vrikshasana_sharkaboi116.jpg\n",
      "Renaming vrikshasana_sharkaboi117.jpg\n",
      "Renaming vrikshasana_sharkaboi118.jpg\n",
      "Renaming vrikshasana_sharkaboi119.jpg\n",
      "Renaming vrikshasana_sharkaboi12.jpg\n",
      "Renaming vrikshasana_sharkaboi120.jpg\n",
      "Renaming vrikshasana_sharkaboi121.jpg\n",
      "Renaming vrikshasana_sharkaboi122.jpg\n",
      "Renaming vrikshasana_sharkaboi123.jpg\n",
      "Renaming vrikshasana_sharkaboi124.jpg\n",
      "Renaming vrikshasana_sharkaboi125.jpg\n",
      "Renaming vrikshasana_sharkaboi126.jpg\n",
      "Renaming vrikshasana_sharkaboi127.jpg\n",
      "Renaming vrikshasana_sharkaboi128.jpg\n",
      "Renaming vrikshasana_sharkaboi129.jpg\n",
      "Renaming vrikshasana_sharkaboi13.jpg\n",
      "Renaming vrikshasana_sharkaboi130.jpg\n",
      "Renaming vrikshasana_sharkaboi131.jpg\n",
      "Renaming vrikshasana_sharkaboi132.jpg\n",
      "Renaming vrikshasana_sharkaboi133.jpg\n",
      "Renaming vrikshasana_sharkaboi134.jpg\n",
      "Renaming vrikshasana_sharkaboi135.jpg\n",
      "Renaming vrikshasana_sharkaboi136.jpg\n",
      "Renaming vrikshasana_sharkaboi137.jpg\n",
      "Renaming vrikshasana_sharkaboi138.jpg\n",
      "Renaming vrikshasana_sharkaboi139.jpg\n",
      "Renaming vrikshasana_sharkaboi14.jpg\n",
      "Renaming vrikshasana_sharkaboi140.jpg\n",
      "Renaming vrikshasana_sharkaboi141.jpg\n",
      "Renaming vrikshasana_sharkaboi142.jpg\n",
      "Renaming vrikshasana_sharkaboi143.jpg\n",
      "Renaming vrikshasana_sharkaboi144.jpg\n",
      "Renaming vrikshasana_sharkaboi145.jpg\n",
      "Renaming vrikshasana_sharkaboi146.jpg\n",
      "Renaming vrikshasana_sharkaboi147.jpg\n",
      "Renaming vrikshasana_sharkaboi148.jpg\n",
      "Renaming vrikshasana_sharkaboi149.jpg\n",
      "Renaming vrikshasana_sharkaboi15.jpg\n",
      "Renaming vrikshasana_sharkaboi150.jpg\n",
      "Renaming vrikshasana_sharkaboi151.jpg\n",
      "Renaming vrikshasana_sharkaboi152.jpg\n",
      "Renaming vrikshasana_sharkaboi153.jpg\n",
      "Renaming vrikshasana_sharkaboi154.jpg\n",
      "Renaming vrikshasana_sharkaboi155.jpg\n",
      "Renaming vrikshasana_sharkaboi156.jpg\n",
      "Renaming vrikshasana_sharkaboi157.jpg\n",
      "Renaming vrikshasana_sharkaboi158.jpg\n",
      "Renaming vrikshasana_sharkaboi159.jpg\n",
      "Renaming vrikshasana_sharkaboi16.jpg\n",
      "Renaming vrikshasana_sharkaboi160.jpg\n",
      "Renaming vrikshasana_sharkaboi161.jpg\n",
      "Renaming vrikshasana_sharkaboi162.jpg\n",
      "Renaming vrikshasana_sharkaboi163.jpg\n",
      "Renaming vrikshasana_sharkaboi164.jpg\n",
      "Renaming vrikshasana_sharkaboi165.jpg\n",
      "Renaming vrikshasana_sharkaboi166.jpg\n",
      "Renaming vrikshasana_sharkaboi167.jpg\n",
      "Renaming vrikshasana_sharkaboi168.jpg\n",
      "Renaming vrikshasana_sharkaboi169.jpg\n",
      "Renaming vrikshasana_sharkaboi17.jpg\n",
      "Renaming vrikshasana_sharkaboi170.jpg\n",
      "Renaming vrikshasana_sharkaboi171.jpg\n",
      "Renaming vrikshasana_sharkaboi172.jpg\n",
      "Renaming vrikshasana_sharkaboi173.jpg\n",
      "Renaming vrikshasana_sharkaboi174.jpg\n",
      "Renaming vrikshasana_sharkaboi175.jpg\n",
      "Renaming vrikshasana_sharkaboi176.jpg\n",
      "Renaming vrikshasana_sharkaboi177.jpg\n",
      "Renaming vrikshasana_sharkaboi178.jpg\n",
      "Renaming vrikshasana_sharkaboi179.jpg\n",
      "Renaming vrikshasana_sharkaboi18.jpg\n",
      "Renaming vrikshasana_sharkaboi180.jpg\n",
      "Renaming vrikshasana_sharkaboi181.jpg\n",
      "Renaming vrikshasana_sharkaboi182.jpg\n",
      "Renaming vrikshasana_sharkaboi183.jpg\n",
      "Renaming vrikshasana_sharkaboi184.jpg\n",
      "Renaming vrikshasana_sharkaboi185.jpg\n",
      "Renaming vrikshasana_sharkaboi186.jpg\n",
      "Renaming vrikshasana_sharkaboi187.jpg\n",
      "Renaming vrikshasana_sharkaboi188.jpg\n",
      "Renaming vrikshasana_sharkaboi189.jpg\n",
      "Renaming vrikshasana_sharkaboi19.jpg\n",
      "Renaming vrikshasana_sharkaboi190.jpg\n",
      "Renaming vrikshasana_sharkaboi191.jpg\n",
      "Renaming vrikshasana_sharkaboi192.jpg\n",
      "Renaming vrikshasana_sharkaboi193.jpg\n",
      "Renaming vrikshasana_sharkaboi194.jpg\n",
      "Renaming vrikshasana_sharkaboi195.jpg\n",
      "Renaming vrikshasana_sharkaboi196.jpg\n",
      "Renaming vrikshasana_sharkaboi197.jpg\n",
      "Renaming vrikshasana_sharkaboi198.jpg\n",
      "Renaming vrikshasana_sharkaboi199.jpg\n",
      "Renaming vrikshasana_sharkaboi2.jpg\n",
      "Renaming vrikshasana_sharkaboi20.jpg\n",
      "Renaming vrikshasana_sharkaboi200.jpg\n",
      "Renaming vrikshasana_sharkaboi201.jpg\n",
      "Renaming vrikshasana_sharkaboi202.jpg\n",
      "Renaming vrikshasana_sharkaboi203.jpg\n",
      "Renaming vrikshasana_sharkaboi204.jpg\n",
      "Renaming vrikshasana_sharkaboi205.jpg\n",
      "Renaming vrikshasana_sharkaboi206.jpg\n",
      "Renaming vrikshasana_sharkaboi207.jpg\n",
      "Renaming vrikshasana_sharkaboi208.jpg\n",
      "Renaming vrikshasana_sharkaboi209.jpg\n",
      "Renaming vrikshasana_sharkaboi21.jpg\n",
      "Renaming vrikshasana_sharkaboi210.jpg\n",
      "Renaming vrikshasana_sharkaboi211.jpg\n",
      "Renaming vrikshasana_sharkaboi212.jpg\n",
      "Renaming vrikshasana_sharkaboi213.jpg\n",
      "Renaming vrikshasana_sharkaboi214.jpg\n",
      "Renaming vrikshasana_sharkaboi215.jpg\n",
      "Renaming vrikshasana_sharkaboi216.jpg\n",
      "Renaming vrikshasana_sharkaboi217.jpg\n",
      "Renaming vrikshasana_sharkaboi218.jpg\n",
      "Renaming vrikshasana_sharkaboi219.jpg\n",
      "Renaming vrikshasana_sharkaboi22.jpg\n",
      "Renaming vrikshasana_sharkaboi220.jpg\n",
      "Renaming vrikshasana_sharkaboi221.jpg\n",
      "Renaming vrikshasana_sharkaboi222.jpg\n",
      "Renaming vrikshasana_sharkaboi223.jpg\n",
      "Renaming vrikshasana_sharkaboi224.jpg\n",
      "Renaming vrikshasana_sharkaboi225.jpg\n",
      "Renaming vrikshasana_sharkaboi226.jpg\n",
      "Renaming vrikshasana_sharkaboi227.jpg\n",
      "Renaming vrikshasana_sharkaboi228.jpg\n",
      "Renaming vrikshasana_sharkaboi229.jpg\n",
      "Renaming vrikshasana_sharkaboi23.jpg\n",
      "Renaming vrikshasana_sharkaboi230.jpg\n",
      "Renaming vrikshasana_sharkaboi231.jpg\n",
      "Renaming vrikshasana_sharkaboi232.jpg\n",
      "Renaming vrikshasana_sharkaboi233.jpg\n",
      "Renaming vrikshasana_sharkaboi234.jpg\n",
      "Renaming vrikshasana_sharkaboi235.jpg\n",
      "Renaming vrikshasana_sharkaboi236.jpg\n",
      "Renaming vrikshasana_sharkaboi237.jpg\n",
      "Renaming vrikshasana_sharkaboi238.jpg\n",
      "Renaming vrikshasana_sharkaboi239.jpg\n",
      "Renaming vrikshasana_sharkaboi24.jpg\n",
      "Renaming vrikshasana_sharkaboi240.jpg\n",
      "Renaming vrikshasana_sharkaboi241.jpg\n",
      "Renaming vrikshasana_sharkaboi242.jpg\n",
      "Renaming vrikshasana_sharkaboi243.jpg\n",
      "Renaming vrikshasana_sharkaboi244.jpg\n",
      "Renaming vrikshasana_sharkaboi245.jpg\n",
      "Renaming vrikshasana_sharkaboi246.jpg\n",
      "Renaming vrikshasana_sharkaboi247.jpg\n",
      "Renaming vrikshasana_sharkaboi248.jpg\n",
      "Renaming vrikshasana_sharkaboi249.jpg\n",
      "Renaming vrikshasana_sharkaboi25.jpg\n",
      "Renaming vrikshasana_sharkaboi250.jpg\n",
      "Renaming vrikshasana_sharkaboi251.jpg\n",
      "Renaming vrikshasana_sharkaboi252.jpg\n",
      "Renaming vrikshasana_sharkaboi253.jpg\n",
      "Renaming vrikshasana_sharkaboi254.jpg\n",
      "Renaming vrikshasana_sharkaboi255.jpg\n",
      "Renaming vrikshasana_sharkaboi256.jpg\n",
      "Renaming vrikshasana_sharkaboi257.jpg\n",
      "Renaming vrikshasana_sharkaboi258.jpg\n",
      "Renaming vrikshasana_sharkaboi259.jpg\n",
      "Renaming vrikshasana_sharkaboi26.jpg\n",
      "Renaming vrikshasana_sharkaboi260.jpg\n",
      "Renaming vrikshasana_sharkaboi261.jpg\n",
      "Renaming vrikshasana_sharkaboi262.jpg\n",
      "Renaming vrikshasana_sharkaboi263.jpg\n",
      "Renaming vrikshasana_sharkaboi264.jpg\n",
      "Renaming vrikshasana_sharkaboi265.jpg\n",
      "Renaming vrikshasana_sharkaboi266.jpg\n",
      "Renaming vrikshasana_sharkaboi267.jpg\n",
      "Renaming vrikshasana_sharkaboi268.jpg\n",
      "Renaming vrikshasana_sharkaboi269.jpg\n",
      "Renaming vrikshasana_sharkaboi27.jpg\n",
      "Renaming vrikshasana_sharkaboi270.jpg\n",
      "Renaming vrikshasana_sharkaboi271.jpg\n",
      "Renaming vrikshasana_sharkaboi272.jpg\n",
      "Renaming vrikshasana_sharkaboi273.jpg\n",
      "Renaming vrikshasana_sharkaboi274.jpg\n",
      "Renaming vrikshasana_sharkaboi275.jpg\n",
      "Renaming vrikshasana_sharkaboi276.jpg\n",
      "Renaming vrikshasana_sharkaboi277.jpg\n",
      "Renaming vrikshasana_sharkaboi278.jpg\n",
      "Renaming vrikshasana_sharkaboi279.jpg\n",
      "Renaming vrikshasana_sharkaboi28.jpg\n"
     ]
    },
    {
     "name": "stdout",
     "output_type": "stream",
     "text": [
      "Renaming vrikshasana_sharkaboi280.jpg\n",
      "Renaming vrikshasana_sharkaboi281.jpg\n",
      "Renaming vrikshasana_sharkaboi282.jpg\n",
      "Renaming vrikshasana_sharkaboi283.jpg\n",
      "Renaming vrikshasana_sharkaboi284.jpg\n",
      "Renaming vrikshasana_sharkaboi285.jpg\n",
      "Renaming vrikshasana_sharkaboi286.jpg\n",
      "Renaming vrikshasana_sharkaboi287.jpg\n",
      "Renaming vrikshasana_sharkaboi288.jpg\n",
      "Renaming vrikshasana_sharkaboi289.jpg\n",
      "Renaming vrikshasana_sharkaboi29.jpg\n",
      "Renaming vrikshasana_sharkaboi290.jpg\n",
      "Renaming vrikshasana_sharkaboi291.jpg\n",
      "Renaming vrikshasana_sharkaboi292.jpg\n",
      "Renaming vrikshasana_sharkaboi293.jpg\n",
      "Renaming vrikshasana_sharkaboi294.jpg\n",
      "Renaming vrikshasana_sharkaboi295.jpg\n",
      "Renaming vrikshasana_sharkaboi296.jpg\n",
      "Renaming vrikshasana_sharkaboi297.jpg\n",
      "Renaming vrikshasana_sharkaboi298.jpg\n",
      "Renaming vrikshasana_sharkaboi299.jpg\n",
      "Renaming vrikshasana_sharkaboi3.jpg\n",
      "Renaming vrikshasana_sharkaboi30.jpg\n",
      "Renaming vrikshasana_sharkaboi300.jpg\n",
      "Renaming vrikshasana_sharkaboi301.jpg\n",
      "Renaming vrikshasana_sharkaboi302.jpg\n",
      "Renaming vrikshasana_sharkaboi303.jpg\n",
      "Renaming vrikshasana_sharkaboi304.jpg\n",
      "Renaming vrikshasana_sharkaboi305.jpg\n",
      "Renaming vrikshasana_sharkaboi306.jpg\n",
      "Renaming vrikshasana_sharkaboi307.jpg\n",
      "Renaming vrikshasana_sharkaboi308.jpg\n",
      "Renaming vrikshasana_sharkaboi309.jpg\n",
      "Renaming vrikshasana_sharkaboi31.jpg\n",
      "Renaming vrikshasana_sharkaboi310.jpg\n",
      "Renaming vrikshasana_sharkaboi311.jpg\n",
      "Renaming vrikshasana_sharkaboi312.jpg\n",
      "Renaming vrikshasana_sharkaboi313.jpg\n",
      "Renaming vrikshasana_sharkaboi314.jpg\n",
      "Renaming vrikshasana_sharkaboi315.jpg\n",
      "Renaming vrikshasana_sharkaboi316.jpg\n",
      "Renaming vrikshasana_sharkaboi317.jpg\n",
      "Renaming vrikshasana_sharkaboi318.jpg\n",
      "Renaming vrikshasana_sharkaboi319.jpg\n",
      "Renaming vrikshasana_sharkaboi32.jpg\n",
      "Renaming vrikshasana_sharkaboi320.jpg\n",
      "Renaming vrikshasana_sharkaboi321.jpg\n",
      "Renaming vrikshasana_sharkaboi33.jpg\n",
      "Renaming vrikshasana_sharkaboi34.jpg\n",
      "Renaming vrikshasana_sharkaboi35.jpg\n",
      "Renaming vrikshasana_sharkaboi36.jpg\n",
      "Renaming vrikshasana_sharkaboi37.jpg\n",
      "Renaming vrikshasana_sharkaboi38.jpg\n",
      "Renaming vrikshasana_sharkaboi39.jpg\n",
      "Renaming vrikshasana_sharkaboi4.jpg\n",
      "Renaming vrikshasana_sharkaboi40.jpg\n",
      "Renaming vrikshasana_sharkaboi41.jpg\n",
      "Renaming vrikshasana_sharkaboi42.jpg\n",
      "Renaming vrikshasana_sharkaboi43.jpg\n",
      "Renaming vrikshasana_sharkaboi44.jpg\n",
      "Renaming vrikshasana_sharkaboi45.jpg\n",
      "Renaming vrikshasana_sharkaboi46.jpg\n",
      "Renaming vrikshasana_sharkaboi47.jpg\n",
      "Renaming vrikshasana_sharkaboi48.jpg\n",
      "Renaming vrikshasana_sharkaboi49.jpg\n",
      "Renaming vrikshasana_sharkaboi5.jpg\n",
      "Renaming vrikshasana_sharkaboi50.jpg\n",
      "Renaming vrikshasana_sharkaboi51.jpg\n",
      "Renaming vrikshasana_sharkaboi52.jpg\n",
      "Renaming vrikshasana_sharkaboi53.jpg\n",
      "Renaming vrikshasana_sharkaboi54.jpg\n",
      "Renaming vrikshasana_sharkaboi55.jpg\n",
      "Renaming vrikshasana_sharkaboi56.jpg\n",
      "Renaming vrikshasana_sharkaboi57.jpg\n",
      "Renaming vrikshasana_sharkaboi58.jpg\n",
      "Renaming vrikshasana_sharkaboi59.jpg\n",
      "Renaming vrikshasana_sharkaboi6.jpg\n",
      "Renaming vrikshasana_sharkaboi60.jpg\n",
      "Renaming vrikshasana_sharkaboi61.jpg\n",
      "Renaming vrikshasana_sharkaboi62.jpg\n",
      "Renaming vrikshasana_sharkaboi63.jpg\n",
      "Renaming vrikshasana_sharkaboi64.jpg\n",
      "Renaming vrikshasana_sharkaboi65.jpg\n",
      "Renaming vrikshasana_sharkaboi66.jpg\n",
      "Renaming vrikshasana_sharkaboi67.jpg\n",
      "Renaming vrikshasana_sharkaboi68.jpg\n",
      "Renaming vrikshasana_sharkaboi69.jpg\n",
      "Renaming vrikshasana_sharkaboi7.jpg\n",
      "Renaming vrikshasana_sharkaboi70.jpg\n",
      "Renaming vrikshasana_sharkaboi71.jpg\n",
      "Renaming vrikshasana_sharkaboi72.jpg\n",
      "Renaming vrikshasana_sharkaboi73.jpg\n",
      "Renaming vrikshasana_sharkaboi74.jpg\n",
      "Renaming vrikshasana_sharkaboi75.jpg\n",
      "Renaming vrikshasana_sharkaboi76.jpg\n",
      "Renaming vrikshasana_sharkaboi77.jpg\n",
      "Renaming vrikshasana_sharkaboi78.jpg\n",
      "Renaming vrikshasana_sharkaboi79.jpg\n",
      "Renaming vrikshasana_sharkaboi8.jpg\n",
      "Renaming vrikshasana_sharkaboi80.jpg\n",
      "Renaming vrikshasana_sharkaboi81.jpg\n",
      "Renaming vrikshasana_sharkaboi82.jpg\n",
      "Renaming vrikshasana_sharkaboi83.jpg\n",
      "Renaming vrikshasana_sharkaboi84.jpg\n",
      "Renaming vrikshasana_sharkaboi85.jpg\n",
      "Renaming vrikshasana_sharkaboi86.jpg\n",
      "Renaming vrikshasana_sharkaboi87.jpg\n",
      "Renaming vrikshasana_sharkaboi88.jpg\n",
      "Renaming vrikshasana_sharkaboi89.jpg\n",
      "Renaming vrikshasana_sharkaboi9.jpg\n",
      "Renaming vrikshasana_sharkaboi90.jpg\n",
      "Renaming vrikshasana_sharkaboi91.jpg\n",
      "Renaming vrikshasana_sharkaboi92.jpg\n",
      "Renaming vrikshasana_sharkaboi93.jpg\n",
      "Renaming vrikshasana_sharkaboi94.jpg\n",
      "Renaming vrikshasana_sharkaboi95.jpg\n",
      "Renaming vrikshasana_sharkaboi96.jpg\n",
      "Renaming vrikshasana_sharkaboi97.jpg\n",
      "Renaming vrikshasana_sharkaboi98.jpg\n",
      "Renaming vrikshasana_sharkaboi99.jpg\n",
      "Finished cleaning file names\n"
     ]
    }
   ],
   "source": [
    "from PIL import Image\n",
    "import os\n",
    "import shutil\n",
    "import re\n",
    "from pathlib import Path\n",
    "\n",
    "classFolders = getClasses()\n",
    "for className in classFolders:\n",
    "    class_path = getPathOfClass(className)\n",
    "    files = os.listdir(class_path)\n",
    "    count = 1\n",
    "    for f in files:\n",
    "        old_path = os.path.join(class_path, f)\n",
    "        p = Path(old_path)\n",
    "        new_file_name = f\"{className}_{count}{p.suffix}\"\n",
    "        if new_file_name != f:\n",
    "            print(\"Renaming \" + f)\n",
    "        new_file_path = os.path.join(class_path, new_file_name)\n",
    "        if(os.path.exists(new_file_path)):\n",
    "            print(\"Clash in names, change to unique pattern\")\n",
    "            break\n",
    "        os.rename(old_path, new_file_path)\n",
    "        count += 1\n",
    "        \n",
    "print(\"Finished cleaning file names\")"
   ]
  },
  {
   "cell_type": "markdown",
   "id": "63dbd753",
   "metadata": {},
   "source": [
    "### Removing truncated images"
   ]
  },
  {
   "cell_type": "code",
   "execution_count": 6,
   "id": "0334414e",
   "metadata": {},
   "outputs": [
    {
     "name": "stdout",
     "output_type": "stream",
     "text": [
      "Done\n"
     ]
    }
   ],
   "source": [
    "from PIL import Image as pil_image\n",
    "import time\n",
    "\n",
    "def remove_file(path, retries=3, sleep=0.1):\n",
    "    for i in range(retries):\n",
    "        try:\n",
    "            os.remove(path)\n",
    "        except WindowsError:\n",
    "            time.sleep(sleep)\n",
    "        else:\n",
    "            break\n",
    "\n",
    "path = r\".\\data\\v2\"\n",
    "fols = os.listdir(path)\n",
    "for f in fols:\n",
    "    fil = os.listdir(os.path.join(path, f))\n",
    "    for file in fil:\n",
    "        fpath = os.path.join(path, f, file)\n",
    "        img = pil_image.open(fpath)\n",
    "        try:\n",
    "            img.getpixel((0,0))\n",
    "            plt.imread(fpath)\n",
    "        except OSError as e:\n",
    "            img.close()\n",
    "            print(\"Removing \"+ fpath)\n",
    "            remove_file(fpath)\n",
    "            \n",
    "print(\"Done\")"
   ]
  },
  {
   "cell_type": "markdown",
   "id": "3ffb0821",
   "metadata": {},
   "source": [
    "### Cleaning to (h, w, 3) format"
   ]
  },
  {
   "cell_type": "code",
   "execution_count": 12,
   "id": "d790db94",
   "metadata": {},
   "outputs": [
    {
     "name": "stdout",
     "output_type": "stream",
     "text": [
      "Done\n"
     ]
    }
   ],
   "source": [
    "path = r\".\\data\\v2\"\n",
    "fols = os.listdir(path)\n",
    "for f in fols:\n",
    "    fil = os.listdir(os.path.join(path, f))\n",
    "    for file in fil:\n",
    "        fpath = os.path.join(path, f, file)\n",
    "        img = plt.imread(fpath)\n",
    "        if not (len(img.shape) == 3 and img.shape[2] == 3):\n",
    "            print(fpath)\n",
    "            \n",
    "print(\"Done\")"
   ]
  },
  {
   "cell_type": "code",
   "execution_count": 13,
   "id": "f43a8a1e",
   "metadata": {},
   "outputs": [
    {
     "name": "stdout",
     "output_type": "stream",
     "text": [
      "Dataset frequency distribution\n",
      "adho_mukha_shvanasana : 435\n",
      "bhujangasana : 668\n",
      "bidalasana : 315\n",
      "phalakasana : 145\n",
      "ustrasana : 66\n",
      "utkatasana : 226\n",
      "utkata_konasana : 209\n",
      "vasisthasana : 148\n",
      "virabhadrasana_i : 221\n",
      "virabhadrasana_ii : 389\n",
      "vrikshasana : 315\n",
      "\n",
      "Image type frequency distribution\n",
      ".jpg : 3094\n",
      ".jpeg : 43\n",
      "\n"
     ]
    }
   ],
   "source": [
    "visualizeDataSet()"
   ]
  },
  {
   "cell_type": "markdown",
   "id": "29f275a8",
   "metadata": {},
   "source": [
    "## Pre-process"
   ]
  },
  {
   "cell_type": "code",
   "execution_count": 14,
   "id": "c9f00511",
   "metadata": {},
   "outputs": [
    {
     "name": "stdout",
     "output_type": "stream",
     "text": [
      "train_df length:  2509   test_df length:  314   valid_df length:  314  total length:  3137\n",
      "bhujangasana             534\n",
      "adho_mukha_shvanasana    348\n",
      "virabhadrasana_ii        311\n",
      "vrikshasana              252\n",
      "bidalasana               252\n",
      "utkatasana               181\n",
      "virabhadrasana_i         177\n",
      "utkata_konasana          167\n",
      "vasisthasana             118\n",
      "phalakasana              116\n",
      "ustrasana                 53\n",
      "Name: labels, dtype: int64\n"
     ]
    }
   ],
   "source": [
    "from sklearn.model_selection import train_test_split\n",
    "import numpy as np\n",
    "import pandas as pd\n",
    "\n",
    "classFolders = getClasses()\n",
    "filepaths = []\n",
    "labels = []\n",
    "\n",
    "for className in classFolders:\n",
    "    class_path = getPathOfClass(className)\n",
    "    files = os.listdir(class_path)\n",
    "    for f in files:\n",
    "        fpath = os.path.join(class_path, f)\n",
    "        filepaths.append(fpath)\n",
    "        labels.append(className)\n",
    "\n",
    "Fseries=pd.Series(filepaths, name='filepaths')\n",
    "Lseries=pd.Series(labels, name='labels')\n",
    "df=pd.concat([Fseries, Lseries], axis=1)\n",
    "trsplit = 0.8\n",
    "vsplit = 0.1\n",
    "# split df into train_df and test_df \n",
    "dsplit=vsplit/(1-trsplit)\n",
    "strat=df['labels']    \n",
    "train_df, dummy_df = train_test_split(df, train_size=trsplit, shuffle=True, random_state=123, stratify=strat)\n",
    "strat=dummy_df['labels']\n",
    "valid_df, test_df = train_test_split(dummy_df, train_size=dsplit, shuffle=True, random_state=123, stratify=strat)\n",
    "print('train_df length: ', len(train_df), '  test_df length: ',len(test_df), '  valid_df length: ', len(valid_df), ' total length: ', len(filepaths))\n",
    "print(train_df['labels'].value_counts())"
   ]
  },
  {
   "cell_type": "markdown",
   "id": "fc0fc214",
   "metadata": {},
   "source": [
    "## Augmentation"
   ]
  },
  {
   "cell_type": "code",
   "execution_count": 15,
   "id": "194a5a37",
   "metadata": {},
   "outputs": [
    {
     "name": "stdout",
     "output_type": "stream",
     "text": [
      "[250, 250, 250, 250, 250, 181, 177, 167, 118, 116, 53]\n",
      "Found 118 validated image filenames.\n",
      "Found 177 validated image filenames.\n",
      "Found 116 validated image filenames.\n",
      "Found 181 validated image filenames.\n",
      "Found 167 validated image filenames.\n",
      "Found 53 validated image filenames.\n",
      "Total Augmented images created=  688\n",
      "[250, 250, 250, 250, 250, 250, 250, 250, 250, 250, 250]\n"
     ]
    }
   ],
   "source": [
    "from tensorflow.keras.preprocessing.image import ImageDataGenerator\n",
    "import shutil\n",
    "\n",
    "def trim (df, max_size, min_size, column):\n",
    "    df=df.copy()\n",
    "    sample_list=[] \n",
    "    groups=df.groupby(column)\n",
    "    for label in df[column].unique():        \n",
    "        group=groups.get_group(label)\n",
    "        sample_count=len(group)         \n",
    "        if sample_count> max_size :\n",
    "            samples=group.sample(max_size, replace=False, weights=None, random_state=123, axis=0).reset_index(drop=True)\n",
    "            sample_list.append(samples)\n",
    "        elif sample_count>= min_size:\n",
    "            sample_list.append(group)\n",
    "    df=pd.concat(sample_list, axis=0).reset_index(drop=True)\n",
    "    balance=list(df[column].value_counts())\n",
    "    print (balance)\n",
    "    return df\n",
    "\n",
    "def balance(train_df,max_samples, min_samples, column, working_dir, image_size):\n",
    "    train_df=train_df.copy()\n",
    "    train_df=trim (train_df, max_samples, min_samples, column)    \n",
    "    # make directories to store augmented images\n",
    "    aug_dir=os.path.join(working_dir, 'aug')\n",
    "    if os.path.isdir(aug_dir):\n",
    "        shutil.rmtree(aug_dir)\n",
    "    os.mkdir(aug_dir)\n",
    "    for label in train_df['labels'].unique():    \n",
    "        dir_path=os.path.join(aug_dir,label)    \n",
    "        os.mkdir(dir_path)\n",
    "    # create and store the augmented images  \n",
    "    total=0\n",
    "    gen=ImageDataGenerator(horizontal_flip=True,  rotation_range=20, width_shift_range=.2,\n",
    "                                  height_shift_range=.2, zoom_range=.2)\n",
    "    groups=train_df.groupby('labels') # group by class\n",
    "    for label in train_df['labels'].unique():  # for every class               \n",
    "        group=groups.get_group(label)  # a dataframe holding only rows with the specified label \n",
    "        sample_count=len(group)   # determine how many samples there are in this class  \n",
    "        if sample_count< max_samples: # if the class has less than target number of images\n",
    "            aug_img_count=0\n",
    "            delta=max_samples-sample_count  # number of augmented images to create\n",
    "            target_dir=os.path.join(aug_dir, label)  # define where to write the images    \n",
    "            aug_gen=gen.flow_from_dataframe( group,  x_col='filepaths', y_col=None, target_size=image_size,\n",
    "                                            class_mode=None, batch_size=1, shuffle=False, \n",
    "                                            save_to_dir=target_dir, save_prefix='aug-', color_mode='rgb',\n",
    "                                            save_format='jpg')\n",
    "            while aug_img_count<delta:\n",
    "                images=next(aug_gen)            \n",
    "                aug_img_count += len(images)\n",
    "            total +=aug_img_count\n",
    "    print('Total Augmented images created= ', total)\n",
    "    # create aug_df and merge with train_df to create composite training set ndf\n",
    "    if total>0:\n",
    "        aug_fpaths=[]\n",
    "        aug_labels=[]\n",
    "        classlist=os.listdir(aug_dir)\n",
    "        for klass in classlist:\n",
    "            classpath=os.path.join(aug_dir, klass)     \n",
    "            flist=os.listdir(classpath)    \n",
    "            for f in flist:        \n",
    "                fpath=os.path.join(classpath,f)         \n",
    "                aug_fpaths.append(fpath)\n",
    "                aug_labels.append(klass)\n",
    "        Fseries=pd.Series(aug_fpaths, name='filepaths')\n",
    "        Lseries=pd.Series(aug_labels, name='labels')\n",
    "        aug_df=pd.concat([Fseries, Lseries], axis=1)\n",
    "        ndf=pd.concat([train_df,aug_df], axis=0).reset_index(drop=True)\n",
    "    else:\n",
    "        ndf=train_df\n",
    "    print (list(ndf['labels'].value_counts()) )\n",
    "    return ndf \n",
    "\n",
    "max_samples= 250\n",
    "min_samples=0\n",
    "column='labels'\n",
    "working_dir = r'./'\n",
    "img_size=(256, 256)\n",
    "ndf=balance(train_df, max_samples, min_samples, column, working_dir, img_size)"
   ]
  },
  {
   "cell_type": "markdown",
   "id": "4641d94c",
   "metadata": {},
   "source": [
    "### Save detected poses of training set for debugging"
   ]
  },
  {
   "cell_type": "code",
   "execution_count": 91,
   "id": "fa8aaeb4",
   "metadata": {},
   "outputs": [],
   "source": [
    "import matplotlib.pyplot as plt\n",
    "import cv2\n",
    "import mediapipe as mp\n",
    "mp_pose = mp.solutions.pose\n",
    "mp_drawing = mp.solutions.drawing_utils \n",
    "mp_drawing_styles = mp.solutions.drawing_styles\n",
    "\n",
    "toDir = r\".\\intermediates\\v\" + str(version)\n",
    "                \n",
    "def saveImagesWithKeypoints(image_path, results):\n",
    "    image_path = os.path.abspath(image_path)\n",
    "    try:\n",
    "        image = cv2.imread(image_path)\n",
    "        image = image.copy()\n",
    "        if results.pose_landmarks is not None:\n",
    "            mp_drawing.draw_landmarks(\n",
    "                image,\n",
    "                results.pose_landmarks,\n",
    "                mp_pose.POSE_CONNECTIONS,\n",
    "                landmark_drawing_spec=mp_drawing_styles.get_default_pose_landmarks_style())\n",
    "        p = Path(image_path)\n",
    "        fileName = p.name\n",
    "        fp = os.path.join(toDir, fileName)\n",
    "        fp = r\"\"+os.path.abspath(fp)\n",
    "        if not cv2.imwrite(fp, image):\n",
    "            raise Exception(\"image not saved to \"+fp)\n",
    "        print(\"Saved to \"+ fp)\n",
    "    except (Exception) as e:\n",
    "        print(\"Failed to write image for \" + image_path)\n",
    "        raise e"
   ]
  },
  {
   "cell_type": "markdown",
   "id": "97e54b85",
   "metadata": {},
   "source": [
    "### To save landmarks to file"
   ]
  },
  {
   "cell_type": "code",
   "execution_count": 92,
   "id": "c6ff9d74",
   "metadata": {},
   "outputs": [],
   "source": [
    "import csv\n",
    "import numpy as np\n",
    "\n",
    "landmark_count = 33\n",
    "training_csv_out = os.path.join(toDir, \"train_out.csv\")\n",
    "\n",
    "def save_to_csv(results, class_name, image_path, image_shape):\n",
    "    csvPath = training_csv_out\n",
    "    with open(csvPath, 'w', newline='\\n') as csv_file:\n",
    "        csv_out_writer = csv.writer(csv_file, delimiter=',', quoting=csv.QUOTE_MINIMAL)\n",
    "        \n",
    "        pose_landmarks = results.pose_landmarks\n",
    "        if pose_landmarks is not None and len(pose_landmarks.landmark) == landmark_count:\n",
    "            pose_landmarks = [[lmk.x, lmk.y, lmk.z] for lmk in pose_landmarks.landmark]\n",
    "            # Map pose landmarks from [0, 1] range to absolute coordinates to get correct aspect ratio.\n",
    "            frame_height, frame_width = image_shape\n",
    "            pose_landmarks *= np.array([frame_width, frame_height, frame_width])\n",
    "            pose_landmarks = np.around(pose_landmarks, 5).flatten().astype(str).tolist()\n",
    "            p = Path(image_path)\n",
    "            fileName = p.name\n",
    "            csv_out_writer.writerow([fileName, class_name] + pose_landmarks)\n",
    "        else:\n",
    "            print('No pose detected - length  - ' + image_path)"
   ]
  },
  {
   "cell_type": "markdown",
   "id": "2b8313d8",
   "metadata": {},
   "source": [
    "## Running pre-trained detection model"
   ]
  },
  {
   "cell_type": "code",
   "execution_count": 94,
   "id": "a20b3329",
   "metadata": {
    "collapsed": true
   },
   "outputs": [
    {
     "name": "stderr",
     "output_type": "stream",
     "text": [
      "2it [00:00,  3.49it/s]"
     ]
    },
    {
     "name": "stdout",
     "output_type": "stream",
     "text": [
      "Saved to A:\\Projects\\CollegeProjects\\YogaPartner\\intermediates\\v2\\vrikshasana_121.jpg\n",
      "Saved to A:\\Projects\\CollegeProjects\\YogaPartner\\intermediates\\v2\\vasisthasana_63.jpg\n"
     ]
    },
    {
     "name": "stderr",
     "output_type": "stream",
     "text": [
      "4it [00:01,  2.56it/s]"
     ]
    },
    {
     "name": "stdout",
     "output_type": "stream",
     "text": [
      "Saved to A:\\Projects\\CollegeProjects\\YogaPartner\\intermediates\\v2\\vrikshasana_8.jpg\n",
      "No pose detected - length  - .\\data\\v2\\virabhadrasana_i\\virabhadrasana_i_158.jpg\n",
      "Saved to A:\\Projects\\CollegeProjects\\YogaPartner\\intermediates\\v2\\virabhadrasana_i_158.jpg\n"
     ]
    },
    {
     "name": "stderr",
     "output_type": "stream",
     "text": [
      "6it [00:01,  4.49it/s]"
     ]
    },
    {
     "name": "stdout",
     "output_type": "stream",
     "text": [
      "Saved to A:\\Projects\\CollegeProjects\\YogaPartner\\intermediates\\v2\\virabhadrasana_ii_177.jpg\n",
      "Saved to A:\\Projects\\CollegeProjects\\YogaPartner\\intermediates\\v2\\adho_mukha_shvanasana_223.jpg\n"
     ]
    },
    {
     "name": "stderr",
     "output_type": "stream",
     "text": [
      "8it [00:02,  5.61it/s]"
     ]
    },
    {
     "name": "stdout",
     "output_type": "stream",
     "text": [
      "Saved to A:\\Projects\\CollegeProjects\\YogaPartner\\intermediates\\v2\\phalakasana_82.jpg\n",
      "Saved to A:\\Projects\\CollegeProjects\\YogaPartner\\intermediates\\v2\\bhujangasana_573.jpg\n"
     ]
    },
    {
     "name": "stderr",
     "output_type": "stream",
     "text": [
      "10it [00:02,  6.22it/s]"
     ]
    },
    {
     "name": "stdout",
     "output_type": "stream",
     "text": [
      "Saved to A:\\Projects\\CollegeProjects\\YogaPartner\\intermediates\\v2\\bhujangasana_229.jpg\n",
      "Saved to A:\\Projects\\CollegeProjects\\YogaPartner\\intermediates\\v2\\virabhadrasana_i_142.jpg\n"
     ]
    },
    {
     "name": "stderr",
     "output_type": "stream",
     "text": [
      "12it [00:02,  6.29it/s]"
     ]
    },
    {
     "name": "stdout",
     "output_type": "stream",
     "text": [
      "Saved to A:\\Projects\\CollegeProjects\\YogaPartner\\intermediates\\v2\\utkatasana_47.jpg\n",
      "Saved to A:\\Projects\\CollegeProjects\\YogaPartner\\intermediates\\v2\\utkatasana_71.jpg\n"
     ]
    },
    {
     "name": "stderr",
     "output_type": "stream",
     "text": [
      "14it [00:03,  6.08it/s]"
     ]
    },
    {
     "name": "stdout",
     "output_type": "stream",
     "text": [
      "Saved to A:\\Projects\\CollegeProjects\\YogaPartner\\intermediates\\v2\\bhujangasana_86.jpg\n",
      "Saved to A:\\Projects\\CollegeProjects\\YogaPartner\\intermediates\\v2\\virabhadrasana_ii_86.jpg\n"
     ]
    },
    {
     "name": "stderr",
     "output_type": "stream",
     "text": [
      "16it [00:03,  4.63it/s]"
     ]
    },
    {
     "name": "stdout",
     "output_type": "stream",
     "text": [
      "Saved to A:\\Projects\\CollegeProjects\\YogaPartner\\intermediates\\v2\\virabhadrasana_ii_334.jpg\n",
      "Saved to A:\\Projects\\CollegeProjects\\YogaPartner\\intermediates\\v2\\virabhadrasana_ii_55.jpg\n"
     ]
    },
    {
     "name": "stderr",
     "output_type": "stream",
     "text": [
      "18it [00:03,  6.34it/s]"
     ]
    },
    {
     "name": "stdout",
     "output_type": "stream",
     "text": [
      "Saved to A:\\Projects\\CollegeProjects\\YogaPartner\\intermediates\\v2\\virabhadrasana_ii_184.jpg\n",
      "Saved to A:\\Projects\\CollegeProjects\\YogaPartner\\intermediates\\v2\\bhujangasana_191.jpg\n",
      "Saved to A:\\Projects\\CollegeProjects\\YogaPartner\\intermediates\\v2\\adho_mukha_shvanasana_347.jpg\n"
     ]
    },
    {
     "name": "stderr",
     "output_type": "stream",
     "text": [
      "21it [00:04,  8.12it/s]"
     ]
    },
    {
     "name": "stdout",
     "output_type": "stream",
     "text": [
      "Saved to A:\\Projects\\CollegeProjects\\YogaPartner\\intermediates\\v2\\adho_mukha_shvanasana_149.jpg\n",
      "Saved to A:\\Projects\\CollegeProjects\\YogaPartner\\intermediates\\v2\\bhujangasana_488.jpg\n"
     ]
    },
    {
     "name": "stderr",
     "output_type": "stream",
     "text": [
      "23it [00:04,  8.30it/s]"
     ]
    },
    {
     "name": "stdout",
     "output_type": "stream",
     "text": [
      "Saved to A:\\Projects\\CollegeProjects\\YogaPartner\\intermediates\\v2\\adho_mukha_shvanasana_294.jpg\n",
      "Saved to A:\\Projects\\CollegeProjects\\YogaPartner\\intermediates\\v2\\bidalasana_292.jpeg\n"
     ]
    },
    {
     "name": "stderr",
     "output_type": "stream",
     "text": [
      "25it [00:04,  6.79it/s]"
     ]
    },
    {
     "name": "stdout",
     "output_type": "stream",
     "text": [
      "Saved to A:\\Projects\\CollegeProjects\\YogaPartner\\intermediates\\v2\\virabhadrasana_ii_370.jpg\n",
      "Saved to A:\\Projects\\CollegeProjects\\YogaPartner\\intermediates\\v2\\vrikshasana_224.jpg\n"
     ]
    },
    {
     "name": "stderr",
     "output_type": "stream",
     "text": [
      "27it [00:04,  7.88it/s]"
     ]
    },
    {
     "name": "stdout",
     "output_type": "stream",
     "text": [
      "Saved to A:\\Projects\\CollegeProjects\\YogaPartner\\intermediates\\v2\\vrikshasana_286.jpg\n",
      "Saved to A:\\Projects\\CollegeProjects\\YogaPartner\\intermediates\\v2\\virabhadrasana_i_71.jpg\n"
     ]
    },
    {
     "name": "stderr",
     "output_type": "stream",
     "text": [
      "29it [00:05,  7.47it/s]"
     ]
    },
    {
     "name": "stdout",
     "output_type": "stream",
     "text": [
      "Saved to A:\\Projects\\CollegeProjects\\YogaPartner\\intermediates\\v2\\vrikshasana_17.jpg\n",
      "Saved to A:\\Projects\\CollegeProjects\\YogaPartner\\intermediates\\v2\\bhujangasana_194.jpg\n"
     ]
    },
    {
     "name": "stderr",
     "output_type": "stream",
     "text": [
      "31it [00:05,  7.47it/s]"
     ]
    },
    {
     "name": "stdout",
     "output_type": "stream",
     "text": [
      "Saved to A:\\Projects\\CollegeProjects\\YogaPartner\\intermediates\\v2\\utkata_konasana_160.jpg\n",
      "Saved to A:\\Projects\\CollegeProjects\\YogaPartner\\intermediates\\v2\\virabhadrasana_ii_305.jpg\n"
     ]
    },
    {
     "name": "stderr",
     "output_type": "stream",
     "text": [
      "33it [00:06,  5.16it/s]"
     ]
    },
    {
     "name": "stdout",
     "output_type": "stream",
     "text": [
      "Saved to A:\\Projects\\CollegeProjects\\YogaPartner\\intermediates\\v2\\adho_mukha_shvanasana_314.jpg\n",
      "Saved to A:\\Projects\\CollegeProjects\\YogaPartner\\intermediates\\v2\\bidalasana_298.jpg\n",
      "Saved to A:\\Projects\\CollegeProjects\\YogaPartner\\intermediates\\v2\\bidalasana_57.jpeg\n"
     ]
    },
    {
     "name": "stderr",
     "output_type": "stream",
     "text": [
      "36it [00:06,  7.06it/s]"
     ]
    },
    {
     "name": "stdout",
     "output_type": "stream",
     "text": [
      "Saved to A:\\Projects\\CollegeProjects\\YogaPartner\\intermediates\\v2\\utkata_konasana_117.jpg\n",
      "Saved to A:\\Projects\\CollegeProjects\\YogaPartner\\intermediates\\v2\\virabhadrasana_i_25.jpg\n"
     ]
    },
    {
     "name": "stderr",
     "output_type": "stream",
     "text": [
      "\r",
      "37it [00:06,  7.53it/s]"
     ]
    },
    {
     "name": "stdout",
     "output_type": "stream",
     "text": [
      "Saved to A:\\Projects\\CollegeProjects\\YogaPartner\\intermediates\\v2\\vasisthasana_117.jpg\n",
      "Saved to A:\\Projects\\CollegeProjects\\YogaPartner\\intermediates\\v2\\bhujangasana_612.jpg\n"
     ]
    },
    {
     "name": "stderr",
     "output_type": "stream",
     "text": [
      "40it [00:06,  8.49it/s]"
     ]
    },
    {
     "name": "stdout",
     "output_type": "stream",
     "text": [
      "Saved to A:\\Projects\\CollegeProjects\\YogaPartner\\intermediates\\v2\\adho_mukha_shvanasana_192.jpg\n",
      "Saved to A:\\Projects\\CollegeProjects\\YogaPartner\\intermediates\\v2\\adho_mukha_shvanasana_305.jpg\n"
     ]
    },
    {
     "name": "stderr",
     "output_type": "stream",
     "text": [
      "42it [00:07,  8.26it/s]"
     ]
    },
    {
     "name": "stdout",
     "output_type": "stream",
     "text": [
      "Saved to A:\\Projects\\CollegeProjects\\YogaPartner\\intermediates\\v2\\virabhadrasana_i_45.jpg\n",
      "Saved to A:\\Projects\\CollegeProjects\\YogaPartner\\intermediates\\v2\\utkatasana_110.jpg\n"
     ]
    },
    {
     "name": "stderr",
     "output_type": "stream",
     "text": [
      "44it [00:07,  6.62it/s]"
     ]
    },
    {
     "name": "stdout",
     "output_type": "stream",
     "text": [
      "Saved to A:\\Projects\\CollegeProjects\\YogaPartner\\intermediates\\v2\\adho_mukha_shvanasana_323.jpg\n",
      "Saved to A:\\Projects\\CollegeProjects\\YogaPartner\\intermediates\\v2\\utkata_konasana_94.jpg\n"
     ]
    },
    {
     "name": "stderr",
     "output_type": "stream",
     "text": [
      "46it [00:07,  7.35it/s]"
     ]
    },
    {
     "name": "stdout",
     "output_type": "stream",
     "text": [
      "Saved to A:\\Projects\\CollegeProjects\\YogaPartner\\intermediates\\v2\\vrikshasana_42.jpg\n",
      "Saved to A:\\Projects\\CollegeProjects\\YogaPartner\\intermediates\\v2\\virabhadrasana_i_172.jpg\n"
     ]
    },
    {
     "name": "stderr",
     "output_type": "stream",
     "text": [
      "48it [00:08,  6.91it/s]"
     ]
    },
    {
     "name": "stdout",
     "output_type": "stream",
     "text": [
      "Saved to A:\\Projects\\CollegeProjects\\YogaPartner\\intermediates\\v2\\bhujangasana_267.jpg\n",
      "Saved to A:\\Projects\\CollegeProjects\\YogaPartner\\intermediates\\v2\\virabhadrasana_i_102.jpg\n"
     ]
    },
    {
     "name": "stderr",
     "output_type": "stream",
     "text": [
      "50it [00:08,  7.08it/s]"
     ]
    },
    {
     "name": "stdout",
     "output_type": "stream",
     "text": [
      "Saved to A:\\Projects\\CollegeProjects\\YogaPartner\\intermediates\\v2\\virabhadrasana_ii_222.jpg\n",
      "Saved to A:\\Projects\\CollegeProjects\\YogaPartner\\intermediates\\v2\\ustrasana_3.jpg\n"
     ]
    },
    {
     "name": "stderr",
     "output_type": "stream",
     "text": [
      "52it [00:08,  7.92it/s]"
     ]
    },
    {
     "name": "stdout",
     "output_type": "stream",
     "text": [
      "Saved to A:\\Projects\\CollegeProjects\\YogaPartner\\intermediates\\v2\\vrikshasana_69.jpg\n",
      "Saved to A:\\Projects\\CollegeProjects\\YogaPartner\\intermediates\\v2\\adho_mukha_shvanasana_346.jpg\n",
      "Saved to A:\\Projects\\CollegeProjects\\YogaPartner\\intermediates\\v2\\bhujangasana_375.jpg\n"
     ]
    },
    {
     "name": "stderr",
     "output_type": "stream",
     "text": [
      "55it [00:08,  8.38it/s]"
     ]
    },
    {
     "name": "stdout",
     "output_type": "stream",
     "text": [
      "Saved to A:\\Projects\\CollegeProjects\\YogaPartner\\intermediates\\v2\\bidalasana_208.jpg\n",
      "Saved to A:\\Projects\\CollegeProjects\\YogaPartner\\intermediates\\v2\\vasisthasana_104.jpg\n"
     ]
    },
    {
     "name": "stderr",
     "output_type": "stream",
     "text": [
      "57it [00:09,  8.45it/s]"
     ]
    },
    {
     "name": "stdout",
     "output_type": "stream",
     "text": [
      "Saved to A:\\Projects\\CollegeProjects\\YogaPartner\\intermediates\\v2\\virabhadrasana_ii_43.jpg\n",
      "Saved to A:\\Projects\\CollegeProjects\\YogaPartner\\intermediates\\v2\\bhujangasana_668.jpg\n"
     ]
    },
    {
     "name": "stderr",
     "output_type": "stream",
     "text": [
      "59it [00:09,  8.43it/s]"
     ]
    },
    {
     "name": "stdout",
     "output_type": "stream",
     "text": [
      "Saved to A:\\Projects\\CollegeProjects\\YogaPartner\\intermediates\\v2\\bidalasana_81.jpeg\n",
      "Saved to A:\\Projects\\CollegeProjects\\YogaPartner\\intermediates\\v2\\utkatasana_177.jpg\n"
     ]
    },
    {
     "name": "stderr",
     "output_type": "stream",
     "text": [
      "\r",
      "60it [00:09,  8.48it/s]"
     ]
    },
    {
     "name": "stdout",
     "output_type": "stream",
     "text": [
      "Saved to A:\\Projects\\CollegeProjects\\YogaPartner\\intermediates\\v2\\virabhadrasana_i_51.jpg\n"
     ]
    },
    {
     "name": "stderr",
     "output_type": "stream",
     "text": [
      "62it [00:09,  6.08it/s]"
     ]
    },
    {
     "name": "stdout",
     "output_type": "stream",
     "text": [
      "Saved to A:\\Projects\\CollegeProjects\\YogaPartner\\intermediates\\v2\\vrikshasana_114.jpg\n",
      "Saved to A:\\Projects\\CollegeProjects\\YogaPartner\\intermediates\\v2\\bhujangasana_111.jpg\n"
     ]
    },
    {
     "name": "stderr",
     "output_type": "stream",
     "text": [
      "64it [00:10,  6.74it/s]"
     ]
    },
    {
     "name": "stdout",
     "output_type": "stream",
     "text": [
      "Saved to A:\\Projects\\CollegeProjects\\YogaPartner\\intermediates\\v2\\vasisthasana_45.jpg\n",
      "Saved to A:\\Projects\\CollegeProjects\\YogaPartner\\intermediates\\v2\\bidalasana_124.jpg\n"
     ]
    },
    {
     "name": "stderr",
     "output_type": "stream",
     "text": [
      "\r",
      "66it [00:10,  7.53it/s]"
     ]
    },
    {
     "name": "stdout",
     "output_type": "stream",
     "text": [
      "Saved to A:\\Projects\\CollegeProjects\\YogaPartner\\intermediates\\v2\\ustrasana_8.jpg\n",
      "Saved to A:\\Projects\\CollegeProjects\\YogaPartner\\intermediates\\v2\\bidalasana_239.jpg\n"
     ]
    },
    {
     "name": "stderr",
     "output_type": "stream",
     "text": [
      "69it [00:10,  7.19it/s]"
     ]
    },
    {
     "name": "stdout",
     "output_type": "stream",
     "text": [
      "Saved to A:\\Projects\\CollegeProjects\\YogaPartner\\intermediates\\v2\\bidalasana_271.jpeg\n",
      "Saved to A:\\Projects\\CollegeProjects\\YogaPartner\\intermediates\\v2\\vasisthasana_20.jpg\n",
      "No pose detected - length  - .\\data\\v2\\bhujangasana\\bhujangasana_304.jpg\n",
      "Saved to A:\\Projects\\CollegeProjects\\YogaPartner\\intermediates\\v2\\bhujangasana_304.jpg\n"
     ]
    },
    {
     "name": "stderr",
     "output_type": "stream",
     "text": [
      "\r",
      "70it [00:10,  7.59it/s]"
     ]
    },
    {
     "name": "stdout",
     "output_type": "stream",
     "text": [
      "Saved to A:\\Projects\\CollegeProjects\\YogaPartner\\intermediates\\v2\\vrikshasana_314.jpg\n",
      "Saved to A:\\Projects\\CollegeProjects\\YogaPartner\\intermediates\\v2\\vrikshasana_137.jpg\n"
     ]
    },
    {
     "name": "stderr",
     "output_type": "stream",
     "text": [
      "73it [00:11,  7.19it/s]"
     ]
    },
    {
     "name": "stdout",
     "output_type": "stream",
     "text": [
      "Saved to A:\\Projects\\CollegeProjects\\YogaPartner\\intermediates\\v2\\vrikshasana_164.jpg\n",
      "Saved to A:\\Projects\\CollegeProjects\\YogaPartner\\intermediates\\v2\\adho_mukha_shvanasana_131.jpg\n"
     ]
    },
    {
     "name": "stderr",
     "output_type": "stream",
     "text": [
      "\r",
      "75it [00:11,  7.36it/s]"
     ]
    },
    {
     "name": "stdout",
     "output_type": "stream",
     "text": [
      "Saved to A:\\Projects\\CollegeProjects\\YogaPartner\\intermediates\\v2\\bidalasana_183.jpg\n",
      "Saved to A:\\Projects\\CollegeProjects\\YogaPartner\\intermediates\\v2\\utkata_konasana_168.jpg\n"
     ]
    },
    {
     "name": "stderr",
     "output_type": "stream",
     "text": [
      "\r",
      "77it [00:11,  8.02it/s]"
     ]
    },
    {
     "name": "stdout",
     "output_type": "stream",
     "text": [
      "Saved to A:\\Projects\\CollegeProjects\\YogaPartner\\intermediates\\v2\\vasisthasana_30.jpg\n",
      "Saved to A:\\Projects\\CollegeProjects\\YogaPartner\\intermediates\\v2\\virabhadrasana_i_211.jpg\n"
     ]
    },
    {
     "name": "stderr",
     "output_type": "stream",
     "text": [
      "79it [00:12,  7.77it/s]"
     ]
    },
    {
     "name": "stdout",
     "output_type": "stream",
     "text": [
      "Saved to A:\\Projects\\CollegeProjects\\YogaPartner\\intermediates\\v2\\utkatasana_120.jpg\n",
      "Saved to A:\\Projects\\CollegeProjects\\YogaPartner\\intermediates\\v2\\virabhadrasana_ii_133.jpg\n"
     ]
    },
    {
     "name": "stderr",
     "output_type": "stream",
     "text": [
      "\r",
      "80it [00:12,  6.60it/s]"
     ]
    },
    {
     "name": "stdout",
     "output_type": "stream",
     "text": [
      "Saved to A:\\Projects\\CollegeProjects\\YogaPartner\\intermediates\\v2\\utkatasana_123.jpg\n"
     ]
    },
    {
     "name": "stderr",
     "output_type": "stream",
     "text": [
      "82it [00:13,  3.73it/s]"
     ]
    },
    {
     "name": "stdout",
     "output_type": "stream",
     "text": [
      "Saved to A:\\Projects\\CollegeProjects\\YogaPartner\\intermediates\\v2\\vasisthasana_2.jpg\n",
      "Saved to A:\\Projects\\CollegeProjects\\YogaPartner\\intermediates\\v2\\virabhadrasana_ii_21.jpg\n"
     ]
    },
    {
     "name": "stderr",
     "output_type": "stream",
     "text": [
      "84it [00:13,  5.13it/s]"
     ]
    },
    {
     "name": "stdout",
     "output_type": "stream",
     "text": [
      "Saved to A:\\Projects\\CollegeProjects\\YogaPartner\\intermediates\\v2\\bhujangasana_315.jpg\n",
      "Saved to A:\\Projects\\CollegeProjects\\YogaPartner\\intermediates\\v2\\bhujangasana_147.jpg\n"
     ]
    },
    {
     "name": "stderr",
     "output_type": "stream",
     "text": [
      "86it [00:13,  6.17it/s]"
     ]
    },
    {
     "name": "stdout",
     "output_type": "stream",
     "text": [
      "Saved to A:\\Projects\\CollegeProjects\\YogaPartner\\intermediates\\v2\\phalakasana_96.jpg\n",
      "Saved to A:\\Projects\\CollegeProjects\\YogaPartner\\intermediates\\v2\\virabhadrasana_ii_260.jpg\n"
     ]
    },
    {
     "name": "stderr",
     "output_type": "stream",
     "text": [
      "\r",
      "87it [00:14,  5.46it/s]"
     ]
    },
    {
     "name": "stdout",
     "output_type": "stream",
     "text": [
      "Saved to A:\\Projects\\CollegeProjects\\YogaPartner\\intermediates\\v2\\vrikshasana_189.jpg\n",
      "Saved to A:\\Projects\\CollegeProjects\\YogaPartner\\intermediates\\v2\\bidalasana_184.jpg\n"
     ]
    },
    {
     "name": "stderr",
     "output_type": "stream",
     "text": [
      "91it [00:14,  7.90it/s]"
     ]
    },
    {
     "name": "stdout",
     "output_type": "stream",
     "text": [
      "Saved to A:\\Projects\\CollegeProjects\\YogaPartner\\intermediates\\v2\\vrikshasana_147.jpg\n",
      "No pose detected - length  - .\\data\\v2\\bhujangasana\\bhujangasana_394.jpg\n",
      "Saved to A:\\Projects\\CollegeProjects\\YogaPartner\\intermediates\\v2\\bhujangasana_394.jpg\n",
      "Saved to A:\\Projects\\CollegeProjects\\YogaPartner\\intermediates\\v2\\adho_mukha_shvanasana_206.jpg\n"
     ]
    },
    {
     "name": "stderr",
     "output_type": "stream",
     "text": [
      "\r",
      "93it [00:14,  7.61it/s]"
     ]
    },
    {
     "name": "stdout",
     "output_type": "stream",
     "text": [
      "Saved to A:\\Projects\\CollegeProjects\\YogaPartner\\intermediates\\v2\\bhujangasana_317.jpg\n",
      "Saved to A:\\Projects\\CollegeProjects\\YogaPartner\\intermediates\\v2\\virabhadrasana_ii_354.jpg\n"
     ]
    },
    {
     "name": "stderr",
     "output_type": "stream",
     "text": [
      "95it [00:15,  6.63it/s]"
     ]
    },
    {
     "name": "stdout",
     "output_type": "stream",
     "text": [
      "Saved to A:\\Projects\\CollegeProjects\\YogaPartner\\intermediates\\v2\\vrikshasana_253.jpg\n",
      "Saved to A:\\Projects\\CollegeProjects\\YogaPartner\\intermediates\\v2\\utkata_konasana_1.jpg\n"
     ]
    },
    {
     "name": "stderr",
     "output_type": "stream",
     "text": [
      "97it [00:15,  7.56it/s]"
     ]
    },
    {
     "name": "stdout",
     "output_type": "stream",
     "text": [
      "Saved to A:\\Projects\\CollegeProjects\\YogaPartner\\intermediates\\v2\\adho_mukha_shvanasana_18.jpg\n",
      "Saved to A:\\Projects\\CollegeProjects\\YogaPartner\\intermediates\\v2\\utkatasana_205.jpg\n"
     ]
    },
    {
     "name": "stderr",
     "output_type": "stream",
     "text": [
      "99it [00:15,  8.12it/s]"
     ]
    },
    {
     "name": "stdout",
     "output_type": "stream",
     "text": [
      "Saved to A:\\Projects\\CollegeProjects\\YogaPartner\\intermediates\\v2\\adho_mukha_shvanasana_280.jpg\n",
      "Saved to A:\\Projects\\CollegeProjects\\YogaPartner\\intermediates\\v2\\vrikshasana_202.jpg\n"
     ]
    },
    {
     "name": "stderr",
     "output_type": "stream",
     "text": [
      "102it [00:15,  8.59it/s]"
     ]
    },
    {
     "name": "stdout",
     "output_type": "stream",
     "text": [
      "Saved to A:\\Projects\\CollegeProjects\\YogaPartner\\intermediates\\v2\\vrikshasana_162.jpg\n",
      "Saved to A:\\Projects\\CollegeProjects\\YogaPartner\\intermediates\\v2\\bidalasana_54.jpg\n",
      "Saved to A:\\Projects\\CollegeProjects\\YogaPartner\\intermediates\\v2\\utkata_konasana_66.jpg\n"
     ]
    },
    {
     "name": "stderr",
     "output_type": "stream",
     "text": [
      "\r",
      "103it [00:16,  8.78it/s]"
     ]
    },
    {
     "name": "stdout",
     "output_type": "stream",
     "text": [
      "Saved to A:\\Projects\\CollegeProjects\\YogaPartner\\intermediates\\v2\\bhujangasana_313.jpg\n",
      "Saved to A:\\Projects\\CollegeProjects\\YogaPartner\\intermediates\\v2\\utkatasana_67.jpg\n"
     ]
    },
    {
     "name": "stderr",
     "output_type": "stream",
     "text": [
      "106it [00:16,  8.26it/s]"
     ]
    },
    {
     "name": "stdout",
     "output_type": "stream",
     "text": [
      "Saved to A:\\Projects\\CollegeProjects\\YogaPartner\\intermediates\\v2\\vrikshasana_56.jpg\n",
      "Saved to A:\\Projects\\CollegeProjects\\YogaPartner\\intermediates\\v2\\utkatasana_171.jpg\n"
     ]
    },
    {
     "name": "stderr",
     "output_type": "stream",
     "text": [
      "109it [00:16,  9.05it/s]"
     ]
    },
    {
     "name": "stdout",
     "output_type": "stream",
     "text": [
      "Saved to A:\\Projects\\CollegeProjects\\YogaPartner\\intermediates\\v2\\phalakasana_129.jpg\n",
      "Saved to A:\\Projects\\CollegeProjects\\YogaPartner\\intermediates\\v2\\adho_mukha_shvanasana_293.jpg\n",
      "Saved to A:\\Projects\\CollegeProjects\\YogaPartner\\intermediates\\v2\\utkatasana_176.jpg\n"
     ]
    },
    {
     "name": "stderr",
     "output_type": "stream",
     "text": [
      "112it [00:17,  9.48it/s]"
     ]
    },
    {
     "name": "stdout",
     "output_type": "stream",
     "text": [
      "Saved to A:\\Projects\\CollegeProjects\\YogaPartner\\intermediates\\v2\\bhujangasana_582.jpg\n",
      "Saved to A:\\Projects\\CollegeProjects\\YogaPartner\\intermediates\\v2\\bidalasana_98.jpg\n",
      "Saved to A:\\Projects\\CollegeProjects\\YogaPartner\\intermediates\\v2\\adho_mukha_shvanasana_366.jpg\n"
     ]
    },
    {
     "name": "stderr",
     "output_type": "stream",
     "text": [
      "\r",
      "113it [00:17,  8.66it/s]"
     ]
    },
    {
     "name": "stdout",
     "output_type": "stream",
     "text": [
      "Saved to A:\\Projects\\CollegeProjects\\YogaPartner\\intermediates\\v2\\vasisthasana_62.jpg\n"
     ]
    },
    {
     "name": "stderr",
     "output_type": "stream",
     "text": [
      "115it [00:17,  6.69it/s]"
     ]
    },
    {
     "name": "stdout",
     "output_type": "stream",
     "text": [
      "Saved to A:\\Projects\\CollegeProjects\\YogaPartner\\intermediates\\v2\\bhujangasana_235.jpg\n",
      "Saved to A:\\Projects\\CollegeProjects\\YogaPartner\\intermediates\\v2\\bhujangasana_224.jpg\n"
     ]
    },
    {
     "name": "stderr",
     "output_type": "stream",
     "text": [
      "117it [00:17,  6.81it/s]"
     ]
    },
    {
     "name": "stdout",
     "output_type": "stream",
     "text": [
      "Saved to A:\\Projects\\CollegeProjects\\YogaPartner\\intermediates\\v2\\virabhadrasana_ii_281.jpg\n",
      "Saved to A:\\Projects\\CollegeProjects\\YogaPartner\\intermediates\\v2\\bhujangasana_630.jpg\n"
     ]
    },
    {
     "name": "stderr",
     "output_type": "stream",
     "text": [
      "119it [00:18,  7.21it/s]"
     ]
    },
    {
     "name": "stdout",
     "output_type": "stream",
     "text": [
      "Saved to A:\\Projects\\CollegeProjects\\YogaPartner\\intermediates\\v2\\utkata_konasana_51.jpg\n",
      "Saved to A:\\Projects\\CollegeProjects\\YogaPartner\\intermediates\\v2\\adho_mukha_shvanasana_17.jpg\n"
     ]
    },
    {
     "name": "stderr",
     "output_type": "stream",
     "text": [
      "121it [00:18,  7.22it/s]"
     ]
    },
    {
     "name": "stdout",
     "output_type": "stream",
     "text": [
      "Saved to A:\\Projects\\CollegeProjects\\YogaPartner\\intermediates\\v2\\utkatasana_16.jpg\n",
      "Saved to A:\\Projects\\CollegeProjects\\YogaPartner\\intermediates\\v2\\virabhadrasana_ii_69.jpg\n"
     ]
    },
    {
     "name": "stderr",
     "output_type": "stream",
     "text": [
      "\r",
      "123it [00:18,  8.54it/s]"
     ]
    },
    {
     "name": "stdout",
     "output_type": "stream",
     "text": [
      "Saved to A:\\Projects\\CollegeProjects\\YogaPartner\\intermediates\\v2\\bidalasana_151.jpg\n",
      "Saved to A:\\Projects\\CollegeProjects\\YogaPartner\\intermediates\\v2\\vrikshasana_40.jpg\n"
     ]
    },
    {
     "name": "stderr",
     "output_type": "stream",
     "text": [
      "125it [00:18,  8.05it/s]"
     ]
    },
    {
     "name": "stdout",
     "output_type": "stream",
     "text": [
      "Saved to A:\\Projects\\CollegeProjects\\YogaPartner\\intermediates\\v2\\utkatasana_166.jpg\n",
      "Saved to A:\\Projects\\CollegeProjects\\YogaPartner\\intermediates\\v2\\bhujangasana_187.jpg\n"
     ]
    },
    {
     "name": "stderr",
     "output_type": "stream",
     "text": [
      "\r",
      "126it [00:18,  7.36it/s]"
     ]
    },
    {
     "name": "stdout",
     "output_type": "stream",
     "text": [
      "Saved to A:\\Projects\\CollegeProjects\\YogaPartner\\intermediates\\v2\\virabhadrasana_ii_341.jpg\n"
     ]
    },
    {
     "name": "stderr",
     "output_type": "stream",
     "text": [
      "128it [00:19,  4.05it/s]"
     ]
    },
    {
     "name": "stdout",
     "output_type": "stream",
     "text": [
      "Saved to A:\\Projects\\CollegeProjects\\YogaPartner\\intermediates\\v2\\vrikshasana_47.jpg\n",
      "Saved to A:\\Projects\\CollegeProjects\\YogaPartner\\intermediates\\v2\\bidalasana_276.jpg\n"
     ]
    },
    {
     "name": "stderr",
     "output_type": "stream",
     "text": [
      "130it [00:20,  4.88it/s]"
     ]
    },
    {
     "name": "stdout",
     "output_type": "stream",
     "text": [
      "Saved to A:\\Projects\\CollegeProjects\\YogaPartner\\intermediates\\v2\\bhujangasana_554.jpg\n",
      "Saved to A:\\Projects\\CollegeProjects\\YogaPartner\\intermediates\\v2\\utkata_konasana_91.jpg\n"
     ]
    },
    {
     "name": "stderr",
     "output_type": "stream",
     "text": [
      "\r",
      "131it [00:20,  5.69it/s]"
     ]
    },
    {
     "name": "stdout",
     "output_type": "stream",
     "text": [
      "Saved to A:\\Projects\\CollegeProjects\\YogaPartner\\intermediates\\v2\\vasisthasana_133.jpg\n",
      "Saved to A:\\Projects\\CollegeProjects\\YogaPartner\\intermediates\\v2\\bidalasana_6.jpg\n"
     ]
    },
    {
     "name": "stderr",
     "output_type": "stream",
     "text": [
      "\r",
      "133it [00:20,  6.79it/s]"
     ]
    },
    {
     "name": "stdout",
     "output_type": "stream",
     "text": [
      "Saved to A:\\Projects\\CollegeProjects\\YogaPartner\\intermediates\\v2\\phalakasana_87.jpg\n",
      "Saved to A:\\Projects\\CollegeProjects\\YogaPartner\\intermediates\\v2\\virabhadrasana_ii_201.jpg\n"
     ]
    },
    {
     "name": "stderr",
     "output_type": "stream",
     "text": [
      "136it [00:21,  3.22it/s]"
     ]
    },
    {
     "name": "stdout",
     "output_type": "stream",
     "text": [
      "Saved to A:\\Projects\\CollegeProjects\\YogaPartner\\intermediates\\v2\\phalakasana_94.jpg\n",
      "Saved to A:\\Projects\\CollegeProjects\\YogaPartner\\intermediates\\v2\\utkatasana_45.jpg\n"
     ]
    },
    {
     "name": "stderr",
     "output_type": "stream",
     "text": [
      "138it [00:22,  4.16it/s]"
     ]
    },
    {
     "name": "stdout",
     "output_type": "stream",
     "text": [
      "Saved to A:\\Projects\\CollegeProjects\\YogaPartner\\intermediates\\v2\\bhujangasana_331.jpg\n",
      "Saved to A:\\Projects\\CollegeProjects\\YogaPartner\\intermediates\\v2\\utkata_konasana_191.jpg\n"
     ]
    },
    {
     "name": "stderr",
     "output_type": "stream",
     "text": [
      "140it [00:22,  3.60it/s]"
     ]
    },
    {
     "name": "stdout",
     "output_type": "stream",
     "text": [
      "Saved to A:\\Projects\\CollegeProjects\\YogaPartner\\intermediates\\v2\\virabhadrasana_ii_335.jpg\n",
      "Saved to A:\\Projects\\CollegeProjects\\YogaPartner\\intermediates\\v2\\vrikshasana_3.jpg\n"
     ]
    },
    {
     "name": "stderr",
     "output_type": "stream",
     "text": [
      "\r",
      "141it [00:23,  4.37it/s]"
     ]
    },
    {
     "name": "stdout",
     "output_type": "stream",
     "text": [
      "Saved to A:\\Projects\\CollegeProjects\\YogaPartner\\intermediates\\v2\\adho_mukha_shvanasana_297.jpg\n"
     ]
    },
    {
     "name": "stderr",
     "output_type": "stream",
     "text": [
      "143it [00:23,  3.42it/s]"
     ]
    },
    {
     "name": "stdout",
     "output_type": "stream",
     "text": [
      "Saved to A:\\Projects\\CollegeProjects\\YogaPartner\\intermediates\\v2\\adho_mukha_shvanasana_124.jpg\n",
      "Saved to A:\\Projects\\CollegeProjects\\YogaPartner\\intermediates\\v2\\bhujangasana_379.jpg\n"
     ]
    },
    {
     "name": "stderr",
     "output_type": "stream",
     "text": [
      "145it [00:24,  4.56it/s]"
     ]
    },
    {
     "name": "stdout",
     "output_type": "stream",
     "text": [
      "Saved to A:\\Projects\\CollegeProjects\\YogaPartner\\intermediates\\v2\\bidalasana_68.jpg\n",
      "Saved to A:\\Projects\\CollegeProjects\\YogaPartner\\intermediates\\v2\\virabhadrasana_i_81.jpg\n"
     ]
    },
    {
     "name": "stderr",
     "output_type": "stream",
     "text": [
      "147it [00:24,  5.72it/s]"
     ]
    },
    {
     "name": "stdout",
     "output_type": "stream",
     "text": [
      "Saved to A:\\Projects\\CollegeProjects\\YogaPartner\\intermediates\\v2\\utkata_konasana_193.jpg\n",
      "Saved to A:\\Projects\\CollegeProjects\\YogaPartner\\intermediates\\v2\\bhujangasana_115.jpg\n"
     ]
    },
    {
     "name": "stderr",
     "output_type": "stream",
     "text": [
      "149it [00:24,  6.77it/s]"
     ]
    },
    {
     "name": "stdout",
     "output_type": "stream",
     "text": [
      "Saved to A:\\Projects\\CollegeProjects\\YogaPartner\\intermediates\\v2\\virabhadrasana_ii_182.jpg\n",
      "Saved to A:\\Projects\\CollegeProjects\\YogaPartner\\intermediates\\v2\\bhujangasana_496.jpg\n"
     ]
    },
    {
     "name": "stderr",
     "output_type": "stream",
     "text": [
      "151it [00:24,  7.73it/s]"
     ]
    },
    {
     "name": "stdout",
     "output_type": "stream",
     "text": [
      "Saved to A:\\Projects\\CollegeProjects\\YogaPartner\\intermediates\\v2\\bhujangasana_569.jpg\n",
      "Saved to A:\\Projects\\CollegeProjects\\YogaPartner\\intermediates\\v2\\bidalasana_258.jpg\n"
     ]
    },
    {
     "name": "stderr",
     "output_type": "stream",
     "text": [
      "153it [00:25,  7.63it/s]"
     ]
    },
    {
     "name": "stdout",
     "output_type": "stream",
     "text": [
      "Saved to A:\\Projects\\CollegeProjects\\YogaPartner\\intermediates\\v2\\adho_mukha_shvanasana_105.jpg\n",
      "Saved to A:\\Projects\\CollegeProjects\\YogaPartner\\intermediates\\v2\\ustrasana_15.jpg\n"
     ]
    },
    {
     "name": "stderr",
     "output_type": "stream",
     "text": [
      "155it [00:25,  7.67it/s]"
     ]
    },
    {
     "name": "stdout",
     "output_type": "stream",
     "text": [
      "Saved to A:\\Projects\\CollegeProjects\\YogaPartner\\intermediates\\v2\\bhujangasana_521.jpg\n",
      "Saved to A:\\Projects\\CollegeProjects\\YogaPartner\\intermediates\\v2\\vasisthasana_46.jpg\n"
     ]
    },
    {
     "name": "stderr",
     "output_type": "stream",
     "text": [
      "157it [00:25,  6.80it/s]"
     ]
    },
    {
     "name": "stdout",
     "output_type": "stream",
     "text": [
      "Saved to A:\\Projects\\CollegeProjects\\YogaPartner\\intermediates\\v2\\vrikshasana_126.jpg\n",
      "Saved to A:\\Projects\\CollegeProjects\\YogaPartner\\intermediates\\v2\\vasisthasana_111.jpg\n"
     ]
    },
    {
     "name": "stderr",
     "output_type": "stream",
     "text": [
      "159it [00:26,  7.67it/s]"
     ]
    },
    {
     "name": "stdout",
     "output_type": "stream",
     "text": [
      "Saved to A:\\Projects\\CollegeProjects\\YogaPartner\\intermediates\\v2\\bhujangasana_585.jpg\n",
      "Saved to A:\\Projects\\CollegeProjects\\YogaPartner\\intermediates\\v2\\bidalasana_156.jpeg\n"
     ]
    },
    {
     "name": "stderr",
     "output_type": "stream",
     "text": [
      "161it [00:26,  7.73it/s]"
     ]
    },
    {
     "name": "stdout",
     "output_type": "stream",
     "text": [
      "Saved to A:\\Projects\\CollegeProjects\\YogaPartner\\intermediates\\v2\\vrikshasana_311.jpg\n",
      "Saved to A:\\Projects\\CollegeProjects\\YogaPartner\\intermediates\\v2\\adho_mukha_shvanasana_154.jpg\n"
     ]
    },
    {
     "name": "stderr",
     "output_type": "stream",
     "text": [
      "\r",
      "163it [00:26,  8.71it/s]"
     ]
    },
    {
     "name": "stdout",
     "output_type": "stream",
     "text": [
      "Saved to A:\\Projects\\CollegeProjects\\YogaPartner\\intermediates\\v2\\adho_mukha_shvanasana_411.jpg\n",
      "Saved to A:\\Projects\\CollegeProjects\\YogaPartner\\intermediates\\v2\\utkatasana_191.jpg\n",
      "Saved to A:\\Projects\\CollegeProjects\\YogaPartner\\intermediates\\v2\\virabhadrasana_i_32.jpg\n"
     ]
    },
    {
     "name": "stderr",
     "output_type": "stream",
     "text": [
      "167it [00:26,  9.85it/s]"
     ]
    },
    {
     "name": "stdout",
     "output_type": "stream",
     "text": [
      "Saved to A:\\Projects\\CollegeProjects\\YogaPartner\\intermediates\\v2\\bhujangasana_409.jpg\n",
      "Saved to A:\\Projects\\CollegeProjects\\YogaPartner\\intermediates\\v2\\bhujangasana_489.jpg\n",
      "Saved to A:\\Projects\\CollegeProjects\\YogaPartner\\intermediates\\v2\\utkata_konasana_169.jpg\n"
     ]
    },
    {
     "name": "stderr",
     "output_type": "stream",
     "text": [
      "169it [00:27,  9.05it/s]"
     ]
    },
    {
     "name": "stdout",
     "output_type": "stream",
     "text": [
      "Saved to A:\\Projects\\CollegeProjects\\YogaPartner\\intermediates\\v2\\virabhadrasana_ii_48.jpg\n",
      "Saved to A:\\Projects\\CollegeProjects\\YogaPartner\\intermediates\\v2\\virabhadrasana_i_75.jpg\n"
     ]
    },
    {
     "name": "stderr",
     "output_type": "stream",
     "text": [
      "\r",
      "171it [00:27,  9.56it/s]"
     ]
    },
    {
     "name": "stdout",
     "output_type": "stream",
     "text": [
      "Saved to A:\\Projects\\CollegeProjects\\YogaPartner\\intermediates\\v2\\utkatasana_108.jpg\n",
      "Saved to A:\\Projects\\CollegeProjects\\YogaPartner\\intermediates\\v2\\utkata_konasana_166.jpg\n"
     ]
    },
    {
     "name": "stderr",
     "output_type": "stream",
     "text": [
      "174it [00:27,  9.20it/s]"
     ]
    },
    {
     "name": "stdout",
     "output_type": "stream",
     "text": [
      "Saved to A:\\Projects\\CollegeProjects\\YogaPartner\\intermediates\\v2\\vrikshasana_13.jpg\n",
      "Saved to A:\\Projects\\CollegeProjects\\YogaPartner\\intermediates\\v2\\phalakasana_99.jpg\n",
      "Saved to A:\\Projects\\CollegeProjects\\YogaPartner\\intermediates\\v2\\virabhadrasana_i_77.jpg\n"
     ]
    },
    {
     "name": "stderr",
     "output_type": "stream",
     "text": [
      "177it [00:27,  9.81it/s]"
     ]
    },
    {
     "name": "stdout",
     "output_type": "stream",
     "text": [
      "Saved to A:\\Projects\\CollegeProjects\\YogaPartner\\intermediates\\v2\\utkatasana_208.jpg\n",
      "Saved to A:\\Projects\\CollegeProjects\\YogaPartner\\intermediates\\v2\\bidalasana_161.jpg\n",
      "Saved to A:\\Projects\\CollegeProjects\\YogaPartner\\intermediates\\v2\\utkata_konasana_68.jpg\n"
     ]
    },
    {
     "name": "stderr",
     "output_type": "stream",
     "text": [
      "179it [00:28,  8.10it/s]"
     ]
    },
    {
     "name": "stdout",
     "output_type": "stream",
     "text": [
      "Saved to A:\\Projects\\CollegeProjects\\YogaPartner\\intermediates\\v2\\bidalasana_300.jpg\n",
      "Saved to A:\\Projects\\CollegeProjects\\YogaPartner\\intermediates\\v2\\utkatasana_185.jpg\n"
     ]
    },
    {
     "name": "stderr",
     "output_type": "stream",
     "text": [
      "\r",
      "180it [00:28,  7.70it/s]"
     ]
    },
    {
     "name": "stdout",
     "output_type": "stream",
     "text": [
      "Saved to A:\\Projects\\CollegeProjects\\YogaPartner\\intermediates\\v2\\bhujangasana_393.jpg\n"
     ]
    },
    {
     "name": "stderr",
     "output_type": "stream",
     "text": [
      "182it [00:29,  4.30it/s]"
     ]
    },
    {
     "name": "stdout",
     "output_type": "stream",
     "text": [
      "Saved to A:\\Projects\\CollegeProjects\\YogaPartner\\intermediates\\v2\\utkata_konasana_96.jpg\n",
      "Saved to A:\\Projects\\CollegeProjects\\YogaPartner\\intermediates\\v2\\bhujangasana_265.jpg\n"
     ]
    },
    {
     "name": "stderr",
     "output_type": "stream",
     "text": [
      "\r",
      "183it [00:29,  4.88it/s]"
     ]
    },
    {
     "name": "stdout",
     "output_type": "stream",
     "text": [
      "Saved to A:\\Projects\\CollegeProjects\\YogaPartner\\intermediates\\v2\\vrikshasana_39.jpg\n"
     ]
    },
    {
     "name": "stderr",
     "output_type": "stream",
     "text": [
      "\r",
      "184it [00:29,  4.57it/s]"
     ]
    },
    {
     "name": "stdout",
     "output_type": "stream",
     "text": [
      "Saved to A:\\Projects\\CollegeProjects\\YogaPartner\\intermediates\\v2\\adho_mukha_shvanasana_406.jpg\n"
     ]
    },
    {
     "name": "stderr",
     "output_type": "stream",
     "text": [
      "186it [00:30,  4.21it/s]"
     ]
    },
    {
     "name": "stdout",
     "output_type": "stream",
     "text": [
      "Saved to A:\\Projects\\CollegeProjects\\YogaPartner\\intermediates\\v2\\utkata_konasana_109.jpg\n",
      "Saved to A:\\Projects\\CollegeProjects\\YogaPartner\\intermediates\\v2\\vasisthasana_99.jpg\n"
     ]
    },
    {
     "name": "stderr",
     "output_type": "stream",
     "text": [
      "188it [00:30,  3.99it/s]"
     ]
    },
    {
     "name": "stdout",
     "output_type": "stream",
     "text": [
      "Saved to A:\\Projects\\CollegeProjects\\YogaPartner\\intermediates\\v2\\adho_mukha_shvanasana_9.jpg\n",
      "Saved to A:\\Projects\\CollegeProjects\\YogaPartner\\intermediates\\v2\\utkatasana_20.jpg\n"
     ]
    },
    {
     "name": "stderr",
     "output_type": "stream",
     "text": [
      "190it [00:31,  5.26it/s]"
     ]
    },
    {
     "name": "stdout",
     "output_type": "stream",
     "text": [
      "Saved to A:\\Projects\\CollegeProjects\\YogaPartner\\intermediates\\v2\\bidalasana_307.jpeg\n",
      "Saved to A:\\Projects\\CollegeProjects\\YogaPartner\\intermediates\\v2\\utkatasana_1.jpg\n"
     ]
    },
    {
     "name": "stderr",
     "output_type": "stream",
     "text": [
      "\r",
      "192it [00:31,  6.79it/s]"
     ]
    },
    {
     "name": "stdout",
     "output_type": "stream",
     "text": [
      "Saved to A:\\Projects\\CollegeProjects\\YogaPartner\\intermediates\\v2\\vasisthasana_10.jpg\n",
      "Saved to A:\\Projects\\CollegeProjects\\YogaPartner\\intermediates\\v2\\bhujangasana_148.jpg\n"
     ]
    },
    {
     "name": "stderr",
     "output_type": "stream",
     "text": [
      "\r",
      "193it [00:31,  6.56it/s]"
     ]
    },
    {
     "name": "stdout",
     "output_type": "stream",
     "text": [
      "Saved to A:\\Projects\\CollegeProjects\\YogaPartner\\intermediates\\v2\\bhujangasana_567.jpg\n"
     ]
    },
    {
     "name": "stderr",
     "output_type": "stream",
     "text": [
      "\r",
      "194it [00:31,  5.84it/s]"
     ]
    },
    {
     "name": "stdout",
     "output_type": "stream",
     "text": [
      "Saved to A:\\Projects\\CollegeProjects\\YogaPartner\\intermediates\\v2\\bhujangasana_627.jpg\n",
      "Saved to A:\\Projects\\CollegeProjects\\YogaPartner\\intermediates\\v2\\adho_mukha_shvanasana_225.jpg\n"
     ]
    },
    {
     "name": "stderr",
     "output_type": "stream",
     "text": [
      "197it [00:31,  6.73it/s]"
     ]
    },
    {
     "name": "stdout",
     "output_type": "stream",
     "text": [
      "Saved to A:\\Projects\\CollegeProjects\\YogaPartner\\intermediates\\v2\\virabhadrasana_i_66.jpg\n",
      "Saved to A:\\Projects\\CollegeProjects\\YogaPartner\\intermediates\\v2\\bhujangasana_42.jpg\n"
     ]
    },
    {
     "name": "stderr",
     "output_type": "stream",
     "text": [
      "\r",
      "198it [00:32,  6.63it/s]"
     ]
    },
    {
     "name": "stdout",
     "output_type": "stream",
     "text": [
      "Saved to A:\\Projects\\CollegeProjects\\YogaPartner\\intermediates\\v2\\virabhadrasana_ii_135.jpg\n"
     ]
    },
    {
     "name": "stderr",
     "output_type": "stream",
     "text": [
      "200it [00:32,  6.10it/s]"
     ]
    },
    {
     "name": "stdout",
     "output_type": "stream",
     "text": [
      "Saved to A:\\Projects\\CollegeProjects\\YogaPartner\\intermediates\\v2\\vrikshasana_180.jpg\n",
      "Saved to A:\\Projects\\CollegeProjects\\YogaPartner\\intermediates\\v2\\adho_mukha_shvanasana_418.jpg\n"
     ]
    },
    {
     "name": "stderr",
     "output_type": "stream",
     "text": [
      "\r",
      "202it [00:32,  7.18it/s]"
     ]
    },
    {
     "name": "stdout",
     "output_type": "stream",
     "text": [
      "Saved to A:\\Projects\\CollegeProjects\\YogaPartner\\intermediates\\v2\\utkatasana_161.jpg\n",
      "Saved to A:\\Projects\\CollegeProjects\\YogaPartner\\intermediates\\v2\\adho_mukha_shvanasana_52.jpg\n"
     ]
    },
    {
     "name": "stderr",
     "output_type": "stream",
     "text": [
      "\r",
      "203it [00:32,  6.96it/s]"
     ]
    },
    {
     "name": "stdout",
     "output_type": "stream",
     "text": [
      "Saved to A:\\Projects\\CollegeProjects\\YogaPartner\\intermediates\\v2\\adho_mukha_shvanasana_396.jpg\n"
     ]
    },
    {
     "name": "stderr",
     "output_type": "stream",
     "text": [
      "205it [00:33,  6.03it/s]"
     ]
    },
    {
     "name": "stdout",
     "output_type": "stream",
     "text": [
      "Saved to A:\\Projects\\CollegeProjects\\YogaPartner\\intermediates\\v2\\vrikshasana_81.jpg\n",
      "Saved to A:\\Projects\\CollegeProjects\\YogaPartner\\intermediates\\v2\\utkata_konasana_194.jpg\n"
     ]
    },
    {
     "name": "stderr",
     "output_type": "stream",
     "text": [
      "\r",
      "206it [00:33,  6.62it/s]"
     ]
    },
    {
     "name": "stdout",
     "output_type": "stream",
     "text": [
      "Saved to A:\\Projects\\CollegeProjects\\YogaPartner\\intermediates\\v2\\bidalasana_199.jpg\n",
      "Saved to A:\\Projects\\CollegeProjects\\YogaPartner\\intermediates\\v2\\bhujangasana_69.jpg\n"
     ]
    },
    {
     "name": "stderr",
     "output_type": "stream",
     "text": [
      "\r",
      "208it [00:33,  7.50it/s]"
     ]
    },
    {
     "name": "stdout",
     "output_type": "stream",
     "text": [
      "Saved to A:\\Projects\\CollegeProjects\\YogaPartner\\intermediates\\v2\\adho_mukha_shvanasana_55.jpg\n"
     ]
    },
    {
     "name": "stderr",
     "output_type": "stream",
     "text": [
      "210it [00:34,  6.47it/s]"
     ]
    },
    {
     "name": "stdout",
     "output_type": "stream",
     "text": [
      "Saved to A:\\Projects\\CollegeProjects\\YogaPartner\\intermediates\\v2\\adho_mukha_shvanasana_56.jpg\n",
      "Saved to A:\\Projects\\CollegeProjects\\YogaPartner\\intermediates\\v2\\vasisthasana_121.jpg\n"
     ]
    },
    {
     "name": "stderr",
     "output_type": "stream",
     "text": [
      "212it [00:34,  6.99it/s]"
     ]
    },
    {
     "name": "stdout",
     "output_type": "stream",
     "text": [
      "Saved to A:\\Projects\\CollegeProjects\\YogaPartner\\intermediates\\v2\\vasisthasana_138.jpg\n",
      "Saved to A:\\Projects\\CollegeProjects\\YogaPartner\\intermediates\\v2\\virabhadrasana_i_129.jpg\n",
      "Saved to A:\\Projects\\CollegeProjects\\YogaPartner\\intermediates\\v2\\virabhadrasana_ii_366.jpg\n"
     ]
    },
    {
     "name": "stderr",
     "output_type": "stream",
     "text": [
      "215it [00:35,  4.51it/s]"
     ]
    },
    {
     "name": "stdout",
     "output_type": "stream",
     "text": [
      "Saved to A:\\Projects\\CollegeProjects\\YogaPartner\\intermediates\\v2\\vrikshasana_212.jpg\n",
      "Saved to A:\\Projects\\CollegeProjects\\YogaPartner\\intermediates\\v2\\utkata_konasana_150.jpg\n"
     ]
    },
    {
     "name": "stderr",
     "output_type": "stream",
     "text": [
      "217it [00:35,  5.56it/s]"
     ]
    },
    {
     "name": "stdout",
     "output_type": "stream",
     "text": [
      "Saved to A:\\Projects\\CollegeProjects\\YogaPartner\\intermediates\\v2\\vrikshasana_159.jpg\n",
      "Saved to A:\\Projects\\CollegeProjects\\YogaPartner\\intermediates\\v2\\adho_mukha_shvanasana_362.jpg\n"
     ]
    },
    {
     "name": "stderr",
     "output_type": "stream",
     "text": [
      "\r",
      "218it [00:35,  5.80it/s]"
     ]
    },
    {
     "name": "stdout",
     "output_type": "stream",
     "text": [
      "Saved to A:\\Projects\\CollegeProjects\\YogaPartner\\intermediates\\v2\\bhujangasana_635.jpg\n"
     ]
    },
    {
     "name": "stderr",
     "output_type": "stream",
     "text": [
      "\r",
      "219it [00:36,  3.05it/s]"
     ]
    },
    {
     "name": "stdout",
     "output_type": "stream",
     "text": [
      "Saved to A:\\Projects\\CollegeProjects\\YogaPartner\\intermediates\\v2\\utkata_konasana_115.jpg\n"
     ]
    },
    {
     "name": "stderr",
     "output_type": "stream",
     "text": [
      "221it [00:36,  3.72it/s]"
     ]
    },
    {
     "name": "stdout",
     "output_type": "stream",
     "text": [
      "Saved to A:\\Projects\\CollegeProjects\\YogaPartner\\intermediates\\v2\\vrikshasana_281.jpg\n",
      "Saved to A:\\Projects\\CollegeProjects\\YogaPartner\\intermediates\\v2\\bhujangasana_34.jpg\n"
     ]
    },
    {
     "name": "stderr",
     "output_type": "stream",
     "text": [
      "\r",
      "222it [00:36,  4.09it/s]"
     ]
    },
    {
     "name": "stdout",
     "output_type": "stream",
     "text": [
      "Saved to A:\\Projects\\CollegeProjects\\YogaPartner\\intermediates\\v2\\utkata_konasana_189.jpg\n"
     ]
    },
    {
     "name": "stderr",
     "output_type": "stream",
     "text": [
      "225it [00:38,  3.11it/s]"
     ]
    },
    {
     "name": "stdout",
     "output_type": "stream",
     "text": [
      "Saved to A:\\Projects\\CollegeProjects\\YogaPartner\\intermediates\\v2\\adho_mukha_shvanasana_118.jpg\n",
      "Saved to A:\\Projects\\CollegeProjects\\YogaPartner\\intermediates\\v2\\adho_mukha_shvanasana_190.jpg\n",
      "Saved to A:\\Projects\\CollegeProjects\\YogaPartner\\intermediates\\v2\\bhujangasana_269.jpg\n"
     ]
    },
    {
     "name": "stderr",
     "output_type": "stream",
     "text": [
      "\r",
      "226it [00:38,  3.38it/s]"
     ]
    },
    {
     "name": "stdout",
     "output_type": "stream",
     "text": [
      "Saved to A:\\Projects\\CollegeProjects\\YogaPartner\\intermediates\\v2\\bhujangasana_116.jpg\n",
      "Saved to A:\\Projects\\CollegeProjects\\YogaPartner\\intermediates\\v2\\vrikshasana_88.jpg\n"
     ]
    },
    {
     "name": "stderr",
     "output_type": "stream",
     "text": [
      "229it [00:38,  5.03it/s]"
     ]
    },
    {
     "name": "stdout",
     "output_type": "stream",
     "text": [
      "Saved to A:\\Projects\\CollegeProjects\\YogaPartner\\intermediates\\v2\\virabhadrasana_ii_207.jpg\n",
      "Saved to A:\\Projects\\CollegeProjects\\YogaPartner\\intermediates\\v2\\vasisthasana_18.jpg\n"
     ]
    },
    {
     "name": "stderr",
     "output_type": "stream",
     "text": [
      "232it [00:39,  6.99it/s]"
     ]
    },
    {
     "name": "stdout",
     "output_type": "stream",
     "text": [
      "Saved to A:\\Projects\\CollegeProjects\\YogaPartner\\intermediates\\v2\\adho_mukha_shvanasana_42.jpg\n",
      "Saved to A:\\Projects\\CollegeProjects\\YogaPartner\\intermediates\\v2\\bhujangasana_101.jpg\n",
      "Saved to A:\\Projects\\CollegeProjects\\YogaPartner\\intermediates\\v2\\virabhadrasana_ii_206.jpg\n"
     ]
    },
    {
     "name": "stderr",
     "output_type": "stream",
     "text": [
      "235it [00:39,  8.30it/s]"
     ]
    },
    {
     "name": "stdout",
     "output_type": "stream",
     "text": [
      "Saved to A:\\Projects\\CollegeProjects\\YogaPartner\\intermediates\\v2\\virabhadrasana_i_97.jpg\n",
      "Saved to A:\\Projects\\CollegeProjects\\YogaPartner\\intermediates\\v2\\utkatasana_100.jpg\n",
      "Saved to A:\\Projects\\CollegeProjects\\YogaPartner\\intermediates\\v2\\vrikshasana_178.jpg\n"
     ]
    },
    {
     "name": "stderr",
     "output_type": "stream",
     "text": [
      "238it [00:39,  9.24it/s]"
     ]
    },
    {
     "name": "stdout",
     "output_type": "stream",
     "text": [
      "Saved to A:\\Projects\\CollegeProjects\\YogaPartner\\intermediates\\v2\\utkata_konasana_209.jpg\n",
      "Saved to A:\\Projects\\CollegeProjects\\YogaPartner\\intermediates\\v2\\bidalasana_275.jpeg\n",
      "Saved to A:\\Projects\\CollegeProjects\\YogaPartner\\intermediates\\v2\\bidalasana_61.jpg\n"
     ]
    },
    {
     "name": "stderr",
     "output_type": "stream",
     "text": [
      "\r",
      "240it [00:40,  9.50it/s]"
     ]
    },
    {
     "name": "stdout",
     "output_type": "stream",
     "text": [
      "Saved to A:\\Projects\\CollegeProjects\\YogaPartner\\intermediates\\v2\\adho_mukha_shvanasana_313.jpg\n",
      "Saved to A:\\Projects\\CollegeProjects\\YogaPartner\\intermediates\\v2\\ustrasana_56.jpg\n"
     ]
    },
    {
     "name": "stderr",
     "output_type": "stream",
     "text": [
      "\r",
      "241it [00:40,  8.78it/s]"
     ]
    },
    {
     "name": "stdout",
     "output_type": "stream",
     "text": [
      "Saved to A:\\Projects\\CollegeProjects\\YogaPartner\\intermediates\\v2\\virabhadrasana_ii_279.jpg\n",
      "Saved to A:\\Projects\\CollegeProjects\\YogaPartner\\intermediates\\v2\\bidalasana_44.jpg\n"
     ]
    },
    {
     "name": "stderr",
     "output_type": "stream",
     "text": [
      "244it [00:40,  7.95it/s]"
     ]
    },
    {
     "name": "stdout",
     "output_type": "stream",
     "text": [
      "Saved to A:\\Projects\\CollegeProjects\\YogaPartner\\intermediates\\v2\\ustrasana_18.jpg\n",
      "Saved to A:\\Projects\\CollegeProjects\\YogaPartner\\intermediates\\v2\\phalakasana_14.jpg\n"
     ]
    },
    {
     "name": "stderr",
     "output_type": "stream",
     "text": [
      "247it [00:40,  9.72it/s]"
     ]
    },
    {
     "name": "stdout",
     "output_type": "stream",
     "text": [
      "Saved to A:\\Projects\\CollegeProjects\\YogaPartner\\intermediates\\v2\\utkatasana_221.jpg\n",
      "Saved to A:\\Projects\\CollegeProjects\\YogaPartner\\intermediates\\v2\\adho_mukha_shvanasana_19.jpg\n",
      "No pose detected - length  - .\\data\\v2\\ustrasana\\ustrasana_59.jpg\n",
      "Saved to A:\\Projects\\CollegeProjects\\YogaPartner\\intermediates\\v2\\ustrasana_59.jpg\n"
     ]
    },
    {
     "name": "stderr",
     "output_type": "stream",
     "text": [
      "\r",
      "249it [00:41,  9.66it/s]"
     ]
    },
    {
     "name": "stdout",
     "output_type": "stream",
     "text": [
      "Saved to A:\\Projects\\CollegeProjects\\YogaPartner\\intermediates\\v2\\bhujangasana_20.jpg\n",
      "Saved to A:\\Projects\\CollegeProjects\\YogaPartner\\intermediates\\v2\\virabhadrasana_ii_304.jpg\n"
     ]
    },
    {
     "name": "stderr",
     "output_type": "stream",
     "text": [
      "\r",
      "250it [00:41,  7.63it/s]"
     ]
    },
    {
     "name": "stdout",
     "output_type": "stream",
     "text": [
      "Saved to A:\\Projects\\CollegeProjects\\YogaPartner\\intermediates\\v2\\virabhadrasana_ii_168.jpg\n"
     ]
    },
    {
     "name": "stderr",
     "output_type": "stream",
     "text": [
      "253it [00:41,  6.03it/s]"
     ]
    },
    {
     "name": "stdout",
     "output_type": "stream",
     "text": [
      "Saved to A:\\Projects\\CollegeProjects\\YogaPartner\\intermediates\\v2\\adho_mukha_shvanasana_399.jpg\n",
      "Saved to A:\\Projects\\CollegeProjects\\YogaPartner\\intermediates\\v2\\adho_mukha_shvanasana_36.jpg\n",
      "Saved to A:\\Projects\\CollegeProjects\\YogaPartner\\intermediates\\v2\\adho_mukha_shvanasana_156.jpg\n"
     ]
    },
    {
     "name": "stderr",
     "output_type": "stream",
     "text": [
      "\r",
      "254it [00:42,  6.56it/s]"
     ]
    },
    {
     "name": "stdout",
     "output_type": "stream",
     "text": [
      "Saved to A:\\Projects\\CollegeProjects\\YogaPartner\\intermediates\\v2\\bhujangasana_571.jpg\n",
      "Saved to A:\\Projects\\CollegeProjects\\YogaPartner\\intermediates\\v2\\vrikshasana_175.jpg\n"
     ]
    },
    {
     "name": "stderr",
     "output_type": "stream",
     "text": [
      "257it [00:42,  7.31it/s]"
     ]
    },
    {
     "name": "stdout",
     "output_type": "stream",
     "text": [
      "Saved to A:\\Projects\\CollegeProjects\\YogaPartner\\intermediates\\v2\\adho_mukha_shvanasana_344.jpg\n",
      "Saved to A:\\Projects\\CollegeProjects\\YogaPartner\\intermediates\\v2\\virabhadrasana_ii_310.jpg\n"
     ]
    },
    {
     "name": "stderr",
     "output_type": "stream",
     "text": [
      "259it [00:43,  4.43it/s]"
     ]
    },
    {
     "name": "stdout",
     "output_type": "stream",
     "text": [
      "Saved to A:\\Projects\\CollegeProjects\\YogaPartner\\intermediates\\v2\\bhujangasana_484.jpg\n",
      "Saved to A:\\Projects\\CollegeProjects\\YogaPartner\\intermediates\\v2\\bhujangasana_525.jpg\n"
     ]
    },
    {
     "name": "stderr",
     "output_type": "stream",
     "text": [
      "\r",
      "260it [00:43,  5.17it/s]"
     ]
    },
    {
     "name": "stdout",
     "output_type": "stream",
     "text": [
      "Saved to A:\\Projects\\CollegeProjects\\YogaPartner\\intermediates\\v2\\virabhadrasana_ii_296.jpg\n"
     ]
    },
    {
     "name": "stderr",
     "output_type": "stream",
     "text": [
      "262it [00:44,  2.81it/s]"
     ]
    },
    {
     "name": "stdout",
     "output_type": "stream",
     "text": [
      "Saved to A:\\Projects\\CollegeProjects\\YogaPartner\\intermediates\\v2\\vrikshasana_251.jpg\n",
      "Saved to A:\\Projects\\CollegeProjects\\YogaPartner\\intermediates\\v2\\virabhadrasana_ii_327.jpg\n",
      "Saved to A:\\Projects\\CollegeProjects\\YogaPartner\\intermediates\\v2\\bhujangasana_114.jpg\n"
     ]
    },
    {
     "name": "stderr",
     "output_type": "stream",
     "text": [
      "266it [00:44,  5.73it/s]"
     ]
    },
    {
     "name": "stdout",
     "output_type": "stream",
     "text": [
      "Saved to A:\\Projects\\CollegeProjects\\YogaPartner\\intermediates\\v2\\utkata_konasana_126.jpg\n",
      "Saved to A:\\Projects\\CollegeProjects\\YogaPartner\\intermediates\\v2\\utkatasana_97.jpg\n",
      "Saved to A:\\Projects\\CollegeProjects\\YogaPartner\\intermediates\\v2\\virabhadrasana_i_221.jpg\n"
     ]
    },
    {
     "name": "stderr",
     "output_type": "stream",
     "text": [
      "269it [00:45,  7.45it/s]"
     ]
    },
    {
     "name": "stdout",
     "output_type": "stream",
     "text": [
      "Saved to A:\\Projects\\CollegeProjects\\YogaPartner\\intermediates\\v2\\virabhadrasana_ii_185.jpg\n",
      "Saved to A:\\Projects\\CollegeProjects\\YogaPartner\\intermediates\\v2\\bhujangasana_352.jpg\n",
      "Saved to A:\\Projects\\CollegeProjects\\YogaPartner\\intermediates\\v2\\virabhadrasana_ii_369.jpg\n"
     ]
    },
    {
     "name": "stderr",
     "output_type": "stream",
     "text": [
      "272it [00:45,  8.45it/s]"
     ]
    },
    {
     "name": "stdout",
     "output_type": "stream",
     "text": [
      "Saved to A:\\Projects\\CollegeProjects\\YogaPartner\\intermediates\\v2\\bhujangasana_124.jpg\n",
      "Saved to A:\\Projects\\CollegeProjects\\YogaPartner\\intermediates\\v2\\utkata_konasana_2.jpg\n",
      "Saved to A:\\Projects\\CollegeProjects\\YogaPartner\\intermediates\\v2\\virabhadrasana_ii_128.jpg\n"
     ]
    },
    {
     "name": "stderr",
     "output_type": "stream",
     "text": [
      "\r",
      "274it [00:45,  9.38it/s]"
     ]
    },
    {
     "name": "stdout",
     "output_type": "stream",
     "text": [
      "Saved to A:\\Projects\\CollegeProjects\\YogaPartner\\intermediates\\v2\\virabhadrasana_i_182.jpg\n",
      "Saved to A:\\Projects\\CollegeProjects\\YogaPartner\\intermediates\\v2\\bidalasana_90.jpg\n",
      "Saved to A:\\Projects\\CollegeProjects\\YogaPartner\\intermediates\\v2\\vrikshasana_152.jpg\n"
     ]
    },
    {
     "name": "stderr",
     "output_type": "stream",
     "text": [
      "278it [00:46, 10.13it/s]"
     ]
    },
    {
     "name": "stdout",
     "output_type": "stream",
     "text": [
      "Saved to A:\\Projects\\CollegeProjects\\YogaPartner\\intermediates\\v2\\virabhadrasana_ii_234.jpg\n",
      "Saved to A:\\Projects\\CollegeProjects\\YogaPartner\\intermediates\\v2\\utkatasana_46.jpg\n",
      "Saved to A:\\Projects\\CollegeProjects\\YogaPartner\\intermediates\\v2\\virabhadrasana_ii_125.jpg\n"
     ]
    },
    {
     "name": "stderr",
     "output_type": "stream",
     "text": [
      "\r",
      "280it [00:46,  9.99it/s]"
     ]
    },
    {
     "name": "stdout",
     "output_type": "stream",
     "text": [
      "Saved to A:\\Projects\\CollegeProjects\\YogaPartner\\intermediates\\v2\\vasisthasana_24.jpg\n",
      "Saved to A:\\Projects\\CollegeProjects\\YogaPartner\\intermediates\\v2\\vasisthasana_49.jpg\n",
      "Saved to A:\\Projects\\CollegeProjects\\YogaPartner\\intermediates\\v2\\bhujangasana_448.jpg\n"
     ]
    },
    {
     "name": "stderr",
     "output_type": "stream",
     "text": [
      "284it [00:46, 10.64it/s]"
     ]
    },
    {
     "name": "stdout",
     "output_type": "stream",
     "text": [
      "Saved to A:\\Projects\\CollegeProjects\\YogaPartner\\intermediates\\v2\\utkatasana_192.jpg\n",
      "Saved to A:\\Projects\\CollegeProjects\\YogaPartner\\intermediates\\v2\\bhujangasana_67.jpg\n",
      "Saved to A:\\Projects\\CollegeProjects\\YogaPartner\\intermediates\\v2\\bhujangasana_588.jpg\n"
     ]
    },
    {
     "name": "stderr",
     "output_type": "stream",
     "text": [
      "\r",
      "286it [00:46,  9.72it/s]"
     ]
    },
    {
     "name": "stdout",
     "output_type": "stream",
     "text": [
      "Saved to A:\\Projects\\CollegeProjects\\YogaPartner\\intermediates\\v2\\adho_mukha_shvanasana_221.jpg\n",
      "Saved to A:\\Projects\\CollegeProjects\\YogaPartner\\intermediates\\v2\\ustrasana_41.jpg\n"
     ]
    },
    {
     "name": "stderr",
     "output_type": "stream",
     "text": [
      "\r",
      "288it [00:46, 10.63it/s]"
     ]
    },
    {
     "name": "stdout",
     "output_type": "stream",
     "text": [
      "Saved to A:\\Projects\\CollegeProjects\\YogaPartner\\intermediates\\v2\\bhujangasana_553.jpg\n",
      "Saved to A:\\Projects\\CollegeProjects\\YogaPartner\\intermediates\\v2\\adho_mukha_shvanasana_289.jpg\n",
      "Saved to A:\\Projects\\CollegeProjects\\YogaPartner\\intermediates\\v2\\utkatasana_175.jpg\n"
     ]
    },
    {
     "name": "stderr",
     "output_type": "stream",
     "text": [
      "292it [00:47, 11.29it/s]"
     ]
    },
    {
     "name": "stdout",
     "output_type": "stream",
     "text": [
      "Saved to A:\\Projects\\CollegeProjects\\YogaPartner\\intermediates\\v2\\virabhadrasana_i_104.jpg\n",
      "Saved to A:\\Projects\\CollegeProjects\\YogaPartner\\intermediates\\v2\\bidalasana_51.jpg\n",
      "Saved to A:\\Projects\\CollegeProjects\\YogaPartner\\intermediates\\v2\\vrikshasana_318.jpg\n"
     ]
    },
    {
     "name": "stderr",
     "output_type": "stream",
     "text": [
      "\r",
      "294it [00:47,  9.69it/s]"
     ]
    },
    {
     "name": "stdout",
     "output_type": "stream",
     "text": [
      "Saved to A:\\Projects\\CollegeProjects\\YogaPartner\\intermediates\\v2\\vrikshasana_108.jpg\n",
      "Saved to A:\\Projects\\CollegeProjects\\YogaPartner\\intermediates\\v2\\adho_mukha_shvanasana_328.jpg\n"
     ]
    },
    {
     "name": "stderr",
     "output_type": "stream",
     "text": [
      "\r",
      "296it [00:47,  9.21it/s]"
     ]
    },
    {
     "name": "stdout",
     "output_type": "stream",
     "text": [
      "Saved to A:\\Projects\\CollegeProjects\\YogaPartner\\intermediates\\v2\\bhujangasana_648.jpg\n",
      "Saved to A:\\Projects\\CollegeProjects\\YogaPartner\\intermediates\\v2\\virabhadrasana_i_79.jpg\n"
     ]
    },
    {
     "name": "stderr",
     "output_type": "stream",
     "text": [
      "\r",
      "297it [00:48,  8.08it/s]"
     ]
    },
    {
     "name": "stdout",
     "output_type": "stream",
     "text": [
      "Saved to A:\\Projects\\CollegeProjects\\YogaPartner\\intermediates\\v2\\adho_mukha_shvanasana_269.jpg\n"
     ]
    },
    {
     "name": "stderr",
     "output_type": "stream",
     "text": [
      "300it [00:48,  8.03it/s]"
     ]
    },
    {
     "name": "stdout",
     "output_type": "stream",
     "text": [
      "Saved to A:\\Projects\\CollegeProjects\\YogaPartner\\intermediates\\v2\\phalakasana_51.jpg\n",
      "Saved to A:\\Projects\\CollegeProjects\\YogaPartner\\intermediates\\v2\\bhujangasana_454.jpg\n",
      "Saved to A:\\Projects\\CollegeProjects\\YogaPartner\\intermediates\\v2\\bhujangasana_296.jpg\n"
     ]
    },
    {
     "name": "stderr",
     "output_type": "stream",
     "text": [
      "\r",
      "301it [00:48,  8.35it/s]"
     ]
    },
    {
     "name": "stdout",
     "output_type": "stream",
     "text": [
      "Saved to A:\\Projects\\CollegeProjects\\YogaPartner\\intermediates\\v2\\vrikshasana_7.jpg\n",
      "Saved to A:\\Projects\\CollegeProjects\\YogaPartner\\intermediates\\v2\\bidalasana_129.jpg\n"
     ]
    },
    {
     "name": "stderr",
     "output_type": "stream",
     "text": [
      "\r",
      "303it [00:48,  7.46it/s]"
     ]
    },
    {
     "name": "stdout",
     "output_type": "stream",
     "text": [
      "Saved to A:\\Projects\\CollegeProjects\\YogaPartner\\intermediates\\v2\\bhujangasana_320.jpg\n"
     ]
    },
    {
     "name": "stderr",
     "output_type": "stream",
     "text": [
      "\r",
      "304it [00:49,  6.33it/s]"
     ]
    },
    {
     "name": "stdout",
     "output_type": "stream",
     "text": [
      "Saved to A:\\Projects\\CollegeProjects\\YogaPartner\\intermediates\\v2\\adho_mukha_shvanasana_125.jpg\n"
     ]
    },
    {
     "name": "stderr",
     "output_type": "stream",
     "text": [
      "306it [00:50,  3.19it/s]"
     ]
    },
    {
     "name": "stdout",
     "output_type": "stream",
     "text": [
      "Saved to A:\\Projects\\CollegeProjects\\YogaPartner\\intermediates\\v2\\utkata_konasana_39.jpg\n",
      "Saved to A:\\Projects\\CollegeProjects\\YogaPartner\\intermediates\\v2\\virabhadrasana_ii_68.jpg\n"
     ]
    },
    {
     "name": "stderr",
     "output_type": "stream",
     "text": [
      "\r",
      "308it [00:50,  4.45it/s]"
     ]
    },
    {
     "name": "stdout",
     "output_type": "stream",
     "text": [
      "Saved to A:\\Projects\\CollegeProjects\\YogaPartner\\intermediates\\v2\\bhujangasana_141.jpg\n",
      "Saved to A:\\Projects\\CollegeProjects\\YogaPartner\\intermediates\\v2\\bhujangasana_144.jpg\n",
      "Saved to A:\\Projects\\CollegeProjects\\YogaPartner\\intermediates\\v2\\phalakasana_71.jpg\n"
     ]
    },
    {
     "name": "stderr",
     "output_type": "stream",
     "text": [
      "311it [00:50,  6.28it/s]"
     ]
    },
    {
     "name": "stdout",
     "output_type": "stream",
     "text": [
      "Saved to A:\\Projects\\CollegeProjects\\YogaPartner\\intermediates\\v2\\adho_mukha_shvanasana_163.jpg\n",
      "Saved to A:\\Projects\\CollegeProjects\\YogaPartner\\intermediates\\v2\\bhujangasana_378.jpg\n"
     ]
    },
    {
     "name": "stderr",
     "output_type": "stream",
     "text": [
      "\r",
      "312it [00:50,  6.20it/s]"
     ]
    },
    {
     "name": "stdout",
     "output_type": "stream",
     "text": [
      "Saved to A:\\Projects\\CollegeProjects\\YogaPartner\\intermediates\\v2\\vrikshasana_239.jpg\n"
     ]
    },
    {
     "name": "stderr",
     "output_type": "stream",
     "text": [
      "314it [00:51,  4.52it/s]"
     ]
    },
    {
     "name": "stdout",
     "output_type": "stream",
     "text": [
      "Saved to A:\\Projects\\CollegeProjects\\YogaPartner\\intermediates\\v2\\virabhadrasana_ii_223.jpg\n",
      "Saved to A:\\Projects\\CollegeProjects\\YogaPartner\\intermediates\\v2\\virabhadrasana_ii_6.jpg\n"
     ]
    },
    {
     "name": "stderr",
     "output_type": "stream",
     "text": [
      "316it [00:52,  3.70it/s]"
     ]
    },
    {
     "name": "stdout",
     "output_type": "stream",
     "text": [
      "Saved to A:\\Projects\\CollegeProjects\\YogaPartner\\intermediates\\v2\\vrikshasana_177.jpg\n",
      "Saved to A:\\Projects\\CollegeProjects\\YogaPartner\\intermediates\\v2\\phalakasana_44.jpg\n"
     ]
    },
    {
     "name": "stderr",
     "output_type": "stream",
     "text": [
      "319it [00:52,  5.90it/s]"
     ]
    },
    {
     "name": "stdout",
     "output_type": "stream",
     "text": [
      "Saved to A:\\Projects\\CollegeProjects\\YogaPartner\\intermediates\\v2\\adho_mukha_shvanasana_20.jpg\n",
      "No pose detected - length  - .\\data\\v2\\bhujangasana\\bhujangasana_307.jpg\n",
      "Saved to A:\\Projects\\CollegeProjects\\YogaPartner\\intermediates\\v2\\bhujangasana_307.jpg\n",
      "Saved to A:\\Projects\\CollegeProjects\\YogaPartner\\intermediates\\v2\\vrikshasana_222.jpg\n"
     ]
    },
    {
     "name": "stderr",
     "output_type": "stream",
     "text": [
      "\r",
      "320it [00:52,  6.34it/s]"
     ]
    },
    {
     "name": "stdout",
     "output_type": "stream",
     "text": [
      "Saved to A:\\Projects\\CollegeProjects\\YogaPartner\\intermediates\\v2\\virabhadrasana_i_137.jpg\n",
      "Saved to A:\\Projects\\CollegeProjects\\YogaPartner\\intermediates\\v2\\virabhadrasana_ii_116.jpg\n"
     ]
    },
    {
     "name": "stderr",
     "output_type": "stream",
     "text": [
      "324it [00:53,  8.84it/s]"
     ]
    },
    {
     "name": "stdout",
     "output_type": "stream",
     "text": [
      "Saved to A:\\Projects\\CollegeProjects\\YogaPartner\\intermediates\\v2\\bhujangasana_196.jpg\n",
      "Saved to A:\\Projects\\CollegeProjects\\YogaPartner\\intermediates\\v2\\utkatasana_204.jpg\n",
      "Saved to A:\\Projects\\CollegeProjects\\YogaPartner\\intermediates\\v2\\virabhadrasana_i_209.jpg\n"
     ]
    },
    {
     "name": "stderr",
     "output_type": "stream",
     "text": [
      "327it [00:53,  9.53it/s]"
     ]
    },
    {
     "name": "stdout",
     "output_type": "stream",
     "text": [
      "Saved to A:\\Projects\\CollegeProjects\\YogaPartner\\intermediates\\v2\\virabhadrasana_ii_54.jpg\n",
      "No pose detected - length  - .\\data\\v2\\bidalasana\\bidalasana_15.jpg\n",
      "Saved to A:\\Projects\\CollegeProjects\\YogaPartner\\intermediates\\v2\\bidalasana_15.jpg\n",
      "Saved to A:\\Projects\\CollegeProjects\\YogaPartner\\intermediates\\v2\\virabhadrasana_i_89.jpg\n"
     ]
    },
    {
     "name": "stderr",
     "output_type": "stream",
     "text": [
      "329it [00:53,  9.36it/s]"
     ]
    },
    {
     "name": "stdout",
     "output_type": "stream",
     "text": [
      "Saved to A:\\Projects\\CollegeProjects\\YogaPartner\\intermediates\\v2\\adho_mukha_shvanasana_151.jpg\n",
      "Saved to A:\\Projects\\CollegeProjects\\YogaPartner\\intermediates\\v2\\adho_mukha_shvanasana_242.jpg\n",
      "Saved to A:\\Projects\\CollegeProjects\\YogaPartner\\intermediates\\v2\\virabhadrasana_ii_271.jpg\n"
     ]
    },
    {
     "name": "stderr",
     "output_type": "stream",
     "text": [
      "\r",
      "331it [00:53,  9.64it/s]"
     ]
    },
    {
     "name": "stdout",
     "output_type": "stream",
     "text": [
      "Saved to A:\\Projects\\CollegeProjects\\YogaPartner\\intermediates\\v2\\bhujangasana_373.jpg\n"
     ]
    },
    {
     "name": "stderr",
     "output_type": "stream",
     "text": [
      "333it [00:54,  7.49it/s]"
     ]
    },
    {
     "name": "stdout",
     "output_type": "stream",
     "text": [
      "Saved to A:\\Projects\\CollegeProjects\\YogaPartner\\intermediates\\v2\\adho_mukha_shvanasana_218.jpg\n",
      "Saved to A:\\Projects\\CollegeProjects\\YogaPartner\\intermediates\\v2\\bhujangasana_467.jpg\n"
     ]
    },
    {
     "name": "stderr",
     "output_type": "stream",
     "text": [
      "335it [00:54,  7.20it/s]"
     ]
    },
    {
     "name": "stdout",
     "output_type": "stream",
     "text": [
      "Saved to A:\\Projects\\CollegeProjects\\YogaPartner\\intermediates\\v2\\bhujangasana_169.jpg\n",
      "Saved to A:\\Projects\\CollegeProjects\\YogaPartner\\intermediates\\v2\\adho_mukha_shvanasana_219.jpg\n"
     ]
    },
    {
     "name": "stderr",
     "output_type": "stream",
     "text": [
      "337it [00:54,  6.61it/s]"
     ]
    },
    {
     "name": "stdout",
     "output_type": "stream",
     "text": [
      "Saved to A:\\Projects\\CollegeProjects\\YogaPartner\\intermediates\\v2\\adho_mukha_shvanasana_158.jpg\n",
      "Saved to A:\\Projects\\CollegeProjects\\YogaPartner\\intermediates\\v2\\bhujangasana_154.jpg\n"
     ]
    },
    {
     "name": "stderr",
     "output_type": "stream",
     "text": [
      "\r",
      "338it [00:55,  6.66it/s]"
     ]
    },
    {
     "name": "stdout",
     "output_type": "stream",
     "text": [
      "Saved to A:\\Projects\\CollegeProjects\\YogaPartner\\intermediates\\v2\\vrikshasana_302.jpg\n"
     ]
    },
    {
     "name": "stderr",
     "output_type": "stream",
     "text": [
      "\r",
      "339it [00:55,  5.08it/s]"
     ]
    },
    {
     "name": "stdout",
     "output_type": "stream",
     "text": [
      "Saved to A:\\Projects\\CollegeProjects\\YogaPartner\\intermediates\\v2\\bidalasana_71.jpg\n"
     ]
    },
    {
     "name": "stderr",
     "output_type": "stream",
     "text": [
      "341it [00:55,  4.53it/s]"
     ]
    },
    {
     "name": "stdout",
     "output_type": "stream",
     "text": [
      "Saved to A:\\Projects\\CollegeProjects\\YogaPartner\\intermediates\\v2\\vrikshasana_317.jpg\n",
      "Saved to A:\\Projects\\CollegeProjects\\YogaPartner\\intermediates\\v2\\utkatasana_206.jpg\n"
     ]
    },
    {
     "name": "stderr",
     "output_type": "stream",
     "text": [
      "\r",
      "342it [00:56,  4.32it/s]"
     ]
    },
    {
     "name": "stdout",
     "output_type": "stream",
     "text": [
      "Saved to A:\\Projects\\CollegeProjects\\YogaPartner\\intermediates\\v2\\virabhadrasana_ii_338.jpg\n"
     ]
    },
    {
     "name": "stderr",
     "output_type": "stream",
     "text": [
      "344it [00:56,  4.65it/s]"
     ]
    },
    {
     "name": "stdout",
     "output_type": "stream",
     "text": [
      "Saved to A:\\Projects\\CollegeProjects\\YogaPartner\\intermediates\\v2\\virabhadrasana_i_10.jpg\n",
      "Saved to A:\\Projects\\CollegeProjects\\YogaPartner\\intermediates\\v2\\bhujangasana_431.jpg\n"
     ]
    },
    {
     "name": "stderr",
     "output_type": "stream",
     "text": [
      "\r",
      "345it [00:56,  4.75it/s]"
     ]
    },
    {
     "name": "stdout",
     "output_type": "stream",
     "text": [
      "No pose detected - length  - .\\data\\v2\\virabhadrasana_ii\\virabhadrasana_ii_166.jpg\n",
      "Saved to A:\\Projects\\CollegeProjects\\YogaPartner\\intermediates\\v2\\virabhadrasana_ii_166.jpg\n"
     ]
    },
    {
     "name": "stderr",
     "output_type": "stream",
     "text": [
      "\r",
      "346it [00:56,  5.24it/s]"
     ]
    },
    {
     "name": "stdout",
     "output_type": "stream",
     "text": [
      "Saved to A:\\Projects\\CollegeProjects\\YogaPartner\\intermediates\\v2\\adho_mukha_shvanasana_244.jpg\n"
     ]
    },
    {
     "name": "stderr",
     "output_type": "stream",
     "text": [
      "\r",
      "347it [00:57,  5.05it/s]"
     ]
    },
    {
     "name": "stdout",
     "output_type": "stream",
     "text": [
      "Saved to A:\\Projects\\CollegeProjects\\YogaPartner\\intermediates\\v2\\adho_mukha_shvanasana_28.jpg\n",
      "Saved to A:\\Projects\\CollegeProjects\\YogaPartner\\intermediates\\v2\\adho_mukha_shvanasana_310.jpg\n"
     ]
    },
    {
     "name": "stderr",
     "output_type": "stream",
     "text": [
      "350it [00:57,  6.42it/s]"
     ]
    },
    {
     "name": "stdout",
     "output_type": "stream",
     "text": [
      "Saved to A:\\Projects\\CollegeProjects\\YogaPartner\\intermediates\\v2\\vasisthasana_86.jpg\n",
      "Saved to A:\\Projects\\CollegeProjects\\YogaPartner\\intermediates\\v2\\phalakasana_46.jpg\n"
     ]
    },
    {
     "name": "stderr",
     "output_type": "stream",
     "text": [
      "352it [00:57,  7.68it/s]"
     ]
    },
    {
     "name": "stdout",
     "output_type": "stream",
     "text": [
      "Saved to A:\\Projects\\CollegeProjects\\YogaPartner\\intermediates\\v2\\phalakasana_128.jpg\n",
      "Saved to A:\\Projects\\CollegeProjects\\YogaPartner\\intermediates\\v2\\bhujangasana_343.jpg\n"
     ]
    },
    {
     "name": "stderr",
     "output_type": "stream",
     "text": [
      "354it [00:58,  6.27it/s]"
     ]
    },
    {
     "name": "stdout",
     "output_type": "stream",
     "text": [
      "Saved to A:\\Projects\\CollegeProjects\\YogaPartner\\intermediates\\v2\\vrikshasana_131.jpg\n",
      "Saved to A:\\Projects\\CollegeProjects\\YogaPartner\\intermediates\\v2\\vrikshasana_241.jpg\n"
     ]
    },
    {
     "name": "stderr",
     "output_type": "stream",
     "text": [
      "356it [00:58,  6.67it/s]"
     ]
    },
    {
     "name": "stdout",
     "output_type": "stream",
     "text": [
      "Saved to A:\\Projects\\CollegeProjects\\YogaPartner\\intermediates\\v2\\bidalasana_175.jpg\n",
      "Saved to A:\\Projects\\CollegeProjects\\YogaPartner\\intermediates\\v2\\bhujangasana_130.jpg\n",
      "No pose detected - length  - .\\data\\v2\\bidalasana\\bidalasana_264.jpg\n",
      "Saved to A:\\Projects\\CollegeProjects\\YogaPartner\\intermediates\\v2\\bidalasana_264.jpg\n"
     ]
    },
    {
     "name": "stderr",
     "output_type": "stream",
     "text": [
      "359it [00:58,  7.82it/s]"
     ]
    },
    {
     "name": "stdout",
     "output_type": "stream",
     "text": [
      "Saved to A:\\Projects\\CollegeProjects\\YogaPartner\\intermediates\\v2\\vasisthasana_58.jpg\n",
      "Saved to A:\\Projects\\CollegeProjects\\YogaPartner\\intermediates\\v2\\adho_mukha_shvanasana_259.jpg\n"
     ]
    },
    {
     "name": "stderr",
     "output_type": "stream",
     "text": [
      "361it [00:58,  8.12it/s]"
     ]
    },
    {
     "name": "stdout",
     "output_type": "stream",
     "text": [
      "Saved to A:\\Projects\\CollegeProjects\\YogaPartner\\intermediates\\v2\\bidalasana_60.jpg\n",
      "Saved to A:\\Projects\\CollegeProjects\\YogaPartner\\intermediates\\v2\\bhujangasana_485.jpg\n"
     ]
    },
    {
     "name": "stderr",
     "output_type": "stream",
     "text": [
      "363it [00:59,  8.17it/s]"
     ]
    },
    {
     "name": "stdout",
     "output_type": "stream",
     "text": [
      "Saved to A:\\Projects\\CollegeProjects\\YogaPartner\\intermediates\\v2\\virabhadrasana_ii_376.jpg\n",
      "Saved to A:\\Projects\\CollegeProjects\\YogaPartner\\intermediates\\v2\\utkatasana_125.jpg\n"
     ]
    },
    {
     "name": "stderr",
     "output_type": "stream",
     "text": [
      "365it [00:59,  8.81it/s]"
     ]
    },
    {
     "name": "stdout",
     "output_type": "stream",
     "text": [
      "Saved to A:\\Projects\\CollegeProjects\\YogaPartner\\intermediates\\v2\\utkatasana_54.jpg\n",
      "Saved to A:\\Projects\\CollegeProjects\\YogaPartner\\intermediates\\v2\\phalakasana_123.jpg\n"
     ]
    },
    {
     "name": "stderr",
     "output_type": "stream",
     "text": [
      "367it [00:59,  7.95it/s]"
     ]
    },
    {
     "name": "stdout",
     "output_type": "stream",
     "text": [
      "Saved to A:\\Projects\\CollegeProjects\\YogaPartner\\intermediates\\v2\\utkata_konasana_16.jpg\n",
      "Saved to A:\\Projects\\CollegeProjects\\YogaPartner\\intermediates\\v2\\vrikshasana_207.jpg\n"
     ]
    },
    {
     "name": "stderr",
     "output_type": "stream",
     "text": [
      "\r",
      "368it [00:59,  8.02it/s]"
     ]
    },
    {
     "name": "stdout",
     "output_type": "stream",
     "text": [
      "Saved to A:\\Projects\\CollegeProjects\\YogaPartner\\intermediates\\v2\\vrikshasana_313.jpg\n",
      "Saved to A:\\Projects\\CollegeProjects\\YogaPartner\\intermediates\\v2\\vasisthasana_36.jpg\n"
     ]
    },
    {
     "name": "stderr",
     "output_type": "stream",
     "text": [
      "\r",
      "370it [00:59,  8.52it/s]"
     ]
    },
    {
     "name": "stdout",
     "output_type": "stream",
     "text": [
      "Saved to A:\\Projects\\CollegeProjects\\YogaPartner\\intermediates\\v2\\utkata_konasana_27.jpg\n"
     ]
    },
    {
     "name": "stderr",
     "output_type": "stream",
     "text": [
      "\r",
      "371it [01:00,  3.97it/s]"
     ]
    },
    {
     "name": "stdout",
     "output_type": "stream",
     "text": [
      "Saved to A:\\Projects\\CollegeProjects\\YogaPartner\\intermediates\\v2\\bhujangasana_449.jpg\n",
      "Saved to A:\\Projects\\CollegeProjects\\YogaPartner\\intermediates\\v2\\virabhadrasana_ii_213.jpg\n"
     ]
    },
    {
     "name": "stderr",
     "output_type": "stream",
     "text": [
      "373it [01:00,  4.82it/s]"
     ]
    },
    {
     "name": "stdout",
     "output_type": "stream",
     "text": [
      "Saved to A:\\Projects\\CollegeProjects\\YogaPartner\\intermediates\\v2\\adho_mukha_shvanasana_239.jpg\n"
     ]
    },
    {
     "name": "stderr",
     "output_type": "stream",
     "text": [
      "375it [01:02,  2.58it/s]"
     ]
    },
    {
     "name": "stdout",
     "output_type": "stream",
     "text": [
      "Saved to A:\\Projects\\CollegeProjects\\YogaPartner\\intermediates\\v2\\vrikshasana_61.jpg\n",
      "No pose detected - length  - .\\data\\v2\\bhujangasana\\bhujangasana_374.jpg\n",
      "Saved to A:\\Projects\\CollegeProjects\\YogaPartner\\intermediates\\v2\\bhujangasana_374.jpg\n"
     ]
    },
    {
     "name": "stderr",
     "output_type": "stream",
     "text": [
      "377it [01:02,  3.62it/s]"
     ]
    },
    {
     "name": "stdout",
     "output_type": "stream",
     "text": [
      "Saved to A:\\Projects\\CollegeProjects\\YogaPartner\\intermediates\\v2\\utkatasana_81.jpg\n",
      "Saved to A:\\Projects\\CollegeProjects\\YogaPartner\\intermediates\\v2\\adho_mukha_shvanasana_336.jpg\n"
     ]
    },
    {
     "name": "stderr",
     "output_type": "stream",
     "text": [
      "379it [01:02,  4.64it/s]"
     ]
    },
    {
     "name": "stdout",
     "output_type": "stream",
     "text": [
      "Saved to A:\\Projects\\CollegeProjects\\YogaPartner\\intermediates\\v2\\virabhadrasana_ii_41.jpg\n",
      "Saved to A:\\Projects\\CollegeProjects\\YogaPartner\\intermediates\\v2\\virabhadrasana_ii_385.jpg\n"
     ]
    },
    {
     "name": "stderr",
     "output_type": "stream",
     "text": [
      "381it [01:03,  5.38it/s]"
     ]
    },
    {
     "name": "stdout",
     "output_type": "stream",
     "text": [
      "Saved to A:\\Projects\\CollegeProjects\\YogaPartner\\intermediates\\v2\\bhujangasana_30.jpg\n",
      "Saved to A:\\Projects\\CollegeProjects\\YogaPartner\\intermediates\\v2\\vrikshasana_46.jpg\n"
     ]
    },
    {
     "name": "stderr",
     "output_type": "stream",
     "text": [
      "383it [01:03,  6.25it/s]"
     ]
    },
    {
     "name": "stdout",
     "output_type": "stream",
     "text": [
      "Saved to A:\\Projects\\CollegeProjects\\YogaPartner\\intermediates\\v2\\virabhadrasana_ii_175.jpg\n",
      "Saved to A:\\Projects\\CollegeProjects\\YogaPartner\\intermediates\\v2\\phalakasana_111.jpg\n"
     ]
    },
    {
     "name": "stderr",
     "output_type": "stream",
     "text": [
      "\r",
      "384it [01:03,  6.07it/s]"
     ]
    },
    {
     "name": "stdout",
     "output_type": "stream",
     "text": [
      "Saved to A:\\Projects\\CollegeProjects\\YogaPartner\\intermediates\\v2\\vrikshasana_260.jpg\n"
     ]
    },
    {
     "name": "stderr",
     "output_type": "stream",
     "text": [
      "\r",
      "385it [01:04,  3.49it/s]"
     ]
    },
    {
     "name": "stdout",
     "output_type": "stream",
     "text": [
      "Saved to A:\\Projects\\CollegeProjects\\YogaPartner\\intermediates\\v2\\phalakasana_61.jpg\n"
     ]
    },
    {
     "name": "stderr",
     "output_type": "stream",
     "text": [
      "387it [01:04,  3.98it/s]"
     ]
    },
    {
     "name": "stdout",
     "output_type": "stream",
     "text": [
      "Saved to A:\\Projects\\CollegeProjects\\YogaPartner\\intermediates\\v2\\utkata_konasana_12.jpg\n",
      "Saved to A:\\Projects\\CollegeProjects\\YogaPartner\\intermediates\\v2\\bhujangasana_550.jpg\n"
     ]
    },
    {
     "name": "stderr",
     "output_type": "stream",
     "text": [
      "389it [01:04,  5.42it/s]"
     ]
    },
    {
     "name": "stdout",
     "output_type": "stream",
     "text": [
      "Saved to A:\\Projects\\CollegeProjects\\YogaPartner\\intermediates\\v2\\bhujangasana_192.jpg\n",
      "Saved to A:\\Projects\\CollegeProjects\\YogaPartner\\intermediates\\v2\\bhujangasana_563.jpg\n"
     ]
    },
    {
     "name": "stderr",
     "output_type": "stream",
     "text": [
      "391it [01:05,  6.33it/s]"
     ]
    },
    {
     "name": "stdout",
     "output_type": "stream",
     "text": [
      "Saved to A:\\Projects\\CollegeProjects\\YogaPartner\\intermediates\\v2\\bhujangasana_112.jpg\n",
      "Saved to A:\\Projects\\CollegeProjects\\YogaPartner\\intermediates\\v2\\adho_mukha_shvanasana_333.jpg\n",
      "Saved to A:\\Projects\\CollegeProjects\\YogaPartner\\intermediates\\v2\\bhujangasana_208.jpg\n"
     ]
    },
    {
     "name": "stderr",
     "output_type": "stream",
     "text": [
      "394it [01:05,  5.25it/s]"
     ]
    },
    {
     "name": "stdout",
     "output_type": "stream",
     "text": [
      "Saved to A:\\Projects\\CollegeProjects\\YogaPartner\\intermediates\\v2\\utkatasana_132.jpg\n",
      "Saved to A:\\Projects\\CollegeProjects\\YogaPartner\\intermediates\\v2\\adho_mukha_shvanasana_137.jpg\n"
     ]
    },
    {
     "name": "stderr",
     "output_type": "stream",
     "text": [
      "396it [01:06,  5.37it/s]"
     ]
    },
    {
     "name": "stdout",
     "output_type": "stream",
     "text": [
      "Saved to A:\\Projects\\CollegeProjects\\YogaPartner\\intermediates\\v2\\virabhadrasana_ii_191.jpg\n",
      "Saved to A:\\Projects\\CollegeProjects\\YogaPartner\\intermediates\\v2\\bhujangasana_276.jpg\n"
     ]
    },
    {
     "name": "stderr",
     "output_type": "stream",
     "text": [
      "398it [01:06,  6.39it/s]"
     ]
    },
    {
     "name": "stdout",
     "output_type": "stream",
     "text": [
      "Saved to A:\\Projects\\CollegeProjects\\YogaPartner\\intermediates\\v2\\bhujangasana_281.jpg\n",
      "Saved to A:\\Projects\\CollegeProjects\\YogaPartner\\intermediates\\v2\\virabhadrasana_ii_251.jpg\n"
     ]
    },
    {
     "name": "stderr",
     "output_type": "stream",
     "text": [
      "400it [01:06,  5.20it/s]"
     ]
    },
    {
     "name": "stdout",
     "output_type": "stream",
     "text": [
      "Saved to A:\\Projects\\CollegeProjects\\YogaPartner\\intermediates\\v2\\virabhadrasana_i_149.jpg\n",
      "Saved to A:\\Projects\\CollegeProjects\\YogaPartner\\intermediates\\v2\\virabhadrasana_ii_20.jpg\n"
     ]
    },
    {
     "name": "stderr",
     "output_type": "stream",
     "text": [
      "402it [01:07,  5.84it/s]"
     ]
    },
    {
     "name": "stdout",
     "output_type": "stream",
     "text": [
      "Saved to A:\\Projects\\CollegeProjects\\YogaPartner\\intermediates\\v2\\adho_mukha_shvanasana_243.jpg\n",
      "Saved to A:\\Projects\\CollegeProjects\\YogaPartner\\intermediates\\v2\\adho_mukha_shvanasana_395.jpg\n"
     ]
    },
    {
     "name": "stderr",
     "output_type": "stream",
     "text": [
      "\r",
      "403it [01:07,  5.70it/s]"
     ]
    },
    {
     "name": "stdout",
     "output_type": "stream",
     "text": [
      "Saved to A:\\Projects\\CollegeProjects\\YogaPartner\\intermediates\\v2\\vrikshasana_133.jpg\n"
     ]
    },
    {
     "name": "stderr",
     "output_type": "stream",
     "text": [
      "405it [01:07,  5.78it/s]"
     ]
    },
    {
     "name": "stdout",
     "output_type": "stream",
     "text": [
      "Saved to A:\\Projects\\CollegeProjects\\YogaPartner\\intermediates\\v2\\virabhadrasana_i_120.jpg\n",
      "Saved to A:\\Projects\\CollegeProjects\\YogaPartner\\intermediates\\v2\\bhujangasana_159.jpg\n"
     ]
    },
    {
     "name": "stderr",
     "output_type": "stream",
     "text": [
      "\r",
      "406it [01:08,  5.47it/s]"
     ]
    },
    {
     "name": "stdout",
     "output_type": "stream",
     "text": [
      "Saved to A:\\Projects\\CollegeProjects\\YogaPartner\\intermediates\\v2\\phalakasana_93.jpg\n"
     ]
    },
    {
     "name": "stderr",
     "output_type": "stream",
     "text": [
      "408it [01:08,  5.62it/s]"
     ]
    },
    {
     "name": "stdout",
     "output_type": "stream",
     "text": [
      "Saved to A:\\Projects\\CollegeProjects\\YogaPartner\\intermediates\\v2\\utkata_konasana_154.jpg\n",
      "Saved to A:\\Projects\\CollegeProjects\\YogaPartner\\intermediates\\v2\\adho_mukha_shvanasana_316.jpg\n"
     ]
    },
    {
     "name": "stderr",
     "output_type": "stream",
     "text": [
      "\r",
      "409it [01:08,  5.55it/s]"
     ]
    },
    {
     "name": "stdout",
     "output_type": "stream",
     "text": [
      "Saved to A:\\Projects\\CollegeProjects\\YogaPartner\\intermediates\\v2\\virabhadrasana_ii_62.jpg\n"
     ]
    },
    {
     "name": "stderr",
     "output_type": "stream",
     "text": [
      "411it [01:09,  2.49it/s]"
     ]
    },
    {
     "name": "stdout",
     "output_type": "stream",
     "text": [
      "Saved to A:\\Projects\\CollegeProjects\\YogaPartner\\intermediates\\v2\\bhujangasana_53.jpg\n",
      "Saved to A:\\Projects\\CollegeProjects\\YogaPartner\\intermediates\\v2\\phalakasana_137.jpg\n"
     ]
    },
    {
     "name": "stderr",
     "output_type": "stream",
     "text": [
      "413it [01:10,  3.94it/s]"
     ]
    },
    {
     "name": "stdout",
     "output_type": "stream",
     "text": [
      "Saved to A:\\Projects\\CollegeProjects\\YogaPartner\\intermediates\\v2\\virabhadrasana_ii_1.jpg\n",
      "Saved to A:\\Projects\\CollegeProjects\\YogaPartner\\intermediates\\v2\\adho_mukha_shvanasana_182.jpg\n",
      "Saved to A:\\Projects\\CollegeProjects\\YogaPartner\\intermediates\\v2\\bhujangasana_310.jpg\n"
     ]
    },
    {
     "name": "stderr",
     "output_type": "stream",
     "text": [
      "417it [01:10,  6.68it/s]"
     ]
    },
    {
     "name": "stdout",
     "output_type": "stream",
     "text": [
      "Saved to A:\\Projects\\CollegeProjects\\YogaPartner\\intermediates\\v2\\phalakasana_18.jpg\n",
      "Saved to A:\\Projects\\CollegeProjects\\YogaPartner\\intermediates\\v2\\adho_mukha_shvanasana_402.jpg\n",
      "Saved to A:\\Projects\\CollegeProjects\\YogaPartner\\intermediates\\v2\\adho_mukha_shvanasana_389.jpg\n"
     ]
    },
    {
     "name": "stderr",
     "output_type": "stream",
     "text": [
      "419it [01:10,  6.78it/s]"
     ]
    },
    {
     "name": "stdout",
     "output_type": "stream",
     "text": [
      "Saved to A:\\Projects\\CollegeProjects\\YogaPartner\\intermediates\\v2\\vrikshasana_149.jpg\n",
      "Saved to A:\\Projects\\CollegeProjects\\YogaPartner\\intermediates\\v2\\utkatasana_209.jpg\n"
     ]
    },
    {
     "name": "stderr",
     "output_type": "stream",
     "text": [
      "421it [01:11,  7.25it/s]"
     ]
    },
    {
     "name": "stdout",
     "output_type": "stream",
     "text": [
      "Saved to A:\\Projects\\CollegeProjects\\YogaPartner\\intermediates\\v2\\virabhadrasana_i_92.jpg\n",
      "Saved to A:\\Projects\\CollegeProjects\\YogaPartner\\intermediates\\v2\\bhujangasana_145.jpg\n"
     ]
    },
    {
     "name": "stderr",
     "output_type": "stream",
     "text": [
      "\r",
      "422it [01:11,  6.36it/s]"
     ]
    },
    {
     "name": "stdout",
     "output_type": "stream",
     "text": [
      "Saved to A:\\Projects\\CollegeProjects\\YogaPartner\\intermediates\\v2\\virabhadrasana_i_216.jpg\n"
     ]
    },
    {
     "name": "stderr",
     "output_type": "stream",
     "text": [
      "\r",
      "423it [01:11,  5.87it/s]"
     ]
    },
    {
     "name": "stdout",
     "output_type": "stream",
     "text": [
      "Saved to A:\\Projects\\CollegeProjects\\YogaPartner\\intermediates\\v2\\utkatasana_93.jpg\n",
      "Saved to A:\\Projects\\CollegeProjects\\YogaPartner\\intermediates\\v2\\virabhadrasana_ii_93.jpg\n"
     ]
    },
    {
     "name": "stderr",
     "output_type": "stream",
     "text": [
      "426it [01:11,  6.51it/s]"
     ]
    },
    {
     "name": "stdout",
     "output_type": "stream",
     "text": [
      "Saved to A:\\Projects\\CollegeProjects\\YogaPartner\\intermediates\\v2\\adho_mukha_shvanasana_262.jpg\n",
      "Saved to A:\\Projects\\CollegeProjects\\YogaPartner\\intermediates\\v2\\bhujangasana_530.jpg\n"
     ]
    },
    {
     "name": "stderr",
     "output_type": "stream",
     "text": [
      "429it [01:12,  8.01it/s]"
     ]
    },
    {
     "name": "stdout",
     "output_type": "stream",
     "text": [
      "Saved to A:\\Projects\\CollegeProjects\\YogaPartner\\intermediates\\v2\\virabhadrasana_ii_33.jpg\n",
      "Saved to A:\\Projects\\CollegeProjects\\YogaPartner\\intermediates\\v2\\ustrasana_14.jpg\n",
      "Saved to A:\\Projects\\CollegeProjects\\YogaPartner\\intermediates\\v2\\virabhadrasana_i_78.jpg\n"
     ]
    },
    {
     "name": "stderr",
     "output_type": "stream",
     "text": [
      "431it [01:12,  8.47it/s]"
     ]
    },
    {
     "name": "stdout",
     "output_type": "stream",
     "text": [
      "Saved to A:\\Projects\\CollegeProjects\\YogaPartner\\intermediates\\v2\\utkatasana_23.jpg\n",
      "Saved to A:\\Projects\\CollegeProjects\\YogaPartner\\intermediates\\v2\\bhujangasana_175.jpg\n"
     ]
    },
    {
     "name": "stderr",
     "output_type": "stream",
     "text": [
      "433it [01:12,  8.22it/s]"
     ]
    },
    {
     "name": "stdout",
     "output_type": "stream",
     "text": [
      "Saved to A:\\Projects\\CollegeProjects\\YogaPartner\\intermediates\\v2\\utkata_konasana_125.jpg\n",
      "Saved to A:\\Projects\\CollegeProjects\\YogaPartner\\intermediates\\v2\\bhujangasana_76.jpg\n"
     ]
    },
    {
     "name": "stderr",
     "output_type": "stream",
     "text": [
      "435it [01:13,  8.12it/s]"
     ]
    },
    {
     "name": "stdout",
     "output_type": "stream",
     "text": [
      "Saved to A:\\Projects\\CollegeProjects\\YogaPartner\\intermediates\\v2\\bhujangasana_453.jpg\n",
      "Saved to A:\\Projects\\CollegeProjects\\YogaPartner\\intermediates\\v2\\bhujangasana_646.jpg\n"
     ]
    },
    {
     "name": "stderr",
     "output_type": "stream",
     "text": [
      "437it [01:13,  7.72it/s]"
     ]
    },
    {
     "name": "stdout",
     "output_type": "stream",
     "text": [
      "Saved to A:\\Projects\\CollegeProjects\\YogaPartner\\intermediates\\v2\\vrikshasana_270.jpg\n",
      "Saved to A:\\Projects\\CollegeProjects\\YogaPartner\\intermediates\\v2\\adho_mukha_shvanasana_391.jpg\n"
     ]
    },
    {
     "name": "stderr",
     "output_type": "stream",
     "text": [
      "439it [01:13,  6.72it/s]"
     ]
    },
    {
     "name": "stdout",
     "output_type": "stream",
     "text": [
      "Saved to A:\\Projects\\CollegeProjects\\YogaPartner\\intermediates\\v2\\bhujangasana_231.jpg\n",
      "Saved to A:\\Projects\\CollegeProjects\\YogaPartner\\intermediates\\v2\\bhujangasana_273.jpg\n"
     ]
    },
    {
     "name": "stderr",
     "output_type": "stream",
     "text": [
      "\r",
      "440it [01:13,  6.98it/s]"
     ]
    },
    {
     "name": "stdout",
     "output_type": "stream",
     "text": [
      "Saved to A:\\Projects\\CollegeProjects\\YogaPartner\\intermediates\\v2\\utkata_konasana_148.jpg\n"
     ]
    },
    {
     "name": "stderr",
     "output_type": "stream",
     "text": [
      "442it [01:14,  5.78it/s]"
     ]
    },
    {
     "name": "stdout",
     "output_type": "stream",
     "text": [
      "Saved to A:\\Projects\\CollegeProjects\\YogaPartner\\intermediates\\v2\\vrikshasana_166.jpg\n",
      "Saved to A:\\Projects\\CollegeProjects\\YogaPartner\\intermediates\\v2\\virabhadrasana_i_28.jpg\n"
     ]
    },
    {
     "name": "stderr",
     "output_type": "stream",
     "text": [
      "\r",
      "443it [01:14,  6.52it/s]"
     ]
    },
    {
     "name": "stdout",
     "output_type": "stream",
     "text": [
      "Saved to A:\\Projects\\CollegeProjects\\YogaPartner\\intermediates\\v2\\bhujangasana_371.jpg\n",
      "Saved to A:\\Projects\\CollegeProjects\\YogaPartner\\intermediates\\v2\\virabhadrasana_ii_195.jpg\n"
     ]
    },
    {
     "name": "stderr",
     "output_type": "stream",
     "text": [
      "447it [01:14,  8.51it/s]"
     ]
    },
    {
     "name": "stdout",
     "output_type": "stream",
     "text": [
      "Saved to A:\\Projects\\CollegeProjects\\YogaPartner\\intermediates\\v2\\virabhadrasana_i_70.jpg\n",
      "No pose detected - length  - .\\data\\v2\\bhujangasana\\bhujangasana_52.jpg\n",
      "Saved to A:\\Projects\\CollegeProjects\\YogaPartner\\intermediates\\v2\\bhujangasana_52.jpg\n",
      "Saved to A:\\Projects\\CollegeProjects\\YogaPartner\\intermediates\\v2\\vrikshasana_6.jpg\n"
     ]
    },
    {
     "name": "stderr",
     "output_type": "stream",
     "text": [
      "449it [01:14,  8.56it/s]"
     ]
    },
    {
     "name": "stdout",
     "output_type": "stream",
     "text": [
      "Saved to A:\\Projects\\CollegeProjects\\YogaPartner\\intermediates\\v2\\bhujangasana_647.jpg\n",
      "Saved to A:\\Projects\\CollegeProjects\\YogaPartner\\intermediates\\v2\\phalakasana_8.jpg\n"
     ]
    },
    {
     "name": "stderr",
     "output_type": "stream",
     "text": [
      "\r",
      "450it [01:15,  8.63it/s]"
     ]
    },
    {
     "name": "stdout",
     "output_type": "stream",
     "text": [
      "Saved to A:\\Projects\\CollegeProjects\\YogaPartner\\intermediates\\v2\\bhujangasana_353.jpg\n"
     ]
    },
    {
     "name": "stderr",
     "output_type": "stream",
     "text": [
      "452it [01:15,  7.36it/s]"
     ]
    },
    {
     "name": "stdout",
     "output_type": "stream",
     "text": [
      "Saved to A:\\Projects\\CollegeProjects\\YogaPartner\\intermediates\\v2\\utkatasana_60.jpg\n",
      "Saved to A:\\Projects\\CollegeProjects\\YogaPartner\\intermediates\\v2\\bhujangasana_381.jpg\n"
     ]
    },
    {
     "name": "stderr",
     "output_type": "stream",
     "text": [
      "454it [01:16,  2.78it/s]"
     ]
    },
    {
     "name": "stdout",
     "output_type": "stream",
     "text": [
      "Saved to A:\\Projects\\CollegeProjects\\YogaPartner\\intermediates\\v2\\bhujangasana_168.jpg\n",
      "Saved to A:\\Projects\\CollegeProjects\\YogaPartner\\intermediates\\v2\\bhujangasana_401.jpg\n"
     ]
    },
    {
     "name": "stderr",
     "output_type": "stream",
     "text": [
      "456it [01:17,  3.92it/s]"
     ]
    },
    {
     "name": "stdout",
     "output_type": "stream",
     "text": [
      "Saved to A:\\Projects\\CollegeProjects\\YogaPartner\\intermediates\\v2\\bhujangasana_8.jpg\n",
      "Saved to A:\\Projects\\CollegeProjects\\YogaPartner\\intermediates\\v2\\utkatasana_8.jpg\n"
     ]
    },
    {
     "name": "stderr",
     "output_type": "stream",
     "text": [
      "458it [01:17,  4.58it/s]"
     ]
    },
    {
     "name": "stdout",
     "output_type": "stream",
     "text": [
      "Saved to A:\\Projects\\CollegeProjects\\YogaPartner\\intermediates\\v2\\virabhadrasana_ii_348.jpg\n",
      "Saved to A:\\Projects\\CollegeProjects\\YogaPartner\\intermediates\\v2\\vasisthasana_77.jpg\n"
     ]
    },
    {
     "name": "stderr",
     "output_type": "stream",
     "text": [
      "461it [01:17,  6.78it/s]"
     ]
    },
    {
     "name": "stdout",
     "output_type": "stream",
     "text": [
      "Saved to A:\\Projects\\CollegeProjects\\YogaPartner\\intermediates\\v2\\bhujangasana_593.jpg\n",
      "Saved to A:\\Projects\\CollegeProjects\\YogaPartner\\intermediates\\v2\\bhujangasana_233.jpg\n",
      "Saved to A:\\Projects\\CollegeProjects\\YogaPartner\\intermediates\\v2\\bidalasana_149.jpg\n"
     ]
    },
    {
     "name": "stderr",
     "output_type": "stream",
     "text": [
      "463it [01:18,  6.60it/s]"
     ]
    },
    {
     "name": "stdout",
     "output_type": "stream",
     "text": [
      "Saved to A:\\Projects\\CollegeProjects\\YogaPartner\\intermediates\\v2\\utkatasana_182.jpg\n",
      "Saved to A:\\Projects\\CollegeProjects\\YogaPartner\\intermediates\\v2\\bhujangasana_477.jpg\n"
     ]
    },
    {
     "name": "stderr",
     "output_type": "stream",
     "text": [
      "465it [01:18,  6.95it/s]"
     ]
    },
    {
     "name": "stdout",
     "output_type": "stream",
     "text": [
      "Saved to A:\\Projects\\CollegeProjects\\YogaPartner\\intermediates\\v2\\bhujangasana_609.jpg\n",
      "Saved to A:\\Projects\\CollegeProjects\\YogaPartner\\intermediates\\v2\\bhujangasana_63.jpg\n"
     ]
    },
    {
     "name": "stderr",
     "output_type": "stream",
     "text": [
      "467it [01:18,  7.43it/s]"
     ]
    },
    {
     "name": "stdout",
     "output_type": "stream",
     "text": [
      "Saved to A:\\Projects\\CollegeProjects\\YogaPartner\\intermediates\\v2\\virabhadrasana_i_141.jpg\n",
      "Saved to A:\\Projects\\CollegeProjects\\YogaPartner\\intermediates\\v2\\bidalasana_141.jpg\n"
     ]
    },
    {
     "name": "stderr",
     "output_type": "stream",
     "text": [
      "469it [01:18,  8.11it/s]"
     ]
    },
    {
     "name": "stdout",
     "output_type": "stream",
     "text": [
      "Saved to A:\\Projects\\CollegeProjects\\YogaPartner\\intermediates\\v2\\virabhadrasana_i_40.jpg\n",
      "Saved to A:\\Projects\\CollegeProjects\\YogaPartner\\intermediates\\v2\\utkatasana_173.jpg\n"
     ]
    },
    {
     "name": "stderr",
     "output_type": "stream",
     "text": [
      "471it [01:19,  8.54it/s]"
     ]
    },
    {
     "name": "stdout",
     "output_type": "stream",
     "text": [
      "Saved to A:\\Projects\\CollegeProjects\\YogaPartner\\intermediates\\v2\\bidalasana_24.jpg\n",
      "Saved to A:\\Projects\\CollegeProjects\\YogaPartner\\intermediates\\v2\\bhujangasana_445.jpg\n"
     ]
    },
    {
     "name": "stderr",
     "output_type": "stream",
     "text": [
      "473it [01:19,  6.21it/s]"
     ]
    },
    {
     "name": "stdout",
     "output_type": "stream",
     "text": [
      "Saved to A:\\Projects\\CollegeProjects\\YogaPartner\\intermediates\\v2\\utkata_konasana_177.jpg\n",
      "Saved to A:\\Projects\\CollegeProjects\\YogaPartner\\intermediates\\v2\\adho_mukha_shvanasana_161.jpg\n"
     ]
    },
    {
     "name": "stderr",
     "output_type": "stream",
     "text": [
      "475it [01:19,  7.06it/s]"
     ]
    },
    {
     "name": "stdout",
     "output_type": "stream",
     "text": [
      "Saved to A:\\Projects\\CollegeProjects\\YogaPartner\\intermediates\\v2\\bhujangasana_649.jpg\n",
      "Saved to A:\\Projects\\CollegeProjects\\YogaPartner\\intermediates\\v2\\bhujangasana_410.jpg\n"
     ]
    },
    {
     "name": "stderr",
     "output_type": "stream",
     "text": [
      "477it [01:19,  7.69it/s]"
     ]
    },
    {
     "name": "stdout",
     "output_type": "stream",
     "text": [
      "Saved to A:\\Projects\\CollegeProjects\\YogaPartner\\intermediates\\v2\\virabhadrasana_i_42.jpg\n",
      "Saved to A:\\Projects\\CollegeProjects\\YogaPartner\\intermediates\\v2\\virabhadrasana_ii_221.jpg\n"
     ]
    },
    {
     "name": "stderr",
     "output_type": "stream",
     "text": [
      "479it [01:20,  8.19it/s]"
     ]
    },
    {
     "name": "stdout",
     "output_type": "stream",
     "text": [
      "Saved to A:\\Projects\\CollegeProjects\\YogaPartner\\intermediates\\v2\\ustrasana_43.jpg\n",
      "Saved to A:\\Projects\\CollegeProjects\\YogaPartner\\intermediates\\v2\\virabhadrasana_ii_52.jpg\n"
     ]
    },
    {
     "name": "stderr",
     "output_type": "stream",
     "text": [
      "\r",
      "481it [01:20,  9.07it/s]"
     ]
    },
    {
     "name": "stdout",
     "output_type": "stream",
     "text": [
      "Saved to A:\\Projects\\CollegeProjects\\YogaPartner\\intermediates\\v2\\virabhadrasana_i_87.jpg\n",
      "Saved to A:\\Projects\\CollegeProjects\\YogaPartner\\intermediates\\v2\\bidalasana_308.jpg\n",
      "Saved to A:\\Projects\\CollegeProjects\\YogaPartner\\intermediates\\v2\\vrikshasana_210.jpg\n"
     ]
    },
    {
     "name": "stderr",
     "output_type": "stream",
     "text": [
      "485it [01:20,  9.75it/s]"
     ]
    },
    {
     "name": "stdout",
     "output_type": "stream",
     "text": [
      "Saved to A:\\Projects\\CollegeProjects\\YogaPartner\\intermediates\\v2\\virabhadrasana_ii_307.jpg\n",
      "Saved to A:\\Projects\\CollegeProjects\\YogaPartner\\intermediates\\v2\\bidalasana_148.jpg\n",
      "Saved to A:\\Projects\\CollegeProjects\\YogaPartner\\intermediates\\v2\\bhujangasana_109.jpg\n"
     ]
    },
    {
     "name": "stderr",
     "output_type": "stream",
     "text": [
      "487it [01:21,  8.17it/s]"
     ]
    },
    {
     "name": "stdout",
     "output_type": "stream",
     "text": [
      "Saved to A:\\Projects\\CollegeProjects\\YogaPartner\\intermediates\\v2\\adho_mukha_shvanasana_4.jpg\n",
      "Saved to A:\\Projects\\CollegeProjects\\YogaPartner\\intermediates\\v2\\bidalasana_146.jpg\n"
     ]
    },
    {
     "name": "stderr",
     "output_type": "stream",
     "text": [
      "489it [01:21,  7.92it/s]"
     ]
    },
    {
     "name": "stdout",
     "output_type": "stream",
     "text": [
      "Saved to A:\\Projects\\CollegeProjects\\YogaPartner\\intermediates\\v2\\adho_mukha_shvanasana_59.jpg\n",
      "Saved to A:\\Projects\\CollegeProjects\\YogaPartner\\intermediates\\v2\\virabhadrasana_i_197.jpg\n"
     ]
    },
    {
     "name": "stderr",
     "output_type": "stream",
     "text": [
      "491it [01:21,  7.75it/s]"
     ]
    },
    {
     "name": "stdout",
     "output_type": "stream",
     "text": [
      "Saved to A:\\Projects\\CollegeProjects\\YogaPartner\\intermediates\\v2\\utkata_konasana_86.jpg\n",
      "Saved to A:\\Projects\\CollegeProjects\\YogaPartner\\intermediates\\v2\\bhujangasana_127.jpg\n"
     ]
    },
    {
     "name": "stderr",
     "output_type": "stream",
     "text": [
      "493it [01:21,  6.47it/s]"
     ]
    },
    {
     "name": "stdout",
     "output_type": "stream",
     "text": [
      "Saved to A:\\Projects\\CollegeProjects\\YogaPartner\\intermediates\\v2\\virabhadrasana_ii_345.jpg\n",
      "Saved to A:\\Projects\\CollegeProjects\\YogaPartner\\intermediates\\v2\\adho_mukha_shvanasana_109.jpg\n"
     ]
    },
    {
     "name": "stderr",
     "output_type": "stream",
     "text": [
      "495it [01:22,  5.86it/s]"
     ]
    },
    {
     "name": "stdout",
     "output_type": "stream",
     "text": [
      "Saved to A:\\Projects\\CollegeProjects\\YogaPartner\\intermediates\\v2\\bhujangasana_400.jpg\n",
      "Saved to A:\\Projects\\CollegeProjects\\YogaPartner\\intermediates\\v2\\virabhadrasana_i_130.jpg\n"
     ]
    },
    {
     "name": "stderr",
     "output_type": "stream",
     "text": [
      "497it [01:22,  5.40it/s]"
     ]
    },
    {
     "name": "stdout",
     "output_type": "stream",
     "text": [
      "Saved to A:\\Projects\\CollegeProjects\\YogaPartner\\intermediates\\v2\\virabhadrasana_i_190.jpg\n",
      "Saved to A:\\Projects\\CollegeProjects\\YogaPartner\\intermediates\\v2\\vrikshasana_139.jpg\n"
     ]
    },
    {
     "name": "stderr",
     "output_type": "stream",
     "text": [
      "499it [01:23,  5.93it/s]"
     ]
    },
    {
     "name": "stdout",
     "output_type": "stream",
     "text": [
      "Saved to A:\\Projects\\CollegeProjects\\YogaPartner\\intermediates\\v2\\phalakasana_105.jpg\n",
      "Saved to A:\\Projects\\CollegeProjects\\YogaPartner\\intermediates\\v2\\virabhadrasana_i_23.jpg\n"
     ]
    },
    {
     "name": "stderr",
     "output_type": "stream",
     "text": [
      "\r",
      "501it [01:23,  6.68it/s]"
     ]
    },
    {
     "name": "stdout",
     "output_type": "stream",
     "text": [
      "Saved to A:\\Projects\\CollegeProjects\\YogaPartner\\intermediates\\v2\\vrikshasana_94.jpg\n",
      "Saved to A:\\Projects\\CollegeProjects\\YogaPartner\\intermediates\\v2\\bhujangasana_399.jpg\n"
     ]
    },
    {
     "name": "stderr",
     "output_type": "stream",
     "text": [
      "\r",
      "502it [01:23,  6.40it/s]"
     ]
    },
    {
     "name": "stdout",
     "output_type": "stream",
     "text": [
      "Saved to A:\\Projects\\CollegeProjects\\YogaPartner\\intermediates\\v2\\adho_mukha_shvanasana_96.jpg\n"
     ]
    },
    {
     "name": "stderr",
     "output_type": "stream",
     "text": [
      "504it [01:24,  4.66it/s]"
     ]
    },
    {
     "name": "stdout",
     "output_type": "stream",
     "text": [
      "Saved to A:\\Projects\\CollegeProjects\\YogaPartner\\intermediates\\v2\\virabhadrasana_i_151.jpg\n",
      "Saved to A:\\Projects\\CollegeProjects\\YogaPartner\\intermediates\\v2\\utkatasana_216.jpg\n"
     ]
    },
    {
     "name": "stderr",
     "output_type": "stream",
     "text": [
      "507it [01:24,  6.69it/s]"
     ]
    },
    {
     "name": "stdout",
     "output_type": "stream",
     "text": [
      "Saved to A:\\Projects\\CollegeProjects\\YogaPartner\\intermediates\\v2\\utkatasana_105.jpg\n",
      "Saved to A:\\Projects\\CollegeProjects\\YogaPartner\\intermediates\\v2\\bhujangasana_98.jpg\n",
      "Saved to A:\\Projects\\CollegeProjects\\YogaPartner\\intermediates\\v2\\bhujangasana_608.jpg\n"
     ]
    },
    {
     "name": "stderr",
     "output_type": "stream",
     "text": [
      "509it [01:24,  7.62it/s]"
     ]
    },
    {
     "name": "stdout",
     "output_type": "stream",
     "text": [
      "Saved to A:\\Projects\\CollegeProjects\\YogaPartner\\intermediates\\v2\\adho_mukha_shvanasana_122.jpg\n",
      "Saved to A:\\Projects\\CollegeProjects\\YogaPartner\\intermediates\\v2\\bidalasana_89.jpg\n",
      "Saved to A:\\Projects\\CollegeProjects\\YogaPartner\\intermediates\\v2\\vrikshasana_242.jpg\n"
     ]
    },
    {
     "name": "stderr",
     "output_type": "stream",
     "text": [
      "512it [01:25,  8.78it/s]"
     ]
    },
    {
     "name": "stdout",
     "output_type": "stream",
     "text": [
      "Saved to A:\\Projects\\CollegeProjects\\YogaPartner\\intermediates\\v2\\vasisthasana_4.jpg\n",
      "Saved to A:\\Projects\\CollegeProjects\\YogaPartner\\intermediates\\v2\\bhujangasana_367.jpg\n"
     ]
    },
    {
     "name": "stderr",
     "output_type": "stream",
     "text": [
      "514it [01:25,  8.28it/s]"
     ]
    },
    {
     "name": "stdout",
     "output_type": "stream",
     "text": [
      "Saved to A:\\Projects\\CollegeProjects\\YogaPartner\\intermediates\\v2\\virabhadrasana_i_50.jpg\n",
      "Saved to A:\\Projects\\CollegeProjects\\YogaPartner\\intermediates\\v2\\bhujangasana_377.jpg\n"
     ]
    },
    {
     "name": "stderr",
     "output_type": "stream",
     "text": [
      "516it [01:25,  8.74it/s]"
     ]
    },
    {
     "name": "stdout",
     "output_type": "stream",
     "text": [
      "Saved to A:\\Projects\\CollegeProjects\\YogaPartner\\intermediates\\v2\\bidalasana_48.jpeg\n",
      "Saved to A:\\Projects\\CollegeProjects\\YogaPartner\\intermediates\\v2\\virabhadrasana_ii_30.jpg\n",
      "No pose detected - length  - .\\data\\v2\\ustrasana\\ustrasana_26.jpg\n",
      "Saved to A:\\Projects\\CollegeProjects\\YogaPartner\\intermediates\\v2\\ustrasana_26.jpg\n"
     ]
    },
    {
     "name": "stderr",
     "output_type": "stream",
     "text": [
      "\r",
      "518it [01:25, 10.68it/s]"
     ]
    },
    {
     "name": "stdout",
     "output_type": "stream",
     "text": [
      "Saved to A:\\Projects\\CollegeProjects\\YogaPartner\\intermediates\\v2\\ustrasana_35.jpg\n",
      "Saved to A:\\Projects\\CollegeProjects\\YogaPartner\\intermediates\\v2\\utkatasana_162.jpg\n"
     ]
    },
    {
     "name": "stderr",
     "output_type": "stream",
     "text": [
      "\r",
      "520it [01:25,  9.81it/s]"
     ]
    },
    {
     "name": "stdout",
     "output_type": "stream",
     "text": [
      "Saved to A:\\Projects\\CollegeProjects\\YogaPartner\\intermediates\\v2\\adho_mukha_shvanasana_204.jpg\n",
      "Saved to A:\\Projects\\CollegeProjects\\YogaPartner\\intermediates\\v2\\virabhadrasana_i_205.jpg\n"
     ]
    },
    {
     "name": "stderr",
     "output_type": "stream",
     "text": [
      "523it [01:26,  8.11it/s]"
     ]
    },
    {
     "name": "stdout",
     "output_type": "stream",
     "text": [
      "Saved to A:\\Projects\\CollegeProjects\\YogaPartner\\intermediates\\v2\\bhujangasana_25.jpg\n",
      "Saved to A:\\Projects\\CollegeProjects\\YogaPartner\\intermediates\\v2\\virabhadrasana_ii_350.jpg\n"
     ]
    },
    {
     "name": "stderr",
     "output_type": "stream",
     "text": [
      "\r",
      "524it [01:26,  8.21it/s]"
     ]
    },
    {
     "name": "stdout",
     "output_type": "stream",
     "text": [
      "Saved to A:\\Projects\\CollegeProjects\\YogaPartner\\intermediates\\v2\\bidalasana_244.jpg\n",
      "Saved to A:\\Projects\\CollegeProjects\\YogaPartner\\intermediates\\v2\\utkatasana_10.jpg\n"
     ]
    },
    {
     "name": "stderr",
     "output_type": "stream",
     "text": [
      "527it [01:26,  8.19it/s]"
     ]
    },
    {
     "name": "stdout",
     "output_type": "stream",
     "text": [
      "Saved to A:\\Projects\\CollegeProjects\\YogaPartner\\intermediates\\v2\\vasisthasana_23.jpg\n",
      "Saved to A:\\Projects\\CollegeProjects\\YogaPartner\\intermediates\\v2\\utkata_konasana_71.jpg\n"
     ]
    },
    {
     "name": "stderr",
     "output_type": "stream",
     "text": [
      "529it [01:27,  7.72it/s]"
     ]
    },
    {
     "name": "stdout",
     "output_type": "stream",
     "text": [
      "Saved to A:\\Projects\\CollegeProjects\\YogaPartner\\intermediates\\v2\\utkatasana_98.jpg\n",
      "Saved to A:\\Projects\\CollegeProjects\\YogaPartner\\intermediates\\v2\\bhujangasana_15.jpg\n"
     ]
    },
    {
     "name": "stderr",
     "output_type": "stream",
     "text": [
      "\r",
      "530it [01:27,  4.83it/s]"
     ]
    },
    {
     "name": "stdout",
     "output_type": "stream",
     "text": [
      "Saved to A:\\Projects\\CollegeProjects\\YogaPartner\\intermediates\\v2\\bhujangasana_542.jpg\n"
     ]
    },
    {
     "name": "stderr",
     "output_type": "stream",
     "text": [
      "532it [01:28,  4.30it/s]"
     ]
    },
    {
     "name": "stdout",
     "output_type": "stream",
     "text": [
      "Saved to A:\\Projects\\CollegeProjects\\YogaPartner\\intermediates\\v2\\utkata_konasana_145.jpg\n",
      "Saved to A:\\Projects\\CollegeProjects\\YogaPartner\\intermediates\\v2\\phalakasana_33.jpg\n"
     ]
    },
    {
     "name": "stderr",
     "output_type": "stream",
     "text": [
      "\r",
      "533it [01:28,  5.02it/s]"
     ]
    },
    {
     "name": "stdout",
     "output_type": "stream",
     "text": [
      "Saved to A:\\Projects\\CollegeProjects\\YogaPartner\\intermediates\\v2\\vasisthasana_13.jpg\n"
     ]
    },
    {
     "name": "stderr",
     "output_type": "stream",
     "text": [
      "\r",
      "534it [01:28,  4.87it/s]"
     ]
    },
    {
     "name": "stdout",
     "output_type": "stream",
     "text": [
      "Saved to A:\\Projects\\CollegeProjects\\YogaPartner\\intermediates\\v2\\virabhadrasana_ii_17.jpg\n",
      "Saved to A:\\Projects\\CollegeProjects\\YogaPartner\\intermediates\\v2\\bidalasana_278.jpg\n"
     ]
    },
    {
     "name": "stderr",
     "output_type": "stream",
     "text": [
      "\r",
      "536it [01:28,  6.06it/s]"
     ]
    },
    {
     "name": "stdout",
     "output_type": "stream",
     "text": [
      "Saved to A:\\Projects\\CollegeProjects\\YogaPartner\\intermediates\\v2\\virabhadrasana_ii_163.jpg\n"
     ]
    },
    {
     "name": "stderr",
     "output_type": "stream",
     "text": [
      "538it [01:29,  5.71it/s]"
     ]
    },
    {
     "name": "stdout",
     "output_type": "stream",
     "text": [
      "Saved to A:\\Projects\\CollegeProjects\\YogaPartner\\intermediates\\v2\\bidalasana_169.jpg\n",
      "Saved to A:\\Projects\\CollegeProjects\\YogaPartner\\intermediates\\v2\\virabhadrasana_ii_347.jpg\n"
     ]
    },
    {
     "name": "stderr",
     "output_type": "stream",
     "text": [
      "540it [01:29,  7.04it/s]"
     ]
    },
    {
     "name": "stdout",
     "output_type": "stream",
     "text": [
      "Saved to A:\\Projects\\CollegeProjects\\YogaPartner\\intermediates\\v2\\adho_mukha_shvanasana_123.jpg\n",
      "Saved to A:\\Projects\\CollegeProjects\\YogaPartner\\intermediates\\v2\\bhujangasana_314.jpg\n",
      "Saved to A:\\Projects\\CollegeProjects\\YogaPartner\\intermediates\\v2\\bhujangasana_638.jpg\n"
     ]
    },
    {
     "name": "stderr",
     "output_type": "stream",
     "text": [
      "543it [01:29,  7.89it/s]"
     ]
    },
    {
     "name": "stdout",
     "output_type": "stream",
     "text": [
      "Saved to A:\\Projects\\CollegeProjects\\YogaPartner\\intermediates\\v2\\adho_mukha_shvanasana_351.jpg\n",
      "Saved to A:\\Projects\\CollegeProjects\\YogaPartner\\intermediates\\v2\\virabhadrasana_ii_333.jpg\n"
     ]
    },
    {
     "name": "stderr",
     "output_type": "stream",
     "text": [
      "545it [01:29,  7.92it/s]"
     ]
    },
    {
     "name": "stdout",
     "output_type": "stream",
     "text": [
      "Saved to A:\\Projects\\CollegeProjects\\YogaPartner\\intermediates\\v2\\vrikshasana_84.jpg\n",
      "Saved to A:\\Projects\\CollegeProjects\\YogaPartner\\intermediates\\v2\\virabhadrasana_ii_9.jpg\n"
     ]
    },
    {
     "name": "stderr",
     "output_type": "stream",
     "text": [
      "548it [01:30,  8.46it/s]"
     ]
    },
    {
     "name": "stdout",
     "output_type": "stream",
     "text": [
      "Saved to A:\\Projects\\CollegeProjects\\YogaPartner\\intermediates\\v2\\bidalasana_193.jpg\n",
      "Saved to A:\\Projects\\CollegeProjects\\YogaPartner\\intermediates\\v2\\bidalasana_18.jpg\n",
      "Saved to A:\\Projects\\CollegeProjects\\YogaPartner\\intermediates\\v2\\bhujangasana_363.jpg\n"
     ]
    },
    {
     "name": "stderr",
     "output_type": "stream",
     "text": [
      "550it [01:30,  7.42it/s]"
     ]
    },
    {
     "name": "stdout",
     "output_type": "stream",
     "text": [
      "Saved to A:\\Projects\\CollegeProjects\\YogaPartner\\intermediates\\v2\\adho_mukha_shvanasana_197.jpg\n",
      "Saved to A:\\Projects\\CollegeProjects\\YogaPartner\\intermediates\\v2\\virabhadrasana_ii_357.jpg\n"
     ]
    },
    {
     "name": "stderr",
     "output_type": "stream",
     "text": [
      "\r",
      "551it [01:30,  7.09it/s]"
     ]
    },
    {
     "name": "stdout",
     "output_type": "stream",
     "text": [
      "Saved to A:\\Projects\\CollegeProjects\\YogaPartner\\intermediates\\v2\\bhujangasana_511.jpg\n"
     ]
    },
    {
     "name": "stderr",
     "output_type": "stream",
     "text": [
      "553it [01:31,  6.04it/s]"
     ]
    },
    {
     "name": "stdout",
     "output_type": "stream",
     "text": [
      "Saved to A:\\Projects\\CollegeProjects\\YogaPartner\\intermediates\\v2\\vrikshasana_289.jpg\n",
      "Saved to A:\\Projects\\CollegeProjects\\YogaPartner\\intermediates\\v2\\virabhadrasana_ii_155.jpg\n"
     ]
    },
    {
     "name": "stderr",
     "output_type": "stream",
     "text": [
      "555it [01:31,  6.92it/s]"
     ]
    },
    {
     "name": "stdout",
     "output_type": "stream",
     "text": [
      "Saved to A:\\Projects\\CollegeProjects\\YogaPartner\\intermediates\\v2\\vrikshasana_91.jpg\n",
      "Saved to A:\\Projects\\CollegeProjects\\YogaPartner\\intermediates\\v2\\utkatasana_210.jpg\n"
     ]
    },
    {
     "name": "stderr",
     "output_type": "stream",
     "text": [
      "557it [01:31,  6.68it/s]"
     ]
    },
    {
     "name": "stdout",
     "output_type": "stream",
     "text": [
      "Saved to A:\\Projects\\CollegeProjects\\YogaPartner\\intermediates\\v2\\utkata_konasana_77.jpg\n",
      "Saved to A:\\Projects\\CollegeProjects\\YogaPartner\\intermediates\\v2\\phalakasana_127.jpg\n"
     ]
    },
    {
     "name": "stderr",
     "output_type": "stream",
     "text": [
      "559it [01:31,  6.42it/s]"
     ]
    },
    {
     "name": "stdout",
     "output_type": "stream",
     "text": [
      "Saved to A:\\Projects\\CollegeProjects\\YogaPartner\\intermediates\\v2\\virabhadrasana_i_96.jpg\n",
      "Saved to A:\\Projects\\CollegeProjects\\YogaPartner\\intermediates\\v2\\adho_mukha_shvanasana_136.jpg\n"
     ]
    },
    {
     "name": "stderr",
     "output_type": "stream",
     "text": [
      "561it [01:32,  3.50it/s]"
     ]
    },
    {
     "name": "stdout",
     "output_type": "stream",
     "text": [
      "Saved to A:\\Projects\\CollegeProjects\\YogaPartner\\intermediates\\v2\\utkata_konasana_42.jpg\n",
      "Saved to A:\\Projects\\CollegeProjects\\YogaPartner\\intermediates\\v2\\vasisthasana_137.jpg\n"
     ]
    },
    {
     "name": "stderr",
     "output_type": "stream",
     "text": [
      "563it [01:33,  4.96it/s]"
     ]
    },
    {
     "name": "stdout",
     "output_type": "stream",
     "text": [
      "Saved to A:\\Projects\\CollegeProjects\\YogaPartner\\intermediates\\v2\\bhujangasana_210.jpg\n",
      "Saved to A:\\Projects\\CollegeProjects\\YogaPartner\\intermediates\\v2\\vasisthasana_47.jpg\n"
     ]
    },
    {
     "name": "stderr",
     "output_type": "stream",
     "text": [
      "565it [01:33,  6.33it/s]"
     ]
    },
    {
     "name": "stdout",
     "output_type": "stream",
     "text": [
      "Saved to A:\\Projects\\CollegeProjects\\YogaPartner\\intermediates\\v2\\adho_mukha_shvanasana_116.jpg\n",
      "Saved to A:\\Projects\\CollegeProjects\\YogaPartner\\intermediates\\v2\\adho_mukha_shvanasana_176.jpg\n"
     ]
    },
    {
     "name": "stderr",
     "output_type": "stream",
     "text": [
      "567it [01:33,  7.43it/s]"
     ]
    },
    {
     "name": "stdout",
     "output_type": "stream",
     "text": [
      "Saved to A:\\Projects\\CollegeProjects\\YogaPartner\\intermediates\\v2\\adho_mukha_shvanasana_375.jpg\n",
      "Saved to A:\\Projects\\CollegeProjects\\YogaPartner\\intermediates\\v2\\virabhadrasana_i_192.jpg\n"
     ]
    },
    {
     "name": "stderr",
     "output_type": "stream",
     "text": [
      "\r",
      "568it [01:33,  7.08it/s]"
     ]
    },
    {
     "name": "stdout",
     "output_type": "stream",
     "text": [
      "Saved to A:\\Projects\\CollegeProjects\\YogaPartner\\intermediates\\v2\\vrikshasana_128.jpg\n",
      "Saved to A:\\Projects\\CollegeProjects\\YogaPartner\\intermediates\\v2\\bidalasana_133.jpg\n"
     ]
    },
    {
     "name": "stderr",
     "output_type": "stream",
     "text": [
      "571it [01:34,  7.56it/s]"
     ]
    },
    {
     "name": "stdout",
     "output_type": "stream",
     "text": [
      "Saved to A:\\Projects\\CollegeProjects\\YogaPartner\\intermediates\\v2\\bhujangasana_515.jpg\n",
      "Saved to A:\\Projects\\CollegeProjects\\YogaPartner\\intermediates\\v2\\vasisthasana_56.jpg\n"
     ]
    },
    {
     "name": "stderr",
     "output_type": "stream",
     "text": [
      "573it [01:34,  6.70it/s]"
     ]
    },
    {
     "name": "stdout",
     "output_type": "stream",
     "text": [
      "Saved to A:\\Projects\\CollegeProjects\\YogaPartner\\intermediates\\v2\\virabhadrasana_i_106.jpg\n",
      "Saved to A:\\Projects\\CollegeProjects\\YogaPartner\\intermediates\\v2\\utkatasana_31.jpg\n"
     ]
    },
    {
     "name": "stderr",
     "output_type": "stream",
     "text": [
      "\r",
      "574it [01:34,  7.08it/s]"
     ]
    },
    {
     "name": "stdout",
     "output_type": "stream",
     "text": [
      "Saved to A:\\Projects\\CollegeProjects\\YogaPartner\\intermediates\\v2\\vasisthasana_135.jpg\n",
      "Saved to A:\\Projects\\CollegeProjects\\YogaPartner\\intermediates\\v2\\adho_mukha_shvanasana_365.jpg\n"
     ]
    },
    {
     "name": "stderr",
     "output_type": "stream",
     "text": [
      "577it [01:35,  6.32it/s]"
     ]
    },
    {
     "name": "stdout",
     "output_type": "stream",
     "text": [
      "Saved to A:\\Projects\\CollegeProjects\\YogaPartner\\intermediates\\v2\\bhujangasana_103.jpg\n",
      "Saved to A:\\Projects\\CollegeProjects\\YogaPartner\\intermediates\\v2\\virabhadrasana_ii_3.jpg\n"
     ]
    },
    {
     "name": "stderr",
     "output_type": "stream",
     "text": [
      "\r",
      "578it [01:35,  6.71it/s]"
     ]
    },
    {
     "name": "stdout",
     "output_type": "stream",
     "text": [
      "Saved to A:\\Projects\\CollegeProjects\\YogaPartner\\intermediates\\v2\\utkatasana_84.jpg\n",
      "Saved to A:\\Projects\\CollegeProjects\\YogaPartner\\intermediates\\v2\\phalakasana_47.jpg\n"
     ]
    },
    {
     "name": "stderr",
     "output_type": "stream",
     "text": [
      "581it [01:35,  7.38it/s]"
     ]
    },
    {
     "name": "stdout",
     "output_type": "stream",
     "text": [
      "Saved to A:\\Projects\\CollegeProjects\\YogaPartner\\intermediates\\v2\\virabhadrasana_ii_23.jpg\n",
      "Saved to A:\\Projects\\CollegeProjects\\YogaPartner\\intermediates\\v2\\virabhadrasana_ii_289.jpg\n"
     ]
    },
    {
     "name": "stderr",
     "output_type": "stream",
     "text": [
      "583it [01:35,  6.87it/s]"
     ]
    },
    {
     "name": "stdout",
     "output_type": "stream",
     "text": [
      "Saved to A:\\Projects\\CollegeProjects\\YogaPartner\\intermediates\\v2\\bhujangasana_207.jpg\n",
      "Saved to A:\\Projects\\CollegeProjects\\YogaPartner\\intermediates\\v2\\phalakasana_39.jpg\n"
     ]
    },
    {
     "name": "stderr",
     "output_type": "stream",
     "text": [
      "\r",
      "584it [01:36,  7.07it/s]"
     ]
    },
    {
     "name": "stdout",
     "output_type": "stream",
     "text": [
      "Saved to A:\\Projects\\CollegeProjects\\YogaPartner\\intermediates\\v2\\bhujangasana_257.jpg\n"
     ]
    },
    {
     "name": "stderr",
     "output_type": "stream",
     "text": [
      "586it [01:36,  5.78it/s]"
     ]
    },
    {
     "name": "stdout",
     "output_type": "stream",
     "text": [
      "Saved to A:\\Projects\\CollegeProjects\\YogaPartner\\intermediates\\v2\\virabhadrasana_i_218.jpg\n",
      "Saved to A:\\Projects\\CollegeProjects\\YogaPartner\\intermediates\\v2\\bhujangasana_40.jpg\n"
     ]
    },
    {
     "name": "stderr",
     "output_type": "stream",
     "text": [
      "588it [01:36,  7.24it/s]"
     ]
    },
    {
     "name": "stdout",
     "output_type": "stream",
     "text": [
      "Saved to A:\\Projects\\CollegeProjects\\YogaPartner\\intermediates\\v2\\bidalasana_259.jpg\n",
      "Saved to A:\\Projects\\CollegeProjects\\YogaPartner\\intermediates\\v2\\bidalasana_4.jpg\n"
     ]
    },
    {
     "name": "stderr",
     "output_type": "stream",
     "text": [
      "590it [01:36,  7.76it/s]"
     ]
    },
    {
     "name": "stdout",
     "output_type": "stream",
     "text": [
      "Saved to A:\\Projects\\CollegeProjects\\YogaPartner\\intermediates\\v2\\adho_mukha_shvanasana_41.jpg\n",
      "Saved to A:\\Projects\\CollegeProjects\\YogaPartner\\intermediates\\v2\\vrikshasana_249.jpg\n"
     ]
    },
    {
     "name": "stderr",
     "output_type": "stream",
     "text": [
      "592it [01:37,  7.96it/s]"
     ]
    },
    {
     "name": "stdout",
     "output_type": "stream",
     "text": [
      "Saved to A:\\Projects\\CollegeProjects\\YogaPartner\\intermediates\\v2\\utkatasana_79.jpg\n",
      "Saved to A:\\Projects\\CollegeProjects\\YogaPartner\\intermediates\\v2\\utkata_konasana_162.jpeg\n"
     ]
    },
    {
     "name": "stderr",
     "output_type": "stream",
     "text": [
      "\r",
      "593it [01:37,  8.15it/s]"
     ]
    },
    {
     "name": "stdout",
     "output_type": "stream",
     "text": [
      "Saved to A:\\Projects\\CollegeProjects\\YogaPartner\\intermediates\\v2\\utkata_konasana_29.jpg\n"
     ]
    },
    {
     "name": "stderr",
     "output_type": "stream",
     "text": [
      "595it [01:37,  6.77it/s]"
     ]
    },
    {
     "name": "stdout",
     "output_type": "stream",
     "text": [
      "Saved to A:\\Projects\\CollegeProjects\\YogaPartner\\intermediates\\v2\\bhujangasana_548.jpg\n",
      "Saved to A:\\Projects\\CollegeProjects\\YogaPartner\\intermediates\\v2\\vasisthasana_74.jpg\n"
     ]
    },
    {
     "name": "stderr",
     "output_type": "stream",
     "text": [
      "597it [01:38,  3.55it/s]"
     ]
    },
    {
     "name": "stdout",
     "output_type": "stream",
     "text": [
      "Saved to A:\\Projects\\CollegeProjects\\YogaPartner\\intermediates\\v2\\vrikshasana_196.jpg\n",
      "Saved to A:\\Projects\\CollegeProjects\\YogaPartner\\intermediates\\v2\\utkatasana_30.jpg\n"
     ]
    },
    {
     "name": "stderr",
     "output_type": "stream",
     "text": [
      "\r",
      "598it [01:38,  4.07it/s]"
     ]
    },
    {
     "name": "stdout",
     "output_type": "stream",
     "text": [
      "Saved to A:\\Projects\\CollegeProjects\\YogaPartner\\intermediates\\v2\\adho_mukha_shvanasana_364.jpg\n"
     ]
    },
    {
     "name": "stderr",
     "output_type": "stream",
     "text": [
      "600it [01:39,  3.26it/s]"
     ]
    },
    {
     "name": "stdout",
     "output_type": "stream",
     "text": [
      "Saved to A:\\Projects\\CollegeProjects\\YogaPartner\\intermediates\\v2\\utkatasana_225.jpg\n",
      "Saved to A:\\Projects\\CollegeProjects\\YogaPartner\\intermediates\\v2\\adho_mukha_shvanasana_23.jpg\n"
     ]
    },
    {
     "name": "stderr",
     "output_type": "stream",
     "text": [
      "602it [01:39,  4.51it/s]"
     ]
    },
    {
     "name": "stdout",
     "output_type": "stream",
     "text": [
      "Saved to A:\\Projects\\CollegeProjects\\YogaPartner\\intermediates\\v2\\bhujangasana_288.jpg\n",
      "Saved to A:\\Projects\\CollegeProjects\\YogaPartner\\intermediates\\v2\\bidalasana_121.jpg\n"
     ]
    },
    {
     "name": "stderr",
     "output_type": "stream",
     "text": [
      "604it [01:40,  5.04it/s]"
     ]
    },
    {
     "name": "stdout",
     "output_type": "stream",
     "text": [
      "Saved to A:\\Projects\\CollegeProjects\\YogaPartner\\intermediates\\v2\\utkatasana_114.jpg\n",
      "Saved to A:\\Projects\\CollegeProjects\\YogaPartner\\intermediates\\v2\\virabhadrasana_ii_274.jpg\n"
     ]
    },
    {
     "name": "stderr",
     "output_type": "stream",
     "text": [
      "606it [01:40,  6.18it/s]"
     ]
    },
    {
     "name": "stdout",
     "output_type": "stream",
     "text": [
      "Saved to A:\\Projects\\CollegeProjects\\YogaPartner\\intermediates\\v2\\adho_mukha_shvanasana_50.jpg\n",
      "Saved to A:\\Projects\\CollegeProjects\\YogaPartner\\intermediates\\v2\\bhujangasana_390.jpg\n"
     ]
    },
    {
     "name": "stderr",
     "output_type": "stream",
     "text": [
      "608it [01:40,  6.47it/s]"
     ]
    },
    {
     "name": "stdout",
     "output_type": "stream",
     "text": [
      "Saved to A:\\Projects\\CollegeProjects\\YogaPartner\\intermediates\\v2\\bhujangasana_667.jpg\n",
      "Saved to A:\\Projects\\CollegeProjects\\YogaPartner\\intermediates\\v2\\ustrasana_66.jpg\n"
     ]
    },
    {
     "name": "stderr",
     "output_type": "stream",
     "text": [
      "610it [01:40,  6.87it/s]"
     ]
    },
    {
     "name": "stdout",
     "output_type": "stream",
     "text": [
      "Saved to A:\\Projects\\CollegeProjects\\YogaPartner\\intermediates\\v2\\adho_mukha_shvanasana_434.jpg\n",
      "Saved to A:\\Projects\\CollegeProjects\\YogaPartner\\intermediates\\v2\\vasisthasana_69.jpg\n"
     ]
    },
    {
     "name": "stderr",
     "output_type": "stream",
     "text": [
      "612it [01:41,  6.76it/s]"
     ]
    },
    {
     "name": "stdout",
     "output_type": "stream",
     "text": [
      "Saved to A:\\Projects\\CollegeProjects\\YogaPartner\\intermediates\\v2\\vrikshasana_67.jpg\n",
      "Saved to A:\\Projects\\CollegeProjects\\YogaPartner\\intermediates\\v2\\bidalasana_170.jpg\n"
     ]
    },
    {
     "name": "stderr",
     "output_type": "stream",
     "text": [
      "\r",
      "613it [01:41,  6.48it/s]"
     ]
    },
    {
     "name": "stdout",
     "output_type": "stream",
     "text": [
      "Saved to A:\\Projects\\CollegeProjects\\YogaPartner\\intermediates\\v2\\phalakasana_97.jpg\n",
      "Saved to A:\\Projects\\CollegeProjects\\YogaPartner\\intermediates\\v2\\ustrasana_27.jpg\n"
     ]
    },
    {
     "name": "stderr",
     "output_type": "stream",
     "text": [
      "617it [01:41,  8.37it/s]"
     ]
    },
    {
     "name": "stdout",
     "output_type": "stream",
     "text": [
      "Saved to A:\\Projects\\CollegeProjects\\YogaPartner\\intermediates\\v2\\adho_mukha_shvanasana_13.jpg\n",
      "Saved to A:\\Projects\\CollegeProjects\\YogaPartner\\intermediates\\v2\\bidalasana_174.jpg\n",
      "Saved to A:\\Projects\\CollegeProjects\\YogaPartner\\intermediates\\v2\\virabhadrasana_i_80.jpg\n"
     ]
    },
    {
     "name": "stderr",
     "output_type": "stream",
     "text": [
      "\r",
      "618it [01:42,  7.61it/s]"
     ]
    },
    {
     "name": "stdout",
     "output_type": "stream",
     "text": [
      "Saved to A:\\Projects\\CollegeProjects\\YogaPartner\\intermediates\\v2\\bhujangasana_450.jpg\n"
     ]
    },
    {
     "name": "stderr",
     "output_type": "stream",
     "text": [
      "620it [01:42,  6.08it/s]"
     ]
    },
    {
     "name": "stdout",
     "output_type": "stream",
     "text": [
      "Saved to A:\\Projects\\CollegeProjects\\YogaPartner\\intermediates\\v2\\bidalasana_181.jpg\n",
      "Saved to A:\\Projects\\CollegeProjects\\YogaPartner\\intermediates\\v2\\vrikshasana_135.jpg\n"
     ]
    },
    {
     "name": "stderr",
     "output_type": "stream",
     "text": [
      "\r",
      "621it [01:42,  6.25it/s]"
     ]
    },
    {
     "name": "stdout",
     "output_type": "stream",
     "text": [
      "Saved to A:\\Projects\\CollegeProjects\\YogaPartner\\intermediates\\v2\\phalakasana_77.jpg\n"
     ]
    },
    {
     "name": "stderr",
     "output_type": "stream",
     "text": [
      "624it [01:43,  5.23it/s]"
     ]
    },
    {
     "name": "stdout",
     "output_type": "stream",
     "text": [
      "Saved to A:\\Projects\\CollegeProjects\\YogaPartner\\intermediates\\v2\\bidalasana_70.jpg\n",
      "Saved to A:\\Projects\\CollegeProjects\\YogaPartner\\intermediates\\v2\\adho_mukha_shvanasana_196.jpg\n",
      "Saved to A:\\Projects\\CollegeProjects\\YogaPartner\\intermediates\\v2\\bhujangasana_85.jpg\n"
     ]
    },
    {
     "name": "stderr",
     "output_type": "stream",
     "text": [
      "626it [01:43,  6.19it/s]"
     ]
    },
    {
     "name": "stdout",
     "output_type": "stream",
     "text": [
      "Saved to A:\\Projects\\CollegeProjects\\YogaPartner\\intermediates\\v2\\adho_mukha_shvanasana_393.jpg\n",
      "Saved to A:\\Projects\\CollegeProjects\\YogaPartner\\intermediates\\v2\\phalakasana_49.jpg\n"
     ]
    },
    {
     "name": "stderr",
     "output_type": "stream",
     "text": [
      "\r",
      "627it [01:43,  6.22it/s]"
     ]
    },
    {
     "name": "stdout",
     "output_type": "stream",
     "text": [
      "Saved to A:\\Projects\\CollegeProjects\\YogaPartner\\intermediates\\v2\\adho_mukha_shvanasana_107.jpg\n"
     ]
    },
    {
     "name": "stderr",
     "output_type": "stream",
     "text": [
      "\r",
      "628it [01:44,  5.52it/s]"
     ]
    },
    {
     "name": "stdout",
     "output_type": "stream",
     "text": [
      "Saved to A:\\Projects\\CollegeProjects\\YogaPartner\\intermediates\\v2\\utkatasana_154.jpg\n"
     ]
    },
    {
     "name": "stderr",
     "output_type": "stream",
     "text": [
      "\r",
      "629it [01:45,  2.37it/s]"
     ]
    },
    {
     "name": "stdout",
     "output_type": "stream",
     "text": [
      "Saved to A:\\Projects\\CollegeProjects\\YogaPartner\\intermediates\\v2\\adho_mukha_shvanasana_169.jpg\n",
      "No pose detected - length  - .\\data\\v2\\bidalasana\\bidalasana_227.jpg\n",
      "Saved to A:\\Projects\\CollegeProjects\\YogaPartner\\intermediates\\v2\\bidalasana_227.jpg\n"
     ]
    },
    {
     "name": "stderr",
     "output_type": "stream",
     "text": [
      "632it [01:45,  4.13it/s]"
     ]
    },
    {
     "name": "stdout",
     "output_type": "stream",
     "text": [
      "Saved to A:\\Projects\\CollegeProjects\\YogaPartner\\intermediates\\v2\\vrikshasana_296.jpg\n",
      "Saved to A:\\Projects\\CollegeProjects\\YogaPartner\\intermediates\\v2\\utkatasana_113.jpg\n"
     ]
    },
    {
     "name": "stderr",
     "output_type": "stream",
     "text": [
      "634it [01:45,  5.45it/s]"
     ]
    },
    {
     "name": "stdout",
     "output_type": "stream",
     "text": [
      "Saved to A:\\Projects\\CollegeProjects\\YogaPartner\\intermediates\\v2\\adho_mukha_shvanasana_276.jpg\n",
      "Saved to A:\\Projects\\CollegeProjects\\YogaPartner\\intermediates\\v2\\bhujangasana_364.jpg\n"
     ]
    },
    {
     "name": "stderr",
     "output_type": "stream",
     "text": [
      "636it [01:45,  6.23it/s]"
     ]
    },
    {
     "name": "stdout",
     "output_type": "stream",
     "text": [
      "Saved to A:\\Projects\\CollegeProjects\\YogaPartner\\intermediates\\v2\\phalakasana_65.jpg\n",
      "Saved to A:\\Projects\\CollegeProjects\\YogaPartner\\intermediates\\v2\\virabhadrasana_i_175.jpg\n"
     ]
    },
    {
     "name": "stderr",
     "output_type": "stream",
     "text": [
      "638it [01:46,  5.94it/s]"
     ]
    },
    {
     "name": "stdout",
     "output_type": "stream",
     "text": [
      "Saved to A:\\Projects\\CollegeProjects\\YogaPartner\\intermediates\\v2\\vrikshasana_35.jpg\n",
      "Saved to A:\\Projects\\CollegeProjects\\YogaPartner\\intermediates\\v2\\adho_mukha_shvanasana_275.jpg\n"
     ]
    },
    {
     "name": "stderr",
     "output_type": "stream",
     "text": [
      "\r",
      "639it [01:46,  6.35it/s]"
     ]
    },
    {
     "name": "stdout",
     "output_type": "stream",
     "text": [
      "Saved to A:\\Projects\\CollegeProjects\\YogaPartner\\intermediates\\v2\\adho_mukha_shvanasana_8.jpg\n"
     ]
    },
    {
     "name": "stderr",
     "output_type": "stream",
     "text": [
      "641it [01:47,  4.27it/s]"
     ]
    },
    {
     "name": "stdout",
     "output_type": "stream",
     "text": [
      "Saved to A:\\Projects\\CollegeProjects\\YogaPartner\\intermediates\\v2\\vrikshasana_259.jpg\n",
      "Saved to A:\\Projects\\CollegeProjects\\YogaPartner\\intermediates\\v2\\bidalasana_250.jpg\n"
     ]
    },
    {
     "name": "stderr",
     "output_type": "stream",
     "text": [
      "643it [01:47,  5.35it/s]"
     ]
    },
    {
     "name": "stdout",
     "output_type": "stream",
     "text": [
      "Saved to A:\\Projects\\CollegeProjects\\YogaPartner\\intermediates\\v2\\vasisthasana_8.jpg\n",
      "Saved to A:\\Projects\\CollegeProjects\\YogaPartner\\intermediates\\v2\\vrikshasana_54.jpg\n"
     ]
    },
    {
     "name": "stderr",
     "output_type": "stream",
     "text": [
      "645it [01:47,  6.20it/s]"
     ]
    },
    {
     "name": "stdout",
     "output_type": "stream",
     "text": [
      "Saved to A:\\Projects\\CollegeProjects\\YogaPartner\\intermediates\\v2\\bidalasana_217.jpg\n",
      "Saved to A:\\Projects\\CollegeProjects\\YogaPartner\\intermediates\\v2\\bhujangasana_561.jpg\n"
     ]
    },
    {
     "name": "stderr",
     "output_type": "stream",
     "text": [
      "647it [01:47,  6.49it/s]"
     ]
    },
    {
     "name": "stdout",
     "output_type": "stream",
     "text": [
      "Saved to A:\\Projects\\CollegeProjects\\YogaPartner\\intermediates\\v2\\adho_mukha_shvanasana_1.jpg\n",
      "Saved to A:\\Projects\\CollegeProjects\\YogaPartner\\intermediates\\v2\\utkata_konasana_202.jpg\n"
     ]
    },
    {
     "name": "stderr",
     "output_type": "stream",
     "text": [
      "649it [01:48,  6.64it/s]"
     ]
    },
    {
     "name": "stdout",
     "output_type": "stream",
     "text": [
      "Saved to A:\\Projects\\CollegeProjects\\YogaPartner\\intermediates\\v2\\adho_mukha_shvanasana_33.jpg\n",
      "Saved to A:\\Projects\\CollegeProjects\\YogaPartner\\intermediates\\v2\\bhujangasana_135.jpg\n"
     ]
    },
    {
     "name": "stderr",
     "output_type": "stream",
     "text": [
      "\r",
      "651it [01:48,  7.21it/s]"
     ]
    },
    {
     "name": "stdout",
     "output_type": "stream",
     "text": [
      "Saved to A:\\Projects\\CollegeProjects\\YogaPartner\\intermediates\\v2\\virabhadrasana_i_31.jpg\n",
      "Saved to A:\\Projects\\CollegeProjects\\YogaPartner\\intermediates\\v2\\adho_mukha_shvanasana_235.jpg\n"
     ]
    },
    {
     "name": "stderr",
     "output_type": "stream",
     "text": [
      "\r",
      "652it [01:48,  7.39it/s]"
     ]
    },
    {
     "name": "stdout",
     "output_type": "stream",
     "text": [
      "Saved to A:\\Projects\\CollegeProjects\\YogaPartner\\intermediates\\v2\\virabhadrasana_ii_67.jpg\n",
      "Saved to A:\\Projects\\CollegeProjects\\YogaPartner\\intermediates\\v2\\bidalasana_234.jpg\n"
     ]
    },
    {
     "name": "stderr",
     "output_type": "stream",
     "text": [
      "655it [01:48,  8.02it/s]"
     ]
    },
    {
     "name": "stdout",
     "output_type": "stream",
     "text": [
      "Saved to A:\\Projects\\CollegeProjects\\YogaPartner\\intermediates\\v2\\phalakasana_48.jpg\n",
      "Saved to A:\\Projects\\CollegeProjects\\YogaPartner\\intermediates\\v2\\utkatasana_39.jpg\n"
     ]
    },
    {
     "name": "stderr",
     "output_type": "stream",
     "text": [
      "657it [01:49,  8.44it/s]"
     ]
    },
    {
     "name": "stdout",
     "output_type": "stream",
     "text": [
      "Saved to A:\\Projects\\CollegeProjects\\YogaPartner\\intermediates\\v2\\bhujangasana_633.jpg\n",
      "Saved to A:\\Projects\\CollegeProjects\\YogaPartner\\intermediates\\v2\\bidalasana_297.jpg\n"
     ]
    },
    {
     "name": "stderr",
     "output_type": "stream",
     "text": [
      "\r",
      "658it [01:49,  8.26it/s]"
     ]
    },
    {
     "name": "stdout",
     "output_type": "stream",
     "text": [
      "Saved to A:\\Projects\\CollegeProjects\\YogaPartner\\intermediates\\v2\\bhujangasana_568.jpg\n",
      "Saved to A:\\Projects\\CollegeProjects\\YogaPartner\\intermediates\\v2\\bidalasana_226.jpg\n"
     ]
    },
    {
     "name": "stderr",
     "output_type": "stream",
     "text": [
      "661it [01:49,  7.94it/s]"
     ]
    },
    {
     "name": "stdout",
     "output_type": "stream",
     "text": [
      "Saved to A:\\Projects\\CollegeProjects\\YogaPartner\\intermediates\\v2\\adho_mukha_shvanasana_359.jpg\n",
      "Saved to A:\\Projects\\CollegeProjects\\YogaPartner\\intermediates\\v2\\bhujangasana_21.jpg\n"
     ]
    },
    {
     "name": "stderr",
     "output_type": "stream",
     "text": [
      "663it [01:49,  7.87it/s]"
     ]
    },
    {
     "name": "stdout",
     "output_type": "stream",
     "text": [
      "Saved to A:\\Projects\\CollegeProjects\\YogaPartner\\intermediates\\v2\\utkata_konasana_149.jpg\n",
      "Saved to A:\\Projects\\CollegeProjects\\YogaPartner\\intermediates\\v2\\bidalasana_112.jpg\n",
      "Saved to A:\\Projects\\CollegeProjects\\YogaPartner\\intermediates\\v2\\bhujangasana_247.jpg\n"
     ]
    },
    {
     "name": "stderr",
     "output_type": "stream",
     "text": [
      "\r",
      "665it [01:50,  8.60it/s]"
     ]
    },
    {
     "name": "stdout",
     "output_type": "stream",
     "text": [
      "Saved to A:\\Projects\\CollegeProjects\\YogaPartner\\intermediates\\v2\\bhujangasana_266.jpg\n",
      "Saved to A:\\Projects\\CollegeProjects\\YogaPartner\\intermediates\\v2\\bidalasana_131.jpg\n"
     ]
    },
    {
     "name": "stderr",
     "output_type": "stream",
     "text": [
      "668it [01:50,  8.19it/s]"
     ]
    },
    {
     "name": "stdout",
     "output_type": "stream",
     "text": [
      "Saved to A:\\Projects\\CollegeProjects\\YogaPartner\\intermediates\\v2\\virabhadrasana_ii_205.jpg\n",
      "Saved to A:\\Projects\\CollegeProjects\\YogaPartner\\intermediates\\v2\\virabhadrasana_ii_74.jpg\n"
     ]
    },
    {
     "name": "stderr",
     "output_type": "stream",
     "text": [
      "\r",
      "669it [01:50,  8.29it/s]"
     ]
    },
    {
     "name": "stdout",
     "output_type": "stream",
     "text": [
      "Saved to A:\\Projects\\CollegeProjects\\YogaPartner\\intermediates\\v2\\vrikshasana_215.jpg\n"
     ]
    },
    {
     "name": "stderr",
     "output_type": "stream",
     "text": [
      "671it [01:51,  3.37it/s]"
     ]
    },
    {
     "name": "stdout",
     "output_type": "stream",
     "text": [
      "Saved to A:\\Projects\\CollegeProjects\\YogaPartner\\intermediates\\v2\\bhujangasana_48.jpg\n",
      "Saved to A:\\Projects\\CollegeProjects\\YogaPartner\\intermediates\\v2\\bhujangasana_517.jpg\n"
     ]
    },
    {
     "name": "stderr",
     "output_type": "stream",
     "text": [
      "\r",
      "673it [01:52,  4.36it/s]"
     ]
    },
    {
     "name": "stdout",
     "output_type": "stream",
     "text": [
      "Saved to A:\\Projects\\CollegeProjects\\YogaPartner\\intermediates\\v2\\utkata_konasana_56.jpg\n",
      "Saved to A:\\Projects\\CollegeProjects\\YogaPartner\\intermediates\\v2\\adho_mukha_shvanasana_178.jpg\n"
     ]
    },
    {
     "name": "stderr",
     "output_type": "stream",
     "text": [
      "675it [01:52,  5.47it/s]"
     ]
    },
    {
     "name": "stdout",
     "output_type": "stream",
     "text": [
      "Saved to A:\\Projects\\CollegeProjects\\YogaPartner\\intermediates\\v2\\adho_mukha_shvanasana_371.jpg\n",
      "Saved to A:\\Projects\\CollegeProjects\\YogaPartner\\intermediates\\v2\\utkatasana_174.jpg\n"
     ]
    },
    {
     "name": "stderr",
     "output_type": "stream",
     "text": [
      "\r",
      "676it [01:52,  5.50it/s]"
     ]
    },
    {
     "name": "stdout",
     "output_type": "stream",
     "text": [
      "Saved to A:\\Projects\\CollegeProjects\\YogaPartner\\intermediates\\v2\\adho_mukha_shvanasana_98.jpg\n",
      "Saved to A:\\Projects\\CollegeProjects\\YogaPartner\\intermediates\\v2\\bhujangasana_32.jpg\n"
     ]
    },
    {
     "name": "stderr",
     "output_type": "stream",
     "text": [
      "679it [01:52,  7.27it/s]"
     ]
    },
    {
     "name": "stdout",
     "output_type": "stream",
     "text": [
      "Saved to A:\\Projects\\CollegeProjects\\YogaPartner\\intermediates\\v2\\virabhadrasana_ii_355.jpg\n",
      "Saved to A:\\Projects\\CollegeProjects\\YogaPartner\\intermediates\\v2\\bidalasana_119.jpg\n"
     ]
    },
    {
     "name": "stderr",
     "output_type": "stream",
     "text": [
      "681it [01:53,  7.19it/s]"
     ]
    },
    {
     "name": "stdout",
     "output_type": "stream",
     "text": [
      "Saved to A:\\Projects\\CollegeProjects\\YogaPartner\\intermediates\\v2\\utkatasana_52.jpg\n",
      "Saved to A:\\Projects\\CollegeProjects\\YogaPartner\\intermediates\\v2\\vasisthasana_92.jpg\n"
     ]
    },
    {
     "name": "stderr",
     "output_type": "stream",
     "text": [
      "683it [01:53,  7.68it/s]"
     ]
    },
    {
     "name": "stdout",
     "output_type": "stream",
     "text": [
      "Saved to A:\\Projects\\CollegeProjects\\YogaPartner\\intermediates\\v2\\phalakasana_59.jpg\n",
      "Saved to A:\\Projects\\CollegeProjects\\YogaPartner\\intermediates\\v2\\bhujangasana_475.jpg\n"
     ]
    },
    {
     "name": "stderr",
     "output_type": "stream",
     "text": [
      "\r",
      "684it [01:53,  8.05it/s]"
     ]
    },
    {
     "name": "stdout",
     "output_type": "stream",
     "text": [
      "Saved to A:\\Projects\\CollegeProjects\\YogaPartner\\intermediates\\v2\\adho_mukha_shvanasana_348.jpg\n",
      "Saved to A:\\Projects\\CollegeProjects\\YogaPartner\\intermediates\\v2\\bhujangasana_516.jpg\n"
     ]
    },
    {
     "name": "stderr",
     "output_type": "stream",
     "text": [
      "687it [01:53,  7.61it/s]"
     ]
    },
    {
     "name": "stdout",
     "output_type": "stream",
     "text": [
      "Saved to A:\\Projects\\CollegeProjects\\YogaPartner\\intermediates\\v2\\phalakasana_126.jpg\n",
      "Saved to A:\\Projects\\CollegeProjects\\YogaPartner\\intermediates\\v2\\virabhadrasana_i_152.jpg\n"
     ]
    },
    {
     "name": "stderr",
     "output_type": "stream",
     "text": [
      "689it [01:54,  7.39it/s]"
     ]
    },
    {
     "name": "stdout",
     "output_type": "stream",
     "text": [
      "Saved to A:\\Projects\\CollegeProjects\\YogaPartner\\intermediates\\v2\\vrikshasana_197.jpg\n",
      "Saved to A:\\Projects\\CollegeProjects\\YogaPartner\\intermediates\\v2\\utkata_konasana_17.jpg\n"
     ]
    },
    {
     "name": "stderr",
     "output_type": "stream",
     "text": [
      "691it [01:54,  7.36it/s]"
     ]
    },
    {
     "name": "stdout",
     "output_type": "stream",
     "text": [
      "Saved to A:\\Projects\\CollegeProjects\\YogaPartner\\intermediates\\v2\\bhujangasana_22.jpg\n",
      "Saved to A:\\Projects\\CollegeProjects\\YogaPartner\\intermediates\\v2\\virabhadrasana_i_187.jpg\n"
     ]
    },
    {
     "name": "stderr",
     "output_type": "stream",
     "text": [
      "693it [01:54,  7.36it/s]"
     ]
    },
    {
     "name": "stdout",
     "output_type": "stream",
     "text": [
      "Saved to A:\\Projects\\CollegeProjects\\YogaPartner\\intermediates\\v2\\vrikshasana_103.jpg\n",
      "Saved to A:\\Projects\\CollegeProjects\\YogaPartner\\intermediates\\v2\\bhujangasana_658.jpg\n"
     ]
    },
    {
     "name": "stderr",
     "output_type": "stream",
     "text": [
      "\r",
      "694it [01:54,  6.07it/s]"
     ]
    },
    {
     "name": "stdout",
     "output_type": "stream",
     "text": [
      "Saved to A:\\Projects\\CollegeProjects\\YogaPartner\\intermediates\\v2\\vrikshasana_53.jpg\n"
     ]
    },
    {
     "name": "stderr",
     "output_type": "stream",
     "text": [
      "696it [01:55,  6.17it/s]"
     ]
    },
    {
     "name": "stdout",
     "output_type": "stream",
     "text": [
      "Saved to A:\\Projects\\CollegeProjects\\YogaPartner\\intermediates\\v2\\virabhadrasana_ii_337.jpg\n",
      "Saved to A:\\Projects\\CollegeProjects\\YogaPartner\\intermediates\\v2\\virabhadrasana_ii_27.jpg\n"
     ]
    },
    {
     "name": "stderr",
     "output_type": "stream",
     "text": [
      "698it [01:55,  6.56it/s]"
     ]
    },
    {
     "name": "stdout",
     "output_type": "stream",
     "text": [
      "Saved to A:\\Projects\\CollegeProjects\\YogaPartner\\intermediates\\v2\\virabhadrasana_i_183.jpg\n",
      "Saved to A:\\Projects\\CollegeProjects\\YogaPartner\\intermediates\\v2\\bhujangasana_158.jpg\n"
     ]
    },
    {
     "name": "stderr",
     "output_type": "stream",
     "text": [
      "700it [01:55,  6.80it/s]"
     ]
    },
    {
     "name": "stdout",
     "output_type": "stream",
     "text": [
      "Saved to A:\\Projects\\CollegeProjects\\YogaPartner\\intermediates\\v2\\adho_mukha_shvanasana_81.jpg\n",
      "Saved to A:\\Projects\\CollegeProjects\\YogaPartner\\intermediates\\v2\\virabhadrasana_ii_8.jpg\n"
     ]
    },
    {
     "name": "stderr",
     "output_type": "stream",
     "text": [
      "\r",
      "701it [01:56,  6.12it/s]"
     ]
    },
    {
     "name": "stdout",
     "output_type": "stream",
     "text": [
      "Saved to A:\\Projects\\CollegeProjects\\YogaPartner\\intermediates\\v2\\bhujangasana_523.jpg\n"
     ]
    },
    {
     "name": "stderr",
     "output_type": "stream",
     "text": [
      "703it [01:56,  5.98it/s]"
     ]
    },
    {
     "name": "stdout",
     "output_type": "stream",
     "text": [
      "Saved to A:\\Projects\\CollegeProjects\\YogaPartner\\intermediates\\v2\\bhujangasana_152.jpg\n",
      "Saved to A:\\Projects\\CollegeProjects\\YogaPartner\\intermediates\\v2\\vrikshasana_151.jpg\n"
     ]
    },
    {
     "name": "stderr",
     "output_type": "stream",
     "text": [
      "705it [01:56,  6.23it/s]"
     ]
    },
    {
     "name": "stdout",
     "output_type": "stream",
     "text": [
      "Saved to A:\\Projects\\CollegeProjects\\YogaPartner\\intermediates\\v2\\virabhadrasana_i_127.jpg\n",
      "Saved to A:\\Projects\\CollegeProjects\\YogaPartner\\intermediates\\v2\\utkatasana_217.jpg\n"
     ]
    },
    {
     "name": "stderr",
     "output_type": "stream",
     "text": [
      "\r",
      "706it [01:56,  5.87it/s]"
     ]
    },
    {
     "name": "stdout",
     "output_type": "stream",
     "text": [
      "Saved to A:\\Projects\\CollegeProjects\\YogaPartner\\intermediates\\v2\\adho_mukha_shvanasana_49.jpg\n"
     ]
    },
    {
     "name": "stderr",
     "output_type": "stream",
     "text": [
      "\r",
      "707it [01:58,  2.19it/s]"
     ]
    },
    {
     "name": "stdout",
     "output_type": "stream",
     "text": [
      "Saved to A:\\Projects\\CollegeProjects\\YogaPartner\\intermediates\\v2\\utkatasana_180.jpg\n"
     ]
    },
    {
     "name": "stderr",
     "output_type": "stream",
     "text": [
      "709it [01:59,  1.93it/s]"
     ]
    },
    {
     "name": "stdout",
     "output_type": "stream",
     "text": [
      "Saved to A:\\Projects\\CollegeProjects\\YogaPartner\\intermediates\\v2\\adho_mukha_shvanasana_135.jpg\n",
      "Saved to A:\\Projects\\CollegeProjects\\YogaPartner\\intermediates\\v2\\bhujangasana_206.jpg\n"
     ]
    },
    {
     "name": "stderr",
     "output_type": "stream",
     "text": [
      "711it [01:59,  3.22it/s]"
     ]
    },
    {
     "name": "stdout",
     "output_type": "stream",
     "text": [
      "Saved to A:\\Projects\\CollegeProjects\\YogaPartner\\intermediates\\v2\\bidalasana_154.jpg\n",
      "Saved to A:\\Projects\\CollegeProjects\\YogaPartner\\intermediates\\v2\\virabhadrasana_ii_228.jpg\n"
     ]
    },
    {
     "name": "stderr",
     "output_type": "stream",
     "text": [
      "713it [01:59,  4.53it/s]"
     ]
    },
    {
     "name": "stdout",
     "output_type": "stream",
     "text": [
      "Saved to A:\\Projects\\CollegeProjects\\YogaPartner\\intermediates\\v2\\phalakasana_118.jpeg\n",
      "Saved to A:\\Projects\\CollegeProjects\\YogaPartner\\intermediates\\v2\\virabhadrasana_i_206.jpg\n"
     ]
    },
    {
     "name": "stderr",
     "output_type": "stream",
     "text": [
      "\r",
      "714it [02:00,  5.30it/s]"
     ]
    },
    {
     "name": "stdout",
     "output_type": "stream",
     "text": [
      "Saved to A:\\Projects\\CollegeProjects\\YogaPartner\\intermediates\\v2\\bidalasana_302.jpeg\n"
     ]
    },
    {
     "name": "stderr",
     "output_type": "stream",
     "text": [
      "716it [02:00,  5.56it/s]"
     ]
    },
    {
     "name": "stdout",
     "output_type": "stream",
     "text": [
      "Saved to A:\\Projects\\CollegeProjects\\YogaPartner\\intermediates\\v2\\adho_mukha_shvanasana_255.jpg\n",
      "Saved to A:\\Projects\\CollegeProjects\\YogaPartner\\intermediates\\v2\\ustrasana_44.jpg\n"
     ]
    },
    {
     "name": "stderr",
     "output_type": "stream",
     "text": [
      "719it [02:00,  7.16it/s]"
     ]
    },
    {
     "name": "stdout",
     "output_type": "stream",
     "text": [
      "Saved to A:\\Projects\\CollegeProjects\\YogaPartner\\intermediates\\v2\\bhujangasana_19.jpg\n",
      "No pose detected - length  - .\\data\\v2\\bhujangasana\\bhujangasana_469.jpg\n",
      "Saved to A:\\Projects\\CollegeProjects\\YogaPartner\\intermediates\\v2\\bhujangasana_469.jpg\n",
      "Saved to A:\\Projects\\CollegeProjects\\YogaPartner\\intermediates\\v2\\ustrasana_21.jpg\n"
     ]
    },
    {
     "name": "stderr",
     "output_type": "stream",
     "text": [
      "\r",
      "721it [02:00,  7.98it/s]"
     ]
    },
    {
     "name": "stdout",
     "output_type": "stream",
     "text": [
      "Saved to A:\\Projects\\CollegeProjects\\YogaPartner\\intermediates\\v2\\vasisthasana_15.jpg\n",
      "Saved to A:\\Projects\\CollegeProjects\\YogaPartner\\intermediates\\v2\\vrikshasana_298.jpg\n"
     ]
    },
    {
     "name": "stderr",
     "output_type": "stream",
     "text": [
      "724it [02:01,  9.12it/s]"
     ]
    },
    {
     "name": "stdout",
     "output_type": "stream",
     "text": [
      "Saved to A:\\Projects\\CollegeProjects\\YogaPartner\\intermediates\\v2\\adho_mukha_shvanasana_140.jpg\n",
      "Saved to A:\\Projects\\CollegeProjects\\YogaPartner\\intermediates\\v2\\adho_mukha_shvanasana_47.jpg\n",
      "Saved to A:\\Projects\\CollegeProjects\\YogaPartner\\intermediates\\v2\\adho_mukha_shvanasana_408.jpg\n"
     ]
    },
    {
     "name": "stderr",
     "output_type": "stream",
     "text": [
      "726it [02:01,  9.01it/s]"
     ]
    },
    {
     "name": "stdout",
     "output_type": "stream",
     "text": [
      "Saved to A:\\Projects\\CollegeProjects\\YogaPartner\\intermediates\\v2\\virabhadrasana_ii_153.jpg\n",
      "Saved to A:\\Projects\\CollegeProjects\\YogaPartner\\intermediates\\v2\\vasisthasana_22.jpg\n"
     ]
    },
    {
     "name": "stderr",
     "output_type": "stream",
     "text": [
      "728it [02:01,  8.09it/s]"
     ]
    },
    {
     "name": "stdout",
     "output_type": "stream",
     "text": [
      "Saved to A:\\Projects\\CollegeProjects\\YogaPartner\\intermediates\\v2\\bhujangasana_385.jpg\n",
      "Saved to A:\\Projects\\CollegeProjects\\YogaPartner\\intermediates\\v2\\adho_mukha_shvanasana_320.jpg\n"
     ]
    },
    {
     "name": "stderr",
     "output_type": "stream",
     "text": [
      "730it [02:01,  8.24it/s]"
     ]
    },
    {
     "name": "stdout",
     "output_type": "stream",
     "text": [
      "Saved to A:\\Projects\\CollegeProjects\\YogaPartner\\intermediates\\v2\\virabhadrasana_ii_119.jpg\n",
      "Saved to A:\\Projects\\CollegeProjects\\YogaPartner\\intermediates\\v2\\bhujangasana_437.jpg\n"
     ]
    },
    {
     "name": "stderr",
     "output_type": "stream",
     "text": [
      "732it [02:02,  8.36it/s]"
     ]
    },
    {
     "name": "stdout",
     "output_type": "stream",
     "text": [
      "Saved to A:\\Projects\\CollegeProjects\\YogaPartner\\intermediates\\v2\\utkatasana_118.jpg\n",
      "Saved to A:\\Projects\\CollegeProjects\\YogaPartner\\intermediates\\v2\\vasisthasana_37.jpg\n"
     ]
    },
    {
     "name": "stderr",
     "output_type": "stream",
     "text": [
      "\r",
      "734it [02:02,  9.07it/s]"
     ]
    },
    {
     "name": "stdout",
     "output_type": "stream",
     "text": [
      "Saved to A:\\Projects\\CollegeProjects\\YogaPartner\\intermediates\\v2\\bhujangasana_287.jpg\n",
      "Saved to A:\\Projects\\CollegeProjects\\YogaPartner\\intermediates\\v2\\virabhadrasana_ii_243.jpg\n"
     ]
    },
    {
     "name": "stderr",
     "output_type": "stream",
     "text": [
      "\r",
      "735it [02:02,  8.91it/s]"
     ]
    },
    {
     "name": "stdout",
     "output_type": "stream",
     "text": [
      "Saved to A:\\Projects\\CollegeProjects\\YogaPartner\\intermediates\\v2\\bidalasana_19.jpg\n"
     ]
    },
    {
     "name": "stderr",
     "output_type": "stream",
     "text": [
      "\r",
      "736it [02:03,  4.58it/s]"
     ]
    },
    {
     "name": "stdout",
     "output_type": "stream",
     "text": [
      "Saved to A:\\Projects\\CollegeProjects\\YogaPartner\\intermediates\\v2\\bhujangasana_290.jpg\n",
      "Saved to A:\\Projects\\CollegeProjects\\YogaPartner\\intermediates\\v2\\ustrasana_11.jpg\n"
     ]
    },
    {
     "name": "stderr",
     "output_type": "stream",
     "text": [
      "740it [02:03,  7.04it/s]"
     ]
    },
    {
     "name": "stdout",
     "output_type": "stream",
     "text": [
      "Saved to A:\\Projects\\CollegeProjects\\YogaPartner\\intermediates\\v2\\bhujangasana_215.jpg\n",
      "Saved to A:\\Projects\\CollegeProjects\\YogaPartner\\intermediates\\v2\\bidalasana_272.jpg\n",
      "Saved to A:\\Projects\\CollegeProjects\\YogaPartner\\intermediates\\v2\\adho_mukha_shvanasana_77.jpg\n"
     ]
    },
    {
     "name": "stderr",
     "output_type": "stream",
     "text": [
      "742it [02:03,  6.84it/s]"
     ]
    },
    {
     "name": "stdout",
     "output_type": "stream",
     "text": [
      "Saved to A:\\Projects\\CollegeProjects\\YogaPartner\\intermediates\\v2\\utkatasana_155.jpg\n",
      "Saved to A:\\Projects\\CollegeProjects\\YogaPartner\\intermediates\\v2\\adho_mukha_shvanasana_425.jpg\n"
     ]
    },
    {
     "name": "stderr",
     "output_type": "stream",
     "text": [
      "745it [02:04,  8.23it/s]"
     ]
    },
    {
     "name": "stdout",
     "output_type": "stream",
     "text": [
      "Saved to A:\\Projects\\CollegeProjects\\YogaPartner\\intermediates\\v2\\bhujangasana_146.jpg\n",
      "Saved to A:\\Projects\\CollegeProjects\\YogaPartner\\intermediates\\v2\\bhujangasana_80.jpg\n",
      "Saved to A:\\Projects\\CollegeProjects\\YogaPartner\\intermediates\\v2\\bhujangasana_444.jpg\n"
     ]
    },
    {
     "name": "stderr",
     "output_type": "stream",
     "text": [
      "747it [02:04,  7.70it/s]"
     ]
    },
    {
     "name": "stdout",
     "output_type": "stream",
     "text": [
      "Saved to A:\\Projects\\CollegeProjects\\YogaPartner\\intermediates\\v2\\virabhadrasana_ii_57.jpg\n",
      "Saved to A:\\Projects\\CollegeProjects\\YogaPartner\\intermediates\\v2\\virabhadrasana_ii_88.jpg\n"
     ]
    },
    {
     "name": "stderr",
     "output_type": "stream",
     "text": [
      "749it [02:04,  7.91it/s]"
     ]
    },
    {
     "name": "stdout",
     "output_type": "stream",
     "text": [
      "Saved to A:\\Projects\\CollegeProjects\\YogaPartner\\intermediates\\v2\\vrikshasana_106.jpg\n",
      "Saved to A:\\Projects\\CollegeProjects\\YogaPartner\\intermediates\\v2\\utkata_konasana_137.jpg\n"
     ]
    },
    {
     "name": "stderr",
     "output_type": "stream",
     "text": [
      "751it [02:04,  7.06it/s]"
     ]
    },
    {
     "name": "stdout",
     "output_type": "stream",
     "text": [
      "Saved to A:\\Projects\\CollegeProjects\\YogaPartner\\intermediates\\v2\\bhujangasana_117.jpg\n",
      "Saved to A:\\Projects\\CollegeProjects\\YogaPartner\\intermediates\\v2\\adho_mukha_shvanasana_234.jpg\n"
     ]
    },
    {
     "name": "stderr",
     "output_type": "stream",
     "text": [
      "754it [02:05,  8.47it/s]"
     ]
    },
    {
     "name": "stdout",
     "output_type": "stream",
     "text": [
      "Saved to A:\\Projects\\CollegeProjects\\YogaPartner\\intermediates\\v2\\phalakasana_144.jpg\n",
      "Saved to A:\\Projects\\CollegeProjects\\YogaPartner\\intermediates\\v2\\utkatasana_32.jpg\n",
      "Saved to A:\\Projects\\CollegeProjects\\YogaPartner\\intermediates\\v2\\bhujangasana_629.jpg\n"
     ]
    },
    {
     "name": "stderr",
     "output_type": "stream",
     "text": [
      "756it [02:05,  8.12it/s]"
     ]
    },
    {
     "name": "stdout",
     "output_type": "stream",
     "text": [
      "Saved to A:\\Projects\\CollegeProjects\\YogaPartner\\intermediates\\v2\\bhujangasana_73.jpg\n",
      "Saved to A:\\Projects\\CollegeProjects\\YogaPartner\\intermediates\\v2\\virabhadrasana_i_122.jpg\n"
     ]
    },
    {
     "name": "stderr",
     "output_type": "stream",
     "text": [
      "\r",
      "757it [02:05,  7.96it/s]"
     ]
    },
    {
     "name": "stdout",
     "output_type": "stream",
     "text": [
      "Saved to A:\\Projects\\CollegeProjects\\YogaPartner\\intermediates\\v2\\virabhadrasana_i_169.jpg\n",
      "Saved to A:\\Projects\\CollegeProjects\\YogaPartner\\intermediates\\v2\\bhujangasana_631.jpg\n"
     ]
    },
    {
     "name": "stderr",
     "output_type": "stream",
     "text": [
      "760it [02:06,  7.40it/s]"
     ]
    },
    {
     "name": "stdout",
     "output_type": "stream",
     "text": [
      "Saved to A:\\Projects\\CollegeProjects\\YogaPartner\\intermediates\\v2\\vrikshasana_231.jpg\n",
      "Saved to A:\\Projects\\CollegeProjects\\YogaPartner\\intermediates\\v2\\adho_mukha_shvanasana_260.jpg\n",
      "Saved to A:\\Projects\\CollegeProjects\\YogaPartner\\intermediates\\v2\\bidalasana_56.jpg\n"
     ]
    },
    {
     "name": "stderr",
     "output_type": "stream",
     "text": [
      "763it [02:06,  7.36it/s]"
     ]
    },
    {
     "name": "stdout",
     "output_type": "stream",
     "text": [
      "Saved to A:\\Projects\\CollegeProjects\\YogaPartner\\intermediates\\v2\\virabhadrasana_ii_332.jpg\n",
      "Saved to A:\\Projects\\CollegeProjects\\YogaPartner\\intermediates\\v2\\utkatasana_77.jpg\n"
     ]
    },
    {
     "name": "stderr",
     "output_type": "stream",
     "text": [
      "765it [02:06,  7.86it/s]"
     ]
    },
    {
     "name": "stdout",
     "output_type": "stream",
     "text": [
      "Saved to A:\\Projects\\CollegeProjects\\YogaPartner\\intermediates\\v2\\adho_mukha_shvanasana_213.jpg\n",
      "Saved to A:\\Projects\\CollegeProjects\\YogaPartner\\intermediates\\v2\\bidalasana_168.jpg\n"
     ]
    },
    {
     "name": "stderr",
     "output_type": "stream",
     "text": [
      "767it [02:07,  6.72it/s]"
     ]
    },
    {
     "name": "stdout",
     "output_type": "stream",
     "text": [
      "Saved to A:\\Projects\\CollegeProjects\\YogaPartner\\intermediates\\v2\\adho_mukha_shvanasana_295.jpg\n",
      "Saved to A:\\Projects\\CollegeProjects\\YogaPartner\\intermediates\\v2\\virabhadrasana_ii_315.jpg\n"
     ]
    },
    {
     "name": "stderr",
     "output_type": "stream",
     "text": [
      "\r",
      "769it [02:07,  7.62it/s]"
     ]
    },
    {
     "name": "stdout",
     "output_type": "stream",
     "text": [
      "Saved to A:\\Projects\\CollegeProjects\\YogaPartner\\intermediates\\v2\\bhujangasana_244.jpg\n",
      "Saved to A:\\Projects\\CollegeProjects\\YogaPartner\\intermediates\\v2\\utkatasana_199.jpg\n",
      "Saved to A:\\Projects\\CollegeProjects\\YogaPartner\\intermediates\\v2\\bhujangasana_395.jpg\n"
     ]
    },
    {
     "name": "stderr",
     "output_type": "stream",
     "text": [
      "\r",
      "771it [02:07,  6.72it/s]"
     ]
    },
    {
     "name": "stdout",
     "output_type": "stream",
     "text": [
      "Saved to A:\\Projects\\CollegeProjects\\YogaPartner\\intermediates\\v2\\vrikshasana_271.jpg\n"
     ]
    },
    {
     "name": "stderr",
     "output_type": "stream",
     "text": [
      "774it [02:08,  7.08it/s]"
     ]
    },
    {
     "name": "stdout",
     "output_type": "stream",
     "text": [
      "Saved to A:\\Projects\\CollegeProjects\\YogaPartner\\intermediates\\v2\\vasisthasana_73.jpg\n",
      "No pose detected - length  - .\\data\\v2\\bidalasana\\bidalasana_222.jpg\n",
      "Saved to A:\\Projects\\CollegeProjects\\YogaPartner\\intermediates\\v2\\bidalasana_222.jpg\n",
      "Saved to A:\\Projects\\CollegeProjects\\YogaPartner\\intermediates\\v2\\vrikshasana_185.jpg\n"
     ]
    },
    {
     "name": "stderr",
     "output_type": "stream",
     "text": [
      "\r",
      "775it [02:08,  7.17it/s]"
     ]
    },
    {
     "name": "stdout",
     "output_type": "stream",
     "text": [
      "Saved to A:\\Projects\\CollegeProjects\\YogaPartner\\intermediates\\v2\\utkata_konasana_186.jpg\n"
     ]
    },
    {
     "name": "stderr",
     "output_type": "stream",
     "text": [
      "777it [02:08,  6.29it/s]"
     ]
    },
    {
     "name": "stdout",
     "output_type": "stream",
     "text": [
      "Saved to A:\\Projects\\CollegeProjects\\YogaPartner\\intermediates\\v2\\adho_mukha_shvanasana_127.jpg\n",
      "Saved to A:\\Projects\\CollegeProjects\\YogaPartner\\intermediates\\v2\\virabhadrasana_ii_292.jpg\n"
     ]
    },
    {
     "name": "stderr",
     "output_type": "stream",
     "text": [
      "780it [02:08,  7.84it/s]"
     ]
    },
    {
     "name": "stdout",
     "output_type": "stream",
     "text": [
      "Saved to A:\\Projects\\CollegeProjects\\YogaPartner\\intermediates\\v2\\virabhadrasana_ii_151.jpg\n",
      "Saved to A:\\Projects\\CollegeProjects\\YogaPartner\\intermediates\\v2\\adho_mukha_shvanasana_296.jpg\n",
      "Saved to A:\\Projects\\CollegeProjects\\YogaPartner\\intermediates\\v2\\utkata_konasana_90.jpg\n"
     ]
    },
    {
     "name": "stderr",
     "output_type": "stream",
     "text": [
      "782it [02:09,  7.54it/s]"
     ]
    },
    {
     "name": "stdout",
     "output_type": "stream",
     "text": [
      "Saved to A:\\Projects\\CollegeProjects\\YogaPartner\\intermediates\\v2\\utkata_konasana_46.jpg\n",
      "Saved to A:\\Projects\\CollegeProjects\\YogaPartner\\intermediates\\v2\\adho_mukha_shvanasana_177.jpg\n"
     ]
    },
    {
     "name": "stderr",
     "output_type": "stream",
     "text": [
      "\r",
      "783it [02:10,  2.37it/s]"
     ]
    },
    {
     "name": "stdout",
     "output_type": "stream",
     "text": [
      "Saved to A:\\Projects\\CollegeProjects\\YogaPartner\\intermediates\\v2\\adho_mukha_shvanasana_401.jpg\n"
     ]
    },
    {
     "name": "stderr",
     "output_type": "stream",
     "text": [
      "785it [02:10,  3.32it/s]"
     ]
    },
    {
     "name": "stdout",
     "output_type": "stream",
     "text": [
      "Saved to A:\\Projects\\CollegeProjects\\YogaPartner\\intermediates\\v2\\virabhadrasana_ii_389.jpg\n",
      "Saved to A:\\Projects\\CollegeProjects\\YogaPartner\\intermediates\\v2\\bidalasana_38.jpg\n"
     ]
    },
    {
     "name": "stderr",
     "output_type": "stream",
     "text": [
      "787it [02:11,  4.53it/s]"
     ]
    },
    {
     "name": "stdout",
     "output_type": "stream",
     "text": [
      "Saved to A:\\Projects\\CollegeProjects\\YogaPartner\\intermediates\\v2\\virabhadrasana_i_125.jpg\n",
      "Saved to A:\\Projects\\CollegeProjects\\YogaPartner\\intermediates\\v2\\bidalasana_312.jpg\n"
     ]
    },
    {
     "name": "stderr",
     "output_type": "stream",
     "text": [
      "789it [02:11,  4.78it/s]"
     ]
    },
    {
     "name": "stdout",
     "output_type": "stream",
     "text": [
      "Saved to A:\\Projects\\CollegeProjects\\YogaPartner\\intermediates\\v2\\utkatasana_58.jpg\n",
      "Saved to A:\\Projects\\CollegeProjects\\YogaPartner\\intermediates\\v2\\adho_mukha_shvanasana_415.jpg\n"
     ]
    },
    {
     "name": "stderr",
     "output_type": "stream",
     "text": [
      "791it [02:11,  4.43it/s]"
     ]
    },
    {
     "name": "stdout",
     "output_type": "stream",
     "text": [
      "Saved to A:\\Projects\\CollegeProjects\\YogaPartner\\intermediates\\v2\\vrikshasana_2.jpg\n",
      "Saved to A:\\Projects\\CollegeProjects\\YogaPartner\\intermediates\\v2\\bhujangasana_16.jpg\n"
     ]
    },
    {
     "name": "stderr",
     "output_type": "stream",
     "text": [
      "793it [02:12,  5.48it/s]"
     ]
    },
    {
     "name": "stdout",
     "output_type": "stream",
     "text": [
      "Saved to A:\\Projects\\CollegeProjects\\YogaPartner\\intermediates\\v2\\virabhadrasana_ii_383.jpg\n",
      "Saved to A:\\Projects\\CollegeProjects\\YogaPartner\\intermediates\\v2\\vrikshasana_254.jpg\n"
     ]
    },
    {
     "name": "stderr",
     "output_type": "stream",
     "text": [
      "796it [02:12,  6.68it/s]"
     ]
    },
    {
     "name": "stdout",
     "output_type": "stream",
     "text": [
      "Saved to A:\\Projects\\CollegeProjects\\YogaPartner\\intermediates\\v2\\virabhadrasana_ii_356.jpg\n",
      "Saved to A:\\Projects\\CollegeProjects\\YogaPartner\\intermediates\\v2\\bhujangasana_597.jpg\n",
      "Saved to A:\\Projects\\CollegeProjects\\YogaPartner\\intermediates\\v2\\virabhadrasana_i_155.jpg\n"
     ]
    },
    {
     "name": "stderr",
     "output_type": "stream",
     "text": [
      "798it [02:12,  6.80it/s]"
     ]
    },
    {
     "name": "stdout",
     "output_type": "stream",
     "text": [
      "Saved to A:\\Projects\\CollegeProjects\\YogaPartner\\intermediates\\v2\\utkata_konasana_93.jpg\n",
      "Saved to A:\\Projects\\CollegeProjects\\YogaPartner\\intermediates\\v2\\utkata_konasana_184.jpg\n"
     ]
    },
    {
     "name": "stderr",
     "output_type": "stream",
     "text": [
      "800it [02:14,  2.12it/s]"
     ]
    },
    {
     "name": "stdout",
     "output_type": "stream",
     "text": [
      "Saved to A:\\Projects\\CollegeProjects\\YogaPartner\\intermediates\\v2\\vrikshasana_190.jpg\n",
      "Saved to A:\\Projects\\CollegeProjects\\YogaPartner\\intermediates\\v2\\utkatasana_213.jpg\n"
     ]
    },
    {
     "name": "stderr",
     "output_type": "stream",
     "text": [
      "802it [02:15,  3.20it/s]"
     ]
    },
    {
     "name": "stdout",
     "output_type": "stream",
     "text": [
      "Saved to A:\\Projects\\CollegeProjects\\YogaPartner\\intermediates\\v2\\vasisthasana_134.jpg\n",
      "Saved to A:\\Projects\\CollegeProjects\\YogaPartner\\intermediates\\v2\\vasisthasana_32.jpg\n"
     ]
    },
    {
     "name": "stderr",
     "output_type": "stream",
     "text": [
      "804it [02:15,  4.68it/s]"
     ]
    },
    {
     "name": "stdout",
     "output_type": "stream",
     "text": [
      "Saved to A:\\Projects\\CollegeProjects\\YogaPartner\\intermediates\\v2\\vasisthasana_42.jpg\n",
      "Saved to A:\\Projects\\CollegeProjects\\YogaPartner\\intermediates\\v2\\utkata_konasana_52.jpg\n"
     ]
    },
    {
     "name": "stderr",
     "output_type": "stream",
     "text": [
      "806it [02:15,  5.18it/s]"
     ]
    },
    {
     "name": "stdout",
     "output_type": "stream",
     "text": [
      "Saved to A:\\Projects\\CollegeProjects\\YogaPartner\\intermediates\\v2\\utkatasana_148.jpg\n",
      "Saved to A:\\Projects\\CollegeProjects\\YogaPartner\\intermediates\\v2\\virabhadrasana_i_136.jpg\n"
     ]
    },
    {
     "name": "stderr",
     "output_type": "stream",
     "text": [
      "809it [02:16,  7.20it/s]"
     ]
    },
    {
     "name": "stdout",
     "output_type": "stream",
     "text": [
      "Saved to A:\\Projects\\CollegeProjects\\YogaPartner\\intermediates\\v2\\adho_mukha_shvanasana_126.jpg\n",
      "Saved to A:\\Projects\\CollegeProjects\\YogaPartner\\intermediates\\v2\\utkata_konasana_24.jpg\n",
      "Saved to A:\\Projects\\CollegeProjects\\YogaPartner\\intermediates\\v2\\bidalasana_125.jpg\n"
     ]
    },
    {
     "name": "stderr",
     "output_type": "stream",
     "text": [
      "811it [02:16,  7.24it/s]"
     ]
    },
    {
     "name": "stdout",
     "output_type": "stream",
     "text": [
      "Saved to A:\\Projects\\CollegeProjects\\YogaPartner\\intermediates\\v2\\adho_mukha_shvanasana_185.jpg\n",
      "Saved to A:\\Projects\\CollegeProjects\\YogaPartner\\intermediates\\v2\\vrikshasana_157.jpg\n"
     ]
    },
    {
     "name": "stderr",
     "output_type": "stream",
     "text": [
      "813it [02:16,  6.85it/s]"
     ]
    },
    {
     "name": "stdout",
     "output_type": "stream",
     "text": [
      "Saved to A:\\Projects\\CollegeProjects\\YogaPartner\\intermediates\\v2\\vasisthasana_12.jpg\n",
      "Saved to A:\\Projects\\CollegeProjects\\YogaPartner\\intermediates\\v2\\bidalasana_293.jpg\n"
     ]
    },
    {
     "name": "stderr",
     "output_type": "stream",
     "text": [
      "\r",
      "814it [02:16,  7.51it/s]"
     ]
    },
    {
     "name": "stdout",
     "output_type": "stream",
     "text": [
      "Saved to A:\\Projects\\CollegeProjects\\YogaPartner\\intermediates\\v2\\bhujangasana_459.jpg\n",
      "Saved to A:\\Projects\\CollegeProjects\\YogaPartner\\intermediates\\v2\\utkatasana_222.jpg\n"
     ]
    },
    {
     "name": "stderr",
     "output_type": "stream",
     "text": [
      "\r",
      "816it [02:17,  7.83it/s]"
     ]
    },
    {
     "name": "stdout",
     "output_type": "stream",
     "text": [
      "Saved to A:\\Projects\\CollegeProjects\\YogaPartner\\intermediates\\v2\\adho_mukha_shvanasana_345.jpg\n",
      "Saved to A:\\Projects\\CollegeProjects\\YogaPartner\\intermediates\\v2\\adho_mukha_shvanasana_93.jpg\n"
     ]
    },
    {
     "name": "stderr",
     "output_type": "stream",
     "text": [
      "819it [02:17,  8.29it/s]"
     ]
    },
    {
     "name": "stdout",
     "output_type": "stream",
     "text": [
      "Saved to A:\\Projects\\CollegeProjects\\YogaPartner\\intermediates\\v2\\utkata_konasana_176.jpg\n",
      "Saved to A:\\Projects\\CollegeProjects\\YogaPartner\\intermediates\\v2\\utkatasana_101.jpg\n"
     ]
    },
    {
     "name": "stderr",
     "output_type": "stream",
     "text": [
      "821it [02:17,  8.69it/s]"
     ]
    },
    {
     "name": "stdout",
     "output_type": "stream",
     "text": [
      "Saved to A:\\Projects\\CollegeProjects\\YogaPartner\\intermediates\\v2\\bidalasana_104.jpg\n",
      "Saved to A:\\Projects\\CollegeProjects\\YogaPartner\\intermediates\\v2\\vrikshasana_58.jpg\n"
     ]
    },
    {
     "name": "stderr",
     "output_type": "stream",
     "text": [
      "823it [02:17,  7.84it/s]"
     ]
    },
    {
     "name": "stdout",
     "output_type": "stream",
     "text": [
      "Saved to A:\\Projects\\CollegeProjects\\YogaPartner\\intermediates\\v2\\bidalasana_242.jpeg\n",
      "Saved to A:\\Projects\\CollegeProjects\\YogaPartner\\intermediates\\v2\\virabhadrasana_i_159.jpg\n"
     ]
    },
    {
     "name": "stderr",
     "output_type": "stream",
     "text": [
      "\r",
      "824it [02:19,  1.72it/s]"
     ]
    },
    {
     "name": "stdout",
     "output_type": "stream",
     "text": [
      "Saved to A:\\Projects\\CollegeProjects\\YogaPartner\\intermediates\\v2\\vrikshasana_11.jpg\n"
     ]
    },
    {
     "name": "stderr",
     "output_type": "stream",
     "text": [
      "826it [02:20,  2.29it/s]"
     ]
    },
    {
     "name": "stdout",
     "output_type": "stream",
     "text": [
      "Saved to A:\\Projects\\CollegeProjects\\YogaPartner\\intermediates\\v2\\vrikshasana_101.jpg\n",
      "Saved to A:\\Projects\\CollegeProjects\\YogaPartner\\intermediates\\v2\\vrikshasana_97.jpg\n"
     ]
    },
    {
     "name": "stderr",
     "output_type": "stream",
     "text": [
      "828it [02:20,  3.42it/s]"
     ]
    },
    {
     "name": "stdout",
     "output_type": "stream",
     "text": [
      "Saved to A:\\Projects\\CollegeProjects\\YogaPartner\\intermediates\\v2\\adho_mukha_shvanasana_252.jpg\n",
      "Saved to A:\\Projects\\CollegeProjects\\YogaPartner\\intermediates\\v2\\bhujangasana_380.jpg\n"
     ]
    },
    {
     "name": "stderr",
     "output_type": "stream",
     "text": [
      "\r",
      "830it [02:20,  4.96it/s]"
     ]
    },
    {
     "name": "stdout",
     "output_type": "stream",
     "text": [
      "Saved to A:\\Projects\\CollegeProjects\\YogaPartner\\intermediates\\v2\\phalakasana_131.jpg\n",
      "Saved to A:\\Projects\\CollegeProjects\\YogaPartner\\intermediates\\v2\\bhujangasana_185.jpg\n"
     ]
    },
    {
     "name": "stderr",
     "output_type": "stream",
     "text": [
      "832it [02:21,  3.99it/s]"
     ]
    },
    {
     "name": "stdout",
     "output_type": "stream",
     "text": [
      "Saved to A:\\Projects\\CollegeProjects\\YogaPartner\\intermediates\\v2\\phalakasana_106.jpg\n",
      "Saved to A:\\Projects\\CollegeProjects\\YogaPartner\\intermediates\\v2\\vrikshasana_198.jpg\n"
     ]
    },
    {
     "name": "stderr",
     "output_type": "stream",
     "text": [
      "834it [02:21,  5.10it/s]"
     ]
    },
    {
     "name": "stdout",
     "output_type": "stream",
     "text": [
      "Saved to A:\\Projects\\CollegeProjects\\YogaPartner\\intermediates\\v2\\virabhadrasana_i_210.jpg\n",
      "Saved to A:\\Projects\\CollegeProjects\\YogaPartner\\intermediates\\v2\\adho_mukha_shvanasana_265.jpg\n"
     ]
    },
    {
     "name": "stderr",
     "output_type": "stream",
     "text": [
      "836it [02:22,  5.65it/s]"
     ]
    },
    {
     "name": "stdout",
     "output_type": "stream",
     "text": [
      "Saved to A:\\Projects\\CollegeProjects\\YogaPartner\\intermediates\\v2\\bhujangasana_167.jpg\n",
      "Saved to A:\\Projects\\CollegeProjects\\YogaPartner\\intermediates\\v2\\bidalasana_204.jpg\n"
     ]
    },
    {
     "name": "stderr",
     "output_type": "stream",
     "text": [
      "838it [02:22,  5.46it/s]"
     ]
    },
    {
     "name": "stdout",
     "output_type": "stream",
     "text": [
      "Saved to A:\\Projects\\CollegeProjects\\YogaPartner\\intermediates\\v2\\phalakasana_22.jpg\n",
      "Saved to A:\\Projects\\CollegeProjects\\YogaPartner\\intermediates\\v2\\virabhadrasana_i_135.jpg\n"
     ]
    },
    {
     "name": "stderr",
     "output_type": "stream",
     "text": [
      "841it [02:22,  7.60it/s]"
     ]
    },
    {
     "name": "stdout",
     "output_type": "stream",
     "text": [
      "Saved to A:\\Projects\\CollegeProjects\\YogaPartner\\intermediates\\v2\\bhujangasana_572.jpg\n",
      "Saved to A:\\Projects\\CollegeProjects\\YogaPartner\\intermediates\\v2\\utkatasana_14.jpg\n",
      "Saved to A:\\Projects\\CollegeProjects\\YogaPartner\\intermediates\\v2\\bidalasana_201.jpg\n"
     ]
    },
    {
     "name": "stderr",
     "output_type": "stream",
     "text": [
      "843it [02:23,  6.46it/s]"
     ]
    },
    {
     "name": "stdout",
     "output_type": "stream",
     "text": [
      "Saved to A:\\Projects\\CollegeProjects\\YogaPartner\\intermediates\\v2\\adho_mukha_shvanasana_231.jpg\n",
      "Saved to A:\\Projects\\CollegeProjects\\YogaPartner\\intermediates\\v2\\vasisthasana_97.jpg\n"
     ]
    },
    {
     "name": "stderr",
     "output_type": "stream",
     "text": [
      "\r",
      "844it [02:23,  3.65it/s]"
     ]
    },
    {
     "name": "stdout",
     "output_type": "stream",
     "text": [
      "Saved to A:\\Projects\\CollegeProjects\\YogaPartner\\intermediates\\v2\\adho_mukha_shvanasana_237.jpg\n"
     ]
    },
    {
     "name": "stderr",
     "output_type": "stream",
     "text": [
      "846it [02:24,  4.19it/s]"
     ]
    },
    {
     "name": "stdout",
     "output_type": "stream",
     "text": [
      "Saved to A:\\Projects\\CollegeProjects\\YogaPartner\\intermediates\\v2\\utkatasana_207.jpg\n",
      "Saved to A:\\Projects\\CollegeProjects\\YogaPartner\\intermediates\\v2\\vrikshasana_176.jpg\n"
     ]
    },
    {
     "name": "stderr",
     "output_type": "stream",
     "text": [
      "848it [02:24,  5.68it/s]"
     ]
    },
    {
     "name": "stdout",
     "output_type": "stream",
     "text": [
      "Saved to A:\\Projects\\CollegeProjects\\YogaPartner\\intermediates\\v2\\virabhadrasana_ii_161.jpg\n",
      "Saved to A:\\Projects\\CollegeProjects\\YogaPartner\\intermediates\\v2\\virabhadrasana_i_171.jpg\n",
      "Saved to A:\\Projects\\CollegeProjects\\YogaPartner\\intermediates\\v2\\adho_mukha_shvanasana_172.jpg\n"
     ]
    },
    {
     "name": "stderr",
     "output_type": "stream",
     "text": [
      "851it [02:24,  7.25it/s]"
     ]
    },
    {
     "name": "stdout",
     "output_type": "stream",
     "text": [
      "Saved to A:\\Projects\\CollegeProjects\\YogaPartner\\intermediates\\v2\\bhujangasana_639.jpg\n",
      "Saved to A:\\Projects\\CollegeProjects\\YogaPartner\\intermediates\\v2\\vrikshasana_203.jpg\n"
     ]
    },
    {
     "name": "stderr",
     "output_type": "stream",
     "text": [
      "853it [02:24,  6.85it/s]"
     ]
    },
    {
     "name": "stdout",
     "output_type": "stream",
     "text": [
      "Saved to A:\\Projects\\CollegeProjects\\YogaPartner\\intermediates\\v2\\bhujangasana_216.jpg\n",
      "Saved to A:\\Projects\\CollegeProjects\\YogaPartner\\intermediates\\v2\\vasisthasana_57.jpg\n"
     ]
    },
    {
     "name": "stderr",
     "output_type": "stream",
     "text": [
      "855it [02:25,  7.65it/s]"
     ]
    },
    {
     "name": "stdout",
     "output_type": "stream",
     "text": [
      "Saved to A:\\Projects\\CollegeProjects\\YogaPartner\\intermediates\\v2\\virabhadrasana_ii_302.jpg\n",
      "Saved to A:\\Projects\\CollegeProjects\\YogaPartner\\intermediates\\v2\\phalakasana_103.jpg\n"
     ]
    },
    {
     "name": "stderr",
     "output_type": "stream",
     "text": [
      "857it [02:25,  8.07it/s]"
     ]
    },
    {
     "name": "stdout",
     "output_type": "stream",
     "text": [
      "Saved to A:\\Projects\\CollegeProjects\\YogaPartner\\intermediates\\v2\\bhujangasana_435.jpg\n",
      "Saved to A:\\Projects\\CollegeProjects\\YogaPartner\\intermediates\\v2\\virabhadrasana_ii_101.jpg\n"
     ]
    },
    {
     "name": "stderr",
     "output_type": "stream",
     "text": [
      "859it [02:25,  7.98it/s]"
     ]
    },
    {
     "name": "stdout",
     "output_type": "stream",
     "text": [
      "Saved to A:\\Projects\\CollegeProjects\\YogaPartner\\intermediates\\v2\\utkatasana_126.jpg\n",
      "Saved to A:\\Projects\\CollegeProjects\\YogaPartner\\intermediates\\v2\\utkatasana_194.jpg\n"
     ]
    },
    {
     "name": "stderr",
     "output_type": "stream",
     "text": [
      "\r",
      "860it [02:25,  6.39it/s]"
     ]
    },
    {
     "name": "stdout",
     "output_type": "stream",
     "text": [
      "Saved to A:\\Projects\\CollegeProjects\\YogaPartner\\intermediates\\v2\\virabhadrasana_ii_236.jpg\n"
     ]
    },
    {
     "name": "stderr",
     "output_type": "stream",
     "text": [
      "862it [02:26,  5.66it/s]"
     ]
    },
    {
     "name": "stdout",
     "output_type": "stream",
     "text": [
      "Saved to A:\\Projects\\CollegeProjects\\YogaPartner\\intermediates\\v2\\adho_mukha_shvanasana_337.jpg\n",
      "Saved to A:\\Projects\\CollegeProjects\\YogaPartner\\intermediates\\v2\\utkata_konasana_47.jpg\n"
     ]
    },
    {
     "name": "stderr",
     "output_type": "stream",
     "text": [
      "864it [02:26,  5.48it/s]"
     ]
    },
    {
     "name": "stdout",
     "output_type": "stream",
     "text": [
      "Saved to A:\\Projects\\CollegeProjects\\YogaPartner\\intermediates\\v2\\utkata_konasana_10.jpg\n",
      "Saved to A:\\Projects\\CollegeProjects\\YogaPartner\\intermediates\\v2\\adho_mukha_shvanasana_48.jpg\n"
     ]
    },
    {
     "name": "stderr",
     "output_type": "stream",
     "text": [
      "\r",
      "865it [02:26,  5.26it/s]"
     ]
    },
    {
     "name": "stdout",
     "output_type": "stream",
     "text": [
      "Saved to A:\\Projects\\CollegeProjects\\YogaPartner\\intermediates\\v2\\utkata_konasana_140.jpg\n",
      "Saved to A:\\Projects\\CollegeProjects\\YogaPartner\\intermediates\\v2\\vasisthasana_60.jpg\n"
     ]
    },
    {
     "name": "stderr",
     "output_type": "stream",
     "text": [
      "\r",
      "867it [02:27,  5.64it/s]"
     ]
    },
    {
     "name": "stdout",
     "output_type": "stream",
     "text": [
      "Saved to A:\\Projects\\CollegeProjects\\YogaPartner\\intermediates\\v2\\adho_mukha_shvanasana_26.jpg\n",
      "Saved to A:\\Projects\\CollegeProjects\\YogaPartner\\intermediates\\v2\\virabhadrasana_i_193.jpg\n"
     ]
    },
    {
     "name": "stderr",
     "output_type": "stream",
     "text": [
      "870it [02:27,  6.51it/s]"
     ]
    },
    {
     "name": "stdout",
     "output_type": "stream",
     "text": [
      "Saved to A:\\Projects\\CollegeProjects\\YogaPartner\\intermediates\\v2\\virabhadrasana_ii_120.jpg\n",
      "Saved to A:\\Projects\\CollegeProjects\\YogaPartner\\intermediates\\v2\\bidalasana_63.jpg\n"
     ]
    },
    {
     "name": "stderr",
     "output_type": "stream",
     "text": [
      "873it [02:27,  7.87it/s]"
     ]
    },
    {
     "name": "stdout",
     "output_type": "stream",
     "text": [
      "Saved to A:\\Projects\\CollegeProjects\\YogaPartner\\intermediates\\v2\\utkata_konasana_161.jpg\n",
      "Saved to A:\\Projects\\CollegeProjects\\YogaPartner\\intermediates\\v2\\adho_mukha_shvanasana_208.jpg\n",
      "Saved to A:\\Projects\\CollegeProjects\\YogaPartner\\intermediates\\v2\\vasisthasana_48.jpg\n"
     ]
    },
    {
     "name": "stderr",
     "output_type": "stream",
     "text": [
      "875it [02:28,  7.98it/s]"
     ]
    },
    {
     "name": "stdout",
     "output_type": "stream",
     "text": [
      "Saved to A:\\Projects\\CollegeProjects\\YogaPartner\\intermediates\\v2\\bhujangasana_350.jpg\n",
      "Saved to A:\\Projects\\CollegeProjects\\YogaPartner\\intermediates\\v2\\adho_mukha_shvanasana_89.jpg\n"
     ]
    },
    {
     "name": "stderr",
     "output_type": "stream",
     "text": [
      "\r",
      "876it [02:28,  8.33it/s]"
     ]
    },
    {
     "name": "stdout",
     "output_type": "stream",
     "text": [
      "Saved to A:\\Projects\\CollegeProjects\\YogaPartner\\intermediates\\v2\\virabhadrasana_i_21.jpg\n"
     ]
    },
    {
     "name": "stderr",
     "output_type": "stream",
     "text": [
      "878it [02:28,  7.54it/s]"
     ]
    },
    {
     "name": "stdout",
     "output_type": "stream",
     "text": [
      "Saved to A:\\Projects\\CollegeProjects\\YogaPartner\\intermediates\\v2\\bhujangasana_81.jpg\n",
      "Saved to A:\\Projects\\CollegeProjects\\YogaPartner\\intermediates\\v2\\virabhadrasana_ii_138.jpg\n"
     ]
    },
    {
     "name": "stderr",
     "output_type": "stream",
     "text": [
      "880it [02:29,  3.94it/s]"
     ]
    },
    {
     "name": "stdout",
     "output_type": "stream",
     "text": [
      "Saved to A:\\Projects\\CollegeProjects\\YogaPartner\\intermediates\\v2\\adho_mukha_shvanasana_203.jpg\n",
      "Saved to A:\\Projects\\CollegeProjects\\YogaPartner\\intermediates\\v2\\bhujangasana_220.jpg\n"
     ]
    },
    {
     "name": "stderr",
     "output_type": "stream",
     "text": [
      "\r",
      "881it [02:29,  4.68it/s]"
     ]
    },
    {
     "name": "stdout",
     "output_type": "stream",
     "text": [
      "Saved to A:\\Projects\\CollegeProjects\\YogaPartner\\intermediates\\v2\\bidalasana_296.jpeg\n",
      "Saved to A:\\Projects\\CollegeProjects\\YogaPartner\\intermediates\\v2\\utkatasana_112.jpg\n"
     ]
    },
    {
     "name": "stderr",
     "output_type": "stream",
     "text": [
      "884it [02:30,  6.06it/s]"
     ]
    },
    {
     "name": "stdout",
     "output_type": "stream",
     "text": [
      "Saved to A:\\Projects\\CollegeProjects\\YogaPartner\\intermediates\\v2\\adho_mukha_shvanasana_103.jpg\n",
      "Saved to A:\\Projects\\CollegeProjects\\YogaPartner\\intermediates\\v2\\bhujangasana_280.jpg\n",
      "No pose detected - length  - .\\data\\v2\\utkata_konasana\\utkata_konasana_181.jpg\n"
     ]
    },
    {
     "name": "stderr",
     "output_type": "stream",
     "text": [
      "886it [02:30,  6.70it/s]"
     ]
    },
    {
     "name": "stdout",
     "output_type": "stream",
     "text": [
      "Saved to A:\\Projects\\CollegeProjects\\YogaPartner\\intermediates\\v2\\utkata_konasana_181.jpg\n",
      "Saved to A:\\Projects\\CollegeProjects\\YogaPartner\\intermediates\\v2\\utkatasana_19.jpg\n"
     ]
    },
    {
     "name": "stderr",
     "output_type": "stream",
     "text": [
      "\r",
      "888it [02:30,  6.95it/s]"
     ]
    },
    {
     "name": "stdout",
     "output_type": "stream",
     "text": [
      "Saved to A:\\Projects\\CollegeProjects\\YogaPartner\\intermediates\\v2\\bidalasana_230.jpg\n",
      "Saved to A:\\Projects\\CollegeProjects\\YogaPartner\\intermediates\\v2\\bhujangasana_538.jpg\n"
     ]
    },
    {
     "name": "stderr",
     "output_type": "stream",
     "text": [
      "\r",
      "890it [02:30,  7.86it/s]"
     ]
    },
    {
     "name": "stdout",
     "output_type": "stream",
     "text": [
      "No pose detected - length  - .\\data\\v2\\bidalasana\\bidalasana_202.jpg\n",
      "Saved to A:\\Projects\\CollegeProjects\\YogaPartner\\intermediates\\v2\\bidalasana_202.jpg\n",
      "Saved to A:\\Projects\\CollegeProjects\\YogaPartner\\intermediates\\v2\\virabhadrasana_i_94.jpg\n"
     ]
    },
    {
     "name": "stderr",
     "output_type": "stream",
     "text": [
      "892it [02:31,  6.79it/s]"
     ]
    },
    {
     "name": "stdout",
     "output_type": "stream",
     "text": [
      "Saved to A:\\Projects\\CollegeProjects\\YogaPartner\\intermediates\\v2\\adho_mukha_shvanasana_254.jpg\n",
      "Saved to A:\\Projects\\CollegeProjects\\YogaPartner\\intermediates\\v2\\virabhadrasana_ii_45.jpg\n"
     ]
    },
    {
     "name": "stderr",
     "output_type": "stream",
     "text": [
      "894it [02:31,  6.53it/s]"
     ]
    },
    {
     "name": "stdout",
     "output_type": "stream",
     "text": [
      "Saved to A:\\Projects\\CollegeProjects\\YogaPartner\\intermediates\\v2\\bhujangasana_230.jpg\n",
      "Saved to A:\\Projects\\CollegeProjects\\YogaPartner\\intermediates\\v2\\vasisthasana_39.jpg\n"
     ]
    },
    {
     "name": "stderr",
     "output_type": "stream",
     "text": [
      "896it [02:31,  7.49it/s]"
     ]
    },
    {
     "name": "stdout",
     "output_type": "stream",
     "text": [
      "Saved to A:\\Projects\\CollegeProjects\\YogaPartner\\intermediates\\v2\\virabhadrasana_ii_362.jpg\n",
      "Saved to A:\\Projects\\CollegeProjects\\YogaPartner\\intermediates\\v2\\bhujangasana_644.jpg\n"
     ]
    },
    {
     "name": "stderr",
     "output_type": "stream",
     "text": [
      "\r",
      "897it [02:31,  6.87it/s]"
     ]
    },
    {
     "name": "stdout",
     "output_type": "stream",
     "text": [
      "Saved to A:\\Projects\\CollegeProjects\\YogaPartner\\intermediates\\v2\\virabhadrasana_ii_189.jpg\n",
      "Saved to A:\\Projects\\CollegeProjects\\YogaPartner\\intermediates\\v2\\bhujangasana_108.jpg\n"
     ]
    },
    {
     "name": "stderr",
     "output_type": "stream",
     "text": [
      "900it [02:32,  7.24it/s]"
     ]
    },
    {
     "name": "stdout",
     "output_type": "stream",
     "text": [
      "Saved to A:\\Projects\\CollegeProjects\\YogaPartner\\intermediates\\v2\\bhujangasana_50.jpg\n",
      "Saved to A:\\Projects\\CollegeProjects\\YogaPartner\\intermediates\\v2\\utkata_konasana_49.jpg\n"
     ]
    },
    {
     "name": "stderr",
     "output_type": "stream",
     "text": [
      "902it [02:32,  6.47it/s]"
     ]
    },
    {
     "name": "stdout",
     "output_type": "stream",
     "text": [
      "Saved to A:\\Projects\\CollegeProjects\\YogaPartner\\intermediates\\v2\\utkatasana_103.jpg\n",
      "Saved to A:\\Projects\\CollegeProjects\\YogaPartner\\intermediates\\v2\\vrikshasana_136.jpg\n"
     ]
    },
    {
     "name": "stderr",
     "output_type": "stream",
     "text": [
      "905it [02:32,  8.04it/s]"
     ]
    },
    {
     "name": "stdout",
     "output_type": "stream",
     "text": [
      "Saved to A:\\Projects\\CollegeProjects\\YogaPartner\\intermediates\\v2\\adho_mukha_shvanasana_194.jpg\n",
      "Saved to A:\\Projects\\CollegeProjects\\YogaPartner\\intermediates\\v2\\ustrasana_1.jpg\n",
      "Saved to A:\\Projects\\CollegeProjects\\YogaPartner\\intermediates\\v2\\adho_mukha_shvanasana_139.jpg\n"
     ]
    },
    {
     "name": "stderr",
     "output_type": "stream",
     "text": [
      "908it [02:33,  8.84it/s]"
     ]
    },
    {
     "name": "stdout",
     "output_type": "stream",
     "text": [
      "Saved to A:\\Projects\\CollegeProjects\\YogaPartner\\intermediates\\v2\\bhujangasana_651.jpg\n",
      "Saved to A:\\Projects\\CollegeProjects\\YogaPartner\\intermediates\\v2\\utkatasana_147.jpg\n",
      "Saved to A:\\Projects\\CollegeProjects\\YogaPartner\\intermediates\\v2\\bhujangasana_362.jpg\n"
     ]
    },
    {
     "name": "stderr",
     "output_type": "stream",
     "text": [
      "910it [02:33,  8.30it/s]"
     ]
    },
    {
     "name": "stdout",
     "output_type": "stream",
     "text": [
      "Saved to A:\\Projects\\CollegeProjects\\YogaPartner\\intermediates\\v2\\bidalasana_147.jpg\n",
      "Saved to A:\\Projects\\CollegeProjects\\YogaPartner\\intermediates\\v2\\bhujangasana_270.jpg\n"
     ]
    },
    {
     "name": "stderr",
     "output_type": "stream",
     "text": [
      "912it [02:33,  8.61it/s]"
     ]
    },
    {
     "name": "stdout",
     "output_type": "stream",
     "text": [
      "Saved to A:\\Projects\\CollegeProjects\\YogaPartner\\intermediates\\v2\\bhujangasana_294.jpg\n",
      "Saved to A:\\Projects\\CollegeProjects\\YogaPartner\\intermediates\\v2\\utkata_konasana_151.jpg\n"
     ]
    },
    {
     "name": "stderr",
     "output_type": "stream",
     "text": [
      "\r",
      "914it [02:33,  8.92it/s]"
     ]
    },
    {
     "name": "stdout",
     "output_type": "stream",
     "text": [
      "Saved to A:\\Projects\\CollegeProjects\\YogaPartner\\intermediates\\v2\\vrikshasana_148.jpg\n",
      "Saved to A:\\Projects\\CollegeProjects\\YogaPartner\\intermediates\\v2\\vrikshasana_96.jpg\n"
     ]
    },
    {
     "name": "stderr",
     "output_type": "stream",
     "text": [
      "916it [02:34,  7.24it/s]"
     ]
    },
    {
     "name": "stdout",
     "output_type": "stream",
     "text": [
      "Saved to A:\\Projects\\CollegeProjects\\YogaPartner\\intermediates\\v2\\bhujangasana_527.jpg\n",
      "Saved to A:\\Projects\\CollegeProjects\\YogaPartner\\intermediates\\v2\\bidalasana_91.jpeg\n"
     ]
    },
    {
     "name": "stderr",
     "output_type": "stream",
     "text": [
      "918it [02:34,  6.01it/s]"
     ]
    },
    {
     "name": "stdout",
     "output_type": "stream",
     "text": [
      "Saved to A:\\Projects\\CollegeProjects\\YogaPartner\\intermediates\\v2\\adho_mukha_shvanasana_273.jpg\n",
      "Saved to A:\\Projects\\CollegeProjects\\YogaPartner\\intermediates\\v2\\virabhadrasana_i_166.jpg\n"
     ]
    },
    {
     "name": "stderr",
     "output_type": "stream",
     "text": [
      "920it [02:34,  7.19it/s]"
     ]
    },
    {
     "name": "stdout",
     "output_type": "stream",
     "text": [
      "Saved to A:\\Projects\\CollegeProjects\\YogaPartner\\intermediates\\v2\\vasisthasana_79.jpg\n",
      "Saved to A:\\Projects\\CollegeProjects\\YogaPartner\\intermediates\\v2\\vrikshasana_20.jpg\n"
     ]
    },
    {
     "name": "stderr",
     "output_type": "stream",
     "text": [
      "922it [02:35,  6.68it/s]"
     ]
    },
    {
     "name": "stdout",
     "output_type": "stream",
     "text": [
      "Saved to A:\\Projects\\CollegeProjects\\YogaPartner\\intermediates\\v2\\vasisthasana_66.jpg\n",
      "Saved to A:\\Projects\\CollegeProjects\\YogaPartner\\intermediates\\v2\\bidalasana_249.jpg\n"
     ]
    },
    {
     "name": "stderr",
     "output_type": "stream",
     "text": [
      "\r",
      "924it [02:35,  7.75it/s]"
     ]
    },
    {
     "name": "stdout",
     "output_type": "stream",
     "text": [
      "Saved to A:\\Projects\\CollegeProjects\\YogaPartner\\intermediates\\v2\\utkata_konasana_119.jpg\n",
      "Saved to A:\\Projects\\CollegeProjects\\YogaPartner\\intermediates\\v2\\bidalasana_178.jpg\n"
     ]
    },
    {
     "name": "stderr",
     "output_type": "stream",
     "text": [
      "\r",
      "926it [02:35,  8.66it/s]"
     ]
    },
    {
     "name": "stdout",
     "output_type": "stream",
     "text": [
      "Saved to A:\\Projects\\CollegeProjects\\YogaPartner\\intermediates\\v2\\bidalasana_200.jpg\n",
      "Saved to A:\\Projects\\CollegeProjects\\YogaPartner\\intermediates\\v2\\virabhadrasana_ii_301.jpg\n"
     ]
    },
    {
     "name": "stderr",
     "output_type": "stream",
     "text": [
      "\r",
      "927it [02:37,  1.94it/s]"
     ]
    },
    {
     "name": "stdout",
     "output_type": "stream",
     "text": [
      "Saved to A:\\Projects\\CollegeProjects\\YogaPartner\\intermediates\\v2\\virabhadrasana_ii_170.jpg\n"
     ]
    },
    {
     "name": "stderr",
     "output_type": "stream",
     "text": [
      "929it [02:37,  2.71it/s]"
     ]
    },
    {
     "name": "stdout",
     "output_type": "stream",
     "text": [
      "Saved to A:\\Projects\\CollegeProjects\\YogaPartner\\intermediates\\v2\\vrikshasana_228.jpg\n",
      "Saved to A:\\Projects\\CollegeProjects\\YogaPartner\\intermediates\\v2\\utkatasana_144.jpg\n"
     ]
    },
    {
     "name": "stderr",
     "output_type": "stream",
     "text": [
      "\r",
      "930it [02:38,  3.30it/s]"
     ]
    },
    {
     "name": "stdout",
     "output_type": "stream",
     "text": [
      "Saved to A:\\Projects\\CollegeProjects\\YogaPartner\\intermediates\\v2\\bidalasana_190.jpg\n"
     ]
    },
    {
     "name": "stderr",
     "output_type": "stream",
     "text": [
      "932it [02:38,  3.89it/s]"
     ]
    },
    {
     "name": "stdout",
     "output_type": "stream",
     "text": [
      "Saved to A:\\Projects\\CollegeProjects\\YogaPartner\\intermediates\\v2\\virabhadrasana_i_85.jpg\n",
      "Saved to A:\\Projects\\CollegeProjects\\YogaPartner\\intermediates\\v2\\phalakasana_121.jpg\n"
     ]
    },
    {
     "name": "stderr",
     "output_type": "stream",
     "text": [
      "934it [02:38,  5.14it/s]"
     ]
    },
    {
     "name": "stdout",
     "output_type": "stream",
     "text": [
      "Saved to A:\\Projects\\CollegeProjects\\YogaPartner\\intermediates\\v2\\virabhadrasana_ii_291.jpg\n",
      "Saved to A:\\Projects\\CollegeProjects\\YogaPartner\\intermediates\\v2\\virabhadrasana_i_11.jpg\n"
     ]
    },
    {
     "name": "stderr",
     "output_type": "stream",
     "text": [
      "\r",
      "935it [02:38,  5.79it/s]"
     ]
    },
    {
     "name": "stdout",
     "output_type": "stream",
     "text": [
      "Saved to A:\\Projects\\CollegeProjects\\YogaPartner\\intermediates\\v2\\bhujangasana_157.jpg\n"
     ]
    },
    {
     "name": "stderr",
     "output_type": "stream",
     "text": [
      "937it [02:39,  4.25it/s]"
     ]
    },
    {
     "name": "stdout",
     "output_type": "stream",
     "text": [
      "Saved to A:\\Projects\\CollegeProjects\\YogaPartner\\intermediates\\v2\\utkatasana_183.jpg\n",
      "Saved to A:\\Projects\\CollegeProjects\\YogaPartner\\intermediates\\v2\\bidalasana_25.jpg\n"
     ]
    },
    {
     "name": "stderr",
     "output_type": "stream",
     "text": [
      "939it [02:39,  5.82it/s]"
     ]
    },
    {
     "name": "stdout",
     "output_type": "stream",
     "text": [
      "Saved to A:\\Projects\\CollegeProjects\\YogaPartner\\intermediates\\v2\\bhujangasana_613.jpg\n",
      "Saved to A:\\Projects\\CollegeProjects\\YogaPartner\\intermediates\\v2\\utkata_konasana_78.jpg\n"
     ]
    },
    {
     "name": "stderr",
     "output_type": "stream",
     "text": [
      "\r",
      "940it [02:39,  6.57it/s]"
     ]
    },
    {
     "name": "stdout",
     "output_type": "stream",
     "text": [
      "Saved to A:\\Projects\\CollegeProjects\\YogaPartner\\intermediates\\v2\\ustrasana_53.jpg\n",
      "Saved to A:\\Projects\\CollegeProjects\\YogaPartner\\intermediates\\v2\\virabhadrasana_i_74.jpg\n"
     ]
    },
    {
     "name": "stderr",
     "output_type": "stream",
     "text": [
      "943it [02:40,  4.42it/s]"
     ]
    },
    {
     "name": "stdout",
     "output_type": "stream",
     "text": [
      "Saved to A:\\Projects\\CollegeProjects\\YogaPartner\\intermediates\\v2\\bhujangasana_654.jpg\n",
      "Saved to A:\\Projects\\CollegeProjects\\YogaPartner\\intermediates\\v2\\virabhadrasana_i_90.jpg\n"
     ]
    },
    {
     "name": "stderr",
     "output_type": "stream",
     "text": [
      "\r",
      "944it [02:40,  5.11it/s]"
     ]
    },
    {
     "name": "stdout",
     "output_type": "stream",
     "text": [
      "Saved to A:\\Projects\\CollegeProjects\\YogaPartner\\intermediates\\v2\\bhujangasana_232.jpg\n"
     ]
    },
    {
     "name": "stderr",
     "output_type": "stream",
     "text": [
      "946it [02:42,  2.37it/s]"
     ]
    },
    {
     "name": "stdout",
     "output_type": "stream",
     "text": [
      "Saved to A:\\Projects\\CollegeProjects\\YogaPartner\\intermediates\\v2\\vrikshasana_248.jpg\n",
      "Saved to A:\\Projects\\CollegeProjects\\YogaPartner\\intermediates\\v2\\virabhadrasana_ii_211.jpg\n"
     ]
    },
    {
     "name": "stderr",
     "output_type": "stream",
     "text": [
      "948it [02:42,  3.39it/s]"
     ]
    },
    {
     "name": "stdout",
     "output_type": "stream",
     "text": [
      "Saved to A:\\Projects\\CollegeProjects\\YogaPartner\\intermediates\\v2\\utkata_konasana_57.jpg\n",
      "Saved to A:\\Projects\\CollegeProjects\\YogaPartner\\intermediates\\v2\\adho_mukha_shvanasana_282.jpg\n"
     ]
    },
    {
     "name": "stderr",
     "output_type": "stream",
     "text": [
      "\r",
      "949it [02:42,  4.13it/s]"
     ]
    },
    {
     "name": "stdout",
     "output_type": "stream",
     "text": [
      "Saved to A:\\Projects\\CollegeProjects\\YogaPartner\\intermediates\\v2\\adho_mukha_shvanasana_354.jpg\n"
     ]
    },
    {
     "name": "stderr",
     "output_type": "stream",
     "text": [
      "951it [02:43,  2.78it/s]"
     ]
    },
    {
     "name": "stdout",
     "output_type": "stream",
     "text": [
      "Saved to A:\\Projects\\CollegeProjects\\YogaPartner\\intermediates\\v2\\utkata_konasana_183.jpg\n",
      "Saved to A:\\Projects\\CollegeProjects\\YogaPartner\\intermediates\\v2\\phalakasana_31.jpg\n"
     ]
    },
    {
     "name": "stderr",
     "output_type": "stream",
     "text": [
      "954it [02:44,  4.36it/s]"
     ]
    },
    {
     "name": "stdout",
     "output_type": "stream",
     "text": [
      "Saved to A:\\Projects\\CollegeProjects\\YogaPartner\\intermediates\\v2\\phalakasana_104.jpg\n",
      "Saved to A:\\Projects\\CollegeProjects\\YogaPartner\\intermediates\\v2\\vasisthasana_141.jpg\n",
      "Saved to A:\\Projects\\CollegeProjects\\YogaPartner\\intermediates\\v2\\vasisthasana_115.jpg\n"
     ]
    },
    {
     "name": "stderr",
     "output_type": "stream",
     "text": [
      "\r",
      "955it [02:44,  3.76it/s]"
     ]
    },
    {
     "name": "stdout",
     "output_type": "stream",
     "text": [
      "Saved to A:\\Projects\\CollegeProjects\\YogaPartner\\intermediates\\v2\\bidalasana_235.jpg\n"
     ]
    },
    {
     "name": "stderr",
     "output_type": "stream",
     "text": [
      "957it [02:45,  4.55it/s]"
     ]
    },
    {
     "name": "stdout",
     "output_type": "stream",
     "text": [
      "Saved to A:\\Projects\\CollegeProjects\\YogaPartner\\intermediates\\v2\\utkata_konasana_155.jpg\n",
      "Saved to A:\\Projects\\CollegeProjects\\YogaPartner\\intermediates\\v2\\vasisthasana_41.jpg\n",
      "Saved to A:\\Projects\\CollegeProjects\\YogaPartner\\intermediates\\v2\\virabhadrasana_ii_240.jpg\n"
     ]
    },
    {
     "name": "stderr",
     "output_type": "stream",
     "text": [
      "960it [02:45,  5.89it/s]"
     ]
    },
    {
     "name": "stdout",
     "output_type": "stream",
     "text": [
      "Saved to A:\\Projects\\CollegeProjects\\YogaPartner\\intermediates\\v2\\bhujangasana_466.jpg\n",
      "Saved to A:\\Projects\\CollegeProjects\\YogaPartner\\intermediates\\v2\\utkatasana_150.jpg\n"
     ]
    },
    {
     "name": "stderr",
     "output_type": "stream",
     "text": [
      "962it [02:45,  6.47it/s]"
     ]
    },
    {
     "name": "stdout",
     "output_type": "stream",
     "text": [
      "Saved to A:\\Projects\\CollegeProjects\\YogaPartner\\intermediates\\v2\\vrikshasana_257.jpg\n",
      "Saved to A:\\Projects\\CollegeProjects\\YogaPartner\\intermediates\\v2\\virabhadrasana_ii_285.jpg\n"
     ]
    },
    {
     "name": "stderr",
     "output_type": "stream",
     "text": [
      "964it [02:46,  7.08it/s]"
     ]
    },
    {
     "name": "stdout",
     "output_type": "stream",
     "text": [
      "Saved to A:\\Projects\\CollegeProjects\\YogaPartner\\intermediates\\v2\\virabhadrasana_ii_42.jpg\n",
      "Saved to A:\\Projects\\CollegeProjects\\YogaPartner\\intermediates\\v2\\phalakasana_38.jpg\n"
     ]
    },
    {
     "name": "stderr",
     "output_type": "stream",
     "text": [
      "\r",
      "966it [02:46,  8.07it/s]"
     ]
    },
    {
     "name": "stdout",
     "output_type": "stream",
     "text": [
      "Saved to A:\\Projects\\CollegeProjects\\YogaPartner\\intermediates\\v2\\bidalasana_50.jpg\n",
      "Saved to A:\\Projects\\CollegeProjects\\YogaPartner\\intermediates\\v2\\bhujangasana_68.jpg\n",
      "Saved to A:\\Projects\\CollegeProjects\\YogaPartner\\intermediates\\v2\\virabhadrasana_ii_16.jpg\n"
     ]
    },
    {
     "name": "stderr",
     "output_type": "stream",
     "text": [
      "969it [02:46,  7.86it/s]"
     ]
    },
    {
     "name": "stdout",
     "output_type": "stream",
     "text": [
      "Saved to A:\\Projects\\CollegeProjects\\YogaPartner\\intermediates\\v2\\phalakasana_89.jpg\n",
      "Saved to A:\\Projects\\CollegeProjects\\YogaPartner\\intermediates\\v2\\vrikshasana_85.jpg\n"
     ]
    },
    {
     "name": "stderr",
     "output_type": "stream",
     "text": [
      "971it [02:46,  8.43it/s]"
     ]
    },
    {
     "name": "stdout",
     "output_type": "stream",
     "text": [
      "Saved to A:\\Projects\\CollegeProjects\\YogaPartner\\intermediates\\v2\\bidalasana_134.jpg\n",
      "Saved to A:\\Projects\\CollegeProjects\\YogaPartner\\intermediates\\v2\\bidalasana_289.jpg\n"
     ]
    },
    {
     "name": "stderr",
     "output_type": "stream",
     "text": [
      "973it [02:47,  8.04it/s]"
     ]
    },
    {
     "name": "stdout",
     "output_type": "stream",
     "text": [
      "Saved to A:\\Projects\\CollegeProjects\\YogaPartner\\intermediates\\v2\\utkatasana_99.jpg\n",
      "Saved to A:\\Projects\\CollegeProjects\\YogaPartner\\intermediates\\v2\\bidalasana_252.jpeg\n"
     ]
    },
    {
     "name": "stderr",
     "output_type": "stream",
     "text": [
      "\r",
      "975it [02:47,  8.79it/s]"
     ]
    },
    {
     "name": "stdout",
     "output_type": "stream",
     "text": [
      "No pose detected - length  - .\\data\\v2\\bidalasana\\bidalasana_189.jpg\n",
      "Saved to A:\\Projects\\CollegeProjects\\YogaPartner\\intermediates\\v2\\bidalasana_189.jpg\n",
      "Saved to A:\\Projects\\CollegeProjects\\YogaPartner\\intermediates\\v2\\adho_mukha_shvanasana_37.jpg\n"
     ]
    },
    {
     "name": "stderr",
     "output_type": "stream",
     "text": [
      "978it [02:47,  9.50it/s]"
     ]
    },
    {
     "name": "stdout",
     "output_type": "stream",
     "text": [
      "Saved to A:\\Projects\\CollegeProjects\\YogaPartner\\intermediates\\v2\\bhujangasana_189.jpg\n",
      "Saved to A:\\Projects\\CollegeProjects\\YogaPartner\\intermediates\\v2\\ustrasana_33.jpg\n",
      "Saved to A:\\Projects\\CollegeProjects\\YogaPartner\\intermediates\\v2\\bhujangasana_653.jpg\n"
     ]
    },
    {
     "name": "stderr",
     "output_type": "stream",
     "text": [
      "980it [02:47,  8.82it/s]"
     ]
    },
    {
     "name": "stdout",
     "output_type": "stream",
     "text": [
      "Saved to A:\\Projects\\CollegeProjects\\YogaPartner\\intermediates\\v2\\phalakasana_86.jpg\n",
      "Saved to A:\\Projects\\CollegeProjects\\YogaPartner\\intermediates\\v2\\virabhadrasana_i_215.jpg\n"
     ]
    },
    {
     "name": "stderr",
     "output_type": "stream",
     "text": [
      "\r",
      "981it [02:48,  8.68it/s]"
     ]
    },
    {
     "name": "stdout",
     "output_type": "stream",
     "text": [
      "Saved to A:\\Projects\\CollegeProjects\\YogaPartner\\intermediates\\v2\\bidalasana_87.jpg\n",
      "Saved to A:\\Projects\\CollegeProjects\\YogaPartner\\intermediates\\v2\\bidalasana_236.jpg\n"
     ]
    },
    {
     "name": "stderr",
     "output_type": "stream",
     "text": [
      "984it [02:48,  7.63it/s]"
     ]
    },
    {
     "name": "stdout",
     "output_type": "stream",
     "text": [
      "Saved to A:\\Projects\\CollegeProjects\\YogaPartner\\intermediates\\v2\\utkata_konasana_30.jpg\n",
      "Saved to A:\\Projects\\CollegeProjects\\YogaPartner\\intermediates\\v2\\bhujangasana_614.jpg\n"
     ]
    },
    {
     "name": "stderr",
     "output_type": "stream",
     "text": [
      "986it [02:48,  8.29it/s]"
     ]
    },
    {
     "name": "stdout",
     "output_type": "stream",
     "text": [
      "Saved to A:\\Projects\\CollegeProjects\\YogaPartner\\intermediates\\v2\\utkatasana_187.jpg\n",
      "Saved to A:\\Projects\\CollegeProjects\\YogaPartner\\intermediates\\v2\\bhujangasana_318.jpg\n"
     ]
    },
    {
     "name": "stderr",
     "output_type": "stream",
     "text": [
      "\r",
      "987it [02:48,  8.27it/s]"
     ]
    },
    {
     "name": "stdout",
     "output_type": "stream",
     "text": [
      "Saved to A:\\Projects\\CollegeProjects\\YogaPartner\\intermediates\\v2\\bhujangasana_417.jpg\n"
     ]
    },
    {
     "name": "stderr",
     "output_type": "stream",
     "text": [
      "989it [02:49,  7.23it/s]"
     ]
    },
    {
     "name": "stdout",
     "output_type": "stream",
     "text": [
      "Saved to A:\\Projects\\CollegeProjects\\YogaPartner\\intermediates\\v2\\vrikshasana_188.jpg\n",
      "Saved to A:\\Projects\\CollegeProjects\\YogaPartner\\intermediates\\v2\\bhujangasana_312.jpg\n"
     ]
    },
    {
     "name": "stderr",
     "output_type": "stream",
     "text": [
      "991it [02:49,  6.99it/s]"
     ]
    },
    {
     "name": "stdout",
     "output_type": "stream",
     "text": [
      "Saved to A:\\Projects\\CollegeProjects\\YogaPartner\\intermediates\\v2\\virabhadrasana_ii_365.jpg\n",
      "Saved to A:\\Projects\\CollegeProjects\\YogaPartner\\intermediates\\v2\\bhujangasana_522.jpg\n"
     ]
    },
    {
     "name": "stderr",
     "output_type": "stream",
     "text": [
      "\r",
      "993it [02:49,  8.08it/s]"
     ]
    },
    {
     "name": "stdout",
     "output_type": "stream",
     "text": [
      "Saved to A:\\Projects\\CollegeProjects\\YogaPartner\\intermediates\\v2\\adho_mukha_shvanasana_283.jpg\n",
      "Saved to A:\\Projects\\CollegeProjects\\YogaPartner\\intermediates\\v2\\bhujangasana_246.jpg\n"
     ]
    },
    {
     "name": "stderr",
     "output_type": "stream",
     "text": [
      "995it [02:49,  6.83it/s]"
     ]
    },
    {
     "name": "stdout",
     "output_type": "stream",
     "text": [
      "Saved to A:\\Projects\\CollegeProjects\\YogaPartner\\intermediates\\v2\\bidalasana_76.jpeg\n",
      "Saved to A:\\Projects\\CollegeProjects\\YogaPartner\\intermediates\\v2\\bhujangasana_11.jpg\n"
     ]
    },
    {
     "name": "stderr",
     "output_type": "stream",
     "text": [
      "\r",
      "997it [02:50,  7.85it/s]"
     ]
    },
    {
     "name": "stdout",
     "output_type": "stream",
     "text": [
      "Saved to A:\\Projects\\CollegeProjects\\YogaPartner\\intermediates\\v2\\virabhadrasana_ii_288.jpg\n",
      "Saved to A:\\Projects\\CollegeProjects\\YogaPartner\\intermediates\\v2\\bhujangasana_204.jpg\n"
     ]
    },
    {
     "name": "stderr",
     "output_type": "stream",
     "text": [
      "999it [02:50,  7.64it/s]"
     ]
    },
    {
     "name": "stdout",
     "output_type": "stream",
     "text": [
      "Saved to A:\\Projects\\CollegeProjects\\YogaPartner\\intermediates\\v2\\bhujangasana_165.jpg\n",
      "Saved to A:\\Projects\\CollegeProjects\\YogaPartner\\intermediates\\v2\\adho_mukha_shvanasana_249.jpg\n"
     ]
    },
    {
     "name": "stderr",
     "output_type": "stream",
     "text": [
      "1001it [02:50,  8.26it/s]"
     ]
    },
    {
     "name": "stdout",
     "output_type": "stream",
     "text": [
      "Saved to A:\\Projects\\CollegeProjects\\YogaPartner\\intermediates\\v2\\vasisthasana_103.jpg\n",
      "Saved to A:\\Projects\\CollegeProjects\\YogaPartner\\intermediates\\v2\\bhujangasana_283.jpg\n"
     ]
    },
    {
     "name": "stderr",
     "output_type": "stream",
     "text": [
      "1004it [02:51,  9.10it/s]"
     ]
    },
    {
     "name": "stdout",
     "output_type": "stream",
     "text": [
      "Saved to A:\\Projects\\CollegeProjects\\YogaPartner\\intermediates\\v2\\virabhadrasana_ii_267.jpg\n",
      "Saved to A:\\Projects\\CollegeProjects\\YogaPartner\\intermediates\\v2\\virabhadrasana_ii_150.jpg\n",
      "Saved to A:\\Projects\\CollegeProjects\\YogaPartner\\intermediates\\v2\\utkatasana_75.jpg\n"
     ]
    },
    {
     "name": "stderr",
     "output_type": "stream",
     "text": [
      "1006it [02:51,  7.51it/s]"
     ]
    },
    {
     "name": "stdout",
     "output_type": "stream",
     "text": [
      "Saved to A:\\Projects\\CollegeProjects\\YogaPartner\\intermediates\\v2\\vrikshasana_284.jpg\n",
      "Saved to A:\\Projects\\CollegeProjects\\YogaPartner\\intermediates\\v2\\bhujangasana_201.jpg\n"
     ]
    },
    {
     "name": "stderr",
     "output_type": "stream",
     "text": [
      "1008it [02:51,  6.55it/s]"
     ]
    },
    {
     "name": "stdout",
     "output_type": "stream",
     "text": [
      "Saved to A:\\Projects\\CollegeProjects\\YogaPartner\\intermediates\\v2\\virabhadrasana_ii_363.jpg\n",
      "Saved to A:\\Projects\\CollegeProjects\\YogaPartner\\intermediates\\v2\\bidalasana_5.jpg\n"
     ]
    },
    {
     "name": "stderr",
     "output_type": "stream",
     "text": [
      "\r",
      "1009it [02:51,  6.53it/s]"
     ]
    },
    {
     "name": "stdout",
     "output_type": "stream",
     "text": [
      "Saved to A:\\Projects\\CollegeProjects\\YogaPartner\\intermediates\\v2\\bhujangasana_134.jpg\n",
      "Saved to A:\\Projects\\CollegeProjects\\YogaPartner\\intermediates\\v2\\phalakasana_3.jpg\n"
     ]
    },
    {
     "name": "stderr",
     "output_type": "stream",
     "text": [
      "1012it [02:52,  7.48it/s]"
     ]
    },
    {
     "name": "stdout",
     "output_type": "stream",
     "text": [
      "Saved to A:\\Projects\\CollegeProjects\\YogaPartner\\intermediates\\v2\\utkata_konasana_105.jpg\n",
      "Saved to A:\\Projects\\CollegeProjects\\YogaPartner\\intermediates\\v2\\bidalasana_86.jpg\n"
     ]
    },
    {
     "name": "stderr",
     "output_type": "stream",
     "text": [
      "1014it [02:52,  7.83it/s]"
     ]
    },
    {
     "name": "stdout",
     "output_type": "stream",
     "text": [
      "Saved to A:\\Projects\\CollegeProjects\\YogaPartner\\intermediates\\v2\\vrikshasana_112.jpg\n",
      "Saved to A:\\Projects\\CollegeProjects\\YogaPartner\\intermediates\\v2\\utkatasana_190.jpg\n"
     ]
    },
    {
     "name": "stderr",
     "output_type": "stream",
     "text": [
      "1017it [02:52,  8.73it/s]"
     ]
    },
    {
     "name": "stdout",
     "output_type": "stream",
     "text": [
      "Saved to A:\\Projects\\CollegeProjects\\YogaPartner\\intermediates\\v2\\virabhadrasana_ii_28.jpg\n",
      "Saved to A:\\Projects\\CollegeProjects\\YogaPartner\\intermediates\\v2\\bhujangasana_78.jpg\n",
      "Saved to A:\\Projects\\CollegeProjects\\YogaPartner\\intermediates\\v2\\bhujangasana_549.jpg\n"
     ]
    },
    {
     "name": "stderr",
     "output_type": "stream",
     "text": [
      "1019it [02:53,  8.47it/s]"
     ]
    },
    {
     "name": "stdout",
     "output_type": "stream",
     "text": [
      "Saved to A:\\Projects\\CollegeProjects\\YogaPartner\\intermediates\\v2\\bhujangasana_418.jpg\n",
      "Saved to A:\\Projects\\CollegeProjects\\YogaPartner\\intermediates\\v2\\virabhadrasana_i_134.jpg\n"
     ]
    },
    {
     "name": "stderr",
     "output_type": "stream",
     "text": [
      "1022it [02:53,  8.89it/s]"
     ]
    },
    {
     "name": "stdout",
     "output_type": "stream",
     "text": [
      "Saved to A:\\Projects\\CollegeProjects\\YogaPartner\\intermediates\\v2\\bhujangasana_382.jpg\n",
      "Saved to A:\\Projects\\CollegeProjects\\YogaPartner\\intermediates\\v2\\vasisthasana_140.jpg\n",
      "Saved to A:\\Projects\\CollegeProjects\\YogaPartner\\intermediates\\v2\\vasisthasana_129.jpg\n"
     ]
    },
    {
     "name": "stderr",
     "output_type": "stream",
     "text": [
      "1025it [02:53,  9.52it/s]"
     ]
    },
    {
     "name": "stdout",
     "output_type": "stream",
     "text": [
      "Saved to A:\\Projects\\CollegeProjects\\YogaPartner\\intermediates\\v2\\bhujangasana_483.jpg\n",
      "Saved to A:\\Projects\\CollegeProjects\\YogaPartner\\intermediates\\v2\\virabhadrasana_i_165.jpg\n",
      "Saved to A:\\Projects\\CollegeProjects\\YogaPartner\\intermediates\\v2\\virabhadrasana_ii_159.jpg\n"
     ]
    },
    {
     "name": "stderr",
     "output_type": "stream",
     "text": [
      "1027it [02:53,  8.99it/s]"
     ]
    },
    {
     "name": "stdout",
     "output_type": "stream",
     "text": [
      "Saved to A:\\Projects\\CollegeProjects\\YogaPartner\\intermediates\\v2\\bhujangasana_498.jpg\n",
      "Saved to A:\\Projects\\CollegeProjects\\YogaPartner\\intermediates\\v2\\vrikshasana_168.jpg\n"
     ]
    },
    {
     "name": "stderr",
     "output_type": "stream",
     "text": [
      "\r",
      "1028it [02:54,  8.48it/s]"
     ]
    },
    {
     "name": "stdout",
     "output_type": "stream",
     "text": [
      "Saved to A:\\Projects\\CollegeProjects\\YogaPartner\\intermediates\\v2\\bhujangasana_652.jpg\n"
     ]
    },
    {
     "name": "stderr",
     "output_type": "stream",
     "text": [
      "1030it [02:54,  6.49it/s]"
     ]
    },
    {
     "name": "stdout",
     "output_type": "stream",
     "text": [
      "Saved to A:\\Projects\\CollegeProjects\\YogaPartner\\intermediates\\v2\\vasisthasana_55.jpg\n",
      "Saved to A:\\Projects\\CollegeProjects\\YogaPartner\\intermediates\\v2\\utkatasana_63.jpg\n"
     ]
    },
    {
     "name": "stderr",
     "output_type": "stream",
     "text": [
      "1032it [02:54,  6.89it/s]"
     ]
    },
    {
     "name": "stdout",
     "output_type": "stream",
     "text": [
      "Saved to A:\\Projects\\CollegeProjects\\YogaPartner\\intermediates\\v2\\adho_mukha_shvanasana_11.jpg\n",
      "Saved to A:\\Projects\\CollegeProjects\\YogaPartner\\intermediates\\v2\\utkatasana_61.jpg\n"
     ]
    },
    {
     "name": "stderr",
     "output_type": "stream",
     "text": [
      "1034it [02:55,  7.64it/s]"
     ]
    },
    {
     "name": "stdout",
     "output_type": "stream",
     "text": [
      "Saved to A:\\Projects\\CollegeProjects\\YogaPartner\\intermediates\\v2\\vrikshasana_237.jpg\n",
      "Saved to A:\\Projects\\CollegeProjects\\YogaPartner\\intermediates\\v2\\utkatasana_34.jpg\n"
     ]
    },
    {
     "name": "stderr",
     "output_type": "stream",
     "text": [
      "1036it [02:55,  7.48it/s]"
     ]
    },
    {
     "name": "stdout",
     "output_type": "stream",
     "text": [
      "Saved to A:\\Projects\\CollegeProjects\\YogaPartner\\intermediates\\v2\\adho_mukha_shvanasana_312.jpg\n",
      "Saved to A:\\Projects\\CollegeProjects\\YogaPartner\\intermediates\\v2\\adho_mukha_shvanasana_148.jpg\n"
     ]
    },
    {
     "name": "stderr",
     "output_type": "stream",
     "text": [
      "1038it [02:55,  7.06it/s]"
     ]
    },
    {
     "name": "stdout",
     "output_type": "stream",
     "text": [
      "Saved to A:\\Projects\\CollegeProjects\\YogaPartner\\intermediates\\v2\\bhujangasana_531.jpg\n",
      "Saved to A:\\Projects\\CollegeProjects\\YogaPartner\\intermediates\\v2\\utkata_konasana_201.jpg\n"
     ]
    },
    {
     "name": "stderr",
     "output_type": "stream",
     "text": [
      "1040it [02:55,  6.55it/s]"
     ]
    },
    {
     "name": "stdout",
     "output_type": "stream",
     "text": [
      "Saved to A:\\Projects\\CollegeProjects\\YogaPartner\\intermediates\\v2\\utkata_konasana_45.jpg\n",
      "Saved to A:\\Projects\\CollegeProjects\\YogaPartner\\intermediates\\v2\\adho_mukha_shvanasana_7.jpg\n"
     ]
    },
    {
     "name": "stderr",
     "output_type": "stream",
     "text": [
      "1042it [02:56,  5.56it/s]"
     ]
    },
    {
     "name": "stdout",
     "output_type": "stream",
     "text": [
      "Saved to A:\\Projects\\CollegeProjects\\YogaPartner\\intermediates\\v2\\vrikshasana_60.jpg\n",
      "Saved to A:\\Projects\\CollegeProjects\\YogaPartner\\intermediates\\v2\\phalakasana_145.jpg\n"
     ]
    },
    {
     "name": "stderr",
     "output_type": "stream",
     "text": [
      "1044it [02:56,  6.56it/s]"
     ]
    },
    {
     "name": "stdout",
     "output_type": "stream",
     "text": [
      "Saved to A:\\Projects\\CollegeProjects\\YogaPartner\\intermediates\\v2\\virabhadrasana_ii_157.jpg\n",
      "Saved to A:\\Projects\\CollegeProjects\\YogaPartner\\intermediates\\v2\\bhujangasana_529.jpg\n"
     ]
    },
    {
     "name": "stderr",
     "output_type": "stream",
     "text": [
      "1046it [02:56,  7.44it/s]"
     ]
    },
    {
     "name": "stdout",
     "output_type": "stream",
     "text": [
      "Saved to A:\\Projects\\CollegeProjects\\YogaPartner\\intermediates\\v2\\bhujangasana_274.jpg\n",
      "Saved to A:\\Projects\\CollegeProjects\\YogaPartner\\intermediates\\v2\\bhujangasana_616.jpg\n"
     ]
    },
    {
     "name": "stderr",
     "output_type": "stream",
     "text": [
      "1049it [02:57,  8.66it/s]"
     ]
    },
    {
     "name": "stdout",
     "output_type": "stream",
     "text": [
      "Saved to A:\\Projects\\CollegeProjects\\YogaPartner\\intermediates\\v2\\virabhadrasana_i_12.jpg\n",
      "Saved to A:\\Projects\\CollegeProjects\\YogaPartner\\intermediates\\v2\\virabhadrasana_ii_252.jpg\n",
      "Saved to A:\\Projects\\CollegeProjects\\YogaPartner\\intermediates\\v2\\adho_mukha_shvanasana_288.jpg\n"
     ]
    },
    {
     "name": "stderr",
     "output_type": "stream",
     "text": [
      "1051it [02:57,  7.77it/s]"
     ]
    },
    {
     "name": "stdout",
     "output_type": "stream",
     "text": [
      "Saved to A:\\Projects\\CollegeProjects\\YogaPartner\\intermediates\\v2\\utkatasana_65.jpg\n",
      "Saved to A:\\Projects\\CollegeProjects\\YogaPartner\\intermediates\\v2\\bhujangasana_481.jpg\n"
     ]
    },
    {
     "name": "stderr",
     "output_type": "stream",
     "text": [
      "1053it [02:57,  7.41it/s]"
     ]
    },
    {
     "name": "stdout",
     "output_type": "stream",
     "text": [
      "Saved to A:\\Projects\\CollegeProjects\\YogaPartner\\intermediates\\v2\\adho_mukha_shvanasana_268.jpg\n",
      "Saved to A:\\Projects\\CollegeProjects\\YogaPartner\\intermediates\\v2\\adho_mukha_shvanasana_30.jpg\n"
     ]
    },
    {
     "name": "stderr",
     "output_type": "stream",
     "text": [
      "1055it [02:57,  7.58it/s]"
     ]
    },
    {
     "name": "stdout",
     "output_type": "stream",
     "text": [
      "Saved to A:\\Projects\\CollegeProjects\\YogaPartner\\intermediates\\v2\\phalakasana_108.jpg\n",
      "Saved to A:\\Projects\\CollegeProjects\\YogaPartner\\intermediates\\v2\\utkatasana_44.jpg\n"
     ]
    },
    {
     "name": "stderr",
     "output_type": "stream",
     "text": [
      "1057it [02:58,  7.61it/s]"
     ]
    },
    {
     "name": "stdout",
     "output_type": "stream",
     "text": [
      "Saved to A:\\Projects\\CollegeProjects\\YogaPartner\\intermediates\\v2\\adho_mukha_shvanasana_147.jpg\n",
      "Saved to A:\\Projects\\CollegeProjects\\YogaPartner\\intermediates\\v2\\adho_mukha_shvanasana_29.jpg\n"
     ]
    },
    {
     "name": "stderr",
     "output_type": "stream",
     "text": [
      "\r",
      "1059it [02:58,  8.27it/s]"
     ]
    },
    {
     "name": "stdout",
     "output_type": "stream",
     "text": [
      "Saved to A:\\Projects\\CollegeProjects\\YogaPartner\\intermediates\\v2\\vasisthasana_145.jpg\n",
      "Saved to A:\\Projects\\CollegeProjects\\YogaPartner\\intermediates\\v2\\phalakasana_109.jpg\n"
     ]
    },
    {
     "name": "stderr",
     "output_type": "stream",
     "text": [
      "\r",
      "1060it [02:58,  7.81it/s]"
     ]
    },
    {
     "name": "stdout",
     "output_type": "stream",
     "text": [
      "Saved to A:\\Projects\\CollegeProjects\\YogaPartner\\intermediates\\v2\\virabhadrasana_i_217.jpg\n",
      "Saved to A:\\Projects\\CollegeProjects\\YogaPartner\\intermediates\\v2\\vasisthasana_19.jpg\n"
     ]
    },
    {
     "name": "stderr",
     "output_type": "stream",
     "text": [
      "1063it [02:58,  7.62it/s]"
     ]
    },
    {
     "name": "stdout",
     "output_type": "stream",
     "text": [
      "Saved to A:\\Projects\\CollegeProjects\\YogaPartner\\intermediates\\v2\\utkata_konasana_80.jpg\n",
      "Saved to A:\\Projects\\CollegeProjects\\YogaPartner\\intermediates\\v2\\ustrasana_30.jpg\n"
     ]
    },
    {
     "name": "stderr",
     "output_type": "stream",
     "text": [
      "\r",
      "1064it [02:59,  4.53it/s]"
     ]
    },
    {
     "name": "stdout",
     "output_type": "stream",
     "text": [
      "Saved to A:\\Projects\\CollegeProjects\\YogaPartner\\intermediates\\v2\\vasisthasana_94.jpg\n"
     ]
    },
    {
     "name": "stderr",
     "output_type": "stream",
     "text": [
      "1066it [03:00,  3.01it/s]"
     ]
    },
    {
     "name": "stdout",
     "output_type": "stream",
     "text": [
      "Saved to A:\\Projects\\CollegeProjects\\YogaPartner\\intermediates\\v2\\vrikshasana_115.jpg\n",
      "Saved to A:\\Projects\\CollegeProjects\\YogaPartner\\intermediates\\v2\\vrikshasana_111.jpg\n"
     ]
    },
    {
     "name": "stderr",
     "output_type": "stream",
     "text": [
      "\r",
      "1067it [03:00,  3.58it/s]"
     ]
    },
    {
     "name": "stdout",
     "output_type": "stream",
     "text": [
      "Saved to A:\\Projects\\CollegeProjects\\YogaPartner\\intermediates\\v2\\virabhadrasana_ii_13.jpg\n"
     ]
    },
    {
     "name": "stderr",
     "output_type": "stream",
     "text": [
      "\r",
      "1068it [03:00,  3.71it/s]"
     ]
    },
    {
     "name": "stdout",
     "output_type": "stream",
     "text": [
      "Saved to A:\\Projects\\CollegeProjects\\YogaPartner\\intermediates\\v2\\adho_mukha_shvanasana_256.jpg\n",
      "Saved to A:\\Projects\\CollegeProjects\\YogaPartner\\intermediates\\v2\\ustrasana_40.jpg\n"
     ]
    },
    {
     "name": "stderr",
     "output_type": "stream",
     "text": [
      "1071it [03:01,  4.48it/s]"
     ]
    },
    {
     "name": "stdout",
     "output_type": "stream",
     "text": [
      "Saved to A:\\Projects\\CollegeProjects\\YogaPartner\\intermediates\\v2\\phalakasana_16.jpg\n",
      "Saved to A:\\Projects\\CollegeProjects\\YogaPartner\\intermediates\\v2\\bhujangasana_575.jpg\n"
     ]
    },
    {
     "name": "stderr",
     "output_type": "stream",
     "text": [
      "1073it [03:01,  5.17it/s]"
     ]
    },
    {
     "name": "stdout",
     "output_type": "stream",
     "text": [
      "Saved to A:\\Projects\\CollegeProjects\\YogaPartner\\intermediates\\v2\\virabhadrasana_ii_75.jpg\n",
      "Saved to A:\\Projects\\CollegeProjects\\YogaPartner\\intermediates\\v2\\adho_mukha_shvanasana_112.jpg\n"
     ]
    },
    {
     "name": "stderr",
     "output_type": "stream",
     "text": [
      "1075it [03:02,  5.72it/s]"
     ]
    },
    {
     "name": "stdout",
     "output_type": "stream",
     "text": [
      "Saved to A:\\Projects\\CollegeProjects\\YogaPartner\\intermediates\\v2\\vrikshasana_179.jpg\n",
      "Saved to A:\\Projects\\CollegeProjects\\YogaPartner\\intermediates\\v2\\utkatasana_160.jpg\n"
     ]
    },
    {
     "name": "stderr",
     "output_type": "stream",
     "text": [
      "1077it [03:02,  6.28it/s]"
     ]
    },
    {
     "name": "stdout",
     "output_type": "stream",
     "text": [
      "Saved to A:\\Projects\\CollegeProjects\\YogaPartner\\intermediates\\v2\\bhujangasana_552.jpg\n",
      "Saved to A:\\Projects\\CollegeProjects\\YogaPartner\\intermediates\\v2\\virabhadrasana_ii_134.jpg\n"
     ]
    },
    {
     "name": "stderr",
     "output_type": "stream",
     "text": [
      "1079it [03:02,  7.09it/s]"
     ]
    },
    {
     "name": "stdout",
     "output_type": "stream",
     "text": [
      "Saved to A:\\Projects\\CollegeProjects\\YogaPartner\\intermediates\\v2\\utkata_konasana_122.jpg\n",
      "Saved to A:\\Projects\\CollegeProjects\\YogaPartner\\intermediates\\v2\\bidalasana_248.jpg\n",
      "Saved to A:\\Projects\\CollegeProjects\\YogaPartner\\intermediates\\v2\\virabhadrasana_ii_250.jpg\n"
     ]
    },
    {
     "name": "stderr",
     "output_type": "stream",
     "text": [
      "1082it [03:03,  8.37it/s]"
     ]
    },
    {
     "name": "stdout",
     "output_type": "stream",
     "text": [
      "Saved to A:\\Projects\\CollegeProjects\\YogaPartner\\intermediates\\v2\\utkatasana_69.jpg\n",
      "Saved to A:\\Projects\\CollegeProjects\\YogaPartner\\intermediates\\v2\\bidalasana_118.jpg\n",
      "Saved to A:\\Projects\\CollegeProjects\\YogaPartner\\intermediates\\v2\\adho_mukha_shvanasana_278.jpg\n"
     ]
    },
    {
     "name": "stderr",
     "output_type": "stream",
     "text": [
      "1086it [03:03,  9.26it/s]"
     ]
    },
    {
     "name": "stdout",
     "output_type": "stream",
     "text": [
      "Saved to A:\\Projects\\CollegeProjects\\YogaPartner\\intermediates\\v2\\ustrasana_52.jpg\n",
      "Saved to A:\\Projects\\CollegeProjects\\YogaPartner\\intermediates\\v2\\phalakasana_138.jpg\n",
      "Saved to A:\\Projects\\CollegeProjects\\YogaPartner\\intermediates\\v2\\utkatasana_202.jpg\n"
     ]
    },
    {
     "name": "stderr",
     "output_type": "stream",
     "text": [
      "1088it [03:03,  7.91it/s]"
     ]
    },
    {
     "name": "stdout",
     "output_type": "stream",
     "text": [
      "Saved to A:\\Projects\\CollegeProjects\\YogaPartner\\intermediates\\v2\\bidalasana_137.jpg\n",
      "Saved to A:\\Projects\\CollegeProjects\\YogaPartner\\intermediates\\v2\\adho_mukha_shvanasana_62.jpg\n"
     ]
    },
    {
     "name": "stderr",
     "output_type": "stream",
     "text": [
      "\r",
      "1089it [03:03,  8.05it/s]"
     ]
    },
    {
     "name": "stdout",
     "output_type": "stream",
     "text": [
      "Saved to A:\\Projects\\CollegeProjects\\YogaPartner\\intermediates\\v2\\ustrasana_7.jpg\n"
     ]
    },
    {
     "name": "stderr",
     "output_type": "stream",
     "text": [
      "1091it [03:04,  6.55it/s]"
     ]
    },
    {
     "name": "stdout",
     "output_type": "stream",
     "text": [
      "Saved to A:\\Projects\\CollegeProjects\\YogaPartner\\intermediates\\v2\\utkatasana_62.jpg\n",
      "Saved to A:\\Projects\\CollegeProjects\\YogaPartner\\intermediates\\v2\\bhujangasana_389.jpg\n"
     ]
    },
    {
     "name": "stderr",
     "output_type": "stream",
     "text": [
      "1093it [03:05,  3.36it/s]"
     ]
    },
    {
     "name": "stdout",
     "output_type": "stream",
     "text": [
      "Saved to A:\\Projects\\CollegeProjects\\YogaPartner\\intermediates\\v2\\utkata_konasana_4.jpg\n",
      "Saved to A:\\Projects\\CollegeProjects\\YogaPartner\\intermediates\\v2\\utkata_konasana_20.jpg\n"
     ]
    },
    {
     "name": "stderr",
     "output_type": "stream",
     "text": [
      "\r",
      "1094it [03:08,  1.03s/it]"
     ]
    },
    {
     "name": "stdout",
     "output_type": "stream",
     "text": [
      "Saved to A:\\Projects\\CollegeProjects\\YogaPartner\\intermediates\\v2\\bhujangasana_337.jpg\n"
     ]
    },
    {
     "name": "stderr",
     "output_type": "stream",
     "text": [
      "1096it [03:08,  1.66it/s]"
     ]
    },
    {
     "name": "stdout",
     "output_type": "stream",
     "text": [
      "Saved to A:\\Projects\\CollegeProjects\\YogaPartner\\intermediates\\v2\\vrikshasana_312.jpg\n",
      "Saved to A:\\Projects\\CollegeProjects\\YogaPartner\\intermediates\\v2\\virabhadrasana_ii_183.jpg\n"
     ]
    },
    {
     "name": "stderr",
     "output_type": "stream",
     "text": [
      "\r",
      "1097it [03:08,  2.17it/s]"
     ]
    },
    {
     "name": "stdout",
     "output_type": "stream",
     "text": [
      "Saved to A:\\Projects\\CollegeProjects\\YogaPartner\\intermediates\\v2\\bidalasana_46.jpg\n"
     ]
    },
    {
     "name": "stderr",
     "output_type": "stream",
     "text": [
      "1099it [03:09,  2.89it/s]"
     ]
    },
    {
     "name": "stdout",
     "output_type": "stream",
     "text": [
      "Saved to A:\\Projects\\CollegeProjects\\YogaPartner\\intermediates\\v2\\vasisthasana_87.jpg\n",
      "Saved to A:\\Projects\\CollegeProjects\\YogaPartner\\intermediates\\v2\\utkatasana_116.jpg\n"
     ]
    },
    {
     "name": "stderr",
     "output_type": "stream",
     "text": [
      "1101it [03:09,  4.09it/s]"
     ]
    },
    {
     "name": "stdout",
     "output_type": "stream",
     "text": [
      "Saved to A:\\Projects\\CollegeProjects\\YogaPartner\\intermediates\\v2\\virabhadrasana_ii_262.jpg\n",
      "Saved to A:\\Projects\\CollegeProjects\\YogaPartner\\intermediates\\v2\\virabhadrasana_ii_283.jpg\n"
     ]
    },
    {
     "name": "stderr",
     "output_type": "stream",
     "text": [
      "1103it [03:09,  5.33it/s]"
     ]
    },
    {
     "name": "stdout",
     "output_type": "stream",
     "text": [
      "Saved to A:\\Projects\\CollegeProjects\\YogaPartner\\intermediates\\v2\\bhujangasana_177.jpg\n",
      "Saved to A:\\Projects\\CollegeProjects\\YogaPartner\\intermediates\\v2\\bhujangasana_338.jpg\n"
     ]
    },
    {
     "name": "stderr",
     "output_type": "stream",
     "text": [
      "1105it [03:09,  5.42it/s]"
     ]
    },
    {
     "name": "stdout",
     "output_type": "stream",
     "text": [
      "Saved to A:\\Projects\\CollegeProjects\\YogaPartner\\intermediates\\v2\\utkatasana_74.jpg\n",
      "Saved to A:\\Projects\\CollegeProjects\\YogaPartner\\intermediates\\v2\\bidalasana_84.jpeg\n"
     ]
    },
    {
     "name": "stderr",
     "output_type": "stream",
     "text": [
      "1107it [03:10,  6.46it/s]"
     ]
    },
    {
     "name": "stdout",
     "output_type": "stream",
     "text": [
      "Saved to A:\\Projects\\CollegeProjects\\YogaPartner\\intermediates\\v2\\bidalasana_225.jpg\n",
      "Saved to A:\\Projects\\CollegeProjects\\YogaPartner\\intermediates\\v2\\bidalasana_120.jpg\n",
      "Saved to A:\\Projects\\CollegeProjects\\YogaPartner\\intermediates\\v2\\bidalasana_142.jpg\n"
     ]
    },
    {
     "name": "stderr",
     "output_type": "stream",
     "text": [
      "1110it [03:10,  7.75it/s]"
     ]
    },
    {
     "name": "stdout",
     "output_type": "stream",
     "text": [
      "Saved to A:\\Projects\\CollegeProjects\\YogaPartner\\intermediates\\v2\\phalakasana_27.jpg\n",
      "Saved to A:\\Projects\\CollegeProjects\\YogaPartner\\intermediates\\v2\\utkata_konasana_110.jpg\n"
     ]
    },
    {
     "name": "stderr",
     "output_type": "stream",
     "text": [
      "1112it [03:10,  8.00it/s]"
     ]
    },
    {
     "name": "stdout",
     "output_type": "stream",
     "text": [
      "Saved to A:\\Projects\\CollegeProjects\\YogaPartner\\intermediates\\v2\\vrikshasana_12.jpg\n",
      "Saved to A:\\Projects\\CollegeProjects\\YogaPartner\\intermediates\\v2\\bidalasana_12.jpeg\n"
     ]
    },
    {
     "name": "stderr",
     "output_type": "stream",
     "text": [
      "1115it [03:11,  9.20it/s]"
     ]
    },
    {
     "name": "stdout",
     "output_type": "stream",
     "text": [
      "Saved to A:\\Projects\\CollegeProjects\\YogaPartner\\intermediates\\v2\\utkata_konasana_141.jpg\n",
      "Saved to A:\\Projects\\CollegeProjects\\YogaPartner\\intermediates\\v2\\adho_mukha_shvanasana_286.jpg\n",
      "Saved to A:\\Projects\\CollegeProjects\\YogaPartner\\intermediates\\v2\\adho_mukha_shvanasana_378.jpg\n"
     ]
    },
    {
     "name": "stderr",
     "output_type": "stream",
     "text": [
      "1117it [03:11,  7.21it/s]"
     ]
    },
    {
     "name": "stdout",
     "output_type": "stream",
     "text": [
      "Saved to A:\\Projects\\CollegeProjects\\YogaPartner\\intermediates\\v2\\bhujangasana_665.jpg\n",
      "Saved to A:\\Projects\\CollegeProjects\\YogaPartner\\intermediates\\v2\\bidalasana_79.jpg\n"
     ]
    },
    {
     "name": "stderr",
     "output_type": "stream",
     "text": [
      "1119it [03:11,  7.74it/s]"
     ]
    },
    {
     "name": "stdout",
     "output_type": "stream",
     "text": [
      "Saved to A:\\Projects\\CollegeProjects\\YogaPartner\\intermediates\\v2\\vasisthasana_40.jpg\n",
      "Saved to A:\\Projects\\CollegeProjects\\YogaPartner\\intermediates\\v2\\bhujangasana_387.jpg\n"
     ]
    },
    {
     "name": "stderr",
     "output_type": "stream",
     "text": [
      "1121it [03:11,  7.80it/s]"
     ]
    },
    {
     "name": "stdout",
     "output_type": "stream",
     "text": [
      "Saved to A:\\Projects\\CollegeProjects\\YogaPartner\\intermediates\\v2\\utkata_konasana_199.jpg\n",
      "Saved to A:\\Projects\\CollegeProjects\\YogaPartner\\intermediates\\v2\\bhujangasana_605.jpg\n",
      "Saved to A:\\Projects\\CollegeProjects\\YogaPartner\\intermediates\\v2\\utkatasana_21.jpg\n"
     ]
    },
    {
     "name": "stderr",
     "output_type": "stream",
     "text": [
      "1124it [03:12,  8.23it/s]"
     ]
    },
    {
     "name": "stdout",
     "output_type": "stream",
     "text": [
      "Saved to A:\\Projects\\CollegeProjects\\YogaPartner\\intermediates\\v2\\bhujangasana_637.jpg\n",
      "Saved to A:\\Projects\\CollegeProjects\\YogaPartner\\intermediates\\v2\\vrikshasana_109.jpg\n"
     ]
    },
    {
     "name": "stderr",
     "output_type": "stream",
     "text": [
      "1126it [03:12,  7.94it/s]"
     ]
    },
    {
     "name": "stdout",
     "output_type": "stream",
     "text": [
      "Saved to A:\\Projects\\CollegeProjects\\YogaPartner\\intermediates\\v2\\bhujangasana_366.jpg\n",
      "Saved to A:\\Projects\\CollegeProjects\\YogaPartner\\intermediates\\v2\\vrikshasana_55.jpg\n"
     ]
    },
    {
     "name": "stderr",
     "output_type": "stream",
     "text": [
      "1128it [03:13,  6.30it/s]"
     ]
    },
    {
     "name": "stdout",
     "output_type": "stream",
     "text": [
      "Saved to A:\\Projects\\CollegeProjects\\YogaPartner\\intermediates\\v2\\bhujangasana_49.jpg\n",
      "Saved to A:\\Projects\\CollegeProjects\\YogaPartner\\intermediates\\v2\\adho_mukha_shvanasana_369.jpg\n"
     ]
    },
    {
     "name": "stderr",
     "output_type": "stream",
     "text": [
      "1130it [03:13,  7.46it/s]"
     ]
    },
    {
     "name": "stdout",
     "output_type": "stream",
     "text": [
      "Saved to A:\\Projects\\CollegeProjects\\YogaPartner\\intermediates\\v2\\bhujangasana_537.jpg\n",
      "Saved to A:\\Projects\\CollegeProjects\\YogaPartner\\intermediates\\v2\\bidalasana_251.jpg\n"
     ]
    },
    {
     "name": "stderr",
     "output_type": "stream",
     "text": [
      "\r",
      "1131it [03:13,  7.32it/s]"
     ]
    },
    {
     "name": "stdout",
     "output_type": "stream",
     "text": [
      "Saved to A:\\Projects\\CollegeProjects\\YogaPartner\\intermediates\\v2\\virabhadrasana_ii_331.jpg\n",
      "Saved to A:\\Projects\\CollegeProjects\\YogaPartner\\intermediates\\v2\\virabhadrasana_i_143.jpg\n"
     ]
    },
    {
     "name": "stderr",
     "output_type": "stream",
     "text": [
      "1134it [03:13,  8.02it/s]"
     ]
    },
    {
     "name": "stdout",
     "output_type": "stream",
     "text": [
      "Saved to A:\\Projects\\CollegeProjects\\YogaPartner\\intermediates\\v2\\bidalasana_284.jpg\n",
      "Saved to A:\\Projects\\CollegeProjects\\YogaPartner\\intermediates\\v2\\bhujangasana_100.jpg\n"
     ]
    },
    {
     "name": "stderr",
     "output_type": "stream",
     "text": [
      "1136it [03:13,  8.28it/s]"
     ]
    },
    {
     "name": "stdout",
     "output_type": "stream",
     "text": [
      "Saved to A:\\Projects\\CollegeProjects\\YogaPartner\\intermediates\\v2\\adho_mukha_shvanasana_356.jpg\n",
      "Saved to A:\\Projects\\CollegeProjects\\YogaPartner\\intermediates\\v2\\virabhadrasana_ii_276.jpg\n"
     ]
    },
    {
     "name": "stderr",
     "output_type": "stream",
     "text": [
      "1138it [03:14,  7.73it/s]"
     ]
    },
    {
     "name": "stdout",
     "output_type": "stream",
     "text": [
      "Saved to A:\\Projects\\CollegeProjects\\YogaPartner\\intermediates\\v2\\virabhadrasana_ii_319.jpg\n",
      "Saved to A:\\Projects\\CollegeProjects\\YogaPartner\\intermediates\\v2\\bhujangasana_326.jpg\n"
     ]
    },
    {
     "name": "stderr",
     "output_type": "stream",
     "text": [
      "\r",
      "1139it [03:14,  7.92it/s]"
     ]
    },
    {
     "name": "stdout",
     "output_type": "stream",
     "text": [
      "Saved to A:\\Projects\\CollegeProjects\\YogaPartner\\intermediates\\v2\\adho_mukha_shvanasana_352.jpg\n"
     ]
    },
    {
     "name": "stderr",
     "output_type": "stream",
     "text": [
      "1141it [03:14,  6.39it/s]"
     ]
    },
    {
     "name": "stdout",
     "output_type": "stream",
     "text": [
      "Saved to A:\\Projects\\CollegeProjects\\YogaPartner\\intermediates\\v2\\vrikshasana_216.jpg\n",
      "Saved to A:\\Projects\\CollegeProjects\\YogaPartner\\intermediates\\v2\\virabhadrasana_ii_321.jpg\n"
     ]
    },
    {
     "name": "stderr",
     "output_type": "stream",
     "text": [
      "1143it [03:15,  6.48it/s]"
     ]
    },
    {
     "name": "stdout",
     "output_type": "stream",
     "text": [
      "Saved to A:\\Projects\\CollegeProjects\\YogaPartner\\intermediates\\v2\\bidalasana_42.jpg\n",
      "Saved to A:\\Projects\\CollegeProjects\\YogaPartner\\intermediates\\v2\\bhujangasana_105.jpg\n"
     ]
    },
    {
     "name": "stderr",
     "output_type": "stream",
     "text": [
      "1145it [03:15,  4.79it/s]"
     ]
    },
    {
     "name": "stdout",
     "output_type": "stream",
     "text": [
      "Saved to A:\\Projects\\CollegeProjects\\YogaPartner\\intermediates\\v2\\virabhadrasana_i_176.jpg\n",
      "Saved to A:\\Projects\\CollegeProjects\\YogaPartner\\intermediates\\v2\\adho_mukha_shvanasana_358.jpg\n"
     ]
    },
    {
     "name": "stderr",
     "output_type": "stream",
     "text": [
      "1147it [03:15,  6.31it/s]"
     ]
    },
    {
     "name": "stdout",
     "output_type": "stream",
     "text": [
      "Saved to A:\\Projects\\CollegeProjects\\YogaPartner\\intermediates\\v2\\utkata_konasana_106.jpg\n",
      "Saved to A:\\Projects\\CollegeProjects\\YogaPartner\\intermediates\\v2\\bidalasana_263.jpg\n"
     ]
    },
    {
     "name": "stderr",
     "output_type": "stream",
     "text": [
      "1149it [03:16,  7.54it/s]"
     ]
    },
    {
     "name": "stdout",
     "output_type": "stream",
     "text": [
      "Saved to A:\\Projects\\CollegeProjects\\YogaPartner\\intermediates\\v2\\bidalasana_171.jpg\n",
      "Saved to A:\\Projects\\CollegeProjects\\YogaPartner\\intermediates\\v2\\adho_mukha_shvanasana_240.jpg\n"
     ]
    },
    {
     "name": "stderr",
     "output_type": "stream",
     "text": [
      "1151it [03:16,  7.89it/s]"
     ]
    },
    {
     "name": "stdout",
     "output_type": "stream",
     "text": [
      "Saved to A:\\Projects\\CollegeProjects\\YogaPartner\\intermediates\\v2\\virabhadrasana_i_83.jpg\n",
      "Saved to A:\\Projects\\CollegeProjects\\YogaPartner\\intermediates\\v2\\bidalasana_78.jpg\n",
      "Saved to A:\\Projects\\CollegeProjects\\YogaPartner\\intermediates\\v2\\adho_mukha_shvanasana_253.jpg\n"
     ]
    },
    {
     "name": "stderr",
     "output_type": "stream",
     "text": [
      "\r",
      "1153it [03:16,  8.56it/s]"
     ]
    },
    {
     "name": "stdout",
     "output_type": "stream",
     "text": [
      "Saved to A:\\Projects\\CollegeProjects\\YogaPartner\\intermediates\\v2\\bhujangasana_415.jpg\n"
     ]
    },
    {
     "name": "stderr",
     "output_type": "stream",
     "text": [
      "\r",
      "1154it [03:16,  6.79it/s]"
     ]
    },
    {
     "name": "stdout",
     "output_type": "stream",
     "text": [
      "Saved to A:\\Projects\\CollegeProjects\\YogaPartner\\intermediates\\v2\\utkata_konasana_121.jpg\n"
     ]
    },
    {
     "name": "stderr",
     "output_type": "stream",
     "text": [
      "1156it [03:18,  2.06it/s]"
     ]
    },
    {
     "name": "stdout",
     "output_type": "stream",
     "text": [
      "Saved to A:\\Projects\\CollegeProjects\\YogaPartner\\intermediates\\v2\\bhujangasana_451.jpg\n",
      "Saved to A:\\Projects\\CollegeProjects\\YogaPartner\\intermediates\\v2\\adho_mukha_shvanasana_387.jpg\n"
     ]
    },
    {
     "name": "stderr",
     "output_type": "stream",
     "text": [
      "1158it [03:19,  3.13it/s]"
     ]
    },
    {
     "name": "stdout",
     "output_type": "stream",
     "text": [
      "Saved to A:\\Projects\\CollegeProjects\\YogaPartner\\intermediates\\v2\\vrikshasana_21.jpg\n",
      "Saved to A:\\Projects\\CollegeProjects\\YogaPartner\\intermediates\\v2\\utkatasana_203.jpg\n"
     ]
    },
    {
     "name": "stderr",
     "output_type": "stream",
     "text": [
      "1160it [03:19,  4.10it/s]"
     ]
    },
    {
     "name": "stdout",
     "output_type": "stream",
     "text": [
      "Saved to A:\\Projects\\CollegeProjects\\YogaPartner\\intermediates\\v2\\bhujangasana_626.jpg\n",
      "Saved to A:\\Projects\\CollegeProjects\\YogaPartner\\intermediates\\v2\\bidalasana_29.jpeg\n"
     ]
    },
    {
     "name": "stderr",
     "output_type": "stream",
     "text": [
      "1162it [03:19,  5.51it/s]"
     ]
    },
    {
     "name": "stdout",
     "output_type": "stream",
     "text": [
      "Saved to A:\\Projects\\CollegeProjects\\YogaPartner\\intermediates\\v2\\adho_mukha_shvanasana_44.jpg\n",
      "Saved to A:\\Projects\\CollegeProjects\\YogaPartner\\intermediates\\v2\\utkata_konasana_102.jpg\n"
     ]
    },
    {
     "name": "stderr",
     "output_type": "stream",
     "text": [
      "1164it [03:19,  6.87it/s]"
     ]
    },
    {
     "name": "stdout",
     "output_type": "stream",
     "text": [
      "Saved to A:\\Projects\\CollegeProjects\\YogaPartner\\intermediates\\v2\\virabhadrasana_i_178.jpg\n",
      "Saved to A:\\Projects\\CollegeProjects\\YogaPartner\\intermediates\\v2\\adho_mukha_shvanasana_199.jpg\n"
     ]
    },
    {
     "name": "stderr",
     "output_type": "stream",
     "text": [
      "1166it [03:20,  7.65it/s]"
     ]
    },
    {
     "name": "stdout",
     "output_type": "stream",
     "text": [
      "Saved to A:\\Projects\\CollegeProjects\\YogaPartner\\intermediates\\v2\\bhujangasana_541.jpg\n",
      "Saved to A:\\Projects\\CollegeProjects\\YogaPartner\\intermediates\\v2\\vasisthasana_29.jpg\n"
     ]
    },
    {
     "name": "stderr",
     "output_type": "stream",
     "text": [
      "\r",
      "1167it [03:20,  6.33it/s]"
     ]
    },
    {
     "name": "stdout",
     "output_type": "stream",
     "text": [
      "Saved to A:\\Projects\\CollegeProjects\\YogaPartner\\intermediates\\v2\\virabhadrasana_ii_278.jpg\n"
     ]
    },
    {
     "name": "stderr",
     "output_type": "stream",
     "text": [
      "1169it [03:21,  3.80it/s]"
     ]
    },
    {
     "name": "stdout",
     "output_type": "stream",
     "text": [
      "Saved to A:\\Projects\\CollegeProjects\\YogaPartner\\intermediates\\v2\\virabhadrasana_ii_124.jpg\n",
      "Saved to A:\\Projects\\CollegeProjects\\YogaPartner\\intermediates\\v2\\bhujangasana_37.jpg\n"
     ]
    },
    {
     "name": "stderr",
     "output_type": "stream",
     "text": [
      "1171it [03:21,  5.21it/s]"
     ]
    },
    {
     "name": "stdout",
     "output_type": "stream",
     "text": [
      "Saved to A:\\Projects\\CollegeProjects\\YogaPartner\\intermediates\\v2\\bhujangasana_300.jpg\n",
      "Saved to A:\\Projects\\CollegeProjects\\YogaPartner\\intermediates\\v2\\adho_mukha_shvanasana_317.jpg\n",
      "Saved to A:\\Projects\\CollegeProjects\\YogaPartner\\intermediates\\v2\\bhujangasana_544.jpg\n"
     ]
    },
    {
     "name": "stderr",
     "output_type": "stream",
     "text": [
      "1174it [03:22,  5.42it/s]"
     ]
    },
    {
     "name": "stdout",
     "output_type": "stream",
     "text": [
      "Saved to A:\\Projects\\CollegeProjects\\YogaPartner\\intermediates\\v2\\adho_mukha_shvanasana_68.jpg\n",
      "Saved to A:\\Projects\\CollegeProjects\\YogaPartner\\intermediates\\v2\\virabhadrasana_ii_165.jpg\n"
     ]
    },
    {
     "name": "stderr",
     "output_type": "stream",
     "text": [
      "1176it [03:22,  6.51it/s]"
     ]
    },
    {
     "name": "stdout",
     "output_type": "stream",
     "text": [
      "Saved to A:\\Projects\\CollegeProjects\\YogaPartner\\intermediates\\v2\\phalakasana_80.jpg\n",
      "Saved to A:\\Projects\\CollegeProjects\\YogaPartner\\intermediates\\v2\\virabhadrasana_ii_98.jpg\n"
     ]
    },
    {
     "name": "stderr",
     "output_type": "stream",
     "text": [
      "1178it [03:22,  6.52it/s]"
     ]
    },
    {
     "name": "stdout",
     "output_type": "stream",
     "text": [
      "Saved to A:\\Projects\\CollegeProjects\\YogaPartner\\intermediates\\v2\\utkatasana_141.jpg\n",
      "Saved to A:\\Projects\\CollegeProjects\\YogaPartner\\intermediates\\v2\\utkata_konasana_138.jpg\n"
     ]
    },
    {
     "name": "stderr",
     "output_type": "stream",
     "text": [
      "\r",
      "1179it [03:22,  5.96it/s]"
     ]
    },
    {
     "name": "stdout",
     "output_type": "stream",
     "text": [
      "Saved to A:\\Projects\\CollegeProjects\\YogaPartner\\intermediates\\v2\\virabhadrasana_ii_148.jpg\n"
     ]
    },
    {
     "name": "stderr",
     "output_type": "stream",
     "text": [
      "1181it [03:23,  3.88it/s]"
     ]
    },
    {
     "name": "stdout",
     "output_type": "stream",
     "text": [
      "Saved to A:\\Projects\\CollegeProjects\\YogaPartner\\intermediates\\v2\\vrikshasana_169.jpg\n",
      "Saved to A:\\Projects\\CollegeProjects\\YogaPartner\\intermediates\\v2\\phalakasana_4.jpg\n"
     ]
    },
    {
     "name": "stderr",
     "output_type": "stream",
     "text": [
      "1183it [03:23,  5.43it/s]"
     ]
    },
    {
     "name": "stdout",
     "output_type": "stream",
     "text": [
      "Saved to A:\\Projects\\CollegeProjects\\YogaPartner\\intermediates\\v2\\bidalasana_145.jpg\n",
      "Saved to A:\\Projects\\CollegeProjects\\YogaPartner\\intermediates\\v2\\adho_mukha_shvanasana_432.jpg\n"
     ]
    },
    {
     "name": "stderr",
     "output_type": "stream",
     "text": [
      "1185it [03:24,  5.61it/s]"
     ]
    },
    {
     "name": "stdout",
     "output_type": "stream",
     "text": [
      "Saved to A:\\Projects\\CollegeProjects\\YogaPartner\\intermediates\\v2\\virabhadrasana_i_34.jpg\n",
      "Saved to A:\\Projects\\CollegeProjects\\YogaPartner\\intermediates\\v2\\adho_mukha_shvanasana_413.jpg\n"
     ]
    },
    {
     "name": "stderr",
     "output_type": "stream",
     "text": [
      "1188it [03:24,  7.10it/s]"
     ]
    },
    {
     "name": "stdout",
     "output_type": "stream",
     "text": [
      "Saved to A:\\Projects\\CollegeProjects\\YogaPartner\\intermediates\\v2\\adho_mukha_shvanasana_69.jpg\n",
      "Saved to A:\\Projects\\CollegeProjects\\YogaPartner\\intermediates\\v2\\bhujangasana_138.jpg\n",
      "Saved to A:\\Projects\\CollegeProjects\\YogaPartner\\intermediates\\v2\\utkatasana_66.jpg\n"
     ]
    },
    {
     "name": "stderr",
     "output_type": "stream",
     "text": [
      "1190it [03:24,  7.20it/s]"
     ]
    },
    {
     "name": "stdout",
     "output_type": "stream",
     "text": [
      "Saved to A:\\Projects\\CollegeProjects\\YogaPartner\\intermediates\\v2\\bhujangasana_263.jpg\n",
      "Saved to A:\\Projects\\CollegeProjects\\YogaPartner\\intermediates\\v2\\vrikshasana_51.jpg\n"
     ]
    },
    {
     "name": "stderr",
     "output_type": "stream",
     "text": [
      "\r",
      "1191it [03:24,  7.14it/s]"
     ]
    },
    {
     "name": "stdout",
     "output_type": "stream",
     "text": [
      "Saved to A:\\Projects\\CollegeProjects\\YogaPartner\\intermediates\\v2\\bhujangasana_386.jpg\n"
     ]
    },
    {
     "name": "stderr",
     "output_type": "stream",
     "text": [
      "\r",
      "1192it [03:25,  6.11it/s]"
     ]
    },
    {
     "name": "stdout",
     "output_type": "stream",
     "text": [
      "Saved to A:\\Projects\\CollegeProjects\\YogaPartner\\intermediates\\v2\\bidalasana_157.jpg\n"
     ]
    },
    {
     "name": "stderr",
     "output_type": "stream",
     "text": [
      "1194it [03:25,  5.37it/s]"
     ]
    },
    {
     "name": "stdout",
     "output_type": "stream",
     "text": [
      "Saved to A:\\Projects\\CollegeProjects\\YogaPartner\\intermediates\\v2\\adho_mukha_shvanasana_419.jpg\n",
      "Saved to A:\\Projects\\CollegeProjects\\YogaPartner\\intermediates\\v2\\virabhadrasana_ii_50.jpg\n"
     ]
    },
    {
     "name": "stderr",
     "output_type": "stream",
     "text": [
      "1196it [03:26,  5.12it/s]"
     ]
    },
    {
     "name": "stdout",
     "output_type": "stream",
     "text": [
      "Saved to A:\\Projects\\CollegeProjects\\YogaPartner\\intermediates\\v2\\virabhadrasana_ii_346.jpg\n",
      "Saved to A:\\Projects\\CollegeProjects\\YogaPartner\\intermediates\\v2\\bhujangasana_89.jpg\n"
     ]
    },
    {
     "name": "stderr",
     "output_type": "stream",
     "text": [
      "1198it [03:26,  5.82it/s]"
     ]
    },
    {
     "name": "stdout",
     "output_type": "stream",
     "text": [
      "Saved to A:\\Projects\\CollegeProjects\\YogaPartner\\intermediates\\v2\\utkatasana_195.jpg\n",
      "Saved to A:\\Projects\\CollegeProjects\\YogaPartner\\intermediates\\v2\\bidalasana_99.jpg\n"
     ]
    },
    {
     "name": "stderr",
     "output_type": "stream",
     "text": [
      "\r",
      "1199it [03:26,  6.60it/s]"
     ]
    },
    {
     "name": "stdout",
     "output_type": "stream",
     "text": [
      "Saved to A:\\Projects\\CollegeProjects\\YogaPartner\\intermediates\\v2\\adho_mukha_shvanasana_117.jpg\n"
     ]
    },
    {
     "name": "stderr",
     "output_type": "stream",
     "text": [
      "1201it [03:27,  4.47it/s]"
     ]
    },
    {
     "name": "stdout",
     "output_type": "stream",
     "text": [
      "Saved to A:\\Projects\\CollegeProjects\\YogaPartner\\intermediates\\v2\\utkata_konasana_129.jpg\n",
      "Saved to A:\\Projects\\CollegeProjects\\YogaPartner\\intermediates\\v2\\bhujangasana_225.jpg\n"
     ]
    },
    {
     "name": "stderr",
     "output_type": "stream",
     "text": [
      "1203it [03:27,  4.89it/s]"
     ]
    },
    {
     "name": "stdout",
     "output_type": "stream",
     "text": [
      "Saved to A:\\Projects\\CollegeProjects\\YogaPartner\\intermediates\\v2\\utkatasana_158.jpg\n",
      "Saved to A:\\Projects\\CollegeProjects\\YogaPartner\\intermediates\\v2\\virabhadrasana_ii_85.jpg\n"
     ]
    },
    {
     "name": "stderr",
     "output_type": "stream",
     "text": [
      "\r",
      "1204it [03:27,  5.76it/s]"
     ]
    },
    {
     "name": "stdout",
     "output_type": "stream",
     "text": [
      "Saved to A:\\Projects\\CollegeProjects\\YogaPartner\\intermediates\\v2\\adho_mukha_shvanasana_66.jpg\n",
      "Saved to A:\\Projects\\CollegeProjects\\YogaPartner\\intermediates\\v2\\bidalasana_102.jpg\n"
     ]
    },
    {
     "name": "stderr",
     "output_type": "stream",
     "text": [
      "1207it [03:28,  6.30it/s]"
     ]
    },
    {
     "name": "stdout",
     "output_type": "stream",
     "text": [
      "Saved to A:\\Projects\\CollegeProjects\\YogaPartner\\intermediates\\v2\\adho_mukha_shvanasana_228.jpg\n",
      "Saved to A:\\Projects\\CollegeProjects\\YogaPartner\\intermediates\\v2\\bidalasana_268.jpg\n"
     ]
    },
    {
     "name": "stderr",
     "output_type": "stream",
     "text": [
      "1209it [03:28,  6.39it/s]"
     ]
    },
    {
     "name": "stdout",
     "output_type": "stream",
     "text": [
      "Saved to A:\\Projects\\CollegeProjects\\YogaPartner\\intermediates\\v2\\bhujangasana_434.jpg\n",
      "Saved to A:\\Projects\\CollegeProjects\\YogaPartner\\intermediates\\v2\\bhujangasana_442.jpg\n"
     ]
    },
    {
     "name": "stderr",
     "output_type": "stream",
     "text": [
      "1212it [03:28,  5.72it/s]"
     ]
    },
    {
     "name": "stdout",
     "output_type": "stream",
     "text": [
      "Saved to A:\\Projects\\CollegeProjects\\YogaPartner\\intermediates\\v2\\utkatasana_24.jpg\n",
      "Saved to A:\\Projects\\CollegeProjects\\YogaPartner\\intermediates\\v2\\utkatasana_109.jpg\n",
      "Saved to A:\\Projects\\CollegeProjects\\YogaPartner\\intermediates\\v2\\virabhadrasana_ii_287.jpg\n"
     ]
    },
    {
     "name": "stderr",
     "output_type": "stream",
     "text": [
      "1214it [03:29,  6.34it/s]"
     ]
    },
    {
     "name": "stdout",
     "output_type": "stream",
     "text": [
      "Saved to A:\\Projects\\CollegeProjects\\YogaPartner\\intermediates\\v2\\utkata_konasana_124.jpg\n",
      "Saved to A:\\Projects\\CollegeProjects\\YogaPartner\\intermediates\\v2\\virabhadrasana_ii_25.jpg\n"
     ]
    },
    {
     "name": "stderr",
     "output_type": "stream",
     "text": [
      "1217it [03:29,  8.09it/s]"
     ]
    },
    {
     "name": "stdout",
     "output_type": "stream",
     "text": [
      "Saved to A:\\Projects\\CollegeProjects\\YogaPartner\\intermediates\\v2\\adho_mukha_shvanasana_153.jpg\n",
      "Saved to A:\\Projects\\CollegeProjects\\YogaPartner\\intermediates\\v2\\virabhadrasana_ii_229.jpg\n",
      "Saved to A:\\Projects\\CollegeProjects\\YogaPartner\\intermediates\\v2\\bidalasana_215.jpg\n"
     ]
    },
    {
     "name": "stderr",
     "output_type": "stream",
     "text": [
      "\r",
      "1218it [03:29,  8.11it/s]"
     ]
    },
    {
     "name": "stdout",
     "output_type": "stream",
     "text": [
      "Saved to A:\\Projects\\CollegeProjects\\YogaPartner\\intermediates\\v2\\vrikshasana_187.jpg\n",
      "Saved to A:\\Projects\\CollegeProjects\\YogaPartner\\intermediates\\v2\\bhujangasana_403.jpg\n"
     ]
    },
    {
     "name": "stderr",
     "output_type": "stream",
     "text": [
      "1221it [03:29,  8.28it/s]"
     ]
    },
    {
     "name": "stdout",
     "output_type": "stream",
     "text": [
      "Saved to A:\\Projects\\CollegeProjects\\YogaPartner\\intermediates\\v2\\utkata_konasana_142.jpg\n",
      "Saved to A:\\Projects\\CollegeProjects\\YogaPartner\\intermediates\\v2\\virabhadrasana_ii_372.jpg\n"
     ]
    },
    {
     "name": "stderr",
     "output_type": "stream",
     "text": [
      "1223it [03:30,  7.97it/s]"
     ]
    },
    {
     "name": "stdout",
     "output_type": "stream",
     "text": [
      "Saved to A:\\Projects\\CollegeProjects\\YogaPartner\\intermediates\\v2\\bidalasana_261.jpg\n",
      "Saved to A:\\Projects\\CollegeProjects\\YogaPartner\\intermediates\\v2\\bidalasana_219.jpg\n"
     ]
    },
    {
     "name": "stderr",
     "output_type": "stream",
     "text": [
      "1225it [03:30,  8.00it/s]"
     ]
    },
    {
     "name": "stdout",
     "output_type": "stream",
     "text": [
      "Saved to A:\\Projects\\CollegeProjects\\YogaPartner\\intermediates\\v2\\bhujangasana_162.jpg\n",
      "Saved to A:\\Projects\\CollegeProjects\\YogaPartner\\intermediates\\v2\\virabhadrasana_i_207.jpg\n"
     ]
    },
    {
     "name": "stderr",
     "output_type": "stream",
     "text": [
      "1227it [03:30,  7.82it/s]"
     ]
    },
    {
     "name": "stdout",
     "output_type": "stream",
     "text": [
      "Saved to A:\\Projects\\CollegeProjects\\YogaPartner\\intermediates\\v2\\vrikshasana_22.jpg\n",
      "Saved to A:\\Projects\\CollegeProjects\\YogaPartner\\intermediates\\v2\\virabhadrasana_i_49.jpg\n"
     ]
    },
    {
     "name": "stderr",
     "output_type": "stream",
     "text": [
      "\r",
      "1228it [03:31,  6.28it/s]"
     ]
    },
    {
     "name": "stdout",
     "output_type": "stream",
     "text": [
      "Saved to A:\\Projects\\CollegeProjects\\YogaPartner\\intermediates\\v2\\vrikshasana_90.jpg\n"
     ]
    },
    {
     "name": "stderr",
     "output_type": "stream",
     "text": [
      "1230it [03:31,  6.44it/s]"
     ]
    },
    {
     "name": "stdout",
     "output_type": "stream",
     "text": [
      "Saved to A:\\Projects\\CollegeProjects\\YogaPartner\\intermediates\\v2\\bhujangasana_446.jpg\n",
      "Saved to A:\\Projects\\CollegeProjects\\YogaPartner\\intermediates\\v2\\bidalasana_260.jpg\n"
     ]
    },
    {
     "name": "stderr",
     "output_type": "stream",
     "text": [
      "1232it [03:31,  7.59it/s]"
     ]
    },
    {
     "name": "stdout",
     "output_type": "stream",
     "text": [
      "Saved to A:\\Projects\\CollegeProjects\\YogaPartner\\intermediates\\v2\\ustrasana_62.jpg\n",
      "Saved to A:\\Projects\\CollegeProjects\\YogaPartner\\intermediates\\v2\\adho_mukha_shvanasana_363.jpg\n"
     ]
    },
    {
     "name": "stderr",
     "output_type": "stream",
     "text": [
      "1235it [03:31,  8.72it/s]"
     ]
    },
    {
     "name": "stdout",
     "output_type": "stream",
     "text": [
      "Saved to A:\\Projects\\CollegeProjects\\YogaPartner\\intermediates\\v2\\utkata_konasana_40.jpg\n",
      "Saved to A:\\Projects\\CollegeProjects\\YogaPartner\\intermediates\\v2\\bhujangasana_502.jpg\n",
      "Saved to A:\\Projects\\CollegeProjects\\YogaPartner\\intermediates\\v2\\vrikshasana_86.jpg\n"
     ]
    },
    {
     "name": "stderr",
     "output_type": "stream",
     "text": [
      "1237it [03:32,  7.81it/s]"
     ]
    },
    {
     "name": "stdout",
     "output_type": "stream",
     "text": [
      "Saved to A:\\Projects\\CollegeProjects\\YogaPartner\\intermediates\\v2\\bhujangasana_166.jpg\n",
      "Saved to A:\\Projects\\CollegeProjects\\YogaPartner\\intermediates\\v2\\adho_mukha_shvanasana_171.jpg\n"
     ]
    },
    {
     "name": "stderr",
     "output_type": "stream",
     "text": [
      "1239it [03:32,  7.90it/s]"
     ]
    },
    {
     "name": "stdout",
     "output_type": "stream",
     "text": [
      "Saved to A:\\Projects\\CollegeProjects\\YogaPartner\\intermediates\\v2\\vasisthasana_96.jpg\n",
      "Saved to A:\\Projects\\CollegeProjects\\YogaPartner\\intermediates\\v2\\bidalasana_52.jpeg\n"
     ]
    },
    {
     "name": "stderr",
     "output_type": "stream",
     "text": [
      "1241it [03:32,  7.49it/s]"
     ]
    },
    {
     "name": "stdout",
     "output_type": "stream",
     "text": [
      "Saved to A:\\Projects\\CollegeProjects\\YogaPartner\\intermediates\\v2\\adho_mukha_shvanasana_274.jpg\n",
      "Saved to A:\\Projects\\CollegeProjects\\YogaPartner\\intermediates\\v2\\ustrasana_48.jpg\n"
     ]
    },
    {
     "name": "stderr",
     "output_type": "stream",
     "text": [
      "1243it [03:32,  7.70it/s]"
     ]
    },
    {
     "name": "stdout",
     "output_type": "stream",
     "text": [
      "Saved to A:\\Projects\\CollegeProjects\\YogaPartner\\intermediates\\v2\\bidalasana_66.jpg\n",
      "Saved to A:\\Projects\\CollegeProjects\\YogaPartner\\intermediates\\v2\\utkata_konasana_182.jpg\n"
     ]
    },
    {
     "name": "stderr",
     "output_type": "stream",
     "text": [
      "1245it [03:33,  7.57it/s]"
     ]
    },
    {
     "name": "stdout",
     "output_type": "stream",
     "text": [
      "Saved to A:\\Projects\\CollegeProjects\\YogaPartner\\intermediates\\v2\\vrikshasana_74.jpg\n",
      "Saved to A:\\Projects\\CollegeProjects\\YogaPartner\\intermediates\\v2\\adho_mukha_shvanasana_431.jpg\n"
     ]
    },
    {
     "name": "stderr",
     "output_type": "stream",
     "text": [
      "\r",
      "1247it [03:33,  8.67it/s]"
     ]
    },
    {
     "name": "stdout",
     "output_type": "stream",
     "text": [
      "Saved to A:\\Projects\\CollegeProjects\\YogaPartner\\intermediates\\v2\\bhujangasana_607.jpg\n",
      "Saved to A:\\Projects\\CollegeProjects\\YogaPartner\\intermediates\\v2\\ustrasana_39.jpg\n"
     ]
    },
    {
     "name": "stderr",
     "output_type": "stream",
     "text": [
      "1249it [03:33,  8.09it/s]"
     ]
    },
    {
     "name": "stdout",
     "output_type": "stream",
     "text": [
      "Saved to A:\\Projects\\CollegeProjects\\YogaPartner\\intermediates\\v2\\bidalasana_43.jpg\n",
      "Saved to A:\\Projects\\CollegeProjects\\YogaPartner\\intermediates\\v2\\adho_mukha_shvanasana_409.jpg\n"
     ]
    },
    {
     "name": "stderr",
     "output_type": "stream",
     "text": [
      "1251it [03:33,  7.30it/s]"
     ]
    },
    {
     "name": "stdout",
     "output_type": "stream",
     "text": [
      "Saved to A:\\Projects\\CollegeProjects\\YogaPartner\\intermediates\\v2\\vrikshasana_206.jpg\n",
      "Saved to A:\\Projects\\CollegeProjects\\YogaPartner\\intermediates\\v2\\virabhadrasana_ii_358.jpg\n"
     ]
    },
    {
     "name": "stderr",
     "output_type": "stream",
     "text": [
      "\r",
      "1252it [03:34,  5.80it/s]"
     ]
    },
    {
     "name": "stdout",
     "output_type": "stream",
     "text": [
      "Saved to A:\\Projects\\CollegeProjects\\YogaPartner\\intermediates\\v2\\adho_mukha_shvanasana_32.jpg\n",
      "Saved to A:\\Projects\\CollegeProjects\\YogaPartner\\intermediates\\v2\\bhujangasana_595.jpg\n"
     ]
    },
    {
     "name": "stderr",
     "output_type": "stream",
     "text": [
      "\r",
      "1254it [03:34,  5.87it/s]"
     ]
    },
    {
     "name": "stdout",
     "output_type": "stream",
     "text": [
      "Saved to A:\\Projects\\CollegeProjects\\YogaPartner\\intermediates\\v2\\virabhadrasana_i_131.jpg\n"
     ]
    },
    {
     "name": "stderr",
     "output_type": "stream",
     "text": [
      "1256it [03:34,  6.18it/s]"
     ]
    },
    {
     "name": "stdout",
     "output_type": "stream",
     "text": [
      "Saved to A:\\Projects\\CollegeProjects\\YogaPartner\\intermediates\\v2\\virabhadrasana_ii_330.jpg\n",
      "Saved to A:\\Projects\\CollegeProjects\\YogaPartner\\intermediates\\v2\\bhujangasana_51.jpg\n"
     ]
    },
    {
     "name": "stderr",
     "output_type": "stream",
     "text": [
      "\r",
      "1257it [03:35,  5.01it/s]"
     ]
    },
    {
     "name": "stdout",
     "output_type": "stream",
     "text": [
      "Saved to A:\\Projects\\CollegeProjects\\YogaPartner\\intermediates\\v2\\adho_mukha_shvanasana_27.jpg\n"
     ]
    },
    {
     "name": "stderr",
     "output_type": "stream",
     "text": [
      "1259it [03:35,  4.80it/s]"
     ]
    },
    {
     "name": "stdout",
     "output_type": "stream",
     "text": [
      "Saved to A:\\Projects\\CollegeProjects\\YogaPartner\\intermediates\\v2\\vrikshasana_291.jpg\n",
      "Saved to A:\\Projects\\CollegeProjects\\YogaPartner\\intermediates\\v2\\bhujangasana_228.jpg\n"
     ]
    },
    {
     "name": "stderr",
     "output_type": "stream",
     "text": [
      "\r",
      "1260it [03:35,  5.44it/s]"
     ]
    },
    {
     "name": "stdout",
     "output_type": "stream",
     "text": [
      "Saved to A:\\Projects\\CollegeProjects\\YogaPartner\\intermediates\\v2\\virabhadrasana_i_91.jpg\n"
     ]
    },
    {
     "name": "stderr",
     "output_type": "stream",
     "text": [
      "1262it [03:36,  3.98it/s]"
     ]
    },
    {
     "name": "stdout",
     "output_type": "stream",
     "text": [
      "Saved to A:\\Projects\\CollegeProjects\\YogaPartner\\intermediates\\v2\\bhujangasana_392.jpg\n",
      "Saved to A:\\Projects\\CollegeProjects\\YogaPartner\\intermediates\\v2\\ustrasana_63.jpg\n"
     ]
    },
    {
     "name": "stderr",
     "output_type": "stream",
     "text": [
      "1264it [03:36,  5.35it/s]"
     ]
    },
    {
     "name": "stdout",
     "output_type": "stream",
     "text": [
      "Saved to A:\\Projects\\CollegeProjects\\YogaPartner\\intermediates\\v2\\adho_mukha_shvanasana_129.jpg\n",
      "Saved to A:\\Projects\\CollegeProjects\\YogaPartner\\intermediates\\v2\\bidalasana_8.jpg\n",
      "Saved to A:\\Projects\\CollegeProjects\\YogaPartner\\intermediates\\v2\\phalakasana_142.jpg\n"
     ]
    },
    {
     "name": "stderr",
     "output_type": "stream",
     "text": [
      "1267it [03:37,  6.51it/s]"
     ]
    },
    {
     "name": "stdout",
     "output_type": "stream",
     "text": [
      "Saved to A:\\Projects\\CollegeProjects\\YogaPartner\\intermediates\\v2\\virabhadrasana_ii_349.jpg\n",
      "Saved to A:\\Projects\\CollegeProjects\\YogaPartner\\intermediates\\v2\\utkatasana_139.jpg\n"
     ]
    },
    {
     "name": "stderr",
     "output_type": "stream",
     "text": [
      "1269it [03:37,  7.03it/s]"
     ]
    },
    {
     "name": "stdout",
     "output_type": "stream",
     "text": [
      "Saved to A:\\Projects\\CollegeProjects\\YogaPartner\\intermediates\\v2\\virabhadrasana_ii_7.jpg\n",
      "Saved to A:\\Projects\\CollegeProjects\\YogaPartner\\intermediates\\v2\\vasisthasana_5.jpg\n",
      "Saved to A:\\Projects\\CollegeProjects\\YogaPartner\\intermediates\\v2\\utkata_konasana_67.jpg\n"
     ]
    },
    {
     "name": "stderr",
     "output_type": "stream",
     "text": [
      "1272it [03:37,  8.16it/s]"
     ]
    },
    {
     "name": "stdout",
     "output_type": "stream",
     "text": [
      "Saved to A:\\Projects\\CollegeProjects\\YogaPartner\\intermediates\\v2\\virabhadrasana_i_115.jpg\n",
      "Saved to A:\\Projects\\CollegeProjects\\YogaPartner\\intermediates\\v2\\virabhadrasana_ii_387.jpg\n"
     ]
    },
    {
     "name": "stderr",
     "output_type": "stream",
     "text": [
      "1274it [03:38,  7.50it/s]"
     ]
    },
    {
     "name": "stdout",
     "output_type": "stream",
     "text": [
      "Saved to A:\\Projects\\CollegeProjects\\YogaPartner\\intermediates\\v2\\adho_mukha_shvanasana_349.jpg\n",
      "Saved to A:\\Projects\\CollegeProjects\\YogaPartner\\intermediates\\v2\\virabhadrasana_ii_113.jpg\n"
     ]
    },
    {
     "name": "stderr",
     "output_type": "stream",
     "text": [
      "\r",
      "1275it [03:38,  7.31it/s]"
     ]
    },
    {
     "name": "stdout",
     "output_type": "stream",
     "text": [
      "Saved to A:\\Projects\\CollegeProjects\\YogaPartner\\intermediates\\v2\\virabhadrasana_ii_11.jpg\n"
     ]
    },
    {
     "name": "stderr",
     "output_type": "stream",
     "text": [
      "1277it [03:38,  6.90it/s]"
     ]
    },
    {
     "name": "stdout",
     "output_type": "stream",
     "text": [
      "Saved to A:\\Projects\\CollegeProjects\\YogaPartner\\intermediates\\v2\\virabhadrasana_i_47.jpg\n",
      "Saved to A:\\Projects\\CollegeProjects\\YogaPartner\\intermediates\\v2\\utkata_konasana_34.jpg\n"
     ]
    },
    {
     "name": "stderr",
     "output_type": "stream",
     "text": [
      "1279it [03:38,  7.49it/s]"
     ]
    },
    {
     "name": "stdout",
     "output_type": "stream",
     "text": [
      "Saved to A:\\Projects\\CollegeProjects\\YogaPartner\\intermediates\\v2\\bhujangasana_93.jpg\n",
      "No pose detected - length  - .\\data\\v2\\vrikshasana\\vrikshasana_32.jpg\n",
      "Saved to A:\\Projects\\CollegeProjects\\YogaPartner\\intermediates\\v2\\vrikshasana_32.jpg\n"
     ]
    },
    {
     "name": "stderr",
     "output_type": "stream",
     "text": [
      "1281it [03:38,  7.88it/s]"
     ]
    },
    {
     "name": "stdout",
     "output_type": "stream",
     "text": [
      "Saved to A:\\Projects\\CollegeProjects\\YogaPartner\\intermediates\\v2\\adho_mukha_shvanasana_386.jpg\n",
      "Saved to A:\\Projects\\CollegeProjects\\YogaPartner\\intermediates\\v2\\bhujangasana_455.jpg\n"
     ]
    },
    {
     "name": "stderr",
     "output_type": "stream",
     "text": [
      "\r",
      "1283it [03:39,  7.80it/s]"
     ]
    },
    {
     "name": "stdout",
     "output_type": "stream",
     "text": [
      "Saved to A:\\Projects\\CollegeProjects\\YogaPartner\\intermediates\\v2\\adho_mukha_shvanasana_202.jpg\n",
      "Saved to A:\\Projects\\CollegeProjects\\YogaPartner\\intermediates\\v2\\virabhadrasana_ii_364.jpg\n"
     ]
    },
    {
     "name": "stderr",
     "output_type": "stream",
     "text": [
      "1285it [03:39,  4.87it/s]"
     ]
    },
    {
     "name": "stdout",
     "output_type": "stream",
     "text": [
      "Saved to A:\\Projects\\CollegeProjects\\YogaPartner\\intermediates\\v2\\adho_mukha_shvanasana_335.jpg\n",
      "Saved to A:\\Projects\\CollegeProjects\\YogaPartner\\intermediates\\v2\\virabhadrasana_ii_239.jpg\n"
     ]
    },
    {
     "name": "stderr",
     "output_type": "stream",
     "text": [
      "1287it [03:40,  5.26it/s]"
     ]
    },
    {
     "name": "stdout",
     "output_type": "stream",
     "text": [
      "Saved to A:\\Projects\\CollegeProjects\\YogaPartner\\intermediates\\v2\\utkatasana_27.jpg\n",
      "Saved to A:\\Projects\\CollegeProjects\\YogaPartner\\intermediates\\v2\\phalakasana_115.jpg\n"
     ]
    },
    {
     "name": "stderr",
     "output_type": "stream",
     "text": [
      "\r",
      "1289it [03:40,  6.57it/s]"
     ]
    },
    {
     "name": "stdout",
     "output_type": "stream",
     "text": [
      "Saved to A:\\Projects\\CollegeProjects\\YogaPartner\\intermediates\\v2\\bhujangasana_356.jpg\n",
      "Saved to A:\\Projects\\CollegeProjects\\YogaPartner\\intermediates\\v2\\bhujangasana_23.jpg\n"
     ]
    },
    {
     "name": "stderr",
     "output_type": "stream",
     "text": [
      "1291it [03:40,  6.78it/s]"
     ]
    },
    {
     "name": "stdout",
     "output_type": "stream",
     "text": [
      "Saved to A:\\Projects\\CollegeProjects\\YogaPartner\\intermediates\\v2\\adho_mukha_shvanasana_281.jpg\n",
      "Saved to A:\\Projects\\CollegeProjects\\YogaPartner\\intermediates\\v2\\virabhadrasana_ii_268.jpg\n"
     ]
    },
    {
     "name": "stderr",
     "output_type": "stream",
     "text": [
      "\r",
      "1293it [03:40,  7.91it/s]"
     ]
    },
    {
     "name": "stdout",
     "output_type": "stream",
     "text": [
      "Saved to A:\\Projects\\CollegeProjects\\YogaPartner\\intermediates\\v2\\virabhadrasana_ii_149.jpg\n",
      "Saved to A:\\Projects\\CollegeProjects\\YogaPartner\\intermediates\\v2\\virabhadrasana_i_220.jpg\n"
     ]
    },
    {
     "name": "stderr",
     "output_type": "stream",
     "text": [
      "\r",
      "1294it [03:41,  7.93it/s]"
     ]
    },
    {
     "name": "stdout",
     "output_type": "stream",
     "text": [
      "Saved to A:\\Projects\\CollegeProjects\\YogaPartner\\intermediates\\v2\\utkata_konasana_203.jpg\n"
     ]
    },
    {
     "name": "stderr",
     "output_type": "stream",
     "text": [
      "1296it [03:42,  3.17it/s]"
     ]
    },
    {
     "name": "stdout",
     "output_type": "stream",
     "text": [
      "Saved to A:\\Projects\\CollegeProjects\\YogaPartner\\intermediates\\v2\\utkata_konasana_198.jpg\n",
      "Saved to A:\\Projects\\CollegeProjects\\YogaPartner\\intermediates\\v2\\virabhadrasana_ii_139.jpg\n"
     ]
    },
    {
     "name": "stderr",
     "output_type": "stream",
     "text": [
      "1299it [03:42,  5.28it/s]"
     ]
    },
    {
     "name": "stdout",
     "output_type": "stream",
     "text": [
      "Saved to A:\\Projects\\CollegeProjects\\YogaPartner\\intermediates\\v2\\bhujangasana_113.jpg\n",
      "Saved to A:\\Projects\\CollegeProjects\\YogaPartner\\intermediates\\v2\\bhujangasana_583.jpg\n",
      "Saved to A:\\Projects\\CollegeProjects\\YogaPartner\\intermediates\\v2\\virabhadrasana_i_195.jpg\n"
     ]
    },
    {
     "name": "stderr",
     "output_type": "stream",
     "text": [
      "1301it [03:42,  6.23it/s]"
     ]
    },
    {
     "name": "stdout",
     "output_type": "stream",
     "text": [
      "Saved to A:\\Projects\\CollegeProjects\\YogaPartner\\intermediates\\v2\\bidalasana_218.jpg\n",
      "Saved to A:\\Projects\\CollegeProjects\\YogaPartner\\intermediates\\v2\\bhujangasana_621.jpg\n",
      "Saved to A:\\Projects\\CollegeProjects\\YogaPartner\\intermediates\\v2\\phalakasana_125.jpg\n"
     ]
    },
    {
     "name": "stderr",
     "output_type": "stream",
     "text": [
      "1304it [03:43,  7.23it/s]"
     ]
    },
    {
     "name": "stdout",
     "output_type": "stream",
     "text": [
      "Saved to A:\\Projects\\CollegeProjects\\YogaPartner\\intermediates\\v2\\bhujangasana_179.jpg\n",
      "Saved to A:\\Projects\\CollegeProjects\\YogaPartner\\intermediates\\v2\\vrikshasana_255.jpg\n"
     ]
    },
    {
     "name": "stderr",
     "output_type": "stream",
     "text": [
      "\r",
      "1306it [03:43,  8.30it/s]"
     ]
    },
    {
     "name": "stdout",
     "output_type": "stream",
     "text": [
      "Saved to A:\\Projects\\CollegeProjects\\YogaPartner\\intermediates\\v2\\virabhadrasana_ii_114.jpg\n",
      "Saved to A:\\Projects\\CollegeProjects\\YogaPartner\\intermediates\\v2\\virabhadrasana_ii_317.jpg\n"
     ]
    },
    {
     "name": "stderr",
     "output_type": "stream",
     "text": [
      "1309it [03:43,  8.96it/s]"
     ]
    },
    {
     "name": "stdout",
     "output_type": "stream",
     "text": [
      "Saved to A:\\Projects\\CollegeProjects\\YogaPartner\\intermediates\\v2\\virabhadrasana_ii_96.jpg\n",
      "Saved to A:\\Projects\\CollegeProjects\\YogaPartner\\intermediates\\v2\\bidalasana_314.jpg\n",
      "Saved to A:\\Projects\\CollegeProjects\\YogaPartner\\intermediates\\v2\\adho_mukha_shvanasana_299.jpg\n"
     ]
    },
    {
     "name": "stderr",
     "output_type": "stream",
     "text": [
      "\r",
      "1311it [03:43,  9.86it/s]"
     ]
    },
    {
     "name": "stdout",
     "output_type": "stream",
     "text": [
      "No pose detected - length  - .\\data\\v2\\utkatasana\\utkatasana_136.jpg\n",
      "Saved to A:\\Projects\\CollegeProjects\\YogaPartner\\intermediates\\v2\\utkatasana_136.jpg\n",
      "Saved to A:\\Projects\\CollegeProjects\\YogaPartner\\intermediates\\v2\\bhujangasana_195.jpg\n"
     ]
    },
    {
     "name": "stderr",
     "output_type": "stream",
     "text": [
      "1313it [03:44,  8.92it/s]"
     ]
    },
    {
     "name": "stdout",
     "output_type": "stream",
     "text": [
      "Saved to A:\\Projects\\CollegeProjects\\YogaPartner\\intermediates\\v2\\bhujangasana_47.jpg\n",
      "Saved to A:\\Projects\\CollegeProjects\\YogaPartner\\intermediates\\v2\\virabhadrasana_ii_232.jpg\n"
     ]
    },
    {
     "name": "stderr",
     "output_type": "stream",
     "text": [
      "1315it [03:44,  8.58it/s]"
     ]
    },
    {
     "name": "stdout",
     "output_type": "stream",
     "text": [
      "Saved to A:\\Projects\\CollegeProjects\\YogaPartner\\intermediates\\v2\\adho_mukha_shvanasana_433.jpg\n",
      "Saved to A:\\Projects\\CollegeProjects\\YogaPartner\\intermediates\\v2\\vrikshasana_89.jpg\n"
     ]
    },
    {
     "name": "stderr",
     "output_type": "stream",
     "text": [
      "1317it [03:44,  7.97it/s]"
     ]
    },
    {
     "name": "stdout",
     "output_type": "stream",
     "text": [
      "Saved to A:\\Projects\\CollegeProjects\\YogaPartner\\intermediates\\v2\\vrikshasana_36.jpg\n",
      "Saved to A:\\Projects\\CollegeProjects\\YogaPartner\\intermediates\\v2\\virabhadrasana_i_123.jpg\n"
     ]
    },
    {
     "name": "stderr",
     "output_type": "stream",
     "text": [
      "1319it [03:44,  7.81it/s]"
     ]
    },
    {
     "name": "stdout",
     "output_type": "stream",
     "text": [
      "Saved to A:\\Projects\\CollegeProjects\\YogaPartner\\intermediates\\v2\\vrikshasana_71.jpg\n",
      "Saved to A:\\Projects\\CollegeProjects\\YogaPartner\\intermediates\\v2\\adho_mukha_shvanasana_155.jpg\n"
     ]
    },
    {
     "name": "stderr",
     "output_type": "stream",
     "text": [
      "1321it [03:45,  7.10it/s]"
     ]
    },
    {
     "name": "stdout",
     "output_type": "stream",
     "text": [
      "Saved to A:\\Projects\\CollegeProjects\\YogaPartner\\intermediates\\v2\\vrikshasana_122.jpg\n",
      "Saved to A:\\Projects\\CollegeProjects\\YogaPartner\\intermediates\\v2\\utkata_konasana_76.jpg\n"
     ]
    },
    {
     "name": "stderr",
     "output_type": "stream",
     "text": [
      "1323it [03:45,  7.58it/s]"
     ]
    },
    {
     "name": "stdout",
     "output_type": "stream",
     "text": [
      "Saved to A:\\Projects\\CollegeProjects\\YogaPartner\\intermediates\\v2\\adho_mukha_shvanasana_119.jpg\n",
      "Saved to A:\\Projects\\CollegeProjects\\YogaPartner\\intermediates\\v2\\bhujangasana_329.jpg\n"
     ]
    },
    {
     "name": "stderr",
     "output_type": "stream",
     "text": [
      "1325it [03:46,  3.47it/s]"
     ]
    },
    {
     "name": "stdout",
     "output_type": "stream",
     "text": [
      "Saved to A:\\Projects\\CollegeProjects\\YogaPartner\\intermediates\\v2\\bhujangasana_428.jpg\n",
      "Saved to A:\\Projects\\CollegeProjects\\YogaPartner\\intermediates\\v2\\adho_mukha_shvanasana_285.jpg\n"
     ]
    },
    {
     "name": "stderr",
     "output_type": "stream",
     "text": [
      "\r",
      "1326it [03:46,  3.89it/s]"
     ]
    },
    {
     "name": "stdout",
     "output_type": "stream",
     "text": [
      "Saved to A:\\Projects\\CollegeProjects\\YogaPartner\\intermediates\\v2\\virabhadrasana_ii_259.jpg\n"
     ]
    },
    {
     "name": "stderr",
     "output_type": "stream",
     "text": [
      "1328it [03:47,  4.81it/s]"
     ]
    },
    {
     "name": "stdout",
     "output_type": "stream",
     "text": [
      "Saved to A:\\Projects\\CollegeProjects\\YogaPartner\\intermediates\\v2\\bhujangasana_92.jpg\n",
      "Saved to A:\\Projects\\CollegeProjects\\YogaPartner\\intermediates\\v2\\adho_mukha_shvanasana_384.jpg\n"
     ]
    },
    {
     "name": "stderr",
     "output_type": "stream",
     "text": [
      "1330it [03:47,  6.02it/s]"
     ]
    },
    {
     "name": "stdout",
     "output_type": "stream",
     "text": [
      "Saved to A:\\Projects\\CollegeProjects\\YogaPartner\\intermediates\\v2\\vasisthasana_14.jpg\n",
      "Saved to A:\\Projects\\CollegeProjects\\YogaPartner\\intermediates\\v2\\virabhadrasana_i_146.jpg\n"
     ]
    },
    {
     "name": "stderr",
     "output_type": "stream",
     "text": [
      "1332it [03:47,  6.10it/s]"
     ]
    },
    {
     "name": "stdout",
     "output_type": "stream",
     "text": [
      "Saved to A:\\Projects\\CollegeProjects\\YogaPartner\\intermediates\\v2\\adho_mukha_shvanasana_279.jpg\n",
      "Saved to A:\\Projects\\CollegeProjects\\YogaPartner\\intermediates\\v2\\adho_mukha_shvanasana_193.jpg\n"
     ]
    },
    {
     "name": "stderr",
     "output_type": "stream",
     "text": [
      "1334it [03:47,  6.11it/s]"
     ]
    },
    {
     "name": "stdout",
     "output_type": "stream",
     "text": [
      "Saved to A:\\Projects\\CollegeProjects\\YogaPartner\\intermediates\\v2\\bidalasana_165.jpg\n",
      "Saved to A:\\Projects\\CollegeProjects\\YogaPartner\\intermediates\\v2\\bhujangasana_259.jpg\n"
     ]
    },
    {
     "name": "stderr",
     "output_type": "stream",
     "text": [
      "\r",
      "1335it [03:48,  6.35it/s]"
     ]
    },
    {
     "name": "stdout",
     "output_type": "stream",
     "text": [
      "Saved to A:\\Projects\\CollegeProjects\\YogaPartner\\intermediates\\v2\\adho_mukha_shvanasana_311.jpg\n"
     ]
    },
    {
     "name": "stderr",
     "output_type": "stream",
     "text": [
      "1337it [03:48,  5.44it/s]"
     ]
    },
    {
     "name": "stdout",
     "output_type": "stream",
     "text": [
      "Saved to A:\\Projects\\CollegeProjects\\YogaPartner\\intermediates\\v2\\virabhadrasana_ii_367.jpg\n",
      "Saved to A:\\Projects\\CollegeProjects\\YogaPartner\\intermediates\\v2\\utkata_konasana_59.jpeg\n"
     ]
    },
    {
     "name": "stderr",
     "output_type": "stream",
     "text": [
      "1339it [03:48,  6.02it/s]"
     ]
    },
    {
     "name": "stdout",
     "output_type": "stream",
     "text": [
      "Saved to A:\\Projects\\CollegeProjects\\YogaPartner\\intermediates\\v2\\adho_mukha_shvanasana_302.jpg\n",
      "Saved to A:\\Projects\\CollegeProjects\\YogaPartner\\intermediates\\v2\\vasisthasana_1.jpg\n"
     ]
    },
    {
     "name": "stderr",
     "output_type": "stream",
     "text": [
      "1342it [03:49,  7.99it/s]"
     ]
    },
    {
     "name": "stdout",
     "output_type": "stream",
     "text": [
      "Saved to A:\\Projects\\CollegeProjects\\YogaPartner\\intermediates\\v2\\virabhadrasana_ii_87.jpg\n",
      "Saved to A:\\Projects\\CollegeProjects\\YogaPartner\\intermediates\\v2\\utkatasana_3.jpg\n",
      "Saved to A:\\Projects\\CollegeProjects\\YogaPartner\\intermediates\\v2\\adho_mukha_shvanasana_400.jpg\n"
     ]
    },
    {
     "name": "stderr",
     "output_type": "stream",
     "text": [
      "1344it [03:49,  7.26it/s]"
     ]
    },
    {
     "name": "stdout",
     "output_type": "stream",
     "text": [
      "Saved to A:\\Projects\\CollegeProjects\\YogaPartner\\intermediates\\v2\\adho_mukha_shvanasana_229.jpg\n",
      "Saved to A:\\Projects\\CollegeProjects\\YogaPartner\\intermediates\\v2\\bhujangasana_634.jpg\n"
     ]
    },
    {
     "name": "stderr",
     "output_type": "stream",
     "text": [
      "1346it [03:49,  7.35it/s]"
     ]
    },
    {
     "name": "stdout",
     "output_type": "stream",
     "text": [
      "Saved to A:\\Projects\\CollegeProjects\\YogaPartner\\intermediates\\v2\\bhujangasana_131.jpg\n",
      "Saved to A:\\Projects\\CollegeProjects\\YogaPartner\\intermediates\\v2\\bhujangasana_26.jpg\n"
     ]
    },
    {
     "name": "stderr",
     "output_type": "stream",
     "text": [
      "1348it [03:49,  7.68it/s]"
     ]
    },
    {
     "name": "stdout",
     "output_type": "stream",
     "text": [
      "Saved to A:\\Projects\\CollegeProjects\\YogaPartner\\intermediates\\v2\\utkatasana_178.jpg\n",
      "Saved to A:\\Projects\\CollegeProjects\\YogaPartner\\intermediates\\v2\\utkata_konasana_89.jpg\n",
      "Saved to A:\\Projects\\CollegeProjects\\YogaPartner\\intermediates\\v2\\bhujangasana_342.jpg\n"
     ]
    },
    {
     "name": "stderr",
     "output_type": "stream",
     "text": [
      "1351it [03:50,  7.28it/s]"
     ]
    },
    {
     "name": "stdout",
     "output_type": "stream",
     "text": [
      "Saved to A:\\Projects\\CollegeProjects\\YogaPartner\\intermediates\\v2\\bhujangasana_75.jpg\n",
      "Saved to A:\\Projects\\CollegeProjects\\YogaPartner\\intermediates\\v2\\utkatasana_80.jpg\n"
     ]
    },
    {
     "name": "stderr",
     "output_type": "stream",
     "text": [
      "1353it [03:51,  3.71it/s]"
     ]
    },
    {
     "name": "stdout",
     "output_type": "stream",
     "text": [
      "Saved to A:\\Projects\\CollegeProjects\\YogaPartner\\intermediates\\v2\\vrikshasana_140.jpg\n",
      "Saved to A:\\Projects\\CollegeProjects\\YogaPartner\\intermediates\\v2\\virabhadrasana_ii_218.jpg\n"
     ]
    },
    {
     "name": "stderr",
     "output_type": "stream",
     "text": [
      "1355it [03:51,  4.70it/s]"
     ]
    },
    {
     "name": "stdout",
     "output_type": "stream",
     "text": [
      "Saved to A:\\Projects\\CollegeProjects\\YogaPartner\\intermediates\\v2\\virabhadrasana_ii_217.jpg\n",
      "Saved to A:\\Projects\\CollegeProjects\\YogaPartner\\intermediates\\v2\\adho_mukha_shvanasana_120.jpg\n"
     ]
    },
    {
     "name": "stderr",
     "output_type": "stream",
     "text": [
      "\r",
      "1356it [03:51,  4.96it/s]"
     ]
    },
    {
     "name": "stdout",
     "output_type": "stream",
     "text": [
      "Saved to A:\\Projects\\CollegeProjects\\YogaPartner\\intermediates\\v2\\bhujangasana_650.jpg\n",
      "Saved to A:\\Projects\\CollegeProjects\\YogaPartner\\intermediates\\v2\\phalakasana_139.jpg\n"
     ]
    },
    {
     "name": "stderr",
     "output_type": "stream",
     "text": [
      "1359it [03:52,  6.09it/s]"
     ]
    },
    {
     "name": "stdout",
     "output_type": "stream",
     "text": [
      "Saved to A:\\Projects\\CollegeProjects\\YogaPartner\\intermediates\\v2\\bidalasana_158.jpg\n",
      "Saved to A:\\Projects\\CollegeProjects\\YogaPartner\\intermediates\\v2\\adho_mukha_shvanasana_184.jpg\n"
     ]
    },
    {
     "name": "stderr",
     "output_type": "stream",
     "text": [
      "\r",
      "1360it [03:52,  5.64it/s]"
     ]
    },
    {
     "name": "stdout",
     "output_type": "stream",
     "text": [
      "Saved to A:\\Projects\\CollegeProjects\\YogaPartner\\intermediates\\v2\\virabhadrasana_ii_194.jpg\n",
      "Saved to A:\\Projects\\CollegeProjects\\YogaPartner\\intermediates\\v2\\virabhadrasana_ii_123.jpg\n"
     ]
    },
    {
     "name": "stderr",
     "output_type": "stream",
     "text": [
      "1363it [03:52,  6.40it/s]"
     ]
    },
    {
     "name": "stdout",
     "output_type": "stream",
     "text": [
      "Saved to A:\\Projects\\CollegeProjects\\YogaPartner\\intermediates\\v2\\bhujangasana_617.jpg\n",
      "Saved to A:\\Projects\\CollegeProjects\\YogaPartner\\intermediates\\v2\\utkata_konasana_108.jpg\n"
     ]
    },
    {
     "name": "stderr",
     "output_type": "stream",
     "text": [
      "\r",
      "1364it [03:52,  6.77it/s]"
     ]
    },
    {
     "name": "stdout",
     "output_type": "stream",
     "text": [
      "Saved to A:\\Projects\\CollegeProjects\\YogaPartner\\intermediates\\v2\\virabhadrasana_ii_145.jpg\n",
      "Saved to A:\\Projects\\CollegeProjects\\YogaPartner\\intermediates\\v2\\utkata_konasana_120.jpg\n"
     ]
    },
    {
     "name": "stderr",
     "output_type": "stream",
     "text": [
      "1367it [03:53,  7.36it/s]"
     ]
    },
    {
     "name": "stdout",
     "output_type": "stream",
     "text": [
      "Saved to A:\\Projects\\CollegeProjects\\YogaPartner\\intermediates\\v2\\utkata_konasana_146.jpg\n",
      "Saved to A:\\Projects\\CollegeProjects\\YogaPartner\\intermediates\\v2\\bidalasana_205.jpg\n"
     ]
    },
    {
     "name": "stderr",
     "output_type": "stream",
     "text": [
      "1369it [03:53,  7.13it/s]"
     ]
    },
    {
     "name": "stdout",
     "output_type": "stream",
     "text": [
      "Saved to A:\\Projects\\CollegeProjects\\YogaPartner\\intermediates\\v2\\vrikshasana_174.jpg\n",
      "Saved to A:\\Projects\\CollegeProjects\\YogaPartner\\intermediates\\v2\\bhujangasana_309.jpg\n"
     ]
    },
    {
     "name": "stderr",
     "output_type": "stream",
     "text": [
      "1371it [03:53,  7.45it/s]"
     ]
    },
    {
     "name": "stdout",
     "output_type": "stream",
     "text": [
      "Saved to A:\\Projects\\CollegeProjects\\YogaPartner\\intermediates\\v2\\virabhadrasana_ii_388.jpg\n",
      "Saved to A:\\Projects\\CollegeProjects\\YogaPartner\\intermediates\\v2\\adho_mukha_shvanasana_83.jpg\n"
     ]
    },
    {
     "name": "stderr",
     "output_type": "stream",
     "text": [
      "\r",
      "1372it [03:54,  5.39it/s]"
     ]
    },
    {
     "name": "stdout",
     "output_type": "stream",
     "text": [
      "Saved to A:\\Projects\\CollegeProjects\\YogaPartner\\intermediates\\v2\\vrikshasana_15.jpg\n"
     ]
    },
    {
     "name": "stderr",
     "output_type": "stream",
     "text": [
      "\r",
      "1373it [03:54,  5.02it/s]"
     ]
    },
    {
     "name": "stdout",
     "output_type": "stream",
     "text": [
      "Saved to A:\\Projects\\CollegeProjects\\YogaPartner\\intermediates\\v2\\vrikshasana_319.jpg\n"
     ]
    },
    {
     "name": "stderr",
     "output_type": "stream",
     "text": [
      "1375it [03:54,  4.77it/s]"
     ]
    },
    {
     "name": "stdout",
     "output_type": "stream",
     "text": [
      "Saved to A:\\Projects\\CollegeProjects\\YogaPartner\\intermediates\\v2\\bhujangasana_539.jpg\n",
      "Saved to A:\\Projects\\CollegeProjects\\YogaPartner\\intermediates\\v2\\virabhadrasana_i_105.jpg\n"
     ]
    },
    {
     "name": "stderr",
     "output_type": "stream",
     "text": [
      "\r",
      "1377it [03:55,  5.85it/s]"
     ]
    },
    {
     "name": "stdout",
     "output_type": "stream",
     "text": [
      "Saved to A:\\Projects\\CollegeProjects\\YogaPartner\\intermediates\\v2\\bidalasana_115.jpg\n",
      "Saved to A:\\Projects\\CollegeProjects\\YogaPartner\\intermediates\\v2\\vrikshasana_182.jpg\n"
     ]
    },
    {
     "name": "stderr",
     "output_type": "stream",
     "text": [
      "\r",
      "1378it [03:55,  6.28it/s]"
     ]
    },
    {
     "name": "stdout",
     "output_type": "stream",
     "text": [
      "Saved to A:\\Projects\\CollegeProjects\\YogaPartner\\intermediates\\v2\\virabhadrasana_i_164.jpg\n"
     ]
    },
    {
     "name": "stderr",
     "output_type": "stream",
     "text": [
      "1380it [03:55,  5.90it/s]"
     ]
    },
    {
     "name": "stdout",
     "output_type": "stream",
     "text": [
      "Saved to A:\\Projects\\CollegeProjects\\YogaPartner\\intermediates\\v2\\phalakasana_13.jpg\n",
      "Saved to A:\\Projects\\CollegeProjects\\YogaPartner\\intermediates\\v2\\adho_mukha_shvanasana_308.jpg\n"
     ]
    },
    {
     "name": "stderr",
     "output_type": "stream",
     "text": [
      "1382it [03:56,  6.01it/s]"
     ]
    },
    {
     "name": "stdout",
     "output_type": "stream",
     "text": [
      "Saved to A:\\Projects\\CollegeProjects\\YogaPartner\\intermediates\\v2\\adho_mukha_shvanasana_63.jpg\n",
      "Saved to A:\\Projects\\CollegeProjects\\YogaPartner\\intermediates\\v2\\utkatasana_18.jpg\n"
     ]
    },
    {
     "name": "stderr",
     "output_type": "stream",
     "text": [
      "1384it [03:56,  6.46it/s]"
     ]
    },
    {
     "name": "stdout",
     "output_type": "stream",
     "text": [
      "Saved to A:\\Projects\\CollegeProjects\\YogaPartner\\intermediates\\v2\\bhujangasana_140.jpg\n",
      "Saved to A:\\Projects\\CollegeProjects\\YogaPartner\\intermediates\\v2\\vrikshasana_66.jpg\n"
     ]
    },
    {
     "name": "stderr",
     "output_type": "stream",
     "text": [
      "\r",
      "1385it [03:56,  6.72it/s]"
     ]
    },
    {
     "name": "stdout",
     "output_type": "stream",
     "text": [
      "Saved to A:\\Projects\\CollegeProjects\\YogaPartner\\intermediates\\v2\\utkatasana_196.jpg\n",
      "Saved to A:\\Projects\\CollegeProjects\\YogaPartner\\intermediates\\v2\\bhujangasana_346.jpg\n"
     ]
    },
    {
     "name": "stderr",
     "output_type": "stream",
     "text": [
      "1388it [03:56,  6.24it/s]"
     ]
    },
    {
     "name": "stdout",
     "output_type": "stream",
     "text": [
      "Saved to A:\\Projects\\CollegeProjects\\YogaPartner\\intermediates\\v2\\virabhadrasana_ii_377.jpg\n",
      "Saved to A:\\Projects\\CollegeProjects\\YogaPartner\\intermediates\\v2\\virabhadrasana_i_86.jpg\n"
     ]
    },
    {
     "name": "stderr",
     "output_type": "stream",
     "text": [
      "1390it [03:57,  6.31it/s]"
     ]
    },
    {
     "name": "stdout",
     "output_type": "stream",
     "text": [
      "Saved to A:\\Projects\\CollegeProjects\\YogaPartner\\intermediates\\v2\\bhujangasana_173.jpg\n",
      "Saved to A:\\Projects\\CollegeProjects\\YogaPartner\\intermediates\\v2\\bhujangasana_330.jpg\n"
     ]
    },
    {
     "name": "stderr",
     "output_type": "stream",
     "text": [
      "\r",
      "1392it [03:57,  7.07it/s]"
     ]
    },
    {
     "name": "stdout",
     "output_type": "stream",
     "text": [
      "Saved to A:\\Projects\\CollegeProjects\\YogaPartner\\intermediates\\v2\\utkata_konasana_197.jpg\n",
      "Saved to A:\\Projects\\CollegeProjects\\YogaPartner\\intermediates\\v2\\adho_mukha_shvanasana_430.jpg\n"
     ]
    },
    {
     "name": "stderr",
     "output_type": "stream",
     "text": [
      "1394it [03:57,  7.38it/s]"
     ]
    },
    {
     "name": "stdout",
     "output_type": "stream",
     "text": [
      "Saved to A:\\Projects\\CollegeProjects\\YogaPartner\\intermediates\\v2\\virabhadrasana_ii_311.jpg\n",
      "Saved to A:\\Projects\\CollegeProjects\\YogaPartner\\intermediates\\v2\\bidalasana_240.jpg\n",
      "Saved to A:\\Projects\\CollegeProjects\\YogaPartner\\intermediates\\v2\\virabhadrasana_ii_313.jpg\n"
     ]
    },
    {
     "name": "stderr",
     "output_type": "stream",
     "text": [
      "1397it [03:58,  8.24it/s]"
     ]
    },
    {
     "name": "stdout",
     "output_type": "stream",
     "text": [
      "Saved to A:\\Projects\\CollegeProjects\\YogaPartner\\intermediates\\v2\\phalakasana_143.jpg\n",
      "Saved to A:\\Projects\\CollegeProjects\\YogaPartner\\intermediates\\v2\\virabhadrasana_ii_353.jpg\n"
     ]
    },
    {
     "name": "stderr",
     "output_type": "stream",
     "text": [
      "1399it [03:58,  8.87it/s]"
     ]
    },
    {
     "name": "stdout",
     "output_type": "stream",
     "text": [
      "Saved to A:\\Projects\\CollegeProjects\\YogaPartner\\intermediates\\v2\\bhujangasana_598.jpg\n",
      "Saved to A:\\Projects\\CollegeProjects\\YogaPartner\\intermediates\\v2\\bidalasana_223.jpeg\n"
     ]
    },
    {
     "name": "stderr",
     "output_type": "stream",
     "text": [
      "1401it [03:58,  8.33it/s]"
     ]
    },
    {
     "name": "stdout",
     "output_type": "stream",
     "text": [
      "Saved to A:\\Projects\\CollegeProjects\\YogaPartner\\intermediates\\v2\\bidalasana_285.jpg\n",
      "Saved to A:\\Projects\\CollegeProjects\\YogaPartner\\intermediates\\v2\\bhujangasana_438.jpg\n"
     ]
    },
    {
     "name": "stderr",
     "output_type": "stream",
     "text": [
      "1403it [03:58,  7.25it/s]"
     ]
    },
    {
     "name": "stdout",
     "output_type": "stream",
     "text": [
      "Saved to A:\\Projects\\CollegeProjects\\YogaPartner\\intermediates\\v2\\bhujangasana_493.jpg\n",
      "Saved to A:\\Projects\\CollegeProjects\\YogaPartner\\intermediates\\v2\\adho_mukha_shvanasana_410.jpg\n"
     ]
    },
    {
     "name": "stderr",
     "output_type": "stream",
     "text": [
      "\r",
      "1404it [03:59,  4.31it/s]"
     ]
    },
    {
     "name": "stdout",
     "output_type": "stream",
     "text": [
      "Saved to A:\\Projects\\CollegeProjects\\YogaPartner\\intermediates\\v2\\utkata_konasana_139.jpg\n"
     ]
    },
    {
     "name": "stderr",
     "output_type": "stream",
     "text": [
      "1406it [03:59,  4.14it/s]"
     ]
    },
    {
     "name": "stdout",
     "output_type": "stream",
     "text": [
      "Saved to A:\\Projects\\CollegeProjects\\YogaPartner\\intermediates\\v2\\utkata_konasana_188.jpg\n",
      "Saved to A:\\Projects\\CollegeProjects\\YogaPartner\\intermediates\\v2\\ustrasana_37.jpg\n"
     ]
    },
    {
     "name": "stderr",
     "output_type": "stream",
     "text": [
      "1408it [04:00,  5.69it/s]"
     ]
    },
    {
     "name": "stdout",
     "output_type": "stream",
     "text": [
      "Saved to A:\\Projects\\CollegeProjects\\YogaPartner\\intermediates\\v2\\virabhadrasana_i_41.jpg\n",
      "Saved to A:\\Projects\\CollegeProjects\\YogaPartner\\intermediates\\v2\\bidalasana_40.jpg\n"
     ]
    },
    {
     "name": "stderr",
     "output_type": "stream",
     "text": [
      "1410it [04:00,  6.75it/s]"
     ]
    },
    {
     "name": "stdout",
     "output_type": "stream",
     "text": [
      "Saved to A:\\Projects\\CollegeProjects\\YogaPartner\\intermediates\\v2\\virabhadrasana_i_67.jpg\n",
      "Saved to A:\\Projects\\CollegeProjects\\YogaPartner\\intermediates\\v2\\adho_mukha_shvanasana_271.jpg\n"
     ]
    },
    {
     "name": "stderr",
     "output_type": "stream",
     "text": [
      "1412it [04:00,  7.83it/s]"
     ]
    },
    {
     "name": "stdout",
     "output_type": "stream",
     "text": [
      "Saved to A:\\Projects\\CollegeProjects\\YogaPartner\\intermediates\\v2\\virabhadrasana_ii_106.jpg\n",
      "Saved to A:\\Projects\\CollegeProjects\\YogaPartner\\intermediates\\v2\\ustrasana_28.jpg\n"
     ]
    },
    {
     "name": "stderr",
     "output_type": "stream",
     "text": [
      "1414it [04:00,  7.31it/s]"
     ]
    },
    {
     "name": "stdout",
     "output_type": "stream",
     "text": [
      "Saved to A:\\Projects\\CollegeProjects\\YogaPartner\\intermediates\\v2\\bhujangasana_297.jpg\n",
      "Saved to A:\\Projects\\CollegeProjects\\YogaPartner\\intermediates\\v2\\phalakasana_78.jpg\n"
     ]
    },
    {
     "name": "stderr",
     "output_type": "stream",
     "text": [
      "\r",
      "1415it [04:01,  6.26it/s]"
     ]
    },
    {
     "name": "stdout",
     "output_type": "stream",
     "text": [
      "Saved to A:\\Projects\\CollegeProjects\\YogaPartner\\intermediates\\v2\\bhujangasana_91.jpg\n"
     ]
    },
    {
     "name": "stderr",
     "output_type": "stream",
     "text": [
      "1417it [04:02,  2.84it/s]"
     ]
    },
    {
     "name": "stdout",
     "output_type": "stream",
     "text": [
      "Saved to A:\\Projects\\CollegeProjects\\YogaPartner\\intermediates\\v2\\adho_mukha_shvanasana_201.jpg\n",
      "Saved to A:\\Projects\\CollegeProjects\\YogaPartner\\intermediates\\v2\\adho_mukha_shvanasana_70.jpg\n"
     ]
    },
    {
     "name": "stderr",
     "output_type": "stream",
     "text": [
      "1419it [04:02,  4.17it/s]"
     ]
    },
    {
     "name": "stdout",
     "output_type": "stream",
     "text": [
      "Saved to A:\\Projects\\CollegeProjects\\YogaPartner\\intermediates\\v2\\virabhadrasana_ii_204.jpg\n",
      "Saved to A:\\Projects\\CollegeProjects\\YogaPartner\\intermediates\\v2\\virabhadrasana_ii_109.jpg\n"
     ]
    },
    {
     "name": "stderr",
     "output_type": "stream",
     "text": [
      "1421it [04:02,  4.48it/s]"
     ]
    },
    {
     "name": "stdout",
     "output_type": "stream",
     "text": [
      "Saved to A:\\Projects\\CollegeProjects\\YogaPartner\\intermediates\\v2\\phalakasana_91.jpg\n",
      "Saved to A:\\Projects\\CollegeProjects\\YogaPartner\\intermediates\\v2\\bhujangasana_102.jpg\n"
     ]
    },
    {
     "name": "stderr",
     "output_type": "stream",
     "text": [
      "1423it [04:03,  5.02it/s]"
     ]
    },
    {
     "name": "stdout",
     "output_type": "stream",
     "text": [
      "Saved to A:\\Projects\\CollegeProjects\\YogaPartner\\intermediates\\v2\\adho_mukha_shvanasana_34.jpg\n",
      "Saved to A:\\Projects\\CollegeProjects\\YogaPartner\\intermediates\\v2\\bidalasana_10.jpg\n"
     ]
    },
    {
     "name": "stderr",
     "output_type": "stream",
     "text": [
      "\r",
      "1424it [04:03,  4.94it/s]"
     ]
    },
    {
     "name": "stdout",
     "output_type": "stream",
     "text": [
      "Saved to A:\\Projects\\CollegeProjects\\YogaPartner\\intermediates\\v2\\phalakasana_24.jpg\n"
     ]
    },
    {
     "name": "stderr",
     "output_type": "stream",
     "text": [
      "1426it [04:03,  5.42it/s]"
     ]
    },
    {
     "name": "stdout",
     "output_type": "stream",
     "text": [
      "Saved to A:\\Projects\\CollegeProjects\\YogaPartner\\intermediates\\v2\\utkatasana_4.jpg\n",
      "Saved to A:\\Projects\\CollegeProjects\\YogaPartner\\intermediates\\v2\\vrikshasana_214.jpg\n"
     ]
    },
    {
     "name": "stderr",
     "output_type": "stream",
     "text": [
      "1428it [04:04,  6.12it/s]"
     ]
    },
    {
     "name": "stdout",
     "output_type": "stream",
     "text": [
      "Saved to A:\\Projects\\CollegeProjects\\YogaPartner\\intermediates\\v2\\adho_mukha_shvanasana_198.jpg\n",
      "Saved to A:\\Projects\\CollegeProjects\\YogaPartner\\intermediates\\v2\\bhujangasana_562.jpg\n"
     ]
    },
    {
     "name": "stderr",
     "output_type": "stream",
     "text": [
      "1431it [04:04,  7.80it/s]"
     ]
    },
    {
     "name": "stdout",
     "output_type": "stream",
     "text": [
      "Saved to A:\\Projects\\CollegeProjects\\YogaPartner\\intermediates\\v2\\phalakasana_114.jpg\n",
      "Saved to A:\\Projects\\CollegeProjects\\YogaPartner\\intermediates\\v2\\virabhadrasana_ii_227.jpg\n",
      "Saved to A:\\Projects\\CollegeProjects\\YogaPartner\\intermediates\\v2\\vrikshasana_315.jpg\n"
     ]
    },
    {
     "name": "stderr",
     "output_type": "stream",
     "text": [
      "\r",
      "1432it [04:05,  2.62it/s]"
     ]
    },
    {
     "name": "stdout",
     "output_type": "stream",
     "text": [
      "Saved to A:\\Projects\\CollegeProjects\\YogaPartner\\intermediates\\v2\\vrikshasana_68.jpg\n"
     ]
    },
    {
     "name": "stderr",
     "output_type": "stream",
     "text": [
      "1434it [04:05,  3.46it/s]"
     ]
    },
    {
     "name": "stdout",
     "output_type": "stream",
     "text": [
      "Saved to A:\\Projects\\CollegeProjects\\YogaPartner\\intermediates\\v2\\utkata_konasana_37.jpg\n",
      "Saved to A:\\Projects\\CollegeProjects\\YogaPartner\\intermediates\\v2\\virabhadrasana_i_38.jpg\n"
     ]
    },
    {
     "name": "stderr",
     "output_type": "stream",
     "text": [
      "1436it [04:06,  4.80it/s]"
     ]
    },
    {
     "name": "stdout",
     "output_type": "stream",
     "text": [
      "Saved to A:\\Projects\\CollegeProjects\\YogaPartner\\intermediates\\v2\\bidalasana_139.jpg\n",
      "Saved to A:\\Projects\\CollegeProjects\\YogaPartner\\intermediates\\v2\\utkatasana_37.jpg\n"
     ]
    },
    {
     "name": "stderr",
     "output_type": "stream",
     "text": [
      "\r",
      "1438it [04:06,  5.89it/s]"
     ]
    },
    {
     "name": "stdout",
     "output_type": "stream",
     "text": [
      "Saved to A:\\Projects\\CollegeProjects\\YogaPartner\\intermediates\\v2\\utkata_konasana_58.jpg\n",
      "Saved to A:\\Projects\\CollegeProjects\\YogaPartner\\intermediates\\v2\\virabhadrasana_i_82.jpeg\n"
     ]
    },
    {
     "name": "stderr",
     "output_type": "stream",
     "text": [
      "\r",
      "1439it [04:06,  5.91it/s]"
     ]
    },
    {
     "name": "stdout",
     "output_type": "stream",
     "text": [
      "Saved to A:\\Projects\\CollegeProjects\\YogaPartner\\intermediates\\v2\\adho_mukha_shvanasana_31.jpg\n"
     ]
    },
    {
     "name": "stderr",
     "output_type": "stream",
     "text": [
      "\r",
      "1440it [04:07,  3.81it/s]"
     ]
    },
    {
     "name": "stdout",
     "output_type": "stream",
     "text": [
      "Saved to A:\\Projects\\CollegeProjects\\YogaPartner\\intermediates\\v2\\virabhadrasana_ii_343.jpg\n"
     ]
    },
    {
     "name": "stderr",
     "output_type": "stream",
     "text": [
      "1442it [04:07,  3.96it/s]"
     ]
    },
    {
     "name": "stdout",
     "output_type": "stream",
     "text": [
      "Saved to A:\\Projects\\CollegeProjects\\YogaPartner\\intermediates\\v2\\virabhadrasana_ii_368.jpg\n",
      "Saved to A:\\Projects\\CollegeProjects\\YogaPartner\\intermediates\\v2\\phalakasana_41.jpg\n"
     ]
    },
    {
     "name": "stderr",
     "output_type": "stream",
     "text": [
      "1444it [04:07,  4.79it/s]"
     ]
    },
    {
     "name": "stdout",
     "output_type": "stream",
     "text": [
      "Saved to A:\\Projects\\CollegeProjects\\YogaPartner\\intermediates\\v2\\phalakasana_17.jpg\n",
      "Saved to A:\\Projects\\CollegeProjects\\YogaPartner\\intermediates\\v2\\virabhadrasana_i_208.jpg\n"
     ]
    },
    {
     "name": "stderr",
     "output_type": "stream",
     "text": [
      "1446it [04:08,  5.55it/s]"
     ]
    },
    {
     "name": "stdout",
     "output_type": "stream",
     "text": [
      "Saved to A:\\Projects\\CollegeProjects\\YogaPartner\\intermediates\\v2\\utkata_konasana_85.jpg\n",
      "Saved to A:\\Projects\\CollegeProjects\\YogaPartner\\intermediates\\v2\\virabhadrasana_i_22.jpg\n"
     ]
    },
    {
     "name": "stderr",
     "output_type": "stream",
     "text": [
      "\r",
      "1447it [04:08,  6.12it/s]"
     ]
    },
    {
     "name": "stdout",
     "output_type": "stream",
     "text": [
      "Saved to A:\\Projects\\CollegeProjects\\YogaPartner\\intermediates\\v2\\utkatasana_129.jpg\n"
     ]
    },
    {
     "name": "stderr",
     "output_type": "stream",
     "text": [
      "\r",
      "1448it [04:09,  2.56it/s]"
     ]
    },
    {
     "name": "stdout",
     "output_type": "stream",
     "text": [
      "Saved to A:\\Projects\\CollegeProjects\\YogaPartner\\intermediates\\v2\\adho_mukha_shvanasana_353.jpg\n"
     ]
    },
    {
     "name": "stderr",
     "output_type": "stream",
     "text": [
      "1450it [04:10,  2.43it/s]"
     ]
    },
    {
     "name": "stdout",
     "output_type": "stream",
     "text": [
      "Saved to A:\\Projects\\CollegeProjects\\YogaPartner\\intermediates\\v2\\adho_mukha_shvanasana_277.jpg\n",
      "Saved to A:\\Projects\\CollegeProjects\\YogaPartner\\intermediates\\v2\\vasisthasana_61.jpg\n"
     ]
    },
    {
     "name": "stderr",
     "output_type": "stream",
     "text": [
      "1452it [04:10,  3.58it/s]"
     ]
    },
    {
     "name": "stdout",
     "output_type": "stream",
     "text": [
      "Saved to A:\\Projects\\CollegeProjects\\YogaPartner\\intermediates\\v2\\adho_mukha_shvanasana_91.jpg\n",
      "Saved to A:\\Projects\\CollegeProjects\\YogaPartner\\intermediates\\v2\\utkata_konasana_3.jpg\n"
     ]
    },
    {
     "name": "stderr",
     "output_type": "stream",
     "text": [
      "\r",
      "1453it [04:10,  4.13it/s]"
     ]
    },
    {
     "name": "stdout",
     "output_type": "stream",
     "text": [
      "Saved to A:\\Projects\\CollegeProjects\\YogaPartner\\intermediates\\v2\\vrikshasana_213.jpg\n"
     ]
    },
    {
     "name": "stderr",
     "output_type": "stream",
     "text": [
      "1455it [04:11,  3.81it/s]"
     ]
    },
    {
     "name": "stdout",
     "output_type": "stream",
     "text": [
      "Saved to A:\\Projects\\CollegeProjects\\YogaPartner\\intermediates\\v2\\vrikshasana_252.jpg\n",
      "Saved to A:\\Projects\\CollegeProjects\\YogaPartner\\intermediates\\v2\\vasisthasana_119.jpg\n"
     ]
    },
    {
     "name": "stderr",
     "output_type": "stream",
     "text": [
      "1457it [04:11,  4.89it/s]"
     ]
    },
    {
     "name": "stdout",
     "output_type": "stream",
     "text": [
      "Saved to A:\\Projects\\CollegeProjects\\YogaPartner\\intermediates\\v2\\utkata_konasana_41.jpg\n",
      "Saved to A:\\Projects\\CollegeProjects\\YogaPartner\\intermediates\\v2\\adho_mukha_shvanasana_82.jpg\n"
     ]
    },
    {
     "name": "stderr",
     "output_type": "stream",
     "text": [
      "1459it [04:11,  6.08it/s]"
     ]
    },
    {
     "name": "stdout",
     "output_type": "stream",
     "text": [
      "Saved to A:\\Projects\\CollegeProjects\\YogaPartner\\intermediates\\v2\\bidalasana_162.jpg\n",
      "Saved to A:\\Projects\\CollegeProjects\\YogaPartner\\intermediates\\v2\\adho_mukha_shvanasana_173.jpg\n"
     ]
    },
    {
     "name": "stderr",
     "output_type": "stream",
     "text": [
      "1461it [04:12,  6.29it/s]"
     ]
    },
    {
     "name": "stdout",
     "output_type": "stream",
     "text": [
      "Saved to A:\\Projects\\CollegeProjects\\YogaPartner\\intermediates\\v2\\virabhadrasana_ii_76.jpg\n",
      "Saved to A:\\Projects\\CollegeProjects\\YogaPartner\\intermediates\\v2\\vrikshasana_155.jpg\n"
     ]
    },
    {
     "name": "stderr",
     "output_type": "stream",
     "text": [
      "\r",
      "1462it [04:12,  7.03it/s]"
     ]
    },
    {
     "name": "stdout",
     "output_type": "stream",
     "text": [
      "Saved to A:\\Projects\\CollegeProjects\\YogaPartner\\intermediates\\v2\\bhujangasana_594.jpg\n",
      "Saved to A:\\Projects\\CollegeProjects\\YogaPartner\\intermediates\\v2\\bidalasana_108.jpg\n"
     ]
    },
    {
     "name": "stderr",
     "output_type": "stream",
     "text": [
      "1465it [04:12,  7.57it/s]"
     ]
    },
    {
     "name": "stdout",
     "output_type": "stream",
     "text": [
      "Saved to A:\\Projects\\CollegeProjects\\YogaPartner\\intermediates\\v2\\vrikshasana_161.jpg\n",
      "Saved to A:\\Projects\\CollegeProjects\\YogaPartner\\intermediates\\v2\\phalakasana_132.jpg\n"
     ]
    },
    {
     "name": "stderr",
     "output_type": "stream",
     "text": [
      "1468it [04:13,  8.66it/s]"
     ]
    },
    {
     "name": "stdout",
     "output_type": "stream",
     "text": [
      "Saved to A:\\Projects\\CollegeProjects\\YogaPartner\\intermediates\\v2\\bhujangasana_388.jpg\n",
      "Saved to A:\\Projects\\CollegeProjects\\YogaPartner\\intermediates\\v2\\vasisthasana_38.jpg\n",
      "Saved to A:\\Projects\\CollegeProjects\\YogaPartner\\intermediates\\v2\\bhujangasana_642.jpg\n"
     ]
    },
    {
     "name": "stderr",
     "output_type": "stream",
     "text": [
      "1470it [04:13,  6.23it/s]"
     ]
    },
    {
     "name": "stdout",
     "output_type": "stream",
     "text": [
      "Saved to A:\\Projects\\CollegeProjects\\YogaPartner\\intermediates\\v2\\virabhadrasana_ii_127.jpg\n",
      "Saved to A:\\Projects\\CollegeProjects\\YogaPartner\\intermediates\\v2\\vrikshasana_141.jpg\n"
     ]
    },
    {
     "name": "stderr",
     "output_type": "stream",
     "text": [
      "1472it [04:13,  7.29it/s]"
     ]
    },
    {
     "name": "stdout",
     "output_type": "stream",
     "text": [
      "Saved to A:\\Projects\\CollegeProjects\\YogaPartner\\intermediates\\v2\\bhujangasana_334.jpg\n",
      "Saved to A:\\Projects\\CollegeProjects\\YogaPartner\\intermediates\\v2\\utkata_konasana_207.jpg\n"
     ]
    },
    {
     "name": "stderr",
     "output_type": "stream",
     "text": [
      "1474it [04:13,  7.54it/s]"
     ]
    },
    {
     "name": "stdout",
     "output_type": "stream",
     "text": [
      "Saved to A:\\Projects\\CollegeProjects\\YogaPartner\\intermediates\\v2\\bhujangasana_383.jpg\n",
      "Saved to A:\\Projects\\CollegeProjects\\YogaPartner\\intermediates\\v2\\virabhadrasana_ii_152.jpg\n"
     ]
    },
    {
     "name": "stderr",
     "output_type": "stream",
     "text": [
      "1476it [04:14,  7.29it/s]"
     ]
    },
    {
     "name": "stdout",
     "output_type": "stream",
     "text": [
      "Saved to A:\\Projects\\CollegeProjects\\YogaPartner\\intermediates\\v2\\utkatasana_131.jpg\n",
      "Saved to A:\\Projects\\CollegeProjects\\YogaPartner\\intermediates\\v2\\phalakasana_136.jpg\n"
     ]
    },
    {
     "name": "stderr",
     "output_type": "stream",
     "text": [
      "\r",
      "1478it [04:14,  8.16it/s]"
     ]
    },
    {
     "name": "stdout",
     "output_type": "stream",
     "text": [
      "Saved to A:\\Projects\\CollegeProjects\\YogaPartner\\intermediates\\v2\\virabhadrasana_ii_328.jpg\n",
      "Saved to A:\\Projects\\CollegeProjects\\YogaPartner\\intermediates\\v2\\utkatasana_115.jpg\n",
      "Saved to A:\\Projects\\CollegeProjects\\YogaPartner\\intermediates\\v2\\bidalasana_310.jpg\n"
     ]
    },
    {
     "name": "stderr",
     "output_type": "stream",
     "text": [
      "1481it [04:14,  8.63it/s]"
     ]
    },
    {
     "name": "stdout",
     "output_type": "stream",
     "text": [
      "Saved to A:\\Projects\\CollegeProjects\\YogaPartner\\intermediates\\v2\\virabhadrasana_ii_323.jpg\n",
      "Saved to A:\\Projects\\CollegeProjects\\YogaPartner\\intermediates\\v2\\vasisthasana_90.jpg\n"
     ]
    },
    {
     "name": "stderr",
     "output_type": "stream",
     "text": [
      "1483it [04:15,  8.08it/s]"
     ]
    },
    {
     "name": "stdout",
     "output_type": "stream",
     "text": [
      "Saved to A:\\Projects\\CollegeProjects\\YogaPartner\\intermediates\\v2\\phalakasana_130.jpg\n",
      "Saved to A:\\Projects\\CollegeProjects\\YogaPartner\\intermediates\\v2\\vasisthasana_50.jpg\n"
     ]
    },
    {
     "name": "stderr",
     "output_type": "stream",
     "text": [
      "1485it [04:15,  7.34it/s]"
     ]
    },
    {
     "name": "stdout",
     "output_type": "stream",
     "text": [
      "Saved to A:\\Projects\\CollegeProjects\\YogaPartner\\intermediates\\v2\\vrikshasana_44.jpg\n",
      "Saved to A:\\Projects\\CollegeProjects\\YogaPartner\\intermediates\\v2\\virabhadrasana_ii_187.jpg\n",
      "No pose detected - length  - .\\data\\v2\\ustrasana\\ustrasana_58.jpg\n",
      "Saved to A:\\Projects\\CollegeProjects\\YogaPartner\\intermediates\\v2\\ustrasana_58.jpg\n"
     ]
    },
    {
     "name": "stderr",
     "output_type": "stream",
     "text": [
      "1488it [04:15,  8.97it/s]"
     ]
    },
    {
     "name": "stdout",
     "output_type": "stream",
     "text": [
      "Saved to A:\\Projects\\CollegeProjects\\YogaPartner\\intermediates\\v2\\virabhadrasana_ii_154.jpg\n",
      "Saved to A:\\Projects\\CollegeProjects\\YogaPartner\\intermediates\\v2\\bidalasana_3.jpg\n"
     ]
    },
    {
     "name": "stderr",
     "output_type": "stream",
     "text": [
      "1490it [04:15,  8.12it/s]"
     ]
    },
    {
     "name": "stdout",
     "output_type": "stream",
     "text": [
      "Saved to A:\\Projects\\CollegeProjects\\YogaPartner\\intermediates\\v2\\vrikshasana_5.jpg\n",
      "Saved to A:\\Projects\\CollegeProjects\\YogaPartner\\intermediates\\v2\\adho_mukha_shvanasana_75.jpg\n"
     ]
    },
    {
     "name": "stderr",
     "output_type": "stream",
     "text": [
      "1492it [04:16,  8.15it/s]"
     ]
    },
    {
     "name": "stdout",
     "output_type": "stream",
     "text": [
      "Saved to A:\\Projects\\CollegeProjects\\YogaPartner\\intermediates\\v2\\vasisthasana_9.jpg\n",
      "Saved to A:\\Projects\\CollegeProjects\\YogaPartner\\intermediates\\v2\\vrikshasana_125.jpg\n"
     ]
    },
    {
     "name": "stderr",
     "output_type": "stream",
     "text": [
      "1494it [04:16,  4.49it/s]"
     ]
    },
    {
     "name": "stdout",
     "output_type": "stream",
     "text": [
      "Saved to A:\\Projects\\CollegeProjects\\YogaPartner\\intermediates\\v2\\bidalasana_107.jpg\n",
      "Saved to A:\\Projects\\CollegeProjects\\YogaPartner\\intermediates\\v2\\bidalasana_163.jpg\n"
     ]
    },
    {
     "name": "stderr",
     "output_type": "stream",
     "text": [
      "1496it [04:17,  5.81it/s]"
     ]
    },
    {
     "name": "stdout",
     "output_type": "stream",
     "text": [
      "Saved to A:\\Projects\\CollegeProjects\\YogaPartner\\intermediates\\v2\\virabhadrasana_ii_309.jpg\n",
      "Saved to A:\\Projects\\CollegeProjects\\YogaPartner\\intermediates\\v2\\bhujangasana_308.jpg\n"
     ]
    },
    {
     "name": "stderr",
     "output_type": "stream",
     "text": [
      "1498it [04:17,  7.16it/s]"
     ]
    },
    {
     "name": "stdout",
     "output_type": "stream",
     "text": [
      "Saved to A:\\Projects\\CollegeProjects\\YogaPartner\\intermediates\\v2\\adho_mukha_shvanasana_426.jpg\n",
      "Saved to A:\\Projects\\CollegeProjects\\YogaPartner\\intermediates\\v2\\adho_mukha_shvanasana_245.jpg\n"
     ]
    },
    {
     "name": "stderr",
     "output_type": "stream",
     "text": [
      "1500it [04:17,  7.24it/s]"
     ]
    },
    {
     "name": "stdout",
     "output_type": "stream",
     "text": [
      "Saved to A:\\Projects\\CollegeProjects\\YogaPartner\\intermediates\\v2\\bhujangasana_559.jpg\n",
      "Saved to A:\\Projects\\CollegeProjects\\YogaPartner\\intermediates\\v2\\bidalasana_132.jpg\n",
      "Saved to A:\\Projects\\CollegeProjects\\YogaPartner\\intermediates\\v2\\vasisthasana_43.jpg\n"
     ]
    },
    {
     "name": "stderr",
     "output_type": "stream",
     "text": [
      "1503it [04:18,  8.07it/s]"
     ]
    },
    {
     "name": "stdout",
     "output_type": "stream",
     "text": [
      "Saved to A:\\Projects\\CollegeProjects\\YogaPartner\\intermediates\\v2\\virabhadrasana_ii_95.jpg\n",
      "Saved to A:\\Projects\\CollegeProjects\\YogaPartner\\intermediates\\v2\\bhujangasana_35.jpg\n"
     ]
    },
    {
     "name": "stderr",
     "output_type": "stream",
     "text": [
      "1505it [04:18,  8.30it/s]"
     ]
    },
    {
     "name": "stdout",
     "output_type": "stream",
     "text": [
      "Saved to A:\\Projects\\CollegeProjects\\YogaPartner\\intermediates\\v2\\bidalasana_253.jpg\n",
      "Saved to A:\\Projects\\CollegeProjects\\YogaPartner\\intermediates\\v2\\adho_mukha_shvanasana_385.jpg\n"
     ]
    },
    {
     "name": "stderr",
     "output_type": "stream",
     "text": [
      "1507it [04:18,  8.23it/s]"
     ]
    },
    {
     "name": "stdout",
     "output_type": "stream",
     "text": [
      "Saved to A:\\Projects\\CollegeProjects\\YogaPartner\\intermediates\\v2\\utkata_konasana_107.jpg\n",
      "Saved to A:\\Projects\\CollegeProjects\\YogaPartner\\intermediates\\v2\\bidalasana_36.jpg\n"
     ]
    },
    {
     "name": "stderr",
     "output_type": "stream",
     "text": [
      "1509it [04:18,  7.56it/s]"
     ]
    },
    {
     "name": "stdout",
     "output_type": "stream",
     "text": [
      "Saved to A:\\Projects\\CollegeProjects\\YogaPartner\\intermediates\\v2\\virabhadrasana_i_6.jpg\n",
      "Saved to A:\\Projects\\CollegeProjects\\YogaPartner\\intermediates\\v2\\bidalasana_75.jpg\n",
      "Saved to A:\\Projects\\CollegeProjects\\YogaPartner\\intermediates\\v2\\bhujangasana_258.jpg\n"
     ]
    },
    {
     "name": "stderr",
     "output_type": "stream",
     "text": [
      "1512it [04:19,  7.98it/s]"
     ]
    },
    {
     "name": "stdout",
     "output_type": "stream",
     "text": [
      "Saved to A:\\Projects\\CollegeProjects\\YogaPartner\\intermediates\\v2\\bhujangasana_508.jpg\n",
      "Saved to A:\\Projects\\CollegeProjects\\YogaPartner\\intermediates\\v2\\vrikshasana_41.jpg\n"
     ]
    },
    {
     "name": "stderr",
     "output_type": "stream",
     "text": [
      "1514it [04:19,  7.46it/s]"
     ]
    },
    {
     "name": "stdout",
     "output_type": "stream",
     "text": [
      "Saved to A:\\Projects\\CollegeProjects\\YogaPartner\\intermediates\\v2\\utkata_konasana_70.jpg\n",
      "Saved to A:\\Projects\\CollegeProjects\\YogaPartner\\intermediates\\v2\\virabhadrasana_ii_107.jpg\n"
     ]
    },
    {
     "name": "stderr",
     "output_type": "stream",
     "text": [
      "\r",
      "1515it [04:19,  7.62it/s]"
     ]
    },
    {
     "name": "stdout",
     "output_type": "stream",
     "text": [
      "Saved to A:\\Projects\\CollegeProjects\\YogaPartner\\intermediates\\v2\\bhujangasana_248.jpg\n"
     ]
    },
    {
     "name": "stderr",
     "output_type": "stream",
     "text": [
      "1517it [04:19,  6.10it/s]"
     ]
    },
    {
     "name": "stdout",
     "output_type": "stream",
     "text": [
      "Saved to A:\\Projects\\CollegeProjects\\YogaPartner\\intermediates\\v2\\adho_mukha_shvanasana_307.jpg\n",
      "Saved to A:\\Projects\\CollegeProjects\\YogaPartner\\intermediates\\v2\\adho_mukha_shvanasana_361.jpg\n"
     ]
    },
    {
     "name": "stderr",
     "output_type": "stream",
     "text": [
      "\r",
      "1518it [04:20,  6.29it/s]"
     ]
    },
    {
     "name": "stdout",
     "output_type": "stream",
     "text": [
      "Saved to A:\\Projects\\CollegeProjects\\YogaPartner\\intermediates\\v2\\adho_mukha_shvanasana_87.jpg\n",
      "Saved to A:\\Projects\\CollegeProjects\\YogaPartner\\intermediates\\v2\\virabhadrasana_ii_294.jpg\n"
     ]
    },
    {
     "name": "stderr",
     "output_type": "stream",
     "text": [
      "1521it [04:20,  6.93it/s]"
     ]
    },
    {
     "name": "stdout",
     "output_type": "stream",
     "text": [
      "Saved to A:\\Projects\\CollegeProjects\\YogaPartner\\intermediates\\v2\\adho_mukha_shvanasana_64.jpg\n",
      "Saved to A:\\Projects\\CollegeProjects\\YogaPartner\\intermediates\\v2\\adho_mukha_shvanasana_217.jpg\n"
     ]
    },
    {
     "name": "stderr",
     "output_type": "stream",
     "text": [
      "\r",
      "1522it [04:20,  7.40it/s]"
     ]
    },
    {
     "name": "stdout",
     "output_type": "stream",
     "text": [
      "Saved to A:\\Projects\\CollegeProjects\\YogaPartner\\intermediates\\v2\\vrikshasana_160.jpg\n"
     ]
    },
    {
     "name": "stderr",
     "output_type": "stream",
     "text": [
      "1524it [04:21,  4.75it/s]"
     ]
    },
    {
     "name": "stdout",
     "output_type": "stream",
     "text": [
      "Saved to A:\\Projects\\CollegeProjects\\YogaPartner\\intermediates\\v2\\vrikshasana_192.jpg\n",
      "Saved to A:\\Projects\\CollegeProjects\\YogaPartner\\intermediates\\v2\\virabhadrasana_i_184.jpg\n"
     ]
    },
    {
     "name": "stderr",
     "output_type": "stream",
     "text": [
      "1526it [04:21,  5.59it/s]"
     ]
    },
    {
     "name": "stdout",
     "output_type": "stream",
     "text": [
      "Saved to A:\\Projects\\CollegeProjects\\YogaPartner\\intermediates\\v2\\phalakasana_11.jpg\n",
      "Saved to A:\\Projects\\CollegeProjects\\YogaPartner\\intermediates\\v2\\vrikshasana_232.jpg\n"
     ]
    },
    {
     "name": "stderr",
     "output_type": "stream",
     "text": [
      "1528it [04:21,  6.35it/s]"
     ]
    },
    {
     "name": "stdout",
     "output_type": "stream",
     "text": [
      "Saved to A:\\Projects\\CollegeProjects\\YogaPartner\\intermediates\\v2\\virabhadrasana_ii_146.jpg\n",
      "Saved to A:\\Projects\\CollegeProjects\\YogaPartner\\intermediates\\v2\\bhujangasana_524.jpg\n"
     ]
    },
    {
     "name": "stderr",
     "output_type": "stream",
     "text": [
      "\r",
      "1530it [04:22,  6.85it/s]"
     ]
    },
    {
     "name": "stdout",
     "output_type": "stream",
     "text": [
      "Saved to A:\\Projects\\CollegeProjects\\YogaPartner\\intermediates\\v2\\adho_mukha_shvanasana_102.jpg\n",
      "Saved to A:\\Projects\\CollegeProjects\\YogaPartner\\intermediates\\v2\\virabhadrasana_ii_40.jpg\n"
     ]
    },
    {
     "name": "stderr",
     "output_type": "stream",
     "text": [
      "1532it [04:22,  6.52it/s]"
     ]
    },
    {
     "name": "stdout",
     "output_type": "stream",
     "text": [
      "Saved to A:\\Projects\\CollegeProjects\\YogaPartner\\intermediates\\v2\\virabhadrasana_ii_36.jpg\n",
      "Saved to A:\\Projects\\CollegeProjects\\YogaPartner\\intermediates\\v2\\utkata_konasana_187.jpg\n"
     ]
    },
    {
     "name": "stderr",
     "output_type": "stream",
     "text": [
      "1534it [04:22,  7.32it/s]"
     ]
    },
    {
     "name": "stdout",
     "output_type": "stream",
     "text": [
      "Saved to A:\\Projects\\CollegeProjects\\YogaPartner\\intermediates\\v2\\vrikshasana_280.jpg\n",
      "Saved to A:\\Projects\\CollegeProjects\\YogaPartner\\intermediates\\v2\\phalakasana_134.jpg\n"
     ]
    },
    {
     "name": "stderr",
     "output_type": "stream",
     "text": [
      "1536it [04:22,  7.95it/s]"
     ]
    },
    {
     "name": "stdout",
     "output_type": "stream",
     "text": [
      "Saved to A:\\Projects\\CollegeProjects\\YogaPartner\\intermediates\\v2\\bhujangasana_351.jpg\n",
      "Saved to A:\\Projects\\CollegeProjects\\YogaPartner\\intermediates\\v2\\bhujangasana_172.jpg\n",
      "Saved to A:\\Projects\\CollegeProjects\\YogaPartner\\intermediates\\v2\\utkatasana_181.jpg\n"
     ]
    },
    {
     "name": "stderr",
     "output_type": "stream",
     "text": [
      "1539it [04:23,  8.42it/s]"
     ]
    },
    {
     "name": "stdout",
     "output_type": "stream",
     "text": [
      "Saved to A:\\Projects\\CollegeProjects\\YogaPartner\\intermediates\\v2\\bhujangasana_372.jpg\n",
      "Saved to A:\\Projects\\CollegeProjects\\YogaPartner\\intermediates\\v2\\vrikshasana_201.jpg\n"
     ]
    },
    {
     "name": "stderr",
     "output_type": "stream",
     "text": [
      "\r",
      "1540it [04:23,  7.89it/s]"
     ]
    },
    {
     "name": "stdout",
     "output_type": "stream",
     "text": [
      "Saved to A:\\Projects\\CollegeProjects\\YogaPartner\\intermediates\\v2\\vrikshasana_158.jpg\n",
      "Saved to A:\\Projects\\CollegeProjects\\YogaPartner\\intermediates\\v2\\virabhadrasana_i_56.jpg\n"
     ]
    },
    {
     "name": "stderr",
     "output_type": "stream",
     "text": [
      "\r",
      "1542it [04:23,  8.53it/s]"
     ]
    },
    {
     "name": "stdout",
     "output_type": "stream",
     "text": [
      "Saved to A:\\Projects\\CollegeProjects\\YogaPartner\\intermediates\\v2\\vrikshasana_124.jpg\n",
      "Saved to A:\\Projects\\CollegeProjects\\YogaPartner\\intermediates\\v2\\utkata_konasana_118.jpg\n"
     ]
    },
    {
     "name": "stderr",
     "output_type": "stream",
     "text": [
      "1545it [04:24,  7.53it/s]"
     ]
    },
    {
     "name": "stdout",
     "output_type": "stream",
     "text": [
      "Saved to A:\\Projects\\CollegeProjects\\YogaPartner\\intermediates\\v2\\bhujangasana_302.jpg\n",
      "Saved to A:\\Projects\\CollegeProjects\\YogaPartner\\intermediates\\v2\\virabhadrasana_i_8.jpg\n"
     ]
    },
    {
     "name": "stderr",
     "output_type": "stream",
     "text": [
      "1547it [04:24,  6.98it/s]"
     ]
    },
    {
     "name": "stdout",
     "output_type": "stream",
     "text": [
      "Saved to A:\\Projects\\CollegeProjects\\YogaPartner\\intermediates\\v2\\phalakasana_107.jpg\n",
      "Saved to A:\\Projects\\CollegeProjects\\YogaPartner\\intermediates\\v2\\vrikshasana_321.jpg\n"
     ]
    },
    {
     "name": "stderr",
     "output_type": "stream",
     "text": [
      "1549it [04:24,  7.32it/s]"
     ]
    },
    {
     "name": "stdout",
     "output_type": "stream",
     "text": [
      "Saved to A:\\Projects\\CollegeProjects\\YogaPartner\\intermediates\\v2\\vrikshasana_102.jpg\n",
      "Saved to A:\\Projects\\CollegeProjects\\YogaPartner\\intermediates\\v2\\utkata_konasana_6.jpg\n"
     ]
    },
    {
     "name": "stderr",
     "output_type": "stream",
     "text": [
      "1552it [04:25,  7.36it/s]"
     ]
    },
    {
     "name": "stdout",
     "output_type": "stream",
     "text": [
      "Saved to A:\\Projects\\CollegeProjects\\YogaPartner\\intermediates\\v2\\virabhadrasana_i_84.jpg\n",
      "Saved to A:\\Projects\\CollegeProjects\\YogaPartner\\intermediates\\v2\\ustrasana_47.jpg\n",
      "Saved to A:\\Projects\\CollegeProjects\\YogaPartner\\intermediates\\v2\\virabhadrasana_ii_242.jpg\n"
     ]
    },
    {
     "name": "stderr",
     "output_type": "stream",
     "text": [
      "1554it [04:25,  7.45it/s]"
     ]
    },
    {
     "name": "stdout",
     "output_type": "stream",
     "text": [
      "Saved to A:\\Projects\\CollegeProjects\\YogaPartner\\intermediates\\v2\\bhujangasana_601.jpg\n",
      "Saved to A:\\Projects\\CollegeProjects\\YogaPartner\\intermediates\\v2\\adho_mukha_shvanasana_222.jpg\n"
     ]
    },
    {
     "name": "stderr",
     "output_type": "stream",
     "text": [
      "1557it [04:25,  8.49it/s]"
     ]
    },
    {
     "name": "stdout",
     "output_type": "stream",
     "text": [
      "Saved to A:\\Projects\\CollegeProjects\\YogaPartner\\intermediates\\v2\\virabhadrasana_ii_19.jpg\n",
      "Saved to A:\\Projects\\CollegeProjects\\YogaPartner\\intermediates\\v2\\bidalasana_136.jpg\n",
      "Saved to A:\\Projects\\CollegeProjects\\YogaPartner\\intermediates\\v2\\bhujangasana_592.jpg\n"
     ]
    },
    {
     "name": "stderr",
     "output_type": "stream",
     "text": [
      "1559it [04:25,  8.30it/s]"
     ]
    },
    {
     "name": "stdout",
     "output_type": "stream",
     "text": [
      "Saved to A:\\Projects\\CollegeProjects\\YogaPartner\\intermediates\\v2\\bhujangasana_199.jpg\n",
      "Saved to A:\\Projects\\CollegeProjects\\YogaPartner\\intermediates\\v2\\utkatasana_13.jpg\n"
     ]
    },
    {
     "name": "stderr",
     "output_type": "stream",
     "text": [
      "1562it [04:26,  7.69it/s]"
     ]
    },
    {
     "name": "stdout",
     "output_type": "stream",
     "text": [
      "Saved to A:\\Projects\\CollegeProjects\\YogaPartner\\intermediates\\v2\\bhujangasana_14.jpg\n",
      "Saved to A:\\Projects\\CollegeProjects\\YogaPartner\\intermediates\\v2\\bhujangasana_430.jpg\n",
      "Saved to A:\\Projects\\CollegeProjects\\YogaPartner\\intermediates\\v2\\phalakasana_37.jpg\n"
     ]
    },
    {
     "name": "stderr",
     "output_type": "stream",
     "text": [
      "\r",
      "1563it [04:26,  7.15it/s]"
     ]
    },
    {
     "name": "stdout",
     "output_type": "stream",
     "text": [
      "Saved to A:\\Projects\\CollegeProjects\\YogaPartner\\intermediates\\v2\\utkata_konasana_38.jpg\n"
     ]
    },
    {
     "name": "stderr",
     "output_type": "stream",
     "text": [
      "1565it [04:26,  6.43it/s]"
     ]
    },
    {
     "name": "stdout",
     "output_type": "stream",
     "text": [
      "Saved to A:\\Projects\\CollegeProjects\\YogaPartner\\intermediates\\v2\\bhujangasana_180.jpg\n",
      "Saved to A:\\Projects\\CollegeProjects\\YogaPartner\\intermediates\\v2\\ustrasana_19.jpg\n"
     ]
    },
    {
     "name": "stderr",
     "output_type": "stream",
     "text": [
      "1567it [04:27,  5.90it/s]"
     ]
    },
    {
     "name": "stdout",
     "output_type": "stream",
     "text": [
      "Saved to A:\\Projects\\CollegeProjects\\YogaPartner\\intermediates\\v2\\bhujangasana_149.jpg\n",
      "Saved to A:\\Projects\\CollegeProjects\\YogaPartner\\intermediates\\v2\\virabhadrasana_i_202.jpg\n"
     ]
    },
    {
     "name": "stderr",
     "output_type": "stream",
     "text": [
      "1569it [04:27,  6.50it/s]"
     ]
    },
    {
     "name": "stdout",
     "output_type": "stream",
     "text": [
      "Saved to A:\\Projects\\CollegeProjects\\YogaPartner\\intermediates\\v2\\virabhadrasana_ii_94.jpg\n",
      "Saved to A:\\Projects\\CollegeProjects\\YogaPartner\\intermediates\\v2\\virabhadrasana_ii_137.jpg\n"
     ]
    },
    {
     "name": "stderr",
     "output_type": "stream",
     "text": [
      "\r",
      "1570it [04:27,  6.71it/s]"
     ]
    },
    {
     "name": "stdout",
     "output_type": "stream",
     "text": [
      "Saved to A:\\Projects\\CollegeProjects\\YogaPartner\\intermediates\\v2\\adho_mukha_shvanasana_383.jpg\n"
     ]
    },
    {
     "name": "stderr",
     "output_type": "stream",
     "text": [
      "1572it [04:28,  5.72it/s]"
     ]
    },
    {
     "name": "stdout",
     "output_type": "stream",
     "text": [
      "Saved to A:\\Projects\\CollegeProjects\\YogaPartner\\intermediates\\v2\\bhujangasana_497.jpg\n",
      "Saved to A:\\Projects\\CollegeProjects\\YogaPartner\\intermediates\\v2\\virabhadrasana_i_128.jpg\n"
     ]
    },
    {
     "name": "stderr",
     "output_type": "stream",
     "text": [
      "\r",
      "1574it [04:28,  6.83it/s]"
     ]
    },
    {
     "name": "stdout",
     "output_type": "stream",
     "text": [
      "Saved to A:\\Projects\\CollegeProjects\\YogaPartner\\intermediates\\v2\\bidalasana_49.jpg\n",
      "Saved to A:\\Projects\\CollegeProjects\\YogaPartner\\intermediates\\v2\\bhujangasana_311.jpg\n"
     ]
    },
    {
     "name": "stderr",
     "output_type": "stream",
     "text": [
      "1576it [04:28,  5.93it/s]"
     ]
    },
    {
     "name": "stdout",
     "output_type": "stream",
     "text": [
      "Saved to A:\\Projects\\CollegeProjects\\YogaPartner\\intermediates\\v2\\bhujangasana_321.jpg\n",
      "Saved to A:\\Projects\\CollegeProjects\\YogaPartner\\intermediates\\v2\\adho_mukha_shvanasana_326.jpg\n"
     ]
    },
    {
     "name": "stderr",
     "output_type": "stream",
     "text": [
      "1578it [04:29,  6.40it/s]"
     ]
    },
    {
     "name": "stdout",
     "output_type": "stream",
     "text": [
      "Saved to A:\\Projects\\CollegeProjects\\YogaPartner\\intermediates\\v2\\virabhadrasana_ii_320.jpg\n",
      "Saved to A:\\Projects\\CollegeProjects\\YogaPartner\\intermediates\\v2\\adho_mukha_shvanasana_216.jpg\n"
     ]
    },
    {
     "name": "stderr",
     "output_type": "stream",
     "text": [
      "1580it [04:29,  7.05it/s]"
     ]
    },
    {
     "name": "stdout",
     "output_type": "stream",
     "text": [
      "Saved to A:\\Projects\\CollegeProjects\\YogaPartner\\intermediates\\v2\\utkatasana_22.jpg\n",
      "Saved to A:\\Projects\\CollegeProjects\\YogaPartner\\intermediates\\v2\\bidalasana_101.jpg\n"
     ]
    },
    {
     "name": "stderr",
     "output_type": "stream",
     "text": [
      "1582it [04:29,  6.78it/s]"
     ]
    },
    {
     "name": "stdout",
     "output_type": "stream",
     "text": [
      "Saved to A:\\Projects\\CollegeProjects\\YogaPartner\\intermediates\\v2\\virabhadrasana_i_60.jpg\n",
      "Saved to A:\\Projects\\CollegeProjects\\YogaPartner\\intermediates\\v2\\utkata_konasana_82.jpg\n"
     ]
    },
    {
     "name": "stderr",
     "output_type": "stream",
     "text": [
      "1585it [04:29,  8.38it/s]"
     ]
    },
    {
     "name": "stdout",
     "output_type": "stream",
     "text": [
      "Saved to A:\\Projects\\CollegeProjects\\YogaPartner\\intermediates\\v2\\adho_mukha_shvanasana_54.jpg\n",
      "Saved to A:\\Projects\\CollegeProjects\\YogaPartner\\intermediates\\v2\\utkatasana_133.jpg\n",
      "Saved to A:\\Projects\\CollegeProjects\\YogaPartner\\intermediates\\v2\\vasisthasana_11.jpg\n"
     ]
    },
    {
     "name": "stderr",
     "output_type": "stream",
     "text": [
      "\r",
      "1587it [04:30,  9.50it/s]"
     ]
    },
    {
     "name": "stdout",
     "output_type": "stream",
     "text": [
      "Saved to A:\\Projects\\CollegeProjects\\YogaPartner\\intermediates\\v2\\bidalasana_94.jpg\n",
      "No pose detected - length  - .\\data\\v2\\virabhadrasana_ii\\virabhadrasana_ii_266.jpg\n",
      "Saved to A:\\Projects\\CollegeProjects\\YogaPartner\\intermediates\\v2\\virabhadrasana_ii_266.jpg\n"
     ]
    },
    {
     "name": "stderr",
     "output_type": "stream",
     "text": [
      "1589it [04:30,  7.65it/s]"
     ]
    },
    {
     "name": "stdout",
     "output_type": "stream",
     "text": [
      "Saved to A:\\Projects\\CollegeProjects\\YogaPartner\\intermediates\\v2\\phalakasana_19.jpg\n",
      "Saved to A:\\Projects\\CollegeProjects\\YogaPartner\\intermediates\\v2\\vasisthasana_126.jpg\n"
     ]
    },
    {
     "name": "stderr",
     "output_type": "stream",
     "text": [
      "1591it [04:30,  6.68it/s]"
     ]
    },
    {
     "name": "stdout",
     "output_type": "stream",
     "text": [
      "Saved to A:\\Projects\\CollegeProjects\\YogaPartner\\intermediates\\v2\\utkata_konasana_206.jpg\n",
      "Saved to A:\\Projects\\CollegeProjects\\YogaPartner\\intermediates\\v2\\vrikshasana_113.jpg\n"
     ]
    },
    {
     "name": "stderr",
     "output_type": "stream",
     "text": [
      "\r",
      "1592it [04:30,  6.82it/s]"
     ]
    },
    {
     "name": "stdout",
     "output_type": "stream",
     "text": [
      "Saved to A:\\Projects\\CollegeProjects\\YogaPartner\\intermediates\\v2\\virabhadrasana_ii_103.jpg\n"
     ]
    },
    {
     "name": "stderr",
     "output_type": "stream",
     "text": [
      "1594it [04:31,  5.29it/s]"
     ]
    },
    {
     "name": "stdout",
     "output_type": "stream",
     "text": [
      "Saved to A:\\Projects\\CollegeProjects\\YogaPartner\\intermediates\\v2\\vrikshasana_316.jpg\n",
      "Saved to A:\\Projects\\CollegeProjects\\YogaPartner\\intermediates\\v2\\vrikshasana_221.jpg\n"
     ]
    },
    {
     "name": "stderr",
     "output_type": "stream",
     "text": [
      "1596it [04:31,  6.64it/s]"
     ]
    },
    {
     "name": "stdout",
     "output_type": "stream",
     "text": [
      "Saved to A:\\Projects\\CollegeProjects\\YogaPartner\\intermediates\\v2\\vrikshasana_195.jpg\n",
      "Saved to A:\\Projects\\CollegeProjects\\YogaPartner\\intermediates\\v2\\adho_mukha_shvanasana_46.jpg\n"
     ]
    },
    {
     "name": "stderr",
     "output_type": "stream",
     "text": [
      "\r",
      "1598it [04:31,  7.05it/s]"
     ]
    },
    {
     "name": "stdout",
     "output_type": "stream",
     "text": [
      "Saved to A:\\Projects\\CollegeProjects\\YogaPartner\\intermediates\\v2\\bhujangasana_468.jpg\n",
      "Saved to A:\\Projects\\CollegeProjects\\YogaPartner\\intermediates\\v2\\vasisthasana_102.jpg\n"
     ]
    },
    {
     "name": "stderr",
     "output_type": "stream",
     "text": [
      "1600it [04:32,  7.24it/s]"
     ]
    },
    {
     "name": "stdout",
     "output_type": "stream",
     "text": [
      "Saved to A:\\Projects\\CollegeProjects\\YogaPartner\\intermediates\\v2\\adho_mukha_shvanasana_390.jpg\n",
      "Saved to A:\\Projects\\CollegeProjects\\YogaPartner\\intermediates\\v2\\bhujangasana_4.jpg\n"
     ]
    },
    {
     "name": "stderr",
     "output_type": "stream",
     "text": [
      "1602it [04:32,  7.48it/s]"
     ]
    },
    {
     "name": "stdout",
     "output_type": "stream",
     "text": [
      "Saved to A:\\Projects\\CollegeProjects\\YogaPartner\\intermediates\\v2\\bhujangasana_479.jpg\n",
      "Saved to A:\\Projects\\CollegeProjects\\YogaPartner\\intermediates\\v2\\vrikshasana_23.jpg\n",
      "Saved to A:\\Projects\\CollegeProjects\\YogaPartner\\intermediates\\v2\\vrikshasana_220.jpg\n"
     ]
    },
    {
     "name": "stderr",
     "output_type": "stream",
     "text": [
      "1605it [04:32,  6.71it/s]"
     ]
    },
    {
     "name": "stdout",
     "output_type": "stream",
     "text": [
      "Saved to A:\\Projects\\CollegeProjects\\YogaPartner\\intermediates\\v2\\vrikshasana_48.jpg\n",
      "Saved to A:\\Projects\\CollegeProjects\\YogaPartner\\intermediates\\v2\\ustrasana_9.jpg\n"
     ]
    },
    {
     "name": "stderr",
     "output_type": "stream",
     "text": [
      "1607it [04:33,  7.36it/s]"
     ]
    },
    {
     "name": "stdout",
     "output_type": "stream",
     "text": [
      "Saved to A:\\Projects\\CollegeProjects\\YogaPartner\\intermediates\\v2\\bidalasana_246.jpeg\n",
      "Saved to A:\\Projects\\CollegeProjects\\YogaPartner\\intermediates\\v2\\vasisthasana_130.jpg\n"
     ]
    },
    {
     "name": "stderr",
     "output_type": "stream",
     "text": [
      "1609it [04:33,  6.59it/s]"
     ]
    },
    {
     "name": "stdout",
     "output_type": "stream",
     "text": [
      "Saved to A:\\Projects\\CollegeProjects\\YogaPartner\\intermediates\\v2\\bhujangasana_408.jpg\n",
      "Saved to A:\\Projects\\CollegeProjects\\YogaPartner\\intermediates\\v2\\utkata_konasana_156.jpg\n"
     ]
    },
    {
     "name": "stderr",
     "output_type": "stream",
     "text": [
      "1611it [04:34,  2.70it/s]"
     ]
    },
    {
     "name": "stdout",
     "output_type": "stream",
     "text": [
      "Saved to A:\\Projects\\CollegeProjects\\YogaPartner\\intermediates\\v2\\bhujangasana_546.jpg\n",
      "Saved to A:\\Projects\\CollegeProjects\\YogaPartner\\intermediates\\v2\\bhujangasana_341.jpg\n"
     ]
    },
    {
     "name": "stderr",
     "output_type": "stream",
     "text": [
      "\r",
      "1612it [04:35,  3.29it/s]"
     ]
    },
    {
     "name": "stdout",
     "output_type": "stream",
     "text": [
      "Saved to A:\\Projects\\CollegeProjects\\YogaPartner\\intermediates\\v2\\bhujangasana_495.jpg\n"
     ]
    },
    {
     "name": "stderr",
     "output_type": "stream",
     "text": [
      "1614it [04:35,  2.95it/s]"
     ]
    },
    {
     "name": "stdout",
     "output_type": "stream",
     "text": [
      "Saved to A:\\Projects\\CollegeProjects\\YogaPartner\\intermediates\\v2\\virabhadrasana_i_112.jpg\n",
      "Saved to A:\\Projects\\CollegeProjects\\YogaPartner\\intermediates\\v2\\bhujangasana_5.jpg\n"
     ]
    },
    {
     "name": "stderr",
     "output_type": "stream",
     "text": [
      "1616it [04:36,  2.90it/s]"
     ]
    },
    {
     "name": "stdout",
     "output_type": "stream",
     "text": [
      "Saved to A:\\Projects\\CollegeProjects\\YogaPartner\\intermediates\\v2\\phalakasana_52.jpg\n",
      "Saved to A:\\Projects\\CollegeProjects\\YogaPartner\\intermediates\\v2\\utkatasana_215.jpg\n",
      "Saved to A:\\Projects\\CollegeProjects\\YogaPartner\\intermediates\\v2\\virabhadrasana_ii_254.jpg\n"
     ]
    },
    {
     "name": "stderr",
     "output_type": "stream",
     "text": [
      "\r",
      "1618it [04:36,  4.26it/s]"
     ]
    },
    {
     "name": "stdout",
     "output_type": "stream",
     "text": [
      "Saved to A:\\Projects\\CollegeProjects\\YogaPartner\\intermediates\\v2\\bidalasana_153.jpg\n"
     ]
    },
    {
     "name": "stderr",
     "output_type": "stream",
     "text": [
      "1620it [04:37,  5.09it/s]"
     ]
    },
    {
     "name": "stdout",
     "output_type": "stream",
     "text": [
      "Saved to A:\\Projects\\CollegeProjects\\YogaPartner\\intermediates\\v2\\virabhadrasana_ii_233.jpg\n",
      "Saved to A:\\Projects\\CollegeProjects\\YogaPartner\\intermediates\\v2\\adho_mukha_shvanasana_143.jpg\n"
     ]
    },
    {
     "name": "stderr",
     "output_type": "stream",
     "text": [
      "1622it [04:37,  6.06it/s]"
     ]
    },
    {
     "name": "stdout",
     "output_type": "stream",
     "text": [
      "Saved to A:\\Projects\\CollegeProjects\\YogaPartner\\intermediates\\v2\\bhujangasana_252.jpg\n",
      "Saved to A:\\Projects\\CollegeProjects\\YogaPartner\\intermediates\\v2\\adho_mukha_shvanasana_290.jpg\n"
     ]
    },
    {
     "name": "stderr",
     "output_type": "stream",
     "text": [
      "1624it [04:37,  6.31it/s]"
     ]
    },
    {
     "name": "stdout",
     "output_type": "stream",
     "text": [
      "Saved to A:\\Projects\\CollegeProjects\\YogaPartner\\intermediates\\v2\\bhujangasana_558.jpg\n",
      "Saved to A:\\Projects\\CollegeProjects\\YogaPartner\\intermediates\\v2\\phalakasana_2.jpg\n"
     ]
    },
    {
     "name": "stderr",
     "output_type": "stream",
     "text": [
      "1626it [04:38,  6.67it/s]"
     ]
    },
    {
     "name": "stdout",
     "output_type": "stream",
     "text": [
      "Saved to A:\\Projects\\CollegeProjects\\YogaPartner\\intermediates\\v2\\adho_mukha_shvanasana_263.jpg\n",
      "Saved to A:\\Projects\\CollegeProjects\\YogaPartner\\intermediates\\v2\\virabhadrasana_ii_375.jpg\n"
     ]
    },
    {
     "name": "stderr",
     "output_type": "stream",
     "text": [
      "1628it [04:38,  7.32it/s]"
     ]
    },
    {
     "name": "stdout",
     "output_type": "stream",
     "text": [
      "Saved to A:\\Projects\\CollegeProjects\\YogaPartner\\intermediates\\v2\\virabhadrasana_ii_180.jpg\n",
      "Saved to A:\\Projects\\CollegeProjects\\YogaPartner\\intermediates\\v2\\virabhadrasana_ii_275.jpg\n"
     ]
    },
    {
     "name": "stderr",
     "output_type": "stream",
     "text": [
      "1630it [04:38,  8.17it/s]"
     ]
    },
    {
     "name": "stdout",
     "output_type": "stream",
     "text": [
      "Saved to A:\\Projects\\CollegeProjects\\YogaPartner\\intermediates\\v2\\adho_mukha_shvanasana_110.jpg\n",
      "Saved to A:\\Projects\\CollegeProjects\\YogaPartner\\intermediates\\v2\\vasisthasana_125.jpg\n"
     ]
    },
    {
     "name": "stderr",
     "output_type": "stream",
     "text": [
      "1632it [04:38,  7.15it/s]"
     ]
    },
    {
     "name": "stdout",
     "output_type": "stream",
     "text": [
      "Saved to A:\\Projects\\CollegeProjects\\YogaPartner\\intermediates\\v2\\bhujangasana_39.jpg\n",
      "Saved to A:\\Projects\\CollegeProjects\\YogaPartner\\intermediates\\v2\\utkata_konasana_60.jpg\n"
     ]
    },
    {
     "name": "stderr",
     "output_type": "stream",
     "text": [
      "1634it [04:39,  7.43it/s]"
     ]
    },
    {
     "name": "stdout",
     "output_type": "stream",
     "text": [
      "Saved to A:\\Projects\\CollegeProjects\\YogaPartner\\intermediates\\v2\\virabhadrasana_ii_122.jpg\n",
      "Saved to A:\\Projects\\CollegeProjects\\YogaPartner\\intermediates\\v2\\virabhadrasana_ii_277.jpg\n"
     ]
    },
    {
     "name": "stderr",
     "output_type": "stream",
     "text": [
      "\r",
      "1636it [04:39,  7.94it/s]"
     ]
    },
    {
     "name": "stdout",
     "output_type": "stream",
     "text": [
      "Saved to A:\\Projects\\CollegeProjects\\YogaPartner\\intermediates\\v2\\bidalasana_109.jpg\n",
      "Saved to A:\\Projects\\CollegeProjects\\YogaPartner\\intermediates\\v2\\virabhadrasana_ii_386.jpg\n"
     ]
    },
    {
     "name": "stderr",
     "output_type": "stream",
     "text": [
      "\r",
      "1637it [04:39,  7.76it/s]"
     ]
    },
    {
     "name": "stdout",
     "output_type": "stream",
     "text": [
      "Saved to A:\\Projects\\CollegeProjects\\YogaPartner\\intermediates\\v2\\bhujangasana_197.jpg\n",
      "Saved to A:\\Projects\\CollegeProjects\\YogaPartner\\intermediates\\v2\\virabhadrasana_ii_174.jpg\n"
     ]
    },
    {
     "name": "stderr",
     "output_type": "stream",
     "text": [
      "1641it [04:39,  8.86it/s]"
     ]
    },
    {
     "name": "stdout",
     "output_type": "stream",
     "text": [
      "Saved to A:\\Projects\\CollegeProjects\\YogaPartner\\intermediates\\v2\\bhujangasana_632.jpg\n",
      "Saved to A:\\Projects\\CollegeProjects\\YogaPartner\\intermediates\\v2\\bidalasana_167.jpg\n",
      "Saved to A:\\Projects\\CollegeProjects\\YogaPartner\\intermediates\\v2\\bhujangasana_150.jpg\n"
     ]
    },
    {
     "name": "stderr",
     "output_type": "stream",
     "text": [
      "1644it [04:40, 10.00it/s]"
     ]
    },
    {
     "name": "stdout",
     "output_type": "stream",
     "text": [
      "Saved to A:\\Projects\\CollegeProjects\\YogaPartner\\intermediates\\v2\\bidalasana_273.jpg\n",
      "Saved to A:\\Projects\\CollegeProjects\\YogaPartner\\intermediates\\v2\\phalakasana_29.jpg\n",
      "Saved to A:\\Projects\\CollegeProjects\\YogaPartner\\intermediates\\v2\\utkatasana_138.jpg\n"
     ]
    },
    {
     "name": "stderr",
     "output_type": "stream",
     "text": [
      "1646it [04:40,  9.11it/s]"
     ]
    },
    {
     "name": "stdout",
     "output_type": "stream",
     "text": [
      "Saved to A:\\Projects\\CollegeProjects\\YogaPartner\\intermediates\\v2\\virabhadrasana_ii_257.jpg\n",
      "Saved to A:\\Projects\\CollegeProjects\\YogaPartner\\intermediates\\v2\\bhujangasana_289.jpg\n"
     ]
    },
    {
     "name": "stderr",
     "output_type": "stream",
     "text": [
      "\r",
      "1648it [04:40,  8.20it/s]"
     ]
    },
    {
     "name": "stdout",
     "output_type": "stream",
     "text": [
      "Saved to A:\\Projects\\CollegeProjects\\YogaPartner\\intermediates\\v2\\bhujangasana_420.jpg\n",
      "Saved to A:\\Projects\\CollegeProjects\\YogaPartner\\intermediates\\v2\\vrikshasana_63.jpg\n"
     ]
    },
    {
     "name": "stderr",
     "output_type": "stream",
     "text": [
      "1650it [04:40,  7.36it/s]"
     ]
    },
    {
     "name": "stdout",
     "output_type": "stream",
     "text": [
      "Saved to A:\\Projects\\CollegeProjects\\YogaPartner\\intermediates\\v2\\utkatasana_5.jpg\n",
      "Saved to A:\\Projects\\CollegeProjects\\YogaPartner\\intermediates\\v2\\bhujangasana_193.jpg\n"
     ]
    },
    {
     "name": "stderr",
     "output_type": "stream",
     "text": [
      "1652it [04:41,  6.83it/s]"
     ]
    },
    {
     "name": "stdout",
     "output_type": "stream",
     "text": [
      "Saved to A:\\Projects\\CollegeProjects\\YogaPartner\\intermediates\\v2\\bhujangasana_425.jpg\n",
      "Saved to A:\\Projects\\CollegeProjects\\YogaPartner\\intermediates\\v2\\virabhadrasana_ii_73.jpg\n",
      "Saved to A:\\Projects\\CollegeProjects\\YogaPartner\\intermediates\\v2\\utkata_konasana_174.jpg\n"
     ]
    },
    {
     "name": "stderr",
     "output_type": "stream",
     "text": [
      "1656it [04:42,  4.88it/s]"
     ]
    },
    {
     "name": "stdout",
     "output_type": "stream",
     "text": [
      "Saved to A:\\Projects\\CollegeProjects\\YogaPartner\\intermediates\\v2\\utkatasana_92.jpg\n",
      "Saved to A:\\Projects\\CollegeProjects\\YogaPartner\\intermediates\\v2\\bhujangasana_591.jpg\n",
      "Saved to A:\\Projects\\CollegeProjects\\YogaPartner\\intermediates\\v2\\bidalasana_256.jpg\n"
     ]
    },
    {
     "name": "stderr",
     "output_type": "stream",
     "text": [
      "\r",
      "1657it [04:42,  5.05it/s]"
     ]
    },
    {
     "name": "stdout",
     "output_type": "stream",
     "text": [
      "Saved to A:\\Projects\\CollegeProjects\\YogaPartner\\intermediates\\v2\\vrikshasana_34.jpg\n",
      "Saved to A:\\Projects\\CollegeProjects\\YogaPartner\\intermediates\\v2\\bhujangasana_615.jpg\n"
     ]
    },
    {
     "name": "stderr",
     "output_type": "stream",
     "text": [
      "1660it [04:42,  6.69it/s]"
     ]
    },
    {
     "name": "stdout",
     "output_type": "stream",
     "text": [
      "Saved to A:\\Projects\\CollegeProjects\\YogaPartner\\intermediates\\v2\\adho_mukha_shvanasana_90.jpg\n",
      "Saved to A:\\Projects\\CollegeProjects\\YogaPartner\\intermediates\\v2\\bidalasana_13.jpg\n"
     ]
    },
    {
     "name": "stderr",
     "output_type": "stream",
     "text": [
      "1662it [04:43,  6.42it/s]"
     ]
    },
    {
     "name": "stdout",
     "output_type": "stream",
     "text": [
      "Saved to A:\\Projects\\CollegeProjects\\YogaPartner\\intermediates\\v2\\virabhadrasana_i_9.jpg\n",
      "Saved to A:\\Projects\\CollegeProjects\\YogaPartner\\intermediates\\v2\\virabhadrasana_ii_208.jpg\n"
     ]
    },
    {
     "name": "stderr",
     "output_type": "stream",
     "text": [
      "\r",
      "1663it [04:43,  6.65it/s]"
     ]
    },
    {
     "name": "stdout",
     "output_type": "stream",
     "text": [
      "Saved to A:\\Projects\\CollegeProjects\\YogaPartner\\intermediates\\v2\\vrikshasana_269.jpg\n"
     ]
    },
    {
     "name": "stderr",
     "output_type": "stream",
     "text": [
      "1665it [04:43,  5.16it/s]"
     ]
    },
    {
     "name": "stdout",
     "output_type": "stream",
     "text": [
      "Saved to A:\\Projects\\CollegeProjects\\YogaPartner\\intermediates\\v2\\phalakasana_124.jpg\n",
      "Saved to A:\\Projects\\CollegeProjects\\YogaPartner\\intermediates\\v2\\virabhadrasana_i_116.jpg\n"
     ]
    },
    {
     "name": "stderr",
     "output_type": "stream",
     "text": [
      "1667it [04:44,  6.39it/s]"
     ]
    },
    {
     "name": "stdout",
     "output_type": "stream",
     "text": [
      "Saved to A:\\Projects\\CollegeProjects\\YogaPartner\\intermediates\\v2\\bhujangasana_641.jpg\n",
      "Saved to A:\\Projects\\CollegeProjects\\YogaPartner\\intermediates\\v2\\utkata_konasana_116.jpg\n"
     ]
    },
    {
     "name": "stderr",
     "output_type": "stream",
     "text": [
      "1669it [04:44,  6.55it/s]"
     ]
    },
    {
     "name": "stdout",
     "output_type": "stream",
     "text": [
      "Saved to A:\\Projects\\CollegeProjects\\YogaPartner\\intermediates\\v2\\phalakasana_141.jpg\n",
      "Saved to A:\\Projects\\CollegeProjects\\YogaPartner\\intermediates\\v2\\bhujangasana_142.jpg\n"
     ]
    },
    {
     "name": "stderr",
     "output_type": "stream",
     "text": [
      "\r",
      "1671it [04:44,  8.05it/s]"
     ]
    },
    {
     "name": "stdout",
     "output_type": "stream",
     "text": [
      "Saved to A:\\Projects\\CollegeProjects\\YogaPartner\\intermediates\\v2\\bhujangasana_41.jpg\n",
      "Saved to A:\\Projects\\CollegeProjects\\YogaPartner\\intermediates\\v2\\adho_mukha_shvanasana_350.jpg\n"
     ]
    },
    {
     "name": "stderr",
     "output_type": "stream",
     "text": [
      "1673it [04:44,  8.00it/s]"
     ]
    },
    {
     "name": "stdout",
     "output_type": "stream",
     "text": [
      "Saved to A:\\Projects\\CollegeProjects\\YogaPartner\\intermediates\\v2\\bhujangasana_655.jpg\n",
      "Saved to A:\\Projects\\CollegeProjects\\YogaPartner\\intermediates\\v2\\bhujangasana_424.jpg\n"
     ]
    },
    {
     "name": "stderr",
     "output_type": "stream",
     "text": [
      "1676it [04:45,  8.23it/s]"
     ]
    },
    {
     "name": "stdout",
     "output_type": "stream",
     "text": [
      "Saved to A:\\Projects\\CollegeProjects\\YogaPartner\\intermediates\\v2\\adho_mukha_shvanasana_247.jpg\n",
      "Saved to A:\\Projects\\CollegeProjects\\YogaPartner\\intermediates\\v2\\vrikshasana_266.jpg\n",
      "Saved to A:\\Projects\\CollegeProjects\\YogaPartner\\intermediates\\v2\\utkata_konasana_165.jpg\n"
     ]
    },
    {
     "name": "stderr",
     "output_type": "stream",
     "text": [
      "1678it [04:45,  6.71it/s]"
     ]
    },
    {
     "name": "stdout",
     "output_type": "stream",
     "text": [
      "Saved to A:\\Projects\\CollegeProjects\\YogaPartner\\intermediates\\v2\\virabhadrasana_ii_199.jpg\n",
      "Saved to A:\\Projects\\CollegeProjects\\YogaPartner\\intermediates\\v2\\virabhadrasana_ii_100.jpg\n"
     ]
    },
    {
     "name": "stderr",
     "output_type": "stream",
     "text": [
      "\r",
      "1679it [04:45,  6.50it/s]"
     ]
    },
    {
     "name": "stdout",
     "output_type": "stream",
     "text": [
      "Saved to A:\\Projects\\CollegeProjects\\YogaPartner\\intermediates\\v2\\vasisthasana_93.jpg\n"
     ]
    },
    {
     "name": "stderr",
     "output_type": "stream",
     "text": [
      "1681it [04:46,  5.21it/s]"
     ]
    },
    {
     "name": "stdout",
     "output_type": "stream",
     "text": [
      "Saved to A:\\Projects\\CollegeProjects\\YogaPartner\\intermediates\\v2\\vasisthasana_65.jpg\n",
      "Saved to A:\\Projects\\CollegeProjects\\YogaPartner\\intermediates\\v2\\adho_mukha_shvanasana_3.jpg\n"
     ]
    },
    {
     "name": "stderr",
     "output_type": "stream",
     "text": [
      "1683it [04:46,  6.41it/s]"
     ]
    },
    {
     "name": "stdout",
     "output_type": "stream",
     "text": [
      "Saved to A:\\Projects\\CollegeProjects\\YogaPartner\\intermediates\\v2\\vasisthasana_17.jpg\n",
      "Saved to A:\\Projects\\CollegeProjects\\YogaPartner\\intermediates\\v2\\virabhadrasana_ii_141.jpg\n"
     ]
    },
    {
     "name": "stderr",
     "output_type": "stream",
     "text": [
      "1685it [04:46,  6.96it/s]"
     ]
    },
    {
     "name": "stdout",
     "output_type": "stream",
     "text": [
      "Saved to A:\\Projects\\CollegeProjects\\YogaPartner\\intermediates\\v2\\ustrasana_23.jpg\n",
      "Saved to A:\\Projects\\CollegeProjects\\YogaPartner\\intermediates\\v2\\bhujangasana_72.jpg\n"
     ]
    },
    {
     "name": "stderr",
     "output_type": "stream",
     "text": [
      "\r",
      "1687it [04:46,  7.97it/s]"
     ]
    },
    {
     "name": "stdout",
     "output_type": "stream",
     "text": [
      "Saved to A:\\Projects\\CollegeProjects\\YogaPartner\\intermediates\\v2\\bhujangasana_107.jpg\n",
      "Saved to A:\\Projects\\CollegeProjects\\YogaPartner\\intermediates\\v2\\bidalasana_198.jpg\n"
     ]
    },
    {
     "name": "stderr",
     "output_type": "stream",
     "text": [
      "1689it [04:47,  8.14it/s]"
     ]
    },
    {
     "name": "stdout",
     "output_type": "stream",
     "text": [
      "Saved to A:\\Projects\\CollegeProjects\\YogaPartner\\intermediates\\v2\\bidalasana_255.jpg\n",
      "Saved to A:\\Projects\\CollegeProjects\\YogaPartner\\intermediates\\v2\\bidalasana_203.jpg\n"
     ]
    },
    {
     "name": "stderr",
     "output_type": "stream",
     "text": [
      "1691it [04:47,  6.72it/s]"
     ]
    },
    {
     "name": "stdout",
     "output_type": "stream",
     "text": [
      "Saved to A:\\Projects\\CollegeProjects\\YogaPartner\\intermediates\\v2\\phalakasana_83.jpg\n",
      "Saved to A:\\Projects\\CollegeProjects\\YogaPartner\\intermediates\\v2\\bhujangasana_275.jpg\n"
     ]
    },
    {
     "name": "stderr",
     "output_type": "stream",
     "text": [
      "1693it [04:47,  7.42it/s]"
     ]
    },
    {
     "name": "stdout",
     "output_type": "stream",
     "text": [
      "Saved to A:\\Projects\\CollegeProjects\\YogaPartner\\intermediates\\v2\\utkatasana_102.jpg\n",
      "Saved to A:\\Projects\\CollegeProjects\\YogaPartner\\intermediates\\v2\\bhujangasana_88.jpg\n"
     ]
    },
    {
     "name": "stderr",
     "output_type": "stream",
     "text": [
      "\r",
      "1695it [04:47,  8.11it/s]"
     ]
    },
    {
     "name": "stdout",
     "output_type": "stream",
     "text": [
      "Saved to A:\\Projects\\CollegeProjects\\YogaPartner\\intermediates\\v2\\bhujangasana_137.jpg\n",
      "Saved to A:\\Projects\\CollegeProjects\\YogaPartner\\intermediates\\v2\\vrikshasana_65.jpg\n"
     ]
    },
    {
     "name": "stderr",
     "output_type": "stream",
     "text": [
      "1697it [04:48,  8.25it/s]"
     ]
    },
    {
     "name": "stdout",
     "output_type": "stream",
     "text": [
      "Saved to A:\\Projects\\CollegeProjects\\YogaPartner\\intermediates\\v2\\virabhadrasana_i_4.jpg\n",
      "Saved to A:\\Projects\\CollegeProjects\\YogaPartner\\intermediates\\v2\\vasisthasana_35.jpg\n"
     ]
    },
    {
     "name": "stderr",
     "output_type": "stream",
     "text": [
      "1699it [04:48,  8.71it/s]"
     ]
    },
    {
     "name": "stdout",
     "output_type": "stream",
     "text": [
      "Saved to A:\\Projects\\CollegeProjects\\YogaPartner\\intermediates\\v2\\utkatasana_104.jpg\n",
      "Saved to A:\\Projects\\CollegeProjects\\YogaPartner\\intermediates\\v2\\adho_mukha_shvanasana_45.jpg\n",
      "Saved to A:\\Projects\\CollegeProjects\\YogaPartner\\intermediates\\v2\\bidalasana_20.jpg\n"
     ]
    },
    {
     "name": "stderr",
     "output_type": "stream",
     "text": [
      "1702it [04:48,  7.81it/s]"
     ]
    },
    {
     "name": "stdout",
     "output_type": "stream",
     "text": [
      "Saved to A:\\Projects\\CollegeProjects\\YogaPartner\\intermediates\\v2\\bhujangasana_129.jpg\n",
      "Saved to A:\\Projects\\CollegeProjects\\YogaPartner\\intermediates\\v2\\virabhadrasana_i_153.jpg\n"
     ]
    },
    {
     "name": "stderr",
     "output_type": "stream",
     "text": [
      "1704it [04:49,  6.79it/s]"
     ]
    },
    {
     "name": "stdout",
     "output_type": "stream",
     "text": [
      "Saved to A:\\Projects\\CollegeProjects\\YogaPartner\\intermediates\\v2\\vasisthasana_98.jpg\n",
      "Saved to A:\\Projects\\CollegeProjects\\YogaPartner\\intermediates\\v2\\utkata_konasana_170.jpg\n"
     ]
    },
    {
     "name": "stderr",
     "output_type": "stream",
     "text": [
      "\r",
      "1705it [04:49,  6.31it/s]"
     ]
    },
    {
     "name": "stdout",
     "output_type": "stream",
     "text": [
      "Saved to A:\\Projects\\CollegeProjects\\YogaPartner\\intermediates\\v2\\utkatasana_50.jpg\n",
      "Saved to A:\\Projects\\CollegeProjects\\YogaPartner\\intermediates\\v2\\utkatasana_111.jpg\n"
     ]
    },
    {
     "name": "stderr",
     "output_type": "stream",
     "text": [
      "1708it [04:49,  6.93it/s]"
     ]
    },
    {
     "name": "stdout",
     "output_type": "stream",
     "text": [
      "Saved to A:\\Projects\\CollegeProjects\\YogaPartner\\intermediates\\v2\\virabhadrasana_ii_83.jpg\n",
      "Saved to A:\\Projects\\CollegeProjects\\YogaPartner\\intermediates\\v2\\vrikshasana_163.jpg\n"
     ]
    },
    {
     "name": "stderr",
     "output_type": "stream",
     "text": [
      "1710it [04:50,  3.56it/s]"
     ]
    },
    {
     "name": "stdout",
     "output_type": "stream",
     "text": [
      "Saved to A:\\Projects\\CollegeProjects\\YogaPartner\\intermediates\\v2\\utkata_konasana_113.jpg\n",
      "Saved to A:\\Projects\\CollegeProjects\\YogaPartner\\intermediates\\v2\\bhujangasana_118.jpg\n"
     ]
    },
    {
     "name": "stderr",
     "output_type": "stream",
     "text": [
      "1712it [04:51,  4.83it/s]"
     ]
    },
    {
     "name": "stdout",
     "output_type": "stream",
     "text": [
      "Saved to A:\\Projects\\CollegeProjects\\YogaPartner\\intermediates\\v2\\virabhadrasana_i_27.jpg\n",
      "Saved to A:\\Projects\\CollegeProjects\\YogaPartner\\intermediates\\v2\\phalakasana_66.jpg\n"
     ]
    },
    {
     "name": "stderr",
     "output_type": "stream",
     "text": [
      "\r",
      "1714it [04:51,  6.24it/s]"
     ]
    },
    {
     "name": "stdout",
     "output_type": "stream",
     "text": [
      "Saved to A:\\Projects\\CollegeProjects\\YogaPartner\\intermediates\\v2\\bhujangasana_512.jpg\n",
      "Saved to A:\\Projects\\CollegeProjects\\YogaPartner\\intermediates\\v2\\utkata_konasana_65.jpg\n"
     ]
    },
    {
     "name": "stderr",
     "output_type": "stream",
     "text": [
      "1716it [04:51,  6.69it/s]"
     ]
    },
    {
     "name": "stdout",
     "output_type": "stream",
     "text": [
      "Saved to A:\\Projects\\CollegeProjects\\YogaPartner\\intermediates\\v2\\bhujangasana_461.jpg\n",
      "Saved to A:\\Projects\\CollegeProjects\\YogaPartner\\intermediates\\v2\\vrikshasana_64.jpg\n"
     ]
    },
    {
     "name": "stderr",
     "output_type": "stream",
     "text": [
      "1718it [04:51,  6.56it/s]"
     ]
    },
    {
     "name": "stdout",
     "output_type": "stream",
     "text": [
      "Saved to A:\\Projects\\CollegeProjects\\YogaPartner\\intermediates\\v2\\virabhadrasana_ii_226.jpg\n",
      "Saved to A:\\Projects\\CollegeProjects\\YogaPartner\\intermediates\\v2\\bidalasana_180.jpg\n"
     ]
    },
    {
     "name": "stderr",
     "output_type": "stream",
     "text": [
      "1720it [04:52,  6.87it/s]"
     ]
    },
    {
     "name": "stdout",
     "output_type": "stream",
     "text": [
      "Saved to A:\\Projects\\CollegeProjects\\YogaPartner\\intermediates\\v2\\utkata_konasana_21.jpg\n",
      "Saved to A:\\Projects\\CollegeProjects\\YogaPartner\\intermediates\\v2\\adho_mukha_shvanasana_236.jpg\n"
     ]
    },
    {
     "name": "stderr",
     "output_type": "stream",
     "text": [
      "\r",
      "1722it [04:52,  7.73it/s]"
     ]
    },
    {
     "name": "stdout",
     "output_type": "stream",
     "text": [
      "Saved to A:\\Projects\\CollegeProjects\\YogaPartner\\intermediates\\v2\\bhujangasana_465.jpg\n",
      "Saved to A:\\Projects\\CollegeProjects\\YogaPartner\\intermediates\\v2\\adho_mukha_shvanasana_423.jpg\n"
     ]
    },
    {
     "name": "stderr",
     "output_type": "stream",
     "text": [
      "1724it [04:52,  7.30it/s]"
     ]
    },
    {
     "name": "stdout",
     "output_type": "stream",
     "text": [
      "Saved to A:\\Projects\\CollegeProjects\\YogaPartner\\intermediates\\v2\\virabhadrasana_i_126.jpg\n",
      "Saved to A:\\Projects\\CollegeProjects\\YogaPartner\\intermediates\\v2\\utkatasana_85.jpg\n"
     ]
    },
    {
     "name": "stderr",
     "output_type": "stream",
     "text": [
      "1726it [04:52,  8.09it/s]"
     ]
    },
    {
     "name": "stdout",
     "output_type": "stream",
     "text": [
      "Saved to A:\\Projects\\CollegeProjects\\YogaPartner\\intermediates\\v2\\vrikshasana_99.jpg\n",
      "Saved to A:\\Projects\\CollegeProjects\\YogaPartner\\intermediates\\v2\\bidalasana_266.jpg\n"
     ]
    },
    {
     "name": "stderr",
     "output_type": "stream",
     "text": [
      "\r",
      "1727it [04:53,  6.91it/s]"
     ]
    },
    {
     "name": "stdout",
     "output_type": "stream",
     "text": [
      "Saved to A:\\Projects\\CollegeProjects\\YogaPartner\\intermediates\\v2\\bhujangasana_254.jpg\n"
     ]
    },
    {
     "name": "stderr",
     "output_type": "stream",
     "text": [
      "\r",
      "1728it [04:53,  5.64it/s]"
     ]
    },
    {
     "name": "stdout",
     "output_type": "stream",
     "text": [
      "Saved to A:\\Projects\\CollegeProjects\\YogaPartner\\intermediates\\v2\\virabhadrasana_ii_167.jpg\n"
     ]
    },
    {
     "name": "stderr",
     "output_type": "stream",
     "text": [
      "\r",
      "1729it [04:53,  4.90it/s]"
     ]
    },
    {
     "name": "stdout",
     "output_type": "stream",
     "text": [
      "Saved to A:\\Projects\\CollegeProjects\\YogaPartner\\intermediates\\v2\\utkatasana_169.jpg\n"
     ]
    },
    {
     "name": "stderr",
     "output_type": "stream",
     "text": [
      "1731it [04:54,  3.34it/s]"
     ]
    },
    {
     "name": "stdout",
     "output_type": "stream",
     "text": [
      "Saved to A:\\Projects\\CollegeProjects\\YogaPartner\\intermediates\\v2\\adho_mukha_shvanasana_144.jpg\n",
      "Saved to A:\\Projects\\CollegeProjects\\YogaPartner\\intermediates\\v2\\vrikshasana_223.jpg\n"
     ]
    },
    {
     "name": "stderr",
     "output_type": "stream",
     "text": [
      "\r",
      "1732it [04:54,  4.07it/s]"
     ]
    },
    {
     "name": "stdout",
     "output_type": "stream",
     "text": [
      "Saved to A:\\Projects\\CollegeProjects\\YogaPartner\\intermediates\\v2\\bidalasana_195.jpg\n",
      "Saved to A:\\Projects\\CollegeProjects\\YogaPartner\\intermediates\\v2\\bidalasana_192.jpg\n"
     ]
    },
    {
     "name": "stderr",
     "output_type": "stream",
     "text": [
      "1735it [04:55,  4.80it/s]"
     ]
    },
    {
     "name": "stdout",
     "output_type": "stream",
     "text": [
      "Saved to A:\\Projects\\CollegeProjects\\YogaPartner\\intermediates\\v2\\bhujangasana_251.jpg\n",
      "Saved to A:\\Projects\\CollegeProjects\\YogaPartner\\intermediates\\v2\\virabhadrasana_ii_336.jpg\n"
     ]
    },
    {
     "name": "stderr",
     "output_type": "stream",
     "text": [
      "1737it [04:55,  6.21it/s]"
     ]
    },
    {
     "name": "stdout",
     "output_type": "stream",
     "text": [
      "Saved to A:\\Projects\\CollegeProjects\\YogaPartner\\intermediates\\v2\\virabhadrasana_i_191.jpg\n",
      "Saved to A:\\Projects\\CollegeProjects\\YogaPartner\\intermediates\\v2\\ustrasana_54.jpg\n"
     ]
    },
    {
     "name": "stderr",
     "output_type": "stream",
     "text": [
      "1739it [04:55,  6.50it/s]"
     ]
    },
    {
     "name": "stdout",
     "output_type": "stream",
     "text": [
      "Saved to A:\\Projects\\CollegeProjects\\YogaPartner\\intermediates\\v2\\bhujangasana_407.jpg\n",
      "Saved to A:\\Projects\\CollegeProjects\\YogaPartner\\intermediates\\v2\\virabhadrasana_ii_179.jpg\n"
     ]
    },
    {
     "name": "stderr",
     "output_type": "stream",
     "text": [
      "\r",
      "1740it [04:55,  7.02it/s]"
     ]
    },
    {
     "name": "stdout",
     "output_type": "stream",
     "text": [
      "Saved to A:\\Projects\\CollegeProjects\\YogaPartner\\intermediates\\v2\\bhujangasana_217.jpg\n",
      "Saved to A:\\Projects\\CollegeProjects\\YogaPartner\\intermediates\\v2\\vrikshasana_123.jpg\n"
     ]
    },
    {
     "name": "stderr",
     "output_type": "stream",
     "text": [
      "1743it [04:56,  7.71it/s]"
     ]
    },
    {
     "name": "stdout",
     "output_type": "stream",
     "text": [
      "Saved to A:\\Projects\\CollegeProjects\\YogaPartner\\intermediates\\v2\\adho_mukha_shvanasana_94.jpg\n",
      "Saved to A:\\Projects\\CollegeProjects\\YogaPartner\\intermediates\\v2\\virabhadrasana_ii_61.jpg\n"
     ]
    },
    {
     "name": "stderr",
     "output_type": "stream",
     "text": [
      "1746it [04:56,  8.72it/s]"
     ]
    },
    {
     "name": "stdout",
     "output_type": "stream",
     "text": [
      "Saved to A:\\Projects\\CollegeProjects\\YogaPartner\\intermediates\\v2\\bhujangasana_476.jpg\n",
      "Saved to A:\\Projects\\CollegeProjects\\YogaPartner\\intermediates\\v2\\virabhadrasana_i_73.jpg\n",
      "Saved to A:\\Projects\\CollegeProjects\\YogaPartner\\intermediates\\v2\\virabhadrasana_i_157.jpg\n"
     ]
    },
    {
     "name": "stderr",
     "output_type": "stream",
     "text": [
      "1748it [04:56,  8.31it/s]"
     ]
    },
    {
     "name": "stdout",
     "output_type": "stream",
     "text": [
      "Saved to A:\\Projects\\CollegeProjects\\YogaPartner\\intermediates\\v2\\bhujangasana_249.jpg\n",
      "Saved to A:\\Projects\\CollegeProjects\\YogaPartner\\intermediates\\v2\\bidalasana_126.jpg\n"
     ]
    },
    {
     "name": "stderr",
     "output_type": "stream",
     "text": [
      "1750it [04:57,  4.95it/s]"
     ]
    },
    {
     "name": "stdout",
     "output_type": "stream",
     "text": [
      "Saved to A:\\Projects\\CollegeProjects\\YogaPartner\\intermediates\\v2\\virabhadrasana_ii_212.jpg\n",
      "Saved to A:\\Projects\\CollegeProjects\\YogaPartner\\intermediates\\v2\\virabhadrasana_ii_241.jpg\n"
     ]
    },
    {
     "name": "stderr",
     "output_type": "stream",
     "text": [
      "1752it [04:57,  6.35it/s]"
     ]
    },
    {
     "name": "stdout",
     "output_type": "stream",
     "text": [
      "Saved to A:\\Projects\\CollegeProjects\\YogaPartner\\intermediates\\v2\\utkatasana_149.jpg\n",
      "Saved to A:\\Projects\\CollegeProjects\\YogaPartner\\intermediates\\v2\\adho_mukha_shvanasana_132.jpg\n"
     ]
    },
    {
     "name": "stderr",
     "output_type": "stream",
     "text": [
      "1754it [04:58,  5.05it/s]"
     ]
    },
    {
     "name": "stdout",
     "output_type": "stream",
     "text": [
      "Saved to A:\\Projects\\CollegeProjects\\YogaPartner\\intermediates\\v2\\utkata_konasana_123.jpg\n",
      "Saved to A:\\Projects\\CollegeProjects\\YogaPartner\\intermediates\\v2\\bhujangasana_551.jpg\n"
     ]
    },
    {
     "name": "stderr",
     "output_type": "stream",
     "text": [
      "1756it [04:58,  6.31it/s]"
     ]
    },
    {
     "name": "stdout",
     "output_type": "stream",
     "text": [
      "Saved to A:\\Projects\\CollegeProjects\\YogaPartner\\intermediates\\v2\\utkata_konasana_97.jpg\n",
      "Saved to A:\\Projects\\CollegeProjects\\YogaPartner\\intermediates\\v2\\bidalasana_64.jpg\n"
     ]
    },
    {
     "name": "stderr",
     "output_type": "stream",
     "text": [
      "1759it [04:58,  7.83it/s]"
     ]
    },
    {
     "name": "stdout",
     "output_type": "stream",
     "text": [
      "Saved to A:\\Projects\\CollegeProjects\\YogaPartner\\intermediates\\v2\\bhujangasana_440.jpg\n",
      "Saved to A:\\Projects\\CollegeProjects\\YogaPartner\\intermediates\\v2\\phalakasana_26.jpg\n",
      "Saved to A:\\Projects\\CollegeProjects\\YogaPartner\\intermediates\\v2\\adho_mukha_shvanasana_164.jpg\n"
     ]
    },
    {
     "name": "stderr",
     "output_type": "stream",
     "text": [
      "1761it [04:58,  6.94it/s]"
     ]
    },
    {
     "name": "stdout",
     "output_type": "stream",
     "text": [
      "Saved to A:\\Projects\\CollegeProjects\\YogaPartner\\intermediates\\v2\\bhujangasana_564.jpg\n",
      "Saved to A:\\Projects\\CollegeProjects\\YogaPartner\\intermediates\\v2\\utkatasana_96.jpg\n"
     ]
    },
    {
     "name": "stderr",
     "output_type": "stream",
     "text": [
      "\r",
      "1762it [04:59,  7.06it/s]"
     ]
    },
    {
     "name": "stdout",
     "output_type": "stream",
     "text": [
      "Saved to A:\\Projects\\CollegeProjects\\YogaPartner\\intermediates\\v2\\adho_mukha_shvanasana_321.jpg\n"
     ]
    },
    {
     "name": "stderr",
     "output_type": "stream",
     "text": [
      "1764it [04:59,  6.45it/s]"
     ]
    },
    {
     "name": "stdout",
     "output_type": "stream",
     "text": [
      "Saved to A:\\Projects\\CollegeProjects\\YogaPartner\\intermediates\\v2\\utkata_konasana_75.jpg\n",
      "Saved to A:\\Projects\\CollegeProjects\\YogaPartner\\intermediates\\v2\\utkatasana_201.jpg\n"
     ]
    },
    {
     "name": "stderr",
     "output_type": "stream",
     "text": [
      "1766it [04:59,  7.55it/s]"
     ]
    },
    {
     "name": "stdout",
     "output_type": "stream",
     "text": [
      "Saved to A:\\Projects\\CollegeProjects\\YogaPartner\\intermediates\\v2\\phalakasana_9.jpg\n",
      "Saved to A:\\Projects\\CollegeProjects\\YogaPartner\\intermediates\\v2\\virabhadrasana_ii_295.jpg\n"
     ]
    },
    {
     "name": "stderr",
     "output_type": "stream",
     "text": [
      "\r",
      "1768it [04:59,  8.60it/s]"
     ]
    },
    {
     "name": "stdout",
     "output_type": "stream",
     "text": [
      "Saved to A:\\Projects\\CollegeProjects\\YogaPartner\\intermediates\\v2\\ustrasana_12.jpg\n",
      "Saved to A:\\Projects\\CollegeProjects\\YogaPartner\\intermediates\\v2\\adho_mukha_shvanasana_22.jpg\n",
      "Saved to A:\\Projects\\CollegeProjects\\YogaPartner\\intermediates\\v2\\utkata_konasana_127.jpg\n"
     ]
    },
    {
     "name": "stderr",
     "output_type": "stream",
     "text": [
      "1771it [05:00,  8.55it/s]"
     ]
    },
    {
     "name": "stdout",
     "output_type": "stream",
     "text": [
      "Saved to A:\\Projects\\CollegeProjects\\YogaPartner\\intermediates\\v2\\virabhadrasana_i_185.jpg\n",
      "Saved to A:\\Projects\\CollegeProjects\\YogaPartner\\intermediates\\v2\\phalakasana_62.jpg\n"
     ]
    },
    {
     "name": "stderr",
     "output_type": "stream",
     "text": [
      "\r",
      "1773it [05:00,  7.84it/s]"
     ]
    },
    {
     "name": "stdout",
     "output_type": "stream",
     "text": [
      "Saved to A:\\Projects\\CollegeProjects\\YogaPartner\\intermediates\\v2\\bidalasana_241.jpg\n",
      "Saved to A:\\Projects\\CollegeProjects\\YogaPartner\\intermediates\\v2\\virabhadrasana_ii_214.jpg\n"
     ]
    },
    {
     "name": "stderr",
     "output_type": "stream",
     "text": [
      "1775it [05:00,  7.72it/s]"
     ]
    },
    {
     "name": "stdout",
     "output_type": "stream",
     "text": [
      "Saved to A:\\Projects\\CollegeProjects\\YogaPartner\\intermediates\\v2\\virabhadrasana_i_144.jpg\n",
      "Saved to A:\\Projects\\CollegeProjects\\YogaPartner\\intermediates\\v2\\utkata_konasana_74.jpg\n"
     ]
    },
    {
     "name": "stderr",
     "output_type": "stream",
     "text": [
      "1778it [05:01,  5.24it/s]"
     ]
    },
    {
     "name": "stdout",
     "output_type": "stream",
     "text": [
      "Saved to A:\\Projects\\CollegeProjects\\YogaPartner\\intermediates\\v2\\virabhadrasana_i_198.jpg\n",
      "Saved to A:\\Projects\\CollegeProjects\\YogaPartner\\intermediates\\v2\\vrikshasana_83.jpg\n",
      "Saved to A:\\Projects\\CollegeProjects\\YogaPartner\\intermediates\\v2\\bidalasana_82.jpg\n"
     ]
    },
    {
     "name": "stderr",
     "output_type": "stream",
     "text": [
      "1780it [05:01,  5.99it/s]"
     ]
    },
    {
     "name": "stdout",
     "output_type": "stream",
     "text": [
      "Saved to A:\\Projects\\CollegeProjects\\YogaPartner\\intermediates\\v2\\utkatasana_223.jpg\n",
      "Saved to A:\\Projects\\CollegeProjects\\YogaPartner\\intermediates\\v2\\bhujangasana_328.jpg\n"
     ]
    },
    {
     "name": "stderr",
     "output_type": "stream",
     "text": [
      "1782it [05:02,  6.66it/s]"
     ]
    },
    {
     "name": "stdout",
     "output_type": "stream",
     "text": [
      "Saved to A:\\Projects\\CollegeProjects\\YogaPartner\\intermediates\\v2\\bhujangasana_545.jpg\n",
      "Saved to A:\\Projects\\CollegeProjects\\YogaPartner\\intermediates\\v2\\adho_mukha_shvanasana_12.jpg\n"
     ]
    },
    {
     "name": "stderr",
     "output_type": "stream",
     "text": [
      "1784it [05:02,  7.11it/s]"
     ]
    },
    {
     "name": "stdout",
     "output_type": "stream",
     "text": [
      "Saved to A:\\Projects\\CollegeProjects\\YogaPartner\\intermediates\\v2\\bhujangasana_211.jpg\n",
      "Saved to A:\\Projects\\CollegeProjects\\YogaPartner\\intermediates\\v2\\virabhadrasana_ii_298.jpg\n"
     ]
    },
    {
     "name": "stderr",
     "output_type": "stream",
     "text": [
      "1786it [05:02,  6.37it/s]"
     ]
    },
    {
     "name": "stdout",
     "output_type": "stream",
     "text": [
      "Saved to A:\\Projects\\CollegeProjects\\YogaPartner\\intermediates\\v2\\utkata_konasana_22.jpg\n",
      "Saved to A:\\Projects\\CollegeProjects\\YogaPartner\\intermediates\\v2\\bhujangasana_402.jpg\n"
     ]
    },
    {
     "name": "stderr",
     "output_type": "stream",
     "text": [
      "1788it [05:03,  6.36it/s]"
     ]
    },
    {
     "name": "stdout",
     "output_type": "stream",
     "text": [
      "Saved to A:\\Projects\\CollegeProjects\\YogaPartner\\intermediates\\v2\\phalakasana_135.jpg\n",
      "Saved to A:\\Projects\\CollegeProjects\\YogaPartner\\intermediates\\v2\\bidalasana_245.jpg\n"
     ]
    },
    {
     "name": "stderr",
     "output_type": "stream",
     "text": [
      "1790it [05:03,  6.78it/s]"
     ]
    },
    {
     "name": "stdout",
     "output_type": "stream",
     "text": [
      "Saved to A:\\Projects\\CollegeProjects\\YogaPartner\\intermediates\\v2\\vasisthasana_105.jpg\n",
      "Saved to A:\\Projects\\CollegeProjects\\YogaPartner\\intermediates\\v2\\utkatasana_88.jpg\n",
      "Saved to A:\\Projects\\CollegeProjects\\YogaPartner\\intermediates\\v2\\adho_mukha_shvanasana_357.jpg\n"
     ]
    },
    {
     "name": "stderr",
     "output_type": "stream",
     "text": [
      "\r",
      "1792it [05:03,  6.80it/s]"
     ]
    },
    {
     "name": "stdout",
     "output_type": "stream",
     "text": [
      "Saved to A:\\Projects\\CollegeProjects\\YogaPartner\\intermediates\\v2\\virabhadrasana_ii_24.jpg\n",
      "Saved to A:\\Projects\\CollegeProjects\\YogaPartner\\intermediates\\v2\\virabhadrasana_i_64.jpg\n"
     ]
    },
    {
     "name": "stderr",
     "output_type": "stream",
     "text": [
      "1795it [05:03,  7.70it/s]"
     ]
    },
    {
     "name": "stdout",
     "output_type": "stream",
     "text": [
      "Saved to A:\\Projects\\CollegeProjects\\YogaPartner\\intermediates\\v2\\bidalasana_313.jpg\n",
      "Saved to A:\\Projects\\CollegeProjects\\YogaPartner\\intermediates\\v2\\bidalasana_187.jpg\n",
      "Saved to A:\\Projects\\CollegeProjects\\YogaPartner\\intermediates\\v2\\virabhadrasana_ii_299.jpg\n"
     ]
    },
    {
     "name": "stderr",
     "output_type": "stream",
     "text": [
      "1798it [05:04,  8.73it/s]"
     ]
    },
    {
     "name": "stdout",
     "output_type": "stream",
     "text": [
      "Saved to A:\\Projects\\CollegeProjects\\YogaPartner\\intermediates\\v2\\virabhadrasana_i_20.jpg\n",
      "Saved to A:\\Projects\\CollegeProjects\\YogaPartner\\intermediates\\v2\\bhujangasana_663.jpg\n"
     ]
    },
    {
     "name": "stderr",
     "output_type": "stream",
     "text": [
      "\r",
      "1799it [05:04,  8.85it/s]"
     ]
    },
    {
     "name": "stdout",
     "output_type": "stream",
     "text": [
      "Saved to A:\\Projects\\CollegeProjects\\YogaPartner\\intermediates\\v2\\ustrasana_55.jpg\n",
      "Saved to A:\\Projects\\CollegeProjects\\YogaPartner\\intermediates\\v2\\virabhadrasana_i_100.jpg\n"
     ]
    },
    {
     "name": "stderr",
     "output_type": "stream",
     "text": [
      "1802it [05:04,  8.26it/s]"
     ]
    },
    {
     "name": "stdout",
     "output_type": "stream",
     "text": [
      "Saved to A:\\Projects\\CollegeProjects\\YogaPartner\\intermediates\\v2\\utkata_konasana_133.jpeg\n",
      "Saved to A:\\Projects\\CollegeProjects\\YogaPartner\\intermediates\\v2\\vasisthasana_118.jpg\n"
     ]
    },
    {
     "name": "stderr",
     "output_type": "stream",
     "text": [
      "1804it [05:04,  7.86it/s]"
     ]
    },
    {
     "name": "stdout",
     "output_type": "stream",
     "text": [
      "Saved to A:\\Projects\\CollegeProjects\\YogaPartner\\intermediates\\v2\\bhujangasana_510.jpg\n",
      "Saved to A:\\Projects\\CollegeProjects\\YogaPartner\\intermediates\\v2\\bidalasana_117.jpg\n"
     ]
    },
    {
     "name": "stderr",
     "output_type": "stream",
     "text": [
      "\r",
      "1806it [05:05,  8.73it/s]"
     ]
    },
    {
     "name": "stdout",
     "output_type": "stream",
     "text": [
      "Saved to A:\\Projects\\CollegeProjects\\YogaPartner\\intermediates\\v2\\bhujangasana_94.jpg\n",
      "Saved to A:\\Projects\\CollegeProjects\\YogaPartner\\intermediates\\v2\\adho_mukha_shvanasana_331.jpg\n"
     ]
    },
    {
     "name": "stderr",
     "output_type": "stream",
     "text": [
      "1808it [05:05,  7.46it/s]"
     ]
    },
    {
     "name": "stdout",
     "output_type": "stream",
     "text": [
      "Saved to A:\\Projects\\CollegeProjects\\YogaPartner\\intermediates\\v2\\utkata_konasana_73.jpg\n",
      "Saved to A:\\Projects\\CollegeProjects\\YogaPartner\\intermediates\\v2\\bidalasana_279.jpeg\n"
     ]
    },
    {
     "name": "stderr",
     "output_type": "stream",
     "text": [
      "1810it [05:05,  7.85it/s]"
     ]
    },
    {
     "name": "stdout",
     "output_type": "stream",
     "text": [
      "Saved to A:\\Projects\\CollegeProjects\\YogaPartner\\intermediates\\v2\\virabhadrasana_ii_70.jpg\n",
      "Saved to A:\\Projects\\CollegeProjects\\YogaPartner\\intermediates\\v2\\vrikshasana_261.jpg\n",
      "Saved to A:\\Projects\\CollegeProjects\\YogaPartner\\intermediates\\v2\\bhujangasana_3.jpg\n"
     ]
    },
    {
     "name": "stderr",
     "output_type": "stream",
     "text": [
      "1813it [05:06,  8.58it/s]"
     ]
    },
    {
     "name": "stdout",
     "output_type": "stream",
     "text": [
      "Saved to A:\\Projects\\CollegeProjects\\YogaPartner\\intermediates\\v2\\bhujangasana_336.jpg\n",
      "Saved to A:\\Projects\\CollegeProjects\\YogaPartner\\intermediates\\v2\\vasisthasana_7.jpg\n"
     ]
    },
    {
     "name": "stderr",
     "output_type": "stream",
     "text": [
      "1815it [05:06,  7.19it/s]"
     ]
    },
    {
     "name": "stdout",
     "output_type": "stream",
     "text": [
      "Saved to A:\\Projects\\CollegeProjects\\YogaPartner\\intermediates\\v2\\adho_mukha_shvanasana_16.jpg\n",
      "Saved to A:\\Projects\\CollegeProjects\\YogaPartner\\intermediates\\v2\\vasisthasana_70.jpg\n"
     ]
    },
    {
     "name": "stderr",
     "output_type": "stream",
     "text": [
      "1817it [05:06,  7.85it/s]"
     ]
    },
    {
     "name": "stdout",
     "output_type": "stream",
     "text": [
      "Saved to A:\\Projects\\CollegeProjects\\YogaPartner\\intermediates\\v2\\virabhadrasana_i_213.jpg\n",
      "Saved to A:\\Projects\\CollegeProjects\\YogaPartner\\intermediates\\v2\\adho_mukha_shvanasana_181.jpg\n"
     ]
    },
    {
     "name": "stderr",
     "output_type": "stream",
     "text": [
      "1819it [05:06,  7.62it/s]"
     ]
    },
    {
     "name": "stdout",
     "output_type": "stream",
     "text": [
      "Saved to A:\\Projects\\CollegeProjects\\YogaPartner\\intermediates\\v2\\virabhadrasana_i_214.jpg\n",
      "Saved to A:\\Projects\\CollegeProjects\\YogaPartner\\intermediates\\v2\\virabhadrasana_i_14.jpg\n"
     ]
    },
    {
     "name": "stderr",
     "output_type": "stream",
     "text": [
      "1821it [05:07,  7.55it/s]"
     ]
    },
    {
     "name": "stdout",
     "output_type": "stream",
     "text": [
      "Saved to A:\\Projects\\CollegeProjects\\YogaPartner\\intermediates\\v2\\virabhadrasana_i_37.jpg\n",
      "Saved to A:\\Projects\\CollegeProjects\\YogaPartner\\intermediates\\v2\\bhujangasana_28.jpg\n"
     ]
    },
    {
     "name": "stderr",
     "output_type": "stream",
     "text": [
      "1823it [05:07,  8.13it/s]"
     ]
    },
    {
     "name": "stdout",
     "output_type": "stream",
     "text": [
      "Saved to A:\\Projects\\CollegeProjects\\YogaPartner\\intermediates\\v2\\vasisthasana_81.jpg\n",
      "Saved to A:\\Projects\\CollegeProjects\\YogaPartner\\intermediates\\v2\\bhujangasana_596.jpg\n",
      "Saved to A:\\Projects\\CollegeProjects\\YogaPartner\\intermediates\\v2\\bhujangasana_661.jpg\n"
     ]
    },
    {
     "name": "stderr",
     "output_type": "stream",
     "text": [
      "1826it [05:07,  7.91it/s]"
     ]
    },
    {
     "name": "stdout",
     "output_type": "stream",
     "text": [
      "Saved to A:\\Projects\\CollegeProjects\\YogaPartner\\intermediates\\v2\\phalakasana_90.jpg\n",
      "Saved to A:\\Projects\\CollegeProjects\\YogaPartner\\intermediates\\v2\\vasisthasana_89.jpg\n",
      "Saved to A:\\Projects\\CollegeProjects\\YogaPartner\\intermediates\\v2\\virabhadrasana_i_13.jpg\n"
     ]
    },
    {
     "name": "stderr",
     "output_type": "stream",
     "text": [
      "1829it [05:08,  5.61it/s]"
     ]
    },
    {
     "name": "stdout",
     "output_type": "stream",
     "text": [
      "Saved to A:\\Projects\\CollegeProjects\\YogaPartner\\intermediates\\v2\\phalakasana_69.jpg\n",
      "Saved to A:\\Projects\\CollegeProjects\\YogaPartner\\intermediates\\v2\\utkatasana_188.jpg\n",
      "Saved to A:\\Projects\\CollegeProjects\\YogaPartner\\intermediates\\v2\\bhujangasana_357.jpg\n"
     ]
    },
    {
     "name": "stderr",
     "output_type": "stream",
     "text": [
      "1832it [05:08,  6.60it/s]"
     ]
    },
    {
     "name": "stdout",
     "output_type": "stream",
     "text": [
      "Saved to A:\\Projects\\CollegeProjects\\YogaPartner\\intermediates\\v2\\vrikshasana_173.jpg\n",
      "Saved to A:\\Projects\\CollegeProjects\\YogaPartner\\intermediates\\v2\\bhujangasana_277.jpg\n"
     ]
    },
    {
     "name": "stderr",
     "output_type": "stream",
     "text": [
      "1834it [05:09,  5.98it/s]"
     ]
    },
    {
     "name": "stdout",
     "output_type": "stream",
     "text": [
      "Saved to A:\\Projects\\CollegeProjects\\YogaPartner\\intermediates\\v2\\vrikshasana_246.jpg\n",
      "Saved to A:\\Projects\\CollegeProjects\\YogaPartner\\intermediates\\v2\\adho_mukha_shvanasana_104.jpg\n"
     ]
    },
    {
     "name": "stderr",
     "output_type": "stream",
     "text": [
      "\r",
      "1836it [05:09,  7.20it/s]"
     ]
    },
    {
     "name": "stdout",
     "output_type": "stream",
     "text": [
      "Saved to A:\\Projects\\CollegeProjects\\YogaPartner\\intermediates\\v2\\bidalasana_14.jpg\n",
      "Saved to A:\\Projects\\CollegeProjects\\YogaPartner\\intermediates\\v2\\bidalasana_96.jpg\n"
     ]
    },
    {
     "name": "stderr",
     "output_type": "stream",
     "text": [
      "1838it [05:09,  7.39it/s]"
     ]
    },
    {
     "name": "stdout",
     "output_type": "stream",
     "text": [
      "Saved to A:\\Projects\\CollegeProjects\\YogaPartner\\intermediates\\v2\\phalakasana_28.jpg\n",
      "Saved to A:\\Projects\\CollegeProjects\\YogaPartner\\intermediates\\v2\\bidalasana_160.jpg\n"
     ]
    },
    {
     "name": "stderr",
     "output_type": "stream",
     "text": [
      "1840it [05:09,  8.23it/s]"
     ]
    },
    {
     "name": "stdout",
     "output_type": "stream",
     "text": [
      "Saved to A:\\Projects\\CollegeProjects\\YogaPartner\\intermediates\\v2\\bhujangasana_603.jpg\n",
      "Saved to A:\\Projects\\CollegeProjects\\YogaPartner\\intermediates\\v2\\adho_mukha_shvanasana_381.jpg\n"
     ]
    },
    {
     "name": "stderr",
     "output_type": "stream",
     "text": [
      "1842it [05:10,  7.59it/s]"
     ]
    },
    {
     "name": "stdout",
     "output_type": "stream",
     "text": [
      "Saved to A:\\Projects\\CollegeProjects\\YogaPartner\\intermediates\\v2\\utkata_konasana_101.jpg\n",
      "Saved to A:\\Projects\\CollegeProjects\\YogaPartner\\intermediates\\v2\\virabhadrasana_ii_344.jpg\n"
     ]
    },
    {
     "name": "stderr",
     "output_type": "stream",
     "text": [
      "1844it [05:10,  5.64it/s]"
     ]
    },
    {
     "name": "stdout",
     "output_type": "stream",
     "text": [
      "Saved to A:\\Projects\\CollegeProjects\\YogaPartner\\intermediates\\v2\\virabhadrasana_i_162.jpg\n",
      "Saved to A:\\Projects\\CollegeProjects\\YogaPartner\\intermediates\\v2\\virabhadrasana_i_174.jpg\n"
     ]
    },
    {
     "name": "stderr",
     "output_type": "stream",
     "text": [
      "1846it [05:10,  6.55it/s]"
     ]
    },
    {
     "name": "stdout",
     "output_type": "stream",
     "text": [
      "Saved to A:\\Projects\\CollegeProjects\\YogaPartner\\intermediates\\v2\\vasisthasana_100.jpg\n",
      "Saved to A:\\Projects\\CollegeProjects\\YogaPartner\\intermediates\\v2\\adho_mukha_shvanasana_6.jpg\n"
     ]
    },
    {
     "name": "stderr",
     "output_type": "stream",
     "text": [
      "\r",
      "1847it [05:11,  6.68it/s]"
     ]
    },
    {
     "name": "stdout",
     "output_type": "stream",
     "text": [
      "Saved to A:\\Projects\\CollegeProjects\\YogaPartner\\intermediates\\v2\\vrikshasana_119.jpg\n",
      "Saved to A:\\Projects\\CollegeProjects\\YogaPartner\\intermediates\\v2\\virabhadrasana_ii_186.jpg\n"
     ]
    },
    {
     "name": "stderr",
     "output_type": "stream",
     "text": [
      "1850it [05:11,  6.34it/s]"
     ]
    },
    {
     "name": "stdout",
     "output_type": "stream",
     "text": [
      "Saved to A:\\Projects\\CollegeProjects\\YogaPartner\\intermediates\\v2\\utkatasana_43.jpg\n",
      "Saved to A:\\Projects\\CollegeProjects\\YogaPartner\\intermediates\\v2\\utkatasana_165.jpg\n"
     ]
    },
    {
     "name": "stderr",
     "output_type": "stream",
     "text": [
      "1852it [05:11,  6.23it/s]"
     ]
    },
    {
     "name": "stdout",
     "output_type": "stream",
     "text": [
      "Saved to A:\\Projects\\CollegeProjects\\YogaPartner\\intermediates\\v2\\vrikshasana_277.jpg\n",
      "Saved to A:\\Projects\\CollegeProjects\\YogaPartner\\intermediates\\v2\\virabhadrasana_ii_381.jpeg\n"
     ]
    },
    {
     "name": "stderr",
     "output_type": "stream",
     "text": [
      "1854it [05:12,  5.51it/s]"
     ]
    },
    {
     "name": "stdout",
     "output_type": "stream",
     "text": [
      "Saved to A:\\Projects\\CollegeProjects\\YogaPartner\\intermediates\\v2\\virabhadrasana_i_156.jpg\n",
      "Saved to A:\\Projects\\CollegeProjects\\YogaPartner\\intermediates\\v2\\phalakasana_68.jpg\n"
     ]
    },
    {
     "name": "stderr",
     "output_type": "stream",
     "text": [
      "1857it [05:12,  7.85it/s]"
     ]
    },
    {
     "name": "stdout",
     "output_type": "stream",
     "text": [
      "Saved to A:\\Projects\\CollegeProjects\\YogaPartner\\intermediates\\v2\\ustrasana_38.jpg\n",
      "Saved to A:\\Projects\\CollegeProjects\\YogaPartner\\intermediates\\v2\\virabhadrasana_i_113.jpg\n",
      "Saved to A:\\Projects\\CollegeProjects\\YogaPartner\\intermediates\\v2\\bidalasana_269.jpg\n"
     ]
    },
    {
     "name": "stderr",
     "output_type": "stream",
     "text": [
      "1859it [05:12,  7.15it/s]"
     ]
    },
    {
     "name": "stdout",
     "output_type": "stream",
     "text": [
      "Saved to A:\\Projects\\CollegeProjects\\YogaPartner\\intermediates\\v2\\utkata_konasana_134.jpg\n",
      "Saved to A:\\Projects\\CollegeProjects\\YogaPartner\\intermediates\\v2\\bhujangasana_458.jpg\n"
     ]
    },
    {
     "name": "stderr",
     "output_type": "stream",
     "text": [
      "1861it [05:13,  6.69it/s]"
     ]
    },
    {
     "name": "stdout",
     "output_type": "stream",
     "text": [
      "Saved to A:\\Projects\\CollegeProjects\\YogaPartner\\intermediates\\v2\\vasisthasana_54.jpg\n",
      "Saved to A:\\Projects\\CollegeProjects\\YogaPartner\\intermediates\\v2\\bhujangasana_478.jpg\n"
     ]
    },
    {
     "name": "stderr",
     "output_type": "stream",
     "text": [
      "\r",
      "1863it [05:13,  7.58it/s]"
     ]
    },
    {
     "name": "stdout",
     "output_type": "stream",
     "text": [
      "Saved to A:\\Projects\\CollegeProjects\\YogaPartner\\intermediates\\v2\\utkatasana_25.jpg\n",
      "Saved to A:\\Projects\\CollegeProjects\\YogaPartner\\intermediates\\v2\\bhujangasana_470.jpg\n"
     ]
    },
    {
     "name": "stderr",
     "output_type": "stream",
     "text": [
      "1865it [05:13,  7.70it/s]"
     ]
    },
    {
     "name": "stdout",
     "output_type": "stream",
     "text": [
      "Saved to A:\\Projects\\CollegeProjects\\YogaPartner\\intermediates\\v2\\virabhadrasana_ii_82.jpg\n",
      "Saved to A:\\Projects\\CollegeProjects\\YogaPartner\\intermediates\\v2\\vasisthasana_78.jpg\n"
     ]
    },
    {
     "name": "stderr",
     "output_type": "stream",
     "text": [
      "\r",
      "1866it [05:13,  7.97it/s]"
     ]
    },
    {
     "name": "stdout",
     "output_type": "stream",
     "text": [
      "Saved to A:\\Projects\\CollegeProjects\\YogaPartner\\intermediates\\v2\\utkatasana_95.jpg\n"
     ]
    },
    {
     "name": "stderr",
     "output_type": "stream",
     "text": [
      "1868it [05:14,  6.85it/s]"
     ]
    },
    {
     "name": "stdout",
     "output_type": "stream",
     "text": [
      "Saved to A:\\Projects\\CollegeProjects\\YogaPartner\\intermediates\\v2\\bhujangasana_640.jpg\n",
      "Saved to A:\\Projects\\CollegeProjects\\YogaPartner\\intermediates\\v2\\virabhadrasana_ii_273.jpg\n"
     ]
    },
    {
     "name": "stderr",
     "output_type": "stream",
     "text": [
      "\r",
      "1869it [05:14,  7.41it/s]"
     ]
    },
    {
     "name": "stdout",
     "output_type": "stream",
     "text": [
      "Saved to A:\\Projects\\CollegeProjects\\YogaPartner\\intermediates\\v2\\bidalasana_34.jpg\n"
     ]
    },
    {
     "name": "stderr",
     "output_type": "stream",
     "text": [
      "1871it [05:14,  5.77it/s]"
     ]
    },
    {
     "name": "stdout",
     "output_type": "stream",
     "text": [
      "Saved to A:\\Projects\\CollegeProjects\\YogaPartner\\intermediates\\v2\\adho_mukha_shvanasana_133.jpg\n",
      "Saved to A:\\Projects\\CollegeProjects\\YogaPartner\\intermediates\\v2\\bhujangasana_452.jpg\n"
     ]
    },
    {
     "name": "stderr",
     "output_type": "stream",
     "text": [
      "1873it [05:15,  7.14it/s]"
     ]
    },
    {
     "name": "stdout",
     "output_type": "stream",
     "text": [
      "Saved to A:\\Projects\\CollegeProjects\\YogaPartner\\intermediates\\v2\\virabhadrasana_ii_60.jpg\n",
      "Saved to A:\\Projects\\CollegeProjects\\YogaPartner\\intermediates\\v2\\virabhadrasana_ii_147.jpg\n"
     ]
    },
    {
     "name": "stderr",
     "output_type": "stream",
     "text": [
      "1876it [05:16,  2.91it/s]"
     ]
    },
    {
     "name": "stdout",
     "output_type": "stream",
     "text": [
      "Saved to A:\\Projects\\CollegeProjects\\YogaPartner\\intermediates\\v2\\virabhadrasana_ii_190.jpg\n",
      "No pose detected - length  - .\\data\\v2\\bhujangasana\\bhujangasana_198.jpg\n",
      "Saved to A:\\Projects\\CollegeProjects\\YogaPartner\\intermediates\\v2\\bhujangasana_198.jpg\n",
      "Saved to A:\\Projects\\CollegeProjects\\YogaPartner\\intermediates\\v2\\adho_mukha_shvanasana_227.jpg\n"
     ]
    },
    {
     "name": "stderr",
     "output_type": "stream",
     "text": [
      "1878it [05:17,  3.94it/s]"
     ]
    },
    {
     "name": "stdout",
     "output_type": "stream",
     "text": [
      "Saved to A:\\Projects\\CollegeProjects\\YogaPartner\\intermediates\\v2\\adho_mukha_shvanasana_214.jpg\n",
      "Saved to A:\\Projects\\CollegeProjects\\YogaPartner\\intermediates\\v2\\adho_mukha_shvanasana_368.jpg\n"
     ]
    },
    {
     "name": "stderr",
     "output_type": "stream",
     "text": [
      "\r",
      "1880it [05:17,  5.30it/s]"
     ]
    },
    {
     "name": "stdout",
     "output_type": "stream",
     "text": [
      "Saved to A:\\Projects\\CollegeProjects\\YogaPartner\\intermediates\\v2\\bidalasana_224.jpg\n",
      "Saved to A:\\Projects\\CollegeProjects\\YogaPartner\\intermediates\\v2\\adho_mukha_shvanasana_376.jpg\n"
     ]
    },
    {
     "name": "stderr",
     "output_type": "stream",
     "text": [
      "1882it [05:17,  5.99it/s]"
     ]
    },
    {
     "name": "stdout",
     "output_type": "stream",
     "text": [
      "Saved to A:\\Projects\\CollegeProjects\\YogaPartner\\intermediates\\v2\\bhujangasana_368.jpg\n",
      "Saved to A:\\Projects\\CollegeProjects\\YogaPartner\\intermediates\\v2\\bidalasana_299.jpg\n"
     ]
    },
    {
     "name": "stderr",
     "output_type": "stream",
     "text": [
      "\r",
      "1883it [05:17,  6.27it/s]"
     ]
    },
    {
     "name": "stdout",
     "output_type": "stream",
     "text": [
      "Saved to A:\\Projects\\CollegeProjects\\YogaPartner\\intermediates\\v2\\virabhadrasana_ii_324.jpg\n"
     ]
    },
    {
     "name": "stderr",
     "output_type": "stream",
     "text": [
      "1885it [05:18,  4.03it/s]"
     ]
    },
    {
     "name": "stdout",
     "output_type": "stream",
     "text": [
      "Saved to A:\\Projects\\CollegeProjects\\YogaPartner\\intermediates\\v2\\utkata_konasana_83.jpeg\n",
      "Saved to A:\\Projects\\CollegeProjects\\YogaPartner\\intermediates\\v2\\vasisthasana_51.jpg\n"
     ]
    },
    {
     "name": "stderr",
     "output_type": "stream",
     "text": [
      "1887it [05:18,  4.82it/s]"
     ]
    },
    {
     "name": "stdout",
     "output_type": "stream",
     "text": [
      "Saved to A:\\Projects\\CollegeProjects\\YogaPartner\\intermediates\\v2\\virabhadrasana_i_95.jpg\n",
      "Saved to A:\\Projects\\CollegeProjects\\YogaPartner\\intermediates\\v2\\bhujangasana_333.jpg\n"
     ]
    },
    {
     "name": "stderr",
     "output_type": "stream",
     "text": [
      "\r",
      "1888it [05:18,  5.37it/s]"
     ]
    },
    {
     "name": "stdout",
     "output_type": "stream",
     "text": [
      "Saved to A:\\Projects\\CollegeProjects\\YogaPartner\\intermediates\\v2\\bidalasana_309.jpg\n"
     ]
    },
    {
     "name": "stderr",
     "output_type": "stream",
     "text": [
      "\r",
      "1889it [05:20,  2.06it/s]"
     ]
    },
    {
     "name": "stdout",
     "output_type": "stream",
     "text": [
      "Saved to A:\\Projects\\CollegeProjects\\YogaPartner\\intermediates\\v2\\bhujangasana_60.jpg\n"
     ]
    },
    {
     "name": "stderr",
     "output_type": "stream",
     "text": [
      "1891it [05:20,  2.96it/s]"
     ]
    },
    {
     "name": "stdout",
     "output_type": "stream",
     "text": [
      "Saved to A:\\Projects\\CollegeProjects\\YogaPartner\\intermediates\\v2\\virabhadrasana_ii_178.jpg\n",
      "Saved to A:\\Projects\\CollegeProjects\\YogaPartner\\intermediates\\v2\\virabhadrasana_ii_255.jpg\n"
     ]
    },
    {
     "name": "stderr",
     "output_type": "stream",
     "text": [
      "1893it [05:20,  4.14it/s]"
     ]
    },
    {
     "name": "stdout",
     "output_type": "stream",
     "text": [
      "Saved to A:\\Projects\\CollegeProjects\\YogaPartner\\intermediates\\v2\\bhujangasana_486.jpg\n",
      "Saved to A:\\Projects\\CollegeProjects\\YogaPartner\\intermediates\\v2\\vrikshasana_120.jpg\n"
     ]
    },
    {
     "name": "stderr",
     "output_type": "stream",
     "text": [
      "\r",
      "1894it [05:20,  4.64it/s]"
     ]
    },
    {
     "name": "stdout",
     "output_type": "stream",
     "text": [
      "Saved to A:\\Projects\\CollegeProjects\\YogaPartner\\intermediates\\v2\\virabhadrasana_ii_59.jpg\n"
     ]
    },
    {
     "name": "stderr",
     "output_type": "stream",
     "text": [
      "1896it [05:21,  4.08it/s]"
     ]
    },
    {
     "name": "stdout",
     "output_type": "stream",
     "text": [
      "Saved to A:\\Projects\\CollegeProjects\\YogaPartner\\intermediates\\v2\\utkatasana_193.jpg\n",
      "Saved to A:\\Projects\\CollegeProjects\\YogaPartner\\intermediates\\v2\\virabhadrasana_i_170.jpg\n"
     ]
    },
    {
     "name": "stderr",
     "output_type": "stream",
     "text": [
      "1898it [05:21,  5.52it/s]"
     ]
    },
    {
     "name": "stdout",
     "output_type": "stream",
     "text": [
      "Saved to A:\\Projects\\CollegeProjects\\YogaPartner\\intermediates\\v2\\adho_mukha_shvanasana_334.jpg\n",
      "Saved to A:\\Projects\\CollegeProjects\\YogaPartner\\intermediates\\v2\\bhujangasana_620.jpg\n"
     ]
    },
    {
     "name": "stderr",
     "output_type": "stream",
     "text": [
      "1900it [05:22,  6.35it/s]"
     ]
    },
    {
     "name": "stdout",
     "output_type": "stream",
     "text": [
      "Saved to A:\\Projects\\CollegeProjects\\YogaPartner\\intermediates\\v2\\utkata_konasana_5.jpg\n",
      "Saved to A:\\Projects\\CollegeProjects\\YogaPartner\\intermediates\\v2\\bhujangasana_622.jpg\n"
     ]
    },
    {
     "name": "stderr",
     "output_type": "stream",
     "text": [
      "1902it [05:22,  7.34it/s]"
     ]
    },
    {
     "name": "stdout",
     "output_type": "stream",
     "text": [
      "Saved to A:\\Projects\\CollegeProjects\\YogaPartner\\intermediates\\v2\\bhujangasana_628.jpg\n",
      "Saved to A:\\Projects\\CollegeProjects\\YogaPartner\\intermediates\\v2\\virabhadrasana_ii_249.jpg\n"
     ]
    },
    {
     "name": "stderr",
     "output_type": "stream",
     "text": [
      "1904it [05:22,  7.53it/s]"
     ]
    },
    {
     "name": "stdout",
     "output_type": "stream",
     "text": [
      "Saved to A:\\Projects\\CollegeProjects\\YogaPartner\\intermediates\\v2\\bhujangasana_278.jpg\n",
      "Saved to A:\\Projects\\CollegeProjects\\YogaPartner\\intermediates\\v2\\utkatasana_224.jpg\n"
     ]
    },
    {
     "name": "stderr",
     "output_type": "stream",
     "text": [
      "1906it [05:22,  7.08it/s]"
     ]
    },
    {
     "name": "stdout",
     "output_type": "stream",
     "text": [
      "Saved to A:\\Projects\\CollegeProjects\\YogaPartner\\intermediates\\v2\\utkatasana_220.jpg\n",
      "Saved to A:\\Projects\\CollegeProjects\\YogaPartner\\intermediates\\v2\\vrikshasana_10.jpg\n"
     ]
    },
    {
     "name": "stderr",
     "output_type": "stream",
     "text": [
      "1908it [05:23,  7.32it/s]"
     ]
    },
    {
     "name": "stdout",
     "output_type": "stream",
     "text": [
      "Saved to A:\\Projects\\CollegeProjects\\YogaPartner\\intermediates\\v2\\bhujangasana_412.jpg\n",
      "Saved to A:\\Projects\\CollegeProjects\\YogaPartner\\intermediates\\v2\\vasisthasana_52.jpg\n"
     ]
    },
    {
     "name": "stderr",
     "output_type": "stream",
     "text": [
      "1910it [05:23,  7.22it/s]"
     ]
    },
    {
     "name": "stdout",
     "output_type": "stream",
     "text": [
      "Saved to A:\\Projects\\CollegeProjects\\YogaPartner\\intermediates\\v2\\vrikshasana_9.jpg\n",
      "Saved to A:\\Projects\\CollegeProjects\\YogaPartner\\intermediates\\v2\\vrikshasana_272.jpg\n"
     ]
    },
    {
     "name": "stderr",
     "output_type": "stream",
     "text": [
      "1912it [05:23,  7.85it/s]"
     ]
    },
    {
     "name": "stdout",
     "output_type": "stream",
     "text": [
      "Saved to A:\\Projects\\CollegeProjects\\YogaPartner\\intermediates\\v2\\phalakasana_84.jpg\n",
      "Saved to A:\\Projects\\CollegeProjects\\YogaPartner\\intermediates\\v2\\virabhadrasana_ii_169.jpg\n"
     ]
    },
    {
     "name": "stderr",
     "output_type": "stream",
     "text": [
      "\r",
      "1914it [05:23,  8.46it/s]"
     ]
    },
    {
     "name": "stdout",
     "output_type": "stream",
     "text": [
      "Saved to A:\\Projects\\CollegeProjects\\YogaPartner\\intermediates\\v2\\bidalasana_9.jpg\n",
      "Saved to A:\\Projects\\CollegeProjects\\YogaPartner\\intermediates\\v2\\bidalasana_196.jpg\n"
     ]
    },
    {
     "name": "stderr",
     "output_type": "stream",
     "text": [
      "1917it [05:24,  8.74it/s]"
     ]
    },
    {
     "name": "stdout",
     "output_type": "stream",
     "text": [
      "Saved to A:\\Projects\\CollegeProjects\\YogaPartner\\intermediates\\v2\\utkata_konasana_48.jpg\n",
      "Saved to A:\\Projects\\CollegeProjects\\YogaPartner\\intermediates\\v2\\utkatasana_91.jpg\n",
      "Saved to A:\\Projects\\CollegeProjects\\YogaPartner\\intermediates\\v2\\utkata_konasana_28.jpg\n"
     ]
    },
    {
     "name": "stderr",
     "output_type": "stream",
     "text": [
      "\r",
      "1919it [05:24,  8.10it/s]"
     ]
    },
    {
     "name": "stdout",
     "output_type": "stream",
     "text": [
      "Saved to A:\\Projects\\CollegeProjects\\YogaPartner\\intermediates\\v2\\virabhadrasana_ii_230.jpg\n",
      "Saved to A:\\Projects\\CollegeProjects\\YogaPartner\\intermediates\\v2\\utkatasana_153.jpg\n"
     ]
    },
    {
     "name": "stderr",
     "output_type": "stream",
     "text": [
      "1921it [05:24,  7.49it/s]"
     ]
    },
    {
     "name": "stdout",
     "output_type": "stream",
     "text": [
      "Saved to A:\\Projects\\CollegeProjects\\YogaPartner\\intermediates\\v2\\bidalasana_267.jpg\n",
      "Saved to A:\\Projects\\CollegeProjects\\YogaPartner\\intermediates\\v2\\adho_mukha_shvanasana_232.jpg\n"
     ]
    },
    {
     "name": "stderr",
     "output_type": "stream",
     "text": [
      "1923it [05:25,  6.68it/s]"
     ]
    },
    {
     "name": "stdout",
     "output_type": "stream",
     "text": [
      "Saved to A:\\Projects\\CollegeProjects\\YogaPartner\\intermediates\\v2\\phalakasana_133.jpg\n",
      "Saved to A:\\Projects\\CollegeProjects\\YogaPartner\\intermediates\\v2\\bhujangasana_319.jpg\n"
     ]
    },
    {
     "name": "stderr",
     "output_type": "stream",
     "text": [
      "1925it [05:25,  6.87it/s]"
     ]
    },
    {
     "name": "stdout",
     "output_type": "stream",
     "text": [
      "Saved to A:\\Projects\\CollegeProjects\\YogaPartner\\intermediates\\v2\\utkata_konasana_172.jpg\n",
      "Saved to A:\\Projects\\CollegeProjects\\YogaPartner\\intermediates\\v2\\virabhadrasana_ii_84.jpg\n"
     ]
    },
    {
     "name": "stderr",
     "output_type": "stream",
     "text": [
      "1927it [05:25,  6.65it/s]"
     ]
    },
    {
     "name": "stdout",
     "output_type": "stream",
     "text": [
      "Saved to A:\\Projects\\CollegeProjects\\YogaPartner\\intermediates\\v2\\phalakasana_40.jpg\n",
      "Saved to A:\\Projects\\CollegeProjects\\YogaPartner\\intermediates\\v2\\vrikshasana_230.jpg\n"
     ]
    },
    {
     "name": "stderr",
     "output_type": "stream",
     "text": [
      "\r",
      "1928it [05:25,  6.14it/s]"
     ]
    },
    {
     "name": "stdout",
     "output_type": "stream",
     "text": [
      "Saved to A:\\Projects\\CollegeProjects\\YogaPartner\\intermediates\\v2\\bhujangasana_439.jpg\n"
     ]
    },
    {
     "name": "stderr",
     "output_type": "stream",
     "text": [
      "1930it [05:26,  6.25it/s]"
     ]
    },
    {
     "name": "stdout",
     "output_type": "stream",
     "text": [
      "Saved to A:\\Projects\\CollegeProjects\\YogaPartner\\intermediates\\v2\\vrikshasana_127.jpg\n",
      "Saved to A:\\Projects\\CollegeProjects\\YogaPartner\\intermediates\\v2\\utkatasana_41.jpg\n"
     ]
    },
    {
     "name": "stderr",
     "output_type": "stream",
     "text": [
      "\r",
      "1931it [05:26,  6.11it/s]"
     ]
    },
    {
     "name": "stdout",
     "output_type": "stream",
     "text": [
      "Saved to A:\\Projects\\CollegeProjects\\YogaPartner\\intermediates\\v2\\virabhadrasana_i_194.jpg\n"
     ]
    },
    {
     "name": "stderr",
     "output_type": "stream",
     "text": [
      "1933it [05:27,  4.49it/s]"
     ]
    },
    {
     "name": "stdout",
     "output_type": "stream",
     "text": [
      "Saved to A:\\Projects\\CollegeProjects\\YogaPartner\\intermediates\\v2\\phalakasana_113.jpg\n",
      "Saved to A:\\Projects\\CollegeProjects\\YogaPartner\\intermediates\\v2\\utkatasana_83.jpg\n"
     ]
    },
    {
     "name": "stderr",
     "output_type": "stream",
     "text": [
      "1935it [05:27,  4.94it/s]"
     ]
    },
    {
     "name": "stdout",
     "output_type": "stream",
     "text": [
      "Saved to A:\\Projects\\CollegeProjects\\YogaPartner\\intermediates\\v2\\bhujangasana_83.jpg\n",
      "Saved to A:\\Projects\\CollegeProjects\\YogaPartner\\intermediates\\v2\\adho_mukha_shvanasana_338.jpg\n",
      "Saved to A:\\Projects\\CollegeProjects\\YogaPartner\\intermediates\\v2\\ustrasana_57.jpg\n"
     ]
    },
    {
     "name": "stderr",
     "output_type": "stream",
     "text": [
      "\r",
      "1937it [05:27,  5.92it/s]"
     ]
    },
    {
     "name": "stdout",
     "output_type": "stream",
     "text": [
      "Saved to A:\\Projects\\CollegeProjects\\YogaPartner\\intermediates\\v2\\adho_mukha_shvanasana_113.jpg\n",
      "Saved to A:\\Projects\\CollegeProjects\\YogaPartner\\intermediates\\v2\\bhujangasana_56.jpg\n"
     ]
    },
    {
     "name": "stderr",
     "output_type": "stream",
     "text": [
      "1940it [05:28,  7.15it/s]"
     ]
    },
    {
     "name": "stdout",
     "output_type": "stream",
     "text": [
      "Saved to A:\\Projects\\CollegeProjects\\YogaPartner\\intermediates\\v2\\vrikshasana_104.jpg\n",
      "Saved to A:\\Projects\\CollegeProjects\\YogaPartner\\intermediates\\v2\\adho_mukha_shvanasana_322.jpg\n",
      "Saved to A:\\Projects\\CollegeProjects\\YogaPartner\\intermediates\\v2\\utkatasana_143.jpg\n"
     ]
    },
    {
     "name": "stderr",
     "output_type": "stream",
     "text": [
      "1943it [05:28,  7.14it/s]"
     ]
    },
    {
     "name": "stdout",
     "output_type": "stream",
     "text": [
      "Saved to A:\\Projects\\CollegeProjects\\YogaPartner\\intermediates\\v2\\bhujangasana_214.jpg\n",
      "Saved to A:\\Projects\\CollegeProjects\\YogaPartner\\intermediates\\v2\\virabhadrasana_ii_359.jpg\n"
     ]
    },
    {
     "name": "stderr",
     "output_type": "stream",
     "text": [
      "1945it [05:28,  7.31it/s]"
     ]
    },
    {
     "name": "stdout",
     "output_type": "stream",
     "text": [
      "Saved to A:\\Projects\\CollegeProjects\\YogaPartner\\intermediates\\v2\\bhujangasana_643.jpg\n",
      "Saved to A:\\Projects\\CollegeProjects\\YogaPartner\\intermediates\\v2\\utkata_konasana_179.jpg\n"
     ]
    },
    {
     "name": "stderr",
     "output_type": "stream",
     "text": [
      "1947it [05:29,  7.34it/s]"
     ]
    },
    {
     "name": "stdout",
     "output_type": "stream",
     "text": [
      "Saved to A:\\Projects\\CollegeProjects\\YogaPartner\\intermediates\\v2\\adho_mukha_shvanasana_142.jpg\n",
      "Saved to A:\\Projects\\CollegeProjects\\YogaPartner\\intermediates\\v2\\ustrasana_64.jpg\n"
     ]
    },
    {
     "name": "stderr",
     "output_type": "stream",
     "text": [
      "\r",
      "1949it [05:29,  7.55it/s]"
     ]
    },
    {
     "name": "stdout",
     "output_type": "stream",
     "text": [
      "Saved to A:\\Projects\\CollegeProjects\\YogaPartner\\intermediates\\v2\\bhujangasana_164.jpg\n",
      "Saved to A:\\Projects\\CollegeProjects\\YogaPartner\\intermediates\\v2\\bidalasana_130.jpg\n"
     ]
    },
    {
     "name": "stderr",
     "output_type": "stream",
     "text": [
      "\r",
      "1950it [05:29,  7.41it/s]"
     ]
    },
    {
     "name": "stdout",
     "output_type": "stream",
     "text": [
      "Saved to A:\\Projects\\CollegeProjects\\YogaPartner\\intermediates\\v2\\utkata_konasana_128.jpg\n",
      "Saved to A:\\Projects\\CollegeProjects\\YogaPartner\\intermediates\\v2\\vrikshasana_18.jpg\n"
     ]
    },
    {
     "name": "stderr",
     "output_type": "stream",
     "text": [
      "1953it [05:29,  7.87it/s]"
     ]
    },
    {
     "name": "stdout",
     "output_type": "stream",
     "text": [
      "Saved to A:\\Projects\\CollegeProjects\\YogaPartner\\intermediates\\v2\\adho_mukha_shvanasana_224.jpg\n",
      "Saved to A:\\Projects\\CollegeProjects\\YogaPartner\\intermediates\\v2\\utkatasana_186.jpg\n"
     ]
    },
    {
     "name": "stderr",
     "output_type": "stream",
     "text": [
      "1955it [05:30,  8.40it/s]"
     ]
    },
    {
     "name": "stdout",
     "output_type": "stream",
     "text": [
      "Saved to A:\\Projects\\CollegeProjects\\YogaPartner\\intermediates\\v2\\bhujangasana_70.jpg\n",
      "Saved to A:\\Projects\\CollegeProjects\\YogaPartner\\intermediates\\v2\\utkatasana_117.jpg\n"
     ]
    },
    {
     "name": "stderr",
     "output_type": "stream",
     "text": [
      "1957it [05:30,  8.24it/s]"
     ]
    },
    {
     "name": "stdout",
     "output_type": "stream",
     "text": [
      "Saved to A:\\Projects\\CollegeProjects\\YogaPartner\\intermediates\\v2\\virabhadrasana_ii_110.jpg\n",
      "Saved to A:\\Projects\\CollegeProjects\\YogaPartner\\intermediates\\v2\\virabhadrasana_i_69.jpg\n"
     ]
    },
    {
     "name": "stderr",
     "output_type": "stream",
     "text": [
      "1959it [05:30,  8.55it/s]"
     ]
    },
    {
     "name": "stdout",
     "output_type": "stream",
     "text": [
      "Saved to A:\\Projects\\CollegeProjects\\YogaPartner\\intermediates\\v2\\bidalasana_77.jpg\n",
      "Saved to A:\\Projects\\CollegeProjects\\YogaPartner\\intermediates\\v2\\utkata_konasana_112.jpg\n"
     ]
    },
    {
     "name": "stderr",
     "output_type": "stream",
     "text": [
      "1961it [05:30,  7.99it/s]"
     ]
    },
    {
     "name": "stdout",
     "output_type": "stream",
     "text": [
      "Saved to A:\\Projects\\CollegeProjects\\YogaPartner\\intermediates\\v2\\bhujangasana_240.jpg\n",
      "Saved to A:\\Projects\\CollegeProjects\\YogaPartner\\intermediates\\v2\\bidalasana_72.jpg\n"
     ]
    },
    {
     "name": "stderr",
     "output_type": "stream",
     "text": [
      "1963it [05:31,  7.98it/s]"
     ]
    },
    {
     "name": "stdout",
     "output_type": "stream",
     "text": [
      "Saved to A:\\Projects\\CollegeProjects\\YogaPartner\\intermediates\\v2\\vasisthasana_82.jpg\n",
      "Saved to A:\\Projects\\CollegeProjects\\YogaPartner\\intermediates\\v2\\adho_mukha_shvanasana_251.jpg\n",
      "Saved to A:\\Projects\\CollegeProjects\\YogaPartner\\intermediates\\v2\\vasisthasana_3.jpg\n"
     ]
    },
    {
     "name": "stderr",
     "output_type": "stream",
     "text": [
      "1966it [05:31,  7.09it/s]"
     ]
    },
    {
     "name": "stdout",
     "output_type": "stream",
     "text": [
      "Saved to A:\\Projects\\CollegeProjects\\YogaPartner\\intermediates\\v2\\bhujangasana_71.jpg\n",
      "Saved to A:\\Projects\\CollegeProjects\\YogaPartner\\intermediates\\v2\\ustrasana_45.jpg\n"
     ]
    },
    {
     "name": "stderr",
     "output_type": "stream",
     "text": [
      "1968it [05:31,  7.51it/s]"
     ]
    },
    {
     "name": "stdout",
     "output_type": "stream",
     "text": [
      "Saved to A:\\Projects\\CollegeProjects\\YogaPartner\\intermediates\\v2\\vrikshasana_250.jpg\n",
      "Saved to A:\\Projects\\CollegeProjects\\YogaPartner\\intermediates\\v2\\vasisthasana_95.jpg\n"
     ]
    },
    {
     "name": "stderr",
     "output_type": "stream",
     "text": [
      "1970it [05:31,  7.93it/s]"
     ]
    },
    {
     "name": "stdout",
     "output_type": "stream",
     "text": [
      "Saved to A:\\Projects\\CollegeProjects\\YogaPartner\\intermediates\\v2\\phalakasana_101.jpg\n",
      "Saved to A:\\Projects\\CollegeProjects\\YogaPartner\\intermediates\\v2\\bidalasana_185.jpg\n"
     ]
    },
    {
     "name": "stderr",
     "output_type": "stream",
     "text": [
      "\r",
      "1971it [05:32,  8.20it/s]"
     ]
    },
    {
     "name": "stdout",
     "output_type": "stream",
     "text": [
      "Saved to A:\\Projects\\CollegeProjects\\YogaPartner\\intermediates\\v2\\bidalasana_140.jpg\n"
     ]
    },
    {
     "name": "stderr",
     "output_type": "stream",
     "text": [
      "1973it [05:32,  6.39it/s]"
     ]
    },
    {
     "name": "stdout",
     "output_type": "stream",
     "text": [
      "Saved to A:\\Projects\\CollegeProjects\\YogaPartner\\intermediates\\v2\\adho_mukha_shvanasana_43.jpg\n",
      "Saved to A:\\Projects\\CollegeProjects\\YogaPartner\\intermediates\\v2\\adho_mukha_shvanasana_60.jpg\n"
     ]
    },
    {
     "name": "stderr",
     "output_type": "stream",
     "text": [
      "\r",
      "1974it [05:32,  6.99it/s]"
     ]
    },
    {
     "name": "stdout",
     "output_type": "stream",
     "text": [
      "Saved to A:\\Projects\\CollegeProjects\\YogaPartner\\intermediates\\v2\\bidalasana_110.jpg\n",
      "Saved to A:\\Projects\\CollegeProjects\\YogaPartner\\intermediates\\v2\\bidalasana_80.jpg\n"
     ]
    },
    {
     "name": "stderr",
     "output_type": "stream",
     "text": [
      "\r",
      "1976it [05:32,  7.95it/s]"
     ]
    },
    {
     "name": "stdout",
     "output_type": "stream",
     "text": [
      "Saved to A:\\Projects\\CollegeProjects\\YogaPartner\\intermediates\\v2\\virabhadrasana_ii_326.jpg\n",
      "Saved to A:\\Projects\\CollegeProjects\\YogaPartner\\intermediates\\v2\\adho_mukha_shvanasana_355.jpg\n"
     ]
    },
    {
     "name": "stderr",
     "output_type": "stream",
     "text": [
      "1979it [05:33,  7.31it/s]"
     ]
    },
    {
     "name": "stdout",
     "output_type": "stream",
     "text": [
      "Saved to A:\\Projects\\CollegeProjects\\YogaPartner\\intermediates\\v2\\bidalasana_27.jpg\n",
      "Saved to A:\\Projects\\CollegeProjects\\YogaPartner\\intermediates\\v2\\vrikshasana_186.jpg\n"
     ]
    },
    {
     "name": "stderr",
     "output_type": "stream",
     "text": [
      "\r",
      "1981it [05:33,  7.78it/s]"
     ]
    },
    {
     "name": "stdout",
     "output_type": "stream",
     "text": [
      "Saved to A:\\Projects\\CollegeProjects\\YogaPartner\\intermediates\\v2\\bhujangasana_606.jpg\n",
      "Saved to A:\\Projects\\CollegeProjects\\YogaPartner\\intermediates\\v2\\utkatasana_55.jpg\n"
     ]
    },
    {
     "name": "stderr",
     "output_type": "stream",
     "text": [
      "\r",
      "1983it [05:33,  8.29it/s]"
     ]
    },
    {
     "name": "stdout",
     "output_type": "stream",
     "text": [
      "Saved to A:\\Projects\\CollegeProjects\\YogaPartner\\intermediates\\v2\\adho_mukha_shvanasana_324.jpg\n",
      "Saved to A:\\Projects\\CollegeProjects\\YogaPartner\\intermediates\\v2\\virabhadrasana_i_148.jpg\n"
     ]
    },
    {
     "name": "stderr",
     "output_type": "stream",
     "text": [
      "1985it [05:34,  7.17it/s]"
     ]
    },
    {
     "name": "stdout",
     "output_type": "stream",
     "text": [
      "Saved to A:\\Projects\\CollegeProjects\\YogaPartner\\intermediates\\v2\\phalakasana_76.jpg\n",
      "Saved to A:\\Projects\\CollegeProjects\\YogaPartner\\intermediates\\v2\\vrikshasana_235.jpg\n"
     ]
    },
    {
     "name": "stderr",
     "output_type": "stream",
     "text": [
      "1988it [05:34,  7.15it/s]"
     ]
    },
    {
     "name": "stdout",
     "output_type": "stream",
     "text": [
      "Saved to A:\\Projects\\CollegeProjects\\YogaPartner\\intermediates\\v2\\utkatasana_127.jpg\n",
      "Saved to A:\\Projects\\CollegeProjects\\YogaPartner\\intermediates\\v2\\virabhadrasana_ii_131.jpg\n",
      "Saved to A:\\Projects\\CollegeProjects\\YogaPartner\\intermediates\\v2\\virabhadrasana_i_58.jpg\n"
     ]
    },
    {
     "name": "stderr",
     "output_type": "stream",
     "text": [
      "1990it [05:34,  7.23it/s]"
     ]
    },
    {
     "name": "stdout",
     "output_type": "stream",
     "text": [
      "Saved to A:\\Projects\\CollegeProjects\\YogaPartner\\intermediates\\v2\\bhujangasana_316.jpg\n",
      "Saved to A:\\Projects\\CollegeProjects\\YogaPartner\\intermediates\\v2\\bhujangasana_376.jpg\n"
     ]
    },
    {
     "name": "stderr",
     "output_type": "stream",
     "text": [
      "1992it [05:34,  7.91it/s]"
     ]
    },
    {
     "name": "stdout",
     "output_type": "stream",
     "text": [
      "Saved to A:\\Projects\\CollegeProjects\\YogaPartner\\intermediates\\v2\\adho_mukha_shvanasana_435.jpg\n",
      "Saved to A:\\Projects\\CollegeProjects\\YogaPartner\\intermediates\\v2\\phalakasana_23.jpg\n"
     ]
    },
    {
     "name": "stderr",
     "output_type": "stream",
     "text": [
      "1994it [05:35,  8.27it/s]"
     ]
    },
    {
     "name": "stdout",
     "output_type": "stream",
     "text": [
      "Saved to A:\\Projects\\CollegeProjects\\YogaPartner\\intermediates\\v2\\vrikshasana_194.jpg\n",
      "Saved to A:\\Projects\\CollegeProjects\\YogaPartner\\intermediates\\v2\\vasisthasana_16.jpg\n"
     ]
    },
    {
     "name": "stderr",
     "output_type": "stream",
     "text": [
      "1996it [05:35,  6.71it/s]"
     ]
    },
    {
     "name": "stdout",
     "output_type": "stream",
     "text": [
      "Saved to A:\\Projects\\CollegeProjects\\YogaPartner\\intermediates\\v2\\adho_mukha_shvanasana_397.jpg\n",
      "Saved to A:\\Projects\\CollegeProjects\\YogaPartner\\intermediates\\v2\\adho_mukha_shvanasana_341.jpg\n"
     ]
    },
    {
     "name": "stderr",
     "output_type": "stream",
     "text": [
      "1998it [05:35,  6.63it/s]"
     ]
    },
    {
     "name": "stdout",
     "output_type": "stream",
     "text": [
      "Saved to A:\\Projects\\CollegeProjects\\YogaPartner\\intermediates\\v2\\bhujangasana_84.jpg\n",
      "Saved to A:\\Projects\\CollegeProjects\\YogaPartner\\intermediates\\v2\\virabhadrasana_ii_308.jpg\n"
     ]
    },
    {
     "name": "stderr",
     "output_type": "stream",
     "text": [
      "2000it [05:36,  6.51it/s]"
     ]
    },
    {
     "name": "stdout",
     "output_type": "stream",
     "text": [
      "Saved to A:\\Projects\\CollegeProjects\\YogaPartner\\intermediates\\v2\\bhujangasana_170.jpg\n",
      "Saved to A:\\Projects\\CollegeProjects\\YogaPartner\\intermediates\\v2\\bidalasana_280.jpg\n"
     ]
    },
    {
     "name": "stderr",
     "output_type": "stream",
     "text": [
      "\r",
      "2001it [05:36,  7.17it/s]"
     ]
    },
    {
     "name": "stdout",
     "output_type": "stream",
     "text": [
      "Saved to A:\\Projects\\CollegeProjects\\YogaPartner\\intermediates\\v2\\adho_mukha_shvanasana_339.jpg\n",
      "Saved to A:\\Projects\\CollegeProjects\\YogaPartner\\intermediates\\v2\\vrikshasana_144.jpg\n"
     ]
    },
    {
     "name": "stderr",
     "output_type": "stream",
     "text": [
      "2004it [05:36,  6.98it/s]"
     ]
    },
    {
     "name": "stdout",
     "output_type": "stream",
     "text": [
      "Saved to A:\\Projects\\CollegeProjects\\YogaPartner\\intermediates\\v2\\vrikshasana_310.jpg\n",
      "Saved to A:\\Projects\\CollegeProjects\\YogaPartner\\intermediates\\v2\\bhujangasana_666.jpg\n"
     ]
    },
    {
     "name": "stderr",
     "output_type": "stream",
     "text": [
      "2006it [05:37,  6.73it/s]"
     ]
    },
    {
     "name": "stdout",
     "output_type": "stream",
     "text": [
      "Saved to A:\\Projects\\CollegeProjects\\YogaPartner\\intermediates\\v2\\virabhadrasana_i_212.jpg\n",
      "Saved to A:\\Projects\\CollegeProjects\\YogaPartner\\intermediates\\v2\\vrikshasana_110.jpg\n"
     ]
    },
    {
     "name": "stderr",
     "output_type": "stream",
     "text": [
      "2008it [05:37,  7.32it/s]"
     ]
    },
    {
     "name": "stdout",
     "output_type": "stream",
     "text": [
      "Saved to A:\\Projects\\CollegeProjects\\YogaPartner\\intermediates\\v2\\utkatasana_29.jpg\n",
      "Saved to A:\\Projects\\CollegeProjects\\YogaPartner\\intermediates\\v2\\bhujangasana_234.jpg\n"
     ]
    },
    {
     "name": "stderr",
     "output_type": "stream",
     "text": [
      "\r",
      "2009it [05:37,  3.47it/s]"
     ]
    },
    {
     "name": "stdout",
     "output_type": "stream",
     "text": [
      "Saved to A:\\Projects\\CollegeProjects\\YogaPartner\\intermediates\\v2\\utkata_konasana_99.jpg\n",
      "Saved to A:\\Projects\\CollegeProjects\\YogaPartner\\intermediates\\v2\\vrikshasana_43.jpg\n"
     ]
    },
    {
     "name": "stderr",
     "output_type": "stream",
     "text": [
      "2012it [05:38,  5.07it/s]"
     ]
    },
    {
     "name": "stdout",
     "output_type": "stream",
     "text": [
      "Saved to A:\\Projects\\CollegeProjects\\YogaPartner\\intermediates\\v2\\virabhadrasana_ii_264.jpg\n",
      "Saved to A:\\Projects\\CollegeProjects\\YogaPartner\\intermediates\\v2\\vrikshasana_172.jpg\n"
     ]
    },
    {
     "name": "stderr",
     "output_type": "stream",
     "text": [
      "2014it [05:38,  6.34it/s]"
     ]
    },
    {
     "name": "stdout",
     "output_type": "stream",
     "text": [
      "Saved to A:\\Projects\\CollegeProjects\\YogaPartner\\intermediates\\v2\\bidalasana_74.jpg\n",
      "Saved to A:\\Projects\\CollegeProjects\\YogaPartner\\intermediates\\v2\\virabhadrasana_ii_117.jpg\n"
     ]
    },
    {
     "name": "stderr",
     "output_type": "stream",
     "text": [
      "2016it [05:39,  5.29it/s]"
     ]
    },
    {
     "name": "stdout",
     "output_type": "stream",
     "text": [
      "Saved to A:\\Projects\\CollegeProjects\\YogaPartner\\intermediates\\v2\\bhujangasana_306.jpg\n",
      "Saved to A:\\Projects\\CollegeProjects\\YogaPartner\\intermediates\\v2\\vrikshasana_200.jpg\n"
     ]
    },
    {
     "name": "stderr",
     "output_type": "stream",
     "text": [
      "2018it [05:39,  5.95it/s]"
     ]
    },
    {
     "name": "stdout",
     "output_type": "stream",
     "text": [
      "Saved to A:\\Projects\\CollegeProjects\\YogaPartner\\intermediates\\v2\\virabhadrasana_ii_14.jpg\n",
      "Saved to A:\\Projects\\CollegeProjects\\YogaPartner\\intermediates\\v2\\bhujangasana_414.jpg\n"
     ]
    },
    {
     "name": "stderr",
     "output_type": "stream",
     "text": [
      "2020it [05:39,  5.30it/s]"
     ]
    },
    {
     "name": "stdout",
     "output_type": "stream",
     "text": [
      "Saved to A:\\Projects\\CollegeProjects\\YogaPartner\\intermediates\\v2\\bidalasana_274.jpg\n",
      "Saved to A:\\Projects\\CollegeProjects\\YogaPartner\\intermediates\\v2\\bhujangasana_543.jpg\n"
     ]
    },
    {
     "name": "stderr",
     "output_type": "stream",
     "text": [
      "2022it [05:40,  6.40it/s]"
     ]
    },
    {
     "name": "stdout",
     "output_type": "stream",
     "text": [
      "Saved to A:\\Projects\\CollegeProjects\\YogaPartner\\intermediates\\v2\\utkatasana_2.jpg\n",
      "Saved to A:\\Projects\\CollegeProjects\\YogaPartner\\intermediates\\v2\\bidalasana_95.jpg\n"
     ]
    },
    {
     "name": "stderr",
     "output_type": "stream",
     "text": [
      "2024it [05:40,  6.07it/s]"
     ]
    },
    {
     "name": "stdout",
     "output_type": "stream",
     "text": [
      "Saved to A:\\Projects\\CollegeProjects\\YogaPartner\\intermediates\\v2\\vrikshasana_138.jpg\n",
      "Saved to A:\\Projects\\CollegeProjects\\YogaPartner\\intermediates\\v2\\virabhadrasana_ii_5.jpg\n"
     ]
    },
    {
     "name": "stderr",
     "output_type": "stream",
     "text": [
      "2026it [05:40,  6.06it/s]"
     ]
    },
    {
     "name": "stdout",
     "output_type": "stream",
     "text": [
      "Saved to A:\\Projects\\CollegeProjects\\YogaPartner\\intermediates\\v2\\virabhadrasana_ii_29.jpg\n",
      "Saved to A:\\Projects\\CollegeProjects\\YogaPartner\\intermediates\\v2\\virabhadrasana_i_19.jpg\n"
     ]
    },
    {
     "name": "stderr",
     "output_type": "stream",
     "text": [
      "\r",
      "2027it [05:40,  6.46it/s]"
     ]
    },
    {
     "name": "stdout",
     "output_type": "stream",
     "text": [
      "Saved to A:\\Projects\\CollegeProjects\\YogaPartner\\intermediates\\v2\\utkata_konasana_35.jpg\n"
     ]
    },
    {
     "name": "stderr",
     "output_type": "stream",
     "text": [
      "2029it [05:41,  5.41it/s]"
     ]
    },
    {
     "name": "stdout",
     "output_type": "stream",
     "text": [
      "Saved to A:\\Projects\\CollegeProjects\\YogaPartner\\intermediates\\v2\\phalakasana_88.jpg\n",
      "Saved to A:\\Projects\\CollegeProjects\\YogaPartner\\intermediates\\v2\\virabhadrasana_i_179.jpg\n"
     ]
    },
    {
     "name": "stderr",
     "output_type": "stream",
     "text": [
      "2031it [05:41,  6.19it/s]"
     ]
    },
    {
     "name": "stdout",
     "output_type": "stream",
     "text": [
      "Saved to A:\\Projects\\CollegeProjects\\YogaPartner\\intermediates\\v2\\utkatasana_140.jpg\n",
      "Saved to A:\\Projects\\CollegeProjects\\YogaPartner\\intermediates\\v2\\bhujangasana_349.jpg\n"
     ]
    },
    {
     "name": "stderr",
     "output_type": "stream",
     "text": [
      "\r",
      "2032it [05:41,  6.34it/s]"
     ]
    },
    {
     "name": "stdout",
     "output_type": "stream",
     "text": [
      "Saved to A:\\Projects\\CollegeProjects\\YogaPartner\\intermediates\\v2\\utkata_konasana_167.jpg\n",
      "Saved to A:\\Projects\\CollegeProjects\\YogaPartner\\intermediates\\v2\\bidalasana_231.jpg\n"
     ]
    },
    {
     "name": "stderr",
     "output_type": "stream",
     "text": [
      "2035it [05:42,  7.40it/s]"
     ]
    },
    {
     "name": "stdout",
     "output_type": "stream",
     "text": [
      "Saved to A:\\Projects\\CollegeProjects\\YogaPartner\\intermediates\\v2\\bidalasana_177.jpg\n",
      "Saved to A:\\Projects\\CollegeProjects\\YogaPartner\\intermediates\\v2\\adho_mukha_shvanasana_303.jpg\n"
     ]
    },
    {
     "name": "stderr",
     "output_type": "stream",
     "text": [
      "2037it [05:42,  6.54it/s]"
     ]
    },
    {
     "name": "stdout",
     "output_type": "stream",
     "text": [
      "Saved to A:\\Projects\\CollegeProjects\\YogaPartner\\intermediates\\v2\\vasisthasana_106.jpg\n",
      "Saved to A:\\Projects\\CollegeProjects\\YogaPartner\\intermediates\\v2\\virabhadrasana_ii_37.jpg\n"
     ]
    },
    {
     "name": "stderr",
     "output_type": "stream",
     "text": [
      "2039it [05:42,  6.05it/s]"
     ]
    },
    {
     "name": "stdout",
     "output_type": "stream",
     "text": [
      "Saved to A:\\Projects\\CollegeProjects\\YogaPartner\\intermediates\\v2\\virabhadrasana_i_26.jpg\n",
      "Saved to A:\\Projects\\CollegeProjects\\YogaPartner\\intermediates\\v2\\virabhadrasana_i_36.jpg\n"
     ]
    },
    {
     "name": "stderr",
     "output_type": "stream",
     "text": [
      "2041it [05:43,  5.56it/s]"
     ]
    },
    {
     "name": "stdout",
     "output_type": "stream",
     "text": [
      "Saved to A:\\Projects\\CollegeProjects\\YogaPartner\\intermediates\\v2\\utkata_konasana_164.jpg\n",
      "Saved to A:\\Projects\\CollegeProjects\\YogaPartner\\intermediates\\v2\\vasisthasana_124.jpg\n",
      "Saved to A:\\Projects\\CollegeProjects\\YogaPartner\\intermediates\\v2\\bhujangasana_123.jpg\n"
     ]
    },
    {
     "name": "stderr",
     "output_type": "stream",
     "text": [
      "\r",
      "2043it [05:43,  6.71it/s]"
     ]
    },
    {
     "name": "stdout",
     "output_type": "stream",
     "text": [
      "Saved to A:\\Projects\\CollegeProjects\\YogaPartner\\intermediates\\v2\\bhujangasana_33.jpg\n",
      "Saved to A:\\Projects\\CollegeProjects\\YogaPartner\\intermediates\\v2\\utkata_konasana_54.jpg\n"
     ]
    },
    {
     "name": "stderr",
     "output_type": "stream",
     "text": [
      "2046it [05:43,  7.63it/s]"
     ]
    },
    {
     "name": "stdout",
     "output_type": "stream",
     "text": [
      "Saved to A:\\Projects\\CollegeProjects\\YogaPartner\\intermediates\\v2\\vrikshasana_95.jpg\n",
      "Saved to A:\\Projects\\CollegeProjects\\YogaPartner\\intermediates\\v2\\bhujangasana_586.jpg\n"
     ]
    },
    {
     "name": "stderr",
     "output_type": "stream",
     "text": [
      "2048it [05:44,  7.52it/s]"
     ]
    },
    {
     "name": "stdout",
     "output_type": "stream",
     "text": [
      "Saved to A:\\Projects\\CollegeProjects\\YogaPartner\\intermediates\\v2\\bhujangasana_253.jpg\n",
      "Saved to A:\\Projects\\CollegeProjects\\YogaPartner\\intermediates\\v2\\vasisthasana_112.jpg\n"
     ]
    },
    {
     "name": "stderr",
     "output_type": "stream",
     "text": [
      "2051it [05:44,  8.80it/s]"
     ]
    },
    {
     "name": "stdout",
     "output_type": "stream",
     "text": [
      "Saved to A:\\Projects\\CollegeProjects\\YogaPartner\\intermediates\\v2\\bidalasana_11.jpg\n",
      "Saved to A:\\Projects\\CollegeProjects\\YogaPartner\\intermediates\\v2\\virabhadrasana_i_44.jpg\n",
      "Saved to A:\\Projects\\CollegeProjects\\YogaPartner\\intermediates\\v2\\vrikshasana_219.jpg\n"
     ]
    },
    {
     "name": "stderr",
     "output_type": "stream",
     "text": [
      "\r",
      "2052it [05:44,  8.68it/s]"
     ]
    },
    {
     "name": "stdout",
     "output_type": "stream",
     "text": [
      "Saved to A:\\Projects\\CollegeProjects\\YogaPartner\\intermediates\\v2\\vrikshasana_204.jpg\n"
     ]
    },
    {
     "name": "stderr",
     "output_type": "stream",
     "text": [
      "2054it [05:45,  3.51it/s]"
     ]
    },
    {
     "name": "stdout",
     "output_type": "stream",
     "text": [
      "Saved to A:\\Projects\\CollegeProjects\\YogaPartner\\intermediates\\v2\\adho_mukha_shvanasana_304.jpg\n",
      "Saved to A:\\Projects\\CollegeProjects\\YogaPartner\\intermediates\\v2\\vrikshasana_78.jpg\n"
     ]
    },
    {
     "name": "stderr",
     "output_type": "stream",
     "text": [
      "\r",
      "2055it [05:45,  4.28it/s]"
     ]
    },
    {
     "name": "stdout",
     "output_type": "stream",
     "text": [
      "Saved to A:\\Projects\\CollegeProjects\\YogaPartner\\intermediates\\v2\\vrikshasana_105.jpg\n",
      "Saved to A:\\Projects\\CollegeProjects\\YogaPartner\\intermediates\\v2\\bhujangasana_404.jpg\n"
     ]
    },
    {
     "name": "stderr",
     "output_type": "stream",
     "text": [
      "2059it [05:46,  6.03it/s]"
     ]
    },
    {
     "name": "stdout",
     "output_type": "stream",
     "text": [
      "Saved to A:\\Projects\\CollegeProjects\\YogaPartner\\intermediates\\v2\\utkata_konasana_64.jpg\n",
      "Saved to A:\\Projects\\CollegeProjects\\YogaPartner\\intermediates\\v2\\vasisthasana_26.jpg\n",
      "Saved to A:\\Projects\\CollegeProjects\\YogaPartner\\intermediates\\v2\\bidalasana_114.jpg\n"
     ]
    },
    {
     "name": "stderr",
     "output_type": "stream",
     "text": [
      "2061it [05:46,  6.31it/s]"
     ]
    },
    {
     "name": "stdout",
     "output_type": "stream",
     "text": [
      "Saved to A:\\Projects\\CollegeProjects\\YogaPartner\\intermediates\\v2\\bidalasana_286.jpeg\n",
      "Saved to A:\\Projects\\CollegeProjects\\YogaPartner\\intermediates\\v2\\bidalasana_282.jpg\n"
     ]
    },
    {
     "name": "stderr",
     "output_type": "stream",
     "text": [
      "2063it [05:46,  6.77it/s]"
     ]
    },
    {
     "name": "stdout",
     "output_type": "stream",
     "text": [
      "Saved to A:\\Projects\\CollegeProjects\\YogaPartner\\intermediates\\v2\\vrikshasana_183.jpg\n",
      "Saved to A:\\Projects\\CollegeProjects\\YogaPartner\\intermediates\\v2\\adho_mukha_shvanasana_187.jpg\n"
     ]
    },
    {
     "name": "stderr",
     "output_type": "stream",
     "text": [
      "\r",
      "2065it [05:47,  7.63it/s]"
     ]
    },
    {
     "name": "stdout",
     "output_type": "stream",
     "text": [
      "Saved to A:\\Projects\\CollegeProjects\\YogaPartner\\intermediates\\v2\\vrikshasana_28.jpg\n",
      "Saved to A:\\Projects\\CollegeProjects\\YogaPartner\\intermediates\\v2\\vasisthasana_53.jpg\n"
     ]
    },
    {
     "name": "stderr",
     "output_type": "stream",
     "text": [
      "2068it [05:47,  8.01it/s]"
     ]
    },
    {
     "name": "stdout",
     "output_type": "stream",
     "text": [
      "Saved to A:\\Projects\\CollegeProjects\\YogaPartner\\intermediates\\v2\\phalakasana_110.jpg\n",
      "No pose detected - length  - .\\data\\v2\\vrikshasana\\vrikshasana_134.jpg\n",
      "Saved to A:\\Projects\\CollegeProjects\\YogaPartner\\intermediates\\v2\\vrikshasana_134.jpg\n",
      "Saved to A:\\Projects\\CollegeProjects\\YogaPartner\\intermediates\\v2\\bidalasana_212.jpeg\n"
     ]
    },
    {
     "name": "stderr",
     "output_type": "stream",
     "text": [
      "\r",
      "2070it [05:47,  8.34it/s]"
     ]
    },
    {
     "name": "stdout",
     "output_type": "stream",
     "text": [
      "Saved to A:\\Projects\\CollegeProjects\\YogaPartner\\intermediates\\v2\\bhujangasana_361.jpg\n",
      "Saved to A:\\Projects\\CollegeProjects\\YogaPartner\\intermediates\\v2\\vrikshasana_227.jpg\n"
     ]
    },
    {
     "name": "stderr",
     "output_type": "stream",
     "text": [
      "2073it [05:48,  9.09it/s]"
     ]
    },
    {
     "name": "stdout",
     "output_type": "stream",
     "text": [
      "Saved to A:\\Projects\\CollegeProjects\\YogaPartner\\intermediates\\v2\\utkatasana_218.jpg\n",
      "Saved to A:\\Projects\\CollegeProjects\\YogaPartner\\intermediates\\v2\\vrikshasana_118.jpg\n",
      "Saved to A:\\Projects\\CollegeProjects\\YogaPartner\\intermediates\\v2\\ustrasana_50.jpg\n"
     ]
    },
    {
     "name": "stderr",
     "output_type": "stream",
     "text": [
      "2075it [05:48,  8.28it/s]"
     ]
    },
    {
     "name": "stdout",
     "output_type": "stream",
     "text": [
      "Saved to A:\\Projects\\CollegeProjects\\YogaPartner\\intermediates\\v2\\virabhadrasana_ii_284.jpg\n",
      "Saved to A:\\Projects\\CollegeProjects\\YogaPartner\\intermediates\\v2\\virabhadrasana_i_138.jpg\n"
     ]
    },
    {
     "name": "stderr",
     "output_type": "stream",
     "text": [
      "\r",
      "2076it [05:48,  7.62it/s]"
     ]
    },
    {
     "name": "stdout",
     "output_type": "stream",
     "text": [
      "Saved to A:\\Projects\\CollegeProjects\\YogaPartner\\intermediates\\v2\\virabhadrasana_i_88.jpg\n",
      "Saved to A:\\Projects\\CollegeProjects\\YogaPartner\\intermediates\\v2\\bhujangasana_181.jpg\n"
     ]
    },
    {
     "name": "stderr",
     "output_type": "stream",
     "text": [
      "2079it [05:48,  7.96it/s]"
     ]
    },
    {
     "name": "stdout",
     "output_type": "stream",
     "text": [
      "Saved to A:\\Projects\\CollegeProjects\\YogaPartner\\intermediates\\v2\\bidalasana_238.jpg\n",
      "Saved to A:\\Projects\\CollegeProjects\\YogaPartner\\intermediates\\v2\\vasisthasana_6.jpg\n"
     ]
    },
    {
     "name": "stderr",
     "output_type": "stream",
     "text": [
      "2081it [05:49,  8.10it/s]"
     ]
    },
    {
     "name": "stdout",
     "output_type": "stream",
     "text": [
      "Saved to A:\\Projects\\CollegeProjects\\YogaPartner\\intermediates\\v2\\adho_mukha_shvanasana_209.jpg\n",
      "Saved to A:\\Projects\\CollegeProjects\\YogaPartner\\intermediates\\v2\\ustrasana_34.jpg\n"
     ]
    },
    {
     "name": "stderr",
     "output_type": "stream",
     "text": [
      "2083it [05:49,  6.65it/s]"
     ]
    },
    {
     "name": "stdout",
     "output_type": "stream",
     "text": [
      "Saved to A:\\Projects\\CollegeProjects\\YogaPartner\\intermediates\\v2\\vrikshasana_116.jpg\n",
      "Saved to A:\\Projects\\CollegeProjects\\YogaPartner\\intermediates\\v2\\vrikshasana_217.jpg\n"
     ]
    },
    {
     "name": "stderr",
     "output_type": "stream",
     "text": [
      "2085it [05:49,  6.46it/s]"
     ]
    },
    {
     "name": "stdout",
     "output_type": "stream",
     "text": [
      "Saved to A:\\Projects\\CollegeProjects\\YogaPartner\\intermediates\\v2\\virabhadrasana_ii_46.jpg\n",
      "Saved to A:\\Projects\\CollegeProjects\\YogaPartner\\intermediates\\v2\\bhujangasana_176.jpg\n"
     ]
    },
    {
     "name": "stderr",
     "output_type": "stream",
     "text": [
      "2087it [05:50,  6.72it/s]"
     ]
    },
    {
     "name": "stdout",
     "output_type": "stream",
     "text": [
      "Saved to A:\\Projects\\CollegeProjects\\YogaPartner\\intermediates\\v2\\utkatasana_51.jpg\n",
      "Saved to A:\\Projects\\CollegeProjects\\YogaPartner\\intermediates\\v2\\vrikshasana_38.jpg\n"
     ]
    },
    {
     "name": "stderr",
     "output_type": "stream",
     "text": [
      "2089it [05:50,  7.74it/s]"
     ]
    },
    {
     "name": "stdout",
     "output_type": "stream",
     "text": [
      "Saved to A:\\Projects\\CollegeProjects\\YogaPartner\\intermediates\\v2\\utkata_konasana_173.jpg\n",
      "Saved to A:\\Projects\\CollegeProjects\\YogaPartner\\intermediates\\v2\\bhujangasana_221.jpg\n"
     ]
    },
    {
     "name": "stderr",
     "output_type": "stream",
     "text": [
      "2091it [05:51,  2.86it/s]"
     ]
    },
    {
     "name": "stdout",
     "output_type": "stream",
     "text": [
      "Saved to A:\\Projects\\CollegeProjects\\YogaPartner\\intermediates\\v2\\bidalasana_237.jpg\n",
      "Saved to A:\\Projects\\CollegeProjects\\YogaPartner\\intermediates\\v2\\virabhadrasana_i_167.jpg\n"
     ]
    },
    {
     "name": "stderr",
     "output_type": "stream",
     "text": [
      "2093it [05:51,  4.10it/s]"
     ]
    },
    {
     "name": "stdout",
     "output_type": "stream",
     "text": [
      "Saved to A:\\Projects\\CollegeProjects\\YogaPartner\\intermediates\\v2\\adho_mukha_shvanasana_429.jpg\n",
      "Saved to A:\\Projects\\CollegeProjects\\YogaPartner\\intermediates\\v2\\vrikshasana_208.jpg\n"
     ]
    },
    {
     "name": "stderr",
     "output_type": "stream",
     "text": [
      "2095it [05:52,  5.68it/s]"
     ]
    },
    {
     "name": "stdout",
     "output_type": "stream",
     "text": [
      "Saved to A:\\Projects\\CollegeProjects\\YogaPartner\\intermediates\\v2\\bhujangasana_611.jpg\n",
      "Saved to A:\\Projects\\CollegeProjects\\YogaPartner\\intermediates\\v2\\vrikshasana_80.jpg\n"
     ]
    },
    {
     "name": "stderr",
     "output_type": "stream",
     "text": [
      "2097it [05:52,  6.90it/s]"
     ]
    },
    {
     "name": "stdout",
     "output_type": "stream",
     "text": [
      "Saved to A:\\Projects\\CollegeProjects\\YogaPartner\\intermediates\\v2\\virabhadrasana_ii_300.jpg\n",
      "Saved to A:\\Projects\\CollegeProjects\\YogaPartner\\intermediates\\v2\\bhujangasana_241.jpg\n"
     ]
    },
    {
     "name": "stderr",
     "output_type": "stream",
     "text": [
      "2099it [05:52,  5.30it/s]"
     ]
    },
    {
     "name": "stdout",
     "output_type": "stream",
     "text": [
      "Saved to A:\\Projects\\CollegeProjects\\YogaPartner\\intermediates\\v2\\utkata_konasana_104.jpg\n",
      "Saved to A:\\Projects\\CollegeProjects\\YogaPartner\\intermediates\\v2\\virabhadrasana_i_43.jpg\n"
     ]
    },
    {
     "name": "stderr",
     "output_type": "stream",
     "text": [
      "2101it [05:53,  6.59it/s]"
     ]
    },
    {
     "name": "stdout",
     "output_type": "stream",
     "text": [
      "Saved to A:\\Projects\\CollegeProjects\\YogaPartner\\intermediates\\v2\\bidalasana_58.jpg\n",
      "Saved to A:\\Projects\\CollegeProjects\\YogaPartner\\intermediates\\v2\\virabhadrasana_ii_181.jpg\n"
     ]
    },
    {
     "name": "stderr",
     "output_type": "stream",
     "text": [
      "2103it [05:53,  5.23it/s]"
     ]
    },
    {
     "name": "stdout",
     "output_type": "stream",
     "text": [
      "Saved to A:\\Projects\\CollegeProjects\\YogaPartner\\intermediates\\v2\\bhujangasana_519.jpg\n",
      "Saved to A:\\Projects\\CollegeProjects\\YogaPartner\\intermediates\\v2\\virabhadrasana_i_52.jpg\n",
      "Saved to A:\\Projects\\CollegeProjects\\YogaPartner\\intermediates\\v2\\bhujangasana_589.jpg\n"
     ]
    },
    {
     "name": "stderr",
     "output_type": "stream",
     "text": [
      "2106it [05:54,  6.28it/s]"
     ]
    },
    {
     "name": "stdout",
     "output_type": "stream",
     "text": [
      "Saved to A:\\Projects\\CollegeProjects\\YogaPartner\\intermediates\\v2\\vasisthasana_83.jpg\n",
      "Saved to A:\\Projects\\CollegeProjects\\YogaPartner\\intermediates\\v2\\bhujangasana_533.jpg\n"
     ]
    },
    {
     "name": "stderr",
     "output_type": "stream",
     "text": [
      "2108it [05:54,  6.48it/s]"
     ]
    },
    {
     "name": "stdout",
     "output_type": "stream",
     "text": [
      "Saved to A:\\Projects\\CollegeProjects\\YogaPartner\\intermediates\\v2\\adho_mukha_shvanasana_315.jpg\n",
      "Saved to A:\\Projects\\CollegeProjects\\YogaPartner\\intermediates\\v2\\virabhadrasana_ii_316.jpg\n"
     ]
    },
    {
     "name": "stderr",
     "output_type": "stream",
     "text": [
      "2110it [05:54,  7.44it/s]"
     ]
    },
    {
     "name": "stdout",
     "output_type": "stream",
     "text": [
      "Saved to A:\\Projects\\CollegeProjects\\YogaPartner\\intermediates\\v2\\vrikshasana_59.jpg\n",
      "Saved to A:\\Projects\\CollegeProjects\\YogaPartner\\intermediates\\v2\\virabhadrasana_i_62.jpg\n"
     ]
    },
    {
     "name": "stderr",
     "output_type": "stream",
     "text": [
      "2112it [05:55,  5.94it/s]"
     ]
    },
    {
     "name": "stdout",
     "output_type": "stream",
     "text": [
      "Saved to A:\\Projects\\CollegeProjects\\YogaPartner\\intermediates\\v2\\adho_mukha_shvanasana_86.jpg\n",
      "Saved to A:\\Projects\\CollegeProjects\\YogaPartner\\intermediates\\v2\\bhujangasana_223.jpg\n"
     ]
    },
    {
     "name": "stderr",
     "output_type": "stream",
     "text": [
      "2114it [05:55,  6.83it/s]"
     ]
    },
    {
     "name": "stdout",
     "output_type": "stream",
     "text": [
      "Saved to A:\\Projects\\CollegeProjects\\YogaPartner\\intermediates\\v2\\bidalasana_97.jpg\n",
      "Saved to A:\\Projects\\CollegeProjects\\YogaPartner\\intermediates\\v2\\ustrasana_17.jpg\n"
     ]
    },
    {
     "name": "stderr",
     "output_type": "stream",
     "text": [
      "\r",
      "2115it [05:55,  6.95it/s]"
     ]
    },
    {
     "name": "stdout",
     "output_type": "stream",
     "text": [
      "Saved to A:\\Projects\\CollegeProjects\\YogaPartner\\intermediates\\v2\\ustrasana_16.jpg\n"
     ]
    },
    {
     "name": "stderr",
     "output_type": "stream",
     "text": [
      "2117it [05:55,  6.71it/s]"
     ]
    },
    {
     "name": "stdout",
     "output_type": "stream",
     "text": [
      "Saved to A:\\Projects\\CollegeProjects\\YogaPartner\\intermediates\\v2\\vrikshasana_143.jpg\n",
      "Saved to A:\\Projects\\CollegeProjects\\YogaPartner\\intermediates\\v2\\bhujangasana_604.jpg\n"
     ]
    },
    {
     "name": "stderr",
     "output_type": "stream",
     "text": [
      "2120it [05:56,  8.40it/s]"
     ]
    },
    {
     "name": "stdout",
     "output_type": "stream",
     "text": [
      "Saved to A:\\Projects\\CollegeProjects\\YogaPartner\\intermediates\\v2\\utkata_konasana_163.jpg\n",
      "Saved to A:\\Projects\\CollegeProjects\\YogaPartner\\intermediates\\v2\\utkatasana_167.jpg\n",
      "No pose detected - length  - .\\data\\v2\\virabhadrasana_ii\\virabhadrasana_ii_47.jpg\n",
      "Saved to A:\\Projects\\CollegeProjects\\YogaPartner\\intermediates\\v2\\virabhadrasana_ii_47.jpg\n"
     ]
    },
    {
     "name": "stderr",
     "output_type": "stream",
     "text": [
      "2122it [05:56,  7.70it/s]"
     ]
    },
    {
     "name": "stdout",
     "output_type": "stream",
     "text": [
      "Saved to A:\\Projects\\CollegeProjects\\YogaPartner\\intermediates\\v2\\vasisthasana_68.jpg\n",
      "Saved to A:\\Projects\\CollegeProjects\\YogaPartner\\intermediates\\v2\\vrikshasana_49.jpg\n"
     ]
    },
    {
     "name": "stderr",
     "output_type": "stream",
     "text": [
      "\r",
      "2123it [05:56,  7.74it/s]"
     ]
    },
    {
     "name": "stdout",
     "output_type": "stream",
     "text": [
      "Saved to A:\\Projects\\CollegeProjects\\YogaPartner\\intermediates\\v2\\adho_mukha_shvanasana_325.jpg\n"
     ]
    },
    {
     "name": "stderr",
     "output_type": "stream",
     "text": [
      "2125it [05:56,  6.88it/s]"
     ]
    },
    {
     "name": "stdout",
     "output_type": "stream",
     "text": [
      "Saved to A:\\Projects\\CollegeProjects\\YogaPartner\\intermediates\\v2\\phalakasana_117.jpg\n",
      "Saved to A:\\Projects\\CollegeProjects\\YogaPartner\\intermediates\\v2\\phalakasana_45.jpg\n"
     ]
    },
    {
     "name": "stderr",
     "output_type": "stream",
     "text": [
      "2127it [05:57,  6.45it/s]"
     ]
    },
    {
     "name": "stdout",
     "output_type": "stream",
     "text": [
      "Saved to A:\\Projects\\CollegeProjects\\YogaPartner\\intermediates\\v2\\bidalasana_59.jpg\n",
      "Saved to A:\\Projects\\CollegeProjects\\YogaPartner\\intermediates\\v2\\virabhadrasana_ii_371.jpg\n"
     ]
    },
    {
     "name": "stderr",
     "output_type": "stream",
     "text": [
      "2129it [05:57,  6.39it/s]"
     ]
    },
    {
     "name": "stdout",
     "output_type": "stream",
     "text": [
      "Saved to A:\\Projects\\CollegeProjects\\YogaPartner\\intermediates\\v2\\phalakasana_55.jpg\n",
      "Saved to A:\\Projects\\CollegeProjects\\YogaPartner\\intermediates\\v2\\virabhadrasana_i_33.jpg\n"
     ]
    },
    {
     "name": "stderr",
     "output_type": "stream",
     "text": [
      "\r",
      "2130it [05:57,  5.92it/s]"
     ]
    },
    {
     "name": "stdout",
     "output_type": "stream",
     "text": [
      "Saved to A:\\Projects\\CollegeProjects\\YogaPartner\\intermediates\\v2\\adho_mukha_shvanasana_246.jpg\n"
     ]
    },
    {
     "name": "stderr",
     "output_type": "stream",
     "text": [
      "2132it [05:58,  5.29it/s]"
     ]
    },
    {
     "name": "stdout",
     "output_type": "stream",
     "text": [
      "Saved to A:\\Projects\\CollegeProjects\\YogaPartner\\intermediates\\v2\\bhujangasana_463.jpg\n",
      "Saved to A:\\Projects\\CollegeProjects\\YogaPartner\\intermediates\\v2\\bhujangasana_110.jpg\n"
     ]
    },
    {
     "name": "stderr",
     "output_type": "stream",
     "text": [
      "\r",
      "2133it [05:58,  4.47it/s]"
     ]
    },
    {
     "name": "stdout",
     "output_type": "stream",
     "text": [
      "Saved to A:\\Projects\\CollegeProjects\\YogaPartner\\intermediates\\v2\\bhujangasana_121.jpg\n"
     ]
    },
    {
     "name": "stderr",
     "output_type": "stream",
     "text": [
      "2135it [05:58,  4.31it/s]"
     ]
    },
    {
     "name": "stdout",
     "output_type": "stream",
     "text": [
      "Saved to A:\\Projects\\CollegeProjects\\YogaPartner\\intermediates\\v2\\virabhadrasana_i_93.jpg\n",
      "Saved to A:\\Projects\\CollegeProjects\\YogaPartner\\intermediates\\v2\\utkatasana_134.jpg\n",
      "Saved to A:\\Projects\\CollegeProjects\\YogaPartner\\intermediates\\v2\\virabhadrasana_i_15.jpg\n"
     ]
    },
    {
     "name": "stderr",
     "output_type": "stream",
     "text": [
      "2138it [05:59,  6.14it/s]"
     ]
    },
    {
     "name": "stdout",
     "output_type": "stream",
     "text": [
      "Saved to A:\\Projects\\CollegeProjects\\YogaPartner\\intermediates\\v2\\virabhadrasana_ii_361.jpg\n",
      "Saved to A:\\Projects\\CollegeProjects\\YogaPartner\\intermediates\\v2\\bhujangasana_369.jpg\n"
     ]
    },
    {
     "name": "stderr",
     "output_type": "stream",
     "text": [
      "2140it [05:59,  6.84it/s]"
     ]
    },
    {
     "name": "stdout",
     "output_type": "stream",
     "text": [
      "Saved to A:\\Projects\\CollegeProjects\\YogaPartner\\intermediates\\v2\\phalakasana_25.jpg\n",
      "Saved to A:\\Projects\\CollegeProjects\\YogaPartner\\intermediates\\v2\\vrikshasana_33.jpg\n"
     ]
    },
    {
     "name": "stderr",
     "output_type": "stream",
     "text": [
      "2142it [05:59,  7.26it/s]"
     ]
    },
    {
     "name": "stdout",
     "output_type": "stream",
     "text": [
      "Saved to A:\\Projects\\CollegeProjects\\YogaPartner\\intermediates\\v2\\bhujangasana_441.jpg\n",
      "Saved to A:\\Projects\\CollegeProjects\\YogaPartner\\intermediates\\v2\\virabhadrasana_ii_352.jpg\n"
     ]
    },
    {
     "name": "stderr",
     "output_type": "stream",
     "text": [
      "2144it [06:00,  8.22it/s]"
     ]
    },
    {
     "name": "stdout",
     "output_type": "stream",
     "text": [
      "Saved to A:\\Projects\\CollegeProjects\\YogaPartner\\intermediates\\v2\\bidalasana_305.jpg\n",
      "Saved to A:\\Projects\\CollegeProjects\\YogaPartner\\intermediates\\v2\\adho_mukha_shvanasana_65.jpg\n"
     ]
    },
    {
     "name": "stderr",
     "output_type": "stream",
     "text": [
      "2146it [06:00,  8.55it/s]"
     ]
    },
    {
     "name": "stdout",
     "output_type": "stream",
     "text": [
      "Saved to A:\\Projects\\CollegeProjects\\YogaPartner\\intermediates\\v2\\adho_mukha_shvanasana_108.jpg\n",
      "Saved to A:\\Projects\\CollegeProjects\\YogaPartner\\intermediates\\v2\\bidalasana_257.jpg\n"
     ]
    },
    {
     "name": "stderr",
     "output_type": "stream",
     "text": [
      "2148it [06:00,  8.05it/s]"
     ]
    },
    {
     "name": "stdout",
     "output_type": "stream",
     "text": [
      "Saved to A:\\Projects\\CollegeProjects\\YogaPartner\\intermediates\\v2\\virabhadrasana_ii_104.jpg\n",
      "Saved to A:\\Projects\\CollegeProjects\\YogaPartner\\intermediates\\v2\\virabhadrasana_ii_121.jpg\n"
     ]
    },
    {
     "name": "stderr",
     "output_type": "stream",
     "text": [
      "2150it [06:00,  7.08it/s]"
     ]
    },
    {
     "name": "stdout",
     "output_type": "stream",
     "text": [
      "Saved to A:\\Projects\\CollegeProjects\\YogaPartner\\intermediates\\v2\\adho_mukha_shvanasana_159.jpg\n",
      "Saved to A:\\Projects\\CollegeProjects\\YogaPartner\\intermediates\\v2\\virabhadrasana_ii_293.jpg\n"
     ]
    },
    {
     "name": "stderr",
     "output_type": "stream",
     "text": [
      "2152it [06:01,  7.42it/s]"
     ]
    },
    {
     "name": "stdout",
     "output_type": "stream",
     "text": [
      "Saved to A:\\Projects\\CollegeProjects\\YogaPartner\\intermediates\\v2\\bhujangasana_528.jpg\n",
      "Saved to A:\\Projects\\CollegeProjects\\YogaPartner\\intermediates\\v2\\adho_mukha_shvanasana_58.jpg\n"
     ]
    },
    {
     "name": "stderr",
     "output_type": "stream",
     "text": [
      "2154it [06:01,  6.72it/s]"
     ]
    },
    {
     "name": "stdout",
     "output_type": "stream",
     "text": [
      "Saved to A:\\Projects\\CollegeProjects\\YogaPartner\\intermediates\\v2\\adho_mukha_shvanasana_272.jpg\n",
      "Saved to A:\\Projects\\CollegeProjects\\YogaPartner\\intermediates\\v2\\bhujangasana_565.jpg\n"
     ]
    },
    {
     "name": "stderr",
     "output_type": "stream",
     "text": [
      "2156it [06:01,  5.81it/s]"
     ]
    },
    {
     "name": "stdout",
     "output_type": "stream",
     "text": [
      "Saved to A:\\Projects\\CollegeProjects\\YogaPartner\\intermediates\\v2\\virabhadrasana_ii_32.jpg\n",
      "Saved to A:\\Projects\\CollegeProjects\\YogaPartner\\intermediates\\v2\\virabhadrasana_ii_44.jpg\n"
     ]
    },
    {
     "name": "stderr",
     "output_type": "stream",
     "text": [
      "2158it [06:02,  6.22it/s]"
     ]
    },
    {
     "name": "stdout",
     "output_type": "stream",
     "text": [
      "Saved to A:\\Projects\\CollegeProjects\\YogaPartner\\intermediates\\v2\\bidalasana_209.jpg\n",
      "Saved to A:\\Projects\\CollegeProjects\\YogaPartner\\intermediates\\v2\\bhujangasana_27.jpg\n"
     ]
    },
    {
     "name": "stderr",
     "output_type": "stream",
     "text": [
      "2160it [06:02,  6.93it/s]"
     ]
    },
    {
     "name": "stdout",
     "output_type": "stream",
     "text": [
      "Saved to A:\\Projects\\CollegeProjects\\YogaPartner\\intermediates\\v2\\bidalasana_166.jpg\n",
      "Saved to A:\\Projects\\CollegeProjects\\YogaPartner\\intermediates\\v2\\bhujangasana_347.jpg\n"
     ]
    },
    {
     "name": "stderr",
     "output_type": "stream",
     "text": [
      "2162it [06:02,  7.81it/s]"
     ]
    },
    {
     "name": "stdout",
     "output_type": "stream",
     "text": [
      "Saved to A:\\Projects\\CollegeProjects\\YogaPartner\\intermediates\\v2\\bidalasana_243.jpg\n",
      "Saved to A:\\Projects\\CollegeProjects\\YogaPartner\\intermediates\\v2\\adho_mukha_shvanasana_379.jpg\n"
     ]
    },
    {
     "name": "stderr",
     "output_type": "stream",
     "text": [
      "2164it [06:02,  6.95it/s]"
     ]
    },
    {
     "name": "stdout",
     "output_type": "stream",
     "text": [
      "Saved to A:\\Projects\\CollegeProjects\\YogaPartner\\intermediates\\v2\\virabhadrasana_i_204.jpg\n",
      "Saved to A:\\Projects\\CollegeProjects\\YogaPartner\\intermediates\\v2\\utkata_konasana_61.jpg\n"
     ]
    },
    {
     "name": "stderr",
     "output_type": "stream",
     "text": [
      "\r",
      "2165it [06:03,  6.56it/s]"
     ]
    },
    {
     "name": "stdout",
     "output_type": "stream",
     "text": [
      "Saved to A:\\Projects\\CollegeProjects\\YogaPartner\\intermediates\\v2\\bhujangasana_17.jpg\n"
     ]
    },
    {
     "name": "stderr",
     "output_type": "stream",
     "text": [
      "2167it [06:03,  6.04it/s]"
     ]
    },
    {
     "name": "stdout",
     "output_type": "stream",
     "text": [
      "Saved to A:\\Projects\\CollegeProjects\\YogaPartner\\intermediates\\v2\\bhujangasana_182.jpg\n",
      "Saved to A:\\Projects\\CollegeProjects\\YogaPartner\\intermediates\\v2\\bhujangasana_657.jpg\n"
     ]
    },
    {
     "name": "stderr",
     "output_type": "stream",
     "text": [
      "2170it [06:03,  6.78it/s]"
     ]
    },
    {
     "name": "stdout",
     "output_type": "stream",
     "text": [
      "Saved to A:\\Projects\\CollegeProjects\\YogaPartner\\intermediates\\v2\\virabhadrasana_i_61.jpg\n",
      "Saved to A:\\Projects\\CollegeProjects\\YogaPartner\\intermediates\\v2\\bidalasana_1.jpg\n",
      "Saved to A:\\Projects\\CollegeProjects\\YogaPartner\\intermediates\\v2\\bhujangasana_226.jpg\n"
     ]
    },
    {
     "name": "stderr",
     "output_type": "stream",
     "text": [
      "2172it [06:04,  6.43it/s]"
     ]
    },
    {
     "name": "stdout",
     "output_type": "stream",
     "text": [
      "Saved to A:\\Projects\\CollegeProjects\\YogaPartner\\intermediates\\v2\\bhujangasana_540.jpg\n",
      "Saved to A:\\Projects\\CollegeProjects\\YogaPartner\\intermediates\\v2\\virabhadrasana_ii_379.jpg\n",
      "Saved to A:\\Projects\\CollegeProjects\\YogaPartner\\intermediates\\v2\\bidalasana_138.jpg\n"
     ]
    },
    {
     "name": "stderr",
     "output_type": "stream",
     "text": [
      "2175it [06:04,  6.94it/s]"
     ]
    },
    {
     "name": "stdout",
     "output_type": "stream",
     "text": [
      "Saved to A:\\Projects\\CollegeProjects\\YogaPartner\\intermediates\\v2\\adho_mukha_shvanasana_233.jpg\n",
      "Saved to A:\\Projects\\CollegeProjects\\YogaPartner\\intermediates\\v2\\adho_mukha_shvanasana_372.jpg\n"
     ]
    },
    {
     "name": "stderr",
     "output_type": "stream",
     "text": [
      "2177it [06:04,  6.67it/s]"
     ]
    },
    {
     "name": "stdout",
     "output_type": "stream",
     "text": [
      "Saved to A:\\Projects\\CollegeProjects\\YogaPartner\\intermediates\\v2\\utkata_konasana_98.jpg\n",
      "Saved to A:\\Projects\\CollegeProjects\\YogaPartner\\intermediates\\v2\\bidalasana_254.jpg\n"
     ]
    },
    {
     "name": "stderr",
     "output_type": "stream",
     "text": [
      "\r",
      "2178it [06:05,  7.16it/s]"
     ]
    },
    {
     "name": "stdout",
     "output_type": "stream",
     "text": [
      "Saved to A:\\Projects\\CollegeProjects\\YogaPartner\\intermediates\\v2\\virabhadrasana_ii_77.jpg\n"
     ]
    },
    {
     "name": "stderr",
     "output_type": "stream",
     "text": [
      "2180it [06:05,  6.87it/s]"
     ]
    },
    {
     "name": "stdout",
     "output_type": "stream",
     "text": [
      "Saved to A:\\Projects\\CollegeProjects\\YogaPartner\\intermediates\\v2\\bhujangasana_335.jpg\n",
      "Saved to A:\\Projects\\CollegeProjects\\YogaPartner\\intermediates\\v2\\virabhadrasana_ii_265.jpg\n"
     ]
    },
    {
     "name": "stderr",
     "output_type": "stream",
     "text": [
      "\r",
      "2181it [06:05,  6.78it/s]"
     ]
    },
    {
     "name": "stdout",
     "output_type": "stream",
     "text": [
      "Saved to A:\\Projects\\CollegeProjects\\YogaPartner\\intermediates\\v2\\adho_mukha_shvanasana_111.jpg\n"
     ]
    },
    {
     "name": "stderr",
     "output_type": "stream",
     "text": [
      "2183it [06:05,  5.74it/s]"
     ]
    },
    {
     "name": "stdout",
     "output_type": "stream",
     "text": [
      "Saved to A:\\Projects\\CollegeProjects\\YogaPartner\\intermediates\\v2\\vrikshasana_93.jpg\n",
      "Saved to A:\\Projects\\CollegeProjects\\YogaPartner\\intermediates\\v2\\bhujangasana_384.jpg\n"
     ]
    },
    {
     "name": "stderr",
     "output_type": "stream",
     "text": [
      "2185it [06:06,  6.58it/s]"
     ]
    },
    {
     "name": "stdout",
     "output_type": "stream",
     "text": [
      "Saved to A:\\Projects\\CollegeProjects\\YogaPartner\\intermediates\\v2\\bhujangasana_43.jpg\n",
      "Saved to A:\\Projects\\CollegeProjects\\YogaPartner\\intermediates\\v2\\virabhadrasana_i_2.jpg\n"
     ]
    },
    {
     "name": "stderr",
     "output_type": "stream",
     "text": [
      "2188it [06:06,  7.91it/s]"
     ]
    },
    {
     "name": "stdout",
     "output_type": "stream",
     "text": [
      "Saved to A:\\Projects\\CollegeProjects\\YogaPartner\\intermediates\\v2\\adho_mukha_shvanasana_71.jpg\n",
      "Saved to A:\\Projects\\CollegeProjects\\YogaPartner\\intermediates\\v2\\adho_mukha_shvanasana_67.jpg\n",
      "Saved to A:\\Projects\\CollegeProjects\\YogaPartner\\intermediates\\v2\\utkatasana_90.jpg\n"
     ]
    },
    {
     "name": "stderr",
     "output_type": "stream",
     "text": [
      "\r",
      "2190it [06:06,  8.07it/s]"
     ]
    },
    {
     "name": "stdout",
     "output_type": "stream",
     "text": [
      "Saved to A:\\Projects\\CollegeProjects\\YogaPartner\\intermediates\\v2\\ustrasana_31.jpg\n",
      "Saved to A:\\Projects\\CollegeProjects\\YogaPartner\\intermediates\\v2\\adho_mukha_shvanasana_298.jpg\n"
     ]
    },
    {
     "name": "stderr",
     "output_type": "stream",
     "text": [
      "2192it [06:07,  7.99it/s]"
     ]
    },
    {
     "name": "stdout",
     "output_type": "stream",
     "text": [
      "Saved to A:\\Projects\\CollegeProjects\\YogaPartner\\intermediates\\v2\\virabhadrasana_ii_342.jpg\n",
      "Saved to A:\\Projects\\CollegeProjects\\YogaPartner\\intermediates\\v2\\bhujangasana_65.jpg\n"
     ]
    },
    {
     "name": "stderr",
     "output_type": "stream",
     "text": [
      "2194it [06:07,  4.84it/s]"
     ]
    },
    {
     "name": "stdout",
     "output_type": "stream",
     "text": [
      "Saved to A:\\Projects\\CollegeProjects\\YogaPartner\\intermediates\\v2\\bhujangasana_188.jpg\n",
      "Saved to A:\\Projects\\CollegeProjects\\YogaPartner\\intermediates\\v2\\virabhadrasana_ii_22.jpg\n"
     ]
    },
    {
     "name": "stderr",
     "output_type": "stream",
     "text": [
      "2196it [06:08,  5.04it/s]"
     ]
    },
    {
     "name": "stdout",
     "output_type": "stream",
     "text": [
      "Saved to A:\\Projects\\CollegeProjects\\YogaPartner\\intermediates\\v2\\vrikshasana_70.jpg\n",
      "Saved to A:\\Projects\\CollegeProjects\\YogaPartner\\intermediates\\v2\\bhujangasana_24.jpg\n"
     ]
    },
    {
     "name": "stderr",
     "output_type": "stream",
     "text": [
      "\r",
      "2197it [06:08,  4.44it/s]"
     ]
    },
    {
     "name": "stdout",
     "output_type": "stream",
     "text": [
      "Saved to A:\\Projects\\CollegeProjects\\YogaPartner\\intermediates\\v2\\bhujangasana_416.jpg\n"
     ]
    },
    {
     "name": "stderr",
     "output_type": "stream",
     "text": [
      "2199it [06:08,  5.10it/s]"
     ]
    },
    {
     "name": "stdout",
     "output_type": "stream",
     "text": [
      "Saved to A:\\Projects\\CollegeProjects\\YogaPartner\\intermediates\\v2\\phalakasana_15.jpg\n",
      "Saved to A:\\Projects\\CollegeProjects\\YogaPartner\\intermediates\\v2\\vasisthasana_67.jpg\n"
     ]
    },
    {
     "name": "stderr",
     "output_type": "stream",
     "text": [
      "2201it [06:09,  6.00it/s]"
     ]
    },
    {
     "name": "stdout",
     "output_type": "stream",
     "text": [
      "Saved to A:\\Projects\\CollegeProjects\\YogaPartner\\intermediates\\v2\\virabhadrasana_ii_18.jpg\n",
      "Saved to A:\\Projects\\CollegeProjects\\YogaPartner\\intermediates\\v2\\adho_mukha_shvanasana_183.jpg\n"
     ]
    },
    {
     "name": "stderr",
     "output_type": "stream",
     "text": [
      "2203it [06:09,  6.50it/s]"
     ]
    },
    {
     "name": "stdout",
     "output_type": "stream",
     "text": [
      "Saved to A:\\Projects\\CollegeProjects\\YogaPartner\\intermediates\\v2\\adho_mukha_shvanasana_24.jpg\n",
      "Saved to A:\\Projects\\CollegeProjects\\YogaPartner\\intermediates\\v2\\virabhadrasana_i_161.jpg\n"
     ]
    },
    {
     "name": "stderr",
     "output_type": "stream",
     "text": [
      "2205it [06:09,  6.77it/s]"
     ]
    },
    {
     "name": "stdout",
     "output_type": "stream",
     "text": [
      "Saved to A:\\Projects\\CollegeProjects\\YogaPartner\\intermediates\\v2\\bhujangasana_324.jpg\n",
      "Saved to A:\\Projects\\CollegeProjects\\YogaPartner\\intermediates\\v2\\utkata_konasana_8.jpg\n"
     ]
    },
    {
     "name": "stderr",
     "output_type": "stream",
     "text": [
      "2207it [06:09,  6.68it/s]"
     ]
    },
    {
     "name": "stdout",
     "output_type": "stream",
     "text": [
      "Saved to A:\\Projects\\CollegeProjects\\YogaPartner\\intermediates\\v2\\bhujangasana_219.jpg\n",
      "Saved to A:\\Projects\\CollegeProjects\\YogaPartner\\intermediates\\v2\\bhujangasana_132.jpg\n"
     ]
    },
    {
     "name": "stderr",
     "output_type": "stream",
     "text": [
      "2209it [06:10,  6.89it/s]"
     ]
    },
    {
     "name": "stdout",
     "output_type": "stream",
     "text": [
      "Saved to A:\\Projects\\CollegeProjects\\YogaPartner\\intermediates\\v2\\utkatasana_94.jpg\n",
      "Saved to A:\\Projects\\CollegeProjects\\YogaPartner\\intermediates\\v2\\adho_mukha_shvanasana_146.jpg\n"
     ]
    },
    {
     "name": "stderr",
     "output_type": "stream",
     "text": [
      "2211it [06:10,  7.15it/s]"
     ]
    },
    {
     "name": "stdout",
     "output_type": "stream",
     "text": [
      "Saved to A:\\Projects\\CollegeProjects\\YogaPartner\\intermediates\\v2\\vasisthasana_147.jpg\n",
      "Saved to A:\\Projects\\CollegeProjects\\YogaPartner\\intermediates\\v2\\utkata_konasana_178.jpg\n"
     ]
    },
    {
     "name": "stderr",
     "output_type": "stream",
     "text": [
      "2213it [06:10,  7.68it/s]"
     ]
    },
    {
     "name": "stdout",
     "output_type": "stream",
     "text": [
      "Saved to A:\\Projects\\CollegeProjects\\YogaPartner\\intermediates\\v2\\adho_mukha_shvanasana_25.jpg\n",
      "Saved to A:\\Projects\\CollegeProjects\\YogaPartner\\intermediates\\v2\\virabhadrasana_ii_105.jpg\n"
     ]
    },
    {
     "name": "stderr",
     "output_type": "stream",
     "text": [
      "2215it [06:10,  7.36it/s]"
     ]
    },
    {
     "name": "stdout",
     "output_type": "stream",
     "text": [
      "Saved to A:\\Projects\\CollegeProjects\\YogaPartner\\intermediates\\v2\\bhujangasana_87.jpg\n",
      "Saved to A:\\Projects\\CollegeProjects\\YogaPartner\\intermediates\\v2\\vasisthasana_122.jpg\n"
     ]
    },
    {
     "name": "stderr",
     "output_type": "stream",
     "text": [
      "2217it [06:11,  7.53it/s]"
     ]
    },
    {
     "name": "stdout",
     "output_type": "stream",
     "text": [
      "Saved to A:\\Projects\\CollegeProjects\\YogaPartner\\intermediates\\v2\\vrikshasana_233.jpg\n",
      "Saved to A:\\Projects\\CollegeProjects\\YogaPartner\\intermediates\\v2\\utkatasana_78.jpg\n"
     ]
    },
    {
     "name": "stderr",
     "output_type": "stream",
     "text": [
      "2219it [06:11,  6.42it/s]"
     ]
    },
    {
     "name": "stdout",
     "output_type": "stream",
     "text": [
      "Saved to A:\\Projects\\CollegeProjects\\YogaPartner\\intermediates\\v2\\vrikshasana_154.jpg\n",
      "Saved to A:\\Projects\\CollegeProjects\\YogaPartner\\intermediates\\v2\\bhujangasana_161.jpg\n"
     ]
    },
    {
     "name": "stderr",
     "output_type": "stream",
     "text": [
      "\r",
      "2220it [06:11,  5.50it/s]"
     ]
    },
    {
     "name": "stdout",
     "output_type": "stream",
     "text": [
      "Saved to A:\\Projects\\CollegeProjects\\YogaPartner\\intermediates\\v2\\adho_mukha_shvanasana_84.jpg\n",
      "Saved to A:\\Projects\\CollegeProjects\\YogaPartner\\intermediates\\v2\\utkatasana_197.jpg\n"
     ]
    },
    {
     "name": "stderr",
     "output_type": "stream",
     "text": [
      "2223it [06:12,  6.34it/s]"
     ]
    },
    {
     "name": "stdout",
     "output_type": "stream",
     "text": [
      "Saved to A:\\Projects\\CollegeProjects\\YogaPartner\\intermediates\\v2\\vrikshasana_229.jpg\n",
      "Saved to A:\\Projects\\CollegeProjects\\YogaPartner\\intermediates\\v2\\bhujangasana_122.jpg\n"
     ]
    },
    {
     "name": "stderr",
     "output_type": "stream",
     "text": [
      "2225it [06:12,  4.87it/s]"
     ]
    },
    {
     "name": "stdout",
     "output_type": "stream",
     "text": [
      "Saved to A:\\Projects\\CollegeProjects\\YogaPartner\\intermediates\\v2\\utkata_konasana_114.jpg\n",
      "Saved to A:\\Projects\\CollegeProjects\\YogaPartner\\intermediates\\v2\\virabhadrasana_ii_360.jpg\n"
     ]
    },
    {
     "name": "stderr",
     "output_type": "stream",
     "text": [
      "2227it [06:13,  6.07it/s]"
     ]
    },
    {
     "name": "stdout",
     "output_type": "stream",
     "text": [
      "Saved to A:\\Projects\\CollegeProjects\\YogaPartner\\intermediates\\v2\\vasisthasana_80.jpg\n",
      "Saved to A:\\Projects\\CollegeProjects\\YogaPartner\\intermediates\\v2\\utkatasana_56.jpg\n"
     ]
    },
    {
     "name": "stderr",
     "output_type": "stream",
     "text": [
      "2229it [06:13,  3.66it/s]"
     ]
    },
    {
     "name": "stdout",
     "output_type": "stream",
     "text": [
      "Saved to A:\\Projects\\CollegeProjects\\YogaPartner\\intermediates\\v2\\bhujangasana_305.jpg\n",
      "Saved to A:\\Projects\\CollegeProjects\\YogaPartner\\intermediates\\v2\\utkatasana_33.jpg\n"
     ]
    },
    {
     "name": "stderr",
     "output_type": "stream",
     "text": [
      "2231it [06:14,  4.88it/s]"
     ]
    },
    {
     "name": "stdout",
     "output_type": "stream",
     "text": [
      "Saved to A:\\Projects\\CollegeProjects\\YogaPartner\\intermediates\\v2\\adho_mukha_shvanasana_166.jpg\n",
      "Saved to A:\\Projects\\CollegeProjects\\YogaPartner\\intermediates\\v2\\vrikshasana_285.jpg\n"
     ]
    },
    {
     "name": "stderr",
     "output_type": "stream",
     "text": [
      "2233it [06:14,  5.87it/s]"
     ]
    },
    {
     "name": "stdout",
     "output_type": "stream",
     "text": [
      "Saved to A:\\Projects\\CollegeProjects\\YogaPartner\\intermediates\\v2\\bhujangasana_426.jpg\n",
      "Saved to A:\\Projects\\CollegeProjects\\YogaPartner\\intermediates\\v2\\bhujangasana_186.jpg\n"
     ]
    },
    {
     "name": "stderr",
     "output_type": "stream",
     "text": [
      "2235it [06:14,  6.10it/s]"
     ]
    },
    {
     "name": "stdout",
     "output_type": "stream",
     "text": [
      "Saved to A:\\Projects\\CollegeProjects\\YogaPartner\\intermediates\\v2\\bhujangasana_218.jpg\n",
      "Saved to A:\\Projects\\CollegeProjects\\YogaPartner\\intermediates\\v2\\bidalasana_122.jpg\n"
     ]
    },
    {
     "name": "stderr",
     "output_type": "stream",
     "text": [
      "2237it [06:15,  6.73it/s]"
     ]
    },
    {
     "name": "stdout",
     "output_type": "stream",
     "text": [
      "Saved to A:\\Projects\\CollegeProjects\\YogaPartner\\intermediates\\v2\\vrikshasana_295.jpg\n",
      "Saved to A:\\Projects\\CollegeProjects\\YogaPartner\\intermediates\\v2\\vrikshasana_14.jpg\n"
     ]
    },
    {
     "name": "stderr",
     "output_type": "stream",
     "text": [
      "2239it [06:15,  6.51it/s]"
     ]
    },
    {
     "name": "stdout",
     "output_type": "stream",
     "text": [
      "Saved to A:\\Projects\\CollegeProjects\\YogaPartner\\intermediates\\v2\\ustrasana_49.jpg\n",
      "Saved to A:\\Projects\\CollegeProjects\\YogaPartner\\intermediates\\v2\\utkatasana_89.jpg\n"
     ]
    },
    {
     "name": "stderr",
     "output_type": "stream",
     "text": [
      "2242it [06:15,  8.05it/s]"
     ]
    },
    {
     "name": "stdout",
     "output_type": "stream",
     "text": [
      "Saved to A:\\Projects\\CollegeProjects\\YogaPartner\\intermediates\\v2\\phalakasana_50.jpg\n",
      "Saved to A:\\Projects\\CollegeProjects\\YogaPartner\\intermediates\\v2\\bhujangasana_492.jpg\n",
      "Saved to A:\\Projects\\CollegeProjects\\YogaPartner\\intermediates\\v2\\adho_mukha_shvanasana_191.jpg\n"
     ]
    },
    {
     "name": "stderr",
     "output_type": "stream",
     "text": [
      "2244it [06:15,  7.37it/s]"
     ]
    },
    {
     "name": "stdout",
     "output_type": "stream",
     "text": [
      "Saved to A:\\Projects\\CollegeProjects\\YogaPartner\\intermediates\\v2\\adho_mukha_shvanasana_211.jpg\n",
      "Saved to A:\\Projects\\CollegeProjects\\YogaPartner\\intermediates\\v2\\bhujangasana_6.jpg\n"
     ]
    },
    {
     "name": "stderr",
     "output_type": "stream",
     "text": [
      "2246it [06:16,  7.84it/s]"
     ]
    },
    {
     "name": "stdout",
     "output_type": "stream",
     "text": [
      "Saved to A:\\Projects\\CollegeProjects\\YogaPartner\\intermediates\\v2\\bidalasana_277.jpg\n",
      "Saved to A:\\Projects\\CollegeProjects\\YogaPartner\\intermediates\\v2\\utkatasana_17.jpg\n"
     ]
    },
    {
     "name": "stderr",
     "output_type": "stream",
     "text": [
      "2249it [06:16,  8.69it/s]"
     ]
    },
    {
     "name": "stdout",
     "output_type": "stream",
     "text": [
      "Saved to A:\\Projects\\CollegeProjects\\YogaPartner\\intermediates\\v2\\bidalasana_197.jpg\n",
      "Saved to A:\\Projects\\CollegeProjects\\YogaPartner\\intermediates\\v2\\utkata_konasana_53.jpg\n",
      "Saved to A:\\Projects\\CollegeProjects\\YogaPartner\\intermediates\\v2\\virabhadrasana_i_121.jpg\n"
     ]
    },
    {
     "name": "stderr",
     "output_type": "stream",
     "text": [
      "\r",
      "2250it [06:16,  8.51it/s]"
     ]
    },
    {
     "name": "stdout",
     "output_type": "stream",
     "text": [
      "Saved to A:\\Projects\\CollegeProjects\\YogaPartner\\intermediates\\v2\\bidalasana_127.jpg\n"
     ]
    },
    {
     "name": "stderr",
     "output_type": "stream",
     "text": [
      "\r",
      "2251it [06:18,  2.24it/s]"
     ]
    },
    {
     "name": "stdout",
     "output_type": "stream",
     "text": [
      "Saved to A:\\Projects\\CollegeProjects\\YogaPartner\\intermediates\\v2\\bhujangasana_532.jpg\n"
     ]
    },
    {
     "name": "stderr",
     "output_type": "stream",
     "text": [
      "2253it [06:18,  3.21it/s]"
     ]
    },
    {
     "name": "stdout",
     "output_type": "stream",
     "text": [
      "Saved to A:\\Projects\\CollegeProjects\\YogaPartner\\intermediates\\v2\\bhujangasana_507.jpg\n",
      "Saved to A:\\Projects\\CollegeProjects\\YogaPartner\\intermediates\\v2\\adho_mukha_shvanasana_318.jpg\n"
     ]
    },
    {
     "name": "stderr",
     "output_type": "stream",
     "text": [
      "2255it [06:18,  4.63it/s]"
     ]
    },
    {
     "name": "stdout",
     "output_type": "stream",
     "text": [
      "Saved to A:\\Projects\\CollegeProjects\\YogaPartner\\intermediates\\v2\\bhujangasana_29.jpg\n",
      "Saved to A:\\Projects\\CollegeProjects\\YogaPartner\\intermediates\\v2\\virabhadrasana_ii_66.jpg\n"
     ]
    },
    {
     "name": "stderr",
     "output_type": "stream",
     "text": [
      "2257it [06:18,  5.60it/s]"
     ]
    },
    {
     "name": "stdout",
     "output_type": "stream",
     "text": [
      "Saved to A:\\Projects\\CollegeProjects\\YogaPartner\\intermediates\\v2\\virabhadrasana_ii_63.jpg\n",
      "Saved to A:\\Projects\\CollegeProjects\\YogaPartner\\intermediates\\v2\\bhujangasana_619.jpg\n"
     ]
    },
    {
     "name": "stderr",
     "output_type": "stream",
     "text": [
      "\r",
      "2258it [06:19,  6.16it/s]"
     ]
    },
    {
     "name": "stdout",
     "output_type": "stream",
     "text": [
      "Saved to A:\\Projects\\CollegeProjects\\YogaPartner\\intermediates\\v2\\bhujangasana_506.jpg\n"
     ]
    },
    {
     "name": "stderr",
     "output_type": "stream",
     "text": [
      "\r",
      "2259it [06:19,  5.15it/s]"
     ]
    },
    {
     "name": "stdout",
     "output_type": "stream",
     "text": [
      "Saved to A:\\Projects\\CollegeProjects\\YogaPartner\\intermediates\\v2\\virabhadrasana_ii_90.jpg\n",
      "Saved to A:\\Projects\\CollegeProjects\\YogaPartner\\intermediates\\v2\\utkatasana_26.jpg\n"
     ]
    },
    {
     "name": "stderr",
     "output_type": "stream",
     "text": [
      "2262it [06:19,  6.74it/s]"
     ]
    },
    {
     "name": "stdout",
     "output_type": "stream",
     "text": [
      "Saved to A:\\Projects\\CollegeProjects\\YogaPartner\\intermediates\\v2\\adho_mukha_shvanasana_248.jpg\n",
      "Saved to A:\\Projects\\CollegeProjects\\YogaPartner\\intermediates\\v2\\phalakasana_36.jpg\n"
     ]
    },
    {
     "name": "stderr",
     "output_type": "stream",
     "text": [
      "2264it [06:19,  6.52it/s]"
     ]
    },
    {
     "name": "stdout",
     "output_type": "stream",
     "text": [
      "Saved to A:\\Projects\\CollegeProjects\\YogaPartner\\intermediates\\v2\\bidalasana_283.jpg\n",
      "Saved to A:\\Projects\\CollegeProjects\\YogaPartner\\intermediates\\v2\\vasisthasana_128.jpg\n"
     ]
    },
    {
     "name": "stderr",
     "output_type": "stream",
     "text": [
      "2266it [06:20,  6.15it/s]"
     ]
    },
    {
     "name": "stdout",
     "output_type": "stream",
     "text": [
      "Saved to A:\\Projects\\CollegeProjects\\YogaPartner\\intermediates\\v2\\vrikshasana_4.jpg\n",
      "Saved to A:\\Projects\\CollegeProjects\\YogaPartner\\intermediates\\v2\\bhujangasana_245.jpg\n"
     ]
    },
    {
     "name": "stderr",
     "output_type": "stream",
     "text": [
      "\r",
      "2267it [06:20,  6.40it/s]"
     ]
    },
    {
     "name": "stdout",
     "output_type": "stream",
     "text": [
      "Saved to A:\\Projects\\CollegeProjects\\YogaPartner\\intermediates\\v2\\phalakasana_81.jpg\n"
     ]
    },
    {
     "name": "stderr",
     "output_type": "stream",
     "text": [
      "\r",
      "2268it [06:20,  5.66it/s]"
     ]
    },
    {
     "name": "stdout",
     "output_type": "stream",
     "text": [
      "Saved to A:\\Projects\\CollegeProjects\\YogaPartner\\intermediates\\v2\\utkata_konasana_208.jpg\n"
     ]
    },
    {
     "name": "stderr",
     "output_type": "stream",
     "text": [
      "2270it [06:20,  5.90it/s]"
     ]
    },
    {
     "name": "stdout",
     "output_type": "stream",
     "text": [
      "Saved to A:\\Projects\\CollegeProjects\\YogaPartner\\intermediates\\v2\\bhujangasana_503.jpg\n",
      "Saved to A:\\Projects\\CollegeProjects\\YogaPartner\\intermediates\\v2\\bhujangasana_659.jpg\n"
     ]
    },
    {
     "name": "stderr",
     "output_type": "stream",
     "text": [
      "\r",
      "2272it [06:21,  7.17it/s]"
     ]
    },
    {
     "name": "stdout",
     "output_type": "stream",
     "text": [
      "Saved to A:\\Projects\\CollegeProjects\\YogaPartner\\intermediates\\v2\\bhujangasana_457.jpg\n",
      "Saved to A:\\Projects\\CollegeProjects\\YogaPartner\\intermediates\\v2\\utkatasana_86.jpg\n"
     ]
    },
    {
     "name": "stderr",
     "output_type": "stream",
     "text": [
      "2274it [06:21,  6.71it/s]"
     ]
    },
    {
     "name": "stdout",
     "output_type": "stream",
     "text": [
      "Saved to A:\\Projects\\CollegeProjects\\YogaPartner\\intermediates\\v2\\vrikshasana_301.jpg\n",
      "Saved to A:\\Projects\\CollegeProjects\\YogaPartner\\intermediates\\v2\\phalakasana_73.jpg\n"
     ]
    },
    {
     "name": "stderr",
     "output_type": "stream",
     "text": [
      "2277it [06:21,  8.31it/s]"
     ]
    },
    {
     "name": "stdout",
     "output_type": "stream",
     "text": [
      "Saved to A:\\Projects\\CollegeProjects\\YogaPartner\\intermediates\\v2\\virabhadrasana_i_30.jpg\n",
      "Saved to A:\\Projects\\CollegeProjects\\YogaPartner\\intermediates\\v2\\virabhadrasana_i_133.jpg\n",
      "Saved to A:\\Projects\\CollegeProjects\\YogaPartner\\intermediates\\v2\\adho_mukha_shvanasana_14.jpg\n"
     ]
    },
    {
     "name": "stderr",
     "output_type": "stream",
     "text": [
      "2279it [06:22,  8.02it/s]"
     ]
    },
    {
     "name": "stdout",
     "output_type": "stream",
     "text": [
      "Saved to A:\\Projects\\CollegeProjects\\YogaPartner\\intermediates\\v2\\bhujangasana_370.jpg\n",
      "Saved to A:\\Projects\\CollegeProjects\\YogaPartner\\intermediates\\v2\\virabhadrasana_ii_129.jpg\n"
     ]
    },
    {
     "name": "stderr",
     "output_type": "stream",
     "text": [
      "2281it [06:22,  6.84it/s]"
     ]
    },
    {
     "name": "stdout",
     "output_type": "stream",
     "text": [
      "Saved to A:\\Projects\\CollegeProjects\\YogaPartner\\intermediates\\v2\\vrikshasana_171.jpg\n",
      "Saved to A:\\Projects\\CollegeProjects\\YogaPartner\\intermediates\\v2\\vrikshasana_293.jpg\n"
     ]
    },
    {
     "name": "stderr",
     "output_type": "stream",
     "text": [
      "\r",
      "2283it [06:22,  7.29it/s]"
     ]
    },
    {
     "name": "stdout",
     "output_type": "stream",
     "text": [
      "Saved to A:\\Projects\\CollegeProjects\\YogaPartner\\intermediates\\v2\\adho_mukha_shvanasana_266.jpg\n",
      "Saved to A:\\Projects\\CollegeProjects\\YogaPartner\\intermediates\\v2\\utkatasana_73.jpg\n"
     ]
    },
    {
     "name": "stderr",
     "output_type": "stream",
     "text": [
      "2285it [06:23,  6.72it/s]"
     ]
    },
    {
     "name": "stdout",
     "output_type": "stream",
     "text": [
      "Saved to A:\\Projects\\CollegeProjects\\YogaPartner\\intermediates\\v2\\phalakasana_10.jpg\n",
      "Saved to A:\\Projects\\CollegeProjects\\YogaPartner\\intermediates\\v2\\adho_mukha_shvanasana_427.jpg\n"
     ]
    },
    {
     "name": "stderr",
     "output_type": "stream",
     "text": [
      "\r",
      "2286it [06:23,  6.96it/s]"
     ]
    },
    {
     "name": "stdout",
     "output_type": "stream",
     "text": [
      "Saved to A:\\Projects\\CollegeProjects\\YogaPartner\\intermediates\\v2\\virabhadrasana_ii_142.jpg\n"
     ]
    },
    {
     "name": "stderr",
     "output_type": "stream",
     "text": [
      "2288it [06:23,  5.60it/s]"
     ]
    },
    {
     "name": "stdout",
     "output_type": "stream",
     "text": [
      "Saved to A:\\Projects\\CollegeProjects\\YogaPartner\\intermediates\\v2\\bidalasana_113.jpeg\n",
      "Saved to A:\\Projects\\CollegeProjects\\YogaPartner\\intermediates\\v2\\adho_mukha_shvanasana_403.jpg\n"
     ]
    },
    {
     "name": "stderr",
     "output_type": "stream",
     "text": [
      "\r",
      "2289it [06:23,  5.22it/s]"
     ]
    },
    {
     "name": "stdout",
     "output_type": "stream",
     "text": [
      "Saved to A:\\Projects\\CollegeProjects\\YogaPartner\\intermediates\\v2\\utkatasana_68.jpg\n"
     ]
    },
    {
     "name": "stderr",
     "output_type": "stream",
     "text": [
      "2291it [06:25,  2.31it/s]"
     ]
    },
    {
     "name": "stdout",
     "output_type": "stream",
     "text": [
      "Saved to A:\\Projects\\CollegeProjects\\YogaPartner\\intermediates\\v2\\phalakasana_34.jpg\n",
      "Saved to A:\\Projects\\CollegeProjects\\YogaPartner\\intermediates\\v2\\utkata_konasana_26.jpg\n"
     ]
    },
    {
     "name": "stderr",
     "output_type": "stream",
     "text": [
      "\r",
      "2292it [06:25,  2.89it/s]"
     ]
    },
    {
     "name": "stdout",
     "output_type": "stream",
     "text": [
      "Saved to A:\\Projects\\CollegeProjects\\YogaPartner\\intermediates\\v2\\utkata_konasana_63.jpg\n",
      "Saved to A:\\Projects\\CollegeProjects\\YogaPartner\\intermediates\\v2\\virabhadrasana_ii_202.jpg\n"
     ]
    },
    {
     "name": "stderr",
     "output_type": "stream",
     "text": [
      "2295it [06:25,  4.77it/s]"
     ]
    },
    {
     "name": "stdout",
     "output_type": "stream",
     "text": [
      "Saved to A:\\Projects\\CollegeProjects\\YogaPartner\\intermediates\\v2\\adho_mukha_shvanasana_57.jpg\n",
      "Saved to A:\\Projects\\CollegeProjects\\YogaPartner\\intermediates\\v2\\virabhadrasana_ii_203.jpg\n"
     ]
    },
    {
     "name": "stderr",
     "output_type": "stream",
     "text": [
      "2297it [06:26,  5.65it/s]"
     ]
    },
    {
     "name": "stdout",
     "output_type": "stream",
     "text": [
      "Saved to A:\\Projects\\CollegeProjects\\YogaPartner\\intermediates\\v2\\adho_mukha_shvanasana_167.jpg\n",
      "Saved to A:\\Projects\\CollegeProjects\\YogaPartner\\intermediates\\v2\\bhujangasana_44.jpg\n"
     ]
    },
    {
     "name": "stderr",
     "output_type": "stream",
     "text": [
      "2299it [06:26,  6.14it/s]"
     ]
    },
    {
     "name": "stdout",
     "output_type": "stream",
     "text": [
      "Saved to A:\\Projects\\CollegeProjects\\YogaPartner\\intermediates\\v2\\adho_mukha_shvanasana_370.jpg\n",
      "Saved to A:\\Projects\\CollegeProjects\\YogaPartner\\intermediates\\v2\\utkatasana_40.jpg\n"
     ]
    },
    {
     "name": "stderr",
     "output_type": "stream",
     "text": [
      "2301it [06:26,  5.24it/s]"
     ]
    },
    {
     "name": "stdout",
     "output_type": "stream",
     "text": [
      "Saved to A:\\Projects\\CollegeProjects\\YogaPartner\\intermediates\\v2\\bhujangasana_155.jpg\n",
      "Saved to A:\\Projects\\CollegeProjects\\YogaPartner\\intermediates\\v2\\virabhadrasana_i_196.jpg\n"
     ]
    },
    {
     "name": "stderr",
     "output_type": "stream",
     "text": [
      "2303it [06:27,  6.28it/s]"
     ]
    },
    {
     "name": "stdout",
     "output_type": "stream",
     "text": [
      "Saved to A:\\Projects\\CollegeProjects\\YogaPartner\\intermediates\\v2\\virabhadrasana_ii_51.jpg\n",
      "Saved to A:\\Projects\\CollegeProjects\\YogaPartner\\intermediates\\v2\\virabhadrasana_i_101.jpg\n"
     ]
    },
    {
     "name": "stderr",
     "output_type": "stream",
     "text": [
      "2306it [06:27,  8.15it/s]"
     ]
    },
    {
     "name": "stdout",
     "output_type": "stream",
     "text": [
      "Saved to A:\\Projects\\CollegeProjects\\YogaPartner\\intermediates\\v2\\bhujangasana_456.jpg\n",
      "Saved to A:\\Projects\\CollegeProjects\\YogaPartner\\intermediates\\v2\\adho_mukha_shvanasana_388.jpg\n",
      "Saved to A:\\Projects\\CollegeProjects\\YogaPartner\\intermediates\\v2\\vrikshasana_129.jpg\n"
     ]
    },
    {
     "name": "stderr",
     "output_type": "stream",
     "text": [
      "2308it [06:27,  7.88it/s]"
     ]
    },
    {
     "name": "stdout",
     "output_type": "stream",
     "text": [
      "Saved to A:\\Projects\\CollegeProjects\\YogaPartner\\intermediates\\v2\\bidalasana_28.jpg\n",
      "Saved to A:\\Projects\\CollegeProjects\\YogaPartner\\intermediates\\v2\\utkatasana_142.jpg\n"
     ]
    },
    {
     "name": "stderr",
     "output_type": "stream",
     "text": [
      "2310it [06:28,  4.75it/s]"
     ]
    },
    {
     "name": "stdout",
     "output_type": "stream",
     "text": [
      "Saved to A:\\Projects\\CollegeProjects\\YogaPartner\\intermediates\\v2\\phalakasana_35.jpg\n",
      "Saved to A:\\Projects\\CollegeProjects\\YogaPartner\\intermediates\\v2\\adho_mukha_shvanasana_130.jpg\n"
     ]
    },
    {
     "name": "stderr",
     "output_type": "stream",
     "text": [
      "2312it [06:28,  5.91it/s]"
     ]
    },
    {
     "name": "stdout",
     "output_type": "stream",
     "text": [
      "Saved to A:\\Projects\\CollegeProjects\\YogaPartner\\intermediates\\v2\\virabhadrasana_i_65.jpg\n",
      "Saved to A:\\Projects\\CollegeProjects\\YogaPartner\\intermediates\\v2\\adho_mukha_shvanasana_152.jpg\n"
     ]
    },
    {
     "name": "stderr",
     "output_type": "stream",
     "text": [
      "2315it [06:29,  7.49it/s]"
     ]
    },
    {
     "name": "stdout",
     "output_type": "stream",
     "text": [
      "Saved to A:\\Projects\\CollegeProjects\\YogaPartner\\intermediates\\v2\\virabhadrasana_ii_102.jpg\n",
      "Saved to A:\\Projects\\CollegeProjects\\YogaPartner\\intermediates\\v2\\bidalasana_65.jpg\n",
      "Saved to A:\\Projects\\CollegeProjects\\YogaPartner\\intermediates\\v2\\vasisthasana_144.jpg\n"
     ]
    },
    {
     "name": "stderr",
     "output_type": "stream",
     "text": [
      "\r",
      "2317it [06:29,  8.57it/s]"
     ]
    },
    {
     "name": "stdout",
     "output_type": "stream",
     "text": [
      "Saved to A:\\Projects\\CollegeProjects\\YogaPartner\\intermediates\\v2\\utkatasana_156.jpg\n",
      "Saved to A:\\Projects\\CollegeProjects\\YogaPartner\\intermediates\\v2\\bidalasana_270.jpg\n",
      "Saved to A:\\Projects\\CollegeProjects\\YogaPartner\\intermediates\\v2\\ustrasana_10.jpg\n"
     ]
    },
    {
     "name": "stderr",
     "output_type": "stream",
     "text": [
      "2320it [06:29,  5.71it/s]"
     ]
    },
    {
     "name": "stdout",
     "output_type": "stream",
     "text": [
      "Saved to A:\\Projects\\CollegeProjects\\YogaPartner\\intermediates\\v2\\vrikshasana_256.jpg\n",
      "Saved to A:\\Projects\\CollegeProjects\\YogaPartner\\intermediates\\v2\\bhujangasana_344.jpg\n"
     ]
    },
    {
     "name": "stderr",
     "output_type": "stream",
     "text": [
      "\r",
      "2322it [06:30,  6.57it/s]"
     ]
    },
    {
     "name": "stdout",
     "output_type": "stream",
     "text": [
      "Saved to A:\\Projects\\CollegeProjects\\YogaPartner\\intermediates\\v2\\utkatasana_163.jpg\n",
      "Saved to A:\\Projects\\CollegeProjects\\YogaPartner\\intermediates\\v2\\virabhadrasana_ii_340.jpg\n"
     ]
    },
    {
     "name": "stderr",
     "output_type": "stream",
     "text": [
      "2325it [06:30,  7.72it/s]"
     ]
    },
    {
     "name": "stdout",
     "output_type": "stream",
     "text": [
      "Saved to A:\\Projects\\CollegeProjects\\YogaPartner\\intermediates\\v2\\vasisthasana_21.jpg\n",
      "Saved to A:\\Projects\\CollegeProjects\\YogaPartner\\intermediates\\v2\\utkata_konasana_69.jpeg\n",
      "Saved to A:\\Projects\\CollegeProjects\\YogaPartner\\intermediates\\v2\\phalakasana_30.jpg\n"
     ]
    },
    {
     "name": "stderr",
     "output_type": "stream",
     "text": [
      "2328it [06:30,  8.51it/s]"
     ]
    },
    {
     "name": "stdout",
     "output_type": "stream",
     "text": [
      "Saved to A:\\Projects\\CollegeProjects\\YogaPartner\\intermediates\\v2\\vrikshasana_156.jpg\n",
      "Saved to A:\\Projects\\CollegeProjects\\YogaPartner\\intermediates\\v2\\utkatasana_53.jpg\n",
      "Saved to A:\\Projects\\CollegeProjects\\YogaPartner\\intermediates\\v2\\vrikshasana_50.jpg\n",
      "Saved to A:\\Projects\\CollegeProjects\\YogaPartner\\intermediates\\v2\\bidalasana_228.jpg\n"
     ]
    },
    {
     "name": "stderr",
     "output_type": "stream",
     "text": [
      "\r",
      "2330it [06:31,  7.35it/s]"
     ]
    },
    {
     "name": "stdout",
     "output_type": "stream",
     "text": [
      "Saved to A:\\Projects\\CollegeProjects\\YogaPartner\\intermediates\\v2\\virabhadrasana_i_68.jpg\n"
     ]
    },
    {
     "name": "stderr",
     "output_type": "stream",
     "text": [
      "2332it [06:32,  3.20it/s]"
     ]
    },
    {
     "name": "stdout",
     "output_type": "stream",
     "text": [
      "Saved to A:\\Projects\\CollegeProjects\\YogaPartner\\intermediates\\v2\\vasisthasana_116.jpg\n",
      "Saved to A:\\Projects\\CollegeProjects\\YogaPartner\\intermediates\\v2\\vasisthasana_107.jpg\n"
     ]
    },
    {
     "name": "stderr",
     "output_type": "stream",
     "text": [
      "\r",
      "2333it [06:32,  3.65it/s]"
     ]
    },
    {
     "name": "stdout",
     "output_type": "stream",
     "text": [
      "Saved to A:\\Projects\\CollegeProjects\\YogaPartner\\intermediates\\v2\\phalakasana_67.jpg\n"
     ]
    },
    {
     "name": "stderr",
     "output_type": "stream",
     "text": [
      "2335it [06:33,  4.25it/s]"
     ]
    },
    {
     "name": "stdout",
     "output_type": "stream",
     "text": [
      "Saved to A:\\Projects\\CollegeProjects\\YogaPartner\\intermediates\\v2\\adho_mukha_shvanasana_106.jpg\n",
      "Saved to A:\\Projects\\CollegeProjects\\YogaPartner\\intermediates\\v2\\virabhadrasana_i_117.jpg\n"
     ]
    },
    {
     "name": "stderr",
     "output_type": "stream",
     "text": [
      "2337it [06:33,  4.43it/s]"
     ]
    },
    {
     "name": "stdout",
     "output_type": "stream",
     "text": [
      "Saved to A:\\Projects\\CollegeProjects\\YogaPartner\\intermediates\\v2\\bhujangasana_494.jpg\n",
      "Saved to A:\\Projects\\CollegeProjects\\YogaPartner\\intermediates\\v2\\adho_mukha_shvanasana_79.jpg\n"
     ]
    },
    {
     "name": "stderr",
     "output_type": "stream",
     "text": [
      "2340it [06:33,  6.61it/s]"
     ]
    },
    {
     "name": "stdout",
     "output_type": "stream",
     "text": [
      "Saved to A:\\Projects\\CollegeProjects\\YogaPartner\\intermediates\\v2\\virabhadrasana_ii_261.jpg\n",
      "Saved to A:\\Projects\\CollegeProjects\\YogaPartner\\intermediates\\v2\\utkata_konasana_95.jpg\n",
      "Saved to A:\\Projects\\CollegeProjects\\YogaPartner\\intermediates\\v2\\bhujangasana_556.jpg\n"
     ]
    },
    {
     "name": "stderr",
     "output_type": "stream",
     "text": [
      "2343it [06:34,  7.71it/s]"
     ]
    },
    {
     "name": "stdout",
     "output_type": "stream",
     "text": [
      "Saved to A:\\Projects\\CollegeProjects\\YogaPartner\\intermediates\\v2\\virabhadrasana_ii_158.jpg\n",
      "Saved to A:\\Projects\\CollegeProjects\\YogaPartner\\intermediates\\v2\\bhujangasana_255.jpg\n",
      "Saved to A:\\Projects\\CollegeProjects\\YogaPartner\\intermediates\\v2\\bhujangasana_285.jpg\n"
     ]
    },
    {
     "name": "stderr",
     "output_type": "stream",
     "text": [
      "2345it [06:34,  7.27it/s]"
     ]
    },
    {
     "name": "stdout",
     "output_type": "stream",
     "text": [
      "Saved to A:\\Projects\\CollegeProjects\\YogaPartner\\intermediates\\v2\\virabhadrasana_i_201.jpg\n",
      "Saved to A:\\Projects\\CollegeProjects\\YogaPartner\\intermediates\\v2\\vrikshasana_300.jpg\n"
     ]
    },
    {
     "name": "stderr",
     "output_type": "stream",
     "text": [
      "2347it [06:34,  7.67it/s]"
     ]
    },
    {
     "name": "stdout",
     "output_type": "stream",
     "text": [
      "Saved to A:\\Projects\\CollegeProjects\\YogaPartner\\intermediates\\v2\\ustrasana_6.jpg\n",
      "Saved to A:\\Projects\\CollegeProjects\\YogaPartner\\intermediates\\v2\\bhujangasana_174.jpg\n"
     ]
    },
    {
     "name": "stderr",
     "output_type": "stream",
     "text": [
      "2349it [06:35,  6.99it/s]"
     ]
    },
    {
     "name": "stdout",
     "output_type": "stream",
     "text": [
      "Saved to A:\\Projects\\CollegeProjects\\YogaPartner\\intermediates\\v2\\virabhadrasana_i_177.jpg\n",
      "Saved to A:\\Projects\\CollegeProjects\\YogaPartner\\intermediates\\v2\\bhujangasana_514.jpg\n"
     ]
    },
    {
     "name": "stderr",
     "output_type": "stream",
     "text": [
      "\r",
      "2350it [06:35,  6.99it/s]"
     ]
    },
    {
     "name": "stdout",
     "output_type": "stream",
     "text": [
      "Saved to A:\\Projects\\CollegeProjects\\YogaPartner\\intermediates\\v2\\bidalasana_303.jpg\n"
     ]
    },
    {
     "name": "stderr",
     "output_type": "stream",
     "text": [
      "2352it [06:37,  2.04it/s]"
     ]
    },
    {
     "name": "stdout",
     "output_type": "stream",
     "text": [
      "Saved to A:\\Projects\\CollegeProjects\\YogaPartner\\intermediates\\v2\\vasisthasana_64.jpg\n",
      "Saved to A:\\Projects\\CollegeProjects\\YogaPartner\\intermediates\\v2\\utkata_konasana_196.jpg\n"
     ]
    },
    {
     "name": "stderr",
     "output_type": "stream",
     "text": [
      "\r",
      "2353it [06:37,  2.64it/s]"
     ]
    },
    {
     "name": "stdout",
     "output_type": "stream",
     "text": [
      "Saved to A:\\Projects\\CollegeProjects\\YogaPartner\\intermediates\\v2\\phalakasana_120.jpg\n"
     ]
    },
    {
     "name": "stderr",
     "output_type": "stream",
     "text": [
      "2355it [06:37,  3.59it/s]"
     ]
    },
    {
     "name": "stdout",
     "output_type": "stream",
     "text": [
      "Saved to A:\\Projects\\CollegeProjects\\YogaPartner\\intermediates\\v2\\vrikshasana_218.jpg\n",
      "Saved to A:\\Projects\\CollegeProjects\\YogaPartner\\intermediates\\v2\\bhujangasana_66.jpg\n"
     ]
    },
    {
     "name": "stderr",
     "output_type": "stream",
     "text": [
      "2357it [06:37,  4.64it/s]"
     ]
    },
    {
     "name": "stdout",
     "output_type": "stream",
     "text": [
      "Saved to A:\\Projects\\CollegeProjects\\YogaPartner\\intermediates\\v2\\bidalasana_32.jpg\n",
      "Saved to A:\\Projects\\CollegeProjects\\YogaPartner\\intermediates\\v2\\bhujangasana_587.jpg\n"
     ]
    },
    {
     "name": "stderr",
     "output_type": "stream",
     "text": [
      "2359it [06:38,  5.87it/s]"
     ]
    },
    {
     "name": "stdout",
     "output_type": "stream",
     "text": [
      "Saved to A:\\Projects\\CollegeProjects\\YogaPartner\\intermediates\\v2\\ustrasana_60.jpg\n",
      "Saved to A:\\Projects\\CollegeProjects\\YogaPartner\\intermediates\\v2\\virabhadrasana_ii_79.jpg\n"
     ]
    },
    {
     "name": "stderr",
     "output_type": "stream",
     "text": [
      "2361it [06:38,  6.41it/s]"
     ]
    },
    {
     "name": "stdout",
     "output_type": "stream",
     "text": [
      "Saved to A:\\Projects\\CollegeProjects\\YogaPartner\\intermediates\\v2\\virabhadrasana_ii_81.jpg\n",
      "Saved to A:\\Projects\\CollegeProjects\\YogaPartner\\intermediates\\v2\\vrikshasana_30.jpg\n"
     ]
    },
    {
     "name": "stderr",
     "output_type": "stream",
     "text": [
      "2363it [06:38,  6.77it/s]"
     ]
    },
    {
     "name": "stdout",
     "output_type": "stream",
     "text": [
      "Saved to A:\\Projects\\CollegeProjects\\YogaPartner\\intermediates\\v2\\bhujangasana_293.jpg\n",
      "Saved to A:\\Projects\\CollegeProjects\\YogaPartner\\intermediates\\v2\\utkata_konasana_159.jpg\n"
     ]
    },
    {
     "name": "stderr",
     "output_type": "stream",
     "text": [
      "2365it [06:39,  4.66it/s]"
     ]
    },
    {
     "name": "stdout",
     "output_type": "stream",
     "text": [
      "Saved to A:\\Projects\\CollegeProjects\\YogaPartner\\intermediates\\v2\\virabhadrasana_i_39.jpg\n",
      "Saved to A:\\Projects\\CollegeProjects\\YogaPartner\\intermediates\\v2\\bhujangasana_298.jpg\n"
     ]
    },
    {
     "name": "stderr",
     "output_type": "stream",
     "text": [
      "2367it [06:39,  5.03it/s]"
     ]
    },
    {
     "name": "stdout",
     "output_type": "stream",
     "text": [
      "Saved to A:\\Projects\\CollegeProjects\\YogaPartner\\intermediates\\v2\\vrikshasana_132.jpg\n",
      "Saved to A:\\Projects\\CollegeProjects\\YogaPartner\\intermediates\\v2\\virabhadrasana_i_154.jpg\n"
     ]
    },
    {
     "name": "stderr",
     "output_type": "stream",
     "text": [
      "2370it [06:40,  6.91it/s]"
     ]
    },
    {
     "name": "stdout",
     "output_type": "stream",
     "text": [
      "Saved to A:\\Projects\\CollegeProjects\\YogaPartner\\intermediates\\v2\\bhujangasana_423.jpg\n",
      "Saved to A:\\Projects\\CollegeProjects\\YogaPartner\\intermediates\\v2\\virabhadrasana_ii_286.jpg\n",
      "Saved to A:\\Projects\\CollegeProjects\\YogaPartner\\intermediates\\v2\\adho_mukha_shvanasana_257.jpg\n"
     ]
    },
    {
     "name": "stderr",
     "output_type": "stream",
     "text": [
      "2372it [06:40,  7.34it/s]"
     ]
    },
    {
     "name": "stdout",
     "output_type": "stream",
     "text": [
      "Saved to A:\\Projects\\CollegeProjects\\YogaPartner\\intermediates\\v2\\utkata_konasana_25.jpg\n",
      "Saved to A:\\Projects\\CollegeProjects\\YogaPartner\\intermediates\\v2\\bidalasana_262.jpg\n",
      "Saved to A:\\Projects\\CollegeProjects\\YogaPartner\\intermediates\\v2\\bidalasana_55.jpg\n"
     ]
    },
    {
     "name": "stderr",
     "output_type": "stream",
     "text": [
      "2375it [06:40,  7.45it/s]"
     ]
    },
    {
     "name": "stdout",
     "output_type": "stream",
     "text": [
      "Saved to A:\\Projects\\CollegeProjects\\YogaPartner\\intermediates\\v2\\bidalasana_290.jpg\n",
      "Saved to A:\\Projects\\CollegeProjects\\YogaPartner\\intermediates\\v2\\utkatasana_72.jpg\n"
     ]
    },
    {
     "name": "stderr",
     "output_type": "stream",
     "text": [
      "2377it [06:41,  3.57it/s]"
     ]
    },
    {
     "name": "stdout",
     "output_type": "stream",
     "text": [
      "Saved to A:\\Projects\\CollegeProjects\\YogaPartner\\intermediates\\v2\\utkata_konasana_11.jpg\n",
      "Saved to A:\\Projects\\CollegeProjects\\YogaPartner\\intermediates\\v2\\adho_mukha_shvanasana_95.jpg\n"
     ]
    },
    {
     "name": "stderr",
     "output_type": "stream",
     "text": [
      "2379it [06:42,  4.81it/s]"
     ]
    },
    {
     "name": "stdout",
     "output_type": "stream",
     "text": [
      "Saved to A:\\Projects\\CollegeProjects\\YogaPartner\\intermediates\\v2\\virabhadrasana_ii_176.jpg\n",
      "Saved to A:\\Projects\\CollegeProjects\\YogaPartner\\intermediates\\v2\\utkata_konasana_205.jpg\n"
     ]
    },
    {
     "name": "stderr",
     "output_type": "stream",
     "text": [
      "2381it [06:42,  5.84it/s]"
     ]
    },
    {
     "name": "stdout",
     "output_type": "stream",
     "text": [
      "Saved to A:\\Projects\\CollegeProjects\\YogaPartner\\intermediates\\v2\\utkata_konasana_32.jpg\n",
      "Saved to A:\\Projects\\CollegeProjects\\YogaPartner\\intermediates\\v2\\utkata_konasana_136.jpg\n"
     ]
    },
    {
     "name": "stderr",
     "output_type": "stream",
     "text": [
      "2383it [06:42,  5.34it/s]"
     ]
    },
    {
     "name": "stdout",
     "output_type": "stream",
     "text": [
      "Saved to A:\\Projects\\CollegeProjects\\YogaPartner\\intermediates\\v2\\adho_mukha_shvanasana_332.jpg\n",
      "Saved to A:\\Projects\\CollegeProjects\\YogaPartner\\intermediates\\v2\\bidalasana_33.jpg\n"
     ]
    },
    {
     "name": "stderr",
     "output_type": "stream",
     "text": [
      "2385it [06:42,  6.74it/s]"
     ]
    },
    {
     "name": "stdout",
     "output_type": "stream",
     "text": [
      "Saved to A:\\Projects\\CollegeProjects\\YogaPartner\\intermediates\\v2\\virabhadrasana_i_219.jpg\n",
      "Saved to A:\\Projects\\CollegeProjects\\YogaPartner\\intermediates\\v2\\bidalasana_144.jpg\n"
     ]
    },
    {
     "name": "stderr",
     "output_type": "stream",
     "text": [
      "\r",
      "2386it [06:43,  6.77it/s]"
     ]
    },
    {
     "name": "stdout",
     "output_type": "stream",
     "text": [
      "Saved to A:\\Projects\\CollegeProjects\\YogaPartner\\intermediates\\v2\\vrikshasana_77.jpg\n",
      "Saved to A:\\Projects\\CollegeProjects\\YogaPartner\\intermediates\\v2\\vrikshasana_107.jpg\n"
     ]
    },
    {
     "name": "stderr",
     "output_type": "stream",
     "text": [
      "2389it [06:43,  6.99it/s]"
     ]
    },
    {
     "name": "stdout",
     "output_type": "stream",
     "text": [
      "Saved to A:\\Projects\\CollegeProjects\\YogaPartner\\intermediates\\v2\\virabhadrasana_i_118.jpg\n",
      "Saved to A:\\Projects\\CollegeProjects\\YogaPartner\\intermediates\\v2\\adho_mukha_shvanasana_416.jpg\n"
     ]
    },
    {
     "name": "stderr",
     "output_type": "stream",
     "text": [
      "2391it [06:43,  6.55it/s]"
     ]
    },
    {
     "name": "stdout",
     "output_type": "stream",
     "text": [
      "Saved to A:\\Projects\\CollegeProjects\\YogaPartner\\intermediates\\v2\\bhujangasana_10.jpg\n",
      "Saved to A:\\Projects\\CollegeProjects\\YogaPartner\\intermediates\\v2\\utkata_konasana_31.jpg\n"
     ]
    },
    {
     "name": "stderr",
     "output_type": "stream",
     "text": [
      "\r",
      "2393it [06:44,  7.67it/s]"
     ]
    },
    {
     "name": "stdout",
     "output_type": "stream",
     "text": [
      "Saved to A:\\Projects\\CollegeProjects\\YogaPartner\\intermediates\\v2\\vrikshasana_234.jpg\n",
      "Saved to A:\\Projects\\CollegeProjects\\YogaPartner\\intermediates\\v2\\bhujangasana_299.jpg\n"
     ]
    },
    {
     "name": "stderr",
     "output_type": "stream",
     "text": [
      "2395it [06:44,  8.25it/s]"
     ]
    },
    {
     "name": "stdout",
     "output_type": "stream",
     "text": [
      "Saved to A:\\Projects\\CollegeProjects\\YogaPartner\\intermediates\\v2\\virabhadrasana_ii_130.jpg\n",
      "Saved to A:\\Projects\\CollegeProjects\\YogaPartner\\intermediates\\v2\\bhujangasana_303.jpg\n"
     ]
    },
    {
     "name": "stderr",
     "output_type": "stream",
     "text": [
      "2397it [06:44,  7.99it/s]"
     ]
    },
    {
     "name": "stdout",
     "output_type": "stream",
     "text": [
      "Saved to A:\\Projects\\CollegeProjects\\YogaPartner\\intermediates\\v2\\vrikshasana_79.jpg\n",
      "Saved to A:\\Projects\\CollegeProjects\\YogaPartner\\intermediates\\v2\\utkata_konasana_131.jpeg\n"
     ]
    },
    {
     "name": "stderr",
     "output_type": "stream",
     "text": [
      "\r",
      "2399it [06:44,  7.93it/s]"
     ]
    },
    {
     "name": "stdout",
     "output_type": "stream",
     "text": [
      "Saved to A:\\Projects\\CollegeProjects\\YogaPartner\\intermediates\\v2\\bhujangasana_59.jpg\n",
      "Saved to A:\\Projects\\CollegeProjects\\YogaPartner\\intermediates\\v2\\bhujangasana_345.jpg\n"
     ]
    },
    {
     "name": "stderr",
     "output_type": "stream",
     "text": [
      "2401it [06:45,  8.11it/s]"
     ]
    },
    {
     "name": "stdout",
     "output_type": "stream",
     "text": [
      "Saved to A:\\Projects\\CollegeProjects\\YogaPartner\\intermediates\\v2\\bidalasana_311.jpeg\n",
      "Saved to A:\\Projects\\CollegeProjects\\YogaPartner\\intermediates\\v2\\adho_mukha_shvanasana_394.jpg\n"
     ]
    },
    {
     "name": "stderr",
     "output_type": "stream",
     "text": [
      "\r",
      "2402it [06:45,  6.76it/s]"
     ]
    },
    {
     "name": "stdout",
     "output_type": "stream",
     "text": [
      "Saved to A:\\Projects\\CollegeProjects\\YogaPartner\\intermediates\\v2\\vrikshasana_294.jpg\n"
     ]
    },
    {
     "name": "stderr",
     "output_type": "stream",
     "text": [
      "2404it [06:45,  6.53it/s]"
     ]
    },
    {
     "name": "stdout",
     "output_type": "stream",
     "text": [
      "Saved to A:\\Projects\\CollegeProjects\\YogaPartner\\intermediates\\v2\\bhujangasana_18.jpg\n",
      "Saved to A:\\Projects\\CollegeProjects\\YogaPartner\\intermediates\\v2\\bidalasana_191.jpg\n"
     ]
    },
    {
     "name": "stderr",
     "output_type": "stream",
     "text": [
      "2406it [06:45,  7.31it/s]"
     ]
    },
    {
     "name": "stdout",
     "output_type": "stream",
     "text": [
      "Saved to A:\\Projects\\CollegeProjects\\YogaPartner\\intermediates\\v2\\utkatasana_146.jpg\n",
      "Saved to A:\\Projects\\CollegeProjects\\YogaPartner\\intermediates\\v2\\bhujangasana_547.jpg\n"
     ]
    },
    {
     "name": "stderr",
     "output_type": "stream",
     "text": [
      "\r",
      "2408it [06:46,  8.61it/s]"
     ]
    },
    {
     "name": "stdout",
     "output_type": "stream",
     "text": [
      "Saved to A:\\Projects\\CollegeProjects\\YogaPartner\\intermediates\\v2\\bhujangasana_618.jpg\n",
      "Saved to A:\\Projects\\CollegeProjects\\YogaPartner\\intermediates\\v2\\bhujangasana_136.jpg\n"
     ]
    },
    {
     "name": "stderr",
     "output_type": "stream",
     "text": [
      "2410it [06:46,  8.37it/s]"
     ]
    },
    {
     "name": "stdout",
     "output_type": "stream",
     "text": [
      "Saved to A:\\Projects\\CollegeProjects\\YogaPartner\\intermediates\\v2\\virabhadrasana_ii_173.jpg\n",
      "Saved to A:\\Projects\\CollegeProjects\\YogaPartner\\intermediates\\v2\\virabhadrasana_ii_115.jpg\n"
     ]
    },
    {
     "name": "stderr",
     "output_type": "stream",
     "text": [
      "\r",
      "2411it [06:46,  7.39it/s]"
     ]
    },
    {
     "name": "stdout",
     "output_type": "stream",
     "text": [
      "Saved to A:\\Projects\\CollegeProjects\\YogaPartner\\intermediates\\v2\\adho_mukha_shvanasana_73.jpg\n",
      "Saved to A:\\Projects\\CollegeProjects\\YogaPartner\\intermediates\\v2\\adho_mukha_shvanasana_53.jpg\n"
     ]
    },
    {
     "name": "stderr",
     "output_type": "stream",
     "text": [
      "2414it [06:46,  8.29it/s]"
     ]
    },
    {
     "name": "stdout",
     "output_type": "stream",
     "text": [
      "Saved to A:\\Projects\\CollegeProjects\\YogaPartner\\intermediates\\v2\\vrikshasana_87.jpg\n",
      "Saved to A:\\Projects\\CollegeProjects\\YogaPartner\\intermediates\\v2\\virabhadrasana_i_139.jpg\n"
     ]
    },
    {
     "name": "stderr",
     "output_type": "stream",
     "text": [
      "2416it [06:46,  8.87it/s]"
     ]
    },
    {
     "name": "stdout",
     "output_type": "stream",
     "text": [
      "Saved to A:\\Projects\\CollegeProjects\\YogaPartner\\intermediates\\v2\\bhujangasana_354.jpg\n",
      "Saved to A:\\Projects\\CollegeProjects\\YogaPartner\\intermediates\\v2\\phalakasana_21.jpg\n"
     ]
    },
    {
     "name": "stderr",
     "output_type": "stream",
     "text": [
      "\r",
      "2417it [06:47,  7.68it/s]"
     ]
    },
    {
     "name": "stdout",
     "output_type": "stream",
     "text": [
      "Saved to A:\\Projects\\CollegeProjects\\YogaPartner\\intermediates\\v2\\bhujangasana_82.jpg\n"
     ]
    },
    {
     "name": "stderr",
     "output_type": "stream",
     "text": [
      "\r",
      "2418it [06:47,  4.93it/s]"
     ]
    },
    {
     "name": "stdout",
     "output_type": "stream",
     "text": [
      "Saved to A:\\Projects\\CollegeProjects\\YogaPartner\\intermediates\\v2\\vrikshasana_1.jpg\n"
     ]
    },
    {
     "name": "stderr",
     "output_type": "stream",
     "text": [
      "2420it [06:48,  4.44it/s]"
     ]
    },
    {
     "name": "stdout",
     "output_type": "stream",
     "text": [
      "Saved to A:\\Projects\\CollegeProjects\\YogaPartner\\intermediates\\v2\\vrikshasana_267.jpg\n",
      "Saved to A:\\Projects\\CollegeProjects\\YogaPartner\\intermediates\\v2\\bidalasana_152.jpg\n"
     ]
    },
    {
     "name": "stderr",
     "output_type": "stream",
     "text": [
      "2422it [06:48,  4.81it/s]"
     ]
    },
    {
     "name": "stdout",
     "output_type": "stream",
     "text": [
      "Saved to A:\\Projects\\CollegeProjects\\YogaPartner\\intermediates\\v2\\virabhadrasana_ii_136.jpg\n",
      "Saved to A:\\Projects\\CollegeProjects\\YogaPartner\\intermediates\\v2\\bhujangasana_239.jpg\n",
      "No pose detected - length  - .\\data\\v2\\bhujangasana\\bhujangasana_79.jpg\n"
     ]
    },
    {
     "name": "stderr",
     "output_type": "stream",
     "text": [
      "2424it [06:49,  4.00it/s]"
     ]
    },
    {
     "name": "stdout",
     "output_type": "stream",
     "text": [
      "Saved to A:\\Projects\\CollegeProjects\\YogaPartner\\intermediates\\v2\\bhujangasana_79.jpg\n",
      "Saved to A:\\Projects\\CollegeProjects\\YogaPartner\\intermediates\\v2\\bidalasana_73.jpg\n"
     ]
    },
    {
     "name": "stderr",
     "output_type": "stream",
     "text": [
      "\r",
      "2425it [06:49,  4.57it/s]"
     ]
    },
    {
     "name": "stdout",
     "output_type": "stream",
     "text": [
      "Saved to A:\\Projects\\CollegeProjects\\YogaPartner\\intermediates\\v2\\bhujangasana_160.jpg\n",
      "Saved to A:\\Projects\\CollegeProjects\\YogaPartner\\intermediates\\v2\\bhujangasana_570.jpg\n"
     ]
    },
    {
     "name": "stderr",
     "output_type": "stream",
     "text": [
      "2428it [06:49,  5.15it/s]"
     ]
    },
    {
     "name": "stdout",
     "output_type": "stream",
     "text": [
      "Saved to A:\\Projects\\CollegeProjects\\YogaPartner\\intermediates\\v2\\bhujangasana_323.jpg\n",
      "Saved to A:\\Projects\\CollegeProjects\\YogaPartner\\intermediates\\v2\\adho_mukha_shvanasana_377.jpg\n"
     ]
    },
    {
     "name": "stderr",
     "output_type": "stream",
     "text": [
      "\r",
      "2429it [06:49,  5.55it/s]"
     ]
    },
    {
     "name": "stdout",
     "output_type": "stream",
     "text": [
      "Saved to A:\\Projects\\CollegeProjects\\YogaPartner\\intermediates\\v2\\virabhadrasana_ii_282.jpg\n"
     ]
    },
    {
     "name": "stderr",
     "output_type": "stream",
     "text": [
      "2431it [06:50,  5.56it/s]"
     ]
    },
    {
     "name": "stdout",
     "output_type": "stream",
     "text": [
      "Saved to A:\\Projects\\CollegeProjects\\YogaPartner\\intermediates\\v2\\vrikshasana_211.jpg\n",
      "Saved to A:\\Projects\\CollegeProjects\\YogaPartner\\intermediates\\v2\\bidalasana_211.jpg\n"
     ]
    },
    {
     "name": "stderr",
     "output_type": "stream",
     "text": [
      "2433it [06:50,  4.57it/s]"
     ]
    },
    {
     "name": "stdout",
     "output_type": "stream",
     "text": [
      "Saved to A:\\Projects\\CollegeProjects\\YogaPartner\\intermediates\\v2\\adho_mukha_shvanasana_179.jpg\n",
      "Saved to A:\\Projects\\CollegeProjects\\YogaPartner\\intermediates\\v2\\bhujangasana_513.jpg\n"
     ]
    },
    {
     "name": "stderr",
     "output_type": "stream",
     "text": [
      "2435it [06:51,  6.11it/s]"
     ]
    },
    {
     "name": "stdout",
     "output_type": "stream",
     "text": [
      "Saved to A:\\Projects\\CollegeProjects\\YogaPartner\\intermediates\\v2\\bhujangasana_433.jpg\n",
      "Saved to A:\\Projects\\CollegeProjects\\YogaPartner\\intermediates\\v2\\utkatasana_11.jpg\n"
     ]
    },
    {
     "name": "stderr",
     "output_type": "stream",
     "text": [
      "2437it [06:51,  7.25it/s]"
     ]
    },
    {
     "name": "stdout",
     "output_type": "stream",
     "text": [
      "Saved to A:\\Projects\\CollegeProjects\\YogaPartner\\intermediates\\v2\\bhujangasana_36.jpg\n",
      "Saved to A:\\Projects\\CollegeProjects\\YogaPartner\\intermediates\\v2\\utkata_konasana_19.jpg\n"
     ]
    },
    {
     "name": "stderr",
     "output_type": "stream",
     "text": [
      "2439it [06:51,  7.86it/s]"
     ]
    },
    {
     "name": "stdout",
     "output_type": "stream",
     "text": [
      "Saved to A:\\Projects\\CollegeProjects\\YogaPartner\\intermediates\\v2\\bhujangasana_623.jpg\n",
      "Saved to A:\\Projects\\CollegeProjects\\YogaPartner\\intermediates\\v2\\virabhadrasana_ii_97.jpg\n"
     ]
    },
    {
     "name": "stderr",
     "output_type": "stream",
     "text": [
      "2441it [06:51,  7.28it/s]"
     ]
    },
    {
     "name": "stdout",
     "output_type": "stream",
     "text": [
      "Saved to A:\\Projects\\CollegeProjects\\YogaPartner\\intermediates\\v2\\virabhadrasana_ii_220.jpg\n",
      "Saved to A:\\Projects\\CollegeProjects\\YogaPartner\\intermediates\\v2\\bhujangasana_325.jpg\n"
     ]
    },
    {
     "name": "stderr",
     "output_type": "stream",
     "text": [
      "\r",
      "2443it [06:52,  8.06it/s]"
     ]
    },
    {
     "name": "stdout",
     "output_type": "stream",
     "text": [
      "Saved to A:\\Projects\\CollegeProjects\\YogaPartner\\intermediates\\v2\\bhujangasana_560.jpg\n",
      "Saved to A:\\Projects\\CollegeProjects\\YogaPartner\\intermediates\\v2\\ustrasana_13.jpg\n"
     ]
    },
    {
     "name": "stderr",
     "output_type": "stream",
     "text": [
      "2445it [06:52,  8.23it/s]"
     ]
    },
    {
     "name": "stdout",
     "output_type": "stream",
     "text": [
      "Saved to A:\\Projects\\CollegeProjects\\YogaPartner\\intermediates\\v2\\utkatasana_82.jpg\n",
      "Saved to A:\\Projects\\CollegeProjects\\YogaPartner\\intermediates\\v2\\utkata_konasana_55.jpg\n"
     ]
    },
    {
     "name": "stderr",
     "output_type": "stream",
     "text": [
      "2447it [06:52,  8.57it/s]"
     ]
    },
    {
     "name": "stdout",
     "output_type": "stream",
     "text": [
      "Saved to A:\\Projects\\CollegeProjects\\YogaPartner\\intermediates\\v2\\adho_mukha_shvanasana_270.jpg\n",
      "Saved to A:\\Projects\\CollegeProjects\\YogaPartner\\intermediates\\v2\\virabhadrasana_i_3.jpg\n"
     ]
    },
    {
     "name": "stderr",
     "output_type": "stream",
     "text": [
      "\r",
      "2448it [06:52,  8.71it/s]"
     ]
    },
    {
     "name": "stdout",
     "output_type": "stream",
     "text": [
      "Saved to A:\\Projects\\CollegeProjects\\YogaPartner\\intermediates\\v2\\adho_mukha_shvanasana_330.jpg\n",
      "Saved to A:\\Projects\\CollegeProjects\\YogaPartner\\intermediates\\v2\\bidalasana_135.jpg\n"
     ]
    },
    {
     "name": "stderr",
     "output_type": "stream",
     "text": [
      "2451it [06:53,  4.91it/s]"
     ]
    },
    {
     "name": "stdout",
     "output_type": "stream",
     "text": [
      "Saved to A:\\Projects\\CollegeProjects\\YogaPartner\\intermediates\\v2\\virabhadrasana_ii_112.jpg\n",
      "Saved to A:\\Projects\\CollegeProjects\\YogaPartner\\intermediates\\v2\\ustrasana_4.jpg\n"
     ]
    },
    {
     "name": "stderr",
     "output_type": "stream",
     "text": [
      "2453it [06:53,  5.48it/s]"
     ]
    },
    {
     "name": "stdout",
     "output_type": "stream",
     "text": [
      "Saved to A:\\Projects\\CollegeProjects\\YogaPartner\\intermediates\\v2\\bhujangasana_139.jpg\n",
      "Saved to A:\\Projects\\CollegeProjects\\YogaPartner\\intermediates\\v2\\virabhadrasana_ii_329.jpg\n"
     ]
    },
    {
     "name": "stderr",
     "output_type": "stream",
     "text": [
      "\r",
      "2454it [06:54,  5.22it/s]"
     ]
    },
    {
     "name": "stdout",
     "output_type": "stream",
     "text": [
      "Saved to A:\\Projects\\CollegeProjects\\YogaPartner\\intermediates\\v2\\bhujangasana_96.jpg\n",
      "Saved to A:\\Projects\\CollegeProjects\\YogaPartner\\intermediates\\v2\\bidalasana_47.jpg\n"
     ]
    },
    {
     "name": "stderr",
     "output_type": "stream",
     "text": [
      "\r",
      "2456it [06:54,  6.52it/s]"
     ]
    },
    {
     "name": "stdout",
     "output_type": "stream",
     "text": [
      "Saved to A:\\Projects\\CollegeProjects\\YogaPartner\\intermediates\\v2\\vasisthasana_25.jpg\n"
     ]
    },
    {
     "name": "stderr",
     "output_type": "stream",
     "text": [
      "\r",
      "2457it [06:54,  5.97it/s]"
     ]
    },
    {
     "name": "stdout",
     "output_type": "stream",
     "text": [
      "Saved to A:\\Projects\\CollegeProjects\\YogaPartner\\intermediates\\v2\\virabhadrasana_i_203.jpg\n",
      "Saved to A:\\Projects\\CollegeProjects\\YogaPartner\\intermediates\\v2\\ustrasana_36.jpg\n"
     ]
    },
    {
     "name": "stderr",
     "output_type": "stream",
     "text": [
      "2460it [06:54,  7.08it/s]"
     ]
    },
    {
     "name": "stdout",
     "output_type": "stream",
     "text": [
      "Saved to A:\\Projects\\CollegeProjects\\YogaPartner\\intermediates\\v2\\bhujangasana_576.jpg\n",
      "Saved to A:\\Projects\\CollegeProjects\\YogaPartner\\intermediates\\v2\\bhujangasana_406.jpg\n"
     ]
    },
    {
     "name": "stderr",
     "output_type": "stream",
     "text": [
      "\r",
      "2461it [06:55,  6.08it/s]"
     ]
    },
    {
     "name": "stdout",
     "output_type": "stream",
     "text": [
      "Saved to A:\\Projects\\CollegeProjects\\YogaPartner\\intermediates\\v2\\vrikshasana_24.jpg\n",
      "Saved to A:\\Projects\\CollegeProjects\\YogaPartner\\intermediates\\v2\\adho_mukha_shvanasana_170.jpg\n"
     ]
    },
    {
     "name": "stderr",
     "output_type": "stream",
     "text": [
      "2464it [06:55,  6.23it/s]"
     ]
    },
    {
     "name": "stdout",
     "output_type": "stream",
     "text": [
      "Saved to A:\\Projects\\CollegeProjects\\YogaPartner\\intermediates\\v2\\virabhadrasana_i_17.jpg\n",
      "Saved to A:\\Projects\\CollegeProjects\\YogaPartner\\intermediates\\v2\\bidalasana_188.jpg\n"
     ]
    },
    {
     "name": "stderr",
     "output_type": "stream",
     "text": [
      "\r",
      "2465it [06:55,  6.25it/s]"
     ]
    },
    {
     "name": "stdout",
     "output_type": "stream",
     "text": [
      "Saved to A:\\Projects\\CollegeProjects\\YogaPartner\\intermediates\\v2\\bidalasana_194.jpg\n"
     ]
    },
    {
     "name": "stderr",
     "output_type": "stream",
     "text": [
      "2467it [06:56,  5.91it/s]"
     ]
    },
    {
     "name": "stdout",
     "output_type": "stream",
     "text": [
      "Saved to A:\\Projects\\CollegeProjects\\YogaPartner\\intermediates\\v2\\virabhadrasana_i_132.jpg\n",
      "Saved to A:\\Projects\\CollegeProjects\\YogaPartner\\intermediates\\v2\\utkatasana_151.jpg\n"
     ]
    },
    {
     "name": "stderr",
     "output_type": "stream",
     "text": [
      "2469it [06:56,  6.96it/s]"
     ]
    },
    {
     "name": "stdout",
     "output_type": "stream",
     "text": [
      "Saved to A:\\Projects\\CollegeProjects\\YogaPartner\\intermediates\\v2\\vrikshasana_167.jpg\n",
      "Saved to A:\\Projects\\CollegeProjects\\YogaPartner\\intermediates\\v2\\virabhadrasana_ii_269.jpg\n",
      "Saved to A:\\Projects\\CollegeProjects\\YogaPartner\\intermediates\\v2\\bidalasana_229.jpg\n"
     ]
    },
    {
     "name": "stderr",
     "output_type": "stream",
     "text": [
      "2472it [06:56,  7.06it/s]"
     ]
    },
    {
     "name": "stdout",
     "output_type": "stream",
     "text": [
      "Saved to A:\\Projects\\CollegeProjects\\YogaPartner\\intermediates\\v2\\virabhadrasana_ii_325.jpg\n",
      "Saved to A:\\Projects\\CollegeProjects\\YogaPartner\\intermediates\\v2\\virabhadrasana_ii_38.jpg\n"
     ]
    },
    {
     "name": "stderr",
     "output_type": "stream",
     "text": [
      "2474it [06:57,  7.54it/s]"
     ]
    },
    {
     "name": "stdout",
     "output_type": "stream",
     "text": [
      "Saved to A:\\Projects\\CollegeProjects\\YogaPartner\\intermediates\\v2\\bhujangasana_64.jpg\n",
      "Saved to A:\\Projects\\CollegeProjects\\YogaPartner\\intermediates\\v2\\bhujangasana_90.jpg\n"
     ]
    },
    {
     "name": "stderr",
     "output_type": "stream",
     "text": [
      "2476it [06:57,  6.27it/s]"
     ]
    },
    {
     "name": "stdout",
     "output_type": "stream",
     "text": [
      "Saved to A:\\Projects\\CollegeProjects\\YogaPartner\\intermediates\\v2\\bhujangasana_151.jpg\n",
      "Saved to A:\\Projects\\CollegeProjects\\YogaPartner\\intermediates\\v2\\virabhadrasana_ii_272.jpg\n"
     ]
    },
    {
     "name": "stderr",
     "output_type": "stream",
     "text": [
      "2478it [06:57,  6.18it/s]"
     ]
    },
    {
     "name": "stdout",
     "output_type": "stream",
     "text": [
      "Saved to A:\\Projects\\CollegeProjects\\YogaPartner\\intermediates\\v2\\vrikshasana_299.jpg\n",
      "Saved to A:\\Projects\\CollegeProjects\\YogaPartner\\intermediates\\v2\\bhujangasana_282.jpg\n"
     ]
    },
    {
     "name": "stderr",
     "output_type": "stream",
     "text": [
      "\r",
      "2479it [06:57,  6.71it/s]"
     ]
    },
    {
     "name": "stdout",
     "output_type": "stream",
     "text": [
      "Saved to A:\\Projects\\CollegeProjects\\YogaPartner\\intermediates\\v2\\bhujangasana_250.jpg\n",
      "Saved to A:\\Projects\\CollegeProjects\\YogaPartner\\intermediates\\v2\\vrikshasana_117.jpg\n"
     ]
    },
    {
     "name": "stderr",
     "output_type": "stream",
     "text": [
      "\r",
      "2481it [06:58,  7.38it/s]"
     ]
    },
    {
     "name": "stdout",
     "output_type": "stream",
     "text": [
      "Saved to A:\\Projects\\CollegeProjects\\YogaPartner\\intermediates\\v2\\virabhadrasana_ii_91.jpg\n",
      "Saved to A:\\Projects\\CollegeProjects\\YogaPartner\\intermediates\\v2\\adho_mukha_shvanasana_210.jpg\n"
     ]
    },
    {
     "name": "stderr",
     "output_type": "stream",
     "text": [
      "2484it [06:58,  7.59it/s]"
     ]
    },
    {
     "name": "stdout",
     "output_type": "stream",
     "text": [
      "Saved to A:\\Projects\\CollegeProjects\\YogaPartner\\intermediates\\v2\\adho_mukha_shvanasana_226.jpg\n",
      "Saved to A:\\Projects\\CollegeProjects\\YogaPartner\\intermediates\\v2\\bhujangasana_238.jpg\n"
     ]
    },
    {
     "name": "stderr",
     "output_type": "stream",
     "text": [
      "2486it [06:58,  7.51it/s]"
     ]
    },
    {
     "name": "stdout",
     "output_type": "stream",
     "text": [
      "Saved to A:\\Projects\\CollegeProjects\\YogaPartner\\intermediates\\v2\\phalakasana_85.jpg\n",
      "Saved to A:\\Projects\\CollegeProjects\\YogaPartner\\intermediates\\v2\\virabhadrasana_ii_306.jpg\n"
     ]
    },
    {
     "name": "stderr",
     "output_type": "stream",
     "text": [
      "2488it [06:58,  7.38it/s]"
     ]
    },
    {
     "name": "stdout",
     "output_type": "stream",
     "text": [
      "Saved to A:\\Projects\\CollegeProjects\\YogaPartner\\intermediates\\v2\\vrikshasana_268.jpg\n",
      "Saved to A:\\Projects\\CollegeProjects\\YogaPartner\\intermediates\\v2\\bhujangasana_518.jpg\n",
      "No pose detected - length  - .\\data\\v2\\bhujangasana\\bhujangasana_610.jpg\n",
      "Saved to A:\\Projects\\CollegeProjects\\YogaPartner\\intermediates\\v2\\bhujangasana_610.jpg\n"
     ]
    },
    {
     "name": "stderr",
     "output_type": "stream",
     "text": [
      "2491it [06:59,  7.17it/s]"
     ]
    },
    {
     "name": "stdout",
     "output_type": "stream",
     "text": [
      "Saved to A:\\Projects\\CollegeProjects\\YogaPartner\\intermediates\\v2\\adho_mukha_shvanasana_207.jpg\n",
      "Saved to A:\\Projects\\CollegeProjects\\YogaPartner\\intermediates\\v2\\virabhadrasana_ii_64.jpg\n"
     ]
    },
    {
     "name": "stderr",
     "output_type": "stream",
     "text": [
      "2493it [06:59,  6.61it/s]"
     ]
    },
    {
     "name": "stdout",
     "output_type": "stream",
     "text": [
      "Saved to A:\\Projects\\CollegeProjects\\YogaPartner\\intermediates\\v2\\adho_mukha_shvanasana_367.jpg\n",
      "Saved to A:\\Projects\\CollegeProjects\\YogaPartner\\intermediates\\v2\\bhujangasana_178.jpg\n"
     ]
    },
    {
     "name": "stderr",
     "output_type": "stream",
     "text": [
      "2495it [07:00,  6.93it/s]"
     ]
    },
    {
     "name": "stdout",
     "output_type": "stream",
     "text": [
      "Saved to A:\\Projects\\CollegeProjects\\YogaPartner\\intermediates\\v2\\bidalasana_206.jpg\n",
      "Saved to A:\\Projects\\CollegeProjects\\YogaPartner\\intermediates\\v2\\bidalasana_105.jpg\n",
      "Saved to A:\\Projects\\CollegeProjects\\YogaPartner\\intermediates\\v2\\vasisthasana_143.jpg\n"
     ]
    },
    {
     "name": "stderr",
     "output_type": "stream",
     "text": [
      "2498it [07:00,  6.58it/s]"
     ]
    },
    {
     "name": "stdout",
     "output_type": "stream",
     "text": [
      "Saved to A:\\Projects\\CollegeProjects\\YogaPartner\\intermediates\\v2\\adho_mukha_shvanasana_180.jpg\n",
      "Saved to A:\\Projects\\CollegeProjects\\YogaPartner\\intermediates\\v2\\virabhadrasana_ii_270.jpg\n"
     ]
    },
    {
     "name": "stderr",
     "output_type": "stream",
     "text": [
      "2500it [07:00,  6.72it/s]"
     ]
    },
    {
     "name": "stdout",
     "output_type": "stream",
     "text": [
      "Saved to A:\\Projects\\CollegeProjects\\YogaPartner\\intermediates\\v2\\phalakasana_98.jpg\n",
      "Saved to A:\\Projects\\CollegeProjects\\YogaPartner\\intermediates\\v2\\bhujangasana_411.jpg\n"
     ]
    },
    {
     "name": "stderr",
     "output_type": "stream",
     "text": [
      "2502it [07:01,  6.24it/s]"
     ]
    },
    {
     "name": "stdout",
     "output_type": "stream",
     "text": [
      "Saved to A:\\Projects\\CollegeProjects\\YogaPartner\\intermediates\\v2\\bhujangasana_339.jpg\n",
      "Saved to A:\\Projects\\CollegeProjects\\YogaPartner\\intermediates\\v2\\vasisthasana_88.jpg\n"
     ]
    },
    {
     "name": "stderr",
     "output_type": "stream",
     "text": [
      "2504it [07:01,  7.25it/s]"
     ]
    },
    {
     "name": "stdout",
     "output_type": "stream",
     "text": [
      "Saved to A:\\Projects\\CollegeProjects\\YogaPartner\\intermediates\\v2\\phalakasana_42.jpg\n",
      "Saved to A:\\Projects\\CollegeProjects\\YogaPartner\\intermediates\\v2\\vrikshasana_62.jpg\n"
     ]
    },
    {
     "name": "stderr",
     "output_type": "stream",
     "text": [
      "2506it [07:01,  6.95it/s]"
     ]
    },
    {
     "name": "stdout",
     "output_type": "stream",
     "text": [
      "Saved to A:\\Projects\\CollegeProjects\\YogaPartner\\intermediates\\v2\\utkatasana_226.jpg\n",
      "Saved to A:\\Projects\\CollegeProjects\\YogaPartner\\intermediates\\v2\\virabhadrasana_ii_192.jpg\n"
     ]
    },
    {
     "name": "stderr",
     "output_type": "stream",
     "text": [
      "2508it [07:01,  7.00it/s]"
     ]
    },
    {
     "name": "stdout",
     "output_type": "stream",
     "text": [
      "Saved to A:\\Projects\\CollegeProjects\\YogaPartner\\intermediates\\v2\\adho_mukha_shvanasana_72.jpg\n",
      "Saved to A:\\Projects\\CollegeProjects\\YogaPartner\\intermediates\\v2\\bhujangasana_391.jpg\n"
     ]
    },
    {
     "name": "stderr",
     "output_type": "stream",
     "text": [
      "2509it [07:02,  5.94it/s]"
     ]
    },
    {
     "name": "stdout",
     "output_type": "stream",
     "text": [
      "Saved to A:\\Projects\\CollegeProjects\\YogaPartner\\intermediates\\v2\\phalakasana_64.jpg\n",
      "Done detecting\n",
      "Total time taken - 287.05008697509766\n",
      "Max time taken - 0.9681248664855957\n",
      "Min time taken - 0.05998945236206055\n",
      "Average time taken - 0.11560615665529507\n"
     ]
    },
    {
     "name": "stderr",
     "output_type": "stream",
     "text": [
      "\n"
     ]
    }
   ],
   "source": [
    "import tensorflow as tf\n",
    "from matplotlib.collections import LineCollection\n",
    "import tqdm\n",
    "\n",
    "durations = []\n",
    "\n",
    "with mp_pose.Pose(\n",
    "    static_image_mode=True, \n",
    "#     min_detection_confidence=0.5, \n",
    "#     min_tracking_confidence=0.3,\n",
    "    model_complexity=0\n",
    ") as pose:\n",
    "    for i, value in tqdm.tqdm(train_df.iterrows(), position=0):\n",
    "        begin = time.time()\n",
    "        label = value['labels']\n",
    "        image_path = value['filepaths']\n",
    "        image = cv2.imread(image_path)\n",
    "        results = pose.process(cv2.cvtColor(image, cv2.COLOR_BGR2RGB))\n",
    "        end = time.time()\n",
    "        save_to_csv(results, label, image_path, input_image.shape[:2])\n",
    "        saveImagesWithKeypoints(image_path, results)\n",
    "        if results.pose_landmarks is not None:\n",
    "            durations.append(end - begin)\n",
    "    \n",
    "print(\"Done detecting\")\n",
    "print(\"Total time taken - \" + str(sum(durations)))\n",
    "print(\"Max time taken - \" + str(max(durations)))\n",
    "print(\"Min time taken - \" + str(min(durations)))\n",
    "print(\"Average time taken - \" + str(sum(durations) / len(durations)))"
   ]
  },
  {
   "cell_type": "markdown",
   "id": "82d5c792",
   "metadata": {},
   "source": [
    "## Train classifier model"
   ]
  },
  {
   "cell_type": "code",
   "execution_count": null,
   "id": "03e8907a",
   "metadata": {},
   "outputs": [],
   "source": [
    "X, y, class_names = load_csv('train_data.csv')\n",
    "X_train, X_val, y_train, y_val = train_test_split(X, y, test_size=0.15)\n",
    "X_test, y_test, _ = load_csv('test_data.csv')\n",
    "\n",
    "\n",
    "processed_X_train = preprocess_data(X_train)\n",
    "processed_X_val =  preprocess_data(X_val)\n",
    "processed_X_test = preprocess_data(X_test)\n",
    "\n",
    "inputs = tf.keras.Input(shape=(34))\n",
    "layer = keras.layers.Dense(128, activation=tf.nn.relu6)(inputs)\n",
    "layer = keras.layers.Dropout(0.5)(layer)\n",
    "layer = keras.layers.Dense(64, activation=tf.nn.relu6)(layer)\n",
    "layer = keras.layers.Dropout(0.5)(layer)\n",
    "outputs = keras.layers.Dense(len(class_names), activation=\"softmax\")(layer)\n",
    "\n",
    "model = keras.Model(inputs, outputs)\n",
    "\n",
    "\n",
    "model.compile(\n",
    "    optimizer='adam',\n",
    "    loss='categorical_crossentropy',\n",
    "    metrics=['accuracy']\n",
    ")\n",
    "\n",
    "# Add a checkpoint callback to store the checkpoint that has the highest\n",
    "# validation accuracy.\n",
    "checkpoint_path = \"weights.best.hdf5\"\n",
    "checkpoint = keras.callbacks.ModelCheckpoint(checkpoint_path,\n",
    "                             monitor='val_accuracy',\n",
    "                             verbose=1,\n",
    "                             save_best_only=True,\n",
    "                             mode='max')\n",
    "earlystopping = keras.callbacks.EarlyStopping(monitor='val_accuracy', \n",
    "                                              patience=20)\n",
    "\n",
    "# Start training\n",
    "print('--------------TRAINING----------------')\n",
    "history = model.fit(processed_X_train, y_train,\n",
    "                    epochs=200,\n",
    "                    batch_size=16,\n",
    "                    validation_data=(processed_X_val, y_val),\n",
    "                    callbacks=[checkpoint, earlystopping])"
   ]
  }
 ],
 "metadata": {
  "kernelspec": {
   "display_name": "Python 3 (ipykernel)",
   "language": "python",
   "name": "python3"
  },
  "language_info": {
   "codemirror_mode": {
    "name": "ipython",
    "version": 3
   },
   "file_extension": ".py",
   "mimetype": "text/x-python",
   "name": "python",
   "nbconvert_exporter": "python",
   "pygments_lexer": "ipython3",
   "version": "3.9.12"
  }
 },
 "nbformat": 4,
 "nbformat_minor": 5
}
